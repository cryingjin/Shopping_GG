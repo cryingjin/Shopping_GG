{
 "cells": [
  {
   "cell_type": "markdown",
   "metadata": {},
   "source": [
    "# Z-score \n",
    "* 상품군_표준편차 = 0 : 없음\n",
    "* 상품군&브랜드_표준편차 = 0 : 1895 (결측값 또한 존재)\n",
    "* NEW_표준편차 = 0 : 18078 (상품 가격이 동일한 경우)\n",
    "* **0인 경우 z-score 또한 0 값으로 만들어 주기** \n",
    "* **결측값은 NaN 으로 유지** "
   ]
  },
  {
   "cell_type": "code",
   "execution_count": 1,
   "metadata": {},
   "outputs": [],
   "source": [
    "import os\n",
    "import sys\n",
    "import joblib\n",
    "\n",
    "import pandas as pd \n",
    "import numpy as np\n",
    "pd.options.display.max_rows = 100\n",
    "pd.options.display.max_columns = 500\n",
    "pd.set_option('display.max_info_columns', 500)\n",
    "pd.set_option('display.float_format', lambda x: '%.3f' % x)\n",
    "\n",
    "import imp\n",
    "import datetime\n",
    "from tqdm import tqdm"
   ]
  },
  {
   "cell_type": "code",
   "execution_count": 18,
   "metadata": {},
   "outputs": [],
   "source": [
    "import os\n",
    "import sys\n",
    "import math\n",
    "import joblib\n",
    "import numpy as np\n",
    "import pandas as pd\n",
    "import json\n",
    "import requests\n",
    "from datetime import datetime, timedelta"
   ]
  },
  {
   "cell_type": "code",
   "execution_count": 25,
   "metadata": {},
   "outputs": [],
   "source": [
    "sale2 = pd.read_excel(os.path.join('..', '..', '0.Data', '01_제공데이터', \"sale_data_v05_0828.xlsx\"))"
   ]
  },
  {
   "cell_type": "code",
   "execution_count": 19,
   "metadata": {},
   "outputs": [],
   "source": [
    "## -- JB -- (수정필요??)\n",
    "def engineering_TimeDiff(df) :\n",
    "    \n",
    "    # [상품 및 브랜드 방송 노출 횟수] 동일 상품 / 브랜드 총 방송횟수 - 먼저 돌리기 !!\n",
    "#     item_count = df.dropna(subset = [\"노출(분)\"]).groupby('NEW상품명').count()['방송일시'].reset_index().rename(columns = {'방송일시' : '상품노출횟수'})\n",
    "#     brand_count = df.dropna(subset = [\"노출(분)\"]).groupby('브랜드').count()['방송일시'].reset_index().rename(columns = {'방송일시' : '브랜드노출횟수'})\n",
    "#     df = df.merge(item_count, on = 'NEW상품명', how = 'left')\n",
    "#     df = df.merge(brand_count, on = '브랜드', how = 'left')\n",
    "\n",
    "    # [동일상품 방송 시간차] 동일 상품 별 시간 간격\n",
    "    df['방송일'] = df['방송일시'].dt.date\n",
    "    t = df.groupby(['NEW상품명','방송일'])['취급액'].sum().reset_index()[['NEW상품명','방송일']]\n",
    "    total = []\n",
    "    for item in t['NEW상품명'].unique():\n",
    "        timediff = t.loc[t['NEW상품명'] == item, '방송일']\n",
    "        a = pd.DataFrame(list(zip(timediff, timediff.diff())))\n",
    "        a['NEW상품명'] = item\n",
    "        total.extend(a.values)\n",
    "    timediff = pd.DataFrame(total, columns = ['방송일', '방송시간차', 'NEW상품명'])\n",
    "    timediff.loc[timediff['방송시간차'].isnull(), '방송시간차'] = 0\n",
    "    timediff['방송시간차'] = timediff['방송시간차'].apply(lambda x : x.days if x != 0 else x)\n",
    "    df = df.merge(timediff, on = ['방송일', 'NEW상품명'], how = 'left')\n",
    "    \n",
    "    # [상품 및 브랜드 총 판매 횟수 ] 동일 상품 / 브랜드 총 방송횟수\n",
    "    df = df.merge(df.groupby('NEW상품명')['방송일'].nunique().reset_index().rename(columns = {'방송일' : '상품방송횟수'}), on = 'NEW상품명', how = 'left')\n",
    "    \n",
    "    df = df.merge(df.groupby('브랜드')['방송일'].nunique().reset_index().rename(columns = {'방송일' : '브랜드방송횟수'}), on = '브랜드', how = 'left')\n",
    "    \n",
    "    df = df.drop('방송일', axis = 1)\n",
    "    \n",
    "    return df\n",
    "\n",
    "## -- YJ --\n",
    "\n",
    "def engineering_Soldout(df):\n",
    "    # [조기매진] (20분 이하 혹은 20분과 30분 사이에 조기 종료된 프로그램 선별)\n",
    "    df['조기매진'] = df['노출(분)'].map(lambda x: 1 if ((x < 20) | (x > 20) & (x < 30)) else 0)     # 20분 이하, 20-30 분 사이\n",
    "    # 방송일시의 nan 값 채워주는 부분\n",
    "    df[\"노출(분)\"] = df[\"노출(분)\"].fillna(method='ffill')\n",
    "    return df\n",
    "\n",
    "## -- JS --\n",
    "\n",
    "def engineering_DatePrice(df):\n",
    "    # 데이터 로드\n",
    "    item = pd.read_excel(os.path.join('..', '..','0.Data', '01_제공데이터', 'item_meta_v03_0823.xlsx'))\n",
    "    data = joblib.load(os.path.join('..', '..','0.Data', '01_제공데이터', '0823_prep4data.pkl'))\n",
    "    itemcategory = data['itemcategory']\n",
    "    mothercode = data['mothercode']\n",
    "    brand = data['brand']\n",
    "    \n",
    "    # 공휴일여부\n",
    "    key = '8wBiTSHPiK2z%2By8ETu%2FpYv%2FMAAdZoR8rZg3PIvSNCcD%2F26BiBPaosFs2dzrVJ%2BHUeaQGWb9c3T4vvNgMpI7fdw%3D%3D'\n",
    "    def getHoliday(year):\n",
    "        url = f'http://apis.data.go.kr/B090041/openapi/service/SpcdeInfoService/getRestDeInfo?solYear={year}&ServiceKey={key}&_type=json&numOfRows=20'\n",
    "        response = requests.get(url)\n",
    "        holidays = response.json()['response']['body']['items']['item']\n",
    "        holidays = pd.DataFrame(holidays)\n",
    "        holidays['locdate'] = holidays['locdate'].astype(str).apply(lambda x : '-'.join([x[:4], x[4:6], x[6:]]))\n",
    "        return holidays\n",
    "    \n",
    "    # 무형 상품군 NEW상품명 채워주기(무형 상품군은 어짜피 나중에 버릴것)\n",
    "    df.loc[df['NEW상품명'].isnull(), 'NEW상품명'] = df.loc[df['NEW상품명'].isnull(), '상품명']\n",
    "    \n",
    "    ## [공휴일여부]\n",
    "    print('연도입력')\n",
    "    year = input()\n",
    "    holidays = getHoliday(year)\n",
    "    df = df.merge(holidays[['locdate', 'isHoliday']], left_on = df['방송일시'].dt.date.astype(str), right_on = 'locdate', how = 'left').drop('locdate', axis = 1)\n",
    "    df['isHoliday'] = df['isHoliday'].apply(lambda x : 1 if x == 'Y' else 0)\n",
    "    ## [날짜 및 시간대]\n",
    "    df['방송월'] = df['방송일시'].dt.month\n",
    "    df['방송일'] = df['방송일시'].dt.day\n",
    "    df['방송시간(시간)'] = df['방송일시'].dt.hour.apply(lambda x : 24 if x == 0 else x)\n",
    "    df['방송시간(분)'] = df['방송일시'].dt.minute\n",
    "    \n",
    "    \n",
    "    ## [평일여부] (평일 : 0, 주말 : 1)\n",
    "    df['평일여부'] = df['방송일시'].dt.weekday.apply(lambda x : 0 if x < 5 else 1)\n",
    "    \n",
    "    ## [방송시간대] (아침/오전/오후/저녁/밤 (아침(6:00~9:00)/오전(9:00~12:00)/오후(12:00~18:00)/저녁(18:00~22:00)/밤(22:00~2:00))\n",
    "    df['방송시간대'] = df['방송일시'].dt.hour.apply(lambda x : '아침' if 5 < x <= 9 else \n",
    "                                          ('오전' if 10 <= x <= 12 else\n",
    "                                           ( '오후' if 13 <= x <= 18 else\n",
    "                                            ('저녁' if 19 <= x <= 22 else\n",
    "                                             ('밤' if 23 <= x < 3 else x)\n",
    "                                            ))))\n",
    "    \n",
    "    ## [계절] (봄(3~5), 여름6~8), 가을(9~11), 겨울(12~2))\n",
    "    df['계절'] = df['방송월'].apply(lambda x : '봄' if 3 <= x <= 5 else\n",
    "                            ('여름' if 6 <= x <= 8 else\n",
    "                             ('가을' if 9 <= x <= 11 else \n",
    "                              ('겨울' if x < 3 or x > 11 else x))))\n",
    "    \n",
    "    ## [분기] \n",
    "    df['분기'] = df['방송월'].apply(lambda x : '1분기' if 1 <= x <= 3 else\n",
    "                            ('2분기' if 4 <= x <= 6 else\n",
    "                             ('3분기' if 7 <= x <= 9 else \n",
    "                              ('4분기' if 10 <= x <= 12 else x))))\n",
    "    \n",
    "    ## [성별] (공용 : 0, 남성 : 1, 여성 : 2)\n",
    "    df['성별'] = df['NEW상품명'].apply(lambda x : 1 if '남성' in x else (2 if '여성' in x else 0))\n",
    "    \n",
    "    ## [상품군]별 가격 summary\n",
    "    df = df.merge(itemcategory, on = '상품군', how = 'left')\n",
    "    \n",
    "    ## [마더코드]별 가격 summary\n",
    "    df = df.merge(mothercode, on = '마더코드', how = 'left')\n",
    "    \n",
    "    ## [브랜드]별 가격 summary\n",
    "    df = df.merge(brand, on = ['브랜드', '상품군'], how = 'left')\n",
    "    \n",
    "    ## [NEW아이템]별 가격 summary + [상품군] 별 가격대, 전체 가격대\n",
    "    df = df.merge(item, on = ['NEW상품코드', 'NEW상품명', '상품군'], how = 'left')\n",
    "    \n",
    "    ## [상품군] 평균 판매단가 - 해당 상품 판매단가\n",
    "    df['상품군평균판매단가차이'] = df['상품군_평균판매단가'] - df['판매단가']\n",
    "    \n",
    "    # [결합상품여부]\n",
    "    df['결합상품'] = df['NEW상품명'].apply(lambda x : 1 if '+' in x else 0)\n",
    "    \n",
    "    return df\n",
    "\n",
    "\n",
    "def engineering_trendnorder(df):\n",
    "    # 방송날짜별 상품군별 취급액 계산\n",
    "    sale = pd.read_excel(os.path.join('..', '..', '0.Data', '01_제공데이터', 'sale_data_v05_0828.xlsx'))\n",
    "    sale['방송날짜'] = sale['방송일시'].dt.date\n",
    "    temp = sale.groupby(['상품군', '방송날짜'])['취급액'].sum().reset_index()\n",
    "    temp['방송날짜'] = pd.to_datetime(temp['방송날짜'])\n",
    "    \n",
    "    df['log최근3개월상품군추세'] = None\n",
    "    \n",
    "    # 방송날짜 90일 전부터 방송날짜 전까지의 취급액 log 추세 구하기\n",
    "    df['방송날짜'] = df['방송일시'].dt.date\n",
    "    df['방송날짜'] = pd.to_datetime(df['방송날짜'])\n",
    "    for cate, date in df[['상품군', '방송날짜']].drop_duplicates().values:\n",
    "        log_y = np.log(list(temp.loc[(temp['상품군'] == cate) & (temp['방송날짜'] < date) & (date - timedelta(days = 90) < temp['방송날짜']), '취급액'] + 1))\n",
    "        log_x = np.arange(len(log_y))\n",
    "        try:\n",
    "            log_z = np.polyfit(log_x, log_y, 1)[0]\n",
    "        except:\n",
    "            log_z = 0\n",
    "\n",
    "        df.loc[(df['상품군'] == cate) & (df['방송날짜'] == date), 'log최근3개월상품군추세'] = log_z\n",
    "    \n",
    "    \n",
    "    sale['방송월'] = sale['방송일시'].dt.month\n",
    "    sale['방송시간(시간)'] = sale['방송일시'].dt.hour\n",
    "    sale['방송시간(분)'] = sale['방송일시'].dt.minute\n",
    "    sale['판매량'] = sale['취급액'] / sale['판매단가']\n",
    "    sale['판매량'] = sale['판매량'].fillna(0).apply(lambda x : math.ceil(x))\n",
    "    \n",
    "    # 월별 상품군 판매량\n",
    "    temp = pd.pivot_table(sale, index = '상품군', columns = '방송월', values = '판매량', aggfunc = np.sum).T.reset_index()\n",
    "    temp.columns = [temp.columns[0]] + list(map(lambda x : '월별판매랑_' + x, temp.columns[1:]))\n",
    "    df = df.merge(temp, on = '방송월', how = 'left')\n",
    "    \n",
    "    # 시간대별 상품군 판매량\n",
    "    temp = pd.pivot_table(sale, index = '상품군', columns = '방송시간(시간)', values = '판매량', aggfunc = np.sum).T.reset_index()\n",
    "    temp.columns = [temp.columns[0]] + list(map(lambda x : '시간대별판매랑_' + x, temp.columns[1:]))\n",
    "    df = df.merge(temp, on = '방송시간(시간)', how = 'left')\n",
    "    \n",
    "    # 시간별 상품군 판매량\n",
    "    temp = pd.pivot_table(sale, index = '상품군', columns = '방송시간(분)', values = '판매량', aggfunc = np.mean).T.reset_index()\n",
    "    temp.columns = [temp.columns[0]] + list(map(lambda x : '시간별판매랑_' + x, temp.columns[1:]))\n",
    "    df = df.merge(temp, on = '방송시간(분)', how = 'left')\n",
    "    \n",
    "    # 할인율\n",
    "    rt = pd.read_csv(os.path.join('..', '..', '0.Data', '01_제공데이터', 'prep_discountRt.csv'), encoding = 'cp949')\n",
    "    df['할인율'] = rt.values\n",
    "    \n",
    "    return df"
   ]
  },
  {
   "cell_type": "code",
   "execution_count": 26,
   "metadata": {},
   "outputs": [],
   "source": [
    "sale2 = engineering_TimeDiff(sale2)"
   ]
  },
  {
   "cell_type": "code",
   "execution_count": 27,
   "metadata": {},
   "outputs": [],
   "source": [
    "sale2 = engineering_Soldout(sale2)"
   ]
  },
  {
   "cell_type": "code",
   "execution_count": 30,
   "metadata": {},
   "outputs": [
    {
     "name": "stdout",
     "output_type": "stream",
     "text": [
      "연도입력\n"
     ]
    },
    {
     "name": "stdin",
     "output_type": "stream",
     "text": [
      " 2019\n"
     ]
    }
   ],
   "source": [
    "sale2 = engineering_DatePrice(sale2)"
   ]
  },
  {
   "cell_type": "code",
   "execution_count": 39,
   "metadata": {},
   "outputs": [
    {
     "data": {
      "text/plain": [
       "(38309, 63)"
      ]
     },
     "execution_count": 39,
     "metadata": {},
     "output_type": "execute_result"
    }
   ],
   "source": [
    "sale2.shape"
   ]
  },
  {
   "cell_type": "code",
   "execution_count": 42,
   "metadata": {},
   "outputs": [],
   "source": [
    "sale3 = sale2.copy()"
   ]
  },
  {
   "cell_type": "code",
   "execution_count": 43,
   "metadata": {},
   "outputs": [],
   "source": [
    "def engineering_zscore(df):\n",
    "#     brand = df.columns[df.columns.str.contains(\"상품군&브랜드\")]\n",
    "#     for b in brand:\n",
    "#         df[b] = df[b].fillna(0)\n",
    "\n",
    "    def zscore(price, mean, std):\n",
    "        if std == 0:\n",
    "            return 0\n",
    "        else:\n",
    "            return (price - mean) / std\n",
    "\n",
    "    df[\"상품군_zscore\"] = df.apply(lambda x: zscore(x[\"판매단가\"], x[\"상품군_평균판매단가\"], x[\"상품군_표준편차\"]), axis=1)\n",
    "    df[\"상품군&브랜드_zscore\"] = df.apply(lambda x: zscore(x[\"판매단가\"], x[\"상품군&브랜드_평균판매단가\"], x[\"상품군&브랜드_표준편차\"]), axis=1)\n",
    "    df[\"마더코드_zscore\"] = df.apply(lambda x: zscore(x[\"판매단가\"], x[\"마더코드_평균판매단가\"], x[\"마더코드_표준편차\"]), axis=1)\n",
    "    df[\"NEW_zscore\"] = df.apply(lambda x: zscore(x[\"판매단가\"], x[\"NEW_평균판매단가\"], x[\"NEW_표준편차\"]), axis=1)\n",
    "\n",
    "    # z-score 만들어 줬으니 평균, 분산, 표준편차 제거!\n",
    "    stat_mean = df.columns[df.columns.str.contains(\"_평균판매단가\")]\n",
    "    stat_var = df.columns[df.columns.str.contains(\"분산\")]\n",
    "    stat_std = df.columns[df.columns.str.contains(\"표준편차\")]\n",
    "\n",
    "    stats = [stat_mean, stat_var, stat_std]\n",
    "    for stat in stats:\n",
    "        df.drop(stat, axis=1, inplace=True)\n",
    "\n",
    "    return df"
   ]
  },
  {
   "cell_type": "code",
   "execution_count": 44,
   "metadata": {},
   "outputs": [],
   "source": [
    "sale3 = engineering_zscore(sale3)"
   ]
  },
  {
   "cell_type": "code",
   "execution_count": 45,
   "metadata": {},
   "outputs": [
    {
     "data": {
      "text/plain": [
       "(38309, 55)"
      ]
     },
     "execution_count": 45,
     "metadata": {},
     "output_type": "execute_result"
    }
   ],
   "source": [
    "sale3.shape"
   ]
  },
  {
   "cell_type": "code",
   "execution_count": 46,
   "metadata": {},
   "outputs": [
    {
     "name": "stdout",
     "output_type": "stream",
     "text": [
      "<class 'pandas.core.frame.DataFrame'>\n",
      "Int64Index: 38309 entries, 0 to 38308\n",
      "Data columns (total 55 columns):\n",
      "방송일시              38309 non-null datetime64[ns]\n",
      "노출(분)             38309 non-null float64\n",
      "마더코드              38309 non-null int64\n",
      "상품코드              38309 non-null int64\n",
      "상품명               38309 non-null object\n",
      "상품군               38309 non-null object\n",
      "판매단가              38309 non-null int64\n",
      "취급액               35379 non-null float64\n",
      "NEW상품코드           37372 non-null float64\n",
      "NEW상품명            38309 non-null object\n",
      "결제방법              37372 non-null float64\n",
      "옵션                4140 non-null object\n",
      "종류                22744 non-null object\n",
      "브랜드               33066 non-null object\n",
      "상품명다시             37372 non-null object\n",
      "단위                22390 non-null object\n",
      "방송시간차             37372 non-null float64\n",
      "상품방송횟수            37372 non-null float64\n",
      "브랜드방송횟수           33066 non-null float64\n",
      "조기매진              38309 non-null int64\n",
      "log최근3개월상품군추세     25953 non-null object\n",
      "방송날짜              38309 non-null datetime64[ns]\n",
      "isHoliday         38309 non-null int64\n",
      "방송월               38309 non-null int64\n",
      "방송일               38309 non-null int64\n",
      "방송시간(시간)          38309 non-null int64\n",
      "방송시간(분)           38309 non-null int64\n",
      "평일여부              38309 non-null int64\n",
      "방송시간대             38309 non-null object\n",
      "계절                38309 non-null object\n",
      "분기                38309 non-null object\n",
      "성별                38309 non-null int64\n",
      "상품군_최고판매단가        37372 non-null float64\n",
      "상품군_최저판매단가        37372 non-null float64\n",
      "상품군_중간판매단가        37372 non-null float64\n",
      "상품군_최고-최저         37372 non-null float64\n",
      "마더코드_최고판매단가       37372 non-null float64\n",
      "마더코드_최저판매단가       37372 non-null float64\n",
      "마더코드_최고-최저        37372 non-null float64\n",
      "상품군&브랜드_최고판매단가    33066 non-null float64\n",
      "상품군&브랜드_최저판매단가    33066 non-null float64\n",
      "상품군&브랜드_중간판매단가    33066 non-null float64\n",
      "상품군&브랜드_최고-최저     33066 non-null float64\n",
      "NEW_최고판매단가        37372 non-null float64\n",
      "NEW_최저판매단가        37372 non-null float64\n",
      "NEW_중간판매단가        37372 non-null float64\n",
      "NEW_최고-최저         37372 non-null float64\n",
      "상품군_가격대           37372 non-null float64\n",
      "전체_가격대            37372 non-null float64\n",
      "상품군평균판매단가차이       37372 non-null float64\n",
      "결합상품              38309 non-null int64\n",
      "상품군_zscore        37372 non-null float64\n",
      "상품군&브랜드_zscore    32058 non-null float64\n",
      "마더코드_zscore       37372 non-null float64\n",
      "NEW_zscore        37372 non-null float64\n",
      "dtypes: datetime64[ns](2), float64(29), int64(12), object(12)\n",
      "memory usage: 16.4+ MB\n"
     ]
    }
   ],
   "source": [
    "sale3.info()"
   ]
  }
 ],
 "metadata": {
  "kernelspec": {
   "display_name": "Python 3",
   "language": "python",
   "name": "python3"
  },
  "language_info": {
   "codemirror_mode": {
    "name": "ipython",
    "version": 3
   },
   "file_extension": ".py",
   "mimetype": "text/x-python",
   "name": "python",
   "nbconvert_exporter": "python",
   "pygments_lexer": "ipython3",
   "version": "3.6.8rc1"
  }
 },
 "nbformat": 4,
 "nbformat_minor": 4
}
