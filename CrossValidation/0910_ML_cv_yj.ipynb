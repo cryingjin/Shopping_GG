{
  "nbformat": 4,
  "nbformat_minor": 0,
  "metadata": {
    "colab": {
      "name": "0910_ML_cv_yj.ipynb",
      "provenance": [],
      "collapsed_sections": [],
      "machine_shape": "hm"
    },
    "kernelspec": {
      "name": "python3",
      "display_name": "Python 3"
    },
    "accelerator": "TPU"
  },
  "cells": [
    {
      "cell_type": "markdown",
      "metadata": {
        "id": "HT3Y7tPaz91R",
        "colab_type": "text"
      },
      "source": [
        "# Cross Validation\n",
        "- updated 0910\n",
        "- data  \n",
        "4th_FE_ver4_before 사용  \n",
        "\n",
        "1. 교차검증 함수를 만듭니다.  \n",
        "2. cv = 5 (5 fold validation) \n",
        "3. random_state = 77\n",
        "4. gbm 계열 epoch = 5000, early = 50 으로\n",
        "\n",
        ">사용함수, mape_exp(), mape_exp_cv(), mape_exp_stac()  \n",
        ">mape_exp_stac()으로 prediction 값 저장 부탁\n",
        "\n",
        "## y_predict 값들 피클로 저장해놓기"
      ]
    },
    {
      "cell_type": "markdown",
      "metadata": {
        "id": "LzuMZGkE08CG",
        "colab_type": "text"
      },
      "source": [
        "## ready"
      ]
    },
    {
      "cell_type": "code",
      "metadata": {
        "id": "Y6zzgcVKyFwV",
        "colab_type": "code",
        "colab": {
          "base_uri": "https://localhost:8080/",
          "height": 34
        },
        "outputId": "65ad915c-c8d5-4145-dc1c-0e48b02b7bf8"
      },
      "source": [
        "cd /content/drive/My Drive/빅콘"
      ],
      "execution_count": 1,
      "outputs": [
        {
          "output_type": "stream",
          "text": [
            "/content/drive/My Drive/빅콘\n"
          ],
          "name": "stdout"
        }
      ]
    },
    {
      "cell_type": "code",
      "metadata": {
        "id": "IB-QwK3NbEek",
        "colab_type": "code",
        "colab": {}
      },
      "source": [
        "!apt-get update --qq\n",
        "!apt-get install fonts-nanum* -qq"
      ],
      "execution_count": null,
      "outputs": []
    },
    {
      "cell_type": "code",
      "metadata": {
        "id": "tXj3-6lnbLqW",
        "colab_type": "code",
        "colab": {}
      },
      "source": [
        "# 한글 폰트\n",
        "import matplotlib.font_manager as fm\n",
        "fm._rebuild()"
      ],
      "execution_count": 3,
      "outputs": []
    },
    {
      "cell_type": "code",
      "metadata": {
        "id": "sdt7XqkYz_Bb",
        "colab_type": "code",
        "colab": {}
      },
      "source": [
        "# ready\n",
        "import os\n",
        "import sys\n",
        "import joblib\n",
        "import warnings\n",
        "warnings.filterwarnings(action='ignore')\n",
        "\n",
        "import pandas as pd \n",
        "import numpy as np\n",
        "import random\n",
        "import math\n",
        "\n",
        "from IPython.display import display\n",
        "pd.options.display.max_rows = 999\n",
        "pd.options.display.max_columns = 999\n",
        "pd.set_option('display.max_info_columns', 500)\n",
        "\n",
        "import imp\n",
        "import datetime\n",
        "from tqdm import tqdm"
      ],
      "execution_count": 4,
      "outputs": []
    },
    {
      "cell_type": "code",
      "metadata": {
        "id": "Cb5Uk4QEz_D1",
        "colab_type": "code",
        "colab": {}
      },
      "source": [
        "# vusualize\n",
        "%matplotlib inline\n",
        "import matplotlib.pyplot as plt\n",
        "import seaborn as sns\n",
        "\n",
        "plt.style.use('seaborn')\n",
        "plt.rc('font', family='NanumGothic')\n",
        "plt.rc('axes', unicode_minus=False)"
      ],
      "execution_count": 5,
      "outputs": []
    },
    {
      "cell_type": "code",
      "metadata": {
        "id": "RxIRA2Ng2RWB",
        "colab_type": "code",
        "colab": {}
      },
      "source": [
        "# sklearn\n",
        "from sklearn.model_selection import KFold, cross_val_score, train_test_split\n",
        "from sklearn.metrics import mean_squared_error, mean_absolute_error\n",
        "from sklearn.metrics import accuracy_score\n",
        "import random"
      ],
      "execution_count": 23,
      "outputs": []
    },
    {
      "cell_type": "markdown",
      "metadata": {
        "id": "PwPPLZKrZ6Uq",
        "colab_type": "text"
      },
      "source": [
        "## Load Data\n",
        "4th data 2가지 사용  \n",
        "data['X'] / data['y']"
      ]
    },
    {
      "cell_type": "code",
      "metadata": {
        "id": "HCrnGKDhz_GS",
        "colab_type": "code",
        "colab": {}
      },
      "source": [
        "# load data\n",
        "## ver4\n",
        "data_v4 = joblib.load(os.path.join('data', '4th_FE_ver4_before.pk'))\n",
        "locals().update(data_v4)"
      ],
      "execution_count": 6,
      "outputs": []
    },
    {
      "cell_type": "code",
      "metadata": {
        "id": "E0_khLoXbsuD",
        "colab_type": "code",
        "colab": {
          "base_uri": "https://localhost:8080/",
          "height": 34
        },
        "outputId": "fdbe6fef-adc7-45f2-e06b-0221da6458da"
      },
      "source": [
        "X = data_v4['X'] ; y = data_v4['y']\n",
        "data_v4['X'].shape, data_v4['y'].shape"
      ],
      "execution_count": 7,
      "outputs": [
        {
          "output_type": "execute_result",
          "data": {
            "text/plain": [
              "((35379, 400), (35379,))"
            ]
          },
          "metadata": {
            "tags": []
          },
          "execution_count": 7
        }
      ]
    },
    {
      "cell_type": "code",
      "metadata": {
        "id": "X2qIKTTQYAtF",
        "colab_type": "code",
        "colab": {
          "base_uri": "https://localhost:8080/",
          "height": 34
        },
        "outputId": "0475bd01-cace-43cf-b0bc-27342b061f7b"
      },
      "source": [
        "X.isnull().sum().sum()"
      ],
      "execution_count": 8,
      "outputs": [
        {
          "output_type": "execute_result",
          "data": {
            "text/plain": [
              "85014"
            ]
          },
          "metadata": {
            "tags": []
          },
          "execution_count": 8
        }
      ]
    },
    {
      "cell_type": "code",
      "metadata": {
        "id": "aBgTfwGxePMZ",
        "colab_type": "code",
        "colab": {
          "base_uri": "https://localhost:8080/",
          "height": 34
        },
        "outputId": "3941a9da-4525-4d00-cb28-a67454381563"
      },
      "source": [
        "# fillna X\n",
        "X_full = X.copy().fillna(0)\n",
        "X_full.isnull().sum().sum()\n",
        "\n",
        "# dummy data\n",
        "X_dum = pd.get_dummies(X_full)\n",
        "print(X_dum.shape)\n",
        "\n",
        "# log scaling\n",
        "log_y = np.log(y)\n",
        "#sns.distplot(log_y)"
      ],
      "execution_count": 27,
      "outputs": [
        {
          "output_type": "stream",
          "text": [
            "(35379, 450)\n"
          ],
          "name": "stdout"
        }
      ]
    },
    {
      "cell_type": "markdown",
      "metadata": {
        "id": "phuYExcbcGuW",
        "colab_type": "text"
      },
      "source": [
        "### Cross Validation function"
      ]
    },
    {
      "cell_type": "code",
      "metadata": {
        "id": "frA75og5akY2",
        "colab_type": "code",
        "colab": {}
      },
      "source": [
        "# mape\n",
        "def MAPE(y_true, y_pred): \n",
        "    y_true, y_pred = np.array(y_true), np.array(y_pred)\n",
        "    return np.mean(np.abs((y_true - y_pred) / y_true)) * 100"
      ],
      "execution_count": 11,
      "outputs": []
    },
    {
      "cell_type": "code",
      "metadata": {
        "id": "tfeMgx6Og-Vr",
        "colab_type": "code",
        "colab": {}
      },
      "source": [
        "# mape with exp\n",
        "def MAPE_exp(y_true, y_pred): \n",
        "    y_true, y_pred = np.array(y_true), np.array(y_pred)\n",
        "    return np.mean(np.abs((np.exp(y_true) - np.exp(y_pred)) / np.exp(y_true))) * 100"
      ],
      "execution_count": 12,
      "outputs": []
    },
    {
      "cell_type": "code",
      "metadata": {
        "id": "PFtqJyHWts8i",
        "colab_type": "code",
        "colab": {}
      },
      "source": [
        "# MAPE_exp_cv 구현\n",
        "def MAPE_exp_cv5(model,X,y,cv_splits):        \n",
        "    # setting\n",
        "    mape = []\n",
        "    # for 문 돌리기\n",
        "    cv=KFold(n_splits=cv_splits,random_state=42,shuffle=True)\n",
        "    for t,v in cv.split(X):\n",
        "        X_train=X.iloc[t]       # 훈련용\n",
        "        X_val=X.iloc[v]         # 검증용 분리.\n",
        "        y_train=y.iloc[t]\n",
        "        y_val=y.iloc[v]\n",
        "\n",
        "        # model\n",
        "        model.fit(X_train,y_train)\n",
        "        y_pred = model.predict(X_val)\n",
        "        #y_pred_list.append(np.exp(y_pred))\n",
        "        # mape\n",
        "        mape.append(MAPE_exp(y_val, y_pred))\n",
        "    return mape, np.mean(mape), y_pred_list"
      ],
      "execution_count": 13,
      "outputs": []
    },
    {
      "cell_type": "code",
      "metadata": {
        "id": "9ga-uMa2v1ZO",
        "colab_type": "code",
        "colab": {}
      },
      "source": [
        "# MAPE_exp_cv 구현\n",
        "def MAPE_exp_cv12(model,X,y,cv_splits):        \n",
        "    # setting\n",
        "    mape = []\n",
        "\n",
        "    # for 문 돌리기\n",
        "    cv=KFold(n_splits=cv_splits,shuffle=False)\n",
        "    for t,v in cv.split(X):\n",
        "        X_train=X.iloc[t]       # 훈련용\n",
        "        X_val=X.iloc[v]         # 검증용 분리.\n",
        "        y_train=y.iloc[t]\n",
        "        y_val=y.iloc[v]\n",
        "\n",
        "        # model\n",
        "        model.fit(X_train,y_train)\n",
        "        y_pred = model.predict(X_val)\n",
        "        # mape\n",
        "        mape.append(MAPE_exp(y_val, y_pred))\n",
        "    return mape, np.mean(mape)"
      ],
      "execution_count": 14,
      "outputs": []
    },
    {
      "cell_type": "code",
      "metadata": {
        "id": "2TI3eqF2vsGe",
        "colab_type": "code",
        "colab": {}
      },
      "source": [
        "# stacking with cv=5\n",
        "# MAPE_exp_cv 구현\n",
        "\n",
        "def MAPE_exp_cv5_st(model,X,y,cv_splits):        \n",
        "    # setting\n",
        "    mape = []\n",
        "    pred_list = []     # X_val_ 으로 예측\n",
        "    test_list = []     # X_test 으로 예측\n",
        "    # split train, test\n",
        "    X_train, X_test, y_train, y_test = train_test_split(X,y,test_size=0.2, random_state=77)\n",
        "\n",
        "    # for 문 돌리기\n",
        "    cv=KFold(n_splits=cv_splits,random_state=77,shuffle=True)\n",
        "    for t,v in cv.split(X_train):\n",
        "        X_train_ = X_train.iloc[t]       # 훈련용\n",
        "        X_val_ = X_train.iloc[v]         # 검증용 분리.\n",
        "        y_train_ = y_train.iloc[t]\n",
        "        y_val_ = y_train.iloc[v]\n",
        "\n",
        "        # model\n",
        "        model.fit(X_train_,y_train_)\n",
        "        y_pred = model.predict(X_val_)\n",
        "        pred_list.append(np.exp(y_pred))\n",
        "        \n",
        "        test_pred = model.predict(X_test)\n",
        "        test_list.append(np.exp(test_pred))\n",
        "        # mape\n",
        "        mape.append(MAPE_exp(y_val_, y_pred))\n",
        "    return mape, np.mean(mape), pred_list, test_list "
      ],
      "execution_count": 30,
      "outputs": []
    },
    {
      "cell_type": "markdown",
      "metadata": {
        "id": "cBO4w38D1I2F",
        "colab_type": "text"
      },
      "source": [
        "### Modeling with cv"
      ]
    },
    {
      "cell_type": "markdown",
      "metadata": {
        "id": "9B6mMQxk0yMd",
        "colab_type": "text"
      },
      "source": [
        "* lgbm"
      ]
    },
    {
      "cell_type": "code",
      "metadata": {
        "id": "D28GhZ-hwkRq",
        "colab_type": "code",
        "colab": {}
      },
      "source": [
        "import lightgbm as lgb"
      ],
      "execution_count": 38,
      "outputs": []
    },
    {
      "cell_type": "code",
      "metadata": {
        "id": "PuOUkcSawtQ1",
        "colab_type": "code",
        "colab": {
          "base_uri": "https://localhost:8080/",
          "height": 136
        },
        "outputId": "ded511e8-ff0c-4b58-d3c4-e8fcd7ad5066"
      },
      "source": [
        "# lgbm setting\n",
        "X = X_dum\n",
        "y = log_y\n",
        "mape = []\n",
        "pred_list = []\n",
        "test_list = []\n",
        "\n",
        "# split train, test\n",
        "X_train, X_test, y_train, y_test = train_test_split(X, y, test_size=0.2, random_state=77)\n",
        "\n",
        "# for 문 돌리기\n",
        "cv=KFold(n_splits=5,random_state=77,shuffle=True)\n",
        "for t,v in cv.split(X_train):\n",
        "    X_train_ = X_train.iloc[t]       # 훈련용\n",
        "    X_val_ = X_train.iloc[v]         # 검증용 분리.\n",
        "    y_train_ = y_train.iloc[t]\n",
        "    y_val_=y.iloc[v]\n",
        "\n",
        "    # dataset\n",
        "    train_ds = lgb.Dataset(X_train_, label=y_train_)\n",
        "    val_ds = lgb.Dataset(X_val_, label=y_val_)\n",
        "\n",
        "    params={\n",
        "        'learning_rate':0.01,\n",
        "        'max_depth':16,\n",
        "        'boosting':'dart',\n",
        "        'objective':'regression',\n",
        "        'metric':'mape',\n",
        "        'is_training_metric':True,\n",
        "        'num_leaves':144,\n",
        "        'feature_fraction':0.9,\n",
        "        'bagging_fraction':0.7,\n",
        "        'bagging_freq':5,\n",
        "        'seed':77\n",
        "    }\n",
        "\n",
        "    lgbm_model = lgb.train(params,train_ds,5000,val_ds,verbose_eval=1000)\n",
        "    y_pred = lgbm_model.predict(X_val_)\n",
        "    pred_list.append(np.exp(y_pred))\n",
        "    \n",
        "    test_pred = lgbm_model.predict(X_test)\n",
        "    test_list.append(np.exp(test_pred))\n",
        "    \n",
        "    # mape\n",
        "    mape.append(MAPE_exp(y_val_, y_pred))\n",
        "    \n",
        "print(mape, np.mean(mape))#, pred_list, test_list "
      ],
      "execution_count": null,
      "outputs": [
        {
          "output_type": "stream",
          "text": [
            "[1000]\tvalid_0's mape: 0.147386\n",
            "[2000]\tvalid_0's mape: 0.0950816\n",
            "[3000]\tvalid_0's mape: 0.0723236\n",
            "[4000]\tvalid_0's mape: 0.0673376\n",
            "[5000]\tvalid_0's mape: 0.0654671\n",
            "[1000]\tvalid_0's mape: 0.147319\n",
            "[2000]\tvalid_0's mape: 0.0949697\n"
          ],
          "name": "stdout"
        }
      ]
    },
    {
      "cell_type": "markdown",
      "metadata": {
        "id": "wVgn2b1Uw39A",
        "colab_type": "text"
      },
      "source": [
        "### CatBoost\n",
        "예측해야하는 값이 훈련 셋 피처에 들어가버리는 문제, 즉 Data Leakage 문제  \n",
        "doc : https://catboost.ai/docs/concepts/python-reference_utils_eval_metric.html  \n",
        "kaggle : https://www.kaggle.com/mitribunskiy/tutorial-catboost-overview\n",
        "  \n",
        "    \n",
        "mape : 31.306861591528538"
      ]
    },
    {
      "cell_type": "code",
      "metadata": {
        "id": "OgOapF4AzM_m",
        "colab_type": "code",
        "colab": {}
      },
      "source": [
        "!pip install catboost"
      ],
      "execution_count": null,
      "outputs": []
    },
    {
      "cell_type": "code",
      "metadata": {
        "id": "h2NuGmP-w3XX",
        "colab_type": "code",
        "colab": {}
      },
      "source": [
        "from catboost import CatBoostRegressor"
      ],
      "execution_count": 18,
      "outputs": []
    },
    {
      "cell_type": "code",
      "metadata": {
        "id": "6Cx0SNnFxA5r",
        "colab_type": "code",
        "colab": {}
      },
      "source": [
        "# catboost setting\n",
        "cb_model = CatBoostRegressor(iterations=5000,\n",
        "                             learning_rate=0.05,\n",
        "                             depth=10,\n",
        "                             eval_metric='MAPE',\n",
        "                             random_seed = 77,\n",
        "                             bagging_temperature = 0.2,\n",
        "                             early_stopping_rounds = 500,\n",
        "                             #group_id = []\n",
        "                             od_type='Iter',\n",
        "                             metric_period = 50,     # ?\n",
        "                             #od_wait=20,\n",
        "                             thread_count=-1)"
      ],
      "execution_count": 34,
      "outputs": []
    },
    {
      "cell_type": "code",
      "metadata": {
        "id": "bbb9hO__vP_u",
        "colab_type": "code",
        "colab": {
          "base_uri": "https://localhost:8080/",
          "height": 1000
        },
        "outputId": "f89f8e25-27a1-4cef-df0c-b195324f4e2d"
      },
      "source": [
        "print('catboost : \\n',MAPE_exp_cv5_st(cb_model,X_dum,log_y,5))"
      ],
      "execution_count": 35,
      "outputs": [
        {
          "output_type": "stream",
          "text": [
            "0:\tlearn: 0.0478830\ttotal: 90.2ms\tremaining: 7m 31s\n",
            "50:\tlearn: 0.0265858\ttotal: 3.27s\tremaining: 5m 17s\n",
            "100:\tlearn: 0.0224269\ttotal: 6.41s\tremaining: 5m 11s\n",
            "150:\tlearn: 0.0203286\ttotal: 9.53s\tremaining: 5m 5s\n",
            "200:\tlearn: 0.0188922\ttotal: 12.6s\tremaining: 5m\n",
            "250:\tlearn: 0.0179416\ttotal: 15.7s\tremaining: 4m 56s\n",
            "300:\tlearn: 0.0171038\ttotal: 18.7s\tremaining: 4m 52s\n",
            "350:\tlearn: 0.0164104\ttotal: 21.8s\tremaining: 4m 49s\n",
            "400:\tlearn: 0.0158344\ttotal: 24.9s\tremaining: 4m 45s\n",
            "450:\tlearn: 0.0152069\ttotal: 27.9s\tremaining: 4m 41s\n",
            "500:\tlearn: 0.0146919\ttotal: 31s\tremaining: 4m 38s\n",
            "550:\tlearn: 0.0142364\ttotal: 34.1s\tremaining: 4m 35s\n",
            "600:\tlearn: 0.0138262\ttotal: 37.1s\tremaining: 4m 31s\n",
            "650:\tlearn: 0.0134195\ttotal: 40.2s\tremaining: 4m 28s\n",
            "700:\tlearn: 0.0130553\ttotal: 43.3s\tremaining: 4m 25s\n",
            "750:\tlearn: 0.0127188\ttotal: 46.4s\tremaining: 4m 22s\n",
            "800:\tlearn: 0.0123536\ttotal: 49.5s\tremaining: 4m 19s\n",
            "850:\tlearn: 0.0120448\ttotal: 52.7s\tremaining: 4m 16s\n",
            "900:\tlearn: 0.0117385\ttotal: 55.8s\tremaining: 4m 13s\n",
            "950:\tlearn: 0.0114539\ttotal: 58.9s\tremaining: 4m 10s\n",
            "1000:\tlearn: 0.0111960\ttotal: 1m 2s\tremaining: 4m 7s\n",
            "1050:\tlearn: 0.0109420\ttotal: 1m 5s\tremaining: 4m 4s\n",
            "1100:\tlearn: 0.0107222\ttotal: 1m 8s\tremaining: 4m 1s\n",
            "1150:\tlearn: 0.0104988\ttotal: 1m 11s\tremaining: 3m 58s\n",
            "1200:\tlearn: 0.0102538\ttotal: 1m 14s\tremaining: 3m 55s\n",
            "1250:\tlearn: 0.0100121\ttotal: 1m 17s\tremaining: 3m 52s\n",
            "1300:\tlearn: 0.0098051\ttotal: 1m 20s\tremaining: 3m 49s\n",
            "1350:\tlearn: 0.0095953\ttotal: 1m 23s\tremaining: 3m 46s\n",
            "1400:\tlearn: 0.0093851\ttotal: 1m 26s\tremaining: 3m 43s\n",
            "1450:\tlearn: 0.0091996\ttotal: 1m 29s\tremaining: 3m 40s\n",
            "1500:\tlearn: 0.0090138\ttotal: 1m 33s\tremaining: 3m 37s\n",
            "1550:\tlearn: 0.0088299\ttotal: 1m 36s\tremaining: 3m 33s\n",
            "1600:\tlearn: 0.0086584\ttotal: 1m 39s\tremaining: 3m 30s\n",
            "1650:\tlearn: 0.0084960\ttotal: 1m 42s\tremaining: 3m 27s\n",
            "1700:\tlearn: 0.0083159\ttotal: 1m 45s\tremaining: 3m 24s\n",
            "1750:\tlearn: 0.0081590\ttotal: 1m 48s\tremaining: 3m 21s\n",
            "1800:\tlearn: 0.0080042\ttotal: 1m 51s\tremaining: 3m 18s\n",
            "1850:\tlearn: 0.0078582\ttotal: 1m 54s\tremaining: 3m 15s\n",
            "1900:\tlearn: 0.0077107\ttotal: 1m 57s\tremaining: 3m 11s\n",
            "1950:\tlearn: 0.0075730\ttotal: 2m\tremaining: 3m 8s\n",
            "2000:\tlearn: 0.0074200\ttotal: 2m 3s\tremaining: 3m 5s\n",
            "2050:\tlearn: 0.0072868\ttotal: 2m 6s\tremaining: 3m 2s\n",
            "2100:\tlearn: 0.0071593\ttotal: 2m 9s\tremaining: 2m 59s\n",
            "2150:\tlearn: 0.0070303\ttotal: 2m 13s\tremaining: 2m 56s\n",
            "2200:\tlearn: 0.0069112\ttotal: 2m 16s\tremaining: 2m 53s\n",
            "2250:\tlearn: 0.0067963\ttotal: 2m 19s\tremaining: 2m 49s\n",
            "2300:\tlearn: 0.0066742\ttotal: 2m 22s\tremaining: 2m 46s\n",
            "2350:\tlearn: 0.0065515\ttotal: 2m 25s\tremaining: 2m 43s\n",
            "2400:\tlearn: 0.0064375\ttotal: 2m 28s\tremaining: 2m 40s\n",
            "2450:\tlearn: 0.0063366\ttotal: 2m 31s\tremaining: 2m 37s\n",
            "2500:\tlearn: 0.0062349\ttotal: 2m 34s\tremaining: 2m 34s\n",
            "2550:\tlearn: 0.0061219\ttotal: 2m 37s\tremaining: 2m 31s\n",
            "2600:\tlearn: 0.0060141\ttotal: 2m 40s\tremaining: 2m 28s\n",
            "2650:\tlearn: 0.0059127\ttotal: 2m 43s\tremaining: 2m 25s\n",
            "2700:\tlearn: 0.0058120\ttotal: 2m 46s\tremaining: 2m 22s\n",
            "2750:\tlearn: 0.0057210\ttotal: 2m 50s\tremaining: 2m 19s\n",
            "2800:\tlearn: 0.0056330\ttotal: 2m 53s\tremaining: 2m 15s\n",
            "2850:\tlearn: 0.0055395\ttotal: 2m 56s\tremaining: 2m 12s\n",
            "2900:\tlearn: 0.0054439\ttotal: 2m 59s\tremaining: 2m 9s\n",
            "2950:\tlearn: 0.0053679\ttotal: 3m 2s\tremaining: 2m 6s\n",
            "3000:\tlearn: 0.0052928\ttotal: 3m 5s\tremaining: 2m 3s\n",
            "3050:\tlearn: 0.0052099\ttotal: 3m 8s\tremaining: 2m\n",
            "3100:\tlearn: 0.0051210\ttotal: 3m 11s\tremaining: 1m 57s\n",
            "3150:\tlearn: 0.0050326\ttotal: 3m 14s\tremaining: 1m 54s\n",
            "3200:\tlearn: 0.0049630\ttotal: 3m 17s\tremaining: 1m 51s\n",
            "3250:\tlearn: 0.0048919\ttotal: 3m 21s\tremaining: 1m 48s\n",
            "3300:\tlearn: 0.0048192\ttotal: 3m 24s\tremaining: 1m 45s\n",
            "3350:\tlearn: 0.0047480\ttotal: 3m 27s\tremaining: 1m 42s\n",
            "3400:\tlearn: 0.0046763\ttotal: 3m 30s\tremaining: 1m 38s\n",
            "3450:\tlearn: 0.0046059\ttotal: 3m 33s\tremaining: 1m 35s\n",
            "3500:\tlearn: 0.0045302\ttotal: 3m 36s\tremaining: 1m 32s\n",
            "3550:\tlearn: 0.0044629\ttotal: 3m 39s\tremaining: 1m 29s\n",
            "3600:\tlearn: 0.0043985\ttotal: 3m 42s\tremaining: 1m 26s\n",
            "3650:\tlearn: 0.0043294\ttotal: 3m 46s\tremaining: 1m 23s\n",
            "3700:\tlearn: 0.0042662\ttotal: 3m 49s\tremaining: 1m 20s\n",
            "3750:\tlearn: 0.0042056\ttotal: 3m 52s\tremaining: 1m 17s\n",
            "3800:\tlearn: 0.0041462\ttotal: 3m 55s\tremaining: 1m 14s\n",
            "3850:\tlearn: 0.0040792\ttotal: 3m 58s\tremaining: 1m 11s\n",
            "3900:\tlearn: 0.0040089\ttotal: 4m 1s\tremaining: 1m 8s\n",
            "3950:\tlearn: 0.0039516\ttotal: 4m 4s\tremaining: 1m 5s\n",
            "4000:\tlearn: 0.0038915\ttotal: 4m 8s\tremaining: 1m 1s\n",
            "4050:\tlearn: 0.0038319\ttotal: 4m 11s\tremaining: 58.8s\n",
            "4100:\tlearn: 0.0037747\ttotal: 4m 14s\tremaining: 55.7s\n",
            "4150:\tlearn: 0.0037140\ttotal: 4m 17s\tremaining: 52.6s\n",
            "4200:\tlearn: 0.0036561\ttotal: 4m 20s\tremaining: 49.5s\n",
            "4250:\tlearn: 0.0036004\ttotal: 4m 23s\tremaining: 46.4s\n",
            "4300:\tlearn: 0.0035405\ttotal: 4m 26s\tremaining: 43.3s\n",
            "4350:\tlearn: 0.0034858\ttotal: 4m 29s\tremaining: 40.2s\n",
            "4400:\tlearn: 0.0034339\ttotal: 4m 32s\tremaining: 37.1s\n",
            "4450:\tlearn: 0.0033840\ttotal: 4m 35s\tremaining: 34s\n",
            "4500:\tlearn: 0.0033364\ttotal: 4m 39s\tremaining: 30.9s\n",
            "4550:\tlearn: 0.0032920\ttotal: 4m 42s\tremaining: 27.9s\n",
            "4600:\tlearn: 0.0032443\ttotal: 4m 45s\tremaining: 24.8s\n",
            "4650:\tlearn: 0.0032003\ttotal: 4m 48s\tremaining: 21.7s\n",
            "4700:\tlearn: 0.0031596\ttotal: 4m 51s\tremaining: 18.6s\n",
            "4750:\tlearn: 0.0031147\ttotal: 4m 55s\tremaining: 15.5s\n",
            "4800:\tlearn: 0.0030758\ttotal: 4m 58s\tremaining: 12.4s\n",
            "4850:\tlearn: 0.0030351\ttotal: 5m 1s\tremaining: 9.26s\n",
            "4900:\tlearn: 0.0029866\ttotal: 5m 4s\tremaining: 6.15s\n",
            "4950:\tlearn: 0.0029448\ttotal: 5m 7s\tremaining: 3.04s\n",
            "4999:\tlearn: 0.0029037\ttotal: 5m 10s\tremaining: 0us\n",
            "0:\tlearn: 0.0477826\ttotal: 79.9ms\tremaining: 6m 39s\n",
            "50:\tlearn: 0.0263508\ttotal: 3.26s\tremaining: 5m 16s\n",
            "100:\tlearn: 0.0222321\ttotal: 6.4s\tremaining: 5m 10s\n",
            "150:\tlearn: 0.0202656\ttotal: 9.47s\tremaining: 5m 4s\n",
            "200:\tlearn: 0.0189129\ttotal: 12.6s\tremaining: 5m\n",
            "250:\tlearn: 0.0178711\ttotal: 15.7s\tremaining: 4m 56s\n",
            "300:\tlearn: 0.0170774\ttotal: 18.8s\tremaining: 4m 52s\n",
            "350:\tlearn: 0.0164615\ttotal: 21.9s\tremaining: 4m 49s\n",
            "400:\tlearn: 0.0158946\ttotal: 24.9s\tremaining: 4m 45s\n",
            "450:\tlearn: 0.0153472\ttotal: 28s\tremaining: 4m 42s\n",
            "500:\tlearn: 0.0148550\ttotal: 31.1s\tremaining: 4m 39s\n",
            "550:\tlearn: 0.0143827\ttotal: 34.2s\tremaining: 4m 36s\n",
            "600:\tlearn: 0.0139325\ttotal: 37.4s\tremaining: 4m 33s\n",
            "650:\tlearn: 0.0135290\ttotal: 40.5s\tremaining: 4m 30s\n",
            "700:\tlearn: 0.0131693\ttotal: 43.6s\tremaining: 4m 27s\n",
            "750:\tlearn: 0.0128415\ttotal: 46.7s\tremaining: 4m 23s\n",
            "800:\tlearn: 0.0124981\ttotal: 49.7s\tremaining: 4m 20s\n",
            "850:\tlearn: 0.0121791\ttotal: 52.8s\tremaining: 4m 17s\n",
            "900:\tlearn: 0.0118826\ttotal: 55.8s\tremaining: 4m 13s\n",
            "950:\tlearn: 0.0116137\ttotal: 58.9s\tremaining: 4m 10s\n",
            "1000:\tlearn: 0.0113388\ttotal: 1m 2s\tremaining: 4m 7s\n",
            "1050:\tlearn: 0.0110706\ttotal: 1m 5s\tremaining: 4m 4s\n",
            "1100:\tlearn: 0.0108239\ttotal: 1m 8s\tremaining: 4m 1s\n",
            "1150:\tlearn: 0.0105692\ttotal: 1m 11s\tremaining: 3m 58s\n",
            "1200:\tlearn: 0.0103549\ttotal: 1m 14s\tremaining: 3m 55s\n",
            "1250:\tlearn: 0.0101444\ttotal: 1m 17s\tremaining: 3m 52s\n",
            "1300:\tlearn: 0.0099264\ttotal: 1m 20s\tremaining: 3m 48s\n",
            "1350:\tlearn: 0.0097117\ttotal: 1m 23s\tremaining: 3m 45s\n",
            "1400:\tlearn: 0.0094955\ttotal: 1m 26s\tremaining: 3m 42s\n",
            "1450:\tlearn: 0.0093341\ttotal: 1m 29s\tremaining: 3m 39s\n",
            "1500:\tlearn: 0.0091511\ttotal: 1m 32s\tremaining: 3m 36s\n",
            "1550:\tlearn: 0.0089604\ttotal: 1m 35s\tremaining: 3m 33s\n",
            "1600:\tlearn: 0.0087775\ttotal: 1m 39s\tremaining: 3m 30s\n",
            "1650:\tlearn: 0.0086031\ttotal: 1m 42s\tremaining: 3m 27s\n",
            "1700:\tlearn: 0.0084427\ttotal: 1m 45s\tremaining: 3m 24s\n",
            "1750:\tlearn: 0.0082912\ttotal: 1m 48s\tremaining: 3m 21s\n",
            "1800:\tlearn: 0.0081351\ttotal: 1m 51s\tremaining: 3m 18s\n",
            "1850:\tlearn: 0.0079837\ttotal: 1m 54s\tremaining: 3m 15s\n",
            "1900:\tlearn: 0.0078293\ttotal: 1m 57s\tremaining: 3m 12s\n",
            "1950:\tlearn: 0.0076977\ttotal: 2m\tremaining: 3m 9s\n",
            "2000:\tlearn: 0.0075651\ttotal: 2m 4s\tremaining: 3m 5s\n",
            "2050:\tlearn: 0.0074253\ttotal: 2m 7s\tremaining: 3m 2s\n",
            "2100:\tlearn: 0.0072830\ttotal: 2m 10s\tremaining: 2m 59s\n",
            "2150:\tlearn: 0.0071514\ttotal: 2m 13s\tremaining: 2m 56s\n",
            "2200:\tlearn: 0.0070239\ttotal: 2m 16s\tremaining: 2m 53s\n",
            "2250:\tlearn: 0.0069071\ttotal: 2m 19s\tremaining: 2m 50s\n",
            "2300:\tlearn: 0.0067966\ttotal: 2m 22s\tremaining: 2m 47s\n",
            "2350:\tlearn: 0.0066754\ttotal: 2m 25s\tremaining: 2m 44s\n",
            "2400:\tlearn: 0.0065461\ttotal: 2m 28s\tremaining: 2m 41s\n",
            "2450:\tlearn: 0.0064162\ttotal: 2m 31s\tremaining: 2m 38s\n",
            "2500:\tlearn: 0.0063158\ttotal: 2m 35s\tremaining: 2m 35s\n",
            "2550:\tlearn: 0.0062043\ttotal: 2m 38s\tremaining: 2m 31s\n",
            "2600:\tlearn: 0.0061073\ttotal: 2m 41s\tremaining: 2m 28s\n",
            "2650:\tlearn: 0.0059892\ttotal: 2m 44s\tremaining: 2m 25s\n",
            "2700:\tlearn: 0.0058884\ttotal: 2m 47s\tremaining: 2m 22s\n",
            "2750:\tlearn: 0.0058009\ttotal: 2m 50s\tremaining: 2m 19s\n",
            "2800:\tlearn: 0.0056948\ttotal: 2m 53s\tremaining: 2m 16s\n",
            "2850:\tlearn: 0.0056050\ttotal: 2m 56s\tremaining: 2m 13s\n",
            "2900:\tlearn: 0.0055039\ttotal: 2m 59s\tremaining: 2m 10s\n",
            "2950:\tlearn: 0.0054097\ttotal: 3m 2s\tremaining: 2m 6s\n",
            "3000:\tlearn: 0.0053171\ttotal: 3m 5s\tremaining: 2m 3s\n",
            "3050:\tlearn: 0.0052384\ttotal: 3m 9s\tremaining: 2m\n",
            "3100:\tlearn: 0.0051531\ttotal: 3m 12s\tremaining: 1m 57s\n",
            "3150:\tlearn: 0.0050565\ttotal: 3m 15s\tremaining: 1m 54s\n",
            "3200:\tlearn: 0.0049756\ttotal: 3m 18s\tremaining: 1m 51s\n",
            "3250:\tlearn: 0.0048816\ttotal: 3m 21s\tremaining: 1m 48s\n",
            "3300:\tlearn: 0.0048062\ttotal: 3m 24s\tremaining: 1m 45s\n",
            "3350:\tlearn: 0.0047267\ttotal: 3m 27s\tremaining: 1m 42s\n",
            "3400:\tlearn: 0.0046535\ttotal: 3m 30s\tremaining: 1m 39s\n",
            "3450:\tlearn: 0.0045690\ttotal: 3m 34s\tremaining: 1m 36s\n",
            "3500:\tlearn: 0.0044932\ttotal: 3m 37s\tremaining: 1m 32s\n",
            "3550:\tlearn: 0.0044207\ttotal: 3m 40s\tremaining: 1m 29s\n",
            "3600:\tlearn: 0.0043555\ttotal: 3m 43s\tremaining: 1m 26s\n",
            "3650:\tlearn: 0.0042860\ttotal: 3m 46s\tremaining: 1m 23s\n",
            "3700:\tlearn: 0.0042249\ttotal: 3m 49s\tremaining: 1m 20s\n",
            "3750:\tlearn: 0.0041644\ttotal: 3m 52s\tremaining: 1m 17s\n",
            "3800:\tlearn: 0.0041096\ttotal: 3m 56s\tremaining: 1m 14s\n",
            "3850:\tlearn: 0.0040522\ttotal: 3m 59s\tremaining: 1m 11s\n",
            "3900:\tlearn: 0.0039896\ttotal: 4m 2s\tremaining: 1m 8s\n",
            "3950:\tlearn: 0.0039322\ttotal: 4m 5s\tremaining: 1m 5s\n",
            "4000:\tlearn: 0.0038699\ttotal: 4m 8s\tremaining: 1m 2s\n",
            "4050:\tlearn: 0.0038084\ttotal: 4m 11s\tremaining: 59s\n",
            "4100:\tlearn: 0.0037563\ttotal: 4m 14s\tremaining: 55.9s\n",
            "4150:\tlearn: 0.0037014\ttotal: 4m 18s\tremaining: 52.8s\n",
            "4200:\tlearn: 0.0036550\ttotal: 4m 21s\tremaining: 49.7s\n",
            "4250:\tlearn: 0.0036025\ttotal: 4m 24s\tremaining: 46.6s\n",
            "4300:\tlearn: 0.0035420\ttotal: 4m 27s\tremaining: 43.5s\n",
            "4350:\tlearn: 0.0034820\ttotal: 4m 30s\tremaining: 40.4s\n",
            "4400:\tlearn: 0.0034262\ttotal: 4m 34s\tremaining: 37.3s\n",
            "4450:\tlearn: 0.0033760\ttotal: 4m 37s\tremaining: 34.2s\n",
            "4500:\tlearn: 0.0033223\ttotal: 4m 40s\tremaining: 31.1s\n",
            "4550:\tlearn: 0.0032739\ttotal: 4m 43s\tremaining: 28s\n",
            "4600:\tlearn: 0.0032282\ttotal: 4m 46s\tremaining: 24.9s\n",
            "4650:\tlearn: 0.0031819\ttotal: 4m 50s\tremaining: 21.8s\n",
            "4700:\tlearn: 0.0031383\ttotal: 4m 53s\tremaining: 18.7s\n",
            "4750:\tlearn: 0.0030949\ttotal: 4m 56s\tremaining: 15.5s\n",
            "4800:\tlearn: 0.0030536\ttotal: 4m 59s\tremaining: 12.4s\n",
            "4850:\tlearn: 0.0030048\ttotal: 5m 2s\tremaining: 9.29s\n",
            "4900:\tlearn: 0.0029657\ttotal: 5m 5s\tremaining: 6.17s\n",
            "4950:\tlearn: 0.0029281\ttotal: 5m 8s\tremaining: 3.06s\n",
            "4999:\tlearn: 0.0028856\ttotal: 5m 11s\tremaining: 0us\n",
            "0:\tlearn: 0.0479808\ttotal: 90.1ms\tremaining: 7m 30s\n",
            "50:\tlearn: 0.0263192\ttotal: 3.27s\tremaining: 5m 17s\n",
            "100:\tlearn: 0.0219457\ttotal: 6.51s\tremaining: 5m 15s\n",
            "150:\tlearn: 0.0199734\ttotal: 9.73s\tremaining: 5m 12s\n",
            "200:\tlearn: 0.0186518\ttotal: 13s\tremaining: 5m 10s\n",
            "250:\tlearn: 0.0176838\ttotal: 16.3s\tremaining: 5m 7s\n",
            "300:\tlearn: 0.0168960\ttotal: 19.5s\tremaining: 5m 4s\n",
            "350:\tlearn: 0.0162699\ttotal: 22.8s\tremaining: 5m 2s\n",
            "400:\tlearn: 0.0157009\ttotal: 26s\tremaining: 4m 57s\n",
            "450:\tlearn: 0.0151984\ttotal: 29.1s\tremaining: 4m 53s\n",
            "500:\tlearn: 0.0147127\ttotal: 32.3s\tremaining: 4m 50s\n",
            "550:\tlearn: 0.0142092\ttotal: 35.5s\tremaining: 4m 46s\n",
            "600:\tlearn: 0.0137942\ttotal: 38.8s\tremaining: 4m 43s\n",
            "650:\tlearn: 0.0134112\ttotal: 42s\tremaining: 4m 40s\n",
            "700:\tlearn: 0.0130296\ttotal: 45.1s\tremaining: 4m 36s\n",
            "750:\tlearn: 0.0127192\ttotal: 48.4s\tremaining: 4m 33s\n",
            "800:\tlearn: 0.0123978\ttotal: 51.5s\tremaining: 4m 29s\n",
            "850:\tlearn: 0.0121031\ttotal: 54.6s\tremaining: 4m 26s\n",
            "900:\tlearn: 0.0117890\ttotal: 57.8s\tremaining: 4m 23s\n",
            "950:\tlearn: 0.0115344\ttotal: 1m 1s\tremaining: 4m 19s\n",
            "1000:\tlearn: 0.0112572\ttotal: 1m 4s\tremaining: 4m 16s\n",
            "1050:\tlearn: 0.0109995\ttotal: 1m 7s\tremaining: 4m 13s\n",
            "1100:\tlearn: 0.0107431\ttotal: 1m 10s\tremaining: 4m 10s\n",
            "1150:\tlearn: 0.0105082\ttotal: 1m 13s\tremaining: 4m 6s\n",
            "1200:\tlearn: 0.0102635\ttotal: 1m 17s\tremaining: 4m 3s\n",
            "1250:\tlearn: 0.0100204\ttotal: 1m 20s\tremaining: 4m\n",
            "1300:\tlearn: 0.0097982\ttotal: 1m 23s\tremaining: 3m 57s\n",
            "1350:\tlearn: 0.0095885\ttotal: 1m 26s\tremaining: 3m 53s\n",
            "1400:\tlearn: 0.0093737\ttotal: 1m 29s\tremaining: 3m 50s\n",
            "1450:\tlearn: 0.0091559\ttotal: 1m 32s\tremaining: 3m 47s\n",
            "1500:\tlearn: 0.0089910\ttotal: 1m 36s\tremaining: 3m 44s\n",
            "1550:\tlearn: 0.0088030\ttotal: 1m 39s\tremaining: 3m 40s\n",
            "1600:\tlearn: 0.0086356\ttotal: 1m 42s\tremaining: 3m 37s\n",
            "1650:\tlearn: 0.0084706\ttotal: 1m 45s\tremaining: 3m 34s\n",
            "1700:\tlearn: 0.0083159\ttotal: 1m 48s\tremaining: 3m 31s\n",
            "1750:\tlearn: 0.0081469\ttotal: 1m 51s\tremaining: 3m 27s\n",
            "1800:\tlearn: 0.0079971\ttotal: 1m 55s\tremaining: 3m 24s\n",
            "1850:\tlearn: 0.0078414\ttotal: 1m 58s\tremaining: 3m 21s\n",
            "1900:\tlearn: 0.0076870\ttotal: 2m 1s\tremaining: 3m 18s\n",
            "1950:\tlearn: 0.0075363\ttotal: 2m 4s\tremaining: 3m 15s\n",
            "2000:\tlearn: 0.0074014\ttotal: 2m 8s\tremaining: 3m 11s\n",
            "2050:\tlearn: 0.0072630\ttotal: 2m 11s\tremaining: 3m 8s\n",
            "2100:\tlearn: 0.0071342\ttotal: 2m 14s\tremaining: 3m 5s\n",
            "2150:\tlearn: 0.0070165\ttotal: 2m 17s\tremaining: 3m 2s\n",
            "2200:\tlearn: 0.0068804\ttotal: 2m 21s\tremaining: 2m 59s\n",
            "2250:\tlearn: 0.0067605\ttotal: 2m 24s\tremaining: 2m 56s\n",
            "2300:\tlearn: 0.0066389\ttotal: 2m 27s\tremaining: 2m 53s\n",
            "2350:\tlearn: 0.0065241\ttotal: 2m 30s\tremaining: 2m 49s\n",
            "2400:\tlearn: 0.0063983\ttotal: 2m 33s\tremaining: 2m 46s\n",
            "2450:\tlearn: 0.0063003\ttotal: 2m 37s\tremaining: 2m 43s\n",
            "2500:\tlearn: 0.0061909\ttotal: 2m 40s\tremaining: 2m 40s\n",
            "2550:\tlearn: 0.0060813\ttotal: 2m 43s\tremaining: 2m 36s\n",
            "2600:\tlearn: 0.0059828\ttotal: 2m 46s\tremaining: 2m 33s\n",
            "2650:\tlearn: 0.0058838\ttotal: 2m 49s\tremaining: 2m 30s\n",
            "2700:\tlearn: 0.0058036\ttotal: 2m 52s\tremaining: 2m 27s\n",
            "2750:\tlearn: 0.0057134\ttotal: 2m 56s\tremaining: 2m 24s\n",
            "2800:\tlearn: 0.0056285\ttotal: 2m 59s\tremaining: 2m 20s\n",
            "2850:\tlearn: 0.0055326\ttotal: 3m 2s\tremaining: 2m 17s\n",
            "2900:\tlearn: 0.0054426\ttotal: 3m 5s\tremaining: 2m 14s\n",
            "2950:\tlearn: 0.0053639\ttotal: 3m 8s\tremaining: 2m 11s\n",
            "3000:\tlearn: 0.0052731\ttotal: 3m 12s\tremaining: 2m 7s\n",
            "3050:\tlearn: 0.0051941\ttotal: 3m 15s\tremaining: 2m 4s\n",
            "3100:\tlearn: 0.0051180\ttotal: 3m 18s\tremaining: 2m 1s\n",
            "3150:\tlearn: 0.0050413\ttotal: 3m 21s\tremaining: 1m 58s\n",
            "3200:\tlearn: 0.0049684\ttotal: 3m 24s\tremaining: 1m 55s\n",
            "3250:\tlearn: 0.0048898\ttotal: 3m 27s\tremaining: 1m 51s\n",
            "3300:\tlearn: 0.0048265\ttotal: 3m 30s\tremaining: 1m 48s\n",
            "3350:\tlearn: 0.0047555\ttotal: 3m 34s\tremaining: 1m 45s\n",
            "3400:\tlearn: 0.0046883\ttotal: 3m 37s\tremaining: 1m 42s\n",
            "3450:\tlearn: 0.0046280\ttotal: 3m 40s\tremaining: 1m 39s\n",
            "3500:\tlearn: 0.0045538\ttotal: 3m 43s\tremaining: 1m 35s\n",
            "3550:\tlearn: 0.0044949\ttotal: 3m 46s\tremaining: 1m 32s\n",
            "3600:\tlearn: 0.0044332\ttotal: 3m 50s\tremaining: 1m 29s\n",
            "3650:\tlearn: 0.0043753\ttotal: 3m 53s\tremaining: 1m 26s\n",
            "3700:\tlearn: 0.0043138\ttotal: 3m 56s\tremaining: 1m 23s\n",
            "3750:\tlearn: 0.0042433\ttotal: 3m 59s\tremaining: 1m 19s\n",
            "3800:\tlearn: 0.0041741\ttotal: 4m 2s\tremaining: 1m 16s\n",
            "3850:\tlearn: 0.0041105\ttotal: 4m 6s\tremaining: 1m 13s\n",
            "3900:\tlearn: 0.0040508\ttotal: 4m 9s\tremaining: 1m 10s\n",
            "3950:\tlearn: 0.0040016\ttotal: 4m 12s\tremaining: 1m 7s\n",
            "4000:\tlearn: 0.0039392\ttotal: 4m 15s\tremaining: 1m 3s\n",
            "4050:\tlearn: 0.0038853\ttotal: 4m 18s\tremaining: 1m\n",
            "4100:\tlearn: 0.0038250\ttotal: 4m 22s\tremaining: 57.5s\n",
            "4150:\tlearn: 0.0037734\ttotal: 4m 25s\tremaining: 54.2s\n",
            "4200:\tlearn: 0.0037143\ttotal: 4m 28s\tremaining: 51s\n",
            "4250:\tlearn: 0.0036586\ttotal: 4m 31s\tremaining: 47.9s\n",
            "4300:\tlearn: 0.0036033\ttotal: 4m 34s\tremaining: 44.7s\n",
            "4350:\tlearn: 0.0035394\ttotal: 4m 38s\tremaining: 41.5s\n",
            "4400:\tlearn: 0.0034824\ttotal: 4m 41s\tremaining: 38.3s\n",
            "4450:\tlearn: 0.0034318\ttotal: 4m 44s\tremaining: 35.1s\n",
            "4500:\tlearn: 0.0033797\ttotal: 4m 47s\tremaining: 31.9s\n",
            "4550:\tlearn: 0.0033300\ttotal: 4m 50s\tremaining: 28.7s\n",
            "4600:\tlearn: 0.0032875\ttotal: 4m 54s\tremaining: 25.5s\n",
            "4650:\tlearn: 0.0032481\ttotal: 4m 57s\tremaining: 22.3s\n",
            "4700:\tlearn: 0.0032032\ttotal: 5m\tremaining: 19.1s\n",
            "4750:\tlearn: 0.0031574\ttotal: 5m 3s\tremaining: 15.9s\n",
            "4800:\tlearn: 0.0031093\ttotal: 5m 7s\tremaining: 12.7s\n",
            "4850:\tlearn: 0.0030697\ttotal: 5m 10s\tremaining: 9.53s\n",
            "4900:\tlearn: 0.0030233\ttotal: 5m 13s\tremaining: 6.33s\n",
            "4950:\tlearn: 0.0029841\ttotal: 5m 16s\tremaining: 3.13s\n",
            "4999:\tlearn: 0.0029440\ttotal: 5m 19s\tremaining: 0us\n",
            "0:\tlearn: 0.0479872\ttotal: 63.3ms\tremaining: 5m 16s\n",
            "50:\tlearn: 0.0264865\ttotal: 3.24s\tremaining: 5m 14s\n",
            "100:\tlearn: 0.0221299\ttotal: 6.46s\tremaining: 5m 13s\n",
            "150:\tlearn: 0.0201780\ttotal: 9.66s\tremaining: 5m 10s\n",
            "200:\tlearn: 0.0188988\ttotal: 12.9s\tremaining: 5m 7s\n",
            "250:\tlearn: 0.0178699\ttotal: 16.1s\tremaining: 5m 3s\n",
            "300:\tlearn: 0.0169426\ttotal: 19.2s\tremaining: 5m\n",
            "350:\tlearn: 0.0162308\ttotal: 22.4s\tremaining: 4m 57s\n",
            "400:\tlearn: 0.0156244\ttotal: 25.6s\tremaining: 4m 53s\n",
            "450:\tlearn: 0.0150695\ttotal: 28.7s\tremaining: 4m 49s\n",
            "500:\tlearn: 0.0146054\ttotal: 31.7s\tremaining: 4m 44s\n",
            "550:\tlearn: 0.0141891\ttotal: 34.8s\tremaining: 4m 40s\n",
            "600:\tlearn: 0.0137952\ttotal: 37.9s\tremaining: 4m 37s\n",
            "650:\tlearn: 0.0134535\ttotal: 41.1s\tremaining: 4m 34s\n",
            "700:\tlearn: 0.0130904\ttotal: 44.1s\tremaining: 4m 30s\n",
            "750:\tlearn: 0.0127292\ttotal: 47.2s\tremaining: 4m 27s\n",
            "800:\tlearn: 0.0123983\ttotal: 50.3s\tremaining: 4m 23s\n",
            "850:\tlearn: 0.0120877\ttotal: 53.5s\tremaining: 4m 20s\n",
            "900:\tlearn: 0.0118106\ttotal: 56.7s\tremaining: 4m 17s\n",
            "950:\tlearn: 0.0115347\ttotal: 59.8s\tremaining: 4m 14s\n",
            "1000:\tlearn: 0.0112045\ttotal: 1m 2s\tremaining: 4m 11s\n",
            "1050:\tlearn: 0.0109399\ttotal: 1m 6s\tremaining: 4m 8s\n",
            "1100:\tlearn: 0.0106647\ttotal: 1m 9s\tremaining: 4m 5s\n",
            "1150:\tlearn: 0.0104244\ttotal: 1m 12s\tremaining: 4m 2s\n",
            "1200:\tlearn: 0.0101899\ttotal: 1m 15s\tremaining: 3m 59s\n",
            "1250:\tlearn: 0.0099740\ttotal: 1m 18s\tremaining: 3m 55s\n",
            "1300:\tlearn: 0.0097741\ttotal: 1m 21s\tremaining: 3m 52s\n",
            "1350:\tlearn: 0.0095608\ttotal: 1m 24s\tremaining: 3m 49s\n",
            "1400:\tlearn: 0.0093854\ttotal: 1m 28s\tremaining: 3m 46s\n",
            "1450:\tlearn: 0.0092098\ttotal: 1m 31s\tremaining: 3m 43s\n",
            "1500:\tlearn: 0.0090442\ttotal: 1m 34s\tremaining: 3m 40s\n",
            "1550:\tlearn: 0.0088785\ttotal: 1m 37s\tremaining: 3m 36s\n",
            "1600:\tlearn: 0.0087116\ttotal: 1m 40s\tremaining: 3m 33s\n",
            "1650:\tlearn: 0.0085173\ttotal: 1m 43s\tremaining: 3m 30s\n",
            "1700:\tlearn: 0.0083598\ttotal: 1m 46s\tremaining: 3m 27s\n",
            "1750:\tlearn: 0.0081952\ttotal: 1m 49s\tremaining: 3m 23s\n",
            "1800:\tlearn: 0.0080414\ttotal: 1m 53s\tremaining: 3m 20s\n",
            "1850:\tlearn: 0.0078980\ttotal: 1m 56s\tremaining: 3m 17s\n",
            "1900:\tlearn: 0.0077293\ttotal: 1m 59s\tremaining: 3m 14s\n",
            "1950:\tlearn: 0.0075821\ttotal: 2m 2s\tremaining: 3m 11s\n",
            "2000:\tlearn: 0.0074203\ttotal: 2m 5s\tremaining: 3m 7s\n",
            "2050:\tlearn: 0.0072966\ttotal: 2m 8s\tremaining: 3m 4s\n",
            "2100:\tlearn: 0.0071467\ttotal: 2m 11s\tremaining: 3m 1s\n",
            "2150:\tlearn: 0.0070063\ttotal: 2m 14s\tremaining: 2m 58s\n",
            "2200:\tlearn: 0.0068765\ttotal: 2m 17s\tremaining: 2m 55s\n",
            "2250:\tlearn: 0.0067450\ttotal: 2m 20s\tremaining: 2m 52s\n",
            "2300:\tlearn: 0.0066256\ttotal: 2m 23s\tremaining: 2m 48s\n",
            "2350:\tlearn: 0.0065182\ttotal: 2m 27s\tremaining: 2m 45s\n",
            "2400:\tlearn: 0.0064329\ttotal: 2m 30s\tremaining: 2m 42s\n",
            "2450:\tlearn: 0.0063045\ttotal: 2m 33s\tremaining: 2m 39s\n",
            "2500:\tlearn: 0.0061913\ttotal: 2m 36s\tremaining: 2m 36s\n",
            "2550:\tlearn: 0.0060858\ttotal: 2m 39s\tremaining: 2m 33s\n",
            "2600:\tlearn: 0.0059769\ttotal: 2m 42s\tremaining: 2m 29s\n",
            "2650:\tlearn: 0.0058658\ttotal: 2m 45s\tremaining: 2m 26s\n",
            "2700:\tlearn: 0.0057729\ttotal: 2m 48s\tremaining: 2m 23s\n",
            "2750:\tlearn: 0.0056715\ttotal: 2m 51s\tremaining: 2m 20s\n",
            "2800:\tlearn: 0.0055805\ttotal: 2m 55s\tremaining: 2m 17s\n",
            "2850:\tlearn: 0.0054815\ttotal: 2m 58s\tremaining: 2m 14s\n",
            "2900:\tlearn: 0.0053877\ttotal: 3m 1s\tremaining: 2m 11s\n",
            "2950:\tlearn: 0.0053040\ttotal: 3m 4s\tremaining: 2m 8s\n",
            "3000:\tlearn: 0.0052169\ttotal: 3m 7s\tremaining: 2m 5s\n",
            "3050:\tlearn: 0.0051307\ttotal: 3m 11s\tremaining: 2m 2s\n",
            "3100:\tlearn: 0.0050511\ttotal: 3m 14s\tremaining: 1m 59s\n",
            "3150:\tlearn: 0.0049829\ttotal: 3m 17s\tremaining: 1m 55s\n",
            "3200:\tlearn: 0.0048940\ttotal: 3m 20s\tremaining: 1m 52s\n",
            "3250:\tlearn: 0.0048283\ttotal: 3m 23s\tremaining: 1m 49s\n",
            "3300:\tlearn: 0.0047454\ttotal: 3m 27s\tremaining: 1m 46s\n",
            "3350:\tlearn: 0.0046752\ttotal: 3m 30s\tremaining: 1m 43s\n",
            "3400:\tlearn: 0.0046037\ttotal: 3m 33s\tremaining: 1m 40s\n",
            "3450:\tlearn: 0.0045246\ttotal: 3m 36s\tremaining: 1m 37s\n",
            "3500:\tlearn: 0.0044447\ttotal: 3m 39s\tremaining: 1m 34s\n",
            "3550:\tlearn: 0.0043826\ttotal: 3m 43s\tremaining: 1m 30s\n",
            "3600:\tlearn: 0.0043093\ttotal: 3m 46s\tremaining: 1m 27s\n",
            "3650:\tlearn: 0.0042366\ttotal: 3m 49s\tremaining: 1m 24s\n",
            "3700:\tlearn: 0.0041690\ttotal: 3m 52s\tremaining: 1m 21s\n",
            "3750:\tlearn: 0.0041008\ttotal: 3m 55s\tremaining: 1m 18s\n",
            "3800:\tlearn: 0.0040363\ttotal: 3m 58s\tremaining: 1m 15s\n",
            "3850:\tlearn: 0.0039807\ttotal: 4m 1s\tremaining: 1m 12s\n",
            "3900:\tlearn: 0.0039118\ttotal: 4m 4s\tremaining: 1m 8s\n",
            "3950:\tlearn: 0.0038549\ttotal: 4m 7s\tremaining: 1m 5s\n",
            "4000:\tlearn: 0.0037979\ttotal: 4m 11s\tremaining: 1m 2s\n",
            "4050:\tlearn: 0.0037455\ttotal: 4m 14s\tremaining: 59.6s\n",
            "4100:\tlearn: 0.0036921\ttotal: 4m 17s\tremaining: 56.4s\n",
            "4150:\tlearn: 0.0036381\ttotal: 4m 20s\tremaining: 53.3s\n",
            "4200:\tlearn: 0.0035776\ttotal: 4m 23s\tremaining: 50.1s\n",
            "4250:\tlearn: 0.0035186\ttotal: 4m 26s\tremaining: 47s\n",
            "4300:\tlearn: 0.0034669\ttotal: 4m 29s\tremaining: 43.9s\n",
            "4350:\tlearn: 0.0034231\ttotal: 4m 33s\tremaining: 40.7s\n",
            "4400:\tlearn: 0.0033727\ttotal: 4m 36s\tremaining: 37.6s\n",
            "4450:\tlearn: 0.0033229\ttotal: 4m 39s\tremaining: 34.4s\n",
            "4500:\tlearn: 0.0032782\ttotal: 4m 42s\tremaining: 31.3s\n",
            "4550:\tlearn: 0.0032373\ttotal: 4m 45s\tremaining: 28.2s\n",
            "4600:\tlearn: 0.0031925\ttotal: 4m 48s\tremaining: 25s\n",
            "4650:\tlearn: 0.0031494\ttotal: 4m 51s\tremaining: 21.9s\n",
            "4700:\tlearn: 0.0031046\ttotal: 4m 54s\tremaining: 18.7s\n",
            "4750:\tlearn: 0.0030612\ttotal: 4m 57s\tremaining: 15.6s\n",
            "4800:\tlearn: 0.0030226\ttotal: 5m 1s\tremaining: 12.5s\n",
            "4850:\tlearn: 0.0029813\ttotal: 5m 4s\tremaining: 9.34s\n",
            "4900:\tlearn: 0.0029418\ttotal: 5m 7s\tremaining: 6.21s\n",
            "4950:\tlearn: 0.0029050\ttotal: 5m 10s\tremaining: 3.07s\n",
            "4999:\tlearn: 0.0028675\ttotal: 5m 13s\tremaining: 0us\n",
            "0:\tlearn: 0.0482201\ttotal: 73.2ms\tremaining: 6m 5s\n",
            "50:\tlearn: 0.0265179\ttotal: 3.2s\tremaining: 5m 10s\n",
            "100:\tlearn: 0.0221373\ttotal: 6.29s\tremaining: 5m 5s\n",
            "150:\tlearn: 0.0200236\ttotal: 9.41s\tremaining: 5m 2s\n",
            "200:\tlearn: 0.0187205\ttotal: 12.6s\tremaining: 5m\n",
            "250:\tlearn: 0.0177464\ttotal: 15.7s\tremaining: 4m 56s\n",
            "300:\tlearn: 0.0168999\ttotal: 18.7s\tremaining: 4m 52s\n",
            "350:\tlearn: 0.0162683\ttotal: 21.8s\tremaining: 4m 48s\n",
            "400:\tlearn: 0.0158301\ttotal: 24.9s\tremaining: 4m 45s\n",
            "450:\tlearn: 0.0152689\ttotal: 28s\tremaining: 4m 42s\n",
            "500:\tlearn: 0.0147647\ttotal: 31s\tremaining: 4m 38s\n",
            "550:\tlearn: 0.0142854\ttotal: 34.1s\tremaining: 4m 35s\n",
            "600:\tlearn: 0.0138497\ttotal: 37.3s\tremaining: 4m 32s\n",
            "650:\tlearn: 0.0134244\ttotal: 40.4s\tremaining: 4m 29s\n",
            "700:\tlearn: 0.0130394\ttotal: 43.6s\tremaining: 4m 27s\n",
            "750:\tlearn: 0.0126887\ttotal: 46.7s\tremaining: 4m 24s\n",
            "800:\tlearn: 0.0123815\ttotal: 49.8s\tremaining: 4m 20s\n",
            "850:\tlearn: 0.0120573\ttotal: 52.9s\tremaining: 4m 17s\n",
            "900:\tlearn: 0.0117502\ttotal: 55.9s\tremaining: 4m 14s\n",
            "950:\tlearn: 0.0114743\ttotal: 59s\tremaining: 4m 11s\n",
            "1000:\tlearn: 0.0111612\ttotal: 1m 2s\tremaining: 4m 7s\n",
            "1050:\tlearn: 0.0109002\ttotal: 1m 5s\tremaining: 4m 4s\n",
            "1100:\tlearn: 0.0106476\ttotal: 1m 8s\tremaining: 4m 1s\n",
            "1150:\tlearn: 0.0104168\ttotal: 1m 11s\tremaining: 3m 58s\n",
            "1200:\tlearn: 0.0101949\ttotal: 1m 14s\tremaining: 3m 55s\n",
            "1250:\tlearn: 0.0099901\ttotal: 1m 17s\tremaining: 3m 52s\n",
            "1300:\tlearn: 0.0097612\ttotal: 1m 20s\tremaining: 3m 49s\n",
            "1350:\tlearn: 0.0095555\ttotal: 1m 23s\tremaining: 3m 46s\n",
            "1400:\tlearn: 0.0093346\ttotal: 1m 26s\tremaining: 3m 43s\n",
            "1450:\tlearn: 0.0091374\ttotal: 1m 29s\tremaining: 3m 39s\n",
            "1500:\tlearn: 0.0089635\ttotal: 1m 33s\tremaining: 3m 36s\n",
            "1550:\tlearn: 0.0087891\ttotal: 1m 36s\tremaining: 3m 33s\n",
            "1600:\tlearn: 0.0086056\ttotal: 1m 39s\tremaining: 3m 30s\n",
            "1650:\tlearn: 0.0084327\ttotal: 1m 42s\tremaining: 3m 27s\n",
            "1700:\tlearn: 0.0082620\ttotal: 1m 45s\tremaining: 3m 24s\n",
            "1750:\tlearn: 0.0081268\ttotal: 1m 48s\tremaining: 3m 21s\n",
            "1800:\tlearn: 0.0079881\ttotal: 1m 51s\tremaining: 3m 18s\n",
            "1850:\tlearn: 0.0078371\ttotal: 1m 55s\tremaining: 3m 15s\n",
            "1900:\tlearn: 0.0077017\ttotal: 1m 58s\tremaining: 3m 12s\n",
            "1950:\tlearn: 0.0075576\ttotal: 2m 1s\tremaining: 3m 9s\n",
            "2000:\tlearn: 0.0074141\ttotal: 2m 4s\tremaining: 3m 6s\n",
            "2050:\tlearn: 0.0072685\ttotal: 2m 7s\tremaining: 3m 3s\n",
            "2100:\tlearn: 0.0071289\ttotal: 2m 10s\tremaining: 3m\n",
            "2150:\tlearn: 0.0069914\ttotal: 2m 13s\tremaining: 2m 57s\n",
            "2200:\tlearn: 0.0068533\ttotal: 2m 17s\tremaining: 2m 54s\n",
            "2250:\tlearn: 0.0067539\ttotal: 2m 20s\tremaining: 2m 51s\n",
            "2300:\tlearn: 0.0066325\ttotal: 2m 23s\tremaining: 2m 48s\n",
            "2350:\tlearn: 0.0065393\ttotal: 2m 26s\tremaining: 2m 45s\n",
            "2400:\tlearn: 0.0064451\ttotal: 2m 29s\tremaining: 2m 41s\n",
            "2450:\tlearn: 0.0063357\ttotal: 2m 32s\tremaining: 2m 38s\n",
            "2500:\tlearn: 0.0062473\ttotal: 2m 35s\tremaining: 2m 35s\n",
            "2550:\tlearn: 0.0061363\ttotal: 2m 38s\tremaining: 2m 32s\n",
            "2600:\tlearn: 0.0060497\ttotal: 2m 42s\tremaining: 2m 29s\n",
            "2650:\tlearn: 0.0059586\ttotal: 2m 45s\tremaining: 2m 26s\n",
            "2700:\tlearn: 0.0058587\ttotal: 2m 48s\tremaining: 2m 23s\n",
            "2750:\tlearn: 0.0057605\ttotal: 2m 51s\tremaining: 2m 20s\n",
            "2800:\tlearn: 0.0056575\ttotal: 2m 54s\tremaining: 2m 17s\n",
            "2850:\tlearn: 0.0055618\ttotal: 2m 57s\tremaining: 2m 14s\n",
            "2900:\tlearn: 0.0054681\ttotal: 3m\tremaining: 2m 10s\n",
            "2950:\tlearn: 0.0053789\ttotal: 3m 3s\tremaining: 2m 7s\n",
            "3000:\tlearn: 0.0052857\ttotal: 3m 7s\tremaining: 2m 4s\n",
            "3050:\tlearn: 0.0051968\ttotal: 3m 10s\tremaining: 2m 1s\n",
            "3100:\tlearn: 0.0051116\ttotal: 3m 13s\tremaining: 1m 58s\n",
            "3150:\tlearn: 0.0050266\ttotal: 3m 16s\tremaining: 1m 55s\n",
            "3200:\tlearn: 0.0049584\ttotal: 3m 19s\tremaining: 1m 52s\n",
            "3250:\tlearn: 0.0048744\ttotal: 3m 22s\tremaining: 1m 49s\n",
            "3300:\tlearn: 0.0048010\ttotal: 3m 25s\tremaining: 1m 45s\n",
            "3350:\tlearn: 0.0047264\ttotal: 3m 29s\tremaining: 1m 42s\n",
            "3400:\tlearn: 0.0046484\ttotal: 3m 32s\tremaining: 1m 39s\n",
            "3450:\tlearn: 0.0045780\ttotal: 3m 35s\tremaining: 1m 36s\n",
            "3500:\tlearn: 0.0045074\ttotal: 3m 38s\tremaining: 1m 33s\n",
            "3550:\tlearn: 0.0044412\ttotal: 3m 41s\tremaining: 1m 30s\n",
            "3600:\tlearn: 0.0043898\ttotal: 3m 44s\tremaining: 1m 27s\n",
            "3650:\tlearn: 0.0043173\ttotal: 3m 48s\tremaining: 1m 24s\n",
            "3700:\tlearn: 0.0042560\ttotal: 3m 51s\tremaining: 1m 21s\n",
            "3750:\tlearn: 0.0041933\ttotal: 3m 54s\tremaining: 1m 18s\n",
            "3800:\tlearn: 0.0041360\ttotal: 3m 57s\tremaining: 1m 14s\n",
            "3850:\tlearn: 0.0040734\ttotal: 4m\tremaining: 1m 11s\n",
            "3900:\tlearn: 0.0040073\ttotal: 4m 3s\tremaining: 1m 8s\n",
            "3950:\tlearn: 0.0039501\ttotal: 4m 6s\tremaining: 1m 5s\n",
            "4000:\tlearn: 0.0038908\ttotal: 4m 9s\tremaining: 1m 2s\n",
            "4050:\tlearn: 0.0038357\ttotal: 4m 12s\tremaining: 59.3s\n",
            "4100:\tlearn: 0.0037821\ttotal: 4m 16s\tremaining: 56.2s\n",
            "4150:\tlearn: 0.0037241\ttotal: 4m 19s\tremaining: 53.1s\n",
            "4200:\tlearn: 0.0036683\ttotal: 4m 22s\tremaining: 49.9s\n",
            "4250:\tlearn: 0.0036156\ttotal: 4m 25s\tremaining: 46.8s\n",
            "4300:\tlearn: 0.0035632\ttotal: 4m 28s\tremaining: 43.7s\n",
            "4350:\tlearn: 0.0035156\ttotal: 4m 31s\tremaining: 40.6s\n",
            "4400:\tlearn: 0.0034674\ttotal: 4m 34s\tremaining: 37.4s\n",
            "4450:\tlearn: 0.0034167\ttotal: 4m 38s\tremaining: 34.3s\n",
            "4500:\tlearn: 0.0033643\ttotal: 4m 41s\tremaining: 31.2s\n",
            "4550:\tlearn: 0.0033184\ttotal: 4m 44s\tremaining: 28s\n",
            "4600:\tlearn: 0.0032765\ttotal: 4m 47s\tremaining: 24.9s\n",
            "4650:\tlearn: 0.0032297\ttotal: 4m 50s\tremaining: 21.8s\n",
            "4700:\tlearn: 0.0031876\ttotal: 4m 53s\tremaining: 18.7s\n",
            "4750:\tlearn: 0.0031484\ttotal: 4m 56s\tremaining: 15.5s\n",
            "4800:\tlearn: 0.0031066\ttotal: 4m 59s\tremaining: 12.4s\n",
            "4850:\tlearn: 0.0030661\ttotal: 5m 2s\tremaining: 9.29s\n",
            "4900:\tlearn: 0.0030210\ttotal: 5m 5s\tremaining: 6.17s\n",
            "4950:\tlearn: 0.0029787\ttotal: 5m 8s\tremaining: 3.06s\n",
            "4999:\tlearn: 0.0029402\ttotal: 5m 11s\tremaining: 0us\n",
            "catboost : \n",
            " ([32.272762094906575, 32.15417613135484, 33.93224147650265, 31.986980900981475, 33.32455342048801], 32.73414280484671, [array([ 6290043.93526575, 29402969.53367602, 32926539.71386974, ...,\n",
            "       14264743.34254685,  8851290.73927065, 46699916.92588408]), array([10951225.51592244,  6989208.44258068,  5854047.02431315, ...,\n",
            "        3563990.90116965,  3632514.0359788 ,  5823308.2196759 ]), array([33074071.75563342, 25190362.58083501,  5545526.93234963, ...,\n",
            "       13089675.70190304, 45946634.66930908, 25528744.7807695 ]), array([ 4434042.71797123, 70368514.89259212, 35473711.59465046, ...,\n",
            "       60438371.58855727, 26271444.44442398, 47677470.24972753]), array([36876399.22700718,  2284350.08139043, 57583601.67528193, ...,\n",
            "       42864717.12698902,  5794488.94121089, 70412113.7278372 ])], [array([ 9007313.87254587, 15848130.54839912, 21839703.14313637, ...,\n",
            "       31638458.64069909, 12983281.27311066, 12192008.28896135]), array([10915259.05224421, 15980102.70439918, 20507353.15392779, ...,\n",
            "       34024499.07645606, 10911906.91933795, 13828301.96336132]), array([ 8897535.25857009, 18183016.74679263, 20952194.64459414, ...,\n",
            "       30333696.83286123, 10857459.10918223, 12116754.89560045]), array([ 8494227.99853498, 15563447.08641119, 22691620.2890765 , ...,\n",
            "       30096050.48378257, 10392159.5960971 , 12761798.47947676]), array([11637483.34992866, 16560754.51598509, 22106319.49679382, ...,\n",
            "       35232550.10517191,  6720442.34424797, 14290569.80262828])])\n"
          ],
          "name": "stdout"
        }
      ]
    },
    {
      "cell_type": "markdown",
      "metadata": {
        "id": "2FV59QOJ_tac",
        "colab_type": "text"
      },
      "source": [
        "평균 mape 32.73414280484671  \n",
        "arraty 5개씩 * 2 개 잘나옴"
      ]
    },
    {
      "cell_type": "markdown",
      "metadata": {
        "id": "cK0_fBZkxBru",
        "colab_type": "text"
      },
      "source": [
        "### Class\n",
        "클래스 돌아가는지 체그 안해봄\n",
        "- lgbm -> MAPE_Stacking.train(lgb, X, y)\n",
        "- 그 외 모델 -> MAPE_Stacking.fit(model, X, y)"
      ]
    },
    {
      "cell_type": "code",
      "metadata": {
        "id": "9Pc1KYuvxH0w",
        "colab_type": "code",
        "colab": {}
      },
      "source": [
        "class MAPE_Stacking():\n",
        "    # setting\n",
        "    mape = []\n",
        "    pred_list = []     # X_val_ 으로 예측\n",
        "    test_list = []     # X_test 으로 예측\n",
        "    \n",
        "    def __init__(self, model, X, y):\n",
        "        self.model = model\n",
        "        self.X = X\n",
        "        self.y = y\n",
        "        # 할당\n",
        "        X_train, X_test, y_train, y_test = train_test_split(X,y,test_size=0.2, random_state=77)\n",
        "\n",
        "    def MAPE(y_true, y_pred):\n",
        "        y_true, y_pred = np.array(y_true), np.array(y_pred)\n",
        "        return np.mean(np.abs((np.exp(y_true) - np.exp(y_pred)) / np.exp(y_true))) * 100\n",
        "\n",
        "    # xgboost / lgbm 용 (python)\n",
        "    def train(model, X, y):\n",
        "        self.X = X_train\n",
        "        self.y = y_train \n",
        "        # for 문 돌리기\n",
        "        cv=KFold(n_splits=5,random_state=77,shuffle=True)\n",
        "        for t,v in cv.split(X_train):\n",
        "            X_train_ = X_train.iloc[t]       # 훈련용\n",
        "            X_val_ = X_train.iloc[v]         # 검증용 분리.\n",
        "            y_train_ = y_train.iloc[t]\n",
        "            y_val_ = y_train.iloc[v]\n",
        "\n",
        "            # dataset\n",
        "            train_ds = model.Dataset(X_train_, label=y_train_)\n",
        "            val_ds = model.Dataset(X_val_, label=y_val_)\n",
        "            params={\n",
        "                'learning_rate':0.01,\n",
        "                'max_depth':16,\n",
        "                'boosting':'dart',\n",
        "                'objective':'regression',\n",
        "                'metric':'mape',\n",
        "                'is_training_metric':True,\n",
        "                'num_leaves':144,\n",
        "                'feature_fraction':0.9,\n",
        "                'bagging_fraction':0.7,\n",
        "                'bagging_freq':5,\n",
        "                'seed':77\n",
        "            }\n",
        "\n",
        "            lgbm_model = model.train(params,train_ds,5000,val_ds,verbose_eval=1000)\n",
        "            y_pred = lgbm_model.predict(X_val_)\n",
        "            pred_list.append(np.exp(y_pred))\n",
        "            \n",
        "            test_pred = lgbm.model.predict(X_test)\n",
        "            test_list.append(np.exp(test_pred))\n",
        "            \n",
        "            # mape\n",
        "            mape.append(MAPE_exp(y_val_, y_pred))\n",
        "    \n",
        "        return mape, np.mean(mape), pred_list, test_list \n",
        "\n",
        "    # 그 외 다른 모델용\n",
        "    def fit(model, X, y):\n",
        "        self.X = X_train\n",
        "        self.y = y_train \n",
        "        # for 문 돌리기\n",
        "        cv=KFold(n_splits=5,random_state=77,shuffle=True)\n",
        "        for t,v in cv.split(X_train):\n",
        "            X_train_ = X_train.iloc[t]       # 훈련용\n",
        "            X_val_ = X_train.iloc[v]         # 검증용 분리.\n",
        "            y_train_ = y_train.iloc[t]\n",
        "            y_val_ = y_train.iloc[v]\n",
        "\n",
        "            # model\n",
        "            model.fit(X_train_,y_train_)\n",
        "            y_pred = model.predict(X_val_)\n",
        "            pred_list.append(np.exp(y_pred))\n",
        "            \n",
        "            test_pred = model.predict(X_test)\n",
        "            test_list.append(np.exp(test_pred))\n",
        "            # mape\n",
        "            mape.append(MAPE_exp(y_val_, y_pred))\n",
        "        return mape, np.mean(mape), pred_list, test_list \n"
      ],
      "execution_count": null,
      "outputs": []
    },
    {
      "cell_type": "code",
      "metadata": {
        "id": "qLKSRUwjCVqR",
        "colab_type": "code",
        "colab": {}
      },
      "source": [
        ""
      ],
      "execution_count": null,
      "outputs": []
    }
  ]
}