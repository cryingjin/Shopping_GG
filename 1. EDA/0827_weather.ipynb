{
 "cells": [
  {
   "cell_type": "code",
   "execution_count": 116,
   "metadata": {
    "Collapsed": "false"
   },
   "outputs": [],
   "source": [
    "import os\n",
    "import numpy as np\n",
    "import pandas as pd\n",
    "from tqdm import tqdm"
   ]
  },
  {
   "cell_type": "markdown",
   "metadata": {
    "Collapsed": "false"
   },
   "source": [
    "# 기상청 - 날씨 데이터"
   ]
  },
  {
   "cell_type": "code",
   "execution_count": 46,
   "metadata": {
    "Collapsed": "false"
   },
   "outputs": [
    {
     "name": "stderr",
     "output_type": "stream",
     "text": [
      "/Users/jinseok/opt/anaconda3/lib/python3.7/site-packages/IPython/core/interactiveshell.py:3063: DtypeWarning: Columns (26) have mixed types.Specify dtype option on import or set low_memory=False.\n",
      "  interactivity=interactivity, compiler=compiler, result=result)\n"
     ]
    }
   ],
   "source": [
    "w = pd.read_csv(os.path.join('..', '..', '0.Data', '03_외부데이터', '2019_weather.csv'), encoding = 'cp949')"
   ]
  },
  {
   "cell_type": "code",
   "execution_count": 47,
   "metadata": {
    "Collapsed": "false"
   },
   "outputs": [
    {
     "data": {
      "text/plain": [
       "(122640, 37)"
      ]
     },
     "execution_count": 47,
     "metadata": {},
     "output_type": "execute_result"
    }
   ],
   "source": [
    "w.shape"
   ]
  },
  {
   "cell_type": "code",
   "execution_count": 48,
   "metadata": {
    "Collapsed": "false"
   },
   "outputs": [
    {
     "data": {
      "text/plain": [
       "수원     8760\n",
       "동두천    8760\n",
       "광주     8760\n",
       "서울     8760\n",
       "대구     8760\n",
       "대전     8760\n",
       "백령도    8760\n",
       "강화     8760\n",
       "부산     8760\n",
       "이천     8760\n",
       "양평     8760\n",
       "인천     8760\n",
       "울산     8760\n",
       "파주     8760\n",
       "Name: 지점명, dtype: int64"
      ]
     },
     "execution_count": 48,
     "metadata": {},
     "output_type": "execute_result"
    }
   ],
   "source": [
    "w['지점명'].value_counts()"
   ]
  },
  {
   "cell_type": "code",
   "execution_count": 49,
   "metadata": {
    "Collapsed": "false"
   },
   "outputs": [],
   "source": [
    "dic = {\n",
    "    '서울' : '서울',\n",
    "    '부산' : '부산',\n",
    "    '대구' : '대구',\n",
    "    '인천' : ['강화', '인천', '백령도'],\n",
    "    '광주' : '광주',\n",
    "    '대전' : '대전',\n",
    "    '울산' : '울산',\n",
    "    '경기' : ['동두천', '이천', '양평', '수원', '파주']\n",
    "}"
   ]
  },
  {
   "cell_type": "code",
   "execution_count": 50,
   "metadata": {
    "Collapsed": "false"
   },
   "outputs": [],
   "source": [
    "w.loc[w['지점명'].isin(dic['경기']), '지점명'] = '경기_' + w.loc[w['지점명'].isin(dic['경기']), '지점명']\n",
    "w.loc[w['지점명'].isin(dic['인천']), '지점명'] = '인천_' + w.loc[w['지점명'].isin(dic['인천']), '지점명']"
   ]
  },
  {
   "cell_type": "code",
   "execution_count": 51,
   "metadata": {
    "Collapsed": "false"
   },
   "outputs": [
    {
     "data": {
      "text/plain": [
       "경기    43800\n",
       "인천    26280\n",
       "광주     8760\n",
       "서울     8760\n",
       "대구     8760\n",
       "대전     8760\n",
       "부산     8760\n",
       "울산     8760\n",
       "Name: 지점명, dtype: int64"
      ]
     },
     "execution_count": 51,
     "metadata": {},
     "output_type": "execute_result"
    }
   ],
   "source": [
    "w['지점명'].apply(lambda x : x[:2]).value_counts()"
   ]
  },
  {
   "cell_type": "code",
   "execution_count": 52,
   "metadata": {
    "Collapsed": "false"
   },
   "outputs": [],
   "source": [
    "# 결측치 파악하기"
   ]
  },
  {
   "cell_type": "code",
   "execution_count": 53,
   "metadata": {
    "Collapsed": "false"
   },
   "outputs": [
    {
     "data": {
      "text/plain": [
       "지면상태(지면상태코드)     1.000000\n",
       "풍속 QC플래그         0.999609\n",
       "풍향 QC플래그         0.999609\n",
       "3시간신적설(cm)       0.999527\n",
       "적설(cm)           0.995336\n",
       "현지기압 QC플래그       0.962712\n",
       "해면기압 QC플래그       0.962688\n",
       "습도 QC플래그         0.962141\n",
       "기온 QC플래그         0.961619\n",
       "지면온도 QC플래그       0.957200\n",
       "강수량(mm)          0.917694\n",
       "강수량 QC플래그        0.846632\n",
       "현상번호(국내식)        0.793436\n",
       "30cm 지중온도(°C)    0.714310\n",
       "20cm 지중온도(°C)    0.714269\n",
       "10cm 지중온도(°C)    0.714269\n",
       "5cm 지중온도(°C)     0.714269\n",
       "일사(MJ/m2)        0.687622\n",
       "운형(운형약어)         0.638120\n",
       "일조 QC플래그         0.547285\n",
       "최저운고(100m )      0.534418\n",
       "일조(hr)           0.453563\n",
       "중하층운량(10분위)      0.014995\n",
       "시정(10m)          0.005202\n",
       "전운량(10분위)        0.004672\n",
       "지면온도(°C)         0.001305\n",
       "습도(%)            0.001223\n",
       "풍향(16방위)         0.001215\n",
       "풍속(m/s)          0.001215\n",
       "이슬점온도(°C)        0.001093\n",
       "증기압(hPa)         0.001084\n",
       "해면기압(hPa)        0.000685\n",
       "현지기압(hPa)        0.000660\n",
       "기온(°C)           0.000660\n",
       "일시               0.000000\n",
       "지점명              0.000000\n",
       "지점               0.000000\n",
       "dtype: float64"
      ]
     },
     "execution_count": 53,
     "metadata": {},
     "output_type": "execute_result"
    }
   ],
   "source": [
    "# 강수량 제외 50% 이상 결측지 칼럼 제외\n",
    "(w.isnull().sum() / w.shape[0]).sort_values(ascending = False)"
   ]
  },
  {
   "cell_type": "code",
   "execution_count": 54,
   "metadata": {
    "Collapsed": "false"
   },
   "outputs": [],
   "source": [
    "drop_columns = list((w.isnull().sum() / w.shape[0]).sort_values(ascending = False).index[:19])"
   ]
  },
  {
   "cell_type": "code",
   "execution_count": 55,
   "metadata": {
    "Collapsed": "false"
   },
   "outputs": [],
   "source": [
    "drop_columns.remove('강수량(mm)')"
   ]
  },
  {
   "cell_type": "code",
   "execution_count": 56,
   "metadata": {
    "Collapsed": "false"
   },
   "outputs": [],
   "source": [
    "w = w.drop(drop_columns, axis = 1)"
   ]
  },
  {
   "cell_type": "code",
   "execution_count": 57,
   "metadata": {
    "Collapsed": "false"
   },
   "outputs": [
    {
     "data": {
      "text/plain": [
       "경기_이천     8760\n",
       "광주        8760\n",
       "경기_동두천    8760\n",
       "서울        8760\n",
       "대구        8760\n",
       "대전        8760\n",
       "경기_양평     8760\n",
       "인천_강화     8760\n",
       "인천_인천     8760\n",
       "인천_백령도    8760\n",
       "경기_파주     8760\n",
       "부산        8760\n",
       "경기_수원     8760\n",
       "울산        8760\n",
       "Name: 지점명, dtype: int64"
      ]
     },
     "execution_count": 57,
     "metadata": {},
     "output_type": "execute_result"
    }
   ],
   "source": [
    "w['지점명'].value_counts()"
   ]
  },
  {
   "cell_type": "code",
   "execution_count": 58,
   "metadata": {
    "Collapsed": "false"
   },
   "outputs": [],
   "source": [
    "# 인천-백령도 삭제\n",
    "w = w.loc[w['지점명'] != '인천_백령도']"
   ]
  },
  {
   "cell_type": "markdown",
   "metadata": {
    "Collapsed": "false"
   },
   "source": [
    "1. 강수량\n",
    "2. 기온\n",
    "3. 습도\n",
    "4. 풍속\n",
    "5. 체감온도(식으로 계산)\n",
    "6. 시정\n",
    "7. 지면온도\n",
    "8. 미세먼지 전체"
   ]
  },
  {
   "cell_type": "code",
   "execution_count": 63,
   "metadata": {
    "Collapsed": "false"
   },
   "outputs": [],
   "source": [
    "w = w.drop(['지점', '풍향(16방위)', '증기압(hPa)', '이슬점온도(°C)', '현지기압(hPa)', '해면기압(hPa)', '일조(hr)', '일조 QC플래그', '전운량(10분위)', '중하층운량(10분위)', '최저운고(100m )'], axis = 1)"
   ]
  },
  {
   "cell_type": "code",
   "execution_count": 64,
   "metadata": {
    "Collapsed": "false"
   },
   "outputs": [],
   "source": [
    "# 체감온도 : 13.12 + 0.6215T - 11.37V^0.16 + 0.3965V^0.16T\n",
    "# T : 기온((°C))\n",
    "# V : 풍속(km/h)"
   ]
  },
  {
   "cell_type": "code",
   "execution_count": 74,
   "metadata": {
    "Collapsed": "false"
   },
   "outputs": [],
   "source": [
    "w['체감온도'] = w.apply(lambda x: 13.12 + 0.6215 * x['기온(°C)'] - 11.37 * (x['풍속(m/s)'] * 3.6)**0.16 + 0.3965 * (x['풍속(m/s)'] * 3.6)**0.16 * x['기온(°C)'], axis = 1)"
   ]
  },
  {
   "cell_type": "code",
   "execution_count": 81,
   "metadata": {
    "Collapsed": "false"
   },
   "outputs": [],
   "source": [
    "w.to_csv(os.path.join('..', '..', '0.Data', '03_외부데이터', '전처리', 'prep_2019_weather.csv'), encoding = 'cp949', index = False)"
   ]
  },
  {
   "cell_type": "markdown",
   "metadata": {
    "Collapsed": "false"
   },
   "source": [
    "# 에어코리아 - 미세먼지 데이터"
   ]
  },
  {
   "cell_type": "code",
   "execution_count": 118,
   "metadata": {
    "Collapsed": "false"
   },
   "outputs": [
    {
     "name": "stderr",
     "output_type": "stream",
     "text": [
      "100%|██████████| 12/12 [07:41<00:00, 38.47s/it]\n"
     ]
    }
   ],
   "source": [
    "dust = pd.DataFrame()\n",
    "for i in tqdm(range(1, 13)):\n",
    "    temp = pd.read_excel(os.path.join('..', '..', '0.Data', '03_외부데이터', '2019_dust', '2019년 {}월.xlsx'.format(i)))\n",
    "    dust = pd.concat([dust, temp], axis = 0)"
   ]
  },
  {
   "cell_type": "code",
   "execution_count": 119,
   "metadata": {
    "Collapsed": "false"
   },
   "outputs": [
    {
     "data": {
      "text/plain": [
       "(3957129, 12)"
      ]
     },
     "execution_count": 119,
     "metadata": {},
     "output_type": "execute_result"
    }
   ],
   "source": [
    "dust.shape"
   ]
  },
  {
   "cell_type": "code",
   "execution_count": 120,
   "metadata": {
    "Collapsed": "false"
   },
   "outputs": [
    {
     "name": "stdout",
     "output_type": "stream",
     "text": [
      "<class 'pandas.core.frame.DataFrame'>\n",
      "Int64Index: 3957129 entries, 0 to 357832\n",
      "Data columns (total 12 columns):\n",
      " #   Column  Dtype  \n",
      "---  ------  -----  \n",
      " 0   지역      object \n",
      " 1   망       object \n",
      " 2   측정소코드   int64  \n",
      " 3   측정소명    object \n",
      " 4   측정일시    int64  \n",
      " 5   SO2     float64\n",
      " 6   CO      float64\n",
      " 7   O3      float64\n",
      " 8   NO2     float64\n",
      " 9   PM10    float64\n",
      " 10  PM25    float64\n",
      " 11  주소      object \n",
      "dtypes: float64(6), int64(2), object(4)\n",
      "memory usage: 392.5+ MB\n"
     ]
    }
   ],
   "source": [
    "dust.info()"
   ]
  },
  {
   "cell_type": "code",
   "execution_count": 28,
   "metadata": {
    "Collapsed": "false"
   },
   "outputs": [
    {
     "data": {
      "text/html": [
       "<div>\n",
       "<style scoped>\n",
       "    .dataframe tbody tr th:only-of-type {\n",
       "        vertical-align: middle;\n",
       "    }\n",
       "\n",
       "    .dataframe tbody tr th {\n",
       "        vertical-align: top;\n",
       "    }\n",
       "\n",
       "    .dataframe thead th {\n",
       "        text-align: right;\n",
       "    }\n",
       "</style>\n",
       "<table border=\"1\" class=\"dataframe\">\n",
       "  <thead>\n",
       "    <tr style=\"text-align: right;\">\n",
       "      <th></th>\n",
       "      <th>지역</th>\n",
       "      <th>망</th>\n",
       "      <th>측정소코드</th>\n",
       "      <th>측정소명</th>\n",
       "      <th>측정일시</th>\n",
       "      <th>SO2</th>\n",
       "      <th>CO</th>\n",
       "      <th>O3</th>\n",
       "      <th>NO2</th>\n",
       "      <th>PM10</th>\n",
       "      <th>PM25</th>\n",
       "      <th>주소</th>\n",
       "    </tr>\n",
       "  </thead>\n",
       "  <tbody>\n",
       "    <tr>\n",
       "      <th>0</th>\n",
       "      <td>서울 중구</td>\n",
       "      <td>도시대기</td>\n",
       "      <td>111121</td>\n",
       "      <td>중구</td>\n",
       "      <td>2019010101</td>\n",
       "      <td>0.003</td>\n",
       "      <td>0.7</td>\n",
       "      <td>0.003</td>\n",
       "      <td>0.054</td>\n",
       "      <td>39.0</td>\n",
       "      <td>24.0</td>\n",
       "      <td>서울 중구 덕수궁길 15</td>\n",
       "    </tr>\n",
       "    <tr>\n",
       "      <th>1</th>\n",
       "      <td>서울 중구</td>\n",
       "      <td>도시대기</td>\n",
       "      <td>111121</td>\n",
       "      <td>중구</td>\n",
       "      <td>2019010102</td>\n",
       "      <td>0.003</td>\n",
       "      <td>0.8</td>\n",
       "      <td>0.002</td>\n",
       "      <td>0.056</td>\n",
       "      <td>38.0</td>\n",
       "      <td>27.0</td>\n",
       "      <td>서울 중구 덕수궁길 15</td>\n",
       "    </tr>\n",
       "    <tr>\n",
       "      <th>2</th>\n",
       "      <td>서울 중구</td>\n",
       "      <td>도시대기</td>\n",
       "      <td>111121</td>\n",
       "      <td>중구</td>\n",
       "      <td>2019010103</td>\n",
       "      <td>0.003</td>\n",
       "      <td>0.9</td>\n",
       "      <td>0.002</td>\n",
       "      <td>0.057</td>\n",
       "      <td>42.0</td>\n",
       "      <td>28.0</td>\n",
       "      <td>서울 중구 덕수궁길 15</td>\n",
       "    </tr>\n",
       "    <tr>\n",
       "      <th>3</th>\n",
       "      <td>서울 중구</td>\n",
       "      <td>도시대기</td>\n",
       "      <td>111121</td>\n",
       "      <td>중구</td>\n",
       "      <td>2019010104</td>\n",
       "      <td>0.003</td>\n",
       "      <td>0.8</td>\n",
       "      <td>0.002</td>\n",
       "      <td>0.054</td>\n",
       "      <td>42.0</td>\n",
       "      <td>31.0</td>\n",
       "      <td>서울 중구 덕수궁길 15</td>\n",
       "    </tr>\n",
       "    <tr>\n",
       "      <th>4</th>\n",
       "      <td>서울 중구</td>\n",
       "      <td>도시대기</td>\n",
       "      <td>111121</td>\n",
       "      <td>중구</td>\n",
       "      <td>2019010105</td>\n",
       "      <td>0.003</td>\n",
       "      <td>0.8</td>\n",
       "      <td>0.002</td>\n",
       "      <td>0.048</td>\n",
       "      <td>49.0</td>\n",
       "      <td>33.0</td>\n",
       "      <td>서울 중구 덕수궁길 15</td>\n",
       "    </tr>\n",
       "  </tbody>\n",
       "</table>\n",
       "</div>"
      ],
      "text/plain": [
       "      지역     망   측정소코드 측정소명        측정일시    SO2   CO     O3    NO2  PM10  PM25  \\\n",
       "0  서울 중구  도시대기  111121   중구  2019010101  0.003  0.7  0.003  0.054  39.0  24.0   \n",
       "1  서울 중구  도시대기  111121   중구  2019010102  0.003  0.8  0.002  0.056  38.0  27.0   \n",
       "2  서울 중구  도시대기  111121   중구  2019010103  0.003  0.9  0.002  0.057  42.0  28.0   \n",
       "3  서울 중구  도시대기  111121   중구  2019010104  0.003  0.8  0.002  0.054  42.0  31.0   \n",
       "4  서울 중구  도시대기  111121   중구  2019010105  0.003  0.8  0.002  0.048  49.0  33.0   \n",
       "\n",
       "              주소  \n",
       "0  서울 중구 덕수궁길 15  \n",
       "1  서울 중구 덕수궁길 15  \n",
       "2  서울 중구 덕수궁길 15  \n",
       "3  서울 중구 덕수궁길 15  \n",
       "4  서울 중구 덕수궁길 15  "
      ]
     },
     "execution_count": 28,
     "metadata": {},
     "output_type": "execute_result"
    }
   ],
   "source": [
    "dust.head()"
   ]
  },
  {
   "cell_type": "code",
   "execution_count": 61,
   "metadata": {
    "Collapsed": "false"
   },
   "outputs": [],
   "source": [
    "dust = dust.loc[dust['지역'].str.contains('서울|경기|인천|부산|울산|대구|대전|광주')]"
   ]
  },
  {
   "attachments": {
    "image.png": {
     "image/png": "[encoded data removed]"
    }
   },
   "cell_type": "markdown",
   "metadata": {
    "Collapsed": "false"
   },
   "source": [
    "![image.png](attachment:image.png)"
   ]
  },
  {
   "cell_type": "code",
   "execution_count": 69,
   "metadata": {
    "Collapsed": "false"
   },
   "outputs": [
    {
     "name": "stderr",
     "output_type": "stream",
     "text": [
      "/Users/jinseok/opt/anaconda3/lib/python3.7/site-packages/ipykernel_launcher.py:1: SettingWithCopyWarning: \n",
      "A value is trying to be set on a copy of a slice from a DataFrame.\n",
      "Try using .loc[row_indexer,col_indexer] = value instead\n",
      "\n",
      "See the caveats in the documentation: https://pandas.pydata.org/pandas-docs/stable/user_guide/indexing.html#returning-a-view-versus-a-copy\n",
      "  \"\"\"Entry point for launching an IPython kernel.\n"
     ]
    }
   ],
   "source": [
    "dust['상위지역'] = dust['지역'].apply(lambda x : x[:2])"
   ]
  },
  {
   "cell_type": "code",
   "execution_count": 89,
   "metadata": {
    "Collapsed": "false"
   },
   "outputs": [],
   "source": [
    "prep_dust = dust.groupby(['상위지역', '측정일시']).agg({\n",
    "    'PM10' : [('최고PM10', np.max), ('최저PM10', np.min), ('평균PM10', np.mean)],\n",
    "    'PM25' : [('최고PM25', np.max), ('최저PM25', np.min), ('평균PM25', np.mean)]\n",
    "}).reset_index()"
   ]
  },
  {
   "cell_type": "code",
   "execution_count": 90,
   "metadata": {
    "Collapsed": "false"
   },
   "outputs": [
    {
     "data": {
      "text/html": [
       "<div>\n",
       "<style scoped>\n",
       "    .dataframe tbody tr th:only-of-type {\n",
       "        vertical-align: middle;\n",
       "    }\n",
       "\n",
       "    .dataframe tbody tr th {\n",
       "        vertical-align: top;\n",
       "    }\n",
       "\n",
       "    .dataframe thead tr th {\n",
       "        text-align: left;\n",
       "    }\n",
       "</style>\n",
       "<table border=\"1\" class=\"dataframe\">\n",
       "  <thead>\n",
       "    <tr>\n",
       "      <th></th>\n",
       "      <th>상위지역</th>\n",
       "      <th>측정일시</th>\n",
       "      <th colspan=\"3\" halign=\"left\">PM10</th>\n",
       "      <th colspan=\"3\" halign=\"left\">PM25</th>\n",
       "    </tr>\n",
       "    <tr>\n",
       "      <th></th>\n",
       "      <th></th>\n",
       "      <th></th>\n",
       "      <th>최고PM10</th>\n",
       "      <th>최저PM10</th>\n",
       "      <th>평균PM10</th>\n",
       "      <th>최고PM25</th>\n",
       "      <th>최저PM25</th>\n",
       "      <th>평균PM25</th>\n",
       "    </tr>\n",
       "  </thead>\n",
       "  <tbody>\n",
       "    <tr>\n",
       "      <th>0</th>\n",
       "      <td>경기</td>\n",
       "      <td>2019010101</td>\n",
       "      <td>84.0</td>\n",
       "      <td>25.0</td>\n",
       "      <td>43.238636</td>\n",
       "      <td>54.0</td>\n",
       "      <td>14.0</td>\n",
       "      <td>27.411111</td>\n",
       "    </tr>\n",
       "    <tr>\n",
       "      <th>1</th>\n",
       "      <td>경기</td>\n",
       "      <td>2019010102</td>\n",
       "      <td>80.0</td>\n",
       "      <td>21.0</td>\n",
       "      <td>44.550562</td>\n",
       "      <td>49.0</td>\n",
       "      <td>12.0</td>\n",
       "      <td>28.977778</td>\n",
       "    </tr>\n",
       "    <tr>\n",
       "      <th>2</th>\n",
       "      <td>경기</td>\n",
       "      <td>2019010103</td>\n",
       "      <td>74.0</td>\n",
       "      <td>24.0</td>\n",
       "      <td>45.168539</td>\n",
       "      <td>51.0</td>\n",
       "      <td>11.0</td>\n",
       "      <td>30.166667</td>\n",
       "    </tr>\n",
       "    <tr>\n",
       "      <th>3</th>\n",
       "      <td>경기</td>\n",
       "      <td>2019010104</td>\n",
       "      <td>79.0</td>\n",
       "      <td>21.0</td>\n",
       "      <td>44.910112</td>\n",
       "      <td>50.0</td>\n",
       "      <td>11.0</td>\n",
       "      <td>31.044444</td>\n",
       "    </tr>\n",
       "    <tr>\n",
       "      <th>4</th>\n",
       "      <td>경기</td>\n",
       "      <td>2019010105</td>\n",
       "      <td>76.0</td>\n",
       "      <td>25.0</td>\n",
       "      <td>44.404494</td>\n",
       "      <td>54.0</td>\n",
       "      <td>15.0</td>\n",
       "      <td>30.477778</td>\n",
       "    </tr>\n",
       "    <tr>\n",
       "      <th>...</th>\n",
       "      <td>...</td>\n",
       "      <td>...</td>\n",
       "      <td>...</td>\n",
       "      <td>...</td>\n",
       "      <td>...</td>\n",
       "      <td>...</td>\n",
       "      <td>...</td>\n",
       "      <td>...</td>\n",
       "    </tr>\n",
       "    <tr>\n",
       "      <th>70075</th>\n",
       "      <td>인천</td>\n",
       "      <td>2019123120</td>\n",
       "      <td>33.0</td>\n",
       "      <td>9.0</td>\n",
       "      <td>19.000000</td>\n",
       "      <td>22.0</td>\n",
       "      <td>5.0</td>\n",
       "      <td>10.481481</td>\n",
       "    </tr>\n",
       "    <tr>\n",
       "      <th>70076</th>\n",
       "      <td>인천</td>\n",
       "      <td>2019123121</td>\n",
       "      <td>36.0</td>\n",
       "      <td>8.0</td>\n",
       "      <td>19.035714</td>\n",
       "      <td>20.0</td>\n",
       "      <td>5.0</td>\n",
       "      <td>11.370370</td>\n",
       "    </tr>\n",
       "    <tr>\n",
       "      <th>70077</th>\n",
       "      <td>인천</td>\n",
       "      <td>2019123122</td>\n",
       "      <td>37.0</td>\n",
       "      <td>10.0</td>\n",
       "      <td>20.928571</td>\n",
       "      <td>21.0</td>\n",
       "      <td>7.0</td>\n",
       "      <td>12.629630</td>\n",
       "    </tr>\n",
       "    <tr>\n",
       "      <th>70078</th>\n",
       "      <td>인천</td>\n",
       "      <td>2019123123</td>\n",
       "      <td>34.0</td>\n",
       "      <td>9.0</td>\n",
       "      <td>22.107143</td>\n",
       "      <td>24.0</td>\n",
       "      <td>7.0</td>\n",
       "      <td>13.370370</td>\n",
       "    </tr>\n",
       "    <tr>\n",
       "      <th>70079</th>\n",
       "      <td>인천</td>\n",
       "      <td>2019123124</td>\n",
       "      <td>37.0</td>\n",
       "      <td>10.0</td>\n",
       "      <td>22.892857</td>\n",
       "      <td>27.0</td>\n",
       "      <td>8.0</td>\n",
       "      <td>14.148148</td>\n",
       "    </tr>\n",
       "  </tbody>\n",
       "</table>\n",
       "<p>70080 rows × 8 columns</p>\n",
       "</div>"
      ],
      "text/plain": [
       "      상위지역        측정일시   PM10                     PM25                  \n",
       "                       최고PM10 최저PM10     평균PM10 최고PM25 최저PM25     평균PM25\n",
       "0       경기  2019010101   84.0   25.0  43.238636   54.0   14.0  27.411111\n",
       "1       경기  2019010102   80.0   21.0  44.550562   49.0   12.0  28.977778\n",
       "2       경기  2019010103   74.0   24.0  45.168539   51.0   11.0  30.166667\n",
       "3       경기  2019010104   79.0   21.0  44.910112   50.0   11.0  31.044444\n",
       "4       경기  2019010105   76.0   25.0  44.404494   54.0   15.0  30.477778\n",
       "...    ...         ...    ...    ...        ...    ...    ...        ...\n",
       "70075   인천  2019123120   33.0    9.0  19.000000   22.0    5.0  10.481481\n",
       "70076   인천  2019123121   36.0    8.0  19.035714   20.0    5.0  11.370370\n",
       "70077   인천  2019123122   37.0   10.0  20.928571   21.0    7.0  12.629630\n",
       "70078   인천  2019123123   34.0    9.0  22.107143   24.0    7.0  13.370370\n",
       "70079   인천  2019123124   37.0   10.0  22.892857   27.0    8.0  14.148148\n",
       "\n",
       "[70080 rows x 8 columns]"
      ]
     },
     "execution_count": 90,
     "metadata": {},
     "output_type": "execute_result"
    }
   ],
   "source": [
    "prep_dust"
   ]
  },
  {
   "cell_type": "code",
   "execution_count": 91,
   "metadata": {
    "Collapsed": "false"
   },
   "outputs": [],
   "source": [
    "prep_dust.columns = ['상위지역', '측정일시', '최고PM10', '최저PM10', '평균PM10', '최고PM25', '최저PM25', '평균PM25']"
   ]
  },
  {
   "cell_type": "code",
   "execution_count": 92,
   "metadata": {
    "Collapsed": "false"
   },
   "outputs": [
    {
     "data": {
      "text/plain": [
       "인천    8760\n",
       "울산    8760\n",
       "대구    8760\n",
       "경기    8760\n",
       "부산    8760\n",
       "대전    8760\n",
       "서울    8760\n",
       "광주    8760\n",
       "Name: 상위지역, dtype: int64"
      ]
     },
     "execution_count": 92,
     "metadata": {},
     "output_type": "execute_result"
    }
   ],
   "source": [
    "prep_dust['상위지역'].value_counts()"
   ]
  },
  {
   "cell_type": "code",
   "execution_count": null,
   "metadata": {
    "Collapsed": "false"
   },
   "outputs": [],
   "source": [
    "# dust['PM10']dust['PM10'].apply(lambda x : '좋음' if x < 31 else ('보통' if 30 < x < 81 else ('나쁨' if 80 < x < 151 else '매우나쁨'))).value_counts()"
   ]
  },
  {
   "cell_type": "code",
   "execution_count": 133,
   "metadata": {
    "Collapsed": "false"
   },
   "outputs": [],
   "source": [
    "prep_dust['측정일시'] = prep_dust['측정일시'].astype(str).apply(lambda x : x[:8] + '00' if x[8:] == '24' else x)"
   ]
  },
  {
   "cell_type": "code",
   "execution_count": 135,
   "metadata": {
    "Collapsed": "false"
   },
   "outputs": [],
   "source": [
    "prep_dust['측정일시'] = pd.to_datetime(prep_dust['측정일시'].astype(str).apply(lambda x : '-'.join((x[:4], x[4:6], x[6:8])) + ' '+ x[8:] + ':00:00'))"
   ]
  },
  {
   "cell_type": "code",
   "execution_count": 145,
   "metadata": {
    "Collapsed": "false"
   },
   "outputs": [],
   "source": [
    "from datetime import timedelta"
   ]
  },
  {
   "cell_type": "code",
   "execution_count": 148,
   "metadata": {
    "Collapsed": "false"
   },
   "outputs": [],
   "source": [
    "prep_dust.loc[prep_dust['측정일시'].dt.hour == 0, '측정일시'] = prep_dust.loc[prep_dust['측정일시'].dt.hour == 0, '측정일시'] + timedelta(days = 1)"
   ]
  },
  {
   "cell_type": "code",
   "execution_count": 152,
   "metadata": {
    "Collapsed": "false"
   },
   "outputs": [],
   "source": [
    "prep_dust.to_csv(os.path.join('..', '0.Data', '03_외부데이터', '전처리', 'prep_2019_dust.csv'), encoding = 'cp949', index = False)"
   ]
  },
  {
   "cell_type": "markdown",
   "metadata": {
    "Collapsed": "false"
   },
   "source": [
    "# 날짜별 지역별 피벗테이블 생성"
   ]
  },
  {
   "cell_type": "code",
   "execution_count": 35,
   "metadata": {
    "Collapsed": "false"
   },
   "outputs": [],
   "source": [
    "# merge를 위한 년도/월/시간 생성"
   ]
  },
  {
   "cell_type": "code",
   "execution_count": 88,
   "metadata": {
    "Collapsed": "false"
   },
   "outputs": [],
   "source": [
    "def prepColumns(df):\n",
    "    df.columns = list(map(lambda x : '_'.join(x), df.columns))\n",
    "    return df"
   ]
  },
  {
   "cell_type": "code",
   "execution_count": 89,
   "metadata": {
    "Collapsed": "false"
   },
   "outputs": [],
   "source": [
    "def makeDate(df):\n",
    "    df['월'] = df['날짜'].dt.month\n",
    "    df['일'] = df['날짜'].dt.day\n",
    "    df['시간'] = df['날짜'].dt.hour.apply(lambda x : 24 if x == 0 else x)\n",
    "    return df"
   ]
  },
  {
   "cell_type": "code",
   "execution_count": 90,
   "metadata": {
    "Collapsed": "false"
   },
   "outputs": [],
   "source": [
    "prep_w = pd.read_csv(os.path.join('..', '..', '0.Data', '03_외부데이터', '전처리', 'prep_2019_weather.csv'), encoding = 'cp949')\n",
    "prep_dust = pd.read_csv(os.path.join('..', '..', '0.Data', '03_외부데이터', '전처리', 'prep_2019_dust.csv'), encoding = 'cp949')"
   ]
  },
  {
   "cell_type": "code",
   "execution_count": 94,
   "metadata": {
    "Collapsed": "false"
   },
   "outputs": [],
   "source": [
    "# datetime 변경\n",
    "prep_w['일시'] = pd.to_datetime(prep_w['일시'])\n",
    "prep_dust['측정일시'] = pd.to_datetime(prep_dust['측정일시'])"
   ]
  },
  {
   "cell_type": "code",
   "execution_count": 95,
   "metadata": {
    "Collapsed": "false"
   },
   "outputs": [],
   "source": [
    "prep_w = prep_w.loc[prep_w['지점명'].str.contains('파주|동두천|양평|이천|강화') == False]"
   ]
  },
  {
   "cell_type": "code",
   "execution_count": 96,
   "metadata": {
    "Collapsed": "false"
   },
   "outputs": [],
   "source": [
    "pb_weather = pd.pivot_table(prep_w, index = '일시', columns = '지점명')\n",
    "pb_dust = pd.pivot_table(prep_dust, index = '측정일시', columns = '상위지역')"
   ]
  },
  {
   "cell_type": "code",
   "execution_count": 97,
   "metadata": {
    "Collapsed": "false"
   },
   "outputs": [],
   "source": [
    "pb_weather = prepColumns(pb_weather)\n",
    "pb_dust = prepColumns(pb_dust)"
   ]
  },
  {
   "cell_type": "code",
   "execution_count": 98,
   "metadata": {
    "Collapsed": "false"
   },
   "outputs": [],
   "source": [
    "pb_weather = pb_weather.reset_index().rename(columns = {'일시' : '날짜'})\n",
    "pb_dust = pb_dust.reset_index().rename(columns = {'측정일시' : '날짜'})"
   ]
  },
  {
   "cell_type": "code",
   "execution_count": 105,
   "metadata": {
    "Collapsed": "false"
   },
   "outputs": [],
   "source": [
    "pb_weather = makeDate(pb_weather)\n",
    "pb_dust = makeDate(pb_dust)"
   ]
  },
  {
   "cell_type": "code",
   "execution_count": 106,
   "metadata": {
    "Collapsed": "false"
   },
   "outputs": [],
   "source": [
    "pb_weather.to_csv(os.path.join('..', '..', '0.Data', '03_외부데이터', '전처리', 'prep_2019_pb_weather.csv'), encoding = 'cp949', index = False)"
   ]
  },
  {
   "cell_type": "code",
   "execution_count": null,
   "metadata": {
    "Collapsed": "false"
   },
   "outputs": [],
   "source": [
    "pb_dust.to_csv(os.path.join('..', '..', '0.Data', '03_외부데이터', '전처리', 'prep_2019_pb_dust.csv'), encoding = 'cp949', index = False)er.to_csv(os.path.join('..', '..', '0.Data', '03_외부데이터', '전처리', 'prep_2019_pb_weather.csv'), encoding = 'cp949', index = False)"
   ]
  },
  {
   "cell_type": "code",
   "execution_count": 112,
   "metadata": {
    "Collapsed": "false"
   },
   "outputs": [
    {
     "data": {
      "text/plain": [
       "17520    2019\n",
       "17521    2019\n",
       "17522    2019\n",
       "17523    2019\n",
       "17524    2019\n",
       "         ... \n",
       "87595    2019\n",
       "87596    2019\n",
       "87597    2019\n",
       "87598    2019\n",
       "87599    2020\n",
       "Name: 일시, Length: 70080, dtype: int64"
      ]
     },
     "execution_count": 112,
     "metadata": {},
     "output_type": "execute_result"
    }
   ],
   "source": [
    "prep_w['일시'].dt.year\n",
    "prep_w['일시'].dt.month\n",
    "prep_w['일시'].dt.day\n",
    "prep_w['일시'].dt.hour"
   ]
  },
  {
   "cell_type": "code",
   "execution_count": 113,
   "metadata": {
    "Collapsed": "false"
   },
   "outputs": [
    {
     "data": {
      "text/html": [
       "<div>\n",
       "<style scoped>\n",
       "    .dataframe tbody tr th:only-of-type {\n",
       "        vertical-align: middle;\n",
       "    }\n",
       "\n",
       "    .dataframe tbody tr th {\n",
       "        vertical-align: top;\n",
       "    }\n",
       "\n",
       "    .dataframe thead th {\n",
       "        text-align: right;\n",
       "    }\n",
       "</style>\n",
       "<table border=\"1\" class=\"dataframe\">\n",
       "  <thead>\n",
       "    <tr style=\"text-align: right;\">\n",
       "      <th></th>\n",
       "      <th>지점명</th>\n",
       "      <th>일시</th>\n",
       "      <th>기온(°C)</th>\n",
       "      <th>강수량(mm)</th>\n",
       "      <th>풍속(m/s)</th>\n",
       "      <th>습도(%)</th>\n",
       "      <th>시정(10m)</th>\n",
       "      <th>지면온도(°C)</th>\n",
       "      <th>체감온도</th>\n",
       "    </tr>\n",
       "  </thead>\n",
       "  <tbody>\n",
       "    <tr>\n",
       "      <th>17520</th>\n",
       "      <td>서울</td>\n",
       "      <td>2019-01-01 01:00:00</td>\n",
       "      <td>-5.9</td>\n",
       "      <td>NaN</td>\n",
       "      <td>1.8</td>\n",
       "      <td>56.0</td>\n",
       "      <td>1569.0</td>\n",
       "      <td>-6.5</td>\n",
       "      <td>-9.033953</td>\n",
       "    </tr>\n",
       "    <tr>\n",
       "      <th>17521</th>\n",
       "      <td>서울</td>\n",
       "      <td>2019-01-01 02:00:00</td>\n",
       "      <td>-6.5</td>\n",
       "      <td>NaN</td>\n",
       "      <td>1.2</td>\n",
       "      <td>60.0</td>\n",
       "      <td>1462.0</td>\n",
       "      <td>-7.1</td>\n",
       "      <td>-8.546246</td>\n",
       "    </tr>\n",
       "    <tr>\n",
       "      <th>17522</th>\n",
       "      <td>서울</td>\n",
       "      <td>2019-01-01 03:00:00</td>\n",
       "      <td>-6.9</td>\n",
       "      <td>NaN</td>\n",
       "      <td>2.2</td>\n",
       "      <td>62.0</td>\n",
       "      <td>1281.0</td>\n",
       "      <td>-7.3</td>\n",
       "      <td>-10.810783</td>\n",
       "    </tr>\n",
       "    <tr>\n",
       "      <th>17523</th>\n",
       "      <td>서울</td>\n",
       "      <td>2019-01-01 04:00:00</td>\n",
       "      <td>-7.2</td>\n",
       "      <td>NaN</td>\n",
       "      <td>1.2</td>\n",
       "      <td>57.0</td>\n",
       "      <td>1195.0</td>\n",
       "      <td>-7.5</td>\n",
       "      <td>-9.332063</td>\n",
       "    </tr>\n",
       "    <tr>\n",
       "      <th>17524</th>\n",
       "      <td>서울</td>\n",
       "      <td>2019-01-01 05:00:00</td>\n",
       "      <td>-7.6</td>\n",
       "      <td>NaN</td>\n",
       "      <td>2.1</td>\n",
       "      <td>59.0</td>\n",
       "      <td>1248.0</td>\n",
       "      <td>-7.8</td>\n",
       "      <td>-11.483797</td>\n",
       "    </tr>\n",
       "    <tr>\n",
       "      <th>...</th>\n",
       "      <td>...</td>\n",
       "      <td>...</td>\n",
       "      <td>...</td>\n",
       "      <td>...</td>\n",
       "      <td>...</td>\n",
       "      <td>...</td>\n",
       "      <td>...</td>\n",
       "      <td>...</td>\n",
       "      <td>...</td>\n",
       "    </tr>\n",
       "    <tr>\n",
       "      <th>87595</th>\n",
       "      <td>부산</td>\n",
       "      <td>2019-12-31 20:00:00</td>\n",
       "      <td>-1.0</td>\n",
       "      <td>NaN</td>\n",
       "      <td>1.4</td>\n",
       "      <td>21.0</td>\n",
       "      <td>2000.0</td>\n",
       "      <td>-0.3</td>\n",
       "      <td>-2.743297</td>\n",
       "    </tr>\n",
       "    <tr>\n",
       "      <th>87596</th>\n",
       "      <td>부산</td>\n",
       "      <td>2019-12-31 21:00:00</td>\n",
       "      <td>-1.4</td>\n",
       "      <td>NaN</td>\n",
       "      <td>3.0</td>\n",
       "      <td>21.0</td>\n",
       "      <td>2000.0</td>\n",
       "      <td>-0.7</td>\n",
       "      <td>-5.200679</td>\n",
       "    </tr>\n",
       "    <tr>\n",
       "      <th>87597</th>\n",
       "      <td>부산</td>\n",
       "      <td>2019-12-31 22:00:00</td>\n",
       "      <td>-1.9</td>\n",
       "      <td>NaN</td>\n",
       "      <td>1.5</td>\n",
       "      <td>24.0</td>\n",
       "      <td>2000.0</td>\n",
       "      <td>-0.8</td>\n",
       "      <td>-3.939210</td>\n",
       "    </tr>\n",
       "    <tr>\n",
       "      <th>87598</th>\n",
       "      <td>부산</td>\n",
       "      <td>2019-12-31 23:00:00</td>\n",
       "      <td>-2.3</td>\n",
       "      <td>NaN</td>\n",
       "      <td>2.1</td>\n",
       "      <td>24.0</td>\n",
       "      <td>2000.0</td>\n",
       "      <td>-1.1</td>\n",
       "      <td>-5.285272</td>\n",
       "    </tr>\n",
       "    <tr>\n",
       "      <th>87599</th>\n",
       "      <td>부산</td>\n",
       "      <td>2020-01-01 00:00:00</td>\n",
       "      <td>-2.5</td>\n",
       "      <td>NaN</td>\n",
       "      <td>1.7</td>\n",
       "      <td>23.0</td>\n",
       "      <td>2000.0</td>\n",
       "      <td>-1.4</td>\n",
       "      <td>-4.951185</td>\n",
       "    </tr>\n",
       "  </tbody>\n",
       "</table>\n",
       "<p>70080 rows × 9 columns</p>\n",
       "</div>"
      ],
      "text/plain": [
       "      지점명                  일시  기온(°C)  강수량(mm)  풍속(m/s)  습도(%)  시정(10m)  \\\n",
       "17520  서울 2019-01-01 01:00:00    -5.9      NaN      1.8   56.0   1569.0   \n",
       "17521  서울 2019-01-01 02:00:00    -6.5      NaN      1.2   60.0   1462.0   \n",
       "17522  서울 2019-01-01 03:00:00    -6.9      NaN      2.2   62.0   1281.0   \n",
       "17523  서울 2019-01-01 04:00:00    -7.2      NaN      1.2   57.0   1195.0   \n",
       "17524  서울 2019-01-01 05:00:00    -7.6      NaN      2.1   59.0   1248.0   \n",
       "...    ..                 ...     ...      ...      ...    ...      ...   \n",
       "87595  부산 2019-12-31 20:00:00    -1.0      NaN      1.4   21.0   2000.0   \n",
       "87596  부산 2019-12-31 21:00:00    -1.4      NaN      3.0   21.0   2000.0   \n",
       "87597  부산 2019-12-31 22:00:00    -1.9      NaN      1.5   24.0   2000.0   \n",
       "87598  부산 2019-12-31 23:00:00    -2.3      NaN      2.1   24.0   2000.0   \n",
       "87599  부산 2020-01-01 00:00:00    -2.5      NaN      1.7   23.0   2000.0   \n",
       "\n",
       "       지면온도(°C)       체감온도  \n",
       "17520      -6.5  -9.033953  \n",
       "17521      -7.1  -8.546246  \n",
       "17522      -7.3 -10.810783  \n",
       "17523      -7.5  -9.332063  \n",
       "17524      -7.8 -11.483797  \n",
       "...         ...        ...  \n",
       "87595      -0.3  -2.743297  \n",
       "87596      -0.7  -5.200679  \n",
       "87597      -0.8  -3.939210  \n",
       "87598      -1.1  -5.285272  \n",
       "87599      -1.4  -4.951185  \n",
       "\n",
       "[70080 rows x 9 columns]"
      ]
     },
     "execution_count": 113,
     "metadata": {},
     "output_type": "execute_result"
    }
   ],
   "source": [
    "prep_w"
   ]
  },
  {
   "cell_type": "code",
   "execution_count": null,
   "metadata": {
    "Collapsed": "false"
   },
   "outputs": [],
   "source": []
  }
 ],
 "metadata": {
  "kernelspec": {
   "display_name": "Python 3",
   "language": "python",
   "name": "python3"
  },
  "language_info": {
   "codemirror_mode": {
    "name": "ipython",
    "version": 3
   },
   "file_extension": ".py",
   "mimetype": "text/x-python",
   "name": "python",
   "nbconvert_exporter": "python",
   "pygments_lexer": "ipython3",
   "version": "3.7.6"
  }
 },
 "nbformat": 4,
 "nbformat_minor": 4
}
