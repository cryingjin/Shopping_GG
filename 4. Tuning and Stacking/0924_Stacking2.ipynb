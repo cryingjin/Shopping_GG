{
 "cells": [
  {
   "cell_type": "markdown",
   "metadata": {},
   "source": [
    "# Stacking \n",
    "* LR with K fold CV \n",
    "* 26.2\n",
    "\n",
    ".\n",
    "\n",
    "`stacking 방법`\n",
    "1. simple linear regression : 26.2\n",
    "2. RFE (feature selection) : 26.2\n",
    "3. lr without intercept : 27.3\n",
    "4. nnls : 26.3, (절편 X : 26.6) "
   ]
  },
  {
   "cell_type": "code",
   "execution_count": 3,
   "metadata": {},
   "outputs": [],
   "source": [
    "import os\n",
    "import sys\n",
    "import glob\n",
    "import joblib\n",
    "import pickle as pkl\n",
    "\n",
    "import warnings\n",
    "from sklearn.exceptions import DataConversionWarning\n",
    "warnings.filterwarnings(action='ignore')\n",
    "warnings.filterwarnings(action='ignore', category=DataConversionWarning)\n",
    "\n",
    "\n",
    "import pandas as pd \n",
    "import numpy as np\n",
    "\n",
    "\n",
    "from IPython.display import display\n",
    "pd.options.display.max_rows = 999\n",
    "pd.options.display.max_columns = 999\n",
    "pd.set_option('display.max_info_columns', 500)\n",
    "pd.set_option('display.float_format', lambda x: '%.3f' % x)"
   ]
  },
  {
   "cell_type": "code",
   "execution_count": 2,
   "metadata": {},
   "outputs": [],
   "source": [
    "%matplotlib inline\n",
    "import matplotlib.pyplot as plt\n",
    "import seaborn as sns\n",
    "\n",
    "plt.style.use('seaborn')\n",
    "plt.rc('font', family='AppleGothic')\n",
    "plt.rc('axes', unicode_minus=False)"
   ]
  },
  {
   "cell_type": "code",
   "execution_count": 4,
   "metadata": {},
   "outputs": [],
   "source": [
    "# MAPE \n",
    "def MAPE(y_true, y_pred): \n",
    "    y_true, y_pred = np.array(y_true), np.array(y_pred)\n",
    "    return np.mean(np.abs((y_true - y_pred) / y_true)) * 100"
   ]
  },
  {
   "cell_type": "markdown",
   "metadata": {},
   "source": [
    "# Data Prep"
   ]
  },
  {
   "cell_type": "markdown",
   "metadata": {},
   "source": [
    "### model pkl load"
   ]
  },
  {
   "cell_type": "code",
   "execution_count": 93,
   "metadata": {},
   "outputs": [
    {
     "name": "stdout",
     "output_type": "stream",
     "text": [
      "[Errno 2] No such file or directory: '../../FinalPred'\n",
      "/Users/jbeen/workdir/bigcontest/branch/FinalPred\n"
     ]
    }
   ],
   "source": [
    "cd ../../FinalPred"
   ]
  },
  {
   "cell_type": "code",
   "execution_count": 95,
   "metadata": {},
   "outputs": [
    {
     "data": {
      "text/plain": [
       "['lgbm_pred0923-lgbm-optuna2.pickle',\n",
       " 'xgb_pred0923-xgb-bayes2.pickle',\n",
       " 'lgbm_pred0921-lgbm-bayes2.pickle',\n",
       " 'lgbm_pred0921-lgbm-optuna2.pickle',\n",
       " 'pred_catBA_0924.pickle',\n",
       " 'lgbm_pred0921-lgbm-bayes.pickle',\n",
       " 'xgb_pred0923-xgb-bayes1.pickle',\n",
       " 'lgbm_pred0921-lgbm-bayes3.pickle',\n",
       " 'pred_rfBO_0924.pickle',\n",
       " 'pred_rfOP_0924.pickle']"
      ]
     },
     "execution_count": 95,
     "metadata": {},
     "output_type": "execute_result"
    }
   ],
   "source": [
    "pkls = glob.glob('*.pickle')\n",
    "pkls"
   ]
  },
  {
   "cell_type": "code",
   "execution_count": 96,
   "metadata": {},
   "outputs": [],
   "source": [
    "final = dict()\n",
    "for p in pkls : \n",
    "    with open('{}'.format(p), 'rb') as f:\n",
    "        final[p.split(\".\")[0]] = pkl.load(f)"
   ]
  },
  {
   "cell_type": "code",
   "execution_count": 97,
   "metadata": {},
   "outputs": [
    {
     "data": {
      "text/plain": [
       "[array([    0,     2,    13, ..., 28273, 28282, 28290]),\n",
       " array([    1,     7,    15, ..., 28295, 28299, 28300]),\n",
       " array([    3,    10,    11, ..., 28287, 28289, 28297]),\n",
       " array([    4,    36,    43, ..., 28294, 28301, 28302]),\n",
       " array([    5,     6,     8, ..., 28293, 28296, 28298])]"
      ]
     },
     "execution_count": 97,
     "metadata": {},
     "output_type": "execute_result"
    }
   ],
   "source": [
    "# train index\n",
    "final['lgbm_pred0921-lgbm-bayes2']['val_idx']"
   ]
  },
  {
   "cell_type": "code",
   "execution_count": 98,
   "metadata": {},
   "outputs": [
    {
     "data": {
      "text/plain": [
       "[Int64Index([ 8734,  7885,  2413, 12475,  4571,  9835, 35907, 14833, 10316,\n",
       "             31140,\n",
       "             ...\n",
       "             25556, 30587,  6430, 11575, 33365, 14158, 28909, 34363, 26499,\n",
       "              4615],\n",
       "            dtype='int64', length=7076)]"
      ]
     },
     "execution_count": 98,
     "metadata": {},
     "output_type": "execute_result"
    }
   ],
   "source": [
    "# test index \n",
    "final['lgbm_pred0921-lgbm-bayes2']['test_idx']"
   ]
  },
  {
   "cell_type": "code",
   "execution_count": 99,
   "metadata": {},
   "outputs": [
    {
     "data": {
      "text/plain": [
       "[array([10557563.93721553, 18074929.25387817, 23836593.06907338, ...,\n",
       "        29718194.91621904, 20162063.64308697, 11676675.72850286])]"
      ]
     },
     "execution_count": 99,
     "metadata": {},
     "output_type": "execute_result"
    }
   ],
   "source": [
    "# test pred \n",
    "final['lgbm_pred0921-lgbm-bayes2']['final_pred']"
   ]
  },
  {
   "cell_type": "markdown",
   "metadata": {},
   "source": [
    "### data load"
   ]
  },
  {
   "cell_type": "code",
   "execution_count": 100,
   "metadata": {},
   "outputs": [],
   "source": [
    "data_v4 = joblib.load(os.path.join('..', '7th_train_FE.pkl'))\n",
    "locals().update(data_v4)"
   ]
  },
  {
   "cell_type": "code",
   "execution_count": 101,
   "metadata": {},
   "outputs": [
    {
     "data": {
      "text/plain": [
       "((35379, 402), (35379,))"
      ]
     },
     "execution_count": 101,
     "metadata": {},
     "output_type": "execute_result"
    }
   ],
   "source": [
    "X = data_v4['X'] ; y = data_v4['y']\n",
    "X.shape, y.shape"
   ]
  },
  {
   "cell_type": "code",
   "execution_count": 102,
   "metadata": {},
   "outputs": [],
   "source": [
    "y2 = np.log1p(y)"
   ]
  },
  {
   "cell_type": "markdown",
   "metadata": {},
   "source": [
    "## Meta Test "
   ]
  },
  {
   "cell_type": "code",
   "execution_count": 103,
   "metadata": {},
   "outputs": [],
   "source": [
    "X_test = X.loc[final['lgbm_pred0921-lgbm-bayes3']['test_idx'][0]]\n",
    "y_test = y.loc[final['lgbm_pred0921-lgbm-bayes3']['test_idx'][0]]"
   ]
  },
  {
   "cell_type": "code",
   "execution_count": 104,
   "metadata": {},
   "outputs": [
    {
     "data": {
      "text/plain": [
       "((7076, 402), (7076,))"
      ]
     },
     "execution_count": 104,
     "metadata": {},
     "output_type": "execute_result"
    }
   ],
   "source": [
    "X_test.shape, y_test.shape"
   ]
  },
  {
   "cell_type": "markdown",
   "metadata": {},
   "source": [
    "## Meta Train \n",
    "* K fold 하면서 reindex 가 되어 버려서 이렇게 나눠 줘야 함 ㅎㅎㅎ;;"
   ]
  },
  {
   "cell_type": "code",
   "execution_count": 66,
   "metadata": {},
   "outputs": [],
   "source": [
    "from sklearn.model_selection import train_test_split, cross_val_score, KFold"
   ]
  },
  {
   "cell_type": "code",
   "execution_count": 105,
   "metadata": {},
   "outputs": [],
   "source": [
    "X_train_, X_test_, y_train_, y_test_ = train_test_split(X, y, test_size=0.2, random_state=77)\n",
    "X_train, y_train = dict(), dict() \n",
    "\n",
    "cv = KFold(n_splits=5, random_state=77, shuffle=True)\n",
    "\n",
    "i = 0\n",
    "for t,v in cv.split(X_train_):\n",
    "    X_train['{}'.format(i+1)] = X_train_.iloc[v]\n",
    "    y_train['{}'.format(i+1)] = y_train_.iloc[v]\n",
    "    i+=1"
   ]
  },
  {
   "cell_type": "markdown",
   "metadata": {},
   "source": [
    "## Final Stacking Dataset"
   ]
  },
  {
   "cell_type": "markdown",
   "metadata": {},
   "source": [
    "### train"
   ]
  },
  {
   "cell_type": "code",
   "execution_count": 106,
   "metadata": {},
   "outputs": [],
   "source": [
    "# train : y_true\n",
    "y_train1, y_train2, y_train3, y_train4, y_train5 = y_train['1'], y_train['2'], y_train['3'], y_train['4'], y_train['5']"
   ]
  },
  {
   "cell_type": "code",
   "execution_count": 107,
   "metadata": {},
   "outputs": [
    {
     "data": {
      "text/plain": [
       "((5661,), (5661,), (5661,), (5660,), (5660,))"
      ]
     },
     "execution_count": 107,
     "metadata": {},
     "output_type": "execute_result"
    }
   ],
   "source": [
    "y_train1.shape, y_train2.shape, y_train3.shape, y_train4.shape, y_train5.shape"
   ]
  },
  {
   "cell_type": "code",
   "execution_count": 108,
   "metadata": {},
   "outputs": [],
   "source": [
    "# train : y_pred\n",
    "x_train1, x_train2, x_train3, x_train4, x_train5 = [], [], [], [], []\n",
    "for model in list(final.keys()) : \n",
    "    x_train1.append(final[model]['val_pred'][0])\n",
    "    x_train2.append(final[model]['val_pred'][1])\n",
    "    x_train3.append(final[model]['val_pred'][2])\n",
    "    x_train4.append(final[model]['val_pred'][3])\n",
    "    x_train5.append(final[model]['val_pred'][4])"
   ]
  },
  {
   "cell_type": "code",
   "execution_count": 109,
   "metadata": {},
   "outputs": [],
   "source": [
    "X_train1 = pd.DataFrame(np.array(x_train1).T)\n",
    "X_train2 = pd.DataFrame(np.array(x_train2).T)\n",
    "X_train3 = pd.DataFrame(np.array(x_train3).T)\n",
    "X_train4 = pd.DataFrame(np.array(x_train4).T)\n",
    "X_train5 = pd.DataFrame(np.array(x_train5).T)"
   ]
  },
  {
   "cell_type": "code",
   "execution_count": 110,
   "metadata": {},
   "outputs": [
    {
     "data": {
      "text/plain": [
       "((5661, 10), (5661, 10), (5661, 10), (5660, 10), (5660, 10))"
      ]
     },
     "execution_count": 110,
     "metadata": {},
     "output_type": "execute_result"
    }
   ],
   "source": [
    "X_train1.shape, X_train2.shape, X_train3.shape, X_train4.shape, X_train5.shape"
   ]
  },
  {
   "cell_type": "code",
   "execution_count": 111,
   "metadata": {},
   "outputs": [
    {
     "data": {
      "text/html": [
       "<div>\n",
       "<style scoped>\n",
       "    .dataframe tbody tr th:only-of-type {\n",
       "        vertical-align: middle;\n",
       "    }\n",
       "\n",
       "    .dataframe tbody tr th {\n",
       "        vertical-align: top;\n",
       "    }\n",
       "\n",
       "    .dataframe thead th {\n",
       "        text-align: right;\n",
       "    }\n",
       "</style>\n",
       "<table border=\"1\" class=\"dataframe\">\n",
       "  <thead>\n",
       "    <tr style=\"text-align: right;\">\n",
       "      <th></th>\n",
       "      <th>0</th>\n",
       "      <th>1</th>\n",
       "      <th>2</th>\n",
       "      <th>3</th>\n",
       "      <th>4</th>\n",
       "      <th>5</th>\n",
       "      <th>6</th>\n",
       "      <th>7</th>\n",
       "      <th>8</th>\n",
       "      <th>9</th>\n",
       "    </tr>\n",
       "  </thead>\n",
       "  <tbody>\n",
       "    <tr>\n",
       "      <th>0</th>\n",
       "      <td>5216106.981</td>\n",
       "      <td>5002080.500</td>\n",
       "      <td>4823899.432</td>\n",
       "      <td>5351551.517</td>\n",
       "      <td>4943182.161</td>\n",
       "      <td>5009392.227</td>\n",
       "      <td>5051207.000</td>\n",
       "      <td>5371598.932</td>\n",
       "      <td>4546394.644</td>\n",
       "      <td>8425060.060</td>\n",
       "    </tr>\n",
       "    <tr>\n",
       "      <th>1</th>\n",
       "      <td>23286991.105</td>\n",
       "      <td>26903864.000</td>\n",
       "      <td>30710439.096</td>\n",
       "      <td>28684130.413</td>\n",
       "      <td>25404243.182</td>\n",
       "      <td>30201280.451</td>\n",
       "      <td>26913204.000</td>\n",
       "      <td>29496085.601</td>\n",
       "      <td>29706038.944</td>\n",
       "      <td>14841972.562</td>\n",
       "    </tr>\n",
       "    <tr>\n",
       "      <th>2</th>\n",
       "      <td>37809721.353</td>\n",
       "      <td>33207140.000</td>\n",
       "      <td>37052866.379</td>\n",
       "      <td>37636418.450</td>\n",
       "      <td>42199530.361</td>\n",
       "      <td>37347219.485</td>\n",
       "      <td>37938432.000</td>\n",
       "      <td>36089203.008</td>\n",
       "      <td>39472577.259</td>\n",
       "      <td>35946730.244</td>\n",
       "    </tr>\n",
       "    <tr>\n",
       "      <th>3</th>\n",
       "      <td>17648725.068</td>\n",
       "      <td>17634396.000</td>\n",
       "      <td>18142823.396</td>\n",
       "      <td>20864664.244</td>\n",
       "      <td>16748028.365</td>\n",
       "      <td>17666875.371</td>\n",
       "      <td>17802118.000</td>\n",
       "      <td>18779775.008</td>\n",
       "      <td>12935502.030</td>\n",
       "      <td>10189337.789</td>\n",
       "    </tr>\n",
       "    <tr>\n",
       "      <th>4</th>\n",
       "      <td>17998340.311</td>\n",
       "      <td>22854144.000</td>\n",
       "      <td>27179897.700</td>\n",
       "      <td>27788596.748</td>\n",
       "      <td>19550084.835</td>\n",
       "      <td>26988413.041</td>\n",
       "      <td>23045212.000</td>\n",
       "      <td>26630704.345</td>\n",
       "      <td>25185319.585</td>\n",
       "      <td>11944275.348</td>\n",
       "    </tr>\n",
       "    <tr>\n",
       "      <th>...</th>\n",
       "      <td>...</td>\n",
       "      <td>...</td>\n",
       "      <td>...</td>\n",
       "      <td>...</td>\n",
       "      <td>...</td>\n",
       "      <td>...</td>\n",
       "      <td>...</td>\n",
       "      <td>...</td>\n",
       "      <td>...</td>\n",
       "      <td>...</td>\n",
       "    </tr>\n",
       "    <tr>\n",
       "      <th>5656</th>\n",
       "      <td>9925871.884</td>\n",
       "      <td>12318332.000</td>\n",
       "      <td>12554725.674</td>\n",
       "      <td>12286967.730</td>\n",
       "      <td>13927865.058</td>\n",
       "      <td>11797670.484</td>\n",
       "      <td>13467663.000</td>\n",
       "      <td>12851236.801</td>\n",
       "      <td>13401661.995</td>\n",
       "      <td>13905817.805</td>\n",
       "    </tr>\n",
       "    <tr>\n",
       "      <th>5657</th>\n",
       "      <td>63262957.376</td>\n",
       "      <td>61173696.000</td>\n",
       "      <td>63719257.429</td>\n",
       "      <td>62255385.937</td>\n",
       "      <td>63260362.015</td>\n",
       "      <td>65273282.722</td>\n",
       "      <td>62261132.000</td>\n",
       "      <td>69049500.436</td>\n",
       "      <td>54786314.137</td>\n",
       "      <td>37530375.965</td>\n",
       "    </tr>\n",
       "    <tr>\n",
       "      <th>5658</th>\n",
       "      <td>14163588.168</td>\n",
       "      <td>13168789.000</td>\n",
       "      <td>12363481.319</td>\n",
       "      <td>12820084.773</td>\n",
       "      <td>14551293.495</td>\n",
       "      <td>12765532.361</td>\n",
       "      <td>12476642.000</td>\n",
       "      <td>12128576.670</td>\n",
       "      <td>11913303.958</td>\n",
       "      <td>10189337.789</td>\n",
       "    </tr>\n",
       "    <tr>\n",
       "      <th>5659</th>\n",
       "      <td>2599725.260</td>\n",
       "      <td>2687072.000</td>\n",
       "      <td>2603623.542</td>\n",
       "      <td>2600327.439</td>\n",
       "      <td>2675103.570</td>\n",
       "      <td>2665305.421</td>\n",
       "      <td>2816054.250</td>\n",
       "      <td>2634154.195</td>\n",
       "      <td>3634522.393</td>\n",
       "      <td>10189337.789</td>\n",
       "    </tr>\n",
       "    <tr>\n",
       "      <th>5660</th>\n",
       "      <td>42343157.212</td>\n",
       "      <td>43530488.000</td>\n",
       "      <td>43619905.930</td>\n",
       "      <td>47017778.217</td>\n",
       "      <td>48004127.880</td>\n",
       "      <td>45499047.769</td>\n",
       "      <td>41115612.000</td>\n",
       "      <td>46591951.902</td>\n",
       "      <td>42573741.587</td>\n",
       "      <td>10189337.789</td>\n",
       "    </tr>\n",
       "  </tbody>\n",
       "</table>\n",
       "<p>5661 rows × 10 columns</p>\n",
       "</div>"
      ],
      "text/plain": [
       "                0            1            2            3            4  \\\n",
       "0     5216106.981  5002080.500  4823899.432  5351551.517  4943182.161   \n",
       "1    23286991.105 26903864.000 30710439.096 28684130.413 25404243.182   \n",
       "2    37809721.353 33207140.000 37052866.379 37636418.450 42199530.361   \n",
       "3    17648725.068 17634396.000 18142823.396 20864664.244 16748028.365   \n",
       "4    17998340.311 22854144.000 27179897.700 27788596.748 19550084.835   \n",
       "...           ...          ...          ...          ...          ...   \n",
       "5656  9925871.884 12318332.000 12554725.674 12286967.730 13927865.058   \n",
       "5657 63262957.376 61173696.000 63719257.429 62255385.937 63260362.015   \n",
       "5658 14163588.168 13168789.000 12363481.319 12820084.773 14551293.495   \n",
       "5659  2599725.260  2687072.000  2603623.542  2600327.439  2675103.570   \n",
       "5660 42343157.212 43530488.000 43619905.930 47017778.217 48004127.880   \n",
       "\n",
       "                5            6            7            8            9  \n",
       "0     5009392.227  5051207.000  5371598.932  4546394.644  8425060.060  \n",
       "1    30201280.451 26913204.000 29496085.601 29706038.944 14841972.562  \n",
       "2    37347219.485 37938432.000 36089203.008 39472577.259 35946730.244  \n",
       "3    17666875.371 17802118.000 18779775.008 12935502.030 10189337.789  \n",
       "4    26988413.041 23045212.000 26630704.345 25185319.585 11944275.348  \n",
       "...           ...          ...          ...          ...          ...  \n",
       "5656 11797670.484 13467663.000 12851236.801 13401661.995 13905817.805  \n",
       "5657 65273282.722 62261132.000 69049500.436 54786314.137 37530375.965  \n",
       "5658 12765532.361 12476642.000 12128576.670 11913303.958 10189337.789  \n",
       "5659  2665305.421  2816054.250  2634154.195  3634522.393 10189337.789  \n",
       "5660 45499047.769 41115612.000 46591951.902 42573741.587 10189337.789  \n",
       "\n",
       "[5661 rows x 10 columns]"
      ]
     },
     "execution_count": 111,
     "metadata": {},
     "output_type": "execute_result"
    }
   ],
   "source": [
    "# train : y_pred (fold1)\n",
    "X_train1"
   ]
  },
  {
   "cell_type": "markdown",
   "metadata": {},
   "source": [
    "### test"
   ]
  },
  {
   "cell_type": "code",
   "execution_count": 112,
   "metadata": {},
   "outputs": [],
   "source": [
    "# test : y_true \n",
    "y_test = y_test"
   ]
  },
  {
   "cell_type": "code",
   "execution_count": 113,
   "metadata": {},
   "outputs": [],
   "source": [
    "# test : y_pred \n",
    "x_test = [] \n",
    "for model in list(final.keys()) : \n",
    "    x_test.append(final[model]['final_pred'][0])"
   ]
  },
  {
   "cell_type": "code",
   "execution_count": 114,
   "metadata": {},
   "outputs": [],
   "source": [
    "X_test = pd.DataFrame(np.array(x_test).T)"
   ]
  },
  {
   "cell_type": "code",
   "execution_count": 115,
   "metadata": {},
   "outputs": [
    {
     "data": {
      "text/html": [
       "<div>\n",
       "<style scoped>\n",
       "    .dataframe tbody tr th:only-of-type {\n",
       "        vertical-align: middle;\n",
       "    }\n",
       "\n",
       "    .dataframe tbody tr th {\n",
       "        vertical-align: top;\n",
       "    }\n",
       "\n",
       "    .dataframe thead th {\n",
       "        text-align: right;\n",
       "    }\n",
       "</style>\n",
       "<table border=\"1\" class=\"dataframe\">\n",
       "  <thead>\n",
       "    <tr style=\"text-align: right;\">\n",
       "      <th></th>\n",
       "      <th>lgbm_pred0923-lgbm-optuna2</th>\n",
       "      <th>xgb_pred0923-xgb-bayes2</th>\n",
       "      <th>lgbm_pred0921-lgbm-bayes2</th>\n",
       "      <th>lgbm_pred0921-lgbm-optuna2</th>\n",
       "      <th>pred_catBA_0924</th>\n",
       "      <th>lgbm_pred0921-lgbm-bayes</th>\n",
       "      <th>xgb_pred0923-xgb-bayes1</th>\n",
       "      <th>lgbm_pred0921-lgbm-bayes3</th>\n",
       "      <th>pred_rfBO_0924</th>\n",
       "      <th>pred_rfOP_0924</th>\n",
       "    </tr>\n",
       "  </thead>\n",
       "  <tbody>\n",
       "    <tr>\n",
       "      <th>0</th>\n",
       "      <td>9591443.090</td>\n",
       "      <td>9584501.000</td>\n",
       "      <td>10557563.937</td>\n",
       "      <td>10780855.756</td>\n",
       "      <td>8720125.992</td>\n",
       "      <td>10768459.884</td>\n",
       "      <td>9327498.000</td>\n",
       "      <td>10598563.187</td>\n",
       "      <td>8049626.265</td>\n",
       "      <td>14327193.091</td>\n",
       "    </tr>\n",
       "    <tr>\n",
       "      <th>1</th>\n",
       "      <td>19477071.478</td>\n",
       "      <td>17422680.000</td>\n",
       "      <td>18074929.254</td>\n",
       "      <td>17872822.527</td>\n",
       "      <td>17079485.060</td>\n",
       "      <td>18417007.456</td>\n",
       "      <td>15580698.000</td>\n",
       "      <td>18538841.152</td>\n",
       "      <td>16065824.592</td>\n",
       "      <td>9911299.828</td>\n",
       "    </tr>\n",
       "    <tr>\n",
       "      <th>2</th>\n",
       "      <td>22319051.644</td>\n",
       "      <td>23809632.000</td>\n",
       "      <td>23836593.069</td>\n",
       "      <td>23295534.990</td>\n",
       "      <td>22081820.426</td>\n",
       "      <td>23582263.379</td>\n",
       "      <td>23184280.000</td>\n",
       "      <td>24345702.827</td>\n",
       "      <td>23355461.721</td>\n",
       "      <td>13258493.937</td>\n",
       "    </tr>\n",
       "    <tr>\n",
       "      <th>3</th>\n",
       "      <td>12426858.544</td>\n",
       "      <td>11590858.000</td>\n",
       "      <td>11458951.682</td>\n",
       "      <td>11437477.754</td>\n",
       "      <td>12987877.855</td>\n",
       "      <td>11731664.566</td>\n",
       "      <td>11058974.000</td>\n",
       "      <td>11069759.611</td>\n",
       "      <td>8280823.264</td>\n",
       "      <td>9911299.828</td>\n",
       "    </tr>\n",
       "    <tr>\n",
       "      <th>4</th>\n",
       "      <td>7990220.247</td>\n",
       "      <td>8769371.000</td>\n",
       "      <td>9124130.938</td>\n",
       "      <td>8847853.113</td>\n",
       "      <td>8878167.689</td>\n",
       "      <td>9043249.828</td>\n",
       "      <td>9409084.000</td>\n",
       "      <td>9047417.803</td>\n",
       "      <td>12246039.713</td>\n",
       "      <td>9911299.828</td>\n",
       "    </tr>\n",
       "    <tr>\n",
       "      <th>...</th>\n",
       "      <td>...</td>\n",
       "      <td>...</td>\n",
       "      <td>...</td>\n",
       "      <td>...</td>\n",
       "      <td>...</td>\n",
       "      <td>...</td>\n",
       "      <td>...</td>\n",
       "      <td>...</td>\n",
       "      <td>...</td>\n",
       "      <td>...</td>\n",
       "    </tr>\n",
       "    <tr>\n",
       "      <th>7071</th>\n",
       "      <td>24495410.870</td>\n",
       "      <td>22910232.000</td>\n",
       "      <td>23753803.570</td>\n",
       "      <td>23677343.603</td>\n",
       "      <td>24887054.768</td>\n",
       "      <td>23275574.621</td>\n",
       "      <td>23344796.000</td>\n",
       "      <td>23660596.038</td>\n",
       "      <td>18932783.267</td>\n",
       "      <td>14069410.792</td>\n",
       "    </tr>\n",
       "    <tr>\n",
       "      <th>7072</th>\n",
       "      <td>13153695.735</td>\n",
       "      <td>11775613.000</td>\n",
       "      <td>12579173.142</td>\n",
       "      <td>13792612.985</td>\n",
       "      <td>14124432.285</td>\n",
       "      <td>12468375.973</td>\n",
       "      <td>12031341.000</td>\n",
       "      <td>13078761.764</td>\n",
       "      <td>13230361.288</td>\n",
       "      <td>13844735.883</td>\n",
       "    </tr>\n",
       "    <tr>\n",
       "      <th>7073</th>\n",
       "      <td>30664490.831</td>\n",
       "      <td>33315082.000</td>\n",
       "      <td>29718194.916</td>\n",
       "      <td>33301323.031</td>\n",
       "      <td>35079776.403</td>\n",
       "      <td>33360258.457</td>\n",
       "      <td>34366056.000</td>\n",
       "      <td>34070041.050</td>\n",
       "      <td>38664423.304</td>\n",
       "      <td>16071199.894</td>\n",
       "    </tr>\n",
       "    <tr>\n",
       "      <th>7074</th>\n",
       "      <td>22603795.220</td>\n",
       "      <td>19340354.000</td>\n",
       "      <td>20162063.643</td>\n",
       "      <td>19219763.220</td>\n",
       "      <td>25955786.535</td>\n",
       "      <td>20694847.424</td>\n",
       "      <td>19071340.000</td>\n",
       "      <td>20866811.980</td>\n",
       "      <td>12717937.777</td>\n",
       "      <td>8697616.010</td>\n",
       "    </tr>\n",
       "    <tr>\n",
       "      <th>7075</th>\n",
       "      <td>12488404.335</td>\n",
       "      <td>11937415.000</td>\n",
       "      <td>11676675.729</td>\n",
       "      <td>11606759.090</td>\n",
       "      <td>11816685.314</td>\n",
       "      <td>11421595.833</td>\n",
       "      <td>11826556.000</td>\n",
       "      <td>11262424.757</td>\n",
       "      <td>12848314.454</td>\n",
       "      <td>14008240.086</td>\n",
       "    </tr>\n",
       "  </tbody>\n",
       "</table>\n",
       "<p>7076 rows × 10 columns</p>\n",
       "</div>"
      ],
      "text/plain": [
       "      lgbm_pred0923-lgbm-optuna2  xgb_pred0923-xgb-bayes2  \\\n",
       "0                    9591443.090              9584501.000   \n",
       "1                   19477071.478             17422680.000   \n",
       "2                   22319051.644             23809632.000   \n",
       "3                   12426858.544             11590858.000   \n",
       "4                    7990220.247              8769371.000   \n",
       "...                          ...                      ...   \n",
       "7071                24495410.870             22910232.000   \n",
       "7072                13153695.735             11775613.000   \n",
       "7073                30664490.831             33315082.000   \n",
       "7074                22603795.220             19340354.000   \n",
       "7075                12488404.335             11937415.000   \n",
       "\n",
       "      lgbm_pred0921-lgbm-bayes2  lgbm_pred0921-lgbm-optuna2  pred_catBA_0924  \\\n",
       "0                  10557563.937                10780855.756      8720125.992   \n",
       "1                  18074929.254                17872822.527     17079485.060   \n",
       "2                  23836593.069                23295534.990     22081820.426   \n",
       "3                  11458951.682                11437477.754     12987877.855   \n",
       "4                   9124130.938                 8847853.113      8878167.689   \n",
       "...                         ...                         ...              ...   \n",
       "7071               23753803.570                23677343.603     24887054.768   \n",
       "7072               12579173.142                13792612.985     14124432.285   \n",
       "7073               29718194.916                33301323.031     35079776.403   \n",
       "7074               20162063.643                19219763.220     25955786.535   \n",
       "7075               11676675.729                11606759.090     11816685.314   \n",
       "\n",
       "      lgbm_pred0921-lgbm-bayes  xgb_pred0923-xgb-bayes1  \\\n",
       "0                 10768459.884              9327498.000   \n",
       "1                 18417007.456             15580698.000   \n",
       "2                 23582263.379             23184280.000   \n",
       "3                 11731664.566             11058974.000   \n",
       "4                  9043249.828              9409084.000   \n",
       "...                        ...                      ...   \n",
       "7071              23275574.621             23344796.000   \n",
       "7072              12468375.973             12031341.000   \n",
       "7073              33360258.457             34366056.000   \n",
       "7074              20694847.424             19071340.000   \n",
       "7075              11421595.833             11826556.000   \n",
       "\n",
       "      lgbm_pred0921-lgbm-bayes3  pred_rfBO_0924  pred_rfOP_0924  \n",
       "0                  10598563.187     8049626.265    14327193.091  \n",
       "1                  18538841.152    16065824.592     9911299.828  \n",
       "2                  24345702.827    23355461.721    13258493.937  \n",
       "3                  11069759.611     8280823.264     9911299.828  \n",
       "4                   9047417.803    12246039.713     9911299.828  \n",
       "...                         ...             ...             ...  \n",
       "7071               23660596.038    18932783.267    14069410.792  \n",
       "7072               13078761.764    13230361.288    13844735.883  \n",
       "7073               34070041.050    38664423.304    16071199.894  \n",
       "7074               20866811.980    12717937.777     8697616.010  \n",
       "7075               11262424.757    12848314.454    14008240.086  \n",
       "\n",
       "[7076 rows x 10 columns]"
      ]
     },
     "execution_count": 115,
     "metadata": {},
     "output_type": "execute_result"
    }
   ],
   "source": [
    "X_test.columns = list(final.keys())\n",
    "X_test"
   ]
  },
  {
   "cell_type": "code",
   "execution_count": 116,
   "metadata": {},
   "outputs": [
    {
     "data": {
      "text/plain": [
       "((7076, 10), (7076,))"
      ]
     },
     "execution_count": 116,
     "metadata": {},
     "output_type": "execute_result"
    }
   ],
   "source": [
    "X_test.shape, y_test.shape"
   ]
  },
  {
   "cell_type": "markdown",
   "metadata": {},
   "source": [
    "## final_진짜진짜최종_(2) dataset"
   ]
  },
  {
   "cell_type": "code",
   "execution_count": 117,
   "metadata": {},
   "outputs": [],
   "source": [
    "# train for stacking \n",
    "st_x_train = pd.concat([X_train1, X_train2, X_train3, X_train4, X_train5], axis=0) # 예측값 \n",
    "st_y_train = pd.concat([y_train1, y_train2, y_train3, y_train4, y_train5], axis=0) # 실제값 "
   ]
  },
  {
   "cell_type": "code",
   "execution_count": 118,
   "metadata": {},
   "outputs": [
    {
     "data": {
      "text/plain": [
       "((28303, 10), (28303,))"
      ]
     },
     "execution_count": 118,
     "metadata": {},
     "output_type": "execute_result"
    }
   ],
   "source": [
    "st_x_train.shape, st_y_train.shape"
   ]
  },
  {
   "cell_type": "code",
   "execution_count": 119,
   "metadata": {},
   "outputs": [],
   "source": [
    "# test for stacking \n",
    "st_x_test = X_test # 예측값 \n",
    "st_y_test = y_test # 실제값 "
   ]
  },
  {
   "cell_type": "code",
   "execution_count": 120,
   "metadata": {},
   "outputs": [
    {
     "data": {
      "text/plain": [
       "((7076, 10), (7076,))"
      ]
     },
     "execution_count": 120,
     "metadata": {},
     "output_type": "execute_result"
    }
   ],
   "source": [
    "st_x_test.shape, st_y_test.shape"
   ]
  },
  {
   "cell_type": "code",
   "execution_count": 121,
   "metadata": {},
   "outputs": [],
   "source": [
    "st_x_train.columns, st_x_test.columns  = list(final.keys()), list(final.keys())"
   ]
  },
  {
   "cell_type": "markdown",
   "metadata": {},
   "source": [
    "# Stacking"
   ]
  },
  {
   "cell_type": "markdown",
   "metadata": {},
   "source": [
    "## 1. simple linear regression "
   ]
  },
  {
   "cell_type": "code",
   "execution_count": 86,
   "metadata": {},
   "outputs": [],
   "source": [
    "from sklearn.linear_model import LinearRegression"
   ]
  },
  {
   "cell_type": "code",
   "execution_count": 122,
   "metadata": {},
   "outputs": [],
   "source": [
    "lr = LinearRegression()"
   ]
  },
  {
   "cell_type": "code",
   "execution_count": 123,
   "metadata": {},
   "outputs": [
    {
     "data": {
      "text/plain": [
       "0.8096739263172108"
      ]
     },
     "execution_count": 123,
     "metadata": {},
     "output_type": "execute_result"
    }
   ],
   "source": [
    "lr.fit(st_x_train, st_y_train)\n",
    "train_pred = lr.predict(st_x_train)\n",
    "lr.score(st_x_train, st_y_train)"
   ]
  },
  {
   "cell_type": "code",
   "execution_count": 124,
   "metadata": {},
   "outputs": [
    {
     "name": "stdout",
     "output_type": "stream",
     "text": [
      "[ 0.13818165 -0.06730301 -0.22427983  0.11962145  0.63252811  0.31001254\n",
      "  0.41688275 -0.17406694 -0.07665459 -0.07544467]\n",
      "1151106.403360825\n"
     ]
    }
   ],
   "source": [
    "print(lr.coef_) # 추정된 회귀계수 (intercept제외)\n",
    "print(lr.intercept_) # intercept"
   ]
  },
  {
   "cell_type": "code",
   "execution_count": 125,
   "metadata": {},
   "outputs": [
    {
     "data": {
      "text/plain": [
       "0.8441765654936013"
      ]
     },
     "execution_count": 125,
     "metadata": {},
     "output_type": "execute_result"
    }
   ],
   "source": [
    "lr.score(st_x_test, st_y_test)"
   ]
  },
  {
   "cell_type": "markdown",
   "metadata": {},
   "source": [
    "### 최종 예측값의 MAPE ~!"
   ]
  },
  {
   "cell_type": "code",
   "execution_count": 126,
   "metadata": {},
   "outputs": [
    {
     "data": {
      "text/plain": [
       "26.237849479607352"
      ]
     },
     "execution_count": 126,
     "metadata": {},
     "output_type": "execute_result"
    }
   ],
   "source": [
    "MAPE(lr.predict(st_x_test), st_y_test)"
   ]
  },
  {
   "cell_type": "code",
   "execution_count": 127,
   "metadata": {},
   "outputs": [
    {
     "data": {
      "text/plain": [
       "array([ 9952919.78139105, 18555820.8300818 , 23988236.23728467, ...,\n",
       "       37215431.06148589, 26270664.02365527, 12786290.80664591])"
      ]
     },
     "execution_count": 127,
     "metadata": {},
     "output_type": "execute_result"
    }
   ],
   "source": [
    "lr.predict(st_x_test) # 최종 예측값 "
   ]
  },
  {
   "cell_type": "markdown",
   "metadata": {},
   "source": [
    "## 2. feature selection : 유의미한 모델만 결과에 넣기!\n",
    "* from 캐글.. : https://www.kaggle.com/jnikhilsai/cross-validation-with-linear-regression\n",
    "* RFE : Backward 방식중 하나로, 모든 변수를 우선 다 포함시킨 후 반복해서 학습을 진행하면서 중요도가 낮은 변수를 하나씩 제거하는 방식"
   ]
  },
  {
   "cell_type": "code",
   "execution_count": 128,
   "metadata": {},
   "outputs": [],
   "source": [
    "from sklearn.feature_selection import RFE\n",
    "from sklearn.model_selection import GridSearchCV\n",
    "from sklearn.metrics import r2_score"
   ]
  },
  {
   "cell_type": "code",
   "execution_count": 131,
   "metadata": {},
   "outputs": [
    {
     "name": "stdout",
     "output_type": "stream",
     "text": [
      "Fitting 5 folds for each of 10 candidates, totalling 50 fits\n"
     ]
    },
    {
     "name": "stderr",
     "output_type": "stream",
     "text": [
      "[Parallel(n_jobs=1)]: Using backend SequentialBackend with 1 concurrent workers.\n",
      "[Parallel(n_jobs=1)]: Done  50 out of  50 | elapsed:    0.9s finished\n"
     ]
    },
    {
     "data": {
      "text/plain": [
       "GridSearchCV(cv=KFold(n_splits=5, random_state=77, shuffle=True),\n",
       "             estimator=RFE(estimator=LinearRegression()),\n",
       "             param_grid=[{'n_features_to_select': [1, 2, 3, 4, 5, 6, 7, 8, 9,\n",
       "                                                   10]}],\n",
       "             return_train_score=True, scoring='r2', verbose=1)"
      ]
     },
     "execution_count": 131,
     "metadata": {},
     "output_type": "execute_result"
    }
   ],
   "source": [
    "# step-1: create a cross-validation scheme\n",
    "folds = KFold(n_splits = 5, shuffle = True, random_state = 77)\n",
    "\n",
    "# step-2: specify range of hyperparameters to tune\n",
    "hyper_params = [{'n_features_to_select': list(range(1, 11))}]\n",
    "\n",
    "\n",
    "# step-3: perform grid search\n",
    "# 3.1 specify model\n",
    "lm = LinearRegression()\n",
    "lm.fit(st_x_train, st_y_train)\n",
    "rfe = RFE(lm)             \n",
    "\n",
    "# 3.2 call GridSearchCV()\n",
    "model_cv = GridSearchCV(estimator = rfe, \n",
    "                        param_grid = hyper_params, \n",
    "                        scoring= 'r2', \n",
    "                        cv = folds, \n",
    "                        verbose = 1,\n",
    "                        return_train_score=True)      \n",
    "\n",
    "# fit the model\n",
    "model_cv.fit(st_x_train, st_y_train)   "
   ]
  },
  {
   "cell_type": "code",
   "execution_count": 132,
   "metadata": {},
   "outputs": [
    {
     "data": {
      "text/html": [
       "<div>\n",
       "<style scoped>\n",
       "    .dataframe tbody tr th:only-of-type {\n",
       "        vertical-align: middle;\n",
       "    }\n",
       "\n",
       "    .dataframe tbody tr th {\n",
       "        vertical-align: top;\n",
       "    }\n",
       "\n",
       "    .dataframe thead th {\n",
       "        text-align: right;\n",
       "    }\n",
       "</style>\n",
       "<table border=\"1\" class=\"dataframe\">\n",
       "  <thead>\n",
       "    <tr style=\"text-align: right;\">\n",
       "      <th></th>\n",
       "      <th>mean_fit_time</th>\n",
       "      <th>std_fit_time</th>\n",
       "      <th>mean_score_time</th>\n",
       "      <th>std_score_time</th>\n",
       "      <th>param_n_features_to_select</th>\n",
       "      <th>params</th>\n",
       "      <th>split0_test_score</th>\n",
       "      <th>split1_test_score</th>\n",
       "      <th>split2_test_score</th>\n",
       "      <th>split3_test_score</th>\n",
       "      <th>split4_test_score</th>\n",
       "      <th>mean_test_score</th>\n",
       "      <th>std_test_score</th>\n",
       "      <th>rank_test_score</th>\n",
       "      <th>split0_train_score</th>\n",
       "      <th>split1_train_score</th>\n",
       "      <th>split2_train_score</th>\n",
       "      <th>split3_train_score</th>\n",
       "      <th>split4_train_score</th>\n",
       "      <th>mean_train_score</th>\n",
       "      <th>std_train_score</th>\n",
       "    </tr>\n",
       "  </thead>\n",
       "  <tbody>\n",
       "    <tr>\n",
       "      <th>0</th>\n",
       "      <td>0.025</td>\n",
       "      <td>0.003</td>\n",
       "      <td>0.002</td>\n",
       "      <td>0.000</td>\n",
       "      <td>1</td>\n",
       "      <td>{'n_features_to_select': 1}</td>\n",
       "      <td>0.824</td>\n",
       "      <td>0.788</td>\n",
       "      <td>0.804</td>\n",
       "      <td>0.793</td>\n",
       "      <td>0.820</td>\n",
       "      <td>0.806</td>\n",
       "      <td>0.014</td>\n",
       "      <td>10</td>\n",
       "      <td>0.801</td>\n",
       "      <td>0.811</td>\n",
       "      <td>0.807</td>\n",
       "      <td>0.809</td>\n",
       "      <td>0.803</td>\n",
       "      <td>0.806</td>\n",
       "      <td>0.004</td>\n",
       "    </tr>\n",
       "    <tr>\n",
       "      <th>1</th>\n",
       "      <td>0.021</td>\n",
       "      <td>0.002</td>\n",
       "      <td>0.002</td>\n",
       "      <td>0.000</td>\n",
       "      <td>2</td>\n",
       "      <td>{'n_features_to_select': 2}</td>\n",
       "      <td>0.825</td>\n",
       "      <td>0.788</td>\n",
       "      <td>0.806</td>\n",
       "      <td>0.795</td>\n",
       "      <td>0.821</td>\n",
       "      <td>0.807</td>\n",
       "      <td>0.014</td>\n",
       "      <td>9</td>\n",
       "      <td>0.803</td>\n",
       "      <td>0.812</td>\n",
       "      <td>0.808</td>\n",
       "      <td>0.811</td>\n",
       "      <td>0.804</td>\n",
       "      <td>0.808</td>\n",
       "      <td>0.004</td>\n",
       "    </tr>\n",
       "    <tr>\n",
       "      <th>2</th>\n",
       "      <td>0.018</td>\n",
       "      <td>0.002</td>\n",
       "      <td>0.002</td>\n",
       "      <td>0.000</td>\n",
       "      <td>3</td>\n",
       "      <td>{'n_features_to_select': 3}</td>\n",
       "      <td>0.824</td>\n",
       "      <td>0.789</td>\n",
       "      <td>0.806</td>\n",
       "      <td>0.795</td>\n",
       "      <td>0.821</td>\n",
       "      <td>0.807</td>\n",
       "      <td>0.014</td>\n",
       "      <td>8</td>\n",
       "      <td>0.803</td>\n",
       "      <td>0.813</td>\n",
       "      <td>0.808</td>\n",
       "      <td>0.811</td>\n",
       "      <td>0.804</td>\n",
       "      <td>0.808</td>\n",
       "      <td>0.004</td>\n",
       "    </tr>\n",
       "    <tr>\n",
       "      <th>3</th>\n",
       "      <td>0.015</td>\n",
       "      <td>0.000</td>\n",
       "      <td>0.002</td>\n",
       "      <td>0.000</td>\n",
       "      <td>4</td>\n",
       "      <td>{'n_features_to_select': 4}</td>\n",
       "      <td>0.824</td>\n",
       "      <td>0.789</td>\n",
       "      <td>0.807</td>\n",
       "      <td>0.795</td>\n",
       "      <td>0.821</td>\n",
       "      <td>0.807</td>\n",
       "      <td>0.014</td>\n",
       "      <td>7</td>\n",
       "      <td>0.803</td>\n",
       "      <td>0.813</td>\n",
       "      <td>0.808</td>\n",
       "      <td>0.811</td>\n",
       "      <td>0.805</td>\n",
       "      <td>0.808</td>\n",
       "      <td>0.004</td>\n",
       "    </tr>\n",
       "    <tr>\n",
       "      <th>4</th>\n",
       "      <td>0.014</td>\n",
       "      <td>0.000</td>\n",
       "      <td>0.002</td>\n",
       "      <td>0.000</td>\n",
       "      <td>5</td>\n",
       "      <td>{'n_features_to_select': 5}</td>\n",
       "      <td>0.824</td>\n",
       "      <td>0.788</td>\n",
       "      <td>0.806</td>\n",
       "      <td>0.796</td>\n",
       "      <td>0.821</td>\n",
       "      <td>0.807</td>\n",
       "      <td>0.014</td>\n",
       "      <td>6</td>\n",
       "      <td>0.803</td>\n",
       "      <td>0.813</td>\n",
       "      <td>0.808</td>\n",
       "      <td>0.812</td>\n",
       "      <td>0.805</td>\n",
       "      <td>0.808</td>\n",
       "      <td>0.004</td>\n",
       "    </tr>\n",
       "    <tr>\n",
       "      <th>5</th>\n",
       "      <td>0.013</td>\n",
       "      <td>0.000</td>\n",
       "      <td>0.002</td>\n",
       "      <td>0.000</td>\n",
       "      <td>6</td>\n",
       "      <td>{'n_features_to_select': 6}</td>\n",
       "      <td>0.825</td>\n",
       "      <td>0.788</td>\n",
       "      <td>0.807</td>\n",
       "      <td>0.796</td>\n",
       "      <td>0.821</td>\n",
       "      <td>0.808</td>\n",
       "      <td>0.014</td>\n",
       "      <td>5</td>\n",
       "      <td>0.804</td>\n",
       "      <td>0.813</td>\n",
       "      <td>0.809</td>\n",
       "      <td>0.812</td>\n",
       "      <td>0.805</td>\n",
       "      <td>0.809</td>\n",
       "      <td>0.004</td>\n",
       "    </tr>\n",
       "    <tr>\n",
       "      <th>6</th>\n",
       "      <td>0.011</td>\n",
       "      <td>0.000</td>\n",
       "      <td>0.002</td>\n",
       "      <td>0.000</td>\n",
       "      <td>7</td>\n",
       "      <td>{'n_features_to_select': 7}</td>\n",
       "      <td>0.825</td>\n",
       "      <td>0.788</td>\n",
       "      <td>0.807</td>\n",
       "      <td>0.796</td>\n",
       "      <td>0.822</td>\n",
       "      <td>0.808</td>\n",
       "      <td>0.014</td>\n",
       "      <td>4</td>\n",
       "      <td>0.804</td>\n",
       "      <td>0.813</td>\n",
       "      <td>0.809</td>\n",
       "      <td>0.812</td>\n",
       "      <td>0.805</td>\n",
       "      <td>0.809</td>\n",
       "      <td>0.004</td>\n",
       "    </tr>\n",
       "    <tr>\n",
       "      <th>7</th>\n",
       "      <td>0.009</td>\n",
       "      <td>0.000</td>\n",
       "      <td>0.002</td>\n",
       "      <td>0.000</td>\n",
       "      <td>8</td>\n",
       "      <td>{'n_features_to_select': 8}</td>\n",
       "      <td>0.825</td>\n",
       "      <td>0.789</td>\n",
       "      <td>0.807</td>\n",
       "      <td>0.796</td>\n",
       "      <td>0.823</td>\n",
       "      <td>0.808</td>\n",
       "      <td>0.014</td>\n",
       "      <td>3</td>\n",
       "      <td>0.804</td>\n",
       "      <td>0.814</td>\n",
       "      <td>0.809</td>\n",
       "      <td>0.812</td>\n",
       "      <td>0.806</td>\n",
       "      <td>0.809</td>\n",
       "      <td>0.004</td>\n",
       "    </tr>\n",
       "    <tr>\n",
       "      <th>8</th>\n",
       "      <td>0.008</td>\n",
       "      <td>0.000</td>\n",
       "      <td>0.002</td>\n",
       "      <td>0.000</td>\n",
       "      <td>9</td>\n",
       "      <td>{'n_features_to_select': 9}</td>\n",
       "      <td>0.826</td>\n",
       "      <td>0.789</td>\n",
       "      <td>0.808</td>\n",
       "      <td>0.797</td>\n",
       "      <td>0.823</td>\n",
       "      <td>0.809</td>\n",
       "      <td>0.014</td>\n",
       "      <td>2</td>\n",
       "      <td>0.805</td>\n",
       "      <td>0.814</td>\n",
       "      <td>0.810</td>\n",
       "      <td>0.813</td>\n",
       "      <td>0.806</td>\n",
       "      <td>0.810</td>\n",
       "      <td>0.004</td>\n",
       "    </tr>\n",
       "    <tr>\n",
       "      <th>9</th>\n",
       "      <td>0.006</td>\n",
       "      <td>0.000</td>\n",
       "      <td>0.002</td>\n",
       "      <td>0.000</td>\n",
       "      <td>10</td>\n",
       "      <td>{'n_features_to_select': 10}</td>\n",
       "      <td>0.827</td>\n",
       "      <td>0.790</td>\n",
       "      <td>0.808</td>\n",
       "      <td>0.797</td>\n",
       "      <td>0.823</td>\n",
       "      <td>0.809</td>\n",
       "      <td>0.014</td>\n",
       "      <td>1</td>\n",
       "      <td>0.805</td>\n",
       "      <td>0.815</td>\n",
       "      <td>0.810</td>\n",
       "      <td>0.813</td>\n",
       "      <td>0.806</td>\n",
       "      <td>0.810</td>\n",
       "      <td>0.004</td>\n",
       "    </tr>\n",
       "  </tbody>\n",
       "</table>\n",
       "</div>"
      ],
      "text/plain": [
       "   mean_fit_time  std_fit_time  mean_score_time  std_score_time  \\\n",
       "0          0.025         0.003            0.002           0.000   \n",
       "1          0.021         0.002            0.002           0.000   \n",
       "2          0.018         0.002            0.002           0.000   \n",
       "3          0.015         0.000            0.002           0.000   \n",
       "4          0.014         0.000            0.002           0.000   \n",
       "5          0.013         0.000            0.002           0.000   \n",
       "6          0.011         0.000            0.002           0.000   \n",
       "7          0.009         0.000            0.002           0.000   \n",
       "8          0.008         0.000            0.002           0.000   \n",
       "9          0.006         0.000            0.002           0.000   \n",
       "\n",
       "  param_n_features_to_select                        params  split0_test_score  \\\n",
       "0                          1   {'n_features_to_select': 1}              0.824   \n",
       "1                          2   {'n_features_to_select': 2}              0.825   \n",
       "2                          3   {'n_features_to_select': 3}              0.824   \n",
       "3                          4   {'n_features_to_select': 4}              0.824   \n",
       "4                          5   {'n_features_to_select': 5}              0.824   \n",
       "5                          6   {'n_features_to_select': 6}              0.825   \n",
       "6                          7   {'n_features_to_select': 7}              0.825   \n",
       "7                          8   {'n_features_to_select': 8}              0.825   \n",
       "8                          9   {'n_features_to_select': 9}              0.826   \n",
       "9                         10  {'n_features_to_select': 10}              0.827   \n",
       "\n",
       "   split1_test_score  split2_test_score  split3_test_score  split4_test_score  \\\n",
       "0              0.788              0.804              0.793              0.820   \n",
       "1              0.788              0.806              0.795              0.821   \n",
       "2              0.789              0.806              0.795              0.821   \n",
       "3              0.789              0.807              0.795              0.821   \n",
       "4              0.788              0.806              0.796              0.821   \n",
       "5              0.788              0.807              0.796              0.821   \n",
       "6              0.788              0.807              0.796              0.822   \n",
       "7              0.789              0.807              0.796              0.823   \n",
       "8              0.789              0.808              0.797              0.823   \n",
       "9              0.790              0.808              0.797              0.823   \n",
       "\n",
       "   mean_test_score  std_test_score  rank_test_score  split0_train_score  \\\n",
       "0            0.806           0.014               10               0.801   \n",
       "1            0.807           0.014                9               0.803   \n",
       "2            0.807           0.014                8               0.803   \n",
       "3            0.807           0.014                7               0.803   \n",
       "4            0.807           0.014                6               0.803   \n",
       "5            0.808           0.014                5               0.804   \n",
       "6            0.808           0.014                4               0.804   \n",
       "7            0.808           0.014                3               0.804   \n",
       "8            0.809           0.014                2               0.805   \n",
       "9            0.809           0.014                1               0.805   \n",
       "\n",
       "   split1_train_score  split2_train_score  split3_train_score  \\\n",
       "0               0.811               0.807               0.809   \n",
       "1               0.812               0.808               0.811   \n",
       "2               0.813               0.808               0.811   \n",
       "3               0.813               0.808               0.811   \n",
       "4               0.813               0.808               0.812   \n",
       "5               0.813               0.809               0.812   \n",
       "6               0.813               0.809               0.812   \n",
       "7               0.814               0.809               0.812   \n",
       "8               0.814               0.810               0.813   \n",
       "9               0.815               0.810               0.813   \n",
       "\n",
       "   split4_train_score  mean_train_score  std_train_score  \n",
       "0               0.803             0.806            0.004  \n",
       "1               0.804             0.808            0.004  \n",
       "2               0.804             0.808            0.004  \n",
       "3               0.805             0.808            0.004  \n",
       "4               0.805             0.808            0.004  \n",
       "5               0.805             0.809            0.004  \n",
       "6               0.805             0.809            0.004  \n",
       "7               0.806             0.809            0.004  \n",
       "8               0.806             0.810            0.004  \n",
       "9               0.806             0.810            0.004  "
      ]
     },
     "execution_count": 132,
     "metadata": {},
     "output_type": "execute_result"
    }
   ],
   "source": [
    "# cv results\n",
    "cv_results = pd.DataFrame(model_cv.cv_results_)\n",
    "cv_results"
   ]
  },
  {
   "cell_type": "code",
   "execution_count": 133,
   "metadata": {},
   "outputs": [
    {
     "data": {
      "text/plain": [
       "<matplotlib.legend.Legend at 0x7ff1b1394fa0>"
      ]
     },
     "execution_count": 133,
     "metadata": {},
     "output_type": "execute_result"
    },
    {
     "data": {
      "image/png": "[encoded data removed]",
      "text/plain": [
       "<Figure size 1152x432 with 1 Axes>"
      ]
     },
     "metadata": {},
     "output_type": "display_data"
    }
   ],
   "source": [
    "# plotting cv results\n",
    "plt.figure(figsize=(16,6))\n",
    "\n",
    "plt.plot(cv_results[\"param_n_features_to_select\"], cv_results[\"mean_test_score\"])\n",
    "plt.plot(cv_results[\"param_n_features_to_select\"], cv_results[\"mean_train_score\"])\n",
    "plt.xlabel('number of features')\n",
    "plt.ylabel('r-squared')\n",
    "plt.title(\"Optimal Number of Features\")\n",
    "plt.legend(['test score', 'train score'], loc='upper left')"
   ]
  },
  {
   "cell_type": "code",
   "execution_count": 134,
   "metadata": {},
   "outputs": [
    {
     "name": "stdout",
     "output_type": "stream",
     "text": [
      "0.8441765654936013\n"
     ]
    }
   ],
   "source": [
    "# final model\n",
    "n_features_optimal = 10\n",
    "\n",
    "lm = LinearRegression()\n",
    "lm.fit(st_x_train, st_y_train)\n",
    "\n",
    "rfe = RFE(lm, n_features_to_select=n_features_optimal)             \n",
    "rfe = rfe.fit(st_x_train, st_y_train)\n",
    "\n",
    "# predict prices of X_test\n",
    "y_pred = lm.predict(st_x_test)\n",
    "r2 = r2_score(st_y_test, y_pred)\n",
    "print(r2)"
   ]
  },
  {
   "cell_type": "code",
   "execution_count": 135,
   "metadata": {},
   "outputs": [
    {
     "data": {
      "text/plain": [
       "array([ True,  True,  True,  True,  True,  True,  True,  True,  True,\n",
       "        True])"
      ]
     },
     "execution_count": 135,
     "metadata": {},
     "output_type": "execute_result"
    }
   ],
   "source": [
    "rfe.support_ # 'lgbm_pred0921-lgbm-optuna2.pickle', 'lgbm_pred0921-lgbm-bayes.pickle' 이거 두개 피쳐 썼다 "
   ]
  },
  {
   "cell_type": "code",
   "execution_count": 136,
   "metadata": {},
   "outputs": [
    {
     "name": "stdout",
     "output_type": "stream",
     "text": [
      "[ 0.13818165 -0.06730301 -0.22427983  0.11962145  0.63252811  0.31001254\n",
      "  0.41688275 -0.17406694 -0.07665459 -0.07544467]\n"
     ]
    }
   ],
   "source": [
    "print(rfe.estimator_.coef_)"
   ]
  },
  {
   "cell_type": "code",
   "execution_count": 137,
   "metadata": {},
   "outputs": [
    {
     "data": {
      "text/plain": [
       "1151106.403360825"
      ]
     },
     "execution_count": 137,
     "metadata": {},
     "output_type": "execute_result"
    }
   ],
   "source": [
    "rfe.estimator_.intercept_"
   ]
  },
  {
   "cell_type": "markdown",
   "metadata": {},
   "source": [
    "### 최종 MAPE값~!! "
   ]
  },
  {
   "cell_type": "code",
   "execution_count": 138,
   "metadata": {},
   "outputs": [
    {
     "data": {
      "text/plain": [
       "26.237849479607352"
      ]
     },
     "execution_count": 138,
     "metadata": {},
     "output_type": "execute_result"
    }
   ],
   "source": [
    "MAPE(y_pred, y_test)"
   ]
  },
  {
   "cell_type": "markdown",
   "metadata": {},
   "source": [
    "## 3. 절편 없는 linear regression "
   ]
  },
  {
   "cell_type": "code",
   "execution_count": 139,
   "metadata": {},
   "outputs": [],
   "source": [
    "lr2 = LinearRegression(fit_intercept=False)"
   ]
  },
  {
   "cell_type": "code",
   "execution_count": 140,
   "metadata": {},
   "outputs": [
    {
     "data": {
      "text/plain": [
       "0.8088884477690231"
      ]
     },
     "execution_count": 140,
     "metadata": {},
     "output_type": "execute_result"
    }
   ],
   "source": [
    "lr2.fit(st_x_train, st_y_train)\n",
    "train_pred = lr2.predict(st_x_train)\n",
    "lr2.score(st_x_train, st_y_train)"
   ]
  },
  {
   "cell_type": "code",
   "execution_count": 141,
   "metadata": {},
   "outputs": [
    {
     "name": "stdout",
     "output_type": "stream",
     "text": [
      "[ 0.15649294 -0.07364642 -0.21708059  0.10927126  0.62445588  0.30973601\n",
      "  0.41039137 -0.16519291 -0.07647256 -0.02872141]\n",
      "0.0\n"
     ]
    }
   ],
   "source": [
    "print(lr2.coef_) # 추정된 회귀계수 (intercept제외)\n",
    "print(lr2.intercept_) # intercept"
   ]
  },
  {
   "cell_type": "code",
   "execution_count": 142,
   "metadata": {},
   "outputs": [
    {
     "data": {
      "text/plain": [
       "0.8444428992061117"
      ]
     },
     "execution_count": 142,
     "metadata": {},
     "output_type": "execute_result"
    }
   ],
   "source": [
    "lr2.score(st_x_test, st_y_test)"
   ]
  },
  {
   "cell_type": "markdown",
   "metadata": {},
   "source": [
    "### 최종 MAPE"
   ]
  },
  {
   "cell_type": "code",
   "execution_count": 143,
   "metadata": {},
   "outputs": [
    {
     "data": {
      "text/plain": [
       "27.371770436264075"
      ]
     },
     "execution_count": 143,
     "metadata": {},
     "output_type": "execute_result"
    }
   ],
   "source": [
    "MAPE(lr2.predict(st_x_test), st_y_test)"
   ]
  },
  {
   "cell_type": "code",
   "execution_count": 144,
   "metadata": {},
   "outputs": [
    {
     "data": {
      "text/plain": [
       "array([ 9512082.48919697, 17982408.36893737, 23529785.40139205, ...,\n",
       "       36828568.1496459 , 25611827.21440176, 12333546.60081367])"
      ]
     },
     "execution_count": 144,
     "metadata": {},
     "output_type": "execute_result"
    }
   ],
   "source": [
    "lr2.predict(st_x_test)"
   ]
  },
  {
   "cell_type": "markdown",
   "metadata": {},
   "source": [
    "## 4. nnls \n",
    "* non-negative least square \n",
    "* 민정 앙상블 과제처럼, 모든 계수의 합이 positive가 되게끔 하는 방법 \n",
    "\n",
    "\n",
    "* 공식 sklearn 패키지는 없고, 사용하려면 scipy.optimize.nnls 사용해야 하는데, 사용법이 굉장히 복잡해 보임.. \n",
    "* 따라서 이와 식이 상당히 유사한 `Lasso Regression(alpha=0, positive=True)` 를 써 보겠음! "
   ]
  },
  {
   "cell_type": "code",
   "execution_count": 145,
   "metadata": {},
   "outputs": [],
   "source": [
    "from sklearn.linear_model import Lasso"
   ]
  },
  {
   "cell_type": "code",
   "execution_count": 146,
   "metadata": {},
   "outputs": [],
   "source": [
    "reg_nnls = Lasso(alpha=0, positive=True)"
   ]
  },
  {
   "cell_type": "code",
   "execution_count": 147,
   "metadata": {},
   "outputs": [
    {
     "data": {
      "text/plain": [
       "0.8079930796060792"
      ]
     },
     "execution_count": 147,
     "metadata": {},
     "output_type": "execute_result"
    }
   ],
   "source": [
    "reg_nnls.fit(st_x_train, st_y_train)\n",
    "train_pred = reg_nnls.predict(st_x_train)\n",
    "reg_nnls.score(st_x_train, st_y_train)"
   ]
  },
  {
   "cell_type": "code",
   "execution_count": 148,
   "metadata": {},
   "outputs": [
    {
     "name": "stdout",
     "output_type": "stream",
     "text": [
      "[0.16194853 0.         0.         0.00904134 0.65205739 0.11520242\n",
      " 0.11474    0.         0.         0.        ] 327031.0731033534\n"
     ]
    }
   ],
   "source": [
    "print(reg_nnls.coef_, reg_nnls.intercept_)"
   ]
  },
  {
   "cell_type": "code",
   "execution_count": 149,
   "metadata": {},
   "outputs": [
    {
     "data": {
      "text/plain": [
       "0.8429240621222148"
      ]
     },
     "execution_count": 149,
     "metadata": {},
     "output_type": "execute_result"
    }
   ],
   "source": [
    "reg_nnls.score(st_x_test, st_y_test)"
   ]
  },
  {
   "cell_type": "markdown",
   "metadata": {},
   "source": [
    "### 최종 MAPE"
   ]
  },
  {
   "cell_type": "code",
   "execution_count": 150,
   "metadata": {},
   "outputs": [
    {
     "data": {
      "text/plain": [
       "26.322258624889926"
      ]
     },
     "execution_count": 150,
     "metadata": {},
     "output_type": "execute_result"
    }
   ],
   "source": [
    "MAPE(reg_nnls.predict(st_x_test), st_y_test)"
   ]
  },
  {
   "cell_type": "markdown",
   "metadata": {},
   "source": [
    "### without intercept"
   ]
  },
  {
   "cell_type": "code",
   "execution_count": 151,
   "metadata": {},
   "outputs": [],
   "source": [
    "reg_nnls2 = Lasso(alpha=0, positive=True, fit_intercept=False)"
   ]
  },
  {
   "cell_type": "code",
   "execution_count": 152,
   "metadata": {},
   "outputs": [
    {
     "data": {
      "text/plain": [
       "0.8078766635056095"
      ]
     },
     "execution_count": 152,
     "metadata": {},
     "output_type": "execute_result"
    }
   ],
   "source": [
    "reg_nnls2.fit(st_x_train, st_y_train)\n",
    "train_pred = reg_nnls2.predict(st_x_train)\n",
    "reg_nnls2.score(st_x_train, st_y_train)"
   ]
  },
  {
   "cell_type": "code",
   "execution_count": 153,
   "metadata": {},
   "outputs": [
    {
     "name": "stdout",
     "output_type": "stream",
     "text": [
      "[0.12996957 0.         0.         0.00657519 0.67575647 0.13061537\n",
      " 0.11847114 0.         0.         0.        ] 0.0\n"
     ]
    }
   ],
   "source": [
    "print(reg_nnls2.coef_, reg_nnls2.intercept_)"
   ]
  },
  {
   "cell_type": "code",
   "execution_count": 154,
   "metadata": {},
   "outputs": [
    {
     "data": {
      "text/plain": [
       "0.8431941444345603"
      ]
     },
     "execution_count": 154,
     "metadata": {},
     "output_type": "execute_result"
    }
   ],
   "source": [
    "reg_nnls2.score(st_x_test, st_y_test)"
   ]
  },
  {
   "cell_type": "markdown",
   "metadata": {},
   "source": [
    "### 최종 MAPE"
   ]
  },
  {
   "cell_type": "code",
   "execution_count": 155,
   "metadata": {},
   "outputs": [
    {
     "data": {
      "text/plain": [
       "26.612890351553652"
      ]
     },
     "execution_count": 155,
     "metadata": {},
     "output_type": "execute_result"
    }
   ],
   "source": [
    "MAPE(reg_nnls2.predict(st_x_test), st_y_test)"
   ]
  }
 ],
 "metadata": {
  "kernelspec": {
   "display_name": "Python 3",
   "language": "python",
   "name": "python3"
  },
  "language_info": {
   "codemirror_mode": {
    "name": "ipython",
    "version": 3
   },
   "file_extension": ".py",
   "mimetype": "text/x-python",
   "name": "python",
   "nbconvert_exporter": "python",
   "pygments_lexer": "ipython3",
   "version": "3.8.3"
  }
 },
 "nbformat": 4,
 "nbformat_minor": 4
}
