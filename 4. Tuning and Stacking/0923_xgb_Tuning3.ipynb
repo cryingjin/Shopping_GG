{
  "nbformat": 4,
  "nbformat_minor": 0,
  "metadata": {
    "colab": {
      "name": "0923_xgb_Tuning3.ipynb",
      "provenance": [],
      "collapsed_sections": [],
      "machine_shape": "hm"
    },
    "kernelspec": {
      "name": "python3",
      "display_name": "Python 3"
    },
    "accelerator": "GPU"
  },
  "cells": [
    {
      "cell_type": "markdown",
      "metadata": {
        "id": "ZQLIyUtCph96",
        "colab_type": "text"
      },
      "source": [
        "# 튜닝 포기.. ㅠ \n",
        "* 민정 코랩프로에서도 RAM 초과했다고 뜨고 연결 끊김 ..\n",
        "* bayesian optimization 에서 찾은 두개 파라미터 가지고 일단 예측값 뽑겠음.."
      ]
    },
    {
      "cell_type": "code",
      "metadata": {
        "id": "_H_89W2fpc4I",
        "colab_type": "code",
        "colab": {}
      },
      "source": [
        "import os\n",
        "import sys\n",
        "import joblib\n",
        "import pickle as pkl\n",
        "\n",
        "import warnings\n",
        "from sklearn.exceptions import DataConversionWarning\n",
        "warnings.filterwarnings(action='ignore')\n",
        "warnings.filterwarnings(action='ignore', category=DataConversionWarning)\n",
        "\n",
        "\n",
        "import pandas as pd \n",
        "import numpy as np\n",
        "\n",
        "\n",
        "from IPython.display import display\n",
        "pd.options.display.max_rows = 999\n",
        "pd.options.display.max_columns = 999\n",
        "pd.set_option('display.max_info_columns', 500)"
      ],
      "execution_count": 1,
      "outputs": []
    },
    {
      "cell_type": "code",
      "metadata": {
        "id": "R3ai8dGTqDoO",
        "colab_type": "code",
        "colab": {}
      },
      "source": [
        "# !git clone --recursive https://github.com/dmlc/xgboost\n",
        "# cd xgboost\n",
        "# !mkdir build\n",
        "# cd build\n",
        "# !pip install cmake --upgrade\n",
        "# !cmake .. -DUSE_CUDA=ON -DUSE_NCCL=ON\n",
        "# !make -j4\n",
        "# cd ../python-package\n",
        "# !sudo python setup.py install\n",
        "# !sudo apt-get install python-setuptools\n",
        "# !pip3 install scikit-learn==0.21.3 --upgrade"
      ],
      "execution_count": null,
      "outputs": []
    },
    {
      "cell_type": "code",
      "metadata": {
        "id": "iBVto2yuqkwz",
        "colab_type": "code",
        "colab": {
          "base_uri": "https://localhost:8080/",
          "height": 34
        },
        "outputId": "caf393b9-a23d-479a-ec68-f80d1080c3d6"
      },
      "source": [
        "cd /content/drive/My Drive/쇼핑광고등어/3. Modeling/재빈"
      ],
      "execution_count": 2,
      "outputs": [
        {
          "output_type": "stream",
          "text": [
            "/content/drive/.shortcut-targets-by-id/103/쇼핑광고등어/3. Modeling/재빈\n"
          ],
          "name": "stdout"
        }
      ]
    },
    {
      "cell_type": "code",
      "metadata": {
        "id": "a4cobPP2ugL6",
        "colab_type": "code",
        "colab": {}
      },
      "source": [
        "import SHAPvalue as SHAP"
      ],
      "execution_count": 4,
      "outputs": []
    },
    {
      "cell_type": "code",
      "metadata": {
        "id": "W3WiaV3tujnW",
        "colab_type": "code",
        "colab": {}
      },
      "source": [
        "data_v4 = joblib.load(os.path.join('..', '..', '1. Data', '05_분석데이터', '7th_train_FE.pkl'))\n",
        "locals().update(data_v4)"
      ],
      "execution_count": 5,
      "outputs": []
    },
    {
      "cell_type": "code",
      "metadata": {
        "id": "Mvp04gcdun7s",
        "colab_type": "code",
        "colab": {
          "base_uri": "https://localhost:8080/",
          "height": 34
        },
        "outputId": "7ace59bf-94a2-433b-c6af-2098f57dc42b"
      },
      "source": [
        "X = data_v4['X'] ; y = data_v4['y']\n",
        "X.shape, y.shape"
      ],
      "execution_count": 6,
      "outputs": [
        {
          "output_type": "execute_result",
          "data": {
            "text/plain": [
              "((35379, 402), (35379,))"
            ]
          },
          "metadata": {
            "tags": []
          },
          "execution_count": 6
        }
      ]
    },
    {
      "cell_type": "code",
      "metadata": {
        "id": "oT4ycCHWuqyU",
        "colab_type": "code",
        "colab": {}
      },
      "source": [
        "y2 = np.log1p(y)"
      ],
      "execution_count": 7,
      "outputs": []
    },
    {
      "cell_type": "code",
      "metadata": {
        "id": "dV7WuZzautfT",
        "colab_type": "code",
        "colab": {}
      },
      "source": [
        "xgb_params1 = {'nthread': -1, 'silent': 1, 'objective': 'reg:linear', 'eval_metric': 'rmse', \n",
        "               'n_estimators': 30000, 'seed': 77, 'reg_lambda': 0.277811599784738, 'reg_alpha': 0.5265616801568432, \n",
        "               'gamma': 0.11321148503184236, 'max_depth': 10, 'colsample_bytree': 0.3325604096809647, \n",
        "               'colsample_bylevel': 0.6388836586569682, 'min_child_weight': 5.150227706822387, 'subsample': 0.9045162110288896, \n",
        "               'max_bin': 215, 'eta': 0.0058777986947314, 'tree_method': 'gpu_hist', 'predictor': 'gpu_predictor'}"
      ],
      "execution_count": 8,
      "outputs": []
    },
    {
      "cell_type": "code",
      "metadata": {
        "id": "pZQIhsARvThu",
        "colab_type": "code",
        "colab": {
          "base_uri": "https://localhost:8080/",
          "height": 1000
        },
        "outputId": "a9badd9d-f5a9-4d54-91b3-48d3f6a35ebd"
      },
      "source": [
        "%%time\n",
        "xgb_mape1, xgb_pred1, xgb_shap1 = SHAP.xgb_SHAP(X, y2, xgb_params1, version='0923-xgb-bayes1', cv_splits=5, scaling='MinMax', epoch=30000)"
      ],
      "execution_count": 9,
      "outputs": [
        {
          "output_type": "stream",
          "text": [
            "[16:55:27] WARNING: /content/xgboost/src/objective/regression_obj.cu:171: reg:linear is now deprecated in favor of reg:squarederror.\n",
            "[16:55:27] WARNING: /content/xgboost/src/learner.cc:529: \n",
            "Parameters: { n_estimators, silent } might not be used.\n",
            "\n",
            "  This may not be accurate due to some parameters are only used in language bindings but\n",
            "  passed down to XGBoost core.  Or some parameters are not used but slip through this\n",
            "  verification. Please open an issue if you find above cases.\n",
            "\n",
            "\n",
            "[0]\ttrain-rmse:15.99173\tvalid-rmse:15.97405\n",
            "Multiple eval metrics have been passed: 'valid-rmse' will be used for early stopping.\n",
            "\n",
            "Will train until valid-rmse hasn't improved in 500 rounds.\n",
            "[2500]\ttrain-rmse:0.23827\tvalid-rmse:0.41621\n",
            "[5000]\ttrain-rmse:0.21725\tvalid-rmse:0.41337\n",
            "[7500]\ttrain-rmse:0.21404\tvalid-rmse:0.41303\n",
            "[10000]\ttrain-rmse:0.21228\tvalid-rmse:0.41289\n",
            "Stopping. Best iteration:\n",
            "[11226]\ttrain-rmse:0.21167\tvalid-rmse:0.41281\n",
            "\n",
            "[16:57:06] WARNING: /content/xgboost/src/objective/regression_obj.cu:171: reg:linear is now deprecated in favor of reg:squarederror.\n",
            "[16:57:06] WARNING: /content/xgboost/src/learner.cc:529: \n",
            "Parameters: { n_estimators, silent } might not be used.\n",
            "\n",
            "  This may not be accurate due to some parameters are only used in language bindings but\n",
            "  passed down to XGBoost core.  Or some parameters are not used but slip through this\n",
            "  verification. Please open an issue if you find above cases.\n",
            "\n",
            "\n",
            "[0]\ttrain-rmse:15.98795\tvalid-rmse:15.98933\n",
            "Multiple eval metrics have been passed: 'valid-rmse' will be used for early stopping.\n",
            "\n",
            "Will train until valid-rmse hasn't improved in 500 rounds.\n",
            "[2500]\ttrain-rmse:0.23904\tvalid-rmse:0.40520\n",
            "[5000]\ttrain-rmse:0.21770\tvalid-rmse:0.40189\n",
            "[7500]\ttrain-rmse:0.21450\tvalid-rmse:0.40156\n",
            "[10000]\ttrain-rmse:0.21275\tvalid-rmse:0.40137\n",
            "Stopping. Best iteration:\n",
            "[10254]\ttrain-rmse:0.21259\tvalid-rmse:0.40136\n",
            "\n",
            "[16:58:43] WARNING: /content/xgboost/src/objective/regression_obj.cu:171: reg:linear is now deprecated in favor of reg:squarederror.\n",
            "[16:58:43] WARNING: /content/xgboost/src/learner.cc:529: \n",
            "Parameters: { n_estimators, silent } might not be used.\n",
            "\n",
            "  This may not be accurate due to some parameters are only used in language bindings but\n",
            "  passed down to XGBoost core.  Or some parameters are not used but slip through this\n",
            "  verification. Please open an issue if you find above cases.\n",
            "\n",
            "\n",
            "[0]\ttrain-rmse:15.98611\tvalid-rmse:15.99660\n",
            "Multiple eval metrics have been passed: 'valid-rmse' will be used for early stopping.\n",
            "\n",
            "Will train until valid-rmse hasn't improved in 500 rounds.\n",
            "[2500]\ttrain-rmse:0.23656\tvalid-rmse:0.42660\n",
            "[5000]\ttrain-rmse:0.21757\tvalid-rmse:0.42265\n",
            "[7500]\ttrain-rmse:0.21405\tvalid-rmse:0.42217\n",
            "[10000]\ttrain-rmse:0.21247\tvalid-rmse:0.42194\n",
            "[12500]\ttrain-rmse:0.21142\tvalid-rmse:0.42182\n",
            "Stopping. Best iteration:\n",
            "[14363]\ttrain-rmse:0.21064\tvalid-rmse:0.42166\n",
            "\n",
            "[17:00:31] WARNING: /content/xgboost/src/objective/regression_obj.cu:171: reg:linear is now deprecated in favor of reg:squarederror.\n",
            "[17:00:31] WARNING: /content/xgboost/src/learner.cc:529: \n",
            "Parameters: { n_estimators, silent } might not be used.\n",
            "\n",
            "  This may not be accurate due to some parameters are only used in language bindings but\n",
            "  passed down to XGBoost core.  Or some parameters are not used but slip through this\n",
            "  verification. Please open an issue if you find above cases.\n",
            "\n",
            "\n",
            "[0]\ttrain-rmse:15.98655\tvalid-rmse:15.99483\n",
            "Multiple eval metrics have been passed: 'valid-rmse' will be used for early stopping.\n",
            "\n",
            "Will train until valid-rmse hasn't improved in 500 rounds.\n",
            "[2500]\ttrain-rmse:0.23726\tvalid-rmse:0.41995\n",
            "[5000]\ttrain-rmse:0.21692\tvalid-rmse:0.41615\n",
            "[7500]\ttrain-rmse:0.21404\tvalid-rmse:0.41580\n",
            "[10000]\ttrain-rmse:0.21253\tvalid-rmse:0.41557\n",
            "[12500]\ttrain-rmse:0.21137\tvalid-rmse:0.41537\n",
            "[15000]\ttrain-rmse:0.21036\tvalid-rmse:0.41522\n",
            "[17500]\ttrain-rmse:0.20952\tvalid-rmse:0.41512\n",
            "Stopping. Best iteration:\n",
            "[18839]\ttrain-rmse:0.20926\tvalid-rmse:0.41509\n",
            "\n",
            "[17:02:32] WARNING: /content/xgboost/src/objective/regression_obj.cu:171: reg:linear is now deprecated in favor of reg:squarederror.\n",
            "[17:02:32] WARNING: /content/xgboost/src/learner.cc:529: \n",
            "Parameters: { n_estimators, silent } might not be used.\n",
            "\n",
            "  This may not be accurate due to some parameters are only used in language bindings but\n",
            "  passed down to XGBoost core.  Or some parameters are not used but slip through this\n",
            "  verification. Please open an issue if you find above cases.\n",
            "\n",
            "\n",
            "[0]\ttrain-rmse:15.98871\tvalid-rmse:15.98621\n",
            "Multiple eval metrics have been passed: 'valid-rmse' will be used for early stopping.\n",
            "\n",
            "Will train until valid-rmse hasn't improved in 500 rounds.\n",
            "[2500]\ttrain-rmse:0.23666\tvalid-rmse:0.42094\n",
            "[5000]\ttrain-rmse:0.21569\tvalid-rmse:0.41768\n",
            "[7500]\ttrain-rmse:0.21262\tvalid-rmse:0.41738\n",
            "[10000]\ttrain-rmse:0.21117\tvalid-rmse:0.41727\n",
            "Stopping. Best iteration:\n",
            "[9796]\ttrain-rmse:0.21125\tvalid-rmse:0.41727\n",
            "\n",
            "CPU times: user 7min 24s, sys: 1min 16s, total: 8min 41s\n",
            "Wall time: 8min 40s\n"
          ],
          "name": "stdout"
        }
      ]
    },
    {
      "cell_type": "code",
      "metadata": {
        "id": "SmVfqq7pvc0s",
        "colab_type": "code",
        "colab": {
          "base_uri": "https://localhost:8080/",
          "height": 204
        },
        "outputId": "818a3660-69ec-4ab5-c4c9-d25551938a8c"
      },
      "source": [
        "xgb_mape1"
      ],
      "execution_count": 10,
      "outputs": [
        {
          "output_type": "execute_result",
          "data": {
            "text/plain": [
              "{'final_mape': [33.25762917493499],\n",
              " 'test_mape': [33.90831092875286,\n",
              "  33.86590171154669,\n",
              "  34.12583549169469,\n",
              "  33.437481695491286,\n",
              "  34.086250933504644],\n",
              " 'val_mape': [34.174500538479414,\n",
              "  32.75923263403753,\n",
              "  35.10576780719707,\n",
              "  33.133626748820205,\n",
              "  34.968654103984676]}"
            ]
          },
          "metadata": {
            "tags": []
          },
          "execution_count": 10
        }
      ]
    },
    {
      "cell_type": "code",
      "metadata": {
        "id": "X0qYpphCveR5",
        "colab_type": "code",
        "colab": {}
      },
      "source": [
        "xgb_params2 = {'nthread': -1, 'silent': 1, 'objective': 'reg:linear', 'eval_metric': 'rmse', \n",
        "               'n_estimators': 30000, 'seed': 77, 'reg_lambda': 0.240994940692138, \n",
        "               'reg_alpha': 0.5415267536544917, 'gamma': 0.14017525353463228, 'max_depth': 25, \n",
        "               'colsample_bytree': 0.6425534043239316, 'colsample_bylevel': 0.9191899227673827, 'min_child_weight': 3.262183219407854, \n",
        "               'subsample': 0.545877502650329, 'max_bin': 51, 'eta': 0.007783410067562591, 'tree_method': 'gpu_hist', 'predictor': 'gpu_predictor'}"
      ],
      "execution_count": 11,
      "outputs": []
    },
    {
      "cell_type": "code",
      "metadata": {
        "id": "e3_k7sT-v785",
        "colab_type": "code",
        "colab": {
          "base_uri": "https://localhost:8080/",
          "height": 1000
        },
        "outputId": "2d05fc25-9e5c-4b4e-e480-368a1226b758"
      },
      "source": [
        "%%time\n",
        "xgb_mape2, xgb_pred2, xgb_shap2 = SHAP.xgb_SHAP(X, y2, xgb_params2, version='0923-xgb-bayes2', cv_splits=5, scaling='MinMax', epoch=30000)"
      ],
      "execution_count": 12,
      "outputs": [
        {
          "output_type": "stream",
          "text": [
            "[17:04:08] WARNING: /content/xgboost/src/objective/regression_obj.cu:171: reg:linear is now deprecated in favor of reg:squarederror.\n",
            "[17:04:08] WARNING: /content/xgboost/src/learner.cc:529: \n",
            "Parameters: { n_estimators, silent } might not be used.\n",
            "\n",
            "  This may not be accurate due to some parameters are only used in language bindings but\n",
            "  passed down to XGBoost core.  Or some parameters are not used but slip through this\n",
            "  verification. Please open an issue if you find above cases.\n",
            "\n",
            "\n",
            "[0]\ttrain-rmse:15.96119\tvalid-rmse:15.94350\n",
            "Multiple eval metrics have been passed: 'valid-rmse' will be used for early stopping.\n",
            "\n",
            "Will train until valid-rmse hasn't improved in 500 rounds.\n",
            "[2500]\ttrain-rmse:0.17364\tvalid-rmse:0.42002\n",
            "[5000]\ttrain-rmse:0.16778\tvalid-rmse:0.41945\n",
            "[7500]\ttrain-rmse:0.16525\tvalid-rmse:0.41918\n",
            "Stopping. Best iteration:\n",
            "[7824]\ttrain-rmse:0.16492\tvalid-rmse:0.41916\n",
            "\n",
            "[17:30:30] WARNING: /content/xgboost/src/objective/regression_obj.cu:171: reg:linear is now deprecated in favor of reg:squarederror.\n",
            "[17:30:30] WARNING: /content/xgboost/src/learner.cc:529: \n",
            "Parameters: { n_estimators, silent } might not be used.\n",
            "\n",
            "  This may not be accurate due to some parameters are only used in language bindings but\n",
            "  passed down to XGBoost core.  Or some parameters are not used but slip through this\n",
            "  verification. Please open an issue if you find above cases.\n",
            "\n",
            "\n",
            "[0]\ttrain-rmse:15.95743\tvalid-rmse:15.95881\n",
            "Multiple eval metrics have been passed: 'valid-rmse' will be used for early stopping.\n",
            "\n",
            "Will train until valid-rmse hasn't improved in 500 rounds.\n",
            "[2500]\ttrain-rmse:0.17390\tvalid-rmse:0.41082\n",
            "[5000]\ttrain-rmse:0.16811\tvalid-rmse:0.41010\n",
            "Stopping. Best iteration:\n",
            "[5346]\ttrain-rmse:0.16758\tvalid-rmse:0.41008\n",
            "\n",
            "[17:49:29] WARNING: /content/xgboost/src/objective/regression_obj.cu:171: reg:linear is now deprecated in favor of reg:squarederror.\n",
            "[17:49:29] WARNING: /content/xgboost/src/learner.cc:529: \n",
            "Parameters: { n_estimators, silent } might not be used.\n",
            "\n",
            "  This may not be accurate due to some parameters are only used in language bindings but\n",
            "  passed down to XGBoost core.  Or some parameters are not used but slip through this\n",
            "  verification. Please open an issue if you find above cases.\n",
            "\n",
            "\n",
            "[0]\ttrain-rmse:15.95559\tvalid-rmse:15.96617\n",
            "Multiple eval metrics have been passed: 'valid-rmse' will be used for early stopping.\n",
            "\n",
            "Will train until valid-rmse hasn't improved in 500 rounds.\n",
            "[2500]\ttrain-rmse:0.17411\tvalid-rmse:0.43073\n",
            "[5000]\ttrain-rmse:0.16850\tvalid-rmse:0.42964\n",
            "[7500]\ttrain-rmse:0.16591\tvalid-rmse:0.42925\n",
            "Stopping. Best iteration:\n",
            "[7116]\ttrain-rmse:0.16629\tvalid-rmse:0.42920\n",
            "\n",
            "[18:13:44] WARNING: /content/xgboost/src/objective/regression_obj.cu:171: reg:linear is now deprecated in favor of reg:squarederror.\n",
            "[18:13:44] WARNING: /content/xgboost/src/learner.cc:529: \n",
            "Parameters: { n_estimators, silent } might not be used.\n",
            "\n",
            "  This may not be accurate due to some parameters are only used in language bindings but\n",
            "  passed down to XGBoost core.  Or some parameters are not used but slip through this\n",
            "  verification. Please open an issue if you find above cases.\n",
            "\n",
            "\n",
            "[0]\ttrain-rmse:15.95599\tvalid-rmse:15.96420\n",
            "Multiple eval metrics have been passed: 'valid-rmse' will be used for early stopping.\n",
            "\n",
            "Will train until valid-rmse hasn't improved in 500 rounds.\n",
            "[2500]\ttrain-rmse:0.17394\tvalid-rmse:0.42405\n",
            "[5000]\ttrain-rmse:0.16804\tvalid-rmse:0.42323\n",
            "[7500]\ttrain-rmse:0.16544\tvalid-rmse:0.42289\n",
            "[10000]\ttrain-rmse:0.16379\tvalid-rmse:0.42256\n",
            "Stopping. Best iteration:\n",
            "[11455]\ttrain-rmse:0.16303\tvalid-rmse:0.42239\n",
            "\n",
            "[18:50:49] WARNING: /content/xgboost/src/objective/regression_obj.cu:171: reg:linear is now deprecated in favor of reg:squarederror.\n",
            "[18:50:49] WARNING: /content/xgboost/src/learner.cc:529: \n",
            "Parameters: { n_estimators, silent } might not be used.\n",
            "\n",
            "  This may not be accurate due to some parameters are only used in language bindings but\n",
            "  passed down to XGBoost core.  Or some parameters are not used but slip through this\n",
            "  verification. Please open an issue if you find above cases.\n",
            "\n",
            "\n",
            "[0]\ttrain-rmse:15.95811\tvalid-rmse:15.95564\n",
            "Multiple eval metrics have been passed: 'valid-rmse' will be used for early stopping.\n",
            "\n",
            "Will train until valid-rmse hasn't improved in 500 rounds.\n",
            "[2500]\ttrain-rmse:0.17330\tvalid-rmse:0.42364\n",
            "[5000]\ttrain-rmse:0.16745\tvalid-rmse:0.42309\n",
            "[7500]\ttrain-rmse:0.16501\tvalid-rmse:0.42280\n",
            "Stopping. Best iteration:\n",
            "[9192]\ttrain-rmse:0.16389\tvalid-rmse:0.42265\n",
            "\n",
            "CPU times: user 2h 15min 19s, sys: 1min 55s, total: 2h 17min 14s\n",
            "Wall time: 2h 17min 10s\n"
          ],
          "name": "stdout"
        }
      ]
    },
    {
      "cell_type": "code",
      "metadata": {
        "id": "y0VwWkcrwCfp",
        "colab_type": "code",
        "colab": {
          "base_uri": "https://localhost:8080/",
          "height": 204
        },
        "outputId": "bbb63d11-68c7-46d7-c992-046235b7ec7a"
      },
      "source": [
        "xgb_mape2"
      ],
      "execution_count": 13,
      "outputs": [
        {
          "output_type": "execute_result",
          "data": {
            "text/plain": [
              "{'final_mape': [33.567469959430795],\n",
              " 'test_mape': [34.654518716044905,\n",
              "  34.402505363364064,\n",
              "  34.683299806893366,\n",
              "  33.87694063824027,\n",
              "  34.337656983034066],\n",
              " 'val_mape': [34.51630814245672,\n",
              "  33.31204859818534,\n",
              "  35.52730292629475,\n",
              "  33.783285663323426,\n",
              "  35.213231176416215]}"
            ]
          },
          "metadata": {
            "tags": []
          },
          "execution_count": 13
        }
      ]
    },
    {
      "cell_type": "code",
      "metadata": {
        "id": "1xBbcj9PwHeG",
        "colab_type": "code",
        "colab": {}
      },
      "source": [
        "lgbm_params5 = {'num_leaves': 47, 'max_depth': 8, 'min_child_samples': 39, 'learning_rate': 0.019268151551455108, \n",
        "                'reg_lambda': 0.2959823312094688, 'min_split_gain': 0.01022963196332564, 'colsample_bytree': 0.7957384348169647, \n",
        "                'subsample': 0.8124183802143509, 'subsample_freq': 5, 'max_bin': 56, 'boosting': 'dart', 'objective': 'regression', \n",
        "                'metric': 'mape', 'is_training_metric': True, 'n_estimators' : 30000}"
      ],
      "execution_count": 14,
      "outputs": []
    },
    {
      "cell_type": "code",
      "metadata": {
        "id": "rJYtQyx5Lf4f",
        "colab_type": "code",
        "colab": {
          "base_uri": "https://localhost:8080/",
          "height": 1000
        },
        "outputId": "1bf881ea-fa29-47a8-c104-f80e15c74d33"
      },
      "source": [
        "%%time\n",
        "lgbm_mape5, lgbm_pred5, lgbm_shap5 = SHAP.lgbm_SHAP(X, y2, lgbm_params5, version='0923-lgbm-optuna2', cv_splits=5, scaling='MinMax', epoch=30000)"
      ],
      "execution_count": 15,
      "outputs": [
        {
          "output_type": "stream",
          "text": [
            "[2500]\tvalid_0's mape: 0.0330083\n",
            "[5000]\tvalid_0's mape: 0.0221403\n",
            "[7500]\tvalid_0's mape: 0.020158\n",
            "[10000]\tvalid_0's mape: 0.0194816\n",
            "[12500]\tvalid_0's mape: 0.0189459\n",
            "[15000]\tvalid_0's mape: 0.018794\n",
            "[17500]\tvalid_0's mape: 0.0185199\n",
            "[20000]\tvalid_0's mape: 0.0184295\n",
            "[22500]\tvalid_0's mape: 0.018342\n",
            "[25000]\tvalid_0's mape: 0.0184435\n",
            "[27500]\tvalid_0's mape: 0.0183897\n",
            "[30000]\tvalid_0's mape: 0.0185041\n",
            "[2500]\tvalid_0's mape: 0.0327154\n",
            "[5000]\tvalid_0's mape: 0.02176\n",
            "[7500]\tvalid_0's mape: 0.0196863\n",
            "[10000]\tvalid_0's mape: 0.0190301\n",
            "[12500]\tvalid_0's mape: 0.0184634\n",
            "[15000]\tvalid_0's mape: 0.0182952\n",
            "[17500]\tvalid_0's mape: 0.0180413\n",
            "[20000]\tvalid_0's mape: 0.0179559\n",
            "[22500]\tvalid_0's mape: 0.0178999\n",
            "[25000]\tvalid_0's mape: 0.0180138\n",
            "[27500]\tvalid_0's mape: 0.0179662\n",
            "[30000]\tvalid_0's mape: 0.0180633\n",
            "[2500]\tvalid_0's mape: 0.0333233\n",
            "[5000]\tvalid_0's mape: 0.0225164\n",
            "[7500]\tvalid_0's mape: 0.0204563\n",
            "[10000]\tvalid_0's mape: 0.0197715\n",
            "[12500]\tvalid_0's mape: 0.0192401\n",
            "[15000]\tvalid_0's mape: 0.0190792\n",
            "[17500]\tvalid_0's mape: 0.0188218\n",
            "[20000]\tvalid_0's mape: 0.0187307\n",
            "[22500]\tvalid_0's mape: 0.0186596\n",
            "[25000]\tvalid_0's mape: 0.0187673\n",
            "[27500]\tvalid_0's mape: 0.0186999\n",
            "[30000]\tvalid_0's mape: 0.01881\n",
            "[2500]\tvalid_0's mape: 0.0332057\n",
            "[5000]\tvalid_0's mape: 0.0223814\n",
            "[7500]\tvalid_0's mape: 0.0203194\n",
            "[10000]\tvalid_0's mape: 0.019621\n",
            "[12500]\tvalid_0's mape: 0.0190416\n",
            "[15000]\tvalid_0's mape: 0.0188689\n",
            "[17500]\tvalid_0's mape: 0.0185951\n",
            "[20000]\tvalid_0's mape: 0.0184859\n",
            "[22500]\tvalid_0's mape: 0.0183749\n",
            "[25000]\tvalid_0's mape: 0.0184834\n",
            "[27500]\tvalid_0's mape: 0.0183906\n",
            "[30000]\tvalid_0's mape: 0.018513\n",
            "[2500]\tvalid_0's mape: 0.0329809\n",
            "[5000]\tvalid_0's mape: 0.0221256\n",
            "[7500]\tvalid_0's mape: 0.0201775\n",
            "[10000]\tvalid_0's mape: 0.0195635\n",
            "[12500]\tvalid_0's mape: 0.0190355\n",
            "[15000]\tvalid_0's mape: 0.0188885\n",
            "[17500]\tvalid_0's mape: 0.0186422\n",
            "[20000]\tvalid_0's mape: 0.0185824\n",
            "[22500]\tvalid_0's mape: 0.0185087\n",
            "[25000]\tvalid_0's mape: 0.0186244\n",
            "[27500]\tvalid_0's mape: 0.0185764\n",
            "[30000]\tvalid_0's mape: 0.0186806\n",
            "CPU times: user 11h 40min 44s, sys: 48.5 s, total: 11h 41min 33s\n",
            "Wall time: 11h 41min 14s\n"
          ],
          "name": "stdout"
        }
      ]
    },
    {
      "cell_type": "code",
      "metadata": {
        "id": "3JozmgqGL0-X",
        "colab_type": "code",
        "colab": {
          "base_uri": "https://localhost:8080/",
          "height": 204
        },
        "outputId": "e6c9ccb1-4a24-4c98-883e-3b8567747c03"
      },
      "source": [
        "lgbm_mape5"
      ],
      "execution_count": 16,
      "outputs": [
        {
          "output_type": "execute_result",
          "data": {
            "text/plain": [
              "{'final_mape': [31.499030346657946],\n",
              " 'test_mape': [33.04979654869265,\n",
              "  32.58241601549007,\n",
              "  33.028891501150305,\n",
              "  32.43215582869324,\n",
              "  32.71787821205169],\n",
              " 'val_mape': [32.8871652063082,\n",
              "  31.58933132534079,\n",
              "  33.90274833206932,\n",
              "  31.942641892913343,\n",
              "  33.790077673644134]}"
            ]
          },
          "metadata": {
            "tags": []
          },
          "execution_count": 16
        }
      ]
    },
    {
      "cell_type": "code",
      "metadata": {
        "id": "5FaecuCqL4m0",
        "colab_type": "code",
        "colab": {}
      },
      "source": [
        ""
      ],
      "execution_count": null,
      "outputs": []
    }
  ]
}