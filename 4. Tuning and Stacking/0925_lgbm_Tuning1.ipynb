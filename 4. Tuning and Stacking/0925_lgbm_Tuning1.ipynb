{
  "nbformat": 4,
  "nbformat_minor": 0,
  "metadata": {
    "kernelspec": {
      "display_name": "Python 3",
      "language": "python",
      "name": "python3"
    },
    "language_info": {
      "codemirror_mode": {
        "name": "ipython",
        "version": 3
      },
      "file_extension": ".py",
      "mimetype": "text/x-python",
      "name": "python",
      "nbconvert_exporter": "python",
      "pygments_lexer": "ipython3",
      "version": "3.8.3"
    },
    "colab": {
      "name": "0925_lgbm_Tuning1.ipynb",
      "provenance": [],
      "collapsed_sections": [],
      "machine_shape": "hm"
    },
    "accelerator": "GPU"
  },
  "cells": [
    {
      "cell_type": "code",
      "metadata": {
        "id": "-qsDPQUlXqrI",
        "colab_type": "code",
        "colab": {}
      },
      "source": [
        "import os\n",
        "import sys\n",
        "import joblib\n",
        "import pickle as pkl"
      ],
      "execution_count": 2,
      "outputs": []
    },
    {
      "cell_type": "code",
      "metadata": {
        "id": "WCkRes3YXqrR",
        "colab_type": "code",
        "colab": {}
      },
      "source": [
        "import pandas as pd \n",
        "import numpy as np\n",
        "\n",
        "import joblib\n",
        "import pickle as pkl\n",
        "\n",
        "import warnings\n",
        "from sklearn.exceptions import DataConversionWarning\n",
        "warnings.filterwarnings(action='ignore')\n",
        "warnings.filterwarnings(action='ignore', category=DataConversionWarning)"
      ],
      "execution_count": 3,
      "outputs": []
    },
    {
      "cell_type": "code",
      "metadata": {
        "id": "Xy5nrIQPc66P",
        "colab_type": "code",
        "colab": {}
      },
      "source": [
        "# !git clone https://github.com/Microsoft/LightGBM\n",
        "# cd LightGBM\n",
        "# !mkdir build\n",
        "# !cmake -DUSE_GPU=1\n",
        "# !make -j$(nproc)\n",
        "# !sudo apt-get -y install python-pip\n",
        "# !sudo -H pip install setuptools pandas numpy scipy scikit-learn -U\n",
        "# %cd /content/LightGBM/python-package\n",
        "# !sudo python setup.py install\n",
        "# !pip3 install scikit-learn==0.21.3 --upgrade"
      ],
      "execution_count": null,
      "outputs": []
    },
    {
      "cell_type": "code",
      "metadata": {
        "id": "_bNLrIxyXqrV",
        "colab_type": "code",
        "colab": {}
      },
      "source": [
        "# MAPE \n",
        "def MAPE(y_true, y_pred): \n",
        "    y_true, y_pred = np.array(y_true), np.array(y_pred)\n",
        "    return np.mean(np.abs((y_true - y_pred) / y_true)) * 100"
      ],
      "execution_count": 4,
      "outputs": []
    },
    {
      "cell_type": "code",
      "metadata": {
        "id": "qNinVEgYXqra",
        "colab_type": "code",
        "colab": {}
      },
      "source": [
        "# MAPE_exp  \n",
        "def MAPE_exp(y_true, y_pred): \n",
        "    y_true, y_pred = np.array(y_true), np.array(y_pred)\n",
        "    return np.mean(np.abs((np.expm1(y_true) - np.expm1(y_pred)) / np.expm1(y_true))) * 100"
      ],
      "execution_count": 5,
      "outputs": []
    },
    {
      "cell_type": "markdown",
      "metadata": {
        "id": "lLpZteK6Xqrf",
        "colab_type": "text"
      },
      "source": [
        "# Modeling "
      ]
    },
    {
      "cell_type": "code",
      "metadata": {
        "id": "ZLQLXxNIXqrh",
        "colab_type": "code",
        "colab": {}
      },
      "source": [
        "import xgboost as xgb\n",
        "import lightgbm as lgb\n",
        "\n",
        "from sklearn.model_selection import KFold, cross_val_score, train_test_split\n",
        "from sklearn.preprocessing import StandardScaler, MinMaxScaler"
      ],
      "execution_count": 6,
      "outputs": []
    },
    {
      "cell_type": "code",
      "metadata": {
        "id": "YBRh0veMXqrl",
        "colab_type": "code",
        "colab": {}
      },
      "source": [
        "import shap\n",
        "import optuna "
      ],
      "execution_count": 8,
      "outputs": []
    },
    {
      "cell_type": "markdown",
      "metadata": {
        "id": "rjonaFNMXqrv",
        "colab_type": "text"
      },
      "source": [
        "### lightgbm"
      ]
    },
    {
      "cell_type": "code",
      "metadata": {
        "id": "Eb83Ng04Xqrw",
        "colab_type": "code",
        "colab": {}
      },
      "source": [
        "# for hyperparameter tuning : lgbm\n",
        "def lgbm_oof(X, y, params, version, x_test=None, scaling=False, shap=False, cv_splits=5, epoch=30000):\n",
        "\n",
        "    mape = {'val_mape'   : [], 'final_mape' : []}\n",
        "    pred = {'val_logpred': [], 'val_pred' : [], 'test_logpred': [], 'test_pred' : []}\n",
        "    scal = {'train_scaler' : []}\n",
        "    SHAP = {'shap_values': [], 'expected_values' : []}\n",
        "\n",
        "    \n",
        "    oof_pred = np.zeros(len(X))  # val을 통해 예측한 값 \n",
        "    if x_test is not None:       # hyperparameter tuning된 test 값으로 예측할 때  \n",
        "        test_pred = np.zeros(len(x_test))\n",
        "    \n",
        "    \n",
        "    # models save \n",
        "    models = [] \n",
        "    \n",
        "    \n",
        "    # K Fold Cross Validation\n",
        "    cv = KFold(n_splits=cv_splits, random_state=77, shuffle=True)\n",
        "    for t,v in cv.split(X):\n",
        "        X_train , X_val = X.iloc[t] , X.iloc[v]            \n",
        "        y_train , y_val = y.iloc[t] , y.iloc[v]\n",
        "        \n",
        "        \n",
        "        # scaling : MinMax or Standard \n",
        "        if scaling : \n",
        "            if scaling == 'MinMax' : \n",
        "                scaler = MinMaxScaler()\n",
        "            elif scaling == 'Standard' : \n",
        "                scaler = StandardScaler() \n",
        "\n",
        "            X_train = scaler.fit_transform(X_train)\n",
        "            X_val   = scaler.transform(X_val)\n",
        "\n",
        "            scal.append(scaler)\n",
        "            \n",
        "            if x_test is not None : \n",
        "                X_test = scaler.transform(x_test)\n",
        "                \n",
        "        else : \n",
        "            X_train = X_train.values\n",
        "            X_val = X_val.values\n",
        "            if x_test is not None : \n",
        "                X_test = x_test.values \n",
        "            \n",
        "        \n",
        "\n",
        "        # modeling \n",
        "        train_T = lgb.Dataset(X_train, label=y_train.values) \n",
        "        val_T   = lgb.Dataset(X_val,   label=y_val.values)  \n",
        "            \n",
        "        \n",
        "        model = lgb.train(params, train_T, epoch, valid_sets = val_T, verbose_eval=2500, early_stopping_rounds=500)\n",
        "        oof_pred[v] = model.predict(X_val)\n",
        "        models.append(model) \n",
        "        \n",
        "        \n",
        "        mape['val_mape'].append(MAPE_exp(y_val, oof_pred[v]))\n",
        "\n",
        "        \n",
        "        if x_test is not None :\n",
        "            test_pred += model.predict(X_test) / 5\n",
        "        \n",
        "        \n",
        "        \n",
        "        # SHAP\n",
        "        if shap : \n",
        "            explainer = shap.TreeExplainer(model)\n",
        "            shap_values = explainer.shap_values(X_test)\n",
        "            \n",
        "            SHAP['shap_values'].append(shap_values)\n",
        "            SHAP['expected_values'].append(explainer.expected_value)    \n",
        "        \n",
        "    \n",
        "    \n",
        "    mape['final_mape'].append(MAPE_exp(y, oof_pred))\n",
        "       \n",
        "    # preds\n",
        "    pred['val_logpred'].append(oof_pred)\n",
        "    pred['val_pred'].append(np.expm1(oof_pred))\n",
        "    if x_test is not None : \n",
        "        pred['test_logpred'].append(test_pred)\n",
        "        pred['test_pred'].append(np.expm1(test_pred))\n",
        "    \n",
        "    \n",
        "    # save models\n",
        "    with open('lgbm' + version + '.pickle', 'wb') as f:\n",
        "        pkl.dump(models, f, pkl.HIGHEST_PROTOCOL)\n",
        "\n",
        "    # save preds \n",
        "    with open('lgbm_pred' + version + '.pickle', 'wb') as f:\n",
        "        pkl.dump(pred, f, pkl.HIGHEST_PROTOCOL)\n",
        "    \n",
        "    # save scaler \n",
        "    if scaling : \n",
        "        with open('lgbm_scaler' + version + '.pickle', 'wb') as f:\n",
        "            pkl.dump(scal, f, pkl.HIGHEST_PROTOCOL)  \n",
        "\n",
        "    # save shap values \n",
        "    if shap : \n",
        "        with open('lgbm_shap' + version + '.pickle', 'wb') as f:\n",
        "            pkl.dump(SHAP, f, pkl.HIGHEST_PROTOCOL)  \n",
        "    \n",
        "            \n",
        "        \n",
        "    if x_test is None:\n",
        "        return models, oof_pred, mape, pred, scal, SHAP \n",
        "    else:\n",
        "        return models, oof_pred, mape, pred, scal, SHAP, test_pred"
      ],
      "execution_count": 8,
      "outputs": []
    },
    {
      "cell_type": "markdown",
      "metadata": {
        "id": "q78IA2JmXqr0",
        "colab_type": "text"
      },
      "source": [
        "### prediction ! "
      ]
    },
    {
      "cell_type": "code",
      "metadata": {
        "id": "XyzExTuPXqr1",
        "colab_type": "code",
        "colab": {}
      },
      "source": [
        "# for pred  \n",
        "def test_pred(X_test, models, version, cv_splits=5, scaling=None, shap=False):\n",
        "\n",
        "    SHAP = {'shap_values': [], 'expected_values' : []}    \n",
        "    pred = {'log_pred': [], 'pred' : []}\n",
        "    test_pred = np.zeros(len(X_test))  # test dataset \n",
        "    \n",
        "    \n",
        "    # predict \n",
        "    if scaling is not None : \n",
        "      for model in models : \n",
        "          test_pred += model.predict(X_test) / cv_splits\n",
        "\n",
        "    else : \n",
        "      for model, scaler in zip(models, scaling) : \n",
        "          X_test_ = scaler.transform(X_test)\n",
        "          test_pred += model.predict(X_test_) / cv_splits\n",
        "\n",
        "\n",
        "        # SHAP\n",
        "        if shap : \n",
        "            shap_values = explainer.shap_values(X_test)\n",
        "            explainer = shap.TreeExplainer(model)\n",
        "\n",
        "            SHAP['shap_values'].append(shap_values)\n",
        "            SHAP['expected_values'].append(explainer.expected_value)    \n",
        "\n",
        "\n",
        "    # preds\n",
        "    pred['log_pred'].append(test_pred)\n",
        "    pred['pred'].append(np.expm1(test_pred))\n",
        "            \n",
        "                \n",
        "    # save test preds \n",
        "    with open('testpred_' + version + '.pickle', 'wb') as f:\n",
        "        pkl.dump(pred, f, pkl.HIGHEST_PROTOCOL)    \n",
        "    \n",
        "        \n",
        "    return SHAP, pred"
      ],
      "execution_count": 45,
      "outputs": []
    },
    {
      "cell_type": "markdown",
      "metadata": {
        "id": "bSa0ipkXf1QY",
        "colab_type": "text"
      },
      "source": [
        "# Data Load "
      ]
    },
    {
      "cell_type": "code",
      "metadata": {
        "id": "zDt1NYGqesyP",
        "colab_type": "code",
        "colab": {
          "base_uri": "https://localhost:8080/",
          "height": 34
        },
        "outputId": "c87db984-68e5-4162-fd1b-fc762d87c52a"
      },
      "source": [
        "cd /content/drive/My Drive/쇼핑광고등어/3. Modeling/재빈"
      ],
      "execution_count": 11,
      "outputs": [
        {
          "output_type": "stream",
          "text": [
            "/content/drive/.shortcut-targets-by-id/1cWc-Nky29igOCXv9H2nYRUOItUS3kV8X/쇼핑광고등어/3. Modeling/재빈\n"
          ],
          "name": "stdout"
        }
      ]
    },
    {
      "cell_type": "code",
      "metadata": {
        "id": "8cmTmBLRXqr6",
        "colab_type": "code",
        "colab": {}
      },
      "source": [
        "data_v4 = joblib.load(os.path.join('..', '..', '1. Data', '05_분석데이터', '7th_train_FE.pkl'))\n",
        "locals().update(data_v4)"
      ],
      "execution_count": 10,
      "outputs": []
    },
    {
      "cell_type": "code",
      "metadata": {
        "id": "kgkbAGBEXqr-",
        "colab_type": "code",
        "colab": {
          "base_uri": "https://localhost:8080/",
          "height": 34
        },
        "outputId": "75e6b04f-18f3-4803-a9fd-bcb60e5e145b"
      },
      "source": [
        "X = data_v4[\"X\"] ; y = data_v4[\"y\"]\n",
        "X.shape, y.shape"
      ],
      "execution_count": 11,
      "outputs": [
        {
          "output_type": "execute_result",
          "data": {
            "text/plain": [
              "((35379, 402), (35379,))"
            ]
          },
          "metadata": {
            "tags": []
          },
          "execution_count": 11
        }
      ]
    },
    {
      "cell_type": "code",
      "metadata": {
        "id": "t7CJhrwFXqsE",
        "colab_type": "code",
        "colab": {}
      },
      "source": [
        "y2 = np.log1p(y)"
      ],
      "execution_count": 12,
      "outputs": []
    },
    {
      "cell_type": "markdown",
      "metadata": {
        "id": "PLyuU1kLXqsI",
        "colab_type": "text"
      },
      "source": [
        "### lgbm_params1"
      ]
    },
    {
      "cell_type": "code",
      "metadata": {
        "id": "ocBABAlRXqsJ",
        "colab_type": "code",
        "colab": {}
      },
      "source": [
        "import optuna\n",
        "optuna.logging.set_verbosity(optuna.logging.WARNING)"
      ],
      "execution_count": 17,
      "outputs": []
    },
    {
      "cell_type": "code",
      "metadata": {
        "id": "N5Ydvw2LXqsM",
        "colab_type": "code",
        "colab": {}
      },
      "source": [
        "def objective_lgbm(trial, X, y):\n",
        "    \n",
        "    params = {\n",
        "        'num_leaves': int(trial.suggest_loguniform('num_leaves', 8, 64)),  \n",
        "        'max_depth': trial.suggest_int('max_depth', 8, 128), \n",
        "        'min_child_samples': trial.suggest_int('min_child_samples', 16, 64),  \n",
        "        'min_child_weight': trial.suggest_loguniform('min_child_weight', 1e-3, 5.0),  \n",
        "        'learning_rate': trial.suggest_uniform('learning_rate', 0.001, 0.01),\n",
        "        'reg_alpha': trial.suggest_uniform('reg_alpha', 0.01, 1.0), \n",
        "        'reg_lambda': trial.suggest_uniform('reg_lambda', 0.01, 1.0), \n",
        "        'min_split_gain': trial.suggest_loguniform('min_split_gain', 0.01, 0.05),\n",
        "        'colsample_bytree': trial.suggest_uniform('colsample_bytree', 0.5, 1.0), \n",
        "        'boost_from_average': trial.suggest_categorical('boost_from_average', [True, False]), \n",
        "        'subsample': trial.suggest_uniform('subsample', 0.5, 1.0),  \n",
        "        'subsample_freq': trial.suggest_int('subsample_freq', 0, 7), \n",
        "        'max_bin': trial.suggest_int('max_bin', 32, 256),  \n",
        "\n",
        "        'seed': 77,\n",
        "        'n_jobs': -1,\n",
        "        'device_type' : 'gpu', \n",
        "        'objective': 'regression',\n",
        "        'num_iterations': 30000,\n",
        "        'metric': 'mape',\n",
        "        'importance_type': 'gain'\n",
        "    }\n",
        "    \n",
        "\n",
        "    models, oof_pred, mape, SHAP, pred = lgbm_oof(X, y, params, '0925_optuna1', x_test=None, shap=False, scaling='MinMax', cv_splits=5, epoch=30000)\n",
        "    return mape['final_mape'][0]"
      ],
      "execution_count": 20,
      "outputs": []
    },
    {
      "cell_type": "code",
      "metadata": {
        "id": "Ts9Y6kzeXqsT",
        "colab_type": "code",
        "colab": {
          "base_uri": "https://localhost:8080/",
          "height": 1000
        },
        "outputId": "d49f41a5-dffc-4521-947d-a16cf2a8c24b"
      },
      "source": [
        "%%time\n",
        "lgbm_study1 = optuna.create_study()\n",
        "lgbm_study1.optimize(lambda x : objective_lgbm(x, X, y2), timeout=1000, n_jobs=-1)\n",
        "print(lgbm_study1.best_params, lgbm_study1.best_value)"
      ],
      "execution_count": 24,
      "outputs": [
        {
          "output_type": "stream",
          "text": [
            "[10000]\tvalid_0's mape: 0.0225283\n",
            "Training until validation scores don't improve for 500 rounds\n",
            "Training until validation scores don't improve for 500 rounds\n",
            "Training until validation scores don't improve for 500 rounds\n",
            "Training until validation scores don't improve for 500 rounds\n",
            "[10000]\tvalid_0's mape: 0.023095\n",
            "Training until validation scores don't improve for 500 rounds\n",
            "[25000]\tvalid_0's mape: 0.0185404\n",
            "[7500]\tvalid_0's mape: 0.0203225\n",
            "[12500]\tvalid_0's mape: 0.0218751\n",
            "[12500]\tvalid_0's mape: 0.0179172\n",
            "[12500]\tvalid_0's mape: 0.0224011\n",
            "[25000]\tvalid_0's mape: 0.0189385\n",
            "[10000]\tvalid_0's mape: 0.019716\n",
            "[15000]\tvalid_0's mape: 0.0213639\n",
            "[15000]\tvalid_0's mape: 0.0218644\n",
            "[27500]\tvalid_0's mape: 0.0184307\n",
            "[2500]\tvalid_0's mape: 0.0202205\n",
            "[10000]\tvalid_0's mape: 0.0175547\n",
            "[17500]\tvalid_0's mape: 0.0209439\n",
            "[12500]\tvalid_0's mape: 0.0193174\n",
            "[27500]\tvalid_0's mape: 0.018799\n",
            "[17500]\tvalid_0's mape: 0.0214389\n",
            "[30000]\tvalid_0's mape: 0.0183485\n",
            "Did not meet early stopping. Best iteration is:\n",
            "[30000]\tvalid_0's mape: 0.0183485\n",
            "[20000]\tvalid_0's mape: 0.0206042\n",
            "[15000]\tvalid_0's mape: 0.0190389\n",
            "[2500]\tvalid_0's mape: 0.022113\n",
            "[15000]\tvalid_0's mape: 0.0178428\n",
            "[20000]\tvalid_0's mape: 0.0210732\n",
            "[2500]\tvalid_0's mape: 0.0193118\n",
            "[2500]\tvalid_0's mape: 0.0192889\n",
            "[12500]\tvalid_0's mape: 0.017543\n",
            "Training until validation scores don't improve for 500 rounds\n",
            "[22500]\tvalid_0's mape: 0.0203103\n",
            "[30000]\tvalid_0's mape: 0.0186792\n",
            "Did not meet early stopping. Best iteration is:\n",
            "[30000]\tvalid_0's mape: 0.0186792\n",
            "[5000]\tvalid_0's mape: 0.0187678\n",
            "[17500]\tvalid_0's mape: 0.0188301\n",
            "[22500]\tvalid_0's mape: 0.0207669\n",
            "Early stopping, best iteration is:\n",
            "[13280]\tvalid_0's mape: 0.0175377\n",
            "[2500]\tvalid_0's mape: 0.0191868\n",
            "Training until validation scores don't improve for 500 rounds\n",
            "[25000]\tvalid_0's mape: 0.020046\n",
            "[20000]\tvalid_0's mape: 0.0186744\n",
            "Training until validation scores don't improve for 500 rounds\n",
            "[25000]\tvalid_0's mape: 0.0204967\n",
            "[2500]\tvalid_0's mape: 0.0245459\n",
            "[27500]\tvalid_0's mape: 0.0198263\n",
            "[17500]\tvalid_0's mape: 0.0178146\n",
            "[22500]\tvalid_0's mape: 0.0185558\n",
            "[7500]\tvalid_0's mape: 0.0182069\n",
            "[27500]\tvalid_0's mape: 0.0202613\n",
            "[2500]\tvalid_0's mape: 0.0269134\n",
            "[30000]\tvalid_0's mape: 0.0196388\n",
            "Did not meet early stopping. Best iteration is:\n",
            "[30000]\tvalid_0's mape: 0.0196388\n",
            "[5000]\tvalid_0's mape: 0.0183525\n",
            "[25000]\tvalid_0's mape: 0.0184488\n",
            "[30000]\tvalid_0's mape: 0.0200481\n",
            "Did not meet early stopping. Best iteration is:\n",
            "[30000]\tvalid_0's mape: 0.0200481\n",
            "[5000]\tvalid_0's mape: 0.0182612\n",
            "[5000]\tvalid_0's mape: 0.0221381\n",
            "[5000]\tvalid_0's mape: 0.0199703\n",
            "Training until validation scores don't improve for 500 rounds\n",
            "Training until validation scores don't improve for 500 rounds\n",
            "[27500]\tvalid_0's mape: 0.0183721\n",
            "[10000]\tvalid_0's mape: 0.0179317\n",
            "[5000]\tvalid_0's mape: 0.0235496\n",
            "[2500]\tvalid_0's mape: 0.0276143\n",
            "[20000]\tvalid_0's mape: 0.0177994\n",
            "[7500]\tvalid_0's mape: 0.0210348\n",
            "Early stopping, best iteration is:\n",
            "[19507]\tvalid_0's mape: 0.0177946\n",
            "[2500]\tvalid_0's mape: 0.0290568\n",
            "[30000]\tvalid_0's mape: 0.0183077\n",
            "Did not meet early stopping. Best iteration is:\n",
            "[30000]\tvalid_0's mape: 0.0183077\n",
            "Early stopping, best iteration is:\n",
            "[6633]\tvalid_0's mape: 0.0179794\n",
            "Training until validation scores don't improve for 500 rounds\n",
            "Training until validation scores don't improve for 500 rounds\n",
            "[5000]\tvalid_0's mape: 0.0246367\n",
            "Training until validation scores don't improve for 500 rounds\n",
            "[5000]\tvalid_0's mape: 0.0253872\n",
            "[12500]\tvalid_0's mape: 0.0177906\n",
            "[10000]\tvalid_0's mape: 0.0203464\n",
            "[5000]\tvalid_0's mape: 0.018213\n",
            "[7500]\tvalid_0's mape: 0.0221858\n",
            "[7500]\tvalid_0's mape: 0.0180291\n",
            "[7500]\tvalid_0's mape: 0.0232128\n",
            "[2500]\tvalid_0's mape: 0.0232005\n",
            "[7500]\tvalid_0's mape: 0.0238006\n",
            "[2500]\tvalid_0's mape: 0.0187783\n",
            "[7500]\tvalid_0's mape: 0.0191133\n",
            "[10000]\tvalid_0's mape: 0.0223065\n",
            "[12500]\tvalid_0's mape: 0.0198457\n",
            "[10000]\tvalid_0's mape: 0.0228222\n",
            "[5000]\tvalid_0's mape: 0.0210912\n",
            "[15000]\tvalid_0's mape: 0.0177273\n",
            "[10000]\tvalid_0's mape: 0.0213368\n",
            "[12500]\tvalid_0's mape: 0.0216425\n",
            "[12500]\tvalid_0's mape: 0.0221336\n",
            "[7500]\tvalid_0's mape: 0.0201097\n",
            "[2500]\tvalid_0's mape: 0.0204545\n",
            "[15000]\tvalid_0's mape: 0.019482\n",
            "[15000]\tvalid_0's mape: 0.0211359\n",
            "[2500]\tvalid_0's mape: 0.0197302\n",
            "[10000]\tvalid_0's mape: 0.0179065\n",
            "[15000]\tvalid_0's mape: 0.0216008\n",
            "[10000]\tvalid_0's mape: 0.0195414\n",
            "[17500]\tvalid_0's mape: 0.017694\n",
            "[12500]\tvalid_0's mape: 0.0207544\n",
            "[17500]\tvalid_0's mape: 0.0207042\n",
            "[10000]\tvalid_0's mape: 0.0186148\n",
            "[17500]\tvalid_0's mape: 0.0192\n",
            "[17500]\tvalid_0's mape: 0.0211655\n",
            "[12500]\tvalid_0's mape: 0.0191524\n",
            "[20000]\tvalid_0's mape: 0.0203353\n",
            "[7500]\tvalid_0's mape: 0.0179847\n",
            "[20000]\tvalid_0's mape: 0.0207994\n",
            "[15000]\tvalid_0's mape: 0.0189026\n",
            "[15000]\tvalid_0's mape: 0.0202905\n",
            "[5000]\tvalid_0's mape: 0.017874\n",
            "[20000]\tvalid_0's mape: 0.0176875\n",
            "Early stopping, best iteration is:\n",
            "[19647]\tvalid_0's mape: 0.0176855\n",
            "[20000]\tvalid_0's mape: 0.0189748\n",
            "[22500]\tvalid_0's mape: 0.0200324\n",
            "[5000]\tvalid_0's mape: 0.018955\n",
            "[22500]\tvalid_0's mape: 0.0204852\n",
            "Training until validation scores don't improve for 500 rounds\n",
            "[17500]\tvalid_0's mape: 0.0187257\n",
            "[12500]\tvalid_0's mape: 0.0178478\n",
            "[25000]\tvalid_0's mape: 0.0197726\n",
            "[5000]\tvalid_0's mape: 0.018517\n",
            "[17500]\tvalid_0's mape: 0.0199358\n",
            "[25000]\tvalid_0's mape: 0.0201949\n",
            "[22500]\tvalid_0's mape: 0.018796\n",
            "[20000]\tvalid_0's mape: 0.0185896\n",
            "[12500]\tvalid_0's mape: 0.0183089\n",
            "[27500]\tvalid_0's mape: 0.0195577\n",
            "[27500]\tvalid_0's mape: 0.0199498\n",
            "[22500]\tvalid_0's mape: 0.018463\n",
            "[2500]\tvalid_0's mape: 0.0199424\n",
            "[30000]\tvalid_0's mape: 0.0193651\n",
            "Did not meet early stopping. Best iteration is:\n",
            "[30000]\tvalid_0's mape: 0.0193651\n",
            "[25000]\tvalid_0's mape: 0.0186622\n",
            "Early stopping, best iteration is:\n",
            "[6528]\tvalid_0's mape: 0.0182196\n",
            "[20000]\tvalid_0's mape: 0.0196404\n",
            "[7500]\tvalid_0's mape: 0.0183314\n",
            "Training until validation scores don't improve for 500 rounds\n",
            "[30000]\tvalid_0's mape: 0.0197272\n",
            "Did not meet early stopping. Best iteration is:\n",
            "[30000]\tvalid_0's mape: 0.0197272\n",
            "Training until validation scores don't improve for 500 rounds\n",
            "[25000]\tvalid_0's mape: 0.0183783\n",
            "[7500]\tvalid_0's mape: 0.0176493\n",
            "[15000]\tvalid_0's mape: 0.0178264\n",
            "Training until validation scores don't improve for 500 rounds\n",
            "Early stopping, best iteration is:\n",
            "[14608]\tvalid_0's mape: 0.0178228\n",
            "[27500]\tvalid_0's mape: 0.0182945\n",
            "[27500]\tvalid_0's mape: 0.0185437\n",
            "[2500]\tvalid_0's mape: 0.0274596\n",
            "Training until validation scores don't improve for 500 rounds\n",
            "[5000]\tvalid_0's mape: 0.0185585\n",
            "[22500]\tvalid_0's mape: 0.0193858\n",
            "[10000]\tvalid_0's mape: 0.0179124\n",
            "[2500]\tvalid_0's mape: 0.0288387\n",
            "[15000]\tvalid_0's mape: 0.0180903\n",
            "[30000]\tvalid_0's mape: 0.0182476\n",
            "Did not meet early stopping. Best iteration is:\n",
            "[29787]\tvalid_0's mape: 0.0182468\n",
            "[5000]\tvalid_0's mape: 0.0244782\n",
            "[30000]\tvalid_0's mape: 0.018449\n",
            "Did not meet early stopping. Best iteration is:\n",
            "[30000]\tvalid_0's mape: 0.018449\n",
            "[5000]\tvalid_0's mape: 0.0252469\n",
            "Training until validation scores don't improve for 500 rounds\n",
            "[10000]\tvalid_0's mape: 0.018046\n",
            "[7500]\tvalid_0's mape: 0.0230625\n",
            "[10000]\tvalid_0's mape: 0.0176078\n",
            "[25000]\tvalid_0's mape: 0.0191867\n",
            "Training until validation scores don't improve for 500 rounds\n",
            "[7500]\tvalid_0's mape: 0.0236524\n",
            "[7500]\tvalid_0's mape: 0.0180351\n",
            "[2500]\tvalid_0's mape: 0.0230764\n",
            "[10000]\tvalid_0's mape: 0.0221536\n",
            "Early stopping, best iteration is:\n",
            "[10476]\tvalid_0's mape: 0.0176024\n",
            "[2500]\tvalid_0's mape: 0.0193888\n",
            "Training until validation scores don't improve for 500 rounds\n",
            "[10000]\tvalid_0's mape: 0.0226859\n",
            "[5000]\tvalid_0's mape: 0.0210547\n",
            "[12500]\tvalid_0's mape: 0.0214836\n",
            "Early stopping, best iteration is:\n",
            "[11053]\tvalid_0's mape: 0.0178857\n",
            "[2500]\tvalid_0's mape: 0.024318\n",
            "[27500]\tvalid_0's mape: 0.0190088\n",
            "[17500]\tvalid_0's mape: 0.0179378\n",
            "[2500]\tvalid_0's mape: 0.0195248\n",
            "[12500]\tvalid_0's mape: 0.022006\n",
            "[10000]\tvalid_0's mape: 0.0178097\n",
            "[7500]\tvalid_0's mape: 0.0201042\n",
            "Training until validation scores don't improve for 500 rounds\n",
            "[15000]\tvalid_0's mape: 0.021005\n",
            "[12500]\tvalid_0's mape: 0.0178967\n",
            "[15000]\tvalid_0's mape: 0.0214884\n",
            "[10000]\tvalid_0's mape: 0.019542\n",
            "[5000]\tvalid_0's mape: 0.0219243\n",
            "[17500]\tvalid_0's mape: 0.0206065\n",
            "[30000]\tvalid_0's mape: 0.0188592\n",
            "Did not meet early stopping. Best iteration is:\n",
            "[30000]\tvalid_0's mape: 0.0188592\n",
            "[17500]\tvalid_0's mape: 0.0210626\n",
            "[12500]\tvalid_0's mape: 0.0191869\n",
            "[12500]\tvalid_0's mape: 0.0176854\n",
            "[20000]\tvalid_0's mape: 0.0202595\n",
            "Training until validation scores don't improve for 500 rounds\n",
            "[5000]\tvalid_0's mape: 0.0182677\n",
            "[7500]\tvalid_0's mape: 0.0208247\n",
            "[20000]\tvalid_0's mape: 0.0206998\n",
            "[20000]\tvalid_0's mape: 0.0178391\n",
            "[15000]\tvalid_0's mape: 0.0189317\n",
            "[22500]\tvalid_0's mape: 0.0199697\n",
            "[15000]\tvalid_0's mape: 0.0178084\n",
            "[5000]\tvalid_0's mape: 0.0184178\n",
            "[17500]\tvalid_0's mape: 0.0187622\n",
            "[22500]\tvalid_0's mape: 0.0203949\n",
            "[2500]\tvalid_0's mape: 0.0267151\n",
            "[25000]\tvalid_0's mape: 0.0197387\n",
            "[15000]\tvalid_0's mape: 0.0176301\n",
            "[10000]\tvalid_0's mape: 0.0201063\n",
            "Early stopping, best iteration is:\n",
            "[6536]\tvalid_0's mape: 0.0179944\n",
            "Training until validation scores don't improve for 500 rounds\n",
            "[20000]\tvalid_0's mape: 0.0186415\n",
            "[25000]\tvalid_0's mape: 0.020133\n",
            "[27500]\tvalid_0's mape: 0.0195245\n",
            "[2500]\tvalid_0's mape: 0.0185804\n",
            "[22500]\tvalid_0's mape: 0.0185543\n",
            "[27500]\tvalid_0's mape: 0.0199051\n",
            "[30000]\tvalid_0's mape: 0.0193428\n",
            "Did not meet early stopping. Best iteration is:\n",
            "[30000]\tvalid_0's mape: 0.0193428\n",
            "[2500]\tvalid_0's mape: 0.0193812\n",
            "[22500]\tvalid_0's mape: 0.0177519\n",
            "[5000]\tvalid_0's mape: 0.0232537\n",
            "[12500]\tvalid_0's mape: 0.0196046\n",
            "[17500]\tvalid_0's mape: 0.01777\n",
            "[17500]\tvalid_0's mape: 0.0175945\n",
            "Early stopping, best iteration is:\n",
            "[17157]\tvalid_0's mape: 0.0175925\n",
            "Training until validation scores don't improve for 500 rounds\n",
            "[25000]\tvalid_0's mape: 0.0184802\n",
            "[30000]\tvalid_0's mape: 0.0197017\n",
            "Did not meet early stopping. Best iteration is:\n",
            "[30000]\tvalid_0's mape: 0.0197017\n",
            "Training until validation scores don't improve for 500 rounds\n",
            "[7500]\tvalid_0's mape: 0.0180568\n",
            "Training until validation scores don't improve for 500 rounds\n",
            "[15000]\tvalid_0's mape: 0.019248\n",
            "[2500]\tvalid_0's mape: 0.0274827\n",
            "[27500]\tvalid_0's mape: 0.0184163\n",
            "[7500]\tvalid_0's mape: 0.0218666\n",
            "[2500]\tvalid_0's mape: 0.0288699\n",
            "[30000]\tvalid_0's mape: 0.0183617\n",
            "Did not meet early stopping. Best iteration is:\n",
            "[29999]\tvalid_0's mape: 0.0183616\n",
            "[5000]\tvalid_0's mape: 0.0244546\n",
            "[2500]\tvalid_0's mape: 0.0193176\n",
            "[25000]\tvalid_0's mape: 0.0176906\n",
            "[20000]\tvalid_0's mape: 0.0177453\n",
            "[17500]\tvalid_0's mape: 0.0189883\n",
            "Training until validation scores don't improve for 500 rounds\n",
            "[2500]\tvalid_0's mape: 0.019885\n",
            "[5000]\tvalid_0's mape: 0.025214\n",
            "[7500]\tvalid_0's mape: 0.0231261\n",
            "[10000]\tvalid_0's mape: 0.0210072\n",
            "Early stopping, best iteration is:\n",
            "[20142]\tvalid_0's mape: 0.0177419\n",
            "[5000]\tvalid_0's mape: 0.0177783\n",
            "[2500]\tvalid_0's mape: 0.0230636\n",
            "[7500]\tvalid_0's mape: 0.0236531\n",
            "[10000]\tvalid_0's mape: 0.0222931\n",
            "Training until validation scores don't improve for 500 rounds\n",
            "[20000]\tvalid_0's mape: 0.0187817\n",
            "[10000]\tvalid_0's mape: 0.0179239\n",
            "[5000]\tvalid_0's mape: 0.0211182\n",
            "[5000]\tvalid_0's mape: 0.018536\n",
            "[12500]\tvalid_0's mape: 0.0216607\n",
            "[10000]\tvalid_0's mape: 0.0227328\n",
            "[12500]\tvalid_0's mape: 0.0203995\n",
            "[5000]\tvalid_0's mape: 0.0183186\n",
            "[27500]\tvalid_0's mape: 0.0176461\n",
            "[5000]\tvalid_0's mape: 0.0182167\n",
            "[22500]\tvalid_0's mape: 0.0186127\n",
            "[7500]\tvalid_0's mape: 0.0202007\n",
            "[15000]\tvalid_0's mape: 0.0211863\n",
            "[12500]\tvalid_0's mape: 0.0220949\n",
            "[10000]\tvalid_0's mape: 0.0196511\n",
            "[17500]\tvalid_0's mape: 0.0207871\n",
            "[15000]\tvalid_0's mape: 0.0216007\n",
            "[15000]\tvalid_0's mape: 0.0199398\n",
            "[7500]\tvalid_0's mape: 0.0180479\n",
            "[25000]\tvalid_0's mape: 0.0184895\n",
            "[12500]\tvalid_0's mape: 0.0178649\n",
            "[12500]\tvalid_0's mape: 0.0192852\n",
            "[7500]\tvalid_0's mape: 0.0175956\n",
            "Early stopping, best iteration is:\n",
            "[6807]\tvalid_0's mape: 0.0179753\n",
            "[2500]\tvalid_0's mape: 0.0201749\n",
            "[20000]\tvalid_0's mape: 0.0204488\n",
            "[30000]\tvalid_0's mape: 0.0176142\n",
            "Did not meet early stopping. Best iteration is:\n",
            "[30000]\tvalid_0's mape: 0.0176142\n",
            "Training until validation scores don't improve for 500 rounds\n",
            "[17500]\tvalid_0's mape: 0.0211937\n",
            "[15000]\tvalid_0's mape: 0.0190042\n",
            "[22500]\tvalid_0's mape: 0.0201732\n",
            "Early stopping, best iteration is:\n",
            "[12939]\tvalid_0's mape: 0.0178622\n",
            "[27500]\tvalid_0's mape: 0.018384\n",
            "[17500]\tvalid_0's mape: 0.0195882\n",
            "[20000]\tvalid_0's mape: 0.020851\n",
            "[10000]\tvalid_0's mape: 0.0178408\n",
            "Training until validation scores don't improve for 500 rounds\n",
            "Training until validation scores don't improve for 500 rounds\n",
            "[17500]\tvalid_0's mape: 0.0188074\n",
            "[25000]\tvalid_0's mape: 0.0199215\n",
            "[22500]\tvalid_0's mape: 0.0205602\n",
            "[30000]\tvalid_0's mape: 0.0182972\n",
            "Did not meet early stopping. Best iteration is:\n",
            "[29997]\tvalid_0's mape: 0.0182971\n",
            "[20000]\tvalid_0's mape: 0.0186781\n",
            "[27500]\tvalid_0's mape: 0.0197188\n",
            "[20000]\tvalid_0's mape: 0.0193118\n",
            "[25000]\tvalid_0's mape: 0.0203041\n",
            "[7500]\tvalid_0's mape: 0.018037\n",
            "[10000]\tvalid_0's mape: 0.0175575\n",
            "[5000]\tvalid_0's mape: 0.0187127\n",
            "[12500]\tvalid_0's mape: 0.0177397\n",
            "Training until validation scores don't improve for 500 rounds\n",
            "Early stopping, best iteration is:\n",
            "[10074]\tvalid_0's mape: 0.0175566\n",
            "[22500]\tvalid_0's mape: 0.0185624\n",
            "[30000]\tvalid_0's mape: 0.0195407\n",
            "Did not meet early stopping. Best iteration is:\n",
            "[30000]\tvalid_0's mape: 0.0195407\n",
            "[27500]\tvalid_0's mape: 0.0200822\n",
            "[2500]\tvalid_0's mape: 0.0194796\n",
            "Training until validation scores don't improve for 500 rounds\n",
            "[25000]\tvalid_0's mape: 0.0184724\n",
            "[22500]\tvalid_0's mape: 0.0190824\n",
            "[30000]\tvalid_0's mape: 0.0198716\n",
            "Did not meet early stopping. Best iteration is:\n",
            "[29999]\tvalid_0's mape: 0.0198716\n",
            "[2500]\tvalid_0's mape: 0.02421\n",
            "[15000]\tvalid_0's mape: 0.0176929\n",
            "[2500]\tvalid_0's mape: 0.0226817\n",
            "[27500]\tvalid_0's mape: 0.0183976\n",
            "[2500]\tvalid_0's mape: 0.0193228\n",
            "[7500]\tvalid_0's mape: 0.018166\n",
            "[25000]\tvalid_0's mape: 0.0189074\n",
            "[30000]\tvalid_0's mape: 0.0183426\n",
            "Did not meet early stopping. Best iteration is:\n",
            "[29980]\tvalid_0's mape: 0.0183412\n",
            "[5000]\tvalid_0's mape: 0.0218016\n",
            "[17500]\tvalid_0's mape: 0.0176653\n",
            "[5000]\tvalid_0's mape: 0.01837\n",
            "Early stopping, best iteration is:\n",
            "[17378]\tvalid_0's mape: 0.0176629\n",
            "[7500]\tvalid_0's mape: 0.0207335\n",
            "Training until validation scores don't improve for 500 rounds\n",
            "[27500]\tvalid_0's mape: 0.0187474\n",
            "[10000]\tvalid_0's mape: 0.0179388\n",
            "[5000]\tvalid_0's mape: 0.0182757\n",
            "Early stopping, best iteration is:\n",
            "[6582]\tvalid_0's mape: 0.0181201\n",
            "[10000]\tvalid_0's mape: 0.0178895\n",
            "[5000]\tvalid_0's mape: 0.0204442\n",
            "[2500]\tvalid_0's mape: 0.0184958\n",
            "[10000]\tvalid_0's mape: 0.0200646\n",
            "[30000]\tvalid_0's mape: 0.0186186\n",
            "Did not meet early stopping. Best iteration is:\n",
            "[30000]\tvalid_0's mape: 0.0186186\n",
            "[2500]\tvalid_0's mape: 0.0200365\n",
            "Training until validation scores don't improve for 500 rounds\n",
            "[12500]\tvalid_0's mape: 0.0195861\n",
            "Early stopping, best iteration is:\n",
            "[11020]\tvalid_0's mape: 0.0179244\n",
            "[12500]\tvalid_0's mape: 0.0177684\n",
            "[15000]\tvalid_0's mape: 0.019242\n",
            "[5000]\tvalid_0's mape: 0.0186934\n",
            "[2500]\tvalid_0's mape: 0.026604\n",
            "Training until validation scores don't improve for 500 rounds\n",
            "[7500]\tvalid_0's mape: 0.0179373\n",
            "[7500]\tvalid_0's mape: 0.0194937\n",
            "[17500]\tvalid_0's mape: 0.0189765\n",
            "[5000]\tvalid_0's mape: 0.0177345\n",
            "[5000]\tvalid_0's mape: 0.0230987\n",
            "[7500]\tvalid_0's mape: 0.0181774\n",
            "[15000]\tvalid_0's mape: 0.0176899\n",
            "[20000]\tvalid_0's mape: 0.0187847\n",
            "[10000]\tvalid_0's mape: 0.0178035\n",
            "[7500]\tvalid_0's mape: 0.0217489\n",
            "[10000]\tvalid_0's mape: 0.017937\n",
            "[22500]\tvalid_0's mape: 0.0186216\n",
            "[10000]\tvalid_0's mape: 0.0188955\n",
            "[10000]\tvalid_0's mape: 0.0209321\n",
            "[7500]\tvalid_0's mape: 0.0176024\n",
            "[17500]\tvalid_0's mape: 0.0176653\n",
            "[25000]\tvalid_0's mape: 0.0184984\n",
            "[2500]\tvalid_0's mape: 0.0190951\n",
            "Early stopping, best iteration is:\n",
            "[17236]\tvalid_0's mape: 0.017661\n",
            "[12500]\tvalid_0's mape: 0.0178088\n",
            "Training until validation scores don't improve for 500 rounds\n",
            "[12500]\tvalid_0's mape: 0.0177396\n",
            "[27500]\tvalid_0's mape: 0.0183983\n",
            "[12500]\tvalid_0's mape: 0.0203734\n",
            "[12500]\tvalid_0's mape: 0.0185156\n",
            "Early stopping, best iteration is:\n",
            "[12973]\tvalid_0's mape: 0.0177297\n",
            "[15000]\tvalid_0's mape: 0.0177397\n",
            "Early stopping, best iteration is:\n",
            "[9276]\tvalid_0's mape: 0.0175784\n",
            "[30000]\tvalid_0's mape: 0.0183226\n",
            "Did not meet early stopping. Best iteration is:\n",
            "[30000]\tvalid_0's mape: 0.0183226\n",
            "Training until validation scores don't improve for 500 rounds\n",
            "Training until validation scores don't improve for 500 rounds\n",
            "[15000]\tvalid_0's mape: 0.0199379\n",
            "Training until validation scores don't improve for 500 rounds\n",
            "[2500]\tvalid_0's mape: 0.0201418\n",
            "[17500]\tvalid_0's mape: 0.0177064\n",
            "[17500]\tvalid_0's mape: 0.0196002\n",
            "[2500]\tvalid_0's mape: 0.0242573\n",
            "[15000]\tvalid_0's mape: 0.0182653\n",
            "[5000]\tvalid_0's mape: 0.0181631\n",
            "[20000]\tvalid_0's mape: 0.0176873\n",
            "[20000]\tvalid_0's mape: 0.0193341\n",
            "[2500]\tvalid_0's mape: 0.019311\n",
            "[5000]\tvalid_0's mape: 0.0219229\n",
            "Early stopping, best iteration is:\n",
            "[20344]\tvalid_0's mape: 0.017684\n",
            "[5000]\tvalid_0's mape: 0.0187523\n",
            "[22500]\tvalid_0's mape: 0.0191096\n",
            "[7500]\tvalid_0's mape: 0.0208822\n",
            "[2500]\tvalid_0's mape: 0.0187427\n",
            "[17500]\tvalid_0's mape: 0.0180804\n",
            "[10000]\tvalid_0's mape: 0.0202313\n",
            "[25000]\tvalid_0's mape: 0.0189251\n",
            "[7500]\tvalid_0's mape: 0.0182364\n",
            "[5000]\tvalid_0's mape: 0.0183166\n",
            "[7500]\tvalid_0's mape: 0.0179093\n",
            "[12500]\tvalid_0's mape: 0.019769\n",
            "[27500]\tvalid_0's mape: 0.0187818\n",
            "[20000]\tvalid_0's mape: 0.017951\n",
            "[15000]\tvalid_0's mape: 0.0194231\n",
            "[5000]\tvalid_0's mape: 0.0179293\n",
            "[10000]\tvalid_0's mape: 0.0180054\n",
            "[30000]\tvalid_0's mape: 0.0186654\n",
            "Did not meet early stopping. Best iteration is:\n",
            "[30000]\tvalid_0's mape: 0.0186654\n",
            "[7500]\tvalid_0's mape: 0.018006\n",
            "Training until validation scores don't improve for 500 rounds\n",
            "[17500]\tvalid_0's mape: 0.0191616\n",
            "[22500]\tvalid_0's mape: 0.0178512\n",
            "[20000]\tvalid_0's mape: 0.0189571\n",
            "[2500]\tvalid_0's mape: 0.0265781\n",
            "[12500]\tvalid_0's mape: 0.0179082\n",
            "[10000]\tvalid_0's mape: 0.0178249\n",
            "[10000]\tvalid_0's mape: 0.0179233\n",
            "[7500]\tvalid_0's mape: 0.0177268\n",
            "[22500]\tvalid_0's mape: 0.0188114\n",
            "[25000]\tvalid_0's mape: 0.0177761\n",
            "[5000]\tvalid_0's mape: 0.023074\n",
            "[25000]\tvalid_0's mape: 0.0186742\n",
            "[15000]\tvalid_0's mape: 0.0178653\n",
            "[7500]\tvalid_0's mape: 0.0217711\n",
            "[10000]\tvalid_0's mape: 0.0176722\n",
            "Early stopping, best iteration is:\n",
            "[11992]\tvalid_0's mape: 0.0178866\n",
            "[27500]\tvalid_0's mape: 0.0185675\n",
            "[27500]\tvalid_0's mape: 0.01772\n",
            "Training until validation scores don't improve for 500 rounds\n",
            "[10000]\tvalid_0's mape: 0.0209768\n",
            "[30000]\tvalid_0's mape: 0.0184827\n",
            "Did not meet early stopping. Best iteration is:\n",
            "[29982]\tvalid_0's mape: 0.0184825\n",
            "[17500]\tvalid_0's mape: 0.0178362\n",
            "Early stopping, best iteration is:\n",
            "[11675]\tvalid_0's mape: 0.0178025\n",
            "[12500]\tvalid_0's mape: 0.017663\n",
            "Early stopping, best iteration is:\n",
            "[12214]\tvalid_0's mape: 0.0176594\n",
            "Training until validation scores don't improve for 500 rounds\n",
            "Early stopping, best iteration is:\n",
            "[18001]\tvalid_0's mape: 0.0178303\n",
            "[12500]\tvalid_0's mape: 0.0204195\n",
            "[30000]\tvalid_0's mape: 0.0176747\n",
            "Did not meet early stopping. Best iteration is:\n",
            "[30000]\tvalid_0's mape: 0.0176747\n",
            "Training until validation scores don't improve for 500 rounds\n",
            "Training until validation scores don't improve for 500 rounds\n",
            "[2500]\tvalid_0's mape: 0.0195149\n",
            "[15000]\tvalid_0's mape: 0.0200132\n",
            "[17500]\tvalid_0's mape: 0.0196764\n",
            "[2500]\tvalid_0's mape: 0.0203199\n",
            "[2500]\tvalid_0's mape: 0.0224402\n",
            "[5000]\tvalid_0's mape: 0.0184774\n",
            "[2500]\tvalid_0's mape: 0.0191058\n",
            "[20000]\tvalid_0's mape: 0.0194137\n",
            "[22500]\tvalid_0's mape: 0.0192007\n",
            "[5000]\tvalid_0's mape: 0.0189394\n",
            "[7500]\tvalid_0's mape: 0.0181422\n",
            "[5000]\tvalid_0's mape: 0.0201417\n",
            "[25000]\tvalid_0's mape: 0.0190175\n",
            "[7500]\tvalid_0's mape: 0.0183986\n",
            "[27500]\tvalid_0's mape: 0.0188575\n",
            "[5000]\tvalid_0's mape: 0.0181808\n",
            "[10000]\tvalid_0's mape: 0.0179975\n",
            "[7500]\tvalid_0's mape: 0.0191881\n",
            "[30000]\tvalid_0's mape: 0.0187286\n",
            "Did not meet early stopping. Best iteration is:\n",
            "[29992]\tvalid_0's mape: 0.0187283\n",
            "[10000]\tvalid_0's mape: 0.0181406\n",
            "[12500]\tvalid_0's mape: 0.0179401\n",
            "[10000]\tvalid_0's mape: 0.0186491\n",
            "[12500]\tvalid_0's mape: 0.0179927\n",
            "[7500]\tvalid_0's mape: 0.0179711\n",
            "[15000]\tvalid_0's mape: 0.0179115\n",
            "Early stopping, best iteration is:\n",
            "[14586]\tvalid_0's mape: 0.0179111\n",
            "Early stopping, best iteration is:\n",
            "[7788]\tvalid_0's mape: 0.0179635\n",
            "Training until validation scores don't improve for 500 rounds\n",
            "[15000]\tvalid_0's mape: 0.017903\n",
            "[12500]\tvalid_0's mape: 0.0183075\n",
            "[17500]\tvalid_0's mape: 0.0178468\n",
            "[15000]\tvalid_0's mape: 0.0180819\n",
            "[2500]\tvalid_0's mape: 0.0193975\n",
            "[20000]\tvalid_0's mape: 0.0178281\n",
            "[17500]\tvalid_0's mape: 0.0179143\n",
            "Early stopping, best iteration is:\n",
            "[20540]\tvalid_0's mape: 0.0178221\n",
            "[20000]\tvalid_0's mape: 0.0177963\n",
            "[5000]\tvalid_0's mape: 0.0184209\n",
            "[22500]\tvalid_0's mape: 0.0177138\n",
            "[25000]\tvalid_0's mape: 0.0176624\n",
            "[7500]\tvalid_0's mape: 0.018101\n",
            "[27500]\tvalid_0's mape: 0.0176206\n",
            "[30000]\tvalid_0's mape: 0.0175919\n",
            "Did not meet early stopping. Best iteration is:\n",
            "[29945]\tvalid_0's mape: 0.0175918\n",
            "Training until validation scores don't improve for 500 rounds\n",
            "[10000]\tvalid_0's mape: 0.0179765\n",
            "[2500]\tvalid_0's mape: 0.0222281\n",
            "Early stopping, best iteration is:\n",
            "[10584]\tvalid_0's mape: 0.0179584\n",
            "[5000]\tvalid_0's mape: 0.0200362\n",
            "[7500]\tvalid_0's mape: 0.0191507\n",
            "[10000]\tvalid_0's mape: 0.018626\n",
            "[12500]\tvalid_0's mape: 0.0183052\n",
            "[15000]\tvalid_0's mape: 0.0180853\n",
            "[17500]\tvalid_0's mape: 0.0179271\n",
            "[20000]\tvalid_0's mape: 0.0178208\n",
            "[22500]\tvalid_0's mape: 0.0177409\n",
            "[25000]\tvalid_0's mape: 0.0176831\n",
            "[27500]\tvalid_0's mape: 0.0176413\n",
            "[30000]\tvalid_0's mape: 0.0176082\n",
            "Did not meet early stopping. Best iteration is:\n",
            "[29999]\tvalid_0's mape: 0.0176082\n",
            "Training until validation scores don't improve for 500 rounds\n",
            "[2500]\tvalid_0's mape: 0.0223274\n",
            "[5000]\tvalid_0's mape: 0.0201661\n",
            "[7500]\tvalid_0's mape: 0.0192901\n",
            "[10000]\tvalid_0's mape: 0.0187658\n",
            "[12500]\tvalid_0's mape: 0.0184175\n",
            "[15000]\tvalid_0's mape: 0.0181779\n",
            "[17500]\tvalid_0's mape: 0.0180125\n",
            "[20000]\tvalid_0's mape: 0.0179003\n",
            "[22500]\tvalid_0's mape: 0.017814\n",
            "[25000]\tvalid_0's mape: 0.0177501\n",
            "[27500]\tvalid_0's mape: 0.0177033\n",
            "[30000]\tvalid_0's mape: 0.017665\n",
            "Did not meet early stopping. Best iteration is:\n",
            "[29962]\tvalid_0's mape: 0.0176648\n",
            "{'num_leaves': 32.88554242309478, 'max_depth': 37, 'min_child_samples': 22, 'min_child_weight': 4.070635596469789, 'learning_rate': 0.003060613134982612, 'reg_alpha': 0.8802639789876369, 'reg_lambda': 0.6577255599613226, 'min_split_gain': 0.02363360120478409, 'colsample_bytree': 0.8416823900730548, 'boost_from_average': False, 'subsample': 0.9399940132773753, 'subsample_freq': 7, 'max_bin': 235} 32.002672895572395\n",
            "CPU times: user 7h 13min 10s, sys: 1h 37min 14s, total: 8h 50min 24s\n",
            "Wall time: 2h 22min 13s\n"
          ],
          "name": "stdout"
        }
      ]
    },
    {
      "cell_type": "code",
      "metadata": {
        "id": "SH6Ts9RJXqsW",
        "colab_type": "code",
        "colab": {}
      },
      "source": [
        "lgbm_params1 = lgbm_study1.best_params.copy()\n",
        "lgbm_params1['num_leaves'] = int(lgbm_params1['num_leaves'])\n",
        "lgbm_params1['n_jobs'] = -1\n",
        "lgbm_params1['device_type'] = 'gpu', \n",
        "lgbm_params1['num_iterations'] = 30000\n",
        "lgbm_params1['objective'] = 'regression'\n",
        "lgbm_params1['metric'] = 'mape'\n",
        "lgbm_params1['is_training_metric'] = True\n",
        "lgbm_params1['verbose'] = -1"
      ],
      "execution_count": 25,
      "outputs": []
    },
    {
      "cell_type": "code",
      "metadata": {
        "id": "Xj_UPMOagFUM",
        "colab_type": "code",
        "colab": {
          "base_uri": "https://localhost:8080/",
          "height": 1000
        },
        "outputId": "4cfef86c-96e0-4f45-a926-7fca527edcb3"
      },
      "source": [
        "lgbm_models1, lgbm_oof_pred1, lgbm_mape1, lgbm_SHAP1, lgbm_pred1 = lgbm_oof(X, y2, lgbm_params1, '0925_optuna1', x_test=None, shap=False, scaling='MinMax', cv_splits=5, epoch=30000)"
      ],
      "execution_count": 26,
      "outputs": [
        {
          "output_type": "stream",
          "text": [
            "Training until validation scores don't improve for 500 rounds\n",
            "[2500]\tvalid_0's mape: 0.0220874\n",
            "[5000]\tvalid_0's mape: 0.0199584\n",
            "[7500]\tvalid_0's mape: 0.0191116\n",
            "[10000]\tvalid_0's mape: 0.0186186\n",
            "[12500]\tvalid_0's mape: 0.0183064\n",
            "[15000]\tvalid_0's mape: 0.0180852\n",
            "[17500]\tvalid_0's mape: 0.0179287\n",
            "[20000]\tvalid_0's mape: 0.01783\n",
            "[22500]\tvalid_0's mape: 0.017754\n",
            "[25000]\tvalid_0's mape: 0.0176957\n",
            "[27500]\tvalid_0's mape: 0.0176512\n",
            "[30000]\tvalid_0's mape: 0.0176184\n",
            "Did not meet early stopping. Best iteration is:\n",
            "[29996]\tvalid_0's mape: 0.0176183\n",
            "Training until validation scores don't improve for 500 rounds\n",
            "[2500]\tvalid_0's mape: 0.0226854\n",
            "[5000]\tvalid_0's mape: 0.0204527\n",
            "[7500]\tvalid_0's mape: 0.0194976\n",
            "[10000]\tvalid_0's mape: 0.0189128\n",
            "[12500]\tvalid_0's mape: 0.0185388\n",
            "[15000]\tvalid_0's mape: 0.0182932\n",
            "[17500]\tvalid_0's mape: 0.0181116\n",
            "[20000]\tvalid_0's mape: 0.0179794\n",
            "[22500]\tvalid_0's mape: 0.0178751\n",
            "[25000]\tvalid_0's mape: 0.0177947\n",
            "[27500]\tvalid_0's mape: 0.0177371\n",
            "[30000]\tvalid_0's mape: 0.0176963\n",
            "Did not meet early stopping. Best iteration is:\n",
            "[30000]\tvalid_0's mape: 0.0176963\n",
            "Training until validation scores don't improve for 500 rounds\n",
            "[2500]\tvalid_0's mape: 0.0224455\n",
            "[5000]\tvalid_0's mape: 0.0201781\n",
            "[7500]\tvalid_0's mape: 0.0192199\n",
            "[10000]\tvalid_0's mape: 0.0186737\n",
            "[12500]\tvalid_0's mape: 0.0183314\n",
            "[15000]\tvalid_0's mape: 0.0180868\n",
            "[17500]\tvalid_0's mape: 0.0179266\n",
            "[20000]\tvalid_0's mape: 0.0178164\n",
            "[22500]\tvalid_0's mape: 0.017737\n",
            "[25000]\tvalid_0's mape: 0.0176789\n",
            "[27500]\tvalid_0's mape: 0.0176364\n",
            "[30000]\tvalid_0's mape: 0.0176052\n",
            "Did not meet early stopping. Best iteration is:\n",
            "[30000]\tvalid_0's mape: 0.0176052\n",
            "Training until validation scores don't improve for 500 rounds\n",
            "[2500]\tvalid_0's mape: 0.0222777\n",
            "[5000]\tvalid_0's mape: 0.0200765\n",
            "[7500]\tvalid_0's mape: 0.0191741\n",
            "[10000]\tvalid_0's mape: 0.0186605\n",
            "[12500]\tvalid_0's mape: 0.0183213\n",
            "[15000]\tvalid_0's mape: 0.0181112\n",
            "[17500]\tvalid_0's mape: 0.0179645\n",
            "[20000]\tvalid_0's mape: 0.0178524\n",
            "[22500]\tvalid_0's mape: 0.0177694\n",
            "[25000]\tvalid_0's mape: 0.0177204\n",
            "[27500]\tvalid_0's mape: 0.0176746\n",
            "[30000]\tvalid_0's mape: 0.0176457\n",
            "Did not meet early stopping. Best iteration is:\n",
            "[30000]\tvalid_0's mape: 0.0176457\n",
            "Training until validation scores don't improve for 500 rounds\n",
            "[2500]\tvalid_0's mape: 0.0223501\n",
            "[5000]\tvalid_0's mape: 0.0201893\n",
            "[7500]\tvalid_0's mape: 0.0193047\n",
            "[10000]\tvalid_0's mape: 0.0187641\n",
            "[12500]\tvalid_0's mape: 0.0184322\n",
            "[15000]\tvalid_0's mape: 0.0182099\n",
            "[17500]\tvalid_0's mape: 0.0180457\n",
            "[20000]\tvalid_0's mape: 0.0179291\n",
            "[22500]\tvalid_0's mape: 0.0178399\n",
            "[25000]\tvalid_0's mape: 0.0177747\n",
            "[27500]\tvalid_0's mape: 0.0177255\n",
            "[30000]\tvalid_0's mape: 0.0176809\n",
            "Did not meet early stopping. Best iteration is:\n",
            "[29995]\tvalid_0's mape: 0.0176808\n"
          ],
          "name": "stdout"
        }
      ]
    },
    {
      "cell_type": "code",
      "metadata": {
        "id": "0NcInBWtgnap",
        "colab_type": "code",
        "colab": {
          "base_uri": "https://localhost:8080/",
          "height": 119
        },
        "outputId": "41b2c427-008c-4c53-a4c5-2810cef5964e"
      },
      "source": [
        "lgbm_mape1"
      ],
      "execution_count": 27,
      "outputs": [
        {
          "output_type": "execute_result",
          "data": {
            "text/plain": [
              "{'final_mape': [32.01987603976899],\n",
              " 'val_mape': [32.160711058602736,\n",
              "  32.75895467177284,\n",
              "  31.501214419563002,\n",
              "  31.676794042546696,\n",
              "  32.001703438157044]}"
            ]
          },
          "metadata": {
            "tags": []
          },
          "execution_count": 27
        }
      ]
    },
    {
      "cell_type": "markdown",
      "metadata": {
        "id": "eiXYkYMSt_Zl",
        "colab_type": "text"
      },
      "source": [
        "## model load & pred"
      ]
    },
    {
      "cell_type": "code",
      "metadata": {
        "id": "DS6dWK7ht_BU",
        "colab_type": "code",
        "colab": {}
      },
      "source": [
        "# load\n",
        "with open('lgbm0925_optuna1.pickle', 'rb') as f:\n",
        "  lgbm_model1 = pkl.load(f)"
      ],
      "execution_count": 8,
      "outputs": []
    },
    {
      "cell_type": "code",
      "metadata": {
        "id": "2NLDTtNTuU1H",
        "colab_type": "code",
        "colab": {
          "base_uri": "https://localhost:8080/",
          "height": 102
        },
        "outputId": "949a0034-5986-4ab0-aacd-85745bdaac27"
      },
      "source": [
        "lgbm_model1"
      ],
      "execution_count": 9,
      "outputs": [
        {
          "output_type": "execute_result",
          "data": {
            "text/plain": [
              "[<lightgbm.basic.Booster at 0x7fdb1bf95400>,\n",
              " <lightgbm.basic.Booster at 0x7fdb1bf95b00>,\n",
              " <lightgbm.basic.Booster at 0x7fdb1bf95ba8>,\n",
              " <lightgbm.basic.Booster at 0x7fdb1bf95c50>,\n",
              " <lightgbm.basic.Booster at 0x7fdb1bf95cf8>]"
            ]
          },
          "metadata": {
            "tags": []
          },
          "execution_count": 9
        }
      ]
    },
    {
      "cell_type": "code",
      "metadata": {
        "id": "uXM_pg9Cuk-n",
        "colab_type": "code",
        "colab": {}
      },
      "source": [
        "# train, test 잘되나 테스트!!\n",
        "X_train_, X_test_, y_train_, y_test_ = train_test_split(X, y, test_size=0.2, random_state=0)"
      ],
      "execution_count": 53,
      "outputs": []
    },
    {
      "cell_type": "code",
      "metadata": {
        "id": "0RlVfiy1yuoc",
        "colab_type": "code",
        "colab": {
          "base_uri": "https://localhost:8080/",
          "height": 51
        },
        "outputId": "b3339baa-ce0b-45ab-f432-60b8eb35fc78"
      },
      "source": [
        "%%time\n",
        "shap1, preds1 = test_pred(X_test_, lgbm_model1, 'testtest', cv_splits=5, shap=False)"
      ],
      "execution_count": 54,
      "outputs": [
        {
          "output_type": "stream",
          "text": [
            "CPU times: user 2min 51s, sys: 94.5 ms, total: 2min 51s\n",
            "Wall time: 43.6 s\n"
          ],
          "name": "stdout"
        }
      ]
    },
    {
      "cell_type": "code",
      "metadata": {
        "id": "SjckEBTtzCm7",
        "colab_type": "code",
        "colab": {
          "base_uri": "https://localhost:8080/",
          "height": 51
        },
        "outputId": "a9d00025-df06-466e-de5e-bdc55bea45c6"
      },
      "source": [
        "preds1['pred']"
      ],
      "execution_count": 55,
      "outputs": [
        {
          "output_type": "execute_result",
          "data": {
            "text/plain": [
              "[array([29608350.94458975, 33809805.27627023, 33682458.63395207, ...,\n",
              "        20541857.59598601, 30435842.50219661, 20850970.7611865 ])]"
            ]
          },
          "metadata": {
            "tags": []
          },
          "execution_count": 55
        }
      ]
    },
    {
      "cell_type": "code",
      "metadata": {
        "id": "wj1gOODGzH_x",
        "colab_type": "code",
        "colab": {
          "base_uri": "https://localhost:8080/",
          "height": 221
        },
        "outputId": "fe7240c9-90d3-47a3-f858-93b9e92a1430"
      },
      "source": [
        "y_test_"
      ],
      "execution_count": 56,
      "outputs": [
        {
          "output_type": "execute_result",
          "data": {
            "text/plain": [
              "456      13717000.0\n",
              "35457    20534000.0\n",
              "23602     4388000.0\n",
              "9631     63703000.0\n",
              "18697     9414000.0\n",
              "            ...    \n",
              "666       4763000.0\n",
              "32657     7866000.0\n",
              "26855     8205000.0\n",
              "10636    22946000.0\n",
              "37795    37192000.0\n",
              "Name: 취급액, Length: 7076, dtype: float64"
            ]
          },
          "metadata": {
            "tags": []
          },
          "execution_count": 56
        }
      ]
    },
    {
      "cell_type": "code",
      "metadata": {
        "id": "CMaeUisazSaw",
        "colab_type": "code",
        "colab": {
          "base_uri": "https://localhost:8080/",
          "height": 34
        },
        "outputId": "72b9f649-9256-4469-b972-913ed5f56b4f"
      },
      "source": [
        "MAPE(preds1['pred'], y_test_)"
      ],
      "execution_count": 57,
      "outputs": [
        {
          "output_type": "execute_result",
          "data": {
            "text/plain": [
              "64.94991922503529"
            ]
          },
          "metadata": {
            "tags": []
          },
          "execution_count": 57
        }
      ]
    },
    {
      "cell_type": "code",
      "metadata": {
        "id": "otIwqGGVtmgj",
        "colab_type": "code",
        "colab": {}
      },
      "source": [
        "# load\n",
        "with open('lgbm_pred0925_optuna1.pickle', 'rb') as f:\n",
        "  lgbm_pred1 = pkl.load(f)"
      ],
      "execution_count": 14,
      "outputs": []
    },
    {
      "cell_type": "code",
      "metadata": {
        "id": "ji5MnsA8vIz9",
        "colab_type": "code",
        "colab": {
          "base_uri": "https://localhost:8080/",
          "height": 119
        },
        "outputId": "0a73d5ba-5029-48ec-a909-ada65e1e3e8c"
      },
      "source": [
        "lgbm_pred1"
      ],
      "execution_count": 15,
      "outputs": [
        {
          "output_type": "execute_result",
          "data": {
            "text/plain": [
              "{'test_logpred': [],\n",
              " 'test_pred': [],\n",
              " 'val_logpred': [array([14.8673097 , 14.99788566, 15.40589897, ..., 17.44356795,\n",
              "         15.93961522, 17.17870384])],\n",
              " 'val_pred': [array([ 2862796.0636533 ,  3262111.86041748,  4905652.95356748, ...,\n",
              "         37639625.64281705,  8365403.27208715, 28881268.85953931])]}"
            ]
          },
          "metadata": {
            "tags": []
          },
          "execution_count": 15
        }
      ]
    },
    {
      "cell_type": "code",
      "metadata": {
        "id": "E9bSB0DHvL4Y",
        "colab_type": "code",
        "colab": {
          "base_uri": "https://localhost:8080/",
          "height": 34
        },
        "outputId": "0c320a4d-f8ba-4103-c0a1-53e9240e2746"
      },
      "source": [
        "len(lgbm_pred1['val_pred'][0])"
      ],
      "execution_count": 18,
      "outputs": [
        {
          "output_type": "execute_result",
          "data": {
            "text/plain": [
              "35379"
            ]
          },
          "metadata": {
            "tags": []
          },
          "execution_count": 18
        }
      ]
    },
    {
      "cell_type": "code",
      "metadata": {
        "id": "5xvESQVOvTiy",
        "colab_type": "code",
        "colab": {
          "base_uri": "https://localhost:8080/",
          "height": 221
        },
        "outputId": "78ba46a0-5b02-4a4c-de23-c26873bb355f"
      },
      "source": [
        "y"
      ],
      "execution_count": 19,
      "outputs": [
        {
          "output_type": "execute_result",
          "data": {
            "text/plain": [
              "0          2099000.0\n",
              "1          4371000.0\n",
              "2          3262000.0\n",
              "3          6955000.0\n",
              "4          6672000.0\n",
              "            ...     \n",
              "38299     10157000.0\n",
              "38300     50929000.0\n",
              "38301    104392000.0\n",
              "38302     13765000.0\n",
              "38303     46608000.0\n",
              "Name: 취급액, Length: 35379, dtype: float64"
            ]
          },
          "metadata": {
            "tags": []
          },
          "execution_count": 19
        }
      ]
    },
    {
      "cell_type": "code",
      "metadata": {
        "id": "nArgXZDGvZ3M",
        "colab_type": "code",
        "colab": {
          "base_uri": "https://localhost:8080/",
          "height": 34
        },
        "outputId": "679a0c8a-e3a0-4a74-9218-8d4574e7de0c"
      },
      "source": [
        "MAPE(y, lgbm_pred1['val_pred'][0])"
      ],
      "execution_count": 20,
      "outputs": [
        {
          "output_type": "execute_result",
          "data": {
            "text/plain": [
              "32.01987603976899"
            ]
          },
          "metadata": {
            "tags": []
          },
          "execution_count": 20
        }
      ]
    },
    {
      "cell_type": "markdown",
      "metadata": {
        "id": "0vMj00_zhaVC",
        "colab_type": "text"
      },
      "source": [
        "### lgbm_params2"
      ]
    },
    {
      "cell_type": "code",
      "metadata": {
        "id": "PODwzzFyhlTz",
        "colab_type": "code",
        "colab": {
          "base_uri": "https://localhost:8080/",
          "height": 258
        },
        "outputId": "f1d6f4e4-0ca1-4cea-82d6-fbf61321264e"
      },
      "source": [
        "!pip install bayesian-optimization"
      ],
      "execution_count": 28,
      "outputs": [
        {
          "output_type": "stream",
          "text": [
            "Collecting bayesian-optimization\n",
            "  Downloading https://files.pythonhosted.org/packages/bb/7a/fd8059a3881d3ab37ac8f72f56b73937a14e8bb14a9733e68cc8b17dbe3c/bayesian-optimization-1.2.0.tar.gz\n",
            "Requirement already satisfied: numpy>=1.9.0 in /usr/local/lib/python3.6/dist-packages (from bayesian-optimization) (1.19.2)\n",
            "Requirement already satisfied: scipy>=0.14.0 in /usr/local/lib/python3.6/dist-packages (from bayesian-optimization) (1.5.2)\n",
            "Requirement already satisfied: scikit-learn>=0.18.0 in /usr/local/lib/python3.6/dist-packages (from bayesian-optimization) (0.21.3)\n",
            "Requirement already satisfied: joblib>=0.11 in /usr/local/lib/python3.6/dist-packages (from scikit-learn>=0.18.0->bayesian-optimization) (0.16.0)\n",
            "Building wheels for collected packages: bayesian-optimization\n",
            "  Building wheel for bayesian-optimization (setup.py) ... \u001b[?25l\u001b[?25hdone\n",
            "  Created wheel for bayesian-optimization: filename=bayesian_optimization-1.2.0-cp36-none-any.whl size=11685 sha256=d82e46cb6b6c7ed1d957f240892d41a2fbc001e1b78b9ea913b15f71b07dfc33\n",
            "  Stored in directory: /root/.cache/pip/wheels/5a/56/ae/e0e3c1fc1954dc3ec712e2df547235ed072b448094d8f94aec\n",
            "Successfully built bayesian-optimization\n",
            "Installing collected packages: bayesian-optimization\n",
            "Successfully installed bayesian-optimization-1.2.0\n"
          ],
          "name": "stdout"
        }
      ]
    },
    {
      "cell_type": "code",
      "metadata": {
        "id": "bgx8t4clhy2W",
        "colab_type": "code",
        "colab": {}
      },
      "source": [
        "params_range = {\n",
        "                'num_leaves': (8, 64),\n",
        "                'max_depth': (4, 128),\n",
        "                'min_child_samples': (16, 64), \n",
        "                'reg_alpha': (0.01, 0.99),  \n",
        "                'reg_lambda': (0.01, 0.99), \n",
        "                'min_split_gain': (0.005, 0.035),\n",
        "                'colsample_bytree': (0.3, 0.9), \n",
        "                'subsample': (0.6, 0.9), \n",
        "                'subsample_freq': (0, 7),\n",
        "                'max_bin': (16, 256), \n",
        "                'learning_rate' : (.001, .01)\n",
        "               }"
      ],
      "execution_count": 29,
      "outputs": []
    },
    {
      "cell_type": "code",
      "metadata": {
        "id": "VGBQl5Wog-D-",
        "colab_type": "code",
        "colab": {}
      },
      "source": [
        "def Bayes_running(num_leaves, max_depth, min_child_samples, reg_alpha, reg_lambda, min_split_gain, colsample_bytree, subsample, subsample_freq, max_bin, learning_rate):\n",
        "    params = { \n",
        "                'boosting': 'gbdt', 'objective': 'regression', 'metric': 'mape', 'is_training_metric': True, 'n_estimators' : 30000, \n",
        "              \n",
        "                \"num_leaves\": int(round(num_leaves)),\n",
        "                \"max_depth\" : int(round(max_depth)),\n",
        "                'min_child_samples': int(round(min_child_samples)), \n",
        "                'reg_lambda': max(reg_lambda, 0), \n",
        "                \"min_split_gain\": min_split_gain,\n",
        "                'colsample_bytree': colsample_bytree, \n",
        "                'subsample': max(min(subsample,1),0), \n",
        "                'subsample_freq': int(round(subsample_freq)),\n",
        "                'max_bin': int(round(max_bin)), \n",
        "              \n",
        "                \"learning_rate\": learning_rate, \n",
        "                \"n_jobs\" : -1,\n",
        "                'device_type' : 'gpu', \n",
        "                'verbose' : -1\n",
        "              \n",
        "    }\n",
        "    \n",
        "    print(params)\n",
        "\n",
        "    models, oof_pred, mape, SHAP, pred = lgbm_oof(X, y2, params, '0925_optuna1', x_test=None, shap=False, scaling='MinMax', cv_splits=5, epoch=30000)\n",
        "    return -(mape['final_mape'][0])"
      ],
      "execution_count": 30,
      "outputs": []
    },
    {
      "cell_type": "code",
      "metadata": {
        "id": "XfyC7-FviYXT",
        "colab_type": "code",
        "colab": {
          "base_uri": "https://localhost:8080/",
          "height": 392
        },
        "outputId": "bc3b7eac-f2fb-49d3-be25-dec2b57eef55"
      },
      "source": [
        "%%time \n",
        "\n",
        "Bayesian = BayesianOptimization(Bayes_running, params_range, random_state = 77)\n",
        "Bayesian.maximize(init_points = 10, n_iter = 20)"
      ],
      "execution_count": 31,
      "outputs": [
        {
          "output_type": "error",
          "ename": "NameError",
          "evalue": "ignored",
          "traceback": [
            "\u001b[0;31m---------------------------------------------------------------------------\u001b[0m",
            "\u001b[0;31mNameError\u001b[0m                                 Traceback (most recent call last)",
            "\u001b[0;32m<ipython-input-31-c7e2b0eefd6b>\u001b[0m in \u001b[0;36m<module>\u001b[0;34m()\u001b[0m\n\u001b[0;32m----> 1\u001b[0;31m \u001b[0mget_ipython\u001b[0m\u001b[0;34m(\u001b[0m\u001b[0;34m)\u001b[0m\u001b[0;34m.\u001b[0m\u001b[0mrun_cell_magic\u001b[0m\u001b[0;34m(\u001b[0m\u001b[0;34m'time'\u001b[0m\u001b[0;34m,\u001b[0m \u001b[0;34m''\u001b[0m\u001b[0;34m,\u001b[0m \u001b[0;34m'\\nBayesian = BayesianOptimization(Bayes_running, params_range, random_state = 77)\\nBayesian.maximize(init_points = 10, n_iter = 20)'\u001b[0m\u001b[0;34m)\u001b[0m\u001b[0;34m\u001b[0m\u001b[0;34m\u001b[0m\u001b[0m\n\u001b[0m",
            "\u001b[0;32m/usr/local/lib/python3.6/dist-packages/IPython/core/interactiveshell.py\u001b[0m in \u001b[0;36mrun_cell_magic\u001b[0;34m(self, magic_name, line, cell)\u001b[0m\n\u001b[1;32m   2115\u001b[0m             \u001b[0mmagic_arg_s\u001b[0m \u001b[0;34m=\u001b[0m \u001b[0mself\u001b[0m\u001b[0;34m.\u001b[0m\u001b[0mvar_expand\u001b[0m\u001b[0;34m(\u001b[0m\u001b[0mline\u001b[0m\u001b[0;34m,\u001b[0m \u001b[0mstack_depth\u001b[0m\u001b[0;34m)\u001b[0m\u001b[0;34m\u001b[0m\u001b[0;34m\u001b[0m\u001b[0m\n\u001b[1;32m   2116\u001b[0m             \u001b[0;32mwith\u001b[0m \u001b[0mself\u001b[0m\u001b[0;34m.\u001b[0m\u001b[0mbuiltin_trap\u001b[0m\u001b[0;34m:\u001b[0m\u001b[0;34m\u001b[0m\u001b[0;34m\u001b[0m\u001b[0m\n\u001b[0;32m-> 2117\u001b[0;31m                 \u001b[0mresult\u001b[0m \u001b[0;34m=\u001b[0m \u001b[0mfn\u001b[0m\u001b[0;34m(\u001b[0m\u001b[0mmagic_arg_s\u001b[0m\u001b[0;34m,\u001b[0m \u001b[0mcell\u001b[0m\u001b[0;34m)\u001b[0m\u001b[0;34m\u001b[0m\u001b[0;34m\u001b[0m\u001b[0m\n\u001b[0m\u001b[1;32m   2118\u001b[0m             \u001b[0;32mreturn\u001b[0m \u001b[0mresult\u001b[0m\u001b[0;34m\u001b[0m\u001b[0;34m\u001b[0m\u001b[0m\n\u001b[1;32m   2119\u001b[0m \u001b[0;34m\u001b[0m\u001b[0m\n",
            "\u001b[0;32m<decorator-gen-60>\u001b[0m in \u001b[0;36mtime\u001b[0;34m(self, line, cell, local_ns)\u001b[0m\n",
            "\u001b[0;32m/usr/local/lib/python3.6/dist-packages/IPython/core/magic.py\u001b[0m in \u001b[0;36m<lambda>\u001b[0;34m(f, *a, **k)\u001b[0m\n\u001b[1;32m    186\u001b[0m     \u001b[0;31m# but it's overkill for just that one bit of state.\u001b[0m\u001b[0;34m\u001b[0m\u001b[0;34m\u001b[0m\u001b[0;34m\u001b[0m\u001b[0m\n\u001b[1;32m    187\u001b[0m     \u001b[0;32mdef\u001b[0m \u001b[0mmagic_deco\u001b[0m\u001b[0;34m(\u001b[0m\u001b[0marg\u001b[0m\u001b[0;34m)\u001b[0m\u001b[0;34m:\u001b[0m\u001b[0;34m\u001b[0m\u001b[0;34m\u001b[0m\u001b[0m\n\u001b[0;32m--> 188\u001b[0;31m         \u001b[0mcall\u001b[0m \u001b[0;34m=\u001b[0m \u001b[0;32mlambda\u001b[0m \u001b[0mf\u001b[0m\u001b[0;34m,\u001b[0m \u001b[0;34m*\u001b[0m\u001b[0ma\u001b[0m\u001b[0;34m,\u001b[0m \u001b[0;34m**\u001b[0m\u001b[0mk\u001b[0m\u001b[0;34m:\u001b[0m \u001b[0mf\u001b[0m\u001b[0;34m(\u001b[0m\u001b[0;34m*\u001b[0m\u001b[0ma\u001b[0m\u001b[0;34m,\u001b[0m \u001b[0;34m**\u001b[0m\u001b[0mk\u001b[0m\u001b[0;34m)\u001b[0m\u001b[0;34m\u001b[0m\u001b[0;34m\u001b[0m\u001b[0m\n\u001b[0m\u001b[1;32m    189\u001b[0m \u001b[0;34m\u001b[0m\u001b[0m\n\u001b[1;32m    190\u001b[0m         \u001b[0;32mif\u001b[0m \u001b[0mcallable\u001b[0m\u001b[0;34m(\u001b[0m\u001b[0marg\u001b[0m\u001b[0;34m)\u001b[0m\u001b[0;34m:\u001b[0m\u001b[0;34m\u001b[0m\u001b[0;34m\u001b[0m\u001b[0m\n",
            "\u001b[0;32m/usr/local/lib/python3.6/dist-packages/IPython/core/magics/execution.py\u001b[0m in \u001b[0;36mtime\u001b[0;34m(self, line, cell, local_ns)\u001b[0m\n\u001b[1;32m   1191\u001b[0m         \u001b[0;32melse\u001b[0m\u001b[0;34m:\u001b[0m\u001b[0;34m\u001b[0m\u001b[0;34m\u001b[0m\u001b[0m\n\u001b[1;32m   1192\u001b[0m             \u001b[0mst\u001b[0m \u001b[0;34m=\u001b[0m \u001b[0mclock2\u001b[0m\u001b[0;34m(\u001b[0m\u001b[0;34m)\u001b[0m\u001b[0;34m\u001b[0m\u001b[0;34m\u001b[0m\u001b[0m\n\u001b[0;32m-> 1193\u001b[0;31m             \u001b[0mexec\u001b[0m\u001b[0;34m(\u001b[0m\u001b[0mcode\u001b[0m\u001b[0;34m,\u001b[0m \u001b[0mglob\u001b[0m\u001b[0;34m,\u001b[0m \u001b[0mlocal_ns\u001b[0m\u001b[0;34m)\u001b[0m\u001b[0;34m\u001b[0m\u001b[0;34m\u001b[0m\u001b[0m\n\u001b[0m\u001b[1;32m   1194\u001b[0m             \u001b[0mend\u001b[0m \u001b[0;34m=\u001b[0m \u001b[0mclock2\u001b[0m\u001b[0;34m(\u001b[0m\u001b[0;34m)\u001b[0m\u001b[0;34m\u001b[0m\u001b[0;34m\u001b[0m\u001b[0m\n\u001b[1;32m   1195\u001b[0m             \u001b[0mout\u001b[0m \u001b[0;34m=\u001b[0m \u001b[0;32mNone\u001b[0m\u001b[0;34m\u001b[0m\u001b[0;34m\u001b[0m\u001b[0m\n",
            "\u001b[0;32m<timed exec>\u001b[0m in \u001b[0;36m<module>\u001b[0;34m()\u001b[0m\n",
            "\u001b[0;31mNameError\u001b[0m: name 'BayesianOptimization' is not defined"
          ]
        }
      ]
    },
    {
      "cell_type": "code",
      "metadata": {
        "id": "aNUcJZBAifdu",
        "colab_type": "code",
        "colab": {}
      },
      "source": [
        "print('Final result: ', Bayesian.max)"
      ],
      "execution_count": null,
      "outputs": []
    },
    {
      "cell_type": "code",
      "metadata": {
        "id": "-CDf_8gliynk",
        "colab_type": "code",
        "colab": {}
      },
      "source": [
        "# prior은 정확한 관측치로부터 얻어진 것이 아니므로, 대략적인 정수를 사용해도 무방하다고 함!! \n",
        "lgbm_params2 = Bayesian.max[\"params\"].copy()\n",
        "lgbm_params2['num_leaves'] = int(lgbm_params2['num_leaves'])\n",
        "lgbm_params2[\"max_depth\"] = int(round(lgbm_params2[\"max_depth\"]))\n",
        "lgbm_params2[\"min_child_samples\"] = int(round(lgbm_params2[\"min_child_samples\"]))\n",
        "lgbm_params2[\"subsample_freq\"] = int(round(lgbm_params2[\"subsample_freq\"]))\n",
        "lgbm_params2[\"max_bin\"] = int(round(lgbm_params2[\"max_bin\"]))\n",
        "\n",
        "lgbm_params2['n_jobs'] = -1\n",
        "lgbm_params2['num_iterations'] = 30000\n",
        "lgbm_params2['objective'] = 'regression'\n",
        "lgbm_params2['metric'] = 'mape'\n",
        "lgbm_params2['device_type'] = 'gpu'\n",
        "lgbm_params2['verbose'] = -1\n",
        "lgbm_params2['is_training_metric'] = True"
      ],
      "execution_count": null,
      "outputs": []
    },
    {
      "cell_type": "code",
      "metadata": {
        "id": "iD6EX94VimBU",
        "colab_type": "code",
        "colab": {}
      },
      "source": [
        "lgbm_models2, lgbm_oof_pred2, lgbm_mape2, lgbm_SHAP2, lgbm_pred2 = lgbm_oof(X, y2, lgbm_params2, '0925_optuna1', x_test=None, shap=False, scaling='MinMax', cv_splits=5, epoch=30000)"
      ],
      "execution_count": null,
      "outputs": []
    },
    {
      "cell_type": "code",
      "metadata": {
        "id": "Omh5B0L7jhwi",
        "colab_type": "code",
        "colab": {}
      },
      "source": [
        ""
      ],
      "execution_count": null,
      "outputs": []
    }
  ]
}