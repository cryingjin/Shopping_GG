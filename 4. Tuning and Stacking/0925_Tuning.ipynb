{
 "cells": [
  {
   "cell_type": "code",
   "execution_count": 12,
   "metadata": {},
   "outputs": [],
   "source": [
    "import os\n",
    "import sys\n",
    "import joblib\n",
    "import pickle as pkl"
   ]
  },
  {
   "cell_type": "code",
   "execution_count": 1,
   "metadata": {},
   "outputs": [],
   "source": [
    "import pandas as pd \n",
    "import numpy as np\n",
    "\n",
    "import joblib\n",
    "import pickle as pkl\n",
    "\n",
    "import warnings\n",
    "from sklearn.exceptions import DataConversionWarning\n",
    "warnings.filterwarnings(action='ignore')\n",
    "warnings.filterwarnings(action='ignore', category=DataConversionWarning)"
   ]
  },
  {
   "cell_type": "code",
   "execution_count": 2,
   "metadata": {},
   "outputs": [],
   "source": [
    "# MAPE \n",
    "def MAPE(y_true, y_pred): \n",
    "    y_true, y_pred = np.array(y_true), np.array(y_pred)\n",
    "    return np.mean(np.abs((y_true - y_pred) / y_true)) * 100"
   ]
  },
  {
   "cell_type": "code",
   "execution_count": 3,
   "metadata": {},
   "outputs": [],
   "source": [
    "# MAPE_exp  \n",
    "def MAPE_exp(y_true, y_pred): \n",
    "    y_true, y_pred = np.array(y_true), np.array(y_pred)\n",
    "    return np.mean(np.abs((np.expm1(y_true) - np.expm1(y_pred)) / np.expm1(y_true))) * 100"
   ]
  },
  {
   "cell_type": "markdown",
   "metadata": {},
   "source": [
    "# Modeling "
   ]
  },
  {
   "cell_type": "code",
   "execution_count": 9,
   "metadata": {},
   "outputs": [],
   "source": [
    "import xgboost as xgb\n",
    "import lightgbm as lgb\n",
    "\n",
    "from sklearn.model_selection import KFold, cross_val_score, train_test_split\n",
    "from sklearn.preprocessing import StandardScaler, MinMaxScaler"
   ]
  },
  {
   "cell_type": "code",
   "execution_count": 10,
   "metadata": {},
   "outputs": [],
   "source": [
    "import shap\n",
    "\n",
    "import optuna \n",
    "from bayes_opt import BayesianOptimization "
   ]
  },
  {
   "cell_type": "markdown",
   "metadata": {},
   "source": [
    "### xgboost "
   ]
  },
  {
   "cell_type": "code",
   "execution_count": 17,
   "metadata": {},
   "outputs": [],
   "source": [
    "# for hyperparameter tuning : xgboost \n",
    "def xgb_oof(X, y, params, version, x_test=None, shap=False, scaling=False, cv_splits=5, epoch=30000):\n",
    "\n",
    "    mape = {'val_mape'   : [], 'final_mape' : []}\n",
    "    SHAP = {'shap_values': [], 'expected_values' : []}\n",
    "    pred = {'val_logpred': [], 'val_pred' : [], 'test_logpred': [], 'test_pred' : []}\n",
    "\n",
    "    \n",
    "    oof_pred = np.zeros(len(X))  # val을 통해 예측한 값 \n",
    "    if x_test is not None:       # hyperparameter tuning된 test 값으로 예측할 때  \n",
    "        test_pred = np.zeros(len(x_test))\n",
    "    \n",
    "    \n",
    "    # models save \n",
    "    models = [] \n",
    "    \n",
    "    \n",
    "    # K Fold Cross Validation\n",
    "    cv = KFold(n_splits=cv_splits, random_state=77, shuffle=True)\n",
    "    for t,v in cv.split(X):\n",
    "        X_train , X_val = X.iloc[t] , X.iloc[v]            \n",
    "        y_train , y_val = y.iloc[t] , y.iloc[v]\n",
    "        \n",
    "        \n",
    "        # scaling : MinMax or Standard \n",
    "        if scaling : \n",
    "            if scaling == 'MinMax' : \n",
    "                scaler = MinMaxScaler()\n",
    "            elif scaling == 'Standard' : \n",
    "                scaler = StandardScaler() \n",
    "\n",
    "            X_train = scaler.fit_transform(X_train)\n",
    "            X_val   = scaler.transform(X_val)\n",
    "            \n",
    "            if x_test is not None : \n",
    "                X_test = scaler.transform(x_test)\n",
    "                \n",
    "        else : \n",
    "            if x_test is not None : \n",
    "                X_test = x_test \n",
    "            \n",
    "        \n",
    "        # modeling \n",
    "        train_T = xgb.DMatrix(X_train, label=y_train, missing=np.nan) \n",
    "        val_T   = xgb.DMatrix(X_val,   label=y_val  , missing=np.nan)     \n",
    "\n",
    "        watchlist = [(train_T, 'train'), (val_T, 'valid')]  \n",
    "            \n",
    "\n",
    "        model = xgb.train(params, train_T, epoch, watchlist, verbose_eval=2500, early_stopping_rounds=500)\n",
    "        oof_pred[v] = model.predict(X_val)\n",
    "        models.append(model) \n",
    "        \n",
    "        \n",
    "        mape['val_mape'].append(MAPE_exp(y_val, oof_pred[v]))\n",
    "\n",
    "        \n",
    "        if x_test is not None :\n",
    "            test_pred += model.predict(X_test) / 5\n",
    "        \n",
    "        \n",
    "        \n",
    "        # SHAP\n",
    "        if shap : \n",
    "            explainer = shap.TreeExplainer(model)\n",
    "            shap_values = explainer.shap_values(X_test)\n",
    "            \n",
    "            SHAP['shap_values'].append(shap_values)\n",
    "            SHAP['expected_values'].append(explainer.expected_value)    \n",
    "        \n",
    "    \n",
    "    \n",
    "    mape['final_mape'].append(MAPE_exp(y, oof_pred))\n",
    "\n",
    "    # preds\n",
    "    pred['val_logpred'].append(oof_pred)\n",
    "    pred['val_pred'].append(np.expm1(oof_pred))\n",
    "    if x_test is not None : \n",
    "        pred['test_logpred'].append(test_pred)\n",
    "        pred['test_pred'].append(np.expm1(test_pred))\n",
    "    \n",
    "    \n",
    "    # save models\n",
    "    with open('xgb' + version + '.pickle', 'wb') as f:\n",
    "        pkl.dump(models, f, pkl.HIGHEST_PROTOCOL)\n",
    "        \n",
    "        \n",
    "    # save preds \n",
    "    with open('xgb_pred' + version + '.pickle', 'wb') as f:\n",
    "        pkl.dump(pred, f, pkl.HIGHEST_PROTOCOL)\n",
    "        \n",
    "    \n",
    "    # save shap values \n",
    "    if shap : \n",
    "        with open('xgb_shap' + version + '.pickle', 'wb') as f:\n",
    "            pkl.dump(SHAP, f, pkl.HIGHEST_PROTOCOL)  \n",
    "        \n",
    "            \n",
    "            \n",
    "        \n",
    "    if x_test is None:\n",
    "        return models, oof_pred, mape, SHAP, pred \n",
    "    else:\n",
    "        return models, oof_pred, mape, SHAP, pred, test_pred"
   ]
  },
  {
   "cell_type": "markdown",
   "metadata": {},
   "source": [
    "### lightgbm"
   ]
  },
  {
   "cell_type": "code",
   "execution_count": null,
   "metadata": {},
   "outputs": [],
   "source": [
    "# for hyperparameter tuning : lgbm\n",
    "def lgbm_oof(X, y, params, version, x_test=None, shap=False, scaling=False, cv_splits=5, epoch=30000):\n",
    "\n",
    "    mape = {'val_mape'   : [], 'final_mape' : []}\n",
    "    SHAP = {'shap_values': [], 'expected_values' : []}\n",
    "    pred = {'val_logpred': [], 'val_pred' : [], 'test_logpred': [], 'test_pred' : []}\n",
    "\n",
    "    \n",
    "    oof_pred = np.zeros(len(X))  # val을 통해 예측한 값 \n",
    "    if x_test is not None:       # hyperparameter tuning된 test 값으로 예측할 때  \n",
    "        test_pred = np.zeros(len(x_test))\n",
    "    \n",
    "    \n",
    "    # models save \n",
    "    models = [] \n",
    "    \n",
    "    \n",
    "    # K Fold Cross Validation\n",
    "    cv = KFold(n_splits=cv_splits, random_state=77, shuffle=True)\n",
    "    for t,v in cv.split(X):\n",
    "        X_train , X_val = X.iloc[t] , X.iloc[v]            \n",
    "        y_train , y_val = y.iloc[t] , y.iloc[v]\n",
    "        \n",
    "        \n",
    "        # scaling : MinMax or Standard \n",
    "        if scaling : \n",
    "            if scaling == 'MinMax' : \n",
    "                scaler = MinMaxScaler()\n",
    "            elif scaling == 'Standard' : \n",
    "                scaler = StandardScaler() \n",
    "\n",
    "            X_train = scaler.fit_transform(X_train)\n",
    "            X_val   = scaler.transform(X_val)\n",
    "            \n",
    "            if x_test is not None : \n",
    "                X_test = scaler.transform(x_test)\n",
    "                \n",
    "        else : \n",
    "            X_train = X_train.values\n",
    "            X_val = X_val.values\n",
    "            if x_test is not None : \n",
    "                X_test = x_test.values \n",
    "            \n",
    "        \n",
    "        # modeling \n",
    "        train_T = lgb.Dataset(X_train, label=y_train.values) \n",
    "        val_T   = lgb.Dataset(X_val,   label=y_val.values)  \n",
    "            \n",
    "        \n",
    "        model = lgb.train(params, train_T, epoch, valid_sets = val_T, verbose_eval=2500, early_stopping_rounds=500)\n",
    "        oof_pred[v] = model.predict(X_val)\n",
    "        models.append(model) \n",
    "        \n",
    "        \n",
    "        mape['val_mape'].append(MAPE_exp(y_val, oof_pred[v]))\n",
    "\n",
    "        \n",
    "        if x_test is not None :\n",
    "            test_pred += model.predict(X_test) / 5\n",
    "        \n",
    "        \n",
    "        \n",
    "        # SHAP\n",
    "        if shap : \n",
    "            explainer = shap.TreeExplainer(model)\n",
    "            shap_values = explainer.shap_values(X_test)\n",
    "            \n",
    "            SHAP['shap_values'].append(shap_values)\n",
    "            SHAP['expected_values'].append(explainer.expected_value)    \n",
    "        \n",
    "    \n",
    "    \n",
    "    mape['final_mape'].append(MAPE_exp(y, oof_pred))\n",
    "       \n",
    "    # preds\n",
    "    pred['val_logpred'].append(oof_pred)\n",
    "    pred['val_pred'].append(np.expm1(oof_pred))\n",
    "    if x_test is not None : \n",
    "        pred['test_logpred'].append(test_pred)\n",
    "        pred['test_pred'].append(np.expm1(test_pred))\n",
    "    \n",
    "    \n",
    "    # save models\n",
    "    with open('lgbm' + version + '.pickle', 'wb') as f:\n",
    "        pkl.dump(models, f, pkl.HIGHEST_PROTOCOL)\n",
    "\n",
    "    # save preds \n",
    "    with open('lgbm_pred' + version + '.pickle', 'wb') as f:\n",
    "        pkl.dump(pred, f, pkl.HIGHEST_PROTOCOL)\n",
    "    \n",
    "    # save shap values \n",
    "    if shap : \n",
    "        with open('lgbm_shap' + version + '.pickle', 'wb') as f:\n",
    "            pkl.dump(SHAP, f, pkl.HIGHEST_PROTOCOL)  \n",
    "    \n",
    "            \n",
    "        \n",
    "    if x_test is None:\n",
    "        return models, oof_pred, mape, SHAP, pred \n",
    "    else:\n",
    "        return models, oof_pred, mape, SHAP, pred, test_pred"
   ]
  },
  {
   "cell_type": "markdown",
   "metadata": {},
   "source": [
    "### prediction ! "
   ]
  },
  {
   "cell_type": "code",
   "execution_count": 6,
   "metadata": {},
   "outputs": [],
   "source": [
    "# for pred  \n",
    "def test_pred(X_test, models, version, cv_splits=5):\n",
    "\n",
    "    SHAP = {'shap_values': [], 'expected_values' : []}    \n",
    "    pred = {'log_pred': [], 'pred' : []}\n",
    "    test_pred = np.zeros(len(X_test))  # test dataset \n",
    "    \n",
    "    \n",
    "    # predict \n",
    "    for model in models : \n",
    "        test_pred += model.predict(X_test) / cv_splits\n",
    "\n",
    "\n",
    "        # SHAP\n",
    "        if shap : \n",
    "            shap_values = explainer.shap_values(X_test)\n",
    "            explainer = shap.TreeExplainer(model)\n",
    "\n",
    "            SHAP['shap_values'].append(shap_values)\n",
    "            SHAP['expected_values'].append(explainer.expected_value)    \n",
    "\n",
    "    # preds\n",
    "    pred['log_pred'].append(test_pred)\n",
    "    pred['pred'].append(np.expm1(test_pred))\n",
    "            \n",
    "                \n",
    "    # save test preds \n",
    "    with open('testpred_' + version + '.pickle', 'wb') as f:\n",
    "        pkl.dump(pred, f, pkl.HIGHEST_PROTOCOL)    \n",
    "    \n",
    "        \n",
    "    return SHAP, pred"
   ]
  },
  {
   "cell_type": "markdown",
   "metadata": {},
   "source": [
    "## example "
   ]
  },
  {
   "cell_type": "code",
   "execution_count": 13,
   "metadata": {},
   "outputs": [],
   "source": [
    "data_v4 = joblib.load(os.path.join('..', '..', '7th_train_FE.pkl'))\n",
    "locals().update(data_v4)"
   ]
  },
  {
   "cell_type": "code",
   "execution_count": 14,
   "metadata": {},
   "outputs": [
    {
     "data": {
      "text/plain": [
       "((35379, 402), (35379,))"
      ]
     },
     "execution_count": 14,
     "metadata": {},
     "output_type": "execute_result"
    }
   ],
   "source": [
    "X = data_v4[\"X\"] ; y = data_v4[\"y\"]\n",
    "X.shape, y.shape"
   ]
  },
  {
   "cell_type": "code",
   "execution_count": 19,
   "metadata": {},
   "outputs": [],
   "source": [
    "y2 = np.log1p(y)"
   ]
  },
  {
   "cell_type": "markdown",
   "metadata": {},
   "source": [
    "### optuna parameter tuninig "
   ]
  },
  {
   "cell_type": "code",
   "execution_count": 15,
   "metadata": {},
   "outputs": [],
   "source": [
    "import optuna\n",
    "optuna.logging.set_verbosity(optuna.logging.WARNING)"
   ]
  },
  {
   "cell_type": "code",
   "execution_count": 18,
   "metadata": {},
   "outputs": [],
   "source": [
    "def objective_xgb(trial, X, y):\n",
    "    params = {\n",
    "                'lambda': trial.suggest_loguniform('lambda', 1e-3, 1.0),\n",
    "                'alpha': trial.suggest_loguniform('alpha', 1e-3, 1.0),\n",
    "                'max_depth': trial.suggest_int('max_depth', 4, 63),\n",
    "                'eta': trial.suggest_uniform('eta', 0.001, 0.01),\n",
    "                'gamma': trial.suggest_loguniform('gamma', 1e-3, 1.0),\n",
    "                'subsample': trial.suggest_uniform('subsample', 1e-3, 1.0), \n",
    "                'colsample_bytree': trial.suggest_uniform('colsample_bytree', 1e-3, 1.0),  \n",
    "                'colsample_bylevel': trial.suggest_uniform('colsample_bylevel', 1e-3, 1.0),  \n",
    "                'min_child_weight': trial.suggest_loguniform('min_child_weight', 1e-3, 15),  \n",
    "                'max_bin': trial.suggest_int('max_bin', 31, 256), \n",
    "              \n",
    "              \n",
    "                'nthread': -1, \n",
    "                'silent' : 1 , \n",
    "                'objective': 'reg:squarederror',\n",
    "                'n_estimators': 30000,\n",
    "                'seed': 77\n",
    "    }\n",
    "    \n",
    "    models, oof_pred, mape, SHAP = xgb_oof(X, y, params, '0925_optuna1', x_test=None, shap=False, scaling='MinMax', cv_splits=5, epoch=30000)\n",
    "    return mape['final_mape'][0]"
   ]
  },
  {
   "cell_type": "code",
   "execution_count": 20,
   "metadata": {},
   "outputs": [
    {
     "name": "stdout",
     "output_type": "stream",
     "text": [
      "[0]\ttrain-rmse:15.95422\tvalid-rmse:15.94957\n",
      "Multiple eval metrics have been passed: 'valid-rmse' will be used for early stopping.\n",
      "\n",
      "Will train until valid-rmse hasn't improved in 500 rounds.\n",
      "[0]\ttrain-rmse:15.97882\tvalid-rmse:15.97415\n",
      "Multiple eval metrics have been passed: 'valid-rmse' will be used for early stopping.\n",
      "\n",
      "Will train until valid-rmse hasn't improved in 500 rounds.\n",
      "[0]\ttrain-rmse:16.01633\tvalid-rmse:16.01168\n",
      "Multiple eval metrics have been passed: 'valid-rmse' will be used for early stopping.\n",
      "\n",
      "Will train until valid-rmse hasn't improved in 500 rounds.\n",
      "[0]\ttrain-rmse:15.98757\tvalid-rmse:15.98289\n",
      "Multiple eval metrics have been passed: 'valid-rmse' will be used for early stopping.\n",
      "\n",
      "Will train until valid-rmse hasn't improved in 500 rounds.\n",
      "[0]\ttrain-rmse:15.99263\tvalid-rmse:15.98803\n",
      "Multiple eval metrics have been passed: 'valid-rmse' will be used for early stopping.\n",
      "\n",
      "Will train until valid-rmse hasn't improved in 500 rounds.\n",
      "[0]\ttrain-rmse:16.02331\tvalid-rmse:16.01868\n",
      "Multiple eval metrics have been passed: 'valid-rmse' will be used for early stopping.\n",
      "\n",
      "Will train until valid-rmse hasn't improved in 500 rounds.\n",
      "[0]\ttrain-rmse:15.98164\tvalid-rmse:15.97705\n",
      "Multiple eval metrics have been passed: 'valid-rmse' will be used for early stopping.\n",
      "\n",
      "Will train until valid-rmse hasn't improved in 500 rounds.\n",
      "[0]\ttrain-rmse:15.94023\tvalid-rmse:15.93556\n",
      "Multiple eval metrics have been passed: 'valid-rmse' will be used for early stopping.\n",
      "\n",
      "Will train until valid-rmse hasn't improved in 500 rounds.\n",
      "[2500]\ttrain-rmse:0.19441\tvalid-rmse:0.45305\n"
     ]
    },
    {
     "ename": "KeyboardInterrupt",
     "evalue": "",
     "output_type": "error",
     "traceback": [
      "\u001b[0;31m---------------------------------------------------------------------------\u001b[0m",
      "\u001b[0;31mKeyboardInterrupt\u001b[0m                         Traceback (most recent call last)",
      "\u001b[0;32m<timed exec>\u001b[0m in \u001b[0;36m<module>\u001b[0;34m\u001b[0m\n",
      "\u001b[0;32m~/anaconda3/lib/python3.8/site-packages/optuna/study.py\u001b[0m in \u001b[0;36moptimize\u001b[0;34m(self, func, n_trials, timeout, n_jobs, catch, callbacks, gc_after_trial, show_progress_bar)\u001b[0m\n\u001b[1;32m    363\u001b[0m                         \u001b[0mwarnings\u001b[0m\u001b[0;34m.\u001b[0m\u001b[0mwarn\u001b[0m\u001b[0;34m(\u001b[0m\u001b[0mmsg\u001b[0m\u001b[0;34m,\u001b[0m \u001b[0mUserWarning\u001b[0m\u001b[0;34m)\u001b[0m\u001b[0;34m\u001b[0m\u001b[0;34m\u001b[0m\u001b[0m\n\u001b[1;32m    364\u001b[0m \u001b[0;34m\u001b[0m\u001b[0m\n\u001b[0;32m--> 365\u001b[0;31m                     parallel(\n\u001b[0m\u001b[1;32m    366\u001b[0m                         delayed(self._reseed_and_optimize_sequential)(\n\u001b[1;32m    367\u001b[0m                             \u001b[0mfunc\u001b[0m\u001b[0;34m,\u001b[0m \u001b[0;36m1\u001b[0m\u001b[0;34m,\u001b[0m \u001b[0mtimeout\u001b[0m\u001b[0;34m,\u001b[0m \u001b[0mcatch\u001b[0m\u001b[0;34m,\u001b[0m \u001b[0mcallbacks\u001b[0m\u001b[0;34m,\u001b[0m \u001b[0mgc_after_trial\u001b[0m\u001b[0;34m,\u001b[0m \u001b[0mtime_start\u001b[0m\u001b[0;34m\u001b[0m\u001b[0;34m\u001b[0m\u001b[0m\n",
      "\u001b[0;32m~/anaconda3/lib/python3.8/site-packages/joblib/parallel.py\u001b[0m in \u001b[0;36m__call__\u001b[0;34m(self, iterable)\u001b[0m\n\u001b[1;32m   1040\u001b[0m \u001b[0;34m\u001b[0m\u001b[0m\n\u001b[1;32m   1041\u001b[0m             \u001b[0;32mwith\u001b[0m \u001b[0mself\u001b[0m\u001b[0;34m.\u001b[0m\u001b[0m_backend\u001b[0m\u001b[0;34m.\u001b[0m\u001b[0mretrieval_context\u001b[0m\u001b[0;34m(\u001b[0m\u001b[0;34m)\u001b[0m\u001b[0;34m:\u001b[0m\u001b[0;34m\u001b[0m\u001b[0;34m\u001b[0m\u001b[0m\n\u001b[0;32m-> 1042\u001b[0;31m                 \u001b[0mself\u001b[0m\u001b[0;34m.\u001b[0m\u001b[0mretrieve\u001b[0m\u001b[0;34m(\u001b[0m\u001b[0;34m)\u001b[0m\u001b[0;34m\u001b[0m\u001b[0;34m\u001b[0m\u001b[0m\n\u001b[0m\u001b[1;32m   1043\u001b[0m             \u001b[0;31m# Make sure that we get a last message telling us we are done\u001b[0m\u001b[0;34m\u001b[0m\u001b[0;34m\u001b[0m\u001b[0;34m\u001b[0m\u001b[0m\n\u001b[1;32m   1044\u001b[0m             \u001b[0melapsed_time\u001b[0m \u001b[0;34m=\u001b[0m \u001b[0mtime\u001b[0m\u001b[0;34m.\u001b[0m\u001b[0mtime\u001b[0m\u001b[0;34m(\u001b[0m\u001b[0;34m)\u001b[0m \u001b[0;34m-\u001b[0m \u001b[0mself\u001b[0m\u001b[0;34m.\u001b[0m\u001b[0m_start_time\u001b[0m\u001b[0;34m\u001b[0m\u001b[0;34m\u001b[0m\u001b[0m\n",
      "\u001b[0;32m~/anaconda3/lib/python3.8/site-packages/joblib/parallel.py\u001b[0m in \u001b[0;36mretrieve\u001b[0;34m(self)\u001b[0m\n\u001b[1;32m    919\u001b[0m             \u001b[0;32mtry\u001b[0m\u001b[0;34m:\u001b[0m\u001b[0;34m\u001b[0m\u001b[0;34m\u001b[0m\u001b[0m\n\u001b[1;32m    920\u001b[0m                 \u001b[0;32mif\u001b[0m \u001b[0mgetattr\u001b[0m\u001b[0;34m(\u001b[0m\u001b[0mself\u001b[0m\u001b[0;34m.\u001b[0m\u001b[0m_backend\u001b[0m\u001b[0;34m,\u001b[0m \u001b[0;34m'supports_timeout'\u001b[0m\u001b[0;34m,\u001b[0m \u001b[0;32mFalse\u001b[0m\u001b[0;34m)\u001b[0m\u001b[0;34m:\u001b[0m\u001b[0;34m\u001b[0m\u001b[0;34m\u001b[0m\u001b[0m\n\u001b[0;32m--> 921\u001b[0;31m                     \u001b[0mself\u001b[0m\u001b[0;34m.\u001b[0m\u001b[0m_output\u001b[0m\u001b[0;34m.\u001b[0m\u001b[0mextend\u001b[0m\u001b[0;34m(\u001b[0m\u001b[0mjob\u001b[0m\u001b[0;34m.\u001b[0m\u001b[0mget\u001b[0m\u001b[0;34m(\u001b[0m\u001b[0mtimeout\u001b[0m\u001b[0;34m=\u001b[0m\u001b[0mself\u001b[0m\u001b[0;34m.\u001b[0m\u001b[0mtimeout\u001b[0m\u001b[0;34m)\u001b[0m\u001b[0;34m)\u001b[0m\u001b[0;34m\u001b[0m\u001b[0;34m\u001b[0m\u001b[0m\n\u001b[0m\u001b[1;32m    922\u001b[0m                 \u001b[0;32melse\u001b[0m\u001b[0;34m:\u001b[0m\u001b[0;34m\u001b[0m\u001b[0;34m\u001b[0m\u001b[0m\n\u001b[1;32m    923\u001b[0m                     \u001b[0mself\u001b[0m\u001b[0;34m.\u001b[0m\u001b[0m_output\u001b[0m\u001b[0;34m.\u001b[0m\u001b[0mextend\u001b[0m\u001b[0;34m(\u001b[0m\u001b[0mjob\u001b[0m\u001b[0;34m.\u001b[0m\u001b[0mget\u001b[0m\u001b[0;34m(\u001b[0m\u001b[0;34m)\u001b[0m\u001b[0;34m)\u001b[0m\u001b[0;34m\u001b[0m\u001b[0;34m\u001b[0m\u001b[0m\n",
      "\u001b[0;32m~/anaconda3/lib/python3.8/multiprocessing/pool.py\u001b[0m in \u001b[0;36mget\u001b[0;34m(self, timeout)\u001b[0m\n\u001b[1;32m    763\u001b[0m \u001b[0;34m\u001b[0m\u001b[0m\n\u001b[1;32m    764\u001b[0m     \u001b[0;32mdef\u001b[0m \u001b[0mget\u001b[0m\u001b[0;34m(\u001b[0m\u001b[0mself\u001b[0m\u001b[0;34m,\u001b[0m \u001b[0mtimeout\u001b[0m\u001b[0;34m=\u001b[0m\u001b[0;32mNone\u001b[0m\u001b[0;34m)\u001b[0m\u001b[0;34m:\u001b[0m\u001b[0;34m\u001b[0m\u001b[0;34m\u001b[0m\u001b[0m\n\u001b[0;32m--> 765\u001b[0;31m         \u001b[0mself\u001b[0m\u001b[0;34m.\u001b[0m\u001b[0mwait\u001b[0m\u001b[0;34m(\u001b[0m\u001b[0mtimeout\u001b[0m\u001b[0;34m)\u001b[0m\u001b[0;34m\u001b[0m\u001b[0;34m\u001b[0m\u001b[0m\n\u001b[0m\u001b[1;32m    766\u001b[0m         \u001b[0;32mif\u001b[0m \u001b[0;32mnot\u001b[0m \u001b[0mself\u001b[0m\u001b[0;34m.\u001b[0m\u001b[0mready\u001b[0m\u001b[0;34m(\u001b[0m\u001b[0;34m)\u001b[0m\u001b[0;34m:\u001b[0m\u001b[0;34m\u001b[0m\u001b[0;34m\u001b[0m\u001b[0m\n\u001b[1;32m    767\u001b[0m             \u001b[0;32mraise\u001b[0m \u001b[0mTimeoutError\u001b[0m\u001b[0;34m\u001b[0m\u001b[0;34m\u001b[0m\u001b[0m\n",
      "\u001b[0;32m~/anaconda3/lib/python3.8/multiprocessing/pool.py\u001b[0m in \u001b[0;36mwait\u001b[0;34m(self, timeout)\u001b[0m\n\u001b[1;32m    760\u001b[0m \u001b[0;34m\u001b[0m\u001b[0m\n\u001b[1;32m    761\u001b[0m     \u001b[0;32mdef\u001b[0m \u001b[0mwait\u001b[0m\u001b[0;34m(\u001b[0m\u001b[0mself\u001b[0m\u001b[0;34m,\u001b[0m \u001b[0mtimeout\u001b[0m\u001b[0;34m=\u001b[0m\u001b[0;32mNone\u001b[0m\u001b[0;34m)\u001b[0m\u001b[0;34m:\u001b[0m\u001b[0;34m\u001b[0m\u001b[0;34m\u001b[0m\u001b[0m\n\u001b[0;32m--> 762\u001b[0;31m         \u001b[0mself\u001b[0m\u001b[0;34m.\u001b[0m\u001b[0m_event\u001b[0m\u001b[0;34m.\u001b[0m\u001b[0mwait\u001b[0m\u001b[0;34m(\u001b[0m\u001b[0mtimeout\u001b[0m\u001b[0;34m)\u001b[0m\u001b[0;34m\u001b[0m\u001b[0;34m\u001b[0m\u001b[0m\n\u001b[0m\u001b[1;32m    763\u001b[0m \u001b[0;34m\u001b[0m\u001b[0m\n\u001b[1;32m    764\u001b[0m     \u001b[0;32mdef\u001b[0m \u001b[0mget\u001b[0m\u001b[0;34m(\u001b[0m\u001b[0mself\u001b[0m\u001b[0;34m,\u001b[0m \u001b[0mtimeout\u001b[0m\u001b[0;34m=\u001b[0m\u001b[0;32mNone\u001b[0m\u001b[0;34m)\u001b[0m\u001b[0;34m:\u001b[0m\u001b[0;34m\u001b[0m\u001b[0;34m\u001b[0m\u001b[0m\n",
      "\u001b[0;32m~/anaconda3/lib/python3.8/threading.py\u001b[0m in \u001b[0;36mwait\u001b[0;34m(self, timeout)\u001b[0m\n\u001b[1;32m    556\u001b[0m             \u001b[0msignaled\u001b[0m \u001b[0;34m=\u001b[0m \u001b[0mself\u001b[0m\u001b[0;34m.\u001b[0m\u001b[0m_flag\u001b[0m\u001b[0;34m\u001b[0m\u001b[0;34m\u001b[0m\u001b[0m\n\u001b[1;32m    557\u001b[0m             \u001b[0;32mif\u001b[0m \u001b[0;32mnot\u001b[0m \u001b[0msignaled\u001b[0m\u001b[0;34m:\u001b[0m\u001b[0;34m\u001b[0m\u001b[0;34m\u001b[0m\u001b[0m\n\u001b[0;32m--> 558\u001b[0;31m                 \u001b[0msignaled\u001b[0m \u001b[0;34m=\u001b[0m \u001b[0mself\u001b[0m\u001b[0;34m.\u001b[0m\u001b[0m_cond\u001b[0m\u001b[0;34m.\u001b[0m\u001b[0mwait\u001b[0m\u001b[0;34m(\u001b[0m\u001b[0mtimeout\u001b[0m\u001b[0;34m)\u001b[0m\u001b[0;34m\u001b[0m\u001b[0;34m\u001b[0m\u001b[0m\n\u001b[0m\u001b[1;32m    559\u001b[0m             \u001b[0;32mreturn\u001b[0m \u001b[0msignaled\u001b[0m\u001b[0;34m\u001b[0m\u001b[0;34m\u001b[0m\u001b[0m\n\u001b[1;32m    560\u001b[0m \u001b[0;34m\u001b[0m\u001b[0m\n",
      "\u001b[0;32m~/anaconda3/lib/python3.8/threading.py\u001b[0m in \u001b[0;36mwait\u001b[0;34m(self, timeout)\u001b[0m\n\u001b[1;32m    300\u001b[0m         \u001b[0;32mtry\u001b[0m\u001b[0;34m:\u001b[0m    \u001b[0;31m# restore state no matter what (e.g., KeyboardInterrupt)\u001b[0m\u001b[0;34m\u001b[0m\u001b[0;34m\u001b[0m\u001b[0m\n\u001b[1;32m    301\u001b[0m             \u001b[0;32mif\u001b[0m \u001b[0mtimeout\u001b[0m \u001b[0;32mis\u001b[0m \u001b[0;32mNone\u001b[0m\u001b[0;34m:\u001b[0m\u001b[0;34m\u001b[0m\u001b[0;34m\u001b[0m\u001b[0m\n\u001b[0;32m--> 302\u001b[0;31m                 \u001b[0mwaiter\u001b[0m\u001b[0;34m.\u001b[0m\u001b[0macquire\u001b[0m\u001b[0;34m(\u001b[0m\u001b[0;34m)\u001b[0m\u001b[0;34m\u001b[0m\u001b[0;34m\u001b[0m\u001b[0m\n\u001b[0m\u001b[1;32m    303\u001b[0m                 \u001b[0mgotit\u001b[0m \u001b[0;34m=\u001b[0m \u001b[0;32mTrue\u001b[0m\u001b[0;34m\u001b[0m\u001b[0;34m\u001b[0m\u001b[0m\n\u001b[1;32m    304\u001b[0m             \u001b[0;32melse\u001b[0m\u001b[0;34m:\u001b[0m\u001b[0;34m\u001b[0m\u001b[0;34m\u001b[0m\u001b[0m\n",
      "\u001b[0;31mKeyboardInterrupt\u001b[0m: "
     ]
    },
    {
     "name": "stdout",
     "output_type": "stream",
     "text": [
      "[5000]\ttrain-rmse:0.14203\tvalid-rmse:0.44624\n",
      "Stopping. Best iteration:\n",
      "[4622]\ttrain-rmse:0.14697\tvalid-rmse:0.44584\n",
      "\n"
     ]
    },
    {
     "name": "stderr",
     "output_type": "stream",
     "text": [
      "[W 2020-09-25 03:12:42,077] Trial 2 failed because of the following error: TypeError('Expecting data to be a DMatrix object, got: ', <class 'numpy.ndarray'>)\n",
      "Traceback (most recent call last):\n",
      "  File \"/Users/jbeen/anaconda3/lib/python3.8/site-packages/optuna/study.py\", line 778, in _run_trial\n",
      "    result = func(trial)\n",
      "  File \"<timed exec>\", line 2, in <lambda>\n",
      "  File \"<ipython-input-18-c704345be25b>\", line 22, in objective_xgb\n",
      "    models, oof_pred, mape, SHAP = xgb_oof(X, y, params, '0925_optuna1', x_test=None, shap=False, scaling='MinMax', cv_splits=5, epoch=30000)\n",
      "  File \"<ipython-input-17-040f7394cfde>\", line 50, in xgb_oof\n",
      "    oof_pred[v] = model.predict(X_val)\n",
      "  File \"/Users/jbeen/anaconda3/lib/python3.8/site-packages/xgboost/core.py\", line 1360, in predict\n",
      "    raise TypeError('Expecting data to be a DMatrix object, got: ',\n",
      "TypeError: ('Expecting data to be a DMatrix object, got: ', <class 'numpy.ndarray'>)\n"
     ]
    },
    {
     "name": "stdout",
     "output_type": "stream",
     "text": [
      "[2500]\ttrain-rmse:0.23485\tvalid-rmse:0.41432\n",
      "[2500]\ttrain-rmse:0.08711\tvalid-rmse:0.40992\n"
     ]
    }
   ],
   "source": [
    "%%time\n",
    "xgb_study1 = optuna.create_study()\n",
    "xgb_study1.optimize(lambda x : objective_xgb(x, X, y2), timeout=1000, n_jobs=-1)\n",
    "print(xgb_study1.best_params, xgb_study1.best_value)"
   ]
  },
  {
   "cell_type": "code",
   "execution_count": null,
   "metadata": {},
   "outputs": [],
   "source": []
  }
 ],
 "metadata": {
  "kernelspec": {
   "display_name": "Python 3",
   "language": "python",
   "name": "python3"
  },
  "language_info": {
   "codemirror_mode": {
    "name": "ipython",
    "version": 3
   },
   "file_extension": ".py",
   "mimetype": "text/x-python",
   "name": "python",
   "nbconvert_exporter": "python",
   "pygments_lexer": "ipython3",
   "version": "3.8.3"
  }
 },
 "nbformat": 4,
 "nbformat_minor": 4
}
