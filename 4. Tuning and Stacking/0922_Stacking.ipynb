{
 "cells": [
  {
   "cell_type": "markdown",
   "metadata": {},
   "source": [
    "# Stacking \n",
    "* LR with K fold CV \n",
    "* 27.22\n",
    "\n",
    ".\n",
    "\n",
    "`stacking 방법`\n",
    "1. simple linear regression : 27.22\n",
    "2. RFE (feature selection) : 27.22\n",
    "3. lr without intercept : 27.64\n",
    "4. nnls : 27.23, (절편 X : 27.61) "
   ]
  },
  {
   "cell_type": "code",
   "execution_count": 14,
   "metadata": {},
   "outputs": [],
   "source": [
    "import os\n",
    "import sys\n",
    "import glob\n",
    "import joblib\n",
    "import pickle as pkl\n",
    "\n",
    "import warnings\n",
    "from sklearn.exceptions import DataConversionWarning\n",
    "warnings.filterwarnings(action='ignore')\n",
    "warnings.filterwarnings(action='ignore', category=DataConversionWarning)\n",
    "\n",
    "\n",
    "import pandas as pd \n",
    "import numpy as np\n",
    "\n",
    "\n",
    "from IPython.display import display\n",
    "pd.options.display.max_rows = 999\n",
    "pd.options.display.max_columns = 999\n",
    "pd.set_option('display.max_info_columns', 500)"
   ]
  },
  {
   "cell_type": "code",
   "execution_count": 2,
   "metadata": {},
   "outputs": [],
   "source": [
    "%matplotlib inline\n",
    "import matplotlib.pyplot as plt\n",
    "import seaborn as sns\n",
    "\n",
    "plt.style.use('seaborn')\n",
    "plt.rc('font', family='AppleGothic')\n",
    "plt.rc('axes', unicode_minus=False)"
   ]
  },
  {
   "cell_type": "code",
   "execution_count": 147,
   "metadata": {},
   "outputs": [],
   "source": [
    "pd.set_option('display.float_format', lambda x: '%.3f' % x)"
   ]
  },
  {
   "cell_type": "code",
   "execution_count": 174,
   "metadata": {},
   "outputs": [],
   "source": [
    "# MAPE \n",
    "def MAPE(y_true, y_pred): \n",
    "    y_true, y_pred = np.array(y_true), np.array(y_pred)\n",
    "    return np.mean(np.abs((y_true - y_pred) / y_true)) * 100"
   ]
  },
  {
   "cell_type": "markdown",
   "metadata": {},
   "source": [
    "# Data Prep"
   ]
  },
  {
   "cell_type": "markdown",
   "metadata": {},
   "source": [
    "### model pkl load"
   ]
  },
  {
   "cell_type": "code",
   "execution_count": 29,
   "metadata": {},
   "outputs": [
    {
     "name": "stdout",
     "output_type": "stream",
     "text": [
      "/Users/jbeen/workdir/bigcontest/branch/Shopping_GG/Stacking/FinalPred\n"
     ]
    }
   ],
   "source": [
    "cd FinalPred"
   ]
  },
  {
   "cell_type": "code",
   "execution_count": 30,
   "metadata": {},
   "outputs": [
    {
     "data": {
      "text/plain": [
       "['lgbm_pred0921-lgbm-bayes2.pickle',\n",
       " 'lgbm_pred0921-lgbm-optuna2.pickle',\n",
       " 'lgbm_pred0921-lgbm-bayes.pickle',\n",
       " 'lgbm_pred0921-lgbm-bayes3.pickle']"
      ]
     },
     "execution_count": 30,
     "metadata": {},
     "output_type": "execute_result"
    }
   ],
   "source": [
    "pkls = glob.glob('*.pickle')\n",
    "pkls"
   ]
  },
  {
   "cell_type": "code",
   "execution_count": 53,
   "metadata": {},
   "outputs": [],
   "source": [
    "final = dict()\n",
    "for p in pkls : \n",
    "    with open('{}'.format(p), 'rb') as f:\n",
    "        final[p.split(\".\")[0]] = pkl.load(f)"
   ]
  },
  {
   "cell_type": "code",
   "execution_count": 57,
   "metadata": {},
   "outputs": [
    {
     "data": {
      "text/plain": [
       "[array([    0,     2,    13, ..., 28273, 28282, 28290]),\n",
       " array([    1,     7,    15, ..., 28295, 28299, 28300]),\n",
       " array([    3,    10,    11, ..., 28287, 28289, 28297]),\n",
       " array([    4,    36,    43, ..., 28294, 28301, 28302]),\n",
       " array([    5,     6,     8, ..., 28293, 28296, 28298])]"
      ]
     },
     "execution_count": 57,
     "metadata": {},
     "output_type": "execute_result"
    }
   ],
   "source": [
    "# train index\n",
    "final['lgbm_pred0921-lgbm-bayes2']['val_idx']"
   ]
  },
  {
   "cell_type": "code",
   "execution_count": 58,
   "metadata": {},
   "outputs": [
    {
     "data": {
      "text/plain": [
       "[Int64Index([ 8734,  7885,  2413, 12475,  4571,  9835, 35907, 14833, 10316,\n",
       "             31140,\n",
       "             ...\n",
       "             25556, 30587,  6430, 11575, 33365, 14158, 28909, 34363, 26499,\n",
       "              4615],\n",
       "            dtype='int64', length=7076)]"
      ]
     },
     "execution_count": 58,
     "metadata": {},
     "output_type": "execute_result"
    }
   ],
   "source": [
    "# test index \n",
    "final['lgbm_pred0921-lgbm-bayes2']['test_idx']"
   ]
  },
  {
   "cell_type": "code",
   "execution_count": 203,
   "metadata": {},
   "outputs": [
    {
     "data": {
      "text/plain": [
       "[array([10557563.93721553, 18074929.25387817, 23836593.06907338, ...,\n",
       "        29718194.91621904, 20162063.64308697, 11676675.72850286])]"
      ]
     },
     "execution_count": 203,
     "metadata": {},
     "output_type": "execute_result"
    }
   ],
   "source": [
    "# test pred \n",
    "final['lgbm_pred0921-lgbm-bayes2']['final_pred']"
   ]
  },
  {
   "cell_type": "markdown",
   "metadata": {},
   "source": [
    "### data load"
   ]
  },
  {
   "cell_type": "code",
   "execution_count": 60,
   "metadata": {},
   "outputs": [],
   "source": [
    "data_v4 = joblib.load(os.path.join('..', '7th_train_FE.pkl'))\n",
    "locals().update(data_v4)"
   ]
  },
  {
   "cell_type": "code",
   "execution_count": 82,
   "metadata": {},
   "outputs": [
    {
     "data": {
      "text/plain": [
       "((35379, 402), (35379,))"
      ]
     },
     "execution_count": 82,
     "metadata": {},
     "output_type": "execute_result"
    }
   ],
   "source": [
    "X = data_v4['X'] ; y = data_v4['y']\n",
    "X.shape, y.shape"
   ]
  },
  {
   "cell_type": "code",
   "execution_count": 62,
   "metadata": {},
   "outputs": [],
   "source": [
    "y2 = np.log1p(y)"
   ]
  },
  {
   "cell_type": "markdown",
   "metadata": {},
   "source": [
    "## Meta Test "
   ]
  },
  {
   "cell_type": "code",
   "execution_count": 110,
   "metadata": {},
   "outputs": [],
   "source": [
    "X_test = X.loc[final['lgbm_pred0921-lgbm-bayes3']['test_idx'][0]]\n",
    "y_test = y.loc[final['lgbm_pred0921-lgbm-bayes3']['test_idx'][0]]"
   ]
  },
  {
   "cell_type": "code",
   "execution_count": 111,
   "metadata": {},
   "outputs": [
    {
     "data": {
      "text/plain": [
       "((7076, 402), (7076,))"
      ]
     },
     "execution_count": 111,
     "metadata": {},
     "output_type": "execute_result"
    }
   ],
   "source": [
    "X_test.shape, y_test.shape"
   ]
  },
  {
   "cell_type": "markdown",
   "metadata": {},
   "source": [
    "## Meta Train \n",
    "* K fold 하면서 reindex 가 되어 버려서 이렇게 나눠 줘야 함 ㅎㅎㅎ;;"
   ]
  },
  {
   "cell_type": "code",
   "execution_count": 124,
   "metadata": {},
   "outputs": [],
   "source": [
    "from sklearn.model_selection import train_test_split, cross_val_score, KFold"
   ]
  },
  {
   "cell_type": "code",
   "execution_count": 167,
   "metadata": {},
   "outputs": [],
   "source": [
    "X_train_, X_test_, y_train_, y_test_ = train_test_split(X, y, test_size=0.2, random_state=77)\n",
    "X_train, y_train = dict(), dict() \n",
    "\n",
    "cv = KFold(n_splits=5, random_state=77, shuffle=True)\n",
    "\n",
    "i = 0\n",
    "for t,v in cv.split(X_train_):\n",
    "    X_train['{}'.format(i+1)] = X_train_.iloc[v]\n",
    "    y_train['{}'.format(i+1)] = y_train_.iloc[v]\n",
    "    i+=1"
   ]
  },
  {
   "cell_type": "code",
   "execution_count": 168,
   "metadata": {},
   "outputs": [
    {
     "data": {
      "text/plain": [
       "{'1': 11068    5590000.000\n",
       " 33838   18118000.000\n",
       " 34271   36524000.000\n",
       " 14133   12638000.000\n",
       " 34735   16910000.000\n",
       "             ...     \n",
       " 31318   13337000.000\n",
       " 25841   79167000.000\n",
       " 20238   28330000.000\n",
       " 11231    5154000.000\n",
       " 24206   48288000.000\n",
       " Name: 취급액, Length: 5661, dtype: float64,\n",
       " '2': 35359    2345000.000\n",
       " 20394    7035000.000\n",
       " 34515    5496000.000\n",
       " 21664   27890000.000\n",
       " 23113    1651000.000\n",
       "             ...     \n",
       " 6146    18451000.000\n",
       " 28681   19073000.000\n",
       " 2993     6845000.000\n",
       " 27606    3942000.000\n",
       " 8270     7713000.000\n",
       " Name: 취급액, Length: 5661, dtype: float64,\n",
       " '3': 19383   32053000.000\n",
       " 3711    22954000.000\n",
       " 2268     6338000.000\n",
       " 553      6695000.000\n",
       " 28997    4239000.000\n",
       "             ...     \n",
       " 30514   24613000.000\n",
       " 23436    8125000.000\n",
       " 19752   14444000.000\n",
       " 1434    46194000.000\n",
       " 23378   24907000.000\n",
       " Name: 취급액, Length: 5661, dtype: float64,\n",
       " '4': 4264     4260000.000\n",
       " 30359   70536000.000\n",
       " 18055   35674000.000\n",
       " 5253     1522000.000\n",
       " 19305    3833000.000\n",
       "             ...     \n",
       " 33116   23413000.000\n",
       " 34828   45400000.000\n",
       " 3617    59413000.000\n",
       " 20148   35189000.000\n",
       " 9313    49361000.000\n",
       " Name: 취급액, Length: 5660, dtype: float64,\n",
       " '5': 18828   42015000.000\n",
       " 26222    1281000.000\n",
       " 38088   56338000.000\n",
       " 6198    31858000.000\n",
       " 36342   29329000.000\n",
       "             ...     \n",
       " 24726   60371000.000\n",
       " 17021    9275000.000\n",
       " 34064   51297000.000\n",
       " 29822    1850000.000\n",
       " 35665   65255000.000\n",
       " Name: 취급액, Length: 5660, dtype: float64}"
      ]
     },
     "execution_count": 168,
     "metadata": {},
     "output_type": "execute_result"
    }
   ],
   "source": [
    "y_train"
   ]
  },
  {
   "cell_type": "code",
   "execution_count": 169,
   "metadata": {},
   "outputs": [
    {
     "name": "stdout",
     "output_type": "stream",
     "text": [
      "5661\n",
      "5661\n",
      "5661\n",
      "5660\n",
      "5660\n"
     ]
    }
   ],
   "source": [
    "for i in range(5) : \n",
    "    print(len(final['lgbm_pred0921-lgbm-bayes2']['val_idx'][i])) # length 일치 ~!! "
   ]
  },
  {
   "cell_type": "markdown",
   "metadata": {},
   "source": [
    "## Final Stacking Dataset"
   ]
  },
  {
   "cell_type": "markdown",
   "metadata": {},
   "source": [
    "### train"
   ]
  },
  {
   "cell_type": "code",
   "execution_count": 170,
   "metadata": {},
   "outputs": [],
   "source": [
    "# train : y_true\n",
    "y_train1, y_train2, y_train3, y_train4, y_train5 = y_train['1'], y_train['2'], y_train['3'], y_train['4'], y_train['5']"
   ]
  },
  {
   "cell_type": "code",
   "execution_count": 195,
   "metadata": {},
   "outputs": [
    {
     "data": {
      "text/plain": [
       "((5661,), (5661,), (5661,), (5660,), (5660,))"
      ]
     },
     "execution_count": 195,
     "metadata": {},
     "output_type": "execute_result"
    }
   ],
   "source": [
    "y_train1.shape, y_train2.shape, y_train3.shape, y_train4.shape, y_train5.shape"
   ]
  },
  {
   "cell_type": "code",
   "execution_count": 208,
   "metadata": {},
   "outputs": [],
   "source": [
    "# train : y_pred\n",
    "x_train1, x_train2, x_train3, x_train4, x_train5 = [], [], [], [], []\n",
    "for model in list(final.keys()) : \n",
    "    x_train1.append(final[model]['val_pred'][0])\n",
    "    x_train2.append(final[model]['val_pred'][1])\n",
    "    x_train3.append(final[model]['val_pred'][2])\n",
    "    x_train4.append(final[model]['val_pred'][3])\n",
    "    x_train5.append(final[model]['val_pred'][4])"
   ]
  },
  {
   "cell_type": "code",
   "execution_count": 209,
   "metadata": {},
   "outputs": [],
   "source": [
    "X_train1 = pd.DataFrame(np.array(x_train1).T)\n",
    "X_train2 = pd.DataFrame(np.array(x_train2).T)\n",
    "X_train3 = pd.DataFrame(np.array(x_train3).T)\n",
    "X_train4 = pd.DataFrame(np.array(x_train4).T)\n",
    "X_train5 = pd.DataFrame(np.array(x_train5).T)"
   ]
  },
  {
   "cell_type": "code",
   "execution_count": 210,
   "metadata": {},
   "outputs": [
    {
     "data": {
      "text/plain": [
       "((5661, 4), (5661, 4), (5661, 4), (5660, 4), (5660, 4))"
      ]
     },
     "execution_count": 210,
     "metadata": {},
     "output_type": "execute_result"
    }
   ],
   "source": [
    "X_train1.shape, X_train2.shape, X_train3.shape, X_train4.shape, X_train5.shape"
   ]
  },
  {
   "cell_type": "code",
   "execution_count": 211,
   "metadata": {},
   "outputs": [
    {
     "data": {
      "text/html": [
       "<div>\n",
       "<style scoped>\n",
       "    .dataframe tbody tr th:only-of-type {\n",
       "        vertical-align: middle;\n",
       "    }\n",
       "\n",
       "    .dataframe tbody tr th {\n",
       "        vertical-align: top;\n",
       "    }\n",
       "\n",
       "    .dataframe thead th {\n",
       "        text-align: right;\n",
       "    }\n",
       "</style>\n",
       "<table border=\"1\" class=\"dataframe\">\n",
       "  <thead>\n",
       "    <tr style=\"text-align: right;\">\n",
       "      <th></th>\n",
       "      <th>0</th>\n",
       "      <th>1</th>\n",
       "      <th>2</th>\n",
       "      <th>3</th>\n",
       "    </tr>\n",
       "  </thead>\n",
       "  <tbody>\n",
       "    <tr>\n",
       "      <th>0</th>\n",
       "      <td>4823899.432</td>\n",
       "      <td>5351551.517</td>\n",
       "      <td>5009392.227</td>\n",
       "      <td>5371598.932</td>\n",
       "    </tr>\n",
       "    <tr>\n",
       "      <th>1</th>\n",
       "      <td>30710439.096</td>\n",
       "      <td>28684130.413</td>\n",
       "      <td>30201280.451</td>\n",
       "      <td>29496085.601</td>\n",
       "    </tr>\n",
       "    <tr>\n",
       "      <th>2</th>\n",
       "      <td>37052866.379</td>\n",
       "      <td>37636418.450</td>\n",
       "      <td>37347219.485</td>\n",
       "      <td>36089203.008</td>\n",
       "    </tr>\n",
       "    <tr>\n",
       "      <th>3</th>\n",
       "      <td>18142823.396</td>\n",
       "      <td>20864664.244</td>\n",
       "      <td>17666875.371</td>\n",
       "      <td>18779775.008</td>\n",
       "    </tr>\n",
       "    <tr>\n",
       "      <th>4</th>\n",
       "      <td>27179897.700</td>\n",
       "      <td>27788596.748</td>\n",
       "      <td>26988413.041</td>\n",
       "      <td>26630704.345</td>\n",
       "    </tr>\n",
       "    <tr>\n",
       "      <th>...</th>\n",
       "      <td>...</td>\n",
       "      <td>...</td>\n",
       "      <td>...</td>\n",
       "      <td>...</td>\n",
       "    </tr>\n",
       "    <tr>\n",
       "      <th>5656</th>\n",
       "      <td>12554725.674</td>\n",
       "      <td>12286967.730</td>\n",
       "      <td>11797670.484</td>\n",
       "      <td>12851236.801</td>\n",
       "    </tr>\n",
       "    <tr>\n",
       "      <th>5657</th>\n",
       "      <td>63719257.429</td>\n",
       "      <td>62255385.937</td>\n",
       "      <td>65273282.722</td>\n",
       "      <td>69049500.436</td>\n",
       "    </tr>\n",
       "    <tr>\n",
       "      <th>5658</th>\n",
       "      <td>12363481.319</td>\n",
       "      <td>12820084.773</td>\n",
       "      <td>12765532.361</td>\n",
       "      <td>12128576.670</td>\n",
       "    </tr>\n",
       "    <tr>\n",
       "      <th>5659</th>\n",
       "      <td>2603623.542</td>\n",
       "      <td>2600327.439</td>\n",
       "      <td>2665305.421</td>\n",
       "      <td>2634154.195</td>\n",
       "    </tr>\n",
       "    <tr>\n",
       "      <th>5660</th>\n",
       "      <td>43619905.930</td>\n",
       "      <td>47017778.217</td>\n",
       "      <td>45499047.769</td>\n",
       "      <td>46591951.902</td>\n",
       "    </tr>\n",
       "  </tbody>\n",
       "</table>\n",
       "<p>5661 rows × 4 columns</p>\n",
       "</div>"
      ],
      "text/plain": [
       "                0            1            2            3\n",
       "0     4823899.432  5351551.517  5009392.227  5371598.932\n",
       "1    30710439.096 28684130.413 30201280.451 29496085.601\n",
       "2    37052866.379 37636418.450 37347219.485 36089203.008\n",
       "3    18142823.396 20864664.244 17666875.371 18779775.008\n",
       "4    27179897.700 27788596.748 26988413.041 26630704.345\n",
       "...           ...          ...          ...          ...\n",
       "5656 12554725.674 12286967.730 11797670.484 12851236.801\n",
       "5657 63719257.429 62255385.937 65273282.722 69049500.436\n",
       "5658 12363481.319 12820084.773 12765532.361 12128576.670\n",
       "5659  2603623.542  2600327.439  2665305.421  2634154.195\n",
       "5660 43619905.930 47017778.217 45499047.769 46591951.902\n",
       "\n",
       "[5661 rows x 4 columns]"
      ]
     },
     "execution_count": 211,
     "metadata": {},
     "output_type": "execute_result"
    }
   ],
   "source": [
    "# train : y_pred (fold1)\n",
    "X_train1"
   ]
  },
  {
   "cell_type": "markdown",
   "metadata": {},
   "source": [
    "### test"
   ]
  },
  {
   "cell_type": "code",
   "execution_count": 231,
   "metadata": {},
   "outputs": [],
   "source": [
    "# test : y_true \n",
    "y_test = y_test"
   ]
  },
  {
   "cell_type": "code",
   "execution_count": 227,
   "metadata": {},
   "outputs": [],
   "source": [
    "# test : y_pred \n",
    "x_test = [] \n",
    "for model in list(final.keys()) : \n",
    "    x_test.append(final[model]['final_pred'][0])"
   ]
  },
  {
   "cell_type": "code",
   "execution_count": 229,
   "metadata": {},
   "outputs": [],
   "source": [
    "X_test = pd.DataFrame(np.array(x_test).T)"
   ]
  },
  {
   "cell_type": "code",
   "execution_count": 304,
   "metadata": {},
   "outputs": [
    {
     "data": {
      "text/html": [
       "<div>\n",
       "<style scoped>\n",
       "    .dataframe tbody tr th:only-of-type {\n",
       "        vertical-align: middle;\n",
       "    }\n",
       "\n",
       "    .dataframe tbody tr th {\n",
       "        vertical-align: top;\n",
       "    }\n",
       "\n",
       "    .dataframe thead th {\n",
       "        text-align: right;\n",
       "    }\n",
       "</style>\n",
       "<table border=\"1\" class=\"dataframe\">\n",
       "  <thead>\n",
       "    <tr style=\"text-align: right;\">\n",
       "      <th></th>\n",
       "      <th>lgbm_pred0921-lgbm-bayes2</th>\n",
       "      <th>lgbm_pred0921-lgbm-optuna2</th>\n",
       "      <th>lgbm_pred0921-lgbm-bayes</th>\n",
       "      <th>lgbm_pred0921-lgbm-bayes3</th>\n",
       "    </tr>\n",
       "  </thead>\n",
       "  <tbody>\n",
       "    <tr>\n",
       "      <th>0</th>\n",
       "      <td>10557563.937</td>\n",
       "      <td>10780855.756</td>\n",
       "      <td>10768459.884</td>\n",
       "      <td>10598563.187</td>\n",
       "    </tr>\n",
       "    <tr>\n",
       "      <th>1</th>\n",
       "      <td>18074929.254</td>\n",
       "      <td>17872822.527</td>\n",
       "      <td>18417007.456</td>\n",
       "      <td>18538841.152</td>\n",
       "    </tr>\n",
       "    <tr>\n",
       "      <th>2</th>\n",
       "      <td>23836593.069</td>\n",
       "      <td>23295534.990</td>\n",
       "      <td>23582263.379</td>\n",
       "      <td>24345702.827</td>\n",
       "    </tr>\n",
       "    <tr>\n",
       "      <th>3</th>\n",
       "      <td>11458951.682</td>\n",
       "      <td>11437477.754</td>\n",
       "      <td>11731664.566</td>\n",
       "      <td>11069759.611</td>\n",
       "    </tr>\n",
       "    <tr>\n",
       "      <th>4</th>\n",
       "      <td>9124130.938</td>\n",
       "      <td>8847853.113</td>\n",
       "      <td>9043249.828</td>\n",
       "      <td>9047417.803</td>\n",
       "    </tr>\n",
       "    <tr>\n",
       "      <th>...</th>\n",
       "      <td>...</td>\n",
       "      <td>...</td>\n",
       "      <td>...</td>\n",
       "      <td>...</td>\n",
       "    </tr>\n",
       "    <tr>\n",
       "      <th>7071</th>\n",
       "      <td>23753803.570</td>\n",
       "      <td>23677343.603</td>\n",
       "      <td>23275574.621</td>\n",
       "      <td>23660596.038</td>\n",
       "    </tr>\n",
       "    <tr>\n",
       "      <th>7072</th>\n",
       "      <td>12579173.142</td>\n",
       "      <td>13792612.985</td>\n",
       "      <td>12468375.973</td>\n",
       "      <td>13078761.764</td>\n",
       "    </tr>\n",
       "    <tr>\n",
       "      <th>7073</th>\n",
       "      <td>29718194.916</td>\n",
       "      <td>33301323.031</td>\n",
       "      <td>33360258.457</td>\n",
       "      <td>34070041.050</td>\n",
       "    </tr>\n",
       "    <tr>\n",
       "      <th>7074</th>\n",
       "      <td>20162063.643</td>\n",
       "      <td>19219763.220</td>\n",
       "      <td>20694847.424</td>\n",
       "      <td>20866811.980</td>\n",
       "    </tr>\n",
       "    <tr>\n",
       "      <th>7075</th>\n",
       "      <td>11676675.729</td>\n",
       "      <td>11606759.090</td>\n",
       "      <td>11421595.833</td>\n",
       "      <td>11262424.757</td>\n",
       "    </tr>\n",
       "  </tbody>\n",
       "</table>\n",
       "<p>7076 rows × 4 columns</p>\n",
       "</div>"
      ],
      "text/plain": [
       "      lgbm_pred0921-lgbm-bayes2  lgbm_pred0921-lgbm-optuna2  \\\n",
       "0                  10557563.937                10780855.756   \n",
       "1                  18074929.254                17872822.527   \n",
       "2                  23836593.069                23295534.990   \n",
       "3                  11458951.682                11437477.754   \n",
       "4                   9124130.938                 8847853.113   \n",
       "...                         ...                         ...   \n",
       "7071               23753803.570                23677343.603   \n",
       "7072               12579173.142                13792612.985   \n",
       "7073               29718194.916                33301323.031   \n",
       "7074               20162063.643                19219763.220   \n",
       "7075               11676675.729                11606759.090   \n",
       "\n",
       "      lgbm_pred0921-lgbm-bayes  lgbm_pred0921-lgbm-bayes3  \n",
       "0                 10768459.884               10598563.187  \n",
       "1                 18417007.456               18538841.152  \n",
       "2                 23582263.379               24345702.827  \n",
       "3                 11731664.566               11069759.611  \n",
       "4                  9043249.828                9047417.803  \n",
       "...                        ...                        ...  \n",
       "7071              23275574.621               23660596.038  \n",
       "7072              12468375.973               13078761.764  \n",
       "7073              33360258.457               34070041.050  \n",
       "7074              20694847.424               20866811.980  \n",
       "7075              11421595.833               11262424.757  \n",
       "\n",
       "[7076 rows x 4 columns]"
      ]
     },
     "execution_count": 304,
     "metadata": {},
     "output_type": "execute_result"
    }
   ],
   "source": [
    "X_test.columns = list(final.keys())\n",
    "X_test"
   ]
  },
  {
   "cell_type": "code",
   "execution_count": 232,
   "metadata": {},
   "outputs": [
    {
     "data": {
      "text/plain": [
       "((7076, 4), (7076,))"
      ]
     },
     "execution_count": 232,
     "metadata": {},
     "output_type": "execute_result"
    }
   ],
   "source": [
    "X_test.shape, y_test.shape"
   ]
  },
  {
   "cell_type": "markdown",
   "metadata": {},
   "source": [
    "## final_진짜진짜최종_(2) dataset"
   ]
  },
  {
   "cell_type": "code",
   "execution_count": 197,
   "metadata": {},
   "outputs": [],
   "source": [
    "# train for stacking \n",
    "st_x_train = pd.concat([X_train1, X_train2, X_train3, X_train4, X_train5], axis=0) # 예측값 \n",
    "st_y_train = pd.concat([y_train1, y_train2, y_train3, y_train4, y_train5], axis=0) # 실제값 "
   ]
  },
  {
   "cell_type": "code",
   "execution_count": 198,
   "metadata": {},
   "outputs": [
    {
     "data": {
      "text/plain": [
       "((28303, 4), (28303,))"
      ]
     },
     "execution_count": 198,
     "metadata": {},
     "output_type": "execute_result"
    }
   ],
   "source": [
    "st_x_train.shape, st_y_train.shape"
   ]
  },
  {
   "cell_type": "code",
   "execution_count": 233,
   "metadata": {},
   "outputs": [],
   "source": [
    "# test for stacking \n",
    "st_x_test = X_test # 예측값 \n",
    "st_y_test = y_test # 실제값 "
   ]
  },
  {
   "cell_type": "code",
   "execution_count": 234,
   "metadata": {},
   "outputs": [
    {
     "data": {
      "text/plain": [
       "((7076, 4), (7076,))"
      ]
     },
     "execution_count": 234,
     "metadata": {},
     "output_type": "execute_result"
    }
   ],
   "source": [
    "st_x_test.shape, st_y_test.shape"
   ]
  },
  {
   "cell_type": "markdown",
   "metadata": {},
   "source": [
    "# Stacking"
   ]
  },
  {
   "cell_type": "markdown",
   "metadata": {},
   "source": [
    "## 1. simple linear regression "
   ]
  },
  {
   "cell_type": "code",
   "execution_count": 59,
   "metadata": {},
   "outputs": [],
   "source": [
    "from sklearn.linear_model import LinearRegression"
   ]
  },
  {
   "cell_type": "code",
   "execution_count": 125,
   "metadata": {},
   "outputs": [],
   "source": [
    "lr = LinearRegression()"
   ]
  },
  {
   "cell_type": "code",
   "execution_count": 242,
   "metadata": {},
   "outputs": [
    {
     "data": {
      "text/plain": [
       "0.7973678875860092"
      ]
     },
     "execution_count": 242,
     "metadata": {},
     "output_type": "execute_result"
    }
   ],
   "source": [
    "lr.fit(st_x_train, st_y_train)\n",
    "train_pred = lr.predict(st_x_train)\n",
    "lr.score(st_x_train, st_y_train)"
   ]
  },
  {
   "cell_type": "code",
   "execution_count": 243,
   "metadata": {},
   "outputs": [
    {
     "name": "stdout",
     "output_type": "stream",
     "text": [
      "[-0.07257716  0.2057504   0.88124923  0.03113452]\n",
      "379431.5878611095\n"
     ]
    }
   ],
   "source": [
    "print(lr.coef_) # 추정된 회귀계수 (intercept제외)\n",
    "print(lr.intercept_) # intercept"
   ]
  },
  {
   "cell_type": "code",
   "execution_count": 241,
   "metadata": {},
   "outputs": [
    {
     "data": {
      "text/plain": [
       "0.8298675882771211"
      ]
     },
     "execution_count": 241,
     "metadata": {},
     "output_type": "execute_result"
    }
   ],
   "source": [
    "lr.score(st_x_test, st_y_test)"
   ]
  },
  {
   "cell_type": "markdown",
   "metadata": {},
   "source": [
    "### 최종 예측값의 MAPE ~!"
   ]
  },
  {
   "cell_type": "code",
   "execution_count": 262,
   "metadata": {},
   "outputs": [
    {
     "data": {
      "text/plain": [
       "27.229899476477197"
      ]
     },
     "execution_count": 262,
     "metadata": {},
     "output_type": "execute_result"
    }
   ],
   "source": [
    "MAPE(lr.predict(st_x_test), st_y_test)"
   ]
  },
  {
   "cell_type": "code",
   "execution_count": 263,
   "metadata": {},
   "outputs": [
    {
     "data": {
      "text/plain": [
       "array([11651037.02986664, 19552116.34059604, 24982348.00811927, ...,\n",
       "       35533786.10271454, 21757596.59681977, 12335989.57046827])"
      ]
     },
     "execution_count": 263,
     "metadata": {},
     "output_type": "execute_result"
    }
   ],
   "source": [
    "lr.predict(st_x_test) # 최종 예측값 "
   ]
  },
  {
   "cell_type": "markdown",
   "metadata": {},
   "source": [
    "## 2. feature selection : 유의미한 모델만 결과에 넣기!\n",
    "* from 캐글.. : https://www.kaggle.com/jnikhilsai/cross-validation-with-linear-regression\n",
    "* RFE : Backward 방식중 하나로, 모든 변수를 우선 다 포함시킨 후 반복해서 학습을 진행하면서 중요도가 낮은 변수를 하나씩 제거하는 방식"
   ]
  },
  {
   "cell_type": "code",
   "execution_count": 256,
   "metadata": {},
   "outputs": [],
   "source": [
    "from sklearn.feature_selection import RFE\n",
    "from sklearn.model_selection import GridSearchCV\n",
    "from sklearn.metrics import r2_score"
   ]
  },
  {
   "cell_type": "code",
   "execution_count": 249,
   "metadata": {},
   "outputs": [
    {
     "name": "stdout",
     "output_type": "stream",
     "text": [
      "Fitting 5 folds for each of 4 candidates, totalling 20 fits\n"
     ]
    },
    {
     "name": "stderr",
     "output_type": "stream",
     "text": [
      "[Parallel(n_jobs=1)]: Using backend SequentialBackend with 1 concurrent workers.\n",
      "[Parallel(n_jobs=1)]: Done  20 out of  20 | elapsed:    0.2s finished\n"
     ]
    },
    {
     "data": {
      "text/plain": [
       "GridSearchCV(cv=KFold(n_splits=5, random_state=77, shuffle=True),\n",
       "             estimator=RFE(estimator=LinearRegression()),\n",
       "             param_grid=[{'n_features_to_select': [1, 2, 3, 4]}],\n",
       "             return_train_score=True, scoring='r2', verbose=1)"
      ]
     },
     "execution_count": 249,
     "metadata": {},
     "output_type": "execute_result"
    }
   ],
   "source": [
    "# step-1: create a cross-validation scheme\n",
    "folds = KFold(n_splits = 5, shuffle = True, random_state = 77)\n",
    "\n",
    "# step-2: specify range of hyperparameters to tune\n",
    "hyper_params = [{'n_features_to_select': list(range(1, 5))}]\n",
    "\n",
    "\n",
    "# step-3: perform grid search\n",
    "# 3.1 specify model\n",
    "lm = LinearRegression()\n",
    "lm.fit(st_x_train, st_y_train)\n",
    "rfe = RFE(lm)             \n",
    "\n",
    "# 3.2 call GridSearchCV()\n",
    "model_cv = GridSearchCV(estimator = rfe, \n",
    "                        param_grid = hyper_params, \n",
    "                        scoring= 'r2', \n",
    "                        cv = folds, \n",
    "                        verbose = 1,\n",
    "                        return_train_score=True)      \n",
    "\n",
    "# fit the model\n",
    "model_cv.fit(st_x_train, st_y_train)   "
   ]
  },
  {
   "cell_type": "code",
   "execution_count": 250,
   "metadata": {},
   "outputs": [
    {
     "data": {
      "text/html": [
       "<div>\n",
       "<style scoped>\n",
       "    .dataframe tbody tr th:only-of-type {\n",
       "        vertical-align: middle;\n",
       "    }\n",
       "\n",
       "    .dataframe tbody tr th {\n",
       "        vertical-align: top;\n",
       "    }\n",
       "\n",
       "    .dataframe thead th {\n",
       "        text-align: right;\n",
       "    }\n",
       "</style>\n",
       "<table border=\"1\" class=\"dataframe\">\n",
       "  <thead>\n",
       "    <tr style=\"text-align: right;\">\n",
       "      <th></th>\n",
       "      <th>mean_fit_time</th>\n",
       "      <th>std_fit_time</th>\n",
       "      <th>mean_score_time</th>\n",
       "      <th>std_score_time</th>\n",
       "      <th>param_n_features_to_select</th>\n",
       "      <th>params</th>\n",
       "      <th>split0_test_score</th>\n",
       "      <th>split1_test_score</th>\n",
       "      <th>split2_test_score</th>\n",
       "      <th>split3_test_score</th>\n",
       "      <th>split4_test_score</th>\n",
       "      <th>mean_test_score</th>\n",
       "      <th>std_test_score</th>\n",
       "      <th>rank_test_score</th>\n",
       "      <th>split0_train_score</th>\n",
       "      <th>split1_train_score</th>\n",
       "      <th>split2_train_score</th>\n",
       "      <th>split3_train_score</th>\n",
       "      <th>split4_train_score</th>\n",
       "      <th>mean_train_score</th>\n",
       "      <th>std_train_score</th>\n",
       "    </tr>\n",
       "  </thead>\n",
       "  <tbody>\n",
       "    <tr>\n",
       "      <th>0</th>\n",
       "      <td>0.011</td>\n",
       "      <td>0.002</td>\n",
       "      <td>0.003</td>\n",
       "      <td>0.001</td>\n",
       "      <td>1</td>\n",
       "      <td>{'n_features_to_select': 1}</td>\n",
       "      <td>0.812</td>\n",
       "      <td>0.779</td>\n",
       "      <td>0.798</td>\n",
       "      <td>0.785</td>\n",
       "      <td>0.811</td>\n",
       "      <td>0.797</td>\n",
       "      <td>0.013</td>\n",
       "      <td>4</td>\n",
       "      <td>0.793</td>\n",
       "      <td>0.802</td>\n",
       "      <td>0.797</td>\n",
       "      <td>0.800</td>\n",
       "      <td>0.794</td>\n",
       "      <td>0.797</td>\n",
       "      <td>0.003</td>\n",
       "    </tr>\n",
       "    <tr>\n",
       "      <th>1</th>\n",
       "      <td>0.006</td>\n",
       "      <td>0.000</td>\n",
       "      <td>0.002</td>\n",
       "      <td>0.000</td>\n",
       "      <td>2</td>\n",
       "      <td>{'n_features_to_select': 2}</td>\n",
       "      <td>0.813</td>\n",
       "      <td>0.779</td>\n",
       "      <td>0.798</td>\n",
       "      <td>0.785</td>\n",
       "      <td>0.811</td>\n",
       "      <td>0.797</td>\n",
       "      <td>0.014</td>\n",
       "      <td>1</td>\n",
       "      <td>0.793</td>\n",
       "      <td>0.802</td>\n",
       "      <td>0.797</td>\n",
       "      <td>0.800</td>\n",
       "      <td>0.794</td>\n",
       "      <td>0.797</td>\n",
       "      <td>0.003</td>\n",
       "    </tr>\n",
       "    <tr>\n",
       "      <th>2</th>\n",
       "      <td>0.006</td>\n",
       "      <td>0.001</td>\n",
       "      <td>0.002</td>\n",
       "      <td>0.000</td>\n",
       "      <td>3</td>\n",
       "      <td>{'n_features_to_select': 3}</td>\n",
       "      <td>0.813</td>\n",
       "      <td>0.779</td>\n",
       "      <td>0.798</td>\n",
       "      <td>0.785</td>\n",
       "      <td>0.811</td>\n",
       "      <td>0.797</td>\n",
       "      <td>0.014</td>\n",
       "      <td>2</td>\n",
       "      <td>0.793</td>\n",
       "      <td>0.802</td>\n",
       "      <td>0.797</td>\n",
       "      <td>0.800</td>\n",
       "      <td>0.794</td>\n",
       "      <td>0.797</td>\n",
       "      <td>0.003</td>\n",
       "    </tr>\n",
       "    <tr>\n",
       "      <th>3</th>\n",
       "      <td>0.004</td>\n",
       "      <td>0.000</td>\n",
       "      <td>0.002</td>\n",
       "      <td>0.000</td>\n",
       "      <td>4</td>\n",
       "      <td>{'n_features_to_select': 4}</td>\n",
       "      <td>0.813</td>\n",
       "      <td>0.779</td>\n",
       "      <td>0.798</td>\n",
       "      <td>0.785</td>\n",
       "      <td>0.811</td>\n",
       "      <td>0.797</td>\n",
       "      <td>0.014</td>\n",
       "      <td>3</td>\n",
       "      <td>0.793</td>\n",
       "      <td>0.802</td>\n",
       "      <td>0.797</td>\n",
       "      <td>0.800</td>\n",
       "      <td>0.794</td>\n",
       "      <td>0.797</td>\n",
       "      <td>0.003</td>\n",
       "    </tr>\n",
       "  </tbody>\n",
       "</table>\n",
       "</div>"
      ],
      "text/plain": [
       "   mean_fit_time  std_fit_time  mean_score_time  std_score_time  \\\n",
       "0          0.011         0.002            0.003           0.001   \n",
       "1          0.006         0.000            0.002           0.000   \n",
       "2          0.006         0.001            0.002           0.000   \n",
       "3          0.004         0.000            0.002           0.000   \n",
       "\n",
       "  param_n_features_to_select                       params  split0_test_score  \\\n",
       "0                          1  {'n_features_to_select': 1}              0.812   \n",
       "1                          2  {'n_features_to_select': 2}              0.813   \n",
       "2                          3  {'n_features_to_select': 3}              0.813   \n",
       "3                          4  {'n_features_to_select': 4}              0.813   \n",
       "\n",
       "   split1_test_score  split2_test_score  split3_test_score  split4_test_score  \\\n",
       "0              0.779              0.798              0.785              0.811   \n",
       "1              0.779              0.798              0.785              0.811   \n",
       "2              0.779              0.798              0.785              0.811   \n",
       "3              0.779              0.798              0.785              0.811   \n",
       "\n",
       "   mean_test_score  std_test_score  rank_test_score  split0_train_score  \\\n",
       "0            0.797           0.013                4               0.793   \n",
       "1            0.797           0.014                1               0.793   \n",
       "2            0.797           0.014                2               0.793   \n",
       "3            0.797           0.014                3               0.793   \n",
       "\n",
       "   split1_train_score  split2_train_score  split3_train_score  \\\n",
       "0               0.802               0.797               0.800   \n",
       "1               0.802               0.797               0.800   \n",
       "2               0.802               0.797               0.800   \n",
       "3               0.802               0.797               0.800   \n",
       "\n",
       "   split4_train_score  mean_train_score  std_train_score  \n",
       "0               0.794             0.797            0.003  \n",
       "1               0.794             0.797            0.003  \n",
       "2               0.794             0.797            0.003  \n",
       "3               0.794             0.797            0.003  "
      ]
     },
     "execution_count": 250,
     "metadata": {},
     "output_type": "execute_result"
    }
   ],
   "source": [
    "# cv results\n",
    "cv_results = pd.DataFrame(model_cv.cv_results_)\n",
    "cv_results"
   ]
  },
  {
   "cell_type": "code",
   "execution_count": 251,
   "metadata": {},
   "outputs": [
    {
     "data": {
      "text/plain": [
       "<matplotlib.legend.Legend at 0x7fec0d580370>"
      ]
     },
     "execution_count": 251,
     "metadata": {},
     "output_type": "execute_result"
    },
    {
     "data": {
      "image/png": "[encoded data removed]",
      "text/plain": [
       "<Figure size 1152x432 with 1 Axes>"
      ]
     },
     "metadata": {},
     "output_type": "display_data"
    }
   ],
   "source": [
    "# plotting cv results\n",
    "plt.figure(figsize=(16,6))\n",
    "\n",
    "plt.plot(cv_results[\"param_n_features_to_select\"], cv_results[\"mean_test_score\"])\n",
    "plt.plot(cv_results[\"param_n_features_to_select\"], cv_results[\"mean_train_score\"])\n",
    "plt.xlabel('number of features')\n",
    "plt.ylabel('r-squared')\n",
    "plt.title(\"Optimal Number of Features\")\n",
    "plt.legend(['test score', 'train score'], loc='upper left')"
   ]
  },
  {
   "cell_type": "code",
   "execution_count": 276,
   "metadata": {},
   "outputs": [
    {
     "name": "stdout",
     "output_type": "stream",
     "text": [
      "0.8298675882771211\n"
     ]
    }
   ],
   "source": [
    "# final model\n",
    "n_features_optimal = 2\n",
    "\n",
    "lm = LinearRegression()\n",
    "lm.fit(st_x_train, st_y_train)\n",
    "\n",
    "rfe = RFE(lm, n_features_to_select=n_features_optimal)             \n",
    "rfe = rfe.fit(st_x_train, st_y_train)\n",
    "\n",
    "# predict prices of X_test\n",
    "y_pred = lm.predict(st_x_test)\n",
    "r2 = r2_score(st_y_test, y_pred)\n",
    "print(r2)"
   ]
  },
  {
   "cell_type": "code",
   "execution_count": 280,
   "metadata": {},
   "outputs": [
    {
     "data": {
      "text/plain": [
       "array([False,  True,  True, False])"
      ]
     },
     "execution_count": 280,
     "metadata": {},
     "output_type": "execute_result"
    }
   ],
   "source": [
    "rfe.support_ # 'lgbm_pred0921-lgbm-optuna2.pickle', 'lgbm_pred0921-lgbm-bayes.pickle' 이거 두개 피쳐 썼다 "
   ]
  },
  {
   "cell_type": "code",
   "execution_count": 286,
   "metadata": {},
   "outputs": [
    {
     "name": "stdout",
     "output_type": "stream",
     "text": [
      "[0.19340647 0.85209244]\n"
     ]
    }
   ],
   "source": [
    "print(rfe.estimator_.coef_)"
   ]
  },
  {
   "cell_type": "code",
   "execution_count": 284,
   "metadata": {},
   "outputs": [
    {
     "data": {
      "text/plain": [
       "380330.25944846496"
      ]
     },
     "execution_count": 284,
     "metadata": {},
     "output_type": "execute_result"
    }
   ],
   "source": [
    "rfe.estimator_.intercept_"
   ]
  },
  {
   "cell_type": "markdown",
   "metadata": {},
   "source": [
    "### 최종 MAPE값~!! "
   ]
  },
  {
   "cell_type": "code",
   "execution_count": 259,
   "metadata": {},
   "outputs": [
    {
     "data": {
      "text/plain": [
       "27.229899476477197"
      ]
     },
     "execution_count": 259,
     "metadata": {},
     "output_type": "execute_result"
    }
   ],
   "source": [
    "MAPE(y_pred, y_test)"
   ]
  },
  {
   "cell_type": "markdown",
   "metadata": {},
   "source": [
    "## 3. 절편 없는 linear regression "
   ]
  },
  {
   "cell_type": "code",
   "execution_count": 264,
   "metadata": {},
   "outputs": [],
   "source": [
    "lr2 = LinearRegression(fit_intercept=False)"
   ]
  },
  {
   "cell_type": "code",
   "execution_count": 267,
   "metadata": {},
   "outputs": [
    {
     "data": {
      "text/plain": [
       "0.7972300191030821"
      ]
     },
     "execution_count": 267,
     "metadata": {},
     "output_type": "execute_result"
    }
   ],
   "source": [
    "lr2.fit(st_x_train, st_y_train)\n",
    "train_pred = lr2.predict(st_x_train)\n",
    "lr2.score(st_x_train, st_y_train)"
   ]
  },
  {
   "cell_type": "code",
   "execution_count": 268,
   "metadata": {},
   "outputs": [
    {
     "name": "stdout",
     "output_type": "stream",
     "text": [
      "[-0.07413385  0.20208985  0.88613801  0.04232593]\n",
      "0.0\n"
     ]
    }
   ],
   "source": [
    "print(lr2.coef_) # 추정된 회귀계수 (intercept제외)\n",
    "print(lr2.intercept_) # intercept"
   ]
  },
  {
   "cell_type": "code",
   "execution_count": 269,
   "metadata": {},
   "outputs": [
    {
     "data": {
      "text/plain": [
       "0.8302997275858052"
      ]
     },
     "execution_count": 269,
     "metadata": {},
     "output_type": "execute_result"
    }
   ],
   "source": [
    "lr2.score(st_x_test, st_y_test)"
   ]
  },
  {
   "cell_type": "markdown",
   "metadata": {},
   "source": [
    "### 최종 MAPE"
   ]
  },
  {
   "cell_type": "code",
   "execution_count": 270,
   "metadata": {},
   "outputs": [
    {
     "data": {
      "text/plain": [
       "27.64813210388767"
      ]
     },
     "execution_count": 270,
     "metadata": {},
     "output_type": "execute_result"
    }
   ],
   "source": [
    "MAPE(lr2.predict(st_x_test), st_y_test)"
   ]
  },
  {
   "cell_type": "code",
   "execution_count": 271,
   "metadata": {},
   "outputs": [
    {
     "data": {
      "text/plain": [
       "array([11386964.30354303, 19376635.93532943, 24868287.1799361 , ...,\n",
       "       35530574.34977954, 21611125.77318262, 12077774.06474131])"
      ]
     },
     "execution_count": 271,
     "metadata": {},
     "output_type": "execute_result"
    }
   ],
   "source": [
    "lr2.predict(st_x_test)"
   ]
  },
  {
   "cell_type": "markdown",
   "metadata": {},
   "source": [
    "## 4. nnls \n",
    "* non-negative least square \n",
    "* 민정 앙상블 과제처럼, 모든 계수의 합이 positive가 되게끔 하는 방법 \n",
    "\n",
    "\n",
    "* 공식 sklearn 패키지는 없고, 사용하려면 scipy.optimize.nnls 사용해야 하는데, 사용법이 굉장히 복잡해 보임.. \n",
    "* 따라서 이와 식이 상당히 유사한 `Lasso Regression(alpha=0, positive=True)` 를 써 보겠음! "
   ]
  },
  {
   "cell_type": "code",
   "execution_count": 289,
   "metadata": {},
   "outputs": [],
   "source": [
    "from sklearn.linear_model import Lasso"
   ]
  },
  {
   "cell_type": "code",
   "execution_count": 290,
   "metadata": {},
   "outputs": [],
   "source": [
    "reg_nnls = Lasso(alpha=0, positive=True)"
   ]
  },
  {
   "cell_type": "code",
   "execution_count": 291,
   "metadata": {},
   "outputs": [
    {
     "data": {
      "text/plain": [
       "0.7973562783988606"
      ]
     },
     "execution_count": 291,
     "metadata": {},
     "output_type": "execute_result"
    }
   ],
   "source": [
    "reg_nnls.fit(st_x_train, st_y_train)\n",
    "train_pred = reg_nnls.predict(st_x_train)\n",
    "reg_nnls.score(st_x_train, st_y_train)"
   ]
  },
  {
   "cell_type": "code",
   "execution_count": 294,
   "metadata": {},
   "outputs": [
    {
     "name": "stdout",
     "output_type": "stream",
     "text": [
      "[0.         0.20263435 0.84282134 0.        ] 380487.9724007845\n"
     ]
    }
   ],
   "source": [
    "print(reg_nnls.coef_, reg_nnls.intercept_)"
   ]
  },
  {
   "cell_type": "code",
   "execution_count": 295,
   "metadata": {},
   "outputs": [
    {
     "data": {
      "text/plain": [
       "0.8298060404393788"
      ]
     },
     "execution_count": 295,
     "metadata": {},
     "output_type": "execute_result"
    }
   ],
   "source": [
    "reg_nnls.score(st_x_test, st_y_test)"
   ]
  },
  {
   "cell_type": "markdown",
   "metadata": {},
   "source": [
    "### 최종 MAPE"
   ]
  },
  {
   "cell_type": "code",
   "execution_count": 297,
   "metadata": {},
   "outputs": [
    {
     "data": {
      "text/plain": [
       "27.23067808971849"
      ]
     },
     "execution_count": 297,
     "metadata": {},
     "output_type": "execute_result"
    }
   ],
   "source": [
    "MAPE(reg_nnls.predict(st_x_test), st_y_test)"
   ]
  },
  {
   "cell_type": "markdown",
   "metadata": {},
   "source": [
    "### without intercept"
   ]
  },
  {
   "cell_type": "code",
   "execution_count": 298,
   "metadata": {},
   "outputs": [],
   "source": [
    "reg_nnls2 = Lasso(alpha=0, positive=True, fit_intercept=False)"
   ]
  },
  {
   "cell_type": "code",
   "execution_count": 299,
   "metadata": {},
   "outputs": [
    {
     "data": {
      "text/plain": [
       "0.797008582634255"
      ]
     },
     "execution_count": 299,
     "metadata": {},
     "output_type": "execute_result"
    }
   ],
   "source": [
    "reg_nnls2.fit(st_x_train, st_y_train)\n",
    "train_pred = reg_nnls2.predict(st_x_train)\n",
    "reg_nnls2.score(st_x_train, st_y_train)"
   ]
  },
  {
   "cell_type": "code",
   "execution_count": 300,
   "metadata": {},
   "outputs": [
    {
     "name": "stdout",
     "output_type": "stream",
     "text": [
      "[0.15235208 0.27626181 0.62727962 0.        ] 0.0\n"
     ]
    }
   ],
   "source": [
    "print(reg_nnls2.coef_, reg_nnls2.intercept_)"
   ]
  },
  {
   "cell_type": "code",
   "execution_count": 302,
   "metadata": {},
   "outputs": [
    {
     "data": {
      "text/plain": [
       "0.8298397493065919"
      ]
     },
     "execution_count": 302,
     "metadata": {},
     "output_type": "execute_result"
    }
   ],
   "source": [
    "reg_nnls2.score(st_x_test, st_y_test)"
   ]
  },
  {
   "cell_type": "markdown",
   "metadata": {},
   "source": [
    "### 최종 MAPE"
   ]
  },
  {
   "cell_type": "code",
   "execution_count": 303,
   "metadata": {},
   "outputs": [
    {
     "data": {
      "text/plain": [
       "27.671995790122818"
      ]
     },
     "execution_count": 303,
     "metadata": {},
     "output_type": "execute_result"
    }
   ],
   "source": [
    "MAPE(reg_nnls2.predict(st_x_test), st_y_test)"
   ]
  }
 ],
 "metadata": {
  "kernelspec": {
   "display_name": "Python 3",
   "language": "python",
   "name": "python3"
  },
  "language_info": {
   "codemirror_mode": {
    "name": "ipython",
    "version": 3
   },
   "file_extension": ".py",
   "mimetype": "text/x-python",
   "name": "python",
   "nbconvert_exporter": "python",
   "pygments_lexer": "ipython3",
   "version": "3.8.3"
  }
 },
 "nbformat": 4,
 "nbformat_minor": 4
}
