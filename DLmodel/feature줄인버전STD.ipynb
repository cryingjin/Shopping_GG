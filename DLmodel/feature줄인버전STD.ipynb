{
 "cells": [
  {
   "cell_type": "code",
   "execution_count": 1,
   "metadata": {
    "colab": {},
    "colab_type": "code",
    "executionInfo": {
     "elapsed": 924,
     "status": "ok",
     "timestamp": 1599982613887,
     "user": {
      "displayName": "shin minjung",
      "photoUrl": "",
      "userId": "09743716370324277104"
     },
     "user_tz": -540
    },
    "id": "_HNtAJOnCYaX"
   },
   "outputs": [],
   "source": [
    "import tensorflow as tf"
   ]
  },
  {
   "cell_type": "code",
   "execution_count": 2,
   "metadata": {
    "colab": {},
    "colab_type": "code",
    "executionInfo": {
     "elapsed": 1553,
     "status": "ok",
     "timestamp": 1599982615189,
     "user": {
      "displayName": "shin minjung",
      "photoUrl": "",
      "userId": "09743716370324277104"
     },
     "user_tz": -540
    },
    "id": "W_NDYqsBwKai"
   },
   "outputs": [],
   "source": [
    "import pandas as pd\n",
    "import numpy as np"
   ]
  },
  {
   "cell_type": "markdown",
   "metadata": {
    "colab_type": "text",
    "id": "m3_f-xCHwNCD"
   },
   "source": [
    "## Data load"
   ]
  },
  {
   "cell_type": "code",
   "execution_count": 3,
   "metadata": {
    "colab": {},
    "colab_type": "code",
    "executionInfo": {
     "elapsed": 1241,
     "status": "ok",
     "timestamp": 1599982615190,
     "user": {
      "displayName": "shin minjung",
      "photoUrl": "",
      "userId": "09743716370324277104"
     },
     "user_tz": -540
    },
    "id": "90j6-1GpuNr_"
   },
   "outputs": [],
   "source": [
    "import joblib\n",
    "data = joblib.load('./5th_FE_ver4.pkl')"
   ]
  },
  {
   "cell_type": "code",
   "execution_count": 4,
   "metadata": {
    "colab": {},
    "colab_type": "code",
    "executionInfo": {
     "elapsed": 1430,
     "status": "ok",
     "timestamp": 1599982615573,
     "user": {
      "displayName": "shin minjung",
      "photoUrl": "",
      "userId": "09743716370324277104"
     },
     "user_tz": -540
    },
    "id": "j_9H_Hvsudap"
   },
   "outputs": [],
   "source": [
    "locals().update(data)"
   ]
  },
  {
   "cell_type": "code",
   "execution_count": 5,
   "metadata": {
    "colab": {},
    "colab_type": "code",
    "executionInfo": {
     "elapsed": 1169,
     "status": "ok",
     "timestamp": 1599982615575,
     "user": {
      "displayName": "shin minjung",
      "photoUrl": "",
      "userId": "09743716370324277104"
     },
     "user_tz": -540
    },
    "id": "_OrlKfnaue6_"
   },
   "outputs": [],
   "source": [
    "X = data['X']\n",
    "y =data['y']"
   ]
  },
  {
   "cell_type": "code",
   "execution_count": 6,
   "metadata": {
    "colab": {
     "base_uri": "https://localhost:8080/",
     "height": 395
    },
    "colab_type": "code",
    "executionInfo": {
     "elapsed": 1070,
     "status": "ok",
     "timestamp": 1599982615576,
     "user": {
      "displayName": "shin minjung",
      "photoUrl": "",
      "userId": "09743716370324277104"
     },
     "user_tz": -540
    },
    "id": "TDibtKW_vaBu",
    "outputId": "7924e6ae-e327-4567-ca65-24a6f205477c"
   },
   "outputs": [
    {
     "data": {
      "text/html": [
       "<div>\n",
       "<style scoped>\n",
       "    .dataframe tbody tr th:only-of-type {\n",
       "        vertical-align: middle;\n",
       "    }\n",
       "\n",
       "    .dataframe tbody tr th {\n",
       "        vertical-align: top;\n",
       "    }\n",
       "\n",
       "    .dataframe thead th {\n",
       "        text-align: right;\n",
       "    }\n",
       "</style>\n",
       "<table border=\"1\" class=\"dataframe\">\n",
       "  <thead>\n",
       "    <tr style=\"text-align: right;\">\n",
       "      <th></th>\n",
       "      <th>노출(분)</th>\n",
       "      <th>판매단가</th>\n",
       "      <th>방송시간차</th>\n",
       "      <th>상품방송횟수</th>\n",
       "      <th>브랜드방송횟수</th>\n",
       "      <th>조기매진</th>\n",
       "      <th>isHoliday</th>\n",
       "      <th>방송월</th>\n",
       "      <th>방송일</th>\n",
       "      <th>평일여부</th>\n",
       "      <th>...</th>\n",
       "      <th>성별_0</th>\n",
       "      <th>성별_1</th>\n",
       "      <th>성별_2</th>\n",
       "      <th>상품군_가격대_0.0</th>\n",
       "      <th>상품군_가격대_1.0</th>\n",
       "      <th>상품군_가격대_2.0</th>\n",
       "      <th>전체_가격대_고가</th>\n",
       "      <th>전체_가격대_저가</th>\n",
       "      <th>전체_가격대_중저가</th>\n",
       "      <th>전체_가격대_초고가</th>\n",
       "    </tr>\n",
       "  </thead>\n",
       "  <tbody>\n",
       "    <tr>\n",
       "      <td>0</td>\n",
       "      <td>20.0</td>\n",
       "      <td>39900</td>\n",
       "      <td>0.0</td>\n",
       "      <td>2.0</td>\n",
       "      <td>21.0</td>\n",
       "      <td>0</td>\n",
       "      <td>1</td>\n",
       "      <td>1</td>\n",
       "      <td>1</td>\n",
       "      <td>0</td>\n",
       "      <td>...</td>\n",
       "      <td>0</td>\n",
       "      <td>1</td>\n",
       "      <td>0</td>\n",
       "      <td>1</td>\n",
       "      <td>0</td>\n",
       "      <td>0</td>\n",
       "      <td>0</td>\n",
       "      <td>1</td>\n",
       "      <td>0</td>\n",
       "      <td>0</td>\n",
       "    </tr>\n",
       "    <tr>\n",
       "      <td>1</td>\n",
       "      <td>20.0</td>\n",
       "      <td>39900</td>\n",
       "      <td>0.0</td>\n",
       "      <td>2.0</td>\n",
       "      <td>21.0</td>\n",
       "      <td>0</td>\n",
       "      <td>1</td>\n",
       "      <td>1</td>\n",
       "      <td>1</td>\n",
       "      <td>0</td>\n",
       "      <td>...</td>\n",
       "      <td>0</td>\n",
       "      <td>0</td>\n",
       "      <td>1</td>\n",
       "      <td>1</td>\n",
       "      <td>0</td>\n",
       "      <td>0</td>\n",
       "      <td>0</td>\n",
       "      <td>1</td>\n",
       "      <td>0</td>\n",
       "      <td>0</td>\n",
       "    </tr>\n",
       "    <tr>\n",
       "      <td>2</td>\n",
       "      <td>20.0</td>\n",
       "      <td>39900</td>\n",
       "      <td>0.0</td>\n",
       "      <td>2.0</td>\n",
       "      <td>21.0</td>\n",
       "      <td>0</td>\n",
       "      <td>1</td>\n",
       "      <td>1</td>\n",
       "      <td>1</td>\n",
       "      <td>0</td>\n",
       "      <td>...</td>\n",
       "      <td>0</td>\n",
       "      <td>1</td>\n",
       "      <td>0</td>\n",
       "      <td>1</td>\n",
       "      <td>0</td>\n",
       "      <td>0</td>\n",
       "      <td>0</td>\n",
       "      <td>1</td>\n",
       "      <td>0</td>\n",
       "      <td>0</td>\n",
       "    </tr>\n",
       "    <tr>\n",
       "      <td>3</td>\n",
       "      <td>20.0</td>\n",
       "      <td>39900</td>\n",
       "      <td>0.0</td>\n",
       "      <td>2.0</td>\n",
       "      <td>21.0</td>\n",
       "      <td>0</td>\n",
       "      <td>1</td>\n",
       "      <td>1</td>\n",
       "      <td>1</td>\n",
       "      <td>0</td>\n",
       "      <td>...</td>\n",
       "      <td>0</td>\n",
       "      <td>0</td>\n",
       "      <td>1</td>\n",
       "      <td>1</td>\n",
       "      <td>0</td>\n",
       "      <td>0</td>\n",
       "      <td>0</td>\n",
       "      <td>1</td>\n",
       "      <td>0</td>\n",
       "      <td>0</td>\n",
       "    </tr>\n",
       "    <tr>\n",
       "      <td>4</td>\n",
       "      <td>20.0</td>\n",
       "      <td>39900</td>\n",
       "      <td>0.0</td>\n",
       "      <td>2.0</td>\n",
       "      <td>21.0</td>\n",
       "      <td>0</td>\n",
       "      <td>1</td>\n",
       "      <td>1</td>\n",
       "      <td>1</td>\n",
       "      <td>0</td>\n",
       "      <td>...</td>\n",
       "      <td>0</td>\n",
       "      <td>1</td>\n",
       "      <td>0</td>\n",
       "      <td>1</td>\n",
       "      <td>0</td>\n",
       "      <td>0</td>\n",
       "      <td>0</td>\n",
       "      <td>1</td>\n",
       "      <td>0</td>\n",
       "      <td>0</td>\n",
       "    </tr>\n",
       "  </tbody>\n",
       "</table>\n",
       "<p>5 rows × 334 columns</p>\n",
       "</div>"
      ],
      "text/plain": [
       "   노출(분)   판매단가  방송시간차  상품방송횟수  브랜드방송횟수  조기매진  isHoliday  방송월  방송일  평일여부  ...  \\\n",
       "0   20.0  39900    0.0     2.0     21.0     0          1    1    1     0  ...   \n",
       "1   20.0  39900    0.0     2.0     21.0     0          1    1    1     0  ...   \n",
       "2   20.0  39900    0.0     2.0     21.0     0          1    1    1     0  ...   \n",
       "3   20.0  39900    0.0     2.0     21.0     0          1    1    1     0  ...   \n",
       "4   20.0  39900    0.0     2.0     21.0     0          1    1    1     0  ...   \n",
       "\n",
       "   성별_0  성별_1  성별_2  상품군_가격대_0.0  상품군_가격대_1.0  상품군_가격대_2.0  전체_가격대_고가  \\\n",
       "0     0     1     0            1            0            0          0   \n",
       "1     0     0     1            1            0            0          0   \n",
       "2     0     1     0            1            0            0          0   \n",
       "3     0     0     1            1            0            0          0   \n",
       "4     0     1     0            1            0            0          0   \n",
       "\n",
       "   전체_가격대_저가  전체_가격대_중저가  전체_가격대_초고가  \n",
       "0          1           0           0  \n",
       "1          1           0           0  \n",
       "2          1           0           0  \n",
       "3          1           0           0  \n",
       "4          1           0           0  \n",
       "\n",
       "[5 rows x 334 columns]"
      ]
     },
     "execution_count": 6,
     "metadata": {},
     "output_type": "execute_result"
    }
   ],
   "source": [
    "X.head()"
   ]
  },
  {
   "cell_type": "code",
   "execution_count": 7,
   "metadata": {
    "colab": {},
    "colab_type": "code",
    "executionInfo": {
     "elapsed": 989,
     "status": "ok",
     "timestamp": 1599982615577,
     "user": {
      "displayName": "shin minjung",
      "photoUrl": "",
      "userId": "09743716370324277104"
     },
     "user_tz": -540
    },
    "id": "aVp5V40vVrd0"
   },
   "outputs": [],
   "source": [
    "gnt = ['판매단가','방송월','방송일','상품군별월별평균판매량','상품군별시간대별평균판매량','상품군별시간분별평균판매량','할인율','상품군_zscore','상품군&브랜드_zscore','마더코드_zscore','NEW_zscore',\\\n",
    "'pca_1',\\\n",
    "'pca_2',\\\n",
    "'강수량(mm)_서울',\\\n",
    "'기온(°C)_서울',\\\n",
    "'습도(%)_서울',\\\n",
    "'시정(10m)_서울',\\\n",
    "'지면온도(°C)_서울',\\\n",
    "'체감온도_서울',\\\n",
    "'풍속(m/s)_서울',\\\n",
    "'최고PM10_서울',\n",
    "'상품군_가구',\\\n",
    "'상품군_가전',\\\n",
    "'상품군_건강기능',\\\n",
    "'상품군_농수축',\\\n",
    "'상품군_생활용품',\\\n",
    "'상품군_속옷',\\\n",
    "'상품군_의류',\\\n",
    "'상품군_이미용',\\\n",
    "'상품군_잡화',\\\n",
    "'상품군_주방',\\\n",
    "'상품군_침구']"
   ]
  },
  {
   "cell_type": "code",
   "execution_count": 8,
   "metadata": {
    "colab": {},
    "colab_type": "code",
    "executionInfo": {
     "elapsed": 1517,
     "status": "ok",
     "timestamp": 1599982616438,
     "user": {
      "displayName": "shin minjung",
      "photoUrl": "",
      "userId": "09743716370324277104"
     },
     "user_tz": -540
    },
    "id": "8LlTF8J9ZHWd"
   },
   "outputs": [],
   "source": [
    "column_list =[]\n",
    "for col in X.columns:\n",
    "    column_list.append(col)"
   ]
  },
  {
   "cell_type": "code",
   "execution_count": 9,
   "metadata": {
    "colab": {},
    "colab_type": "code",
    "executionInfo": {
     "elapsed": 1336,
     "status": "ok",
     "timestamp": 1599982616439,
     "user": {
      "displayName": "shin minjung",
      "photoUrl": "",
      "userId": "09743716370324277104"
     },
     "user_tz": -540
    },
    "id": "URmvwRxG9Ho7"
   },
   "outputs": [],
   "source": [
    "emb_list = ['v'+str(j) for j in range(0,90)]\n",
    "for i in emb_list:\n",
    "  column_list.remove(i)"
   ]
  },
  {
   "cell_type": "code",
   "execution_count": 10,
   "metadata": {
    "colab": {},
    "colab_type": "code",
    "executionInfo": {
     "elapsed": 1135,
     "status": "ok",
     "timestamp": 1599982616440,
     "user": {
      "displayName": "shin minjung",
      "photoUrl": "",
      "userId": "09743716370324277104"
     },
     "user_tz": -540
    },
    "id": "0wVqNkXR6PZD"
   },
   "outputs": [],
   "source": [
    "column_list =[]\n",
    "for col in X.columns:\n",
    "  if col in gnt:\n",
    "    column_list.append(col)"
   ]
  },
  {
   "cell_type": "code",
   "execution_count": 11,
   "metadata": {
    "colab": {},
    "colab_type": "code",
    "executionInfo": {
     "elapsed": 1725,
     "status": "ok",
     "timestamp": 1599982617186,
     "user": {
      "displayName": "shin minjung",
      "photoUrl": "",
      "userId": "09743716370324277104"
     },
     "user_tz": -540
    },
    "id": "Yr_erm5p9ppZ"
   },
   "outputs": [],
   "source": [
    "num_list = column_list"
   ]
  },
  {
   "cell_type": "code",
   "execution_count": 12,
   "metadata": {
    "colab": {},
    "colab_type": "code",
    "executionInfo": {
     "elapsed": 1424,
     "status": "ok",
     "timestamp": 1599982617187,
     "user": {
      "displayName": "shin minjung",
      "photoUrl": "",
      "userId": "09743716370324277104"
     },
     "user_tz": -540
    },
    "id": "V5C3tQiIQ6R7"
   },
   "outputs": [],
   "source": [
    "from sklearn.preprocessing import StandardScaler,MinMaxScaler\n",
    "X_c = X.copy()\n",
    "scaler = MinMaxScaler()\n",
    "X_c = scaler.fit_transform(X_c)\n",
    "X = pd.DataFrame(X_c, columns=X.columns, index=list(X.index.values))"
   ]
  },
  {
   "cell_type": "code",
   "execution_count": 13,
   "metadata": {
    "colab": {
     "base_uri": "https://localhost:8080/",
     "height": 568
    },
    "colab_type": "code",
    "executionInfo": {
     "elapsed": 1265,
     "status": "ok",
     "timestamp": 1599982617192,
     "user": {
      "displayName": "shin minjung",
      "photoUrl": "",
      "userId": "09743716370324277104"
     },
     "user_tz": -540
    },
    "id": "vdnR60L1MRXQ",
    "outputId": "72452050-ceff-4589-deee-167c9dd8a746"
   },
   "outputs": [
    {
     "data": {
      "text/plain": [
       "['판매단가',\n",
       " '방송월',\n",
       " '방송일',\n",
       " '상품군별월별평균판매량',\n",
       " '상품군별시간대별평균판매량',\n",
       " '상품군별시간분별평균판매량',\n",
       " '할인율',\n",
       " '상품군_zscore',\n",
       " '마더코드_zscore',\n",
       " 'NEW_zscore',\n",
       " 'pca_1',\n",
       " 'pca_2',\n",
       " '강수량(mm)_서울',\n",
       " '기온(°C)_서울',\n",
       " '습도(%)_서울',\n",
       " '시정(10m)_서울',\n",
       " '지면온도(°C)_서울',\n",
       " '체감온도_서울',\n",
       " '풍속(m/s)_서울',\n",
       " '최고PM10_서울',\n",
       " '상품군_가구',\n",
       " '상품군_가전',\n",
       " '상품군_건강기능',\n",
       " '상품군_농수축',\n",
       " '상품군_생활용품',\n",
       " '상품군_속옷',\n",
       " '상품군_의류',\n",
       " '상품군_이미용',\n",
       " '상품군_잡화',\n",
       " '상품군_주방',\n",
       " '상품군_침구']"
      ]
     },
     "execution_count": 13,
     "metadata": {},
     "output_type": "execute_result"
    }
   ],
   "source": [
    "column_list"
   ]
  },
  {
   "cell_type": "code",
   "execution_count": 14,
   "metadata": {
    "colab": {
     "base_uri": "https://localhost:8080/",
     "height": 35
    },
    "colab_type": "code",
    "executionInfo": {
     "elapsed": 1625,
     "status": "ok",
     "timestamp": 1599982617801,
     "user": {
      "displayName": "shin minjung",
      "photoUrl": "",
      "userId": "09743716370324277104"
     },
     "user_tz": -540
    },
    "id": "Qy68UpraGmyP",
    "outputId": "7ab9abac-d562-45f3-9875-dc8d5d24e875"
   },
   "outputs": [
    {
     "data": {
      "text/plain": [
       "31"
      ]
     },
     "execution_count": 14,
     "metadata": {},
     "output_type": "execute_result"
    }
   ],
   "source": [
    "len(column_list)"
   ]
  },
  {
   "cell_type": "code",
   "execution_count": 15,
   "metadata": {
    "colab": {},
    "colab_type": "code",
    "executionInfo": {
     "elapsed": 1456,
     "status": "ok",
     "timestamp": 1599982617804,
     "user": {
      "displayName": "shin minjung",
      "photoUrl": "",
      "userId": "09743716370324277104"
     },
     "user_tz": -540
    },
    "id": "92056piN7RZI"
   },
   "outputs": [],
   "source": [
    "X_emb = X[emb_list]\n",
    "X_num = X[num_list]"
   ]
  },
  {
   "cell_type": "code",
   "execution_count": 16,
   "metadata": {
    "colab": {},
    "colab_type": "code",
    "executionInfo": {
     "elapsed": 791,
     "status": "ok",
     "timestamp": 1599983089865,
     "user": {
      "displayName": "shin minjung",
      "photoUrl": "",
      "userId": "09743716370324277104"
     },
     "user_tz": -540
    },
    "id": "z0xj1JDcawUT"
   },
   "outputs": [],
   "source": [
    "X_num = X_num.fillna(0)"
   ]
  },
  {
   "cell_type": "code",
   "execution_count": 17,
   "metadata": {
    "colab": {},
    "colab_type": "code",
    "executionInfo": {
     "elapsed": 1108,
     "status": "ok",
     "timestamp": 1599983092920,
     "user": {
      "displayName": "shin minjung",
      "photoUrl": "",
      "userId": "09743716370324277104"
     },
     "user_tz": -540
    },
    "id": "sV1n5SSr-a6y"
   },
   "outputs": [],
   "source": [
    "#X = pd.read_excel(\"0906_notD.xlsx\")"
   ]
  },
  {
   "cell_type": "code",
   "execution_count": 18,
   "metadata": {
    "colab": {
     "base_uri": "https://localhost:8080/",
     "height": 692
    },
    "colab_type": "code",
    "executionInfo": {
     "elapsed": 618,
     "status": "ok",
     "timestamp": 1599983092922,
     "user": {
      "displayName": "shin minjung",
      "photoUrl": "",
      "userId": "09743716370324277104"
     },
     "user_tz": -540
    },
    "id": "tIFcFeED-SVN",
    "outputId": "e3613f5c-d5f6-45f5-df47-ee81741b9950"
   },
   "outputs": [
    {
     "name": "stdout",
     "output_type": "stream",
     "text": [
      "<class 'pandas.core.frame.DataFrame'>\n",
      "Int64Index: 35379 entries, 0 to 38303\n",
      "Data columns (total 31 columns):\n",
      "판매단가             35379 non-null float64\n",
      "방송월              35379 non-null float64\n",
      "방송일              35379 non-null float64\n",
      "상품군별월별평균판매량      35379 non-null float64\n",
      "상품군별시간대별평균판매량    35379 non-null float64\n",
      "상품군별시간분별평균판매량    35379 non-null float64\n",
      "할인율              35379 non-null float64\n",
      "상품군_zscore       35379 non-null float64\n",
      "마더코드_zscore      35379 non-null float64\n",
      "NEW_zscore       35379 non-null float64\n",
      "pca_1            35379 non-null float64\n",
      "pca_2            35379 non-null float64\n",
      "강수량(mm)_서울       35379 non-null float64\n",
      "기온(°C)_서울        35379 non-null float64\n",
      "습도(%)_서울         35379 non-null float64\n",
      "시정(10m)_서울       35379 non-null float64\n",
      "지면온도(°C)_서울      35379 non-null float64\n",
      "체감온도_서울          35379 non-null float64\n",
      "풍속(m/s)_서울       35379 non-null float64\n",
      "최고PM10_서울        35379 non-null float64\n",
      "상품군_가구           35379 non-null float64\n",
      "상품군_가전           35379 non-null float64\n",
      "상품군_건강기능         35379 non-null float64\n",
      "상품군_농수축          35379 non-null float64\n",
      "상품군_생활용품         35379 non-null float64\n",
      "상품군_속옷           35379 non-null float64\n",
      "상품군_의류           35379 non-null float64\n",
      "상품군_이미용          35379 non-null float64\n",
      "상품군_잡화           35379 non-null float64\n",
      "상품군_주방           35379 non-null float64\n",
      "상품군_침구           35379 non-null float64\n",
      "dtypes: float64(31)\n",
      "memory usage: 8.6 MB\n"
     ]
    }
   ],
   "source": [
    "X_num.info()"
   ]
  },
  {
   "cell_type": "code",
   "execution_count": 19,
   "metadata": {
    "colab": {
     "base_uri": "https://localhost:8080/",
     "height": 1000
    },
    "colab_type": "code",
    "executionInfo": {
     "elapsed": 817,
     "status": "ok",
     "timestamp": 1599983093545,
     "user": {
      "displayName": "shin minjung",
      "photoUrl": "",
      "userId": "09743716370324277104"
     },
     "user_tz": -540
    },
    "id": "kJbh0NTkg4aQ",
    "outputId": "07e20089-8fa0-4008-db7f-cd32bec6d884"
   },
   "outputs": [
    {
     "name": "stdout",
     "output_type": "stream",
     "text": [
      "<class 'pandas.core.frame.DataFrame'>\n",
      "Int64Index: 35379 entries, 0 to 38303\n",
      "Data columns (total 90 columns):\n",
      "v0     35379 non-null float64\n",
      "v1     35379 non-null float64\n",
      "v2     35379 non-null float64\n",
      "v3     35379 non-null float64\n",
      "v4     35379 non-null float64\n",
      "v5     35379 non-null float64\n",
      "v6     35379 non-null float64\n",
      "v7     35379 non-null float64\n",
      "v8     35379 non-null float64\n",
      "v9     35379 non-null float64\n",
      "v10    35379 non-null float64\n",
      "v11    35379 non-null float64\n",
      "v12    35379 non-null float64\n",
      "v13    35379 non-null float64\n",
      "v14    35379 non-null float64\n",
      "v15    35379 non-null float64\n",
      "v16    35379 non-null float64\n",
      "v17    35379 non-null float64\n",
      "v18    35379 non-null float64\n",
      "v19    35379 non-null float64\n",
      "v20    35379 non-null float64\n",
      "v21    35379 non-null float64\n",
      "v22    35379 non-null float64\n",
      "v23    35379 non-null float64\n",
      "v24    35379 non-null float64\n",
      "v25    35379 non-null float64\n",
      "v26    35379 non-null float64\n",
      "v27    35379 non-null float64\n",
      "v28    35379 non-null float64\n",
      "v29    35379 non-null float64\n",
      "v30    35379 non-null float64\n",
      "v31    35379 non-null float64\n",
      "v32    35379 non-null float64\n",
      "v33    35379 non-null float64\n",
      "v34    35379 non-null float64\n",
      "v35    35379 non-null float64\n",
      "v36    35379 non-null float64\n",
      "v37    35379 non-null float64\n",
      "v38    35379 non-null float64\n",
      "v39    35379 non-null float64\n",
      "v40    35379 non-null float64\n",
      "v41    35379 non-null float64\n",
      "v42    35379 non-null float64\n",
      "v43    35379 non-null float64\n",
      "v44    35379 non-null float64\n",
      "v45    35379 non-null float64\n",
      "v46    35379 non-null float64\n",
      "v47    35379 non-null float64\n",
      "v48    35379 non-null float64\n",
      "v49    35379 non-null float64\n",
      "v50    35379 non-null float64\n",
      "v51    35379 non-null float64\n",
      "v52    35379 non-null float64\n",
      "v53    35379 non-null float64\n",
      "v54    35379 non-null float64\n",
      "v55    35379 non-null float64\n",
      "v56    35379 non-null float64\n",
      "v57    35379 non-null float64\n",
      "v58    35379 non-null float64\n",
      "v59    35379 non-null float64\n",
      "v60    35379 non-null float64\n",
      "v61    35379 non-null float64\n",
      "v62    35379 non-null float64\n",
      "v63    35379 non-null float64\n",
      "v64    35379 non-null float64\n",
      "v65    35379 non-null float64\n",
      "v66    35379 non-null float64\n",
      "v67    35379 non-null float64\n",
      "v68    35379 non-null float64\n",
      "v69    35379 non-null float64\n",
      "v70    35379 non-null float64\n",
      "v71    35379 non-null float64\n",
      "v72    35379 non-null float64\n",
      "v73    35379 non-null float64\n",
      "v74    35379 non-null float64\n",
      "v75    35379 non-null float64\n",
      "v76    35379 non-null float64\n",
      "v77    35379 non-null float64\n",
      "v78    35379 non-null float64\n",
      "v79    35379 non-null float64\n",
      "v80    35379 non-null float64\n",
      "v81    35379 non-null float64\n",
      "v82    35379 non-null float64\n",
      "v83    35379 non-null float64\n",
      "v84    35379 non-null float64\n",
      "v85    35379 non-null float64\n",
      "v86    35379 non-null float64\n",
      "v87    35379 non-null float64\n",
      "v88    35379 non-null float64\n",
      "v89    35379 non-null float64\n",
      "dtypes: float64(90)\n",
      "memory usage: 24.6 MB\n"
     ]
    }
   ],
   "source": [
    "X_emb.info()"
   ]
  },
  {
   "cell_type": "markdown",
   "metadata": {
    "colab_type": "text",
    "id": "u06H2tY4wTNM"
   },
   "source": [
    "## Modeling "
   ]
  },
  {
   "cell_type": "code",
   "execution_count": 20,
   "metadata": {
    "colab": {},
    "colab_type": "code",
    "executionInfo": {
     "elapsed": 979,
     "status": "ok",
     "timestamp": 1599983094451,
     "user": {
      "displayName": "shin minjung",
      "photoUrl": "",
      "userId": "09743716370324277104"
     },
     "user_tz": -540
    },
    "id": "rpKfv7HK4bdn"
   },
   "outputs": [],
   "source": [
    "# import the necessary packages\n",
    "from tensorflow.keras.models import Sequential\n",
    "from tensorflow.keras.layers import BatchNormalization\n",
    "from tensorflow.keras.layers import Conv2D, Conv1D\n",
    "from tensorflow.keras.layers import MaxPooling2D, GlobalMaxPooling1D, GlobalAveragePooling1D\n",
    "from tensorflow.keras.layers import Activation\n",
    "from tensorflow.keras.layers import Dropout\n",
    "from tensorflow.keras.layers import Dense\n",
    "from tensorflow.keras.layers import Flatten\n",
    "from tensorflow.keras.layers import Input\n",
    "from tensorflow.keras.layers import LSTM,Bidirectional\n",
    "from tensorflow.keras.models import Model\n",
    "from tensorflow.keras.optimizers import Adam, RMSprop\n",
    "from tensorflow.keras.layers import concatenate"
   ]
  },
  {
   "cell_type": "code",
   "execution_count": 21,
   "metadata": {
    "colab": {
     "base_uri": "https://localhost:8080/",
     "height": 70
    },
    "colab_type": "code",
    "executionInfo": {
     "elapsed": 2156,
     "status": "ok",
     "timestamp": 1599984111061,
     "user": {
      "displayName": "shin minjung",
      "photoUrl": "",
      "userId": "09743716370324277104"
     },
     "user_tz": -540
    },
    "id": "tq1EbmD6Pkua",
    "outputId": "c4a18b87-1b10-46fa-bdb1-1d48bf199351"
   },
   "outputs": [
    {
     "data": {
      "text/plain": [
       "\"\\nfilename = 'checkpoint-epoch-{}-batch-{}-trial-001.h5'.format(EPOCH, BATCH_SIZE)\\ncheckpoint = ModelCheckpoint(filename,             # file명을 지정합니다\\n                             monitor='val_loss',   # val_loss 값이 개선되었을때 호출됩니다\\n                             verbose=1,            # 로그를 출력합니다\\n                             save_best_only=True,  # 가장 best 값만 저장합니다\\n                             mode='auto'           # auto는 알아서 best를 찾습니다. min/max\\n                            )\\n                            \""
      ]
     },
     "execution_count": 21,
     "metadata": {},
     "output_type": "execute_result"
    }
   ],
   "source": [
    "from tensorflow.keras.callbacks import EarlyStopping, ModelCheckpoint, ReduceLROnPlateau\n",
    "\n",
    "reduceLR = ReduceLROnPlateau( \n",
    "    monitor='loss',  # 모니터 기준 설정 val_loss? val_acc?\n",
    "    factor=0.5,          # callback 호출시 학습률을 1/2로 줄인다\n",
    "    patience=6,         # epoch 10 동안 개선되지 않으면 callback이 호출\n",
    ")\n",
    "\n",
    "earlystopping = EarlyStopping(monitor='loss',  # 모니터 기준 설정 (val_loss) \n",
    "                              patience=15,         # 15회 Epoch동안 개선되지 않는다면 종료\n",
    "                             )\n",
    "\"\"\"\n",
    "filename = 'checkpoint-epoch-{}-batch-{}-trial-001.h5'.format(EPOCH, BATCH_SIZE)\n",
    "checkpoint = ModelCheckpoint(filename,             # file명을 지정합니다\n",
    "                             monitor='val_loss',   # val_loss 값이 개선되었을때 호출됩니다\n",
    "                             verbose=1,            # 로그를 출력합니다\n",
    "                             save_best_only=True,  # 가장 best 값만 저장합니다\n",
    "                             mode='auto'           # auto는 알아서 best를 찾습니다. min/max\n",
    "                            )\n",
    "                            \"\"\""
   ]
  },
  {
   "cell_type": "markdown",
   "metadata": {
    "colab_type": "text",
    "id": "Xyt_J9Cok2US"
   },
   "source": [
    "## Multi input model"
   ]
  },
  {
   "cell_type": "code",
   "execution_count": 43,
   "metadata": {
    "colab": {},
    "colab_type": "code",
    "executionInfo": {
     "elapsed": 1631,
     "status": "ok",
     "timestamp": 1599984111063,
     "user": {
      "displayName": "shin minjung",
      "photoUrl": "",
      "userId": "09743716370324277104"
     },
     "user_tz": -540
    },
    "id": "O9kAWsf6Ih_f"
   },
   "outputs": [],
   "source": [
    "\n",
    "#define loss \n",
    "\n",
    "def mean_absolute_percentage_error_ours(y_true, y_pred):\n",
    "    return tf.reduce_mean(tf.math.abs((tf.math.exp(y_true) - tf.math.exp(y_pred)) / tf.math.exp(y_true)))* 100\n",
    "\n",
    "def mean_absolute_percentage_error(y_true, y_pred):\n",
    "    y_true, y_pred = np.array(y_true), np.array(y_pred)\n",
    "    return np.mean(np.abs((y_true - y_pred) / y_true)) * 100\n"
   ]
  },
  {
   "cell_type": "code",
   "execution_count": 44,
   "metadata": {
    "colab": {},
    "colab_type": "code",
    "executionInfo": {
     "elapsed": 1817,
     "status": "ok",
     "timestamp": 1599984111441,
     "user": {
      "displayName": "shin minjung",
      "photoUrl": "",
      "userId": "09743716370324277104"
     },
     "user_tz": -540
    },
    "id": "Ls83-9C9zzVH"
   },
   "outputs": [],
   "source": [
    "\n",
    "def create_mlp(dim, regress=False):\n",
    "\t# define our MLP network\n",
    "    model = Sequential()\n",
    "    model.add(Dense(512, input_dim=dim, activation ='relu', kernel_initializer='he_normal'))\n",
    "    model.add(BatchNormalization())\n",
    "    model.add(Dropout(0.3))\n",
    "    model.add(Dense(256, activation ='relu', kernel_initializer='he_normal'))\n",
    "    model.add(BatchNormalization())\n",
    "    model.add(Dropout(0.3))\n",
    "    model.add(Dense(128, activation ='relu', kernel_initializer='he_normal'))\n",
    "    model.add(BatchNormalization())\n",
    "    model.add(Dropout(0.3))\n",
    "    model.add(Dense(64, activation ='relu', kernel_initializer='he_normal'))\n",
    "    model.add(BatchNormalization())\n",
    "    model.add(Dropout(0.3))\n",
    "    \"\"\"\n",
    "    model.add(Dense(128, input_dim=dim, activation ='relu', kernel_initializer='he_normal'))\n",
    "    model.add(BatchNormalization())\n",
    "    model.add(Dropout(0.3))\n",
    "    model.add(Dense(256, activation ='relu', kernel_initializer='he_normal'))\n",
    "    model.add(BatchNormalization())\n",
    "    model.add(Dropout(0.3))\n",
    "    model.add(Dense(512, activation ='relu', kernel_initializer='he_normal'))\n",
    "    model.add(BatchNormalization())\n",
    "    model.add(Dropout(0.3))\n",
    "    \"\"\"\n",
    "    #model.add(Dense(64, activation ='relu', kernel_initializer='he_normal'))\n",
    "    #model.add(Dense(10, activation=\"LeakyReLU\"))\n",
    "    return model\n",
    "\n",
    "def create_1Dcnn(dim):\n",
    "    inputShape = (dim,1)\n",
    "\n",
    "    Inputs = Input(shape = inputShape)\n",
    "\n",
    "    conv1 = Conv1D(filters = 8, kernel_size=6,padding = 'valid',activation ='linear', kernel_initializer='he_normal')(Inputs)\n",
    "    pool1 = GlobalAveragePooling1D()(conv1)\n",
    "\n",
    "    conv2 = Conv1D(filters = 8, kernel_size=7,padding = 'valid', activation ='linear', kernel_initializer='he_normal')(Inputs)\n",
    "    pool2 = GlobalAveragePooling1D()(conv2)\n",
    "\n",
    "    conv3 = Conv1D(filters = 8, kernel_size=8,padding = 'valid', activation ='linear', kernel_initializer='he_normal')(Inputs)\n",
    "    pool3 = GlobalAveragePooling1D()(conv3)\n",
    "\n",
    "    concat = concatenate([pool1, pool2, pool3])\n",
    "    #concat = tf.expand_dims(concat,-1)\n",
    "\n",
    "    #results = LSTM(64)(concat)\n",
    "    results = Dense(10,activation ='linear', kernel_initializer='he_normal')(concat)\n",
    "    model = Model(Inputs,results)\n",
    "    return model\n",
    "\n",
    "\n",
    "def create_lstm(dim):\n",
    "    inputShape = (dim,1)\n",
    "    \n",
    "    inputs = Input(shape = inputShape)\n",
    "    #print(inputs.shape)\n",
    "    \n",
    "    x = LSTM(10)(inputs)\n",
    "    x = Dropout(0.2)(x)\n",
    "    x = Dense(10,activation ='relu', kernel_initializer='he_normal')(x)\n",
    "    model = Model(inputs,x)\n",
    "\n",
    "    return model\n"
   ]
  },
  {
   "cell_type": "code",
   "execution_count": null,
   "metadata": {
    "colab": {},
    "colab_type": "code",
    "executionInfo": {
     "elapsed": 1635,
     "status": "ok",
     "timestamp": 1599984111442,
     "user": {
      "displayName": "shin minjung",
      "photoUrl": "",
      "userId": "09743716370324277104"
     },
     "user_tz": -540
    },
    "id": "LNq_J9hqL2gC"
   },
   "outputs": [],
   "source": []
  },
  {
   "cell_type": "code",
   "execution_count": 45,
   "metadata": {
    "colab": {
     "base_uri": "https://localhost:8080/",
     "height": 750
    },
    "colab_type": "code",
    "executionInfo": {
     "elapsed": 3077,
     "status": "ok",
     "timestamp": 1599984113091,
     "user": {
      "displayName": "shin minjung",
      "photoUrl": "",
      "userId": "09743716370324277104"
     },
     "user_tz": -540
    },
    "id": "ndyKXZvO5QOX",
    "outputId": "dcb28ee2-661c-4f31-d05d-9d45a77fad03"
   },
   "outputs": [
    {
     "name": "stdout",
     "output_type": "stream",
     "text": [
      "Failed to import pydot. You must install pydot and graphviz for `pydotprint` to work.\n"
     ]
    }
   ],
   "source": [
    "\n",
    "X_num_lstm = X_num.copy() \n",
    "X_num_lstm = np.array(X_num_lstm)\n",
    "X_num_lstm = np.reshape(X_num_lstm,(X_num_lstm.shape[0],X_num_lstm.shape[1],1))\n",
    "# create the MLP and LSTM models\n",
    "mlp = create_mlp(X_num.shape[1], regress=False)\n",
    "cnn = create_1Dcnn(X_emb.shape[1])\n",
    "lstm = create_lstm((X_num_lstm.shape[1]))\n",
    "#print(mlp.output, lstm.output)\n",
    "\n",
    "combinedInput = concatenate([lstm.output, cnn.output])\n",
    "#combinedInput = tf.expand_dims(combinedInput,-1)\n",
    "\n",
    "# our final FC layer head will have two dense layers, the final one\n",
    "# being our regression head\n",
    "#x = LSTM(5)(combinedInput)\n",
    "\n",
    "x = Dense(8, activation=\"selu\")(combinedInput)\n",
    "#x = BatchNormalization()(x)\n",
    "x = Dropout(0.3)(x)\n",
    "\n",
    "x = Dropout(0.3)(x)\n",
    "x = Dense(1, activation=\"selu\")(x)\n",
    "\n",
    "model = Model(inputs=[lstm.input, cnn.input], outputs=x)\n",
    "\n",
    "\n",
    "opt = Adam(lr=0.01, decay=1e-3 / 200)\n",
    "#opt = RMSprop(0.001)\n",
    "model.compile(loss= \"mean_absolute_percentage_error\",optimizer=opt)\n",
    "\n",
    "\n",
    "\n",
    "\n",
    "from tensorflow.keras.utils import plot_model\n",
    "\n",
    "plot_model(model, to_file = 'model_1.png', show_shapes = True, show_layer_names = True)\n",
    "# train the model\n"
   ]
  },
  {
   "cell_type": "code",
   "execution_count": 46,
   "metadata": {
    "colab": {
     "base_uri": "https://localhost:8080/",
     "height": 852
    },
    "colab_type": "code",
    "executionInfo": {
     "elapsed": 2785,
     "status": "ok",
     "timestamp": 1599984113093,
     "user": {
      "displayName": "shin minjung",
      "photoUrl": "",
      "userId": "09743716370324277104"
     },
     "user_tz": -540
    },
    "id": "6IaxMDDmHoq_",
    "outputId": "9bd7a49e-e634-4d0f-f020-3df0bed92435"
   },
   "outputs": [
    {
     "name": "stdout",
     "output_type": "stream",
     "text": [
      "Model: \"model_11\"\n",
      "__________________________________________________________________________________________________\n",
      "Layer (type)                    Output Shape         Param #     Connected to                     \n",
      "==================================================================================================\n",
      "input_7 (InputLayer)            [(None, 90, 1)]      0                                            \n",
      "__________________________________________________________________________________________________\n",
      "input_8 (InputLayer)            [(None, 31, 1)]      0                                            \n",
      "__________________________________________________________________________________________________\n",
      "conv1d_9 (Conv1D)               (None, 85, 8)        56          input_7[0][0]                    \n",
      "__________________________________________________________________________________________________\n",
      "conv1d_10 (Conv1D)              (None, 84, 8)        64          input_7[0][0]                    \n",
      "__________________________________________________________________________________________________\n",
      "conv1d_11 (Conv1D)              (None, 83, 8)        72          input_7[0][0]                    \n",
      "__________________________________________________________________________________________________\n",
      "lstm_3 (LSTM)                   (None, 10)           480         input_8[0][0]                    \n",
      "__________________________________________________________________________________________________\n",
      "global_average_pooling1d_9 (Glo (None, 8)            0           conv1d_9[0][0]                   \n",
      "__________________________________________________________________________________________________\n",
      "global_average_pooling1d_10 (Gl (None, 8)            0           conv1d_10[0][0]                  \n",
      "__________________________________________________________________________________________________\n",
      "global_average_pooling1d_11 (Gl (None, 8)            0           conv1d_11[0][0]                  \n",
      "__________________________________________________________________________________________________\n",
      "dropout_25 (Dropout)            (None, 10)           0           lstm_3[0][0]                     \n",
      "__________________________________________________________________________________________________\n",
      "concatenate_6 (Concatenate)     (None, 24)           0           global_average_pooling1d_9[0][0] \n",
      "                                                                 global_average_pooling1d_10[0][0]\n",
      "                                                                 global_average_pooling1d_11[0][0]\n",
      "__________________________________________________________________________________________________\n",
      "dense_29 (Dense)                (None, 10)           110         dropout_25[0][0]                 \n",
      "__________________________________________________________________________________________________\n",
      "dense_28 (Dense)                (None, 10)           250         concatenate_6[0][0]              \n",
      "__________________________________________________________________________________________________\n",
      "concatenate_7 (Concatenate)     (None, 20)           0           dense_29[0][0]                   \n",
      "                                                                 dense_28[0][0]                   \n",
      "__________________________________________________________________________________________________\n",
      "dense_30 (Dense)                (None, 8)            168         concatenate_7[0][0]              \n",
      "__________________________________________________________________________________________________\n",
      "dropout_26 (Dropout)            (None, 8)            0           dense_30[0][0]                   \n",
      "__________________________________________________________________________________________________\n",
      "dropout_27 (Dropout)            (None, 8)            0           dropout_26[0][0]                 \n",
      "__________________________________________________________________________________________________\n",
      "dense_31 (Dense)                (None, 1)            9           dropout_27[0][0]                 \n",
      "==================================================================================================\n",
      "Total params: 1,209\n",
      "Trainable params: 1,209\n",
      "Non-trainable params: 0\n",
      "__________________________________________________________________________________________________\n"
     ]
    }
   ],
   "source": [
    "model.summary()"
   ]
  },
  {
   "cell_type": "markdown",
   "metadata": {
    "colab_type": "text",
    "id": "i90WtzINkcWr"
   },
   "source": [
    "# CV"
   ]
  },
  {
   "cell_type": "code",
   "execution_count": 47,
   "metadata": {
    "colab": {
     "base_uri": "https://localhost:8080/",
     "height": 537
    },
    "colab_type": "code",
    "executionInfo": {
     "elapsed": 2315,
     "status": "ok",
     "timestamp": 1599984113094,
     "user": {
      "displayName": "shin minjung",
      "photoUrl": "",
      "userId": "09743716370324277104"
     },
     "user_tz": -540
    },
    "id": "zDSU_sU7QFdb",
    "outputId": "8e54b698-9df8-441d-dba4-b773fc407f40"
   },
   "outputs": [
    {
     "data": {
      "text/html": [
       "<div>\n",
       "<style scoped>\n",
       "    .dataframe tbody tr th:only-of-type {\n",
       "        vertical-align: middle;\n",
       "    }\n",
       "\n",
       "    .dataframe tbody tr th {\n",
       "        vertical-align: top;\n",
       "    }\n",
       "\n",
       "    .dataframe thead th {\n",
       "        text-align: right;\n",
       "    }\n",
       "</style>\n",
       "<table border=\"1\" class=\"dataframe\">\n",
       "  <thead>\n",
       "    <tr style=\"text-align: right;\">\n",
       "      <th></th>\n",
       "      <th>판매단가</th>\n",
       "      <th>방송월</th>\n",
       "      <th>방송일</th>\n",
       "      <th>상품군별월별평균판매량</th>\n",
       "      <th>상품군별시간대별평균판매량</th>\n",
       "      <th>상품군별시간분별평균판매량</th>\n",
       "      <th>할인율</th>\n",
       "      <th>상품군_zscore</th>\n",
       "      <th>마더코드_zscore</th>\n",
       "      <th>NEW_zscore</th>\n",
       "      <th>...</th>\n",
       "      <th>상품군_가전</th>\n",
       "      <th>상품군_건강기능</th>\n",
       "      <th>상품군_농수축</th>\n",
       "      <th>상품군_생활용품</th>\n",
       "      <th>상품군_속옷</th>\n",
       "      <th>상품군_의류</th>\n",
       "      <th>상품군_이미용</th>\n",
       "      <th>상품군_잡화</th>\n",
       "      <th>상품군_주방</th>\n",
       "      <th>상품군_침구</th>\n",
       "    </tr>\n",
       "  </thead>\n",
       "  <tbody>\n",
       "    <tr>\n",
       "      <td>0</td>\n",
       "      <td>0.003423</td>\n",
       "      <td>0.0</td>\n",
       "      <td>0.0</td>\n",
       "      <td>0.274608</td>\n",
       "      <td>0.181905</td>\n",
       "      <td>0.243604</td>\n",
       "      <td>0.000000</td>\n",
       "      <td>0.156959</td>\n",
       "      <td>0.163217</td>\n",
       "      <td>0.501474</td>\n",
       "      <td>...</td>\n",
       "      <td>0.0</td>\n",
       "      <td>0.0</td>\n",
       "      <td>0.0</td>\n",
       "      <td>0.0</td>\n",
       "      <td>0.0</td>\n",
       "      <td>1.0</td>\n",
       "      <td>0.0</td>\n",
       "      <td>0.0</td>\n",
       "      <td>0.0</td>\n",
       "      <td>0.0</td>\n",
       "    </tr>\n",
       "    <tr>\n",
       "      <td>1</td>\n",
       "      <td>0.003423</td>\n",
       "      <td>0.0</td>\n",
       "      <td>0.0</td>\n",
       "      <td>0.274608</td>\n",
       "      <td>0.181905</td>\n",
       "      <td>0.243604</td>\n",
       "      <td>0.000000</td>\n",
       "      <td>0.156959</td>\n",
       "      <td>0.163217</td>\n",
       "      <td>0.501474</td>\n",
       "      <td>...</td>\n",
       "      <td>0.0</td>\n",
       "      <td>0.0</td>\n",
       "      <td>0.0</td>\n",
       "      <td>0.0</td>\n",
       "      <td>0.0</td>\n",
       "      <td>1.0</td>\n",
       "      <td>0.0</td>\n",
       "      <td>0.0</td>\n",
       "      <td>0.0</td>\n",
       "      <td>0.0</td>\n",
       "    </tr>\n",
       "    <tr>\n",
       "      <td>2</td>\n",
       "      <td>0.003423</td>\n",
       "      <td>0.0</td>\n",
       "      <td>0.0</td>\n",
       "      <td>0.274608</td>\n",
       "      <td>0.181905</td>\n",
       "      <td>0.331690</td>\n",
       "      <td>0.000000</td>\n",
       "      <td>0.156959</td>\n",
       "      <td>0.163217</td>\n",
       "      <td>0.501474</td>\n",
       "      <td>...</td>\n",
       "      <td>0.0</td>\n",
       "      <td>0.0</td>\n",
       "      <td>0.0</td>\n",
       "      <td>0.0</td>\n",
       "      <td>0.0</td>\n",
       "      <td>1.0</td>\n",
       "      <td>0.0</td>\n",
       "      <td>0.0</td>\n",
       "      <td>0.0</td>\n",
       "      <td>0.0</td>\n",
       "    </tr>\n",
       "    <tr>\n",
       "      <td>3</td>\n",
       "      <td>0.003423</td>\n",
       "      <td>0.0</td>\n",
       "      <td>0.0</td>\n",
       "      <td>0.274608</td>\n",
       "      <td>0.181905</td>\n",
       "      <td>0.331690</td>\n",
       "      <td>0.000000</td>\n",
       "      <td>0.156959</td>\n",
       "      <td>0.163217</td>\n",
       "      <td>0.501474</td>\n",
       "      <td>...</td>\n",
       "      <td>0.0</td>\n",
       "      <td>0.0</td>\n",
       "      <td>0.0</td>\n",
       "      <td>0.0</td>\n",
       "      <td>0.0</td>\n",
       "      <td>1.0</td>\n",
       "      <td>0.0</td>\n",
       "      <td>0.0</td>\n",
       "      <td>0.0</td>\n",
       "      <td>0.0</td>\n",
       "    </tr>\n",
       "    <tr>\n",
       "      <td>4</td>\n",
       "      <td>0.003423</td>\n",
       "      <td>0.0</td>\n",
       "      <td>0.0</td>\n",
       "      <td>0.274608</td>\n",
       "      <td>0.181905</td>\n",
       "      <td>0.441439</td>\n",
       "      <td>0.000000</td>\n",
       "      <td>0.156959</td>\n",
       "      <td>0.163217</td>\n",
       "      <td>0.501474</td>\n",
       "      <td>...</td>\n",
       "      <td>0.0</td>\n",
       "      <td>0.0</td>\n",
       "      <td>0.0</td>\n",
       "      <td>0.0</td>\n",
       "      <td>0.0</td>\n",
       "      <td>1.0</td>\n",
       "      <td>0.0</td>\n",
       "      <td>0.0</td>\n",
       "      <td>0.0</td>\n",
       "      <td>0.0</td>\n",
       "    </tr>\n",
       "    <tr>\n",
       "      <td>...</td>\n",
       "      <td>...</td>\n",
       "      <td>...</td>\n",
       "      <td>...</td>\n",
       "      <td>...</td>\n",
       "      <td>...</td>\n",
       "      <td>...</td>\n",
       "      <td>...</td>\n",
       "      <td>...</td>\n",
       "      <td>...</td>\n",
       "      <td>...</td>\n",
       "      <td>...</td>\n",
       "      <td>...</td>\n",
       "      <td>...</td>\n",
       "      <td>...</td>\n",
       "      <td>...</td>\n",
       "      <td>...</td>\n",
       "      <td>...</td>\n",
       "      <td>...</td>\n",
       "      <td>...</td>\n",
       "      <td>...</td>\n",
       "      <td>...</td>\n",
       "    </tr>\n",
       "    <tr>\n",
       "      <td>38299</td>\n",
       "      <td>0.018340</td>\n",
       "      <td>1.0</td>\n",
       "      <td>1.0</td>\n",
       "      <td>0.238687</td>\n",
       "      <td>0.065096</td>\n",
       "      <td>0.205372</td>\n",
       "      <td>0.000000</td>\n",
       "      <td>0.195034</td>\n",
       "      <td>0.406461</td>\n",
       "      <td>0.760434</td>\n",
       "      <td>...</td>\n",
       "      <td>0.0</td>\n",
       "      <td>0.0</td>\n",
       "      <td>0.0</td>\n",
       "      <td>0.0</td>\n",
       "      <td>0.0</td>\n",
       "      <td>0.0</td>\n",
       "      <td>0.0</td>\n",
       "      <td>0.0</td>\n",
       "      <td>1.0</td>\n",
       "      <td>0.0</td>\n",
       "    </tr>\n",
       "    <tr>\n",
       "      <td>38300</td>\n",
       "      <td>0.020866</td>\n",
       "      <td>1.0</td>\n",
       "      <td>1.0</td>\n",
       "      <td>0.238687</td>\n",
       "      <td>0.000000</td>\n",
       "      <td>0.115723</td>\n",
       "      <td>0.000000</td>\n",
       "      <td>0.209962</td>\n",
       "      <td>0.800044</td>\n",
       "      <td>0.702064</td>\n",
       "      <td>...</td>\n",
       "      <td>0.0</td>\n",
       "      <td>0.0</td>\n",
       "      <td>0.0</td>\n",
       "      <td>0.0</td>\n",
       "      <td>0.0</td>\n",
       "      <td>0.0</td>\n",
       "      <td>0.0</td>\n",
       "      <td>0.0</td>\n",
       "      <td>1.0</td>\n",
       "      <td>0.0</td>\n",
       "    </tr>\n",
       "    <tr>\n",
       "      <td>38301</td>\n",
       "      <td>0.018340</td>\n",
       "      <td>1.0</td>\n",
       "      <td>1.0</td>\n",
       "      <td>0.238687</td>\n",
       "      <td>0.000000</td>\n",
       "      <td>0.115723</td>\n",
       "      <td>0.000000</td>\n",
       "      <td>0.195034</td>\n",
       "      <td>0.406461</td>\n",
       "      <td>0.760434</td>\n",
       "      <td>...</td>\n",
       "      <td>0.0</td>\n",
       "      <td>0.0</td>\n",
       "      <td>0.0</td>\n",
       "      <td>0.0</td>\n",
       "      <td>0.0</td>\n",
       "      <td>0.0</td>\n",
       "      <td>0.0</td>\n",
       "      <td>0.0</td>\n",
       "      <td>1.0</td>\n",
       "      <td>0.0</td>\n",
       "    </tr>\n",
       "    <tr>\n",
       "      <td>38302</td>\n",
       "      <td>0.019603</td>\n",
       "      <td>1.0</td>\n",
       "      <td>1.0</td>\n",
       "      <td>0.238687</td>\n",
       "      <td>0.000000</td>\n",
       "      <td>0.115723</td>\n",
       "      <td>0.112079</td>\n",
       "      <td>0.202498</td>\n",
       "      <td>0.603252</td>\n",
       "      <td>0.300885</td>\n",
       "      <td>...</td>\n",
       "      <td>0.0</td>\n",
       "      <td>0.0</td>\n",
       "      <td>0.0</td>\n",
       "      <td>0.0</td>\n",
       "      <td>0.0</td>\n",
       "      <td>0.0</td>\n",
       "      <td>0.0</td>\n",
       "      <td>0.0</td>\n",
       "      <td>1.0</td>\n",
       "      <td>0.0</td>\n",
       "    </tr>\n",
       "    <tr>\n",
       "      <td>38303</td>\n",
       "      <td>0.017077</td>\n",
       "      <td>1.0</td>\n",
       "      <td>1.0</td>\n",
       "      <td>0.238687</td>\n",
       "      <td>0.000000</td>\n",
       "      <td>0.115723</td>\n",
       "      <td>0.126266</td>\n",
       "      <td>0.187570</td>\n",
       "      <td>0.209669</td>\n",
       "      <td>0.242514</td>\n",
       "      <td>...</td>\n",
       "      <td>0.0</td>\n",
       "      <td>0.0</td>\n",
       "      <td>0.0</td>\n",
       "      <td>0.0</td>\n",
       "      <td>0.0</td>\n",
       "      <td>0.0</td>\n",
       "      <td>0.0</td>\n",
       "      <td>0.0</td>\n",
       "      <td>1.0</td>\n",
       "      <td>0.0</td>\n",
       "    </tr>\n",
       "  </tbody>\n",
       "</table>\n",
       "<p>35379 rows × 31 columns</p>\n",
       "</div>"
      ],
      "text/plain": [
       "           판매단가  방송월  방송일  상품군별월별평균판매량  상품군별시간대별평균판매량  상품군별시간분별평균판매량  \\\n",
       "0      0.003423  0.0  0.0     0.274608       0.181905       0.243604   \n",
       "1      0.003423  0.0  0.0     0.274608       0.181905       0.243604   \n",
       "2      0.003423  0.0  0.0     0.274608       0.181905       0.331690   \n",
       "3      0.003423  0.0  0.0     0.274608       0.181905       0.331690   \n",
       "4      0.003423  0.0  0.0     0.274608       0.181905       0.441439   \n",
       "...         ...  ...  ...          ...            ...            ...   \n",
       "38299  0.018340  1.0  1.0     0.238687       0.065096       0.205372   \n",
       "38300  0.020866  1.0  1.0     0.238687       0.000000       0.115723   \n",
       "38301  0.018340  1.0  1.0     0.238687       0.000000       0.115723   \n",
       "38302  0.019603  1.0  1.0     0.238687       0.000000       0.115723   \n",
       "38303  0.017077  1.0  1.0     0.238687       0.000000       0.115723   \n",
       "\n",
       "            할인율  상품군_zscore  마더코드_zscore  NEW_zscore  ...  상품군_가전  상품군_건강기능  \\\n",
       "0      0.000000    0.156959     0.163217    0.501474  ...     0.0       0.0   \n",
       "1      0.000000    0.156959     0.163217    0.501474  ...     0.0       0.0   \n",
       "2      0.000000    0.156959     0.163217    0.501474  ...     0.0       0.0   \n",
       "3      0.000000    0.156959     0.163217    0.501474  ...     0.0       0.0   \n",
       "4      0.000000    0.156959     0.163217    0.501474  ...     0.0       0.0   \n",
       "...         ...         ...          ...         ...  ...     ...       ...   \n",
       "38299  0.000000    0.195034     0.406461    0.760434  ...     0.0       0.0   \n",
       "38300  0.000000    0.209962     0.800044    0.702064  ...     0.0       0.0   \n",
       "38301  0.000000    0.195034     0.406461    0.760434  ...     0.0       0.0   \n",
       "38302  0.112079    0.202498     0.603252    0.300885  ...     0.0       0.0   \n",
       "38303  0.126266    0.187570     0.209669    0.242514  ...     0.0       0.0   \n",
       "\n",
       "       상품군_농수축  상품군_생활용품  상품군_속옷  상품군_의류  상품군_이미용  상품군_잡화  상품군_주방  상품군_침구  \n",
       "0          0.0       0.0     0.0     1.0      0.0     0.0     0.0     0.0  \n",
       "1          0.0       0.0     0.0     1.0      0.0     0.0     0.0     0.0  \n",
       "2          0.0       0.0     0.0     1.0      0.0     0.0     0.0     0.0  \n",
       "3          0.0       0.0     0.0     1.0      0.0     0.0     0.0     0.0  \n",
       "4          0.0       0.0     0.0     1.0      0.0     0.0     0.0     0.0  \n",
       "...        ...       ...     ...     ...      ...     ...     ...     ...  \n",
       "38299      0.0       0.0     0.0     0.0      0.0     0.0     1.0     0.0  \n",
       "38300      0.0       0.0     0.0     0.0      0.0     0.0     1.0     0.0  \n",
       "38301      0.0       0.0     0.0     0.0      0.0     0.0     1.0     0.0  \n",
       "38302      0.0       0.0     0.0     0.0      0.0     0.0     1.0     0.0  \n",
       "38303      0.0       0.0     0.0     0.0      0.0     0.0     1.0     0.0  \n",
       "\n",
       "[35379 rows x 31 columns]"
      ]
     },
     "execution_count": 47,
     "metadata": {},
     "output_type": "execute_result"
    }
   ],
   "source": [
    "X_num"
   ]
  },
  {
   "cell_type": "code",
   "execution_count": 48,
   "metadata": {
    "colab": {},
    "colab_type": "code",
    "executionInfo": {
     "elapsed": 2115,
     "status": "ok",
     "timestamp": 1599984113095,
     "user": {
      "displayName": "shin minjung",
      "photoUrl": "",
      "userId": "09743716370324277104"
     },
     "user_tz": -540
    },
    "id": "hMrJ2Lfq6_HY"
   },
   "outputs": [],
   "source": [
    "y = data['y']\n",
    "y = np.log(y)"
   ]
  },
  {
   "cell_type": "code",
   "execution_count": null,
   "metadata": {
    "colab": {
     "base_uri": "https://localhost:8080/",
     "height": 355
    },
    "colab_type": "code",
    "id": "OcDUuSkSkfyY",
    "outputId": "0eaa4642-085b-4eb9-9399-a7add11672dc",
    "scrolled": true
   },
   "outputs": [
    {
     "name": "stdout",
     "output_type": "stream",
     "text": [
      "처리중인 fold: 1\n",
      "Train on 35379 samples\n",
      "Epoch 1/2\n",
      "17717/35379 [==============>...............] - ETA: 2:10 - loss: 8.7073"
     ]
    }
   ],
   "source": [
    "preds = {'val_preds' : [], 'test_preds' : []} \n",
    "mape = {'val_mape' : [], 'test_mape' : []} \n",
    "\n",
    "for i in range(1,13):\n",
    "    print('처리중인 fold:',i)\n",
    "\n",
    "    train_idx = X_num[X_num['방송월'] != i ].index\n",
    "    test_idx = X_num[X_num['방송월'] == i ].index\n",
    "\n",
    "    X_train_num = X_num.loc[train_idx]\n",
    "    X_train_emb = X_emb.loc[train_idx]\n",
    "    y_train = y.loc[X_train_num.index]\n",
    "\n",
    "\n",
    "    test_num = X_num.loc[test_idx]\n",
    "    test_emb = X_emb.loc[test_idx]\n",
    "\n",
    "    X_val_num = test_num.loc[((test_num['방송일'] > 0) & (test_num['방송일'] < 8)) | ((test_num['방송일'] > 15) & (test_num['방송일'] < 24))]\n",
    "    X_val_emb = test_emb.loc[X_val_num.index]\n",
    "    y_val = y.loc[X_val_num.index]\n",
    "\n",
    "    X_test_num = test_num.loc[((test_num['방송일'] > 7) & (test_num['방송일'] < 16)) | ((test_num['방송일'] > 23) & (test_num['방송일'] < 32))]\n",
    "    X_test_emb = test_emb.loc[X_test_num.index]\n",
    "    y_test = y.loc[X_test_num.index]\n",
    "\n",
    "\n",
    "    X_train_emb = np.asarray(X_train_emb).astype(np.float32)\n",
    "    X_train_emb = np.reshape(X_train_emb,(X_train_emb.shape[0],X_train_emb.shape[1],1))\n",
    "\n",
    "    X_train_num = np.asarray(X_train_num).astype(np.float32)\n",
    "    X_train_num = np.reshape(X_train_num,(X_train_num.shape[0],X_train_num.shape[1],1))\n",
    "\n",
    "    y_train = np.asarray(y_train).astype(np.float32)\n",
    "\n",
    "    X_test_emb = np.asarray(X_test_emb).astype(np.float32)\n",
    "    X_test_emb = np.reshape(X_test_emb,(X_test_emb.shape[0],X_test_emb.shape[1],1))\n",
    "    X_test_num = np.asarray(X_test_num).astype(np.float32)\n",
    "    X_test_num = np.reshape(X_test_num,(X_test_num.shape[0],X_test_num.shape[1],1))\n",
    "\n",
    "    y_test = np.asarray(y_test).astype(np.float32)\n",
    "    \n",
    "    \n",
    "    X_val_emb = np.asarray(X_val_emb).astype(np.float32)\n",
    "    X_val_emb = np.reshape(X_val_emb,(X_val_emb.shape[0],X_val_emb.shape[1],1))\n",
    "    X_val_num = np.asarray(X_val_num).astype(np.float32)\n",
    "    X_val_num = np.reshape(X_val_num,(X_val_num.shape[0],X_val_num.shape[1],1))\n",
    "\n",
    "    y_val = np.asarray(y_val).astype(np.float32)\n",
    "\n",
    "    model.fit(\n",
    "    x=[X_train_num, X_train_emb], y=y_train,\n",
    "    validation_data=([X_val_num, X_val_emb], y_val),\n",
    "    epochs=2, batch_size = 1,\n",
    "    callbacks = [reduceLR,earlystopping])\n",
    "\n",
    "    y_pred = model.predict([X_test_num, X_test_emb])\n",
    "    val_pred = model.predict([X_val_num, X_val_emb])\n",
    "    \n",
    "    preds['val_preds'].append(val_pred)\n",
    "    preds['test_preds'].append(y_pred)\n",
    "    mape['val_mape'].append(mean_absolute_percentage_error(y_val, val_pred))\n",
    "    mape['test_mape'].append(mean_absolute_percentage_error(y_test,y_pred))\n",
    "    \"\"\"\n",
    "\n",
    "    preds['val_preds'].append(np.exp(val_pred))\n",
    "    preds['test_preds'].append(np.exp(y_pred))\n",
    "    mape['val_mape'].append(mean_absolute_percentage_error(np.exp(y_val), np.exp(val_pred)))\n",
    "    mape['test_mape'].append(mean_absolute_percentage_error(np.exp(y_test), np.exp(y_pred)))\n",
    "    \"\"\"\n",
    "    for m, arg in enumerate(zip(mape['val_mape'], mape['test_mape']), 1):\n",
    "            print(f'{m}월\\t', '[val]:', arg[0], '\\t[test]', arg[1]) \n",
    "\n"
   ]
  },
  {
   "cell_type": "markdown",
   "metadata": {
    "colab_type": "text",
    "id": "mTO9A1CawQXR"
   },
   "source": [
    "최종 Model MAPE"
   ]
  },
  {
   "cell_type": "code",
   "execution_count": null,
   "metadata": {
    "colab": {},
    "colab_type": "code",
    "id": "--7f7FQas0EU"
   },
   "outputs": [],
   "source": [
    "import matplotlib.pyplot as plt\n",
    "import seaborn as sns\n",
    "%matplotlib inline\n",
    "plt.style.use('seaborn')\n",
    "plt.rc('font', family='Malgun Gothic')\n",
    "plt.rc('axes', unicode_minus=False)\n",
    "\n",
    "plt.figure(figsize = (10, 5))\n",
    "plt.plot(mape['val_mape'])\n",
    "plt.plot(mape['test_mape'])\n",
    "plt.xlabel('Month', fontsize = 14)\n",
    "plt.title('MAPE', fontsize = 15)\n",
    "plt.legend(['valid', 'test'])\n",
    "plt.xticks(np.arange(0,12), np.arange(1,13))\n",
    "plt.show()"
   ]
  },
  {
   "cell_type": "code",
   "execution_count": null,
   "metadata": {
    "colab": {},
    "colab_type": "code",
    "id": "M4W1GWHJ_Sfl"
   },
   "outputs": [],
   "source": [
    "print(mape['val_mape'])\n",
    "print(mape['test_mape'])"
   ]
  },
  {
   "cell_type": "code",
   "execution_count": null,
   "metadata": {
    "colab": {},
    "colab_type": "code",
    "executionInfo": {
     "elapsed": 133340,
     "status": "aborted",
     "timestamp": 1599983232178,
     "user": {
      "displayName": "shin minjung",
      "photoUrl": "",
      "userId": "09743716370324277104"
     },
     "user_tz": -540
    },
    "id": "MTIUNK-SthyY"
   },
   "outputs": [],
   "source": [
    " np.mean(mape['val_mape']), np.mean(mape['test_mape'])"
   ]
  },
  {
   "cell_type": "code",
   "execution_count": null,
   "metadata": {
    "colab": {},
    "colab_type": "code",
    "executionInfo": {
     "elapsed": 132826,
     "status": "aborted",
     "timestamp": 1599983232179,
     "user": {
      "displayName": "shin minjung",
      "photoUrl": "",
      "userId": "09743716370324277104"
     },
     "user_tz": -540
    },
    "id": "b8ev85k8_dxg"
   },
   "outputs": [],
   "source": []
  }
 ],
 "metadata": {
  "accelerator": "GPU",
  "colab": {
   "collapsed_sections": [],
   "machine_shape": "hm",
   "name": "feature줄인버전STD.ipynb",
   "provenance": []
  },
  "kernelspec": {
   "display_name": "Python 3",
   "language": "python",
   "name": "python3"
  },
  "language_info": {
   "codemirror_mode": {
    "name": "ipython",
    "version": 3
   },
   "file_extension": ".py",
   "mimetype": "text/x-python",
   "name": "python",
   "nbconvert_exporter": "python",
   "pygments_lexer": "ipython3",
   "version": "3.7.4"
  }
 },
 "nbformat": 4,
 "nbformat_minor": 1
}
