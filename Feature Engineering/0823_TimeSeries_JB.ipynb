{
 "metadata": {
  "language_info": {
   "codemirror_mode": {
    "name": "ipython",
    "version": 3
   },
   "file_extension": ".py",
   "mimetype": "text/x-python",
   "name": "python",
   "nbconvert_exporter": "python",
   "pygments_lexer": "ipython3",
   "version": "3.6.8-candidate"
  },
  "orig_nbformat": 2,
  "kernelspec": {
   "name": "python_defaultSpec_1598176963622",
   "display_name": "Python 3.6.8 64-bit ('jbeen': virtualenv)"
  }
 },
 "nbformat": 4,
 "nbformat_minor": 2,
 "cells": [
  {
   "cell_type": "markdown",
   "metadata": {},
   "source": [
    "# Time Series Feature"
   ]
  },
  {
   "cell_type": "code",
   "execution_count": 1,
   "metadata": {},
   "outputs": [],
   "source": [
    "import os \n",
    "import datetime"
   ]
  },
  {
   "cell_type": "code",
   "execution_count": 2,
   "metadata": {},
   "outputs": [],
   "source": [
    "%matplotlib inline \n",
    "\n",
    "import pandas as pd\n",
    "import numpy as np\n",
    "import matplotlib.pyplot as plt\n",
    "import seaborn as sns"
   ]
  },
  {
   "cell_type": "code",
   "execution_count": 3,
   "metadata": {},
   "outputs": [],
   "source": [
    "plt.style.use('seaborn') \n",
    "plt.rc('font', family='Malgun Gothic')\n",
    "plt.rc('axes', unicode_minus=False)"
   ]
  },
  {
   "cell_type": "markdown",
   "metadata": {},
   "source": [
    "## Data Load "
   ]
  },
  {
   "cell_type": "code",
   "execution_count": null,
   "metadata": {},
   "outputs": [],
   "source": [
    "sale = pd.read_excel(os.path.join('..', '0.Data', '01_제공데이터', 'sale_data_v03_0820.xlsx'))\n",
    "meta = pd.read_excel(os.path.join('..', '0.Data', '01_제공데이터', 'sale_meta_v03_0820.xlsx'))\n",
    "item = pd.read_excel(os.path.join('..', '0.Data', '01_제공데이터', 'item_meta_v02_0820.xlsx'))"
   ]
  },
  {
   "cell_type": "code",
   "execution_count": 6,
   "metadata": {},
   "outputs": [
    {
     "output_type": "execute_result",
     "data": {
      "text/plain": "((38309, 15), (2042, 14), (1364, 2))"
     },
     "metadata": {},
     "execution_count": 6
    }
   ],
   "source": [
    "sale.shape, meta.shape, item.shape"
   ]
  },
  {
   "cell_type": "code",
   "execution_count": 44,
   "metadata": {},
   "outputs": [
    {
     "output_type": "execute_result",
     "data": {
      "text/plain": "                 방송일시  노출(분)    마더코드    상품코드            상품명 상품군   판매단가  \\\n0 2019-01-01 06:00:00   20.0  100346  201072  테이트 남성 셀린니트3종  의류  39900   \n1 2019-01-01 06:00:00    NaN  100346  201079  테이트 여성 셀린니트3종  의류  39900   \n2 2019-01-01 06:20:00   20.0  100346  201072  테이트 남성 셀린니트3종  의류  39900   \n3 2019-01-01 06:20:00    NaN  100346  201079  테이트 여성 셀린니트3종  의류  39900   \n4 2019-01-01 06:40:00   20.0  100346  201072  테이트 남성 셀린니트3종  의류  39900   \n\n         취급액  NEW상품코드          NEW상품명  결제방법  단위  브랜드   옵션 종류  \n0  2099000.0    865.0  테이트 남성 셀린니트 3종   0.0  3종  테이트  NaN  0  \n1  4371000.0    866.0  테이트 여성 셀린니트 3종   0.0  3종  테이트  NaN  0  \n2  3262000.0    865.0  테이트 남성 셀린니트 3종   0.0  3종  테이트  NaN  0  \n3  6955000.0    866.0  테이트 여성 셀린니트 3종   0.0  3종  테이트  NaN  0  \n4  6672000.0    865.0  테이트 남성 셀린니트 3종   0.0  3종  테이트  NaN  0  ",
      "text/html": "<div>\n<style scoped>\n    .dataframe tbody tr th:only-of-type {\n        vertical-align: middle;\n    }\n\n    .dataframe tbody tr th {\n        vertical-align: top;\n    }\n\n    .dataframe thead th {\n        text-align: right;\n    }\n</style>\n<table border=\"1\" class=\"dataframe\">\n  <thead>\n    <tr style=\"text-align: right;\">\n      <th></th>\n      <th>방송일시</th>\n      <th>노출(분)</th>\n      <th>마더코드</th>\n      <th>상품코드</th>\n      <th>상품명</th>\n      <th>상품군</th>\n      <th>판매단가</th>\n      <th>취급액</th>\n      <th>NEW상품코드</th>\n      <th>NEW상품명</th>\n      <th>결제방법</th>\n      <th>단위</th>\n      <th>브랜드</th>\n      <th>옵션</th>\n      <th>종류</th>\n    </tr>\n  </thead>\n  <tbody>\n    <tr>\n      <th>0</th>\n      <td>2019-01-01 06:00:00</td>\n      <td>20.0</td>\n      <td>100346</td>\n      <td>201072</td>\n      <td>테이트 남성 셀린니트3종</td>\n      <td>의류</td>\n      <td>39900</td>\n      <td>2099000.0</td>\n      <td>865.0</td>\n      <td>테이트 남성 셀린니트 3종</td>\n      <td>0.0</td>\n      <td>3종</td>\n      <td>테이트</td>\n      <td>NaN</td>\n      <td>0</td>\n    </tr>\n    <tr>\n      <th>1</th>\n      <td>2019-01-01 06:00:00</td>\n      <td>NaN</td>\n      <td>100346</td>\n      <td>201079</td>\n      <td>테이트 여성 셀린니트3종</td>\n      <td>의류</td>\n      <td>39900</td>\n      <td>4371000.0</td>\n      <td>866.0</td>\n      <td>테이트 여성 셀린니트 3종</td>\n      <td>0.0</td>\n      <td>3종</td>\n      <td>테이트</td>\n      <td>NaN</td>\n      <td>0</td>\n    </tr>\n    <tr>\n      <th>2</th>\n      <td>2019-01-01 06:20:00</td>\n      <td>20.0</td>\n      <td>100346</td>\n      <td>201072</td>\n      <td>테이트 남성 셀린니트3종</td>\n      <td>의류</td>\n      <td>39900</td>\n      <td>3262000.0</td>\n      <td>865.0</td>\n      <td>테이트 남성 셀린니트 3종</td>\n      <td>0.0</td>\n      <td>3종</td>\n      <td>테이트</td>\n      <td>NaN</td>\n      <td>0</td>\n    </tr>\n    <tr>\n      <th>3</th>\n      <td>2019-01-01 06:20:00</td>\n      <td>NaN</td>\n      <td>100346</td>\n      <td>201079</td>\n      <td>테이트 여성 셀린니트3종</td>\n      <td>의류</td>\n      <td>39900</td>\n      <td>6955000.0</td>\n      <td>866.0</td>\n      <td>테이트 여성 셀린니트 3종</td>\n      <td>0.0</td>\n      <td>3종</td>\n      <td>테이트</td>\n      <td>NaN</td>\n      <td>0</td>\n    </tr>\n    <tr>\n      <th>4</th>\n      <td>2019-01-01 06:40:00</td>\n      <td>20.0</td>\n      <td>100346</td>\n      <td>201072</td>\n      <td>테이트 남성 셀린니트3종</td>\n      <td>의류</td>\n      <td>39900</td>\n      <td>6672000.0</td>\n      <td>865.0</td>\n      <td>테이트 남성 셀린니트 3종</td>\n      <td>0.0</td>\n      <td>3종</td>\n      <td>테이트</td>\n      <td>NaN</td>\n      <td>0</td>\n    </tr>\n  </tbody>\n</table>\n</div>"
     },
     "metadata": {},
     "execution_count": 44
    }
   ],
   "source": [
    "sale.head()"
   ]
  },
  {
   "cell_type": "code",
   "execution_count": 7,
   "metadata": {},
   "outputs": [
    {
     "output_type": "execute_result",
     "data": {
      "text/plain": "                 방송일시  노출(분)    마더코드    상품코드            상품명 상품군   판매단가  \\\n0 2019-01-01 06:00:00   20.0  100346  201072  테이트 남성 셀린니트3종  의류  39900   \n1 2019-01-01 06:00:00    NaN  100346  201079  테이트 여성 셀린니트3종  의류  39900   \n2 2019-01-01 06:20:00   20.0  100346  201072  테이트 남성 셀린니트3종  의류  39900   \n3 2019-01-01 06:20:00    NaN  100346  201079  테이트 여성 셀린니트3종  의류  39900   \n4 2019-01-01 06:40:00   20.0  100346  201072  테이트 남성 셀린니트3종  의류  39900   \n\n         취급액  NEW상품코드          NEW상품명  결제방법  단위  브랜드   옵션 종류  \n0  2099000.0    865.0  테이트 남성 셀린니트 3종   0.0  3종  테이트  NaN  0  \n1  4371000.0    866.0  테이트 여성 셀린니트 3종   0.0  3종  테이트  NaN  0  \n2  3262000.0    865.0  테이트 남성 셀린니트 3종   0.0  3종  테이트  NaN  0  \n3  6955000.0    866.0  테이트 여성 셀린니트 3종   0.0  3종  테이트  NaN  0  \n4  6672000.0    865.0  테이트 남성 셀린니트 3종   0.0  3종  테이트  NaN  0  ",
      "text/html": "<div>\n<style scoped>\n    .dataframe tbody tr th:only-of-type {\n        vertical-align: middle;\n    }\n\n    .dataframe tbody tr th {\n        vertical-align: top;\n    }\n\n    .dataframe thead th {\n        text-align: right;\n    }\n</style>\n<table border=\"1\" class=\"dataframe\">\n  <thead>\n    <tr style=\"text-align: right;\">\n      <th></th>\n      <th>방송일시</th>\n      <th>노출(분)</th>\n      <th>마더코드</th>\n      <th>상품코드</th>\n      <th>상품명</th>\n      <th>상품군</th>\n      <th>판매단가</th>\n      <th>취급액</th>\n      <th>NEW상품코드</th>\n      <th>NEW상품명</th>\n      <th>결제방법</th>\n      <th>단위</th>\n      <th>브랜드</th>\n      <th>옵션</th>\n      <th>종류</th>\n    </tr>\n  </thead>\n  <tbody>\n    <tr>\n      <th>0</th>\n      <td>2019-01-01 06:00:00</td>\n      <td>20.0</td>\n      <td>100346</td>\n      <td>201072</td>\n      <td>테이트 남성 셀린니트3종</td>\n      <td>의류</td>\n      <td>39900</td>\n      <td>2099000.0</td>\n      <td>865.0</td>\n      <td>테이트 남성 셀린니트 3종</td>\n      <td>0.0</td>\n      <td>3종</td>\n      <td>테이트</td>\n      <td>NaN</td>\n      <td>0</td>\n    </tr>\n    <tr>\n      <th>1</th>\n      <td>2019-01-01 06:00:00</td>\n      <td>NaN</td>\n      <td>100346</td>\n      <td>201079</td>\n      <td>테이트 여성 셀린니트3종</td>\n      <td>의류</td>\n      <td>39900</td>\n      <td>4371000.0</td>\n      <td>866.0</td>\n      <td>테이트 여성 셀린니트 3종</td>\n      <td>0.0</td>\n      <td>3종</td>\n      <td>테이트</td>\n      <td>NaN</td>\n      <td>0</td>\n    </tr>\n    <tr>\n      <th>2</th>\n      <td>2019-01-01 06:20:00</td>\n      <td>20.0</td>\n      <td>100346</td>\n      <td>201072</td>\n      <td>테이트 남성 셀린니트3종</td>\n      <td>의류</td>\n      <td>39900</td>\n      <td>3262000.0</td>\n      <td>865.0</td>\n      <td>테이트 남성 셀린니트 3종</td>\n      <td>0.0</td>\n      <td>3종</td>\n      <td>테이트</td>\n      <td>NaN</td>\n      <td>0</td>\n    </tr>\n    <tr>\n      <th>3</th>\n      <td>2019-01-01 06:20:00</td>\n      <td>NaN</td>\n      <td>100346</td>\n      <td>201079</td>\n      <td>테이트 여성 셀린니트3종</td>\n      <td>의류</td>\n      <td>39900</td>\n      <td>6955000.0</td>\n      <td>866.0</td>\n      <td>테이트 여성 셀린니트 3종</td>\n      <td>0.0</td>\n      <td>3종</td>\n      <td>테이트</td>\n      <td>NaN</td>\n      <td>0</td>\n    </tr>\n    <tr>\n      <th>4</th>\n      <td>2019-01-01 06:40:00</td>\n      <td>20.0</td>\n      <td>100346</td>\n      <td>201072</td>\n      <td>테이트 남성 셀린니트3종</td>\n      <td>의류</td>\n      <td>39900</td>\n      <td>6672000.0</td>\n      <td>865.0</td>\n      <td>테이트 남성 셀린니트 3종</td>\n      <td>0.0</td>\n      <td>3종</td>\n      <td>테이트</td>\n      <td>NaN</td>\n      <td>0</td>\n    </tr>\n  </tbody>\n</table>\n</div>"
     },
     "metadata": {},
     "execution_count": 7
    }
   ],
   "source": [
    "sale.head()"
   ]
  },
  {
   "cell_type": "code",
   "execution_count": 45,
   "metadata": {},
   "outputs": [],
   "source": [
    "def product_timelag(df) :\n",
    "    df[\"동일상품시간차\"] = df.groupby([\"NEW상품명\"])[\"방송일시\"].diff()\n",
    "    return df"
   ]
  },
  {
   "cell_type": "code",
   "execution_count": 47,
   "metadata": {},
   "outputs": [
    {
     "output_type": "execute_result",
     "data": {
      "text/plain": "                     방송일시      노출(분)    마더코드    상품코드  \\\n0     2019-01-01 06:00:00  20.000000  100346  201072   \n1     2019-01-01 06:00:00        NaN  100346  201079   \n2     2019-01-01 06:20:00  20.000000  100346  201072   \n3     2019-01-01 06:20:00        NaN  100346  201079   \n4     2019-01-01 06:40:00  20.000000  100346  201072   \n...                   ...        ...     ...     ...   \n38304 2020-01-01 00:20:00  20.000000  100073  200196   \n38305 2020-01-01 00:40:00  20.000000  100073  200196   \n38306 2020-01-01 01:00:00  20.000000  100073  200196   \n38307 2020-01-01 01:20:00  20.000000  100490  201478   \n38308 2020-01-01 01:40:00  17.166667  100490  201478   \n\n                            상품명 상품군   판매단가        취급액  NEW상품코드  \\\n0                 테이트 남성 셀린니트3종  의류  39900  2099000.0    865.0   \n1                 테이트 여성 셀린니트3종  의류  39900  4371000.0    866.0   \n2                 테이트 남성 셀린니트3종  의류  39900  3262000.0    865.0   \n3                 테이트 여성 셀린니트3종  의류  39900  6955000.0    866.0   \n4                 테이트 남성 셀린니트3종  의류  39900  6672000.0    865.0   \n...                         ...  ..    ...        ...      ...   \n38304  삼성화재 행복한파트너 주택화재보험(1912)  무형      0        0.0      NaN   \n38305  삼성화재 행복한파트너 주택화재보험(1912)  무형      0        0.0      NaN   \n38306  삼성화재 행복한파트너 주택화재보험(1912)  무형      0        0.0      NaN   \n38307        더케이 예다함 상조서비스(티포트)  무형      0        0.0      NaN   \n38308        더케이 예다함 상조서비스(티포트)  무형      0        0.0      NaN   \n\n               NEW상품명  결제방법   단위  브랜드   옵션   종류  동일상품시간차  \n0      테이트 남성 셀린니트 3종   0.0   3종  테이트  NaN    0      NaT  \n1      테이트 여성 셀린니트 3종   0.0   3종  테이트  NaN    0      NaT  \n2      테이트 남성 셀린니트 3종   0.0   3종  테이트  NaN    0 00:20:00  \n3      테이트 여성 셀린니트 3종   0.0   3종  테이트  NaN    0 00:20:00  \n4      테이트 남성 셀린니트 3종   0.0   3종  테이트  NaN    0 00:20:00  \n...               ...   ...  ...  ...  ...  ...      ...  \n38304             NaN   NaN  NaN  NaN  NaN  NaN      NaT  \n38305             NaN   NaN  NaN  NaN  NaN  NaN      NaT  \n38306             NaN   NaN  NaN  NaN  NaN  NaN      NaT  \n38307             NaN   NaN  NaN  NaN  NaN  NaN      NaT  \n38308             NaN   NaN  NaN  NaN  NaN  NaN      NaT  \n\n[38309 rows x 16 columns]",
      "text/html": "<div>\n<style scoped>\n    .dataframe tbody tr th:only-of-type {\n        vertical-align: middle;\n    }\n\n    .dataframe tbody tr th {\n        vertical-align: top;\n    }\n\n    .dataframe thead th {\n        text-align: right;\n    }\n</style>\n<table border=\"1\" class=\"dataframe\">\n  <thead>\n    <tr style=\"text-align: right;\">\n      <th></th>\n      <th>방송일시</th>\n      <th>노출(분)</th>\n      <th>마더코드</th>\n      <th>상품코드</th>\n      <th>상품명</th>\n      <th>상품군</th>\n      <th>판매단가</th>\n      <th>취급액</th>\n      <th>NEW상품코드</th>\n      <th>NEW상품명</th>\n      <th>결제방법</th>\n      <th>단위</th>\n      <th>브랜드</th>\n      <th>옵션</th>\n      <th>종류</th>\n      <th>동일상품시간차</th>\n    </tr>\n  </thead>\n  <tbody>\n    <tr>\n      <th>0</th>\n      <td>2019-01-01 06:00:00</td>\n      <td>20.000000</td>\n      <td>100346</td>\n      <td>201072</td>\n      <td>테이트 남성 셀린니트3종</td>\n      <td>의류</td>\n      <td>39900</td>\n      <td>2099000.0</td>\n      <td>865.0</td>\n      <td>테이트 남성 셀린니트 3종</td>\n      <td>0.0</td>\n      <td>3종</td>\n      <td>테이트</td>\n      <td>NaN</td>\n      <td>0</td>\n      <td>NaT</td>\n    </tr>\n    <tr>\n      <th>1</th>\n      <td>2019-01-01 06:00:00</td>\n      <td>NaN</td>\n      <td>100346</td>\n      <td>201079</td>\n      <td>테이트 여성 셀린니트3종</td>\n      <td>의류</td>\n      <td>39900</td>\n      <td>4371000.0</td>\n      <td>866.0</td>\n      <td>테이트 여성 셀린니트 3종</td>\n      <td>0.0</td>\n      <td>3종</td>\n      <td>테이트</td>\n      <td>NaN</td>\n      <td>0</td>\n      <td>NaT</td>\n    </tr>\n    <tr>\n      <th>2</th>\n      <td>2019-01-01 06:20:00</td>\n      <td>20.000000</td>\n      <td>100346</td>\n      <td>201072</td>\n      <td>테이트 남성 셀린니트3종</td>\n      <td>의류</td>\n      <td>39900</td>\n      <td>3262000.0</td>\n      <td>865.0</td>\n      <td>테이트 남성 셀린니트 3종</td>\n      <td>0.0</td>\n      <td>3종</td>\n      <td>테이트</td>\n      <td>NaN</td>\n      <td>0</td>\n      <td>00:20:00</td>\n    </tr>\n    <tr>\n      <th>3</th>\n      <td>2019-01-01 06:20:00</td>\n      <td>NaN</td>\n      <td>100346</td>\n      <td>201079</td>\n      <td>테이트 여성 셀린니트3종</td>\n      <td>의류</td>\n      <td>39900</td>\n      <td>6955000.0</td>\n      <td>866.0</td>\n      <td>테이트 여성 셀린니트 3종</td>\n      <td>0.0</td>\n      <td>3종</td>\n      <td>테이트</td>\n      <td>NaN</td>\n      <td>0</td>\n      <td>00:20:00</td>\n    </tr>\n    <tr>\n      <th>4</th>\n      <td>2019-01-01 06:40:00</td>\n      <td>20.000000</td>\n      <td>100346</td>\n      <td>201072</td>\n      <td>테이트 남성 셀린니트3종</td>\n      <td>의류</td>\n      <td>39900</td>\n      <td>6672000.0</td>\n      <td>865.0</td>\n      <td>테이트 남성 셀린니트 3종</td>\n      <td>0.0</td>\n      <td>3종</td>\n      <td>테이트</td>\n      <td>NaN</td>\n      <td>0</td>\n      <td>00:20:00</td>\n    </tr>\n    <tr>\n      <th>...</th>\n      <td>...</td>\n      <td>...</td>\n      <td>...</td>\n      <td>...</td>\n      <td>...</td>\n      <td>...</td>\n      <td>...</td>\n      <td>...</td>\n      <td>...</td>\n      <td>...</td>\n      <td>...</td>\n      <td>...</td>\n      <td>...</td>\n      <td>...</td>\n      <td>...</td>\n      <td>...</td>\n    </tr>\n    <tr>\n      <th>38304</th>\n      <td>2020-01-01 00:20:00</td>\n      <td>20.000000</td>\n      <td>100073</td>\n      <td>200196</td>\n      <td>삼성화재 행복한파트너 주택화재보험(1912)</td>\n      <td>무형</td>\n      <td>0</td>\n      <td>0.0</td>\n      <td>NaN</td>\n      <td>NaN</td>\n      <td>NaN</td>\n      <td>NaN</td>\n      <td>NaN</td>\n      <td>NaN</td>\n      <td>NaN</td>\n      <td>NaT</td>\n    </tr>\n    <tr>\n      <th>38305</th>\n      <td>2020-01-01 00:40:00</td>\n      <td>20.000000</td>\n      <td>100073</td>\n      <td>200196</td>\n      <td>삼성화재 행복한파트너 주택화재보험(1912)</td>\n      <td>무형</td>\n      <td>0</td>\n      <td>0.0</td>\n      <td>NaN</td>\n      <td>NaN</td>\n      <td>NaN</td>\n      <td>NaN</td>\n      <td>NaN</td>\n      <td>NaN</td>\n      <td>NaN</td>\n      <td>NaT</td>\n    </tr>\n    <tr>\n      <th>38306</th>\n      <td>2020-01-01 01:00:00</td>\n      <td>20.000000</td>\n      <td>100073</td>\n      <td>200196</td>\n      <td>삼성화재 행복한파트너 주택화재보험(1912)</td>\n      <td>무형</td>\n      <td>0</td>\n      <td>0.0</td>\n      <td>NaN</td>\n      <td>NaN</td>\n      <td>NaN</td>\n      <td>NaN</td>\n      <td>NaN</td>\n      <td>NaN</td>\n      <td>NaN</td>\n      <td>NaT</td>\n    </tr>\n    <tr>\n      <th>38307</th>\n      <td>2020-01-01 01:20:00</td>\n      <td>20.000000</td>\n      <td>100490</td>\n      <td>201478</td>\n      <td>더케이 예다함 상조서비스(티포트)</td>\n      <td>무형</td>\n      <td>0</td>\n      <td>0.0</td>\n      <td>NaN</td>\n      <td>NaN</td>\n      <td>NaN</td>\n      <td>NaN</td>\n      <td>NaN</td>\n      <td>NaN</td>\n      <td>NaN</td>\n      <td>NaT</td>\n    </tr>\n    <tr>\n      <th>38308</th>\n      <td>2020-01-01 01:40:00</td>\n      <td>17.166667</td>\n      <td>100490</td>\n      <td>201478</td>\n      <td>더케이 예다함 상조서비스(티포트)</td>\n      <td>무형</td>\n      <td>0</td>\n      <td>0.0</td>\n      <td>NaN</td>\n      <td>NaN</td>\n      <td>NaN</td>\n      <td>NaN</td>\n      <td>NaN</td>\n      <td>NaN</td>\n      <td>NaN</td>\n      <td>NaT</td>\n    </tr>\n  </tbody>\n</table>\n<p>38309 rows × 16 columns</p>\n</div>"
     },
     "metadata": {},
     "execution_count": 47
    }
   ],
   "source": [
    "product_timelag(sale)"
   ]
  },
  {
   "cell_type": "markdown",
   "metadata": {},
   "source": [
    "### 2. 동일 상품 / 브랜드 총 판매횟수\n",
    "* NEW상품명 기준 "
   ]
  },
  {
   "cell_type": "code",
   "execution_count": 48,
   "metadata": {},
   "outputs": [],
   "source": [
    "def sales_count(df) : \n",
    "    df[\"상품총판매횟수\"] = df.groupby([\"NEW상품명\"])[\"방송일시\"].transform('size')\n",
    "    df[\"브랜드총판매횟수\"] = df.groupby([\"브랜드\"])[\"방송일시\"].transform('size')\n",
    "    return df"
   ]
  },
  {
   "cell_type": "code",
   "execution_count": 49,
   "metadata": {},
   "outputs": [
    {
     "output_type": "execute_result",
     "data": {
      "text/plain": "                     방송일시      노출(분)    마더코드    상품코드  \\\n0     2019-01-01 06:00:00  20.000000  100346  201072   \n1     2019-01-01 06:00:00        NaN  100346  201079   \n2     2019-01-01 06:20:00  20.000000  100346  201072   \n3     2019-01-01 06:20:00        NaN  100346  201079   \n4     2019-01-01 06:40:00  20.000000  100346  201072   \n...                   ...        ...     ...     ...   \n38304 2020-01-01 00:20:00  20.000000  100073  200196   \n38305 2020-01-01 00:40:00  20.000000  100073  200196   \n38306 2020-01-01 01:00:00  20.000000  100073  200196   \n38307 2020-01-01 01:20:00  20.000000  100490  201478   \n38308 2020-01-01 01:40:00  17.166667  100490  201478   \n\n                            상품명 상품군   판매단가        취급액  NEW상품코드  \\\n0                 테이트 남성 셀린니트3종  의류  39900  2099000.0    865.0   \n1                 테이트 여성 셀린니트3종  의류  39900  4371000.0    866.0   \n2                 테이트 남성 셀린니트3종  의류  39900  3262000.0    865.0   \n3                 테이트 여성 셀린니트3종  의류  39900  6955000.0    866.0   \n4                 테이트 남성 셀린니트3종  의류  39900  6672000.0    865.0   \n...                         ...  ..    ...        ...      ...   \n38304  삼성화재 행복한파트너 주택화재보험(1912)  무형      0        0.0      NaN   \n38305  삼성화재 행복한파트너 주택화재보험(1912)  무형      0        0.0      NaN   \n38306  삼성화재 행복한파트너 주택화재보험(1912)  무형      0        0.0      NaN   \n38307        더케이 예다함 상조서비스(티포트)  무형      0        0.0      NaN   \n38308        더케이 예다함 상조서비스(티포트)  무형      0        0.0      NaN   \n\n               NEW상품명  결제방법   단위  브랜드   옵션   종류  동일상품시간차  상품총판매횟수  브랜드총판매횟수  \n0      테이트 남성 셀린니트 3종   0.0   3종  테이트  NaN    0      NaT      5.0     121.0  \n1      테이트 여성 셀린니트 3종   0.0   3종  테이트  NaN    0      NaT      5.0     121.0  \n2      테이트 남성 셀린니트 3종   0.0   3종  테이트  NaN    0 00:20:00      5.0     121.0  \n3      테이트 여성 셀린니트 3종   0.0   3종  테이트  NaN    0 00:20:00      5.0     121.0  \n4      테이트 남성 셀린니트 3종   0.0   3종  테이트  NaN    0 00:20:00      5.0     121.0  \n...               ...   ...  ...  ...  ...  ...      ...      ...       ...  \n38304             NaN   NaN  NaN  NaN  NaN  NaN      NaT      NaN       NaN  \n38305             NaN   NaN  NaN  NaN  NaN  NaN      NaT      NaN       NaN  \n38306             NaN   NaN  NaN  NaN  NaN  NaN      NaT      NaN       NaN  \n38307             NaN   NaN  NaN  NaN  NaN  NaN      NaT      NaN       NaN  \n38308             NaN   NaN  NaN  NaN  NaN  NaN      NaT      NaN       NaN  \n\n[38309 rows x 18 columns]",
      "text/html": "<div>\n<style scoped>\n    .dataframe tbody tr th:only-of-type {\n        vertical-align: middle;\n    }\n\n    .dataframe tbody tr th {\n        vertical-align: top;\n    }\n\n    .dataframe thead th {\n        text-align: right;\n    }\n</style>\n<table border=\"1\" class=\"dataframe\">\n  <thead>\n    <tr style=\"text-align: right;\">\n      <th></th>\n      <th>방송일시</th>\n      <th>노출(분)</th>\n      <th>마더코드</th>\n      <th>상품코드</th>\n      <th>상품명</th>\n      <th>상품군</th>\n      <th>판매단가</th>\n      <th>취급액</th>\n      <th>NEW상품코드</th>\n      <th>NEW상품명</th>\n      <th>결제방법</th>\n      <th>단위</th>\n      <th>브랜드</th>\n      <th>옵션</th>\n      <th>종류</th>\n      <th>동일상품시간차</th>\n      <th>상품총판매횟수</th>\n      <th>브랜드총판매횟수</th>\n    </tr>\n  </thead>\n  <tbody>\n    <tr>\n      <th>0</th>\n      <td>2019-01-01 06:00:00</td>\n      <td>20.000000</td>\n      <td>100346</td>\n      <td>201072</td>\n      <td>테이트 남성 셀린니트3종</td>\n      <td>의류</td>\n      <td>39900</td>\n      <td>2099000.0</td>\n      <td>865.0</td>\n      <td>테이트 남성 셀린니트 3종</td>\n      <td>0.0</td>\n      <td>3종</td>\n      <td>테이트</td>\n      <td>NaN</td>\n      <td>0</td>\n      <td>NaT</td>\n      <td>5.0</td>\n      <td>121.0</td>\n    </tr>\n    <tr>\n      <th>1</th>\n      <td>2019-01-01 06:00:00</td>\n      <td>NaN</td>\n      <td>100346</td>\n      <td>201079</td>\n      <td>테이트 여성 셀린니트3종</td>\n      <td>의류</td>\n      <td>39900</td>\n      <td>4371000.0</td>\n      <td>866.0</td>\n      <td>테이트 여성 셀린니트 3종</td>\n      <td>0.0</td>\n      <td>3종</td>\n      <td>테이트</td>\n      <td>NaN</td>\n      <td>0</td>\n      <td>NaT</td>\n      <td>5.0</td>\n      <td>121.0</td>\n    </tr>\n    <tr>\n      <th>2</th>\n      <td>2019-01-01 06:20:00</td>\n      <td>20.000000</td>\n      <td>100346</td>\n      <td>201072</td>\n      <td>테이트 남성 셀린니트3종</td>\n      <td>의류</td>\n      <td>39900</td>\n      <td>3262000.0</td>\n      <td>865.0</td>\n      <td>테이트 남성 셀린니트 3종</td>\n      <td>0.0</td>\n      <td>3종</td>\n      <td>테이트</td>\n      <td>NaN</td>\n      <td>0</td>\n      <td>00:20:00</td>\n      <td>5.0</td>\n      <td>121.0</td>\n    </tr>\n    <tr>\n      <th>3</th>\n      <td>2019-01-01 06:20:00</td>\n      <td>NaN</td>\n      <td>100346</td>\n      <td>201079</td>\n      <td>테이트 여성 셀린니트3종</td>\n      <td>의류</td>\n      <td>39900</td>\n      <td>6955000.0</td>\n      <td>866.0</td>\n      <td>테이트 여성 셀린니트 3종</td>\n      <td>0.0</td>\n      <td>3종</td>\n      <td>테이트</td>\n      <td>NaN</td>\n      <td>0</td>\n      <td>00:20:00</td>\n      <td>5.0</td>\n      <td>121.0</td>\n    </tr>\n    <tr>\n      <th>4</th>\n      <td>2019-01-01 06:40:00</td>\n      <td>20.000000</td>\n      <td>100346</td>\n      <td>201072</td>\n      <td>테이트 남성 셀린니트3종</td>\n      <td>의류</td>\n      <td>39900</td>\n      <td>6672000.0</td>\n      <td>865.0</td>\n      <td>테이트 남성 셀린니트 3종</td>\n      <td>0.0</td>\n      <td>3종</td>\n      <td>테이트</td>\n      <td>NaN</td>\n      <td>0</td>\n      <td>00:20:00</td>\n      <td>5.0</td>\n      <td>121.0</td>\n    </tr>\n    <tr>\n      <th>...</th>\n      <td>...</td>\n      <td>...</td>\n      <td>...</td>\n      <td>...</td>\n      <td>...</td>\n      <td>...</td>\n      <td>...</td>\n      <td>...</td>\n      <td>...</td>\n      <td>...</td>\n      <td>...</td>\n      <td>...</td>\n      <td>...</td>\n      <td>...</td>\n      <td>...</td>\n      <td>...</td>\n      <td>...</td>\n      <td>...</td>\n    </tr>\n    <tr>\n      <th>38304</th>\n      <td>2020-01-01 00:20:00</td>\n      <td>20.000000</td>\n      <td>100073</td>\n      <td>200196</td>\n      <td>삼성화재 행복한파트너 주택화재보험(1912)</td>\n      <td>무형</td>\n      <td>0</td>\n      <td>0.0</td>\n      <td>NaN</td>\n      <td>NaN</td>\n      <td>NaN</td>\n      <td>NaN</td>\n      <td>NaN</td>\n      <td>NaN</td>\n      <td>NaN</td>\n      <td>NaT</td>\n      <td>NaN</td>\n      <td>NaN</td>\n    </tr>\n    <tr>\n      <th>38305</th>\n      <td>2020-01-01 00:40:00</td>\n      <td>20.000000</td>\n      <td>100073</td>\n      <td>200196</td>\n      <td>삼성화재 행복한파트너 주택화재보험(1912)</td>\n      <td>무형</td>\n      <td>0</td>\n      <td>0.0</td>\n      <td>NaN</td>\n      <td>NaN</td>\n      <td>NaN</td>\n      <td>NaN</td>\n      <td>NaN</td>\n      <td>NaN</td>\n      <td>NaN</td>\n      <td>NaT</td>\n      <td>NaN</td>\n      <td>NaN</td>\n    </tr>\n    <tr>\n      <th>38306</th>\n      <td>2020-01-01 01:00:00</td>\n      <td>20.000000</td>\n      <td>100073</td>\n      <td>200196</td>\n      <td>삼성화재 행복한파트너 주택화재보험(1912)</td>\n      <td>무형</td>\n      <td>0</td>\n      <td>0.0</td>\n      <td>NaN</td>\n      <td>NaN</td>\n      <td>NaN</td>\n      <td>NaN</td>\n      <td>NaN</td>\n      <td>NaN</td>\n      <td>NaN</td>\n      <td>NaT</td>\n      <td>NaN</td>\n      <td>NaN</td>\n    </tr>\n    <tr>\n      <th>38307</th>\n      <td>2020-01-01 01:20:00</td>\n      <td>20.000000</td>\n      <td>100490</td>\n      <td>201478</td>\n      <td>더케이 예다함 상조서비스(티포트)</td>\n      <td>무형</td>\n      <td>0</td>\n      <td>0.0</td>\n      <td>NaN</td>\n      <td>NaN</td>\n      <td>NaN</td>\n      <td>NaN</td>\n      <td>NaN</td>\n      <td>NaN</td>\n      <td>NaN</td>\n      <td>NaT</td>\n      <td>NaN</td>\n      <td>NaN</td>\n    </tr>\n    <tr>\n      <th>38308</th>\n      <td>2020-01-01 01:40:00</td>\n      <td>17.166667</td>\n      <td>100490</td>\n      <td>201478</td>\n      <td>더케이 예다함 상조서비스(티포트)</td>\n      <td>무형</td>\n      <td>0</td>\n      <td>0.0</td>\n      <td>NaN</td>\n      <td>NaN</td>\n      <td>NaN</td>\n      <td>NaN</td>\n      <td>NaN</td>\n      <td>NaN</td>\n      <td>NaN</td>\n      <td>NaT</td>\n      <td>NaN</td>\n      <td>NaN</td>\n    </tr>\n  </tbody>\n</table>\n<p>38309 rows × 18 columns</p>\n</div>"
     },
     "metadata": {},
     "execution_count": 49
    }
   ],
   "source": [
    "sales_count(sale)"
   ]
  },
  {
   "cell_type": "markdown",
   "metadata": {},
   "source": [
    "### 3. 동일 상품 / 브랜드 총 방송횟수 \n",
    "* 판매횟수만 따지기 위해서는 원래 데이터를 봐야 하고, \n",
    "* 방송횟수를 따지기 위해서는 원래 데이터에서 '노출(분)' NaN값을 drop한 dataframe을 봐야 함 !"
   ]
  },
  {
   "cell_type": "code",
   "execution_count": 50,
   "metadata": {},
   "outputs": [],
   "source": [
    "df = sale.dropna(subset = [\"노출(분)\"]) # 21525 rows "
   ]
  },
  {
   "cell_type": "code",
   "execution_count": 51,
   "metadata": {},
   "outputs": [
    {
     "output_type": "execute_result",
     "data": {
      "text/plain": "(21525, 18)"
     },
     "metadata": {},
     "execution_count": 51
    }
   ],
   "source": [
    "df.shape"
   ]
  },
  {
   "cell_type": "code",
   "execution_count": 52,
   "metadata": {},
   "outputs": [
    {
     "output_type": "execute_result",
     "data": {
      "text/plain": "                 방송일시  노출(분)    마더코드    상품코드               상품명 상품군   판매단가  \\\n0 2019-01-01 06:00:00   20.0  100346  201072     테이트 남성 셀린니트3종  의류  39900   \n2 2019-01-01 06:20:00   20.0  100346  201072     테이트 남성 셀린니트3종  의류  39900   \n4 2019-01-01 06:40:00   20.0  100346  201072     테이트 남성 셀린니트3종  의류  39900   \n6 2019-01-01 07:00:00   20.0  100305  200974  오모떼 레이스 파운데이션 브라  속옷  59000   \n7 2019-01-01 07:20:00   20.0  100305  200974  오모떼 레이스 파운데이션 브라  속옷  59000   \n\n          취급액  NEW상품코드               NEW상품명  결제방법   단위  브랜드   옵션 종류  동일상품시간차  \\\n0   2099000.0    865.0       테이트 남성 셀린니트 3종   0.0   3종  테이트  NaN  0      NaT   \n2   3262000.0    865.0       테이트 남성 셀린니트 3종   0.0   3종  테이트  NaN  0 00:20:00   \n4   6672000.0    865.0       테이트 남성 셀린니트 3종   0.0   3종  테이트  NaN  0 00:20:00   \n6   6819000.0    632.0  오모떼 여성 레이스 파운데이션 브라   0.0  NaN  오모떼  NaN  4      NaT   \n7  15689000.0    632.0  오모떼 여성 레이스 파운데이션 브라   0.0  NaN  오모떼  NaN  4 00:20:00   \n\n   상품총판매횟수  브랜드총판매횟수  \n0      5.0     121.0  \n2      5.0     121.0  \n4      5.0     121.0  \n6     12.0     272.0  \n7     12.0     272.0  ",
      "text/html": "<div>\n<style scoped>\n    .dataframe tbody tr th:only-of-type {\n        vertical-align: middle;\n    }\n\n    .dataframe tbody tr th {\n        vertical-align: top;\n    }\n\n    .dataframe thead th {\n        text-align: right;\n    }\n</style>\n<table border=\"1\" class=\"dataframe\">\n  <thead>\n    <tr style=\"text-align: right;\">\n      <th></th>\n      <th>방송일시</th>\n      <th>노출(분)</th>\n      <th>마더코드</th>\n      <th>상품코드</th>\n      <th>상품명</th>\n      <th>상품군</th>\n      <th>판매단가</th>\n      <th>취급액</th>\n      <th>NEW상품코드</th>\n      <th>NEW상품명</th>\n      <th>결제방법</th>\n      <th>단위</th>\n      <th>브랜드</th>\n      <th>옵션</th>\n      <th>종류</th>\n      <th>동일상품시간차</th>\n      <th>상품총판매횟수</th>\n      <th>브랜드총판매횟수</th>\n    </tr>\n  </thead>\n  <tbody>\n    <tr>\n      <th>0</th>\n      <td>2019-01-01 06:00:00</td>\n      <td>20.0</td>\n      <td>100346</td>\n      <td>201072</td>\n      <td>테이트 남성 셀린니트3종</td>\n      <td>의류</td>\n      <td>39900</td>\n      <td>2099000.0</td>\n      <td>865.0</td>\n      <td>테이트 남성 셀린니트 3종</td>\n      <td>0.0</td>\n      <td>3종</td>\n      <td>테이트</td>\n      <td>NaN</td>\n      <td>0</td>\n      <td>NaT</td>\n      <td>5.0</td>\n      <td>121.0</td>\n    </tr>\n    <tr>\n      <th>2</th>\n      <td>2019-01-01 06:20:00</td>\n      <td>20.0</td>\n      <td>100346</td>\n      <td>201072</td>\n      <td>테이트 남성 셀린니트3종</td>\n      <td>의류</td>\n      <td>39900</td>\n      <td>3262000.0</td>\n      <td>865.0</td>\n      <td>테이트 남성 셀린니트 3종</td>\n      <td>0.0</td>\n      <td>3종</td>\n      <td>테이트</td>\n      <td>NaN</td>\n      <td>0</td>\n      <td>00:20:00</td>\n      <td>5.0</td>\n      <td>121.0</td>\n    </tr>\n    <tr>\n      <th>4</th>\n      <td>2019-01-01 06:40:00</td>\n      <td>20.0</td>\n      <td>100346</td>\n      <td>201072</td>\n      <td>테이트 남성 셀린니트3종</td>\n      <td>의류</td>\n      <td>39900</td>\n      <td>6672000.0</td>\n      <td>865.0</td>\n      <td>테이트 남성 셀린니트 3종</td>\n      <td>0.0</td>\n      <td>3종</td>\n      <td>테이트</td>\n      <td>NaN</td>\n      <td>0</td>\n      <td>00:20:00</td>\n      <td>5.0</td>\n      <td>121.0</td>\n    </tr>\n    <tr>\n      <th>6</th>\n      <td>2019-01-01 07:00:00</td>\n      <td>20.0</td>\n      <td>100305</td>\n      <td>200974</td>\n      <td>오모떼 레이스 파운데이션 브라</td>\n      <td>속옷</td>\n      <td>59000</td>\n      <td>6819000.0</td>\n      <td>632.0</td>\n      <td>오모떼 여성 레이스 파운데이션 브라</td>\n      <td>0.0</td>\n      <td>NaN</td>\n      <td>오모떼</td>\n      <td>NaN</td>\n      <td>4</td>\n      <td>NaT</td>\n      <td>12.0</td>\n      <td>272.0</td>\n    </tr>\n    <tr>\n      <th>7</th>\n      <td>2019-01-01 07:20:00</td>\n      <td>20.0</td>\n      <td>100305</td>\n      <td>200974</td>\n      <td>오모떼 레이스 파운데이션 브라</td>\n      <td>속옷</td>\n      <td>59000</td>\n      <td>15689000.0</td>\n      <td>632.0</td>\n      <td>오모떼 여성 레이스 파운데이션 브라</td>\n      <td>0.0</td>\n      <td>NaN</td>\n      <td>오모떼</td>\n      <td>NaN</td>\n      <td>4</td>\n      <td>00:20:00</td>\n      <td>12.0</td>\n      <td>272.0</td>\n    </tr>\n  </tbody>\n</table>\n</div>"
     },
     "metadata": {},
     "execution_count": 52
    }
   ],
   "source": [
    "df.head()"
   ]
  },
  {
   "cell_type": "code",
   "execution_count": 53,
   "metadata": {},
   "outputs": [
    {
     "output_type": "execute_result",
     "data": {
      "text/plain": "(38309, 18)"
     },
     "metadata": {},
     "execution_count": 53
    }
   ],
   "source": [
    "sale.shape"
   ]
  },
  {
   "cell_type": "code",
   "execution_count": 57,
   "metadata": {},
   "outputs": [],
   "source": [
    "def broadcast_count(df) : \n",
    "    onair = df.dropna(subset = [\"노출(분)\"]) # 21525 rows\n",
    "\n",
    "    onair[\"상품총방송횟수\"] = onair.groupby([\"NEW상품명\"])[\"방송일시\"].transform('size')\n",
    "    onair[\"브랜드총방송횟수\"] = onair.groupby([\"브랜드\"])[\"방송일시\"].transform('size')\n",
    "\n",
    "    final = pd.merge(df, onair[[\"브랜드\", '브랜드총방송횟수']].drop_duplicates(), on = \"브랜드\", how=\"left\")\n",
    "\n",
    "    return final "
   ]
  },
  {
   "cell_type": "code",
   "execution_count": 58,
   "metadata": {},
   "outputs": [
    {
     "output_type": "execute_result",
     "data": {
      "text/plain": "                     방송일시      노출(분)    마더코드    상품코드  \\\n0     2019-01-01 06:00:00  20.000000  100346  201072   \n1     2019-01-01 06:00:00        NaN  100346  201079   \n2     2019-01-01 06:20:00  20.000000  100346  201072   \n3     2019-01-01 06:20:00        NaN  100346  201079   \n4     2019-01-01 06:40:00  20.000000  100346  201072   \n...                   ...        ...     ...     ...   \n38304 2020-01-01 00:20:00  20.000000  100073  200196   \n38305 2020-01-01 00:40:00  20.000000  100073  200196   \n38306 2020-01-01 01:00:00  20.000000  100073  200196   \n38307 2020-01-01 01:20:00  20.000000  100490  201478   \n38308 2020-01-01 01:40:00  17.166667  100490  201478   \n\n                            상품명 상품군   판매단가        취급액  NEW상품코드  \\\n0                 테이트 남성 셀린니트3종  의류  39900  2099000.0    865.0   \n1                 테이트 여성 셀린니트3종  의류  39900  4371000.0    866.0   \n2                 테이트 남성 셀린니트3종  의류  39900  3262000.0    865.0   \n3                 테이트 여성 셀린니트3종  의류  39900  6955000.0    866.0   \n4                 테이트 남성 셀린니트3종  의류  39900  6672000.0    865.0   \n...                         ...  ..    ...        ...      ...   \n38304  삼성화재 행복한파트너 주택화재보험(1912)  무형      0        0.0      NaN   \n38305  삼성화재 행복한파트너 주택화재보험(1912)  무형      0        0.0      NaN   \n38306  삼성화재 행복한파트너 주택화재보험(1912)  무형      0        0.0      NaN   \n38307        더케이 예다함 상조서비스(티포트)  무형      0        0.0      NaN   \n38308        더케이 예다함 상조서비스(티포트)  무형      0        0.0      NaN   \n\n               NEW상품명  결제방법   단위  브랜드   옵션   종류  동일상품시간차  상품총판매횟수  브랜드총판매횟수  \\\n0      테이트 남성 셀린니트 3종   0.0   3종  테이트  NaN    0      NaT      5.0     121.0   \n1      테이트 여성 셀린니트 3종   0.0   3종  테이트  NaN    0      NaT      5.0     121.0   \n2      테이트 남성 셀린니트 3종   0.0   3종  테이트  NaN    0 00:20:00      5.0     121.0   \n3      테이트 여성 셀린니트 3종   0.0   3종  테이트  NaN    0 00:20:00      5.0     121.0   \n4      테이트 남성 셀린니트 3종   0.0   3종  테이트  NaN    0 00:20:00      5.0     121.0   \n...               ...   ...  ...  ...  ...  ...      ...      ...       ...   \n38304             NaN   NaN  NaN  NaN  NaN  NaN      NaT      NaN       NaN   \n38305             NaN   NaN  NaN  NaN  NaN  NaN      NaT      NaN       NaN   \n38306             NaN   NaN  NaN  NaN  NaN  NaN      NaT      NaN       NaN   \n38307             NaN   NaN  NaN  NaN  NaN  NaN      NaT      NaN       NaN   \n38308             NaN   NaN  NaN  NaN  NaN  NaN      NaT      NaN       NaN   \n\n       브랜드총방송횟수  \n0          62.0  \n1          62.0  \n2          62.0  \n3          62.0  \n4          62.0  \n...         ...  \n38304       NaN  \n38305       NaN  \n38306       NaN  \n38307       NaN  \n38308       NaN  \n\n[38309 rows x 19 columns]",
      "text/html": "<div>\n<style scoped>\n    .dataframe tbody tr th:only-of-type {\n        vertical-align: middle;\n    }\n\n    .dataframe tbody tr th {\n        vertical-align: top;\n    }\n\n    .dataframe thead th {\n        text-align: right;\n    }\n</style>\n<table border=\"1\" class=\"dataframe\">\n  <thead>\n    <tr style=\"text-align: right;\">\n      <th></th>\n      <th>방송일시</th>\n      <th>노출(분)</th>\n      <th>마더코드</th>\n      <th>상품코드</th>\n      <th>상품명</th>\n      <th>상품군</th>\n      <th>판매단가</th>\n      <th>취급액</th>\n      <th>NEW상품코드</th>\n      <th>NEW상품명</th>\n      <th>결제방법</th>\n      <th>단위</th>\n      <th>브랜드</th>\n      <th>옵션</th>\n      <th>종류</th>\n      <th>동일상품시간차</th>\n      <th>상품총판매횟수</th>\n      <th>브랜드총판매횟수</th>\n      <th>브랜드총방송횟수</th>\n    </tr>\n  </thead>\n  <tbody>\n    <tr>\n      <th>0</th>\n      <td>2019-01-01 06:00:00</td>\n      <td>20.000000</td>\n      <td>100346</td>\n      <td>201072</td>\n      <td>테이트 남성 셀린니트3종</td>\n      <td>의류</td>\n      <td>39900</td>\n      <td>2099000.0</td>\n      <td>865.0</td>\n      <td>테이트 남성 셀린니트 3종</td>\n      <td>0.0</td>\n      <td>3종</td>\n      <td>테이트</td>\n      <td>NaN</td>\n      <td>0</td>\n      <td>NaT</td>\n      <td>5.0</td>\n      <td>121.0</td>\n      <td>62.0</td>\n    </tr>\n    <tr>\n      <th>1</th>\n      <td>2019-01-01 06:00:00</td>\n      <td>NaN</td>\n      <td>100346</td>\n      <td>201079</td>\n      <td>테이트 여성 셀린니트3종</td>\n      <td>의류</td>\n      <td>39900</td>\n      <td>4371000.0</td>\n      <td>866.0</td>\n      <td>테이트 여성 셀린니트 3종</td>\n      <td>0.0</td>\n      <td>3종</td>\n      <td>테이트</td>\n      <td>NaN</td>\n      <td>0</td>\n      <td>NaT</td>\n      <td>5.0</td>\n      <td>121.0</td>\n      <td>62.0</td>\n    </tr>\n    <tr>\n      <th>2</th>\n      <td>2019-01-01 06:20:00</td>\n      <td>20.000000</td>\n      <td>100346</td>\n      <td>201072</td>\n      <td>테이트 남성 셀린니트3종</td>\n      <td>의류</td>\n      <td>39900</td>\n      <td>3262000.0</td>\n      <td>865.0</td>\n      <td>테이트 남성 셀린니트 3종</td>\n      <td>0.0</td>\n      <td>3종</td>\n      <td>테이트</td>\n      <td>NaN</td>\n      <td>0</td>\n      <td>00:20:00</td>\n      <td>5.0</td>\n      <td>121.0</td>\n      <td>62.0</td>\n    </tr>\n    <tr>\n      <th>3</th>\n      <td>2019-01-01 06:20:00</td>\n      <td>NaN</td>\n      <td>100346</td>\n      <td>201079</td>\n      <td>테이트 여성 셀린니트3종</td>\n      <td>의류</td>\n      <td>39900</td>\n      <td>6955000.0</td>\n      <td>866.0</td>\n      <td>테이트 여성 셀린니트 3종</td>\n      <td>0.0</td>\n      <td>3종</td>\n      <td>테이트</td>\n      <td>NaN</td>\n      <td>0</td>\n      <td>00:20:00</td>\n      <td>5.0</td>\n      <td>121.0</td>\n      <td>62.0</td>\n    </tr>\n    <tr>\n      <th>4</th>\n      <td>2019-01-01 06:40:00</td>\n      <td>20.000000</td>\n      <td>100346</td>\n      <td>201072</td>\n      <td>테이트 남성 셀린니트3종</td>\n      <td>의류</td>\n      <td>39900</td>\n      <td>6672000.0</td>\n      <td>865.0</td>\n      <td>테이트 남성 셀린니트 3종</td>\n      <td>0.0</td>\n      <td>3종</td>\n      <td>테이트</td>\n      <td>NaN</td>\n      <td>0</td>\n      <td>00:20:00</td>\n      <td>5.0</td>\n      <td>121.0</td>\n      <td>62.0</td>\n    </tr>\n    <tr>\n      <th>...</th>\n      <td>...</td>\n      <td>...</td>\n      <td>...</td>\n      <td>...</td>\n      <td>...</td>\n      <td>...</td>\n      <td>...</td>\n      <td>...</td>\n      <td>...</td>\n      <td>...</td>\n      <td>...</td>\n      <td>...</td>\n      <td>...</td>\n      <td>...</td>\n      <td>...</td>\n      <td>...</td>\n      <td>...</td>\n      <td>...</td>\n      <td>...</td>\n    </tr>\n    <tr>\n      <th>38304</th>\n      <td>2020-01-01 00:20:00</td>\n      <td>20.000000</td>\n      <td>100073</td>\n      <td>200196</td>\n      <td>삼성화재 행복한파트너 주택화재보험(1912)</td>\n      <td>무형</td>\n      <td>0</td>\n      <td>0.0</td>\n      <td>NaN</td>\n      <td>NaN</td>\n      <td>NaN</td>\n      <td>NaN</td>\n      <td>NaN</td>\n      <td>NaN</td>\n      <td>NaN</td>\n      <td>NaT</td>\n      <td>NaN</td>\n      <td>NaN</td>\n      <td>NaN</td>\n    </tr>\n    <tr>\n      <th>38305</th>\n      <td>2020-01-01 00:40:00</td>\n      <td>20.000000</td>\n      <td>100073</td>\n      <td>200196</td>\n      <td>삼성화재 행복한파트너 주택화재보험(1912)</td>\n      <td>무형</td>\n      <td>0</td>\n      <td>0.0</td>\n      <td>NaN</td>\n      <td>NaN</td>\n      <td>NaN</td>\n      <td>NaN</td>\n      <td>NaN</td>\n      <td>NaN</td>\n      <td>NaN</td>\n      <td>NaT</td>\n      <td>NaN</td>\n      <td>NaN</td>\n      <td>NaN</td>\n    </tr>\n    <tr>\n      <th>38306</th>\n      <td>2020-01-01 01:00:00</td>\n      <td>20.000000</td>\n      <td>100073</td>\n      <td>200196</td>\n      <td>삼성화재 행복한파트너 주택화재보험(1912)</td>\n      <td>무형</td>\n      <td>0</td>\n      <td>0.0</td>\n      <td>NaN</td>\n      <td>NaN</td>\n      <td>NaN</td>\n      <td>NaN</td>\n      <td>NaN</td>\n      <td>NaN</td>\n      <td>NaN</td>\n      <td>NaT</td>\n      <td>NaN</td>\n      <td>NaN</td>\n      <td>NaN</td>\n    </tr>\n    <tr>\n      <th>38307</th>\n      <td>2020-01-01 01:20:00</td>\n      <td>20.000000</td>\n      <td>100490</td>\n      <td>201478</td>\n      <td>더케이 예다함 상조서비스(티포트)</td>\n      <td>무형</td>\n      <td>0</td>\n      <td>0.0</td>\n      <td>NaN</td>\n      <td>NaN</td>\n      <td>NaN</td>\n      <td>NaN</td>\n      <td>NaN</td>\n      <td>NaN</td>\n      <td>NaN</td>\n      <td>NaT</td>\n      <td>NaN</td>\n      <td>NaN</td>\n      <td>NaN</td>\n    </tr>\n    <tr>\n      <th>38308</th>\n      <td>2020-01-01 01:40:00</td>\n      <td>17.166667</td>\n      <td>100490</td>\n      <td>201478</td>\n      <td>더케이 예다함 상조서비스(티포트)</td>\n      <td>무형</td>\n      <td>0</td>\n      <td>0.0</td>\n      <td>NaN</td>\n      <td>NaN</td>\n      <td>NaN</td>\n      <td>NaN</td>\n      <td>NaN</td>\n      <td>NaN</td>\n      <td>NaN</td>\n      <td>NaT</td>\n      <td>NaN</td>\n      <td>NaN</td>\n      <td>NaN</td>\n    </tr>\n  </tbody>\n</table>\n<p>38309 rows × 19 columns</p>\n</div>"
     },
     "metadata": {},
     "execution_count": 58
    }
   ],
   "source": [
    "broadcast_count(sale)"
   ]
  },
  {
   "cell_type": "code",
   "execution_count": 8,
   "metadata": {},
   "outputs": [
    {
     "output_type": "execute_result",
     "data": {
      "text/plain": "(2930, 15)"
     },
     "metadata": {},
     "execution_count": 8
    }
   ],
   "source": [
    "sale.loc[sale[\"취급액\"].isna()].shape"
   ]
  },
  {
   "cell_type": "code",
   "execution_count": 11,
   "metadata": {
    "tags": []
   },
   "outputs": [
    {
     "output_type": "stream",
     "name": "stdout",
     "text": "<class 'pandas.core.frame.DataFrame'>\nRangeIndex: 38309 entries, 0 to 38308\nData columns (total 15 columns):\n방송일시       38309 non-null datetime64[ns]\n노출(분)      21525 non-null float64\n마더코드       38309 non-null int64\n상품코드       38309 non-null int64\n상품명        38309 non-null object\n상품군        38309 non-null object\n판매단가       38309 non-null int64\n취급액        38309 non-null float64\nNEW상품코드    37372 non-null float64\nNEW상품명     37372 non-null object\n결제방법       37372 non-null float64\n단위         22390 non-null object\n브랜드        33066 non-null object\n옵션         4140 non-null object\n종류         22744 non-null object\ndtypes: datetime64[ns](1), float64(4), int64(3), object(7)\nmemory usage: 4.4+ MB\n"
    }
   ],
   "source": [
    "sale[\"취급액\"] = sale[\"취급액\"].fillna(0)\n",
    "sale.info()"
   ]
  },
  {
   "cell_type": "markdown",
   "metadata": {},
   "source": [
    "### 1. 동일 상품 별 시간 간격\n",
    "* NEW상품명 기준 "
   ]
  },
  {
   "cell_type": "markdown",
   "metadata": {},
   "source": [
    "### 1. 카테고리 별 시간 간격 "
   ]
  },
  {
   "cell_type": "code",
   "execution_count": null,
   "metadata": {},
   "outputs": [],
   "source": []
  }
 ]
}