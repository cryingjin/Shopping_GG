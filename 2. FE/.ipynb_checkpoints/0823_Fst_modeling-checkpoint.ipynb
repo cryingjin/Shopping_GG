{
 "cells": [
  {
   "cell_type": "code",
   "execution_count": 1,
   "metadata": {
    "Collapsed": "false"
   },
   "outputs": [],
   "source": [
    "import os\n",
    "import sys\n",
    "import joblib\n",
    "import FE_0823 as FE\n",
    "import numpy as np\n",
    "import pandas as pd\n",
    "from tqdm import tqdm"
   ]
  },
  {
   "cell_type": "code",
   "execution_count": 3,
   "metadata": {
    "Collapsed": "false"
   },
   "outputs": [],
   "source": [
    "sale = pd.read_excel(os.path.join('..', '0.Data', '01_제공데이터', 'sale_data_v04_0823.xlsx'))\n",
    "meta = pd.read_excel(os.path.join('..', '0.Data', '01_제공데이터', 'sale_meta_v04_0823.xlsx'))\n",
    "item = pd.read_excel(os.path.join('..', '0.Data', '01_제공데이터', 'item_meta_v03_0823.xlsx'))"
   ]
  },
  {
   "cell_type": "code",
   "execution_count": 4,
   "metadata": {
    "Collapsed": "false"
   },
   "outputs": [],
   "source": [
    "pd.set_option('display.float_format', lambda x: '%.3f' % x)"
   ]
  },
  {
   "cell_type": "code",
   "execution_count": 5,
   "metadata": {
    "Collapsed": "false"
   },
   "outputs": [
    {
     "data": {
      "text/plain": [
       "((38309, 15), (2042, 15), (1364, 12))"
      ]
     },
     "execution_count": 5,
     "metadata": {},
     "output_type": "execute_result"
    }
   ],
   "source": [
    "sale.shape, meta.shape, item.shape"
   ]
  },
  {
   "cell_type": "markdown",
   "metadata": {
    "Collapsed": "false"
   },
   "source": [
    "# 01. Feature Engineering"
   ]
  },
  {
   "cell_type": "code",
   "execution_count": 6,
   "metadata": {
    "Collapsed": "false"
   },
   "outputs": [],
   "source": [
    "# 재빈쓰\n",
    "sale = FE.engineering_TimeDiff(sale)"
   ]
  },
  {
   "cell_type": "code",
   "execution_count": 7,
   "metadata": {
    "Collapsed": "false"
   },
   "outputs": [],
   "source": [
    "# 예진쓰\n",
    "sale = FE.engineering_Soldout(sale)"
   ]
  },
  {
   "cell_type": "code",
   "execution_count": 8,
   "metadata": {
    "Collapsed": "false"
   },
   "outputs": [
    {
     "name": "stdout",
     "output_type": "stream",
     "text": [
      "연도입력\n"
     ]
    },
    {
     "name": "stdin",
     "output_type": "stream",
     "text": [
      " 2019\n"
     ]
    }
   ],
   "source": [
    "# 진석쓰\n",
    "sale = FE.engineering_DatePrice(sale)"
   ]
  },
  {
   "cell_type": "code",
   "execution_count": 9,
   "metadata": {
    "Collapsed": "false"
   },
   "outputs": [
    {
     "data": {
      "text/plain": [
       "(38309, 60)"
      ]
     },
     "execution_count": 9,
     "metadata": {},
     "output_type": "execute_result"
    }
   ],
   "source": [
    "# 1차 피처엔지니어링 완료 61개 칼럼\n",
    "sale.shape"
   ]
  },
  {
   "cell_type": "markdown",
   "metadata": {
    "Collapsed": "false"
   },
   "source": [
    "## 01-01. 제외 해야할 행 -> 상품군 = 무형 & 취급액 null & 취급액 0"
   ]
  },
  {
   "cell_type": "code",
   "execution_count": 10,
   "metadata": {
    "Collapsed": "false"
   },
   "outputs": [
    {
     "data": {
      "text/plain": [
       "(2930, 60)"
      ]
     },
     "execution_count": 10,
     "metadata": {},
     "output_type": "execute_result"
    }
   ],
   "source": [
    "sale.loc[(sale['상품군'] == '무형') | (sale['취급액'].isnull()) | (sale['취급액'] < 1)].shape"
   ]
  },
  {
   "cell_type": "code",
   "execution_count": 11,
   "metadata": {
    "Collapsed": "false"
   },
   "outputs": [],
   "source": [
    "sale = sale.loc[(sale['상품군'] != '무형') & (sale['취급액'].notnull()) & (sale['취급액'] > 1)]"
   ]
  },
  {
   "cell_type": "code",
   "execution_count": 12,
   "metadata": {
    "Collapsed": "false"
   },
   "outputs": [
    {
     "data": {
      "text/html": [
       "<div>\n",
       "<style scoped>\n",
       "    .dataframe tbody tr th:only-of-type {\n",
       "        vertical-align: middle;\n",
       "    }\n",
       "\n",
       "    .dataframe tbody tr th {\n",
       "        vertical-align: top;\n",
       "    }\n",
       "\n",
       "    .dataframe thead th {\n",
       "        text-align: right;\n",
       "    }\n",
       "</style>\n",
       "<table border=\"1\" class=\"dataframe\">\n",
       "  <thead>\n",
       "    <tr style=\"text-align: right;\">\n",
       "      <th></th>\n",
       "      <th>방송일시</th>\n",
       "      <th>노출(분)</th>\n",
       "      <th>마더코드</th>\n",
       "      <th>상품코드</th>\n",
       "      <th>상품명</th>\n",
       "      <th>상품군</th>\n",
       "      <th>판매단가</th>\n",
       "      <th>취급액</th>\n",
       "      <th>NEW상품코드</th>\n",
       "      <th>NEW상품명</th>\n",
       "      <th>...</th>\n",
       "      <th>NEW_최고판매단가</th>\n",
       "      <th>NEW_최저판매단가</th>\n",
       "      <th>NEW_평균판매단가</th>\n",
       "      <th>NEW_중간판매단가</th>\n",
       "      <th>NEW_최고-최저</th>\n",
       "      <th>NEW_분산</th>\n",
       "      <th>NEW_표준편차</th>\n",
       "      <th>상품군_가격대</th>\n",
       "      <th>전체_가격대</th>\n",
       "      <th>상품군평균판매단가차이</th>\n",
       "    </tr>\n",
       "  </thead>\n",
       "  <tbody>\n",
       "    <tr>\n",
       "      <th>0</th>\n",
       "      <td>2019-01-01 06:00:00</td>\n",
       "      <td>20.000</td>\n",
       "      <td>100346</td>\n",
       "      <td>201072</td>\n",
       "      <td>테이트 남성 셀린니트3종</td>\n",
       "      <td>의류</td>\n",
       "      <td>39900</td>\n",
       "      <td>2099000.000</td>\n",
       "      <td>865.000</td>\n",
       "      <td>테이트 남성 셀린니트 3종</td>\n",
       "      <td>...</td>\n",
       "      <td>39900.000</td>\n",
       "      <td>39900.000</td>\n",
       "      <td>39900.000</td>\n",
       "      <td>39900.000</td>\n",
       "      <td>0.000</td>\n",
       "      <td>0.000</td>\n",
       "      <td>0.000</td>\n",
       "      <td>0.000</td>\n",
       "      <td>0.000</td>\n",
       "      <td>76662.983</td>\n",
       "    </tr>\n",
       "    <tr>\n",
       "      <th>1</th>\n",
       "      <td>2019-01-01 06:00:00</td>\n",
       "      <td>20.000</td>\n",
       "      <td>100346</td>\n",
       "      <td>201079</td>\n",
       "      <td>테이트 여성 셀린니트3종</td>\n",
       "      <td>의류</td>\n",
       "      <td>39900</td>\n",
       "      <td>4371000.000</td>\n",
       "      <td>866.000</td>\n",
       "      <td>테이트 여성 셀린니트 3종</td>\n",
       "      <td>...</td>\n",
       "      <td>39900.000</td>\n",
       "      <td>39900.000</td>\n",
       "      <td>39900.000</td>\n",
       "      <td>39900.000</td>\n",
       "      <td>0.000</td>\n",
       "      <td>0.000</td>\n",
       "      <td>0.000</td>\n",
       "      <td>0.000</td>\n",
       "      <td>0.000</td>\n",
       "      <td>76662.983</td>\n",
       "    </tr>\n",
       "    <tr>\n",
       "      <th>2</th>\n",
       "      <td>2019-01-01 06:20:00</td>\n",
       "      <td>20.000</td>\n",
       "      <td>100346</td>\n",
       "      <td>201072</td>\n",
       "      <td>테이트 남성 셀린니트3종</td>\n",
       "      <td>의류</td>\n",
       "      <td>39900</td>\n",
       "      <td>3262000.000</td>\n",
       "      <td>865.000</td>\n",
       "      <td>테이트 남성 셀린니트 3종</td>\n",
       "      <td>...</td>\n",
       "      <td>39900.000</td>\n",
       "      <td>39900.000</td>\n",
       "      <td>39900.000</td>\n",
       "      <td>39900.000</td>\n",
       "      <td>0.000</td>\n",
       "      <td>0.000</td>\n",
       "      <td>0.000</td>\n",
       "      <td>0.000</td>\n",
       "      <td>0.000</td>\n",
       "      <td>76662.983</td>\n",
       "    </tr>\n",
       "    <tr>\n",
       "      <th>3</th>\n",
       "      <td>2019-01-01 06:20:00</td>\n",
       "      <td>20.000</td>\n",
       "      <td>100346</td>\n",
       "      <td>201079</td>\n",
       "      <td>테이트 여성 셀린니트3종</td>\n",
       "      <td>의류</td>\n",
       "      <td>39900</td>\n",
       "      <td>6955000.000</td>\n",
       "      <td>866.000</td>\n",
       "      <td>테이트 여성 셀린니트 3종</td>\n",
       "      <td>...</td>\n",
       "      <td>39900.000</td>\n",
       "      <td>39900.000</td>\n",
       "      <td>39900.000</td>\n",
       "      <td>39900.000</td>\n",
       "      <td>0.000</td>\n",
       "      <td>0.000</td>\n",
       "      <td>0.000</td>\n",
       "      <td>0.000</td>\n",
       "      <td>0.000</td>\n",
       "      <td>76662.983</td>\n",
       "    </tr>\n",
       "    <tr>\n",
       "      <th>4</th>\n",
       "      <td>2019-01-01 06:40:00</td>\n",
       "      <td>20.000</td>\n",
       "      <td>100346</td>\n",
       "      <td>201072</td>\n",
       "      <td>테이트 남성 셀린니트3종</td>\n",
       "      <td>의류</td>\n",
       "      <td>39900</td>\n",
       "      <td>6672000.000</td>\n",
       "      <td>865.000</td>\n",
       "      <td>테이트 남성 셀린니트 3종</td>\n",
       "      <td>...</td>\n",
       "      <td>39900.000</td>\n",
       "      <td>39900.000</td>\n",
       "      <td>39900.000</td>\n",
       "      <td>39900.000</td>\n",
       "      <td>0.000</td>\n",
       "      <td>0.000</td>\n",
       "      <td>0.000</td>\n",
       "      <td>0.000</td>\n",
       "      <td>0.000</td>\n",
       "      <td>76662.983</td>\n",
       "    </tr>\n",
       "  </tbody>\n",
       "</table>\n",
       "<p>5 rows × 60 columns</p>\n",
       "</div>"
      ],
      "text/plain": [
       "                 방송일시  노출(분)    마더코드    상품코드            상품명 상품군   판매단가  \\\n",
       "0 2019-01-01 06:00:00 20.000  100346  201072  테이트 남성 셀린니트3종  의류  39900   \n",
       "1 2019-01-01 06:00:00 20.000  100346  201079  테이트 여성 셀린니트3종  의류  39900   \n",
       "2 2019-01-01 06:20:00 20.000  100346  201072  테이트 남성 셀린니트3종  의류  39900   \n",
       "3 2019-01-01 06:20:00 20.000  100346  201079  테이트 여성 셀린니트3종  의류  39900   \n",
       "4 2019-01-01 06:40:00 20.000  100346  201072  테이트 남성 셀린니트3종  의류  39900   \n",
       "\n",
       "          취급액  NEW상품코드          NEW상품명  ...  NEW_최고판매단가 NEW_최저판매단가 NEW_평균판매단가  \\\n",
       "0 2099000.000  865.000  테이트 남성 셀린니트 3종  ...   39900.000  39900.000  39900.000   \n",
       "1 4371000.000  866.000  테이트 여성 셀린니트 3종  ...   39900.000  39900.000  39900.000   \n",
       "2 3262000.000  865.000  테이트 남성 셀린니트 3종  ...   39900.000  39900.000  39900.000   \n",
       "3 6955000.000  866.000  테이트 여성 셀린니트 3종  ...   39900.000  39900.000  39900.000   \n",
       "4 6672000.000  865.000  테이트 남성 셀린니트 3종  ...   39900.000  39900.000  39900.000   \n",
       "\n",
       "  NEW_중간판매단가 NEW_최고-최저  NEW_분산  NEW_표준편차 상품군_가격대  전체_가격대  상품군평균판매단가차이  \n",
       "0  39900.000     0.000   0.000     0.000   0.000   0.000    76662.983  \n",
       "1  39900.000     0.000   0.000     0.000   0.000   0.000    76662.983  \n",
       "2  39900.000     0.000   0.000     0.000   0.000   0.000    76662.983  \n",
       "3  39900.000     0.000   0.000     0.000   0.000   0.000    76662.983  \n",
       "4  39900.000     0.000   0.000     0.000   0.000   0.000    76662.983  \n",
       "\n",
       "[5 rows x 60 columns]"
      ]
     },
     "execution_count": 12,
     "metadata": {},
     "output_type": "execute_result"
    }
   ],
   "source": [
    "sale.head()"
   ]
  },
  {
   "cell_type": "markdown",
   "metadata": {
    "Collapsed": "false"
   },
   "source": [
    "# 02. Modeling"
   ]
  },
  {
   "cell_type": "code",
   "execution_count": 13,
   "metadata": {
    "Collapsed": "false"
   },
   "outputs": [
    {
     "name": "stdout",
     "output_type": "stream",
     "text": [
      "<class 'pandas.core.frame.DataFrame'>\n",
      "Int64Index: 35379 entries, 0 to 38303\n",
      "Data columns (total 60 columns):\n",
      " #   Column          Non-Null Count  Dtype         \n",
      "---  ------          --------------  -----         \n",
      " 0   방송일시            35379 non-null  datetime64[ns]\n",
      " 1   노출(분)           35379 non-null  float64       \n",
      " 2   마더코드            35379 non-null  int64         \n",
      " 3   상품코드            35379 non-null  int64         \n",
      " 4   상품명             35379 non-null  object        \n",
      " 5   상품군             35379 non-null  object        \n",
      " 6   판매단가            35379 non-null  int64         \n",
      " 7   취급액             35379 non-null  float64       \n",
      " 8   NEW상품코드         35379 non-null  float64       \n",
      " 9   NEW상품명          35379 non-null  object        \n",
      " 10  결제방법            35379 non-null  float64       \n",
      " 11  단위              20916 non-null  object        \n",
      " 12  브랜드             31081 non-null  object        \n",
      " 13  옵션              3935 non-null   object        \n",
      " 14  종류              21213 non-null  object        \n",
      " 15  상품노출횟수          24699 non-null  float64       \n",
      " 16  브랜드노출횟수         31046 non-null  float64       \n",
      " 17  방송일             35379 non-null  object        \n",
      " 18  상품방송횟수          35379 non-null  float64       \n",
      " 19  브랜드방송횟수         31081 non-null  float64       \n",
      " 20  조기매진            35379 non-null  int64         \n",
      " 21  isHoliday       1668 non-null   object        \n",
      " 22  방송월             35379 non-null  int64         \n",
      " 23  방송시간(시간)        35379 non-null  int64         \n",
      " 24  방송시간(분)         35379 non-null  int64         \n",
      " 25  평일여부            35379 non-null  int64         \n",
      " 26  방송시간대           35379 non-null  object        \n",
      " 27  계절              35379 non-null  object        \n",
      " 28  분기              35379 non-null  object        \n",
      " 29  성별              35379 non-null  int64         \n",
      " 30  상품군_최고판매단가      35379 non-null  float64       \n",
      " 31  상품군_최저판매단가      35379 non-null  float64       \n",
      " 32  상품군_평균판매단가      35379 non-null  float64       \n",
      " 33  상품군_중간판매단가      35379 non-null  float64       \n",
      " 34  상품군_최고-최저       35379 non-null  float64       \n",
      " 35  상품군_표준편차        35379 non-null  float64       \n",
      " 36  상품군_분산          35379 non-null  float64       \n",
      " 37  마더코드_최고판매단가     35379 non-null  float64       \n",
      " 38  마더코드_최저판매단가     35379 non-null  float64       \n",
      " 39  마더코드_평균판매단가     35379 non-null  float64       \n",
      " 40  마더코드_최고-최저      35379 non-null  float64       \n",
      " 41  마더코드_분산         35379 non-null  float64       \n",
      " 42  마더코드_표준편차       35379 non-null  float64       \n",
      " 43  상품군&브랜드_최고판매단가  31081 non-null  float64       \n",
      " 44  상품군&브랜드_최저판매단가  31081 non-null  float64       \n",
      " 45  상품군&브랜드_평균판매단가  31081 non-null  float64       \n",
      " 46  상품군&브랜드_중간판매단가  31081 non-null  float64       \n",
      " 47  상품군&브랜드_최고-최저   31081 non-null  float64       \n",
      " 48  상품군&브랜드_표준편차    30073 non-null  float64       \n",
      " 49  상품군&브랜드_분산      30073 non-null  float64       \n",
      " 50  NEW_최고판매단가      35379 non-null  float64       \n",
      " 51  NEW_최저판매단가      35379 non-null  float64       \n",
      " 52  NEW_평균판매단가      35379 non-null  float64       \n",
      " 53  NEW_중간판매단가      35379 non-null  float64       \n",
      " 54  NEW_최고-최저       35379 non-null  float64       \n",
      " 55  NEW_분산          35379 non-null  float64       \n",
      " 56  NEW_표준편차        35379 non-null  float64       \n",
      " 57  상품군_가격대         35379 non-null  float64       \n",
      " 58  전체_가격대          35379 non-null  float64       \n",
      " 59  상품군평균판매단가차이     35379 non-null  float64       \n",
      "dtypes: datetime64[ns](1), float64(38), int64(9), object(12)\n",
      "memory usage: 16.5+ MB\n"
     ]
    }
   ],
   "source": [
    "# 범주 변수 확인\n",
    "sale.info()"
   ]
  },
  {
   "cell_type": "code",
   "execution_count": 23,
   "metadata": {
    "Collapsed": "false"
   },
   "outputs": [],
   "source": [
    "categorys = ['결제방법', '상품군_가격대', '전체_가격대', '상품군', '방송시간(시간)']\n",
    "drop_columns = ['방송일시','마더코드', '상품명', 'NEW상품코드', 'NEW상품명', '단위', '브랜드', '취급액', '상품코드', '옵션', '종류', '방송일']"
   ]
  },
  {
   "cell_type": "code",
   "execution_count": 15,
   "metadata": {
    "Collapsed": "false"
   },
   "outputs": [],
   "source": [
    "for c in categorys:\n",
    "    sale[c] = sale[c].astype(str)"
   ]
  },
  {
   "cell_type": "code",
   "execution_count": 24,
   "metadata": {
    "Collapsed": "false"
   },
   "outputs": [],
   "source": [
    "y = sale['취급액']\n",
    "temp = sale[drop_columns]\n",
    "data= sale.drop(drop_columns, axis = 1)"
   ]
  },
  {
   "cell_type": "code",
   "execution_count": 25,
   "metadata": {
    "Collapsed": "false"
   },
   "outputs": [],
   "source": [
    "X = pd.get_dummies(data)"
   ]
  },
  {
   "cell_type": "code",
   "execution_count": 26,
   "metadata": {
    "Collapsed": "false"
   },
   "outputs": [
    {
     "data": {
      "text/plain": [
       "((35379, 99), (35379,))"
      ]
     },
     "execution_count": 26,
     "metadata": {},
     "output_type": "execute_result"
    }
   ],
   "source": [
    "X.shape, y.shape"
   ]
  },
  {
   "cell_type": "code",
   "execution_count": 78,
   "metadata": {
    "Collapsed": "false"
   },
   "outputs": [],
   "source": [
    "import warnings\n",
    "warnings.filterwarnings(action='ignore')\n",
    "import xgboost as xgb\n",
    "model = xgb.XGBRegressor()"
   ]
  },
  {
   "cell_type": "code",
   "execution_count": 79,
   "metadata": {
    "Collapsed": "false"
   },
   "outputs": [],
   "source": [
    "def mean_absolute_percentage_error(y_train, y_pred):\n",
    "    return np.mean(np.abs((y_train - y_pred) / y_train)) * 100"
   ]
  },
  {
   "cell_type": "code",
   "execution_count": 80,
   "metadata": {
    "Collapsed": "false"
   },
   "outputs": [],
   "source": [
    "xgb_pars = {'min_child_weight': 1, 'eta': 0.5, 'colsample_bytree': 0.9, \n",
    "            'max_depth': 6, 'subsample': 0.9, 'lambda': 1., 'nthread': -1, 'booster' : 'gbtree', 'silent': 1, \n",
    "            'objective': 'reg:linear'}"
   ]
  },
  {
   "cell_type": "code",
   "execution_count": 81,
   "metadata": {
    "Collapsed": "false"
   },
   "outputs": [],
   "source": [
    "import random"
   ]
  },
  {
   "cell_type": "code",
   "execution_count": 82,
   "metadata": {
    "Collapsed": "false"
   },
   "outputs": [
    {
     "name": "stdout",
     "output_type": "stream",
     "text": [
      "[0]\ttrain-rmse:1.94735e+07\tvalid-rmse:2.16131e+07\n",
      "Multiple eval metrics have been passed: 'valid-rmse' will be used for early stopping.\n",
      "\n",
      "Will train until valid-rmse hasn't improved in 100 rounds.\n",
      "[10]\ttrain-rmse:1.07319e+07\tvalid-rmse:1.28533e+07\n",
      "[20]\ttrain-rmse:9.55834e+06\tvalid-rmse:1.21177e+07\n",
      "[30]\ttrain-rmse:8.90816e+06\tvalid-rmse:1.18974e+07\n",
      "[40]\ttrain-rmse:8.41819e+06\tvalid-rmse:1.16189e+07\n",
      "[50]\ttrain-rmse:8.07384e+06\tvalid-rmse:1.16742e+07\n",
      "[60]\ttrain-rmse:7.80347e+06\tvalid-rmse:1.15576e+07\n",
      "[70]\ttrain-rmse:7.57196e+06\tvalid-rmse:1.16099e+07\n",
      "[80]\ttrain-rmse:7.36407e+06\tvalid-rmse:1.17644e+07\n",
      "[90]\ttrain-rmse:7.19882e+06\tvalid-rmse:1.18377e+07\n",
      "[100]\ttrain-rmse:7.03012e+06\tvalid-rmse:1.18496e+07\n",
      "[110]\ttrain-rmse:6.86235e+06\tvalid-rmse:1.18131e+07\n",
      "[120]\ttrain-rmse:6.73135e+06\tvalid-rmse:1.18034e+07\n",
      "[130]\ttrain-rmse:6.62647e+06\tvalid-rmse:1.17991e+07\n",
      "[140]\ttrain-rmse:6.52072e+06\tvalid-rmse:1.17296e+07\n",
      "[150]\ttrain-rmse:6.42328e+06\tvalid-rmse:1.17296e+07\n",
      "[160]\ttrain-rmse:6.33486e+06\tvalid-rmse:1.17273e+07\n",
      "Stopping. Best iteration:\n",
      "[62]\ttrain-rmse:7.7476e+06\tvalid-rmse:1.15429e+07\n",
      "\n",
      "[56.25297104740831]\n",
      "[0]\ttrain-rmse:1.96997e+07\tvalid-rmse:1.68987e+07\n",
      "Multiple eval metrics have been passed: 'valid-rmse' will be used for early stopping.\n",
      "\n",
      "Will train until valid-rmse hasn't improved in 100 rounds.\n",
      "[10]\ttrain-rmse:1.04122e+07\tvalid-rmse:1.02054e+07\n",
      "[20]\ttrain-rmse:9.62867e+06\tvalid-rmse:1.00669e+07\n",
      "[30]\ttrain-rmse:8.88294e+06\tvalid-rmse:9.92465e+06\n",
      "[40]\ttrain-rmse:8.4189e+06\tvalid-rmse:1.0025e+07\n",
      "[50]\ttrain-rmse:8.11016e+06\tvalid-rmse:9.9405e+06\n",
      "[60]\ttrain-rmse:7.8131e+06\tvalid-rmse:9.80542e+06\n",
      "[70]\ttrain-rmse:7.57297e+06\tvalid-rmse:9.85053e+06\n",
      "[80]\ttrain-rmse:7.35034e+06\tvalid-rmse:9.94843e+06\n",
      "[90]\ttrain-rmse:7.19101e+06\tvalid-rmse:9.97857e+06\n",
      "[100]\ttrain-rmse:7.03474e+06\tvalid-rmse:1.00154e+07\n",
      "[110]\ttrain-rmse:6.86539e+06\tvalid-rmse:1.00261e+07\n",
      "[120]\ttrain-rmse:6.73235e+06\tvalid-rmse:1.00742e+07\n",
      "[130]\ttrain-rmse:6.59174e+06\tvalid-rmse:1.00098e+07\n",
      "[140]\ttrain-rmse:6.48616e+06\tvalid-rmse:1.00304e+07\n",
      "[150]\ttrain-rmse:6.40118e+06\tvalid-rmse:1.00446e+07\n",
      "[160]\ttrain-rmse:6.30305e+06\tvalid-rmse:1.00247e+07\n",
      "Stopping. Best iteration:\n",
      "[62]\ttrain-rmse:7.79122e+06\tvalid-rmse:9.74619e+06\n",
      "\n",
      "[56.25297104740831, 72.21601367115757]\n",
      "[0]\ttrain-rmse:1.95998e+07\tvalid-rmse:1.67168e+07\n",
      "Multiple eval metrics have been passed: 'valid-rmse' will be used for early stopping.\n",
      "\n",
      "Will train until valid-rmse hasn't improved in 100 rounds.\n",
      "[10]\ttrain-rmse:1.05309e+07\tvalid-rmse:1.10786e+07\n",
      "[20]\ttrain-rmse:9.53173e+06\tvalid-rmse:1.07092e+07\n",
      "[30]\ttrain-rmse:8.88035e+06\tvalid-rmse:1.06776e+07\n",
      "[40]\ttrain-rmse:8.47635e+06\tvalid-rmse:1.06547e+07\n",
      "[50]\ttrain-rmse:8.04977e+06\tvalid-rmse:1.0573e+07\n",
      "[60]\ttrain-rmse:7.79925e+06\tvalid-rmse:1.07675e+07\n",
      "[70]\ttrain-rmse:7.57636e+06\tvalid-rmse:1.0773e+07\n",
      "[80]\ttrain-rmse:7.33161e+06\tvalid-rmse:1.08059e+07\n",
      "[90]\ttrain-rmse:7.14747e+06\tvalid-rmse:1.07525e+07\n",
      "[100]\ttrain-rmse:6.9973e+06\tvalid-rmse:1.07685e+07\n",
      "[110]\ttrain-rmse:6.86665e+06\tvalid-rmse:1.07452e+07\n",
      "[120]\ttrain-rmse:6.73687e+06\tvalid-rmse:1.07859e+07\n",
      "[130]\ttrain-rmse:6.62793e+06\tvalid-rmse:1.08387e+07\n",
      "[140]\ttrain-rmse:6.53399e+06\tvalid-rmse:1.08137e+07\n",
      "Stopping. Best iteration:\n",
      "[48]\ttrain-rmse:8.1288e+06\tvalid-rmse:1.05487e+07\n",
      "\n",
      "[56.25297104740831, 72.21601367115757, 62.61135529282848]\n",
      "[0]\ttrain-rmse:1.97553e+07\tvalid-rmse:1.55886e+07\n",
      "Multiple eval metrics have been passed: 'valid-rmse' will be used for early stopping.\n",
      "\n",
      "Will train until valid-rmse hasn't improved in 100 rounds.\n",
      "[10]\ttrain-rmse:1.05892e+07\tvalid-rmse:9.67262e+06\n",
      "[20]\ttrain-rmse:9.48071e+06\tvalid-rmse:9.54021e+06\n",
      "[30]\ttrain-rmse:8.98006e+06\tvalid-rmse:9.46268e+06\n",
      "[40]\ttrain-rmse:8.51007e+06\tvalid-rmse:9.41212e+06\n",
      "[50]\ttrain-rmse:8.15042e+06\tvalid-rmse:9.27414e+06\n",
      "[60]\ttrain-rmse:7.83601e+06\tvalid-rmse:9.33154e+06\n",
      "[70]\ttrain-rmse:7.53498e+06\tvalid-rmse:9.2687e+06\n",
      "[80]\ttrain-rmse:7.34152e+06\tvalid-rmse:9.30042e+06\n",
      "[90]\ttrain-rmse:7.12301e+06\tvalid-rmse:9.25188e+06\n",
      "[100]\ttrain-rmse:6.96042e+06\tvalid-rmse:9.259e+06\n",
      "[110]\ttrain-rmse:6.84346e+06\tvalid-rmse:9.23828e+06\n",
      "[120]\ttrain-rmse:6.73033e+06\tvalid-rmse:9.18471e+06\n",
      "[130]\ttrain-rmse:6.63123e+06\tvalid-rmse:9.20593e+06\n",
      "[140]\ttrain-rmse:6.51540e+06\tvalid-rmse:9.17179e+06\n",
      "[150]\ttrain-rmse:6.43698e+06\tvalid-rmse:9.16476e+06\n",
      "[160]\ttrain-rmse:6.3634e+06\tvalid-rmse:9.18932e+06\n",
      "[170]\ttrain-rmse:6.28711e+06\tvalid-rmse:9.23145e+06\n",
      "[180]\ttrain-rmse:6.20895e+06\tvalid-rmse:9.22745e+06\n",
      "[190]\ttrain-rmse:6.14779e+06\tvalid-rmse:9.19764e+06\n",
      "[200]\ttrain-rmse:6.09115e+06\tvalid-rmse:9.20468e+06\n",
      "[210]\ttrain-rmse:6.02272e+06\tvalid-rmse:9.24402e+06\n",
      "[220]\ttrain-rmse:5.96444e+06\tvalid-rmse:9.24123e+06\n",
      "[230]\ttrain-rmse:5.91159e+06\tvalid-rmse:9.23648e+06\n",
      "Stopping. Best iteration:\n",
      "[139]\ttrain-rmse:6.52115e+06\tvalid-rmse:9.15934e+06\n",
      "\n",
      "[56.25297104740831, 72.21601367115757, 62.61135529282848, 53.05504887749004]\n",
      "[0]\ttrain-rmse:1.95855e+07\tvalid-rmse:1.81518e+07\n",
      "Multiple eval metrics have been passed: 'valid-rmse' will be used for early stopping.\n",
      "\n",
      "Will train until valid-rmse hasn't improved in 100 rounds.\n",
      "[10]\ttrain-rmse:1.07348e+07\tvalid-rmse:1.01016e+07\n",
      "[20]\ttrain-rmse:9.6266e+06\tvalid-rmse:9.69121e+06\n",
      "[30]\ttrain-rmse:9.01917e+06\tvalid-rmse:9.63355e+06\n",
      "[40]\ttrain-rmse:8.45804e+06\tvalid-rmse:9.96852e+06\n",
      "[50]\ttrain-rmse:8.08621e+06\tvalid-rmse:9.98026e+06\n",
      "[60]\ttrain-rmse:7.77214e+06\tvalid-rmse:9.98186e+06\n",
      "[70]\ttrain-rmse:7.5198e+06\tvalid-rmse:1.00233e+07\n",
      "[80]\ttrain-rmse:7.33635e+06\tvalid-rmse:1.00088e+07\n",
      "[90]\ttrain-rmse:7.14929e+06\tvalid-rmse:1.00206e+07\n",
      "[100]\ttrain-rmse:6.99424e+06\tvalid-rmse:1.00282e+07\n",
      "[110]\ttrain-rmse:6.87321e+06\tvalid-rmse:1.01265e+07\n",
      "Stopping. Best iteration:\n",
      "[19]\ttrain-rmse:9.75878e+06\tvalid-rmse:9.60934e+06\n",
      "\n",
      "[56.25297104740831, 72.21601367115757, 62.61135529282848, 53.05504887749004, 59.459131728325964]\n",
      "[0]\ttrain-rmse:1.94682e+07\tvalid-rmse:1.9868e+07\n",
      "Multiple eval metrics have been passed: 'valid-rmse' will be used for early stopping.\n",
      "\n",
      "Will train until valid-rmse hasn't improved in 100 rounds.\n",
      "[10]\ttrain-rmse:1.0668e+07\tvalid-rmse:1.08907e+07\n",
      "[20]\ttrain-rmse:9.60166e+06\tvalid-rmse:1.02261e+07\n",
      "[30]\ttrain-rmse:9.08575e+06\tvalid-rmse:1.02467e+07\n",
      "[40]\ttrain-rmse:8.60433e+06\tvalid-rmse:1.00706e+07\n",
      "[50]\ttrain-rmse:8.22662e+06\tvalid-rmse:1.0018e+07\n",
      "[60]\ttrain-rmse:7.95951e+06\tvalid-rmse:1.00309e+07\n",
      "[70]\ttrain-rmse:7.69274e+06\tvalid-rmse:9.96482e+06\n",
      "[80]\ttrain-rmse:7.48758e+06\tvalid-rmse:1.00849e+07\n",
      "[90]\ttrain-rmse:7.30386e+06\tvalid-rmse:1.01723e+07\n",
      "[100]\ttrain-rmse:7.13034e+06\tvalid-rmse:1.02315e+07\n",
      "[110]\ttrain-rmse:6.9512e+06\tvalid-rmse:1.02897e+07\n",
      "[120]\ttrain-rmse:6.82746e+06\tvalid-rmse:1.03165e+07\n",
      "[130]\ttrain-rmse:6.71527e+06\tvalid-rmse:1.03044e+07\n",
      "[140]\ttrain-rmse:6.61134e+06\tvalid-rmse:1.03226e+07\n",
      "[150]\ttrain-rmse:6.47258e+06\tvalid-rmse:1.03341e+07\n",
      "[160]\ttrain-rmse:6.39682e+06\tvalid-rmse:1.03403e+07\n",
      "Stopping. Best iteration:\n",
      "[65]\ttrain-rmse:7.81817e+06\tvalid-rmse:9.92342e+06\n",
      "\n",
      "[56.25297104740831, 72.21601367115757, 62.61135529282848, 53.05504887749004, 59.459131728325964, 59.87678916952205]\n",
      "[0]\ttrain-rmse:1.95871e+07\tvalid-rmse:1.77201e+07\n",
      "Multiple eval metrics have been passed: 'valid-rmse' will be used for early stopping.\n",
      "\n",
      "Will train until valid-rmse hasn't improved in 100 rounds.\n",
      "[10]\ttrain-rmse:1.06248e+07\tvalid-rmse:9.57509e+06\n",
      "[20]\ttrain-rmse:9.62555e+06\tvalid-rmse:9.13386e+06\n",
      "[30]\ttrain-rmse:9.00476e+06\tvalid-rmse:9.00241e+06\n",
      "[40]\ttrain-rmse:8.60391e+06\tvalid-rmse:8.94146e+06\n",
      "[50]\ttrain-rmse:8.22878e+06\tvalid-rmse:8.92766e+06\n",
      "[60]\ttrain-rmse:7.9205e+06\tvalid-rmse:8.95572e+06\n",
      "[70]\ttrain-rmse:7.63246e+06\tvalid-rmse:8.95571e+06\n",
      "[80]\ttrain-rmse:7.46363e+06\tvalid-rmse:8.9427e+06\n",
      "[90]\ttrain-rmse:7.25412e+06\tvalid-rmse:8.9007e+06\n",
      "[100]\ttrain-rmse:7.10996e+06\tvalid-rmse:8.9596e+06\n",
      "[110]\ttrain-rmse:6.98753e+06\tvalid-rmse:8.92828e+06\n",
      "[120]\ttrain-rmse:6.85973e+06\tvalid-rmse:8.95399e+06\n",
      "[130]\ttrain-rmse:6.71434e+06\tvalid-rmse:9.02233e+06\n",
      "[140]\ttrain-rmse:6.59971e+06\tvalid-rmse:9.01443e+06\n",
      "[150]\ttrain-rmse:6.51152e+06\tvalid-rmse:9.04837e+06\n",
      "[160]\ttrain-rmse:6.39372e+06\tvalid-rmse:9.013e+06\n",
      "Stopping. Best iteration:\n",
      "[67]\ttrain-rmse:7.67652e+06\tvalid-rmse:8.89435e+06\n",
      "\n",
      "[56.25297104740831, 72.21601367115757, 62.61135529282848, 53.05504887749004, 59.459131728325964, 59.87678916952205, 54.89271290080495]\n",
      "[0]\ttrain-rmse:1.94505e+07\tvalid-rmse:1.95053e+07\n",
      "Multiple eval metrics have been passed: 'valid-rmse' will be used for early stopping.\n",
      "\n",
      "Will train until valid-rmse hasn't improved in 100 rounds.\n",
      "[10]\ttrain-rmse:1.04706e+07\tvalid-rmse:1.16366e+07\n",
      "[20]\ttrain-rmse:9.41176e+06\tvalid-rmse:1.13248e+07\n",
      "[30]\ttrain-rmse:8.87411e+06\tvalid-rmse:1.12749e+07\n",
      "[40]\ttrain-rmse:8.48117e+06\tvalid-rmse:1.12247e+07\n",
      "[50]\ttrain-rmse:8.13137e+06\tvalid-rmse:1.12704e+07\n",
      "[60]\ttrain-rmse:7.81358e+06\tvalid-rmse:1.11732e+07\n",
      "[70]\ttrain-rmse:7.53427e+06\tvalid-rmse:1.10494e+07\n",
      "[80]\ttrain-rmse:7.3058e+06\tvalid-rmse:1.10577e+07\n",
      "[90]\ttrain-rmse:7.16852e+06\tvalid-rmse:1.10885e+07\n",
      "[100]\ttrain-rmse:6.96711e+06\tvalid-rmse:1.10991e+07\n",
      "[110]\ttrain-rmse:6.82136e+06\tvalid-rmse:1.10198e+07\n",
      "[120]\ttrain-rmse:6.7112e+06\tvalid-rmse:1.1042e+07\n",
      "[130]\ttrain-rmse:6.58773e+06\tvalid-rmse:1.10039e+07\n",
      "[140]\ttrain-rmse:6.46964e+06\tvalid-rmse:1.10302e+07\n",
      "[150]\ttrain-rmse:6.37128e+06\tvalid-rmse:1.10248e+07\n",
      "[160]\ttrain-rmse:6.29814e+06\tvalid-rmse:1.10544e+07\n",
      "[170]\ttrain-rmse:6.22521e+06\tvalid-rmse:1.1132e+07\n",
      "[180]\ttrain-rmse:6.15182e+06\tvalid-rmse:1.11524e+07\n",
      "[190]\ttrain-rmse:6.08799e+06\tvalid-rmse:1.11311e+07\n",
      "[200]\ttrain-rmse:6.01659e+06\tvalid-rmse:1.12152e+07\n",
      "[210]\ttrain-rmse:5.95285e+06\tvalid-rmse:1.12307e+07\n",
      "[220]\ttrain-rmse:5.89324e+06\tvalid-rmse:1.1236e+07\n",
      "[230]\ttrain-rmse:5.83898e+06\tvalid-rmse:1.12861e+07\n",
      "Stopping. Best iteration:\n",
      "[136]\ttrain-rmse:6.5072e+06\tvalid-rmse:1.09844e+07\n",
      "\n",
      "[56.25297104740831, 72.21601367115757, 62.61135529282848, 53.05504887749004, 59.459131728325964, 59.87678916952205, 54.89271290080495, 69.005674928709]\n",
      "[0]\ttrain-rmse:1.94413e+07\tvalid-rmse:1.99407e+07\n",
      "Multiple eval metrics have been passed: 'valid-rmse' will be used for early stopping.\n",
      "\n",
      "Will train until valid-rmse hasn't improved in 100 rounds.\n",
      "[10]\ttrain-rmse:1.05072e+07\tvalid-rmse:1.19532e+07\n",
      "[20]\ttrain-rmse:9.47813e+06\tvalid-rmse:1.17337e+07\n",
      "[30]\ttrain-rmse:8.77986e+06\tvalid-rmse:1.15417e+07\n",
      "[40]\ttrain-rmse:8.33847e+06\tvalid-rmse:1.15254e+07\n",
      "[50]\ttrain-rmse:8.0193e+06\tvalid-rmse:1.15428e+07\n",
      "[60]\ttrain-rmse:7.75134e+06\tvalid-rmse:1.15404e+07\n",
      "[70]\ttrain-rmse:7.53885e+06\tvalid-rmse:1.16738e+07\n",
      "[80]\ttrain-rmse:7.34747e+06\tvalid-rmse:1.16352e+07\n",
      "[90]\ttrain-rmse:7.11359e+06\tvalid-rmse:1.17506e+07\n",
      "[100]\ttrain-rmse:6.95354e+06\tvalid-rmse:1.1904e+07\n",
      "[110]\ttrain-rmse:6.81181e+06\tvalid-rmse:1.19744e+07\n",
      "[120]\ttrain-rmse:6.67613e+06\tvalid-rmse:1.22492e+07\n",
      "[130]\ttrain-rmse:6.56157e+06\tvalid-rmse:1.23696e+07\n",
      "[140]\ttrain-rmse:6.45827e+06\tvalid-rmse:1.24353e+07\n",
      "Stopping. Best iteration:\n",
      "[42]\ttrain-rmse:8.2725e+06\tvalid-rmse:1.15067e+07\n",
      "\n",
      "[56.25297104740831, 72.21601367115757, 62.61135529282848, 53.05504887749004, 59.459131728325964, 59.87678916952205, 54.89271290080495, 69.005674928709, 61.92007724634239]\n",
      "[0]\ttrain-rmse:1.94763e+07\tvalid-rmse:1.90823e+07\n",
      "Multiple eval metrics have been passed: 'valid-rmse' will be used for early stopping.\n",
      "\n",
      "Will train until valid-rmse hasn't improved in 100 rounds.\n",
      "[10]\ttrain-rmse:1.05036e+07\tvalid-rmse:1.62243e+07\n",
      "[20]\ttrain-rmse:9.51962e+06\tvalid-rmse:1.59818e+07\n",
      "[30]\ttrain-rmse:8.93094e+06\tvalid-rmse:1.59436e+07\n",
      "[40]\ttrain-rmse:8.45608e+06\tvalid-rmse:1.61981e+07\n",
      "[50]\ttrain-rmse:8.07228e+06\tvalid-rmse:1.60128e+07\n",
      "[60]\ttrain-rmse:7.84867e+06\tvalid-rmse:1.59568e+07\n",
      "[70]\ttrain-rmse:7.61482e+06\tvalid-rmse:1.60526e+07\n",
      "[80]\ttrain-rmse:7.40596e+06\tvalid-rmse:1.59705e+07\n",
      "[90]\ttrain-rmse:7.21242e+06\tvalid-rmse:1.59872e+07\n",
      "[100]\ttrain-rmse:7.05541e+06\tvalid-rmse:1.59833e+07\n",
      "Stopping. Best iteration:\n",
      "[3]\ttrain-rmse:1.25607e+07\tvalid-rmse:1.45648e+07\n",
      "\n",
      "[56.25297104740831, 72.21601367115757, 62.61135529282848, 53.05504887749004, 59.459131728325964, 59.87678916952205, 54.89271290080495, 69.005674928709, 61.92007724634239, 110.31389965309295]\n",
      "[0]\ttrain-rmse:1.88899e+07\tvalid-rmse:2.54466e+07\n",
      "Multiple eval metrics have been passed: 'valid-rmse' will be used for early stopping.\n",
      "\n",
      "Will train until valid-rmse hasn't improved in 100 rounds.\n",
      "[10]\ttrain-rmse:1.01032e+07\tvalid-rmse:1.78784e+07\n",
      "[20]\ttrain-rmse:9.11357e+06\tvalid-rmse:1.78329e+07\n",
      "[30]\ttrain-rmse:8.50294e+06\tvalid-rmse:1.75557e+07\n",
      "[40]\ttrain-rmse:8.13009e+06\tvalid-rmse:1.74168e+07\n",
      "[50]\ttrain-rmse:7.75706e+06\tvalid-rmse:1.73988e+07\n",
      "[60]\ttrain-rmse:7.4359e+06\tvalid-rmse:1.73952e+07\n",
      "[70]\ttrain-rmse:7.22978e+06\tvalid-rmse:1.74698e+07\n",
      "[80]\ttrain-rmse:7.03172e+06\tvalid-rmse:1.7534e+07\n",
      "[90]\ttrain-rmse:6.86161e+06\tvalid-rmse:1.76632e+07\n",
      "[100]\ttrain-rmse:6.67994e+06\tvalid-rmse:1.78428e+07\n",
      "[110]\ttrain-rmse:6.54295e+06\tvalid-rmse:1.78357e+07\n",
      "[120]\ttrain-rmse:6.42213e+06\tvalid-rmse:1.783e+07\n",
      "[130]\ttrain-rmse:6.31044e+06\tvalid-rmse:1.77621e+07\n",
      "[140]\ttrain-rmse:6.19709e+06\tvalid-rmse:1.7734e+07\n",
      "[150]\ttrain-rmse:6.09007e+06\tvalid-rmse:1.77479e+07\n",
      "Stopping. Best iteration:\n",
      "[54]\ttrain-rmse:7.62289e+06\tvalid-rmse:1.7329e+07\n",
      "\n",
      "[56.25297104740831, 72.21601367115757, 62.61135529282848, 53.05504887749004, 59.459131728325964, 59.87678916952205, 54.89271290080495, 69.005674928709, 61.92007724634239, 110.31389965309295, 75.50985549952333]\n",
      "[0]\ttrain-rmse:1.8772e+07\tvalid-rmse:2.60064e+07\n",
      "Multiple eval metrics have been passed: 'valid-rmse' will be used for early stopping.\n",
      "\n",
      "Will train until valid-rmse hasn't improved in 100 rounds.\n",
      "[10]\ttrain-rmse:1.00066e+07\tvalid-rmse:1.78623e+07\n",
      "[20]\ttrain-rmse:8.89688e+06\tvalid-rmse:1.73085e+07\n",
      "[30]\ttrain-rmse:8.31604e+06\tvalid-rmse:1.6998e+07\n",
      "[40]\ttrain-rmse:7.90757e+06\tvalid-rmse:1.70495e+07\n",
      "[50]\ttrain-rmse:7.59838e+06\tvalid-rmse:1.73262e+07\n",
      "[60]\ttrain-rmse:7.33657e+06\tvalid-rmse:1.73223e+07\n",
      "[70]\ttrain-rmse:7.09229e+06\tvalid-rmse:1.74923e+07\n",
      "[80]\ttrain-rmse:6.9169e+06\tvalid-rmse:1.75201e+07\n",
      "[90]\ttrain-rmse:6.71961e+06\tvalid-rmse:1.76164e+07\n",
      "[100]\ttrain-rmse:6.57306e+06\tvalid-rmse:1.76214e+07\n",
      "[110]\ttrain-rmse:6.44191e+06\tvalid-rmse:1.77902e+07\n",
      "[120]\ttrain-rmse:6.32195e+06\tvalid-rmse:1.78267e+07\n",
      "[130]\ttrain-rmse:6.20282e+06\tvalid-rmse:1.78833e+07\n",
      "Stopping. Best iteration:\n",
      "[33]\ttrain-rmse:8.20504e+06\tvalid-rmse:1.69722e+07\n",
      "\n",
      "[56.25297104740831, 72.21601367115757, 62.61135529282848, 53.05504887749004, 59.459131728325964, 59.87678916952205, 54.89271290080495, 69.005674928709, 61.92007724634239, 110.31389965309295, 75.50985549952333, 72.9750806425643]\n",
      "67.3407175548141\n"
     ]
    }
   ],
   "source": [
    "preds = []\n",
    "for i in range(1,13):\n",
    "    # 한달에서도 랜덤 샘플 반 뽑기\n",
    "    test_idx = random.sample(list(X[X['방송월'] == i].index), int(len(X[X['방송월'] == 1]) / 2))\n",
    "    train_idx = set(X.index) - set(test_idx)\n",
    "    \n",
    "    train = X.loc[train_idx]\n",
    "    test = X.loc[test_idx]\n",
    "    y_test = y.loc[test_idx]\n",
    "    \n",
    "    x_train = train[train['방송월'] != i]\n",
    "    y_train = y.loc[train[train['방송월'] != i].index]\n",
    "    \n",
    "    x_val = train[train['방송월'] == i]\n",
    "    y_val = y.loc[train[train['방송월'] == i].index]\n",
    "    \n",
    "    dtrain = xgb.DMatrix(x_train, label = y_train)\n",
    "    dvalid = xgb.DMatrix(x_val, label = y_val)\n",
    "    \n",
    "    watchlist = [(dtrain, 'train'), (dvalid, 'valid')]\n",
    "    \n",
    "    model = xgb.train(xgb_pars, dtrain, 10000, watchlist, early_stopping_rounds=100, verbose_eval=10)\n",
    "    \n",
    "    dtest = xgb.DMatrix(test)\n",
    "    pred = model.predict(dtest)\n",
    "#     pred = model.predict(val_x.values)\n",
    "    preds.append(mean_absolute_percentage_error(y_test, pred))\n",
    "    print(preds)\n",
    "print(np.mean(preds))"
   ]
  },
  {
   "cell_type": "code",
   "execution_count": 84,
   "metadata": {
    "Collapsed": "false"
   },
   "outputs": [],
   "source": [
    "import matplotlib.pyplot as plt\n",
    "%matplotlib inline"
   ]
  },
  {
   "cell_type": "code",
   "execution_count": 102,
   "metadata": {
    "Collapsed": "false"
   },
   "outputs": [
    {
     "data": {
      "image/png": "[encoded data removed]",
      "text/plain": [
       "<Figure size 720x504 with 1 Axes>"
      ]
     },
     "metadata": {
      "needs_background": "light"
     },
     "output_type": "display_data"
    }
   ],
   "source": [
    "plt.figure(figsize = (10, 7))\n",
    "plt.plot(preds)\n",
    "plt.xlabel('Month', fontsize = 14)\n",
    "plt.title('MAPE', fontsize = 15)\n",
    "plt.show()"
   ]
  },
  {
   "cell_type": "code",
   "execution_count": null,
   "metadata": {
    "Collapsed": "false"
   },
   "outputs": [],
   "source": []
  },
  {
   "cell_type": "code",
   "execution_count": null,
   "metadata": {
    "Collapsed": "false"
   },
   "outputs": [],
   "source": []
  }
 ],
 "metadata": {
  "kernelspec": {
   "display_name": "Python 3",
   "language": "python",
   "name": "python3"
  },
  "language_info": {
   "codemirror_mode": {
    "name": "ipython",
    "version": 3
   },
   "file_extension": ".py",
   "mimetype": "text/x-python",
   "name": "python",
   "nbconvert_exporter": "python",
   "pygments_lexer": "ipython3",
   "version": "3.7.6"
  }
 },
 "nbformat": 4,
 "nbformat_minor": 4
}
