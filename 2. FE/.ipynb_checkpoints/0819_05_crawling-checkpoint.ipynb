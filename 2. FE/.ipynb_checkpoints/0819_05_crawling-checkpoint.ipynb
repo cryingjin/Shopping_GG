{
 "cells": [
  {
   "cell_type": "code",
   "execution_count": 2,
   "metadata": {
    "Collapsed": "false"
   },
   "outputs": [],
   "source": [
    "import re\n",
    "import json\n",
    "import requests\n",
    "import pandas as pd\n",
    "from tqdm import tqdm\n",
    "from bs4 import BeautifulSoup"
   ]
  },
  {
   "cell_type": "markdown",
   "metadata": {
    "Collapsed": "false"
   },
   "source": [
    "# 1. NS Shop 상품 카테고리 크롤링"
   ]
  },
  {
   "cell_type": "code",
   "execution_count": 3,
   "metadata": {
    "Collapsed": "false"
   },
   "outputs": [],
   "source": [
    "headers = {\n",
    "    'User-Agent': 'Mozilla/5.0 (Macintosh; Intel Mac OS X 10_15_6) AppleWebKit/537.36 (KHTML, like Gecko) Chrome/84.0.4147.125 Safari/537.36'\n",
    "}"
   ]
  },
  {
   "cell_type": "code",
   "execution_count": 7,
   "metadata": {
    "Collapsed": "false"
   },
   "outputs": [],
   "source": [
    "def getCategory():\n",
    "    url = 'http://www.nsmall.com/CategoryDisplay?cate1Code=1583596&cate2Code=1583567&storeId=13001&langId=-9&catalogId=97001&menuUri=NSCategorySubDisplay&categoryId=1583567'\n",
    "    response = requests.get(url, headers = headers)\n",
    "    soup = BeautifulSoup(response.text, 'html.parser')\n",
    "    \n",
    "    category = list(map(lambda x : x.text, soup.select('div.category_layer_wrapper > div > h3')))\n",
    "    items = soup.select('li.cate_item')\n",
    "    total = []\n",
    "    for i, item in enumerate(items):\n",
    "        if i  < 3:\n",
    "            cate = category[0]\n",
    "        elif i < 8:\n",
    "            cate = category[1]\n",
    "        else:\n",
    "            cate = category[2]\n",
    "\n",
    "        cate_code = str(item.select_one('a')).split('cate1Code=')[1].split('&')[0]\n",
    "        main_code = str(item.select_one('a')).split('cate2Code=')[1].split('&')[0]\n",
    "        main = item.select_one('a > span').text\n",
    "\n",
    "        raw_sub = item.select('div.low_depth_wrap > ul > li')\n",
    "\n",
    "        value = [[cate_code, cate, main_code, main, s['id'], s.select_one('a > span').text] for s in raw_sub]\n",
    "        total.extend(value)\n",
    "    return total"
   ]
  },
  {
   "cell_type": "code",
   "execution_count": 8,
   "metadata": {
    "Collapsed": "false"
   },
   "outputs": [],
   "source": [
    "category = getCategory()"
   ]
  },
  {
   "cell_type": "code",
   "execution_count": 9,
   "metadata": {
    "Collapsed": "false"
   },
   "outputs": [],
   "source": [
    "ns_category = pd.DataFrame(category, columns = ['cate1Code', 'cate1', 'cate2Code', 'cate2', 'mainCode', 'main'])"
   ]
  },
  {
   "cell_type": "code",
   "execution_count": 10,
   "metadata": {
    "Collapsed": "false"
   },
   "outputs": [
    {
     "data": {
      "text/html": [
       "<div>\n",
       "<style scoped>\n",
       "    .dataframe tbody tr th:only-of-type {\n",
       "        vertical-align: middle;\n",
       "    }\n",
       "\n",
       "    .dataframe tbody tr th {\n",
       "        vertical-align: top;\n",
       "    }\n",
       "\n",
       "    .dataframe thead th {\n",
       "        text-align: right;\n",
       "    }\n",
       "</style>\n",
       "<table border=\"1\" class=\"dataframe\">\n",
       "  <thead>\n",
       "    <tr style=\"text-align: right;\">\n",
       "      <th></th>\n",
       "      <th>cate1Code</th>\n",
       "      <th>cate1</th>\n",
       "      <th>cate2Code</th>\n",
       "      <th>cate2</th>\n",
       "      <th>mainCode</th>\n",
       "      <th>main</th>\n",
       "    </tr>\n",
       "  </thead>\n",
       "  <tbody>\n",
       "    <tr>\n",
       "      <th>0</th>\n",
       "      <td>1583595</td>\n",
       "      <td>푸드/헬스</td>\n",
       "      <td>1583566</td>\n",
       "      <td>가공식품</td>\n",
       "      <td>1583608</td>\n",
       "      <td>간편/즉석요리</td>\n",
       "    </tr>\n",
       "    <tr>\n",
       "      <th>1</th>\n",
       "      <td>1583595</td>\n",
       "      <td>푸드/헬스</td>\n",
       "      <td>1583566</td>\n",
       "      <td>가공식품</td>\n",
       "      <td>1583609</td>\n",
       "      <td>과자/간식</td>\n",
       "    </tr>\n",
       "    <tr>\n",
       "      <th>2</th>\n",
       "      <td>1583595</td>\n",
       "      <td>푸드/헬스</td>\n",
       "      <td>1583566</td>\n",
       "      <td>가공식품</td>\n",
       "      <td>1583610</td>\n",
       "      <td>김치/반찬</td>\n",
       "    </tr>\n",
       "    <tr>\n",
       "      <th>3</th>\n",
       "      <td>1583595</td>\n",
       "      <td>푸드/헬스</td>\n",
       "      <td>1583566</td>\n",
       "      <td>가공식품</td>\n",
       "      <td>1583611</td>\n",
       "      <td>라면/면/스프</td>\n",
       "    </tr>\n",
       "    <tr>\n",
       "      <th>4</th>\n",
       "      <td>1583595</td>\n",
       "      <td>푸드/헬스</td>\n",
       "      <td>1583566</td>\n",
       "      <td>가공식품</td>\n",
       "      <td>1583612</td>\n",
       "      <td>조미료/소스/장류</td>\n",
       "    </tr>\n",
       "  </tbody>\n",
       "</table>\n",
       "</div>"
      ],
      "text/plain": [
       "  cate1Code  cate1 cate2Code cate2 mainCode       main\n",
       "0   1583595  푸드/헬스   1583566  가공식품  1583608    간편/즉석요리\n",
       "1   1583595  푸드/헬스   1583566  가공식품  1583609      과자/간식\n",
       "2   1583595  푸드/헬스   1583566  가공식품  1583610      김치/반찬\n",
       "3   1583595  푸드/헬스   1583566  가공식품  1583611    라면/면/스프\n",
       "4   1583595  푸드/헬스   1583566  가공식품  1583612  조미료/소스/장류"
      ]
     },
     "execution_count": 10,
     "metadata": {},
     "output_type": "execute_result"
    }
   ],
   "source": [
    "ns_category.head()"
   ]
  },
  {
   "cell_type": "code",
   "execution_count": 12,
   "metadata": {
    "Collapsed": "false"
   },
   "outputs": [
    {
     "name": "stderr",
     "output_type": "stream",
     "text": [
      "100%|██████████| 13/13 [00:19<00:00,  1.53s/it]\n"
     ]
    }
   ],
   "source": [
    "total = []\n",
    "for cate1Code, cate2Code in tqdm(ns_category[['cate1Code', 'cate2Code']].drop_duplicates().values):\n",
    "    url = f'http://www.nsmall.com/CategoryDisplay?cate1Code={cate1Code}&cate2Code={cate2Code}&storeId=13001&langId=-9&catalogId=97001&menuUri=NSCategorySubDisplay&categoryId={cate2Code}'\n",
    "    response = requests.get(url, headers = headers)\n",
    "    soup = BeautifulSoup(response.text, 'html.parser')\n",
    "    \n",
    "    for sub in soup.select('div.depth_2'):\n",
    "        value = [[str(s).split('cate3Code=')[1][:7], str(s).split('categoryId=')[1][:7], s.text] for s in sub.select('ul > li > a')]\n",
    "        total.extend(value)"
   ]
  },
  {
   "cell_type": "code",
   "execution_count": 13,
   "metadata": {
    "Collapsed": "false"
   },
   "outputs": [
    {
     "data": {
      "text/plain": [
       "(67, 425)"
      ]
     },
     "execution_count": 13,
     "metadata": {},
     "output_type": "execute_result"
    }
   ],
   "source": [
    "len(ns_category), len(total)"
   ]
  },
  {
   "cell_type": "code",
   "execution_count": 14,
   "metadata": {
    "Collapsed": "false"
   },
   "outputs": [],
   "source": [
    "ns_category = ns_category.merge(pd.DataFrame(total, columns = ['mainCode', 'subCode', 'sub']), on = 'mainCode', how = 'right').sort_values('cate2')"
   ]
  },
  {
   "cell_type": "code",
   "execution_count": null,
   "metadata": {
    "Collapsed": "false"
   },
   "outputs": [],
   "source": [
    "ns_category.to_excel(os.path.join('..', '0.Data', '01_제공데이터', 'ns_shop_category.xlsx'), index = False)"
   ]
  },
  {
   "cell_type": "code",
   "execution_count": null,
   "metadata": {
    "Collapsed": "false"
   },
   "outputs": [],
   "source": []
  },
  {
   "cell_type": "code",
   "execution_count": null,
   "metadata": {
    "Collapsed": "false"
   },
   "outputs": [],
   "source": []
  },
  {
   "cell_type": "code",
   "execution_count": null,
   "metadata": {
    "Collapsed": "false"
   },
   "outputs": [],
   "source": []
  },
  {
   "cell_type": "code",
   "execution_count": null,
   "metadata": {
    "Collapsed": "false"
   },
   "outputs": [],
   "source": []
  },
  {
   "cell_type": "code",
   "execution_count": null,
   "metadata": {
    "Collapsed": "false"
   },
   "outputs": [],
   "source": []
  }
 ],
 "metadata": {
  "kernelspec": {
   "display_name": "Python 3",
   "language": "python",
   "name": "python3"
  },
  "language_info": {
   "codemirror_mode": {
    "name": "ipython",
    "version": 3
   },
   "file_extension": ".py",
   "mimetype": "text/x-python",
   "name": "python",
   "nbconvert_exporter": "python",
   "pygments_lexer": "ipython3",
   "version": "3.7.6"
  }
 },
 "nbformat": 4,
 "nbformat_minor": 4
}
