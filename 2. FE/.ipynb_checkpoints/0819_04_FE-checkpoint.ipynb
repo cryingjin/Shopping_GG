{
 "cells": [
  {
   "cell_type": "code",
   "execution_count": 429,
   "metadata": {
    "Collapsed": "false"
   },
   "outputs": [],
   "source": [
    "import os\n",
    "import sys\n",
    "import numpy as np\n",
    "import pandas as pd"
   ]
  },
  {
   "cell_type": "markdown",
   "metadata": {
    "Collapsed": "false"
   },
   "source": [
    "# 0. 데이터 로드"
   ]
  },
  {
   "cell_type": "code",
   "execution_count": 453,
   "metadata": {
    "Collapsed": "false"
   },
   "outputs": [],
   "source": [
    "sale = pd.read_excel(os.path.join('..', '0.Data', '01_제공데이터', 'sale_data_v03_0820.xlsx'))\n",
    "meta = pd.read_excel(os.path.join('..', '0.Data', '01_제공데이터', 'sale_meta_v03_0820.xlsx'))\n",
    "item = pd.read_excel(os.path.join('..', '0.Data', '01_제공데이터', 'item_meta_v02_0820.xlsx'))"
   ]
  },
  {
   "cell_type": "code",
   "execution_count": 431,
   "metadata": {
    "Collapsed": "false"
   },
   "outputs": [],
   "source": [
    "pd.set_option('display.float_format', lambda x: '%.3f' % x)"
   ]
  },
  {
   "cell_type": "markdown",
   "metadata": {
    "Collapsed": "false"
   },
   "source": [
    "# 1. 피처 엔지니어링"
   ]
  },
  {
   "cell_type": "code",
   "execution_count": 417,
   "metadata": {
    "Collapsed": "false"
   },
   "outputs": [],
   "source": [
    "def preprocessing(df):\n",
    "    ## [공휴일여부]\n",
    "    \n",
    "    ## 날짜 및 시간대\n",
    "    df['방송월'] = df['방송일시'].dt.month\n",
    "    df['방송시간(시간)'] = df['방송일시'].dt.hour.apply(lambda x : 24 if x == 0 else x)\n",
    "    df['방송시간(분)'] = df['방송일시'].dt.minute\n",
    "    \n",
    "    \n",
    "    ## [평일여부] (평일 : 0, 주말 : 1)\n",
    "    \n",
    "    \n",
    "    ## [방송시간대] (아침/오전/오후/저녁/밤 (아침(6:00~9:00)/오전(9:00~12:00)/오후(12:00~18:00)/저녁(18:00~22:00)/밤(22:00~2:00))\n",
    "    df['방송시간대'] = df['방송월'].dt.hour.apply(lambda x : '아침' if 5 < x <= 9 else \n",
    "                                          ('오전' if 10 <= x <= 12 else\n",
    "                                           ( '오후' if 13 <= x <= 18 else\n",
    "                                            ('저녁' if 19 <= x <= 22 else\n",
    "                                             ('밤' if 23 <= x < 3 else x)\n",
    "                                            ))))\n",
    "    ## [계절] (봄(3~5), 여름6~8), 가을(9~11), 겨울(12~2))\n",
    "    df['계절'] = df['방송월'].apply(lambda x : '봄' if 3 <= x <= 5 else\n",
    "                            ('여름' if 6 <= x <= 8 else\n",
    "                             ('가을' if 9 <= x <= 11 else \n",
    "                              ('겨울' if x < 3 or x > 11 else x))))\n",
    "    \n",
    "    ## [분기] \n",
    "    df['분기'] = df['방송월'].apply(lambda x : '1분기' if 1 <= x <= 3 else\n",
    "                            ('2분기' if 4 <= x <= 6 else\n",
    "                             ('3분기' if 7 <= x <= 9 else \n",
    "                              ('4분기' if 10 <= x <= 12 else x))))\n",
    "    \n",
    "    \n",
    "    \n",
    "    ## [성별] (공용 : 0, 남성 : 1, 여성 : 2)\n",
    "    df['성별'] = df['NEW상품명'].apply(lambda x : 1 if '남성' in x else (2 if '여성' in x else 0)).value_counts()"
   ]
  },
  {
   "cell_type": "markdown",
   "metadata": {
    "Collapsed": "false"
   },
   "source": [
    "## 1-1. 날짜"
   ]
  },
  {
   "cell_type": "markdown",
   "metadata": {
    "Collapsed": "false"
   },
   "source": [
    "### 1) 공휴일 여부"
   ]
  },
  {
   "cell_type": "code",
   "execution_count": 418,
   "metadata": {
    "Collapsed": "false"
   },
   "outputs": [],
   "source": [
    "# open API 사용\n",
    "# 공휴일은 당일 말고 주변 날짜까지 고려해야할듯 특히 설날/추석"
   ]
  },
  {
   "cell_type": "code",
   "execution_count": 560,
   "metadata": {
    "Collapsed": "false"
   },
   "outputs": [],
   "source": [
    "import json\n",
    "import requests\n",
    "key = '8wBiTSHPiK2z%2By8ETu%2FpYv%2FMAAdZoR8rZg3PIvSNCcD%2F26BiBPaosFs2dzrVJ%2BHUeaQGWb9c3T4vvNgMpI7fdw%3D%3D'"
   ]
  },
  {
   "cell_type": "code",
   "execution_count": 595,
   "metadata": {
    "Collapsed": "false"
   },
   "outputs": [],
   "source": [
    "# 2019 공휴일\n",
    "url = f'http://apis.data.go.kr/B090041/openapi/service/SpcdeInfoService/getRestDeInfo?solYear=2019&ServiceKey={key}&_type=json&numOfRows=20'\n",
    "response = requests.get(url)"
   ]
  },
  {
   "cell_type": "code",
   "execution_count": 599,
   "metadata": {
    "Collapsed": "false"
   },
   "outputs": [],
   "source": [
    "holidays = response.json()['response']['body']['items']['item']"
   ]
  },
  {
   "cell_type": "code",
   "execution_count": 602,
   "metadata": {
    "Collapsed": "false"
   },
   "outputs": [],
   "source": [
    "holi_2019 = pd.DataFrame(holidays)"
   ]
  },
  {
   "cell_type": "code",
   "execution_count": 603,
   "metadata": {},
   "outputs": [],
   "source": [
    "# 2020 공휴일"
   ]
  },
  {
   "cell_type": "code",
   "execution_count": 604,
   "metadata": {},
   "outputs": [],
   "source": [
    "url = f'http://apis.data.go.kr/B090041/openapi/service/SpcdeInfoService/getRestDeInfo?solYear=2020&ServiceKey={key}&_type=json&numOfRows=20'\n",
    "response = requests.get(url)"
   ]
  },
  {
   "cell_type": "code",
   "execution_count": 605,
   "metadata": {},
   "outputs": [],
   "source": [
    "holidays = response.json()['response']['body']['items']['item']"
   ]
  },
  {
   "cell_type": "code",
   "execution_count": 607,
   "metadata": {},
   "outputs": [],
   "source": [
    "holi_2020 = pd.DataFrame(holidays)"
   ]
  },
  {
   "cell_type": "code",
   "execution_count": null,
   "metadata": {},
   "outputs": [],
   "source": []
  },
  {
   "cell_type": "code",
   "execution_count": null,
   "metadata": {},
   "outputs": [],
   "source": []
  },
  {
   "cell_type": "code",
   "execution_count": null,
   "metadata": {},
   "outputs": [],
   "source": []
  },
  {
   "cell_type": "markdown",
   "metadata": {
    "Collapsed": "false"
   },
   "source": [
    "### 2) 평일/주말"
   ]
  },
  {
   "cell_type": "code",
   "execution_count": 419,
   "metadata": {
    "Collapsed": "false"
   },
   "outputs": [
    {
     "data": {
      "text/plain": [
       "6    5568\n",
       "2    5440\n",
       "1    5421\n",
       "3    5312\n",
       "0    5237\n",
       "4    5212\n",
       "5    5182\n",
       "Name: 방송일시, dtype: int64"
      ]
     },
     "execution_count": 419,
     "metadata": {},
     "output_type": "execute_result"
    }
   ],
   "source": [
    "sale['방송일시'].dt.weekday.value_counts()"
   ]
  },
  {
   "cell_type": "code",
   "execution_count": 420,
   "metadata": {
    "Collapsed": "false"
   },
   "outputs": [
    {
     "data": {
      "text/plain": [
       "0        0\n",
       "1        0\n",
       "2        0\n",
       "3        0\n",
       "4        0\n",
       "        ..\n",
       "37367    0\n",
       "37368    0\n",
       "37369    0\n",
       "37370    0\n",
       "37371    0\n",
       "Name: 방송일시, Length: 37372, dtype: int64"
      ]
     },
     "execution_count": 420,
     "metadata": {},
     "output_type": "execute_result"
    }
   ],
   "source": [
    "sale['방송일시'].dt.weekday.apply(lambda x : 0 if x < 5 else 1)"
   ]
  },
  {
   "cell_type": "markdown",
   "metadata": {
    "Collapsed": "false"
   },
   "source": [
    "### 3) 방송시간대"
   ]
  },
  {
   "cell_type": "code",
   "execution_count": 421,
   "metadata": {
    "Collapsed": "false"
   },
   "outputs": [],
   "source": [
    "# 방송시간대의 시간을 기준으로 시간대 분류\n",
    "# (아침(6:00~9:00)/오전(9:00~12:00)/오후(12:00~18:00)/저녁(18:00~22:00)/밤(22:00~2:00)"
   ]
  },
  {
   "cell_type": "code",
   "execution_count": 422,
   "metadata": {
    "Collapsed": "false"
   },
   "outputs": [
    {
     "data": {
      "text/plain": [
       "0         6\n",
       "1         6\n",
       "2         6\n",
       "3         6\n",
       "4         6\n",
       "         ..\n",
       "37367    23\n",
       "37368     0\n",
       "37369     0\n",
       "37370     0\n",
       "37371     0\n",
       "Name: 방송일시, Length: 37372, dtype: int64"
      ]
     },
     "execution_count": 422,
     "metadata": {},
     "output_type": "execute_result"
    }
   ],
   "source": [
    "sale['방송일시'].dt.hour"
   ]
  },
  {
   "cell_type": "code",
   "execution_count": 423,
   "metadata": {
    "Collapsed": "false"
   },
   "outputs": [
    {
     "data": {
      "text/plain": [
       "저녁    11406\n",
       "오후     8870\n",
       "아침     6061\n",
       "오전     5630\n",
       "밤      5405\n",
       "Name: 방송일시, dtype: int64"
      ]
     },
     "execution_count": 423,
     "metadata": {},
     "output_type": "execute_result"
    }
   ],
   "source": [
    "# 0을 24로 바꾸고 진행\n",
    "sale['방송일시'].dt.hour.apply(lambda x : '아침' if 5 < x <= 9 else \n",
    "                                          ('오전' if 10 <= x <= 12 else\n",
    "                                           ( '오후' if 13 <= x <= 18 else\n",
    "                                            ('저녁' if 19 <= x <= 22 else\n",
    "                                             ('밤' if 23 <= x or x < 3 else x)\n",
    "                                            )))).value_counts()"
   ]
  },
  {
   "cell_type": "markdown",
   "metadata": {
    "Collapsed": "false"
   },
   "source": [
    "### 4) 계절"
   ]
  },
  {
   "cell_type": "code",
   "execution_count": 424,
   "metadata": {
    "Collapsed": "false"
   },
   "outputs": [],
   "source": [
    "# 방송월을 기준으로 계절 분류\n",
    "# (3~5 : 봄, 6~8 : 여름, 9~11 : 가을, 12~2 : 겨울)"
   ]
  },
  {
   "cell_type": "code",
   "execution_count": 425,
   "metadata": {
    "Collapsed": "false"
   },
   "outputs": [
    {
     "data": {
      "text/plain": [
       "봄     10220\n",
       "여름     9493\n",
       "가을     8981\n",
       "겨울     8678\n",
       "Name: 방송일시, dtype: int64"
      ]
     },
     "execution_count": 425,
     "metadata": {},
     "output_type": "execute_result"
    }
   ],
   "source": [
    "sale['방송일시'].dt.month.apply(lambda x : '봄' if 3 <= x <= 5 else\n",
    "                            ('여름' if 6 <= x <= 8 else\n",
    "                             ('가을' if 9 <= x <= 11 else \n",
    "                              ('겨울' if x < 3 or x > 11 else x)))).value_counts()"
   ]
  },
  {
   "cell_type": "markdown",
   "metadata": {
    "Collapsed": "false"
   },
   "source": [
    "### 5) 분기"
   ]
  },
  {
   "cell_type": "code",
   "execution_count": 426,
   "metadata": {
    "Collapsed": "false"
   },
   "outputs": [
    {
     "data": {
      "text/plain": [
       "2분기    9983\n",
       "3분기    9609\n",
       "1분기    8942\n",
       "4분기    8838\n",
       "Name: 방송일시, dtype: int64"
      ]
     },
     "execution_count": 426,
     "metadata": {},
     "output_type": "execute_result"
    }
   ],
   "source": [
    "sale['방송일시'].dt.month.apply(lambda x : '1분기' if 1 <= x <= 3 else\n",
    "                            ('2분기' if 4 <= x <= 6 else\n",
    "                             ('3분기' if 7 <= x <= 9 else \n",
    "                              ('4분기' if 10 <= x <= 12 else x)))).value_counts()"
   ]
  },
  {
   "cell_type": "markdown",
   "metadata": {
    "Collapsed": "false"
   },
   "source": [
    "## 1-2. 가격"
   ]
  },
  {
   "cell_type": "markdown",
   "metadata": {
    "Collapsed": "false"
   },
   "source": [
    "### 1) 마더코드 별 가격"
   ]
  },
  {
   "cell_type": "code",
   "execution_count": 454,
   "metadata": {
    "Collapsed": "false"
   },
   "outputs": [
    {
     "data": {
      "text/plain": [
       "(2042, 14)"
      ]
     },
     "execution_count": 454,
     "metadata": {},
     "output_type": "execute_result"
    }
   ],
   "source": [
    "meta.shape"
   ]
  },
  {
   "cell_type": "code",
   "execution_count": 455,
   "metadata": {
    "Collapsed": "false"
   },
   "outputs": [
    {
     "data": {
      "text/html": [
       "<div>\n",
       "<style scoped>\n",
       "    .dataframe tbody tr th:only-of-type {\n",
       "        vertical-align: middle;\n",
       "    }\n",
       "\n",
       "    .dataframe tbody tr th {\n",
       "        vertical-align: top;\n",
       "    }\n",
       "\n",
       "    .dataframe thead th {\n",
       "        text-align: right;\n",
       "    }\n",
       "</style>\n",
       "<table border=\"1\" class=\"dataframe\">\n",
       "  <thead>\n",
       "    <tr style=\"text-align: right;\">\n",
       "      <th></th>\n",
       "      <th>상품코드</th>\n",
       "      <th>상품명</th>\n",
       "      <th>상품군</th>\n",
       "      <th>판매단가</th>\n",
       "      <th>결제방법</th>\n",
       "      <th>상품명다시</th>\n",
       "      <th>단위</th>\n",
       "      <th>브랜드</th>\n",
       "      <th>옵션</th>\n",
       "      <th>종류</th>\n",
       "      <th>모델명</th>\n",
       "      <th>성별</th>\n",
       "      <th>NEW상품명</th>\n",
       "      <th>NEW상품코드</th>\n",
       "    </tr>\n",
       "  </thead>\n",
       "  <tbody>\n",
       "    <tr>\n",
       "      <th>0</th>\n",
       "      <td>200944</td>\n",
       "      <td>[가이거] 블랙 에디션 다이아몬드 워치(남성용)</td>\n",
       "      <td>잡화</td>\n",
       "      <td>178000</td>\n",
       "      <td>0</td>\n",
       "      <td>남성 블랙 에디션 다이아몬드 워치</td>\n",
       "      <td>NaN</td>\n",
       "      <td>가이거</td>\n",
       "      <td>NaN</td>\n",
       "      <td>악세서리</td>\n",
       "      <td>NaN</td>\n",
       "      <td>nan</td>\n",
       "      <td>가이거 남성 블랙 에디션 다이아몬드 워치</td>\n",
       "      <td>0</td>\n",
       "    </tr>\n",
       "    <tr>\n",
       "      <th>1</th>\n",
       "      <td>200942</td>\n",
       "      <td>[가이거] 블랙 에디션 다이아몬드 워치(남성용)</td>\n",
       "      <td>잡화</td>\n",
       "      <td>178000</td>\n",
       "      <td>0</td>\n",
       "      <td>남성 블랙 에디션 다이아몬드 워치</td>\n",
       "      <td>NaN</td>\n",
       "      <td>가이거</td>\n",
       "      <td>NaN</td>\n",
       "      <td>악세서리</td>\n",
       "      <td>NaN</td>\n",
       "      <td>nan</td>\n",
       "      <td>가이거 남성 블랙 에디션 다이아몬드 워치</td>\n",
       "      <td>0</td>\n",
       "    </tr>\n",
       "    <tr>\n",
       "      <th>2</th>\n",
       "      <td>200948</td>\n",
       "      <td>무이자[가이거] 무빙스타 다이아몬드 워치</td>\n",
       "      <td>잡화</td>\n",
       "      <td>129000</td>\n",
       "      <td>2</td>\n",
       "      <td>무빙스타 다이아몬드 워치</td>\n",
       "      <td>NaN</td>\n",
       "      <td>가이거</td>\n",
       "      <td>NaN</td>\n",
       "      <td>악세서리</td>\n",
       "      <td>NaN</td>\n",
       "      <td>nan</td>\n",
       "      <td>가이거 무빙스타 다이아몬드 워치</td>\n",
       "      <td>1</td>\n",
       "    </tr>\n",
       "    <tr>\n",
       "      <th>3</th>\n",
       "      <td>200951</td>\n",
       "      <td>일시불[가이거] 무빙스타 다이아몬드 워치</td>\n",
       "      <td>잡화</td>\n",
       "      <td>119000</td>\n",
       "      <td>1</td>\n",
       "      <td>무빙스타 다이아몬드 워치</td>\n",
       "      <td>NaN</td>\n",
       "      <td>가이거</td>\n",
       "      <td>NaN</td>\n",
       "      <td>악세서리</td>\n",
       "      <td>NaN</td>\n",
       "      <td>nan</td>\n",
       "      <td>가이거 무빙스타 다이아몬드 워치</td>\n",
       "      <td>1</td>\n",
       "    </tr>\n",
       "    <tr>\n",
       "      <th>4</th>\n",
       "      <td>200946</td>\n",
       "      <td>[무이자] 가이거 무빙스타 다이아몬드 워치+보석함</td>\n",
       "      <td>잡화</td>\n",
       "      <td>119000</td>\n",
       "      <td>2</td>\n",
       "      <td>무빙스타 다이아몬드 워치 + 보석함</td>\n",
       "      <td>NaN</td>\n",
       "      <td>가이거</td>\n",
       "      <td>NaN</td>\n",
       "      <td>악세서리</td>\n",
       "      <td>NaN</td>\n",
       "      <td>nan</td>\n",
       "      <td>가이거 무빙스타 다이아몬드 워치 + 보석함</td>\n",
       "      <td>2</td>\n",
       "    </tr>\n",
       "  </tbody>\n",
       "</table>\n",
       "</div>"
      ],
      "text/plain": [
       "     상품코드                          상품명 상품군    판매단가  결제방법                상품명다시  \\\n",
       "0  200944   [가이거] 블랙 에디션 다이아몬드 워치(남성용)  잡화  178000     0   남성 블랙 에디션 다이아몬드 워치   \n",
       "1  200942   [가이거] 블랙 에디션 다이아몬드 워치(남성용)  잡화  178000     0   남성 블랙 에디션 다이아몬드 워치   \n",
       "2  200948       무이자[가이거] 무빙스타 다이아몬드 워치  잡화  129000     2        무빙스타 다이아몬드 워치   \n",
       "3  200951       일시불[가이거] 무빙스타 다이아몬드 워치  잡화  119000     1        무빙스타 다이아몬드 워치   \n",
       "4  200946  [무이자] 가이거 무빙스타 다이아몬드 워치+보석함  잡화  119000     2  무빙스타 다이아몬드 워치 + 보석함   \n",
       "\n",
       "    단위  브랜드   옵션    종류  모델명  성별                   NEW상품명  NEW상품코드  \n",
       "0  NaN  가이거  NaN  악세서리  NaN nan   가이거 남성 블랙 에디션 다이아몬드 워치        0  \n",
       "1  NaN  가이거  NaN  악세서리  NaN nan   가이거 남성 블랙 에디션 다이아몬드 워치        0  \n",
       "2  NaN  가이거  NaN  악세서리  NaN nan        가이거 무빙스타 다이아몬드 워치        1  \n",
       "3  NaN  가이거  NaN  악세서리  NaN nan        가이거 무빙스타 다이아몬드 워치        1  \n",
       "4  NaN  가이거  NaN  악세서리  NaN nan  가이거 무빙스타 다이아몬드 워치 + 보석함        2  "
      ]
     },
     "execution_count": 455,
     "metadata": {},
     "output_type": "execute_result"
    }
   ],
   "source": [
    "meta.head()"
   ]
  },
  {
   "cell_type": "code",
   "execution_count": 456,
   "metadata": {
    "Collapsed": "false"
   },
   "outputs": [],
   "source": [
    "meta = meta.merge(sale[['상품코드', '마더코드']].drop_duplicates(), on = '상품코드', how = 'left')"
   ]
  },
  {
   "cell_type": "code",
   "execution_count": 457,
   "metadata": {
    "Collapsed": "false"
   },
   "outputs": [
    {
     "data": {
      "text/html": [
       "<div>\n",
       "<style scoped>\n",
       "    .dataframe tbody tr th:only-of-type {\n",
       "        vertical-align: middle;\n",
       "    }\n",
       "\n",
       "    .dataframe tbody tr th {\n",
       "        vertical-align: top;\n",
       "    }\n",
       "\n",
       "    .dataframe thead tr th {\n",
       "        text-align: left;\n",
       "    }\n",
       "\n",
       "    .dataframe thead tr:last-of-type th {\n",
       "        text-align: right;\n",
       "    }\n",
       "</style>\n",
       "<table border=\"1\" class=\"dataframe\">\n",
       "  <thead>\n",
       "    <tr>\n",
       "      <th></th>\n",
       "      <th colspan=\"6\" halign=\"left\">판매단가</th>\n",
       "    </tr>\n",
       "    <tr>\n",
       "      <th></th>\n",
       "      <th>최고판매단가</th>\n",
       "      <th>최저판매단가</th>\n",
       "      <th>평균판매단가</th>\n",
       "      <th>temp</th>\n",
       "      <th>분산</th>\n",
       "      <th>표준편차</th>\n",
       "    </tr>\n",
       "    <tr>\n",
       "      <th>마더코드</th>\n",
       "      <th></th>\n",
       "      <th></th>\n",
       "      <th></th>\n",
       "      <th></th>\n",
       "      <th></th>\n",
       "      <th></th>\n",
       "    </tr>\n",
       "  </thead>\n",
       "  <tbody>\n",
       "    <tr>\n",
       "      <th>100000</th>\n",
       "      <td>79900</td>\n",
       "      <td>79900</td>\n",
       "      <td>79900.000</td>\n",
       "      <td>0</td>\n",
       "      <td>nan</td>\n",
       "      <td>nan</td>\n",
       "    </tr>\n",
       "    <tr>\n",
       "      <th>100477</th>\n",
       "      <td>129000</td>\n",
       "      <td>129000</td>\n",
       "      <td>129000.000</td>\n",
       "      <td>0</td>\n",
       "      <td>nan</td>\n",
       "      <td>nan</td>\n",
       "    </tr>\n",
       "    <tr>\n",
       "      <th>100476</th>\n",
       "      <td>60900</td>\n",
       "      <td>60900</td>\n",
       "      <td>60900.000</td>\n",
       "      <td>0</td>\n",
       "      <td>nan</td>\n",
       "      <td>nan</td>\n",
       "    </tr>\n",
       "    <tr>\n",
       "      <th>100475</th>\n",
       "      <td>59800</td>\n",
       "      <td>59800</td>\n",
       "      <td>59800.000</td>\n",
       "      <td>0</td>\n",
       "      <td>0.000</td>\n",
       "      <td>0.000</td>\n",
       "    </tr>\n",
       "    <tr>\n",
       "      <th>100473</th>\n",
       "      <td>129000</td>\n",
       "      <td>129000</td>\n",
       "      <td>129000.000</td>\n",
       "      <td>0</td>\n",
       "      <td>0.000</td>\n",
       "      <td>0.000</td>\n",
       "    </tr>\n",
       "    <tr>\n",
       "      <th>...</th>\n",
       "      <td>...</td>\n",
       "      <td>...</td>\n",
       "      <td>...</td>\n",
       "      <td>...</td>\n",
       "      <td>...</td>\n",
       "      <td>...</td>\n",
       "    </tr>\n",
       "    <tr>\n",
       "      <th>100575</th>\n",
       "      <td>2880000</td>\n",
       "      <td>1000000</td>\n",
       "      <td>1780625.000</td>\n",
       "      <td>1880000</td>\n",
       "      <td>499728629032.258</td>\n",
       "      <td>706914.867</td>\n",
       "    </tr>\n",
       "    <tr>\n",
       "      <th>100148</th>\n",
       "      <td>3190000</td>\n",
       "      <td>1200000</td>\n",
       "      <td>2102686.567</td>\n",
       "      <td>1990000</td>\n",
       "      <td>436256309362.279</td>\n",
       "      <td>660497.017</td>\n",
       "    </tr>\n",
       "    <tr>\n",
       "      <th>100036</th>\n",
       "      <td>2730000</td>\n",
       "      <td>380000</td>\n",
       "      <td>1597500.000</td>\n",
       "      <td>2350000</td>\n",
       "      <td>1524491666666.667</td>\n",
       "      <td>1234703.068</td>\n",
       "    </tr>\n",
       "    <tr>\n",
       "      <th>100786</th>\n",
       "      <td>3990000</td>\n",
       "      <td>490000</td>\n",
       "      <td>1631904.762</td>\n",
       "      <td>3500000</td>\n",
       "      <td>900156190476.190</td>\n",
       "      <td>948765.614</td>\n",
       "    </tr>\n",
       "    <tr>\n",
       "      <th>100788</th>\n",
       "      <td>7930000</td>\n",
       "      <td>520000</td>\n",
       "      <td>2770714.286</td>\n",
       "      <td>7410000</td>\n",
       "      <td>3836114835164.835</td>\n",
       "      <td>1958600.223</td>\n",
       "    </tr>\n",
       "  </tbody>\n",
       "</table>\n",
       "<p>687 rows × 6 columns</p>\n",
       "</div>"
      ],
      "text/plain": [
       "           판매단가                                                            \n",
       "         최고판매단가   최저판매단가      평균판매단가     temp                분산        표준편차\n",
       "마더코드                                                                       \n",
       "100000    79900    79900   79900.000        0               nan         nan\n",
       "100477   129000   129000  129000.000        0               nan         nan\n",
       "100476    60900    60900   60900.000        0               nan         nan\n",
       "100475    59800    59800   59800.000        0             0.000       0.000\n",
       "100473   129000   129000  129000.000        0             0.000       0.000\n",
       "...         ...      ...         ...      ...               ...         ...\n",
       "100575  2880000  1000000 1780625.000  1880000  499728629032.258  706914.867\n",
       "100148  3190000  1200000 2102686.567  1990000  436256309362.279  660497.017\n",
       "100036  2730000   380000 1597500.000  2350000 1524491666666.667 1234703.068\n",
       "100786  3990000   490000 1631904.762  3500000  900156190476.190  948765.614\n",
       "100788  7930000   520000 2770714.286  7410000 3836114835164.835 1958600.223\n",
       "\n",
       "[687 rows x 6 columns]"
      ]
     },
     "execution_count": 457,
     "metadata": {},
     "output_type": "execute_result"
    }
   ],
   "source": [
    "meta.groupby('마더코드').agg({\n",
    "    '판매단가' : [('최고판매단가', np.max),\n",
    "             ('최저판매단가', np.min),\n",
    "              ('평균판매단가', np.mean),\n",
    "              ('temp', lambda x : np.max(x) - np.min(x)),\n",
    "              ('분산', np.var),\n",
    "              ('표준편차', np.std)\n",
    "             ]\n",
    "}).sort_values(('판매단가','temp'))"
   ]
  },
  {
   "cell_type": "code",
   "execution_count": 458,
   "metadata": {
    "Collapsed": "false"
   },
   "outputs": [
    {
     "data": {
      "text/html": [
       "<div>\n",
       "<style scoped>\n",
       "    .dataframe tbody tr th:only-of-type {\n",
       "        vertical-align: middle;\n",
       "    }\n",
       "\n",
       "    .dataframe tbody tr th {\n",
       "        vertical-align: top;\n",
       "    }\n",
       "\n",
       "    .dataframe thead th {\n",
       "        text-align: right;\n",
       "    }\n",
       "</style>\n",
       "<table border=\"1\" class=\"dataframe\">\n",
       "  <thead>\n",
       "    <tr style=\"text-align: right;\">\n",
       "      <th></th>\n",
       "      <th>상품코드</th>\n",
       "      <th>상품명</th>\n",
       "      <th>상품군</th>\n",
       "      <th>판매단가</th>\n",
       "      <th>결제방법</th>\n",
       "      <th>상품명다시</th>\n",
       "      <th>단위</th>\n",
       "      <th>브랜드</th>\n",
       "      <th>옵션</th>\n",
       "      <th>종류</th>\n",
       "      <th>모델명</th>\n",
       "      <th>성별</th>\n",
       "      <th>NEW상품명</th>\n",
       "      <th>NEW상품코드</th>\n",
       "      <th>마더코드</th>\n",
       "    </tr>\n",
       "  </thead>\n",
       "  <tbody>\n",
       "    <tr>\n",
       "      <th>262</th>\n",
       "      <td>202328</td>\n",
       "      <td>[루이띠에] 순금 37.5g 골드바</td>\n",
       "      <td>잡화</td>\n",
       "      <td>4250000</td>\n",
       "      <td>0</td>\n",
       "      <td>순금 골드바</td>\n",
       "      <td>37.5g</td>\n",
       "      <td>루이띠에</td>\n",
       "      <td>NaN</td>\n",
       "      <td>주얼리</td>\n",
       "      <td>NaN</td>\n",
       "      <td>nan</td>\n",
       "      <td>루이띠에 순금 골드바 37.5g</td>\n",
       "      <td>203</td>\n",
       "      <td>100788</td>\n",
       "    </tr>\n",
       "    <tr>\n",
       "      <th>263</th>\n",
       "      <td>202330</td>\n",
       "      <td>[루이띠에] 순금 70g 골드바</td>\n",
       "      <td>잡화</td>\n",
       "      <td>7930000</td>\n",
       "      <td>0</td>\n",
       "      <td>순금 골드바</td>\n",
       "      <td>70g</td>\n",
       "      <td>루이띠에</td>\n",
       "      <td>NaN</td>\n",
       "      <td>주얼리</td>\n",
       "      <td>NaN</td>\n",
       "      <td>nan</td>\n",
       "      <td>루이띠에 순금 골드바 70g</td>\n",
       "      <td>204</td>\n",
       "      <td>100788</td>\n",
       "    </tr>\n",
       "    <tr>\n",
       "      <th>264</th>\n",
       "      <td>202338</td>\n",
       "      <td>루이띠에 순금 미라클 트리플 링 15g+골드바 1g</td>\n",
       "      <td>잡화</td>\n",
       "      <td>1720000</td>\n",
       "      <td>0</td>\n",
       "      <td>순금 미라클 트리플 링 + 골드바</td>\n",
       "      <td>16g</td>\n",
       "      <td>루이띠에</td>\n",
       "      <td>NaN</td>\n",
       "      <td>주얼리</td>\n",
       "      <td>NaN</td>\n",
       "      <td>nan</td>\n",
       "      <td>루이띠에 순금 미라클 트리플 링 + 골드바 16g</td>\n",
       "      <td>205</td>\n",
       "      <td>100788</td>\n",
       "    </tr>\n",
       "    <tr>\n",
       "      <th>265</th>\n",
       "      <td>202339</td>\n",
       "      <td>루이띠에 순금 샤이닝 러브 목걸이 35g+골드바 1g</td>\n",
       "      <td>잡화</td>\n",
       "      <td>3650000</td>\n",
       "      <td>0</td>\n",
       "      <td>순금 샤이닝 러브 목걸이 + 골드바</td>\n",
       "      <td>36g</td>\n",
       "      <td>루이띠에</td>\n",
       "      <td>NaN</td>\n",
       "      <td>주얼리</td>\n",
       "      <td>NaN</td>\n",
       "      <td>nan</td>\n",
       "      <td>루이띠에 순금 샤이닝 러브 목걸이 + 골드바 36g</td>\n",
       "      <td>206</td>\n",
       "      <td>100788</td>\n",
       "    </tr>\n",
       "    <tr>\n",
       "      <th>266</th>\n",
       "      <td>202340</td>\n",
       "      <td>루이띠에 순금 샤이닝 러브 팔찌 35g+골드바 1g</td>\n",
       "      <td>잡화</td>\n",
       "      <td>3650000</td>\n",
       "      <td>0</td>\n",
       "      <td>순금 샤이닝 러브 팔찌 + 골드바</td>\n",
       "      <td>36g</td>\n",
       "      <td>루이띠에</td>\n",
       "      <td>NaN</td>\n",
       "      <td>주얼리</td>\n",
       "      <td>NaN</td>\n",
       "      <td>nan</td>\n",
       "      <td>루이띠에 순금 샤이닝 러브 팔찌 + 골드바 36g</td>\n",
       "      <td>207</td>\n",
       "      <td>100788</td>\n",
       "    </tr>\n",
       "    <tr>\n",
       "      <th>267</th>\n",
       "      <td>202325</td>\n",
       "      <td>[루이띠에] 순금 13g 신디스틱 목걸이</td>\n",
       "      <td>잡화</td>\n",
       "      <td>1670000</td>\n",
       "      <td>0</td>\n",
       "      <td>순금 신디스틱 목걸이</td>\n",
       "      <td>13g</td>\n",
       "      <td>루이띠에</td>\n",
       "      <td>NaN</td>\n",
       "      <td>주얼리</td>\n",
       "      <td>NaN</td>\n",
       "      <td>nan</td>\n",
       "      <td>루이띠에 순금 신디스틱 목걸이 13g</td>\n",
       "      <td>208</td>\n",
       "      <td>100788</td>\n",
       "    </tr>\n",
       "    <tr>\n",
       "      <th>268</th>\n",
       "      <td>202341</td>\n",
       "      <td>루이띠에 순금 신디스틱 목걸이 13g+골드바 1g</td>\n",
       "      <td>잡화</td>\n",
       "      <td>1590000</td>\n",
       "      <td>0</td>\n",
       "      <td>순금 신디스틱 목걸이 + 골드바</td>\n",
       "      <td>14g</td>\n",
       "      <td>루이띠에</td>\n",
       "      <td>NaN</td>\n",
       "      <td>주얼리</td>\n",
       "      <td>NaN</td>\n",
       "      <td>nan</td>\n",
       "      <td>루이띠에 순금 신디스틱 목걸이 + 골드바 14g</td>\n",
       "      <td>209</td>\n",
       "      <td>100788</td>\n",
       "    </tr>\n",
       "    <tr>\n",
       "      <th>269</th>\n",
       "      <td>202326</td>\n",
       "      <td>[루이띠에] 순금 13g 신디스틱 팔찌</td>\n",
       "      <td>잡화</td>\n",
       "      <td>1670000</td>\n",
       "      <td>0</td>\n",
       "      <td>순금 신디스틱 팔찌</td>\n",
       "      <td>13g</td>\n",
       "      <td>루이띠에</td>\n",
       "      <td>NaN</td>\n",
       "      <td>주얼리</td>\n",
       "      <td>NaN</td>\n",
       "      <td>nan</td>\n",
       "      <td>루이띠에 순금 신디스틱 팔찌 13g</td>\n",
       "      <td>210</td>\n",
       "      <td>100788</td>\n",
       "    </tr>\n",
       "    <tr>\n",
       "      <th>270</th>\n",
       "      <td>202342</td>\n",
       "      <td>루이띠에 순금 신디스틱 팔찌 13g+골드바 1g</td>\n",
       "      <td>잡화</td>\n",
       "      <td>1590000</td>\n",
       "      <td>0</td>\n",
       "      <td>순금 신디스틱 팔찌 + 골드바</td>\n",
       "      <td>14g</td>\n",
       "      <td>루이띠에</td>\n",
       "      <td>NaN</td>\n",
       "      <td>주얼리</td>\n",
       "      <td>NaN</td>\n",
       "      <td>nan</td>\n",
       "      <td>루이띠에 순금 신디스틱 팔찌 + 골드바 14g</td>\n",
       "      <td>211</td>\n",
       "      <td>100788</td>\n",
       "    </tr>\n",
       "    <tr>\n",
       "      <th>271</th>\n",
       "      <td>202343</td>\n",
       "      <td>루이띠에 순금 크로스 트리플 목걸이 18g+골드바 1g</td>\n",
       "      <td>잡화</td>\n",
       "      <td>2030000</td>\n",
       "      <td>0</td>\n",
       "      <td>순금 크로스 트리플 목걸이 + 골드바</td>\n",
       "      <td>19g</td>\n",
       "      <td>루이띠에</td>\n",
       "      <td>NaN</td>\n",
       "      <td>주얼리</td>\n",
       "      <td>NaN</td>\n",
       "      <td>nan</td>\n",
       "      <td>루이띠에 순금 크로스 트리플 목걸이 + 골드바 19g</td>\n",
       "      <td>212</td>\n",
       "      <td>100788</td>\n",
       "    </tr>\n",
       "    <tr>\n",
       "      <th>272</th>\n",
       "      <td>202344</td>\n",
       "      <td>루이띠에 순금 크로스 트리플 팔찌 18g+골드바 1g</td>\n",
       "      <td>잡화</td>\n",
       "      <td>2030000</td>\n",
       "      <td>0</td>\n",
       "      <td>순금 크로스 트리플 팔찌 + 골드바</td>\n",
       "      <td>19g</td>\n",
       "      <td>루이띠에</td>\n",
       "      <td>NaN</td>\n",
       "      <td>주얼리</td>\n",
       "      <td>NaN</td>\n",
       "      <td>nan</td>\n",
       "      <td>루이띠에 순금 크로스 트리플 팔찌 + 골드바 19g</td>\n",
       "      <td>213</td>\n",
       "      <td>100788</td>\n",
       "    </tr>\n",
       "    <tr>\n",
       "      <th>273</th>\n",
       "      <td>202324</td>\n",
       "      <td>[루이띠에] 순금 11.25g 헤라 반지</td>\n",
       "      <td>잡화</td>\n",
       "      <td>1430000</td>\n",
       "      <td>0</td>\n",
       "      <td>순금 헤라 반지</td>\n",
       "      <td>11.25g</td>\n",
       "      <td>루이띠에</td>\n",
       "      <td>NaN</td>\n",
       "      <td>주얼리</td>\n",
       "      <td>NaN</td>\n",
       "      <td>nan</td>\n",
       "      <td>루이띠에 순금 헤라 반지 11.25g</td>\n",
       "      <td>214</td>\n",
       "      <td>100788</td>\n",
       "    </tr>\n",
       "    <tr>\n",
       "      <th>274</th>\n",
       "      <td>202329</td>\n",
       "      <td>[루이띠에] 순금 41.25g 헤라 컬렉션</td>\n",
       "      <td>잡화</td>\n",
       "      <td>5060000</td>\n",
       "      <td>0</td>\n",
       "      <td>순금 헤라 컬렉션</td>\n",
       "      <td>41.25g</td>\n",
       "      <td>루이띠에</td>\n",
       "      <td>NaN</td>\n",
       "      <td>주얼리</td>\n",
       "      <td>NaN</td>\n",
       "      <td>nan</td>\n",
       "      <td>루이띠에 순금 헤라 컬렉션 41.25g</td>\n",
       "      <td>215</td>\n",
       "      <td>100788</td>\n",
       "    </tr>\n",
       "    <tr>\n",
       "      <th>275</th>\n",
       "      <td>202327</td>\n",
       "      <td>[루이띠에] 순금 3.75g 헤라귀걸이</td>\n",
       "      <td>잡화</td>\n",
       "      <td>520000</td>\n",
       "      <td>0</td>\n",
       "      <td>순금 헤라귀걸이</td>\n",
       "      <td>3.75g</td>\n",
       "      <td>루이띠에</td>\n",
       "      <td>NaN</td>\n",
       "      <td>주얼리</td>\n",
       "      <td>NaN</td>\n",
       "      <td>nan</td>\n",
       "      <td>루이띠에 순금 헤라귀걸이 3.75g</td>\n",
       "      <td>216</td>\n",
       "      <td>100788</td>\n",
       "    </tr>\n",
       "  </tbody>\n",
       "</table>\n",
       "</div>"
      ],
      "text/plain": [
       "       상품코드                             상품명 상품군     판매단가  결제방법  \\\n",
       "262  202328             [루이띠에] 순금 37.5g 골드바  잡화  4250000     0   \n",
       "263  202330               [루이띠에] 순금 70g 골드바  잡화  7930000     0   \n",
       "264  202338    루이띠에 순금 미라클 트리플 링 15g+골드바 1g  잡화  1720000     0   \n",
       "265  202339   루이띠에 순금 샤이닝 러브 목걸이 35g+골드바 1g  잡화  3650000     0   \n",
       "266  202340    루이띠에 순금 샤이닝 러브 팔찌 35g+골드바 1g  잡화  3650000     0   \n",
       "267  202325          [루이띠에] 순금 13g 신디스틱 목걸이  잡화  1670000     0   \n",
       "268  202341     루이띠에 순금 신디스틱 목걸이 13g+골드바 1g  잡화  1590000     0   \n",
       "269  202326           [루이띠에] 순금 13g 신디스틱 팔찌  잡화  1670000     0   \n",
       "270  202342      루이띠에 순금 신디스틱 팔찌 13g+골드바 1g  잡화  1590000     0   \n",
       "271  202343  루이띠에 순금 크로스 트리플 목걸이 18g+골드바 1g  잡화  2030000     0   \n",
       "272  202344   루이띠에 순금 크로스 트리플 팔찌 18g+골드바 1g  잡화  2030000     0   \n",
       "273  202324          [루이띠에] 순금 11.25g 헤라 반지  잡화  1430000     0   \n",
       "274  202329         [루이띠에] 순금 41.25g 헤라 컬렉션  잡화  5060000     0   \n",
       "275  202327           [루이띠에] 순금 3.75g 헤라귀걸이  잡화   520000     0   \n",
       "\n",
       "                    상품명다시      단위   브랜드   옵션   종류  모델명  성별  \\\n",
       "262                순금 골드바   37.5g  루이띠에  NaN  주얼리  NaN nan   \n",
       "263                순금 골드바     70g  루이띠에  NaN  주얼리  NaN nan   \n",
       "264    순금 미라클 트리플 링 + 골드바     16g  루이띠에  NaN  주얼리  NaN nan   \n",
       "265   순금 샤이닝 러브 목걸이 + 골드바     36g  루이띠에  NaN  주얼리  NaN nan   \n",
       "266    순금 샤이닝 러브 팔찌 + 골드바     36g  루이띠에  NaN  주얼리  NaN nan   \n",
       "267           순금 신디스틱 목걸이     13g  루이띠에  NaN  주얼리  NaN nan   \n",
       "268     순금 신디스틱 목걸이 + 골드바     14g  루이띠에  NaN  주얼리  NaN nan   \n",
       "269            순금 신디스틱 팔찌     13g  루이띠에  NaN  주얼리  NaN nan   \n",
       "270      순금 신디스틱 팔찌 + 골드바     14g  루이띠에  NaN  주얼리  NaN nan   \n",
       "271  순금 크로스 트리플 목걸이 + 골드바     19g  루이띠에  NaN  주얼리  NaN nan   \n",
       "272   순금 크로스 트리플 팔찌 + 골드바     19g  루이띠에  NaN  주얼리  NaN nan   \n",
       "273              순금 헤라 반지  11.25g  루이띠에  NaN  주얼리  NaN nan   \n",
       "274             순금 헤라 컬렉션  41.25g  루이띠에  NaN  주얼리  NaN nan   \n",
       "275              순금 헤라귀걸이   3.75g  루이띠에  NaN  주얼리  NaN nan   \n",
       "\n",
       "                            NEW상품명  NEW상품코드    마더코드  \n",
       "262              루이띠에 순금 골드바 37.5g      203  100788  \n",
       "263                루이띠에 순금 골드바 70g      204  100788  \n",
       "264    루이띠에 순금 미라클 트리플 링 + 골드바 16g      205  100788  \n",
       "265   루이띠에 순금 샤이닝 러브 목걸이 + 골드바 36g      206  100788  \n",
       "266    루이띠에 순금 샤이닝 러브 팔찌 + 골드바 36g      207  100788  \n",
       "267           루이띠에 순금 신디스틱 목걸이 13g      208  100788  \n",
       "268     루이띠에 순금 신디스틱 목걸이 + 골드바 14g      209  100788  \n",
       "269            루이띠에 순금 신디스틱 팔찌 13g      210  100788  \n",
       "270      루이띠에 순금 신디스틱 팔찌 + 골드바 14g      211  100788  \n",
       "271  루이띠에 순금 크로스 트리플 목걸이 + 골드바 19g      212  100788  \n",
       "272   루이띠에 순금 크로스 트리플 팔찌 + 골드바 19g      213  100788  \n",
       "273           루이띠에 순금 헤라 반지 11.25g      214  100788  \n",
       "274          루이띠에 순금 헤라 컬렉션 41.25g      215  100788  \n",
       "275            루이띠에 순금 헤라귀걸이 3.75g      216  100788  "
      ]
     },
     "execution_count": 458,
     "metadata": {},
     "output_type": "execute_result"
    }
   ],
   "source": [
    "# 마더코드 100788 의 경우 루이띠에 금 및 악세서리로 귀걸이와 70g금과 가격차이가 740만원\n",
    "meta.loc[meta['마더코드'] == 100788]"
   ]
  },
  {
   "cell_type": "markdown",
   "metadata": {
    "Collapsed": "false"
   },
   "source": [
    "### 2) 상품군 별 가격"
   ]
  },
  {
   "cell_type": "code",
   "execution_count": 459,
   "metadata": {
    "Collapsed": "false"
   },
   "outputs": [
    {
     "data": {
      "text/html": [
       "<div>\n",
       "<style scoped>\n",
       "    .dataframe tbody tr th:only-of-type {\n",
       "        vertical-align: middle;\n",
       "    }\n",
       "\n",
       "    .dataframe tbody tr th {\n",
       "        vertical-align: top;\n",
       "    }\n",
       "\n",
       "    .dataframe thead tr th {\n",
       "        text-align: left;\n",
       "    }\n",
       "\n",
       "    .dataframe thead tr:last-of-type th {\n",
       "        text-align: right;\n",
       "    }\n",
       "</style>\n",
       "<table border=\"1\" class=\"dataframe\">\n",
       "  <thead>\n",
       "    <tr>\n",
       "      <th></th>\n",
       "      <th colspan=\"7\" halign=\"left\">판매단가</th>\n",
       "    </tr>\n",
       "    <tr>\n",
       "      <th></th>\n",
       "      <th>최고판매단가</th>\n",
       "      <th>최저판매단가</th>\n",
       "      <th>평균판매단가</th>\n",
       "      <th>중간판매단가</th>\n",
       "      <th>temp</th>\n",
       "      <th>표준편차</th>\n",
       "      <th>분산</th>\n",
       "    </tr>\n",
       "    <tr>\n",
       "      <th>상품군</th>\n",
       "      <th></th>\n",
       "      <th></th>\n",
       "      <th></th>\n",
       "      <th></th>\n",
       "      <th></th>\n",
       "      <th></th>\n",
       "      <th></th>\n",
       "    </tr>\n",
       "  </thead>\n",
       "  <tbody>\n",
       "    <tr>\n",
       "      <th>이미용</th>\n",
       "      <td>79900</td>\n",
       "      <td>39800</td>\n",
       "      <td>55990.625</td>\n",
       "      <td>59000</td>\n",
       "      <td>40100</td>\n",
       "      <td>13357.071</td>\n",
       "      <td>178411339.286</td>\n",
       "    </tr>\n",
       "    <tr>\n",
       "      <th>농수축</th>\n",
       "      <td>109900</td>\n",
       "      <td>28900</td>\n",
       "      <td>47408.553</td>\n",
       "      <td>44400</td>\n",
       "      <td>81000</td>\n",
       "      <td>12984.790</td>\n",
       "      <td>168604760.805</td>\n",
       "    </tr>\n",
       "    <tr>\n",
       "      <th>속옷</th>\n",
       "      <td>139000</td>\n",
       "      <td>29900</td>\n",
       "      <td>77782.353</td>\n",
       "      <td>79000</td>\n",
       "      <td>109100</td>\n",
       "      <td>23698.312</td>\n",
       "      <td>561609982.626</td>\n",
       "    </tr>\n",
       "    <tr>\n",
       "      <th>건강기능</th>\n",
       "      <td>238000</td>\n",
       "      <td>39900</td>\n",
       "      <td>95986.607</td>\n",
       "      <td>78000</td>\n",
       "      <td>198100</td>\n",
       "      <td>47014.734</td>\n",
       "      <td>2210385226.461</td>\n",
       "    </tr>\n",
       "    <tr>\n",
       "      <th>침구</th>\n",
       "      <td>239000</td>\n",
       "      <td>39900</td>\n",
       "      <td>101405.000</td>\n",
       "      <td>79900</td>\n",
       "      <td>199100</td>\n",
       "      <td>53396.142</td>\n",
       "      <td>2851147940.678</td>\n",
       "    </tr>\n",
       "    <tr>\n",
       "      <th>주방</th>\n",
       "      <td>1184400</td>\n",
       "      <td>24900</td>\n",
       "      <td>142329.388</td>\n",
       "      <td>119000</td>\n",
       "      <td>1159500</td>\n",
       "      <td>121568.762</td>\n",
       "      <td>14778963968.886</td>\n",
       "    </tr>\n",
       "    <tr>\n",
       "      <th>생활용품</th>\n",
       "      <td>1980000</td>\n",
       "      <td>12800</td>\n",
       "      <td>167392.350</td>\n",
       "      <td>99000</td>\n",
       "      <td>1967200</td>\n",
       "      <td>280357.324</td>\n",
       "      <td>78600228952.141</td>\n",
       "    </tr>\n",
       "    <tr>\n",
       "      <th>의류</th>\n",
       "      <td>2490000</td>\n",
       "      <td>29000</td>\n",
       "      <td>116562.983</td>\n",
       "      <td>59900</td>\n",
       "      <td>2461000</td>\n",
       "      <td>263711.564</td>\n",
       "      <td>69543789207.695</td>\n",
       "    </tr>\n",
       "    <tr>\n",
       "      <th>가전</th>\n",
       "      <td>3190000</td>\n",
       "      <td>164000</td>\n",
       "      <td>1572969.112</td>\n",
       "      <td>1499000</td>\n",
       "      <td>3026000</td>\n",
       "      <td>770846.383</td>\n",
       "      <td>594204146329.053</td>\n",
       "    </tr>\n",
       "    <tr>\n",
       "      <th>가구</th>\n",
       "      <td>3990000</td>\n",
       "      <td>89000</td>\n",
       "      <td>1376532.456</td>\n",
       "      <td>1089050</td>\n",
       "      <td>3901000</td>\n",
       "      <td>1027622.955</td>\n",
       "      <td>1056008937609.843</td>\n",
       "    </tr>\n",
       "    <tr>\n",
       "      <th>잡화</th>\n",
       "      <td>7930000</td>\n",
       "      <td>29000</td>\n",
       "      <td>509390.291</td>\n",
       "      <td>148000</td>\n",
       "      <td>7901000</td>\n",
       "      <td>881070.312</td>\n",
       "      <td>776284895424.915</td>\n",
       "    </tr>\n",
       "  </tbody>\n",
       "</table>\n",
       "</div>"
      ],
      "text/plain": [
       "         판매단가                                                    \\\n",
       "       최고판매단가  최저판매단가      평균판매단가   중간판매단가     temp        표준편차   \n",
       "상품군                                                               \n",
       "이미용     79900   39800   55990.625    59000    40100   13357.071   \n",
       "농수축    109900   28900   47408.553    44400    81000   12984.790   \n",
       "속옷     139000   29900   77782.353    79000   109100   23698.312   \n",
       "건강기능   238000   39900   95986.607    78000   198100   47014.734   \n",
       "침구     239000   39900  101405.000    79900   199100   53396.142   \n",
       "주방    1184400   24900  142329.388   119000  1159500  121568.762   \n",
       "생활용품  1980000   12800  167392.350    99000  1967200  280357.324   \n",
       "의류    2490000   29000  116562.983    59900  2461000  263711.564   \n",
       "가전    3190000  164000 1572969.112  1499000  3026000  770846.383   \n",
       "가구    3990000   89000 1376532.456  1089050  3901000 1027622.955   \n",
       "잡화    7930000   29000  509390.291   148000  7901000  881070.312   \n",
       "\n",
       "                        \n",
       "                    분산  \n",
       "상품군                     \n",
       "이미용      178411339.286  \n",
       "농수축      168604760.805  \n",
       "속옷       561609982.626  \n",
       "건강기능    2210385226.461  \n",
       "침구      2851147940.678  \n",
       "주방     14778963968.886  \n",
       "생활용품   78600228952.141  \n",
       "의류     69543789207.695  \n",
       "가전    594204146329.053  \n",
       "가구   1056008937609.843  \n",
       "잡화    776284895424.915  "
      ]
     },
     "execution_count": 459,
     "metadata": {},
     "output_type": "execute_result"
    }
   ],
   "source": [
    "meta.groupby('상품군').agg({\n",
    "    '판매단가' : [('최고판매단가', np.max),\n",
    "             ('최저판매단가', np.min),\n",
    "              ('평균판매단가', np.mean),\n",
    "              ('중간판매단가', np.median),\n",
    "             ('temp', lambda x : np.max(x) - np.min(x)),\n",
    "             ('표준편차', np.std),\n",
    "              ('분산', np.var)\n",
    "             ]\n",
    "}).sort_values(('판매단가','temp'))"
   ]
  },
  {
   "cell_type": "markdown",
   "metadata": {
    "Collapsed": "false"
   },
   "source": [
    "### 3) 새로운 상품명 별 가격"
   ]
  },
  {
   "cell_type": "code",
   "execution_count": 460,
   "metadata": {
    "Collapsed": "false"
   },
   "outputs": [],
   "source": [
    "# 원래 상품코드로는 가격차이가 너무 없음\n",
    "# 새로운 상품명은 무이자, 일시불, 할인 등으로 가격차이가 발생한 것을 캐치할 수 잇음"
   ]
  },
  {
   "cell_type": "code",
   "execution_count": 461,
   "metadata": {
    "Collapsed": "false"
   },
   "outputs": [
    {
     "data": {
      "text/html": [
       "<div>\n",
       "<style scoped>\n",
       "    .dataframe tbody tr th:only-of-type {\n",
       "        vertical-align: middle;\n",
       "    }\n",
       "\n",
       "    .dataframe tbody tr th {\n",
       "        vertical-align: top;\n",
       "    }\n",
       "\n",
       "    .dataframe thead tr th {\n",
       "        text-align: left;\n",
       "    }\n",
       "\n",
       "    .dataframe thead tr:last-of-type th {\n",
       "        text-align: right;\n",
       "    }\n",
       "</style>\n",
       "<table border=\"1\" class=\"dataframe\">\n",
       "  <thead>\n",
       "    <tr>\n",
       "      <th></th>\n",
       "      <th colspan=\"5\" halign=\"left\">판매단가</th>\n",
       "    </tr>\n",
       "    <tr>\n",
       "      <th></th>\n",
       "      <th>최고판매단가</th>\n",
       "      <th>최저판매단가</th>\n",
       "      <th>평균판매단가</th>\n",
       "      <th>중간판매단가</th>\n",
       "      <th>temp</th>\n",
       "    </tr>\n",
       "    <tr>\n",
       "      <th>NEW상품명</th>\n",
       "      <th></th>\n",
       "      <th></th>\n",
       "      <th></th>\n",
       "      <th></th>\n",
       "      <th></th>\n",
       "    </tr>\n",
       "  </thead>\n",
       "  <tbody>\n",
       "    <tr>\n",
       "      <th>삼성 UHD TV 55인치</th>\n",
       "      <td>1170000</td>\n",
       "      <td>1000000</td>\n",
       "      <td>1063750.000</td>\n",
       "      <td>1080000</td>\n",
       "      <td>170000</td>\n",
       "    </tr>\n",
       "    <tr>\n",
       "      <th>삼성 냉장고 T9000 4도어</th>\n",
       "      <td>2129000</td>\n",
       "      <td>1959000</td>\n",
       "      <td>2044000.000</td>\n",
       "      <td>2044000</td>\n",
       "      <td>170000</td>\n",
       "    </tr>\n",
       "    <tr>\n",
       "      <th>브람스 안마의자 럭셔리</th>\n",
       "      <td>1980000</td>\n",
       "      <td>1800000</td>\n",
       "      <td>1890000.000</td>\n",
       "      <td>1890000</td>\n",
       "      <td>180000</td>\n",
       "    </tr>\n",
       "    <tr>\n",
       "      <th>삼성 삼성노트북 북5</th>\n",
       "      <td>989000</td>\n",
       "      <td>809000</td>\n",
       "      <td>899000.000</td>\n",
       "      <td>899000</td>\n",
       "      <td>180000</td>\n",
       "    </tr>\n",
       "    <tr>\n",
       "      <th>한샘 모데나 프리미엄 슬라이딩 붙박이장 3.2m</th>\n",
       "      <td>1899000</td>\n",
       "      <td>1709100</td>\n",
       "      <td>1804050.000</td>\n",
       "      <td>1804050</td>\n",
       "      <td>189900</td>\n",
       "    </tr>\n",
       "    <tr>\n",
       "      <th>LG 트롬 건조기 14kg</th>\n",
       "      <td>1890000</td>\n",
       "      <td>1700000</td>\n",
       "      <td>1795000.000</td>\n",
       "      <td>1795000</td>\n",
       "      <td>190000</td>\n",
       "    </tr>\n",
       "    <tr>\n",
       "      <th>LG 매직스페이스 냉장고</th>\n",
       "      <td>1549000</td>\n",
       "      <td>1359000</td>\n",
       "      <td>1454000.000</td>\n",
       "      <td>1454000</td>\n",
       "      <td>190000</td>\n",
       "    </tr>\n",
       "    <tr>\n",
       "      <th>삼성 UHD TV 65인치</th>\n",
       "      <td>1800000</td>\n",
       "      <td>1600000</td>\n",
       "      <td>1725000.000</td>\n",
       "      <td>1700000</td>\n",
       "      <td>200000</td>\n",
       "    </tr>\n",
       "    <tr>\n",
       "      <th>마리노블 밍크 롱코트</th>\n",
       "      <td>499000</td>\n",
       "      <td>299000</td>\n",
       "      <td>399000.000</td>\n",
       "      <td>399000</td>\n",
       "      <td>200000</td>\n",
       "    </tr>\n",
       "    <tr>\n",
       "      <th>마르엘라로사티 나파 휘메일 풀스킨 밍크하프코트 1종</th>\n",
       "      <td>1690000</td>\n",
       "      <td>1490000</td>\n",
       "      <td>1623333.333</td>\n",
       "      <td>1690000</td>\n",
       "      <td>200000</td>\n",
       "    </tr>\n",
       "    <tr>\n",
       "      <th>한샘 모데나 프리미엄 슬라이딩 붙박이장 4.2m</th>\n",
       "      <td>2299000</td>\n",
       "      <td>2069100</td>\n",
       "      <td>2184050.000</td>\n",
       "      <td>2184050</td>\n",
       "      <td>229900</td>\n",
       "    </tr>\n",
       "    <tr>\n",
       "      <th>삼성 삼성 건조기 9kg</th>\n",
       "      <td>1340000</td>\n",
       "      <td>1100000</td>\n",
       "      <td>1228333.333</td>\n",
       "      <td>1225000</td>\n",
       "      <td>240000</td>\n",
       "    </tr>\n",
       "    <tr>\n",
       "      <th>LG 휘센 씽큐 에어컨 스탠드형</th>\n",
       "      <td>2139000</td>\n",
       "      <td>1899000</td>\n",
       "      <td>2004000.000</td>\n",
       "      <td>1989000</td>\n",
       "      <td>240000</td>\n",
       "    </tr>\n",
       "    <tr>\n",
       "      <th>LG 울트라HD TV 55인치</th>\n",
       "      <td>1440000</td>\n",
       "      <td>1200000</td>\n",
       "      <td>1301052.632</td>\n",
       "      <td>1300000</td>\n",
       "      <td>240000</td>\n",
       "    </tr>\n",
       "    <tr>\n",
       "      <th>삼성 무풍클래식 홈멀티에어컨</th>\n",
       "      <td>2749000</td>\n",
       "      <td>2509000</td>\n",
       "      <td>2629000.000</td>\n",
       "      <td>2629000</td>\n",
       "      <td>240000</td>\n",
       "    </tr>\n",
       "    <tr>\n",
       "      <th>삼성 무풍클래식 스탠드 에어컨</th>\n",
       "      <td>2349000</td>\n",
       "      <td>2109000</td>\n",
       "      <td>2229000.000</td>\n",
       "      <td>2229000</td>\n",
       "      <td>240000</td>\n",
       "    </tr>\n",
       "    <tr>\n",
       "      <th>삼성 4도어 푸드쇼케이스 냉장고</th>\n",
       "      <td>1669000</td>\n",
       "      <td>1419000</td>\n",
       "      <td>1544000.000</td>\n",
       "      <td>1544000</td>\n",
       "      <td>250000</td>\n",
       "    </tr>\n",
       "    <tr>\n",
       "      <th>삼성 UHD TV 75인치</th>\n",
       "      <td>2880000</td>\n",
       "      <td>2600000</td>\n",
       "      <td>2765000.000</td>\n",
       "      <td>2740000</td>\n",
       "      <td>280000</td>\n",
       "    </tr>\n",
       "    <tr>\n",
       "      <th>LG 노트북 그램 15인치</th>\n",
       "      <td>1649000</td>\n",
       "      <td>1330000</td>\n",
       "      <td>1489500.000</td>\n",
       "      <td>1489500</td>\n",
       "      <td>319000</td>\n",
       "    </tr>\n",
       "    <tr>\n",
       "      <th>한샘 하이바스 내추럴 기본형</th>\n",
       "      <td>3390000</td>\n",
       "      <td>3051000</td>\n",
       "      <td>3220500.000</td>\n",
       "      <td>3220500</td>\n",
       "      <td>339000</td>\n",
       "    </tr>\n",
       "    <tr>\n",
       "      <th>LG 휘센 씽큐 에어컨 2IN1형</th>\n",
       "      <td>2549000</td>\n",
       "      <td>2209000</td>\n",
       "      <td>2354000.000</td>\n",
       "      <td>2299000</td>\n",
       "      <td>340000</td>\n",
       "    </tr>\n",
       "    <tr>\n",
       "      <th>LG 퓨리케어 공기청정기</th>\n",
       "      <td>1149000</td>\n",
       "      <td>809000</td>\n",
       "      <td>979000.000</td>\n",
       "      <td>979000</td>\n",
       "      <td>340000</td>\n",
       "    </tr>\n",
       "    <tr>\n",
       "      <th>한샘 하이바스 내추럴 기본형 + 키큰장</th>\n",
       "      <td>3690000</td>\n",
       "      <td>3321000</td>\n",
       "      <td>3505500.000</td>\n",
       "      <td>3505500</td>\n",
       "      <td>369000</td>\n",
       "    </tr>\n",
       "    <tr>\n",
       "      <th>한샘 하이바스 내추럴 하부장형</th>\n",
       "      <td>3690000</td>\n",
       "      <td>3321000</td>\n",
       "      <td>3505500.000</td>\n",
       "      <td>3505500</td>\n",
       "      <td>369000</td>\n",
       "    </tr>\n",
       "    <tr>\n",
       "      <th>대우전자 벽걸이 에어컨</th>\n",
       "      <td>849000</td>\n",
       "      <td>459000</td>\n",
       "      <td>662333.333</td>\n",
       "      <td>654000</td>\n",
       "      <td>390000</td>\n",
       "    </tr>\n",
       "    <tr>\n",
       "      <th>한샘 하이바스 내추럴 하부장 + 키큰장</th>\n",
       "      <td>3990000</td>\n",
       "      <td>3591000</td>\n",
       "      <td>3790500.000</td>\n",
       "      <td>3790500</td>\n",
       "      <td>399000</td>\n",
       "    </tr>\n",
       "    <tr>\n",
       "      <th>LG 울트라HD TV 65인치</th>\n",
       "      <td>2130000</td>\n",
       "      <td>1690000</td>\n",
       "      <td>1863684.211</td>\n",
       "      <td>1900000</td>\n",
       "      <td>440000</td>\n",
       "    </tr>\n",
       "    <tr>\n",
       "      <th>이누스바스 시공패키지</th>\n",
       "      <td>3150000</td>\n",
       "      <td>2682000</td>\n",
       "      <td>2911750.000</td>\n",
       "      <td>2907500</td>\n",
       "      <td>468000</td>\n",
       "    </tr>\n",
       "    <tr>\n",
       "      <th>LG 울트라HD TV 75인치</th>\n",
       "      <td>3190000</td>\n",
       "      <td>2700000</td>\n",
       "      <td>2925384.615</td>\n",
       "      <td>2900000</td>\n",
       "      <td>490000</td>\n",
       "    </tr>\n",
       "    <tr>\n",
       "      <th>LG 울트라HD TV 70인치</th>\n",
       "      <td>2990000</td>\n",
       "      <td>2400000</td>\n",
       "      <td>2670000.000</td>\n",
       "      <td>2690000</td>\n",
       "      <td>590000</td>\n",
       "    </tr>\n",
       "  </tbody>\n",
       "</table>\n",
       "</div>"
      ],
      "text/plain": [
       "                                 판매단가                                      \n",
       "                               최고판매단가   최저판매단가      평균판매단가   중간판매단가    temp\n",
       "NEW상품명                                                                     \n",
       "삼성 UHD TV 55인치                1170000  1000000 1063750.000  1080000  170000\n",
       "삼성 냉장고 T9000 4도어              2129000  1959000 2044000.000  2044000  170000\n",
       "브람스 안마의자 럭셔리                  1980000  1800000 1890000.000  1890000  180000\n",
       "삼성 삼성노트북 북5                    989000   809000  899000.000   899000  180000\n",
       "한샘 모데나 프리미엄 슬라이딩 붙박이장 3.2m    1899000  1709100 1804050.000  1804050  189900\n",
       "LG 트롬 건조기 14kg                1890000  1700000 1795000.000  1795000  190000\n",
       "LG 매직스페이스 냉장고                 1549000  1359000 1454000.000  1454000  190000\n",
       "삼성 UHD TV 65인치                1800000  1600000 1725000.000  1700000  200000\n",
       "마리노블 밍크 롱코트                    499000   299000  399000.000   399000  200000\n",
       "마르엘라로사티 나파 휘메일 풀스킨 밍크하프코트 1종  1690000  1490000 1623333.333  1690000  200000\n",
       "한샘 모데나 프리미엄 슬라이딩 붙박이장 4.2m    2299000  2069100 2184050.000  2184050  229900\n",
       "삼성 삼성 건조기 9kg                 1340000  1100000 1228333.333  1225000  240000\n",
       "LG 휘센 씽큐 에어컨 스탠드형             2139000  1899000 2004000.000  1989000  240000\n",
       "LG 울트라HD TV 55인치              1440000  1200000 1301052.632  1300000  240000\n",
       "삼성 무풍클래식 홈멀티에어컨               2749000  2509000 2629000.000  2629000  240000\n",
       "삼성 무풍클래식 스탠드 에어컨              2349000  2109000 2229000.000  2229000  240000\n",
       "삼성 4도어 푸드쇼케이스 냉장고             1669000  1419000 1544000.000  1544000  250000\n",
       "삼성 UHD TV 75인치                2880000  2600000 2765000.000  2740000  280000\n",
       "LG 노트북 그램 15인치                1649000  1330000 1489500.000  1489500  319000\n",
       "한샘 하이바스 내추럴 기본형               3390000  3051000 3220500.000  3220500  339000\n",
       "LG 휘센 씽큐 에어컨 2IN1형            2549000  2209000 2354000.000  2299000  340000\n",
       "LG 퓨리케어 공기청정기                 1149000   809000  979000.000   979000  340000\n",
       "한샘 하이바스 내추럴 기본형 + 키큰장         3690000  3321000 3505500.000  3505500  369000\n",
       "한샘 하이바스 내추럴 하부장형              3690000  3321000 3505500.000  3505500  369000\n",
       "대우전자 벽걸이 에어컨                   849000   459000  662333.333   654000  390000\n",
       "한샘 하이바스 내추럴 하부장 + 키큰장         3990000  3591000 3790500.000  3790500  399000\n",
       "LG 울트라HD TV 65인치              2130000  1690000 1863684.211  1900000  440000\n",
       "이누스바스 시공패키지                   3150000  2682000 2911750.000  2907500  468000\n",
       "LG 울트라HD TV 75인치              3190000  2700000 2925384.615  2900000  490000\n",
       "LG 울트라HD TV 70인치              2990000  2400000 2670000.000  2690000  590000"
      ]
     },
     "execution_count": 461,
     "metadata": {},
     "output_type": "execute_result"
    }
   ],
   "source": [
    "meta.groupby('NEW상품명').agg({\n",
    "    '판매단가' : [('최고판매단가', np.max),\n",
    "             ('최저판매단가', np.min),\n",
    "              ('평균판매단가', np.mean),\n",
    "              ('중간판매단가', np.median),\n",
    "             ('temp', lambda x : np.max(x) - np.min(x)),\n",
    "             ]\n",
    "}).sort_values(('판매단가','temp')).tail(30)"
   ]
  },
  {
   "cell_type": "code",
   "execution_count": 462,
   "metadata": {
    "Collapsed": "false"
   },
   "outputs": [
    {
     "data": {
      "text/html": [
       "<div>\n",
       "<style scoped>\n",
       "    .dataframe tbody tr th:only-of-type {\n",
       "        vertical-align: middle;\n",
       "    }\n",
       "\n",
       "    .dataframe tbody tr th {\n",
       "        vertical-align: top;\n",
       "    }\n",
       "\n",
       "    .dataframe thead th {\n",
       "        text-align: right;\n",
       "    }\n",
       "</style>\n",
       "<table border=\"1\" class=\"dataframe\">\n",
       "  <thead>\n",
       "    <tr style=\"text-align: right;\">\n",
       "      <th></th>\n",
       "      <th>상품코드</th>\n",
       "      <th>상품명</th>\n",
       "      <th>상품군</th>\n",
       "      <th>판매단가</th>\n",
       "      <th>결제방법</th>\n",
       "      <th>상품명다시</th>\n",
       "      <th>단위</th>\n",
       "      <th>브랜드</th>\n",
       "      <th>옵션</th>\n",
       "      <th>종류</th>\n",
       "      <th>모델명</th>\n",
       "      <th>성별</th>\n",
       "      <th>NEW상품명</th>\n",
       "      <th>NEW상품코드</th>\n",
       "      <th>마더코드</th>\n",
       "    </tr>\n",
       "  </thead>\n",
       "  <tbody>\n",
       "    <tr>\n",
       "      <th>1638</th>\n",
       "      <td>200428</td>\n",
       "      <td>무이자 LG 노트북 그램 15인치 15Z980-G.AR3DK</td>\n",
       "      <td>가전</td>\n",
       "      <td>1649000</td>\n",
       "      <td>2</td>\n",
       "      <td>노트북 그램</td>\n",
       "      <td>15인치</td>\n",
       "      <td>LG</td>\n",
       "      <td>NaN</td>\n",
       "      <td>노트북</td>\n",
       "      <td>15Z980-G.AR3DK</td>\n",
       "      <td>nan</td>\n",
       "      <td>LG 노트북 그램 15인치</td>\n",
       "      <td>1120</td>\n",
       "      <td>100151</td>\n",
       "    </tr>\n",
       "    <tr>\n",
       "      <th>1639</th>\n",
       "      <td>200429</td>\n",
       "      <td>무이자 LG 노트북 그램 15인치 15Z980-L.AR1DK</td>\n",
       "      <td>가전</td>\n",
       "      <td>1420000</td>\n",
       "      <td>2</td>\n",
       "      <td>노트북 그램</td>\n",
       "      <td>15인치</td>\n",
       "      <td>LG</td>\n",
       "      <td>NaN</td>\n",
       "      <td>노트북</td>\n",
       "      <td>15Z980-L.AR1DK</td>\n",
       "      <td>nan</td>\n",
       "      <td>LG 노트북 그램 15인치</td>\n",
       "      <td>1120</td>\n",
       "      <td>100151</td>\n",
       "    </tr>\n",
       "    <tr>\n",
       "      <th>1640</th>\n",
       "      <td>200495</td>\n",
       "      <td>일시불 LG 노트북 그램 15인치 15Z980-G.AR3DK</td>\n",
       "      <td>가전</td>\n",
       "      <td>1559000</td>\n",
       "      <td>1</td>\n",
       "      <td>노트북 그램</td>\n",
       "      <td>15인치</td>\n",
       "      <td>LG</td>\n",
       "      <td>NaN</td>\n",
       "      <td>노트북</td>\n",
       "      <td>15Z980-G.AR3DK</td>\n",
       "      <td>nan</td>\n",
       "      <td>LG 노트북 그램 15인치</td>\n",
       "      <td>1120</td>\n",
       "      <td>100151</td>\n",
       "    </tr>\n",
       "    <tr>\n",
       "      <th>1641</th>\n",
       "      <td>200496</td>\n",
       "      <td>일시불 LG 노트북 그램 15인치 15Z980-L.AR1DK</td>\n",
       "      <td>가전</td>\n",
       "      <td>1330000</td>\n",
       "      <td>1</td>\n",
       "      <td>노트북 그램</td>\n",
       "      <td>15인치</td>\n",
       "      <td>LG</td>\n",
       "      <td>NaN</td>\n",
       "      <td>노트북</td>\n",
       "      <td>15Z980-L.AR1DK</td>\n",
       "      <td>nan</td>\n",
       "      <td>LG 노트북 그램 15인치</td>\n",
       "      <td>1120</td>\n",
       "      <td>100151</td>\n",
       "    </tr>\n",
       "  </tbody>\n",
       "</table>\n",
       "</div>"
      ],
      "text/plain": [
       "        상품코드                                상품명 상품군     판매단가  결제방법   상품명다시  \\\n",
       "1638  200428  무이자 LG 노트북 그램 15인치 15Z980-G.AR3DK  가전  1649000     2  노트북 그램   \n",
       "1639  200429  무이자 LG 노트북 그램 15인치 15Z980-L.AR1DK  가전  1420000     2  노트북 그램   \n",
       "1640  200495  일시불 LG 노트북 그램 15인치 15Z980-G.AR3DK  가전  1559000     1  노트북 그램   \n",
       "1641  200496  일시불 LG 노트북 그램 15인치 15Z980-L.AR1DK  가전  1330000     1  노트북 그램   \n",
       "\n",
       "        단위 브랜드   옵션   종류             모델명  성별          NEW상품명  NEW상품코드    마더코드  \n",
       "1638  15인치  LG  NaN  노트북  15Z980-G.AR3DK nan  LG 노트북 그램 15인치     1120  100151  \n",
       "1639  15인치  LG  NaN  노트북  15Z980-L.AR1DK nan  LG 노트북 그램 15인치     1120  100151  \n",
       "1640  15인치  LG  NaN  노트북  15Z980-G.AR3DK nan  LG 노트북 그램 15인치     1120  100151  \n",
       "1641  15인치  LG  NaN  노트북  15Z980-L.AR1DK nan  LG 노트북 그램 15인치     1120  100151  "
      ]
     },
     "execution_count": 462,
     "metadata": {},
     "output_type": "execute_result"
    }
   ],
   "source": [
    "# 같은 LG 노트북 그램 15인치여도 스펙에 따라(본 상품코드가 다름) 가격에서 차이가 발생하긴함\n",
    "meta.loc[meta['NEW상품명'] == 'LG 노트북 그램 15인치']"
   ]
  },
  {
   "cell_type": "markdown",
   "metadata": {
    "Collapsed": "false"
   },
   "source": [
    "## 1-3. 성별"
   ]
  },
  {
   "cell_type": "code",
   "execution_count": 468,
   "metadata": {
    "Collapsed": "false"
   },
   "outputs": [
    {
     "data": {
      "text/plain": [
       "0    1523\n",
       "2     291\n",
       "1     228\n",
       "Name: NEW상품명, dtype: int64"
      ]
     },
     "execution_count": 468,
     "metadata": {},
     "output_type": "execute_result"
    }
   ],
   "source": [
    "# 상품별 성별 비중\n",
    "meta['NEW상품명'].apply(lambda x : 1 if '남성' in x else (2 if '여성' in x else 0)).value_counts()"
   ]
  },
  {
   "cell_type": "code",
   "execution_count": 483,
   "metadata": {
    "Collapsed": "false"
   },
   "outputs": [
    {
     "data": {
      "text/plain": [
       "0    29843\n",
       "1     3789\n",
       "2     3740\n",
       "Name: NEW상품명, dtype: int64"
      ]
     },
     "execution_count": 483,
     "metadata": {},
     "output_type": "execute_result"
    }
   ],
   "source": [
    "sale['NEW상품명'].apply(lambda x : 1 if '남성' in x else (2 if '여성' in x else 0)).value_counts()"
   ]
  },
  {
   "cell_type": "code",
   "execution_count": null,
   "metadata": {
    "Collapsed": "false"
   },
   "outputs": [],
   "source": [
    "### 1-4."
   ]
  }
 ],
 "metadata": {
  "kernelspec": {
   "display_name": "Python 3",
   "language": "python",
   "name": "python3"
  },
  "language_info": {
   "codemirror_mode": {
    "name": "ipython",
    "version": 3
   },
   "file_extension": ".py",
   "mimetype": "text/x-python",
   "name": "python",
   "nbconvert_exporter": "python",
   "pygments_lexer": "ipython3",
   "version": "3.7.6"
  }
 },
 "nbformat": 4,
 "nbformat_minor": 4
}
