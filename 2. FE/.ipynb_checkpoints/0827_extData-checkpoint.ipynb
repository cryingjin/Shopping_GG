{
 "cells": [
  {
   "cell_type": "code",
   "execution_count": 1,
   "metadata": {
    "Collapsed": "false"
   },
   "outputs": [],
   "source": [
    "import os\n",
    "import numpy as np\n",
    "import pandas as pd"
   ]
  },
  {
   "cell_type": "markdown",
   "metadata": {
    "Collapsed": "false"
   },
   "source": [
    "- w : 기상 데이터 (출처 : 기상자료개방포털)\n",
    "- df1 : 소매업태별 판매액지수 (출처 : KOSIS)\n",
    "- df2 : 소비자동향조사 전국 (출처 : KOSIS)\n",
    "- df3 : 온라인쇼핑몰 판매매체별 상품군별거래액 (출처 : KOSIS)\n",
    "- df4 : 지역별 소비유형별 개인 신용카드 (출처 : KOSIS)"
   ]
  },
  {
   "cell_type": "code",
   "execution_count": 3,
   "metadata": {
    "Collapsed": "false"
   },
   "outputs": [
    {
     "name": "stderr",
     "output_type": "stream",
     "text": [
      "/Users/jinseok/opt/anaconda3/lib/python3.7/site-packages/IPython/core/interactiveshell.py:3063: DtypeWarning: Columns (26) have mixed types.Specify dtype option on import or set low_memory=False.\n",
      "  interactivity=interactivity, compiler=compiler, result=result)\n"
     ]
    }
   ],
   "source": [
    "w = pd.read_csv(os.path.join('..', '..', '0.Data', '03_외부데이터', '2019_weather.csv'), encoding = 'cp949', index_col = 0)\n",
    "df1 = pd.read_excel(os.path.join('..', '..', '0.Data', '03_외부데이터', '소매업태별 판매액지수.xlsx'))\n",
    "df2 = pd.read_excel(os.path.join('..', '..', '0.Data', '03_외부데이터', '소비자동향조사 전국.xlsx'))\n",
    "df3 = pd.read_excel(os.path.join('..', '..', '0.Data', '03_외부데이터', '온라인쇼핑몰 판매매체별 상품군별거래액.xlsx'))\n",
    "df4 = pd.read_excel(os.path.join('..', '..', '0.Data', '03_외부데이터', '지역별 소비유형별 개인 신용카드.xlsx'))"
   ]
  },
  {
   "cell_type": "markdown",
   "metadata": {
    "Collapsed": "false"
   },
   "source": [
    "# df3 : 온라인쇼핑몰 판매매체별 상품군별거래액"
   ]
  },
  {
   "cell_type": "code",
   "execution_count": 4,
   "metadata": {
    "Collapsed": "false"
   },
   "outputs": [],
   "source": [
    "df3 = df3.T"
   ]
  },
  {
   "cell_type": "code",
   "execution_count": 5,
   "metadata": {
    "Collapsed": "false"
   },
   "outputs": [],
   "source": [
    "df3.columns = list(map(lambda x : '_'.join(x), zip(df3.loc['판매매체별'].values, df3.loc['상품군별'].values)))"
   ]
  },
  {
   "cell_type": "code",
   "execution_count": 6,
   "metadata": {
    "Collapsed": "false"
   },
   "outputs": [],
   "source": [
    "df3 = df3.drop(['상품군별', '판매매체별'])"
   ]
  },
  {
   "cell_type": "code",
   "execution_count": 7,
   "metadata": {
    "Collapsed": "false"
   },
   "outputs": [],
   "source": [
    "df3.index = list(map(lambda x : x.replace(' ', '')[:7].replace('.', '-'), df3.index))"
   ]
  },
  {
   "cell_type": "code",
   "execution_count": 8,
   "metadata": {
    "Collapsed": "false"
   },
   "outputs": [
    {
     "data": {
      "text/html": [
       "<div>\n",
       "<style scoped>\n",
       "    .dataframe tbody tr th:only-of-type {\n",
       "        vertical-align: middle;\n",
       "    }\n",
       "\n",
       "    .dataframe tbody tr th {\n",
       "        vertical-align: top;\n",
       "    }\n",
       "\n",
       "    .dataframe thead th {\n",
       "        text-align: right;\n",
       "    }\n",
       "</style>\n",
       "<table border=\"1\" class=\"dataframe\">\n",
       "  <thead>\n",
       "    <tr style=\"text-align: right;\">\n",
       "      <th></th>\n",
       "      <th>계_합계</th>\n",
       "      <th>인터넷쇼핑_합계</th>\n",
       "      <th>모바일쇼핑_합계</th>\n",
       "      <th>계_컴퓨터 및 주변기기</th>\n",
       "      <th>인터넷쇼핑_컴퓨터 및 주변기기</th>\n",
       "      <th>모바일쇼핑_컴퓨터 및 주변기기</th>\n",
       "      <th>계_가전·전자·통신기기</th>\n",
       "      <th>인터넷쇼핑_가전·전자·통신기기</th>\n",
       "      <th>모바일쇼핑_가전·전자·통신기기</th>\n",
       "      <th>계_서적</th>\n",
       "      <th>...</th>\n",
       "      <th>모바일쇼핑_e쿠폰서비스</th>\n",
       "      <th>계_음식서비스</th>\n",
       "      <th>인터넷쇼핑_음식서비스</th>\n",
       "      <th>모바일쇼핑_음식서비스</th>\n",
       "      <th>계_기타서비스</th>\n",
       "      <th>인터넷쇼핑_기타서비스</th>\n",
       "      <th>모바일쇼핑_기타서비스</th>\n",
       "      <th>계_기타</th>\n",
       "      <th>인터넷쇼핑_기타</th>\n",
       "      <th>모바일쇼핑_기타</th>\n",
       "    </tr>\n",
       "  </thead>\n",
       "  <tbody>\n",
       "    <tr>\n",
       "      <th>2020-06</th>\n",
       "      <td>12671131</td>\n",
       "      <td>4207201</td>\n",
       "      <td>8463930</td>\n",
       "      <td>534769</td>\n",
       "      <td>321914</td>\n",
       "      <td>212855</td>\n",
       "      <td>1565930</td>\n",
       "      <td>603256</td>\n",
       "      <td>962675</td>\n",
       "      <td>171414</td>\n",
       "      <td>...</td>\n",
       "      <td>268429</td>\n",
       "      <td>1252370</td>\n",
       "      <td>63798</td>\n",
       "      <td>1188572</td>\n",
       "      <td>94587</td>\n",
       "      <td>39884</td>\n",
       "      <td>54703</td>\n",
       "      <td>365280</td>\n",
       "      <td>145996</td>\n",
       "      <td>219284</td>\n",
       "    </tr>\n",
       "    <tr>\n",
       "      <th>2020-05</th>\n",
       "      <td>12725057</td>\n",
       "      <td>4045841</td>\n",
       "      <td>8679215</td>\n",
       "      <td>590327</td>\n",
       "      <td>349022</td>\n",
       "      <td>241305</td>\n",
       "      <td>1596397</td>\n",
       "      <td>618490</td>\n",
       "      <td>977907</td>\n",
       "      <td>170666</td>\n",
       "      <td>...</td>\n",
       "      <td>296040</td>\n",
       "      <td>1320396</td>\n",
       "      <td>83178</td>\n",
       "      <td>1237218</td>\n",
       "      <td>89886</td>\n",
       "      <td>35082</td>\n",
       "      <td>54803</td>\n",
       "      <td>389398</td>\n",
       "      <td>162870</td>\n",
       "      <td>226529</td>\n",
       "    </tr>\n",
       "    <tr>\n",
       "      <th>2020-04</th>\n",
       "      <td>12065537</td>\n",
       "      <td>4023773</td>\n",
       "      <td>8041765</td>\n",
       "      <td>645276</td>\n",
       "      <td>364862</td>\n",
       "      <td>280414</td>\n",
       "      <td>1382427</td>\n",
       "      <td>578468</td>\n",
       "      <td>803959</td>\n",
       "      <td>206282</td>\n",
       "      <td>...</td>\n",
       "      <td>295604</td>\n",
       "      <td>1263018</td>\n",
       "      <td>72737</td>\n",
       "      <td>1190281</td>\n",
       "      <td>114533</td>\n",
       "      <td>45916</td>\n",
       "      <td>68617</td>\n",
       "      <td>318471</td>\n",
       "      <td>136878</td>\n",
       "      <td>181594</td>\n",
       "    </tr>\n",
       "    <tr>\n",
       "      <th>2020-03</th>\n",
       "      <td>12624728</td>\n",
       "      <td>4138678</td>\n",
       "      <td>8486051</td>\n",
       "      <td>687759</td>\n",
       "      <td>387538</td>\n",
       "      <td>300221</td>\n",
       "      <td>1480356</td>\n",
       "      <td>598541</td>\n",
       "      <td>881815</td>\n",
       "      <td>255531</td>\n",
       "      <td>...</td>\n",
       "      <td>301095</td>\n",
       "      <td>1251923</td>\n",
       "      <td>66117</td>\n",
       "      <td>1185806</td>\n",
       "      <td>64542</td>\n",
       "      <td>27840</td>\n",
       "      <td>36702</td>\n",
       "      <td>387031</td>\n",
       "      <td>185529</td>\n",
       "      <td>201502</td>\n",
       "    </tr>\n",
       "    <tr>\n",
       "      <th>2020-02</th>\n",
       "      <td>11963252</td>\n",
       "      <td>3850850</td>\n",
       "      <td>8112402</td>\n",
       "      <td>616468</td>\n",
       "      <td>341426</td>\n",
       "      <td>275042</td>\n",
       "      <td>1392368</td>\n",
       "      <td>563716</td>\n",
       "      <td>828652</td>\n",
       "      <td>191346</td>\n",
       "      <td>...</td>\n",
       "      <td>289779</td>\n",
       "      <td>1135018</td>\n",
       "      <td>63931</td>\n",
       "      <td>1071088</td>\n",
       "      <td>145624</td>\n",
       "      <td>59394</td>\n",
       "      <td>86230</td>\n",
       "      <td>380936</td>\n",
       "      <td>162845</td>\n",
       "      <td>218091</td>\n",
       "    </tr>\n",
       "  </tbody>\n",
       "</table>\n",
       "<p>5 rows × 72 columns</p>\n",
       "</div>"
      ],
      "text/plain": [
       "             계_합계 인터넷쇼핑_합계 모바일쇼핑_합계 계_컴퓨터 및 주변기기 인터넷쇼핑_컴퓨터 및 주변기기  \\\n",
       "2020-06  12671131  4207201  8463930       534769           321914   \n",
       "2020-05  12725057  4045841  8679215       590327           349022   \n",
       "2020-04  12065537  4023773  8041765       645276           364862   \n",
       "2020-03  12624728  4138678  8486051       687759           387538   \n",
       "2020-02  11963252  3850850  8112402       616468           341426   \n",
       "\n",
       "        모바일쇼핑_컴퓨터 및 주변기기 계_가전·전자·통신기기 인터넷쇼핑_가전·전자·통신기기 모바일쇼핑_가전·전자·통신기기  \\\n",
       "2020-06           212855      1565930           603256           962675   \n",
       "2020-05           241305      1596397           618490           977907   \n",
       "2020-04           280414      1382427           578468           803959   \n",
       "2020-03           300221      1480356           598541           881815   \n",
       "2020-02           275042      1392368           563716           828652   \n",
       "\n",
       "           계_서적  ... 모바일쇼핑_e쿠폰서비스  계_음식서비스 인터넷쇼핑_음식서비스 모바일쇼핑_음식서비스 계_기타서비스  \\\n",
       "2020-06  171414  ...       268429  1252370       63798     1188572   94587   \n",
       "2020-05  170666  ...       296040  1320396       83178     1237218   89886   \n",
       "2020-04  206282  ...       295604  1263018       72737     1190281  114533   \n",
       "2020-03  255531  ...       301095  1251923       66117     1185806   64542   \n",
       "2020-02  191346  ...       289779  1135018       63931     1071088  145624   \n",
       "\n",
       "        인터넷쇼핑_기타서비스 모바일쇼핑_기타서비스    계_기타 인터넷쇼핑_기타 모바일쇼핑_기타  \n",
       "2020-06       39884       54703  365280   145996   219284  \n",
       "2020-05       35082       54803  389398   162870   226529  \n",
       "2020-04       45916       68617  318471   136878   181594  \n",
       "2020-03       27840       36702  387031   185529   201502  \n",
       "2020-02       59394       86230  380936   162845   218091  \n",
       "\n",
       "[5 rows x 72 columns]"
      ]
     },
     "execution_count": 8,
     "metadata": {},
     "output_type": "execute_result"
    }
   ],
   "source": [
    "df3.head()"
   ]
  },
  {
   "cell_type": "markdown",
   "metadata": {
    "Collapsed": "false"
   },
   "source": [
    "# df2 : 소비자동향조사 전국"
   ]
  },
  {
   "cell_type": "code",
   "execution_count": 15,
   "metadata": {
    "Collapsed": "false"
   },
   "outputs": [
    {
     "name": "stdin",
     "output_type": "stream",
     "text": [
      " 현재생활형편CSI , 현재경기판단CSI , 생활형편전망CSI , 소비지출전망CSI , 주택가격전망CSI , 임금수준전망CSI , 소비자심리지수\n"
     ]
    }
   ],
   "source": [
    "selected = list(map(lambda x : x.strip(), (input().split(','))))"
   ]
  },
  {
   "cell_type": "code",
   "execution_count": 27,
   "metadata": {
    "Collapsed": "false"
   },
   "outputs": [
    {
     "data": {
      "text/plain": [
       "['현재생활형편CSI',\n",
       " '현재경기판단CSI',\n",
       " '생활형편전망CSI',\n",
       " '소비지출전망CSI',\n",
       " '주택가격전망CSI',\n",
       " '임금수준전망CSI',\n",
       " '소비자심리지수']"
      ]
     },
     "execution_count": 27,
     "metadata": {},
     "output_type": "execute_result"
    }
   ],
   "source": [
    "selected"
   ]
  },
  {
   "cell_type": "code",
   "execution_count": 32,
   "metadata": {
    "Collapsed": "false"
   },
   "outputs": [],
   "source": [
    "df2 = df2.loc[df2['분류코드별'] == '전체']"
   ]
  },
  {
   "cell_type": "code",
   "execution_count": 35,
   "metadata": {
    "Collapsed": "false"
   },
   "outputs": [],
   "source": [
    "df2 = df2.reset_index(drop = True)"
   ]
  },
  {
   "cell_type": "code",
   "execution_count": 40,
   "metadata": {
    "Collapsed": "false"
   },
   "outputs": [],
   "source": [
    "df2.index = df2['지수코드별']"
   ]
  },
  {
   "cell_type": "code",
   "execution_count": 42,
   "metadata": {
    "Collapsed": "false"
   },
   "outputs": [],
   "source": [
    "df2 = df2.T.drop(['지수코드별', '분류코드별'])"
   ]
  },
  {
   "cell_type": "code",
   "execution_count": 52,
   "metadata": {
    "Collapsed": "false"
   },
   "outputs": [],
   "source": [
    "df2.columns = list(map(lambda x : x.strip(), df2.columns))"
   ]
  },
  {
   "cell_type": "code",
   "execution_count": 54,
   "metadata": {
    "Collapsed": "false"
   },
   "outputs": [],
   "source": [
    "df2 = df2[selected]"
   ]
  },
  {
   "cell_type": "code",
   "execution_count": 60,
   "metadata": {
    "Collapsed": "false"
   },
   "outputs": [
    {
     "data": {
      "text/html": [
       "<div>\n",
       "<style scoped>\n",
       "    .dataframe tbody tr th:only-of-type {\n",
       "        vertical-align: middle;\n",
       "    }\n",
       "\n",
       "    .dataframe tbody tr th {\n",
       "        vertical-align: top;\n",
       "    }\n",
       "\n",
       "    .dataframe thead th {\n",
       "        text-align: right;\n",
       "    }\n",
       "</style>\n",
       "<table border=\"1\" class=\"dataframe\">\n",
       "  <thead>\n",
       "    <tr style=\"text-align: right;\">\n",
       "      <th></th>\n",
       "      <th>현재생활형편CSI</th>\n",
       "      <th>현재경기판단CSI</th>\n",
       "      <th>생활형편전망CSI</th>\n",
       "      <th>소비지출전망CSI</th>\n",
       "      <th>주택가격전망CSI</th>\n",
       "      <th>임금수준전망CSI</th>\n",
       "      <th>소비자심리지수</th>\n",
       "    </tr>\n",
       "  </thead>\n",
       "  <tbody>\n",
       "    <tr>\n",
       "      <th>2020. 07</th>\n",
       "      <td>85</td>\n",
       "      <td>49</td>\n",
       "      <td>87</td>\n",
       "      <td>95</td>\n",
       "      <td>125</td>\n",
       "      <td>110</td>\n",
       "      <td>84</td>\n",
       "    </tr>\n",
       "    <tr>\n",
       "      <th>2020. 06</th>\n",
       "      <td>84</td>\n",
       "      <td>44</td>\n",
       "      <td>87</td>\n",
       "      <td>93</td>\n",
       "      <td>112</td>\n",
       "      <td>105</td>\n",
       "      <td>82</td>\n",
       "    </tr>\n",
       "    <tr>\n",
       "      <th>2020. 05</th>\n",
       "      <td>79</td>\n",
       "      <td>36</td>\n",
       "      <td>85</td>\n",
       "      <td>91</td>\n",
       "      <td>96</td>\n",
       "      <td>104</td>\n",
       "      <td>78</td>\n",
       "    </tr>\n",
       "    <tr>\n",
       "      <th>2020. 04</th>\n",
       "      <td>77</td>\n",
       "      <td>31</td>\n",
       "      <td>79</td>\n",
       "      <td>87</td>\n",
       "      <td>96</td>\n",
       "      <td>102</td>\n",
       "      <td>71</td>\n",
       "    </tr>\n",
       "    <tr>\n",
       "      <th>2020. 03</th>\n",
       "      <td>83</td>\n",
       "      <td>38</td>\n",
       "      <td>83</td>\n",
       "      <td>93</td>\n",
       "      <td>112</td>\n",
       "      <td>109</td>\n",
       "      <td>78</td>\n",
       "    </tr>\n",
       "  </tbody>\n",
       "</table>\n",
       "</div>"
      ],
      "text/plain": [
       "         현재생활형편CSI 현재경기판단CSI 생활형편전망CSI 소비지출전망CSI 주택가격전망CSI 임금수준전망CSI 소비자심리지수\n",
       "2020. 07        85        49        87        95       125       110      84\n",
       "2020. 06        84        44        87        93       112       105      82\n",
       "2020. 05        79        36        85        91        96       104      78\n",
       "2020. 04        77        31        79        87        96       102      71\n",
       "2020. 03        83        38        83        93       112       109      78"
      ]
     },
     "execution_count": 60,
     "metadata": {},
     "output_type": "execute_result"
    }
   ],
   "source": [
    "df2.head()"
   ]
  },
  {
   "cell_type": "markdown",
   "metadata": {
    "Collapsed": "false"
   },
   "source": [
    "# df4 : 지역별 소비유형별 개인 신용카드"
   ]
  },
  {
   "cell_type": "code",
   "execution_count": 56,
   "metadata": {
    "Collapsed": "false"
   },
   "outputs": [],
   "source": [
    "regional_consumed = pd.pivot_table(df4, index = '날짜', columns = '지역', values = '금액')"
   ]
  },
  {
   "cell_type": "code",
   "execution_count": 57,
   "metadata": {
    "Collapsed": "false"
   },
   "outputs": [],
   "source": [
    "categorical_consumed = pd.pivot_table(df4, index = '날짜', columns = '소비유형', values = '금액')"
   ]
  },
  {
   "cell_type": "code",
   "execution_count": 58,
   "metadata": {
    "Collapsed": "false"
   },
   "outputs": [],
   "source": [
    "categorical_consumed.index.name = None"
   ]
  },
  {
   "cell_type": "code",
   "execution_count": 59,
   "metadata": {
    "Collapsed": "false"
   },
   "outputs": [],
   "source": [
    "regional_consumed.index.name = None"
   ]
  },
  {
   "cell_type": "code",
   "execution_count": 61,
   "metadata": {
    "Collapsed": "false"
   },
   "outputs": [
    {
     "data": {
      "text/html": [
       "<div>\n",
       "<style scoped>\n",
       "    .dataframe tbody tr th:only-of-type {\n",
       "        vertical-align: middle;\n",
       "    }\n",
       "\n",
       "    .dataframe tbody tr th {\n",
       "        vertical-align: top;\n",
       "    }\n",
       "\n",
       "    .dataframe thead th {\n",
       "        text-align: right;\n",
       "    }\n",
       "</style>\n",
       "<table border=\"1\" class=\"dataframe\">\n",
       "  <thead>\n",
       "    <tr style=\"text-align: right;\">\n",
       "      <th>소비유형</th>\n",
       "      <th>Accommodation</th>\n",
       "      <th>Accommodation/Food Services</th>\n",
       "      <th>Airlines</th>\n",
       "      <th>Books/Stationery</th>\n",
       "      <th>Clothing/Miscellaneous Goods</th>\n",
       "      <th>Convenience Stores</th>\n",
       "      <th>Cosmetics</th>\n",
       "      <th>Department Stores</th>\n",
       "      <th>Discount Stores/Other Superstores</th>\n",
       "      <th>Domestic Motor Vehicles (New Products)</th>\n",
       "      <th>...</th>\n",
       "      <th>Public Transportation</th>\n",
       "      <th>Recreation/Culture</th>\n",
       "      <th>Restaurants/Other Food Services</th>\n",
       "      <th>Sports/Recreation/Leisure</th>\n",
       "      <th>Supermarkets</th>\n",
       "      <th>Total</th>\n",
       "      <th>Transport</th>\n",
       "      <th>Travel Agencies/Vehicle Rental</th>\n",
       "      <th>Utility Charges/Personal and Professional Services</th>\n",
       "      <th>Watches/Jewellery/Eyeglasses</th>\n",
       "    </tr>\n",
       "  </thead>\n",
       "  <tbody>\n",
       "    <tr>\n",
       "      <th>201901</th>\n",
       "      <td>15980.750000</td>\n",
       "      <td>294713.416667</td>\n",
       "      <td>28900.750000</td>\n",
       "      <td>17030.611111</td>\n",
       "      <td>64969.194444</td>\n",
       "      <td>37947.333333</td>\n",
       "      <td>14062.638889</td>\n",
       "      <td>72251.472222</td>\n",
       "      <td>152354.250000</td>\n",
       "      <td>81674.388889</td>\n",
       "      <td>...</td>\n",
       "      <td>32734.444444</td>\n",
       "      <td>68272.888889</td>\n",
       "      <td>278732.638889</td>\n",
       "      <td>51242.416667</td>\n",
       "      <td>112289.277778</td>\n",
       "      <td>2.576979e+06</td>\n",
       "      <td>71521.888889</td>\n",
       "      <td>9886.750000</td>\n",
       "      <td>304904.583333</td>\n",
       "      <td>11563.500000</td>\n",
       "    </tr>\n",
       "    <tr>\n",
       "      <th>201902</th>\n",
       "      <td>13465.000000</td>\n",
       "      <td>257527.500000</td>\n",
       "      <td>24395.805556</td>\n",
       "      <td>15262.277778</td>\n",
       "      <td>57633.361111</td>\n",
       "      <td>33870.333333</td>\n",
       "      <td>12114.833333</td>\n",
       "      <td>65887.805556</td>\n",
       "      <td>138250.888889</td>\n",
       "      <td>74941.027778</td>\n",
       "      <td>...</td>\n",
       "      <td>29217.166667</td>\n",
       "      <td>63405.722222</td>\n",
       "      <td>244062.472222</td>\n",
       "      <td>48143.527778</td>\n",
       "      <td>100494.194444</td>\n",
       "      <td>2.239546e+06</td>\n",
       "      <td>60300.472222</td>\n",
       "      <td>6687.472222</td>\n",
       "      <td>217737.861111</td>\n",
       "      <td>10776.500000</td>\n",
       "    </tr>\n",
       "    <tr>\n",
       "      <th>201903</th>\n",
       "      <td>13298.638889</td>\n",
       "      <td>296086.333333</td>\n",
       "      <td>25432.277778</td>\n",
       "      <td>21748.388889</td>\n",
       "      <td>71213.250000</td>\n",
       "      <td>39476.888889</td>\n",
       "      <td>14447.055556</td>\n",
       "      <td>77504.027778</td>\n",
       "      <td>149656.750000</td>\n",
       "      <td>100043.722222</td>\n",
       "      <td>...</td>\n",
       "      <td>31389.944444</td>\n",
       "      <td>83193.277778</td>\n",
       "      <td>282787.694444</td>\n",
       "      <td>61444.916667</td>\n",
       "      <td>107276.166667</td>\n",
       "      <td>2.551792e+06</td>\n",
       "      <td>63685.861111</td>\n",
       "      <td>6863.583333</td>\n",
       "      <td>232540.638889</td>\n",
       "      <td>13070.944444</td>\n",
       "    </tr>\n",
       "    <tr>\n",
       "      <th>201904</th>\n",
       "      <td>13495.444444</td>\n",
       "      <td>288666.638889</td>\n",
       "      <td>25602.583333</td>\n",
       "      <td>15983.250000</td>\n",
       "      <td>68949.583333</td>\n",
       "      <td>40668.527778</td>\n",
       "      <td>13701.222222</td>\n",
       "      <td>73458.472222</td>\n",
       "      <td>146463.166667</td>\n",
       "      <td>96854.138889</td>\n",
       "      <td>...</td>\n",
       "      <td>34478.805556</td>\n",
       "      <td>78617.555556</td>\n",
       "      <td>275171.194444</td>\n",
       "      <td>62634.277778</td>\n",
       "      <td>108647.666667</td>\n",
       "      <td>2.502460e+06</td>\n",
       "      <td>67069.277778</td>\n",
       "      <td>6987.916667</td>\n",
       "      <td>254839.277778</td>\n",
       "      <td>12127.833333</td>\n",
       "    </tr>\n",
       "    <tr>\n",
       "      <th>201905</th>\n",
       "      <td>14790.666667</td>\n",
       "      <td>314655.527778</td>\n",
       "      <td>25671.083333</td>\n",
       "      <td>16059.416667</td>\n",
       "      <td>75534.694444</td>\n",
       "      <td>44383.388889</td>\n",
       "      <td>14361.611111</td>\n",
       "      <td>79742.861111</td>\n",
       "      <td>160033.527778</td>\n",
       "      <td>92440.805556</td>\n",
       "      <td>...</td>\n",
       "      <td>34988.138889</td>\n",
       "      <td>85897.194444</td>\n",
       "      <td>299865.055556</td>\n",
       "      <td>69837.750000</td>\n",
       "      <td>112953.277778</td>\n",
       "      <td>2.644259e+06</td>\n",
       "      <td>68138.333333</td>\n",
       "      <td>7479.027778</td>\n",
       "      <td>250810.833333</td>\n",
       "      <td>13351.472222</td>\n",
       "    </tr>\n",
       "  </tbody>\n",
       "</table>\n",
       "<p>5 rows × 41 columns</p>\n",
       "</div>"
      ],
      "text/plain": [
       "소비유형    Accommodation  Accommodation/Food Services      Airlines  \\\n",
       "201901   15980.750000                294713.416667  28900.750000   \n",
       "201902   13465.000000                257527.500000  24395.805556   \n",
       "201903   13298.638889                296086.333333  25432.277778   \n",
       "201904   13495.444444                288666.638889  25602.583333   \n",
       "201905   14790.666667                314655.527778  25671.083333   \n",
       "\n",
       "소비유형    Books/Stationery  Clothing/Miscellaneous Goods  Convenience Stores  \\\n",
       "201901      17030.611111                  64969.194444        37947.333333   \n",
       "201902      15262.277778                  57633.361111        33870.333333   \n",
       "201903      21748.388889                  71213.250000        39476.888889   \n",
       "201904      15983.250000                  68949.583333        40668.527778   \n",
       "201905      16059.416667                  75534.694444        44383.388889   \n",
       "\n",
       "소비유형       Cosmetics  Department Stores  Discount Stores/Other Superstores  \\\n",
       "201901  14062.638889       72251.472222                      152354.250000   \n",
       "201902  12114.833333       65887.805556                      138250.888889   \n",
       "201903  14447.055556       77504.027778                      149656.750000   \n",
       "201904  13701.222222       73458.472222                      146463.166667   \n",
       "201905  14361.611111       79742.861111                      160033.527778   \n",
       "\n",
       "소비유형    Domestic Motor Vehicles (New Products)  ...  Public Transportation  \\\n",
       "201901                            81674.388889  ...           32734.444444   \n",
       "201902                            74941.027778  ...           29217.166667   \n",
       "201903                           100043.722222  ...           31389.944444   \n",
       "201904                            96854.138889  ...           34478.805556   \n",
       "201905                            92440.805556  ...           34988.138889   \n",
       "\n",
       "소비유형    Recreation/Culture  Restaurants/Other Food Services  \\\n",
       "201901        68272.888889                    278732.638889   \n",
       "201902        63405.722222                    244062.472222   \n",
       "201903        83193.277778                    282787.694444   \n",
       "201904        78617.555556                    275171.194444   \n",
       "201905        85897.194444                    299865.055556   \n",
       "\n",
       "소비유형    Sports/Recreation/Leisure   Supermarkets         Total     Transport  \\\n",
       "201901               51242.416667  112289.277778  2.576979e+06  71521.888889   \n",
       "201902               48143.527778  100494.194444  2.239546e+06  60300.472222   \n",
       "201903               61444.916667  107276.166667  2.551792e+06  63685.861111   \n",
       "201904               62634.277778  108647.666667  2.502460e+06  67069.277778   \n",
       "201905               69837.750000  112953.277778  2.644259e+06  68138.333333   \n",
       "\n",
       "소비유형    Travel Agencies/Vehicle Rental  \\\n",
       "201901                     9886.750000   \n",
       "201902                     6687.472222   \n",
       "201903                     6863.583333   \n",
       "201904                     6987.916667   \n",
       "201905                     7479.027778   \n",
       "\n",
       "소비유형    Utility Charges/Personal and Professional Services  \\\n",
       "201901                                      304904.583333    \n",
       "201902                                      217737.861111    \n",
       "201903                                      232540.638889    \n",
       "201904                                      254839.277778    \n",
       "201905                                      250810.833333    \n",
       "\n",
       "소비유형    Watches/Jewellery/Eyeglasses  \n",
       "201901                  11563.500000  \n",
       "201902                  10776.500000  \n",
       "201903                  13070.944444  \n",
       "201904                  12127.833333  \n",
       "201905                  13351.472222  \n",
       "\n",
       "[5 rows x 41 columns]"
      ]
     },
     "execution_count": 61,
     "metadata": {},
     "output_type": "execute_result"
    }
   ],
   "source": [
    "# 소비유형별 월별 개인 신용카드 지출내역\n",
    "categorical_consumed.head()"
   ]
  },
  {
   "cell_type": "code",
   "execution_count": 62,
   "metadata": {
    "Collapsed": "false"
   },
   "outputs": [
    {
     "data": {
      "text/html": [
       "<div>\n",
       "<style scoped>\n",
       "    .dataframe tbody tr th:only-of-type {\n",
       "        vertical-align: middle;\n",
       "    }\n",
       "\n",
       "    .dataframe tbody tr th {\n",
       "        vertical-align: top;\n",
       "    }\n",
       "\n",
       "    .dataframe thead th {\n",
       "        text-align: right;\n",
       "    }\n",
       "</style>\n",
       "<table border=\"1\" class=\"dataframe\">\n",
       "  <thead>\n",
       "    <tr style=\"text-align: right;\">\n",
       "      <th>지역</th>\n",
       "      <th>Busan</th>\n",
       "      <th>Chungbuk</th>\n",
       "      <th>Chungnam</th>\n",
       "      <th>Daegu</th>\n",
       "      <th>Daejeon</th>\n",
       "      <th>Gangwon</th>\n",
       "      <th>Gwangju</th>\n",
       "      <th>Gyeongbuk</th>\n",
       "      <th>Gyeonggi</th>\n",
       "      <th>Gyeongnam</th>\n",
       "      <th>Incheon</th>\n",
       "      <th>Jeju</th>\n",
       "      <th>Jeonbuk</th>\n",
       "      <th>Jeonnam</th>\n",
       "      <th>Seoul</th>\n",
       "      <th>Total</th>\n",
       "      <th>Ulsan</th>\n",
       "      <th>Unclassified</th>\n",
       "    </tr>\n",
       "  </thead>\n",
       "  <tbody>\n",
       "    <tr>\n",
       "      <th>201901</th>\n",
       "      <td>65720.939024</td>\n",
       "      <td>22184.695122</td>\n",
       "      <td>36158.878049</td>\n",
       "      <td>39996.487805</td>\n",
       "      <td>33057.304878</td>\n",
       "      <td>25659.634146</td>\n",
       "      <td>28536.182927</td>\n",
       "      <td>32917.170732</td>\n",
       "      <td>314721.658537</td>\n",
       "      <td>46736.609756</td>\n",
       "      <td>47953.170732</td>\n",
       "      <td>17146.963415</td>\n",
       "      <td>25879.353659</td>\n",
       "      <td>22663.060976</td>\n",
       "      <td>639677.841463</td>\n",
       "      <td>1.425406e+06</td>\n",
       "      <td>16748.500000</td>\n",
       "      <td>9647.609756</td>\n",
       "    </tr>\n",
       "    <tr>\n",
       "      <th>201902</th>\n",
       "      <td>58316.329268</td>\n",
       "      <td>20166.695122</td>\n",
       "      <td>32416.792683</td>\n",
       "      <td>36101.975610</td>\n",
       "      <td>28892.097561</td>\n",
       "      <td>22555.890244</td>\n",
       "      <td>25716.878049</td>\n",
       "      <td>29990.000000</td>\n",
       "      <td>279927.353659</td>\n",
       "      <td>41541.414634</td>\n",
       "      <td>42553.231707</td>\n",
       "      <td>14759.939024</td>\n",
       "      <td>23309.878049</td>\n",
       "      <td>20682.085366</td>\n",
       "      <td>543864.670732</td>\n",
       "      <td>1.243899e+06</td>\n",
       "      <td>14741.768293</td>\n",
       "      <td>8361.853659</td>\n",
       "    </tr>\n",
       "    <tr>\n",
       "      <th>201903</th>\n",
       "      <td>65152.390244</td>\n",
       "      <td>23454.073171</td>\n",
       "      <td>37933.402439</td>\n",
       "      <td>40482.597561</td>\n",
       "      <td>32526.756098</td>\n",
       "      <td>24441.256098</td>\n",
       "      <td>29822.768293</td>\n",
       "      <td>33914.914634</td>\n",
       "      <td>325625.682927</td>\n",
       "      <td>47236.524390</td>\n",
       "      <td>48586.682927</td>\n",
       "      <td>16305.365854</td>\n",
       "      <td>25819.121951</td>\n",
       "      <td>23458.012195</td>\n",
       "      <td>619941.646341</td>\n",
       "      <td>1.420656e+06</td>\n",
       "      <td>16646.256098</td>\n",
       "      <td>9308.560976</td>\n",
       "    </tr>\n",
       "    <tr>\n",
       "      <th>201904</th>\n",
       "      <td>62292.292683</td>\n",
       "      <td>23164.560976</td>\n",
       "      <td>38254.109756</td>\n",
       "      <td>39204.634146</td>\n",
       "      <td>30890.195122</td>\n",
       "      <td>23605.951220</td>\n",
       "      <td>28260.621951</td>\n",
       "      <td>33332.243902</td>\n",
       "      <td>309090.000000</td>\n",
       "      <td>45992.414634</td>\n",
       "      <td>46900.743902</td>\n",
       "      <td>16635.487805</td>\n",
       "      <td>25177.695122</td>\n",
       "      <td>23111.768293</td>\n",
       "      <td>619939.219512</td>\n",
       "      <td>1.390761e+06</td>\n",
       "      <td>16108.243902</td>\n",
       "      <td>8801.402439</td>\n",
       "    </tr>\n",
       "    <tr>\n",
       "      <th>201905</th>\n",
       "      <td>67221.414634</td>\n",
       "      <td>25279.524390</td>\n",
       "      <td>41590.585366</td>\n",
       "      <td>42040.304878</td>\n",
       "      <td>32854.134146</td>\n",
       "      <td>27166.231707</td>\n",
       "      <td>29775.243902</td>\n",
       "      <td>36401.768293</td>\n",
       "      <td>315194.914634</td>\n",
       "      <td>49964.024390</td>\n",
       "      <td>49551.670732</td>\n",
       "      <td>17751.317073</td>\n",
       "      <td>27635.512195</td>\n",
       "      <td>25306.853659</td>\n",
       "      <td>655818.573171</td>\n",
       "      <td>1.473079e+06</td>\n",
       "      <td>17436.512195</td>\n",
       "      <td>12090.280488</td>\n",
       "    </tr>\n",
       "  </tbody>\n",
       "</table>\n",
       "</div>"
      ],
      "text/plain": [
       "지역             Busan      Chungbuk      Chungnam         Daegu       Daejeon  \\\n",
       "201901  65720.939024  22184.695122  36158.878049  39996.487805  33057.304878   \n",
       "201902  58316.329268  20166.695122  32416.792683  36101.975610  28892.097561   \n",
       "201903  65152.390244  23454.073171  37933.402439  40482.597561  32526.756098   \n",
       "201904  62292.292683  23164.560976  38254.109756  39204.634146  30890.195122   \n",
       "201905  67221.414634  25279.524390  41590.585366  42040.304878  32854.134146   \n",
       "\n",
       "지역           Gangwon       Gwangju     Gyeongbuk       Gyeonggi     Gyeongnam  \\\n",
       "201901  25659.634146  28536.182927  32917.170732  314721.658537  46736.609756   \n",
       "201902  22555.890244  25716.878049  29990.000000  279927.353659  41541.414634   \n",
       "201903  24441.256098  29822.768293  33914.914634  325625.682927  47236.524390   \n",
       "201904  23605.951220  28260.621951  33332.243902  309090.000000  45992.414634   \n",
       "201905  27166.231707  29775.243902  36401.768293  315194.914634  49964.024390   \n",
       "\n",
       "지역           Incheon          Jeju       Jeonbuk       Jeonnam          Seoul  \\\n",
       "201901  47953.170732  17146.963415  25879.353659  22663.060976  639677.841463   \n",
       "201902  42553.231707  14759.939024  23309.878049  20682.085366  543864.670732   \n",
       "201903  48586.682927  16305.365854  25819.121951  23458.012195  619941.646341   \n",
       "201904  46900.743902  16635.487805  25177.695122  23111.768293  619939.219512   \n",
       "201905  49551.670732  17751.317073  27635.512195  25306.853659  655818.573171   \n",
       "\n",
       "지역             Total         Ulsan  Unclassified  \n",
       "201901  1.425406e+06  16748.500000   9647.609756  \n",
       "201902  1.243899e+06  14741.768293   8361.853659  \n",
       "201903  1.420656e+06  16646.256098   9308.560976  \n",
       "201904  1.390761e+06  16108.243902   8801.402439  \n",
       "201905  1.473079e+06  17436.512195  12090.280488  "
      ]
     },
     "execution_count": 62,
     "metadata": {},
     "output_type": "execute_result"
    }
   ],
   "source": [
    "# 지역별 월별 개인 신용카드 지출내역\n",
    "regional_consumed.head()"
   ]
  },
  {
   "cell_type": "markdown",
   "metadata": {
    "Collapsed": "false"
   },
   "source": [
    "# df1 : 소매업태별 판매액지수"
   ]
  },
  {
   "cell_type": "code",
   "execution_count": 172,
   "metadata": {
    "Collapsed": "false"
   },
   "outputs": [],
   "source": [
    "df1 = pd.read_excel(os.path.join('..', '0.Data', '03_외부데이터', '소매업태별 판매액지수.xlsx'))"
   ]
  },
  {
   "cell_type": "code",
   "execution_count": 64,
   "metadata": {
    "Collapsed": "false"
   },
   "outputs": [],
   "source": [
    "df1['업태별'] = df1['업태별'].apply(lambda x : x.strip())"
   ]
  },
  {
   "cell_type": "code",
   "execution_count": 65,
   "metadata": {
    "Collapsed": "false"
   },
   "outputs": [],
   "source": [
    "df1.columns = ['업태별'] + list(map(lambda x : x.replace(' ','')[:7], df1.columns[1:]))"
   ]
  },
  {
   "cell_type": "code",
   "execution_count": 66,
   "metadata": {
    "Collapsed": "false"
   },
   "outputs": [],
   "source": [
    "t = df1.loc[[0,19]].T.drop('업태별').reset_index()"
   ]
  },
  {
   "cell_type": "code",
   "execution_count": 67,
   "metadata": {
    "Collapsed": "false"
   },
   "outputs": [],
   "source": [
    "t = t.loc[t[19] != '-']"
   ]
  },
  {
   "cell_type": "code",
   "execution_count": 68,
   "metadata": {
    "Collapsed": "false"
   },
   "outputs": [],
   "source": [
    "t[19] = t[19].astype(float)"
   ]
  },
  {
   "cell_type": "code",
   "execution_count": 69,
   "metadata": {
    "Collapsed": "false"
   },
   "outputs": [],
   "source": [
    "df1 = pd.pivot_table(t, index = 'index', columns = 0, values = 19)"
   ]
  },
  {
   "cell_type": "code",
   "execution_count": 70,
   "metadata": {
    "Collapsed": "false"
   },
   "outputs": [],
   "source": [
    "df1.columns = ['경상지수', '불변지수']"
   ]
  },
  {
   "cell_type": "code",
   "execution_count": 71,
   "metadata": {
    "Collapsed": "false"
   },
   "outputs": [],
   "source": [
    "df1.index.name = None"
   ]
  },
  {
   "cell_type": "code",
   "execution_count": 72,
   "metadata": {
    "Collapsed": "false"
   },
   "outputs": [
    {
     "data": {
      "text/html": [
       "<div>\n",
       "<style scoped>\n",
       "    .dataframe tbody tr th:only-of-type {\n",
       "        vertical-align: middle;\n",
       "    }\n",
       "\n",
       "    .dataframe tbody tr th {\n",
       "        vertical-align: top;\n",
       "    }\n",
       "\n",
       "    .dataframe thead th {\n",
       "        text-align: right;\n",
       "    }\n",
       "</style>\n",
       "<table border=\"1\" class=\"dataframe\">\n",
       "  <thead>\n",
       "    <tr style=\"text-align: right;\">\n",
       "      <th></th>\n",
       "      <th>경상지수</th>\n",
       "      <th>불변지수</th>\n",
       "    </tr>\n",
       "  </thead>\n",
       "  <tbody>\n",
       "    <tr>\n",
       "      <th>2019.01</th>\n",
       "      <td>142.2</td>\n",
       "      <td>139.3</td>\n",
       "    </tr>\n",
       "    <tr>\n",
       "      <th>2019.02</th>\n",
       "      <td>116.1</td>\n",
       "      <td>113.3</td>\n",
       "    </tr>\n",
       "    <tr>\n",
       "      <th>2019.03</th>\n",
       "      <td>137.0</td>\n",
       "      <td>134.0</td>\n",
       "    </tr>\n",
       "    <tr>\n",
       "      <th>2019.04</th>\n",
       "      <td>133.5</td>\n",
       "      <td>130.1</td>\n",
       "    </tr>\n",
       "    <tr>\n",
       "      <th>2019.05</th>\n",
       "      <td>137.1</td>\n",
       "      <td>133.8</td>\n",
       "    </tr>\n",
       "    <tr>\n",
       "      <th>2019.06</th>\n",
       "      <td>125.8</td>\n",
       "      <td>123.4</td>\n",
       "    </tr>\n",
       "    <tr>\n",
       "      <th>2019.07</th>\n",
       "      <td>127.2</td>\n",
       "      <td>124.7</td>\n",
       "    </tr>\n",
       "    <tr>\n",
       "      <th>2019.08</th>\n",
       "      <td>123.1</td>\n",
       "      <td>120.3</td>\n",
       "    </tr>\n",
       "    <tr>\n",
       "      <th>2019.09</th>\n",
       "      <td>127.6</td>\n",
       "      <td>124.3</td>\n",
       "    </tr>\n",
       "    <tr>\n",
       "      <th>2019.10</th>\n",
       "      <td>143.0</td>\n",
       "      <td>139.0</td>\n",
       "    </tr>\n",
       "    <tr>\n",
       "      <th>2019.11</th>\n",
       "      <td>142.0</td>\n",
       "      <td>138.8</td>\n",
       "    </tr>\n",
       "    <tr>\n",
       "      <th>2019.12</th>\n",
       "      <td>141.8</td>\n",
       "      <td>138.0</td>\n",
       "    </tr>\n",
       "    <tr>\n",
       "      <th>2020.01</th>\n",
       "      <td>136.2</td>\n",
       "      <td>131.7</td>\n",
       "    </tr>\n",
       "    <tr>\n",
       "      <th>2020.02</th>\n",
       "      <td>134.4</td>\n",
       "      <td>130.0</td>\n",
       "    </tr>\n",
       "    <tr>\n",
       "      <th>2020.03</th>\n",
       "      <td>151.2</td>\n",
       "      <td>146.1</td>\n",
       "    </tr>\n",
       "    <tr>\n",
       "      <th>2020.04</th>\n",
       "      <td>137.8</td>\n",
       "      <td>133.3</td>\n",
       "    </tr>\n",
       "    <tr>\n",
       "      <th>2020.05</th>\n",
       "      <td>144.7</td>\n",
       "      <td>139.8</td>\n",
       "    </tr>\n",
       "    <tr>\n",
       "      <th>2020.06</th>\n",
       "      <td>143.0</td>\n",
       "      <td>139.2</td>\n",
       "    </tr>\n",
       "  </tbody>\n",
       "</table>\n",
       "</div>"
      ],
      "text/plain": [
       "          경상지수   불변지수\n",
       "2019.01  142.2  139.3\n",
       "2019.02  116.1  113.3\n",
       "2019.03  137.0  134.0\n",
       "2019.04  133.5  130.1\n",
       "2019.05  137.1  133.8\n",
       "2019.06  125.8  123.4\n",
       "2019.07  127.2  124.7\n",
       "2019.08  123.1  120.3\n",
       "2019.09  127.6  124.3\n",
       "2019.10  143.0  139.0\n",
       "2019.11  142.0  138.8\n",
       "2019.12  141.8  138.0\n",
       "2020.01  136.2  131.7\n",
       "2020.02  134.4  130.0\n",
       "2020.03  151.2  146.1\n",
       "2020.04  137.8  133.3\n",
       "2020.05  144.7  139.8\n",
       "2020.06  143.0  139.2"
      ]
     },
     "execution_count": 72,
     "metadata": {},
     "output_type": "execute_result"
    }
   ],
   "source": [
    "df1"
   ]
  },
  {
   "cell_type": "markdown",
   "metadata": {
    "Collapsed": "false"
   },
   "source": [
    "# 날짜 형식 통일"
   ]
  },
  {
   "cell_type": "markdown",
   "metadata": {
    "Collapsed": "false"
   },
   "source": [
    ": 모두 년도와 월로 구분해야함"
   ]
  },
  {
   "cell_type": "code",
   "execution_count": 116,
   "metadata": {
    "Collapsed": "false"
   },
   "outputs": [],
   "source": [
    "def makeDate(df):\n",
    "    df = df.reset_index().rename(columns = {'index' : '날짜'})\n",
    "    if type(df['날짜'][0]) == str:\n",
    "        df['날짜'] = pd.to_datetime(df['날짜'])\n",
    "    else:\n",
    "        df['날짜'] = df['날짜'].astype(str).apply(lambda x : '-'.join((x[:4],x[4:])))\n",
    "        df['날짜'] = pd.to_datetime(df['날짜'])\n",
    "    df['년도'] = df['날짜'].dt.year\n",
    "    df['월'] = df['날짜'].dt.month\n",
    "    return df"
   ]
  },
  {
   "cell_type": "code",
   "execution_count": 118,
   "metadata": {
    "Collapsed": "false"
   },
   "outputs": [],
   "source": [
    "df1 = makeDate(df1)\n",
    "df2 = makeDate(df2)\n",
    "df3 = makeDate(df3)\n",
    "df4_a = makeDate(regional_consumed)\n",
    "df4_b = makeDate(categorical_consumed)"
   ]
  },
  {
   "cell_type": "code",
   "execution_count": 119,
   "metadata": {
    "Collapsed": "false"
   },
   "outputs": [
    {
     "data": {
      "text/plain": [
       "((18, 5), (19, 10), (18, 75), (17, 21), (17, 44))"
      ]
     },
     "execution_count": 119,
     "metadata": {},
     "output_type": "execute_result"
    }
   ],
   "source": [
    "df1.shape, df2.shape, df3.shape, df4_a.shape, df4_b.shape, "
   ]
  },
  {
   "cell_type": "markdown",
   "metadata": {
    "Collapsed": "false"
   },
   "source": [
    "# 저장"
   ]
  },
  {
   "cell_type": "code",
   "execution_count": 308,
   "metadata": {
    "Collapsed": "false"
   },
   "outputs": [],
   "source": [
    "# 신용카드 실적에 대한 정보다 2020년 5월까지 밖에 없음"
   ]
  },
  {
   "cell_type": "code",
   "execution_count": 158,
   "metadata": {
    "Collapsed": "false"
   },
   "outputs": [],
   "source": [
    "df1= df1.sort_values('날짜').reset_index(drop = True)\n",
    "df2 = df2.sort_values('날짜').reset_index(drop = True)\n",
    "df3= df3.sort_values('날짜').reset_index(drop = True)\n",
    "df4_a= df4_a.sort_values('날짜').reset_index(drop = True)\n",
    "df4_b= df4_b.sort_values('날짜').reset_index(drop = True)"
   ]
  },
  {
   "cell_type": "code",
   "execution_count": 171,
   "metadata": {
    "Collapsed": "false"
   },
   "outputs": [],
   "source": [
    "df = df1.merge(df2, on = ['날짜', '년도', '월'], how = 'outer').merge(df3, on = ['날짜', '년도', '월'], how = 'outer').merge(df4_a, on = ['날짜', '년도', '월'], how = 'outer').merge(df4_b, on = ['날짜', '년도', '월'], how = 'outer')"
   ]
  },
  {
   "cell_type": "code",
   "execution_count": 172,
   "metadata": {
    "Collapsed": "false"
   },
   "outputs": [],
   "source": [
    "df.to_excel(os.path.join('..', '..', '0.Data', '03_외부데이터', '전처리','prep_1차외부데이터_0901.xlsx'), index = False)"
   ]
  },
  {
   "cell_type": "code",
   "execution_count": null,
   "metadata": {
    "Collapsed": "false"
   },
   "outputs": [],
   "source": []
  }
 ],
 "metadata": {
  "kernelspec": {
   "display_name": "Python 3",
   "language": "python",
   "name": "python3"
  },
  "language_info": {
   "codemirror_mode": {
    "name": "ipython",
    "version": 3
   },
   "file_extension": ".py",
   "mimetype": "text/x-python",
   "name": "python",
   "nbconvert_exporter": "python",
   "pygments_lexer": "ipython3",
   "version": "3.7.6"
  }
 },
 "nbformat": 4,
 "nbformat_minor": 4
}
