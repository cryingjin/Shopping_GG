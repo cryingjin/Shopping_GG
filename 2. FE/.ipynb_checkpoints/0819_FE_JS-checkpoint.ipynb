{
 "cells": [
  {
   "cell_type": "code",
   "execution_count": 35,
   "metadata": {
    "Collapsed": "false"
   },
   "outputs": [],
   "source": [
    "import os\n",
    "import sys\n",
    "import numpy as np\n",
    "import pandas as pd"
   ]
  },
  {
   "cell_type": "markdown",
   "metadata": {
    "Collapsed": "false"
   },
   "source": [
    "# 0. 데이터 로드"
   ]
  },
  {
   "cell_type": "code",
   "execution_count": 4,
   "metadata": {
    "Collapsed": "false"
   },
   "outputs": [],
   "source": [
    "sale = pd.read_excel(os.path.join('..', '0.Data', '01_제공데이터', 'sale_data_v03_0820.xlsx'))\n",
    "meta = pd.read_excel(os.path.join('..', '0.Data', '01_제공데이터', 'sale_meta_v03_0820.xlsx'))\n",
    "item = pd.read_excel(os.path.join('..', '0.Data', '01_제공데이터', 'item_meta_v02_0820.xlsx'))"
   ]
  },
  {
   "cell_type": "code",
   "execution_count": 5,
   "metadata": {
    "Collapsed": "false"
   },
   "outputs": [
    {
     "data": {
      "text/plain": [
       "((38309, 15), (2042, 14), (1364, 2))"
      ]
     },
     "execution_count": 5,
     "metadata": {},
     "output_type": "execute_result"
    }
   ],
   "source": [
    "sale.shape, meta.shape, item.shape"
   ]
  },
  {
   "cell_type": "code",
   "execution_count": 6,
   "metadata": {
    "Collapsed": "false"
   },
   "outputs": [],
   "source": [
    "pd.set_option('display.float_format', lambda x: '%.3f' % x)"
   ]
  },
  {
   "cell_type": "markdown",
   "metadata": {
    "Collapsed": "false"
   },
   "source": [
    "# 1. 피처 엔지니어링"
   ]
  },
  {
   "cell_type": "markdown",
   "metadata": {
    "Collapsed": "false"
   },
   "source": [
    "## 1-1. 날짜"
   ]
  },
  {
   "cell_type": "markdown",
   "metadata": {
    "Collapsed": "false"
   },
   "source": [
    "### 1) 공휴일 여부"
   ]
  },
  {
   "cell_type": "code",
   "execution_count": 418,
   "metadata": {
    "Collapsed": "false"
   },
   "outputs": [],
   "source": [
    "# open API 사용\n",
    "# 공휴일은 당일 말고 주변 날짜까지 고려해야할듯 특히 설날/추석"
   ]
  },
  {
   "cell_type": "code",
   "execution_count": 36,
   "metadata": {
    "Collapsed": "false"
   },
   "outputs": [],
   "source": [
    "import json\n",
    "import requests\n",
    "key = '8wBiTSHPiK2z%2By8ETu%2FpYv%2FMAAdZoR8rZg3PIvSNCcD%2F26BiBPaosFs2dzrVJ%2BHUeaQGWb9c3T4vvNgMpI7fdw%3D%3D'"
   ]
  },
  {
   "cell_type": "code",
   "execution_count": 37,
   "metadata": {
    "Collapsed": "false"
   },
   "outputs": [],
   "source": [
    "# 2019 공휴일\n",
    "url = f'http://apis.data.go.kr/B090041/openapi/service/SpcdeInfoService/getRestDeInfo?solYear=2019&ServiceKey={key}&_type=json&numOfRows=20'\n",
    "response = requests.get(url)"
   ]
  },
  {
   "cell_type": "code",
   "execution_count": 38,
   "metadata": {
    "Collapsed": "false"
   },
   "outputs": [],
   "source": [
    "holidays = response.json()['response']['body']['items']['item']"
   ]
  },
  {
   "cell_type": "code",
   "execution_count": 41,
   "metadata": {
    "Collapsed": "false"
   },
   "outputs": [],
   "source": [
    "holidays = pd.DataFrame(holidays)"
   ]
  },
  {
   "cell_type": "code",
   "execution_count": 43,
   "metadata": {
    "Collapsed": "false"
   },
   "outputs": [],
   "source": [
    "holidays['locdate'] = holidays['locdate'].astype(str).apply(lambda x : '-'.join([x[:4], x[4:6], x[6:]]))"
   ]
  },
  {
   "cell_type": "code",
   "execution_count": 44,
   "metadata": {
    "Collapsed": "false"
   },
   "outputs": [
    {
     "data": {
      "text/html": [
       "<div>\n",
       "<style scoped>\n",
       "    .dataframe tbody tr th:only-of-type {\n",
       "        vertical-align: middle;\n",
       "    }\n",
       "\n",
       "    .dataframe tbody tr th {\n",
       "        vertical-align: top;\n",
       "    }\n",
       "\n",
       "    .dataframe thead th {\n",
       "        text-align: right;\n",
       "    }\n",
       "</style>\n",
       "<table border=\"1\" class=\"dataframe\">\n",
       "  <thead>\n",
       "    <tr style=\"text-align: right;\">\n",
       "      <th></th>\n",
       "      <th>dateKind</th>\n",
       "      <th>dateName</th>\n",
       "      <th>isHoliday</th>\n",
       "      <th>locdate</th>\n",
       "      <th>seq</th>\n",
       "    </tr>\n",
       "  </thead>\n",
       "  <tbody>\n",
       "    <tr>\n",
       "      <th>0</th>\n",
       "      <td>01</td>\n",
       "      <td>1월1일</td>\n",
       "      <td>Y</td>\n",
       "      <td>2019-01-01</td>\n",
       "      <td>1</td>\n",
       "    </tr>\n",
       "    <tr>\n",
       "      <th>1</th>\n",
       "      <td>01</td>\n",
       "      <td>설날</td>\n",
       "      <td>Y</td>\n",
       "      <td>2019-02-04</td>\n",
       "      <td>1</td>\n",
       "    </tr>\n",
       "    <tr>\n",
       "      <th>2</th>\n",
       "      <td>01</td>\n",
       "      <td>설날</td>\n",
       "      <td>Y</td>\n",
       "      <td>2019-02-05</td>\n",
       "      <td>1</td>\n",
       "    </tr>\n",
       "    <tr>\n",
       "      <th>3</th>\n",
       "      <td>01</td>\n",
       "      <td>설날</td>\n",
       "      <td>Y</td>\n",
       "      <td>2019-02-06</td>\n",
       "      <td>1</td>\n",
       "    </tr>\n",
       "    <tr>\n",
       "      <th>4</th>\n",
       "      <td>01</td>\n",
       "      <td>삼일절</td>\n",
       "      <td>Y</td>\n",
       "      <td>2019-03-01</td>\n",
       "      <td>1</td>\n",
       "    </tr>\n",
       "    <tr>\n",
       "      <th>5</th>\n",
       "      <td>01</td>\n",
       "      <td>어린이날</td>\n",
       "      <td>Y</td>\n",
       "      <td>2019-05-05</td>\n",
       "      <td>1</td>\n",
       "    </tr>\n",
       "    <tr>\n",
       "      <th>6</th>\n",
       "      <td>01</td>\n",
       "      <td>대체공휴일</td>\n",
       "      <td>Y</td>\n",
       "      <td>2019-05-06</td>\n",
       "      <td>1</td>\n",
       "    </tr>\n",
       "    <tr>\n",
       "      <th>7</th>\n",
       "      <td>01</td>\n",
       "      <td>부처님오신날</td>\n",
       "      <td>Y</td>\n",
       "      <td>2019-05-12</td>\n",
       "      <td>1</td>\n",
       "    </tr>\n",
       "    <tr>\n",
       "      <th>8</th>\n",
       "      <td>01</td>\n",
       "      <td>현충일</td>\n",
       "      <td>Y</td>\n",
       "      <td>2019-06-06</td>\n",
       "      <td>1</td>\n",
       "    </tr>\n",
       "    <tr>\n",
       "      <th>9</th>\n",
       "      <td>01</td>\n",
       "      <td>광복절</td>\n",
       "      <td>Y</td>\n",
       "      <td>2019-08-15</td>\n",
       "      <td>1</td>\n",
       "    </tr>\n",
       "    <tr>\n",
       "      <th>10</th>\n",
       "      <td>01</td>\n",
       "      <td>추석</td>\n",
       "      <td>Y</td>\n",
       "      <td>2019-09-12</td>\n",
       "      <td>1</td>\n",
       "    </tr>\n",
       "    <tr>\n",
       "      <th>11</th>\n",
       "      <td>01</td>\n",
       "      <td>추석</td>\n",
       "      <td>Y</td>\n",
       "      <td>2019-09-13</td>\n",
       "      <td>1</td>\n",
       "    </tr>\n",
       "    <tr>\n",
       "      <th>12</th>\n",
       "      <td>01</td>\n",
       "      <td>추석</td>\n",
       "      <td>Y</td>\n",
       "      <td>2019-09-14</td>\n",
       "      <td>1</td>\n",
       "    </tr>\n",
       "    <tr>\n",
       "      <th>13</th>\n",
       "      <td>01</td>\n",
       "      <td>개천절</td>\n",
       "      <td>Y</td>\n",
       "      <td>2019-10-03</td>\n",
       "      <td>1</td>\n",
       "    </tr>\n",
       "    <tr>\n",
       "      <th>14</th>\n",
       "      <td>01</td>\n",
       "      <td>한글날</td>\n",
       "      <td>Y</td>\n",
       "      <td>2019-10-09</td>\n",
       "      <td>1</td>\n",
       "    </tr>\n",
       "    <tr>\n",
       "      <th>15</th>\n",
       "      <td>01</td>\n",
       "      <td>기독탄신일</td>\n",
       "      <td>Y</td>\n",
       "      <td>2019-12-25</td>\n",
       "      <td>1</td>\n",
       "    </tr>\n",
       "  </tbody>\n",
       "</table>\n",
       "</div>"
      ],
      "text/plain": [
       "   dateKind dateName isHoliday     locdate  seq\n",
       "0        01     1월1일         Y  2019-01-01    1\n",
       "1        01       설날         Y  2019-02-04    1\n",
       "2        01       설날         Y  2019-02-05    1\n",
       "3        01       설날         Y  2019-02-06    1\n",
       "4        01      삼일절         Y  2019-03-01    1\n",
       "5        01     어린이날         Y  2019-05-05    1\n",
       "6        01    대체공휴일         Y  2019-05-06    1\n",
       "7        01   부처님오신날         Y  2019-05-12    1\n",
       "8        01      현충일         Y  2019-06-06    1\n",
       "9        01      광복절         Y  2019-08-15    1\n",
       "10       01       추석         Y  2019-09-12    1\n",
       "11       01       추석         Y  2019-09-13    1\n",
       "12       01       추석         Y  2019-09-14    1\n",
       "13       01      개천절         Y  2019-10-03    1\n",
       "14       01      한글날         Y  2019-10-09    1\n",
       "15       01    기독탄신일         Y  2019-12-25    1"
      ]
     },
     "execution_count": 44,
     "metadata": {},
     "output_type": "execute_result"
    }
   ],
   "source": [
    "holidays"
   ]
  },
  {
   "cell_type": "code",
   "execution_count": 50,
   "metadata": {
    "Collapsed": "false"
   },
   "outputs": [
    {
     "data": {
      "text/plain": [
       "0        2019-01-01\n",
       "1        2019-01-01\n",
       "2        2019-01-01\n",
       "3        2019-01-01\n",
       "4        2019-01-01\n",
       "            ...    \n",
       "38304    2020-01-01\n",
       "38305    2020-01-01\n",
       "38306    2020-01-01\n",
       "38307    2020-01-01\n",
       "38308    2020-01-01\n",
       "Name: 방송일시, Length: 38309, dtype: object"
      ]
     },
     "execution_count": 50,
     "metadata": {},
     "output_type": "execute_result"
    }
   ],
   "source": [
    "sale['방송일시'].dt.date.astype(str)"
   ]
  },
  {
   "cell_type": "code",
   "execution_count": 51,
   "metadata": {
    "Collapsed": "false"
   },
   "outputs": [
    {
     "data": {
      "text/html": [
       "<div>\n",
       "<style scoped>\n",
       "    .dataframe tbody tr th:only-of-type {\n",
       "        vertical-align: middle;\n",
       "    }\n",
       "\n",
       "    .dataframe tbody tr th {\n",
       "        vertical-align: top;\n",
       "    }\n",
       "\n",
       "    .dataframe thead th {\n",
       "        text-align: right;\n",
       "    }\n",
       "</style>\n",
       "<table border=\"1\" class=\"dataframe\">\n",
       "  <thead>\n",
       "    <tr style=\"text-align: right;\">\n",
       "      <th></th>\n",
       "      <th>방송일시</th>\n",
       "      <th>노출(분)</th>\n",
       "      <th>마더코드</th>\n",
       "      <th>상품코드</th>\n",
       "      <th>상품명</th>\n",
       "      <th>상품군</th>\n",
       "      <th>판매단가</th>\n",
       "      <th>취급액</th>\n",
       "      <th>NEW상품코드</th>\n",
       "      <th>NEW상품명</th>\n",
       "      <th>결제방법</th>\n",
       "      <th>단위</th>\n",
       "      <th>브랜드</th>\n",
       "      <th>옵션</th>\n",
       "      <th>종류</th>\n",
       "      <th>locdate</th>\n",
       "      <th>isHoliday</th>\n",
       "    </tr>\n",
       "  </thead>\n",
       "  <tbody>\n",
       "    <tr>\n",
       "      <th>0</th>\n",
       "      <td>2019-01-01 06:00:00</td>\n",
       "      <td>20.000</td>\n",
       "      <td>100346</td>\n",
       "      <td>201072</td>\n",
       "      <td>테이트 남성 셀린니트3종</td>\n",
       "      <td>의류</td>\n",
       "      <td>39900</td>\n",
       "      <td>2099000.000</td>\n",
       "      <td>865.000</td>\n",
       "      <td>테이트 남성 셀린니트 3종</td>\n",
       "      <td>0.000</td>\n",
       "      <td>3종</td>\n",
       "      <td>테이트</td>\n",
       "      <td>NaN</td>\n",
       "      <td>0</td>\n",
       "      <td>2019-01-01</td>\n",
       "      <td>Y</td>\n",
       "    </tr>\n",
       "    <tr>\n",
       "      <th>1</th>\n",
       "      <td>2019-01-01 06:00:00</td>\n",
       "      <td>nan</td>\n",
       "      <td>100346</td>\n",
       "      <td>201079</td>\n",
       "      <td>테이트 여성 셀린니트3종</td>\n",
       "      <td>의류</td>\n",
       "      <td>39900</td>\n",
       "      <td>4371000.000</td>\n",
       "      <td>866.000</td>\n",
       "      <td>테이트 여성 셀린니트 3종</td>\n",
       "      <td>0.000</td>\n",
       "      <td>3종</td>\n",
       "      <td>테이트</td>\n",
       "      <td>NaN</td>\n",
       "      <td>0</td>\n",
       "      <td>2019-01-01</td>\n",
       "      <td>Y</td>\n",
       "    </tr>\n",
       "    <tr>\n",
       "      <th>2</th>\n",
       "      <td>2019-01-01 06:20:00</td>\n",
       "      <td>20.000</td>\n",
       "      <td>100346</td>\n",
       "      <td>201072</td>\n",
       "      <td>테이트 남성 셀린니트3종</td>\n",
       "      <td>의류</td>\n",
       "      <td>39900</td>\n",
       "      <td>3262000.000</td>\n",
       "      <td>865.000</td>\n",
       "      <td>테이트 남성 셀린니트 3종</td>\n",
       "      <td>0.000</td>\n",
       "      <td>3종</td>\n",
       "      <td>테이트</td>\n",
       "      <td>NaN</td>\n",
       "      <td>0</td>\n",
       "      <td>2019-01-01</td>\n",
       "      <td>Y</td>\n",
       "    </tr>\n",
       "    <tr>\n",
       "      <th>3</th>\n",
       "      <td>2019-01-01 06:20:00</td>\n",
       "      <td>nan</td>\n",
       "      <td>100346</td>\n",
       "      <td>201079</td>\n",
       "      <td>테이트 여성 셀린니트3종</td>\n",
       "      <td>의류</td>\n",
       "      <td>39900</td>\n",
       "      <td>6955000.000</td>\n",
       "      <td>866.000</td>\n",
       "      <td>테이트 여성 셀린니트 3종</td>\n",
       "      <td>0.000</td>\n",
       "      <td>3종</td>\n",
       "      <td>테이트</td>\n",
       "      <td>NaN</td>\n",
       "      <td>0</td>\n",
       "      <td>2019-01-01</td>\n",
       "      <td>Y</td>\n",
       "    </tr>\n",
       "    <tr>\n",
       "      <th>4</th>\n",
       "      <td>2019-01-01 06:40:00</td>\n",
       "      <td>20.000</td>\n",
       "      <td>100346</td>\n",
       "      <td>201072</td>\n",
       "      <td>테이트 남성 셀린니트3종</td>\n",
       "      <td>의류</td>\n",
       "      <td>39900</td>\n",
       "      <td>6672000.000</td>\n",
       "      <td>865.000</td>\n",
       "      <td>테이트 남성 셀린니트 3종</td>\n",
       "      <td>0.000</td>\n",
       "      <td>3종</td>\n",
       "      <td>테이트</td>\n",
       "      <td>NaN</td>\n",
       "      <td>0</td>\n",
       "      <td>2019-01-01</td>\n",
       "      <td>Y</td>\n",
       "    </tr>\n",
       "    <tr>\n",
       "      <th>...</th>\n",
       "      <td>...</td>\n",
       "      <td>...</td>\n",
       "      <td>...</td>\n",
       "      <td>...</td>\n",
       "      <td>...</td>\n",
       "      <td>...</td>\n",
       "      <td>...</td>\n",
       "      <td>...</td>\n",
       "      <td>...</td>\n",
       "      <td>...</td>\n",
       "      <td>...</td>\n",
       "      <td>...</td>\n",
       "      <td>...</td>\n",
       "      <td>...</td>\n",
       "      <td>...</td>\n",
       "      <td>...</td>\n",
       "      <td>...</td>\n",
       "    </tr>\n",
       "    <tr>\n",
       "      <th>38304</th>\n",
       "      <td>2020-01-01 00:20:00</td>\n",
       "      <td>20.000</td>\n",
       "      <td>100073</td>\n",
       "      <td>200196</td>\n",
       "      <td>삼성화재 행복한파트너 주택화재보험(1912)</td>\n",
       "      <td>무형</td>\n",
       "      <td>0</td>\n",
       "      <td>nan</td>\n",
       "      <td>nan</td>\n",
       "      <td>NaN</td>\n",
       "      <td>nan</td>\n",
       "      <td>NaN</td>\n",
       "      <td>NaN</td>\n",
       "      <td>NaN</td>\n",
       "      <td>NaN</td>\n",
       "      <td>2020-01-01</td>\n",
       "      <td>NaN</td>\n",
       "    </tr>\n",
       "    <tr>\n",
       "      <th>38305</th>\n",
       "      <td>2020-01-01 00:40:00</td>\n",
       "      <td>20.000</td>\n",
       "      <td>100073</td>\n",
       "      <td>200196</td>\n",
       "      <td>삼성화재 행복한파트너 주택화재보험(1912)</td>\n",
       "      <td>무형</td>\n",
       "      <td>0</td>\n",
       "      <td>nan</td>\n",
       "      <td>nan</td>\n",
       "      <td>NaN</td>\n",
       "      <td>nan</td>\n",
       "      <td>NaN</td>\n",
       "      <td>NaN</td>\n",
       "      <td>NaN</td>\n",
       "      <td>NaN</td>\n",
       "      <td>2020-01-01</td>\n",
       "      <td>NaN</td>\n",
       "    </tr>\n",
       "    <tr>\n",
       "      <th>38306</th>\n",
       "      <td>2020-01-01 01:00:00</td>\n",
       "      <td>20.000</td>\n",
       "      <td>100073</td>\n",
       "      <td>200196</td>\n",
       "      <td>삼성화재 행복한파트너 주택화재보험(1912)</td>\n",
       "      <td>무형</td>\n",
       "      <td>0</td>\n",
       "      <td>nan</td>\n",
       "      <td>nan</td>\n",
       "      <td>NaN</td>\n",
       "      <td>nan</td>\n",
       "      <td>NaN</td>\n",
       "      <td>NaN</td>\n",
       "      <td>NaN</td>\n",
       "      <td>NaN</td>\n",
       "      <td>2020-01-01</td>\n",
       "      <td>NaN</td>\n",
       "    </tr>\n",
       "    <tr>\n",
       "      <th>38307</th>\n",
       "      <td>2020-01-01 01:20:00</td>\n",
       "      <td>20.000</td>\n",
       "      <td>100490</td>\n",
       "      <td>201478</td>\n",
       "      <td>더케이 예다함 상조서비스(티포트)</td>\n",
       "      <td>무형</td>\n",
       "      <td>0</td>\n",
       "      <td>nan</td>\n",
       "      <td>nan</td>\n",
       "      <td>NaN</td>\n",
       "      <td>nan</td>\n",
       "      <td>NaN</td>\n",
       "      <td>NaN</td>\n",
       "      <td>NaN</td>\n",
       "      <td>NaN</td>\n",
       "      <td>2020-01-01</td>\n",
       "      <td>NaN</td>\n",
       "    </tr>\n",
       "    <tr>\n",
       "      <th>38308</th>\n",
       "      <td>2020-01-01 01:40:00</td>\n",
       "      <td>17.167</td>\n",
       "      <td>100490</td>\n",
       "      <td>201478</td>\n",
       "      <td>더케이 예다함 상조서비스(티포트)</td>\n",
       "      <td>무형</td>\n",
       "      <td>0</td>\n",
       "      <td>nan</td>\n",
       "      <td>nan</td>\n",
       "      <td>NaN</td>\n",
       "      <td>nan</td>\n",
       "      <td>NaN</td>\n",
       "      <td>NaN</td>\n",
       "      <td>NaN</td>\n",
       "      <td>NaN</td>\n",
       "      <td>2020-01-01</td>\n",
       "      <td>NaN</td>\n",
       "    </tr>\n",
       "  </tbody>\n",
       "</table>\n",
       "<p>38309 rows × 17 columns</p>\n",
       "</div>"
      ],
      "text/plain": [
       "                     방송일시  노출(분)    마더코드    상품코드                       상품명  \\\n",
       "0     2019-01-01 06:00:00 20.000  100346  201072             테이트 남성 셀린니트3종   \n",
       "1     2019-01-01 06:00:00    nan  100346  201079             테이트 여성 셀린니트3종   \n",
       "2     2019-01-01 06:20:00 20.000  100346  201072             테이트 남성 셀린니트3종   \n",
       "3     2019-01-01 06:20:00    nan  100346  201079             테이트 여성 셀린니트3종   \n",
       "4     2019-01-01 06:40:00 20.000  100346  201072             테이트 남성 셀린니트3종   \n",
       "...                   ...    ...     ...     ...                       ...   \n",
       "38304 2020-01-01 00:20:00 20.000  100073  200196  삼성화재 행복한파트너 주택화재보험(1912)   \n",
       "38305 2020-01-01 00:40:00 20.000  100073  200196  삼성화재 행복한파트너 주택화재보험(1912)   \n",
       "38306 2020-01-01 01:00:00 20.000  100073  200196  삼성화재 행복한파트너 주택화재보험(1912)   \n",
       "38307 2020-01-01 01:20:00 20.000  100490  201478        더케이 예다함 상조서비스(티포트)   \n",
       "38308 2020-01-01 01:40:00 17.167  100490  201478        더케이 예다함 상조서비스(티포트)   \n",
       "\n",
       "      상품군   판매단가         취급액  NEW상품코드          NEW상품명  결제방법   단위  브랜드   옵션  \\\n",
       "0      의류  39900 2099000.000  865.000  테이트 남성 셀린니트 3종 0.000   3종  테이트  NaN   \n",
       "1      의류  39900 4371000.000  866.000  테이트 여성 셀린니트 3종 0.000   3종  테이트  NaN   \n",
       "2      의류  39900 3262000.000  865.000  테이트 남성 셀린니트 3종 0.000   3종  테이트  NaN   \n",
       "3      의류  39900 6955000.000  866.000  테이트 여성 셀린니트 3종 0.000   3종  테이트  NaN   \n",
       "4      의류  39900 6672000.000  865.000  테이트 남성 셀린니트 3종 0.000   3종  테이트  NaN   \n",
       "...    ..    ...         ...      ...             ...   ...  ...  ...  ...   \n",
       "38304  무형      0         nan      nan             NaN   nan  NaN  NaN  NaN   \n",
       "38305  무형      0         nan      nan             NaN   nan  NaN  NaN  NaN   \n",
       "38306  무형      0         nan      nan             NaN   nan  NaN  NaN  NaN   \n",
       "38307  무형      0         nan      nan             NaN   nan  NaN  NaN  NaN   \n",
       "38308  무형      0         nan      nan             NaN   nan  NaN  NaN  NaN   \n",
       "\n",
       "        종류     locdate isHoliday  \n",
       "0        0  2019-01-01         Y  \n",
       "1        0  2019-01-01         Y  \n",
       "2        0  2019-01-01         Y  \n",
       "3        0  2019-01-01         Y  \n",
       "4        0  2019-01-01         Y  \n",
       "...    ...         ...       ...  \n",
       "38304  NaN  2020-01-01       NaN  \n",
       "38305  NaN  2020-01-01       NaN  \n",
       "38306  NaN  2020-01-01       NaN  \n",
       "38307  NaN  2020-01-01       NaN  \n",
       "38308  NaN  2020-01-01       NaN  \n",
       "\n",
       "[38309 rows x 17 columns]"
      ]
     },
     "execution_count": 51,
     "metadata": {},
     "output_type": "execute_result"
    }
   ],
   "source": [
    "sale.merge(holidays[['locdate', 'isHoliday']], left_on = sale['방송일시'].dt.date.astype(str), right_on = 'locdate', how = 'left')"
   ]
  },
  {
   "cell_type": "code",
   "execution_count": 603,
   "metadata": {
    "Collapsed": "false"
   },
   "outputs": [],
   "source": [
    "# 2020 공휴일"
   ]
  },
  {
   "cell_type": "code",
   "execution_count": 604,
   "metadata": {
    "Collapsed": "false"
   },
   "outputs": [],
   "source": [
    "url = f'http://apis.data.go.kr/B090041/openapi/service/SpcdeInfoService/getRestDeInfo?solYear=2020&ServiceKey={key}&_type=json&numOfRows=20'\n",
    "response = requests.get(url)"
   ]
  },
  {
   "cell_type": "code",
   "execution_count": 605,
   "metadata": {
    "Collapsed": "false"
   },
   "outputs": [],
   "source": [
    "holidays = response.json()['response']['body']['items']['item']"
   ]
  },
  {
   "cell_type": "code",
   "execution_count": 607,
   "metadata": {
    "Collapsed": "false"
   },
   "outputs": [],
   "source": [
    "holi_2020 = pd.DataFrame(holidays)"
   ]
  },
  {
   "cell_type": "code",
   "execution_count": 619,
   "metadata": {
    "Collapsed": "false"
   },
   "outputs": [
    {
     "data": {
      "text/html": [
       "<div>\n",
       "<style scoped>\n",
       "    .dataframe tbody tr th:only-of-type {\n",
       "        vertical-align: middle;\n",
       "    }\n",
       "\n",
       "    .dataframe tbody tr th {\n",
       "        vertical-align: top;\n",
       "    }\n",
       "\n",
       "    .dataframe thead th {\n",
       "        text-align: right;\n",
       "    }\n",
       "</style>\n",
       "<table border=\"1\" class=\"dataframe\">\n",
       "  <thead>\n",
       "    <tr style=\"text-align: right;\">\n",
       "      <th></th>\n",
       "      <th>dateKind</th>\n",
       "      <th>dateName</th>\n",
       "      <th>isHoliday</th>\n",
       "      <th>locdate</th>\n",
       "      <th>seq</th>\n",
       "    </tr>\n",
       "  </thead>\n",
       "  <tbody>\n",
       "    <tr>\n",
       "      <th>0</th>\n",
       "      <td>01</td>\n",
       "      <td>1월1일</td>\n",
       "      <td>Y</td>\n",
       "      <td>20200101</td>\n",
       "      <td>1</td>\n",
       "    </tr>\n",
       "    <tr>\n",
       "      <th>1</th>\n",
       "      <td>01</td>\n",
       "      <td>설날</td>\n",
       "      <td>Y</td>\n",
       "      <td>20200124</td>\n",
       "      <td>1</td>\n",
       "    </tr>\n",
       "    <tr>\n",
       "      <th>2</th>\n",
       "      <td>01</td>\n",
       "      <td>설날</td>\n",
       "      <td>Y</td>\n",
       "      <td>20200125</td>\n",
       "      <td>1</td>\n",
       "    </tr>\n",
       "    <tr>\n",
       "      <th>3</th>\n",
       "      <td>01</td>\n",
       "      <td>설날</td>\n",
       "      <td>Y</td>\n",
       "      <td>20200126</td>\n",
       "      <td>1</td>\n",
       "    </tr>\n",
       "    <tr>\n",
       "      <th>4</th>\n",
       "      <td>01</td>\n",
       "      <td>설날</td>\n",
       "      <td>Y</td>\n",
       "      <td>20200127</td>\n",
       "      <td>1</td>\n",
       "    </tr>\n",
       "    <tr>\n",
       "      <th>5</th>\n",
       "      <td>01</td>\n",
       "      <td>삼일절</td>\n",
       "      <td>Y</td>\n",
       "      <td>20200301</td>\n",
       "      <td>1</td>\n",
       "    </tr>\n",
       "    <tr>\n",
       "      <th>6</th>\n",
       "      <td>01</td>\n",
       "      <td>제21대 국회의원선거</td>\n",
       "      <td>Y</td>\n",
       "      <td>20200415</td>\n",
       "      <td>1</td>\n",
       "    </tr>\n",
       "    <tr>\n",
       "      <th>7</th>\n",
       "      <td>01</td>\n",
       "      <td>부처님오신날</td>\n",
       "      <td>Y</td>\n",
       "      <td>20200430</td>\n",
       "      <td>1</td>\n",
       "    </tr>\n",
       "    <tr>\n",
       "      <th>8</th>\n",
       "      <td>01</td>\n",
       "      <td>어린이날</td>\n",
       "      <td>Y</td>\n",
       "      <td>20200505</td>\n",
       "      <td>1</td>\n",
       "    </tr>\n",
       "    <tr>\n",
       "      <th>9</th>\n",
       "      <td>01</td>\n",
       "      <td>현충일</td>\n",
       "      <td>Y</td>\n",
       "      <td>20200606</td>\n",
       "      <td>1</td>\n",
       "    </tr>\n",
       "    <tr>\n",
       "      <th>10</th>\n",
       "      <td>01</td>\n",
       "      <td>광복절</td>\n",
       "      <td>Y</td>\n",
       "      <td>20200815</td>\n",
       "      <td>1</td>\n",
       "    </tr>\n",
       "    <tr>\n",
       "      <th>11</th>\n",
       "      <td>01</td>\n",
       "      <td>임시공휴일</td>\n",
       "      <td>Y</td>\n",
       "      <td>20200817</td>\n",
       "      <td>1</td>\n",
       "    </tr>\n",
       "    <tr>\n",
       "      <th>12</th>\n",
       "      <td>01</td>\n",
       "      <td>추석</td>\n",
       "      <td>Y</td>\n",
       "      <td>20200930</td>\n",
       "      <td>1</td>\n",
       "    </tr>\n",
       "    <tr>\n",
       "      <th>13</th>\n",
       "      <td>01</td>\n",
       "      <td>추석</td>\n",
       "      <td>Y</td>\n",
       "      <td>20201001</td>\n",
       "      <td>1</td>\n",
       "    </tr>\n",
       "    <tr>\n",
       "      <th>14</th>\n",
       "      <td>01</td>\n",
       "      <td>추석</td>\n",
       "      <td>Y</td>\n",
       "      <td>20201002</td>\n",
       "      <td>1</td>\n",
       "    </tr>\n",
       "    <tr>\n",
       "      <th>15</th>\n",
       "      <td>01</td>\n",
       "      <td>개천절</td>\n",
       "      <td>Y</td>\n",
       "      <td>20201003</td>\n",
       "      <td>1</td>\n",
       "    </tr>\n",
       "    <tr>\n",
       "      <th>16</th>\n",
       "      <td>01</td>\n",
       "      <td>한글날</td>\n",
       "      <td>Y</td>\n",
       "      <td>20201009</td>\n",
       "      <td>1</td>\n",
       "    </tr>\n",
       "    <tr>\n",
       "      <th>17</th>\n",
       "      <td>01</td>\n",
       "      <td>기독탄신일</td>\n",
       "      <td>Y</td>\n",
       "      <td>20201225</td>\n",
       "      <td>1</td>\n",
       "    </tr>\n",
       "  </tbody>\n",
       "</table>\n",
       "</div>"
      ],
      "text/plain": [
       "   dateKind     dateName isHoliday   locdate  seq\n",
       "0        01         1월1일         Y  20200101    1\n",
       "1        01           설날         Y  20200124    1\n",
       "2        01           설날         Y  20200125    1\n",
       "3        01           설날         Y  20200126    1\n",
       "4        01           설날         Y  20200127    1\n",
       "5        01          삼일절         Y  20200301    1\n",
       "6        01  제21대 국회의원선거         Y  20200415    1\n",
       "7        01       부처님오신날         Y  20200430    1\n",
       "8        01         어린이날         Y  20200505    1\n",
       "9        01          현충일         Y  20200606    1\n",
       "10       01          광복절         Y  20200815    1\n",
       "11       01        임시공휴일         Y  20200817    1\n",
       "12       01           추석         Y  20200930    1\n",
       "13       01           추석         Y  20201001    1\n",
       "14       01           추석         Y  20201002    1\n",
       "15       01          개천절         Y  20201003    1\n",
       "16       01          한글날         Y  20201009    1\n",
       "17       01        기독탄신일         Y  20201225    1"
      ]
     },
     "execution_count": 619,
     "metadata": {},
     "output_type": "execute_result"
    }
   ],
   "source": [
    "holi_2020"
   ]
  },
  {
   "cell_type": "markdown",
   "metadata": {
    "Collapsed": "false"
   },
   "source": [
    "### 2) 평일/주말"
   ]
  },
  {
   "cell_type": "code",
   "execution_count": 419,
   "metadata": {
    "Collapsed": "false"
   },
   "outputs": [
    {
     "data": {
      "text/plain": [
       "6    5568\n",
       "2    5440\n",
       "1    5421\n",
       "3    5312\n",
       "0    5237\n",
       "4    5212\n",
       "5    5182\n",
       "Name: 방송일시, dtype: int64"
      ]
     },
     "execution_count": 419,
     "metadata": {},
     "output_type": "execute_result"
    }
   ],
   "source": [
    "sale['방송일시'].dt.weekday.value_counts()"
   ]
  },
  {
   "cell_type": "code",
   "execution_count": 420,
   "metadata": {
    "Collapsed": "false"
   },
   "outputs": [
    {
     "data": {
      "text/plain": [
       "0        0\n",
       "1        0\n",
       "2        0\n",
       "3        0\n",
       "4        0\n",
       "        ..\n",
       "37367    0\n",
       "37368    0\n",
       "37369    0\n",
       "37370    0\n",
       "37371    0\n",
       "Name: 방송일시, Length: 37372, dtype: int64"
      ]
     },
     "execution_count": 420,
     "metadata": {},
     "output_type": "execute_result"
    }
   ],
   "source": [
    "sale['방송일시'].dt.weekday.apply(lambda x : 0 if x < 5 else 1)"
   ]
  },
  {
   "cell_type": "markdown",
   "metadata": {
    "Collapsed": "false"
   },
   "source": [
    "### 3) 방송시간대"
   ]
  },
  {
   "cell_type": "code",
   "execution_count": 421,
   "metadata": {
    "Collapsed": "false"
   },
   "outputs": [],
   "source": [
    "# 방송시간대의 시간을 기준으로 시간대 분류\n",
    "# (아침(6:00~9:00)/오전(9:00~12:00)/오후(12:00~18:00)/저녁(18:00~22:00)/밤(22:00~2:00)"
   ]
  },
  {
   "cell_type": "code",
   "execution_count": 422,
   "metadata": {
    "Collapsed": "false"
   },
   "outputs": [
    {
     "data": {
      "text/plain": [
       "0         6\n",
       "1         6\n",
       "2         6\n",
       "3         6\n",
       "4         6\n",
       "         ..\n",
       "37367    23\n",
       "37368     0\n",
       "37369     0\n",
       "37370     0\n",
       "37371     0\n",
       "Name: 방송일시, Length: 37372, dtype: int64"
      ]
     },
     "execution_count": 422,
     "metadata": {},
     "output_type": "execute_result"
    }
   ],
   "source": [
    "sale['방송일시'].dt.hour"
   ]
  },
  {
   "cell_type": "code",
   "execution_count": 423,
   "metadata": {
    "Collapsed": "false"
   },
   "outputs": [
    {
     "data": {
      "text/plain": [
       "저녁    11406\n",
       "오후     8870\n",
       "아침     6061\n",
       "오전     5630\n",
       "밤      5405\n",
       "Name: 방송일시, dtype: int64"
      ]
     },
     "execution_count": 423,
     "metadata": {},
     "output_type": "execute_result"
    }
   ],
   "source": [
    "# 0을 24로 바꾸고 진행\n",
    "sale['방송일시'].dt.hour.apply(lambda x : '아침' if 5 < x <= 9 else \n",
    "                                          ('오전' if 10 <= x <= 12 else\n",
    "                                           ( '오후' if 13 <= x <= 18 else\n",
    "                                            ('저녁' if 19 <= x <= 22 else\n",
    "                                             ('밤' if 23 <= x or x < 3 else x)\n",
    "                                            )))).value_counts()"
   ]
  },
  {
   "cell_type": "markdown",
   "metadata": {
    "Collapsed": "false"
   },
   "source": [
    "### 4) 계절"
   ]
  },
  {
   "cell_type": "code",
   "execution_count": 424,
   "metadata": {
    "Collapsed": "false"
   },
   "outputs": [],
   "source": [
    "# 방송월을 기준으로 계절 분류\n",
    "# (3~5 : 봄, 6~8 : 여름, 9~11 : 가을, 12~2 : 겨울)"
   ]
  },
  {
   "cell_type": "code",
   "execution_count": 425,
   "metadata": {
    "Collapsed": "false"
   },
   "outputs": [
    {
     "data": {
      "text/plain": [
       "봄     10220\n",
       "여름     9493\n",
       "가을     8981\n",
       "겨울     8678\n",
       "Name: 방송일시, dtype: int64"
      ]
     },
     "execution_count": 425,
     "metadata": {},
     "output_type": "execute_result"
    }
   ],
   "source": [
    "sale['방송일시'].dt.month.apply(lambda x : '봄' if 3 <= x <= 5 else\n",
    "                            ('여름' if 6 <= x <= 8 else\n",
    "                             ('가을' if 9 <= x <= 11 else \n",
    "                              ('겨울' if x < 3 or x > 11 else x)))).value_counts()"
   ]
  },
  {
   "cell_type": "markdown",
   "metadata": {
    "Collapsed": "false"
   },
   "source": [
    "### 5) 분기"
   ]
  },
  {
   "cell_type": "code",
   "execution_count": 426,
   "metadata": {
    "Collapsed": "false"
   },
   "outputs": [
    {
     "data": {
      "text/plain": [
       "2분기    9983\n",
       "3분기    9609\n",
       "1분기    8942\n",
       "4분기    8838\n",
       "Name: 방송일시, dtype: int64"
      ]
     },
     "execution_count": 426,
     "metadata": {},
     "output_type": "execute_result"
    }
   ],
   "source": [
    "sale['방송일시'].dt.month.apply(lambda x : '1분기' if 1 <= x <= 3 else\n",
    "                            ('2분기' if 4 <= x <= 6 else\n",
    "                             ('3분기' if 7 <= x <= 9 else \n",
    "                              ('4분기' if 10 <= x <= 12 else x)))).value_counts()"
   ]
  },
  {
   "cell_type": "markdown",
   "metadata": {
    "Collapsed": "false"
   },
   "source": [
    "## 1-2. 가격"
   ]
  },
  {
   "cell_type": "code",
   "execution_count": 7,
   "metadata": {
    "Collapsed": "false"
   },
   "outputs": [],
   "source": [
    "def prepColumn(df):\n",
    "    columns = []\n",
    "    for i, c in enumerate(df.columns):\n",
    "        if c[1] == '':\n",
    "            columns.append(c[0])\n",
    "        else:\n",
    "            columns.append(c[1])\n",
    "    return columns "
   ]
  },
  {
   "cell_type": "markdown",
   "metadata": {
    "Collapsed": "false"
   },
   "source": [
    "### 1) 마더코드 별 가격"
   ]
  },
  {
   "cell_type": "code",
   "execution_count": 8,
   "metadata": {
    "Collapsed": "false"
   },
   "outputs": [
    {
     "data": {
      "text/plain": [
       "((38309, 15), (2042, 14), (1364, 2))"
      ]
     },
     "execution_count": 8,
     "metadata": {},
     "output_type": "execute_result"
    }
   ],
   "source": [
    "sale.shape, meta.shape, item.shape"
   ]
  },
  {
   "cell_type": "code",
   "execution_count": 9,
   "metadata": {
    "Collapsed": "false"
   },
   "outputs": [],
   "source": [
    "meta = meta.merge(sale[['상품코드', '마더코드']].drop_duplicates(), on = '상품코드', how = 'left')"
   ]
  },
  {
   "cell_type": "code",
   "execution_count": 10,
   "metadata": {
    "Collapsed": "false"
   },
   "outputs": [],
   "source": [
    "item = item.rename(columns = {'index' : 'NEW상품코드'})"
   ]
  },
  {
   "cell_type": "code",
   "execution_count": 11,
   "metadata": {
    "Collapsed": "false"
   },
   "outputs": [],
   "source": [
    "item = item.merge(meta[['NEW상품코드', '상품군']].drop_duplicates(), on = 'NEW상품코드', how = 'left')"
   ]
  },
  {
   "cell_type": "code",
   "execution_count": 12,
   "metadata": {
    "Collapsed": "false"
   },
   "outputs": [
    {
     "data": {
      "text/plain": [
       "((1364, 3), (2042, 15))"
      ]
     },
     "execution_count": 12,
     "metadata": {},
     "output_type": "execute_result"
    }
   ],
   "source": [
    "item.shape, meta.shape"
   ]
  },
  {
   "cell_type": "code",
   "execution_count": 13,
   "metadata": {
    "Collapsed": "false"
   },
   "outputs": [
    {
     "data": {
      "text/html": [
       "<div>\n",
       "<style scoped>\n",
       "    .dataframe tbody tr th:only-of-type {\n",
       "        vertical-align: middle;\n",
       "    }\n",
       "\n",
       "    .dataframe tbody tr th {\n",
       "        vertical-align: top;\n",
       "    }\n",
       "\n",
       "    .dataframe thead th {\n",
       "        text-align: right;\n",
       "    }\n",
       "</style>\n",
       "<table border=\"1\" class=\"dataframe\">\n",
       "  <thead>\n",
       "    <tr style=\"text-align: right;\">\n",
       "      <th></th>\n",
       "      <th>상품코드</th>\n",
       "      <th>상품명</th>\n",
       "      <th>상품군</th>\n",
       "      <th>판매단가</th>\n",
       "      <th>결제방법</th>\n",
       "      <th>상품명다시</th>\n",
       "      <th>단위</th>\n",
       "      <th>브랜드</th>\n",
       "      <th>옵션</th>\n",
       "      <th>종류</th>\n",
       "      <th>모델명</th>\n",
       "      <th>성별</th>\n",
       "      <th>NEW상품명</th>\n",
       "      <th>NEW상품코드</th>\n",
       "      <th>마더코드</th>\n",
       "    </tr>\n",
       "  </thead>\n",
       "  <tbody>\n",
       "    <tr>\n",
       "      <th>0</th>\n",
       "      <td>200944</td>\n",
       "      <td>[가이거] 블랙 에디션 다이아몬드 워치(남성용)</td>\n",
       "      <td>잡화</td>\n",
       "      <td>178000</td>\n",
       "      <td>0</td>\n",
       "      <td>남성 블랙 에디션 다이아몬드 워치</td>\n",
       "      <td>NaN</td>\n",
       "      <td>가이거</td>\n",
       "      <td>NaN</td>\n",
       "      <td>악세서리</td>\n",
       "      <td>NaN</td>\n",
       "      <td>nan</td>\n",
       "      <td>가이거 남성 블랙 에디션 다이아몬드 워치</td>\n",
       "      <td>0</td>\n",
       "      <td>100292</td>\n",
       "    </tr>\n",
       "    <tr>\n",
       "      <th>1</th>\n",
       "      <td>200942</td>\n",
       "      <td>[가이거] 블랙 에디션 다이아몬드 워치(남성용)</td>\n",
       "      <td>잡화</td>\n",
       "      <td>178000</td>\n",
       "      <td>0</td>\n",
       "      <td>남성 블랙 에디션 다이아몬드 워치</td>\n",
       "      <td>NaN</td>\n",
       "      <td>가이거</td>\n",
       "      <td>NaN</td>\n",
       "      <td>악세서리</td>\n",
       "      <td>NaN</td>\n",
       "      <td>nan</td>\n",
       "      <td>가이거 남성 블랙 에디션 다이아몬드 워치</td>\n",
       "      <td>0</td>\n",
       "      <td>100292</td>\n",
       "    </tr>\n",
       "    <tr>\n",
       "      <th>2</th>\n",
       "      <td>200948</td>\n",
       "      <td>무이자[가이거] 무빙스타 다이아몬드 워치</td>\n",
       "      <td>잡화</td>\n",
       "      <td>129000</td>\n",
       "      <td>2</td>\n",
       "      <td>무빙스타 다이아몬드 워치</td>\n",
       "      <td>NaN</td>\n",
       "      <td>가이거</td>\n",
       "      <td>NaN</td>\n",
       "      <td>악세서리</td>\n",
       "      <td>NaN</td>\n",
       "      <td>nan</td>\n",
       "      <td>가이거 무빙스타 다이아몬드 워치</td>\n",
       "      <td>1</td>\n",
       "      <td>100293</td>\n",
       "    </tr>\n",
       "    <tr>\n",
       "      <th>3</th>\n",
       "      <td>200951</td>\n",
       "      <td>일시불[가이거] 무빙스타 다이아몬드 워치</td>\n",
       "      <td>잡화</td>\n",
       "      <td>119000</td>\n",
       "      <td>1</td>\n",
       "      <td>무빙스타 다이아몬드 워치</td>\n",
       "      <td>NaN</td>\n",
       "      <td>가이거</td>\n",
       "      <td>NaN</td>\n",
       "      <td>악세서리</td>\n",
       "      <td>NaN</td>\n",
       "      <td>nan</td>\n",
       "      <td>가이거 무빙스타 다이아몬드 워치</td>\n",
       "      <td>1</td>\n",
       "      <td>100293</td>\n",
       "    </tr>\n",
       "    <tr>\n",
       "      <th>4</th>\n",
       "      <td>200946</td>\n",
       "      <td>[무이자] 가이거 무빙스타 다이아몬드 워치+보석함</td>\n",
       "      <td>잡화</td>\n",
       "      <td>119000</td>\n",
       "      <td>2</td>\n",
       "      <td>무빙스타 다이아몬드 워치 + 보석함</td>\n",
       "      <td>NaN</td>\n",
       "      <td>가이거</td>\n",
       "      <td>NaN</td>\n",
       "      <td>악세서리</td>\n",
       "      <td>NaN</td>\n",
       "      <td>nan</td>\n",
       "      <td>가이거 무빙스타 다이아몬드 워치 + 보석함</td>\n",
       "      <td>2</td>\n",
       "      <td>100293</td>\n",
       "    </tr>\n",
       "  </tbody>\n",
       "</table>\n",
       "</div>"
      ],
      "text/plain": [
       "     상품코드                          상품명 상품군    판매단가  결제방법                상품명다시  \\\n",
       "0  200944   [가이거] 블랙 에디션 다이아몬드 워치(남성용)  잡화  178000     0   남성 블랙 에디션 다이아몬드 워치   \n",
       "1  200942   [가이거] 블랙 에디션 다이아몬드 워치(남성용)  잡화  178000     0   남성 블랙 에디션 다이아몬드 워치   \n",
       "2  200948       무이자[가이거] 무빙스타 다이아몬드 워치  잡화  129000     2        무빙스타 다이아몬드 워치   \n",
       "3  200951       일시불[가이거] 무빙스타 다이아몬드 워치  잡화  119000     1        무빙스타 다이아몬드 워치   \n",
       "4  200946  [무이자] 가이거 무빙스타 다이아몬드 워치+보석함  잡화  119000     2  무빙스타 다이아몬드 워치 + 보석함   \n",
       "\n",
       "    단위  브랜드   옵션    종류  모델명  성별                   NEW상품명  NEW상품코드    마더코드  \n",
       "0  NaN  가이거  NaN  악세서리  NaN nan   가이거 남성 블랙 에디션 다이아몬드 워치        0  100292  \n",
       "1  NaN  가이거  NaN  악세서리  NaN nan   가이거 남성 블랙 에디션 다이아몬드 워치        0  100292  \n",
       "2  NaN  가이거  NaN  악세서리  NaN nan        가이거 무빙스타 다이아몬드 워치        1  100293  \n",
       "3  NaN  가이거  NaN  악세서리  NaN nan        가이거 무빙스타 다이아몬드 워치        1  100293  \n",
       "4  NaN  가이거  NaN  악세서리  NaN nan  가이거 무빙스타 다이아몬드 워치 + 보석함        2  100293  "
      ]
     },
     "execution_count": 13,
     "metadata": {},
     "output_type": "execute_result"
    }
   ],
   "source": [
    "meta.head()"
   ]
  },
  {
   "cell_type": "code",
   "execution_count": 14,
   "metadata": {
    "Collapsed": "false"
   },
   "outputs": [],
   "source": [
    "mothercode = meta.groupby('마더코드').agg({\n",
    "    '판매단가' : [('마더코드_최고판매단가', np.max),\n",
    "             ('마더코드_최저판매단가', np.min),\n",
    "              ('마더코드_평균판매단가', np.mean),\n",
    "              ('마더코드_최고-최저', lambda x : np.max(x) - np.min(x)),\n",
    "              ('마더코드_분산', np.var),\n",
    "              ('마더코드_표준편차', np.std)\n",
    "             ]\n",
    "}).reset_index()"
   ]
  },
  {
   "cell_type": "code",
   "execution_count": 15,
   "metadata": {
    "Collapsed": "false"
   },
   "outputs": [],
   "source": [
    "mothercode.columns = prepColumn(mothercode)"
   ]
  },
  {
   "cell_type": "code",
   "execution_count": 16,
   "metadata": {
    "Collapsed": "false"
   },
   "outputs": [],
   "source": [
    "mothercode = mothercode.fillna(0)"
   ]
  },
  {
   "cell_type": "code",
   "execution_count": 17,
   "metadata": {
    "Collapsed": "false"
   },
   "outputs": [
    {
     "data": {
      "text/html": [
       "<div>\n",
       "<style scoped>\n",
       "    .dataframe tbody tr th:only-of-type {\n",
       "        vertical-align: middle;\n",
       "    }\n",
       "\n",
       "    .dataframe tbody tr th {\n",
       "        vertical-align: top;\n",
       "    }\n",
       "\n",
       "    .dataframe thead th {\n",
       "        text-align: right;\n",
       "    }\n",
       "</style>\n",
       "<table border=\"1\" class=\"dataframe\">\n",
       "  <thead>\n",
       "    <tr style=\"text-align: right;\">\n",
       "      <th></th>\n",
       "      <th>마더코드</th>\n",
       "      <th>마더코드_최고판매단가</th>\n",
       "      <th>마더코드_최저판매단가</th>\n",
       "      <th>마더코드_평균판매단가</th>\n",
       "      <th>마더코드_최고-최저</th>\n",
       "      <th>마더코드_분산</th>\n",
       "      <th>마더코드_표준편차</th>\n",
       "    </tr>\n",
       "  </thead>\n",
       "  <tbody>\n",
       "    <tr>\n",
       "      <th>0</th>\n",
       "      <td>100000</td>\n",
       "      <td>79900</td>\n",
       "      <td>79900</td>\n",
       "      <td>79900.000</td>\n",
       "      <td>0</td>\n",
       "      <td>0.000</td>\n",
       "      <td>0.000</td>\n",
       "    </tr>\n",
       "    <tr>\n",
       "      <th>1</th>\n",
       "      <td>100001</td>\n",
       "      <td>99000</td>\n",
       "      <td>99000</td>\n",
       "      <td>99000.000</td>\n",
       "      <td>0</td>\n",
       "      <td>0.000</td>\n",
       "      <td>0.000</td>\n",
       "    </tr>\n",
       "    <tr>\n",
       "      <th>2</th>\n",
       "      <td>100002</td>\n",
       "      <td>49900</td>\n",
       "      <td>49900</td>\n",
       "      <td>49900.000</td>\n",
       "      <td>0</td>\n",
       "      <td>0.000</td>\n",
       "      <td>0.000</td>\n",
       "    </tr>\n",
       "    <tr>\n",
       "      <th>3</th>\n",
       "      <td>100006</td>\n",
       "      <td>49800</td>\n",
       "      <td>49800</td>\n",
       "      <td>49800.000</td>\n",
       "      <td>0</td>\n",
       "      <td>0.000</td>\n",
       "      <td>0.000</td>\n",
       "    </tr>\n",
       "    <tr>\n",
       "      <th>4</th>\n",
       "      <td>100009</td>\n",
       "      <td>39900</td>\n",
       "      <td>39900</td>\n",
       "      <td>39900.000</td>\n",
       "      <td>0</td>\n",
       "      <td>0.000</td>\n",
       "      <td>0.000</td>\n",
       "    </tr>\n",
       "  </tbody>\n",
       "</table>\n",
       "</div>"
      ],
      "text/plain": [
       "     마더코드  마더코드_최고판매단가  마더코드_최저판매단가  마더코드_평균판매단가  마더코드_최고-최저  마더코드_분산  \\\n",
       "0  100000        79900        79900    79900.000           0    0.000   \n",
       "1  100001        99000        99000    99000.000           0    0.000   \n",
       "2  100002        49900        49900    49900.000           0    0.000   \n",
       "3  100006        49800        49800    49800.000           0    0.000   \n",
       "4  100009        39900        39900    39900.000           0    0.000   \n",
       "\n",
       "   마더코드_표준편차  \n",
       "0      0.000  \n",
       "1      0.000  \n",
       "2      0.000  \n",
       "3      0.000  \n",
       "4      0.000  "
      ]
     },
     "execution_count": 17,
     "metadata": {},
     "output_type": "execute_result"
    }
   ],
   "source": [
    "mothercode.head()"
   ]
  },
  {
   "cell_type": "code",
   "execution_count": 40,
   "metadata": {
    "Collapsed": "false"
   },
   "outputs": [],
   "source": [
    "item = item.merge(mothercode, on = '마더코드', how = 'left')"
   ]
  },
  {
   "cell_type": "markdown",
   "metadata": {
    "Collapsed": "false"
   },
   "source": [
    "### 2) 상품군 별 가격"
   ]
  },
  {
   "cell_type": "code",
   "execution_count": 18,
   "metadata": {
    "Collapsed": "false"
   },
   "outputs": [],
   "source": [
    "itemcategory = meta.groupby('상품군').agg({\n",
    "    '판매단가' : [('상품군_최고판매단가', np.max),\n",
    "             ('상품군_최저판매단가', np.min),\n",
    "              ('상품군_평균판매단가', np.mean),\n",
    "              ('상품군_중간판매단가', np.median),\n",
    "             ('상품군_최고-최저', lambda x : np.max(x) - np.min(x)),\n",
    "             ('상품군_표준편차', np.std),\n",
    "              ('상품군_분산', np.var)\n",
    "             ]\n",
    "}).reset_index()"
   ]
  },
  {
   "cell_type": "code",
   "execution_count": 19,
   "metadata": {
    "Collapsed": "false"
   },
   "outputs": [],
   "source": [
    "itemcategory.columns = prepColumn(itemcategory)"
   ]
  },
  {
   "cell_type": "code",
   "execution_count": 20,
   "metadata": {
    "Collapsed": "false"
   },
   "outputs": [
    {
     "data": {
      "text/html": [
       "<div>\n",
       "<style scoped>\n",
       "    .dataframe tbody tr th:only-of-type {\n",
       "        vertical-align: middle;\n",
       "    }\n",
       "\n",
       "    .dataframe tbody tr th {\n",
       "        vertical-align: top;\n",
       "    }\n",
       "\n",
       "    .dataframe thead th {\n",
       "        text-align: right;\n",
       "    }\n",
       "</style>\n",
       "<table border=\"1\" class=\"dataframe\">\n",
       "  <thead>\n",
       "    <tr style=\"text-align: right;\">\n",
       "      <th></th>\n",
       "      <th>상품군</th>\n",
       "      <th>상품군_최고판매단가</th>\n",
       "      <th>상품군_최저판매단가</th>\n",
       "      <th>상품군_평균판매단가</th>\n",
       "      <th>상품군_중간판매단가</th>\n",
       "      <th>상품군_최고-최저</th>\n",
       "      <th>상품군_표준편차</th>\n",
       "      <th>상품군_분산</th>\n",
       "    </tr>\n",
       "  </thead>\n",
       "  <tbody>\n",
       "    <tr>\n",
       "      <th>0</th>\n",
       "      <td>가구</td>\n",
       "      <td>3990000</td>\n",
       "      <td>89000</td>\n",
       "      <td>1376532.456</td>\n",
       "      <td>1089050</td>\n",
       "      <td>3901000</td>\n",
       "      <td>1027622.955</td>\n",
       "      <td>1056008937609.843</td>\n",
       "    </tr>\n",
       "    <tr>\n",
       "      <th>1</th>\n",
       "      <td>가전</td>\n",
       "      <td>3190000</td>\n",
       "      <td>164000</td>\n",
       "      <td>1572969.112</td>\n",
       "      <td>1499000</td>\n",
       "      <td>3026000</td>\n",
       "      <td>770846.383</td>\n",
       "      <td>594204146329.053</td>\n",
       "    </tr>\n",
       "    <tr>\n",
       "      <th>2</th>\n",
       "      <td>건강기능</td>\n",
       "      <td>238000</td>\n",
       "      <td>39900</td>\n",
       "      <td>95986.607</td>\n",
       "      <td>78000</td>\n",
       "      <td>198100</td>\n",
       "      <td>47014.734</td>\n",
       "      <td>2210385226.461</td>\n",
       "    </tr>\n",
       "    <tr>\n",
       "      <th>3</th>\n",
       "      <td>농수축</td>\n",
       "      <td>109900</td>\n",
       "      <td>28900</td>\n",
       "      <td>47408.553</td>\n",
       "      <td>44400</td>\n",
       "      <td>81000</td>\n",
       "      <td>12984.790</td>\n",
       "      <td>168604760.805</td>\n",
       "    </tr>\n",
       "    <tr>\n",
       "      <th>4</th>\n",
       "      <td>생활용품</td>\n",
       "      <td>1980000</td>\n",
       "      <td>12800</td>\n",
       "      <td>167392.350</td>\n",
       "      <td>99000</td>\n",
       "      <td>1967200</td>\n",
       "      <td>280357.324</td>\n",
       "      <td>78600228952.141</td>\n",
       "    </tr>\n",
       "  </tbody>\n",
       "</table>\n",
       "</div>"
      ],
      "text/plain": [
       "    상품군  상품군_최고판매단가  상품군_최저판매단가  상품군_평균판매단가  상품군_중간판매단가  상품군_최고-최저  \\\n",
       "0    가구     3990000       89000 1376532.456     1089050    3901000   \n",
       "1    가전     3190000      164000 1572969.112     1499000    3026000   \n",
       "2  건강기능      238000       39900   95986.607       78000     198100   \n",
       "3   농수축      109900       28900   47408.553       44400      81000   \n",
       "4  생활용품     1980000       12800  167392.350       99000    1967200   \n",
       "\n",
       "     상품군_표준편차            상품군_분산  \n",
       "0 1027622.955 1056008937609.843  \n",
       "1  770846.383  594204146329.053  \n",
       "2   47014.734    2210385226.461  \n",
       "3   12984.790     168604760.805  \n",
       "4  280357.324   78600228952.141  "
      ]
     },
     "execution_count": 20,
     "metadata": {},
     "output_type": "execute_result"
    }
   ],
   "source": [
    "itemcategory.head()"
   ]
  },
  {
   "cell_type": "markdown",
   "metadata": {
    "Collapsed": "false"
   },
   "source": [
    "### 3) 새로운 상품명 별 가격"
   ]
  },
  {
   "cell_type": "code",
   "execution_count": 460,
   "metadata": {
    "Collapsed": "false"
   },
   "outputs": [],
   "source": [
    "# 원래 상품코드로는 가격차이가 너무 없음\n",
    "# 새로운 상품명은 무이자, 일시불, 할인 등으로 가격차이가 발생한 것을 캐치할 수 잇음"
   ]
  },
  {
   "cell_type": "code",
   "execution_count": 21,
   "metadata": {
    "Collapsed": "false"
   },
   "outputs": [],
   "source": [
    "newitem = meta.groupby('NEW상품명').agg({\n",
    "    '판매단가' : [('NEW_최고판매단가', np.max),\n",
    "             ('NEW_최저판매단가', np.min),\n",
    "              ('NEW_평균판매단가', np.mean),\n",
    "              ('NEW_중간판매단가', np.median),\n",
    "             ('NEW_최고-최저', lambda x : np.max(x) - np.min(x)),\n",
    "              ('NEW_분산', np.var),\n",
    "              ('NEW_표준편차', np.std)\n",
    "             ]\n",
    "}).reset_index()"
   ]
  },
  {
   "cell_type": "code",
   "execution_count": 22,
   "metadata": {
    "Collapsed": "false"
   },
   "outputs": [],
   "source": [
    "newitem = newitem.fillna(0)"
   ]
  },
  {
   "cell_type": "code",
   "execution_count": 23,
   "metadata": {
    "Collapsed": "false"
   },
   "outputs": [],
   "source": [
    "newitem.columns = prepColumn(newitem)"
   ]
  },
  {
   "cell_type": "code",
   "execution_count": 24,
   "metadata": {
    "Collapsed": "false"
   },
   "outputs": [],
   "source": [
    "item = item.merge(newitem, on = 'NEW상품명', how = 'left')"
   ]
  },
  {
   "cell_type": "code",
   "execution_count": 25,
   "metadata": {
    "Collapsed": "false"
   },
   "outputs": [
    {
     "data": {
      "text/html": [
       "<div>\n",
       "<style scoped>\n",
       "    .dataframe tbody tr th:only-of-type {\n",
       "        vertical-align: middle;\n",
       "    }\n",
       "\n",
       "    .dataframe tbody tr th {\n",
       "        vertical-align: top;\n",
       "    }\n",
       "\n",
       "    .dataframe thead th {\n",
       "        text-align: right;\n",
       "    }\n",
       "</style>\n",
       "<table border=\"1\" class=\"dataframe\">\n",
       "  <thead>\n",
       "    <tr style=\"text-align: right;\">\n",
       "      <th></th>\n",
       "      <th>NEW상품코드</th>\n",
       "      <th>NEW상품명</th>\n",
       "      <th>상품군</th>\n",
       "      <th>NEW_최고판매단가</th>\n",
       "      <th>NEW_최저판매단가</th>\n",
       "      <th>NEW_평균판매단가</th>\n",
       "      <th>NEW_중간판매단가</th>\n",
       "      <th>NEW_최고-최저</th>\n",
       "      <th>NEW_분산</th>\n",
       "      <th>NEW_표준편차</th>\n",
       "    </tr>\n",
       "  </thead>\n",
       "  <tbody>\n",
       "    <tr>\n",
       "      <th>0</th>\n",
       "      <td>0</td>\n",
       "      <td>가이거 남성 블랙 에디션 다이아몬드 워치</td>\n",
       "      <td>잡화</td>\n",
       "      <td>178000</td>\n",
       "      <td>178000</td>\n",
       "      <td>178000.000</td>\n",
       "      <td>178000</td>\n",
       "      <td>0</td>\n",
       "      <td>0.000</td>\n",
       "      <td>0.000</td>\n",
       "    </tr>\n",
       "    <tr>\n",
       "      <th>1</th>\n",
       "      <td>1</td>\n",
       "      <td>가이거 무빙스타 다이아몬드 워치</td>\n",
       "      <td>잡화</td>\n",
       "      <td>129000</td>\n",
       "      <td>119000</td>\n",
       "      <td>124000.000</td>\n",
       "      <td>124000</td>\n",
       "      <td>10000</td>\n",
       "      <td>50000000.000</td>\n",
       "      <td>7071.068</td>\n",
       "    </tr>\n",
       "    <tr>\n",
       "      <th>2</th>\n",
       "      <td>2</td>\n",
       "      <td>가이거 무빙스타 다이아몬드 워치 + 보석함</td>\n",
       "      <td>잡화</td>\n",
       "      <td>119000</td>\n",
       "      <td>99000</td>\n",
       "      <td>109000.000</td>\n",
       "      <td>109000</td>\n",
       "      <td>20000</td>\n",
       "      <td>200000000.000</td>\n",
       "      <td>14142.136</td>\n",
       "    </tr>\n",
       "    <tr>\n",
       "      <th>3</th>\n",
       "      <td>3</td>\n",
       "      <td>가이거 여성 블랙 에디션 다이아몬드 워치</td>\n",
       "      <td>잡화</td>\n",
       "      <td>178000</td>\n",
       "      <td>178000</td>\n",
       "      <td>178000.000</td>\n",
       "      <td>178000</td>\n",
       "      <td>0</td>\n",
       "      <td>0.000</td>\n",
       "      <td>0.000</td>\n",
       "    </tr>\n",
       "    <tr>\n",
       "      <th>4</th>\n",
       "      <td>4</td>\n",
       "      <td>가이거 제니스시계 주얼리세트</td>\n",
       "      <td>잡화</td>\n",
       "      <td>139000</td>\n",
       "      <td>129000</td>\n",
       "      <td>134000.000</td>\n",
       "      <td>134000</td>\n",
       "      <td>10000</td>\n",
       "      <td>50000000.000</td>\n",
       "      <td>7071.068</td>\n",
       "    </tr>\n",
       "  </tbody>\n",
       "</table>\n",
       "</div>"
      ],
      "text/plain": [
       "   NEW상품코드                   NEW상품명 상품군  NEW_최고판매단가  NEW_최저판매단가  NEW_평균판매단가  \\\n",
       "0        0   가이거 남성 블랙 에디션 다이아몬드 워치  잡화      178000      178000  178000.000   \n",
       "1        1        가이거 무빙스타 다이아몬드 워치  잡화      129000      119000  124000.000   \n",
       "2        2  가이거 무빙스타 다이아몬드 워치 + 보석함  잡화      119000       99000  109000.000   \n",
       "3        3   가이거 여성 블랙 에디션 다이아몬드 워치  잡화      178000      178000  178000.000   \n",
       "4        4          가이거 제니스시계 주얼리세트  잡화      139000      129000  134000.000   \n",
       "\n",
       "   NEW_중간판매단가  NEW_최고-최저        NEW_분산  NEW_표준편차  \n",
       "0      178000          0         0.000     0.000  \n",
       "1      124000      10000  50000000.000  7071.068  \n",
       "2      109000      20000 200000000.000 14142.136  \n",
       "3      178000          0         0.000     0.000  \n",
       "4      134000      10000  50000000.000  7071.068  "
      ]
     },
     "execution_count": 25,
     "metadata": {},
     "output_type": "execute_result"
    }
   ],
   "source": [
    "item.head()"
   ]
  },
  {
   "cell_type": "code",
   "execution_count": 637,
   "metadata": {
    "Collapsed": "false"
   },
   "outputs": [
    {
     "data": {
      "text/html": [
       "<div>\n",
       "<style scoped>\n",
       "    .dataframe tbody tr th:only-of-type {\n",
       "        vertical-align: middle;\n",
       "    }\n",
       "\n",
       "    .dataframe tbody tr th {\n",
       "        vertical-align: top;\n",
       "    }\n",
       "\n",
       "    .dataframe thead th {\n",
       "        text-align: right;\n",
       "    }\n",
       "</style>\n",
       "<table border=\"1\" class=\"dataframe\">\n",
       "  <thead>\n",
       "    <tr style=\"text-align: right;\">\n",
       "      <th></th>\n",
       "      <th>상품코드</th>\n",
       "      <th>상품명</th>\n",
       "      <th>상품군</th>\n",
       "      <th>판매단가</th>\n",
       "      <th>결제방법</th>\n",
       "      <th>상품명다시</th>\n",
       "      <th>단위</th>\n",
       "      <th>브랜드</th>\n",
       "      <th>옵션</th>\n",
       "      <th>종류</th>\n",
       "      <th>모델명</th>\n",
       "      <th>성별</th>\n",
       "      <th>NEW상품명</th>\n",
       "      <th>NEW상품코드</th>\n",
       "      <th>마더코드</th>\n",
       "    </tr>\n",
       "  </thead>\n",
       "  <tbody>\n",
       "    <tr>\n",
       "      <th>1674</th>\n",
       "      <td>200448</td>\n",
       "      <td>무이자 LG 울트라HD TV 70UK6800HNC</td>\n",
       "      <td>가전</td>\n",
       "      <td>2990000</td>\n",
       "      <td>2</td>\n",
       "      <td>울트라HD TV</td>\n",
       "      <td>70인치</td>\n",
       "      <td>LG</td>\n",
       "      <td>NaN</td>\n",
       "      <td>TV</td>\n",
       "      <td>70UK6800HNC</td>\n",
       "      <td>nan</td>\n",
       "      <td>LG 울트라HD TV 70인치</td>\n",
       "      <td>1129</td>\n",
       "      <td>100148</td>\n",
       "    </tr>\n",
       "    <tr>\n",
       "      <th>1675</th>\n",
       "      <td>200449</td>\n",
       "      <td>무이자 LG 울트라HD TV 70UK6800HNC</td>\n",
       "      <td>가전</td>\n",
       "      <td>2990000</td>\n",
       "      <td>2</td>\n",
       "      <td>울트라HD TV</td>\n",
       "      <td>70인치</td>\n",
       "      <td>LG</td>\n",
       "      <td>NaN</td>\n",
       "      <td>TV</td>\n",
       "      <td>70UK6800HNC</td>\n",
       "      <td>nan</td>\n",
       "      <td>LG 울트라HD TV 70인치</td>\n",
       "      <td>1129</td>\n",
       "      <td>100148</td>\n",
       "    </tr>\n",
       "    <tr>\n",
       "      <th>1676</th>\n",
       "      <td>200451</td>\n",
       "      <td>무이자 LG 울트라HD TV 70UK7400KNA</td>\n",
       "      <td>가전</td>\n",
       "      <td>2990000</td>\n",
       "      <td>2</td>\n",
       "      <td>울트라HD TV</td>\n",
       "      <td>70인치</td>\n",
       "      <td>LG</td>\n",
       "      <td>NaN</td>\n",
       "      <td>TV</td>\n",
       "      <td>70UK7400KNA</td>\n",
       "      <td>nan</td>\n",
       "      <td>LG 울트라HD TV 70인치</td>\n",
       "      <td>1129</td>\n",
       "      <td>100148</td>\n",
       "    </tr>\n",
       "    <tr>\n",
       "      <th>1677</th>\n",
       "      <td>200452</td>\n",
       "      <td>무이자 LG 울트라HD TV 70UK7400KNA</td>\n",
       "      <td>가전</td>\n",
       "      <td>2790000</td>\n",
       "      <td>2</td>\n",
       "      <td>울트라HD TV</td>\n",
       "      <td>70인치</td>\n",
       "      <td>LG</td>\n",
       "      <td>NaN</td>\n",
       "      <td>TV</td>\n",
       "      <td>70UK7400KNA</td>\n",
       "      <td>nan</td>\n",
       "      <td>LG 울트라HD TV 70인치</td>\n",
       "      <td>1129</td>\n",
       "      <td>100148</td>\n",
       "    </tr>\n",
       "    <tr>\n",
       "      <th>1678</th>\n",
       "      <td>200450</td>\n",
       "      <td>무이자 LG 울트라HD TV 70UK7400KNA</td>\n",
       "      <td>가전</td>\n",
       "      <td>2690000</td>\n",
       "      <td>2</td>\n",
       "      <td>울트라HD TV</td>\n",
       "      <td>70인치</td>\n",
       "      <td>LG</td>\n",
       "      <td>NaN</td>\n",
       "      <td>TV</td>\n",
       "      <td>70UK7400KNA</td>\n",
       "      <td>nan</td>\n",
       "      <td>LG 울트라HD TV 70인치</td>\n",
       "      <td>1129</td>\n",
       "      <td>100148</td>\n",
       "    </tr>\n",
       "    <tr>\n",
       "      <th>1679</th>\n",
       "      <td>200453</td>\n",
       "      <td>무이자 LG 울트라HD TV 70UK7400KNA</td>\n",
       "      <td>가전</td>\n",
       "      <td>2690000</td>\n",
       "      <td>2</td>\n",
       "      <td>울트라HD TV</td>\n",
       "      <td>70인치</td>\n",
       "      <td>LG</td>\n",
       "      <td>NaN</td>\n",
       "      <td>TV</td>\n",
       "      <td>70UK7400KNA</td>\n",
       "      <td>nan</td>\n",
       "      <td>LG 울트라HD TV 70인치</td>\n",
       "      <td>1129</td>\n",
       "      <td>100148</td>\n",
       "    </tr>\n",
       "    <tr>\n",
       "      <th>1680</th>\n",
       "      <td>200454</td>\n",
       "      <td>무이자 LG 울트라HD TV 70UK7400KNA</td>\n",
       "      <td>가전</td>\n",
       "      <td>2690000</td>\n",
       "      <td>2</td>\n",
       "      <td>울트라HD TV</td>\n",
       "      <td>70인치</td>\n",
       "      <td>LG</td>\n",
       "      <td>NaN</td>\n",
       "      <td>TV</td>\n",
       "      <td>70UK7400KNA</td>\n",
       "      <td>nan</td>\n",
       "      <td>LG 울트라HD TV 70인치</td>\n",
       "      <td>1129</td>\n",
       "      <td>100148</td>\n",
       "    </tr>\n",
       "    <tr>\n",
       "      <th>1681</th>\n",
       "      <td>200455</td>\n",
       "      <td>무이자 LG 울트라HD TV 70UK7400KNA</td>\n",
       "      <td>가전</td>\n",
       "      <td>2690000</td>\n",
       "      <td>2</td>\n",
       "      <td>울트라HD TV</td>\n",
       "      <td>70인치</td>\n",
       "      <td>LG</td>\n",
       "      <td>NaN</td>\n",
       "      <td>TV</td>\n",
       "      <td>70UK7400KNA</td>\n",
       "      <td>nan</td>\n",
       "      <td>LG 울트라HD TV 70인치</td>\n",
       "      <td>1129</td>\n",
       "      <td>100148</td>\n",
       "    </tr>\n",
       "    <tr>\n",
       "      <th>1705</th>\n",
       "      <td>200515</td>\n",
       "      <td>일시불 LG 울트라HD TV 70UK6800HNC</td>\n",
       "      <td>가전</td>\n",
       "      <td>2700000</td>\n",
       "      <td>1</td>\n",
       "      <td>울트라HD TV</td>\n",
       "      <td>70인치</td>\n",
       "      <td>LG</td>\n",
       "      <td>NaN</td>\n",
       "      <td>TV</td>\n",
       "      <td>70UK6800HNC</td>\n",
       "      <td>nan</td>\n",
       "      <td>LG 울트라HD TV 70인치</td>\n",
       "      <td>1129</td>\n",
       "      <td>100148</td>\n",
       "    </tr>\n",
       "    <tr>\n",
       "      <th>1706</th>\n",
       "      <td>200516</td>\n",
       "      <td>일시불 LG 울트라HD TV 70UK6800HNC</td>\n",
       "      <td>가전</td>\n",
       "      <td>2700000</td>\n",
       "      <td>1</td>\n",
       "      <td>울트라HD TV</td>\n",
       "      <td>70인치</td>\n",
       "      <td>LG</td>\n",
       "      <td>NaN</td>\n",
       "      <td>TV</td>\n",
       "      <td>70UK6800HNC</td>\n",
       "      <td>nan</td>\n",
       "      <td>LG 울트라HD TV 70인치</td>\n",
       "      <td>1129</td>\n",
       "      <td>100148</td>\n",
       "    </tr>\n",
       "    <tr>\n",
       "      <th>1707</th>\n",
       "      <td>200518</td>\n",
       "      <td>일시불 LG 울트라HD TV 70UK7400KNA</td>\n",
       "      <td>가전</td>\n",
       "      <td>2700000</td>\n",
       "      <td>1</td>\n",
       "      <td>울트라HD TV</td>\n",
       "      <td>70인치</td>\n",
       "      <td>LG</td>\n",
       "      <td>NaN</td>\n",
       "      <td>TV</td>\n",
       "      <td>70UK7400KNA</td>\n",
       "      <td>nan</td>\n",
       "      <td>LG 울트라HD TV 70인치</td>\n",
       "      <td>1129</td>\n",
       "      <td>100148</td>\n",
       "    </tr>\n",
       "    <tr>\n",
       "      <th>1708</th>\n",
       "      <td>200519</td>\n",
       "      <td>일시불 LG 울트라HD TV 70UK7400KNA</td>\n",
       "      <td>가전</td>\n",
       "      <td>2500000</td>\n",
       "      <td>1</td>\n",
       "      <td>울트라HD TV</td>\n",
       "      <td>70인치</td>\n",
       "      <td>LG</td>\n",
       "      <td>NaN</td>\n",
       "      <td>TV</td>\n",
       "      <td>70UK7400KNA</td>\n",
       "      <td>nan</td>\n",
       "      <td>LG 울트라HD TV 70인치</td>\n",
       "      <td>1129</td>\n",
       "      <td>100148</td>\n",
       "    </tr>\n",
       "    <tr>\n",
       "      <th>1709</th>\n",
       "      <td>200517</td>\n",
       "      <td>일시불 LG 울트라HD TV 70UK7400KNA</td>\n",
       "      <td>가전</td>\n",
       "      <td>2400000</td>\n",
       "      <td>1</td>\n",
       "      <td>울트라HD TV</td>\n",
       "      <td>70인치</td>\n",
       "      <td>LG</td>\n",
       "      <td>NaN</td>\n",
       "      <td>TV</td>\n",
       "      <td>70UK7400KNA</td>\n",
       "      <td>nan</td>\n",
       "      <td>LG 울트라HD TV 70인치</td>\n",
       "      <td>1129</td>\n",
       "      <td>100148</td>\n",
       "    </tr>\n",
       "    <tr>\n",
       "      <th>1710</th>\n",
       "      <td>200520</td>\n",
       "      <td>일시불 LG 울트라HD TV 70UK7400KNA</td>\n",
       "      <td>가전</td>\n",
       "      <td>2400000</td>\n",
       "      <td>1</td>\n",
       "      <td>울트라HD TV</td>\n",
       "      <td>70인치</td>\n",
       "      <td>LG</td>\n",
       "      <td>NaN</td>\n",
       "      <td>TV</td>\n",
       "      <td>70UK7400KNA</td>\n",
       "      <td>nan</td>\n",
       "      <td>LG 울트라HD TV 70인치</td>\n",
       "      <td>1129</td>\n",
       "      <td>100148</td>\n",
       "    </tr>\n",
       "    <tr>\n",
       "      <th>1711</th>\n",
       "      <td>200521</td>\n",
       "      <td>일시불 LG 울트라HD TV 70UK7400KNA</td>\n",
       "      <td>가전</td>\n",
       "      <td>2400000</td>\n",
       "      <td>1</td>\n",
       "      <td>울트라HD TV</td>\n",
       "      <td>70인치</td>\n",
       "      <td>LG</td>\n",
       "      <td>NaN</td>\n",
       "      <td>TV</td>\n",
       "      <td>70UK7400KNA</td>\n",
       "      <td>nan</td>\n",
       "      <td>LG 울트라HD TV 70인치</td>\n",
       "      <td>1129</td>\n",
       "      <td>100148</td>\n",
       "    </tr>\n",
       "    <tr>\n",
       "      <th>1712</th>\n",
       "      <td>200522</td>\n",
       "      <td>일시불 LG 울트라HD TV 70UK7400KNA</td>\n",
       "      <td>가전</td>\n",
       "      <td>2400000</td>\n",
       "      <td>1</td>\n",
       "      <td>울트라HD TV</td>\n",
       "      <td>70인치</td>\n",
       "      <td>LG</td>\n",
       "      <td>NaN</td>\n",
       "      <td>TV</td>\n",
       "      <td>70UK7400KNA</td>\n",
       "      <td>nan</td>\n",
       "      <td>LG 울트라HD TV 70인치</td>\n",
       "      <td>1129</td>\n",
       "      <td>100148</td>\n",
       "    </tr>\n",
       "  </tbody>\n",
       "</table>\n",
       "</div>"
      ],
      "text/plain": [
       "        상품코드                          상품명 상품군     판매단가  결제방법     상품명다시    단위  \\\n",
       "1674  200448  무이자 LG 울트라HD TV 70UK6800HNC  가전  2990000     2  울트라HD TV  70인치   \n",
       "1675  200449  무이자 LG 울트라HD TV 70UK6800HNC  가전  2990000     2  울트라HD TV  70인치   \n",
       "1676  200451  무이자 LG 울트라HD TV 70UK7400KNA  가전  2990000     2  울트라HD TV  70인치   \n",
       "1677  200452  무이자 LG 울트라HD TV 70UK7400KNA  가전  2790000     2  울트라HD TV  70인치   \n",
       "1678  200450  무이자 LG 울트라HD TV 70UK7400KNA  가전  2690000     2  울트라HD TV  70인치   \n",
       "1679  200453  무이자 LG 울트라HD TV 70UK7400KNA  가전  2690000     2  울트라HD TV  70인치   \n",
       "1680  200454  무이자 LG 울트라HD TV 70UK7400KNA  가전  2690000     2  울트라HD TV  70인치   \n",
       "1681  200455  무이자 LG 울트라HD TV 70UK7400KNA  가전  2690000     2  울트라HD TV  70인치   \n",
       "1705  200515  일시불 LG 울트라HD TV 70UK6800HNC  가전  2700000     1  울트라HD TV  70인치   \n",
       "1706  200516  일시불 LG 울트라HD TV 70UK6800HNC  가전  2700000     1  울트라HD TV  70인치   \n",
       "1707  200518  일시불 LG 울트라HD TV 70UK7400KNA  가전  2700000     1  울트라HD TV  70인치   \n",
       "1708  200519  일시불 LG 울트라HD TV 70UK7400KNA  가전  2500000     1  울트라HD TV  70인치   \n",
       "1709  200517  일시불 LG 울트라HD TV 70UK7400KNA  가전  2400000     1  울트라HD TV  70인치   \n",
       "1710  200520  일시불 LG 울트라HD TV 70UK7400KNA  가전  2400000     1  울트라HD TV  70인치   \n",
       "1711  200521  일시불 LG 울트라HD TV 70UK7400KNA  가전  2400000     1  울트라HD TV  70인치   \n",
       "1712  200522  일시불 LG 울트라HD TV 70UK7400KNA  가전  2400000     1  울트라HD TV  70인치   \n",
       "\n",
       "     브랜드   옵션  종류          모델명  성별            NEW상품명  NEW상품코드    마더코드  \n",
       "1674  LG  NaN  TV  70UK6800HNC nan  LG 울트라HD TV 70인치     1129  100148  \n",
       "1675  LG  NaN  TV  70UK6800HNC nan  LG 울트라HD TV 70인치     1129  100148  \n",
       "1676  LG  NaN  TV  70UK7400KNA nan  LG 울트라HD TV 70인치     1129  100148  \n",
       "1677  LG  NaN  TV  70UK7400KNA nan  LG 울트라HD TV 70인치     1129  100148  \n",
       "1678  LG  NaN  TV  70UK7400KNA nan  LG 울트라HD TV 70인치     1129  100148  \n",
       "1679  LG  NaN  TV  70UK7400KNA nan  LG 울트라HD TV 70인치     1129  100148  \n",
       "1680  LG  NaN  TV  70UK7400KNA nan  LG 울트라HD TV 70인치     1129  100148  \n",
       "1681  LG  NaN  TV  70UK7400KNA nan  LG 울트라HD TV 70인치     1129  100148  \n",
       "1705  LG  NaN  TV  70UK6800HNC nan  LG 울트라HD TV 70인치     1129  100148  \n",
       "1706  LG  NaN  TV  70UK6800HNC nan  LG 울트라HD TV 70인치     1129  100148  \n",
       "1707  LG  NaN  TV  70UK7400KNA nan  LG 울트라HD TV 70인치     1129  100148  \n",
       "1708  LG  NaN  TV  70UK7400KNA nan  LG 울트라HD TV 70인치     1129  100148  \n",
       "1709  LG  NaN  TV  70UK7400KNA nan  LG 울트라HD TV 70인치     1129  100148  \n",
       "1710  LG  NaN  TV  70UK7400KNA nan  LG 울트라HD TV 70인치     1129  100148  \n",
       "1711  LG  NaN  TV  70UK7400KNA nan  LG 울트라HD TV 70인치     1129  100148  \n",
       "1712  LG  NaN  TV  70UK7400KNA nan  LG 울트라HD TV 70인치     1129  100148  "
      ]
     },
     "execution_count": 637,
     "metadata": {},
     "output_type": "execute_result"
    }
   ],
   "source": [
    "# 같은 LG 노트북 그램 15인치여도 스펙에 따라(본 상품코드가 다름) 가격에서 차이가 발생하긴함\n",
    "meta.loc[meta['NEW상품명'] == 'LG 울트라HD TV 70인치']"
   ]
  },
  {
   "cell_type": "code",
   "execution_count": 462,
   "metadata": {
    "Collapsed": "false"
   },
   "outputs": [
    {
     "data": {
      "text/html": [
       "<div>\n",
       "<style scoped>\n",
       "    .dataframe tbody tr th:only-of-type {\n",
       "        vertical-align: middle;\n",
       "    }\n",
       "\n",
       "    .dataframe tbody tr th {\n",
       "        vertical-align: top;\n",
       "    }\n",
       "\n",
       "    .dataframe thead th {\n",
       "        text-align: right;\n",
       "    }\n",
       "</style>\n",
       "<table border=\"1\" class=\"dataframe\">\n",
       "  <thead>\n",
       "    <tr style=\"text-align: right;\">\n",
       "      <th></th>\n",
       "      <th>상품코드</th>\n",
       "      <th>상품명</th>\n",
       "      <th>상품군</th>\n",
       "      <th>판매단가</th>\n",
       "      <th>결제방법</th>\n",
       "      <th>상품명다시</th>\n",
       "      <th>단위</th>\n",
       "      <th>브랜드</th>\n",
       "      <th>옵션</th>\n",
       "      <th>종류</th>\n",
       "      <th>모델명</th>\n",
       "      <th>성별</th>\n",
       "      <th>NEW상품명</th>\n",
       "      <th>NEW상품코드</th>\n",
       "      <th>마더코드</th>\n",
       "    </tr>\n",
       "  </thead>\n",
       "  <tbody>\n",
       "    <tr>\n",
       "      <th>1638</th>\n",
       "      <td>200428</td>\n",
       "      <td>무이자 LG 노트북 그램 15인치 15Z980-G.AR3DK</td>\n",
       "      <td>가전</td>\n",
       "      <td>1649000</td>\n",
       "      <td>2</td>\n",
       "      <td>노트북 그램</td>\n",
       "      <td>15인치</td>\n",
       "      <td>LG</td>\n",
       "      <td>NaN</td>\n",
       "      <td>노트북</td>\n",
       "      <td>15Z980-G.AR3DK</td>\n",
       "      <td>nan</td>\n",
       "      <td>LG 노트북 그램 15인치</td>\n",
       "      <td>1120</td>\n",
       "      <td>100151</td>\n",
       "    </tr>\n",
       "    <tr>\n",
       "      <th>1639</th>\n",
       "      <td>200429</td>\n",
       "      <td>무이자 LG 노트북 그램 15인치 15Z980-L.AR1DK</td>\n",
       "      <td>가전</td>\n",
       "      <td>1420000</td>\n",
       "      <td>2</td>\n",
       "      <td>노트북 그램</td>\n",
       "      <td>15인치</td>\n",
       "      <td>LG</td>\n",
       "      <td>NaN</td>\n",
       "      <td>노트북</td>\n",
       "      <td>15Z980-L.AR1DK</td>\n",
       "      <td>nan</td>\n",
       "      <td>LG 노트북 그램 15인치</td>\n",
       "      <td>1120</td>\n",
       "      <td>100151</td>\n",
       "    </tr>\n",
       "    <tr>\n",
       "      <th>1640</th>\n",
       "      <td>200495</td>\n",
       "      <td>일시불 LG 노트북 그램 15인치 15Z980-G.AR3DK</td>\n",
       "      <td>가전</td>\n",
       "      <td>1559000</td>\n",
       "      <td>1</td>\n",
       "      <td>노트북 그램</td>\n",
       "      <td>15인치</td>\n",
       "      <td>LG</td>\n",
       "      <td>NaN</td>\n",
       "      <td>노트북</td>\n",
       "      <td>15Z980-G.AR3DK</td>\n",
       "      <td>nan</td>\n",
       "      <td>LG 노트북 그램 15인치</td>\n",
       "      <td>1120</td>\n",
       "      <td>100151</td>\n",
       "    </tr>\n",
       "    <tr>\n",
       "      <th>1641</th>\n",
       "      <td>200496</td>\n",
       "      <td>일시불 LG 노트북 그램 15인치 15Z980-L.AR1DK</td>\n",
       "      <td>가전</td>\n",
       "      <td>1330000</td>\n",
       "      <td>1</td>\n",
       "      <td>노트북 그램</td>\n",
       "      <td>15인치</td>\n",
       "      <td>LG</td>\n",
       "      <td>NaN</td>\n",
       "      <td>노트북</td>\n",
       "      <td>15Z980-L.AR1DK</td>\n",
       "      <td>nan</td>\n",
       "      <td>LG 노트북 그램 15인치</td>\n",
       "      <td>1120</td>\n",
       "      <td>100151</td>\n",
       "    </tr>\n",
       "  </tbody>\n",
       "</table>\n",
       "</div>"
      ],
      "text/plain": [
       "        상품코드                                상품명 상품군     판매단가  결제방법   상품명다시  \\\n",
       "1638  200428  무이자 LG 노트북 그램 15인치 15Z980-G.AR3DK  가전  1649000     2  노트북 그램   \n",
       "1639  200429  무이자 LG 노트북 그램 15인치 15Z980-L.AR1DK  가전  1420000     2  노트북 그램   \n",
       "1640  200495  일시불 LG 노트북 그램 15인치 15Z980-G.AR3DK  가전  1559000     1  노트북 그램   \n",
       "1641  200496  일시불 LG 노트북 그램 15인치 15Z980-L.AR1DK  가전  1330000     1  노트북 그램   \n",
       "\n",
       "        단위 브랜드   옵션   종류             모델명  성별          NEW상품명  NEW상품코드    마더코드  \n",
       "1638  15인치  LG  NaN  노트북  15Z980-G.AR3DK nan  LG 노트북 그램 15인치     1120  100151  \n",
       "1639  15인치  LG  NaN  노트북  15Z980-L.AR1DK nan  LG 노트북 그램 15인치     1120  100151  \n",
       "1640  15인치  LG  NaN  노트북  15Z980-G.AR3DK nan  LG 노트북 그램 15인치     1120  100151  \n",
       "1641  15인치  LG  NaN  노트북  15Z980-L.AR1DK nan  LG 노트북 그램 15인치     1120  100151  "
      ]
     },
     "execution_count": 462,
     "metadata": {},
     "output_type": "execute_result"
    }
   ],
   "source": [
    "# 같은 LG 노트북 그램 15인치여도 스펙에 따라(본 상품코드가 다름) 가격에서 차이가 발생하긴함\n",
    "meta.loc[meta['NEW상품명'] == 'LG 노트북 그램 15인치']"
   ]
  },
  {
   "cell_type": "markdown",
   "metadata": {
    "Collapsed": "false"
   },
   "source": [
    "### 4) 동일 브랜드-상품군 가격 summary"
   ]
  },
  {
   "cell_type": "code",
   "execution_count": 26,
   "metadata": {
    "Collapsed": "false"
   },
   "outputs": [],
   "source": [
    "brand = meta.groupby(['브랜드', '상품군']).agg({\n",
    "    '판매단가' : [('상품군&브랜드_최고판매단가', np.max),\n",
    "             ('상품군&브랜드_최저판매단가', np.min),\n",
    "              ('상품군&브랜드_평균판매단가', np.mean),\n",
    "              ('상품군&브랜드_중간판매단가', np.median),\n",
    "             ('상품군&브랜드_최고-최저', lambda x : np.max(x) - np.min(x)),\n",
    "             ('상품군&브랜드_표준편차', np.std),\n",
    "              ('상품군&브랜드_분산', np.var)\n",
    "             ]\n",
    "}).reset_index()"
   ]
  },
  {
   "cell_type": "code",
   "execution_count": 27,
   "metadata": {
    "Collapsed": "false"
   },
   "outputs": [],
   "source": [
    "brand.columns = prepColumn(brand)"
   ]
  },
  {
   "cell_type": "code",
   "execution_count": 28,
   "metadata": {
    "Collapsed": "false"
   },
   "outputs": [
    {
     "data": {
      "text/html": [
       "<div>\n",
       "<style scoped>\n",
       "    .dataframe tbody tr th:only-of-type {\n",
       "        vertical-align: middle;\n",
       "    }\n",
       "\n",
       "    .dataframe tbody tr th {\n",
       "        vertical-align: top;\n",
       "    }\n",
       "\n",
       "    .dataframe thead th {\n",
       "        text-align: right;\n",
       "    }\n",
       "</style>\n",
       "<table border=\"1\" class=\"dataframe\">\n",
       "  <thead>\n",
       "    <tr style=\"text-align: right;\">\n",
       "      <th></th>\n",
       "      <th>브랜드</th>\n",
       "      <th>상품군</th>\n",
       "      <th>상품군&amp;브랜드_최고판매단가</th>\n",
       "      <th>상품군&amp;브랜드_최저판매단가</th>\n",
       "      <th>상품군&amp;브랜드_평균판매단가</th>\n",
       "      <th>상품군&amp;브랜드_중간판매단가</th>\n",
       "      <th>상품군&amp;브랜드_최고-최저</th>\n",
       "      <th>상품군&amp;브랜드_표준편차</th>\n",
       "      <th>상품군&amp;브랜드_분산</th>\n",
       "    </tr>\n",
       "  </thead>\n",
       "  <tbody>\n",
       "    <tr>\n",
       "      <th>0</th>\n",
       "      <td>AAA</td>\n",
       "      <td>잡화</td>\n",
       "      <td>49800</td>\n",
       "      <td>49800</td>\n",
       "      <td>49800.000</td>\n",
       "      <td>49800</td>\n",
       "      <td>0</td>\n",
       "      <td>0.000</td>\n",
       "      <td>0.000</td>\n",
       "    </tr>\n",
       "    <tr>\n",
       "      <th>1</th>\n",
       "      <td>AAC</td>\n",
       "      <td>농수축</td>\n",
       "      <td>49900</td>\n",
       "      <td>49900</td>\n",
       "      <td>49900.000</td>\n",
       "      <td>49900</td>\n",
       "      <td>0</td>\n",
       "      <td>0.000</td>\n",
       "      <td>0.000</td>\n",
       "    </tr>\n",
       "    <tr>\n",
       "      <th>2</th>\n",
       "      <td>AAD</td>\n",
       "      <td>잡화</td>\n",
       "      <td>39000</td>\n",
       "      <td>29000</td>\n",
       "      <td>32333.333</td>\n",
       "      <td>29000</td>\n",
       "      <td>10000</td>\n",
       "      <td>5163.978</td>\n",
       "      <td>26666666.667</td>\n",
       "    </tr>\n",
       "    <tr>\n",
       "      <th>3</th>\n",
       "      <td>AHC</td>\n",
       "      <td>이미용</td>\n",
       "      <td>59900</td>\n",
       "      <td>59900</td>\n",
       "      <td>59900.000</td>\n",
       "      <td>59900</td>\n",
       "      <td>0</td>\n",
       "      <td>nan</td>\n",
       "      <td>nan</td>\n",
       "    </tr>\n",
       "    <tr>\n",
       "      <th>4</th>\n",
       "      <td>BBC&amp;IZUMI</td>\n",
       "      <td>속옷</td>\n",
       "      <td>109000</td>\n",
       "      <td>109000</td>\n",
       "      <td>109000.000</td>\n",
       "      <td>109000</td>\n",
       "      <td>0</td>\n",
       "      <td>nan</td>\n",
       "      <td>nan</td>\n",
       "    </tr>\n",
       "  </tbody>\n",
       "</table>\n",
       "</div>"
      ],
      "text/plain": [
       "         브랜드  상품군  상품군&브랜드_최고판매단가  상품군&브랜드_최저판매단가  상품군&브랜드_평균판매단가  \\\n",
       "0        AAA   잡화           49800           49800       49800.000   \n",
       "1        AAC  농수축           49900           49900       49900.000   \n",
       "2        AAD   잡화           39000           29000       32333.333   \n",
       "3        AHC  이미용           59900           59900       59900.000   \n",
       "4  BBC&IZUMI   속옷          109000          109000      109000.000   \n",
       "\n",
       "   상품군&브랜드_중간판매단가  상품군&브랜드_최고-최저  상품군&브랜드_표준편차   상품군&브랜드_분산  \n",
       "0           49800              0         0.000        0.000  \n",
       "1           49900              0         0.000        0.000  \n",
       "2           29000          10000      5163.978 26666666.667  \n",
       "3           59900              0           nan          nan  \n",
       "4          109000              0           nan          nan  "
      ]
     },
     "execution_count": 28,
     "metadata": {},
     "output_type": "execute_result"
    }
   ],
   "source": [
    "brand.head()"
   ]
  },
  {
   "cell_type": "markdown",
   "metadata": {
    "Collapsed": "false"
   },
   "source": [
    "### 5) 해당 상품군 평균과 가격과의 차이"
   ]
  },
  {
   "cell_type": "code",
   "execution_count": null,
   "metadata": {
    "Collapsed": "false"
   },
   "outputs": [],
   "source": []
  },
  {
   "cell_type": "markdown",
   "metadata": {
    "Collapsed": "false"
   },
   "source": [
    "### 6)상품군별 가격대 설정"
   ]
  },
  {
   "cell_type": "code",
   "execution_count": 29,
   "metadata": {
    "Collapsed": "false"
   },
   "outputs": [],
   "source": [
    "for c in item['상품군'].unique():\n",
    "    item.loc[item['상품군'] == c, '상품군_가격대'] = pd.qcut(item.loc[item['상품군'] == c, 'NEW_최고판매단가'], q = 3, labels = False)"
   ]
  },
  {
   "cell_type": "code",
   "execution_count": 30,
   "metadata": {
    "Collapsed": "false"
   },
   "outputs": [],
   "source": [
    "item['전체_가격대'] = pd.qcut(item['NEW_최고판매단가'], q = 5, labels = False)"
   ]
  },
  {
   "cell_type": "code",
   "execution_count": 31,
   "metadata": {
    "Collapsed": "false"
   },
   "outputs": [
    {
     "data": {
      "text/html": [
       "<div>\n",
       "<style scoped>\n",
       "    .dataframe tbody tr th:only-of-type {\n",
       "        vertical-align: middle;\n",
       "    }\n",
       "\n",
       "    .dataframe tbody tr th {\n",
       "        vertical-align: top;\n",
       "    }\n",
       "\n",
       "    .dataframe thead th {\n",
       "        text-align: right;\n",
       "    }\n",
       "</style>\n",
       "<table border=\"1\" class=\"dataframe\">\n",
       "  <thead>\n",
       "    <tr style=\"text-align: right;\">\n",
       "      <th></th>\n",
       "      <th>NEW상품코드</th>\n",
       "      <th>NEW상품명</th>\n",
       "      <th>상품군</th>\n",
       "      <th>NEW_최고판매단가</th>\n",
       "      <th>NEW_최저판매단가</th>\n",
       "      <th>NEW_평균판매단가</th>\n",
       "      <th>NEW_중간판매단가</th>\n",
       "      <th>NEW_최고-최저</th>\n",
       "      <th>NEW_분산</th>\n",
       "      <th>NEW_표준편차</th>\n",
       "      <th>상품군_가격대</th>\n",
       "      <th>전체_가격대</th>\n",
       "    </tr>\n",
       "  </thead>\n",
       "  <tbody>\n",
       "    <tr>\n",
       "      <th>0</th>\n",
       "      <td>0</td>\n",
       "      <td>가이거 남성 블랙 에디션 다이아몬드 워치</td>\n",
       "      <td>잡화</td>\n",
       "      <td>178000</td>\n",
       "      <td>178000</td>\n",
       "      <td>178000.000</td>\n",
       "      <td>178000</td>\n",
       "      <td>0</td>\n",
       "      <td>0.000</td>\n",
       "      <td>0.000</td>\n",
       "      <td>1.000</td>\n",
       "      <td>3</td>\n",
       "    </tr>\n",
       "    <tr>\n",
       "      <th>1</th>\n",
       "      <td>1</td>\n",
       "      <td>가이거 무빙스타 다이아몬드 워치</td>\n",
       "      <td>잡화</td>\n",
       "      <td>129000</td>\n",
       "      <td>119000</td>\n",
       "      <td>124000.000</td>\n",
       "      <td>124000</td>\n",
       "      <td>10000</td>\n",
       "      <td>50000000.000</td>\n",
       "      <td>7071.068</td>\n",
       "      <td>1.000</td>\n",
       "      <td>3</td>\n",
       "    </tr>\n",
       "    <tr>\n",
       "      <th>2</th>\n",
       "      <td>2</td>\n",
       "      <td>가이거 무빙스타 다이아몬드 워치 + 보석함</td>\n",
       "      <td>잡화</td>\n",
       "      <td>119000</td>\n",
       "      <td>99000</td>\n",
       "      <td>109000.000</td>\n",
       "      <td>109000</td>\n",
       "      <td>20000</td>\n",
       "      <td>200000000.000</td>\n",
       "      <td>14142.136</td>\n",
       "      <td>1.000</td>\n",
       "      <td>3</td>\n",
       "    </tr>\n",
       "    <tr>\n",
       "      <th>3</th>\n",
       "      <td>3</td>\n",
       "      <td>가이거 여성 블랙 에디션 다이아몬드 워치</td>\n",
       "      <td>잡화</td>\n",
       "      <td>178000</td>\n",
       "      <td>178000</td>\n",
       "      <td>178000.000</td>\n",
       "      <td>178000</td>\n",
       "      <td>0</td>\n",
       "      <td>0.000</td>\n",
       "      <td>0.000</td>\n",
       "      <td>1.000</td>\n",
       "      <td>3</td>\n",
       "    </tr>\n",
       "    <tr>\n",
       "      <th>4</th>\n",
       "      <td>4</td>\n",
       "      <td>가이거 제니스시계 주얼리세트</td>\n",
       "      <td>잡화</td>\n",
       "      <td>139000</td>\n",
       "      <td>129000</td>\n",
       "      <td>134000.000</td>\n",
       "      <td>134000</td>\n",
       "      <td>10000</td>\n",
       "      <td>50000000.000</td>\n",
       "      <td>7071.068</td>\n",
       "      <td>1.000</td>\n",
       "      <td>3</td>\n",
       "    </tr>\n",
       "    <tr>\n",
       "      <th>...</th>\n",
       "      <td>...</td>\n",
       "      <td>...</td>\n",
       "      <td>...</td>\n",
       "      <td>...</td>\n",
       "      <td>...</td>\n",
       "      <td>...</td>\n",
       "      <td>...</td>\n",
       "      <td>...</td>\n",
       "      <td>...</td>\n",
       "      <td>...</td>\n",
       "      <td>...</td>\n",
       "      <td>...</td>\n",
       "    </tr>\n",
       "    <tr>\n",
       "      <th>1359</th>\n",
       "      <td>1359</td>\n",
       "      <td>AAB의 든든한 콩국수</td>\n",
       "      <td>농수축</td>\n",
       "      <td>39900</td>\n",
       "      <td>39900</td>\n",
       "      <td>39900.000</td>\n",
       "      <td>39900</td>\n",
       "      <td>0</td>\n",
       "      <td>0.000</td>\n",
       "      <td>0.000</td>\n",
       "      <td>0.000</td>\n",
       "      <td>0</td>\n",
       "    </tr>\n",
       "    <tr>\n",
       "      <th>1360</th>\n",
       "      <td>1360</td>\n",
       "      <td>AAB의 소곱창 전골 800g 8팩</td>\n",
       "      <td>농수축</td>\n",
       "      <td>55900</td>\n",
       "      <td>55900</td>\n",
       "      <td>55900.000</td>\n",
       "      <td>55900</td>\n",
       "      <td>0</td>\n",
       "      <td>0.000</td>\n",
       "      <td>0.000</td>\n",
       "      <td>2.000</td>\n",
       "      <td>1</td>\n",
       "    </tr>\n",
       "    <tr>\n",
       "      <th>1361</th>\n",
       "      <td>1361</td>\n",
       "      <td>AAE LA 갈비 7팩</td>\n",
       "      <td>농수축</td>\n",
       "      <td>69900</td>\n",
       "      <td>69900</td>\n",
       "      <td>69900.000</td>\n",
       "      <td>69900</td>\n",
       "      <td>0</td>\n",
       "      <td>0.000</td>\n",
       "      <td>0.000</td>\n",
       "      <td>2.000</td>\n",
       "      <td>2</td>\n",
       "    </tr>\n",
       "    <tr>\n",
       "      <th>1362</th>\n",
       "      <td>1362</td>\n",
       "      <td>IH 옛 가마솥 세트</td>\n",
       "      <td>주방</td>\n",
       "      <td>62000</td>\n",
       "      <td>62000</td>\n",
       "      <td>62000.000</td>\n",
       "      <td>62000</td>\n",
       "      <td>0</td>\n",
       "      <td>0.000</td>\n",
       "      <td>0.000</td>\n",
       "      <td>0.000</td>\n",
       "      <td>2</td>\n",
       "    </tr>\n",
       "    <tr>\n",
       "      <th>1363</th>\n",
       "      <td>1363</td>\n",
       "      <td>OK 근육통완화 동전패치</td>\n",
       "      <td>생활용품</td>\n",
       "      <td>39900</td>\n",
       "      <td>39900</td>\n",
       "      <td>39900.000</td>\n",
       "      <td>39900</td>\n",
       "      <td>0</td>\n",
       "      <td>0.000</td>\n",
       "      <td>0.000</td>\n",
       "      <td>0.000</td>\n",
       "      <td>0</td>\n",
       "    </tr>\n",
       "  </tbody>\n",
       "</table>\n",
       "<p>1364 rows × 12 columns</p>\n",
       "</div>"
      ],
      "text/plain": [
       "      NEW상품코드                   NEW상품명   상품군  NEW_최고판매단가  NEW_최저판매단가  \\\n",
       "0           0   가이거 남성 블랙 에디션 다이아몬드 워치    잡화      178000      178000   \n",
       "1           1        가이거 무빙스타 다이아몬드 워치    잡화      129000      119000   \n",
       "2           2  가이거 무빙스타 다이아몬드 워치 + 보석함    잡화      119000       99000   \n",
       "3           3   가이거 여성 블랙 에디션 다이아몬드 워치    잡화      178000      178000   \n",
       "4           4          가이거 제니스시계 주얼리세트    잡화      139000      129000   \n",
       "...       ...                      ...   ...         ...         ...   \n",
       "1359     1359             AAB의 든든한 콩국수   농수축       39900       39900   \n",
       "1360     1360      AAB의 소곱창 전골 800g 8팩   농수축       55900       55900   \n",
       "1361     1361             AAE LA 갈비 7팩   농수축       69900       69900   \n",
       "1362     1362              IH 옛 가마솥 세트    주방       62000       62000   \n",
       "1363     1363            OK 근육통완화 동전패치  생활용품       39900       39900   \n",
       "\n",
       "      NEW_평균판매단가  NEW_중간판매단가  NEW_최고-최저        NEW_분산  NEW_표준편차  상품군_가격대  \\\n",
       "0     178000.000      178000          0         0.000     0.000    1.000   \n",
       "1     124000.000      124000      10000  50000000.000  7071.068    1.000   \n",
       "2     109000.000      109000      20000 200000000.000 14142.136    1.000   \n",
       "3     178000.000      178000          0         0.000     0.000    1.000   \n",
       "4     134000.000      134000      10000  50000000.000  7071.068    1.000   \n",
       "...          ...         ...        ...           ...       ...      ...   \n",
       "1359   39900.000       39900          0         0.000     0.000    0.000   \n",
       "1360   55900.000       55900          0         0.000     0.000    2.000   \n",
       "1361   69900.000       69900          0         0.000     0.000    2.000   \n",
       "1362   62000.000       62000          0         0.000     0.000    0.000   \n",
       "1363   39900.000       39900          0         0.000     0.000    0.000   \n",
       "\n",
       "      전체_가격대  \n",
       "0          3  \n",
       "1          3  \n",
       "2          3  \n",
       "3          3  \n",
       "4          3  \n",
       "...      ...  \n",
       "1359       0  \n",
       "1360       1  \n",
       "1361       2  \n",
       "1362       2  \n",
       "1363       0  \n",
       "\n",
       "[1364 rows x 12 columns]"
      ]
     },
     "execution_count": 31,
     "metadata": {},
     "output_type": "execute_result"
    }
   ],
   "source": [
    "item"
   ]
  },
  {
   "cell_type": "markdown",
   "metadata": {
    "Collapsed": "false"
   },
   "source": [
    "## 1-3. 성별"
   ]
  },
  {
   "cell_type": "code",
   "execution_count": 468,
   "metadata": {
    "Collapsed": "false"
   },
   "outputs": [
    {
     "data": {
      "text/plain": [
       "0    1523\n",
       "2     291\n",
       "1     228\n",
       "Name: NEW상품명, dtype: int64"
      ]
     },
     "execution_count": 468,
     "metadata": {},
     "output_type": "execute_result"
    }
   ],
   "source": [
    "# 상품별 성별 비중\n",
    "meta['NEW상품명'].apply(lambda x : 1 if '남성' in x else (2 if '여성' in x else 0)).value_counts()"
   ]
  },
  {
   "cell_type": "code",
   "execution_count": 483,
   "metadata": {
    "Collapsed": "false"
   },
   "outputs": [
    {
     "data": {
      "text/plain": [
       "0    29843\n",
       "1     3789\n",
       "2     3740\n",
       "Name: NEW상품명, dtype: int64"
      ]
     },
     "execution_count": 483,
     "metadata": {},
     "output_type": "execute_result"
    }
   ],
   "source": [
    "sale['NEW상품명'].apply(lambda x : 1 if '남성' in x else (2 if '여성' in x else 0)).value_counts()"
   ]
  },
  {
   "cell_type": "markdown",
   "metadata": {
    "Collapsed": "false"
   },
   "source": [
    "# 2. 데이터 저장"
   ]
  },
  {
   "cell_type": "code",
   "execution_count": 32,
   "metadata": {
    "Collapsed": "false"
   },
   "outputs": [],
   "source": [
    "meta.to_excel(os.path.join('..', '0.Data', '01_제공데이터', 'sale_meta_v04_0823.xlsx'), index = False)\n",
    "sale.to_excel(os.path.join('..', '0.Data', '01_제공데이터', 'sale_data_v04_0823.xlsx'), index = False)\n",
    "item.to_excel(os.path.join('..', '0.Data', '01_제공데이터', 'item_meta_v03_0823.xlsx'), index = False)"
   ]
  },
  {
   "cell_type": "code",
   "execution_count": 33,
   "metadata": {
    "Collapsed": "false"
   },
   "outputs": [],
   "source": [
    "import joblib"
   ]
  },
  {
   "cell_type": "code",
   "execution_count": 34,
   "metadata": {
    "Collapsed": "false"
   },
   "outputs": [
    {
     "data": {
      "text/plain": [
       "['../0.Data/01_제공데이터/0823_prep4data.pkl']"
      ]
     },
     "execution_count": 34,
     "metadata": {},
     "output_type": "execute_result"
    }
   ],
   "source": [
    "joblib.dump({\n",
    "    'itemcategory' : itemcategory,\n",
    "    'mothercode' : mothercode,\n",
    "    'brand' : brand\n",
    "    \n",
    "}, os.path.join('..', '0.Data', '01_제공데이터', '0823_prep4data.pkl'))"
   ]
  }
 ],
 "metadata": {
  "kernelspec": {
   "display_name": "Python 3",
   "language": "python",
   "name": "python3"
  },
  "language_info": {
   "codemirror_mode": {
    "name": "ipython",
    "version": 3
   },
   "file_extension": ".py",
   "mimetype": "text/x-python",
   "name": "python",
   "nbconvert_exporter": "python",
   "pygments_lexer": "ipython3",
   "version": "3.7.6"
  }
 },
 "nbformat": 4,
 "nbformat_minor": 4
}
