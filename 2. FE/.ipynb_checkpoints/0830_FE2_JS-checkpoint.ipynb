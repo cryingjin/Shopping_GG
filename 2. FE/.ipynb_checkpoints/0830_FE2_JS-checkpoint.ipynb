{
 "cells": [
  {
   "cell_type": "code",
   "execution_count": 11,
   "metadata": {
    "Collapsed": "false"
   },
   "outputs": [],
   "source": [
    "import os\n",
    "import sys\n",
    "import joblib\n",
    "import FE_0823 as FE\n",
    "import numpy as np\n",
    "import pandas as pd\n",
    "from tqdm import tqdm"
   ]
  },
  {
   "cell_type": "code",
   "execution_count": 12,
   "metadata": {
    "Collapsed": "false"
   },
   "outputs": [
    {
     "data": {
      "text/plain": [
       "<module 'FE_0823' from '/Users/jinseok/Jupyter/bigcon/Shopping_GG/2. FE/FE_0823.py'>"
      ]
     },
     "execution_count": 12,
     "metadata": {},
     "output_type": "execute_result"
    }
   ],
   "source": [
    "import imp\n",
    "imp.reload(FE)"
   ]
  },
  {
   "cell_type": "code",
   "execution_count": 13,
   "metadata": {
    "Collapsed": "false"
   },
   "outputs": [],
   "source": [
    "pd.set_option('display.float_format', lambda x: '%.3f' % x)"
   ]
  },
  {
   "cell_type": "code",
   "execution_count": 14,
   "metadata": {
    "Collapsed": "false"
   },
   "outputs": [],
   "source": [
    "sale = pd.read_excel(os.path.join('..', '..', '0.Data', '01_제공데이터', 'sale_data_v05_0828.xlsx'))\n",
    "meta = pd.read_excel(os.path.join('..', '..', '0.Data', '01_제공데이터', 'sale_meta_v04_0823.xlsx'))\n",
    "item = pd.read_excel(os.path.join('..', '..', '0.Data', '01_제공데이터', 'item_meta_v04_0828.xlsx'))"
   ]
  },
  {
   "cell_type": "code",
   "execution_count": 15,
   "metadata": {
    "Collapsed": "false"
   },
   "outputs": [
    {
     "data": {
      "text/plain": [
       "((38309, 16), (2042, 15), (1364, 15))"
      ]
     },
     "execution_count": 15,
     "metadata": {},
     "output_type": "execute_result"
    }
   ],
   "source": [
    "sale.shape, meta.shape, item.shape"
   ]
  },
  {
   "cell_type": "markdown",
   "metadata": {
    "Collapsed": "false"
   },
   "source": [
    "# 01. Feature Engineering"
   ]
  },
  {
   "cell_type": "code",
   "execution_count": 16,
   "metadata": {
    "Collapsed": "false"
   },
   "outputs": [],
   "source": [
    "sale = FE.engineering_TimeDiff(sale)"
   ]
  },
  {
   "cell_type": "code",
   "execution_count": 17,
   "metadata": {
    "Collapsed": "false"
   },
   "outputs": [],
   "source": [
    "sale = FE.engineering_Soldout(sale)"
   ]
  },
  {
   "cell_type": "code",
   "execution_count": 18,
   "metadata": {
    "Collapsed": "false"
   },
   "outputs": [
    {
     "name": "stdout",
     "output_type": "stream",
     "text": [
      "연도입력\n"
     ]
    },
    {
     "name": "stdin",
     "output_type": "stream",
     "text": [
      " 2019\n"
     ]
    }
   ],
   "source": [
    "sale = FE.engineering_DatePrice(sale)"
   ]
  },
  {
   "cell_type": "code",
   "execution_count": 19,
   "metadata": {
    "Collapsed": "false"
   },
   "outputs": [
    {
     "name": "stderr",
     "output_type": "stream",
     "text": [
      "/Users/jinseok/opt/anaconda3/lib/python3.7/site-packages/numpy/lib/polynomial.py:630: RuntimeWarning: invalid value encountered in true_divide\n",
      "  lhs /= scale\n"
     ]
    }
   ],
   "source": [
    "sale = FE.engineering_trend(sale)"
   ]
  },
  {
   "cell_type": "markdown",
   "metadata": {
    "Collapsed": "false"
   },
   "source": [
    "# 02. 외부데이터 불러오기"
   ]
  },
  {
   "cell_type": "code",
   "execution_count": 10,
   "metadata": {
    "Collapsed": "false"
   },
   "outputs": [],
   "source": [
    "# 경제지표 가져오기(월별)"
   ]
  },
  {
   "cell_type": "code",
   "execution_count": 20,
   "metadata": {
    "Collapsed": "false"
   },
   "outputs": [],
   "source": [
    "df_eco = pd.read_excel(os.path.join('..', '..', '0.Data', '03_외부데이터', '전처리', 'prep_1차외부데이터_0827.xlsx'))"
   ]
  },
  {
   "cell_type": "code",
   "execution_count": 21,
   "metadata": {
    "Collapsed": "false"
   },
   "outputs": [],
   "source": [
    "# 날씨 데이터 가져오기(시간별)"
   ]
  },
  {
   "cell_type": "code",
   "execution_count": 22,
   "metadata": {
    "Collapsed": "false"
   },
   "outputs": [],
   "source": [
    "df_wth = pd.read_csv(os.path.join('..', '..', '0.Data', '03_외부데이터', '전처리', 'prep_2019_pb_weather.csv'), encoding = 'cp949')"
   ]
  },
  {
   "cell_type": "code",
   "execution_count": 23,
   "metadata": {
    "Collapsed": "false"
   },
   "outputs": [],
   "source": [
    "# 미세먼지 데이터 가져오기"
   ]
  },
  {
   "cell_type": "code",
   "execution_count": 24,
   "metadata": {
    "Collapsed": "false"
   },
   "outputs": [],
   "source": [
    "df_dust = pd.read_csv(os.path.join('..', '..', '0.Data', '03_외부데이터', '전처리', 'prep_2019_pb_dust.csv'), encoding = 'cp949')"
   ]
  },
  {
   "cell_type": "markdown",
   "metadata": {
    "Collapsed": "false"
   },
   "source": [
    "# 03. 임베딩 데이터 불러오기"
   ]
  },
  {
   "cell_type": "code",
   "execution_count": 25,
   "metadata": {
    "Collapsed": "false"
   },
   "outputs": [],
   "source": [
    "emb = pd.read_excel(os.path.join('..', '..', '0.Data', '04_임베딩데이터', 'version3_dim30.xlsx'), index_col = 0)"
   ]
  },
  {
   "cell_type": "code",
   "execution_count": 26,
   "metadata": {
    "Collapsed": "false"
   },
   "outputs": [],
   "source": [
    "sale = sale.merge(emb.drop_duplicates(), on = 'NEW상품명', how = 'left')"
   ]
  },
  {
   "cell_type": "markdown",
   "metadata": {
    "Collapsed": "false"
   },
   "source": [
    "# 04. 데이터 합치기"
   ]
  },
  {
   "cell_type": "code",
   "execution_count": 27,
   "metadata": {
    "Collapsed": "false"
   },
   "outputs": [],
   "source": [
    "df_eco['방송년도'] = pd.to_datetime(df_eco['날짜']).dt.year\n",
    "df_eco['방송월'] = pd.to_datetime(df_eco['날짜']).dt.month"
   ]
  },
  {
   "cell_type": "code",
   "execution_count": 28,
   "metadata": {
    "Collapsed": "false"
   },
   "outputs": [],
   "source": [
    "data = sale.merge(df_eco[df_eco['방송년도'] == 2019], on = '방송월', how = 'left')"
   ]
  },
  {
   "cell_type": "code",
   "execution_count": 29,
   "metadata": {
    "Collapsed": "false"
   },
   "outputs": [],
   "source": [
    "df_wth['날짜'] = pd.to_datetime(df_wth['날짜'])"
   ]
  },
  {
   "cell_type": "code",
   "execution_count": 30,
   "metadata": {
    "Collapsed": "false"
   },
   "outputs": [],
   "source": [
    "df_wth['월'] = df_wth['날짜'].dt.month\n",
    "df_wth['일'] = df_wth['날짜'].dt.day\n",
    "df_wth['시간'] = df_wth['날짜'].dt.hour.apply(lambda x : 24 if x == 0 else x)"
   ]
  },
  {
   "cell_type": "code",
   "execution_count": 31,
   "metadata": {
    "Collapsed": "false"
   },
   "outputs": [],
   "source": [
    "data['방송일'] = data['방송일시'].dt.day"
   ]
  },
  {
   "cell_type": "code",
   "execution_count": 32,
   "metadata": {
    "Collapsed": "false"
   },
   "outputs": [],
   "source": [
    "data = data.merge(df_wth, left_on = ['방송월', '방송일', '방송시간(시간)'], right_on = ['월', '일', '시간'], how ='left')"
   ]
  },
  {
   "cell_type": "code",
   "execution_count": 33,
   "metadata": {
    "Collapsed": "false"
   },
   "outputs": [
    {
     "data": {
      "text/plain": [
       "(38309, 668)"
      ]
     },
     "execution_count": 33,
     "metadata": {},
     "output_type": "execute_result"
    }
   ],
   "source": [
    "data.shape"
   ]
  },
  {
   "cell_type": "code",
   "execution_count": 34,
   "metadata": {
    "Collapsed": "false"
   },
   "outputs": [],
   "source": [
    "df_dust['날짜'] = pd.to_datetime(df_dust['날짜'])"
   ]
  },
  {
   "cell_type": "code",
   "execution_count": 35,
   "metadata": {
    "Collapsed": "false"
   },
   "outputs": [],
   "source": [
    "df_dust['월'] = df_dust['날짜'].dt.month\n",
    "df_dust['일'] = df_dust['날짜'].dt.day\n",
    "df_dust['시간'] = df_dust['날짜'].dt.hour.apply(lambda x : 24 if x == 0 else x)"
   ]
  },
  {
   "cell_type": "code",
   "execution_count": 36,
   "metadata": {
    "Collapsed": "false"
   },
   "outputs": [],
   "source": [
    "data = data.merge(df_dust, left_on = ['월', '일', '시간'], right_on = ['월', '일', '시간'], how ='left')"
   ]
  },
  {
   "cell_type": "code",
   "execution_count": 37,
   "metadata": {
    "Collapsed": "false"
   },
   "outputs": [],
   "source": [
    "categorys = ['결제방법', '상품군_가격대', '전체_가격대', '상품군', '방송시간(시간)']\n",
    "drop_columns = ['방송일시','마더코드', '상품명', 'NEW상품코드', 'NEW상품명', '단위', '브랜드', '취급액', '상품코드', '옵션', '종류', '방송일']"
   ]
  },
  {
   "cell_type": "code",
   "execution_count": 38,
   "metadata": {
    "Collapsed": "false"
   },
   "outputs": [],
   "source": [
    "for c in categorys:\n",
    "    data[c] = data[c].astype(str)"
   ]
  },
  {
   "cell_type": "code",
   "execution_count": 39,
   "metadata": {
    "Collapsed": "false"
   },
   "outputs": [],
   "source": [
    "data = data.loc[data['상품군'] != '무형']"
   ]
  },
  {
   "cell_type": "code",
   "execution_count": 40,
   "metadata": {
    "Collapsed": "false"
   },
   "outputs": [],
   "source": [
    "y = data['취급액']\n",
    "temp = data[drop_columns]\n",
    "data = data.drop(drop_columns, axis = 1)"
   ]
  },
  {
   "cell_type": "code",
   "execution_count": 41,
   "metadata": {
    "Collapsed": "false"
   },
   "outputs": [],
   "source": [
    "data['log최근3개월상품군추세'] = data['log최근3개월상품군추세'].astype(float)"
   ]
  },
  {
   "cell_type": "code",
   "execution_count": 42,
   "metadata": {
    "Collapsed": "false"
   },
   "outputs": [],
   "source": [
    "data = data.drop(['월', '일', '시간', '날짜', '날짜_x', '날짜_y', '상품명다시'], axis = 1)"
   ]
  },
  {
   "cell_type": "code",
   "execution_count": 43,
   "metadata": {
    "Collapsed": "false"
   },
   "outputs": [],
   "source": [
    "X = pd.get_dummies(data)"
   ]
  },
  {
   "cell_type": "code",
   "execution_count": 44,
   "metadata": {
    "Collapsed": "false"
   },
   "outputs": [
    {
     "data": {
      "text/plain": [
       "((37372, 749), (37372,))"
      ]
     },
     "execution_count": 44,
     "metadata": {},
     "output_type": "execute_result"
    }
   ],
   "source": [
    "X.shape, y.shape"
   ]
  },
  {
   "cell_type": "code",
   "execution_count": 54,
   "metadata": {
    "Collapsed": "false"
   },
   "outputs": [
    {
     "data": {
      "text/plain": [
       "최저운고(100m )_부산         19797\n",
       "최저운고(100m )_경기_파주      20486\n",
       "일조 QC플래그_경기_수원         21369\n",
       "일조 QC플래그_대구            21372\n",
       "일조 QC플래그_대전            21471\n",
       "일조 QC플래그_울산            21491\n",
       "일조 QC플래그_부산            21510\n",
       "일조 QC플래그_경기_이천         21530\n",
       "일조 QC플래그_인천_인천         21532\n",
       "일조 QC플래그_서울            21543\n",
       "일조 QC플래그_경기_파주         21552\n",
       "일조 QC플래그_경기_동두천        21553\n",
       "일조 QC플래그_경기_양평         21557\n",
       "일조 QC플래그_광주            21567\n",
       "일조 QC플래그_인천_강화         21678\n",
       "일조 QC플래그_인천_백령도        22076\n",
       "현상번호(국내식)_인천_인천        22403\n",
       "최저운고(100m )_경기_이천      23511\n",
       "현상번호(국내식)_경기_수원        23899\n",
       "최저운고(100m )_인천_강화      23908\n",
       "현상번호(국내식)_서울           24806\n",
       "현상번호(국내식)_대전           25277\n",
       "현상번호(국내식)_인천_백령도       25448\n",
       "현상번호(국내식)_광주           26133\n",
       "현상번호(국내식)_대구           27465\n",
       "최저운고(100m )_경기_양평      28318\n",
       "현상번호(국내식)_울산           28528\n",
       "현상번호(국내식)_부산           28872\n",
       "강수량 QC플래그_광주           28957\n",
       "강수량 QC플래그_대전           29385\n",
       "강수량 QC플래그_경기_수원        29710\n",
       "강수량 QC플래그_서울           29713\n",
       "강수량 QC플래그_인천_인천        30118\n",
       "강수량 QC플래그_경기_동두천       30638\n",
       "강수량 QC플래그_울산           30645\n",
       "강수량 QC플래그_인천_백령도       30693\n",
       "강수량 QC플래그_경기_이천        30804\n",
       "강수량 QC플래그_경기_파주        30875\n",
       "강수량 QC플래그_인천_강화        31149\n",
       "강수량 QC플래그_대구           31248\n",
       "강수량 QC플래그_경기_양평        31329\n",
       "강수량 QC플래그_부산           31362\n",
       "강수량(mm)_울산             33445\n",
       "강수량(mm)_부산             33757\n",
       "강수량(mm)_광주             33837\n",
       "강수량(mm)_서울             33883\n",
       "강수량(mm)_경기_수원          33930\n",
       "강수량(mm)_대전             33959\n",
       "강수량(mm)_인천_인천          34182\n",
       "강수량(mm)_대구             34321\n",
       "강수량(mm)_경기_동두천         34574\n",
       "강수량(mm)_인천_강화          34684\n",
       "강수량(mm)_경기_파주          34686\n",
       "강수량(mm)_인천_백령도         34749\n",
       "강수량(mm)_경기_이천          35078\n",
       "강수량(mm)_경기_양평          35194\n",
       "30cm 지중온도(°C)_경기_수원    37366\n",
       "10cm 지중온도(°C)_경기_수원    37366\n",
       "5cm 지중온도(°C)_경기_수원     37366\n",
       "20cm 지중온도(°C)_경기_수원    37366\n",
       "dtype: int64"
      ]
     },
     "execution_count": 54,
     "metadata": {},
     "output_type": "execute_result"
    }
   ],
   "source": [
    "X.isnull().sum().sort_values().tail(60)"
   ]
  },
  {
   "cell_type": "code",
   "execution_count": 45,
   "metadata": {
    "Collapsed": "false"
   },
   "outputs": [],
   "source": [
    "import joblib"
   ]
  },
  {
   "cell_type": "code",
   "execution_count": 46,
   "metadata": {
    "Collapsed": "false"
   },
   "outputs": [
    {
     "data": {
      "text/plain": [
       "['../../0.Data/05_분석데이터/Snd_FE.pkl']"
      ]
     },
     "execution_count": 46,
     "metadata": {},
     "output_type": "execute_result"
    }
   ],
   "source": [
    "joblib.dump({\n",
    "    'X' : X,\n",
    "    'y' : y\n",
    "}, os.path.join('..', '..', '0.Data', '05_분석데이터', 'Snd_FE.pkl') )"
   ]
  },
  {
   "cell_type": "code",
   "execution_count": null,
   "metadata": {
    "Collapsed": "false"
   },
   "outputs": [],
   "source": []
  }
 ],
 "metadata": {
  "kernelspec": {
   "display_name": "Python 3",
   "language": "python",
   "name": "python3"
  },
  "language_info": {
   "codemirror_mode": {
    "name": "ipython",
    "version": 3
   },
   "file_extension": ".py",
   "mimetype": "text/x-python",
   "name": "python",
   "nbconvert_exporter": "python",
   "pygments_lexer": "ipython3",
   "version": "3.7.6"
  }
 },
 "nbformat": 4,
 "nbformat_minor": 4
}
