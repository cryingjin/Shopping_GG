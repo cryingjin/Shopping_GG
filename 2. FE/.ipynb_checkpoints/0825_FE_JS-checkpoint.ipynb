{
 "cells": [
  {
   "cell_type": "code",
   "execution_count": 1,
   "metadata": {
    "Collapsed": "false"
   },
   "outputs": [],
   "source": [
    "import os\n",
    "import sys\n",
    "import joblib\n",
    "import FE_0823 as FE\n",
    "import numpy as np\n",
    "import pandas as pd\n",
    "from tqdm import tqdm"
   ]
  },
  {
   "cell_type": "code",
   "execution_count": 2,
   "metadata": {
    "Collapsed": "false"
   },
   "outputs": [],
   "source": [
    "import matplotlib.pyplot as plt\n",
    "import seaborn as sns\n",
    "plt.rcParams['figure.figsize']=(15,10)\n",
    "sns.set(rc={'figure.figsize':(20,10)})\n",
    "plt.style.use('seaborn') # seaborn 스타일로 변환\n",
    "plt.rc('font', family='AppleGothic')\n",
    "plt.rc('axes', unicode_minus=False)"
   ]
  },
  {
   "cell_type": "code",
   "execution_count": 3,
   "metadata": {
    "Collapsed": "false"
   },
   "outputs": [],
   "source": [
    "pd.set_option('display.float_format', lambda x: '%.3f' % x)"
   ]
  },
  {
   "cell_type": "code",
   "execution_count": 4,
   "metadata": {
    "Collapsed": "false"
   },
   "outputs": [],
   "source": [
    "sale = pd.read_excel(os.path.join('..', '0.Data', '01_제공데이터', 'sale_data_v05_0828.xlsx'))\n",
    "meta = pd.read_excel(os.path.join('..', '0.Data', '01_제공데이터', 'sale_meta_v04_0823.xlsx'))\n",
    "item = pd.read_excel(os.path.join('..', '0.Data', '01_제공데이터', 'item_meta_v04_0828.xlsx'))"
   ]
  },
  {
   "cell_type": "markdown",
   "metadata": {
    "Collapsed": "false"
   },
   "source": [
    "# 1. 동일상품시간차"
   ]
  },
  {
   "cell_type": "markdown",
   "metadata": {
    "Collapsed": "false"
   },
   "source": [
    ": 동일 상품 별 시간 간격 → 얼마나 오랜만에 그 상품을 다시 판매방송하는 것에 대한 변수\n",
    "\n",
    "-> 해당 상품의 방송일을 diff로 구해주면됨"
   ]
  },
  {
   "cell_type": "code",
   "execution_count": 12,
   "metadata": {
    "Collapsed": "false"
   },
   "outputs": [],
   "source": [
    "sale['방송일'] = sale['방송일시'].dt.date"
   ]
  },
  {
   "cell_type": "code",
   "execution_count": 21,
   "metadata": {
    "Collapsed": "false"
   },
   "outputs": [],
   "source": [
    "temp = sale.groupby(['NEW상품명'])['방송일'].unique().reset_index()"
   ]
  },
  {
   "cell_type": "code",
   "execution_count": 46,
   "metadata": {
    "Collapsed": "false"
   },
   "outputs": [],
   "source": [
    "t = sale.groupby(['NEW상품명','방송일']).count().reset_index()[['NEW상품명', '방송일']]"
   ]
  },
  {
   "cell_type": "code",
   "execution_count": 70,
   "metadata": {
    "Collapsed": "false"
   },
   "outputs": [
    {
     "name": "stderr",
     "output_type": "stream",
     "text": [
      "100%|██████████| 1364/1364 [00:02<00:00, 458.05it/s]\n"
     ]
    }
   ],
   "source": [
    "total = []\n",
    "for item in tqdm(t['NEW상품명'].unique()):\n",
    "    timediff = t.loc[t['NEW상품명'] == item, '방송일']\n",
    "    a = pd.DataFrame(list(zip(timediff, timediff.diff())))\n",
    "    a['NEW상품명'] = item\n",
    "    total.extend(a.values)"
   ]
  },
  {
   "cell_type": "code",
   "execution_count": 72,
   "metadata": {
    "Collapsed": "false"
   },
   "outputs": [],
   "source": [
    "timediff = pd.DataFrame(total, columns = ['방송일', '방송시간차', 'NEW상품명'])"
   ]
  },
  {
   "cell_type": "code",
   "execution_count": 97,
   "metadata": {
    "Collapsed": "false"
   },
   "outputs": [],
   "source": [
    "timediff.loc[timediff['방송시간차'].isnull(), '방송시간차'] = 0"
   ]
  },
  {
   "cell_type": "code",
   "execution_count": 124,
   "metadata": {
    "Collapsed": "false"
   },
   "outputs": [],
   "source": [
    "timediff['방송시간차'] = timediff['방송시간차'].apply(lambda x : x.days if x != 0 else x)"
   ]
  },
  {
   "cell_type": "code",
   "execution_count": 136,
   "metadata": {
    "Collapsed": "false"
   },
   "outputs": [
    {
     "data": {
      "text/html": [
       "<div>\n",
       "<style scoped>\n",
       "    .dataframe tbody tr th:only-of-type {\n",
       "        vertical-align: middle;\n",
       "    }\n",
       "\n",
       "    .dataframe tbody tr th {\n",
       "        vertical-align: top;\n",
       "    }\n",
       "\n",
       "    .dataframe thead th {\n",
       "        text-align: right;\n",
       "    }\n",
       "</style>\n",
       "<table border=\"1\" class=\"dataframe\">\n",
       "  <thead>\n",
       "    <tr style=\"text-align: right;\">\n",
       "      <th></th>\n",
       "      <th>방송일시</th>\n",
       "      <th>노출(분)</th>\n",
       "      <th>마더코드</th>\n",
       "      <th>상품코드</th>\n",
       "      <th>상품명</th>\n",
       "      <th>상품군</th>\n",
       "      <th>판매단가</th>\n",
       "      <th>취급액</th>\n",
       "      <th>NEW상품코드</th>\n",
       "      <th>NEW상품명</th>\n",
       "      <th>결제방법</th>\n",
       "      <th>단위</th>\n",
       "      <th>브랜드</th>\n",
       "      <th>옵션</th>\n",
       "      <th>종류</th>\n",
       "      <th>방송일</th>\n",
       "      <th>방송시간차</th>\n",
       "    </tr>\n",
       "  </thead>\n",
       "  <tbody>\n",
       "    <tr>\n",
       "      <th>0</th>\n",
       "      <td>2019-01-01 06:00:00</td>\n",
       "      <td>20.0</td>\n",
       "      <td>100346</td>\n",
       "      <td>201072</td>\n",
       "      <td>테이트 남성 셀린니트3종</td>\n",
       "      <td>의류</td>\n",
       "      <td>39900</td>\n",
       "      <td>2099000.0</td>\n",
       "      <td>865.0</td>\n",
       "      <td>테이트 남성 셀린니트 3종</td>\n",
       "      <td>0.0</td>\n",
       "      <td>3종</td>\n",
       "      <td>테이트</td>\n",
       "      <td>NaN</td>\n",
       "      <td>0</td>\n",
       "      <td>2019-01-01</td>\n",
       "      <td>0.0</td>\n",
       "    </tr>\n",
       "    <tr>\n",
       "      <th>1</th>\n",
       "      <td>2019-01-01 06:00:00</td>\n",
       "      <td>NaN</td>\n",
       "      <td>100346</td>\n",
       "      <td>201079</td>\n",
       "      <td>테이트 여성 셀린니트3종</td>\n",
       "      <td>의류</td>\n",
       "      <td>39900</td>\n",
       "      <td>4371000.0</td>\n",
       "      <td>866.0</td>\n",
       "      <td>테이트 여성 셀린니트 3종</td>\n",
       "      <td>0.0</td>\n",
       "      <td>3종</td>\n",
       "      <td>테이트</td>\n",
       "      <td>NaN</td>\n",
       "      <td>0</td>\n",
       "      <td>2019-01-01</td>\n",
       "      <td>0.0</td>\n",
       "    </tr>\n",
       "    <tr>\n",
       "      <th>2</th>\n",
       "      <td>2019-01-01 06:20:00</td>\n",
       "      <td>20.0</td>\n",
       "      <td>100346</td>\n",
       "      <td>201072</td>\n",
       "      <td>테이트 남성 셀린니트3종</td>\n",
       "      <td>의류</td>\n",
       "      <td>39900</td>\n",
       "      <td>3262000.0</td>\n",
       "      <td>865.0</td>\n",
       "      <td>테이트 남성 셀린니트 3종</td>\n",
       "      <td>0.0</td>\n",
       "      <td>3종</td>\n",
       "      <td>테이트</td>\n",
       "      <td>NaN</td>\n",
       "      <td>0</td>\n",
       "      <td>2019-01-01</td>\n",
       "      <td>0.0</td>\n",
       "    </tr>\n",
       "    <tr>\n",
       "      <th>3</th>\n",
       "      <td>2019-01-01 06:20:00</td>\n",
       "      <td>NaN</td>\n",
       "      <td>100346</td>\n",
       "      <td>201079</td>\n",
       "      <td>테이트 여성 셀린니트3종</td>\n",
       "      <td>의류</td>\n",
       "      <td>39900</td>\n",
       "      <td>6955000.0</td>\n",
       "      <td>866.0</td>\n",
       "      <td>테이트 여성 셀린니트 3종</td>\n",
       "      <td>0.0</td>\n",
       "      <td>3종</td>\n",
       "      <td>테이트</td>\n",
       "      <td>NaN</td>\n",
       "      <td>0</td>\n",
       "      <td>2019-01-01</td>\n",
       "      <td>0.0</td>\n",
       "    </tr>\n",
       "    <tr>\n",
       "      <th>4</th>\n",
       "      <td>2019-01-01 06:40:00</td>\n",
       "      <td>20.0</td>\n",
       "      <td>100346</td>\n",
       "      <td>201072</td>\n",
       "      <td>테이트 남성 셀린니트3종</td>\n",
       "      <td>의류</td>\n",
       "      <td>39900</td>\n",
       "      <td>6672000.0</td>\n",
       "      <td>865.0</td>\n",
       "      <td>테이트 남성 셀린니트 3종</td>\n",
       "      <td>0.0</td>\n",
       "      <td>3종</td>\n",
       "      <td>테이트</td>\n",
       "      <td>NaN</td>\n",
       "      <td>0</td>\n",
       "      <td>2019-01-01</td>\n",
       "      <td>0.0</td>\n",
       "    </tr>\n",
       "  </tbody>\n",
       "</table>\n",
       "</div>"
      ],
      "text/plain": [
       "                 방송일시  노출(분)    마더코드    상품코드            상품명 상품군   판매단가  \\\n",
       "0 2019-01-01 06:00:00   20.0  100346  201072  테이트 남성 셀린니트3종  의류  39900   \n",
       "1 2019-01-01 06:00:00    NaN  100346  201079  테이트 여성 셀린니트3종  의류  39900   \n",
       "2 2019-01-01 06:20:00   20.0  100346  201072  테이트 남성 셀린니트3종  의류  39900   \n",
       "3 2019-01-01 06:20:00    NaN  100346  201079  테이트 여성 셀린니트3종  의류  39900   \n",
       "4 2019-01-01 06:40:00   20.0  100346  201072  테이트 남성 셀린니트3종  의류  39900   \n",
       "\n",
       "         취급액  NEW상품코드          NEW상품명  결제방법  단위  브랜드   옵션 종류         방송일  \\\n",
       "0  2099000.0    865.0  테이트 남성 셀린니트 3종   0.0  3종  테이트  NaN  0  2019-01-01   \n",
       "1  4371000.0    866.0  테이트 여성 셀린니트 3종   0.0  3종  테이트  NaN  0  2019-01-01   \n",
       "2  3262000.0    865.0  테이트 남성 셀린니트 3종   0.0  3종  테이트  NaN  0  2019-01-01   \n",
       "3  6955000.0    866.0  테이트 여성 셀린니트 3종   0.0  3종  테이트  NaN  0  2019-01-01   \n",
       "4  6672000.0    865.0  테이트 남성 셀린니트 3종   0.0  3종  테이트  NaN  0  2019-01-01   \n",
       "\n",
       "   방송시간차  \n",
       "0    0.0  \n",
       "1    0.0  \n",
       "2    0.0  \n",
       "3    0.0  \n",
       "4    0.0  "
      ]
     },
     "execution_count": 136,
     "metadata": {},
     "output_type": "execute_result"
    }
   ],
   "source": [
    "sale.merge(timediff, on = ['방송일', 'NEW상품명'], how = 'left').head()"
   ]
  },
  {
   "cell_type": "markdown",
   "metadata": {
    "Collapsed": "false"
   },
   "source": [
    "# 2. 상품별 취급액 추세"
   ]
  },
  {
   "cell_type": "code",
   "execution_count": 154,
   "metadata": {
    "Collapsed": "false"
   },
   "outputs": [],
   "source": [
    "sale.loc[sale['NEW상품명'].isnull(), 'NEW상품명'] = sale.loc[sale['NEW상품명'].isnull(), '상품명']"
   ]
  },
  {
   "cell_type": "code",
   "execution_count": 160,
   "metadata": {
    "Collapsed": "false"
   },
   "outputs": [],
   "source": [
    "sale['방송월'] = sale['방송일시'].dt.month"
   ]
  },
  {
   "cell_type": "code",
   "execution_count": 203,
   "metadata": {
    "Collapsed": "false"
   },
   "outputs": [],
   "source": [
    "y = list(np.log(sale.loc[sale['NEW상품명'] == '안동간고등어 20팩', '취급액']))\n",
    "x = np.arange(len(y))"
   ]
  },
  {
   "cell_type": "code",
   "execution_count": 204,
   "metadata": {
    "Collapsed": "false"
   },
   "outputs": [],
   "source": [
    "z = np.polyfit(x, y, 1)"
   ]
  },
  {
   "cell_type": "code",
   "execution_count": 232,
   "metadata": {
    "Collapsed": "false"
   },
   "outputs": [
    {
     "data": {
      "text/plain": [
       "[<matplotlib.lines.Line2D at 0x7feeb5612b10>]"
      ]
     },
     "execution_count": 232,
     "metadata": {},
     "output_type": "execute_result"
    },
    {
     "data": {
      "image/png": "[encoded data removed]",
      "text/plain": [
       "<Figure size 576x396 with 1 Axes>"
      ]
     },
     "metadata": {},
     "output_type": "display_data"
    }
   ],
   "source": [
    "plt.plot(y)"
   ]
  },
  {
   "cell_type": "code",
   "execution_count": 459,
   "metadata": {
    "Collapsed": "false"
   },
   "outputs": [],
   "source": [
    "y = sale.loc[sale['NEW상품명'] == '안동간고등어 20팩', ['방송일', '취급액']].groupby('방송일')['취급액'].sum()"
   ]
  },
  {
   "cell_type": "code",
   "execution_count": 272,
   "metadata": {
    "Collapsed": "false"
   },
   "outputs": [
    {
     "ename": "LinAlgError",
     "evalue": "SVD did not converge in Linear Least Squares",
     "output_type": "error",
     "traceback": [
      "\u001b[0;31m---------------------------------------------------------------------------\u001b[0m",
      "\u001b[0;31mLinAlgError\u001b[0m                               Traceback (most recent call last)",
      "\u001b[0;32m<ipython-input-272-d30984366e7a>\u001b[0m in \u001b[0;36m<module>\u001b[0;34m\u001b[0m\n\u001b[1;32m      3\u001b[0m     \u001b[0my\u001b[0m \u001b[0;34m=\u001b[0m \u001b[0mlist\u001b[0m\u001b[0;34m(\u001b[0m\u001b[0msale\u001b[0m\u001b[0;34m.\u001b[0m\u001b[0mloc\u001b[0m\u001b[0;34m[\u001b[0m\u001b[0msale\u001b[0m\u001b[0;34m[\u001b[0m\u001b[0;34m'NEW상품명'\u001b[0m\u001b[0;34m]\u001b[0m \u001b[0;34m==\u001b[0m \u001b[0mc\u001b[0m\u001b[0;34m,\u001b[0m \u001b[0;34m'취급액'\u001b[0m\u001b[0;34m]\u001b[0m\u001b[0;34m)\u001b[0m\u001b[0;34m\u001b[0m\u001b[0;34m\u001b[0m\u001b[0m\n\u001b[1;32m      4\u001b[0m     \u001b[0mx\u001b[0m \u001b[0;34m=\u001b[0m \u001b[0mnp\u001b[0m\u001b[0;34m.\u001b[0m\u001b[0marange\u001b[0m\u001b[0;34m(\u001b[0m\u001b[0mlen\u001b[0m\u001b[0;34m(\u001b[0m\u001b[0my\u001b[0m\u001b[0;34m)\u001b[0m\u001b[0;34m)\u001b[0m\u001b[0;34m\u001b[0m\u001b[0;34m\u001b[0m\u001b[0m\n\u001b[0;32m----> 5\u001b[0;31m     \u001b[0mz\u001b[0m \u001b[0;34m=\u001b[0m \u001b[0mnp\u001b[0m\u001b[0;34m.\u001b[0m\u001b[0mpolyfit\u001b[0m\u001b[0;34m(\u001b[0m\u001b[0mx\u001b[0m\u001b[0;34m,\u001b[0m \u001b[0my\u001b[0m\u001b[0;34m,\u001b[0m \u001b[0;36m1\u001b[0m\u001b[0;34m)\u001b[0m\u001b[0;34m[\u001b[0m\u001b[0;36m0\u001b[0m\u001b[0;34m]\u001b[0m\u001b[0;34m\u001b[0m\u001b[0;34m\u001b[0m\u001b[0m\n\u001b[0m\u001b[1;32m      6\u001b[0m \u001b[0;34m\u001b[0m\u001b[0m\n\u001b[1;32m      7\u001b[0m     \u001b[0mlog_y\u001b[0m \u001b[0;34m=\u001b[0m \u001b[0mlist\u001b[0m\u001b[0;34m(\u001b[0m\u001b[0mnp\u001b[0m\u001b[0;34m.\u001b[0m\u001b[0mlog\u001b[0m\u001b[0;34m(\u001b[0m\u001b[0msale\u001b[0m\u001b[0;34m.\u001b[0m\u001b[0mloc\u001b[0m\u001b[0;34m[\u001b[0m\u001b[0msale\u001b[0m\u001b[0;34m[\u001b[0m\u001b[0;34m'NEW상품명'\u001b[0m\u001b[0;34m]\u001b[0m \u001b[0;34m==\u001b[0m \u001b[0mc\u001b[0m\u001b[0;34m,\u001b[0m \u001b[0;34m'취급액'\u001b[0m\u001b[0;34m]\u001b[0m\u001b[0;34m)\u001b[0m\u001b[0;34m)\u001b[0m\u001b[0;34m\u001b[0m\u001b[0;34m\u001b[0m\u001b[0m\n",
      "\u001b[0;32m<__array_function__ internals>\u001b[0m in \u001b[0;36mpolyfit\u001b[0;34m(*args, **kwargs)\u001b[0m\n",
      "\u001b[0;32m~/opt/anaconda3/lib/python3.7/site-packages/numpy/lib/polynomial.py\u001b[0m in \u001b[0;36mpolyfit\u001b[0;34m(x, y, deg, rcond, full, w, cov)\u001b[0m\n\u001b[1;32m    629\u001b[0m     \u001b[0mscale\u001b[0m \u001b[0;34m=\u001b[0m \u001b[0mNX\u001b[0m\u001b[0;34m.\u001b[0m\u001b[0msqrt\u001b[0m\u001b[0;34m(\u001b[0m\u001b[0;34m(\u001b[0m\u001b[0mlhs\u001b[0m\u001b[0;34m*\u001b[0m\u001b[0mlhs\u001b[0m\u001b[0;34m)\u001b[0m\u001b[0;34m.\u001b[0m\u001b[0msum\u001b[0m\u001b[0;34m(\u001b[0m\u001b[0maxis\u001b[0m\u001b[0;34m=\u001b[0m\u001b[0;36m0\u001b[0m\u001b[0;34m)\u001b[0m\u001b[0;34m)\u001b[0m\u001b[0;34m\u001b[0m\u001b[0;34m\u001b[0m\u001b[0m\n\u001b[1;32m    630\u001b[0m     \u001b[0mlhs\u001b[0m \u001b[0;34m/=\u001b[0m \u001b[0mscale\u001b[0m\u001b[0;34m\u001b[0m\u001b[0;34m\u001b[0m\u001b[0m\n\u001b[0;32m--> 631\u001b[0;31m     \u001b[0mc\u001b[0m\u001b[0;34m,\u001b[0m \u001b[0mresids\u001b[0m\u001b[0;34m,\u001b[0m \u001b[0mrank\u001b[0m\u001b[0;34m,\u001b[0m \u001b[0ms\u001b[0m \u001b[0;34m=\u001b[0m \u001b[0mlstsq\u001b[0m\u001b[0;34m(\u001b[0m\u001b[0mlhs\u001b[0m\u001b[0;34m,\u001b[0m \u001b[0mrhs\u001b[0m\u001b[0;34m,\u001b[0m \u001b[0mrcond\u001b[0m\u001b[0;34m)\u001b[0m\u001b[0;34m\u001b[0m\u001b[0;34m\u001b[0m\u001b[0m\n\u001b[0m\u001b[1;32m    632\u001b[0m     \u001b[0mc\u001b[0m \u001b[0;34m=\u001b[0m \u001b[0;34m(\u001b[0m\u001b[0mc\u001b[0m\u001b[0;34m.\u001b[0m\u001b[0mT\u001b[0m\u001b[0;34m/\u001b[0m\u001b[0mscale\u001b[0m\u001b[0;34m)\u001b[0m\u001b[0;34m.\u001b[0m\u001b[0mT\u001b[0m  \u001b[0;31m# broadcast scale coefficients\u001b[0m\u001b[0;34m\u001b[0m\u001b[0;34m\u001b[0m\u001b[0m\n\u001b[1;32m    633\u001b[0m \u001b[0;34m\u001b[0m\u001b[0m\n",
      "\u001b[0;32m<__array_function__ internals>\u001b[0m in \u001b[0;36mlstsq\u001b[0;34m(*args, **kwargs)\u001b[0m\n",
      "\u001b[0;32m~/opt/anaconda3/lib/python3.7/site-packages/numpy/linalg/linalg.py\u001b[0m in \u001b[0;36mlstsq\u001b[0;34m(a, b, rcond)\u001b[0m\n\u001b[1;32m   2257\u001b[0m         \u001b[0;31m# lapack can't handle n_rhs = 0 - so allocate the array one larger in that axis\u001b[0m\u001b[0;34m\u001b[0m\u001b[0;34m\u001b[0m\u001b[0;34m\u001b[0m\u001b[0m\n\u001b[1;32m   2258\u001b[0m         \u001b[0mb\u001b[0m \u001b[0;34m=\u001b[0m \u001b[0mzeros\u001b[0m\u001b[0;34m(\u001b[0m\u001b[0mb\u001b[0m\u001b[0;34m.\u001b[0m\u001b[0mshape\u001b[0m\u001b[0;34m[\u001b[0m\u001b[0;34m:\u001b[0m\u001b[0;34m-\u001b[0m\u001b[0;36m2\u001b[0m\u001b[0;34m]\u001b[0m \u001b[0;34m+\u001b[0m \u001b[0;34m(\u001b[0m\u001b[0mm\u001b[0m\u001b[0;34m,\u001b[0m \u001b[0mn_rhs\u001b[0m \u001b[0;34m+\u001b[0m \u001b[0;36m1\u001b[0m\u001b[0;34m)\u001b[0m\u001b[0;34m,\u001b[0m \u001b[0mdtype\u001b[0m\u001b[0;34m=\u001b[0m\u001b[0mb\u001b[0m\u001b[0;34m.\u001b[0m\u001b[0mdtype\u001b[0m\u001b[0;34m)\u001b[0m\u001b[0;34m\u001b[0m\u001b[0;34m\u001b[0m\u001b[0m\n\u001b[0;32m-> 2259\u001b[0;31m     \u001b[0mx\u001b[0m\u001b[0;34m,\u001b[0m \u001b[0mresids\u001b[0m\u001b[0;34m,\u001b[0m \u001b[0mrank\u001b[0m\u001b[0;34m,\u001b[0m \u001b[0ms\u001b[0m \u001b[0;34m=\u001b[0m \u001b[0mgufunc\u001b[0m\u001b[0;34m(\u001b[0m\u001b[0ma\u001b[0m\u001b[0;34m,\u001b[0m \u001b[0mb\u001b[0m\u001b[0;34m,\u001b[0m \u001b[0mrcond\u001b[0m\u001b[0;34m,\u001b[0m \u001b[0msignature\u001b[0m\u001b[0;34m=\u001b[0m\u001b[0msignature\u001b[0m\u001b[0;34m,\u001b[0m \u001b[0mextobj\u001b[0m\u001b[0;34m=\u001b[0m\u001b[0mextobj\u001b[0m\u001b[0;34m)\u001b[0m\u001b[0;34m\u001b[0m\u001b[0;34m\u001b[0m\u001b[0m\n\u001b[0m\u001b[1;32m   2260\u001b[0m     \u001b[0;32mif\u001b[0m \u001b[0mm\u001b[0m \u001b[0;34m==\u001b[0m \u001b[0;36m0\u001b[0m\u001b[0;34m:\u001b[0m\u001b[0;34m\u001b[0m\u001b[0;34m\u001b[0m\u001b[0m\n\u001b[1;32m   2261\u001b[0m         \u001b[0mx\u001b[0m\u001b[0;34m[\u001b[0m\u001b[0;34m...\u001b[0m\u001b[0;34m]\u001b[0m \u001b[0;34m=\u001b[0m \u001b[0;36m0\u001b[0m\u001b[0;34m\u001b[0m\u001b[0;34m\u001b[0m\u001b[0m\n",
      "\u001b[0;32m~/opt/anaconda3/lib/python3.7/site-packages/numpy/linalg/linalg.py\u001b[0m in \u001b[0;36m_raise_linalgerror_lstsq\u001b[0;34m(err, flag)\u001b[0m\n\u001b[1;32m    107\u001b[0m \u001b[0;34m\u001b[0m\u001b[0m\n\u001b[1;32m    108\u001b[0m \u001b[0;32mdef\u001b[0m \u001b[0m_raise_linalgerror_lstsq\u001b[0m\u001b[0;34m(\u001b[0m\u001b[0merr\u001b[0m\u001b[0;34m,\u001b[0m \u001b[0mflag\u001b[0m\u001b[0;34m)\u001b[0m\u001b[0;34m:\u001b[0m\u001b[0;34m\u001b[0m\u001b[0;34m\u001b[0m\u001b[0m\n\u001b[0;32m--> 109\u001b[0;31m     \u001b[0;32mraise\u001b[0m \u001b[0mLinAlgError\u001b[0m\u001b[0;34m(\u001b[0m\u001b[0;34m\"SVD did not converge in Linear Least Squares\"\u001b[0m\u001b[0;34m)\u001b[0m\u001b[0;34m\u001b[0m\u001b[0;34m\u001b[0m\u001b[0m\n\u001b[0m\u001b[1;32m    110\u001b[0m \u001b[0;34m\u001b[0m\u001b[0m\n\u001b[1;32m    111\u001b[0m \u001b[0;32mdef\u001b[0m \u001b[0mget_linalg_error_extobj\u001b[0m\u001b[0;34m(\u001b[0m\u001b[0mcallback\u001b[0m\u001b[0;34m)\u001b[0m\u001b[0;34m:\u001b[0m\u001b[0;34m\u001b[0m\u001b[0;34m\u001b[0m\u001b[0m\n",
      "\u001b[0;31mLinAlgError\u001b[0m: SVD did not converge in Linear Least Squares"
     ]
    }
   ],
   "source": [
    "total = []\n",
    "for c in sale['NEW상품명'].unique():\n",
    "    y = list(sale.loc[sale['NEW상품명'] == c, '취급액'])\n",
    "    x = np.arange(len(y))\n",
    "    z = np.polyfit(x, y, 1)[0]\n",
    "    \n",
    "    log_y = list(np.log(sale.loc[sale['NEW상품명'] == c, '취급액']))\n",
    "    log_x = np.arange(len(y))\n",
    "    log_z = np.polyfit(log_x, log_y, 1)[0]\n",
    "    \n",
    "    total.append([z, log_z])"
   ]
  },
  {
   "cell_type": "markdown",
   "metadata": {
    "Collapsed": "false"
   },
   "source": [
    "# 주문량, 할인율"
   ]
  },
  {
   "cell_type": "code",
   "execution_count": 6,
   "metadata": {
    "Collapsed": "false"
   },
   "outputs": [
    {
     "data": {
      "text/plain": [
       "(1364, 15)"
      ]
     },
     "execution_count": 6,
     "metadata": {},
     "output_type": "execute_result"
    }
   ],
   "source": [
    "item.shape"
   ]
  },
  {
   "cell_type": "code",
   "execution_count": 8,
   "metadata": {
    "Collapsed": "false"
   },
   "outputs": [
    {
     "data": {
      "text/html": [
       "<div>\n",
       "<style scoped>\n",
       "    .dataframe tbody tr th:only-of-type {\n",
       "        vertical-align: middle;\n",
       "    }\n",
       "\n",
       "    .dataframe tbody tr th {\n",
       "        vertical-align: top;\n",
       "    }\n",
       "\n",
       "    .dataframe thead th {\n",
       "        text-align: right;\n",
       "    }\n",
       "</style>\n",
       "<table border=\"1\" class=\"dataframe\">\n",
       "  <thead>\n",
       "    <tr style=\"text-align: right;\">\n",
       "      <th></th>\n",
       "      <th>NEW상품코드</th>\n",
       "      <th>NEW상품명</th>\n",
       "      <th>상품군</th>\n",
       "      <th>NEW_최고판매단가</th>\n",
       "      <th>NEW_최저판매단가</th>\n",
       "      <th>NEW_평균판매단가</th>\n",
       "      <th>NEW_중간판매단가</th>\n",
       "      <th>NEW_최고-최저</th>\n",
       "      <th>NEW_분산</th>\n",
       "      <th>NEW_표준편차</th>\n",
       "      <th>상품군_가격대</th>\n",
       "      <th>전체_가격대</th>\n",
       "      <th>상품명다시</th>\n",
       "      <th>브랜드</th>\n",
       "      <th>단위</th>\n",
       "    </tr>\n",
       "  </thead>\n",
       "  <tbody>\n",
       "    <tr>\n",
       "      <th>1129</th>\n",
       "      <td>1129</td>\n",
       "      <td>LG 울트라HD TV 70인치</td>\n",
       "      <td>가전</td>\n",
       "      <td>2990000</td>\n",
       "      <td>2400000</td>\n",
       "      <td>2670000.000</td>\n",
       "      <td>2690000</td>\n",
       "      <td>590000</td>\n",
       "      <td>43093333333.333</td>\n",
       "      <td>207589.338</td>\n",
       "      <td>2</td>\n",
       "      <td>4</td>\n",
       "      <td>울트라HD TV</td>\n",
       "      <td>LG</td>\n",
       "      <td>70인치</td>\n",
       "    </tr>\n",
       "    <tr>\n",
       "      <th>1126</th>\n",
       "      <td>1126</td>\n",
       "      <td>LG 울트라HD TV 75인치</td>\n",
       "      <td>가전</td>\n",
       "      <td>3190000</td>\n",
       "      <td>2700000</td>\n",
       "      <td>2925384.615</td>\n",
       "      <td>2900000</td>\n",
       "      <td>490000</td>\n",
       "      <td>28026923076.923</td>\n",
       "      <td>167412.434</td>\n",
       "      <td>2</td>\n",
       "      <td>4</td>\n",
       "      <td>울트라HD TV</td>\n",
       "      <td>LG</td>\n",
       "      <td>75인치</td>\n",
       "    </tr>\n",
       "    <tr>\n",
       "      <th>683</th>\n",
       "      <td>683</td>\n",
       "      <td>이누스바스 시공패키지</td>\n",
       "      <td>가구</td>\n",
       "      <td>3150000</td>\n",
       "      <td>2682000</td>\n",
       "      <td>2911750.000</td>\n",
       "      <td>2907500</td>\n",
       "      <td>468000</td>\n",
       "      <td>40032250000.000</td>\n",
       "      <td>200080.609</td>\n",
       "      <td>2</td>\n",
       "      <td>4</td>\n",
       "      <td>시공패키지</td>\n",
       "      <td>이누스바스</td>\n",
       "      <td>NaN</td>\n",
       "    </tr>\n",
       "    <tr>\n",
       "      <th>1128</th>\n",
       "      <td>1128</td>\n",
       "      <td>LG 울트라HD TV 65인치</td>\n",
       "      <td>가전</td>\n",
       "      <td>2130000</td>\n",
       "      <td>1690000</td>\n",
       "      <td>1863684.211</td>\n",
       "      <td>1900000</td>\n",
       "      <td>440000</td>\n",
       "      <td>23613450292.398</td>\n",
       "      <td>153666.686</td>\n",
       "      <td>2</td>\n",
       "      <td>4</td>\n",
       "      <td>울트라HD TV</td>\n",
       "      <td>LG</td>\n",
       "      <td>65인치</td>\n",
       "    </tr>\n",
       "    <tr>\n",
       "      <th>998</th>\n",
       "      <td>998</td>\n",
       "      <td>한샘 하이바스 내추럴 하부장 + 키큰장</td>\n",
       "      <td>가구</td>\n",
       "      <td>3990000</td>\n",
       "      <td>3591000</td>\n",
       "      <td>3790500.000</td>\n",
       "      <td>3790500</td>\n",
       "      <td>399000</td>\n",
       "      <td>53067000000.000</td>\n",
       "      <td>230362.757</td>\n",
       "      <td>2</td>\n",
       "      <td>4</td>\n",
       "      <td>하이바스 내추럴</td>\n",
       "      <td>한샘</td>\n",
       "      <td>하부장 + 키큰장</td>\n",
       "    </tr>\n",
       "    <tr>\n",
       "      <th>76</th>\n",
       "      <td>76</td>\n",
       "      <td>대우전자 벽걸이 에어컨</td>\n",
       "      <td>가전</td>\n",
       "      <td>849000</td>\n",
       "      <td>459000</td>\n",
       "      <td>662333.333</td>\n",
       "      <td>654000</td>\n",
       "      <td>390000</td>\n",
       "      <td>25587878787.879</td>\n",
       "      <td>159962.117</td>\n",
       "      <td>0</td>\n",
       "      <td>4</td>\n",
       "      <td>벽걸이 에어컨</td>\n",
       "      <td>대우전자</td>\n",
       "      <td>NaN</td>\n",
       "    </tr>\n",
       "    <tr>\n",
       "      <th>997</th>\n",
       "      <td>997</td>\n",
       "      <td>한샘 하이바스 내추럴 기본형 + 키큰장</td>\n",
       "      <td>가구</td>\n",
       "      <td>3690000</td>\n",
       "      <td>3321000</td>\n",
       "      <td>3505500.000</td>\n",
       "      <td>3505500</td>\n",
       "      <td>369000</td>\n",
       "      <td>45387000000.000</td>\n",
       "      <td>213042.249</td>\n",
       "      <td>2</td>\n",
       "      <td>4</td>\n",
       "      <td>하이바스 내추럴</td>\n",
       "      <td>한샘</td>\n",
       "      <td>기본형 + 키큰장</td>\n",
       "    </tr>\n",
       "    <tr>\n",
       "      <th>999</th>\n",
       "      <td>999</td>\n",
       "      <td>한샘 하이바스 내추럴 하부장형</td>\n",
       "      <td>가구</td>\n",
       "      <td>3690000</td>\n",
       "      <td>3321000</td>\n",
       "      <td>3505500.000</td>\n",
       "      <td>3505500</td>\n",
       "      <td>369000</td>\n",
       "      <td>45387000000.000</td>\n",
       "      <td>213042.249</td>\n",
       "      <td>2</td>\n",
       "      <td>4</td>\n",
       "      <td>하이바스 내추럴</td>\n",
       "      <td>한샘</td>\n",
       "      <td>하부장형</td>\n",
       "    </tr>\n",
       "    <tr>\n",
       "      <th>1138</th>\n",
       "      <td>1138</td>\n",
       "      <td>LG 휘센 씽큐 에어컨 2IN1형</td>\n",
       "      <td>가전</td>\n",
       "      <td>2549000</td>\n",
       "      <td>2209000</td>\n",
       "      <td>2354000.000</td>\n",
       "      <td>2299000</td>\n",
       "      <td>340000</td>\n",
       "      <td>18916666666.667</td>\n",
       "      <td>137537.874</td>\n",
       "      <td>2</td>\n",
       "      <td>4</td>\n",
       "      <td>휘센 씽큐 에어컨 2IN1</td>\n",
       "      <td>LG</td>\n",
       "      <td>NaN</td>\n",
       "    </tr>\n",
       "    <tr>\n",
       "      <th>1137</th>\n",
       "      <td>1137</td>\n",
       "      <td>LG 퓨리케어 공기청정기</td>\n",
       "      <td>가전</td>\n",
       "      <td>1149000</td>\n",
       "      <td>809000</td>\n",
       "      <td>979000.000</td>\n",
       "      <td>979000</td>\n",
       "      <td>340000</td>\n",
       "      <td>23533333333.333</td>\n",
       "      <td>153405.780</td>\n",
       "      <td>1</td>\n",
       "      <td>4</td>\n",
       "      <td>퓨리케어 공기청정기</td>\n",
       "      <td>LG</td>\n",
       "      <td>NaN</td>\n",
       "    </tr>\n",
       "    <tr>\n",
       "      <th>996</th>\n",
       "      <td>996</td>\n",
       "      <td>한샘 하이바스 내추럴 기본형</td>\n",
       "      <td>가구</td>\n",
       "      <td>3390000</td>\n",
       "      <td>3051000</td>\n",
       "      <td>3220500.000</td>\n",
       "      <td>3220500</td>\n",
       "      <td>339000</td>\n",
       "      <td>38307000000.000</td>\n",
       "      <td>195721.741</td>\n",
       "      <td>2</td>\n",
       "      <td>4</td>\n",
       "      <td>하이바스 내추럴</td>\n",
       "      <td>한샘</td>\n",
       "      <td>기본형</td>\n",
       "    </tr>\n",
       "    <tr>\n",
       "      <th>1120</th>\n",
       "      <td>1120</td>\n",
       "      <td>LG 노트북 그램 15인치</td>\n",
       "      <td>가전</td>\n",
       "      <td>1649000</td>\n",
       "      <td>1330000</td>\n",
       "      <td>1489500.000</td>\n",
       "      <td>1489500</td>\n",
       "      <td>319000</td>\n",
       "      <td>20180333333.333</td>\n",
       "      <td>142057.500</td>\n",
       "      <td>1</td>\n",
       "      <td>4</td>\n",
       "      <td>노트북 그램</td>\n",
       "      <td>LG</td>\n",
       "      <td>15인치</td>\n",
       "    </tr>\n",
       "    <tr>\n",
       "      <th>443</th>\n",
       "      <td>443</td>\n",
       "      <td>삼성 UHD TV 75인치</td>\n",
       "      <td>가전</td>\n",
       "      <td>2880000</td>\n",
       "      <td>2600000</td>\n",
       "      <td>2765000.000</td>\n",
       "      <td>2740000</td>\n",
       "      <td>280000</td>\n",
       "      <td>11400000000.000</td>\n",
       "      <td>106770.783</td>\n",
       "      <td>2</td>\n",
       "      <td>4</td>\n",
       "      <td>UHD TV</td>\n",
       "      <td>삼성</td>\n",
       "      <td>75인치</td>\n",
       "    </tr>\n",
       "    <tr>\n",
       "      <th>419</th>\n",
       "      <td>419</td>\n",
       "      <td>삼성 4도어 푸드쇼케이스 냉장고</td>\n",
       "      <td>가전</td>\n",
       "      <td>1669000</td>\n",
       "      <td>1419000</td>\n",
       "      <td>1544000.000</td>\n",
       "      <td>1544000</td>\n",
       "      <td>250000</td>\n",
       "      <td>10833333333.333</td>\n",
       "      <td>104083.300</td>\n",
       "      <td>1</td>\n",
       "      <td>4</td>\n",
       "      <td>4도어 푸드쇼케이스 냉장고</td>\n",
       "      <td>삼성</td>\n",
       "      <td>NaN</td>\n",
       "    </tr>\n",
       "    <tr>\n",
       "      <th>428</th>\n",
       "      <td>428</td>\n",
       "      <td>삼성 무풍클래식 홈멀티에어컨</td>\n",
       "      <td>가전</td>\n",
       "      <td>2749000</td>\n",
       "      <td>2509000</td>\n",
       "      <td>2629000.000</td>\n",
       "      <td>2629000</td>\n",
       "      <td>240000</td>\n",
       "      <td>9866666666.667</td>\n",
       "      <td>99331.096</td>\n",
       "      <td>2</td>\n",
       "      <td>4</td>\n",
       "      <td>무풍클래식 홈멀티에어컨</td>\n",
       "      <td>삼성</td>\n",
       "      <td>NaN</td>\n",
       "    </tr>\n",
       "    <tr>\n",
       "      <th>427</th>\n",
       "      <td>427</td>\n",
       "      <td>삼성 무풍클래식 스탠드 에어컨</td>\n",
       "      <td>가전</td>\n",
       "      <td>2349000</td>\n",
       "      <td>2109000</td>\n",
       "      <td>2229000.000</td>\n",
       "      <td>2229000</td>\n",
       "      <td>240000</td>\n",
       "      <td>9866666666.667</td>\n",
       "      <td>99331.096</td>\n",
       "      <td>2</td>\n",
       "      <td>4</td>\n",
       "      <td>무풍클래식 스탠드에어컨</td>\n",
       "      <td>삼성</td>\n",
       "      <td>NaN</td>\n",
       "    </tr>\n",
       "    <tr>\n",
       "      <th>1139</th>\n",
       "      <td>1139</td>\n",
       "      <td>LG 휘센 씽큐 에어컨 스탠드형</td>\n",
       "      <td>가전</td>\n",
       "      <td>2139000</td>\n",
       "      <td>1899000</td>\n",
       "      <td>2004000.000</td>\n",
       "      <td>1989000</td>\n",
       "      <td>240000</td>\n",
       "      <td>8250000000.000</td>\n",
       "      <td>90829.511</td>\n",
       "      <td>2</td>\n",
       "      <td>4</td>\n",
       "      <td>휘센 씽큐 에어컨 스탠드형</td>\n",
       "      <td>LG</td>\n",
       "      <td>NaN</td>\n",
       "    </tr>\n",
       "    <tr>\n",
       "      <th>432</th>\n",
       "      <td>432</td>\n",
       "      <td>삼성 삼성 건조기 9kg</td>\n",
       "      <td>가전</td>\n",
       "      <td>1340000</td>\n",
       "      <td>1100000</td>\n",
       "      <td>1228333.333</td>\n",
       "      <td>1225000</td>\n",
       "      <td>240000</td>\n",
       "      <td>7096666666.667</td>\n",
       "      <td>84241.716</td>\n",
       "      <td>1</td>\n",
       "      <td>4</td>\n",
       "      <td>삼성 건조기</td>\n",
       "      <td>삼성</td>\n",
       "      <td>9kg</td>\n",
       "    </tr>\n",
       "    <tr>\n",
       "      <th>1127</th>\n",
       "      <td>1127</td>\n",
       "      <td>LG 울트라HD TV 55인치</td>\n",
       "      <td>가전</td>\n",
       "      <td>1440000</td>\n",
       "      <td>1200000</td>\n",
       "      <td>1301052.632</td>\n",
       "      <td>1300000</td>\n",
       "      <td>240000</td>\n",
       "      <td>7876608187.135</td>\n",
       "      <td>88750.257</td>\n",
       "      <td>1</td>\n",
       "      <td>4</td>\n",
       "      <td>울트라HD TV</td>\n",
       "      <td>LG</td>\n",
       "      <td>55인치</td>\n",
       "    </tr>\n",
       "    <tr>\n",
       "      <th>992</th>\n",
       "      <td>992</td>\n",
       "      <td>한샘 모데나 프리미엄 슬라이딩 붙박이장 4.2m</td>\n",
       "      <td>가구</td>\n",
       "      <td>2299000</td>\n",
       "      <td>2069100</td>\n",
       "      <td>2184050.000</td>\n",
       "      <td>2184050</td>\n",
       "      <td>229900</td>\n",
       "      <td>26427005000.000</td>\n",
       "      <td>162563.849</td>\n",
       "      <td>2</td>\n",
       "      <td>4</td>\n",
       "      <td>모데나 프리미엄 슬라이딩 붙박이장</td>\n",
       "      <td>한샘</td>\n",
       "      <td>4.2m</td>\n",
       "    </tr>\n",
       "  </tbody>\n",
       "</table>\n",
       "</div>"
      ],
      "text/plain": [
       "      NEW상품코드                      NEW상품명 상품군  NEW_최고판매단가  NEW_최저판매단가  \\\n",
       "1129     1129            LG 울트라HD TV 70인치  가전     2990000     2400000   \n",
       "1126     1126            LG 울트라HD TV 75인치  가전     3190000     2700000   \n",
       "683       683                 이누스바스 시공패키지  가구     3150000     2682000   \n",
       "1128     1128            LG 울트라HD TV 65인치  가전     2130000     1690000   \n",
       "998       998       한샘 하이바스 내추럴 하부장 + 키큰장  가구     3990000     3591000   \n",
       "76         76                대우전자 벽걸이 에어컨  가전      849000      459000   \n",
       "997       997       한샘 하이바스 내추럴 기본형 + 키큰장  가구     3690000     3321000   \n",
       "999       999            한샘 하이바스 내추럴 하부장형  가구     3690000     3321000   \n",
       "1138     1138          LG 휘센 씽큐 에어컨 2IN1형  가전     2549000     2209000   \n",
       "1137     1137               LG 퓨리케어 공기청정기  가전     1149000      809000   \n",
       "996       996             한샘 하이바스 내추럴 기본형  가구     3390000     3051000   \n",
       "1120     1120              LG 노트북 그램 15인치  가전     1649000     1330000   \n",
       "443       443              삼성 UHD TV 75인치  가전     2880000     2600000   \n",
       "419       419           삼성 4도어 푸드쇼케이스 냉장고  가전     1669000     1419000   \n",
       "428       428             삼성 무풍클래식 홈멀티에어컨  가전     2749000     2509000   \n",
       "427       427            삼성 무풍클래식 스탠드 에어컨  가전     2349000     2109000   \n",
       "1139     1139           LG 휘센 씽큐 에어컨 스탠드형  가전     2139000     1899000   \n",
       "432       432               삼성 삼성 건조기 9kg  가전     1340000     1100000   \n",
       "1127     1127            LG 울트라HD TV 55인치  가전     1440000     1200000   \n",
       "992       992  한샘 모데나 프리미엄 슬라이딩 붙박이장 4.2m  가구     2299000     2069100   \n",
       "\n",
       "      NEW_평균판매단가  NEW_중간판매단가  NEW_최고-최저          NEW_분산   NEW_표준편차  상품군_가격대  \\\n",
       "1129 2670000.000     2690000     590000 43093333333.333 207589.338        2   \n",
       "1126 2925384.615     2900000     490000 28026923076.923 167412.434        2   \n",
       "683  2911750.000     2907500     468000 40032250000.000 200080.609        2   \n",
       "1128 1863684.211     1900000     440000 23613450292.398 153666.686        2   \n",
       "998  3790500.000     3790500     399000 53067000000.000 230362.757        2   \n",
       "76    662333.333      654000     390000 25587878787.879 159962.117        0   \n",
       "997  3505500.000     3505500     369000 45387000000.000 213042.249        2   \n",
       "999  3505500.000     3505500     369000 45387000000.000 213042.249        2   \n",
       "1138 2354000.000     2299000     340000 18916666666.667 137537.874        2   \n",
       "1137  979000.000      979000     340000 23533333333.333 153405.780        1   \n",
       "996  3220500.000     3220500     339000 38307000000.000 195721.741        2   \n",
       "1120 1489500.000     1489500     319000 20180333333.333 142057.500        1   \n",
       "443  2765000.000     2740000     280000 11400000000.000 106770.783        2   \n",
       "419  1544000.000     1544000     250000 10833333333.333 104083.300        1   \n",
       "428  2629000.000     2629000     240000  9866666666.667  99331.096        2   \n",
       "427  2229000.000     2229000     240000  9866666666.667  99331.096        2   \n",
       "1139 2004000.000     1989000     240000  8250000000.000  90829.511        2   \n",
       "432  1228333.333     1225000     240000  7096666666.667  84241.716        1   \n",
       "1127 1301052.632     1300000     240000  7876608187.135  88750.257        1   \n",
       "992  2184050.000     2184050     229900 26427005000.000 162563.849        2   \n",
       "\n",
       "      전체_가격대               상품명다시    브랜드         단위  \n",
       "1129       4            울트라HD TV     LG       70인치  \n",
       "1126       4            울트라HD TV     LG       75인치  \n",
       "683        4               시공패키지  이누스바스        NaN  \n",
       "1128       4            울트라HD TV     LG       65인치  \n",
       "998        4            하이바스 내추럴     한샘  하부장 + 키큰장  \n",
       "76         4             벽걸이 에어컨   대우전자        NaN  \n",
       "997        4            하이바스 내추럴     한샘  기본형 + 키큰장  \n",
       "999        4            하이바스 내추럴     한샘       하부장형  \n",
       "1138       4      휘센 씽큐 에어컨 2IN1     LG        NaN  \n",
       "1137       4          퓨리케어 공기청정기     LG        NaN  \n",
       "996        4            하이바스 내추럴     한샘        기본형  \n",
       "1120       4              노트북 그램     LG       15인치  \n",
       "443        4              UHD TV     삼성       75인치  \n",
       "419        4      4도어 푸드쇼케이스 냉장고     삼성        NaN  \n",
       "428        4        무풍클래식 홈멀티에어컨     삼성        NaN  \n",
       "427        4        무풍클래식 스탠드에어컨     삼성        NaN  \n",
       "1139       4      휘센 씽큐 에어컨 스탠드형     LG        NaN  \n",
       "432        4              삼성 건조기     삼성        9kg  \n",
       "1127       4            울트라HD TV     LG       55인치  \n",
       "992        4  모데나 프리미엄 슬라이딩 붙박이장     한샘       4.2m  "
      ]
     },
     "execution_count": 8,
     "metadata": {},
     "output_type": "execute_result"
    }
   ],
   "source": [
    "item.sort_values('NEW_최고-최저', ascending = False).head(20)"
   ]
  },
  {
   "cell_type": "code",
   "execution_count": 9,
   "metadata": {
    "Collapsed": "false"
   },
   "outputs": [
    {
     "data": {
      "text/html": [
       "<div>\n",
       "<style scoped>\n",
       "    .dataframe tbody tr th:only-of-type {\n",
       "        vertical-align: middle;\n",
       "    }\n",
       "\n",
       "    .dataframe tbody tr th {\n",
       "        vertical-align: top;\n",
       "    }\n",
       "\n",
       "    .dataframe thead th {\n",
       "        text-align: right;\n",
       "    }\n",
       "</style>\n",
       "<table border=\"1\" class=\"dataframe\">\n",
       "  <thead>\n",
       "    <tr style=\"text-align: right;\">\n",
       "      <th></th>\n",
       "      <th>NEW상품코드</th>\n",
       "      <th>NEW상품명</th>\n",
       "      <th>상품군</th>\n",
       "      <th>NEW_최고판매단가</th>\n",
       "      <th>NEW_최저판매단가</th>\n",
       "      <th>NEW_평균판매단가</th>\n",
       "      <th>NEW_중간판매단가</th>\n",
       "      <th>NEW_최고-최저</th>\n",
       "      <th>NEW_분산</th>\n",
       "      <th>NEW_표준편차</th>\n",
       "      <th>상품군_가격대</th>\n",
       "      <th>전체_가격대</th>\n",
       "      <th>상품명다시</th>\n",
       "      <th>브랜드</th>\n",
       "      <th>단위</th>\n",
       "    </tr>\n",
       "  </thead>\n",
       "  <tbody>\n",
       "    <tr>\n",
       "      <th>33</th>\n",
       "      <td>33</td>\n",
       "      <td>글라스락 글라스락 퍼플 클래식 유리밀폐용기세트</td>\n",
       "      <td>주방</td>\n",
       "      <td>78000</td>\n",
       "      <td>58000</td>\n",
       "      <td>68000.000</td>\n",
       "      <td>68000</td>\n",
       "      <td>20000</td>\n",
       "      <td>200000000.000</td>\n",
       "      <td>14142.136</td>\n",
       "      <td>1</td>\n",
       "      <td>2</td>\n",
       "      <td>글라스락 퍼플 클래식 유리밀폐용기세트</td>\n",
       "      <td>글라스락</td>\n",
       "      <td>NaN</td>\n",
       "    </tr>\n",
       "    <tr>\n",
       "      <th>37</th>\n",
       "      <td>37</td>\n",
       "      <td>까사마루 접이식 의자</td>\n",
       "      <td>생활용품</td>\n",
       "      <td>39900</td>\n",
       "      <td>19900</td>\n",
       "      <td>29900.000</td>\n",
       "      <td>29900</td>\n",
       "      <td>20000</td>\n",
       "      <td>200000000.000</td>\n",
       "      <td>14142.136</td>\n",
       "      <td>0</td>\n",
       "      <td>0</td>\n",
       "      <td>접이식 의자</td>\n",
       "      <td>까사마루</td>\n",
       "      <td>NaN</td>\n",
       "    </tr>\n",
       "    <tr>\n",
       "      <th>65</th>\n",
       "      <td>65</td>\n",
       "      <td>뉴트리원 다이어트 구미</td>\n",
       "      <td>건강기능</td>\n",
       "      <td>79000</td>\n",
       "      <td>59000</td>\n",
       "      <td>69000.000</td>\n",
       "      <td>69000</td>\n",
       "      <td>20000</td>\n",
       "      <td>100000000.000</td>\n",
       "      <td>10000.000</td>\n",
       "      <td>1</td>\n",
       "      <td>2</td>\n",
       "      <td>다이어트 구미</td>\n",
       "      <td>뉴트리원</td>\n",
       "      <td>NaN</td>\n",
       "    </tr>\n",
       "    <tr>\n",
       "      <th>76</th>\n",
       "      <td>76</td>\n",
       "      <td>대우전자 벽걸이 에어컨</td>\n",
       "      <td>가전</td>\n",
       "      <td>849000</td>\n",
       "      <td>459000</td>\n",
       "      <td>662333.333</td>\n",
       "      <td>654000</td>\n",
       "      <td>390000</td>\n",
       "      <td>25587878787.879</td>\n",
       "      <td>159962.117</td>\n",
       "      <td>0</td>\n",
       "      <td>4</td>\n",
       "      <td>벽걸이 에어컨</td>\n",
       "      <td>대우전자</td>\n",
       "      <td>NaN</td>\n",
       "    </tr>\n",
       "    <tr>\n",
       "      <th>89</th>\n",
       "      <td>89</td>\n",
       "      <td>도스문도스 카이만 엠보 소가죽 체인 숄더백 1종</td>\n",
       "      <td>잡화</td>\n",
       "      <td>79000</td>\n",
       "      <td>59000</td>\n",
       "      <td>69000.000</td>\n",
       "      <td>69000</td>\n",
       "      <td>20000</td>\n",
       "      <td>100000000.000</td>\n",
       "      <td>10000.000</td>\n",
       "      <td>1</td>\n",
       "      <td>2</td>\n",
       "      <td>카이만 엠보 소가죽 체인 숄더백</td>\n",
       "      <td>도스문도스</td>\n",
       "      <td>1종</td>\n",
       "    </tr>\n",
       "    <tr>\n",
       "      <th>...</th>\n",
       "      <td>...</td>\n",
       "      <td>...</td>\n",
       "      <td>...</td>\n",
       "      <td>...</td>\n",
       "      <td>...</td>\n",
       "      <td>...</td>\n",
       "      <td>...</td>\n",
       "      <td>...</td>\n",
       "      <td>...</td>\n",
       "      <td>...</td>\n",
       "      <td>...</td>\n",
       "      <td>...</td>\n",
       "      <td>...</td>\n",
       "      <td>...</td>\n",
       "      <td>...</td>\n",
       "    </tr>\n",
       "    <tr>\n",
       "      <th>1157</th>\n",
       "      <td>1157</td>\n",
       "      <td>NNF 트레이닝 세트</td>\n",
       "      <td>의류</td>\n",
       "      <td>49000</td>\n",
       "      <td>29000</td>\n",
       "      <td>39000.000</td>\n",
       "      <td>39000</td>\n",
       "      <td>20000</td>\n",
       "      <td>100000000.000</td>\n",
       "      <td>10000.000</td>\n",
       "      <td>0</td>\n",
       "      <td>0</td>\n",
       "      <td>트레이닝 세트</td>\n",
       "      <td>NNF</td>\n",
       "      <td>NaN</td>\n",
       "    </tr>\n",
       "    <tr>\n",
       "      <th>1195</th>\n",
       "      <td>1195</td>\n",
       "      <td>거창 특등급 사과 10kg</td>\n",
       "      <td>농수축</td>\n",
       "      <td>43900</td>\n",
       "      <td>28900</td>\n",
       "      <td>36400.000</td>\n",
       "      <td>36400</td>\n",
       "      <td>15000</td>\n",
       "      <td>112500000.000</td>\n",
       "      <td>10606.602</td>\n",
       "      <td>1</td>\n",
       "      <td>0</td>\n",
       "      <td>거창 특등급 사과</td>\n",
       "      <td>NaN</td>\n",
       "      <td>10kg</td>\n",
       "    </tr>\n",
       "    <tr>\n",
       "      <th>1237</th>\n",
       "      <td>1237</td>\n",
       "      <td>더 커진 거창 특등급 사과 10kg</td>\n",
       "      <td>농수축</td>\n",
       "      <td>49900</td>\n",
       "      <td>32900</td>\n",
       "      <td>41400.000</td>\n",
       "      <td>41400</td>\n",
       "      <td>17000</td>\n",
       "      <td>144500000.000</td>\n",
       "      <td>12020.815</td>\n",
       "      <td>1</td>\n",
       "      <td>1</td>\n",
       "      <td>더 커진 거창 특등급 사과</td>\n",
       "      <td>NaN</td>\n",
       "      <td>10kg</td>\n",
       "    </tr>\n",
       "    <tr>\n",
       "      <th>1269</th>\n",
       "      <td>1269</td>\n",
       "      <td>송도순의 2세대 홈밀맷돌</td>\n",
       "      <td>주방</td>\n",
       "      <td>188000</td>\n",
       "      <td>149000</td>\n",
       "      <td>168250.000</td>\n",
       "      <td>168000</td>\n",
       "      <td>39000</td>\n",
       "      <td>320250000.000</td>\n",
       "      <td>17895.530</td>\n",
       "      <td>2</td>\n",
       "      <td>3</td>\n",
       "      <td>송도순의 2세대 홈밀맷돌</td>\n",
       "      <td>NaN</td>\n",
       "      <td>NaN</td>\n",
       "    </tr>\n",
       "    <tr>\n",
       "      <th>1279</th>\n",
       "      <td>1279</td>\n",
       "      <td>엘리자베스아덴 선글라스 2종</td>\n",
       "      <td>잡화</td>\n",
       "      <td>49900</td>\n",
       "      <td>39900</td>\n",
       "      <td>44900.000</td>\n",
       "      <td>44900</td>\n",
       "      <td>10000</td>\n",
       "      <td>50000000.000</td>\n",
       "      <td>7071.068</td>\n",
       "      <td>0</td>\n",
       "      <td>1</td>\n",
       "      <td>엘리자베스아덴 선글라스</td>\n",
       "      <td>NaN</td>\n",
       "      <td>2종</td>\n",
       "    </tr>\n",
       "  </tbody>\n",
       "</table>\n",
       "<p>91 rows × 15 columns</p>\n",
       "</div>"
      ],
      "text/plain": [
       "      NEW상품코드                      NEW상품명   상품군  NEW_최고판매단가  NEW_최저판매단가  \\\n",
       "33         33   글라스락 글라스락 퍼플 클래식 유리밀폐용기세트    주방       78000       58000   \n",
       "37         37                 까사마루 접이식 의자  생활용품       39900       19900   \n",
       "65         65                뉴트리원 다이어트 구미  건강기능       79000       59000   \n",
       "76         76                대우전자 벽걸이 에어컨    가전      849000      459000   \n",
       "89         89  도스문도스 카이만 엠보 소가죽 체인 숄더백 1종    잡화       79000       59000   \n",
       "...       ...                         ...   ...         ...         ...   \n",
       "1157     1157                 NNF 트레이닝 세트    의류       49000       29000   \n",
       "1195     1195              거창 특등급 사과 10kg   농수축       43900       28900   \n",
       "1237     1237         더 커진 거창 특등급 사과 10kg   농수축       49900       32900   \n",
       "1269     1269               송도순의 2세대 홈밀맷돌    주방      188000      149000   \n",
       "1279     1279             엘리자베스아덴 선글라스 2종    잡화       49900       39900   \n",
       "\n",
       "      NEW_평균판매단가  NEW_중간판매단가  NEW_최고-최저          NEW_분산   NEW_표준편차  상품군_가격대  \\\n",
       "33     68000.000       68000      20000   200000000.000  14142.136        1   \n",
       "37     29900.000       29900      20000   200000000.000  14142.136        0   \n",
       "65     69000.000       69000      20000   100000000.000  10000.000        1   \n",
       "76    662333.333      654000     390000 25587878787.879 159962.117        0   \n",
       "89     69000.000       69000      20000   100000000.000  10000.000        1   \n",
       "...          ...         ...        ...             ...        ...      ...   \n",
       "1157   39000.000       39000      20000   100000000.000  10000.000        0   \n",
       "1195   36400.000       36400      15000   112500000.000  10606.602        1   \n",
       "1237   41400.000       41400      17000   144500000.000  12020.815        1   \n",
       "1269  168250.000      168000      39000   320250000.000  17895.530        2   \n",
       "1279   44900.000       44900      10000    50000000.000   7071.068        0   \n",
       "\n",
       "      전체_가격대                 상품명다시    브랜드    단위  \n",
       "33         2  글라스락 퍼플 클래식 유리밀폐용기세트   글라스락   NaN  \n",
       "37         0                접이식 의자   까사마루   NaN  \n",
       "65         2               다이어트 구미   뉴트리원   NaN  \n",
       "76         4               벽걸이 에어컨   대우전자   NaN  \n",
       "89         2     카이만 엠보 소가죽 체인 숄더백  도스문도스    1종  \n",
       "...      ...                   ...    ...   ...  \n",
       "1157       0               트레이닝 세트    NNF   NaN  \n",
       "1195       0             거창 특등급 사과    NaN  10kg  \n",
       "1237       1        더 커진 거창 특등급 사과    NaN  10kg  \n",
       "1269       3         송도순의 2세대 홈밀맷돌    NaN   NaN  \n",
       "1279       1          엘리자베스아덴 선글라스    NaN    2종  \n",
       "\n",
       "[91 rows x 15 columns]"
      ]
     },
     "execution_count": 9,
     "metadata": {},
     "output_type": "execute_result"
    }
   ],
   "source": [
    "# 상품가격의 최고 판매단가가 그 상품의 가격이라고 할 수 있음\n",
    "# 상품가격의 최고-최저 차가 최고가격일 때보다 20% 이상 차이나면 단순 할인이 아닐 수도 있음\n",
    "item.loc[item.apply(lambda x : x['NEW_최고-최저'] > x['NEW_최고판매단가'] * 0.2, axis = 1)]"
   ]
  },
  {
   "cell_type": "code",
   "execution_count": null,
   "metadata": {
    "Collapsed": "false"
   },
   "outputs": [],
   "source": [
    "# 일단 가전의 경우에는 모델명이 달라버리는 문제가 발생해서 할인율을 다른 상품군과 똑같이 구하기는 애매함\n",
    "# 모델명이 있는 것들은 다시 처리"
   ]
  },
  {
   "cell_type": "code",
   "execution_count": 10,
   "metadata": {
    "Collapsed": "false"
   },
   "outputs": [
    {
     "data": {
      "text/html": [
       "<div>\n",
       "<style scoped>\n",
       "    .dataframe tbody tr th:only-of-type {\n",
       "        vertical-align: middle;\n",
       "    }\n",
       "\n",
       "    .dataframe tbody tr th {\n",
       "        vertical-align: top;\n",
       "    }\n",
       "\n",
       "    .dataframe thead th {\n",
       "        text-align: right;\n",
       "    }\n",
       "</style>\n",
       "<table border=\"1\" class=\"dataframe\">\n",
       "  <thead>\n",
       "    <tr style=\"text-align: right;\">\n",
       "      <th></th>\n",
       "      <th>NEW상품명</th>\n",
       "      <th>모델명</th>\n",
       "    </tr>\n",
       "  </thead>\n",
       "  <tbody>\n",
       "    <tr>\n",
       "      <th>1135</th>\n",
       "      <td>코지마 손목형 자동전자 혈압계</td>\n",
       "      <td>CBP-160</td>\n",
       "    </tr>\n",
       "    <tr>\n",
       "      <th>1638</th>\n",
       "      <td>LG 노트북 그램 15인치</td>\n",
       "      <td>15Z980-G.AR3DK</td>\n",
       "    </tr>\n",
       "    <tr>\n",
       "      <th>1639</th>\n",
       "      <td>LG 노트북 그램 15인치</td>\n",
       "      <td>15Z980-L.AR1DK</td>\n",
       "    </tr>\n",
       "    <tr>\n",
       "      <th>1656</th>\n",
       "      <td>LG 울트라HD TV 55인치</td>\n",
       "      <td>55UK6800HNC</td>\n",
       "    </tr>\n",
       "    <tr>\n",
       "      <th>1663</th>\n",
       "      <td>LG 울트라HD TV 55인치</td>\n",
       "      <td>55UM7900BNA</td>\n",
       "    </tr>\n",
       "    <tr>\n",
       "      <th>...</th>\n",
       "      <td>...</td>\n",
       "      <td>...</td>\n",
       "    </tr>\n",
       "    <tr>\n",
       "      <th>2037</th>\n",
       "      <td>AAB의 든든한 콩국수</td>\n",
       "      <td>NaN</td>\n",
       "    </tr>\n",
       "    <tr>\n",
       "      <th>2038</th>\n",
       "      <td>AAB의 소곱창 전골 800g 8팩</td>\n",
       "      <td>NaN</td>\n",
       "    </tr>\n",
       "    <tr>\n",
       "      <th>2039</th>\n",
       "      <td>AAE LA 갈비 7팩</td>\n",
       "      <td>NaN</td>\n",
       "    </tr>\n",
       "    <tr>\n",
       "      <th>2040</th>\n",
       "      <td>IH 옛 가마솥 세트</td>\n",
       "      <td>NaN</td>\n",
       "    </tr>\n",
       "    <tr>\n",
       "      <th>2041</th>\n",
       "      <td>OK 근육통완화 동전패치</td>\n",
       "      <td>NaN</td>\n",
       "    </tr>\n",
       "  </tbody>\n",
       "</table>\n",
       "<p>1398 rows × 2 columns</p>\n",
       "</div>"
      ],
      "text/plain": [
       "                   NEW상품명             모델명\n",
       "1135     코지마 손목형 자동전자 혈압계         CBP-160\n",
       "1638       LG 노트북 그램 15인치  15Z980-G.AR3DK\n",
       "1639       LG 노트북 그램 15인치  15Z980-L.AR1DK\n",
       "1656     LG 울트라HD TV 55인치     55UK6800HNC\n",
       "1663     LG 울트라HD TV 55인치     55UM7900BNA\n",
       "...                   ...             ...\n",
       "2037         AAB의 든든한 콩국수             NaN\n",
       "2038  AAB의 소곱창 전골 800g 8팩             NaN\n",
       "2039         AAE LA 갈비 7팩             NaN\n",
       "2040          IH 옛 가마솥 세트             NaN\n",
       "2041        OK 근육통완화 동전패치             NaN\n",
       "\n",
       "[1398 rows x 2 columns]"
      ]
     },
     "execution_count": 10,
     "metadata": {},
     "output_type": "execute_result"
    }
   ],
   "source": [
    "# 모델명 추가로 item 개수가 늘어남\n",
    "meta[['NEW상품명', '모델명']].drop_duplicates().sort_values('모델명')"
   ]
  },
  {
   "cell_type": "code",
   "execution_count": 12,
   "metadata": {
    "Collapsed": "false"
   },
   "outputs": [],
   "source": [
    "temp = item.merge(meta[['NEW상품명', '모델명']].drop_duplicates(), on = 'NEW상품명', how = 'left')"
   ]
  },
  {
   "cell_type": "code",
   "execution_count": 13,
   "metadata": {
    "Collapsed": "false"
   },
   "outputs": [
    {
     "data": {
      "text/plain": [
       "(1398, 16)"
      ]
     },
     "execution_count": 13,
     "metadata": {},
     "output_type": "execute_result"
    }
   ],
   "source": [
    "temp.shape"
   ]
  },
  {
   "cell_type": "code",
   "execution_count": 14,
   "metadata": {
    "Collapsed": "false"
   },
   "outputs": [],
   "source": [
    "N_model = temp.loc[temp['모델명'].isnull()]"
   ]
  },
  {
   "cell_type": "code",
   "execution_count": 15,
   "metadata": {
    "Collapsed": "false"
   },
   "outputs": [
    {
     "data": {
      "text/plain": [
       "(1308, 16)"
      ]
     },
     "execution_count": 15,
     "metadata": {},
     "output_type": "execute_result"
    }
   ],
   "source": [
    "N_model.shape"
   ]
  },
  {
   "cell_type": "code",
   "execution_count": 16,
   "metadata": {
    "Collapsed": "false"
   },
   "outputs": [
    {
     "data": {
      "text/html": [
       "<div>\n",
       "<style scoped>\n",
       "    .dataframe tbody tr th:only-of-type {\n",
       "        vertical-align: middle;\n",
       "    }\n",
       "\n",
       "    .dataframe tbody tr th {\n",
       "        vertical-align: top;\n",
       "    }\n",
       "\n",
       "    .dataframe thead th {\n",
       "        text-align: right;\n",
       "    }\n",
       "</style>\n",
       "<table border=\"1\" class=\"dataframe\">\n",
       "  <thead>\n",
       "    <tr style=\"text-align: right;\">\n",
       "      <th></th>\n",
       "      <th>NEW상품코드</th>\n",
       "      <th>NEW상품명</th>\n",
       "      <th>상품군</th>\n",
       "      <th>NEW_최고판매단가</th>\n",
       "      <th>NEW_최저판매단가</th>\n",
       "      <th>NEW_평균판매단가</th>\n",
       "      <th>NEW_중간판매단가</th>\n",
       "      <th>NEW_최고-최저</th>\n",
       "      <th>NEW_분산</th>\n",
       "      <th>NEW_표준편차</th>\n",
       "      <th>상품군_가격대</th>\n",
       "      <th>전체_가격대</th>\n",
       "      <th>상품명다시</th>\n",
       "      <th>브랜드</th>\n",
       "      <th>단위</th>\n",
       "      <th>모델명</th>\n",
       "    </tr>\n",
       "  </thead>\n",
       "  <tbody>\n",
       "    <tr>\n",
       "      <th>257</th>\n",
       "      <td>256</td>\n",
       "      <td>마리노블 밍크 롱코트</td>\n",
       "      <td>의류</td>\n",
       "      <td>499000</td>\n",
       "      <td>299000</td>\n",
       "      <td>399000.000</td>\n",
       "      <td>399000</td>\n",
       "      <td>200000</td>\n",
       "      <td>6666666666.667</td>\n",
       "      <td>81649.658</td>\n",
       "      <td>2</td>\n",
       "      <td>4</td>\n",
       "      <td>밍크 롱코트</td>\n",
       "      <td>마리노블</td>\n",
       "      <td>NaN</td>\n",
       "      <td>NaN</td>\n",
       "    </tr>\n",
       "    <tr>\n",
       "      <th>258</th>\n",
       "      <td>257</td>\n",
       "      <td>마리노블 밍크 퍼 베스트</td>\n",
       "      <td>의류</td>\n",
       "      <td>269000</td>\n",
       "      <td>199000</td>\n",
       "      <td>234000.000</td>\n",
       "      <td>234000</td>\n",
       "      <td>70000</td>\n",
       "      <td>2450000000.000</td>\n",
       "      <td>49497.475</td>\n",
       "      <td>2</td>\n",
       "      <td>4</td>\n",
       "      <td>밍크 퍼 베스트</td>\n",
       "      <td>마리노블</td>\n",
       "      <td>NaN</td>\n",
       "      <td>NaN</td>\n",
       "    </tr>\n",
       "    <tr>\n",
       "      <th>1109</th>\n",
       "      <td>1090</td>\n",
       "      <td>DIOR 선글라스(SIDERAL)</td>\n",
       "      <td>잡화</td>\n",
       "      <td>239000</td>\n",
       "      <td>188000</td>\n",
       "      <td>213500.000</td>\n",
       "      <td>213500</td>\n",
       "      <td>51000</td>\n",
       "      <td>1300500000.000</td>\n",
       "      <td>36062.446</td>\n",
       "      <td>1</td>\n",
       "      <td>4</td>\n",
       "      <td>선글라스(SIDERAL)</td>\n",
       "      <td>DIOR</td>\n",
       "      <td>NaN</td>\n",
       "      <td>NaN</td>\n",
       "    </tr>\n",
       "    <tr>\n",
       "      <th>658</th>\n",
       "      <td>645</td>\n",
       "      <td>오모떼 여성 프런트후크 프레쉬 데오브라</td>\n",
       "      <td>속옷</td>\n",
       "      <td>139000</td>\n",
       "      <td>89000</td>\n",
       "      <td>114000.000</td>\n",
       "      <td>114000</td>\n",
       "      <td>50000</td>\n",
       "      <td>1250000000.000</td>\n",
       "      <td>35355.339</td>\n",
       "      <td>2</td>\n",
       "      <td>3</td>\n",
       "      <td>여성 프런트후크 프레쉬 데오브라</td>\n",
       "      <td>오모떼</td>\n",
       "      <td>NaN</td>\n",
       "      <td>NaN</td>\n",
       "    </tr>\n",
       "    <tr>\n",
       "      <th>1303</th>\n",
       "      <td>1269</td>\n",
       "      <td>송도순의 2세대 홈밀맷돌</td>\n",
       "      <td>주방</td>\n",
       "      <td>188000</td>\n",
       "      <td>149000</td>\n",
       "      <td>168250.000</td>\n",
       "      <td>168000</td>\n",
       "      <td>39000</td>\n",
       "      <td>320250000.000</td>\n",
       "      <td>17895.530</td>\n",
       "      <td>2</td>\n",
       "      <td>3</td>\n",
       "      <td>송도순의 2세대 홈밀맷돌</td>\n",
       "      <td>NaN</td>\n",
       "      <td>NaN</td>\n",
       "      <td>NaN</td>\n",
       "    </tr>\n",
       "    <tr>\n",
       "      <th>...</th>\n",
       "      <td>...</td>\n",
       "      <td>...</td>\n",
       "      <td>...</td>\n",
       "      <td>...</td>\n",
       "      <td>...</td>\n",
       "      <td>...</td>\n",
       "      <td>...</td>\n",
       "      <td>...</td>\n",
       "      <td>...</td>\n",
       "      <td>...</td>\n",
       "      <td>...</td>\n",
       "      <td>...</td>\n",
       "      <td>...</td>\n",
       "      <td>...</td>\n",
       "      <td>...</td>\n",
       "      <td>...</td>\n",
       "    </tr>\n",
       "    <tr>\n",
       "      <th>817</th>\n",
       "      <td>803</td>\n",
       "      <td>코펜하겐럭스 세미와이드팬츠</td>\n",
       "      <td>의류</td>\n",
       "      <td>49900</td>\n",
       "      <td>39900</td>\n",
       "      <td>44900.000</td>\n",
       "      <td>44900</td>\n",
       "      <td>10000</td>\n",
       "      <td>50000000.000</td>\n",
       "      <td>7071.068</td>\n",
       "      <td>0</td>\n",
       "      <td>1</td>\n",
       "      <td>세미와이드팬츠</td>\n",
       "      <td>코펜하겐럭스</td>\n",
       "      <td>NaN</td>\n",
       "      <td>NaN</td>\n",
       "    </tr>\n",
       "    <tr>\n",
       "      <th>902</th>\n",
       "      <td>883</td>\n",
       "      <td>트레스패스 남성 에어 워킹화 + 러닝화 2종</td>\n",
       "      <td>잡화</td>\n",
       "      <td>49800</td>\n",
       "      <td>39800</td>\n",
       "      <td>44800.000</td>\n",
       "      <td>44800</td>\n",
       "      <td>10000</td>\n",
       "      <td>50000000.000</td>\n",
       "      <td>7071.068</td>\n",
       "      <td>0</td>\n",
       "      <td>0</td>\n",
       "      <td>남성 에어 워킹화 + 러닝화</td>\n",
       "      <td>트레스패스</td>\n",
       "      <td>2종</td>\n",
       "      <td>NaN</td>\n",
       "    </tr>\n",
       "    <tr>\n",
       "      <th>905</th>\n",
       "      <td>886</td>\n",
       "      <td>트레스패스 여성 에어 워킹화 + 러닝화 2종</td>\n",
       "      <td>잡화</td>\n",
       "      <td>49800</td>\n",
       "      <td>39800</td>\n",
       "      <td>44800.000</td>\n",
       "      <td>44800</td>\n",
       "      <td>10000</td>\n",
       "      <td>50000000.000</td>\n",
       "      <td>7071.068</td>\n",
       "      <td>0</td>\n",
       "      <td>0</td>\n",
       "      <td>여성 에어 워킹화 + 러닝화</td>\n",
       "      <td>트레스패스</td>\n",
       "      <td>2종</td>\n",
       "      <td>NaN</td>\n",
       "    </tr>\n",
       "    <tr>\n",
       "      <th>496</th>\n",
       "      <td>483</td>\n",
       "      <td>스텔라테일러 컴포트 스트레치 팬츠 3종</td>\n",
       "      <td>의류</td>\n",
       "      <td>39800</td>\n",
       "      <td>29800</td>\n",
       "      <td>34800.000</td>\n",
       "      <td>34800</td>\n",
       "      <td>10000</td>\n",
       "      <td>50000000.000</td>\n",
       "      <td>7071.068</td>\n",
       "      <td>0</td>\n",
       "      <td>0</td>\n",
       "      <td>컴포트 스트레치 팬츠</td>\n",
       "      <td>스텔라테일러</td>\n",
       "      <td>3종</td>\n",
       "      <td>NaN</td>\n",
       "    </tr>\n",
       "    <tr>\n",
       "      <th>1313</th>\n",
       "      <td>1279</td>\n",
       "      <td>엘리자베스아덴 선글라스 2종</td>\n",
       "      <td>잡화</td>\n",
       "      <td>49900</td>\n",
       "      <td>39900</td>\n",
       "      <td>44900.000</td>\n",
       "      <td>44900</td>\n",
       "      <td>10000</td>\n",
       "      <td>50000000.000</td>\n",
       "      <td>7071.068</td>\n",
       "      <td>0</td>\n",
       "      <td>1</td>\n",
       "      <td>엘리자베스아덴 선글라스</td>\n",
       "      <td>NaN</td>\n",
       "      <td>2종</td>\n",
       "      <td>NaN</td>\n",
       "    </tr>\n",
       "  </tbody>\n",
       "</table>\n",
       "<p>87 rows × 16 columns</p>\n",
       "</div>"
      ],
      "text/plain": [
       "      NEW상품코드                    NEW상품명 상품군  NEW_최고판매단가  NEW_최저판매단가  \\\n",
       "257       256               마리노블 밍크 롱코트  의류      499000      299000   \n",
       "258       257             마리노블 밍크 퍼 베스트  의류      269000      199000   \n",
       "1109     1090        DIOR 선글라스(SIDERAL)  잡화      239000      188000   \n",
       "658       645     오모떼 여성 프런트후크 프레쉬 데오브라  속옷      139000       89000   \n",
       "1303     1269             송도순의 2세대 홈밀맷돌  주방      188000      149000   \n",
       "...       ...                       ...  ..         ...         ...   \n",
       "817       803            코펜하겐럭스 세미와이드팬츠  의류       49900       39900   \n",
       "902       883  트레스패스 남성 에어 워킹화 + 러닝화 2종  잡화       49800       39800   \n",
       "905       886  트레스패스 여성 에어 워킹화 + 러닝화 2종  잡화       49800       39800   \n",
       "496       483     스텔라테일러 컴포트 스트레치 팬츠 3종  의류       39800       29800   \n",
       "1313     1279           엘리자베스아덴 선글라스 2종  잡화       49900       39900   \n",
       "\n",
       "      NEW_평균판매단가  NEW_중간판매단가  NEW_최고-최저         NEW_분산  NEW_표준편차  상품군_가격대  \\\n",
       "257   399000.000      399000     200000 6666666666.667 81649.658        2   \n",
       "258   234000.000      234000      70000 2450000000.000 49497.475        2   \n",
       "1109  213500.000      213500      51000 1300500000.000 36062.446        1   \n",
       "658   114000.000      114000      50000 1250000000.000 35355.339        2   \n",
       "1303  168250.000      168000      39000  320250000.000 17895.530        2   \n",
       "...          ...         ...        ...            ...       ...      ...   \n",
       "817    44900.000       44900      10000   50000000.000  7071.068        0   \n",
       "902    44800.000       44800      10000   50000000.000  7071.068        0   \n",
       "905    44800.000       44800      10000   50000000.000  7071.068        0   \n",
       "496    34800.000       34800      10000   50000000.000  7071.068        0   \n",
       "1313   44900.000       44900      10000   50000000.000  7071.068        0   \n",
       "\n",
       "      전체_가격대              상품명다시     브랜드   단위  모델명  \n",
       "257        4             밍크 롱코트    마리노블  NaN  NaN  \n",
       "258        4           밍크 퍼 베스트    마리노블  NaN  NaN  \n",
       "1109       4      선글라스(SIDERAL)    DIOR  NaN  NaN  \n",
       "658        3  여성 프런트후크 프레쉬 데오브라     오모떼  NaN  NaN  \n",
       "1303       3      송도순의 2세대 홈밀맷돌     NaN  NaN  NaN  \n",
       "...      ...                ...     ...  ...  ...  \n",
       "817        1            세미와이드팬츠  코펜하겐럭스  NaN  NaN  \n",
       "902        0    남성 에어 워킹화 + 러닝화   트레스패스   2종  NaN  \n",
       "905        0    여성 에어 워킹화 + 러닝화   트레스패스   2종  NaN  \n",
       "496        0        컴포트 스트레치 팬츠  스텔라테일러   3종  NaN  \n",
       "1313       1       엘리자베스아덴 선글라스     NaN   2종  NaN  \n",
       "\n",
       "[87 rows x 16 columns]"
      ]
     },
     "execution_count": 16,
     "metadata": {},
     "output_type": "execute_result"
    }
   ],
   "source": [
    "# 약 1308개의 상품 중 87개의 아이템이 20퍼센트 이상의 할인율을 보임\n",
    "# 그러나 이 경우에는 모델명이 따로 존재하지 않기 때문에 그냥 할인율이라고 봐도 무방!\n",
    "N_model.loc[N_model.apply(lambda x : x['NEW_최고-최저'] > x['NEW_최고판매단가'] * 0.2, axis = 1)].sort_values('NEW_최고-최저', ascending = False)"
   ]
  },
  {
   "cell_type": "code",
   "execution_count": 17,
   "metadata": {
    "Collapsed": "false"
   },
   "outputs": [],
   "source": [
    "sale['할인율'] = None"
   ]
  },
  {
   "cell_type": "code",
   "execution_count": 18,
   "metadata": {
    "Collapsed": "false"
   },
   "outputs": [
    {
     "name": "stderr",
     "output_type": "stream",
     "text": [
      "100%|██████████| 1308/1308 [00:07<00:00, 178.98it/s]\n"
     ]
    }
   ],
   "source": [
    "for name, price in tqdm(N_model[['NEW상품명', 'NEW_최고판매단가']].values):\n",
    "    sale.loc[sale['NEW상품명'] == name, '할인율'] = 1 - (sale.loc[sale['NEW상품명'] == name, '판매단가'] / price)"
   ]
  },
  {
   "cell_type": "code",
   "execution_count": 19,
   "metadata": {
    "Collapsed": "false"
   },
   "outputs": [],
   "source": [
    "Y_model = temp.loc[temp['모델명'].notnull()]"
   ]
  },
  {
   "cell_type": "code",
   "execution_count": 20,
   "metadata": {
    "Collapsed": "false"
   },
   "outputs": [
    {
     "data": {
      "text/plain": [
       "(90, 16)"
      ]
     },
     "execution_count": 20,
     "metadata": {},
     "output_type": "execute_result"
    }
   ],
   "source": [
    "Y_model.shape"
   ]
  },
  {
   "cell_type": "code",
   "execution_count": 27,
   "metadata": {
    "Collapsed": "false"
   },
   "outputs": [],
   "source": [
    "t_sale = sale.merge(meta[['NEW상품명', '상품코드','모델명']], on = ['NEW상품명', '상품코드'], how = 'left')"
   ]
  },
  {
   "cell_type": "code",
   "execution_count": 28,
   "metadata": {
    "Collapsed": "false"
   },
   "outputs": [],
   "source": [
    "temp2 = t_sale.loc[t_sale['모델명'].notnull()].groupby(['NEW상품명', '모델명']).agg({\n",
    "    '판매단가' : [('최고판매단가', np.max), ('최저판매단가', np.min)]\n",
    "}).reset_index()"
   ]
  },
  {
   "cell_type": "code",
   "execution_count": 29,
   "metadata": {
    "Collapsed": "false"
   },
   "outputs": [],
   "source": [
    "temp2.columns = ['NEW상품명', '모델명', '최고판매단가', '최저판매단가']"
   ]
  },
  {
   "cell_type": "code",
   "execution_count": 30,
   "metadata": {
    "Collapsed": "false"
   },
   "outputs": [
    {
     "data": {
      "text/html": [
       "<div>\n",
       "<style scoped>\n",
       "    .dataframe tbody tr th:only-of-type {\n",
       "        vertical-align: middle;\n",
       "    }\n",
       "\n",
       "    .dataframe tbody tr th {\n",
       "        vertical-align: top;\n",
       "    }\n",
       "\n",
       "    .dataframe thead th {\n",
       "        text-align: right;\n",
       "    }\n",
       "</style>\n",
       "<table border=\"1\" class=\"dataframe\">\n",
       "  <thead>\n",
       "    <tr style=\"text-align: right;\">\n",
       "      <th></th>\n",
       "      <th>NEW상품명</th>\n",
       "      <th>모델명</th>\n",
       "      <th>최고판매단가</th>\n",
       "      <th>최저판매단가</th>\n",
       "    </tr>\n",
       "  </thead>\n",
       "  <tbody>\n",
       "    <tr>\n",
       "      <th>0</th>\n",
       "      <td>LG LG스타일러 의류관리기 5벌</td>\n",
       "      <td>S5BB</td>\n",
       "      <td>1890000</td>\n",
       "      <td>1800000</td>\n",
       "    </tr>\n",
       "    <tr>\n",
       "      <th>1</th>\n",
       "      <td>LG 노크온 매직스페이스 냉장고</td>\n",
       "      <td>S831SN75</td>\n",
       "      <td>1909000</td>\n",
       "      <td>1909000</td>\n",
       "    </tr>\n",
       "    <tr>\n",
       "      <th>2</th>\n",
       "      <td>LG 노크온 매직스페이스 냉장고</td>\n",
       "      <td>S831SN76</td>\n",
       "      <td>2049000</td>\n",
       "      <td>2049000</td>\n",
       "    </tr>\n",
       "    <tr>\n",
       "      <th>3</th>\n",
       "      <td>LG 노트북 그램 15인치</td>\n",
       "      <td>15Z980-G.AR3DK</td>\n",
       "      <td>1649000</td>\n",
       "      <td>1559000</td>\n",
       "    </tr>\n",
       "    <tr>\n",
       "      <th>4</th>\n",
       "      <td>LG 노트북 그램 15인치</td>\n",
       "      <td>15Z980-L.AR1DK</td>\n",
       "      <td>1420000</td>\n",
       "      <td>1330000</td>\n",
       "    </tr>\n",
       "    <tr>\n",
       "      <th>...</th>\n",
       "      <td>...</td>\n",
       "      <td>...</td>\n",
       "      <td>...</td>\n",
       "      <td>...</td>\n",
       "    </tr>\n",
       "    <tr>\n",
       "      <th>85</th>\n",
       "      <td>쿠첸 풀스텐 압력밥솥 10인용</td>\n",
       "      <td>A1</td>\n",
       "      <td>178000</td>\n",
       "      <td>158000</td>\n",
       "    </tr>\n",
       "    <tr>\n",
       "      <th>86</th>\n",
       "      <td>쿠첸 풀스텐 압력밥솥 6인용</td>\n",
       "      <td>A1</td>\n",
       "      <td>158000</td>\n",
       "      <td>148000</td>\n",
       "    </tr>\n",
       "    <tr>\n",
       "      <th>87</th>\n",
       "      <td>쿠쿠 전기밥솥 10인용</td>\n",
       "      <td>CRP-QS107FG/FS</td>\n",
       "      <td>218000</td>\n",
       "      <td>218000</td>\n",
       "    </tr>\n",
       "    <tr>\n",
       "      <th>88</th>\n",
       "      <td>쿠쿠 전기밥솥 10인용</td>\n",
       "      <td>QS</td>\n",
       "      <td>208000</td>\n",
       "      <td>208000</td>\n",
       "    </tr>\n",
       "    <tr>\n",
       "      <th>89</th>\n",
       "      <td>쿠쿠 전기밥솥 6인용</td>\n",
       "      <td>QS</td>\n",
       "      <td>208000</td>\n",
       "      <td>198000</td>\n",
       "    </tr>\n",
       "  </tbody>\n",
       "</table>\n",
       "<p>90 rows × 4 columns</p>\n",
       "</div>"
      ],
      "text/plain": [
       "                NEW상품명             모델명   최고판매단가   최저판매단가\n",
       "0   LG LG스타일러 의류관리기 5벌            S5BB  1890000  1800000\n",
       "1    LG 노크온 매직스페이스 냉장고        S831SN75  1909000  1909000\n",
       "2    LG 노크온 매직스페이스 냉장고        S831SN76  2049000  2049000\n",
       "3       LG 노트북 그램 15인치  15Z980-G.AR3DK  1649000  1559000\n",
       "4       LG 노트북 그램 15인치  15Z980-L.AR1DK  1420000  1330000\n",
       "..                 ...             ...      ...      ...\n",
       "85    쿠첸 풀스텐 압력밥솥 10인용              A1   178000   158000\n",
       "86     쿠첸 풀스텐 압력밥솥 6인용              A1   158000   148000\n",
       "87        쿠쿠 전기밥솥 10인용  CRP-QS107FG/FS   218000   218000\n",
       "88        쿠쿠 전기밥솥 10인용              QS   208000   208000\n",
       "89         쿠쿠 전기밥솥 6인용              QS   208000   198000\n",
       "\n",
       "[90 rows x 4 columns]"
      ]
     },
     "execution_count": 30,
     "metadata": {},
     "output_type": "execute_result"
    }
   ],
   "source": [
    "temp2"
   ]
  },
  {
   "cell_type": "code",
   "execution_count": 31,
   "metadata": {
    "Collapsed": "false"
   },
   "outputs": [
    {
     "name": "stderr",
     "output_type": "stream",
     "text": [
      "100%|██████████| 90/90 [00:00<00:00, 113.09it/s]\n"
     ]
    }
   ],
   "source": [
    "for name, model, price, _ in tqdm(temp2.values):\n",
    "    t_sale.loc[(t_sale['NEW상품명'] == name) & (t_sale['모델명'] == model), '할인율'] = 1 - (t_sale.loc[(t_sale['NEW상품명'] == name) & (t_sale['모델명'] == model), '판매단가'] / price)"
   ]
  },
  {
   "cell_type": "code",
   "execution_count": 32,
   "metadata": {
    "Collapsed": "false"
   },
   "outputs": [
    {
     "data": {
      "text/plain": [
       "<matplotlib.axes._subplots.AxesSubplot at 0x7fdbce1f0050>"
      ]
     },
     "execution_count": 32,
     "metadata": {},
     "output_type": "execute_result"
    },
    {
     "data": {
      "image/png": "[encoded data removed]",
      "text/plain": [
       "<Figure size 576x396 with 1 Axes>"
      ]
     },
     "metadata": {},
     "output_type": "display_data"
    }
   ],
   "source": [
    "t_sale.loc[t_sale['할인율'] != 0, '할인율'].hist(bins = 50)"
   ]
  },
  {
   "cell_type": "code",
   "execution_count": 33,
   "metadata": {
    "Collapsed": "false"
   },
   "outputs": [
    {
     "data": {
      "text/plain": [
       "<matplotlib.axes._subplots.AxesSubplot at 0x7fdbc67e10d0>"
      ]
     },
     "execution_count": 33,
     "metadata": {},
     "output_type": "execute_result"
    },
    {
     "data": {
      "image/png": "[encoded data removed]",
      "text/plain": [
       "<Figure size 576x396 with 1 Axes>"
      ]
     },
     "metadata": {},
     "output_type": "display_data"
    }
   ],
   "source": [
    "t_sale.loc[t_sale['모델명'].notnull(), '할인율'].hist(bins = 30)"
   ]
  }
 ],
 "metadata": {
  "kernelspec": {
   "display_name": "Python 3",
   "language": "python",
   "name": "python3"
  },
  "language_info": {
   "codemirror_mode": {
    "name": "ipython",
    "version": 3
   },
   "file_extension": ".py",
   "mimetype": "text/x-python",
   "name": "python",
   "nbconvert_exporter": "python",
   "pygments_lexer": "ipython3",
   "version": "3.7.6"
  }
 },
 "nbformat": 4,
 "nbformat_minor": 4
}
