{
 "cells": [
  {
   "cell_type": "code",
   "execution_count": 56,
   "metadata": {
    "Collapsed": "false"
   },
   "outputs": [],
   "source": [
    "import pandas as pd"
   ]
  },
  {
   "cell_type": "code",
   "execution_count": 57,
   "metadata": {
    "Collapsed": "false"
   },
   "outputs": [],
   "source": [
    "df = pd.read_excel('./통합 문서1.xlsx')"
   ]
  },
  {
   "cell_type": "code",
   "execution_count": 58,
   "metadata": {
    "Collapsed": "false"
   },
   "outputs": [],
   "source": [
    "df['월'] = df['columns'].apply(lambda x : x[:3])"
   ]
  },
  {
   "cell_type": "code",
   "execution_count": 59,
   "metadata": {
    "Collapsed": "false"
   },
   "outputs": [
    {
     "data": {
      "text/plain": [
       "0         1월       상품군_가전: 78.02976067131303\n",
       "1      1월       상품군_건강기능: 32.348024079406265\n",
       "2        1월       상품군_농수축: 38.56661837187605\n",
       "3      1월       상품군_생활용품: 27.877970915854323\n",
       "4          1월       상품군_속옷: 41.1314742674058\n",
       "                       ...                  \n",
       "551       12월      상품군_의류: 81.97757593626386\n",
       "552     12월      상품군_이미용: 103.45583925460724\n",
       "553       12월      상품군_잡화: 81.02022852698389\n",
       "554       12월      상품군_주방: 42.93528019641724\n",
       "555        12월      test: 61.658125506464025\n",
       "Name: columns, Length: 556, dtype: object"
      ]
     },
     "execution_count": 59,
     "metadata": {},
     "output_type": "execute_result"
    }
   ],
   "source": [
    "df['columns']"
   ]
  },
  {
   "cell_type": "code",
   "execution_count": 60,
   "metadata": {
    "Collapsed": "false"
   },
   "outputs": [],
   "source": [
    "df['MAPE'] = df['columns'].apply(lambda x : x.split(':')[1].strip())"
   ]
  },
  {
   "cell_type": "code",
   "execution_count": 61,
   "metadata": {
    "Collapsed": "false"
   },
   "outputs": [],
   "source": [
    "df['상품군'] = df['columns'].apply(lambda x : x.split('월')[1].split(':')[0].strip())"
   ]
  },
  {
   "cell_type": "code",
   "execution_count": 62,
   "metadata": {
    "Collapsed": "false"
   },
   "outputs": [],
   "source": [
    "df['MAPE'] = df['MAPE'].astype(float)"
   ]
  },
  {
   "cell_type": "code",
   "execution_count": 75,
   "metadata": {
    "Collapsed": "false"
   },
   "outputs": [],
   "source": [
    "df['version'] = None"
   ]
  },
  {
   "cell_type": "code",
   "execution_count": 86,
   "metadata": {
    "Collapsed": "false"
   },
   "outputs": [],
   "source": [
    "df.loc[:138, 'version'] = 1"
   ]
  },
  {
   "cell_type": "code",
   "execution_count": 91,
   "metadata": {
    "Collapsed": "false"
   },
   "outputs": [],
   "source": [
    "df.loc[139:277, 'version'] = 2"
   ]
  },
  {
   "cell_type": "code",
   "execution_count": 103,
   "metadata": {
    "Collapsed": "false"
   },
   "outputs": [],
   "source": [
    "df.loc[278:416, 'version'] = 3"
   ]
  },
  {
   "cell_type": "code",
   "execution_count": 105,
   "metadata": {
    "Collapsed": "false"
   },
   "outputs": [
    {
     "data": {
      "text/html": [
       "<div>\n",
       "<style scoped>\n",
       "    .dataframe tbody tr th:only-of-type {\n",
       "        vertical-align: middle;\n",
       "    }\n",
       "\n",
       "    .dataframe tbody tr th {\n",
       "        vertical-align: top;\n",
       "    }\n",
       "\n",
       "    .dataframe thead th {\n",
       "        text-align: right;\n",
       "    }\n",
       "</style>\n",
       "<table border=\"1\" class=\"dataframe\">\n",
       "  <thead>\n",
       "    <tr style=\"text-align: right;\">\n",
       "      <th></th>\n",
       "      <th>columns</th>\n",
       "      <th>월</th>\n",
       "      <th>MAPE</th>\n",
       "      <th>상품군</th>\n",
       "      <th>version</th>\n",
       "    </tr>\n",
       "  </thead>\n",
       "  <tbody>\n",
       "    <tr>\n",
       "      <th>417</th>\n",
       "      <td>1월       상품군_가전: 78.63028572067249</td>\n",
       "      <td>1월</td>\n",
       "      <td>78.630286</td>\n",
       "      <td>상품군_가전</td>\n",
       "      <td>4</td>\n",
       "    </tr>\n",
       "    <tr>\n",
       "      <th>418</th>\n",
       "      <td>1월       상품군_건강기능: 33.71195676134861</td>\n",
       "      <td>1월</td>\n",
       "      <td>33.711957</td>\n",
       "      <td>상품군_건강기능</td>\n",
       "      <td>4</td>\n",
       "    </tr>\n",
       "    <tr>\n",
       "      <th>419</th>\n",
       "      <td>1월       상품군_농수축: 40.56698360222816</td>\n",
       "      <td>1월</td>\n",
       "      <td>40.566984</td>\n",
       "      <td>상품군_농수축</td>\n",
       "      <td>4</td>\n",
       "    </tr>\n",
       "    <tr>\n",
       "      <th>420</th>\n",
       "      <td>1월       상품군_생활용품: 25.20334069834636</td>\n",
       "      <td>1월</td>\n",
       "      <td>25.203341</td>\n",
       "      <td>상품군_생활용품</td>\n",
       "      <td>4</td>\n",
       "    </tr>\n",
       "    <tr>\n",
       "      <th>421</th>\n",
       "      <td>1월       상품군_속옷: 47.17197623036512</td>\n",
       "      <td>1월</td>\n",
       "      <td>47.171976</td>\n",
       "      <td>상품군_속옷</td>\n",
       "      <td>4</td>\n",
       "    </tr>\n",
       "    <tr>\n",
       "      <th>...</th>\n",
       "      <td>...</td>\n",
       "      <td>...</td>\n",
       "      <td>...</td>\n",
       "      <td>...</td>\n",
       "      <td>...</td>\n",
       "    </tr>\n",
       "    <tr>\n",
       "      <th>551</th>\n",
       "      <td>12월      상품군_의류: 81.97757593626386</td>\n",
       "      <td>12월</td>\n",
       "      <td>81.977576</td>\n",
       "      <td>상품군_의류</td>\n",
       "      <td>4</td>\n",
       "    </tr>\n",
       "    <tr>\n",
       "      <th>552</th>\n",
       "      <td>12월      상품군_이미용: 103.45583925460724</td>\n",
       "      <td>12월</td>\n",
       "      <td>103.455839</td>\n",
       "      <td>상품군_이미용</td>\n",
       "      <td>4</td>\n",
       "    </tr>\n",
       "    <tr>\n",
       "      <th>553</th>\n",
       "      <td>12월      상품군_잡화: 81.02022852698389</td>\n",
       "      <td>12월</td>\n",
       "      <td>81.020229</td>\n",
       "      <td>상품군_잡화</td>\n",
       "      <td>4</td>\n",
       "    </tr>\n",
       "    <tr>\n",
       "      <th>554</th>\n",
       "      <td>12월      상품군_주방: 42.93528019641724</td>\n",
       "      <td>12월</td>\n",
       "      <td>42.935280</td>\n",
       "      <td>상품군_주방</td>\n",
       "      <td>4</td>\n",
       "    </tr>\n",
       "    <tr>\n",
       "      <th>555</th>\n",
       "      <td>12월      test: 61.658125506464025</td>\n",
       "      <td>12월</td>\n",
       "      <td>61.658126</td>\n",
       "      <td>test</td>\n",
       "      <td>4</td>\n",
       "    </tr>\n",
       "  </tbody>\n",
       "</table>\n",
       "<p>139 rows × 5 columns</p>\n",
       "</div>"
      ],
      "text/plain": [
       "                                  columns    월        MAPE       상품군 version\n",
       "417    1월       상품군_가전: 78.63028572067249  1월    78.630286    상품군_가전       4\n",
       "418  1월       상품군_건강기능: 33.71195676134861  1월    33.711957  상품군_건강기능       4\n",
       "419   1월       상품군_농수축: 40.56698360222816  1월    40.566984   상품군_농수축       4\n",
       "420  1월       상품군_생활용품: 25.20334069834636  1월    25.203341  상품군_생활용품       4\n",
       "421    1월       상품군_속옷: 47.17197623036512  1월    47.171976    상품군_속옷       4\n",
       "..                                    ...  ...         ...       ...     ...\n",
       "551    12월      상품군_의류: 81.97757593626386  12월   81.977576    상품군_의류       4\n",
       "552  12월      상품군_이미용: 103.45583925460724  12월  103.455839   상품군_이미용       4\n",
       "553    12월      상품군_잡화: 81.02022852698389  12월   81.020229    상품군_잡화       4\n",
       "554    12월      상품군_주방: 42.93528019641724  12월   42.935280    상품군_주방       4\n",
       "555     12월      test: 61.658125506464025  12월   61.658126      test       4\n",
       "\n",
       "[139 rows x 5 columns]"
      ]
     },
     "execution_count": 105,
     "metadata": {},
     "output_type": "execute_result"
    }
   ],
   "source": [
    "df.loc[417:]"
   ]
  },
  {
   "cell_type": "code",
   "execution_count": 114,
   "metadata": {
    "Collapsed": "false"
   },
   "outputs": [
    {
     "data": {
      "text/html": [
       "<div>\n",
       "<style scoped>\n",
       "    .dataframe tbody tr th:only-of-type {\n",
       "        vertical-align: middle;\n",
       "    }\n",
       "\n",
       "    .dataframe tbody tr th {\n",
       "        vertical-align: top;\n",
       "    }\n",
       "\n",
       "    .dataframe thead th {\n",
       "        text-align: right;\n",
       "    }\n",
       "</style>\n",
       "<table border=\"1\" class=\"dataframe\">\n",
       "  <thead>\n",
       "    <tr style=\"text-align: right;\">\n",
       "      <th></th>\n",
       "      <th>version</th>\n",
       "      <th>MAPE</th>\n",
       "    </tr>\n",
       "  </thead>\n",
       "  <tbody>\n",
       "    <tr>\n",
       "      <th>0</th>\n",
       "      <td>1</td>\n",
       "      <td>50.017160</td>\n",
       "    </tr>\n",
       "    <tr>\n",
       "      <th>1</th>\n",
       "      <td>2</td>\n",
       "      <td>49.466147</td>\n",
       "    </tr>\n",
       "    <tr>\n",
       "      <th>2</th>\n",
       "      <td>3</td>\n",
       "      <td>47.749564</td>\n",
       "    </tr>\n",
       "    <tr>\n",
       "      <th>3</th>\n",
       "      <td>4</td>\n",
       "      <td>48.468935</td>\n",
       "    </tr>\n",
       "  </tbody>\n",
       "</table>\n",
       "</div>"
      ],
      "text/plain": [
       "   version       MAPE\n",
       "0        1  50.017160\n",
       "1        2  49.466147\n",
       "2        3  47.749564\n",
       "3        4  48.468935"
      ]
     },
     "execution_count": 114,
     "metadata": {},
     "output_type": "execute_result"
    }
   ],
   "source": [
    "df.loc[df['상품군'] != 'test'].groupby(['version'])['MAPE'].mean().reset_index()"
   ]
  },
  {
   "cell_type": "code",
   "execution_count": null,
   "metadata": {
    "Collapsed": "false"
   },
   "outputs": [],
   "source": []
  },
  {
   "cell_type": "code",
   "execution_count": null,
   "metadata": {
    "Collapsed": "false"
   },
   "outputs": [],
   "source": []
  },
  {
   "cell_type": "code",
   "execution_count": 54,
   "metadata": {
    "Collapsed": "false"
   },
   "outputs": [
    {
     "data": {
      "text/plain": [
       "49.9303457723808"
      ]
     },
     "execution_count": 54,
     "metadata": {},
     "output_type": "execute_result"
    }
   ],
   "source": [
    "df.loc[df['상품군'] == '상품군_전체', 'MAPE'].mean()"
   ]
  },
  {
   "cell_type": "code",
   "execution_count": 115,
   "metadata": {
    "Collapsed": "false"
   },
   "outputs": [
    {
     "data": {
      "text/plain": [
       "version  상품군     \n",
       "1        test         49.788737\n",
       "         상품군_가구       59.668963\n",
       "         상품군_가전       59.922136\n",
       "         상품군_건강기능     34.181254\n",
       "         상품군_농수축      26.695612\n",
       "         상품군_생활용품     64.096558\n",
       "         상품군_속옷       50.990215\n",
       "         상품군_의류       45.434186\n",
       "         상품군_이미용      32.470654\n",
       "         상품군_잡화       49.232599\n",
       "         상품군_주방       41.476794\n",
       "         상품군_침구      105.227577\n",
       "2        test         49.262480\n",
       "         상품군_가구       60.083007\n",
       "         상품군_가전       58.870308\n",
       "         상품군_건강기능     34.339319\n",
       "         상품군_농수축      27.000153\n",
       "         상품군_생활용품     63.793556\n",
       "         상품군_속옷       50.731024\n",
       "         상품군_의류       44.841101\n",
       "         상품군_이미용      34.078091\n",
       "         상품군_잡화       51.675916\n",
       "         상품군_주방       40.298571\n",
       "         상품군_침구       94.218897\n",
       "3        test         47.601211\n",
       "         상품군_가구       60.066946\n",
       "         상품군_가전       58.447025\n",
       "         상품군_건강기능     32.498678\n",
       "         상품군_농수축      26.032851\n",
       "         상품군_생활용품     63.051702\n",
       "         상품군_속옷       49.282699\n",
       "         상품군_의류       46.732609\n",
       "         상품군_이미용      32.296008\n",
       "         상품군_잡화       50.536691\n",
       "         상품군_주방       40.468911\n",
       "         상품군_침구       76.411522\n",
       "4        test         48.360480\n",
       "         상품군_가구       59.711712\n",
       "         상품군_가전       59.568274\n",
       "         상품군_건강기능     34.121490\n",
       "         상품군_농수축      26.447408\n",
       "         상품군_생활용품     61.685003\n",
       "         상품군_속옷       51.009190\n",
       "         상품군_의류       45.041749\n",
       "         상품군_이미용      33.140403\n",
       "         상품군_잡화       50.788480\n",
       "         상품군_주방       41.359302\n",
       "         상품군_침구       82.598784\n",
       "Name: MAPE, dtype: float64"
      ]
     },
     "execution_count": 115,
     "metadata": {},
     "output_type": "execute_result"
    }
   ],
   "source": [
    "df.groupby(['version', '상품군'])['MAPE'].mean()"
   ]
  },
  {
   "cell_type": "code",
   "execution_count": null,
   "metadata": {
    "Collapsed": "false"
   },
   "outputs": [],
   "source": []
  }
 ],
 "metadata": {
  "kernelspec": {
   "display_name": "Python 3",
   "language": "python",
   "name": "python3"
  },
  "language_info": {
   "codemirror_mode": {
    "name": "ipython",
    "version": 3
   },
   "file_extension": ".py",
   "mimetype": "text/x-python",
   "name": "python",
   "nbconvert_exporter": "python",
   "pygments_lexer": "ipython3",
   "version": "3.7.6"
  }
 },
 "nbformat": 4,
 "nbformat_minor": 4
}
