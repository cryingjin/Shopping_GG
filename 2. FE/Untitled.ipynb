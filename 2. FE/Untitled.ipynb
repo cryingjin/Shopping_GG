{
 "cells": [
  {
   "cell_type": "code",
   "execution_count": 1,
   "metadata": {
    "Collapsed": "false"
   },
   "outputs": [],
   "source": [
    "import os\n",
    "import sys\n",
    "import math\n",
    "import random\n",
    "import joblib\n",
    "import datetime\n",
    "import numpy as np\n",
    "import pandas as pd\n",
    "from tqdm import tqdm\n",
    "import warnings\n",
    "warnings.filterwarnings(action='ignore')"
   ]
  },
  {
   "cell_type": "code",
   "execution_count": 3,
   "metadata": {
    "Collapsed": "false"
   },
   "outputs": [],
   "source": [
    "test = pd.read_excel(os.path.join('..', '..', '0.Data', '02_평가데이터', '2020 빅콘테스트 데이터분석분야-챔피언리그_2020년 6월 판매실적예측데이터(평가데이터).xlsx'), skiprows = 1)\n",
    "test_meta = pd.read_excel(os.path.join('..', '..', '0.Data', '02_평가데이터', 'test수작업_meta.xlsx'))"
   ]
  },
  {
   "cell_type": "code",
   "execution_count": 6,
   "metadata": {
    "Collapsed": "false"
   },
   "outputs": [
    {
     "data": {
      "text/plain": [
       "(417, 12)"
      ]
     },
     "execution_count": 6,
     "metadata": {},
     "output_type": "execute_result"
    }
   ],
   "source": [
    "test_meta.shape"
   ]
  },
  {
   "cell_type": "code",
   "execution_count": 8,
   "metadata": {
    "Collapsed": "false"
   },
   "outputs": [],
   "source": [
    "test_meta = test_meta.merge(test[['상품코드', '판매단가']].drop_duplicates(), on = '상품코드', how = 'left')"
   ]
  },
  {
   "cell_type": "code",
   "execution_count": 77,
   "metadata": {
    "Collapsed": "false"
   },
   "outputs": [],
   "source": [
    "test_meta.to_excel(os.path.join('..', '..', '0.Data', '02_평가데이터', 'test수작업_meta.xlsx'), index = False)"
   ]
  },
  {
   "cell_type": "code",
   "execution_count": 11,
   "metadata": {
    "Collapsed": "false"
   },
   "outputs": [],
   "source": [
    "item = pd.read_excel('./item.xlsx')"
   ]
  },
  {
   "cell_type": "code",
   "execution_count": 12,
   "metadata": {
    "Collapsed": "false"
   },
   "outputs": [
    {
     "data": {
      "text/html": [
       "<div>\n",
       "<style scoped>\n",
       "    .dataframe tbody tr th:only-of-type {\n",
       "        vertical-align: middle;\n",
       "    }\n",
       "\n",
       "    .dataframe tbody tr th {\n",
       "        vertical-align: top;\n",
       "    }\n",
       "\n",
       "    .dataframe thead th {\n",
       "        text-align: right;\n",
       "    }\n",
       "</style>\n",
       "<table border=\"1\" class=\"dataframe\">\n",
       "  <thead>\n",
       "    <tr style=\"text-align: right;\">\n",
       "      <th></th>\n",
       "      <th>NEW상품코드</th>\n",
       "      <th>NEW상품명</th>\n",
       "      <th>상품군</th>\n",
       "      <th>NEW_최고판매단가</th>\n",
       "      <th>NEW_최저판매단가</th>\n",
       "      <th>NEW_평균판매단가</th>\n",
       "      <th>NEW_중간판매단가</th>\n",
       "      <th>NEW_최고-최저</th>\n",
       "      <th>NEW_분산</th>\n",
       "      <th>NEW_표준편차</th>\n",
       "      <th>전체_가격대</th>\n",
       "    </tr>\n",
       "  </thead>\n",
       "  <tbody>\n",
       "    <tr>\n",
       "      <th>0</th>\n",
       "      <td>0</td>\n",
       "      <td>가이거 남성 블랙 에디션 다이아몬드 워치</td>\n",
       "      <td>잡화</td>\n",
       "      <td>178000.0</td>\n",
       "      <td>178000.0</td>\n",
       "      <td>178000.0</td>\n",
       "      <td>178000.0</td>\n",
       "      <td>0.0</td>\n",
       "      <td>0.0</td>\n",
       "      <td>0.000000</td>\n",
       "      <td>고가</td>\n",
       "    </tr>\n",
       "    <tr>\n",
       "      <th>1</th>\n",
       "      <td>1</td>\n",
       "      <td>가이거 무빙스타 다이아몬드 워치</td>\n",
       "      <td>잡화</td>\n",
       "      <td>129000.0</td>\n",
       "      <td>119000.0</td>\n",
       "      <td>124000.0</td>\n",
       "      <td>124000.0</td>\n",
       "      <td>10000.0</td>\n",
       "      <td>50000000.0</td>\n",
       "      <td>7071.067812</td>\n",
       "      <td>고가</td>\n",
       "    </tr>\n",
       "    <tr>\n",
       "      <th>2</th>\n",
       "      <td>2</td>\n",
       "      <td>가이거 무빙스타 다이아몬드 워치 + 보석함</td>\n",
       "      <td>잡화</td>\n",
       "      <td>119000.0</td>\n",
       "      <td>99000.0</td>\n",
       "      <td>109000.0</td>\n",
       "      <td>109000.0</td>\n",
       "      <td>20000.0</td>\n",
       "      <td>200000000.0</td>\n",
       "      <td>14142.135624</td>\n",
       "      <td>고가</td>\n",
       "    </tr>\n",
       "    <tr>\n",
       "      <th>3</th>\n",
       "      <td>3</td>\n",
       "      <td>가이거 여성 블랙 에디션 다이아몬드 워치</td>\n",
       "      <td>잡화</td>\n",
       "      <td>178000.0</td>\n",
       "      <td>178000.0</td>\n",
       "      <td>178000.0</td>\n",
       "      <td>178000.0</td>\n",
       "      <td>0.0</td>\n",
       "      <td>0.0</td>\n",
       "      <td>0.000000</td>\n",
       "      <td>고가</td>\n",
       "    </tr>\n",
       "    <tr>\n",
       "      <th>4</th>\n",
       "      <td>4</td>\n",
       "      <td>가이거 제니스시계 주얼리세트</td>\n",
       "      <td>잡화</td>\n",
       "      <td>139000.0</td>\n",
       "      <td>129000.0</td>\n",
       "      <td>134000.0</td>\n",
       "      <td>134000.0</td>\n",
       "      <td>10000.0</td>\n",
       "      <td>50000000.0</td>\n",
       "      <td>7071.067812</td>\n",
       "      <td>고가</td>\n",
       "    </tr>\n",
       "    <tr>\n",
       "      <th>...</th>\n",
       "      <td>...</td>\n",
       "      <td>...</td>\n",
       "      <td>...</td>\n",
       "      <td>...</td>\n",
       "      <td>...</td>\n",
       "      <td>...</td>\n",
       "      <td>...</td>\n",
       "      <td>...</td>\n",
       "      <td>...</td>\n",
       "      <td>...</td>\n",
       "      <td>...</td>\n",
       "    </tr>\n",
       "    <tr>\n",
       "      <th>1618</th>\n",
       "      <td>1618</td>\n",
       "      <td>QISS 프리미어 아침에 끌리다 마시는한끼 21통</td>\n",
       "      <td>농수축</td>\n",
       "      <td>56900.0</td>\n",
       "      <td>56900.0</td>\n",
       "      <td>56900.0</td>\n",
       "      <td>56900.0</td>\n",
       "      <td>0.0</td>\n",
       "      <td>0.0</td>\n",
       "      <td>0.000000</td>\n",
       "      <td>저가</td>\n",
       "    </tr>\n",
       "    <tr>\n",
       "      <th>1619</th>\n",
       "      <td>1619</td>\n",
       "      <td>QISS 프리미어 아침에 끌리다 마시는한끼 42통</td>\n",
       "      <td>농수축</td>\n",
       "      <td>76900.0</td>\n",
       "      <td>76900.0</td>\n",
       "      <td>76900.0</td>\n",
       "      <td>76900.0</td>\n",
       "      <td>0.0</td>\n",
       "      <td>0.0</td>\n",
       "      <td>0.000000</td>\n",
       "      <td>중저가</td>\n",
       "    </tr>\n",
       "    <tr>\n",
       "      <th>1620</th>\n",
       "      <td>1620</td>\n",
       "      <td>W클라우드 남성 데일리 트레킹화 3종</td>\n",
       "      <td>잡화</td>\n",
       "      <td>49800.0</td>\n",
       "      <td>49800.0</td>\n",
       "      <td>49800.0</td>\n",
       "      <td>49800.0</td>\n",
       "      <td>0.0</td>\n",
       "      <td>0.0</td>\n",
       "      <td>0.000000</td>\n",
       "      <td>저가</td>\n",
       "    </tr>\n",
       "    <tr>\n",
       "      <th>1621</th>\n",
       "      <td>1621</td>\n",
       "      <td>W클라우드 여성 데일리 트레킹화 3종</td>\n",
       "      <td>잡화</td>\n",
       "      <td>49800.0</td>\n",
       "      <td>49800.0</td>\n",
       "      <td>49800.0</td>\n",
       "      <td>49800.0</td>\n",
       "      <td>0.0</td>\n",
       "      <td>0.0</td>\n",
       "      <td>0.000000</td>\n",
       "      <td>저가</td>\n",
       "    </tr>\n",
       "    <tr>\n",
       "      <th>1622</th>\n",
       "      <td>1622</td>\n",
       "      <td>아놀드파마 티셔츠 레깅스 세트</td>\n",
       "      <td>의류</td>\n",
       "      <td>69900.0</td>\n",
       "      <td>69900.0</td>\n",
       "      <td>69900.0</td>\n",
       "      <td>69900.0</td>\n",
       "      <td>0.0</td>\n",
       "      <td>0.0</td>\n",
       "      <td>0.000000</td>\n",
       "      <td>중저가</td>\n",
       "    </tr>\n",
       "  </tbody>\n",
       "</table>\n",
       "<p>1623 rows × 11 columns</p>\n",
       "</div>"
      ],
      "text/plain": [
       "      NEW상품코드                       NEW상품명  상품군  NEW_최고판매단가  NEW_최저판매단가  \\\n",
       "0           0       가이거 남성 블랙 에디션 다이아몬드 워치   잡화    178000.0    178000.0   \n",
       "1           1            가이거 무빙스타 다이아몬드 워치   잡화    129000.0    119000.0   \n",
       "2           2      가이거 무빙스타 다이아몬드 워치 + 보석함   잡화    119000.0     99000.0   \n",
       "3           3       가이거 여성 블랙 에디션 다이아몬드 워치   잡화    178000.0    178000.0   \n",
       "4           4              가이거 제니스시계 주얼리세트   잡화    139000.0    129000.0   \n",
       "...       ...                          ...  ...         ...         ...   \n",
       "1618     1618  QISS 프리미어 아침에 끌리다 마시는한끼 21통  농수축     56900.0     56900.0   \n",
       "1619     1619  QISS 프리미어 아침에 끌리다 마시는한끼 42통  농수축     76900.0     76900.0   \n",
       "1620     1620         W클라우드 남성 데일리 트레킹화 3종   잡화     49800.0     49800.0   \n",
       "1621     1621         W클라우드 여성 데일리 트레킹화 3종   잡화     49800.0     49800.0   \n",
       "1622     1622             아놀드파마 티셔츠 레깅스 세트   의류     69900.0     69900.0   \n",
       "\n",
       "      NEW_평균판매단가  NEW_중간판매단가  NEW_최고-최저       NEW_분산      NEW_표준편차 전체_가격대  \n",
       "0       178000.0    178000.0        0.0          0.0      0.000000     고가  \n",
       "1       124000.0    124000.0    10000.0   50000000.0   7071.067812     고가  \n",
       "2       109000.0    109000.0    20000.0  200000000.0  14142.135624     고가  \n",
       "3       178000.0    178000.0        0.0          0.0      0.000000     고가  \n",
       "4       134000.0    134000.0    10000.0   50000000.0   7071.067812     고가  \n",
       "...          ...         ...        ...          ...           ...    ...  \n",
       "1618     56900.0     56900.0        0.0          0.0      0.000000     저가  \n",
       "1619     76900.0     76900.0        0.0          0.0      0.000000    중저가  \n",
       "1620     49800.0     49800.0        0.0          0.0      0.000000     저가  \n",
       "1621     49800.0     49800.0        0.0          0.0      0.000000     저가  \n",
       "1622     69900.0     69900.0        0.0          0.0      0.000000    중저가  \n",
       "\n",
       "[1623 rows x 11 columns]"
      ]
     },
     "execution_count": 12,
     "metadata": {},
     "output_type": "execute_result"
    }
   ],
   "source": [
    "item"
   ]
  },
  {
   "cell_type": "code",
   "execution_count": 169,
   "metadata": {
    "Collapsed": "false"
   },
   "outputs": [],
   "source": [
    "data = joblib.load(os.path.join('..', '..', '0.Data', '05_분석데이터', 'test_FE.pkl'))"
   ]
  },
  {
   "cell_type": "code",
   "execution_count": 165,
   "metadata": {
    "Collapsed": "false"
   },
   "outputs": [],
   "source": [
    "data = joblib.load(os.path.join('..', '..', '0.Data', '05_분석데이터', 'train_FE.pkl'))"
   ]
  },
  {
   "cell_type": "code",
   "execution_count": 170,
   "metadata": {
    "Collapsed": "false"
   },
   "outputs": [],
   "source": [
    "locals().update(data)"
   ]
  },
  {
   "cell_type": "code",
   "execution_count": 171,
   "metadata": {
    "Collapsed": "false"
   },
   "outputs": [],
   "source": [
    "X.to_excel('./test.xlsx', index = False)"
   ]
  },
  {
   "cell_type": "code",
   "execution_count": 167,
   "metadata": {
    "Collapsed": "false"
   },
   "outputs": [
    {
     "data": {
      "text/plain": [
       "(35379, 401)"
      ]
     },
     "execution_count": 167,
     "metadata": {},
     "output_type": "execute_result"
    }
   ],
   "source": [
    "X.shape"
   ]
  },
  {
   "cell_type": "code",
   "execution_count": null,
   "metadata": {
    "Collapsed": "false"
   },
   "outputs": [],
   "source": []
  }
 ],
 "metadata": {
  "kernelspec": {
   "display_name": "Python 3",
   "language": "python",
   "name": "python3"
  },
  "language_info": {
   "codemirror_mode": {
    "name": "ipython",
    "version": 3
   },
   "file_extension": ".py",
   "mimetype": "text/x-python",
   "name": "python",
   "nbconvert_exporter": "python",
   "pygments_lexer": "ipython3",
   "version": "3.7.6"
  }
 },
 "nbformat": 4,
 "nbformat_minor": 4
}
