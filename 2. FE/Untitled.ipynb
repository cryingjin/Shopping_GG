{
 "cells": [
  {
   "cell_type": "code",
   "execution_count": 28,
   "metadata": {
    "Collapsed": "false"
   },
   "outputs": [],
   "source": [
    "import os\n",
    "import sys\n",
    "import math\n",
    "import joblib\n",
    "import numpy as np\n",
    "import pandas as pd\n",
    "import json\n",
    "import requests\n",
    "from datetime import datetime, timedelta, time\n",
    "from dateutil.relativedelta import relativedelta"
   ]
  },
  {
   "cell_type": "code",
   "execution_count": 52,
   "metadata": {
    "Collapsed": "false"
   },
   "outputs": [],
   "source": [
    "sale = pd.read_excel(os.path.join('..', '..', '0.Data', '01_제공데이터', '2020 빅콘테스트 데이터분석분야-챔피언리그_2019년 실적데이터_v1_200818.xlsx'), skiprows = 1)"
   ]
  },
  {
   "cell_type": "code",
   "execution_count": 53,
   "metadata": {
    "Collapsed": "false"
   },
   "outputs": [],
   "source": [
    "sale['방송날'] = sale['방송일시'].dt.date\n",
    "sale['방송월'] = sale['방송일시'].dt.month\n",
    "sale['방송일'] = sale['방송일시'].dt.day\n",
    "sale['방송시간'] = sale['방송일시'].dt.hour"
   ]
  },
  {
   "cell_type": "code",
   "execution_count": 54,
   "metadata": {
    "Collapsed": "false"
   },
   "outputs": [],
   "source": [
    "sale['방송일시'] = sale.apply(lambda x : datetime.combine(x['방송날'], time(x['방송시간'])), axis = 1)"
   ]
  },
  {
   "cell_type": "code",
   "execution_count": 55,
   "metadata": {
    "Collapsed": "false"
   },
   "outputs": [
    {
     "data": {
      "text/plain": [
       "0       2019-01-01 06:00:00\n",
       "1       2019-01-01 06:00:00\n",
       "2       2019-01-01 06:00:00\n",
       "3       2019-01-01 06:00:00\n",
       "4       2019-01-01 06:00:00\n",
       "                ...        \n",
       "38304   2020-01-01 00:00:00\n",
       "38305   2020-01-01 00:00:00\n",
       "38306   2020-01-01 01:00:00\n",
       "38307   2020-01-01 01:00:00\n",
       "38308   2020-01-01 01:00:00\n",
       "Name: 방송일시, Length: 38309, dtype: datetime64[ns]"
      ]
     },
     "execution_count": 55,
     "metadata": {},
     "output_type": "execute_result"
    }
   ],
   "source": [
    "sale['방송일시']"
   ]
  },
  {
   "cell_type": "code",
   "execution_count": 56,
   "metadata": {
    "Collapsed": "false"
   },
   "outputs": [],
   "source": [
    "import math\n",
    "sale['판매량'] = sale['취급액'] / sale['판매단가']\n",
    "sale['판매량'] = sale['판매량'].fillna(0).apply(lambda x : math.ceil(x))"
   ]
  },
  {
   "cell_type": "code",
   "execution_count": 45,
   "metadata": {
    "Collapsed": "false"
   },
   "outputs": [],
   "source": [
    "piv = sale[['방송일시', '판매량']].groupby('방송일시').mean().T"
   ]
  },
  {
   "cell_type": "code",
   "execution_count": 65,
   "metadata": {
    "Collapsed": "false"
   },
   "outputs": [
    {
     "data": {
      "text/html": [
       "<div>\n",
       "<style scoped>\n",
       "    .dataframe tbody tr th:only-of-type {\n",
       "        vertical-align: middle;\n",
       "    }\n",
       "\n",
       "    .dataframe tbody tr th {\n",
       "        vertical-align: top;\n",
       "    }\n",
       "\n",
       "    .dataframe thead th {\n",
       "        text-align: right;\n",
       "    }\n",
       "</style>\n",
       "<table border=\"1\" class=\"dataframe\">\n",
       "  <thead>\n",
       "    <tr style=\"text-align: right;\">\n",
       "      <th>방송일시</th>\n",
       "      <th>2019-01-01 06:00:00</th>\n",
       "      <th>2019-01-01 07:00:00</th>\n",
       "      <th>2019-01-01 08:00:00</th>\n",
       "      <th>2019-01-01 09:00:00</th>\n",
       "      <th>2019-01-01 10:00:00</th>\n",
       "      <th>2019-01-01 11:00:00</th>\n",
       "      <th>2019-01-01 12:00:00</th>\n",
       "      <th>2019-01-01 13:00:00</th>\n",
       "      <th>2019-01-01 14:00:00</th>\n",
       "      <th>2019-01-01 15:00:00</th>\n",
       "      <th>...</th>\n",
       "      <th>2019-12-31 16:00:00</th>\n",
       "      <th>2019-12-31 17:00:00</th>\n",
       "      <th>2019-12-31 18:00:00</th>\n",
       "      <th>2019-12-31 19:00:00</th>\n",
       "      <th>2019-12-31 20:00:00</th>\n",
       "      <th>2019-12-31 21:00:00</th>\n",
       "      <th>2019-12-31 22:00:00</th>\n",
       "      <th>2019-12-31 23:00:00</th>\n",
       "      <th>2020-01-01 00:00:00</th>\n",
       "      <th>2020-01-01 01:00:00</th>\n",
       "    </tr>\n",
       "  </thead>\n",
       "  <tbody>\n",
       "    <tr>\n",
       "      <th>판매량</th>\n",
       "      <td>137.166667</td>\n",
       "      <td>270.666667</td>\n",
       "      <td>555.333333</td>\n",
       "      <td>384.333333</td>\n",
       "      <td>1083.666667</td>\n",
       "      <td>532.0</td>\n",
       "      <td>1052.333333</td>\n",
       "      <td>512.5</td>\n",
       "      <td>252.5</td>\n",
       "      <td>472.0</td>\n",
       "      <td>...</td>\n",
       "      <td>337.4</td>\n",
       "      <td>777.5</td>\n",
       "      <td>783.0</td>\n",
       "      <td>245.857143</td>\n",
       "      <td>39.727273</td>\n",
       "      <td>62.625</td>\n",
       "      <td>19.0</td>\n",
       "      <td>36.0</td>\n",
       "      <td>218.666667</td>\n",
       "      <td>0.0</td>\n",
       "    </tr>\n",
       "  </tbody>\n",
       "</table>\n",
       "<p>1 rows × 7344 columns</p>\n",
       "</div>"
      ],
      "text/plain": [
       "방송일시  2019-01-01 06:00:00  2019-01-01 07:00:00  2019-01-01 08:00:00  \\\n",
       "판매량            137.166667           270.666667           555.333333   \n",
       "\n",
       "방송일시  2019-01-01 09:00:00  2019-01-01 10:00:00  2019-01-01 11:00:00  \\\n",
       "판매량            384.333333          1083.666667                532.0   \n",
       "\n",
       "방송일시  2019-01-01 12:00:00  2019-01-01 13:00:00  2019-01-01 14:00:00  \\\n",
       "판매량           1052.333333                512.5                252.5   \n",
       "\n",
       "방송일시  2019-01-01 15:00:00  ...  2019-12-31 16:00:00  2019-12-31 17:00:00  \\\n",
       "판매량                 472.0  ...                337.4                777.5   \n",
       "\n",
       "방송일시  2019-12-31 18:00:00  2019-12-31 19:00:00  2019-12-31 20:00:00  \\\n",
       "판매량                 783.0           245.857143            39.727273   \n",
       "\n",
       "방송일시  2019-12-31 21:00:00  2019-12-31 22:00:00  2019-12-31 23:00:00  \\\n",
       "판매량                62.625                 19.0                 36.0   \n",
       "\n",
       "방송일시  2020-01-01 00:00:00  2020-01-01 01:00:00  \n",
       "판매량            218.666667                  0.0  \n",
       "\n",
       "[1 rows x 7344 columns]"
      ]
     },
     "execution_count": 65,
     "metadata": {},
     "output_type": "execute_result"
    }
   ],
   "source": [
    "piv"
   ]
  },
  {
   "cell_type": "code",
   "execution_count": 66,
   "metadata": {
    "Collapsed": "false"
   },
   "outputs": [],
   "source": [
    "piv = sale[['방송월', '방송시간', '판매량']].groupby(['방송월', '방송시간']).mean().reset_index()"
   ]
  },
  {
   "cell_type": "code",
   "execution_count": 67,
   "metadata": {
    "Collapsed": "false"
   },
   "outputs": [],
   "source": [
    "pivT = piv.T\n",
    "ema_s = pivT.ewm(span=4).mean()\n",
    "ema_m = pivT.ewm(span=12).mean()\n",
    "ema_l = pivT.ewm(span=26).mean()\n",
    "macd = ema_s - ema_l\n",
    "sig = macd.ewm(span=9).mean()"
   ]
  },
  {
   "cell_type": "code",
   "execution_count": 70,
   "metadata": {
    "Collapsed": "false"
   },
   "outputs": [
    {
     "data": {
      "text/html": [
       "<div>\n",
       "<style scoped>\n",
       "    .dataframe tbody tr th:only-of-type {\n",
       "        vertical-align: middle;\n",
       "    }\n",
       "\n",
       "    .dataframe tbody tr th {\n",
       "        vertical-align: top;\n",
       "    }\n",
       "\n",
       "    .dataframe thead th {\n",
       "        text-align: right;\n",
       "    }\n",
       "</style>\n",
       "<table border=\"1\" class=\"dataframe\">\n",
       "  <thead>\n",
       "    <tr style=\"text-align: right;\">\n",
       "      <th></th>\n",
       "      <th>방송월</th>\n",
       "      <th>방송시간</th>\n",
       "      <th>판매량</th>\n",
       "    </tr>\n",
       "  </thead>\n",
       "  <tbody>\n",
       "    <tr>\n",
       "      <th>0</th>\n",
       "      <td>1.000000</td>\n",
       "      <td>0.000000</td>\n",
       "      <td>316.145038</td>\n",
       "    </tr>\n",
       "    <tr>\n",
       "      <th>1</th>\n",
       "      <td>1.000000</td>\n",
       "      <td>0.519231</td>\n",
       "      <td>242.079345</td>\n",
       "    </tr>\n",
       "    <tr>\n",
       "      <th>2</th>\n",
       "      <td>1.000000</td>\n",
       "      <td>2.488418</td>\n",
       "      <td>225.063714</td>\n",
       "    </tr>\n",
       "    <tr>\n",
       "      <th>3</th>\n",
       "      <td>1.000000</td>\n",
       "      <td>3.749659</td>\n",
       "      <td>246.472780</td>\n",
       "    </tr>\n",
       "    <tr>\n",
       "      <th>4</th>\n",
       "      <td>1.000000</td>\n",
       "      <td>4.735331</td>\n",
       "      <td>282.891701</td>\n",
       "    </tr>\n",
       "    <tr>\n",
       "      <th>...</th>\n",
       "      <td>...</td>\n",
       "      <td>...</td>\n",
       "      <td>...</td>\n",
       "    </tr>\n",
       "    <tr>\n",
       "      <th>238</th>\n",
       "      <td>11.662461</td>\n",
       "      <td>13.322743</td>\n",
       "      <td>421.891157</td>\n",
       "    </tr>\n",
       "    <tr>\n",
       "      <th>239</th>\n",
       "      <td>11.687464</td>\n",
       "      <td>13.817355</td>\n",
       "      <td>410.760687</td>\n",
       "    </tr>\n",
       "    <tr>\n",
       "      <th>240</th>\n",
       "      <td>11.710615</td>\n",
       "      <td>14.349403</td>\n",
       "      <td>401.798947</td>\n",
       "    </tr>\n",
       "    <tr>\n",
       "      <th>241</th>\n",
       "      <td>11.732051</td>\n",
       "      <td>14.916113</td>\n",
       "      <td>384.662353</td>\n",
       "    </tr>\n",
       "    <tr>\n",
       "      <th>242</th>\n",
       "      <td>11.751899</td>\n",
       "      <td>15.514920</td>\n",
       "      <td>366.171081</td>\n",
       "    </tr>\n",
       "  </tbody>\n",
       "</table>\n",
       "<p>243 rows × 3 columns</p>\n",
       "</div>"
      ],
      "text/plain": [
       "           방송월       방송시간         판매량\n",
       "0     1.000000   0.000000  316.145038\n",
       "1     1.000000   0.519231  242.079345\n",
       "2     1.000000   2.488418  225.063714\n",
       "3     1.000000   3.749659  246.472780\n",
       "4     1.000000   4.735331  282.891701\n",
       "..         ...        ...         ...\n",
       "238  11.662461  13.322743  421.891157\n",
       "239  11.687464  13.817355  410.760687\n",
       "240  11.710615  14.349403  401.798947\n",
       "241  11.732051  14.916113  384.662353\n",
       "242  11.751899  15.514920  366.171081\n",
       "\n",
       "[243 rows x 3 columns]"
      ]
     },
     "execution_count": 70,
     "metadata": {},
     "output_type": "execute_result"
    }
   ],
   "source": [
    "piv.ewm(span=26).mean()"
   ]
  },
  {
   "cell_type": "code",
   "execution_count": null,
   "metadata": {
    "Collapsed": "false"
   },
   "outputs": [],
   "source": []
  },
  {
   "cell_type": "code",
   "execution_count": 3,
   "metadata": {
    "Collapsed": "false"
   },
   "outputs": [],
   "source": [
    "def engineering_timeSeries(df, dataset):\n",
    "    \n",
    "    df['방송날'] = df['방송일시'].dt.date\n",
    "    df['방송날'] = pd.to_datetime(df['방송날'])\n",
    "    \n",
    "    if dataset == 'train':\n",
    "        piv = pd.pivot_table(df, index = '상품군', columns = '방송날', values = '판매량', aggfunc=np.mean)\n",
    "        pivT = piv.T\n",
    "\n",
    "        ema_s = pivT.ewm(span=4).mean()\n",
    "        ema_m = pivT.ewm(span=12).mean()\n",
    "        ema_l = pivT.ewm(span=26).mean()\n",
    "        macd = ema_s - ema_l\n",
    "        sig = macd.ewm(span=9).mean()\n",
    "\n",
    "        rol14 = pivT.fillna(0).rolling(14).mean()\n",
    "        rol30 = pivT.fillna(0).rolling(30).mean()\n",
    "\n",
    "\n",
    "        for tb, column in zip([ema_s, ema_m, ema_l, macd, sig, rol14, rol30], ['ema_s', 'ema_m', 'ema_l', 'macd', 'sig', 'rol14', 'rol30']):\n",
    "            new_columns = list(map(lambda x : '_'.join((column, x)), tb.columns))\n",
    "            tb.columns = new_columns\n",
    "\n",
    "        timeS = pd.concat([ema_s, ema_m, ema_l, macd, sig, rol14, rol30], axis = 1)\n",
    "        timeS = timeS.drop(timeS.columns[timeS.columns.str.contains('무형')], axis = 1)\n",
    "        timeS = timeS.reset_index()\n",
    "        timeS['방송날'] = pd.to_datetime(timeS['방송날'])\n",
    "        \n",
    "        joblib.dump(timeS,\n",
    "                   os.path.join('..', '..', '0.Data', '01_제공데이터', 'data4time.pkl'))\n",
    "        \n",
    "    elif dataset == 'test':\n",
    "        \n",
    "        timeS = joblib.load(os.path.join('..', '..', '0.Data', '01_제공데이터', 'data4time.pkl'))\n",
    "        df['방송날'] = df['방송날'].apply(lambda x : x - relativedelta(years=1))\n",
    "\n",
    "    timeFE = ['ema_s', 'ema_m', 'ema_l', 'macd', 'sig', 'rol14', 'rol30']\n",
    "    temp = pd.DataFrame(columns = timeFE)\n",
    "    df = pd.concat([df, temp], axis = 1)\n",
    "    \n",
    "    for dt, cate in df[['방송날', '상품군']].drop_duplicates().values:\n",
    "        try:\n",
    "            df.loc[(df['방송날'] == dt) & (df['상품군'] == cate), ['ema_s', 'ema_m', 'ema_l', 'macd', 'sig', 'rol14', 'rol30']] = timeS.loc[timeS['방송날'] == dt, timeS.columns[timeS.columns.str.contains(cate)]].values\n",
    "        except:\n",
    "            continue\n",
    "    df = df.drop('방송날', axis = 1)\n",
    "    df[timeFE] = df[timeFE].astype(float)\n",
    "    \n",
    "    return df"
   ]
  },
  {
   "cell_type": "code",
   "execution_count": 95,
   "metadata": {
    "Collapsed": "false"
   },
   "outputs": [],
   "source": [
    "piv = pd.pivot_table(sale, index = '상품군', columns = '방송일시', values = '판매량', aggfunc='sum')"
   ]
  },
  {
   "cell_type": "code",
   "execution_count": 79,
   "metadata": {
    "Collapsed": "false"
   },
   "outputs": [],
   "source": [
    "pivT = piv.T\n",
    "ema_s = pivT.ewm(span=4).mean()\n",
    "ema_m = pivT.ewm(span=12).mean()\n",
    "ema_l = pivT.ewm(span=26).mean()\n",
    "macd = ema_s - ema_l\n",
    "sig = macd.ewm(span=9).mean()"
   ]
  },
  {
   "cell_type": "code",
   "execution_count": 100,
   "metadata": {
    "Collapsed": "false"
   },
   "outputs": [],
   "source": [
    "piv = pd.pivot_table(sale, index = '상품군', columns = '방송시간', values = '판매량', aggfunc=np.mean)"
   ]
  },
  {
   "cell_type": "code",
   "execution_count": 103,
   "metadata": {
    "Collapsed": "false"
   },
   "outputs": [],
   "source": [
    "pivT = piv.T\n",
    "ema_s = pivT.ewm(span=4).mean()\n",
    "ema_m = pivT.ewm(span=12).mean()\n",
    "ema_l = pivT.ewm(span=26).mean()\n",
    "macd = ema_s - ema_l\n",
    "sig = macd.ewm(span=9).mean()"
   ]
  },
  {
   "cell_type": "code",
   "execution_count": 115,
   "metadata": {
    "Collapsed": "false"
   },
   "outputs": [
    {
     "data": {
      "text/html": [
       "<div>\n",
       "<style scoped>\n",
       "    .dataframe tbody tr th:only-of-type {\n",
       "        vertical-align: middle;\n",
       "    }\n",
       "\n",
       "    .dataframe tbody tr th {\n",
       "        vertical-align: top;\n",
       "    }\n",
       "\n",
       "    .dataframe thead th {\n",
       "        text-align: right;\n",
       "    }\n",
       "</style>\n",
       "<table border=\"1\" class=\"dataframe\">\n",
       "  <thead>\n",
       "    <tr style=\"text-align: right;\">\n",
       "      <th></th>\n",
       "      <th>방송일시</th>\n",
       "      <th>노출(분)</th>\n",
       "      <th>마더코드</th>\n",
       "      <th>상품코드</th>\n",
       "      <th>상품명</th>\n",
       "      <th>상품군</th>\n",
       "      <th>판매단가</th>\n",
       "      <th>취급액</th>\n",
       "      <th>방송날</th>\n",
       "      <th>방송월</th>\n",
       "      <th>방송일</th>\n",
       "      <th>방송시간</th>\n",
       "      <th>판매량</th>\n",
       "    </tr>\n",
       "  </thead>\n",
       "  <tbody>\n",
       "    <tr>\n",
       "      <th>0</th>\n",
       "      <td>2019-01-01 06:00:00</td>\n",
       "      <td>20.000000</td>\n",
       "      <td>100346</td>\n",
       "      <td>201072</td>\n",
       "      <td>테이트 남성 셀린니트3종</td>\n",
       "      <td>의류</td>\n",
       "      <td>39900</td>\n",
       "      <td>2099000.0</td>\n",
       "      <td>2019-01-01</td>\n",
       "      <td>1</td>\n",
       "      <td>1</td>\n",
       "      <td>6</td>\n",
       "      <td>53</td>\n",
       "    </tr>\n",
       "    <tr>\n",
       "      <th>1</th>\n",
       "      <td>2019-01-01 06:00:00</td>\n",
       "      <td>NaN</td>\n",
       "      <td>100346</td>\n",
       "      <td>201079</td>\n",
       "      <td>테이트 여성 셀린니트3종</td>\n",
       "      <td>의류</td>\n",
       "      <td>39900</td>\n",
       "      <td>4371000.0</td>\n",
       "      <td>2019-01-01</td>\n",
       "      <td>1</td>\n",
       "      <td>1</td>\n",
       "      <td>6</td>\n",
       "      <td>110</td>\n",
       "    </tr>\n",
       "    <tr>\n",
       "      <th>2</th>\n",
       "      <td>2019-01-01 06:00:00</td>\n",
       "      <td>20.000000</td>\n",
       "      <td>100346</td>\n",
       "      <td>201072</td>\n",
       "      <td>테이트 남성 셀린니트3종</td>\n",
       "      <td>의류</td>\n",
       "      <td>39900</td>\n",
       "      <td>3262000.0</td>\n",
       "      <td>2019-01-01</td>\n",
       "      <td>1</td>\n",
       "      <td>1</td>\n",
       "      <td>6</td>\n",
       "      <td>82</td>\n",
       "    </tr>\n",
       "    <tr>\n",
       "      <th>3</th>\n",
       "      <td>2019-01-01 06:00:00</td>\n",
       "      <td>NaN</td>\n",
       "      <td>100346</td>\n",
       "      <td>201079</td>\n",
       "      <td>테이트 여성 셀린니트3종</td>\n",
       "      <td>의류</td>\n",
       "      <td>39900</td>\n",
       "      <td>6955000.0</td>\n",
       "      <td>2019-01-01</td>\n",
       "      <td>1</td>\n",
       "      <td>1</td>\n",
       "      <td>6</td>\n",
       "      <td>175</td>\n",
       "    </tr>\n",
       "    <tr>\n",
       "      <th>4</th>\n",
       "      <td>2019-01-01 06:00:00</td>\n",
       "      <td>20.000000</td>\n",
       "      <td>100346</td>\n",
       "      <td>201072</td>\n",
       "      <td>테이트 남성 셀린니트3종</td>\n",
       "      <td>의류</td>\n",
       "      <td>39900</td>\n",
       "      <td>6672000.0</td>\n",
       "      <td>2019-01-01</td>\n",
       "      <td>1</td>\n",
       "      <td>1</td>\n",
       "      <td>6</td>\n",
       "      <td>168</td>\n",
       "    </tr>\n",
       "    <tr>\n",
       "      <th>...</th>\n",
       "      <td>...</td>\n",
       "      <td>...</td>\n",
       "      <td>...</td>\n",
       "      <td>...</td>\n",
       "      <td>...</td>\n",
       "      <td>...</td>\n",
       "      <td>...</td>\n",
       "      <td>...</td>\n",
       "      <td>...</td>\n",
       "      <td>...</td>\n",
       "      <td>...</td>\n",
       "      <td>...</td>\n",
       "      <td>...</td>\n",
       "    </tr>\n",
       "    <tr>\n",
       "      <th>38304</th>\n",
       "      <td>2020-01-01 00:00:00</td>\n",
       "      <td>20.000000</td>\n",
       "      <td>100073</td>\n",
       "      <td>200196</td>\n",
       "      <td>삼성화재 행복한파트너 주택화재보험(1912)</td>\n",
       "      <td>무형</td>\n",
       "      <td>0</td>\n",
       "      <td>NaN</td>\n",
       "      <td>2020-01-01</td>\n",
       "      <td>1</td>\n",
       "      <td>1</td>\n",
       "      <td>0</td>\n",
       "      <td>0</td>\n",
       "    </tr>\n",
       "    <tr>\n",
       "      <th>38305</th>\n",
       "      <td>2020-01-01 00:00:00</td>\n",
       "      <td>20.000000</td>\n",
       "      <td>100073</td>\n",
       "      <td>200196</td>\n",
       "      <td>삼성화재 행복한파트너 주택화재보험(1912)</td>\n",
       "      <td>무형</td>\n",
       "      <td>0</td>\n",
       "      <td>NaN</td>\n",
       "      <td>2020-01-01</td>\n",
       "      <td>1</td>\n",
       "      <td>1</td>\n",
       "      <td>0</td>\n",
       "      <td>0</td>\n",
       "    </tr>\n",
       "    <tr>\n",
       "      <th>38306</th>\n",
       "      <td>2020-01-01 01:00:00</td>\n",
       "      <td>20.000000</td>\n",
       "      <td>100073</td>\n",
       "      <td>200196</td>\n",
       "      <td>삼성화재 행복한파트너 주택화재보험(1912)</td>\n",
       "      <td>무형</td>\n",
       "      <td>0</td>\n",
       "      <td>NaN</td>\n",
       "      <td>2020-01-01</td>\n",
       "      <td>1</td>\n",
       "      <td>1</td>\n",
       "      <td>1</td>\n",
       "      <td>0</td>\n",
       "    </tr>\n",
       "    <tr>\n",
       "      <th>38307</th>\n",
       "      <td>2020-01-01 01:00:00</td>\n",
       "      <td>20.000000</td>\n",
       "      <td>100490</td>\n",
       "      <td>201478</td>\n",
       "      <td>더케이 예다함 상조서비스(티포트)</td>\n",
       "      <td>무형</td>\n",
       "      <td>0</td>\n",
       "      <td>NaN</td>\n",
       "      <td>2020-01-01</td>\n",
       "      <td>1</td>\n",
       "      <td>1</td>\n",
       "      <td>1</td>\n",
       "      <td>0</td>\n",
       "    </tr>\n",
       "    <tr>\n",
       "      <th>38308</th>\n",
       "      <td>2020-01-01 01:00:00</td>\n",
       "      <td>17.166667</td>\n",
       "      <td>100490</td>\n",
       "      <td>201478</td>\n",
       "      <td>더케이 예다함 상조서비스(티포트)</td>\n",
       "      <td>무형</td>\n",
       "      <td>0</td>\n",
       "      <td>NaN</td>\n",
       "      <td>2020-01-01</td>\n",
       "      <td>1</td>\n",
       "      <td>1</td>\n",
       "      <td>1</td>\n",
       "      <td>0</td>\n",
       "    </tr>\n",
       "  </tbody>\n",
       "</table>\n",
       "<p>38309 rows × 13 columns</p>\n",
       "</div>"
      ],
      "text/plain": [
       "                     방송일시      노출(분)    마더코드    상품코드  \\\n",
       "0     2019-01-01 06:00:00  20.000000  100346  201072   \n",
       "1     2019-01-01 06:00:00        NaN  100346  201079   \n",
       "2     2019-01-01 06:00:00  20.000000  100346  201072   \n",
       "3     2019-01-01 06:00:00        NaN  100346  201079   \n",
       "4     2019-01-01 06:00:00  20.000000  100346  201072   \n",
       "...                   ...        ...     ...     ...   \n",
       "38304 2020-01-01 00:00:00  20.000000  100073  200196   \n",
       "38305 2020-01-01 00:00:00  20.000000  100073  200196   \n",
       "38306 2020-01-01 01:00:00  20.000000  100073  200196   \n",
       "38307 2020-01-01 01:00:00  20.000000  100490  201478   \n",
       "38308 2020-01-01 01:00:00  17.166667  100490  201478   \n",
       "\n",
       "                            상품명 상품군   판매단가        취급액         방송날  방송월  방송일  \\\n",
       "0                 테이트 남성 셀린니트3종  의류  39900  2099000.0  2019-01-01    1    1   \n",
       "1                 테이트 여성 셀린니트3종  의류  39900  4371000.0  2019-01-01    1    1   \n",
       "2                 테이트 남성 셀린니트3종  의류  39900  3262000.0  2019-01-01    1    1   \n",
       "3                 테이트 여성 셀린니트3종  의류  39900  6955000.0  2019-01-01    1    1   \n",
       "4                 테이트 남성 셀린니트3종  의류  39900  6672000.0  2019-01-01    1    1   \n",
       "...                         ...  ..    ...        ...         ...  ...  ...   \n",
       "38304  삼성화재 행복한파트너 주택화재보험(1912)  무형      0        NaN  2020-01-01    1    1   \n",
       "38305  삼성화재 행복한파트너 주택화재보험(1912)  무형      0        NaN  2020-01-01    1    1   \n",
       "38306  삼성화재 행복한파트너 주택화재보험(1912)  무형      0        NaN  2020-01-01    1    1   \n",
       "38307        더케이 예다함 상조서비스(티포트)  무형      0        NaN  2020-01-01    1    1   \n",
       "38308        더케이 예다함 상조서비스(티포트)  무형      0        NaN  2020-01-01    1    1   \n",
       "\n",
       "       방송시간  판매량  \n",
       "0         6   53  \n",
       "1         6  110  \n",
       "2         6   82  \n",
       "3         6  175  \n",
       "4         6  168  \n",
       "...     ...  ...  \n",
       "38304     0    0  \n",
       "38305     0    0  \n",
       "38306     1    0  \n",
       "38307     1    0  \n",
       "38308     1    0  \n",
       "\n",
       "[38309 rows x 13 columns]"
      ]
     },
     "execution_count": 115,
     "metadata": {},
     "output_type": "execute_result"
    }
   ],
   "source": [
    "sale"
   ]
  },
  {
   "cell_type": "code",
   "execution_count": 151,
   "metadata": {
    "Collapsed": "false"
   },
   "outputs": [],
   "source": [
    "temp = pd.pivot_table(sale, index = '방송시간', columns = '상품군', values = '판매량', aggfunc = 'count').reset_index()\n",
    "temp.columns = ['방송시간'] + list(map(lambda x : 'count_' + x, temp.columns[1:]))"
   ]
  },
  {
   "cell_type": "code",
   "execution_count": 153,
   "metadata": {
    "Collapsed": "false"
   },
   "outputs": [
    {
     "data": {
      "text/plain": [
       "['방송시간',\n",
       " 'count_가구',\n",
       " 'count_가전',\n",
       " 'count_건강기능',\n",
       " 'count_농수축',\n",
       " 'count_무형',\n",
       " 'count_생활용품',\n",
       " 'count_속옷',\n",
       " 'count_의류',\n",
       " 'count_이미용',\n",
       " 'count_잡화',\n",
       " 'count_주방',\n",
       " 'count_침구']"
      ]
     },
     "execution_count": 153,
     "metadata": {},
     "output_type": "execute_result"
    }
   ],
   "source": [
    "list(temp.columns)"
   ]
  },
  {
   "cell_type": "code",
   "execution_count": 162,
   "metadata": {
    "Collapsed": "false"
   },
   "outputs": [],
   "source": [
    "temp = pd.pivot_table(sale, index = '방송날', columns = '상품군', values = '판매량', aggfunc = 'count').reset_index()"
   ]
  },
  {
   "cell_type": "code",
   "execution_count": 163,
   "metadata": {
    "Collapsed": "false"
   },
   "outputs": [],
   "source": [
    "temp['방송날'] = pd.to_datetime(temp['방송날']).apply(lambda x : x + relativedelta(months=1))"
   ]
  },
  {
   "cell_type": "code",
   "execution_count": 164,
   "metadata": {
    "Collapsed": "false"
   },
   "outputs": [],
   "source": [
    "temp.columns = ['방송날'] + list(map(lambda x : 'day_' + x, temp.columns[1:]))"
   ]
  },
  {
   "cell_type": "code",
   "execution_count": 165,
   "metadata": {
    "Collapsed": "false"
   },
   "outputs": [
    {
     "data": {
      "text/plain": [
       "['방송날',\n",
       " 'day_가구',\n",
       " 'day_가전',\n",
       " 'day_건강기능',\n",
       " 'day_농수축',\n",
       " 'day_무형',\n",
       " 'day_생활용품',\n",
       " 'day_속옷',\n",
       " 'day_의류',\n",
       " 'day_이미용',\n",
       " 'day_잡화',\n",
       " 'day_주방',\n",
       " 'day_침구']"
      ]
     },
     "execution_count": 165,
     "metadata": {},
     "output_type": "execute_result"
    }
   ],
   "source": [
    "list(temp.columns)"
   ]
  },
  {
   "cell_type": "code",
   "execution_count": 166,
   "metadata": {},
   "outputs": [
    {
     "data": {
      "text/html": [
       "<div>\n",
       "<style scoped>\n",
       "    .dataframe tbody tr th:only-of-type {\n",
       "        vertical-align: middle;\n",
       "    }\n",
       "\n",
       "    .dataframe tbody tr th {\n",
       "        vertical-align: top;\n",
       "    }\n",
       "\n",
       "    .dataframe thead th {\n",
       "        text-align: right;\n",
       "    }\n",
       "</style>\n",
       "<table border=\"1\" class=\"dataframe\">\n",
       "  <thead>\n",
       "    <tr style=\"text-align: right;\">\n",
       "      <th></th>\n",
       "      <th>방송날</th>\n",
       "      <th>day_가구</th>\n",
       "      <th>day_가전</th>\n",
       "      <th>day_건강기능</th>\n",
       "      <th>day_농수축</th>\n",
       "      <th>day_무형</th>\n",
       "      <th>day_생활용품</th>\n",
       "      <th>day_속옷</th>\n",
       "      <th>day_의류</th>\n",
       "      <th>day_이미용</th>\n",
       "      <th>day_잡화</th>\n",
       "      <th>day_주방</th>\n",
       "      <th>day_침구</th>\n",
       "    </tr>\n",
       "  </thead>\n",
       "  <tbody>\n",
       "    <tr>\n",
       "      <th>0</th>\n",
       "      <td>2019-02-01</td>\n",
       "      <td>NaN</td>\n",
       "      <td>6.0</td>\n",
       "      <td>NaN</td>\n",
       "      <td>9.0</td>\n",
       "      <td>NaN</td>\n",
       "      <td>NaN</td>\n",
       "      <td>13.0</td>\n",
       "      <td>24.0</td>\n",
       "      <td>3.0</td>\n",
       "      <td>NaN</td>\n",
       "      <td>3.0</td>\n",
       "      <td>NaN</td>\n",
       "    </tr>\n",
       "    <tr>\n",
       "      <th>1</th>\n",
       "      <td>2019-02-02</td>\n",
       "      <td>NaN</td>\n",
       "      <td>24.0</td>\n",
       "      <td>3.0</td>\n",
       "      <td>18.0</td>\n",
       "      <td>NaN</td>\n",
       "      <td>3.0</td>\n",
       "      <td>20.0</td>\n",
       "      <td>11.0</td>\n",
       "      <td>NaN</td>\n",
       "      <td>NaN</td>\n",
       "      <td>27.0</td>\n",
       "      <td>NaN</td>\n",
       "    </tr>\n",
       "    <tr>\n",
       "      <th>2</th>\n",
       "      <td>2019-02-03</td>\n",
       "      <td>NaN</td>\n",
       "      <td>18.0</td>\n",
       "      <td>3.0</td>\n",
       "      <td>12.0</td>\n",
       "      <td>NaN</td>\n",
       "      <td>3.0</td>\n",
       "      <td>17.0</td>\n",
       "      <td>13.0</td>\n",
       "      <td>6.0</td>\n",
       "      <td>9.0</td>\n",
       "      <td>15.0</td>\n",
       "      <td>NaN</td>\n",
       "    </tr>\n",
       "    <tr>\n",
       "      <th>3</th>\n",
       "      <td>2019-02-04</td>\n",
       "      <td>NaN</td>\n",
       "      <td>6.0</td>\n",
       "      <td>3.0</td>\n",
       "      <td>12.0</td>\n",
       "      <td>NaN</td>\n",
       "      <td>6.0</td>\n",
       "      <td>11.0</td>\n",
       "      <td>11.0</td>\n",
       "      <td>3.0</td>\n",
       "      <td>NaN</td>\n",
       "      <td>30.0</td>\n",
       "      <td>NaN</td>\n",
       "    </tr>\n",
       "    <tr>\n",
       "      <th>4</th>\n",
       "      <td>2019-02-05</td>\n",
       "      <td>NaN</td>\n",
       "      <td>24.0</td>\n",
       "      <td>NaN</td>\n",
       "      <td>8.0</td>\n",
       "      <td>NaN</td>\n",
       "      <td>NaN</td>\n",
       "      <td>16.0</td>\n",
       "      <td>21.0</td>\n",
       "      <td>6.0</td>\n",
       "      <td>6.0</td>\n",
       "      <td>18.0</td>\n",
       "      <td>NaN</td>\n",
       "    </tr>\n",
       "    <tr>\n",
       "      <th>...</th>\n",
       "      <td>...</td>\n",
       "      <td>...</td>\n",
       "      <td>...</td>\n",
       "      <td>...</td>\n",
       "      <td>...</td>\n",
       "      <td>...</td>\n",
       "      <td>...</td>\n",
       "      <td>...</td>\n",
       "      <td>...</td>\n",
       "      <td>...</td>\n",
       "      <td>...</td>\n",
       "      <td>...</td>\n",
       "      <td>...</td>\n",
       "    </tr>\n",
       "    <tr>\n",
       "      <th>361</th>\n",
       "      <td>2020-01-28</td>\n",
       "      <td>NaN</td>\n",
       "      <td>NaN</td>\n",
       "      <td>3.0</td>\n",
       "      <td>11.0</td>\n",
       "      <td>12.0</td>\n",
       "      <td>18.0</td>\n",
       "      <td>3.0</td>\n",
       "      <td>12.0</td>\n",
       "      <td>3.0</td>\n",
       "      <td>23.0</td>\n",
       "      <td>18.0</td>\n",
       "      <td>NaN</td>\n",
       "    </tr>\n",
       "    <tr>\n",
       "      <th>362</th>\n",
       "      <td>2020-01-29</td>\n",
       "      <td>NaN</td>\n",
       "      <td>3.0</td>\n",
       "      <td>NaN</td>\n",
       "      <td>6.0</td>\n",
       "      <td>11.0</td>\n",
       "      <td>11.0</td>\n",
       "      <td>9.0</td>\n",
       "      <td>3.0</td>\n",
       "      <td>9.0</td>\n",
       "      <td>9.0</td>\n",
       "      <td>21.0</td>\n",
       "      <td>NaN</td>\n",
       "    </tr>\n",
       "    <tr>\n",
       "      <th>363</th>\n",
       "      <td>2020-01-30</td>\n",
       "      <td>NaN</td>\n",
       "      <td>3.0</td>\n",
       "      <td>6.0</td>\n",
       "      <td>15.0</td>\n",
       "      <td>1.0</td>\n",
       "      <td>6.0</td>\n",
       "      <td>9.0</td>\n",
       "      <td>12.0</td>\n",
       "      <td>6.0</td>\n",
       "      <td>6.0</td>\n",
       "      <td>6.0</td>\n",
       "      <td>NaN</td>\n",
       "    </tr>\n",
       "    <tr>\n",
       "      <th>364</th>\n",
       "      <td>2020-01-31</td>\n",
       "      <td>9.0</td>\n",
       "      <td>6.0</td>\n",
       "      <td>3.0</td>\n",
       "      <td>6.0</td>\n",
       "      <td>4.0</td>\n",
       "      <td>21.0</td>\n",
       "      <td>6.0</td>\n",
       "      <td>9.0</td>\n",
       "      <td>NaN</td>\n",
       "      <td>6.0</td>\n",
       "      <td>32.0</td>\n",
       "      <td>NaN</td>\n",
       "    </tr>\n",
       "    <tr>\n",
       "      <th>365</th>\n",
       "      <td>2020-02-01</td>\n",
       "      <td>NaN</td>\n",
       "      <td>NaN</td>\n",
       "      <td>NaN</td>\n",
       "      <td>NaN</td>\n",
       "      <td>5.0</td>\n",
       "      <td>NaN</td>\n",
       "      <td>NaN</td>\n",
       "      <td>NaN</td>\n",
       "      <td>NaN</td>\n",
       "      <td>NaN</td>\n",
       "      <td>4.0</td>\n",
       "      <td>NaN</td>\n",
       "    </tr>\n",
       "  </tbody>\n",
       "</table>\n",
       "<p>366 rows × 13 columns</p>\n",
       "</div>"
      ],
      "text/plain": [
       "           방송날  day_가구  day_가전  day_건강기능  day_농수축  day_무형  day_생활용품  day_속옷  \\\n",
       "0   2019-02-01     NaN     6.0       NaN      9.0     NaN       NaN    13.0   \n",
       "1   2019-02-02     NaN    24.0       3.0     18.0     NaN       3.0    20.0   \n",
       "2   2019-02-03     NaN    18.0       3.0     12.0     NaN       3.0    17.0   \n",
       "3   2019-02-04     NaN     6.0       3.0     12.0     NaN       6.0    11.0   \n",
       "4   2019-02-05     NaN    24.0       NaN      8.0     NaN       NaN    16.0   \n",
       "..         ...     ...     ...       ...      ...     ...       ...     ...   \n",
       "361 2020-01-28     NaN     NaN       3.0     11.0    12.0      18.0     3.0   \n",
       "362 2020-01-29     NaN     3.0       NaN      6.0    11.0      11.0     9.0   \n",
       "363 2020-01-30     NaN     3.0       6.0     15.0     1.0       6.0     9.0   \n",
       "364 2020-01-31     9.0     6.0       3.0      6.0     4.0      21.0     6.0   \n",
       "365 2020-02-01     NaN     NaN       NaN      NaN     5.0       NaN     NaN   \n",
       "\n",
       "     day_의류  day_이미용  day_잡화  day_주방  day_침구  \n",
       "0      24.0      3.0     NaN     3.0     NaN  \n",
       "1      11.0      NaN     NaN    27.0     NaN  \n",
       "2      13.0      6.0     9.0    15.0     NaN  \n",
       "3      11.0      3.0     NaN    30.0     NaN  \n",
       "4      21.0      6.0     6.0    18.0     NaN  \n",
       "..      ...      ...     ...     ...     ...  \n",
       "361    12.0      3.0    23.0    18.0     NaN  \n",
       "362     3.0      9.0     9.0    21.0     NaN  \n",
       "363    12.0      6.0     6.0     6.0     NaN  \n",
       "364     9.0      NaN     6.0    32.0     NaN  \n",
       "365     NaN      NaN     NaN     4.0     NaN  \n",
       "\n",
       "[366 rows x 13 columns]"
      ]
     },
     "execution_count": 166,
     "metadata": {},
     "output_type": "execute_result"
    }
   ],
   "source": [
    "temp"
   ]
  },
  {
   "cell_type": "code",
   "execution_count": 158,
   "metadata": {
    "Collapsed": "false"
   },
   "outputs": [],
   "source": [
    "temp = pd.pivot_table(sale, index = '방송일시', columns = '상품군', values = '판매량', aggfunc = 'count').reset_index()"
   ]
  },
  {
   "cell_type": "code",
   "execution_count": 159,
   "metadata": {
    "Collapsed": "false"
   },
   "outputs": [],
   "source": [
    "temp.columns = ['방송일시'] + list(map(lambda x : 'hour_' + x, temp.columns[1:]))"
   ]
  },
  {
   "cell_type": "code",
   "execution_count": 161,
   "metadata": {
    "Collapsed": "false"
   },
   "outputs": [
    {
     "data": {
      "text/plain": [
       "['방송일시',\n",
       " 'hour_가구',\n",
       " 'hour_가전',\n",
       " 'hour_건강기능',\n",
       " 'hour_농수축',\n",
       " 'hour_무형',\n",
       " 'hour_생활용품',\n",
       " 'hour_속옷',\n",
       " 'hour_의류',\n",
       " 'hour_이미용',\n",
       " 'hour_잡화',\n",
       " 'hour_주방',\n",
       " 'hour_침구']"
      ]
     },
     "execution_count": 161,
     "metadata": {},
     "output_type": "execute_result"
    }
   ],
   "source": [
    "list(temp.columns)"
   ]
  },
  {
   "cell_type": "code",
   "execution_count": null,
   "metadata": {
    "Collapsed": "false"
   },
   "outputs": [],
   "source": []
  }
 ],
 "metadata": {
  "kernelspec": {
   "display_name": "Python 3",
   "language": "python",
   "name": "python3"
  },
  "language_info": {
   "codemirror_mode": {
    "name": "ipython",
    "version": 3
   },
   "file_extension": ".py",
   "mimetype": "text/x-python",
   "name": "python",
   "nbconvert_exporter": "python",
   "pygments_lexer": "ipython3",
   "version": "3.7.6"
  }
 },
 "nbformat": 4,
 "nbformat_minor": 4
}
