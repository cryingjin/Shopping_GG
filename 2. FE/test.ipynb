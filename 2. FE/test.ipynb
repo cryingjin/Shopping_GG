{
 "cells": [
  {
   "cell_type": "code",
   "execution_count": 5,
   "metadata": {
    "Collapsed": "false"
   },
   "outputs": [],
   "source": [
    "import os\n",
    "import joblib\n",
    "import FE_extData as FEex\n",
    "import FE_innData as FEin\n",
    "import numpy as np\n",
    "import pandas as pd"
   ]
  },
  {
   "cell_type": "code",
   "execution_count": 115,
   "metadata": {
    "Collapsed": "false"
   },
   "outputs": [
    {
     "data": {
      "text/plain": [
       "<module 'FE_extData' from '/Users/jinseok/Jupyter/bigcon/Shopping_GG/2. FE/FE_extData.py'>"
      ]
     },
     "execution_count": 115,
     "metadata": {},
     "output_type": "execute_result"
    }
   ],
   "source": [
    "import imp\n",
    "imp.reload(FEin)\n",
    "imp.reload(FEex)"
   ]
  },
  {
   "cell_type": "code",
   "execution_count": 85,
   "metadata": {
    "Collapsed": "false"
   },
   "outputs": [],
   "source": [
    "dust_2019 = pd.read_csv(os.path.join('..', '..', '0.Data', '03_외부데이터', '2019_dust.csv'), encoding = 'cp949')\n",
    "dust_2020 = pd.read_csv(os.path.join('..', '..', '0.Data', '03_외부데이터', '2020_dust.csv'), encoding = 'cp949')\n",
    "df_dust = pd.concat([dust_2019, dust_2020], axis = 0)"
   ]
  },
  {
   "cell_type": "code",
   "execution_count": 87,
   "metadata": {
    "Collapsed": "false"
   },
   "outputs": [
    {
     "data": {
      "text/html": [
       "<div>\n",
       "<style scoped>\n",
       "    .dataframe tbody tr th:only-of-type {\n",
       "        vertical-align: middle;\n",
       "    }\n",
       "\n",
       "    .dataframe tbody tr th {\n",
       "        vertical-align: top;\n",
       "    }\n",
       "\n",
       "    .dataframe thead th {\n",
       "        text-align: right;\n",
       "    }\n",
       "</style>\n",
       "<table border=\"1\" class=\"dataframe\">\n",
       "  <thead>\n",
       "    <tr style=\"text-align: right;\">\n",
       "      <th></th>\n",
       "      <th>지역</th>\n",
       "      <th>망</th>\n",
       "      <th>측정소코드</th>\n",
       "      <th>측정소명</th>\n",
       "      <th>측정일시</th>\n",
       "      <th>SO2</th>\n",
       "      <th>CO</th>\n",
       "      <th>O3</th>\n",
       "      <th>NO2</th>\n",
       "      <th>PM10</th>\n",
       "      <th>PM25</th>\n",
       "      <th>주소</th>\n",
       "    </tr>\n",
       "  </thead>\n",
       "  <tbody>\n",
       "    <tr>\n",
       "      <th>0</th>\n",
       "      <td>서울 중구</td>\n",
       "      <td>도시대기</td>\n",
       "      <td>111121</td>\n",
       "      <td>중구</td>\n",
       "      <td>2019010101</td>\n",
       "      <td>0.003</td>\n",
       "      <td>0.7</td>\n",
       "      <td>0.003</td>\n",
       "      <td>0.054</td>\n",
       "      <td>39.0</td>\n",
       "      <td>24.0</td>\n",
       "      <td>서울 중구 덕수궁길 15</td>\n",
       "    </tr>\n",
       "    <tr>\n",
       "      <th>1</th>\n",
       "      <td>서울 중구</td>\n",
       "      <td>도시대기</td>\n",
       "      <td>111121</td>\n",
       "      <td>중구</td>\n",
       "      <td>2019010102</td>\n",
       "      <td>0.003</td>\n",
       "      <td>0.8</td>\n",
       "      <td>0.002</td>\n",
       "      <td>0.056</td>\n",
       "      <td>38.0</td>\n",
       "      <td>27.0</td>\n",
       "      <td>서울 중구 덕수궁길 15</td>\n",
       "    </tr>\n",
       "    <tr>\n",
       "      <th>2</th>\n",
       "      <td>서울 중구</td>\n",
       "      <td>도시대기</td>\n",
       "      <td>111121</td>\n",
       "      <td>중구</td>\n",
       "      <td>2019010103</td>\n",
       "      <td>0.003</td>\n",
       "      <td>0.9</td>\n",
       "      <td>0.002</td>\n",
       "      <td>0.057</td>\n",
       "      <td>42.0</td>\n",
       "      <td>28.0</td>\n",
       "      <td>서울 중구 덕수궁길 15</td>\n",
       "    </tr>\n",
       "    <tr>\n",
       "      <th>3</th>\n",
       "      <td>서울 중구</td>\n",
       "      <td>도시대기</td>\n",
       "      <td>111121</td>\n",
       "      <td>중구</td>\n",
       "      <td>2019010104</td>\n",
       "      <td>0.003</td>\n",
       "      <td>0.8</td>\n",
       "      <td>0.002</td>\n",
       "      <td>0.054</td>\n",
       "      <td>42.0</td>\n",
       "      <td>31.0</td>\n",
       "      <td>서울 중구 덕수궁길 15</td>\n",
       "    </tr>\n",
       "    <tr>\n",
       "      <th>4</th>\n",
       "      <td>서울 중구</td>\n",
       "      <td>도시대기</td>\n",
       "      <td>111121</td>\n",
       "      <td>중구</td>\n",
       "      <td>2019010105</td>\n",
       "      <td>0.003</td>\n",
       "      <td>0.8</td>\n",
       "      <td>0.002</td>\n",
       "      <td>0.048</td>\n",
       "      <td>49.0</td>\n",
       "      <td>33.0</td>\n",
       "      <td>서울 중구 덕수궁길 15</td>\n",
       "    </tr>\n",
       "    <tr>\n",
       "      <th>...</th>\n",
       "      <td>...</td>\n",
       "      <td>...</td>\n",
       "      <td>...</td>\n",
       "      <td>...</td>\n",
       "      <td>...</td>\n",
       "      <td>...</td>\n",
       "      <td>...</td>\n",
       "      <td>...</td>\n",
       "      <td>...</td>\n",
       "      <td>...</td>\n",
       "      <td>...</td>\n",
       "      <td>...</td>\n",
       "    </tr>\n",
       "    <tr>\n",
       "      <th>1858275</th>\n",
       "      <td>인천 옹진군</td>\n",
       "      <td>도시대기</td>\n",
       "      <td>831493</td>\n",
       "      <td>영흥</td>\n",
       "      <td>2020053120</td>\n",
       "      <td>0.004</td>\n",
       "      <td>0.3</td>\n",
       "      <td>0.069</td>\n",
       "      <td>0.006</td>\n",
       "      <td>31.0</td>\n",
       "      <td>24.0</td>\n",
       "      <td>인천광역시 옹진군 영흥면 영흥로251번길 90</td>\n",
       "    </tr>\n",
       "    <tr>\n",
       "      <th>1858276</th>\n",
       "      <td>인천 옹진군</td>\n",
       "      <td>도시대기</td>\n",
       "      <td>831493</td>\n",
       "      <td>영흥</td>\n",
       "      <td>2020053121</td>\n",
       "      <td>0.004</td>\n",
       "      <td>0.3</td>\n",
       "      <td>0.066</td>\n",
       "      <td>0.006</td>\n",
       "      <td>32.0</td>\n",
       "      <td>24.0</td>\n",
       "      <td>인천광역시 옹진군 영흥면 영흥로251번길 90</td>\n",
       "    </tr>\n",
       "    <tr>\n",
       "      <th>1858277</th>\n",
       "      <td>인천 옹진군</td>\n",
       "      <td>도시대기</td>\n",
       "      <td>831493</td>\n",
       "      <td>영흥</td>\n",
       "      <td>2020053122</td>\n",
       "      <td>0.004</td>\n",
       "      <td>0.3</td>\n",
       "      <td>0.060</td>\n",
       "      <td>0.007</td>\n",
       "      <td>34.0</td>\n",
       "      <td>28.0</td>\n",
       "      <td>인천광역시 옹진군 영흥면 영흥로251번길 90</td>\n",
       "    </tr>\n",
       "    <tr>\n",
       "      <th>1858278</th>\n",
       "      <td>인천 옹진군</td>\n",
       "      <td>도시대기</td>\n",
       "      <td>831493</td>\n",
       "      <td>영흥</td>\n",
       "      <td>2020053123</td>\n",
       "      <td>0.004</td>\n",
       "      <td>0.3</td>\n",
       "      <td>0.056</td>\n",
       "      <td>0.006</td>\n",
       "      <td>29.0</td>\n",
       "      <td>22.0</td>\n",
       "      <td>인천광역시 옹진군 영흥면 영흥로251번길 90</td>\n",
       "    </tr>\n",
       "    <tr>\n",
       "      <th>1858279</th>\n",
       "      <td>인천 옹진군</td>\n",
       "      <td>도시대기</td>\n",
       "      <td>831493</td>\n",
       "      <td>영흥</td>\n",
       "      <td>2020053124</td>\n",
       "      <td>0.004</td>\n",
       "      <td>0.3</td>\n",
       "      <td>0.054</td>\n",
       "      <td>0.006</td>\n",
       "      <td>22.0</td>\n",
       "      <td>21.0</td>\n",
       "      <td>인천광역시 옹진군 영흥면 영흥로251번길 90</td>\n",
       "    </tr>\n",
       "  </tbody>\n",
       "</table>\n",
       "<p>5815409 rows × 12 columns</p>\n",
       "</div>"
      ],
      "text/plain": [
       "             지역     망   측정소코드 측정소명        측정일시    SO2   CO     O3    NO2  \\\n",
       "0         서울 중구  도시대기  111121   중구  2019010101  0.003  0.7  0.003  0.054   \n",
       "1         서울 중구  도시대기  111121   중구  2019010102  0.003  0.8  0.002  0.056   \n",
       "2         서울 중구  도시대기  111121   중구  2019010103  0.003  0.9  0.002  0.057   \n",
       "3         서울 중구  도시대기  111121   중구  2019010104  0.003  0.8  0.002  0.054   \n",
       "4         서울 중구  도시대기  111121   중구  2019010105  0.003  0.8  0.002  0.048   \n",
       "...         ...   ...     ...  ...         ...    ...  ...    ...    ...   \n",
       "1858275  인천 옹진군  도시대기  831493   영흥  2020053120  0.004  0.3  0.069  0.006   \n",
       "1858276  인천 옹진군  도시대기  831493   영흥  2020053121  0.004  0.3  0.066  0.006   \n",
       "1858277  인천 옹진군  도시대기  831493   영흥  2020053122  0.004  0.3  0.060  0.007   \n",
       "1858278  인천 옹진군  도시대기  831493   영흥  2020053123  0.004  0.3  0.056  0.006   \n",
       "1858279  인천 옹진군  도시대기  831493   영흥  2020053124  0.004  0.3  0.054  0.006   \n",
       "\n",
       "         PM10  PM25                         주소  \n",
       "0        39.0  24.0              서울 중구 덕수궁길 15  \n",
       "1        38.0  27.0              서울 중구 덕수궁길 15  \n",
       "2        42.0  28.0              서울 중구 덕수궁길 15  \n",
       "3        42.0  31.0              서울 중구 덕수궁길 15  \n",
       "4        49.0  33.0              서울 중구 덕수궁길 15  \n",
       "...       ...   ...                        ...  \n",
       "1858275  31.0  24.0  인천광역시 옹진군 영흥면 영흥로251번길 90  \n",
       "1858276  32.0  24.0  인천광역시 옹진군 영흥면 영흥로251번길 90  \n",
       "1858277  34.0  28.0  인천광역시 옹진군 영흥면 영흥로251번길 90  \n",
       "1858278  29.0  22.0  인천광역시 옹진군 영흥면 영흥로251번길 90  \n",
       "1858279  22.0  21.0  인천광역시 옹진군 영흥면 영흥로251번길 90  \n",
       "\n",
       "[5815409 rows x 12 columns]"
      ]
     },
     "execution_count": 87,
     "metadata": {},
     "output_type": "execute_result"
    }
   ],
   "source": [
    "df_dust"
   ]
  },
  {
   "cell_type": "code",
   "execution_count": 116,
   "metadata": {
    "Collapsed": "false"
   },
   "outputs": [],
   "source": [
    "t = FEex.preprocessing_dust(df_dust)"
   ]
  },
  {
   "cell_type": "code",
   "execution_count": 125,
   "metadata": {
    "Collapsed": "false"
   },
   "outputs": [],
   "source": [
    "data_v3 = joblib.load(os.path.join('..', '..', '0.Data', '05_분석데이터', '6th_FE_202009180431_before.pkl'))\n",
    "data_v4 = joblib.load(os.path.join('..', '..', '0.Data', '05_분석데이터', '6th_FE_202009180431.pkl'))"
   ]
  },
  {
   "cell_type": "code",
   "execution_count": 126,
   "metadata": {
    "Collapsed": "false"
   },
   "outputs": [],
   "source": [
    "locals().update(data_v4)"
   ]
  },
  {
   "cell_type": "code",
   "execution_count": 127,
   "metadata": {
    "Collapsed": "false"
   },
   "outputs": [],
   "source": [
    "pd.DataFrame(X.columns).to_excel('./test.xlsx')"
   ]
  },
  {
   "cell_type": "code",
   "execution_count": 128,
   "metadata": {
    "Collapsed": "false"
   },
   "outputs": [],
   "source": [
    "drop_columns = ['방송일시', # 월, 일, 시간, 분으로 표현\n",
    "                    '마더코드', # \n",
    "                    '상품코드', #\n",
    "                    '상품명', # 임베딩\n",
    "                    'NEW상품코드', #\n",
    "                    'NEW상품명', # 임베딩\n",
    "                    '단위', # 임베딩\n",
    "                    '브랜드', # 임베딩\n",
    "                    '취급액', # target\n",
    "                    '모델명',\n",
    "                    '상품명다시']"
   ]
  },
  {
   "cell_type": "code",
   "execution_count": 129,
   "metadata": {
    "Collapsed": "false"
   },
   "outputs": [],
   "source": [
    "drop_columns.remove('취급액')"
   ]
  },
  {
   "cell_type": "code",
   "execution_count": 130,
   "metadata": {
    "Collapsed": "false"
   },
   "outputs": [
    {
     "data": {
      "text/plain": [
       "['방송일시',\n",
       " '마더코드',\n",
       " '상품코드',\n",
       " '상품명',\n",
       " 'NEW상품코드',\n",
       " 'NEW상품명',\n",
       " '단위',\n",
       " '브랜드',\n",
       " '모델명',\n",
       " '상품명다시']"
      ]
     },
     "execution_count": 130,
     "metadata": {},
     "output_type": "execute_result"
    }
   ],
   "source": [
    "drop_columns"
   ]
  },
  {
   "cell_type": "code",
   "execution_count": 131,
   "metadata": {
    "Collapsed": "false"
   },
   "outputs": [],
   "source": [
    "# 할인율 test"
   ]
  },
  {
   "cell_type": "code",
   "execution_count": null,
   "metadata": {},
   "outputs": [],
   "source": []
  }
 ],
 "metadata": {
  "kernelspec": {
   "display_name": "Python 3",
   "language": "python",
   "name": "python3"
  },
  "language_info": {
   "codemirror_mode": {
    "name": "ipython",
    "version": 3
   },
   "file_extension": ".py",
   "mimetype": "text/x-python",
   "name": "python",
   "nbconvert_exporter": "python",
   "pygments_lexer": "ipython3",
   "version": "3.7.6"
  }
 },
 "nbformat": 4,
 "nbformat_minor": 4
}
