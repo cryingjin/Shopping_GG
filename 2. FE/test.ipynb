{
 "cells": [
  {
   "cell_type": "code",
   "execution_count": 139,
   "metadata": {
    "Collapsed": "false"
   },
   "outputs": [],
   "source": [
    "import os\n",
    "import FE_extData as FEex\n",
    "import FE_innData as FEin\n",
    "import numpy as np\n",
    "import pandas as pd"
   ]
  },
  {
   "cell_type": "code",
   "execution_count": 192,
   "metadata": {
    "Collapsed": "false"
   },
   "outputs": [
    {
     "data": {
      "text/plain": [
       "<module 'FE_extData' from '/Users/jinseok/Jupyter/bigcon/Shopping_GG/2. FE/FE_extData.py'>"
      ]
     },
     "execution_count": 192,
     "metadata": {},
     "output_type": "execute_result"
    }
   ],
   "source": [
    "import imp\n",
    "imp.reload(FEin)\n",
    "imp.reload(FEex)"
   ]
  },
  {
   "cell_type": "code",
   "execution_count": 157,
   "metadata": {
    "Collapsed": "false"
   },
   "outputs": [],
   "source": [
    "import math"
   ]
  },
  {
   "cell_type": "code",
   "execution_count": 158,
   "metadata": {
    "Collapsed": "false"
   },
   "outputs": [],
   "source": [
    "df['판매량'] = df['취급액'] / df['판매단가']\n",
    "df['판매량'] = df['판매량'].fillna(0).apply(lambda x : math.ceil(x))"
   ]
  },
  {
   "cell_type": "code",
   "execution_count": 178,
   "metadata": {
    "Collapsed": "false"
   },
   "outputs": [],
   "source": [
    "df = FEin.engineering_timeSeries(df)"
   ]
  },
  {
   "cell_type": "code",
   "execution_count": 183,
   "metadata": {
    "Collapsed": "false"
   },
   "outputs": [],
   "source": [
    "df.to_excel('./test.xlsx')"
   ]
  },
  {
   "cell_type": "code",
   "execution_count": 184,
   "metadata": {
    "Collapsed": "false"
   },
   "outputs": [],
   "source": [
    "df_eco = FEex.preprocessing_economy()"
   ]
  },
  {
   "cell_type": "code",
   "execution_count": 189,
   "metadata": {
    "Collapsed": "false"
   },
   "outputs": [
    {
     "name": "stderr",
     "output_type": "stream",
     "text": [
      "/Users/jinseok/opt/anaconda3/lib/python3.7/site-packages/IPython/core/interactiveshell.py:3063: DtypeWarning: Columns (26) have mixed types.Specify dtype option on import or set low_memory=False.\n",
      "  interactivity=interactivity, compiler=compiler, result=result)\n"
     ]
    }
   ],
   "source": [
    "w_19 = pd.read_csv(os.path.join('..', '..', '0.Data', '03_외부데이터', '2019_weather.csv'), encoding = 'cp949')\n",
    "w_20 = pd.read_csv(os.path.join('..', '..', '0.Data', '03_외부데이터', '2020_weather.csv'), encoding = 'cp949')\n",
    "df_wth = pd.concat([w_19, w_20], axis = 0)"
   ]
  },
  {
   "cell_type": "code",
   "execution_count": 193,
   "metadata": {
    "Collapsed": "false"
   },
   "outputs": [],
   "source": [
    "df_wth = FEex.preprocessing_weather(df_wth)"
   ]
  },
  {
   "cell_type": "code",
   "execution_count": 194,
   "metadata": {
    "Collapsed": "false"
   },
   "outputs": [
    {
     "data": {
      "text/html": [
       "<div>\n",
       "<style scoped>\n",
       "    .dataframe tbody tr th:only-of-type {\n",
       "        vertical-align: middle;\n",
       "    }\n",
       "\n",
       "    .dataframe tbody tr th {\n",
       "        vertical-align: top;\n",
       "    }\n",
       "\n",
       "    .dataframe thead th {\n",
       "        text-align: right;\n",
       "    }\n",
       "</style>\n",
       "<table border=\"1\" class=\"dataframe\">\n",
       "  <thead>\n",
       "    <tr style=\"text-align: right;\">\n",
       "      <th></th>\n",
       "      <th>지점</th>\n",
       "      <th>지점명</th>\n",
       "      <th>일시</th>\n",
       "      <th>기온(°C)</th>\n",
       "      <th>풍속(m/s)</th>\n",
       "      <th>습도(%)</th>\n",
       "      <th>시정(10m)</th>\n",
       "      <th>지면온도(°C)</th>\n",
       "      <th>강수량(mm)</th>\n",
       "      <th>체감온도</th>\n",
       "      <th>연도</th>\n",
       "      <th>월</th>\n",
       "      <th>일</th>\n",
       "      <th>시간</th>\n",
       "    </tr>\n",
       "  </thead>\n",
       "  <tbody>\n",
       "    <tr>\n",
       "      <th>0</th>\n",
       "      <td>108</td>\n",
       "      <td>서울</td>\n",
       "      <td>2019-01-01 01:00:00</td>\n",
       "      <td>-5.9</td>\n",
       "      <td>1.8</td>\n",
       "      <td>56.0</td>\n",
       "      <td>1569.0</td>\n",
       "      <td>-6.5</td>\n",
       "      <td>NaN</td>\n",
       "      <td>-9.033953</td>\n",
       "      <td>2019</td>\n",
       "      <td>1</td>\n",
       "      <td>1</td>\n",
       "      <td>1</td>\n",
       "    </tr>\n",
       "    <tr>\n",
       "      <th>1</th>\n",
       "      <td>108</td>\n",
       "      <td>서울</td>\n",
       "      <td>2019-01-01 02:00:00</td>\n",
       "      <td>-6.5</td>\n",
       "      <td>1.2</td>\n",
       "      <td>60.0</td>\n",
       "      <td>1462.0</td>\n",
       "      <td>-7.1</td>\n",
       "      <td>NaN</td>\n",
       "      <td>-8.546246</td>\n",
       "      <td>2019</td>\n",
       "      <td>1</td>\n",
       "      <td>1</td>\n",
       "      <td>2</td>\n",
       "    </tr>\n",
       "    <tr>\n",
       "      <th>2</th>\n",
       "      <td>108</td>\n",
       "      <td>서울</td>\n",
       "      <td>2019-01-01 03:00:00</td>\n",
       "      <td>-6.9</td>\n",
       "      <td>2.2</td>\n",
       "      <td>62.0</td>\n",
       "      <td>1281.0</td>\n",
       "      <td>-7.3</td>\n",
       "      <td>NaN</td>\n",
       "      <td>-10.810783</td>\n",
       "      <td>2019</td>\n",
       "      <td>1</td>\n",
       "      <td>1</td>\n",
       "      <td>3</td>\n",
       "    </tr>\n",
       "    <tr>\n",
       "      <th>3</th>\n",
       "      <td>108</td>\n",
       "      <td>서울</td>\n",
       "      <td>2019-01-01 04:00:00</td>\n",
       "      <td>-7.2</td>\n",
       "      <td>1.2</td>\n",
       "      <td>57.0</td>\n",
       "      <td>1195.0</td>\n",
       "      <td>-7.5</td>\n",
       "      <td>NaN</td>\n",
       "      <td>-9.332063</td>\n",
       "      <td>2019</td>\n",
       "      <td>1</td>\n",
       "      <td>1</td>\n",
       "      <td>4</td>\n",
       "    </tr>\n",
       "    <tr>\n",
       "      <th>4</th>\n",
       "      <td>108</td>\n",
       "      <td>서울</td>\n",
       "      <td>2019-01-01 05:00:00</td>\n",
       "      <td>-7.6</td>\n",
       "      <td>2.1</td>\n",
       "      <td>59.0</td>\n",
       "      <td>1248.0</td>\n",
       "      <td>-7.8</td>\n",
       "      <td>NaN</td>\n",
       "      <td>-11.483797</td>\n",
       "      <td>2019</td>\n",
       "      <td>1</td>\n",
       "      <td>1</td>\n",
       "      <td>5</td>\n",
       "    </tr>\n",
       "    <tr>\n",
       "      <th>...</th>\n",
       "      <td>...</td>\n",
       "      <td>...</td>\n",
       "      <td>...</td>\n",
       "      <td>...</td>\n",
       "      <td>...</td>\n",
       "      <td>...</td>\n",
       "      <td>...</td>\n",
       "      <td>...</td>\n",
       "      <td>...</td>\n",
       "      <td>...</td>\n",
       "      <td>...</td>\n",
       "      <td>...</td>\n",
       "      <td>...</td>\n",
       "      <td>...</td>\n",
       "    </tr>\n",
       "    <tr>\n",
       "      <th>116923</th>\n",
       "      <td>159</td>\n",
       "      <td>부산</td>\n",
       "      <td>2020-08-31 19:00:00</td>\n",
       "      <td>25.2</td>\n",
       "      <td>3.9</td>\n",
       "      <td>72.0</td>\n",
       "      <td>1999.0</td>\n",
       "      <td>25.9</td>\n",
       "      <td>NaN</td>\n",
       "      <td>26.678550</td>\n",
       "      <td>2020</td>\n",
       "      <td>8</td>\n",
       "      <td>31</td>\n",
       "      <td>19</td>\n",
       "    </tr>\n",
       "    <tr>\n",
       "      <th>116924</th>\n",
       "      <td>159</td>\n",
       "      <td>부산</td>\n",
       "      <td>2020-08-31 20:00:00</td>\n",
       "      <td>24.8</td>\n",
       "      <td>3.7</td>\n",
       "      <td>72.0</td>\n",
       "      <td>2000.0</td>\n",
       "      <td>25.0</td>\n",
       "      <td>NaN</td>\n",
       "      <td>26.207584</td>\n",
       "      <td>2020</td>\n",
       "      <td>8</td>\n",
       "      <td>31</td>\n",
       "      <td>20</td>\n",
       "    </tr>\n",
       "    <tr>\n",
       "      <th>116925</th>\n",
       "      <td>159</td>\n",
       "      <td>부산</td>\n",
       "      <td>2020-08-31 21:00:00</td>\n",
       "      <td>24.6</td>\n",
       "      <td>3.4</td>\n",
       "      <td>71.0</td>\n",
       "      <td>2000.0</td>\n",
       "      <td>24.4</td>\n",
       "      <td>NaN</td>\n",
       "      <td>25.996145</td>\n",
       "      <td>2020</td>\n",
       "      <td>8</td>\n",
       "      <td>31</td>\n",
       "      <td>21</td>\n",
       "    </tr>\n",
       "    <tr>\n",
       "      <th>116926</th>\n",
       "      <td>159</td>\n",
       "      <td>부산</td>\n",
       "      <td>2020-08-31 22:00:00</td>\n",
       "      <td>24.5</td>\n",
       "      <td>3.2</td>\n",
       "      <td>74.0</td>\n",
       "      <td>2000.0</td>\n",
       "      <td>24.4</td>\n",
       "      <td>NaN</td>\n",
       "      <td>25.898661</td>\n",
       "      <td>2020</td>\n",
       "      <td>8</td>\n",
       "      <td>31</td>\n",
       "      <td>22</td>\n",
       "    </tr>\n",
       "    <tr>\n",
       "      <th>116927</th>\n",
       "      <td>159</td>\n",
       "      <td>부산</td>\n",
       "      <td>2020-08-31 23:00:00</td>\n",
       "      <td>24.5</td>\n",
       "      <td>3.4</td>\n",
       "      <td>73.0</td>\n",
       "      <td>2000.0</td>\n",
       "      <td>24.5</td>\n",
       "      <td>NaN</td>\n",
       "      <td>25.874799</td>\n",
       "      <td>2020</td>\n",
       "      <td>8</td>\n",
       "      <td>31</td>\n",
       "      <td>23</td>\n",
       "    </tr>\n",
       "  </tbody>\n",
       "</table>\n",
       "<p>116928 rows × 14 columns</p>\n",
       "</div>"
      ],
      "text/plain": [
       "         지점 지점명                  일시  기온(°C)  풍속(m/s)  습도(%)  시정(10m)  \\\n",
       "0       108  서울 2019-01-01 01:00:00    -5.9      1.8   56.0   1569.0   \n",
       "1       108  서울 2019-01-01 02:00:00    -6.5      1.2   60.0   1462.0   \n",
       "2       108  서울 2019-01-01 03:00:00    -6.9      2.2   62.0   1281.0   \n",
       "3       108  서울 2019-01-01 04:00:00    -7.2      1.2   57.0   1195.0   \n",
       "4       108  서울 2019-01-01 05:00:00    -7.6      2.1   59.0   1248.0   \n",
       "...     ...  ..                 ...     ...      ...    ...      ...   \n",
       "116923  159  부산 2020-08-31 19:00:00    25.2      3.9   72.0   1999.0   \n",
       "116924  159  부산 2020-08-31 20:00:00    24.8      3.7   72.0   2000.0   \n",
       "116925  159  부산 2020-08-31 21:00:00    24.6      3.4   71.0   2000.0   \n",
       "116926  159  부산 2020-08-31 22:00:00    24.5      3.2   74.0   2000.0   \n",
       "116927  159  부산 2020-08-31 23:00:00    24.5      3.4   73.0   2000.0   \n",
       "\n",
       "        지면온도(°C)  강수량(mm)       체감온도    연도  월   일  시간  \n",
       "0           -6.5      NaN  -9.033953  2019  1   1   1  \n",
       "1           -7.1      NaN  -8.546246  2019  1   1   2  \n",
       "2           -7.3      NaN -10.810783  2019  1   1   3  \n",
       "3           -7.5      NaN  -9.332063  2019  1   1   4  \n",
       "4           -7.8      NaN -11.483797  2019  1   1   5  \n",
       "...          ...      ...        ...   ... ..  ..  ..  \n",
       "116923      25.9      NaN  26.678550  2020  8  31  19  \n",
       "116924      25.0      NaN  26.207584  2020  8  31  20  \n",
       "116925      24.4      NaN  25.996145  2020  8  31  21  \n",
       "116926      24.4      NaN  25.898661  2020  8  31  22  \n",
       "116927      24.5      NaN  25.874799  2020  8  31  23  \n",
       "\n",
       "[116928 rows x 14 columns]"
      ]
     },
     "execution_count": 194,
     "metadata": {},
     "output_type": "execute_result"
    }
   ],
   "source": [
    "df_wth"
   ]
  },
  {
   "cell_type": "code",
   "execution_count": 196,
   "metadata": {
    "Collapsed": "false"
   },
   "outputs": [],
   "source": [
    "test = pd.read_excel(os.path.join('..', '..', '0.Data', '01_제공데이터', '수작업_meta.xlsx'))"
   ]
  },
  {
   "cell_type": "code",
   "execution_count": 200,
   "metadata": {
    "Collapsed": "false"
   },
   "outputs": [],
   "source": [
    "test['성별'] = test['NEW상품명'].apply(lambda x : 1 if '남성' in x else (2 if '여성' in x else 0))"
   ]
  },
  {
   "cell_type": "code",
   "execution_count": 202,
   "metadata": {
    "Collapsed": "false"
   },
   "outputs": [],
   "source": [
    "test.to_excel('./수작업_meta.xlsx', index = False)"
   ]
  },
  {
   "cell_type": "code",
   "execution_count": null,
   "metadata": {},
   "outputs": [],
   "source": []
  }
 ],
 "metadata": {
  "kernelspec": {
   "display_name": "Python 3",
   "language": "python",
   "name": "python3"
  },
  "language_info": {
   "codemirror_mode": {
    "name": "ipython",
    "version": 3
   },
   "file_extension": ".py",
   "mimetype": "text/x-python",
   "name": "python",
   "nbconvert_exporter": "python",
   "pygments_lexer": "ipython3",
   "version": "3.7.6"
  }
 },
 "nbformat": 4,
 "nbformat_minor": 4
}
