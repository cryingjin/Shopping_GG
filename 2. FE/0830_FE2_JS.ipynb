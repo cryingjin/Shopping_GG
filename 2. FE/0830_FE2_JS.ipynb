{
 "cells": [
  {
   "cell_type": "code",
   "execution_count": 1,
   "metadata": {
    "Collapsed": "false"
   },
   "outputs": [],
   "source": [
    "import os\n",
    "import sys\n",
    "import joblib\n",
    "import FE_0823 as FE\n",
    "import numpy as np\n",
    "import pandas as pd\n",
    "from tqdm import tqdm"
   ]
  },
  {
   "cell_type": "code",
   "execution_count": 2,
   "metadata": {
    "Collapsed": "false"
   },
   "outputs": [
    {
     "data": {
      "text/plain": [
       "<module 'FE_0823' from '/Users/jinseok/Jupyter/bigcon/Shopping_GG/2. FE/FE_0823.py'>"
      ]
     },
     "execution_count": 2,
     "metadata": {},
     "output_type": "execute_result"
    }
   ],
   "source": [
    "import imp\n",
    "imp.reload(FE)"
   ]
  },
  {
   "cell_type": "code",
   "execution_count": 3,
   "metadata": {
    "Collapsed": "false"
   },
   "outputs": [],
   "source": [
    "pd.set_option('display.float_format', lambda x: '%.3f' % x)"
   ]
  },
  {
   "cell_type": "code",
   "execution_count": 4,
   "metadata": {
    "Collapsed": "false"
   },
   "outputs": [],
   "source": [
    "sale = pd.read_excel(os.path.join('..', '..', '0.Data', '01_제공데이터', 'sale_data_v05_0828.xlsx'))\n",
    "meta = pd.read_excel(os.path.join('..', '..', '0.Data', '01_제공데이터', 'sale_meta_v04_0823.xlsx'))\n",
    "item = pd.read_excel(os.path.join('..', '..', '0.Data', '01_제공데이터', 'item_meta_v04_0828.xlsx'))"
   ]
  },
  {
   "cell_type": "code",
   "execution_count": 9,
   "metadata": {
    "Collapsed": "false"
   },
   "outputs": [],
   "source": [
    "sale['방송년도'] = sale['방송일시'].dt.year"
   ]
  },
  {
   "cell_type": "code",
   "execution_count": 10,
   "metadata": {
    "Collapsed": "false"
   },
   "outputs": [
    {
     "data": {
      "text/html": [
       "<div>\n",
       "<style scoped>\n",
       "    .dataframe tbody tr th:only-of-type {\n",
       "        vertical-align: middle;\n",
       "    }\n",
       "\n",
       "    .dataframe tbody tr th {\n",
       "        vertical-align: top;\n",
       "    }\n",
       "\n",
       "    .dataframe thead th {\n",
       "        text-align: right;\n",
       "    }\n",
       "</style>\n",
       "<table border=\"1\" class=\"dataframe\">\n",
       "  <thead>\n",
       "    <tr style=\"text-align: right;\">\n",
       "      <th></th>\n",
       "      <th>방송일시</th>\n",
       "      <th>노출(분)</th>\n",
       "      <th>마더코드</th>\n",
       "      <th>상품코드</th>\n",
       "      <th>상품명</th>\n",
       "      <th>상품군</th>\n",
       "      <th>판매단가</th>\n",
       "      <th>취급액</th>\n",
       "      <th>NEW상품코드</th>\n",
       "      <th>NEW상품명</th>\n",
       "      <th>결제방법</th>\n",
       "      <th>옵션</th>\n",
       "      <th>종류</th>\n",
       "      <th>브랜드</th>\n",
       "      <th>상품명다시</th>\n",
       "      <th>단위</th>\n",
       "      <th>방송년도</th>\n",
       "    </tr>\n",
       "  </thead>\n",
       "  <tbody>\n",
       "    <tr>\n",
       "      <th>38300</th>\n",
       "      <td>2020-01-01 00:00:00</td>\n",
       "      <td>20.000</td>\n",
       "      <td>100448</td>\n",
       "      <td>201383</td>\n",
       "      <td>무이자쿠첸압력밥솥 10인용</td>\n",
       "      <td>주방</td>\n",
       "      <td>178000</td>\n",
       "      <td>50929000.000</td>\n",
       "      <td>818.000</td>\n",
       "      <td>쿠첸 압력밥솥 10인용</td>\n",
       "      <td>2.000</td>\n",
       "      <td>NaN</td>\n",
       "      <td>NaN</td>\n",
       "      <td>쿠첸</td>\n",
       "      <td>압력밥솥</td>\n",
       "      <td>10인용</td>\n",
       "      <td>2020</td>\n",
       "    </tr>\n",
       "    <tr>\n",
       "      <th>38301</th>\n",
       "      <td>2020-01-01 00:00:00</td>\n",
       "      <td>nan</td>\n",
       "      <td>100448</td>\n",
       "      <td>201384</td>\n",
       "      <td>무이자쿠첸압력밥솥 6인용</td>\n",
       "      <td>주방</td>\n",
       "      <td>158000</td>\n",
       "      <td>13765000.000</td>\n",
       "      <td>817.000</td>\n",
       "      <td>쿠첸 압력밥솥 6인용</td>\n",
       "      <td>2.000</td>\n",
       "      <td>NaN</td>\n",
       "      <td>NaN</td>\n",
       "      <td>쿠첸</td>\n",
       "      <td>압력밥솥</td>\n",
       "      <td>6인용</td>\n",
       "      <td>2020</td>\n",
       "    </tr>\n",
       "    <tr>\n",
       "      <th>38302</th>\n",
       "      <td>2020-01-01 00:00:00</td>\n",
       "      <td>nan</td>\n",
       "      <td>100448</td>\n",
       "      <td>201390</td>\n",
       "      <td>일시불쿠첸압력밥솥 10인용</td>\n",
       "      <td>주방</td>\n",
       "      <td>168000</td>\n",
       "      <td>104392000.000</td>\n",
       "      <td>818.000</td>\n",
       "      <td>쿠첸 압력밥솥 10인용</td>\n",
       "      <td>1.000</td>\n",
       "      <td>NaN</td>\n",
       "      <td>NaN</td>\n",
       "      <td>쿠첸</td>\n",
       "      <td>압력밥솥</td>\n",
       "      <td>10인용</td>\n",
       "      <td>2020</td>\n",
       "    </tr>\n",
       "    <tr>\n",
       "      <th>38303</th>\n",
       "      <td>2020-01-01 00:00:00</td>\n",
       "      <td>nan</td>\n",
       "      <td>100448</td>\n",
       "      <td>201391</td>\n",
       "      <td>일시불쿠첸압력밥솥 6인용</td>\n",
       "      <td>주방</td>\n",
       "      <td>148000</td>\n",
       "      <td>46608000.000</td>\n",
       "      <td>817.000</td>\n",
       "      <td>쿠첸 압력밥솥 6인용</td>\n",
       "      <td>1.000</td>\n",
       "      <td>NaN</td>\n",
       "      <td>NaN</td>\n",
       "      <td>쿠첸</td>\n",
       "      <td>압력밥솥</td>\n",
       "      <td>6인용</td>\n",
       "      <td>2020</td>\n",
       "    </tr>\n",
       "    <tr>\n",
       "      <th>38304</th>\n",
       "      <td>2020-01-01 00:20:00</td>\n",
       "      <td>20.000</td>\n",
       "      <td>100073</td>\n",
       "      <td>200196</td>\n",
       "      <td>삼성화재 행복한파트너 주택화재보험(1912)</td>\n",
       "      <td>무형</td>\n",
       "      <td>0</td>\n",
       "      <td>nan</td>\n",
       "      <td>nan</td>\n",
       "      <td>NaN</td>\n",
       "      <td>nan</td>\n",
       "      <td>NaN</td>\n",
       "      <td>NaN</td>\n",
       "      <td>NaN</td>\n",
       "      <td>NaN</td>\n",
       "      <td>NaN</td>\n",
       "      <td>2020</td>\n",
       "    </tr>\n",
       "    <tr>\n",
       "      <th>38305</th>\n",
       "      <td>2020-01-01 00:40:00</td>\n",
       "      <td>20.000</td>\n",
       "      <td>100073</td>\n",
       "      <td>200196</td>\n",
       "      <td>삼성화재 행복한파트너 주택화재보험(1912)</td>\n",
       "      <td>무형</td>\n",
       "      <td>0</td>\n",
       "      <td>nan</td>\n",
       "      <td>nan</td>\n",
       "      <td>NaN</td>\n",
       "      <td>nan</td>\n",
       "      <td>NaN</td>\n",
       "      <td>NaN</td>\n",
       "      <td>NaN</td>\n",
       "      <td>NaN</td>\n",
       "      <td>NaN</td>\n",
       "      <td>2020</td>\n",
       "    </tr>\n",
       "    <tr>\n",
       "      <th>38306</th>\n",
       "      <td>2020-01-01 01:00:00</td>\n",
       "      <td>20.000</td>\n",
       "      <td>100073</td>\n",
       "      <td>200196</td>\n",
       "      <td>삼성화재 행복한파트너 주택화재보험(1912)</td>\n",
       "      <td>무형</td>\n",
       "      <td>0</td>\n",
       "      <td>nan</td>\n",
       "      <td>nan</td>\n",
       "      <td>NaN</td>\n",
       "      <td>nan</td>\n",
       "      <td>NaN</td>\n",
       "      <td>NaN</td>\n",
       "      <td>NaN</td>\n",
       "      <td>NaN</td>\n",
       "      <td>NaN</td>\n",
       "      <td>2020</td>\n",
       "    </tr>\n",
       "    <tr>\n",
       "      <th>38307</th>\n",
       "      <td>2020-01-01 01:20:00</td>\n",
       "      <td>20.000</td>\n",
       "      <td>100490</td>\n",
       "      <td>201478</td>\n",
       "      <td>더케이 예다함 상조서비스(티포트)</td>\n",
       "      <td>무형</td>\n",
       "      <td>0</td>\n",
       "      <td>nan</td>\n",
       "      <td>nan</td>\n",
       "      <td>NaN</td>\n",
       "      <td>nan</td>\n",
       "      <td>NaN</td>\n",
       "      <td>NaN</td>\n",
       "      <td>NaN</td>\n",
       "      <td>NaN</td>\n",
       "      <td>NaN</td>\n",
       "      <td>2020</td>\n",
       "    </tr>\n",
       "    <tr>\n",
       "      <th>38308</th>\n",
       "      <td>2020-01-01 01:40:00</td>\n",
       "      <td>17.167</td>\n",
       "      <td>100490</td>\n",
       "      <td>201478</td>\n",
       "      <td>더케이 예다함 상조서비스(티포트)</td>\n",
       "      <td>무형</td>\n",
       "      <td>0</td>\n",
       "      <td>nan</td>\n",
       "      <td>nan</td>\n",
       "      <td>NaN</td>\n",
       "      <td>nan</td>\n",
       "      <td>NaN</td>\n",
       "      <td>NaN</td>\n",
       "      <td>NaN</td>\n",
       "      <td>NaN</td>\n",
       "      <td>NaN</td>\n",
       "      <td>2020</td>\n",
       "    </tr>\n",
       "  </tbody>\n",
       "</table>\n",
       "</div>"
      ],
      "text/plain": [
       "                     방송일시  노출(분)    마더코드    상품코드                       상품명  \\\n",
       "38300 2020-01-01 00:00:00 20.000  100448  201383            무이자쿠첸압력밥솥 10인용   \n",
       "38301 2020-01-01 00:00:00    nan  100448  201384             무이자쿠첸압력밥솥 6인용   \n",
       "38302 2020-01-01 00:00:00    nan  100448  201390            일시불쿠첸압력밥솥 10인용   \n",
       "38303 2020-01-01 00:00:00    nan  100448  201391             일시불쿠첸압력밥솥 6인용   \n",
       "38304 2020-01-01 00:20:00 20.000  100073  200196  삼성화재 행복한파트너 주택화재보험(1912)   \n",
       "38305 2020-01-01 00:40:00 20.000  100073  200196  삼성화재 행복한파트너 주택화재보험(1912)   \n",
       "38306 2020-01-01 01:00:00 20.000  100073  200196  삼성화재 행복한파트너 주택화재보험(1912)   \n",
       "38307 2020-01-01 01:20:00 20.000  100490  201478        더케이 예다함 상조서비스(티포트)   \n",
       "38308 2020-01-01 01:40:00 17.167  100490  201478        더케이 예다함 상조서비스(티포트)   \n",
       "\n",
       "      상품군    판매단가           취급액  NEW상품코드        NEW상품명  결제방법   옵션   종류  브랜드  \\\n",
       "38300  주방  178000  50929000.000  818.000  쿠첸 압력밥솥 10인용 2.000  NaN  NaN   쿠첸   \n",
       "38301  주방  158000  13765000.000  817.000   쿠첸 압력밥솥 6인용 2.000  NaN  NaN   쿠첸   \n",
       "38302  주방  168000 104392000.000  818.000  쿠첸 압력밥솥 10인용 1.000  NaN  NaN   쿠첸   \n",
       "38303  주방  148000  46608000.000  817.000   쿠첸 압력밥솥 6인용 1.000  NaN  NaN   쿠첸   \n",
       "38304  무형       0           nan      nan           NaN   nan  NaN  NaN  NaN   \n",
       "38305  무형       0           nan      nan           NaN   nan  NaN  NaN  NaN   \n",
       "38306  무형       0           nan      nan           NaN   nan  NaN  NaN  NaN   \n",
       "38307  무형       0           nan      nan           NaN   nan  NaN  NaN  NaN   \n",
       "38308  무형       0           nan      nan           NaN   nan  NaN  NaN  NaN   \n",
       "\n",
       "      상품명다시    단위  방송년도  \n",
       "38300  압력밥솥  10인용  2020  \n",
       "38301  압력밥솥   6인용  2020  \n",
       "38302  압력밥솥  10인용  2020  \n",
       "38303  압력밥솥   6인용  2020  \n",
       "38304   NaN   NaN  2020  \n",
       "38305   NaN   NaN  2020  \n",
       "38306   NaN   NaN  2020  \n",
       "38307   NaN   NaN  2020  \n",
       "38308   NaN   NaN  2020  "
      ]
     },
     "execution_count": 10,
     "metadata": {},
     "output_type": "execute_result"
    }
   ],
   "source": [
    "sale.loc[sale['방송년도'] == 2020]"
   ]
  },
  {
   "cell_type": "code",
   "execution_count": 5,
   "metadata": {
    "Collapsed": "false"
   },
   "outputs": [
    {
     "data": {
      "text/plain": [
       "((38309, 16), (2042, 15), (1364, 15))"
      ]
     },
     "execution_count": 5,
     "metadata": {},
     "output_type": "execute_result"
    }
   ],
   "source": [
    "sale.shape, meta.shape, item.shape"
   ]
  },
  {
   "cell_type": "markdown",
   "metadata": {
    "Collapsed": "false"
   },
   "source": [
    "# 01. Feature Engineering"
   ]
  },
  {
   "cell_type": "code",
   "execution_count": 6,
   "metadata": {
    "Collapsed": "false"
   },
   "outputs": [],
   "source": [
    "sale = FE.engineering_TimeDiff(sale)"
   ]
  },
  {
   "cell_type": "code",
   "execution_count": 7,
   "metadata": {
    "Collapsed": "false"
   },
   "outputs": [],
   "source": [
    "sale = FE.engineering_Soldout(sale)"
   ]
  },
  {
   "cell_type": "code",
   "execution_count": 8,
   "metadata": {
    "Collapsed": "false"
   },
   "outputs": [
    {
     "name": "stdout",
     "output_type": "stream",
     "text": [
      "연도입력\n"
     ]
    },
    {
     "name": "stdin",
     "output_type": "stream",
     "text": [
      " 2019\n"
     ]
    }
   ],
   "source": [
    "sale = FE.engineering_DatePrice(sale)"
   ]
  },
  {
   "cell_type": "code",
   "execution_count": 9,
   "metadata": {
    "Collapsed": "false"
   },
   "outputs": [
    {
     "name": "stderr",
     "output_type": "stream",
     "text": [
      "/Users/jinseok/opt/anaconda3/lib/python3.7/site-packages/numpy/lib/polynomial.py:630: RuntimeWarning: invalid value encountered in true_divide\n",
      "  lhs /= scale\n"
     ]
    }
   ],
   "source": [
    "sale = FE.engineering_trend(sale)"
   ]
  },
  {
   "cell_type": "markdown",
   "metadata": {
    "Collapsed": "false"
   },
   "source": [
    "# 02. 외부데이터 불러오기"
   ]
  },
  {
   "cell_type": "code",
   "execution_count": 10,
   "metadata": {
    "Collapsed": "false"
   },
   "outputs": [],
   "source": [
    "# 경제지표 가져오기(월별)"
   ]
  },
  {
   "cell_type": "code",
   "execution_count": 11,
   "metadata": {
    "Collapsed": "false"
   },
   "outputs": [],
   "source": [
    "df_eco = pd.read_excel(os.path.join('..', '..', '0.Data', '03_외부데이터', '전처리', 'prep_1차외부데이터_0901.xlsx'))"
   ]
  },
  {
   "cell_type": "code",
   "execution_count": 12,
   "metadata": {
    "Collapsed": "false"
   },
   "outputs": [],
   "source": [
    "# 날씨 데이터 가져오기(시간별)"
   ]
  },
  {
   "cell_type": "code",
   "execution_count": 13,
   "metadata": {
    "Collapsed": "false"
   },
   "outputs": [],
   "source": [
    "df_wth = pd.read_csv(os.path.join('..', '..', '0.Data', '03_외부데이터', '전처리', 'prep_2019_pb_weather.csv'), encoding = 'cp949')"
   ]
  },
  {
   "cell_type": "code",
   "execution_count": 14,
   "metadata": {
    "Collapsed": "false"
   },
   "outputs": [],
   "source": [
    "# 미세먼지 데이터 가져오기"
   ]
  },
  {
   "cell_type": "code",
   "execution_count": 15,
   "metadata": {
    "Collapsed": "false"
   },
   "outputs": [],
   "source": [
    "df_dust = pd.read_csv(os.path.join('..', '..', '0.Data', '03_외부데이터', '전처리', 'prep_2019_pb_dust.csv'), encoding = 'cp949')"
   ]
  },
  {
   "cell_type": "markdown",
   "metadata": {
    "Collapsed": "false"
   },
   "source": [
    "# 03. 임베딩 데이터 불러오기"
   ]
  },
  {
   "cell_type": "code",
   "execution_count": 16,
   "metadata": {
    "Collapsed": "false"
   },
   "outputs": [],
   "source": [
    "emb = pd.read_excel(os.path.join('..', '..', '0.Data', '04_임베딩데이터', 'version3_dim30.xlsx'), index_col = 0)"
   ]
  },
  {
   "cell_type": "code",
   "execution_count": 17,
   "metadata": {
    "Collapsed": "false"
   },
   "outputs": [],
   "source": [
    "sale = sale.merge(emb.drop_duplicates(), on = 'NEW상품명', how = 'left')"
   ]
  },
  {
   "cell_type": "code",
   "execution_count": 18,
   "metadata": {
    "Collapsed": "false"
   },
   "outputs": [
    {
     "data": {
      "text/plain": [
       "(38309, 92)"
      ]
     },
     "execution_count": 18,
     "metadata": {},
     "output_type": "execute_result"
    }
   ],
   "source": [
    "sale.shape"
   ]
  },
  {
   "cell_type": "markdown",
   "metadata": {
    "Collapsed": "false"
   },
   "source": [
    "# 04. 데이터 합치기"
   ]
  },
  {
   "cell_type": "code",
   "execution_count": 19,
   "metadata": {
    "Collapsed": "false"
   },
   "outputs": [],
   "source": [
    "data = sale.merge(df_eco[df_eco['년도'] == 2019], left_on = '방송월', right_on = '월', how = 'left').drop(['월'], axis = 1)"
   ]
  },
  {
   "cell_type": "code",
   "execution_count": 20,
   "metadata": {
    "Collapsed": "false"
   },
   "outputs": [],
   "source": [
    "data['방송일'] = data['방송일시'].dt.day"
   ]
  },
  {
   "cell_type": "code",
   "execution_count": 21,
   "metadata": {
    "Collapsed": "false"
   },
   "outputs": [],
   "source": [
    "data = data.merge(df_wth, left_on = ['방송월', '방송일', '방송시간(시간)'], right_on = ['월', '일', '시간'], how ='left').drop(['월', '일', '시간'], axis = 1)"
   ]
  },
  {
   "cell_type": "code",
   "execution_count": 22,
   "metadata": {
    "Collapsed": "false"
   },
   "outputs": [],
   "source": [
    "data = data.merge(df_dust, left_on = ['방송월', '방송일', '방송시간(시간)'], right_on = ['월', '일', '시간'], how ='left').drop(['월', '일', '시간'], axis = 1)"
   ]
  },
  {
   "cell_type": "code",
   "execution_count": 23,
   "metadata": {
    "Collapsed": "false"
   },
   "outputs": [
    {
     "data": {
      "text/html": [
       "<div>\n",
       "<style scoped>\n",
       "    .dataframe tbody tr th:only-of-type {\n",
       "        vertical-align: middle;\n",
       "    }\n",
       "\n",
       "    .dataframe tbody tr th {\n",
       "        vertical-align: top;\n",
       "    }\n",
       "\n",
       "    .dataframe thead th {\n",
       "        text-align: right;\n",
       "    }\n",
       "</style>\n",
       "<table border=\"1\" class=\"dataframe\">\n",
       "  <thead>\n",
       "    <tr style=\"text-align: right;\">\n",
       "      <th></th>\n",
       "      <th>방송일시</th>\n",
       "      <th>노출(분)</th>\n",
       "      <th>마더코드</th>\n",
       "      <th>상품코드</th>\n",
       "      <th>상품명</th>\n",
       "      <th>상품군</th>\n",
       "      <th>판매단가</th>\n",
       "      <th>취급액</th>\n",
       "      <th>NEW상품코드</th>\n",
       "      <th>NEW상품명</th>\n",
       "      <th>...</th>\n",
       "      <th>평균PM10_울산</th>\n",
       "      <th>평균PM10_인천</th>\n",
       "      <th>평균PM25_경기</th>\n",
       "      <th>평균PM25_광주</th>\n",
       "      <th>평균PM25_대구</th>\n",
       "      <th>평균PM25_대전</th>\n",
       "      <th>평균PM25_부산</th>\n",
       "      <th>평균PM25_서울</th>\n",
       "      <th>평균PM25_울산</th>\n",
       "      <th>평균PM25_인천</th>\n",
       "    </tr>\n",
       "  </thead>\n",
       "  <tbody>\n",
       "    <tr>\n",
       "      <th>0</th>\n",
       "      <td>2019-01-01 06:00:00</td>\n",
       "      <td>20.000</td>\n",
       "      <td>100346</td>\n",
       "      <td>201072</td>\n",
       "      <td>테이트 남성 셀린니트3종</td>\n",
       "      <td>의류</td>\n",
       "      <td>39900</td>\n",
       "      <td>2099000.000</td>\n",
       "      <td>865.000</td>\n",
       "      <td>테이트 남성 셀린니트 3종</td>\n",
       "      <td>...</td>\n",
       "      <td>28.471</td>\n",
       "      <td>39.000</td>\n",
       "      <td>31.146</td>\n",
       "      <td>22.750</td>\n",
       "      <td>21.867</td>\n",
       "      <td>39.818</td>\n",
       "      <td>22.792</td>\n",
       "      <td>29.000</td>\n",
       "      <td>18.824</td>\n",
       "      <td>25.625</td>\n",
       "    </tr>\n",
       "    <tr>\n",
       "      <th>1</th>\n",
       "      <td>2019-01-01 06:00:00</td>\n",
       "      <td>20.000</td>\n",
       "      <td>100346</td>\n",
       "      <td>201079</td>\n",
       "      <td>테이트 여성 셀린니트3종</td>\n",
       "      <td>의류</td>\n",
       "      <td>39900</td>\n",
       "      <td>4371000.000</td>\n",
       "      <td>866.000</td>\n",
       "      <td>테이트 여성 셀린니트 3종</td>\n",
       "      <td>...</td>\n",
       "      <td>28.471</td>\n",
       "      <td>39.000</td>\n",
       "      <td>31.146</td>\n",
       "      <td>22.750</td>\n",
       "      <td>21.867</td>\n",
       "      <td>39.818</td>\n",
       "      <td>22.792</td>\n",
       "      <td>29.000</td>\n",
       "      <td>18.824</td>\n",
       "      <td>25.625</td>\n",
       "    </tr>\n",
       "    <tr>\n",
       "      <th>2</th>\n",
       "      <td>2019-01-01 06:20:00</td>\n",
       "      <td>20.000</td>\n",
       "      <td>100346</td>\n",
       "      <td>201072</td>\n",
       "      <td>테이트 남성 셀린니트3종</td>\n",
       "      <td>의류</td>\n",
       "      <td>39900</td>\n",
       "      <td>3262000.000</td>\n",
       "      <td>865.000</td>\n",
       "      <td>테이트 남성 셀린니트 3종</td>\n",
       "      <td>...</td>\n",
       "      <td>28.471</td>\n",
       "      <td>39.000</td>\n",
       "      <td>31.146</td>\n",
       "      <td>22.750</td>\n",
       "      <td>21.867</td>\n",
       "      <td>39.818</td>\n",
       "      <td>22.792</td>\n",
       "      <td>29.000</td>\n",
       "      <td>18.824</td>\n",
       "      <td>25.625</td>\n",
       "    </tr>\n",
       "    <tr>\n",
       "      <th>3</th>\n",
       "      <td>2019-01-01 06:20:00</td>\n",
       "      <td>20.000</td>\n",
       "      <td>100346</td>\n",
       "      <td>201079</td>\n",
       "      <td>테이트 여성 셀린니트3종</td>\n",
       "      <td>의류</td>\n",
       "      <td>39900</td>\n",
       "      <td>6955000.000</td>\n",
       "      <td>866.000</td>\n",
       "      <td>테이트 여성 셀린니트 3종</td>\n",
       "      <td>...</td>\n",
       "      <td>28.471</td>\n",
       "      <td>39.000</td>\n",
       "      <td>31.146</td>\n",
       "      <td>22.750</td>\n",
       "      <td>21.867</td>\n",
       "      <td>39.818</td>\n",
       "      <td>22.792</td>\n",
       "      <td>29.000</td>\n",
       "      <td>18.824</td>\n",
       "      <td>25.625</td>\n",
       "    </tr>\n",
       "    <tr>\n",
       "      <th>4</th>\n",
       "      <td>2019-01-01 06:40:00</td>\n",
       "      <td>20.000</td>\n",
       "      <td>100346</td>\n",
       "      <td>201072</td>\n",
       "      <td>테이트 남성 셀린니트3종</td>\n",
       "      <td>의류</td>\n",
       "      <td>39900</td>\n",
       "      <td>6672000.000</td>\n",
       "      <td>865.000</td>\n",
       "      <td>테이트 남성 셀린니트 3종</td>\n",
       "      <td>...</td>\n",
       "      <td>28.471</td>\n",
       "      <td>39.000</td>\n",
       "      <td>31.146</td>\n",
       "      <td>22.750</td>\n",
       "      <td>21.867</td>\n",
       "      <td>39.818</td>\n",
       "      <td>22.792</td>\n",
       "      <td>29.000</td>\n",
       "      <td>18.824</td>\n",
       "      <td>25.625</td>\n",
       "    </tr>\n",
       "  </tbody>\n",
       "</table>\n",
       "<p>5 rows × 444 columns</p>\n",
       "</div>"
      ],
      "text/plain": [
       "                 방송일시  노출(분)    마더코드    상품코드            상품명 상품군   판매단가  \\\n",
       "0 2019-01-01 06:00:00 20.000  100346  201072  테이트 남성 셀린니트3종  의류  39900   \n",
       "1 2019-01-01 06:00:00 20.000  100346  201079  테이트 여성 셀린니트3종  의류  39900   \n",
       "2 2019-01-01 06:20:00 20.000  100346  201072  테이트 남성 셀린니트3종  의류  39900   \n",
       "3 2019-01-01 06:20:00 20.000  100346  201079  테이트 여성 셀린니트3종  의류  39900   \n",
       "4 2019-01-01 06:40:00 20.000  100346  201072  테이트 남성 셀린니트3종  의류  39900   \n",
       "\n",
       "          취급액  NEW상품코드          NEW상품명  ...  평균PM10_울산 평균PM10_인천 평균PM25_경기  \\\n",
       "0 2099000.000  865.000  테이트 남성 셀린니트 3종  ...     28.471    39.000    31.146   \n",
       "1 4371000.000  866.000  테이트 여성 셀린니트 3종  ...     28.471    39.000    31.146   \n",
       "2 3262000.000  865.000  테이트 남성 셀린니트 3종  ...     28.471    39.000    31.146   \n",
       "3 6955000.000  866.000  테이트 여성 셀린니트 3종  ...     28.471    39.000    31.146   \n",
       "4 6672000.000  865.000  테이트 남성 셀린니트 3종  ...     28.471    39.000    31.146   \n",
       "\n",
       "  평균PM25_광주 평균PM25_대구 평균PM25_대전  평균PM25_부산  평균PM25_서울  평균PM25_울산  평균PM25_인천  \n",
       "0    22.750    21.867    39.818     22.792     29.000     18.824     25.625  \n",
       "1    22.750    21.867    39.818     22.792     29.000     18.824     25.625  \n",
       "2    22.750    21.867    39.818     22.792     29.000     18.824     25.625  \n",
       "3    22.750    21.867    39.818     22.792     29.000     18.824     25.625  \n",
       "4    22.750    21.867    39.818     22.792     29.000     18.824     25.625  \n",
       "\n",
       "[5 rows x 444 columns]"
      ]
     },
     "execution_count": 23,
     "metadata": {},
     "output_type": "execute_result"
    }
   ],
   "source": [
    "# 444개로 늘어난 featurea\n",
    "data.head()"
   ]
  },
  {
   "cell_type": "markdown",
   "metadata": {
    "Collapsed": "false"
   },
   "source": [
    "# 05. feature 조정"
   ]
  },
  {
   "cell_type": "code",
   "execution_count": 24,
   "metadata": {
    "Collapsed": "false"
   },
   "outputs": [],
   "source": [
    "categorys = ['결제방법', '상품군_가격대', '전체_가격대', '상품군', '방송시간(시간)', '성별']\n",
    "drop_columns = ['방송일시','마더코드', '상품코드', '상품명', 'NEW상품코드', 'NEW상품명', '단위', '브랜드', '취급액', '상품코드', '옵션', '종류', '년도', '날짜_x', '날짜_y', '날짜', '상품명다시']"
   ]
  },
  {
   "cell_type": "code",
   "execution_count": 25,
   "metadata": {
    "Collapsed": "false"
   },
   "outputs": [],
   "source": [
    "for c in categorys:\n",
    "    data[c] = data[c].astype(str)"
   ]
  },
  {
   "cell_type": "code",
   "execution_count": 26,
   "metadata": {
    "Collapsed": "false"
   },
   "outputs": [],
   "source": [
    "# 예측 상품 중 판매가 0인 프로그램 실적은 예측에서 제외함 -> 무형 제외\n",
    "data = data.loc[data['상품군'] != '무형']"
   ]
  },
  {
   "cell_type": "code",
   "execution_count": 28,
   "metadata": {
    "Collapsed": "false"
   },
   "outputs": [],
   "source": [
    "# 주문이 0인, 취급액이 0인 데이터 제외함\n",
    "data = data.loc[data['취급액'].notnull()]"
   ]
  },
  {
   "cell_type": "code",
   "execution_count": 29,
   "metadata": {
    "Collapsed": "false"
   },
   "outputs": [],
   "source": [
    "y = data['취급액']\n",
    "drop_data = data[drop_columns]\n",
    "data = data.drop(drop_columns, axis = 1)"
   ]
  },
  {
   "cell_type": "code",
   "execution_count": 30,
   "metadata": {
    "Collapsed": "false"
   },
   "outputs": [],
   "source": [
    "data['log최근3개월상품군추세'] = data['log최근3개월상품군추세'].astype(float)"
   ]
  },
  {
   "cell_type": "code",
   "execution_count": 31,
   "metadata": {
    "Collapsed": "false"
   },
   "outputs": [],
   "source": [
    "X = pd.get_dummies(data)"
   ]
  },
  {
   "cell_type": "code",
   "execution_count": 32,
   "metadata": {
    "Collapsed": "false"
   },
   "outputs": [
    {
     "data": {
      "text/plain": [
       "((35379, 481), (35379,))"
      ]
     },
     "execution_count": 32,
     "metadata": {},
     "output_type": "execute_result"
    }
   ],
   "source": [
    "X.shape, y.shape"
   ]
  },
  {
   "cell_type": "code",
   "execution_count": 33,
   "metadata": {
    "Collapsed": "false"
   },
   "outputs": [],
   "source": [
    "import joblib"
   ]
  },
  {
   "cell_type": "code",
   "execution_count": 34,
   "metadata": {
    "Collapsed": "false"
   },
   "outputs": [
    {
     "data": {
      "text/plain": [
       "['../../0.Data/05_분석데이터/Snd_FE.pkl']"
      ]
     },
     "execution_count": 34,
     "metadata": {},
     "output_type": "execute_result"
    }
   ],
   "source": [
    "joblib.dump({\n",
    "    'X' : X,\n",
    "    'y' : y\n",
    "}, os.path.join('..', '..', '0.Data', '05_분석데이터', 'Snd_FE.pkl'))"
   ]
  },
  {
   "cell_type": "code",
   "execution_count": null,
   "metadata": {
    "Collapsed": "false"
   },
   "outputs": [],
   "source": []
  }
 ],
 "metadata": {
  "kernelspec": {
   "display_name": "Python 3",
   "language": "python",
   "name": "python3"
  },
  "language_info": {
   "codemirror_mode": {
    "name": "ipython",
    "version": 3
   },
   "file_extension": ".py",
   "mimetype": "text/x-python",
   "name": "python",
   "nbconvert_exporter": "python",
   "pygments_lexer": "ipython3",
   "version": "3.7.6"
  }
 },
 "nbformat": 4,
 "nbformat_minor": 4
}
