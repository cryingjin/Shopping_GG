{
 "cells": [
  {
   "cell_type": "markdown",
   "metadata": {},
   "source": [
    "# Modeling "
   ]
  },
  {
   "cell_type": "markdown",
   "metadata": {},
   "source": [
    "#### BoostingModel.py\n",
    "\n",
    "```python\n",
    "mape, pred = model.MODEL(X, y, parameter, version='0919-1', cv_splits=5, scaling='MinMax', epoch=500)\n",
    "```\n",
    "* `MODEL` : lgbm_model, xgb_model        \n",
    "* `version` : set file name       \n",
    "* `cv_split` : set K (default=5)      \n",
    "* `scaling` : 'MinMax' or 'Standard' (default = False)       \n",
    "* `epoch` : n_estimators (default = 30000) \n",
    "    "
   ]
  },
  {
   "cell_type": "code",
   "execution_count": 1,
   "metadata": {},
   "outputs": [],
   "source": [
    "import os\n",
    "import sys\n",
    "import joblib\n",
    "import pickle as pkl\n",
    "\n",
    "import warnings\n",
    "warnings.filterwarnings(action='ignore')\n",
    "\n",
    "from sklearn.exceptions import DataConversionWarning\n",
    "warnings.filterwarnings(action='ignore', category=DataConversionWarning)\n",
    "\n",
    "import pandas as pd \n",
    "import numpy as np\n",
    "\n",
    "from IPython.display import display\n",
    "pd.options.display.max_rows = 999\n",
    "pd.options.display.max_columns = 999\n",
    "pd.set_option('display.max_info_columns', 500)"
   ]
  },
  {
   "cell_type": "code",
   "execution_count": 2,
   "metadata": {},
   "outputs": [],
   "source": [
    "import BoostingModel as model"
   ]
  },
  {
   "cell_type": "code",
   "execution_count": 3,
   "metadata": {},
   "outputs": [],
   "source": [
    "data_v4 = joblib.load(os.path.join('..', '..', '6th_FE_ver4.pkl'))\n",
    "locals().update(data_v4)"
   ]
  },
  {
   "cell_type": "code",
   "execution_count": 4,
   "metadata": {},
   "outputs": [
    {
     "data": {
      "text/plain": [
       "((35379, 386), (35379,))"
      ]
     },
     "execution_count": 4,
     "metadata": {},
     "output_type": "execute_result"
    }
   ],
   "source": [
    "X = data_v4['X'] ; y = data_v4['y']\n",
    "X.shape, y.shape"
   ]
  },
  {
   "cell_type": "code",
   "execution_count": 5,
   "metadata": {},
   "outputs": [],
   "source": [
    "y2 = np.log1p(y)"
   ]
  },
  {
   "cell_type": "code",
   "execution_count": 6,
   "metadata": {},
   "outputs": [],
   "source": [
    "X.drop([\"날짜\"], axis=1, inplace=True)"
   ]
  },
  {
   "cell_type": "code",
   "execution_count": 35,
   "metadata": {},
   "outputs": [
    {
     "data": {
      "text/plain": [
       "8734     18316001.0\n",
       "7885      8569001.0\n",
       "2413     15895001.0\n",
       "12475    17194001.0\n",
       "4571      6467001.0\n",
       "            ...    \n",
       "14158    27605001.0\n",
       "28909    13095001.0\n",
       "34363    31087001.0\n",
       "26499    39283001.0\n",
       "4615     12456001.0\n",
       "Name: 취급액, Length: 7076, dtype: float64"
      ]
     },
     "execution_count": 35,
     "metadata": {},
     "output_type": "execute_result"
    }
   ],
   "source": [
    "# test values\n",
    "np.exp(y_test_)"
   ]
  },
  {
   "cell_type": "markdown",
   "metadata": {},
   "source": [
    "## LGBM"
   ]
  },
  {
   "cell_type": "code",
   "execution_count": 7,
   "metadata": {},
   "outputs": [],
   "source": [
    "lgbm_params4 = {'num_leaves': 47, 'max_depth': 8, 'min_child_samples': 39, \n",
    "                'learning_rate': 0.03, 'reg_lambda': 0.3, 'min_split_gain': 0.01, \n",
    "                'colsample_bytree': 0.8, 'subsample': 0.8, 'subsample_freq': 5, 'max_bin': 56, \n",
    "                'boosting': 'dart', 'objective': 'regression', 'metric': 'mape', 'is_training_metric': True, 'n_estimators' : 500, \n",
    "                'force_col_wise' : 'true', 'verbose' : -1}"
   ]
  },
  {
   "cell_type": "code",
   "execution_count": 28,
   "metadata": {},
   "outputs": [],
   "source": [
    "mape1, pred1 = model.lgbm_model(X, y2, lgbm_params4, version='0919-1', cv_splits=5, scaling='MinMax', epoch=500)"
   ]
  },
  {
   "cell_type": "code",
   "execution_count": 29,
   "metadata": {},
   "outputs": [
    {
     "data": {
      "text/plain": [
       "{'val_mape': [61.267718058711004,\n",
       "  61.22249016163258,\n",
       "  61.28174756269321,\n",
       "  61.28356784561595,\n",
       "  61.25151624295878],\n",
       " 'test_mape': [61.28675975138324,\n",
       "  61.21705560927788,\n",
       "  61.22266178058934,\n",
       "  61.23126122711551,\n",
       "  61.219881235079946],\n",
       " 'final_mape': [61.23552392068918]}"
      ]
     },
     "execution_count": 29,
     "metadata": {},
     "output_type": "execute_result"
    }
   ],
   "source": [
    "mape1"
   ]
  },
  {
   "cell_type": "code",
   "execution_count": 30,
   "metadata": {},
   "outputs": [
    {
     "data": {
      "text/plain": [
       "{'val_idx': [array([    0,     2,    13, ..., 28273, 28282, 28290]),\n",
       "  array([    1,     7,    15, ..., 28295, 28299, 28300]),\n",
       "  array([    3,    10,    11, ..., 28287, 28289, 28297]),\n",
       "  array([    4,    36,    43, ..., 28294, 28301, 28302]),\n",
       "  array([    5,     6,     8, ..., 28293, 28296, 28298])],\n",
       " 'val_pred': [array([ 2062615.01528272,  6844272.34430122, 14191667.97187097, ...,\n",
       "          9584616.76231178,  1996739.36433966, 17717672.65089969]),\n",
       "  array([1084230.85021373, 3169955.2083374 , 2329935.30976519, ...,\n",
       "         2593848.07032626, 1616499.85540889, 3237168.10112791]),\n",
       "  array([12260711.03915866,  8533380.48457289,  2609808.9003501 , ...,\n",
       "          5938023.82507422, 16863506.97109747,  9466756.88217323]),\n",
       "  array([ 1783953.33291051, 23547273.66516244, 13286369.54617228, ...,\n",
       "         19965048.29789498, 14121373.90086333, 17813302.72414961]),\n",
       "  array([15633570.9191316 ,   567547.7649327 , 20598581.47715246, ...,\n",
       "         18948061.81098977,   871888.00051773, 22064481.44131113])],\n",
       " 'test_idx': [Int64Index([ 8734,  7885,  2413, 12475,  4571,  9835, 35907, 14833, 10316,\n",
       "              31140,\n",
       "              ...\n",
       "              25556, 30587,  6430, 11575, 33365, 14158, 28909, 34363, 26499,\n",
       "               4615],\n",
       "             dtype='int64', length=7076)],\n",
       " 'test_pred': [array([ 6320512.3812903 ,  3484741.76653372,  6323634.11861811, ...,\n",
       "         12104878.20530895, 12903512.65030565,  4743935.39092264]),\n",
       "  array([ 6096525.11476378,  3171814.72850816,  6357083.22442228, ...,\n",
       "         12124186.03285651, 12926977.61240784,  4789520.05947146]),\n",
       "  array([ 5844522.45928007,  3041241.5354771 ,  6272815.60740848, ...,\n",
       "         11963455.88324552, 12429867.2468148 ,  4728180.37519485]),\n",
       "  array([ 6086644.41606236,  3027946.55256615,  6411324.96611015, ...,\n",
       "         11919889.09493555, 12590377.61614233,  4636077.9640725 ]),\n",
       "  array([ 6077672.98394273,  3168118.75149864,  6407345.00829824, ...,\n",
       "         12188251.68815565, 12519630.64871793,  4759017.729649  ])],\n",
       " 'final_pred': [array([ 6085175.47106785,  3178772.66691675,  6354440.58497145, ...,\n",
       "         12060132.18090044, 12674073.15487771,  4731346.30386209])]}"
      ]
     },
     "execution_count": 30,
     "metadata": {},
     "output_type": "execute_result"
    }
   ],
   "source": [
    "pred1"
   ]
  },
  {
   "cell_type": "markdown",
   "metadata": {},
   "source": [
    "## xgboost"
   ]
  },
  {
   "cell_type": "code",
   "execution_count": 11,
   "metadata": {},
   "outputs": [],
   "source": [
    "xgb_params1 = {'min_child_weight': 1, 'eta': 0.02, 'colsample_bytree': 0.9, 'n_estimators' : 500,\n",
    "               'max_depth': 20, 'subsample': 0.9, 'lambda': 1. , 'booster' : 'gbtree', 'silent': 1,\n",
    "               'objective': 'reg:linear', 'metrics':'mae', 'gamma' : 0.01}"
   ]
  },
  {
   "cell_type": "code",
   "execution_count": 12,
   "metadata": {},
   "outputs": [
    {
     "name": "stdout",
     "output_type": "stream",
     "text": [
      "[19:39:40] WARNING: /Users/travis/build/dmlc/xgboost/src/objective/regression_obj.cu:174: reg:linear is now deprecated in favor of reg:squarederror.\n",
      "[19:39:40] WARNING: /Users/travis/build/dmlc/xgboost/src/learner.cc:516: \n",
      "Parameters: { metrics, n_estimators, silent } might not be used.\n",
      "\n",
      "  This may not be accurate due to some parameters are only used in language bindings but\n",
      "  passed down to XGBoost core.  Or some parameters are not used but slip through this\n",
      "  verification. Please open an issue if you find above cases.\n",
      "\n",
      "\n",
      "[0]\ttrain-rmse:15.76526\tvalid-rmse:15.74770\n",
      "Multiple eval metrics have been passed: 'valid-rmse' will be used for early stopping.\n",
      "\n",
      "Will train until valid-rmse hasn't improved in 500 rounds.\n",
      "[499]\ttrain-rmse:0.01928\tvalid-rmse:0.03165\n",
      "[19:42:19] WARNING: /Users/travis/build/dmlc/xgboost/src/objective/regression_obj.cu:174: reg:linear is now deprecated in favor of reg:squarederror.\n",
      "[19:42:20] WARNING: /Users/travis/build/dmlc/xgboost/src/objective/regression_obj.cu:174: reg:linear is now deprecated in favor of reg:squarederror.\n",
      "[19:42:20] WARNING: /Users/travis/build/dmlc/xgboost/src/learner.cc:516: \n",
      "Parameters: { metrics, n_estimators, silent } might not be used.\n",
      "\n",
      "  This may not be accurate due to some parameters are only used in language bindings but\n",
      "  passed down to XGBoost core.  Or some parameters are not used but slip through this\n",
      "  verification. Please open an issue if you find above cases.\n",
      "\n",
      "\n",
      "[0]\ttrain-rmse:15.76154\tvalid-rmse:15.76279\n",
      "Multiple eval metrics have been passed: 'valid-rmse' will be used for early stopping.\n",
      "\n",
      "Will train until valid-rmse hasn't improved in 500 rounds.\n",
      "[499]\ttrain-rmse:0.01923\tvalid-rmse:0.03140\n",
      "[19:44:54] WARNING: /Users/travis/build/dmlc/xgboost/src/objective/regression_obj.cu:174: reg:linear is now deprecated in favor of reg:squarederror.\n",
      "[19:44:55] WARNING: /Users/travis/build/dmlc/xgboost/src/objective/regression_obj.cu:174: reg:linear is now deprecated in favor of reg:squarederror.\n",
      "[19:44:55] WARNING: /Users/travis/build/dmlc/xgboost/src/learner.cc:516: \n",
      "Parameters: { metrics, n_estimators, silent } might not be used.\n",
      "\n",
      "  This may not be accurate due to some parameters are only used in language bindings but\n",
      "  passed down to XGBoost core.  Or some parameters are not used but slip through this\n",
      "  verification. Please open an issue if you find above cases.\n",
      "\n",
      "\n",
      "[0]\ttrain-rmse:15.75972\tvalid-rmse:15.77024\n",
      "Multiple eval metrics have been passed: 'valid-rmse' will be used for early stopping.\n",
      "\n",
      "Will train until valid-rmse hasn't improved in 500 rounds.\n",
      "[499]\ttrain-rmse:0.01957\tvalid-rmse:0.03373\n",
      "[19:47:45] WARNING: /Users/travis/build/dmlc/xgboost/src/objective/regression_obj.cu:174: reg:linear is now deprecated in favor of reg:squarederror.\n",
      "[19:47:46] WARNING: /Users/travis/build/dmlc/xgboost/src/objective/regression_obj.cu:174: reg:linear is now deprecated in favor of reg:squarederror.\n",
      "[19:47:46] WARNING: /Users/travis/build/dmlc/xgboost/src/learner.cc:516: \n",
      "Parameters: { metrics, n_estimators, silent } might not be used.\n",
      "\n",
      "  This may not be accurate due to some parameters are only used in language bindings but\n",
      "  passed down to XGBoost core.  Or some parameters are not used but slip through this\n",
      "  verification. Please open an issue if you find above cases.\n",
      "\n",
      "\n",
      "[0]\ttrain-rmse:15.76012\tvalid-rmse:15.76826\n",
      "Multiple eval metrics have been passed: 'valid-rmse' will be used for early stopping.\n",
      "\n",
      "Will train until valid-rmse hasn't improved in 500 rounds.\n",
      "[499]\ttrain-rmse:0.01924\tvalid-rmse:0.03355\n",
      "[19:50:17] WARNING: /Users/travis/build/dmlc/xgboost/src/objective/regression_obj.cu:174: reg:linear is now deprecated in favor of reg:squarederror.\n",
      "[19:50:18] WARNING: /Users/travis/build/dmlc/xgboost/src/objective/regression_obj.cu:174: reg:linear is now deprecated in favor of reg:squarederror.\n",
      "[19:50:18] WARNING: /Users/travis/build/dmlc/xgboost/src/learner.cc:516: \n",
      "Parameters: { metrics, n_estimators, silent } might not be used.\n",
      "\n",
      "  This may not be accurate due to some parameters are only used in language bindings but\n",
      "  passed down to XGBoost core.  Or some parameters are not used but slip through this\n",
      "  verification. Please open an issue if you find above cases.\n",
      "\n",
      "\n",
      "[0]\ttrain-rmse:15.76234\tvalid-rmse:15.75991\n",
      "Multiple eval metrics have been passed: 'valid-rmse' will be used for early stopping.\n",
      "\n",
      "Will train until valid-rmse hasn't improved in 500 rounds.\n",
      "[499]\ttrain-rmse:0.01926\tvalid-rmse:0.03151\n",
      "[19:52:50] WARNING: /Users/travis/build/dmlc/xgboost/src/objective/regression_obj.cu:174: reg:linear is now deprecated in favor of reg:squarederror.\n"
     ]
    }
   ],
   "source": [
    "mape2, pred2 = model.xgb_model(X, y2, xgb_params1, version='0919-1', cv_splits=5, scaling=False, epoch=500)"
   ]
  },
  {
   "cell_type": "code",
   "execution_count": 21,
   "metadata": {},
   "outputs": [
    {
     "data": {
      "text/plain": [
       "{'val_mape': [2.097651163113353,\n",
       "  2.086478012165073,\n",
       "  2.208367815501897,\n",
       "  2.1161489323382505,\n",
       "  2.0750105581570555],\n",
       " 'test_mape': [2.106844319702098,\n",
       "  2.103160719746881,\n",
       "  2.1700155841151427,\n",
       "  2.0838209635103997,\n",
       "  2.07438958202026],\n",
       " 'final_mape': [1.9278161007864127]}"
      ]
     },
     "execution_count": 21,
     "metadata": {},
     "output_type": "execute_result"
    }
   ],
   "source": [
    "mape2"
   ]
  },
  {
   "cell_type": "code",
   "execution_count": 14,
   "metadata": {},
   "outputs": [
    {
     "data": {
      "text/plain": [
       "{'val_idx': [array([    0,     2,    13, ..., 28273, 28282, 28290]),\n",
       "  array([    1,     7,    15, ..., 28295, 28299, 28300]),\n",
       "  array([    3,    10,    11, ..., 28287, 28289, 28297]),\n",
       "  array([    4,    36,    43, ..., 28294, 28301, 28302]),\n",
       "  array([    5,     6,     8, ..., 28293, 28296, 28298])],\n",
       " 'val_pred': [array([ 5359891.5, 18453320. , 36154252. , ..., 27063412. ,  5039183. ,\n",
       "         47967540. ], dtype=float32),\n",
       "  array([2306969.8, 7339278.5, 5357295.5, ..., 6636197.5, 3970481.2,\n",
       "         7674997. ], dtype=float32),\n",
       "  array([32312788., 23288104.,  6344466., ..., 15488979., 46671652.,\n",
       "         25048716.], dtype=float32),\n",
       "  array([ 4075938.2, 69799690. , 36145424. , ..., 59171490. , 35634350. ,\n",
       "         50069652. ], dtype=float32),\n",
       "  array([41828780. ,  1401671.9, 55853004. , ..., 51479730. ,  2102784.8,\n",
       "         65832644. ], dtype=float32)],\n",
       " 'test_idx': [Int64Index([ 8734,  7885,  2413, 12475,  4571,  9835, 35907, 14833, 10316,\n",
       "              31140,\n",
       "              ...\n",
       "              25556, 30587,  6430, 11575, 33365, 14158, 28909, 34363, 26499,\n",
       "               4615],\n",
       "             dtype='int64', length=7076)],\n",
       " 'test_pred': [array([18184076.,  8514167., 16451619., ..., 31125800., 36744264.,\n",
       "         12655704.], dtype=float32),\n",
       "  array([17561358.,  8640850., 16291274., ..., 31126692., 37606664.,\n",
       "         12215712.], dtype=float32),\n",
       "  array([17641022.,  8582916., 16439981., ..., 30726878., 37498150.,\n",
       "         12428356.], dtype=float32),\n",
       "  array([17591598.,  8613978., 16399455., ..., 30658556., 38113876.,\n",
       "         12365506.], dtype=float32),\n",
       "  array([18211496.,  8619377., 16391292., ..., 31430356., 36950184.,\n",
       "         12336954.], dtype=float32)],\n",
       " 'final_pred': [array([17837910.,  8594258., 16394723., ..., 31013654., 37382630.,\n",
       "         12400446.], dtype=float32)]}"
      ]
     },
     "execution_count": 14,
     "metadata": {},
     "output_type": "execute_result"
    }
   ],
   "source": [
    "pred2"
   ]
  },
  {
   "cell_type": "markdown",
   "metadata": {},
   "source": [
    "## Pred Load"
   ]
  },
  {
   "cell_type": "code",
   "execution_count": 32,
   "metadata": {},
   "outputs": [],
   "source": [
    "with open('xgb_mape.pickle0919-1', 'rb') as f:\n",
    "    data = pkl.load(f)"
   ]
  },
  {
   "cell_type": "code",
   "execution_count": 33,
   "metadata": {},
   "outputs": [
    {
     "data": {
      "text/plain": [
       "{'val_mape': [2.097651163113353,\n",
       "  2.086478012165073,\n",
       "  2.208367815501897,\n",
       "  2.1161489323382505,\n",
       "  2.0750105581570555],\n",
       " 'test_mape': [2.106844319702098,\n",
       "  2.103160719746881,\n",
       "  2.1700155841151427,\n",
       "  2.0838209635103997,\n",
       "  2.07438958202026],\n",
       " 'final_mape': [1.9278161007864127]}"
      ]
     },
     "execution_count": 33,
     "metadata": {},
     "output_type": "execute_result"
    }
   ],
   "source": [
    "data"
   ]
  },
  {
   "cell_type": "code",
   "execution_count": 37,
   "metadata": {},
   "outputs": [],
   "source": [
    "with open('xgb_pred.pickle0919-1', 'rb') as f:\n",
    "    data2 = pkl.load(f)"
   ]
  },
  {
   "cell_type": "code",
   "execution_count": 38,
   "metadata": {},
   "outputs": [
    {
     "data": {
      "text/plain": [
       "{'val_idx': [array([    0,     2,    13, ..., 28273, 28282, 28290]),\n",
       "  array([    1,     7,    15, ..., 28295, 28299, 28300]),\n",
       "  array([    3,    10,    11, ..., 28287, 28289, 28297]),\n",
       "  array([    4,    36,    43, ..., 28294, 28301, 28302]),\n",
       "  array([    5,     6,     8, ..., 28293, 28296, 28298])],\n",
       " 'val_pred': [array([ 5359891.5, 18453320. , 36154252. , ..., 27063412. ,  5039183. ,\n",
       "         47967540. ], dtype=float32),\n",
       "  array([2306969.8, 7339278.5, 5357295.5, ..., 6636197.5, 3970481.2,\n",
       "         7674997. ], dtype=float32),\n",
       "  array([32312788., 23288104.,  6344466., ..., 15488979., 46671652.,\n",
       "         25048716.], dtype=float32),\n",
       "  array([ 4075938.2, 69799690. , 36145424. , ..., 59171490. , 35634350. ,\n",
       "         50069652. ], dtype=float32),\n",
       "  array([41828780. ,  1401671.9, 55853004. , ..., 51479730. ,  2102784.8,\n",
       "         65832644. ], dtype=float32)],\n",
       " 'test_idx': [Int64Index([ 8734,  7885,  2413, 12475,  4571,  9835, 35907, 14833, 10316,\n",
       "              31140,\n",
       "              ...\n",
       "              25556, 30587,  6430, 11575, 33365, 14158, 28909, 34363, 26499,\n",
       "               4615],\n",
       "             dtype='int64', length=7076)],\n",
       " 'test_pred': [array([18184076.,  8514167., 16451619., ..., 31125800., 36744264.,\n",
       "         12655704.], dtype=float32),\n",
       "  array([17561358.,  8640850., 16291274., ..., 31126692., 37606664.,\n",
       "         12215712.], dtype=float32),\n",
       "  array([17641022.,  8582916., 16439981., ..., 30726878., 37498150.,\n",
       "         12428356.], dtype=float32),\n",
       "  array([17591598.,  8613978., 16399455., ..., 30658556., 38113876.,\n",
       "         12365506.], dtype=float32),\n",
       "  array([18211496.,  8619377., 16391292., ..., 31430356., 36950184.,\n",
       "         12336954.], dtype=float32)],\n",
       " 'final_pred': [array([17837910.,  8594258., 16394723., ..., 31013654., 37382630.,\n",
       "         12400446.], dtype=float32)]}"
      ]
     },
     "execution_count": 38,
     "metadata": {},
     "output_type": "execute_result"
    }
   ],
   "source": [
    "data2"
   ]
  }
 ],
 "metadata": {
  "kernelspec": {
   "display_name": "Python 3",
   "language": "python",
   "name": "python3"
  },
  "language_info": {
   "codemirror_mode": {
    "name": "ipython",
    "version": 3
   },
   "file_extension": ".py",
   "mimetype": "text/x-python",
   "name": "python",
   "nbconvert_exporter": "python",
   "pygments_lexer": "ipython3",
   "version": "3.8.3"
  }
 },
 "nbformat": 4,
 "nbformat_minor": 4
}
