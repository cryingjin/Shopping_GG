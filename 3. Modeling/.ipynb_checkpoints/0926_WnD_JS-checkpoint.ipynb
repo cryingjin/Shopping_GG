{
 "cells": [
  {
   "cell_type": "code",
   "execution_count": 1,
   "metadata": {
    "Collapsed": "false"
   },
   "outputs": [],
   "source": [
    "import os\n",
    "import sys\n",
    "import math\n",
    "import gc\n",
    "import random\n",
    "import joblib\n",
    "from datetime import datetime, time\n",
    "import numpy as np\n",
    "import pandas as pd\n",
    "from tqdm import tqdm\n",
    "import warnings\n",
    "warnings.filterwarnings(action='ignore')"
   ]
  },
  {
   "cell_type": "code",
   "execution_count": 2,
   "metadata": {
    "Collapsed": "false"
   },
   "outputs": [],
   "source": [
    "pd.set_option('display.float_format', lambda x: '%.3f' % x)"
   ]
  },
  {
   "cell_type": "code",
   "execution_count": 3,
   "metadata": {
    "Collapsed": "false"
   },
   "outputs": [],
   "source": [
    "sas = joblib.load(os.path.join('..', '..', '0.Data', '05_분석데이터', 'prep4sas.pkl'))"
   ]
  },
  {
   "cell_type": "code",
   "execution_count": 4,
   "metadata": {
    "Collapsed": "false"
   },
   "outputs": [],
   "source": [
    "timeS = joblib.load(os.path.join('..', '..', '0.Data', '01_제공데이터', 'data4time.pkl'))\n",
    "timeS['방송년도'] = timeS['방송날'].dt.year\n",
    "timeS['방송월'] = timeS['방송날'].dt.month\n",
    "timeS['방송일'] =timeS['방송날'].dt.day"
   ]
  },
  {
   "cell_type": "code",
   "execution_count": 5,
   "metadata": {
    "Collapsed": "false"
   },
   "outputs": [],
   "source": [
    "sale = pd.read_excel(os.path.join('..', '..', '0.Data', '01_제공데이터', '2020 빅콘테스트 데이터분석분야-챔피언리그_2019년 실적데이터_v1_200818.xlsx'), skiprows = 1)"
   ]
  },
  {
   "cell_type": "code",
   "execution_count": 6,
   "metadata": {
    "Collapsed": "false"
   },
   "outputs": [],
   "source": [
    "sale['방송날'] = sale['방송일시'].dt.date\n",
    "sale['방송월'] = sale['방송일시'].dt.month\n",
    "sale['방송일'] = sale['방송일시'].dt.day\n",
    "sale['방송시간'] = sale['방송일시'].dt.hour\n",
    "sale['방송일시'] = sale.apply(lambda x : datetime.combine(x['방송날'], time(x['방송시간'])), axis = 1)"
   ]
  },
  {
   "cell_type": "code",
   "execution_count": 7,
   "metadata": {
    "Collapsed": "false"
   },
   "outputs": [],
   "source": [
    "import math\n",
    "sale['판매량'] = sale['취급액'] / sale['판매단가']\n",
    "sale['판매량'] = sale['판매량'].fillna(0).apply(lambda x : math.ceil(x))"
   ]
  },
  {
   "cell_type": "code",
   "execution_count": 8,
   "metadata": {
    "Collapsed": "false"
   },
   "outputs": [],
   "source": [
    "piv = pd.pivot_table(sale, index = '상품군', columns = '방송일시', values = '판매량', aggfunc='sum')"
   ]
  },
  {
   "cell_type": "code",
   "execution_count": 9,
   "metadata": {
    "Collapsed": "false"
   },
   "outputs": [],
   "source": [
    "piv = piv.drop('무형')"
   ]
  },
  {
   "cell_type": "code",
   "execution_count": 10,
   "metadata": {
    "Collapsed": "false"
   },
   "outputs": [],
   "source": [
    "pivT = piv.T\n",
    "ema_s = pivT.ewm(span=4).mean()\n",
    "ema_m = pivT.ewm(span=12).mean()\n",
    "ema_l = pivT.ewm(span=26).mean()\n",
    "macd = ema_s - ema_l\n",
    "sig = macd.ewm(span=9).mean()\n",
    "rol14 = pivT.fillna(0).rolling(14).mean()\n",
    "rol30 = pivT.fillna(0).rolling(30).mean()"
   ]
  },
  {
   "cell_type": "code",
   "execution_count": 11,
   "metadata": {
    "Collapsed": "false"
   },
   "outputs": [],
   "source": [
    "for tb, column in zip([ema_s, ema_m, ema_l, macd, sig, rol14, rol30], ['ema_sz', 'ema_mz', 'ema_lz', 'macdz', 'sigz', 'rol14z', 'rol30z']):\n",
    "    new_columns = list(map(lambda x : '_'.join((column, x)), tb.columns))\n",
    "    tb.columns = new_columns"
   ]
  },
  {
   "cell_type": "code",
   "execution_count": 12,
   "metadata": {
    "Collapsed": "false"
   },
   "outputs": [],
   "source": [
    "timeZ = pd.concat([ema_s, ema_m, ema_l, macd, sig, rol14, rol30], axis = 1).reset_index()"
   ]
  },
  {
   "cell_type": "code",
   "execution_count": 54,
   "metadata": {
    "Collapsed": "false"
   },
   "outputs": [],
   "source": [
    "timeZ['방송년도'] = timeZ['방송일시'].dt.year\n",
    "timeZ['방송월'] = timeZ['방송일시'].dt.month\n",
    "timeZ['방송일'] =timeZ['방송일시'].dt.day\n",
    "timeZ['방송시간(시간)'] =timeZ['방송일시'].dt.hour"
   ]
  },
  {
   "cell_type": "code",
   "execution_count": 14,
   "metadata": {
    "Collapsed": "false"
   },
   "outputs": [],
   "source": [
    "rate = pd.read_excel(os.path.join('..', '..', '0.Data', '01_제공데이터', '2020 빅콘테스트 데이터분석분야-챔피언리그_시청률 데이터.xlsx'), skiprows = 1)"
   ]
  },
  {
   "cell_type": "code",
   "execution_count": 15,
   "metadata": {
    "Collapsed": "false"
   },
   "outputs": [],
   "source": [
    "rate_v1 = rate.loc[[1440]].T.reset_index().loc[1:365].rename(columns = {'index' : '방송일시', 1440 : '일별평균시청률'})"
   ]
  },
  {
   "cell_type": "code",
   "execution_count": 16,
   "metadata": {
    "Collapsed": "false"
   },
   "outputs": [],
   "source": [
    "rate_v2 = rate.iloc[:, -1].reset_index().rename(columns=  {'index' : '시간대', '2019-01-01 to 2019-12-31'  : '분당평균시청률'})\n",
    "rate_v2['시간대'] = rate['시간대']\n",
    "rate_v2 = rate_v2.drop(1440)"
   ]
  },
  {
   "cell_type": "code",
   "execution_count": 17,
   "metadata": {
    "Collapsed": "false"
   },
   "outputs": [],
   "source": [
    "rate['방송시간(시간)'] = rate['시간대'].apply(lambda x: x[:2])"
   ]
  },
  {
   "cell_type": "code",
   "execution_count": 18,
   "metadata": {
    "Collapsed": "false"
   },
   "outputs": [],
   "source": [
    "rate_v3 = rate.groupby('방송시간(시간)').max()\n",
    "rate_v4 = rate.groupby('방송시간(시간)').mean()\n",
    "rate_v5 = rate.groupby('방송시간(시간)').median()"
   ]
  },
  {
   "cell_type": "code",
   "execution_count": 19,
   "metadata": {
    "Collapsed": "false"
   },
   "outputs": [],
   "source": [
    "rateT = rate.T.reset_index().iloc[:,:-1].loc[:365]"
   ]
  },
  {
   "cell_type": "code",
   "execution_count": 20,
   "metadata": {
    "Collapsed": "false"
   },
   "outputs": [],
   "source": [
    "rateT.columns = rateT.loc[0]"
   ]
  },
  {
   "cell_type": "code",
   "execution_count": 21,
   "metadata": {
    "Collapsed": "false"
   },
   "outputs": [],
   "source": [
    "rateT = rateT.drop(0)"
   ]
  },
  {
   "cell_type": "code",
   "execution_count": 22,
   "metadata": {
    "Collapsed": "false"
   },
   "outputs": [],
   "source": [
    "rateT['방송월'] = pd.to_datetime(rateT['시간대']).dt.month"
   ]
  },
  {
   "cell_type": "code",
   "execution_count": 23,
   "metadata": {
    "Collapsed": "false"
   },
   "outputs": [],
   "source": [
    "rateT = rateT.drop('시간대', axis = 1).fillna(0).groupby('방송월').mean().T.reset_index()"
   ]
  },
  {
   "cell_type": "code",
   "execution_count": 24,
   "metadata": {
    "Collapsed": "false"
   },
   "outputs": [],
   "source": [
    "rateT['방송시간(시간)'] = rateT[0].apply(lambda x : x[:2])"
   ]
  },
  {
   "cell_type": "code",
   "execution_count": 25,
   "metadata": {
    "Collapsed": "false"
   },
   "outputs": [],
   "source": [
    "rate_v6 = rateT.drop(0, axis = 1).groupby('방송시간(시간)').max()\n",
    "rate_v7 = rateT.drop(0, axis = 1).groupby('방송시간(시간)').mean()\n",
    "rate_v8 = rateT.drop(0, axis = 1).groupby('방송시간(시간)').median()"
   ]
  },
  {
   "cell_type": "code",
   "execution_count": 26,
   "metadata": {
    "Collapsed": "false"
   },
   "outputs": [],
   "source": [
    "prep = pd.read_excel('./prep4wnd.xlsx')"
   ]
  },
  {
   "cell_type": "code",
   "execution_count": 27,
   "metadata": {
    "Collapsed": "false"
   },
   "outputs": [],
   "source": [
    "volume_v1 = prep.groupby(['방송월', '방송시간']).agg({\n",
    "    '판매량' : [('월별시간별평균판매량', np.mean),\n",
    "            ('월별시간별중간판매량', np.median)],\n",
    "    '판매단가' : [('월별시간별평균판매단가', np.mean),\n",
    "             ('월별시간별중간판매단가', np.median)]\n",
    "}).reset_index()"
   ]
  },
  {
   "cell_type": "code",
   "execution_count": 28,
   "metadata": {
    "Collapsed": "false"
   },
   "outputs": [],
   "source": [
    "volume_v2 = prep.groupby(['방송시간']).agg({\n",
    "    '판매량' : [('시간별평균판매량', np.mean),\n",
    "            ('시간별중간판매량', np.median)],\n",
    "    '판매단가' : [('시간별평균판매단가', np.mean),\n",
    "             ('시간별중간판매단가', np.median)]\n",
    "}).reset_index()"
   ]
  },
  {
   "cell_type": "code",
   "execution_count": 29,
   "metadata": {
    "Collapsed": "false"
   },
   "outputs": [],
   "source": [
    "def prepColumn(df):\n",
    "    columns = []\n",
    "    for i, c in enumerate(df.columns):\n",
    "        if c[1] == '':\n",
    "            columns.append(c[0])\n",
    "        else:\n",
    "            columns.append(c[1])\n",
    "    df.columns = columns\n",
    "    return df"
   ]
  },
  {
   "cell_type": "code",
   "execution_count": 30,
   "metadata": {
    "Collapsed": "false"
   },
   "outputs": [],
   "source": [
    "volume_v1 = prepColumn(volume_v1)\n",
    "volume_v2 = prepColumn(volume_v2)"
   ]
  },
  {
   "cell_type": "code",
   "execution_count": 31,
   "metadata": {
    "Collapsed": "false"
   },
   "outputs": [
    {
     "data": {
      "text/html": [
       "<div>\n",
       "<style scoped>\n",
       "    .dataframe tbody tr th:only-of-type {\n",
       "        vertical-align: middle;\n",
       "    }\n",
       "\n",
       "    .dataframe tbody tr th {\n",
       "        vertical-align: top;\n",
       "    }\n",
       "\n",
       "    .dataframe thead th {\n",
       "        text-align: right;\n",
       "    }\n",
       "</style>\n",
       "<table border=\"1\" class=\"dataframe\">\n",
       "  <thead>\n",
       "    <tr style=\"text-align: right;\">\n",
       "      <th></th>\n",
       "      <th>방송일시</th>\n",
       "      <th>일별평균시청률</th>\n",
       "    </tr>\n",
       "  </thead>\n",
       "  <tbody>\n",
       "    <tr>\n",
       "      <th>1</th>\n",
       "      <td>2019-01-01</td>\n",
       "      <td>0.004</td>\n",
       "    </tr>\n",
       "    <tr>\n",
       "      <th>2</th>\n",
       "      <td>2019-01-02</td>\n",
       "      <td>0.006</td>\n",
       "    </tr>\n",
       "    <tr>\n",
       "      <th>3</th>\n",
       "      <td>2019-01-03</td>\n",
       "      <td>0.002</td>\n",
       "    </tr>\n",
       "    <tr>\n",
       "      <th>4</th>\n",
       "      <td>2019-01-04</td>\n",
       "      <td>0.003</td>\n",
       "    </tr>\n",
       "    <tr>\n",
       "      <th>5</th>\n",
       "      <td>2019-01-05</td>\n",
       "      <td>0.002</td>\n",
       "    </tr>\n",
       "    <tr>\n",
       "      <th>...</th>\n",
       "      <td>...</td>\n",
       "      <td>...</td>\n",
       "    </tr>\n",
       "    <tr>\n",
       "      <th>361</th>\n",
       "      <td>2019-12-27</td>\n",
       "      <td>0.004</td>\n",
       "    </tr>\n",
       "    <tr>\n",
       "      <th>362</th>\n",
       "      <td>2019-12-28</td>\n",
       "      <td>0.006</td>\n",
       "    </tr>\n",
       "    <tr>\n",
       "      <th>363</th>\n",
       "      <td>2019-12-29</td>\n",
       "      <td>0.004</td>\n",
       "    </tr>\n",
       "    <tr>\n",
       "      <th>364</th>\n",
       "      <td>2019-12-30</td>\n",
       "      <td>0.005</td>\n",
       "    </tr>\n",
       "    <tr>\n",
       "      <th>365</th>\n",
       "      <td>2019-12-31</td>\n",
       "      <td>0.005</td>\n",
       "    </tr>\n",
       "  </tbody>\n",
       "</table>\n",
       "<p>365 rows × 2 columns</p>\n",
       "</div>"
      ],
      "text/plain": [
       "           방송일시 일별평균시청률\n",
       "1    2019-01-01   0.004\n",
       "2    2019-01-02   0.006\n",
       "3    2019-01-03   0.002\n",
       "4    2019-01-04   0.003\n",
       "5    2019-01-05   0.002\n",
       "..          ...     ...\n",
       "361  2019-12-27   0.004\n",
       "362  2019-12-28   0.006\n",
       "363  2019-12-29   0.004\n",
       "364  2019-12-30   0.005\n",
       "365  2019-12-31   0.005\n",
       "\n",
       "[365 rows x 2 columns]"
      ]
     },
     "execution_count": 31,
     "metadata": {},
     "output_type": "execute_result"
    }
   ],
   "source": [
    "rate_v1 # 일별평균시청률"
   ]
  },
  {
   "cell_type": "code",
   "execution_count": 32,
   "metadata": {
    "Collapsed": "false"
   },
   "outputs": [],
   "source": [
    "rate_v1['방송월'] = pd.to_datetime(rate_v1['방송일시']).dt.month\n",
    "rate_v1['방송일'] = pd.to_datetime(rate_v1['방송일시']).dt.day"
   ]
  },
  {
   "cell_type": "code",
   "execution_count": 33,
   "metadata": {
    "Collapsed": "false"
   },
   "outputs": [],
   "source": [
    "rate_v3 = rate_v3.iloc[:, 1:-1].drop('월화').T # 일별시간별 최대시청률\n",
    "rate_v4 = rate_v4.iloc[:, :-1].drop('월화').T # 일별시간별 평균시청률\n",
    "rate_v5 = rate_v5.iloc[:, :-1].drop('월화').T # 일별시간별 중간시청률"
   ]
  },
  {
   "cell_type": "code",
   "execution_count": null,
   "metadata": {
    "Collapsed": "false"
   },
   "outputs": [],
   "source": [
    "rate_v6 # 시간별월별 최대시청률\n",
    "rate_v7 # 시간별월별 평균시청률\n",
    "rate_v8 # 시간별월별 중간시청률"
   ]
  },
  {
   "cell_type": "code",
   "execution_count": null,
   "metadata": {
    "Collapsed": "false"
   },
   "outputs": [],
   "source": [
    "volume_v1 # 월별시간별 평균/중간 판매량 및 판매단가\n",
    "volume_v2 # 시간별 평균/중간 판매량 및 판매단가"
   ]
  },
  {
   "cell_type": "code",
   "execution_count": 34,
   "metadata": {
    "Collapsed": "false"
   },
   "outputs": [],
   "source": [
    "train = joblib.load(os.path.join('..', '..', '0.Data', '05_분석데이터', 'train_data4WnD.pkl'))\n",
    "test = joblib.load(os.path.join('..', '..', '0.Data', '05_분석데이터', 'test_data4WnD.pkl'))"
   ]
  },
  {
   "cell_type": "code",
   "execution_count": 35,
   "metadata": {
    "Collapsed": "false"
   },
   "outputs": [],
   "source": [
    "volume = joblib.load(os.path.join('..', '..', '0.Data', '01_제공데이터', 'data4volume.pkl'))"
   ]
  },
  {
   "cell_type": "code",
   "execution_count": 36,
   "metadata": {
    "Collapsed": "false"
   },
   "outputs": [],
   "source": [
    "temp_month = volume['volume4month']\n",
    "temp_hour = volume['volume4hour']\n",
    "temp_minute = volume['volume4minute']"
   ]
  },
  {
   "cell_type": "code",
   "execution_count": 37,
   "metadata": {
    "Collapsed": "false"
   },
   "outputs": [],
   "source": [
    "temp_month.columns = [temp_month.columns[0]] + list(map(lambda x : '월별_'+x, temp_month.columns[1:]))\n",
    "temp_hour.columns = [temp_hour.columns[0]] + list(map(lambda x : '시간별_'+x, temp_hour.columns[1:]))\n",
    "temp_minute.columns = [temp_minute.columns[0]] + list(map(lambda x : '분별_'+x, temp_minute.columns[1:]))"
   ]
  },
  {
   "cell_type": "code",
   "execution_count": 38,
   "metadata": {
    "Collapsed": "false"
   },
   "outputs": [],
   "source": [
    "rate_v3.columns = np.arange(0, 24)\n",
    "rate_v4.columns = np.arange(0, 24)\n",
    "rate_v5.columns = np.arange(0, 24)"
   ]
  },
  {
   "cell_type": "code",
   "execution_count": 39,
   "metadata": {
    "Collapsed": "false"
   },
   "outputs": [],
   "source": [
    "rate_v3 = rate_v3.reset_index().rename(columns = {'index' : '방송일시'})\n",
    "rate_v4 = rate_v4.reset_index().rename(columns = {'index' : '방송일시'})\n",
    "rate_v5 = rate_v5.reset_index().rename(columns = {'index' : '방송일시'})"
   ]
  },
  {
   "cell_type": "code",
   "execution_count": 40,
   "metadata": {
    "Collapsed": "false"
   },
   "outputs": [],
   "source": [
    "rate_v3['방송월'] = pd.to_datetime(rate_v3['방송일시']).dt.month\n",
    "rate_v3['방송일'] = pd.to_datetime(rate_v3['방송일시']).dt.day\n",
    "rate_v4['방송월'] = pd.to_datetime(rate_v4['방송일시']).dt.month\n",
    "rate_v4['방송일'] = pd.to_datetime(rate_v5['방송일시']).dt.day\n",
    "rate_v5['방송월'] = pd.to_datetime(rate_v5['방송일시']).dt.month\n",
    "rate_v5['방송일'] = pd.to_datetime(rate_v5['방송일시']).dt.day"
   ]
  },
  {
   "cell_type": "code",
   "execution_count": 41,
   "metadata": {
    "Collapsed": "false"
   },
   "outputs": [],
   "source": [
    "rate_v6 = rate_v6.reset_index(drop = True).reset_index().rename(columns = {'index' : '방송시간(시간)'})\n",
    "rate_v7 = rate_v7.reset_index(drop = True).reset_index().rename(columns = {'index' : '방송시간(시간)'})\n",
    "rate_v8 = rate_v8.reset_index(drop = True).reset_index().rename(columns = {'index' : '방송시간(시간)'})"
   ]
  },
  {
   "cell_type": "markdown",
   "metadata": {
    "Collapsed": "false"
   },
   "source": [
    "# 1. 데이터 전처리"
   ]
  },
  {
   "cell_type": "code",
   "execution_count": 42,
   "metadata": {
    "Collapsed": "false"
   },
   "outputs": [
    {
     "name": "stderr",
     "output_type": "stream",
     "text": [
      "Using TensorFlow backend.\n"
     ]
    }
   ],
   "source": [
    "import pandas as pd\n",
    "import numpy as np\n",
    "from sklearn.preprocessing import StandardScaler, PolynomialFeatures, LabelEncoder, MinMaxScaler\n",
    "from keras.layers import Input, Embedding, Dense, Flatten, Dropout, SpatialDropout1D, Activation, concatenate\n",
    "from keras.optimizers import Adam, SGD\n",
    "from keras.layers.advanced_activations import ReLU, PReLU, LeakyReLU, ELU\n",
    "from keras.layers.normalization import BatchNormalization\n",
    "from keras.callbacks import EarlyStopping, ModelCheckpoint\n",
    "from keras.models import Model\n",
    "from tensorflow.keras.utils import plot_model"
   ]
  },
  {
   "cell_type": "code",
   "execution_count": 43,
   "metadata": {
    "Collapsed": "false"
   },
   "outputs": [],
   "source": [
    "from keras.metrics import top_k_categorical_accuracy, top_k_categorical_accuracy"
   ]
  },
  {
   "cell_type": "code",
   "execution_count": 106,
   "metadata": {
    "Collapsed": "false"
   },
   "outputs": [],
   "source": [
    "COLUMNS = ['방송월',\n",
    " '방송일',\n",
    " '방송시간(시간)',\n",
    " '방송시간(분)',\n",
    "#  '합계',\n",
    "#  '컴퓨터 및 주변기기',\n",
    "#  '가전·전자·통신기기',\n",
    "#  '서적',\n",
    "#  '사무·문구',\n",
    "#  '의복',\n",
    "#  '신발',\n",
    "#  '가방',\n",
    "#  '패션용품 및 액세서리',\n",
    "#  '스포츠·레저용품',\n",
    "#  '화장품',\n",
    "#  '아동·유아용품',\n",
    "#  '음·식료품',\n",
    "#  '농축수산물',\n",
    "#  '생활용품',\n",
    "#  '자동차 및 자동차용품',\n",
    "#  '가구',\n",
    "#  '애완용품',\n",
    "#  '여행 및 교통서비스',\n",
    "#  '문화 및 레저서비스',\n",
    "#  'e쿠폰서비스',\n",
    "#  '음식서비스',\n",
    "#  '기타서비스',\n",
    "#  '기타',\n",
    " '현재생활형편CSI',\n",
    " '현재경기판단CSI',\n",
    " '생활형편전망CSI',\n",
    " '소비지출전망CSI',\n",
    " '주택가격전망CSI',\n",
    " '임금수준전망CSI',\n",
    " '소비자심리지수',\n",
    " '경상지수',\n",
    " '불변지수',\n",
    " 'pca_1',\n",
    " 'pca_2',\n",
    " 'pca_3',\n",
    " 'pca_4',\n",
    " 'pca_5',\n",
    " '강수량(mm)_경기',\n",
    " '강수량(mm)_광주',\n",
    " '강수량(mm)_대구',\n",
    " '강수량(mm)_대전',\n",
    " '강수량(mm)_부산',\n",
    " '강수량(mm)_서울',\n",
    " '강수량(mm)_울산',\n",
    " '강수량(mm)_인천',\n",
    " '기온(°C)_경기',\n",
    " '기온(°C)_광주',\n",
    " '기온(°C)_대구',\n",
    " '기온(°C)_대전',\n",
    " '기온(°C)_부산',\n",
    " '기온(°C)_서울',\n",
    " '기온(°C)_울산',\n",
    " '기온(°C)_인천',\n",
    " '습도(%)_경기',\n",
    " '습도(%)_광주',\n",
    " '습도(%)_대구',\n",
    " '습도(%)_대전',\n",
    " '습도(%)_부산',\n",
    " '습도(%)_서울',\n",
    " '습도(%)_울산',\n",
    " '습도(%)_인천',\n",
    " '시정(10m)_경기',\n",
    " '시정(10m)_광주',\n",
    " '시정(10m)_대구',\n",
    " '시정(10m)_대전',\n",
    " '시정(10m)_부산',\n",
    " '시정(10m)_서울',\n",
    " '시정(10m)_울산',\n",
    " '시정(10m)_인천',\n",
    " '지면온도(°C)_경기',\n",
    " '지면온도(°C)_광주',\n",
    " '지면온도(°C)_대구',\n",
    " '지면온도(°C)_대전',\n",
    " '지면온도(°C)_부산',\n",
    " '지면온도(°C)_서울',\n",
    " '지면온도(°C)_울산',\n",
    " '지면온도(°C)_인천',\n",
    " '체감온도_경기',\n",
    " '체감온도_광주',\n",
    " '체감온도_대구',\n",
    " '체감온도_대전',\n",
    " '체감온도_부산',\n",
    " '체감온도_서울',\n",
    " '체감온도_울산',\n",
    " '체감온도_인천',\n",
    " '풍속(m/s)_경기',\n",
    " '풍속(m/s)_광주',\n",
    " '풍속(m/s)_대구',\n",
    " '풍속(m/s)_대전',\n",
    " '풍속(m/s)_부산',\n",
    " '풍속(m/s)_서울',\n",
    " '풍속(m/s)_울산',\n",
    " '풍속(m/s)_인천',\n",
    " '최고PM10_경기',\n",
    " '최고PM10_광주',\n",
    " '최고PM10_대구',\n",
    " '최고PM10_대전',\n",
    " '최고PM10_부산',\n",
    " '최고PM10_서울',\n",
    " '최고PM10_울산',\n",
    " '최고PM10_인천',\n",
    " '최고PM25_경기',\n",
    " '최고PM25_광주',\n",
    " '최고PM25_대구',\n",
    " '최고PM25_대전',\n",
    " '최고PM25_부산',\n",
    " '최고PM25_서울',\n",
    " '최고PM25_울산',\n",
    " '최고PM25_인천',\n",
    " '최저PM10_경기',\n",
    " '최저PM10_광주',\n",
    " '최저PM10_대구',\n",
    " '최저PM10_대전',\n",
    " '최저PM10_부산',\n",
    " '최저PM10_서울',\n",
    " '최저PM10_울산',\n",
    " '최저PM10_인천',\n",
    " '최저PM25_경기',\n",
    " '최저PM25_광주',\n",
    " '최저PM25_대구',\n",
    " '최저PM25_대전',\n",
    " '최저PM25_부산',\n",
    " '최저PM25_서울',\n",
    " '최저PM25_울산',\n",
    " '최저PM25_인천',\n",
    " '평균PM10_경기',\n",
    " '평균PM10_광주',\n",
    " '평균PM10_대구',\n",
    " '평균PM10_대전',\n",
    " '평균PM10_부산',\n",
    " '평균PM10_서울',\n",
    " '평균PM10_울산',\n",
    " '평균PM10_인천',\n",
    " '평균PM25_경기',\n",
    " '평균PM25_광주',\n",
    " '평균PM25_대구',\n",
    " '평균PM25_대전',\n",
    " '평균PM25_부산',\n",
    " '평균PM25_서울',\n",
    " '평균PM25_울산',\n",
    " '평균PM25_인천',\n",
    "#  '월별_가구',\n",
    "#  '월별_가전',\n",
    "#  '월별_건강기능',\n",
    "#  '월별_농수축',\n",
    "#  '월별_무형',\n",
    "#  '월별_생활용품',\n",
    "#  '월별_속옷',\n",
    "#  '월별_의류',\n",
    "#  '월별_이미용',\n",
    "#  '월별_잡화',\n",
    "#  '월별_주방',\n",
    "#  '월별_침구',\n",
    " '시간별_가구',\n",
    " '시간별_가전',\n",
    " '시간별_건강기능',\n",
    " '시간별_농수축',\n",
    " '시간별_무형',\n",
    " '시간별_생활용품',\n",
    " '시간별_속옷',\n",
    " '시간별_의류',\n",
    " '시간별_이미용',\n",
    " '시간별_잡화',\n",
    " '시간별_주방',\n",
    " '시간별_침구',\n",
    "#  '분별_가구',\n",
    "#  '분별_가전',\n",
    "#  '분별_건강기능',\n",
    "#  '분별_농수축',\n",
    "#  '분별_무형',\n",
    "#  '분별_생활용품',\n",
    "#  '분별_속옷',\n",
    "#  '분별_의류',\n",
    "#  '분별_이미용',\n",
    "#  '분별_잡화',\n",
    "#  '분별_주방',\n",
    "#  '분별_침구',\n",
    " 'isHoliday',\n",
    " '평일여부',\n",
    " '방송시간대',\n",
    " '계절',\n",
    " '분기',\n",
    " '일별평균시청률',\n",
    " '일별시간별최대시청률',\n",
    " '일별시간별평균시청률',\n",
    " '일별시간별중간시청률',\n",
    " '시간별월별최대시청률',\n",
    " '시간별월별평균시청률',\n",
    " '시간별월별중간시청률',\n",
    " '월별시간별평균판매량',\n",
    " '월별시간별중간판매량',\n",
    " '월별시간별평균판매단가',\n",
    " '월별시간별중간판매단가',\n",
    " '시간별평균판매량',\n",
    " '시간별중간판매량',\n",
    " '시간별평균판매단가',\n",
    " '시간별중간판매단가',\n",
    " 'ema_s_가구',\n",
    " 'ema_s_가전',\n",
    " 'ema_s_건강기능',\n",
    " 'ema_s_농수축',\n",
    " 'ema_s_생활용품',\n",
    " 'ema_s_속옷',\n",
    " 'ema_s_의류',\n",
    " 'ema_s_이미용',\n",
    " 'ema_s_잡화',\n",
    " 'ema_s_주방',\n",
    " 'ema_s_침구',\n",
    " 'ema_m_가구',\n",
    " 'ema_m_가전',\n",
    " 'ema_m_건강기능',\n",
    " 'ema_m_농수축',\n",
    " 'ema_m_생활용품',\n",
    " 'ema_m_속옷',\n",
    " 'ema_m_의류',\n",
    " 'ema_m_이미용',\n",
    " 'ema_m_잡화',\n",
    " 'ema_m_주방',\n",
    " 'ema_m_침구',\n",
    " 'ema_l_가구',\n",
    " 'ema_l_가전',\n",
    " 'ema_l_건강기능',\n",
    " 'ema_l_농수축',\n",
    " 'ema_l_생활용품',\n",
    " 'ema_l_속옷',\n",
    " 'ema_l_의류',\n",
    " 'ema_l_이미용',\n",
    " 'ema_l_잡화',\n",
    " 'ema_l_주방',\n",
    " 'ema_l_침구',\n",
    " 'macd_가구',\n",
    " 'macd_가전',\n",
    " 'macd_건강기능',\n",
    " 'macd_농수축',\n",
    " 'macd_생활용품',\n",
    " 'macd_속옷',\n",
    " 'macd_의류',\n",
    " 'macd_이미용',\n",
    " 'macd_잡화',\n",
    " 'macd_주방',\n",
    " 'macd_침구',\n",
    " 'sig_가구',\n",
    " 'sig_가전',\n",
    " 'sig_건강기능',\n",
    " 'sig_농수축',\n",
    " 'sig_생활용품',\n",
    " 'sig_속옷',\n",
    " 'sig_의류',\n",
    " 'sig_이미용',\n",
    " 'sig_잡화',\n",
    " 'sig_주방',\n",
    " 'sig_침구',\n",
    " 'rol14_가구',\n",
    " 'rol14_가전',\n",
    " 'rol14_건강기능',\n",
    " 'rol14_농수축',\n",
    " 'rol14_생활용품',\n",
    " 'rol14_속옷',\n",
    " 'rol14_의류',\n",
    " 'rol14_이미용',\n",
    " 'rol14_잡화',\n",
    " 'rol14_주방',\n",
    " 'rol14_침구',\n",
    " 'rol30_가구',\n",
    " 'rol30_가전',\n",
    " 'rol30_건강기능',\n",
    " 'rol30_농수축',\n",
    " 'rol30_생활용품',\n",
    " 'rol30_속옷',\n",
    " 'rol30_의류',\n",
    " 'rol30_이미용',\n",
    " 'rol30_잡화',\n",
    " 'rol30_주방',\n",
    " 'rol30_침구',\n",
    " 'ema_sz_가구',\n",
    " 'ema_sz_가전',\n",
    " 'ema_sz_건강기능',\n",
    " 'ema_sz_농수축',\n",
    " 'ema_sz_생활용품',\n",
    " 'ema_sz_속옷',\n",
    " 'ema_sz_의류',\n",
    " 'ema_sz_이미용',\n",
    " 'ema_sz_잡화',\n",
    " 'ema_sz_주방',\n",
    " 'ema_sz_침구',\n",
    " 'ema_mz_가구',\n",
    " 'ema_mz_가전',\n",
    " 'ema_mz_건강기능',\n",
    " 'ema_mz_농수축',\n",
    " 'ema_mz_생활용품',\n",
    " 'ema_mz_속옷',\n",
    " 'ema_mz_의류',\n",
    " 'ema_mz_이미용',\n",
    " 'ema_mz_잡화',\n",
    " 'ema_mz_주방',\n",
    " 'ema_mz_침구',\n",
    " 'ema_lz_가구',\n",
    " 'ema_lz_가전',\n",
    " 'ema_lz_건강기능',\n",
    " 'ema_lz_농수축',\n",
    " 'ema_lz_생활용품',\n",
    " 'ema_lz_속옷',\n",
    " 'ema_lz_의류',\n",
    " 'ema_lz_이미용',\n",
    " 'ema_lz_잡화',\n",
    " 'ema_lz_주방',\n",
    " 'ema_lz_침구',\n",
    " 'macdz_가구',\n",
    " 'macdz_가전',\n",
    " 'macdz_건강기능',\n",
    " 'macdz_농수축',\n",
    " 'macdz_생활용품',\n",
    " 'macdz_속옷',\n",
    " 'macdz_의류',\n",
    " 'macdz_이미용',\n",
    " 'macdz_잡화',\n",
    " 'macdz_주방',\n",
    " 'macdz_침구',\n",
    " 'sigz_가구',\n",
    " 'sigz_가전',\n",
    " 'sigz_건강기능',\n",
    " 'sigz_농수축',\n",
    " 'sigz_생활용품',\n",
    " 'sigz_속옷',\n",
    " 'sigz_의류',\n",
    " 'sigz_이미용',\n",
    " 'sigz_잡화',\n",
    " 'sigz_주방',\n",
    " 'sigz_침구',\n",
    " 'rol14z_가구',\n",
    " 'rol14z_가전',\n",
    " 'rol14z_건강기능',\n",
    " 'rol14z_농수축',\n",
    " 'rol14z_생활용품',\n",
    " 'rol14z_속옷',\n",
    " 'rol14z_의류',\n",
    " 'rol14z_이미용',\n",
    " 'rol14z_잡화',\n",
    " 'rol14z_주방',\n",
    " 'rol14z_침구',\n",
    " 'rol30z_가구',\n",
    " 'rol30z_가전',\n",
    " 'rol30z_건강기능',\n",
    " 'rol30z_농수축',\n",
    " 'rol30z_생활용품',\n",
    " 'rol30z_속옷',\n",
    " 'rol30z_의류',\n",
    " 'rol30z_이미용',\n",
    " 'rol30z_잡화',\n",
    " 'rol30z_주방',\n",
    " 'rol30z_침구']"
   ]
  },
  {
   "cell_type": "code",
   "execution_count": 107,
   "metadata": {
    "Collapsed": "false"
   },
   "outputs": [],
   "source": [
    "CATEGORICAL_COLUMNS = ['isHoliday', '평일여부', '방송시간대', '계절', '분기']\n",
    "CONTINUOUS_COLUMNS = list(set(COLUMNS) - set(CATEGORICAL_COLUMNS))"
   ]
  },
  {
   "cell_type": "code",
   "execution_count": 108,
   "metadata": {
    "Collapsed": "false"
   },
   "outputs": [
    {
     "data": {
      "text/plain": [
       "(308, 5, 303)"
      ]
     },
     "execution_count": 108,
     "metadata": {},
     "output_type": "execute_result"
    }
   ],
   "source": [
    "len(COLUMNS), len(CATEGORICAL_COLUMNS), len(CONTINUOUS_COLUMNS)"
   ]
  },
  {
   "cell_type": "code",
   "execution_count": 134,
   "metadata": {
    "Collapsed": "false"
   },
   "outputs": [],
   "source": [
    "def prep4WnD(train, test):\n",
    "    \n",
    "    x_train = train['X']\n",
    "    train_label = train['label']\n",
    "    train_size = len(x_train)\n",
    "    x_test = test['X']\n",
    "    test_label = test['label']\n",
    "    \n",
    "    data = pd.concat([x_train, x_test], axis = 0)\n",
    "#     label = pd.DataFrame(pd.concat([train['label'], test['label']], axis = 0)).merge(mother, on = '마더코드', how = 'left')['index']\n",
    "#     label = to_categorical(label)\n",
    "    data[['방송월', '방송시간(시간)', '방송시간(분)']] = data[['방송월', '방송시간(시간)', '방송시간(분)']].astype(int)\n",
    "    data = data.merge(temp_month, on = '방송월', how = 'left').merge(temp_hour, on = '방송시간(시간)', how = 'left').merge(temp_minute, on = '방송시간(분)', how = 'left')\n",
    "    data['방송년도'] = 2019\n",
    "    data =  data.merge(timeS,  on = ['방송년도', '방송월', '방송일'], how = 'left').fillna(0)\n",
    "    data =  data.merge(timeZ,  on = ['방송년도', '방송월', '방송일', '방송시간(시간)'], how = 'left').fillna(0)\n",
    "    data =  data.drop('방송년도', axis = 1)\n",
    "    \n",
    "    \n",
    "    data = data.merge(rate_v1[['방송월', '방송일', '일별평균시청률']], on = ['방송월', '방송일'], how = 'left')\n",
    "    data['일별시간별최대시청률'] = None\n",
    "    data['일별시간별평균시청률'] = None\n",
    "    data['일별시간별중간시청률'] = None\n",
    "\n",
    "    for m, d, h in tqdm(data[['방송월', '방송일', '방송시간(시간)']].drop_duplicates().values):\n",
    "        max_r = rate_v3.loc[(rate_v3['방송월'] == m) & (rate_v3['방송일'] == d), h].values[0]\n",
    "        min_r = rate_v4.loc[(rate_v4['방송월'] == m) & (rate_v4['방송일'] == d), h].values[0]\n",
    "        med_r = rate_v5.loc[(rate_v5['방송월'] == m) & (rate_v5['방송일'] == d), h].values[0]\n",
    "\n",
    "        data.loc[(data['방송월'] == m) & (data['방송일'] == d) & (data['방송시간(시간)'] == h), ['일별시간별최대시청률', '일별시간별평균시청률', '일별시간별중간시청률']] = [max_r, min_r, med_r]\n",
    "\n",
    "    data['시간별월별최대시청률'] = None\n",
    "    data['시간별월별평균시청률'] = None\n",
    "    data['시간별월별중간시청률'] = None\n",
    "\n",
    "    for m,h in tqdm(data[['방송월', '방송시간(시간)']].drop_duplicates().values):\n",
    "        max_r = rate_v6.loc[(rate_v6['방송시간(시간)'] == h), m].values[0]\n",
    "        min_r = rate_v7.loc[(rate_v7['방송시간(시간)'] == h), m].values[0]\n",
    "        med_r = rate_v8.loc[(rate_v8['방송시간(시간)'] == h), m].values[0]\n",
    "\n",
    "        data.loc[(data['방송월'] == m) & (data['방송시간(시간)'] == h), ['시간별월별최대시청률', '시간별월별평균시청률', '시간별월별중간시청률']] = [max_r, min_r, med_r]\n",
    "    \n",
    "    data = data.merge(volume_v1, left_on = ['방송월', '방송시간(시간)'], right_on = ['방송월', '방송시간'], how = 'left')\n",
    "    data = data.merge(volume_v2, left_on = ['방송시간(시간)'], right_on = ['방송시간'], how = 'left')\n",
    "    data = data.drop(['방송시간_x', '방송시간_y'], axis = 1)\n",
    "    \n",
    "    label = pd.DataFrame(pd.concat([train['label'], test['label']], axis = 0))['상품군'].values\n",
    "    label = pd.get_dummies(label).values\n",
    "#     label = pd.get_dummies(label_v2).values\n",
    "#     train_label = label[:train_size]\n",
    "#     test_label = label[train_size]\n",
    "    \n",
    "    X = data[COLUMNS]\n",
    "    for c in CATEGORICAL_COLUMNS:\n",
    "        le = LabelEncoder()\n",
    "        X[c] = le.fit_transform(X[c])\n",
    "        \n",
    "    x_train = X.iloc[2600:train_size]\n",
    "    y_train = label[2600:train_size]\n",
    "    \n",
    "    x_test = X.iloc[train_size:]\n",
    "    y_test = label[train_size:]\n",
    "    \n",
    "    x_train_category = np.array(x_train[CATEGORICAL_COLUMNS])\n",
    "    x_test_category = np.array(x_test[CATEGORICAL_COLUMNS])\n",
    "    x_train_continue = np.array(x_train[CONTINUOUS_COLUMNS], dtype='float64')\n",
    "    x_test_continue = np.array(x_test[CONTINUOUS_COLUMNS], dtype='float64')\n",
    "    \n",
    "    scaler = StandardScaler()\n",
    "    x_train_continue = scaler.fit_transform(x_train_continue)\n",
    "    x_test_continue = scaler.transform(x_test_continue)\n",
    "    \n",
    "    poly = PolynomialFeatures(degree=2, interaction_only=True)\n",
    "    x_train_category_poly = poly.fit_transform(x_train_category)\n",
    "    x_test_category_poly = poly.transform(x_test_category)\n",
    "    \n",
    "    data4train = (x_train_continue, x_train_category, x_train_category_poly, y_train)\n",
    "    data4test = (x_test_continue, x_test_category, x_test_category_poly, y_test)\n",
    "\n",
    "    return X, data4train, data4test\n",
    "\n",
    "\n",
    "\n"
   ]
  },
  {
   "cell_type": "code",
   "execution_count": 135,
   "metadata": {
    "Collapsed": "false"
   },
   "outputs": [
    {
     "name": "stderr",
     "output_type": "stream",
     "text": [
      "100%|██████████| 7148/7148 [00:38<00:00, 183.96it/s]\n",
      "100%|██████████| 244/244 [00:01<00:00, 242.13it/s]\n"
     ]
    }
   ],
   "source": [
    "X, data4train, data4test = prep4WnD(train, test)"
   ]
  },
  {
   "cell_type": "code",
   "execution_count": 136,
   "metadata": {
    "Collapsed": "false"
   },
   "outputs": [],
   "source": [
    "x_train_continue, x_train_category, x_train_category_poly, train_label = data4train[0], data4train[1], data4train[2], data4train[3]\n",
    "x_test_continue, x_test_category, x_test_category_poly, test_label = data4test[0], data4test[1], data4test[2], data4test[3]"
   ]
  },
  {
   "cell_type": "code",
   "execution_count": 209,
   "metadata": {
    "Collapsed": "false"
   },
   "outputs": [],
   "source": [
    "def get_deep_model(data):\n",
    "\n",
    "    category_inputs = []\n",
    "    category_embeds = []\n",
    "    # 카테고리컬 데이터 임베딩\n",
    "    for i in range(len(CATEGORICAL_COLUMNS)):\n",
    "        input_i = Input(shape=(1,), dtype='int32')\n",
    "        dim = len(np.unique(data[CATEGORICAL_COLUMNS[i]]))\n",
    "        embed_dim = int(np.ceil(dim ** 0.5)) # embedding 차원을 0.5배 정도로 해서 한다.\n",
    "        embed_i = Embedding(dim, embed_dim, input_length=1)(input_i)\n",
    "        flatten_i = Flatten()(embed_i)\n",
    "        category_inputs.append(input_i)\n",
    "        category_embeds.append(flatten_i)\n",
    "    # continuous 데이터 input\n",
    "    continue_input = Input(shape=(len(CONTINUOUS_COLUMNS),))\n",
    "    continue_dense = Dense(256, use_bias=False)(continue_input)\n",
    "    # category와 continue를 합침\n",
    "    concat_embeds = concatenate([continue_dense] + category_embeds)\n",
    "    concat_embeds = Activation('relu')(concat_embeds)\n",
    "    bn_concat = BatchNormalization()(concat_embeds)\n",
    "\n",
    "    fc1 = Dense(512, use_bias=False)(bn_concat)\n",
    "    relu1 = ReLU()(fc1)\n",
    "    bn1 = BatchNormalization()(relu1)\n",
    "    fc2 = Dense(256, use_bias=False)(bn1)\n",
    "    relu2 = ReLU()(fc2)\n",
    "    bn2 = BatchNormalization()(relu2)\n",
    "    fc3 = Dense(128)(bn2)\n",
    "    relu3 = ReLU()(fc3)\n",
    "    \n",
    "    return category_inputs, continue_input, relu3"
   ]
  },
  {
   "cell_type": "code",
   "execution_count": 210,
   "metadata": {
    "Collapsed": "false"
   },
   "outputs": [],
   "source": [
    "def get_wide_model():\n",
    "    dim = x_train_category_poly.shape[1]\n",
    "    return Input(shape=(dim,))"
   ]
  },
  {
   "cell_type": "code",
   "execution_count": 211,
   "metadata": {
    "Collapsed": "false"
   },
   "outputs": [],
   "source": [
    "category_inputs, continue_input, deep_model = get_deep_model(X)\n",
    "wide_model = get_wide_model()"
   ]
  },
  {
   "cell_type": "code",
   "execution_count": 212,
   "metadata": {
    "Collapsed": "false"
   },
   "outputs": [],
   "source": [
    "out_layer = concatenate([deep_model, wide_model])\n",
    "inputs = [continue_input] + category_inputs + [wide_model]\n",
    "output = Dense(len(train_label[0]), activation='softmax')(out_layer)\n",
    "model = Model(inputs=inputs, outputs=output)"
   ]
  },
  {
   "cell_type": "code",
   "execution_count": 213,
   "metadata": {
    "Collapsed": "false"
   },
   "outputs": [
    {
     "name": "stdout",
     "output_type": "stream",
     "text": [
      "Model: \"model_4\"\n",
      "__________________________________________________________________________________________________\n",
      "Layer (type)                    Output Shape         Param #     Connected to                     \n",
      "==================================================================================================\n",
      "input_22 (InputLayer)           (None, 1)            0                                            \n",
      "__________________________________________________________________________________________________\n",
      "input_23 (InputLayer)           (None, 1)            0                                            \n",
      "__________________________________________________________________________________________________\n",
      "input_24 (InputLayer)           (None, 1)            0                                            \n",
      "__________________________________________________________________________________________________\n",
      "input_25 (InputLayer)           (None, 1)            0                                            \n",
      "__________________________________________________________________________________________________\n",
      "input_26 (InputLayer)           (None, 1)            0                                            \n",
      "__________________________________________________________________________________________________\n",
      "input_27 (InputLayer)           (None, 303)          0                                            \n",
      "__________________________________________________________________________________________________\n",
      "embedding_16 (Embedding)        (None, 1, 2)         4           input_22[0][0]                   \n",
      "__________________________________________________________________________________________________\n",
      "embedding_17 (Embedding)        (None, 1, 2)         4           input_23[0][0]                   \n",
      "__________________________________________________________________________________________________\n",
      "embedding_18 (Embedding)        (None, 1, 3)         15          input_24[0][0]                   \n",
      "__________________________________________________________________________________________________\n",
      "embedding_19 (Embedding)        (None, 1, 2)         8           input_25[0][0]                   \n",
      "__________________________________________________________________________________________________\n",
      "embedding_20 (Embedding)        (None, 1, 2)         8           input_26[0][0]                   \n",
      "__________________________________________________________________________________________________\n",
      "dense_16 (Dense)                (None, 256)          77568       input_27[0][0]                   \n",
      "__________________________________________________________________________________________________\n",
      "flatten_16 (Flatten)            (None, 2)            0           embedding_16[0][0]               \n",
      "__________________________________________________________________________________________________\n",
      "flatten_17 (Flatten)            (None, 2)            0           embedding_17[0][0]               \n",
      "__________________________________________________________________________________________________\n",
      "flatten_18 (Flatten)            (None, 3)            0           embedding_18[0][0]               \n",
      "__________________________________________________________________________________________________\n",
      "flatten_19 (Flatten)            (None, 2)            0           embedding_19[0][0]               \n",
      "__________________________________________________________________________________________________\n",
      "flatten_20 (Flatten)            (None, 2)            0           embedding_20[0][0]               \n",
      "__________________________________________________________________________________________________\n",
      "concatenate_7 (Concatenate)     (None, 267)          0           dense_16[0][0]                   \n",
      "                                                                 flatten_16[0][0]                 \n",
      "                                                                 flatten_17[0][0]                 \n",
      "                                                                 flatten_18[0][0]                 \n",
      "                                                                 flatten_19[0][0]                 \n",
      "                                                                 flatten_20[0][0]                 \n",
      "__________________________________________________________________________________________________\n",
      "activation_4 (Activation)       (None, 267)          0           concatenate_7[0][0]              \n",
      "__________________________________________________________________________________________________\n",
      "batch_normalization_10 (BatchNo (None, 267)          1068        activation_4[0][0]               \n",
      "__________________________________________________________________________________________________\n",
      "dense_17 (Dense)                (None, 512)          136704      batch_normalization_10[0][0]     \n",
      "__________________________________________________________________________________________________\n",
      "re_lu_10 (ReLU)                 (None, 512)          0           dense_17[0][0]                   \n",
      "__________________________________________________________________________________________________\n",
      "batch_normalization_11 (BatchNo (None, 512)          2048        re_lu_10[0][0]                   \n",
      "__________________________________________________________________________________________________\n",
      "dense_18 (Dense)                (None, 256)          131072      batch_normalization_11[0][0]     \n",
      "__________________________________________________________________________________________________\n",
      "re_lu_11 (ReLU)                 (None, 256)          0           dense_18[0][0]                   \n",
      "__________________________________________________________________________________________________\n",
      "batch_normalization_12 (BatchNo (None, 256)          1024        re_lu_11[0][0]                   \n",
      "__________________________________________________________________________________________________\n",
      "dense_19 (Dense)                (None, 128)          32896       batch_normalization_12[0][0]     \n",
      "__________________________________________________________________________________________________\n",
      "re_lu_12 (ReLU)                 (None, 128)          0           dense_19[0][0]                   \n",
      "__________________________________________________________________________________________________\n",
      "input_28 (InputLayer)           (None, 16)           0                                            \n",
      "__________________________________________________________________________________________________\n",
      "concatenate_8 (Concatenate)     (None, 144)          0           re_lu_12[0][0]                   \n",
      "                                                                 input_28[0][0]                   \n",
      "__________________________________________________________________________________________________\n",
      "dense_20 (Dense)                (None, 11)           1595        concatenate_8[0][0]              \n",
      "==================================================================================================\n",
      "Total params: 384,014\n",
      "Trainable params: 381,944\n",
      "Non-trainable params: 2,070\n",
      "__________________________________________________________________________________________________\n"
     ]
    }
   ],
   "source": [
    "model.summary()"
   ]
  },
  {
   "cell_type": "code",
   "execution_count": 214,
   "metadata": {
    "Collapsed": "false"
   },
   "outputs": [],
   "source": [
    "early_stopping = EarlyStopping(monitor='val_top_3_categorical_accuracy', patience = 20)"
   ]
  },
  {
   "cell_type": "code",
   "execution_count": 215,
   "metadata": {
    "Collapsed": "false"
   },
   "outputs": [],
   "source": [
    "input_data = [x_train_continue] + [x_train_category[:, i] for i in range(x_train_category.shape[1])] + [x_train_category_poly]"
   ]
  },
  {
   "cell_type": "code",
   "execution_count": 216,
   "metadata": {
    "Collapsed": "false"
   },
   "outputs": [],
   "source": [
    "epochs = 200\n",
    "optimizer = Adam(learning_rate=0.01)\n",
    "batch_size = 64"
   ]
  },
  {
   "cell_type": "code",
   "execution_count": 217,
   "metadata": {
    "Collapsed": "false"
   },
   "outputs": [],
   "source": [
    "def top_3_categorical_accuracy(y_true, y_pred):\n",
    "    return top_k_categorical_accuracy(y_true, y_pred, k=5)"
   ]
  },
  {
   "cell_type": "code",
   "execution_count": 218,
   "metadata": {
    "Collapsed": "false"
   },
   "outputs": [
    {
     "data": {
      "text/plain": [
       "((32779, 11), (2716, 11))"
      ]
     },
     "execution_count": 218,
     "metadata": {},
     "output_type": "execute_result"
    }
   ],
   "source": [
    "train_label.shape, test_label.shape"
   ]
  },
  {
   "cell_type": "code",
   "execution_count": 219,
   "metadata": {
    "Collapsed": "false"
   },
   "outputs": [
    {
     "name": "stdout",
     "output_type": "stream",
     "text": [
      "Train on 26223 samples, validate on 6556 samples\n",
      "Epoch 1/200\n",
      "26223/26223 [==============================] - 4s 134us/step - loss: 1.7210 - accuracy: 0.4003 - top_3_categorical_accuracy: 0.8762 - val_loss: nan - val_accuracy: 0.2395 - val_top_3_categorical_accuracy: 0.7535\n",
      "Epoch 2/200\n",
      "26223/26223 [==============================] - 3s 107us/step - loss: 1.3701 - accuracy: 0.5218 - top_3_categorical_accuracy: 0.9297 - val_loss: nan - val_accuracy: 0.2637 - val_top_3_categorical_accuracy: 0.7602\n",
      "Epoch 3/200\n",
      "26223/26223 [==============================] - 3s 104us/step - loss: 1.1254 - accuracy: 0.6178 - top_3_categorical_accuracy: 0.9571 - val_loss: nan - val_accuracy: 0.2701 - val_top_3_categorical_accuracy: 0.7468\n",
      "Epoch 4/200\n",
      "26223/26223 [==============================] - 3s 109us/step - loss: 0.9479 - accuracy: 0.6760 - top_3_categorical_accuracy: 0.9723 - val_loss: nan - val_accuracy: 0.2689 - val_top_3_categorical_accuracy: 0.7556\n",
      "Epoch 5/200\n",
      "26223/26223 [==============================] - 3s 106us/step - loss: 0.7962 - accuracy: 0.7313 - top_3_categorical_accuracy: 0.9829 - val_loss: nan - val_accuracy: 0.2695 - val_top_3_categorical_accuracy: 0.7756\n",
      "Epoch 6/200\n",
      "26223/26223 [==============================] - 3s 107us/step - loss: 0.6753 - accuracy: 0.7732 - top_3_categorical_accuracy: 0.9878 - val_loss: nan - val_accuracy: 0.2524 - val_top_3_categorical_accuracy: 0.7225\n",
      "Epoch 7/200\n",
      "26223/26223 [==============================] - 3s 105us/step - loss: 0.5784 - accuracy: 0.8030 - top_3_categorical_accuracy: 0.9923 - val_loss: nan - val_accuracy: 0.2456 - val_top_3_categorical_accuracy: 0.7314\n",
      "Epoch 8/200\n",
      "26223/26223 [==============================] - 3s 109us/step - loss: 0.4975 - accuracy: 0.8349 - top_3_categorical_accuracy: 0.9942 - val_loss: nan - val_accuracy: 0.2541 - val_top_3_categorical_accuracy: 0.7305\n",
      "Epoch 9/200\n",
      "26223/26223 [==============================] - 3s 108us/step - loss: 0.4375 - accuracy: 0.8547 - top_3_categorical_accuracy: 0.9966 - val_loss: nan - val_accuracy: 0.2508 - val_top_3_categorical_accuracy: 0.7386\n",
      "Epoch 10/200\n",
      "26223/26223 [==============================] - 3s 109us/step - loss: 0.3897 - accuracy: 0.8703 - top_3_categorical_accuracy: 0.9966 - val_loss: nan - val_accuracy: 0.2084 - val_top_3_categorical_accuracy: 0.6836\n",
      "Epoch 11/200\n",
      "26223/26223 [==============================] - 3s 108us/step - loss: 0.3428 - accuracy: 0.8880 - top_3_categorical_accuracy: 0.9973 - val_loss: nan - val_accuracy: 0.2439 - val_top_3_categorical_accuracy: 0.7309\n",
      "Epoch 12/200\n",
      "26223/26223 [==============================] - 3s 108us/step - loss: 0.3263 - accuracy: 0.8917 - top_3_categorical_accuracy: 0.9977 - val_loss: nan - val_accuracy: 0.2088 - val_top_3_categorical_accuracy: 0.6939\n",
      "Epoch 13/200\n",
      "26223/26223 [==============================] - 3s 107us/step - loss: 0.3103 - accuracy: 0.8965 - top_3_categorical_accuracy: 0.9981 - val_loss: nan - val_accuracy: 0.2340 - val_top_3_categorical_accuracy: 0.7212\n",
      "Epoch 14/200\n",
      "26223/26223 [==============================] - 3s 106us/step - loss: 0.3038 - accuracy: 0.9018 - top_3_categorical_accuracy: 0.9979 - val_loss: nan - val_accuracy: 0.2265 - val_top_3_categorical_accuracy: 0.6849\n",
      "Epoch 15/200\n",
      "26223/26223 [==============================] - 3s 108us/step - loss: 0.2731 - accuracy: 0.9110 - top_3_categorical_accuracy: 0.9986 - val_loss: nan - val_accuracy: 0.2344 - val_top_3_categorical_accuracy: 0.7167\n",
      "Epoch 16/200\n",
      "26223/26223 [==============================] - 3s 108us/step - loss: 0.2685 - accuracy: 0.9119 - top_3_categorical_accuracy: 0.9983 - val_loss: nan - val_accuracy: 0.2346 - val_top_3_categorical_accuracy: 0.7363\n",
      "Epoch 17/200\n",
      "26223/26223 [==============================] - 3s 108us/step - loss: 0.2212 - accuracy: 0.9291 - top_3_categorical_accuracy: 0.9987 - val_loss: nan - val_accuracy: 0.2198 - val_top_3_categorical_accuracy: 0.7029\n",
      "Epoch 18/200\n",
      "26223/26223 [==============================] - 3s 108us/step - loss: 0.2163 - accuracy: 0.9297 - top_3_categorical_accuracy: 0.9989 - val_loss: nan - val_accuracy: 0.2149 - val_top_3_categorical_accuracy: 0.6983\n",
      "Epoch 19/200\n",
      "26223/26223 [==============================] - 3s 109us/step - loss: 0.2339 - accuracy: 0.9251 - top_3_categorical_accuracy: 0.9987 - val_loss: nan - val_accuracy: 0.2178 - val_top_3_categorical_accuracy: 0.6676\n",
      "Epoch 20/200\n",
      "26223/26223 [==============================] - 3s 114us/step - loss: 0.2072 - accuracy: 0.9336 - top_3_categorical_accuracy: 0.9989 - val_loss: nan - val_accuracy: 0.2322 - val_top_3_categorical_accuracy: 0.7038\n",
      "Epoch 21/200\n",
      "26223/26223 [==============================] - 3s 114us/step - loss: 0.2115 - accuracy: 0.9323 - top_3_categorical_accuracy: 0.9989 - val_loss: nan - val_accuracy: 0.2126 - val_top_3_categorical_accuracy: 0.7148\n",
      "Epoch 22/200\n",
      "26223/26223 [==============================] - 3s 111us/step - loss: 0.1979 - accuracy: 0.9370 - top_3_categorical_accuracy: 0.9992 - val_loss: nan - val_accuracy: 0.2271 - val_top_3_categorical_accuracy: 0.6969\n",
      "Epoch 23/200\n",
      "26223/26223 [==============================] - 3s 109us/step - loss: 0.2043 - accuracy: 0.9333 - top_3_categorical_accuracy: 0.9992 - val_loss: nan - val_accuracy: 0.2166 - val_top_3_categorical_accuracy: 0.6908\n",
      "Epoch 24/200\n",
      "26223/26223 [==============================] - 3s 109us/step - loss: 0.1870 - accuracy: 0.9384 - top_3_categorical_accuracy: 0.9993 - val_loss: nan - val_accuracy: 0.1949 - val_top_3_categorical_accuracy: 0.6846\n",
      "Epoch 25/200\n",
      "26223/26223 [==============================] - 3s 112us/step - loss: 0.1770 - accuracy: 0.9429 - top_3_categorical_accuracy: 0.9995 - val_loss: nan - val_accuracy: 0.2257 - val_top_3_categorical_accuracy: 0.6830\n"
     ]
    },
    {
     "data": {
      "text/plain": [
       "<keras.callbacks.callbacks.History at 0x7fb2a8a88910>"
      ]
     },
     "execution_count": 219,
     "metadata": {},
     "output_type": "execute_result"
    }
   ],
   "source": [
    "model.compile(optimizer = optimizer,\n",
    "              loss = 'categorical_crossentropy',\n",
    "              metrics = ['accuracy',  top_3_categorical_accuracy]\n",
    "             )\n",
    "model.fit(input_data, train_label, epochs=epochs, batch_size=batch_size, validation_split=0.2, callbacks=[early_stopping])"
   ]
  },
  {
   "cell_type": "code",
   "execution_count": 220,
   "metadata": {
    "Collapsed": "false"
   },
   "outputs": [],
   "source": [
    "test_input_data = [x_test_continue] + [x_test_category[:, i] for i in range(x_test_category.shape[1])] + [x_test_category_poly]"
   ]
  },
  {
   "cell_type": "code",
   "execution_count": 221,
   "metadata": {
    "Collapsed": "false"
   },
   "outputs": [
    {
     "name": "stdout",
     "output_type": "stream",
     "text": [
      "32779/32779 [==============================] - 1s 34us/step\n"
     ]
    }
   ],
   "source": [
    "loss, acc, topk = model.evaluate(input_data, train_label)"
   ]
  },
  {
   "cell_type": "code",
   "execution_count": 222,
   "metadata": {
    "Collapsed": "false"
   },
   "outputs": [
    {
     "name": "stdout",
     "output_type": "stream",
     "text": [
      "train_loss: nan - train_acc: 0.8100308179855347 - train_topk: 0.9364837408065796\n"
     ]
    }
   ],
   "source": [
    "print(f'train_loss: {loss} - train_acc: {acc} - train_topk: {topk}')"
   ]
  },
  {
   "cell_type": "code",
   "execution_count": 223,
   "metadata": {
    "Collapsed": "false"
   },
   "outputs": [],
   "source": [
    "pred = model.predict(input_data)"
   ]
  },
  {
   "cell_type": "code",
   "execution_count": 224,
   "metadata": {
    "Collapsed": "false"
   },
   "outputs": [
    {
     "data": {
      "text/plain": [
       "0     11040\n",
       "10    10805\n",
       "1      3423\n",
       "2      1898\n",
       "4      1659\n",
       "7      1231\n",
       "8      1159\n",
       "9       758\n",
       "6       536\n",
       "5       183\n",
       "3        87\n",
       "Name: 0, dtype: int64"
      ]
     },
     "execution_count": 224,
     "metadata": {},
     "output_type": "execute_result"
    }
   ],
   "source": [
    "pred_values = [list(pd.Series(p).sort_values().index[:3]) for p in pred]\n",
    "pd.DataFrame(pred_values)[0].value_counts()"
   ]
  },
  {
   "cell_type": "code",
   "execution_count": 225,
   "metadata": {
    "Collapsed": "false"
   },
   "outputs": [
    {
     "data": {
      "text/plain": [
       "주방      5897\n",
       "가전      4754\n",
       "의류      3959\n",
       "잡화      3587\n",
       "속옷      3531\n",
       "농수축     3443\n",
       "생활용품    2689\n",
       "가구      2302\n",
       "이미용     1218\n",
       "건강기능     735\n",
       "침구       664\n",
       "Name: 상품군, dtype: int64"
      ]
     },
     "execution_count": 225,
     "metadata": {},
     "output_type": "execute_result"
    }
   ],
   "source": [
    "train['label'][2600:].value_counts()"
   ]
  },
  {
   "cell_type": "code",
   "execution_count": 229,
   "metadata": {
    "Collapsed": "false"
   },
   "outputs": [
    {
     "data": {
      "text/plain": [
       "9     5897\n",
       "1     4754\n",
       "6     3959\n",
       "8     3587\n",
       "5     3531\n",
       "3     3443\n",
       "4     2689\n",
       "0     2302\n",
       "7     1218\n",
       "2      735\n",
       "10     664\n",
       "dtype: int64"
      ]
     },
     "execution_count": 229,
     "metadata": {},
     "output_type": "execute_result"
    }
   ],
   "source": [
    "pd.Series(np.argmax(train_label, axis = 1)).value_counts()"
   ]
  },
  {
   "cell_type": "code",
   "execution_count": 230,
   "metadata": {
    "Collapsed": "false"
   },
   "outputs": [
    {
     "data": {
      "text/plain": [
       "[[0, 10, 4],\n",
       " [0, 10, 4],\n",
       " [0, 10, 4],\n",
       " [0, 10, 4],\n",
       " [0, 10, 4],\n",
       " [10, 1, 2],\n",
       " [10, 1, 2],\n",
       " [10, 1, 2],\n",
       " [10, 1, 2],\n",
       " [10, 1, 2]]"
      ]
     },
     "execution_count": 230,
     "metadata": {},
     "output_type": "execute_result"
    }
   ],
   "source": [
    "pred_values[:10]"
   ]
  },
  {
   "cell_type": "code",
   "execution_count": 231,
   "metadata": {
    "Collapsed": "false"
   },
   "outputs": [
    {
     "data": {
      "text/plain": [
       "array([3, 3, 3, 3, 3, 9, 9, 9, 9, 9])"
      ]
     },
     "execution_count": 231,
     "metadata": {},
     "output_type": "execute_result"
    }
   ],
   "source": [
    "np.argmax(train_label, axis = 1)[:10]"
   ]
  },
  {
   "cell_type": "code",
   "execution_count": 235,
   "metadata": {
    "Collapsed": "false"
   },
   "outputs": [
    {
     "name": "stdout",
     "output_type": "stream",
     "text": [
      "2716/2716 [==============================] - 0s 37us/step\n"
     ]
    }
   ],
   "source": [
    "loss, acc, topk = model.evaluate(test_input_data, test_label)"
   ]
  },
  {
   "cell_type": "code",
   "execution_count": 236,
   "metadata": {
    "Collapsed": "false"
   },
   "outputs": [
    {
     "name": "stdout",
     "output_type": "stream",
     "text": [
      "test_loss: nan - test_acc: 0.18409425020217896 - test_topk: 0.611561119556427\n"
     ]
    }
   ],
   "source": [
    "print(f'test_loss: {loss} - test_acc: {acc} - test_topk: {topk}')"
   ]
  },
  {
   "cell_type": "code",
   "execution_count": 237,
   "metadata": {
    "Collapsed": "false"
   },
   "outputs": [],
   "source": [
    "pred = model.predict(test_input_data)"
   ]
  },
  {
   "cell_type": "code",
   "execution_count": 238,
   "metadata": {
    "Collapsed": "false"
   },
   "outputs": [],
   "source": [
    "pred_values = [list(pd.Series(p).sort_values().index[:3]) for p in pred]"
   ]
  },
  {
   "cell_type": "code",
   "execution_count": 239,
   "metadata": {
    "Collapsed": "false"
   },
   "outputs": [
    {
     "data": {
      "text/plain": [
       "0     1575\n",
       "10     393\n",
       "4      294\n",
       "7      249\n",
       "2      120\n",
       "1       45\n",
       "8       29\n",
       "9       11\n",
       "Name: 0, dtype: int64"
      ]
     },
     "execution_count": 239,
     "metadata": {},
     "output_type": "execute_result"
    }
   ],
   "source": [
    "pd.DataFrame(pred_values)[0].value_counts()"
   ]
  },
  {
   "cell_type": "code",
   "execution_count": 240,
   "metadata": {
    "Collapsed": "false"
   },
   "outputs": [
    {
     "data": {
      "text/plain": [
       "가전      489\n",
       "농수축     424\n",
       "생활용품    348\n",
       "속옷      329\n",
       "잡화      277\n",
       "주방      272\n",
       "이미용     167\n",
       "의류      161\n",
       "가구      159\n",
       "침구       72\n",
       "건강기능     18\n",
       "Name: 상품군, dtype: int64"
      ]
     },
     "execution_count": 240,
     "metadata": {},
     "output_type": "execute_result"
    }
   ],
   "source": [
    "test['label'].value_counts()"
   ]
  },
  {
   "cell_type": "code",
   "execution_count": 103,
   "metadata": {
    "Collapsed": "false"
   },
   "outputs": [
    {
     "data": {
      "text/html": [
       "<div>\n",
       "<style scoped>\n",
       "    .dataframe tbody tr th:only-of-type {\n",
       "        vertical-align: middle;\n",
       "    }\n",
       "\n",
       "    .dataframe tbody tr th {\n",
       "        vertical-align: top;\n",
       "    }\n",
       "\n",
       "    .dataframe thead th {\n",
       "        text-align: right;\n",
       "    }\n",
       "</style>\n",
       "<table border=\"1\" class=\"dataframe\">\n",
       "  <thead>\n",
       "    <tr style=\"text-align: right;\">\n",
       "      <th></th>\n",
       "      <th>0</th>\n",
       "      <th>1</th>\n",
       "    </tr>\n",
       "  </thead>\n",
       "  <tbody>\n",
       "    <tr>\n",
       "      <th>0</th>\n",
       "      <td>0</td>\n",
       "      <td>가구</td>\n",
       "    </tr>\n",
       "    <tr>\n",
       "      <th>1</th>\n",
       "      <td>1</td>\n",
       "      <td>가전</td>\n",
       "    </tr>\n",
       "    <tr>\n",
       "      <th>2</th>\n",
       "      <td>2</td>\n",
       "      <td>건강기능</td>\n",
       "    </tr>\n",
       "    <tr>\n",
       "      <th>3</th>\n",
       "      <td>3</td>\n",
       "      <td>농수축</td>\n",
       "    </tr>\n",
       "    <tr>\n",
       "      <th>4</th>\n",
       "      <td>4</td>\n",
       "      <td>생활용품</td>\n",
       "    </tr>\n",
       "    <tr>\n",
       "      <th>5</th>\n",
       "      <td>5</td>\n",
       "      <td>속옷</td>\n",
       "    </tr>\n",
       "    <tr>\n",
       "      <th>6</th>\n",
       "      <td>6</td>\n",
       "      <td>의류</td>\n",
       "    </tr>\n",
       "    <tr>\n",
       "      <th>7</th>\n",
       "      <td>7</td>\n",
       "      <td>이미용</td>\n",
       "    </tr>\n",
       "    <tr>\n",
       "      <th>8</th>\n",
       "      <td>8</td>\n",
       "      <td>잡화</td>\n",
       "    </tr>\n",
       "    <tr>\n",
       "      <th>9</th>\n",
       "      <td>9</td>\n",
       "      <td>주방</td>\n",
       "    </tr>\n",
       "    <tr>\n",
       "      <th>10</th>\n",
       "      <td>10</td>\n",
       "      <td>침구</td>\n",
       "    </tr>\n",
       "  </tbody>\n",
       "</table>\n",
       "</div>"
      ],
      "text/plain": [
       "     0     1\n",
       "0    0    가구\n",
       "1    1    가전\n",
       "2    2  건강기능\n",
       "3    3   농수축\n",
       "4    4  생활용품\n",
       "5    5    속옷\n",
       "6    6    의류\n",
       "7    7   이미용\n",
       "8    8    잡화\n",
       "9    9    주방\n",
       "10  10    침구"
      ]
     },
     "execution_count": 103,
     "metadata": {},
     "output_type": "execute_result"
    }
   ],
   "source": [
    "pd.DataFrame(list(zip(np.argmax(pd.get_dummies(test['label']).values, axis = 1), test['label'].values))).drop_duplicates().sort_values(0).reset_index(drop = True)"
   ]
  },
  {
   "cell_type": "code",
   "execution_count": 1333,
   "metadata": {
    "Collapsed": "false"
   },
   "outputs": [
    {
     "data": {
      "text/plain": [
       "주방      6571\n",
       "가전      5163\n",
       "의류      4331\n",
       "속옷      3910\n",
       "농수축     3884\n",
       "잡화      3694\n",
       "생활용품    2769\n",
       "가구      2302\n",
       "이미용     1305\n",
       "건강기능     786\n",
       "침구       664\n",
       "Name: 상품군, dtype: int64"
      ]
     },
     "execution_count": 1333,
     "metadata": {},
     "output_type": "execute_result"
    }
   ],
   "source": [
    "train['X']['상품군'].value_counts()"
   ]
  },
  {
   "cell_type": "code",
   "execution_count": 1334,
   "metadata": {
    "Collapsed": "false"
   },
   "outputs": [
    {
     "data": {
      "text/plain": [
       "가전      519\n",
       "농수축     464\n",
       "생활용품    378\n",
       "속옷      329\n",
       "주방      308\n",
       "잡화      284\n",
       "이미용     196\n",
       "의류      161\n",
       "가구      159\n",
       "침구       72\n",
       "건강기능     30\n",
       "Name: 상품군, dtype: int64"
      ]
     },
     "execution_count": 1334,
     "metadata": {},
     "output_type": "execute_result"
    }
   ],
   "source": [
    "test['X']['상품군'].value_counts()"
   ]
  },
  {
   "cell_type": "code",
   "execution_count": null,
   "metadata": {
    "Collapsed": "false"
   },
   "outputs": [],
   "source": []
  },
  {
   "cell_type": "code",
   "execution_count": 1115,
   "metadata": {
    "Collapsed": "false"
   },
   "outputs": [
    {
     "data": {
      "text/plain": [
       "Int64Index([7, 8, 5], dtype='int64')"
      ]
     },
     "execution_count": 1115,
     "metadata": {},
     "output_type": "execute_result"
    }
   ],
   "source": [
    "pd.Series(pred[0]).sort_values(ascending = False).index[:3]"
   ]
  },
  {
   "cell_type": "code",
   "execution_count": 415,
   "metadata": {
    "Collapsed": "false"
   },
   "outputs": [],
   "source": [
    "pred = np.argmax(pred, axis = 1)"
   ]
  },
  {
   "cell_type": "code",
   "execution_count": 416,
   "metadata": {
    "Collapsed": "false"
   },
   "outputs": [
    {
     "data": {
      "text/plain": [
       "1     519\n",
       "3     464\n",
       "4     378\n",
       "5     329\n",
       "9     308\n",
       "8     284\n",
       "7     196\n",
       "6     161\n",
       "0     159\n",
       "10     72\n",
       "2      30\n",
       "dtype: int64"
      ]
     },
     "execution_count": 416,
     "metadata": {},
     "output_type": "execute_result"
    }
   ],
   "source": [
    "pd.Series( np.argmax(test_label, axis = 1)).value_counts()"
   ]
  },
  {
   "cell_type": "code",
   "execution_count": 417,
   "metadata": {
    "Collapsed": "false"
   },
   "outputs": [
    {
     "data": {
      "text/plain": [
       "5     1944\n",
       "9      384\n",
       "2      258\n",
       "6       89\n",
       "7       67\n",
       "0       67\n",
       "4       54\n",
       "10      18\n",
       "8       15\n",
       "1        4\n",
       "dtype: int64"
      ]
     },
     "execution_count": 417,
     "metadata": {},
     "output_type": "execute_result"
    }
   ],
   "source": [
    "pd.Series(pred).value_counts()"
   ]
  },
  {
   "cell_type": "code",
   "execution_count": 1289,
   "metadata": {
    "Collapsed": "false"
   },
   "outputs": [],
   "source": [
    "from tensorflow.keras.utils import plot_model"
   ]
  },
  {
   "cell_type": "code",
   "execution_count": 1290,
   "metadata": {
    "Collapsed": "false"
   },
   "outputs": [
    {
     "data": {
      "image/png": "[encoded data removed]",
      "text/plain": [
       "<IPython.core.display.Image object>"
      ]
     },
     "execution_count": 1290,
     "metadata": {},
     "output_type": "execute_result"
    }
   ],
   "source": [
    "plot_model(model, show_shapes=True)"
   ]
  },
  {
   "cell_type": "code",
   "execution_count": null,
   "metadata": {
    "Collapsed": "false"
   },
   "outputs": [],
   "source": []
  }
 ],
 "metadata": {
  "kernelspec": {
   "display_name": "Python 3",
   "language": "python",
   "name": "python3"
  },
  "language_info": {
   "codemirror_mode": {
    "name": "ipython",
    "version": 3
   },
   "file_extension": ".py",
   "mimetype": "text/x-python",
   "name": "python",
   "nbconvert_exporter": "python",
   "pygments_lexer": "ipython3",
   "version": "3.7.6"
  }
 },
 "nbformat": 4,
 "nbformat_minor": 4
}
