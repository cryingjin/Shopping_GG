{
 "cells": [
  {
   "cell_type": "code",
   "execution_count": 1,
   "metadata": {
    "Collapsed": "false"
   },
   "outputs": [],
   "source": [
    "import os\n",
    "import sys\n",
    "import math\n",
    "import gc\n",
    "import random\n",
    "import joblib\n",
    "import datetime\n",
    "import numpy as np\n",
    "import pandas as pd\n",
    "from tqdm import tqdm\n",
    "import warnings\n",
    "warnings.filterwarnings(action='ignore')"
   ]
  },
  {
   "cell_type": "code",
   "execution_count": 66,
   "metadata": {
    "Collapsed": "false"
   },
   "outputs": [],
   "source": [
    "pd.set_option('display.float_format', lambda x: '%.3f' % x)"
   ]
  },
  {
   "cell_type": "code",
   "execution_count": 69,
   "metadata": {
    "Collapsed": "false"
   },
   "outputs": [],
   "source": [
    "import matplotlib.pyplot as plt\n",
    "import seaborn as sns\n",
    "plt.rcParams['figure.figsize']=(15,10)\n",
    "sns.set(rc={'figure.figsize':(20,10)})\n",
    "plt.style.use('seaborn') # seaborn 스타일로 변환\n",
    "plt.rc('font', family='AppleGothic')\n",
    "plt.rc('axes', unicode_minus=False)"
   ]
  },
  {
   "cell_type": "code",
   "execution_count": 2,
   "metadata": {
    "Collapsed": "false"
   },
   "outputs": [],
   "source": [
    "train = pd.read_excel(os.path.join('..', '..', '0.Data', '01_제공데이터', '2020 빅콘테스트 데이터분석분야-챔피언리그_2019년 실적데이터_v1_200818.xlsx'), skiprows = 1)\n",
    "test = pd.read_excel(os.path.join('..', '..', '0.Data', '02_평가데이터', '2020 빅콘테스트 데이터분석분야-챔피언리그_2020년 6월 판매실적예측데이터(평가데이터).xlsx'), skiprows = 1)"
   ]
  },
  {
   "cell_type": "code",
   "execution_count": 3,
   "metadata": {
    "Collapsed": "false"
   },
   "outputs": [
    {
     "data": {
      "text/plain": [
       "((38309, 8), (2891, 8))"
      ]
     },
     "execution_count": 3,
     "metadata": {},
     "output_type": "execute_result"
    }
   ],
   "source": [
    "train.shape, test.shape"
   ]
  },
  {
   "cell_type": "markdown",
   "metadata": {
    "Collapsed": "false"
   },
   "source": [
    "# 0. 아이템 메타 만들기 (train + test)"
   ]
  },
  {
   "cell_type": "code",
   "execution_count": 4,
   "metadata": {
    "Collapsed": "false"
   },
   "outputs": [],
   "source": [
    "meta_train = pd.read_excel(os.path.join('..', '..', '0.Data', '01_제공데이터', 'train수작업_meta.xlsx'))\n",
    "meta_test = pd.read_excel(os.path.join('..', '..', '0.Data', '02_평가데이터', 'test수작업_meta.xlsx'))"
   ]
  },
  {
   "cell_type": "code",
   "execution_count": 5,
   "metadata": {
    "Collapsed": "false"
   },
   "outputs": [],
   "source": [
    "meta_train = meta_train.loc[meta_train['상품군'] != '무형']\n",
    "meta_test = meta_test.loc[meta_test['상품군'] != '무형']"
   ]
  },
  {
   "cell_type": "code",
   "execution_count": 6,
   "metadata": {
    "Collapsed": "false"
   },
   "outputs": [],
   "source": [
    "meta = pd.concat([meta_train, meta_test], axis = 0)"
   ]
  },
  {
   "cell_type": "code",
   "execution_count": 385,
   "metadata": {
    "Collapsed": "false"
   },
   "outputs": [
    {
     "data": {
      "text/html": [
       "<div>\n",
       "<style scoped>\n",
       "    .dataframe tbody tr th:only-of-type {\n",
       "        vertical-align: middle;\n",
       "    }\n",
       "\n",
       "    .dataframe tbody tr th {\n",
       "        vertical-align: top;\n",
       "    }\n",
       "\n",
       "    .dataframe thead th {\n",
       "        text-align: right;\n",
       "    }\n",
       "</style>\n",
       "<table border=\"1\" class=\"dataframe\">\n",
       "  <thead>\n",
       "    <tr style=\"text-align: right;\">\n",
       "      <th></th>\n",
       "      <th>index</th>\n",
       "      <th>마더코드</th>\n",
       "    </tr>\n",
       "  </thead>\n",
       "  <tbody>\n",
       "    <tr>\n",
       "      <th>0</th>\n",
       "      <td>0</td>\n",
       "      <td>100292</td>\n",
       "    </tr>\n",
       "    <tr>\n",
       "      <th>1</th>\n",
       "      <td>1</td>\n",
       "      <td>100293</td>\n",
       "    </tr>\n",
       "    <tr>\n",
       "      <th>2</th>\n",
       "      <td>2</td>\n",
       "      <td>100748</td>\n",
       "    </tr>\n",
       "    <tr>\n",
       "      <th>3</th>\n",
       "      <td>3</td>\n",
       "      <td>100024</td>\n",
       "    </tr>\n",
       "    <tr>\n",
       "      <th>4</th>\n",
       "      <td>4</td>\n",
       "      <td>100536</td>\n",
       "    </tr>\n",
       "    <tr>\n",
       "      <th>...</th>\n",
       "      <td>...</td>\n",
       "      <td>...</td>\n",
       "    </tr>\n",
       "    <tr>\n",
       "      <th>798</th>\n",
       "      <td>798</td>\n",
       "      <td>100012</td>\n",
       "    </tr>\n",
       "    <tr>\n",
       "      <th>799</th>\n",
       "      <td>799</td>\n",
       "      <td>100014</td>\n",
       "    </tr>\n",
       "    <tr>\n",
       "      <th>800</th>\n",
       "      <td>800</td>\n",
       "      <td>100825</td>\n",
       "    </tr>\n",
       "    <tr>\n",
       "      <th>801</th>\n",
       "      <td>801</td>\n",
       "      <td>100005</td>\n",
       "    </tr>\n",
       "    <tr>\n",
       "      <th>802</th>\n",
       "      <td>802</td>\n",
       "      <td>100261</td>\n",
       "    </tr>\n",
       "  </tbody>\n",
       "</table>\n",
       "<p>803 rows × 2 columns</p>\n",
       "</div>"
      ],
      "text/plain": [
       "     index    마더코드\n",
       "0        0  100292\n",
       "1        1  100293\n",
       "2        2  100748\n",
       "3        3  100024\n",
       "4        4  100536\n",
       "..     ...     ...\n",
       "798    798  100012\n",
       "799    799  100014\n",
       "800    800  100825\n",
       "801    801  100005\n",
       "802    802  100261\n",
       "\n",
       "[803 rows x 2 columns]"
      ]
     },
     "execution_count": 385,
     "metadata": {},
     "output_type": "execute_result"
    }
   ],
   "source": [
    "# train + test의 모든 마더코드 803개\n",
    "mother = meta.loc[meta['NEW상품명'].notnull(), '마더코드'].drop_duplicates().reset_index(drop = True).reset_index()\n",
    "mother"
   ]
  },
  {
   "cell_type": "code",
   "execution_count": 7,
   "metadata": {
    "Collapsed": "false"
   },
   "outputs": [],
   "source": [
    "# train + test의 모든 아이템 1622개"
   ]
  },
  {
   "cell_type": "code",
   "execution_count": 8,
   "metadata": {
    "Collapsed": "false"
   },
   "outputs": [
    {
     "data": {
      "text/html": [
       "<div>\n",
       "<style scoped>\n",
       "    .dataframe tbody tr th:only-of-type {\n",
       "        vertical-align: middle;\n",
       "    }\n",
       "\n",
       "    .dataframe tbody tr th {\n",
       "        vertical-align: top;\n",
       "    }\n",
       "\n",
       "    .dataframe thead th {\n",
       "        text-align: right;\n",
       "    }\n",
       "</style>\n",
       "<table border=\"1\" class=\"dataframe\">\n",
       "  <thead>\n",
       "    <tr style=\"text-align: right;\">\n",
       "      <th></th>\n",
       "      <th>NEW상품코드</th>\n",
       "      <th>NEW상품명</th>\n",
       "    </tr>\n",
       "  </thead>\n",
       "  <tbody>\n",
       "    <tr>\n",
       "      <th>0</th>\n",
       "      <td>0</td>\n",
       "      <td>가이거 남성 블랙 에디션 다이아몬드 워치</td>\n",
       "    </tr>\n",
       "    <tr>\n",
       "      <th>1</th>\n",
       "      <td>1</td>\n",
       "      <td>가이거 무빙스타 다이아몬드 워치</td>\n",
       "    </tr>\n",
       "    <tr>\n",
       "      <th>2</th>\n",
       "      <td>2</td>\n",
       "      <td>가이거 무빙스타 다이아몬드 워치 + 보석함</td>\n",
       "    </tr>\n",
       "    <tr>\n",
       "      <th>3</th>\n",
       "      <td>3</td>\n",
       "      <td>가이거 여성 블랙 에디션 다이아몬드 워치</td>\n",
       "    </tr>\n",
       "    <tr>\n",
       "      <th>4</th>\n",
       "      <td>4</td>\n",
       "      <td>가이거 제니스시계 주얼리세트</td>\n",
       "    </tr>\n",
       "    <tr>\n",
       "      <th>...</th>\n",
       "      <td>...</td>\n",
       "      <td>...</td>\n",
       "    </tr>\n",
       "    <tr>\n",
       "      <th>1617</th>\n",
       "      <td>1617</td>\n",
       "      <td>QISS 프리미어 아침에 끌리다 마시는한끼 21통</td>\n",
       "    </tr>\n",
       "    <tr>\n",
       "      <th>1618</th>\n",
       "      <td>1618</td>\n",
       "      <td>QISS 프리미어 아침에 끌리다 마시는한끼 42통</td>\n",
       "    </tr>\n",
       "    <tr>\n",
       "      <th>1619</th>\n",
       "      <td>1619</td>\n",
       "      <td>W클라우드 남성 데일리 트레킹화 3종</td>\n",
       "    </tr>\n",
       "    <tr>\n",
       "      <th>1620</th>\n",
       "      <td>1620</td>\n",
       "      <td>W클라우드 여성 데일리 트레킹화 3종</td>\n",
       "    </tr>\n",
       "    <tr>\n",
       "      <th>1621</th>\n",
       "      <td>1621</td>\n",
       "      <td>아놀드파마 티셔츠 레깅스 세트</td>\n",
       "    </tr>\n",
       "  </tbody>\n",
       "</table>\n",
       "<p>1622 rows × 2 columns</p>\n",
       "</div>"
      ],
      "text/plain": [
       "      NEW상품코드                       NEW상품명\n",
       "0           0       가이거 남성 블랙 에디션 다이아몬드 워치\n",
       "1           1            가이거 무빙스타 다이아몬드 워치\n",
       "2           2      가이거 무빙스타 다이아몬드 워치 + 보석함\n",
       "3           3       가이거 여성 블랙 에디션 다이아몬드 워치\n",
       "4           4              가이거 제니스시계 주얼리세트\n",
       "...       ...                          ...\n",
       "1617     1617  QISS 프리미어 아침에 끌리다 마시는한끼 21통\n",
       "1618     1618  QISS 프리미어 아침에 끌리다 마시는한끼 42통\n",
       "1619     1619         W클라우드 남성 데일리 트레킹화 3종\n",
       "1620     1620         W클라우드 여성 데일리 트레킹화 3종\n",
       "1621     1621             아놀드파마 티셔츠 레깅스 세트\n",
       "\n",
       "[1622 rows x 2 columns]"
      ]
     },
     "execution_count": 8,
     "metadata": {},
     "output_type": "execute_result"
    }
   ],
   "source": [
    "item = meta.loc[meta['NEW상품명'].notnull(), 'NEW상품명'].drop_duplicates().reset_index(drop = True).reset_index().rename(columns = {'index' : 'NEW상품코드'})\n",
    "item"
   ]
  },
  {
   "cell_type": "code",
   "execution_count": 9,
   "metadata": {
    "Collapsed": "false"
   },
   "outputs": [
    {
     "data": {
      "text/plain": [
       "1355"
      ]
     },
     "execution_count": 9,
     "metadata": {},
     "output_type": "execute_result"
    }
   ],
   "source": [
    "# train에 존재하는 NEW상품은 총 1355개\n",
    "train = train.merge(meta.drop_duplicates('상품코드')[['상품코드', 'NEW상품명']], on = '상품코드', how = 'left').merge(item, on = 'NEW상품명', how = 'left')\n",
    "train['NEW상품코드'].nunique()"
   ]
  },
  {
   "cell_type": "code",
   "execution_count": 274,
   "metadata": {
    "Collapsed": "false"
   },
   "outputs": [
    {
     "data": {
      "text/plain": [
       "(716, 225)"
      ]
     },
     "execution_count": 274,
     "metadata": {},
     "output_type": "execute_result"
    }
   ],
   "source": [
    "train['마더코드'].nunique(), test['마더코드'].nunique()"
   ]
  },
  {
   "cell_type": "markdown",
   "metadata": {
    "Collapsed": "false"
   },
   "source": [
    "# 1. 데이터 전처리 (판매량 및 11월 이후 날짜 조정)"
   ]
  },
  {
   "cell_type": "code",
   "execution_count": 10,
   "metadata": {
    "Collapsed": "false"
   },
   "outputs": [],
   "source": [
    "# 판매량\n",
    "import math\n",
    "train['판매량'] = train['취급액'] / train['판매단가']\n",
    "train['판매량'] = train['판매량'].fillna(0).apply(lambda x : math.ceil(x))"
   ]
  },
  {
   "cell_type": "code",
   "execution_count": 11,
   "metadata": {
    "Collapsed": "false"
   },
   "outputs": [],
   "source": [
    "# 11월 1일 이후 시간 조정해 줘야함"
   ]
  },
  {
   "cell_type": "code",
   "execution_count": 12,
   "metadata": {
    "Collapsed": "false"
   },
   "outputs": [],
   "source": [
    "train['방송날'] = train['방송일시'].dt.date\n",
    "train['방송월'] = train['방송일시'].dt.month\n",
    "train['방송일'] = train['방송일시'].dt.day\n",
    "train['방송시간'] = train['방송일시'].dt.hour"
   ]
  },
  {
   "cell_type": "code",
   "execution_count": 13,
   "metadata": {
    "Collapsed": "false"
   },
   "outputs": [],
   "source": [
    "# 11월 1일부터 바뀐 편성표 시간 맞춰주기\n",
    "train_a = train.loc[train['방송일시'] < '2019-11-01 02:00:00']\n",
    "train_b = train.loc[train['방송일시'] > '2019-11-01 02:00:00']"
   ]
  },
  {
   "cell_type": "code",
   "execution_count": 14,
   "metadata": {
    "Collapsed": "false"
   },
   "outputs": [],
   "source": [
    "# 11월 1일부터는 20분씩 땡겨줘야함\n",
    "train_b['new_방송일시'] = train_b['방송일시'] - datetime.timedelta(minutes = 20)"
   ]
  },
  {
   "cell_type": "code",
   "execution_count": 15,
   "metadata": {
    "Collapsed": "false"
   },
   "outputs": [],
   "source": [
    "train_b['방송날'] = train_b['new_방송일시'].dt.date\n",
    "train_b['방송월'] = train_b['new_방송일시'].dt.month\n",
    "train_b['방송일'] = train_b['new_방송일시'].dt.day\n",
    "train_b['방송시간'] = train_b['new_방송일시'].dt.hour"
   ]
  },
  {
   "cell_type": "code",
   "execution_count": 16,
   "metadata": {
    "Collapsed": "false"
   },
   "outputs": [],
   "source": [
    "prep_train = pd.concat([train_a, train_b.drop('new_방송일시', axis = 1)], axis = 0)"
   ]
  },
  {
   "cell_type": "code",
   "execution_count": 17,
   "metadata": {
    "Collapsed": "false"
   },
   "outputs": [],
   "source": [
    "prep_train['연도'] = prep_train['방송일시'].dt.year"
   ]
  },
  {
   "cell_type": "code",
   "execution_count": 18,
   "metadata": {
    "Collapsed": "false"
   },
   "outputs": [],
   "source": [
    "prep_train = prep_train.loc[prep_train['상품군'] != '무형']"
   ]
  },
  {
   "cell_type": "code",
   "execution_count": 19,
   "metadata": {
    "Collapsed": "false"
   },
   "outputs": [],
   "source": [
    "prep_train['연도'] = 2019"
   ]
  },
  {
   "cell_type": "code",
   "execution_count": 327,
   "metadata": {
    "Collapsed": "false"
   },
   "outputs": [],
   "source": [
    "data = prep_train.sort_values(['연도', '방송월', '방송일', '방송시간', '취급액'], ascending = [True, True, True, True, False]).drop_duplicates(['방송월', '방송일', '방송시간', '마더코드'], keep = 'first')"
   ]
  },
  {
   "cell_type": "markdown",
   "metadata": {
    "Collapsed": "false"
   },
   "source": [
    "# 2. prep4SASRec"
   ]
  },
  {
   "cell_type": "code",
   "execution_count": 359,
   "metadata": {
    "Collapsed": "false"
   },
   "outputs": [],
   "source": [
    "data['user'] = data['방송월'].astype(str) + '-' + data['방송시간'].astype(str)"
   ]
  },
  {
   "cell_type": "code",
   "execution_count": 386,
   "metadata": {
    "Collapsed": "false"
   },
   "outputs": [],
   "source": [
    "# 상품코드 prep4sas\n",
    "prep4sas = data[['user', 'NEW상품코드', '방송날']].sort_values(['user', '방송날'])[['user', 'NEW상품코드']]"
   ]
  },
  {
   "cell_type": "code",
   "execution_count": 387,
   "metadata": {
    "Collapsed": "false"
   },
   "outputs": [],
   "source": [
    "# 마더코드 prep4sas\n",
    "prep4sas = data[['user', '마더코드', '방송날']].sort_values(['user', '방송날'])[['user', '마더코드', '방송날']]"
   ]
  },
  {
   "cell_type": "code",
   "execution_count": 388,
   "metadata": {
    "Collapsed": "false"
   },
   "outputs": [
    {
     "data": {
      "text/plain": [
       "user\n",
       "11-5      1\n",
       "10-2      1\n",
       "11-0     15\n",
       "12-0     16\n",
       "11-23    18\n",
       "         ..\n",
       "3-22     38\n",
       "12-14    39\n",
       "3-23     40\n",
       "3-20     40\n",
       "3-21     41\n",
       "Name: 마더코드, Length: 242, dtype: int64"
      ]
     },
     "execution_count": 388,
     "metadata": {},
     "output_type": "execute_result"
    }
   ],
   "source": [
    "prep4sas.groupby('user')['마더코드'].count().sort_values()"
   ]
  },
  {
   "cell_type": "code",
   "execution_count": 389,
   "metadata": {
    "Collapsed": "false"
   },
   "outputs": [],
   "source": [
    "# 방송이 몇 번 되지 않은 시간대는 삭제\n",
    "prep4sas = prep4sas.loc[(prep4sas['user'] != '10-2') & (prep4sas['user'] != '11-5')]"
   ]
  },
  {
   "cell_type": "code",
   "execution_count": 390,
   "metadata": {
    "Collapsed": "false"
   },
   "outputs": [],
   "source": [
    "user = prep4sas.drop_duplicates('user').reset_index(drop = True).reset_index()[['index', 'user']]"
   ]
  },
  {
   "cell_type": "code",
   "execution_count": 391,
   "metadata": {
    "Collapsed": "false"
   },
   "outputs": [],
   "source": [
    "user['index'] = user['index'] + 1"
   ]
  },
  {
   "cell_type": "code",
   "execution_count": 392,
   "metadata": {
    "Collapsed": "false"
   },
   "outputs": [],
   "source": [
    "prep4sas = prep4sas.reset_index(drop = True).merge(user, on = 'user', how = 'left')"
   ]
  },
  {
   "cell_type": "code",
   "execution_count": 393,
   "metadata": {
    "Collapsed": "false"
   },
   "outputs": [],
   "source": [
    "mother['index'] = mother['index'] + 1"
   ]
  },
  {
   "cell_type": "code",
   "execution_count": 394,
   "metadata": {
    "Collapsed": "false"
   },
   "outputs": [],
   "source": [
    "prep4sas = prep4sas.merge(mother, on = '마더코드', how = 'left')"
   ]
  },
  {
   "cell_type": "code",
   "execution_count": 395,
   "metadata": {
    "Collapsed": "false"
   },
   "outputs": [
    {
     "data": {
      "text/plain": [
       "(687, 687)"
      ]
     },
     "execution_count": 395,
     "metadata": {},
     "output_type": "execute_result"
    }
   ],
   "source": [
    "prep4sas['index_y'].nunique(), prep4sas['index_y'].max()"
   ]
  },
  {
   "cell_type": "code",
   "execution_count": 396,
   "metadata": {
    "Collapsed": "false"
   },
   "outputs": [
    {
     "data": {
      "text/html": [
       "<div>\n",
       "<style scoped>\n",
       "    .dataframe tbody tr th:only-of-type {\n",
       "        vertical-align: middle;\n",
       "    }\n",
       "\n",
       "    .dataframe tbody tr th {\n",
       "        vertical-align: top;\n",
       "    }\n",
       "\n",
       "    .dataframe thead th {\n",
       "        text-align: right;\n",
       "    }\n",
       "</style>\n",
       "<table border=\"1\" class=\"dataframe\">\n",
       "  <thead>\n",
       "    <tr style=\"text-align: right;\">\n",
       "      <th></th>\n",
       "      <th>user</th>\n",
       "      <th>마더코드</th>\n",
       "      <th>방송날</th>\n",
       "      <th>index_x</th>\n",
       "      <th>index_y</th>\n",
       "    </tr>\n",
       "  </thead>\n",
       "  <tbody>\n",
       "    <tr>\n",
       "      <th>0</th>\n",
       "      <td>1-0</td>\n",
       "      <td>100377</td>\n",
       "      <td>2019-01-02</td>\n",
       "      <td>1</td>\n",
       "      <td>15</td>\n",
       "    </tr>\n",
       "    <tr>\n",
       "      <th>1</th>\n",
       "      <td>1-0</td>\n",
       "      <td>100346</td>\n",
       "      <td>2019-01-03</td>\n",
       "      <td>1</td>\n",
       "      <td>427</td>\n",
       "    </tr>\n",
       "    <tr>\n",
       "      <th>2</th>\n",
       "      <td>1-0</td>\n",
       "      <td>100049</td>\n",
       "      <td>2019-01-04</td>\n",
       "      <td>1</td>\n",
       "      <td>123</td>\n",
       "    </tr>\n",
       "    <tr>\n",
       "      <th>3</th>\n",
       "      <td>1-0</td>\n",
       "      <td>100212</td>\n",
       "      <td>2019-01-05</td>\n",
       "      <td>1</td>\n",
       "      <td>239</td>\n",
       "    </tr>\n",
       "    <tr>\n",
       "      <th>4</th>\n",
       "      <td>1-0</td>\n",
       "      <td>100074</td>\n",
       "      <td>2019-01-06</td>\n",
       "      <td>1</td>\n",
       "      <td>198</td>\n",
       "    </tr>\n",
       "    <tr>\n",
       "      <th>...</th>\n",
       "      <td>...</td>\n",
       "      <td>...</td>\n",
       "      <td>...</td>\n",
       "      <td>...</td>\n",
       "      <td>...</td>\n",
       "    </tr>\n",
       "    <tr>\n",
       "      <th>7358</th>\n",
       "      <td>9-9</td>\n",
       "      <td>100372</td>\n",
       "      <td>2019-09-26</td>\n",
       "      <td>240</td>\n",
       "      <td>353</td>\n",
       "    </tr>\n",
       "    <tr>\n",
       "      <th>7359</th>\n",
       "      <td>9-9</td>\n",
       "      <td>100635</td>\n",
       "      <td>2019-09-27</td>\n",
       "      <td>240</td>\n",
       "      <td>150</td>\n",
       "    </tr>\n",
       "    <tr>\n",
       "      <th>7360</th>\n",
       "      <td>9-9</td>\n",
       "      <td>100375</td>\n",
       "      <td>2019-09-28</td>\n",
       "      <td>240</td>\n",
       "      <td>554</td>\n",
       "    </tr>\n",
       "    <tr>\n",
       "      <th>7361</th>\n",
       "      <td>9-9</td>\n",
       "      <td>100332</td>\n",
       "      <td>2019-09-29</td>\n",
       "      <td>240</td>\n",
       "      <td>251</td>\n",
       "    </tr>\n",
       "    <tr>\n",
       "      <th>7362</th>\n",
       "      <td>9-9</td>\n",
       "      <td>100558</td>\n",
       "      <td>2019-09-30</td>\n",
       "      <td>240</td>\n",
       "      <td>656</td>\n",
       "    </tr>\n",
       "  </tbody>\n",
       "</table>\n",
       "<p>7363 rows × 5 columns</p>\n",
       "</div>"
      ],
      "text/plain": [
       "     user    마더코드         방송날  index_x  index_y\n",
       "0     1-0  100377  2019-01-02        1       15\n",
       "1     1-0  100346  2019-01-03        1      427\n",
       "2     1-0  100049  2019-01-04        1      123\n",
       "3     1-0  100212  2019-01-05        1      239\n",
       "4     1-0  100074  2019-01-06        1      198\n",
       "...   ...     ...         ...      ...      ...\n",
       "7358  9-9  100372  2019-09-26      240      353\n",
       "7359  9-9  100635  2019-09-27      240      150\n",
       "7360  9-9  100375  2019-09-28      240      554\n",
       "7361  9-9  100332  2019-09-29      240      251\n",
       "7362  9-9  100558  2019-09-30      240      656\n",
       "\n",
       "[7363 rows x 5 columns]"
      ]
     },
     "execution_count": 396,
     "metadata": {},
     "output_type": "execute_result"
    }
   ],
   "source": [
    "prep4sas"
   ]
  },
  {
   "cell_type": "code",
   "execution_count": 397,
   "metadata": {
    "Collapsed": "false"
   },
   "outputs": [
    {
     "data": {
      "text/html": [
       "<div>\n",
       "<style scoped>\n",
       "    .dataframe tbody tr th:only-of-type {\n",
       "        vertical-align: middle;\n",
       "    }\n",
       "\n",
       "    .dataframe tbody tr th {\n",
       "        vertical-align: top;\n",
       "    }\n",
       "\n",
       "    .dataframe thead th {\n",
       "        text-align: right;\n",
       "    }\n",
       "</style>\n",
       "<table border=\"1\" class=\"dataframe\">\n",
       "  <thead>\n",
       "    <tr style=\"text-align: right;\">\n",
       "      <th></th>\n",
       "      <th>index</th>\n",
       "      <th>user</th>\n",
       "    </tr>\n",
       "  </thead>\n",
       "  <tbody>\n",
       "    <tr>\n",
       "      <th>0</th>\n",
       "      <td>1</td>\n",
       "      <td>1-0</td>\n",
       "    </tr>\n",
       "    <tr>\n",
       "      <th>1</th>\n",
       "      <td>2</td>\n",
       "      <td>1-1</td>\n",
       "    </tr>\n",
       "    <tr>\n",
       "      <th>2</th>\n",
       "      <td>3</td>\n",
       "      <td>1-10</td>\n",
       "    </tr>\n",
       "    <tr>\n",
       "      <th>3</th>\n",
       "      <td>4</td>\n",
       "      <td>1-11</td>\n",
       "    </tr>\n",
       "    <tr>\n",
       "      <th>4</th>\n",
       "      <td>5</td>\n",
       "      <td>1-12</td>\n",
       "    </tr>\n",
       "    <tr>\n",
       "      <th>...</th>\n",
       "      <td>...</td>\n",
       "      <td>...</td>\n",
       "    </tr>\n",
       "    <tr>\n",
       "      <th>235</th>\n",
       "      <td>236</td>\n",
       "      <td>9-23</td>\n",
       "    </tr>\n",
       "    <tr>\n",
       "      <th>236</th>\n",
       "      <td>237</td>\n",
       "      <td>9-6</td>\n",
       "    </tr>\n",
       "    <tr>\n",
       "      <th>237</th>\n",
       "      <td>238</td>\n",
       "      <td>9-7</td>\n",
       "    </tr>\n",
       "    <tr>\n",
       "      <th>238</th>\n",
       "      <td>239</td>\n",
       "      <td>9-8</td>\n",
       "    </tr>\n",
       "    <tr>\n",
       "      <th>239</th>\n",
       "      <td>240</td>\n",
       "      <td>9-9</td>\n",
       "    </tr>\n",
       "  </tbody>\n",
       "</table>\n",
       "<p>240 rows × 2 columns</p>\n",
       "</div>"
      ],
      "text/plain": [
       "     index  user\n",
       "0        1   1-0\n",
       "1        2   1-1\n",
       "2        3  1-10\n",
       "3        4  1-11\n",
       "4        5  1-12\n",
       "..     ...   ...\n",
       "235    236  9-23\n",
       "236    237   9-6\n",
       "237    238   9-7\n",
       "238    239   9-8\n",
       "239    240   9-9\n",
       "\n",
       "[240 rows x 2 columns]"
      ]
     },
     "execution_count": 397,
     "metadata": {},
     "output_type": "execute_result"
    }
   ],
   "source": [
    "user"
   ]
  },
  {
   "cell_type": "code",
   "execution_count": 398,
   "metadata": {
    "Collapsed": "false"
   },
   "outputs": [
    {
     "data": {
      "text/html": [
       "<div>\n",
       "<style scoped>\n",
       "    .dataframe tbody tr th:only-of-type {\n",
       "        vertical-align: middle;\n",
       "    }\n",
       "\n",
       "    .dataframe tbody tr th {\n",
       "        vertical-align: top;\n",
       "    }\n",
       "\n",
       "    .dataframe thead th {\n",
       "        text-align: right;\n",
       "    }\n",
       "</style>\n",
       "<table border=\"1\" class=\"dataframe\">\n",
       "  <thead>\n",
       "    <tr style=\"text-align: right;\">\n",
       "      <th></th>\n",
       "      <th>index</th>\n",
       "      <th>마더코드</th>\n",
       "    </tr>\n",
       "  </thead>\n",
       "  <tbody>\n",
       "    <tr>\n",
       "      <th>0</th>\n",
       "      <td>1</td>\n",
       "      <td>100292</td>\n",
       "    </tr>\n",
       "    <tr>\n",
       "      <th>1</th>\n",
       "      <td>2</td>\n",
       "      <td>100293</td>\n",
       "    </tr>\n",
       "    <tr>\n",
       "      <th>2</th>\n",
       "      <td>3</td>\n",
       "      <td>100748</td>\n",
       "    </tr>\n",
       "    <tr>\n",
       "      <th>3</th>\n",
       "      <td>4</td>\n",
       "      <td>100024</td>\n",
       "    </tr>\n",
       "    <tr>\n",
       "      <th>4</th>\n",
       "      <td>5</td>\n",
       "      <td>100536</td>\n",
       "    </tr>\n",
       "    <tr>\n",
       "      <th>...</th>\n",
       "      <td>...</td>\n",
       "      <td>...</td>\n",
       "    </tr>\n",
       "    <tr>\n",
       "      <th>798</th>\n",
       "      <td>799</td>\n",
       "      <td>100012</td>\n",
       "    </tr>\n",
       "    <tr>\n",
       "      <th>799</th>\n",
       "      <td>800</td>\n",
       "      <td>100014</td>\n",
       "    </tr>\n",
       "    <tr>\n",
       "      <th>800</th>\n",
       "      <td>801</td>\n",
       "      <td>100825</td>\n",
       "    </tr>\n",
       "    <tr>\n",
       "      <th>801</th>\n",
       "      <td>802</td>\n",
       "      <td>100005</td>\n",
       "    </tr>\n",
       "    <tr>\n",
       "      <th>802</th>\n",
       "      <td>803</td>\n",
       "      <td>100261</td>\n",
       "    </tr>\n",
       "  </tbody>\n",
       "</table>\n",
       "<p>803 rows × 2 columns</p>\n",
       "</div>"
      ],
      "text/plain": [
       "     index    마더코드\n",
       "0        1  100292\n",
       "1        2  100293\n",
       "2        3  100748\n",
       "3        4  100024\n",
       "4        5  100536\n",
       "..     ...     ...\n",
       "798    799  100012\n",
       "799    800  100014\n",
       "800    801  100825\n",
       "801    802  100005\n",
       "802    803  100261\n",
       "\n",
       "[803 rows x 2 columns]"
      ]
     },
     "execution_count": 398,
     "metadata": {},
     "output_type": "execute_result"
    }
   ],
   "source": [
    "mother"
   ]
  },
  {
   "cell_type": "code",
   "execution_count": 399,
   "metadata": {
    "Collapsed": "false"
   },
   "outputs": [
    {
     "data": {
      "text/plain": [
       "index_x\n",
       "1      17\n",
       "2      17\n",
       "3      20\n",
       "4      20\n",
       "5      18\n",
       "       ..\n",
       "236    22\n",
       "237    24\n",
       "238    25\n",
       "239    26\n",
       "240    21\n",
       "Name: index_y, Length: 240, dtype: int64"
      ]
     },
     "execution_count": 399,
     "metadata": {},
     "output_type": "execute_result"
    }
   ],
   "source": [
    "prep4sas.groupby('index_x')['index_y'].nunique()"
   ]
  },
  {
   "cell_type": "code",
   "execution_count": 348,
   "metadata": {
    "Collapsed": "false"
   },
   "outputs": [],
   "source": [
    "import joblib"
   ]
  },
  {
   "cell_type": "code",
   "execution_count": 400,
   "metadata": {
    "Collapsed": "false"
   },
   "outputs": [
    {
     "data": {
      "text/plain": [
       "['../../0.Data/05_분석데이터/prep4sas.pkl']"
      ]
     },
     "execution_count": 400,
     "metadata": {},
     "output_type": "execute_result"
    }
   ],
   "source": [
    "joblib.dump({\n",
    "    'prep4sas' : prep4sas,\n",
    "    'user' : user,\n",
    "    'item' : item\n",
    "}, os.path.join('..', '..', '0.Data', '05_분석데이터', 'prep4sas.pkl'))"
   ]
  },
  {
   "cell_type": "markdown",
   "metadata": {
    "Collapsed": "false"
   },
   "source": [
    "# 3. 월별 아이템 경향 확인"
   ]
  },
  {
   "cell_type": "code",
   "execution_count": 32,
   "metadata": {
    "Collapsed": "false"
   },
   "outputs": [],
   "source": [
    "train['NEW상품코드'] = train['NEW상품코드'].astype(str)"
   ]
  },
  {
   "cell_type": "code",
   "execution_count": 138,
   "metadata": {
    "Collapsed": "false"
   },
   "outputs": [],
   "source": [
    "# 하루에 여러번 판매되는 경우가 존재할까? -> 존재함\n",
    "# '종근당건강 락토핏 생유산균골드 단하루' 는 하루에 6번이나 방송함 (1시간 기준)"
   ]
  },
  {
   "cell_type": "code",
   "execution_count": 50,
   "metadata": {
    "Collapsed": "false"
   },
   "outputs": [],
   "source": [
    "temp = train.drop_duplicates(['NEW상품코드', '방송월', '방송일', '방송시간']).groupby(['방송월', '방송일', 'NEW상품코드'])['NEW상품코드'].count()"
   ]
  },
  {
   "cell_type": "code",
   "execution_count": 51,
   "metadata": {
    "Collapsed": "false"
   },
   "outputs": [],
   "source": [
    "temp.name = None"
   ]
  },
  {
   "cell_type": "code",
   "execution_count": 58,
   "metadata": {
    "Collapsed": "false"
   },
   "outputs": [
    {
     "data": {
      "text/html": [
       "<div>\n",
       "<style scoped>\n",
       "    .dataframe tbody tr th:only-of-type {\n",
       "        vertical-align: middle;\n",
       "    }\n",
       "\n",
       "    .dataframe tbody tr th {\n",
       "        vertical-align: top;\n",
       "    }\n",
       "\n",
       "    .dataframe thead th {\n",
       "        text-align: right;\n",
       "    }\n",
       "</style>\n",
       "<table border=\"1\" class=\"dataframe\">\n",
       "  <thead>\n",
       "    <tr style=\"text-align: right;\">\n",
       "      <th></th>\n",
       "      <th>방송월</th>\n",
       "      <th>방송일</th>\n",
       "      <th>NEW상품코드</th>\n",
       "      <th>0</th>\n",
       "    </tr>\n",
       "  </thead>\n",
       "  <tbody>\n",
       "    <tr>\n",
       "      <th>0</th>\n",
       "      <td>1</td>\n",
       "      <td>1</td>\n",
       "      <td>1039.0</td>\n",
       "      <td>1</td>\n",
       "    </tr>\n",
       "    <tr>\n",
       "      <th>5942</th>\n",
       "      <td>7</td>\n",
       "      <td>31</td>\n",
       "      <td>342.0</td>\n",
       "      <td>1</td>\n",
       "    </tr>\n",
       "    <tr>\n",
       "      <th>5941</th>\n",
       "      <td>7</td>\n",
       "      <td>31</td>\n",
       "      <td>341.0</td>\n",
       "      <td>1</td>\n",
       "    </tr>\n",
       "    <tr>\n",
       "      <th>5940</th>\n",
       "      <td>7</td>\n",
       "      <td>31</td>\n",
       "      <td>285.0</td>\n",
       "      <td>1</td>\n",
       "    </tr>\n",
       "    <tr>\n",
       "      <th>5939</th>\n",
       "      <td>7</td>\n",
       "      <td>31</td>\n",
       "      <td>252.0</td>\n",
       "      <td>1</td>\n",
       "    </tr>\n",
       "    <tr>\n",
       "      <th>...</th>\n",
       "      <td>...</td>\n",
       "      <td>...</td>\n",
       "      <td>...</td>\n",
       "      <td>...</td>\n",
       "    </tr>\n",
       "    <tr>\n",
       "      <th>10121</th>\n",
       "      <td>12</td>\n",
       "      <td>19</td>\n",
       "      <td>734.0</td>\n",
       "      <td>6</td>\n",
       "    </tr>\n",
       "    <tr>\n",
       "      <th>8715</th>\n",
       "      <td>11</td>\n",
       "      <td>2</td>\n",
       "      <td>nan</td>\n",
       "      <td>6</td>\n",
       "    </tr>\n",
       "    <tr>\n",
       "      <th>9909</th>\n",
       "      <td>12</td>\n",
       "      <td>12</td>\n",
       "      <td>nan</td>\n",
       "      <td>6</td>\n",
       "    </tr>\n",
       "    <tr>\n",
       "      <th>8920</th>\n",
       "      <td>11</td>\n",
       "      <td>9</td>\n",
       "      <td>nan</td>\n",
       "      <td>6</td>\n",
       "    </tr>\n",
       "    <tr>\n",
       "      <th>10176</th>\n",
       "      <td>12</td>\n",
       "      <td>21</td>\n",
       "      <td>nan</td>\n",
       "      <td>6</td>\n",
       "    </tr>\n",
       "  </tbody>\n",
       "</table>\n",
       "<p>10446 rows × 4 columns</p>\n",
       "</div>"
      ],
      "text/plain": [
       "       방송월  방송일 NEW상품코드  0\n",
       "0        1    1  1039.0  1\n",
       "5942     7   31   342.0  1\n",
       "5941     7   31   341.0  1\n",
       "5940     7   31   285.0  1\n",
       "5939     7   31   252.0  1\n",
       "...    ...  ...     ... ..\n",
       "10121   12   19   734.0  6\n",
       "8715    11    2     nan  6\n",
       "9909    12   12     nan  6\n",
       "8920    11    9     nan  6\n",
       "10176   12   21     nan  6\n",
       "\n",
       "[10446 rows x 4 columns]"
      ]
     },
     "execution_count": 58,
     "metadata": {},
     "output_type": "execute_result"
    }
   ],
   "source": [
    "temp.reset_index().sort_values(0)"
   ]
  },
  {
   "cell_type": "code",
   "execution_count": 63,
   "metadata": {
    "Collapsed": "false"
   },
   "outputs": [],
   "source": [
    "# 각 월별로 높은 취급액 & 주문량을 기록하는 지점 파악"
   ]
  },
  {
   "cell_type": "code",
   "execution_count": 145,
   "metadata": {
    "Collapsed": "false"
   },
   "outputs": [
    {
     "data": {
      "image/png": "[encoded data removed]",
      "text/plain": [
       "<Figure size 1080x720 with 1 Axes>"
      ]
     },
     "metadata": {},
     "output_type": "display_data"
    }
   ],
   "source": [
    "sale = pd.pivot_table(train, index = '방송월', columns = '방송시간', values = '취급액', aggfunc = 'mean')\n",
    "plt.figure(figsize = (15, 10))\n",
    "plt.plot(sale)\n",
    "plt.show()"
   ]
  },
  {
   "cell_type": "code",
   "execution_count": 146,
   "metadata": {
    "Collapsed": "false"
   },
   "outputs": [],
   "source": [
    "amount = pd.pivot_table(train, index = '방송월', columns = '방송시간', values = '판매량', aggfunc = 'mean')"
   ]
  },
  {
   "cell_type": "code",
   "execution_count": 150,
   "metadata": {
    "Collapsed": "false"
   },
   "outputs": [
    {
     "data": {
      "text/plain": [
       "방송시간\n",
       "16   22347625475.575\n",
       "17   19415769186.861\n",
       "13   16986339767.844\n",
       "18   15384688943.353\n",
       "15   14172924169.789\n",
       "10   10607742999.931\n",
       "9    10230523968.334\n",
       "8     8786578074.538\n",
       "14    8697583231.984\n",
       "7     6352324074.519\n",
       "11    6274389429.226\n",
       "19    4972136636.250\n",
       "12    4849181892.336\n",
       "23    3537280541.473\n",
       "20    3244687549.296\n",
       "21    3161647211.573\n",
       "22    2626273935.606\n",
       "0     2588398316.886\n",
       "6     2135435808.462\n",
       "1     1716752508.298\n",
       "2                nan\n",
       "Name: 9, dtype: float64"
      ]
     },
     "execution_count": 150,
     "metadata": {},
     "output_type": "execute_result"
    }
   ],
   "source": [
    "(sale.loc[9] * amount.loc[9]).sort_values(ascending = False)"
   ]
  },
  {
   "cell_type": "code",
   "execution_count": 151,
   "metadata": {
    "Collapsed": "false"
   },
   "outputs": [],
   "source": [
    "dic = {}\n",
    "for m in range(1, 13):\n",
    "    value = (sale.loc[m] * amount.loc[m]).sort_values(ascending = False).index\n",
    "    dic[m] = list(value)"
   ]
  },
  {
   "cell_type": "code",
   "execution_count": 153,
   "metadata": {
    "Collapsed": "false"
   },
   "outputs": [
    {
     "data": {
      "text/plain": [
       "[17, 16, 15, 18, 13, 8, 14, 12, 10, 11, 19, 0, 7, 9, 23, 20, 21, 6, 1, 22, 2]"
      ]
     },
     "execution_count": 153,
     "metadata": {},
     "output_type": "execute_result"
    }
   ],
   "source": [
    "# 1월달 우선 예측 시간대 순서\n",
    "dic[1]"
   ]
  },
  {
   "cell_type": "code",
   "execution_count": 166,
   "metadata": {
    "Collapsed": "false"
   },
   "outputs": [],
   "source": [
    "# 각 user별 똑같은 아이템 나오는 간격 보기"
   ]
  },
  {
   "cell_type": "code",
   "execution_count": 319,
   "metadata": {
    "Collapsed": "false"
   },
   "outputs": [
    {
     "data": {
      "text/html": [
       "<div>\n",
       "<style scoped>\n",
       "    .dataframe tbody tr th:only-of-type {\n",
       "        vertical-align: middle;\n",
       "    }\n",
       "\n",
       "    .dataframe tbody tr th {\n",
       "        vertical-align: top;\n",
       "    }\n",
       "\n",
       "    .dataframe thead th {\n",
       "        text-align: right;\n",
       "    }\n",
       "</style>\n",
       "<table border=\"1\" class=\"dataframe\">\n",
       "  <thead>\n",
       "    <tr style=\"text-align: right;\">\n",
       "      <th></th>\n",
       "      <th>user</th>\n",
       "      <th>마더코드</th>\n",
       "      <th>index_x</th>\n",
       "      <th>index_y</th>\n",
       "    </tr>\n",
       "  </thead>\n",
       "  <tbody>\n",
       "    <tr>\n",
       "      <th>1809</th>\n",
       "      <td>12-0</td>\n",
       "      <td>100182</td>\n",
       "      <td>60</td>\n",
       "      <td>215</td>\n",
       "    </tr>\n",
       "    <tr>\n",
       "      <th>1825</th>\n",
       "      <td>12-1</td>\n",
       "      <td>100632</td>\n",
       "      <td>61</td>\n",
       "      <td>327</td>\n",
       "    </tr>\n",
       "    <tr>\n",
       "      <th>1857</th>\n",
       "      <td>12-10</td>\n",
       "      <td>100255</td>\n",
       "      <td>62</td>\n",
       "      <td>475</td>\n",
       "    </tr>\n",
       "    <tr>\n",
       "      <th>1895</th>\n",
       "      <td>12-11</td>\n",
       "      <td>100271</td>\n",
       "      <td>63</td>\n",
       "      <td>492</td>\n",
       "    </tr>\n",
       "    <tr>\n",
       "      <th>1926</th>\n",
       "      <td>12-12</td>\n",
       "      <td>100613</td>\n",
       "      <td>64</td>\n",
       "      <td>449</td>\n",
       "    </tr>\n",
       "    <tr>\n",
       "      <th>1951</th>\n",
       "      <td>12-13</td>\n",
       "      <td>100766</td>\n",
       "      <td>65</td>\n",
       "      <td>371</td>\n",
       "    </tr>\n",
       "    <tr>\n",
       "      <th>1982</th>\n",
       "      <td>12-14</td>\n",
       "      <td>100405</td>\n",
       "      <td>66</td>\n",
       "      <td>74</td>\n",
       "    </tr>\n",
       "    <tr>\n",
       "      <th>2021</th>\n",
       "      <td>12-15</td>\n",
       "      <td>100202</td>\n",
       "      <td>67</td>\n",
       "      <td>649</td>\n",
       "    </tr>\n",
       "    <tr>\n",
       "      <th>2054</th>\n",
       "      <td>12-16</td>\n",
       "      <td>100323</td>\n",
       "      <td>68</td>\n",
       "      <td>463</td>\n",
       "    </tr>\n",
       "    <tr>\n",
       "      <th>2082</th>\n",
       "      <td>12-17</td>\n",
       "      <td>100610</td>\n",
       "      <td>69</td>\n",
       "      <td>447</td>\n",
       "    </tr>\n",
       "    <tr>\n",
       "      <th>2114</th>\n",
       "      <td>12-18</td>\n",
       "      <td>100354</td>\n",
       "      <td>70</td>\n",
       "      <td>117</td>\n",
       "    </tr>\n",
       "    <tr>\n",
       "      <th>2134</th>\n",
       "      <td>12-19</td>\n",
       "      <td>100074</td>\n",
       "      <td>71</td>\n",
       "      <td>197</td>\n",
       "    </tr>\n",
       "    <tr>\n",
       "      <th>2160</th>\n",
       "      <td>12-20</td>\n",
       "      <td>100074</td>\n",
       "      <td>72</td>\n",
       "      <td>197</td>\n",
       "    </tr>\n",
       "    <tr>\n",
       "      <th>2195</th>\n",
       "      <td>12-21</td>\n",
       "      <td>100150</td>\n",
       "      <td>73</td>\n",
       "      <td>532</td>\n",
       "    </tr>\n",
       "    <tr>\n",
       "      <th>2228</th>\n",
       "      <td>12-22</td>\n",
       "      <td>100155</td>\n",
       "      <td>74</td>\n",
       "      <td>526</td>\n",
       "    </tr>\n",
       "    <tr>\n",
       "      <th>2261</th>\n",
       "      <td>12-23</td>\n",
       "      <td>100373</td>\n",
       "      <td>75</td>\n",
       "      <td>359</td>\n",
       "    </tr>\n",
       "    <tr>\n",
       "      <th>2281</th>\n",
       "      <td>12-6</td>\n",
       "      <td>100635</td>\n",
       "      <td>76</td>\n",
       "      <td>149</td>\n",
       "    </tr>\n",
       "    <tr>\n",
       "      <th>2311</th>\n",
       "      <td>12-7</td>\n",
       "      <td>100391</td>\n",
       "      <td>77</td>\n",
       "      <td>349</td>\n",
       "    </tr>\n",
       "    <tr>\n",
       "      <th>2341</th>\n",
       "      <td>12-8</td>\n",
       "      <td>100423</td>\n",
       "      <td>78</td>\n",
       "      <td>442</td>\n",
       "    </tr>\n",
       "    <tr>\n",
       "      <th>2372</th>\n",
       "      <td>12-9</td>\n",
       "      <td>100724</td>\n",
       "      <td>79</td>\n",
       "      <td>685</td>\n",
       "    </tr>\n",
       "  </tbody>\n",
       "</table>\n",
       "</div>"
      ],
      "text/plain": [
       "       user    마더코드  index_x  index_y\n",
       "1809   12-0  100182       60      215\n",
       "1825   12-1  100632       61      327\n",
       "1857  12-10  100255       62      475\n",
       "1895  12-11  100271       63      492\n",
       "1926  12-12  100613       64      449\n",
       "1951  12-13  100766       65      371\n",
       "1982  12-14  100405       66       74\n",
       "2021  12-15  100202       67      649\n",
       "2054  12-16  100323       68      463\n",
       "2082  12-17  100610       69      447\n",
       "2114  12-18  100354       70      117\n",
       "2134  12-19  100074       71      197\n",
       "2160  12-20  100074       72      197\n",
       "2195  12-21  100150       73      532\n",
       "2228  12-22  100155       74      526\n",
       "2261  12-23  100373       75      359\n",
       "2281   12-6  100635       76      149\n",
       "2311   12-7  100391       77      349\n",
       "2341   12-8  100423       78      442\n",
       "2372   12-9  100724       79      685"
      ]
     },
     "execution_count": 319,
     "metadata": {},
     "output_type": "execute_result"
    }
   ],
   "source": [
    "prep4sas.loc[prep4sas['user'].str.contains('12-')].drop_duplicates('user')"
   ]
  },
  {
   "cell_type": "code",
   "execution_count": 320,
   "metadata": {
    "Collapsed": "false"
   },
   "outputs": [
    {
     "data": {
      "text/html": [
       "<div>\n",
       "<style scoped>\n",
       "    .dataframe tbody tr th:only-of-type {\n",
       "        vertical-align: middle;\n",
       "    }\n",
       "\n",
       "    .dataframe tbody tr th {\n",
       "        vertical-align: top;\n",
       "    }\n",
       "\n",
       "    .dataframe thead th {\n",
       "        text-align: right;\n",
       "    }\n",
       "</style>\n",
       "<table border=\"1\" class=\"dataframe\">\n",
       "  <thead>\n",
       "    <tr style=\"text-align: right;\">\n",
       "      <th></th>\n",
       "      <th>user</th>\n",
       "      <th>마더코드</th>\n",
       "      <th>index_x</th>\n",
       "      <th>index_y</th>\n",
       "    </tr>\n",
       "  </thead>\n",
       "  <tbody>\n",
       "    <tr>\n",
       "      <th>1809</th>\n",
       "      <td>12-0</td>\n",
       "      <td>100182</td>\n",
       "      <td>60</td>\n",
       "      <td>215</td>\n",
       "    </tr>\n",
       "    <tr>\n",
       "      <th>1810</th>\n",
       "      <td>12-0</td>\n",
       "      <td>100074</td>\n",
       "      <td>60</td>\n",
       "      <td>197</td>\n",
       "    </tr>\n",
       "    <tr>\n",
       "      <th>1811</th>\n",
       "      <td>12-0</td>\n",
       "      <td>100271</td>\n",
       "      <td>60</td>\n",
       "      <td>492</td>\n",
       "    </tr>\n",
       "    <tr>\n",
       "      <th>1812</th>\n",
       "      <td>12-0</td>\n",
       "      <td>100176</td>\n",
       "      <td>60</td>\n",
       "      <td>200</td>\n",
       "    </tr>\n",
       "    <tr>\n",
       "      <th>1813</th>\n",
       "      <td>12-0</td>\n",
       "      <td>100182</td>\n",
       "      <td>60</td>\n",
       "      <td>215</td>\n",
       "    </tr>\n",
       "    <tr>\n",
       "      <th>1814</th>\n",
       "      <td>12-0</td>\n",
       "      <td>100118</td>\n",
       "      <td>60</td>\n",
       "      <td>145</td>\n",
       "    </tr>\n",
       "    <tr>\n",
       "      <th>1815</th>\n",
       "      <td>12-0</td>\n",
       "      <td>100203</td>\n",
       "      <td>60</td>\n",
       "      <td>174</td>\n",
       "    </tr>\n",
       "    <tr>\n",
       "      <th>1816</th>\n",
       "      <td>12-0</td>\n",
       "      <td>100360</td>\n",
       "      <td>60</td>\n",
       "      <td>605</td>\n",
       "    </tr>\n",
       "    <tr>\n",
       "      <th>1817</th>\n",
       "      <td>12-0</td>\n",
       "      <td>100320</td>\n",
       "      <td>60</td>\n",
       "      <td>337</td>\n",
       "    </tr>\n",
       "    <tr>\n",
       "      <th>1818</th>\n",
       "      <td>12-0</td>\n",
       "      <td>100712</td>\n",
       "      <td>60</td>\n",
       "      <td>362</td>\n",
       "    </tr>\n",
       "    <tr>\n",
       "      <th>1819</th>\n",
       "      <td>12-0</td>\n",
       "      <td>100841</td>\n",
       "      <td>60</td>\n",
       "      <td>629</td>\n",
       "    </tr>\n",
       "    <tr>\n",
       "      <th>1820</th>\n",
       "      <td>12-0</td>\n",
       "      <td>100719</td>\n",
       "      <td>60</td>\n",
       "      <td>90</td>\n",
       "    </tr>\n",
       "    <tr>\n",
       "      <th>1821</th>\n",
       "      <td>12-0</td>\n",
       "      <td>100269</td>\n",
       "      <td>60</td>\n",
       "      <td>494</td>\n",
       "    </tr>\n",
       "    <tr>\n",
       "      <th>1822</th>\n",
       "      <td>12-0</td>\n",
       "      <td>100025</td>\n",
       "      <td>60</td>\n",
       "      <td>580</td>\n",
       "    </tr>\n",
       "    <tr>\n",
       "      <th>1823</th>\n",
       "      <td>12-0</td>\n",
       "      <td>100057</td>\n",
       "      <td>60</td>\n",
       "      <td>34</td>\n",
       "    </tr>\n",
       "    <tr>\n",
       "      <th>1824</th>\n",
       "      <td>12-0</td>\n",
       "      <td>100320</td>\n",
       "      <td>60</td>\n",
       "      <td>337</td>\n",
       "    </tr>\n",
       "  </tbody>\n",
       "</table>\n",
       "</div>"
      ],
      "text/plain": [
       "      user    마더코드  index_x  index_y\n",
       "1809  12-0  100182       60      215\n",
       "1810  12-0  100074       60      197\n",
       "1811  12-0  100271       60      492\n",
       "1812  12-0  100176       60      200\n",
       "1813  12-0  100182       60      215\n",
       "1814  12-0  100118       60      145\n",
       "1815  12-0  100203       60      174\n",
       "1816  12-0  100360       60      605\n",
       "1817  12-0  100320       60      337\n",
       "1818  12-0  100712       60      362\n",
       "1819  12-0  100841       60      629\n",
       "1820  12-0  100719       60       90\n",
       "1821  12-0  100269       60      494\n",
       "1822  12-0  100025       60      580\n",
       "1823  12-0  100057       60       34\n",
       "1824  12-0  100320       60      337"
      ]
     },
     "execution_count": 320,
     "metadata": {},
     "output_type": "execute_result"
    }
   ],
   "source": [
    "prep4sas.loc[prep4sas['index_x'] == 60]"
   ]
  },
  {
   "cell_type": "code",
   "execution_count": 321,
   "metadata": {
    "Collapsed": "false"
   },
   "outputs": [
    {
     "data": {
      "text/html": [
       "<div>\n",
       "<style scoped>\n",
       "    .dataframe tbody tr th:only-of-type {\n",
       "        vertical-align: middle;\n",
       "    }\n",
       "\n",
       "    .dataframe tbody tr th {\n",
       "        vertical-align: top;\n",
       "    }\n",
       "\n",
       "    .dataframe thead th {\n",
       "        text-align: right;\n",
       "    }\n",
       "</style>\n",
       "<table border=\"1\" class=\"dataframe\">\n",
       "  <thead>\n",
       "    <tr style=\"text-align: right;\">\n",
       "      <th></th>\n",
       "      <th>user</th>\n",
       "      <th>마더코드</th>\n",
       "      <th>index_x</th>\n",
       "      <th>index_y</th>\n",
       "    </tr>\n",
       "  </thead>\n",
       "  <tbody>\n",
       "    <tr>\n",
       "      <th>0</th>\n",
       "      <td>1-0</td>\n",
       "      <td>100377</td>\n",
       "      <td>0</td>\n",
       "      <td>14</td>\n",
       "    </tr>\n",
       "    <tr>\n",
       "      <th>1</th>\n",
       "      <td>1-0</td>\n",
       "      <td>100346</td>\n",
       "      <td>0</td>\n",
       "      <td>426</td>\n",
       "    </tr>\n",
       "    <tr>\n",
       "      <th>2</th>\n",
       "      <td>1-0</td>\n",
       "      <td>100049</td>\n",
       "      <td>0</td>\n",
       "      <td>122</td>\n",
       "    </tr>\n",
       "    <tr>\n",
       "      <th>3</th>\n",
       "      <td>1-0</td>\n",
       "      <td>100212</td>\n",
       "      <td>0</td>\n",
       "      <td>238</td>\n",
       "    </tr>\n",
       "    <tr>\n",
       "      <th>4</th>\n",
       "      <td>1-0</td>\n",
       "      <td>100074</td>\n",
       "      <td>0</td>\n",
       "      <td>197</td>\n",
       "    </tr>\n",
       "    <tr>\n",
       "      <th>...</th>\n",
       "      <td>...</td>\n",
       "      <td>...</td>\n",
       "      <td>...</td>\n",
       "      <td>...</td>\n",
       "    </tr>\n",
       "    <tr>\n",
       "      <th>7358</th>\n",
       "      <td>9-9</td>\n",
       "      <td>100372</td>\n",
       "      <td>239</td>\n",
       "      <td>352</td>\n",
       "    </tr>\n",
       "    <tr>\n",
       "      <th>7359</th>\n",
       "      <td>9-9</td>\n",
       "      <td>100635</td>\n",
       "      <td>239</td>\n",
       "      <td>149</td>\n",
       "    </tr>\n",
       "    <tr>\n",
       "      <th>7360</th>\n",
       "      <td>9-9</td>\n",
       "      <td>100375</td>\n",
       "      <td>239</td>\n",
       "      <td>553</td>\n",
       "    </tr>\n",
       "    <tr>\n",
       "      <th>7361</th>\n",
       "      <td>9-9</td>\n",
       "      <td>100332</td>\n",
       "      <td>239</td>\n",
       "      <td>250</td>\n",
       "    </tr>\n",
       "    <tr>\n",
       "      <th>7362</th>\n",
       "      <td>9-9</td>\n",
       "      <td>100558</td>\n",
       "      <td>239</td>\n",
       "      <td>655</td>\n",
       "    </tr>\n",
       "  </tbody>\n",
       "</table>\n",
       "<p>7363 rows × 4 columns</p>\n",
       "</div>"
      ],
      "text/plain": [
       "     user    마더코드  index_x  index_y\n",
       "0     1-0  100377        0       14\n",
       "1     1-0  100346        0      426\n",
       "2     1-0  100049        0      122\n",
       "3     1-0  100212        0      238\n",
       "4     1-0  100074        0      197\n",
       "...   ...     ...      ...      ...\n",
       "7358  9-9  100372      239      352\n",
       "7359  9-9  100635      239      149\n",
       "7360  9-9  100375      239      553\n",
       "7361  9-9  100332      239      250\n",
       "7362  9-9  100558      239      655\n",
       "\n",
       "[7363 rows x 4 columns]"
      ]
     },
     "execution_count": 321,
     "metadata": {},
     "output_type": "execute_result"
    }
   ],
   "source": [
    "prep4sas"
   ]
  },
  {
   "cell_type": "code",
   "execution_count": 437,
   "metadata": {
    "Collapsed": "false"
   },
   "outputs": [],
   "source": [
    "day = '2020-01-01'\n",
    "dic = {}\n",
    "for i in range(0, 24):\n",
    "    if i > 2 and i < 6:\n",
    "        continue\n",
    "    history = list(prep4sas.loc[(prep4sas['user'].apply(lambda x: x.split('-')[1]) == str(i)) & (prep4sas['방송날'] < pd.to_datetime(day))].sort_values('방송날')[-30:]['index_y'].values)\n",
    "    dic[i] = history"
   ]
  },
  {
   "cell_type": "code",
   "execution_count": 439,
   "metadata": {
    "Collapsed": "false"
   },
   "outputs": [
    {
     "data": {
      "text/plain": [
       "dict_keys([0, 1, 2, 6, 7, 8, 9, 10, 11, 12, 13, 14, 15, 16, 17, 18, 19, 20, 21, 22, 23])"
      ]
     },
     "execution_count": 439,
     "metadata": {},
     "output_type": "execute_result"
    }
   ],
   "source": [
    "dic.keys()"
   ]
  },
  {
   "cell_type": "code",
   "execution_count": null,
   "metadata": {
    "Collapsed": "false"
   },
   "outputs": [],
   "source": []
  }
 ],
 "metadata": {
  "kernelspec": {
   "display_name": "Python 3",
   "language": "python",
   "name": "python3"
  },
  "language_info": {
   "codemirror_mode": {
    "name": "ipython",
    "version": 3
   },
   "file_extension": ".py",
   "mimetype": "text/x-python",
   "name": "python",
   "nbconvert_exporter": "python",
   "pygments_lexer": "ipython3",
   "version": "3.7.6"
  }
 },
 "nbformat": 4,
 "nbformat_minor": 4
}
