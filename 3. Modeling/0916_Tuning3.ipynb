{
 "cells": [
  {
   "cell_type": "markdown",
   "metadata": {
    "colab_type": "text",
    "id": "22qCKEZGkTc7"
   },
   "source": [
    "# Tuning ver3\n",
    "* scaling \n",
    "* xgboost\n",
    "* LGBM "
   ]
  },
  {
   "cell_type": "markdown",
   "metadata": {
    "colab_type": "text",
    "id": "nSdKfbKamzi_"
   },
   "source": [
    "## colab setting"
   ]
  },
  {
   "cell_type": "markdown",
   "metadata": {
    "colab_type": "text",
    "id": "YOOzwYvRkBeQ"
   },
   "source": [
    "```javascript\n",
    "function ClickConnect() {\n",
    "    var buttons = document.querySelectorAll(\"colab-dialog.yes-no-dialog paper-button#cancel\"); \n",
    "    buttons.forEach(function(btn) { btn.click(); }); \n",
    "    console.log(\"1분마다 자동 재연결\"); \n",
    "    document.querySelector(\"colab-toolbar-button#connect\").click(); \n",
    "    } \n",
    "\n",
    "setInterval(ClickConnect,1000*60);\n",
    "```"
   ]
  },
  {
   "cell_type": "markdown",
   "metadata": {
    "colab_type": "text",
    "id": "NqM8S_NMkG-H"
   },
   "source": [
    "```python\n",
    "# 코랩 한글 설치 \n",
    "import matplotlib as mpl\n",
    "import matplotlib.pyplot as plt\n",
    "\n",
    "%config InlineBackend.figure_format = 'retina'\n",
    "\n",
    "!apt -qq -y install fonts-nanum\n",
    "\n",
    "import matplotlib.font_manager as fm\n",
    "fontpath = '/usr/share/fonts/truetype/nanum/NanumBarunGothic.ttf'\n",
    "font = fm.FontProperties(fname=fontpath, size=9)\n",
    "plt.rc('font', family='NanumBarunGothic') \n",
    "mpl.font_manager._rebuild()\n",
    "```"
   ]
  },
  {
   "cell_type": "markdown",
   "metadata": {
    "colab_type": "text",
    "id": "tOUkp3kMkKaW"
   },
   "source": [
    "```python\n",
    "# 한글 테스트 \n",
    "plt.figure(figsize=(5,5))\n",
    "plt.plot([0,1], [0,1], label='한글테스트용')\n",
    "plt.legend()\n",
    "plt.show()\n",
    "```"
   ]
  },
  {
   "cell_type": "code",
   "execution_count": 12,
   "metadata": {
    "colab": {},
    "colab_type": "code",
    "id": "pjvbLs84l4BZ"
   },
   "outputs": [],
   "source": [
    "import os\n",
    "import sys\n",
    "import joblib\n",
    "import pickle as pkl\n",
    "\n",
    "import warnings\n",
    "warnings.filterwarnings(action='ignore')\n",
    "\n",
    "from sklearn.exceptions import DataConversionWarning\n",
    "warnings.filterwarnings(action='ignore', category=DataConversionWarning)\n",
    "\n",
    "import pandas as pd \n",
    "import numpy as np\n",
    "\n",
    "from IPython.display import display\n",
    "pd.options.display.max_rows = 999\n",
    "pd.options.display.max_columns = 999\n",
    "pd.set_option('display.max_info_columns', 500)\n",
    "\n",
    "import datetime\n",
    "from tqdm import tqdm"
   ]
  },
  {
   "cell_type": "code",
   "execution_count": 2,
   "metadata": {
    "colab": {},
    "colab_type": "code",
    "id": "S2Dv85xxl6ZW"
   },
   "outputs": [],
   "source": [
    "# visualize\n",
    "%matplotlib inline\n",
    "import matplotlib.pyplot as plt\n",
    "import seaborn as sns\n",
    "\n",
    "plt.style.use('seaborn')\n",
    "plt.rc('font', family='malgun gothic')\n",
    "plt.rc('axes', unicode_minus=False)"
   ]
  },
  {
   "cell_type": "code",
   "execution_count": null,
   "metadata": {
    "colab": {},
    "colab_type": "code",
    "id": "Nr6Jbq5M6F5B"
   },
   "outputs": [],
   "source": [
    "# !pip install bayesian-optimization\n",
    "# !pip install optuna"
   ]
  },
  {
   "cell_type": "markdown",
   "metadata": {
    "colab_type": "text",
    "id": "reTmtS121bYG"
   },
   "source": [
    "### LGBM / xgboost with gpu\n",
    "* https://somjang.tistory.com/entry/Ensemble-Colab%EC%97%90%EC%84%9C-LightGBM-%EC%82%AC%EC%9A%A9%ED%95%98%EA%B8%B0"
   ]
  },
  {
   "cell_type": "code",
   "execution_count": null,
   "metadata": {
    "colab": {},
    "colab_type": "code",
    "id": "t7TfocbX_bCn"
   },
   "outputs": [],
   "source": [
    "# !git clone https://github.com/Microsoft/LightGBM\n",
    "# cd LightGBM\n",
    "# !mkdir build\n",
    "# !cmake -DUSE_GPU=1\n",
    "# !make -j$(nproc)\n",
    "# !sudo apt-get -y install python-pip\n",
    "# !sudo -H pip install setuptools pandas numpy scipy scikit-learn -U\n",
    "# %cd /content/LightGBM/python-package\n",
    "# !sudo python setup.py install\n",
    "# !pip3 uninstall scikit-learn\n",
    "# !pip3 install scikit-learn==0.21.3"
   ]
  },
  {
   "cell_type": "code",
   "execution_count": null,
   "metadata": {},
   "outputs": [],
   "source": [
    "# from tensorflow.python.client import device_lib\n",
    "# device_lib.list_local_devices()"
   ]
  },
  {
   "cell_type": "markdown",
   "metadata": {
    "colab_type": "text",
    "id": "_TyazVm55PxL"
   },
   "source": [
    "# Data\n",
    "* embedding ver4 (90 dim)"
   ]
  },
  {
   "cell_type": "code",
   "execution_count": null,
   "metadata": {},
   "outputs": [],
   "source": [
    "# colab \n",
    "# cd /content/drive/My Drive/쇼핑광고등어\n",
    "\n",
    "# data_v4 = joblib.load(os.path.join('1. Data', '05_분석데이터', '5th_FE_ver4.pkl'))\n",
    "# locals().update(data_v4)"
   ]
  },
  {
   "cell_type": "code",
   "execution_count": 3,
   "metadata": {},
   "outputs": [],
   "source": [
    "data_v4 = joblib.load(os.path.join('..', '..', '0.Data', '05_분석데이터', '5th_FE_ver4.pkl'))\n",
    "locals().update(data_v4)"
   ]
  },
  {
   "cell_type": "code",
   "execution_count": 4,
   "metadata": {
    "colab": {
     "base_uri": "https://localhost:8080/",
     "height": 35
    },
    "colab_type": "code",
    "id": "tx4zjC_W5Xnc",
    "outputId": "3858a6af-2128-439c-f2d9-b275a9f41c8f"
   },
   "outputs": [
    {
     "data": {
      "text/plain": [
       "((35379, 333), (35379,))"
      ]
     },
     "execution_count": 4,
     "metadata": {},
     "output_type": "execute_result"
    }
   ],
   "source": [
    "X = data_v4['X'] ; y = data_v4['y']\n",
    "X = X.drop([\"log최근3개월상품군추세\"], axis=1)\n",
    "X.shape, y.shape"
   ]
  },
  {
   "cell_type": "code",
   "execution_count": 5,
   "metadata": {
    "colab": {},
    "colab_type": "code",
    "id": "1Cn0PFa05iBC"
   },
   "outputs": [],
   "source": [
    "# log(y)\n",
    "y2 = np.log1p(y)"
   ]
  },
  {
   "cell_type": "markdown",
   "metadata": {
    "colab_type": "text",
    "id": "1j0SkqbN5mBb"
   },
   "source": [
    "# Modeling \n",
    "* cv = 5, epoch = 30000, earlystopping = 500, random_state=77"
   ]
  },
  {
   "cell_type": "code",
   "execution_count": 6,
   "metadata": {
    "colab": {},
    "colab_type": "code",
    "id": "1k81N1pp5kPZ"
   },
   "outputs": [],
   "source": [
    "def MAPE_exp(y_true, y_pred): \n",
    "    y_true, y_pred = np.array(y_true), np.array(y_pred)\n",
    "    return np.mean(np.abs((np.exp(y_true) - np.exp(y_pred)) / np.exp(y_true))) * 100"
   ]
  },
  {
   "cell_type": "code",
   "execution_count": 7,
   "metadata": {
    "colab": {},
    "colab_type": "code",
    "id": "sXQLQ2745tWE"
   },
   "outputs": [
    {
     "data": {
      "text/html": [
       "<style type='text/css'>\n",
       ".datatable table.frame { margin-bottom: 0; }\n",
       ".datatable table.frame thead { border-bottom: none; }\n",
       ".datatable table.frame tr.coltypes td {  color: #FFFFFF;  line-height: 6px;  padding: 0 0.5em;}\n",
       ".datatable .boolean { background: #DDDD99; }\n",
       ".datatable .object  { background: #565656; }\n",
       ".datatable .integer { background: #5D9E5D; }\n",
       ".datatable .float   { background: #4040CC; }\n",
       ".datatable .string  { background: #CC4040; }\n",
       ".datatable .row_index {  background: var(--jp-border-color3);  border-right: 1px solid var(--jp-border-color0);  color: var(--jp-ui-font-color3);  font-size: 9px;}\n",
       ".datatable .frame tr.coltypes .row_index {  background: var(--jp-border-color0);}\n",
       ".datatable th:nth-child(2) { padding-left: 12px; }\n",
       ".datatable .hellipsis {  color: var(--jp-cell-editor-border-color);}\n",
       ".datatable .vellipsis {  background: var(--jp-layout-color0);  color: var(--jp-cell-editor-border-color);}\n",
       ".datatable .na {  color: var(--jp-cell-editor-border-color);  font-size: 80%;}\n",
       ".datatable .footer { font-size: 9px; }\n",
       ".datatable .frame_dimensions {  background: var(--jp-border-color3);  border-top: 1px solid var(--jp-border-color0);  color: var(--jp-ui-font-color3);  display: inline-block;  opacity: 0.6;  padding: 1px 10px 1px 5px;}\n",
       "</style>\n"
      ],
      "text/plain": [
       "<IPython.core.display.HTML object>"
      ]
     },
     "metadata": {},
     "output_type": "display_data"
    }
   ],
   "source": [
    "import xgboost as xgb\n",
    "import lightgbm as lgb\n",
    "\n",
    "from sklearn.model_selection import KFold, cross_val_score, train_test_split\n",
    "from sklearn.preprocessing import StandardScaler, MinMaxScaler\n",
    "\n",
    "from bayes_opt import BayesianOptimization"
   ]
  },
  {
   "cell_type": "code",
   "execution_count": 8,
   "metadata": {
    "colab": {},
    "colab_type": "code",
    "id": "FIdrYyQs5yup"
   },
   "outputs": [],
   "source": [
    "import optuna\n",
    "optuna.logging.set_verbosity(optuna.logging.WARNING)"
   ]
  },
  {
   "cell_type": "markdown",
   "metadata": {
    "colab_type": "text",
    "id": "T51dnQak6cfm"
   },
   "source": [
    "## LGBM\n",
    "* scaling : val 과 test 에 동일하게 적용해 줘야 함\n",
    "* https://stackoverflow.com/questions/58823264/how-to-scale-train-validation-and-test-sets-properly-using-standardscaler"
   ]
  },
  {
   "cell_type": "code",
   "execution_count": 10,
   "metadata": {
    "colab": {},
    "colab_type": "code",
    "id": "39M_CIkL6cFw"
   },
   "outputs": [],
   "source": [
    "def lgbm_model(X, y, params, n) : \n",
    "\n",
    "    mape = {'val_mape' : [], 'test_mape' : []}\n",
    "    pred = {'val_pred' : [], 'test_idx' : [], 'test_pred' : []}    \n",
    "    lgbm_feat_imp = [0] * len(X.columns)\n",
    "\n",
    "\n",
    "    X_train_, X_test_, y_train_, y_test_ = train_test_split(X, y, test_size=0.2, random_state=77)\n",
    "    pred['test_idx'].append(X_test_.index)\n",
    "\n",
    "\n",
    "    cv = KFold(n_splits=n, random_state=77, shuffle=True)\n",
    "    for t,v in cv.split(X_train_):\n",
    "        X_train , X_val = X_train_.iloc[t] , X_train_.iloc[v]            \n",
    "        y_train , y_val = y_train_.iloc[t] , y_train_.iloc[v]\n",
    "\n",
    "        \n",
    "        # scaling\n",
    "        scaler = StandardScaler()\n",
    "\n",
    "        X_train = scaler.fit_transform(X_train)\n",
    "        X_val = scaler.transform(X_val)\n",
    "\n",
    "\n",
    "        train_T = lgb.Dataset(X_train, label=y_train.values) \n",
    "        val_T   = lgb.Dataset(X_val, label=y_val.values)       \n",
    "            \n",
    "\n",
    "        model = lgb.train(params, train_T, 30000, valid_sets = val_T, verbose_eval=10000, early_stopping_rounds=500)\n",
    "        \n",
    "\n",
    "        # val\n",
    "        val_pred = model.predict(X_val)\n",
    "        pred['val_pred'].append(np.exp(val_pred))              \n",
    "        mape['val_mape'].append(MAPE_exp(y_val, val_pred))\n",
    "\n",
    "\n",
    "        # test \n",
    "        X_test = scaler.transform(X_test_)\n",
    "\n",
    "        test_pred = model.predict(X_test)\n",
    "        pred['test_pred'].append(np.exp(test_pred))\n",
    "        mape['test_mape'].append(MAPE_exp(y_test_, test_pred))\n",
    "\n",
    "\n",
    "        lgbm_feat_imp += model.feature_importance() / n\n",
    "                    \n",
    "    \n",
    "    return mape, pred, lgbm_feat_imp"
   ]
  },
  {
   "cell_type": "markdown",
   "metadata": {
    "colab_type": "text",
    "id": "obC0O8fM6Qt1"
   },
   "source": [
    "### lgbm_params6\n",
    "* optuna"
   ]
  },
  {
   "cell_type": "code",
   "execution_count": 38,
   "metadata": {
    "colab": {},
    "colab_type": "code",
    "id": "cCgoU52n6OIT"
   },
   "outputs": [],
   "source": [
    "def objective_lgbm(trial, X, y):\n",
    "    \n",
    "    params = {\n",
    "        'num_leaves': int(trial.suggest_loguniform('num_leaves', 8, 32)),  \n",
    "        'max_depth': trial.suggest_int('max_depth', 8, 32), \n",
    "        'min_child_samples': trial.suggest_int('min_child_samples', 28, 48),  \n",
    "        'min_child_weight': trial.suggest_loguniform('min_child_weight', 1e-3, 5.0),  \n",
    "        'learning_rate': trial.suggest_uniform('learning_rate', 0.001, 0.015),\n",
    "        'reg_alpha': trial.suggest_uniform('reg_alpha', 0.01, 1.0), \n",
    "        'reg_lambda': trial.suggest_uniform('reg_lambda', 0.01, 0.5), \n",
    "        'min_split_gain': trial.suggest_loguniform('min_split_gain', 0.01, 0.05),\n",
    "        'colsample_bytree': trial.suggest_uniform('colsample_bytree', 0.5, 1.0), \n",
    "        'subsample_for_bin': trial.suggest_int('subsample_for_bin', 10000, 30000),\n",
    "        'boost_from_average': trial.suggest_categorical('boost_from_average', [True, False]),  # True\n",
    "        'subsample': trial.suggest_uniform('subsample', 0.5, 1.0),  \n",
    "        'subsample_freq': trial.suggest_int('subsample_freq', 0, 7), \n",
    "        'max_bin': trial.suggest_int('max_bin', 32, 64),  \n",
    "        'seed': 77,\n",
    "        'n_jobs': -1,\n",
    "        'device_type' : 'gpu', \n",
    "        'objective': 'regression',\n",
    "        'num_iterations': 30000,\n",
    "        'metric': 'mape',\n",
    "        'importance_type': 'gain'\n",
    "    }\n",
    "    \n",
    "    mape, pred, lgbm_feat_imp = lgbm_model(X, y, params, 5)\n",
    "\n",
    "    return np.mean(mape['test_mape'])"
   ]
  },
  {
   "cell_type": "code",
   "execution_count": 39,
   "metadata": {
    "colab": {
     "base_uri": "https://localhost:8080/",
     "height": 1000
    },
    "colab_type": "code",
    "id": "8rU48Tvb-Bdh",
    "outputId": "9e4d0390-53eb-4da6-d143-77d0f4490b9b"
   },
   "outputs": [
    {
     "name": "stdout",
     "output_type": "stream",
     "text": [
      "Training until validation scores don't improve for 500 rounds\n",
      "Training until validation scores don't improve for 500 rounds\n",
      "[10000]\tvalid_0's mape: 0.0222671\n",
      "[30000]\tvalid_0's mape: 0.0196938\n",
      "Did not meet early stopping. Best iteration is:\n",
      "[30000]\tvalid_0's mape: 0.0196938\n",
      "[10000]\tvalid_0's mape: 0.019235\n",
      "[20000]\tvalid_0's mape: 0.0204642\n",
      "Training until validation scores don't improve for 500 rounds\n",
      "[20000]\tvalid_0's mape: 0.0186916\n",
      "Early stopping, best iteration is:\n",
      "[22213]\tvalid_0's mape: 0.0186438\n",
      "[10000]\tvalid_0's mape: 0.0189307\n",
      "Training until validation scores don't improve for 500 rounds\n",
      "[30000]\tvalid_0's mape: 0.0195794\n",
      "Did not meet early stopping. Best iteration is:\n",
      "[30000]\tvalid_0's mape: 0.0195794\n",
      "Training until validation scores don't improve for 500 rounds\n",
      "[10000]\tvalid_0's mape: 0.0220064\n",
      "[10000]\tvalid_0's mape: 0.0190019\n",
      "Early stopping, best iteration is:\n",
      "[16605]\tvalid_0's mape: 0.0187062\n",
      "Training until validation scores don't improve for 500 rounds\n",
      "[10000]\tvalid_0's mape: 0.0220584\n",
      "[20000]\tvalid_0's mape: 0.0182622\n",
      "[20000]\tvalid_0's mape: 0.0204496\n",
      "[30000]\tvalid_0's mape: 0.018095\n",
      "Did not meet early stopping. Best iteration is:\n",
      "[29934]\tvalid_0's mape: 0.0180918\n",
      "[20000]\tvalid_0's mape: 0.0204919\n",
      "Training until validation scores don't improve for 500 rounds\n",
      "[30000]\tvalid_0's mape: 0.0198084\n",
      "Did not meet early stopping. Best iteration is:\n",
      "[30000]\tvalid_0's mape: 0.0198084\n",
      "[10000]\tvalid_0's mape: 0.0186036\n",
      "[30000]\tvalid_0's mape: 0.019757\n",
      "Did not meet early stopping. Best iteration is:\n",
      "[30000]\tvalid_0's mape: 0.019757\n",
      "[10000]\tvalid_0's mape: 0.0195374\n",
      "[20000]\tvalid_0's mape: 0.0189205\n",
      "Early stopping, best iteration is:\n",
      "[23855]\tvalid_0's mape: 0.0188552\n",
      "Training until validation scores don't improve for 500 rounds\n",
      "[20000]\tvalid_0's mape: 0.0182568\n",
      "Early stopping, best iteration is:\n",
      "[21010]\tvalid_0's mape: 0.0182473\n",
      "Training until validation scores don't improve for 500 rounds\n",
      "[10000]\tvalid_0's mape: 0.0191389\n",
      "[20000]\tvalid_0's mape: 0.0185263\n",
      "Early stopping, best iteration is:\n",
      "[26532]\tvalid_0's mape: 0.0184126\n",
      "Training until validation scores don't improve for 500 rounds\n",
      "[10000]\tvalid_0's mape: 0.0191098\n",
      "[10000]\tvalid_0's mape: 0.019459\n",
      "Early stopping, best iteration is:\n",
      "[15740]\tvalid_0's mape: 0.0188789\n",
      "Training until validation scores don't improve for 500 rounds\n",
      "[20000]\tvalid_0's mape: 0.0189709\n",
      "Early stopping, best iteration is:\n",
      "[24895]\tvalid_0's mape: 0.0188971\n",
      "[10000]\tvalid_0's mape: 0.0188136\n",
      "Early stopping, best iteration is:\n",
      "[17848]\tvalid_0's mape: 0.0185384\n",
      "Training until validation scores don't improve for 500 rounds\n",
      "[10000]\tvalid_0's mape: 0.0190405\n",
      "Early stopping, best iteration is:\n",
      "[16901]\tvalid_0's mape: 0.0188871\n",
      "{'num_leaves': 10.85162126491709, 'max_depth': 11, 'min_child_samples': 41, 'min_child_weight': 0.01624418583342094, 'learning_rate': 0.011469316118129399, 'reg_alpha': 0.8976142662912255, 'reg_lambda': 0.46994394835340525, 'min_split_gain': 0.028356522135762015, 'colsample_bytree': 0.8665499141686762, 'subsample_for_bin': 11759, 'boost_from_average': True, 'subsample': 0.7826269254063605, 'subsample_freq': 5, 'max_bin': 39} 33.34968835735539\n",
      "CPU times: user 54min 27s, sys: 6min 15s, total: 1h 42s\n",
      "Wall time: 32min 13s\n"
     ]
    }
   ],
   "source": [
    "%%time\n",
    "\n",
    "lgbm_study1 = optuna.create_study()\n",
    "lgbm_study1.optimize(lambda x: objective_lgbm(x, X, y2), timeout=1000, n_jobs=-1)\n",
    "print(lgbm_study1.best_params, lgbm_study1.best_value)"
   ]
  },
  {
   "cell_type": "code",
   "execution_count": 40,
   "metadata": {
    "colab": {},
    "colab_type": "code",
    "id": "7m1aBeBMC_BQ"
   },
   "outputs": [],
   "source": [
    "lgbm_params6 = lgbm_study1.best_params.copy()\n",
    "lgbm_params6['num_leaves'] = int(lgbm_params6['num_leaves'])\n",
    "lgbm_params6['n_jobs'] = -1\n",
    "lgbm_params6['device_type'] = 'gpu', \n",
    "lgbm_params6['num_iterations'] = 30000\n",
    "lgbm_params6['objective'] = 'regression'\n",
    "lgbm_params6['metric'] = 'mape'\n",
    "lgbm_params6['is_training_metric'] = True\n",
    "lgbm_params6['verbose'] = -1"
   ]
  },
  {
   "cell_type": "code",
   "execution_count": 41,
   "metadata": {
    "colab": {
     "base_uri": "https://localhost:8080/",
     "height": 521
    },
    "colab_type": "code",
    "id": "yVDGIvHhW_jw",
    "outputId": "73fa70cb-54f1-4ed7-d8ce-d2985276e8c1"
   },
   "outputs": [
    {
     "name": "stdout",
     "output_type": "stream",
     "text": [
      "Training until validation scores don't improve for 500 rounds\n",
      "[10000]\tvalid_0's mape: 0.019218\n",
      "[20000]\tvalid_0's mape: 0.0186585\n",
      "Early stopping, best iteration is:\n",
      "[25630]\tvalid_0's mape: 0.0185639\n",
      "Training until validation scores don't improve for 500 rounds\n",
      "[10000]\tvalid_0's mape: 0.0189379\n",
      "[20000]\tvalid_0's mape: 0.0182159\n",
      "Early stopping, best iteration is:\n",
      "[27695]\tvalid_0's mape: 0.0180597\n",
      "Training until validation scores don't improve for 500 rounds\n",
      "[10000]\tvalid_0's mape: 0.0195123\n",
      "[20000]\tvalid_0's mape: 0.0188799\n",
      "Early stopping, best iteration is:\n",
      "[25451]\tvalid_0's mape: 0.0187909\n",
      "Training until validation scores don't improve for 500 rounds\n",
      "[10000]\tvalid_0's mape: 0.0191862\n",
      "[20000]\tvalid_0's mape: 0.0185209\n",
      "[30000]\tvalid_0's mape: 0.0183578\n",
      "Did not meet early stopping. Best iteration is:\n",
      "[29564]\tvalid_0's mape: 0.0183571\n",
      "Training until validation scores don't improve for 500 rounds\n",
      "[10000]\tvalid_0's mape: 0.0194571\n",
      "[20000]\tvalid_0's mape: 0.0189833\n",
      "Early stopping, best iteration is:\n",
      "[24303]\tvalid_0's mape: 0.0189187\n",
      "CPU times: user 16min 22s, sys: 18.6 s, total: 16min 41s\n",
      "Wall time: 8min 32s\n"
     ]
    }
   ],
   "source": [
    "%%time\n",
    "\n",
    "lgbm_mape6, lgbm_pred6, lgbm_feat_imp6 = lgbm_model(X, y2, lgbm_params6, 5)"
   ]
  },
  {
   "cell_type": "code",
   "execution_count": 42,
   "metadata": {
    "colab": {
     "base_uri": "https://localhost:8080/",
     "height": 204
    },
    "colab_type": "code",
    "id": "WhyVvdRAFO7F",
    "outputId": "6d21ea21-7dbf-40e3-d16c-9b666d8705f1"
   },
   "outputs": [
    {
     "data": {
      "text/html": [
       "<div>\n",
       "<style scoped>\n",
       "    .dataframe tbody tr th:only-of-type {\n",
       "        vertical-align: middle;\n",
       "    }\n",
       "\n",
       "    .dataframe tbody tr th {\n",
       "        vertical-align: top;\n",
       "    }\n",
       "\n",
       "    .dataframe thead th {\n",
       "        text-align: right;\n",
       "    }\n",
       "</style>\n",
       "<table border=\"1\" class=\"dataframe\">\n",
       "  <thead>\n",
       "    <tr style=\"text-align: right;\">\n",
       "      <th></th>\n",
       "      <th>val_mape</th>\n",
       "      <th>test_mape</th>\n",
       "    </tr>\n",
       "  </thead>\n",
       "  <tbody>\n",
       "    <tr>\n",
       "      <th>0</th>\n",
       "      <td>33.992380</td>\n",
       "      <td>33.378532</td>\n",
       "    </tr>\n",
       "    <tr>\n",
       "      <th>1</th>\n",
       "      <td>32.851865</td>\n",
       "      <td>33.300977</td>\n",
       "    </tr>\n",
       "    <tr>\n",
       "      <th>2</th>\n",
       "      <td>35.008695</td>\n",
       "      <td>33.608347</td>\n",
       "    </tr>\n",
       "    <tr>\n",
       "      <th>3</th>\n",
       "      <td>32.609460</td>\n",
       "      <td>33.213336</td>\n",
       "    </tr>\n",
       "    <tr>\n",
       "      <th>4</th>\n",
       "      <td>34.691284</td>\n",
       "      <td>33.087795</td>\n",
       "    </tr>\n",
       "  </tbody>\n",
       "</table>\n",
       "</div>"
      ],
      "text/plain": [
       "    val_mape  test_mape\n",
       "0  33.992380  33.378532\n",
       "1  32.851865  33.300977\n",
       "2  35.008695  33.608347\n",
       "3  32.609460  33.213336\n",
       "4  34.691284  33.087795"
      ]
     },
     "execution_count": 42,
     "metadata": {
      "tags": []
     },
     "output_type": "execute_result"
    }
   ],
   "source": [
    "pd.DataFrame(lgbm_mape6)"
   ]
  },
  {
   "cell_type": "code",
   "execution_count": 43,
   "metadata": {
    "colab": {
     "base_uri": "https://localhost:8080/",
     "height": 35
    },
    "colab_type": "code",
    "id": "0X2u3zsGh2f3",
    "outputId": "08b42936-49b1-4b43-e005-e7ecd431b745"
   },
   "outputs": [
    {
     "name": "stdout",
     "output_type": "stream",
     "text": [
      "33.83073689977428 33.31779742838251\n"
     ]
    }
   ],
   "source": [
    "print(np.mean(lgbm_mape6['val_mape']), np.mean(lgbm_mape6['test_mape']))"
   ]
  },
  {
   "cell_type": "markdown",
   "metadata": {
    "colab_type": "text",
    "id": "850dDqBe-nSq"
   },
   "source": [
    "### lgbm_params7\n",
    "* Bayesian Optimization : https://github.com/fmfn/BayesianOptimization"
   ]
  },
  {
   "cell_type": "code",
   "execution_count": null,
   "metadata": {
    "colab": {},
    "colab_type": "code",
    "id": "-UA4KjEbsrzA"
   },
   "outputs": [],
   "source": [
    "params_range = {\n",
    "                'num_leaves': (8, 64),\n",
    "                'max_depth': (4, 64),\n",
    "                'min_child_samples': (16, 64),  \n",
    "                'reg_lambda': (0.01, 0.99), \n",
    "                'min_split_gain': (0.005, 0.035),\n",
    "                'colsample_bytree': (0.5, 0.9), \n",
    "                'subsample': (0.7, 0.9), \n",
    "                'subsample_freq': (0, 7),\n",
    "                'max_bin': (30, 75), \n",
    "                'learning_rate' : (.001, .01)\n",
    "               }"
   ]
  },
  {
   "cell_type": "code",
   "execution_count": null,
   "metadata": {
    "colab": {},
    "colab_type": "code",
    "id": "wMwAND8tYYWH"
   },
   "outputs": [],
   "source": [
    "def Bayes_running(num_leaves, max_depth, min_child_samples, reg_lambda, min_split_gain, colsample_bytree, subsample, subsample_freq, max_bin, learning_rate):\n",
    "    params = { \n",
    "                'boosting': 'gbdt', 'objective': 'regression', 'metric': 'mape', 'is_training_metric': True, 'n_estimators' : 35000, \n",
    "              \n",
    "                \"num_leaves\": int(round(num_leaves)),\n",
    "                \"max_depth\" : int(round(max_depth)),\n",
    "                'min_child_samples': int(round(min_child_samples)), \n",
    "                'reg_lambda': max(reg_lambda, 0), \n",
    "                \"min_split_gain\": min_split_gain,\n",
    "                'colsample_bytree': colsample_bytree, \n",
    "                'subsample': max(min(subsample,1),0), \n",
    "                'subsample_freq': int(round(subsample_freq)),\n",
    "                'max_bin': int(round(max_bin)), \n",
    "              \n",
    "                \"learning_rate\": learning_rate, \n",
    "                \"n_jobs\" : -1, \n",
    "                'device_type' : 'gpu', \n",
    "                'verbose' : -1\n",
    "    }\n",
    "    \n",
    "    print(params)\n",
    "\n",
    "\n",
    "    mape, pred, lgbm_feat_imp = lgbm_model(X, y2, params, 5)\n",
    "    return -np.mean(mape['test_mape'])"
   ]
  },
  {
   "cell_type": "code",
   "execution_count": null,
   "metadata": {
    "colab": {},
    "colab_type": "code",
    "id": "CiTLvzu6-Kk4"
   },
   "outputs": [],
   "source": [
    "%%time \n",
    "\n",
    "Bayesian = BayesianOptimization(Bayes_running, params_range, random_state = 77)\n",
    "Bayesian.maximize(init_points = 10, n_iter = 20)"
   ]
  },
  {
   "cell_type": "code",
   "execution_count": null,
   "metadata": {
    "colab": {},
    "colab_type": "code",
    "id": "Gi0vSwaKtdRT"
   },
   "outputs": [],
   "source": [
    "print('Final result: ', Bayesian.max)"
   ]
  },
  {
   "cell_type": "code",
   "execution_count": null,
   "metadata": {
    "colab": {},
    "colab_type": "code",
    "id": "j-AnXFDctjuv"
   },
   "outputs": [],
   "source": [
    "lgbm_params7 = Bayesian.max[\"params\"].copy()\n",
    "lgbm_params7['num_leaves'] = int(lgbm_params7['num_leaves'])\n",
    "lgbm_params7[\"max_depth\"] = int(round(lgbm_params7[\"max_depth\"]))\n",
    "lgbm_params7[\"min_child_samples\"] = int(round(lgbm_params7[\"min_child_samples\"]))\n",
    "lgbm_params7[\"subsample_freq\"] = int(round(lgbm_params7[\"subsample_freq\"]))\n",
    "lgbm_params7[\"max_bin\"] = int(round(lgbm_params7[\"max_bin\"]))\n",
    "\n",
    "lgbm_params7['n_jobs'] = -1\n",
    "lgbm_params7['num_iterations'] = 35000\n",
    "lgbm_params7['objective'] = 'regression'\n",
    "lgbm_params7['metric'] = 'mape'\n",
    "lgbm_params7['is_training_metric'] = True\n",
    "lgbm_params7['device_type'] = 'gpu'\n",
    "lgbm_params7['verbose'] = -1"
   ]
  },
  {
   "cell_type": "code",
   "execution_count": null,
   "metadata": {
    "colab": {},
    "colab_type": "code",
    "id": "zu0mclLIt2Qc"
   },
   "outputs": [],
   "source": [
    "%%time\n",
    "\n",
    "lgbm_mape7, lgbm_pred7, lgbm_feat_imp7 = lgbm_model(X, y2, lgbm_params7, 5)"
   ]
  },
  {
   "cell_type": "code",
   "execution_count": null,
   "metadata": {
    "colab": {},
    "colab_type": "code",
    "id": "O6I7wH-Tt7zP"
   },
   "outputs": [],
   "source": [
    "pd.DataFrame(lgbm_mape7)"
   ]
  },
  {
   "cell_type": "code",
   "execution_count": null,
   "metadata": {
    "colab": {},
    "colab_type": "code",
    "id": "WrVDanFFt-oP"
   },
   "outputs": [],
   "source": [
    "print(np.mean(lgbm_mape7['val_mape']), np.mean(lgbm_mape7['test_mape']))"
   ]
  },
  {
   "cell_type": "markdown",
   "metadata": {
    "colab_type": "text",
    "id": "WkHgsvwYinH3"
   },
   "source": [
    "## xgboost "
   ]
  },
  {
   "cell_type": "code",
   "execution_count": 9,
   "metadata": {
    "colab": {},
    "colab_type": "code",
    "id": "XkyYw9QCiybv"
   },
   "outputs": [],
   "source": [
    "def xgb_model(X, y, params, n) : \n",
    "\n",
    "    mape = {'val_mape' : [], 'test_mape' : []}\n",
    "    pred = {'val_pred' : [], 'test_idx' : [], 'test_pred' : []}    \n",
    "\n",
    "\n",
    "    X_train_, X_test_, y_train_, y_test_ = train_test_split(X, y, test_size=0.2, random_state=77)\n",
    "    pred['test_idx'].append(X_test_.index)\n",
    "\n",
    "\n",
    "    cv = KFold(n_splits=n, random_state=77, shuffle=True)\n",
    "    for t,v in cv.split(X_train_):\n",
    "        X_train , X_val = X_train_.iloc[t] , X_train_.iloc[v]            \n",
    "        y_train , y_val = y_train_.iloc[t] , y_train_.iloc[v]\n",
    "\n",
    "\n",
    "        # scaling\n",
    "        scaler = StandardScaler()\n",
    "\n",
    "        X_train = scaler.fit_transform(X_train)\n",
    "        X_val = scaler.transform(X_val)\n",
    "\n",
    "\n",
    "        train_T = xgb.DMatrix(X_train, label=y_train) \n",
    "        val_T   = xgb.DMatrix(X_val,   label=y_val)     \n",
    "\n",
    "        watchlist = [(train_T, 'train'), (val_T, 'valid')]  \n",
    "            \n",
    "\n",
    "        model = xgb.train(params, train_T, 20000, watchlist, verbose_eval=10000, early_stopping_rounds=500)\n",
    "        \n",
    "\n",
    "        # val\n",
    "        val_pred = model.predict(val_T)\n",
    "        pred['val_pred'].append(np.exp(val_pred))              \n",
    "        mape['val_mape'].append(MAPE_exp(y_val, val_pred))\n",
    "\n",
    "\n",
    "        # test \n",
    "        X_test = scaler.transform(X_test_)\n",
    "        test_T = xgb.DMatrix(X_test) \n",
    "\n",
    "        test_pred = model.predict(test_T)\n",
    "        pred['test_pred'].append(np.exp(test_pred))\n",
    "        mape['test_mape'].append(MAPE_exp(y_test_, test_pred))\n",
    "\n",
    "                    \n",
    "    \n",
    "    return mape, pred"
   ]
  },
  {
   "cell_type": "code",
   "execution_count": 63,
   "metadata": {
    "colab": {},
    "colab_type": "code",
    "id": "tbeSgrhBnmUL"
   },
   "outputs": [],
   "source": [
    "xgb_params1 = {'min_child_weight': 1, 'eta': 0.02, 'colsample_bytree': 0.9, 'n_estimators' : 10000,\n",
    "               'max_depth': 20, 'subsample': 0.9, 'lambda': 1. , 'booster' : 'gbtree', 'silent': 1,\n",
    "               'predictor': 'gpu_predictor', 'objective': 'reg:linear', 'metrics':'mae', 'gamma' : 0.01}"
   ]
  },
  {
   "cell_type": "code",
   "execution_count": 64,
   "metadata": {
    "colab": {
     "base_uri": "https://localhost:8080/",
     "height": 647
    },
    "colab_type": "code",
    "id": "w_PhRReQn-Q1",
    "outputId": "03660be8-a501-4b30-fcbb-4f79253233d9"
   },
   "outputs": [
    {
     "name": "stdout",
     "output_type": "stream",
     "text": [
      "[0]\ttrain-rmse:15.7649\tvalid-rmse:15.7419\n",
      "Multiple eval metrics have been passed: 'valid-rmse' will be used for early stopping.\n",
      "\n",
      "Will train until valid-rmse hasn't improved in 500 rounds.\n",
      "Stopping. Best iteration:\n",
      "[1505]\ttrain-rmse:0.03322\tvalid-rmse:0.426456\n",
      "\n",
      "[0]\ttrain-rmse:15.7613\tvalid-rmse:15.7565\n",
      "Multiple eval metrics have been passed: 'valid-rmse' will be used for early stopping.\n",
      "\n",
      "Will train until valid-rmse hasn't improved in 500 rounds.\n",
      "Stopping. Best iteration:\n",
      "[3150]\ttrain-rmse:0.030091\tvalid-rmse:0.420489\n",
      "\n",
      "[0]\ttrain-rmse:15.7595\tvalid-rmse:15.7639\n",
      "Multiple eval metrics have been passed: 'valid-rmse' will be used for early stopping.\n",
      "\n",
      "Will train until valid-rmse hasn't improved in 500 rounds.\n",
      "Stopping. Best iteration:\n",
      "[1498]\ttrain-rmse:0.032823\tvalid-rmse:0.439343\n",
      "\n",
      "[0]\ttrain-rmse:15.7568\tvalid-rmse:15.7746\n",
      "Multiple eval metrics have been passed: 'valid-rmse' will be used for early stopping.\n",
      "\n",
      "Will train until valid-rmse hasn't improved in 500 rounds.\n",
      "Stopping. Best iteration:\n",
      "[2520]\ttrain-rmse:0.030626\tvalid-rmse:0.428916\n",
      "\n",
      "[0]\ttrain-rmse:15.7593\tvalid-rmse:15.7649\n",
      "Multiple eval metrics have been passed: 'valid-rmse' will be used for early stopping.\n",
      "\n",
      "Will train until valid-rmse hasn't improved in 500 rounds.\n",
      "Stopping. Best iteration:\n",
      "[732]\ttrain-rmse:0.039525\tvalid-rmse:0.428014\n",
      "\n"
     ]
    }
   ],
   "source": [
    "xgb_mape1, xgb_pred1 = xgb_model(X, y2, xgb_params1, 5)"
   ]
  },
  {
   "cell_type": "code",
   "execution_count": 65,
   "metadata": {
    "colab": {
     "base_uri": "https://localhost:8080/",
     "height": 204
    },
    "colab_type": "code",
    "id": "H9fXqgnMtput",
    "outputId": "904a8de0-f843-48bf-b9fb-f73d8a049060"
   },
   "outputs": [
    {
     "data": {
      "text/html": [
       "<div>\n",
       "<style scoped>\n",
       "    .dataframe tbody tr th:only-of-type {\n",
       "        vertical-align: middle;\n",
       "    }\n",
       "\n",
       "    .dataframe tbody tr th {\n",
       "        vertical-align: top;\n",
       "    }\n",
       "\n",
       "    .dataframe thead th {\n",
       "        text-align: right;\n",
       "    }\n",
       "</style>\n",
       "<table border=\"1\" class=\"dataframe\">\n",
       "  <thead>\n",
       "    <tr style=\"text-align: right;\">\n",
       "      <th></th>\n",
       "      <th>val_mape</th>\n",
       "      <th>test_mape</th>\n",
       "    </tr>\n",
       "  </thead>\n",
       "  <tbody>\n",
       "    <tr>\n",
       "      <th>0</th>\n",
       "      <td>34.099815</td>\n",
       "      <td>33.774486</td>\n",
       "    </tr>\n",
       "    <tr>\n",
       "      <th>1</th>\n",
       "      <td>33.684690</td>\n",
       "      <td>33.544361</td>\n",
       "    </tr>\n",
       "    <tr>\n",
       "      <th>2</th>\n",
       "      <td>36.054443</td>\n",
       "      <td>33.788598</td>\n",
       "    </tr>\n",
       "    <tr>\n",
       "      <th>3</th>\n",
       "      <td>33.672722</td>\n",
       "      <td>33.864143</td>\n",
       "    </tr>\n",
       "    <tr>\n",
       "      <th>4</th>\n",
       "      <td>34.499581</td>\n",
       "      <td>32.908635</td>\n",
       "    </tr>\n",
       "  </tbody>\n",
       "</table>\n",
       "</div>"
      ],
      "text/plain": [
       "    val_mape  test_mape\n",
       "0  34.099815  33.774486\n",
       "1  33.684690  33.544361\n",
       "2  36.054443  33.788598\n",
       "3  33.672722  33.864143\n",
       "4  34.499581  32.908635"
      ]
     },
     "execution_count": 65,
     "metadata": {
      "tags": []
     },
     "output_type": "execute_result"
    }
   ],
   "source": [
    "pd.DataFrame(xgb_mape1)"
   ]
  },
  {
   "cell_type": "code",
   "execution_count": 66,
   "metadata": {
    "colab": {
     "base_uri": "https://localhost:8080/",
     "height": 35
    },
    "colab_type": "code",
    "id": "8mUBP-FlcYuP",
    "outputId": "d0a5e891-5839-470c-9810-d3ec61521ca9"
   },
   "outputs": [
    {
     "name": "stdout",
     "output_type": "stream",
     "text": [
      "34.402250361874444 33.576044777386606\n"
     ]
    }
   ],
   "source": [
    "print(np.mean(xgb_mape1['val_mape']), np.mean(xgb_mape1['test_mape']))"
   ]
  },
  {
   "cell_type": "markdown",
   "metadata": {
    "colab_type": "text",
    "id": "PHm3P6RTirDT"
   },
   "source": [
    "### xgb_params2\n",
    "* optuna"
   ]
  },
  {
   "cell_type": "code",
   "execution_count": 13,
   "metadata": {
    "colab": {},
    "colab_type": "code",
    "id": "_7iAuSAkiqdy"
   },
   "outputs": [],
   "source": [
    "def objective_xgb(trial, X, y):\n",
    "    \n",
    "    params = {\n",
    "        'lambda': trial.suggest_loguniform('lambda', 1e-3, 1.0),\n",
    "        'alpha': trial.suggest_loguniform('alpha', 1e-3, 1.0),\n",
    "        'max_depth': trial.suggest_int('max_depth', 4, 32),\n",
    "        'eta': trial.suggest_uniform('eta', 0.001, 0.01),\n",
    "        'gamma': trial.suggest_loguniform('gamma', 1e-3, 1.0),\n",
    "        'grow_policy': trial.suggest_categorical('grow_policy', ['depthwise', 'lossguide']),\n",
    "        'subsample': trial.suggest_uniform('subsample', 1e-3, 1.0),  \n",
    "        'colsample_bytree': trial.suggest_uniform('colsample_bytree', 1e-3, 1.0),  \n",
    "        'colsample_bylevel': trial.suggest_uniform('colsample_bylevel', 1e-3, 1.0),  \n",
    "        'min_child_weight': trial.suggest_loguniform('min_child_weight', 1e-3, 10.0), \n",
    "        'max_bin': trial.suggest_int('max_bin', 63, 256),  \n",
    "        'nthread': -1,\n",
    "        'silent' : 1, \n",
    "        'objective': 'reg:squarederror',\n",
    "        'eval_metric' : 'mae',\n",
    "        'n_estimators': 20000,\n",
    "        'seed': 77\n",
    "    }\n",
    "    \n",
    "    mape, pred = xgb_model(X, y, params, 5)\n",
    "\n",
    "    return np.mean(mape['test_mape'])"
   ]
  },
  {
   "cell_type": "code",
   "execution_count": null,
   "metadata": {
    "colab": {
     "base_uri": "https://localhost:8080/",
     "height": 392
    },
    "colab_type": "code",
    "id": "qneGOSquoUkc",
    "outputId": "504889f3-44a3-44ec-ed73-e02d834ecb7f"
   },
   "outputs": [
    {
     "name": "stdout",
     "output_type": "stream",
     "text": [
      "[0]\ttrain-mae:15.9255\tvalid-mae:15.9019\n",
      "Multiple eval metrics have been passed: 'valid-mae' will be used for early stopping.\n",
      "\n",
      "Will train until valid-mae hasn't improved in 500 rounds.\n",
      "[0]\ttrain-mae:15.9283\tvalid-mae:15.9048\n",
      "Multiple eval metrics have been passed: 'valid-mae' will be used for early stopping.\n",
      "\n",
      "Will train until valid-mae hasn't improved in 500 rounds.\n",
      "[0]\ttrain-mae:16.0116\tvalid-mae:15.988\n",
      "Multiple eval metrics have been passed: 'valid-mae' will be used for early stopping.\n",
      "\n",
      "Will train until valid-mae hasn't improved in 500 rounds.\n",
      "[0]\ttrain-mae:15.9315\tvalid-mae:15.908\n",
      "Multiple eval metrics have been passed: 'valid-mae' will be used for early stopping.\n",
      "\n",
      "Will train until valid-mae hasn't improved in 500 rounds.\n",
      "Stopping. Best iteration:\n",
      "[2814]\ttrain-mae:0.140114\tvalid-mae:0.312487\n",
      "\n",
      "[0]\ttrain-mae:15.9218\tvalid-mae:15.9162\n",
      "Multiple eval metrics have been passed: 'valid-mae' will be used for early stopping.\n",
      "\n",
      "Will train until valid-mae hasn't improved in 500 rounds.\n",
      "Stopping. Best iteration:\n",
      "[3349]\ttrain-mae:0.132358\tvalid-mae:0.305267\n",
      "\n",
      "[0]\ttrain-mae:15.9199\tvalid-mae:15.9246\n",
      "Multiple eval metrics have been passed: 'valid-mae' will be used for early stopping.\n",
      "\n",
      "Will train until valid-mae hasn't improved in 500 rounds.\n",
      "Stopping. Best iteration:\n",
      "[3200]\ttrain-mae:0.133428\tvalid-mae:0.313117\n",
      "\n",
      "[0]\ttrain-mae:15.9171\tvalid-mae:15.9349\n",
      "Multiple eval metrics have been passed: 'valid-mae' will be used for early stopping.\n",
      "\n",
      "Will train until valid-mae hasn't improved in 500 rounds.\n",
      "[10000]\ttrain-mae:0.173508\tvalid-mae:0.318901\n",
      "[10000]\ttrain-mae:0.184646\tvalid-mae:0.308686\n",
      "Stopping. Best iteration:\n",
      "[4101]\ttrain-mae:0.122732\tvalid-mae:0.310389\n",
      "\n",
      "[0]\ttrain-mae:15.9194\tvalid-mae:15.9262\n",
      "Multiple eval metrics have been passed: 'valid-mae' will be used for early stopping.\n",
      "\n",
      "Will train until valid-mae hasn't improved in 500 rounds.\n",
      "Stopping. Best iteration:\n",
      "[2762]\ttrain-mae:0.140667\tvalid-mae:0.314999\n",
      "\n",
      "[10000]\ttrain-mae:0.016757\tvalid-mae:0.3749\n",
      "[19999]\ttrain-mae:0.165161\tvalid-mae:0.314494\n",
      "[0]\ttrain-mae:16.008\tvalid-mae:16.0024\n",
      "Multiple eval metrics have been passed: 'valid-mae' will be used for early stopping.\n",
      "\n",
      "Will train until valid-mae hasn't improved in 500 rounds.\n",
      "[19999]\ttrain-mae:0.177153\tvalid-mae:0.307038\n",
      "[0]\ttrain-mae:15.9246\tvalid-mae:15.919\n",
      "Multiple eval metrics have been passed: 'valid-mae' will be used for early stopping.\n",
      "\n",
      "Will train until valid-mae hasn't improved in 500 rounds.\n",
      "[10000]\ttrain-mae:0.173585\tvalid-mae:0.313605\n",
      "[19999]\ttrain-mae:0.015182\tvalid-mae:0.374392\n",
      "[0]\ttrain-mae:15.928\tvalid-mae:15.9223\n",
      "Multiple eval metrics have been passed: 'valid-mae' will be used for early stopping.\n",
      "\n",
      "Will train until valid-mae hasn't improved in 500 rounds.\n",
      "[10000]\ttrain-mae:0.1845\tvalid-mae:0.301648\n",
      "[19999]\ttrain-mae:0.164891\tvalid-mae:0.308976\n",
      "[0]\ttrain-mae:16.006\tvalid-mae:16.0106\n",
      "Multiple eval metrics have been passed: 'valid-mae' will be used for early stopping.\n",
      "\n",
      "Will train until valid-mae hasn't improved in 500 rounds.\n",
      "Stopping. Best iteration:\n",
      "[14965]\ttrain-mae:0.180109\tvalid-mae:0.300363\n",
      "\n",
      "[0]\ttrain-mae:15.9226\tvalid-mae:15.9272\n",
      "Multiple eval metrics have been passed: 'valid-mae' will be used for early stopping.\n",
      "\n",
      "Will train until valid-mae hasn't improved in 500 rounds.\n",
      "[10000]\ttrain-mae:0.173486\tvalid-mae:0.321692\n",
      "[10000]\ttrain-mae:0.016716\tvalid-mae:0.367351\n",
      "[10000]\ttrain-mae:0.185218\tvalid-mae:0.311763\n",
      "[19999]\ttrain-mae:0.164976\tvalid-mae:0.317477\n",
      "[0]\ttrain-mae:16.0033\tvalid-mae:16.0212\n",
      "Multiple eval metrics have been passed: 'valid-mae' will be used for early stopping.\n",
      "\n",
      "Will train until valid-mae hasn't improved in 500 rounds.\n",
      "Stopping. Best iteration:\n",
      "[19124]\ttrain-mae:0.178104\tvalid-mae:0.309783\n",
      "\n",
      "[0]\ttrain-mae:15.92\tvalid-mae:15.9378\n",
      "Multiple eval metrics have been passed: 'valid-mae' will be used for early stopping.\n",
      "\n",
      "Will train until valid-mae hasn't improved in 500 rounds.\n",
      "[19999]\ttrain-mae:0.015088\tvalid-mae:0.366814\n",
      "[0]\ttrain-mae:15.926\tvalid-mae:15.9306\n",
      "Multiple eval metrics have been passed: 'valid-mae' will be used for early stopping.\n",
      "\n",
      "Will train until valid-mae hasn't improved in 500 rounds.\n",
      "[10000]\ttrain-mae:0.174085\tvalid-mae:0.316988\n",
      "[10000]\ttrain-mae:0.185613\tvalid-mae:0.306667\n",
      "[19999]\ttrain-mae:0.16533\tvalid-mae:0.312574\n",
      "[0]\ttrain-mae:16.0055\tvalid-mae:16.0123\n",
      "Multiple eval metrics have been passed: 'valid-mae' will be used for early stopping.\n",
      "\n",
      "Will train until valid-mae hasn't improved in 500 rounds.\n",
      "[19999]\ttrain-mae:0.177915\tvalid-mae:0.304611\n",
      "[10000]\ttrain-mae:0.016718\tvalid-mae:0.3759\n",
      "[0]\ttrain-mae:15.9221\tvalid-mae:15.9289\n",
      "Multiple eval metrics have been passed: 'valid-mae' will be used for early stopping.\n",
      "\n",
      "Will train until valid-mae hasn't improved in 500 rounds.\n"
     ]
    }
   ],
   "source": [
    "%%time\n",
    "\n",
    "xgb_study1 = optuna.create_study()\n",
    "xgb_study1.optimize(lambda x: objective_xgb(x, X, y2), timeout=1000, n_jobs=-1)\n",
    "print(xgb_study1.best_params, xgb_study1.best_value)"
   ]
  },
  {
   "cell_type": "code",
   "execution_count": null,
   "metadata": {
    "colab": {},
    "colab_type": "code",
    "id": "HgsOOh8coe2A"
   },
   "outputs": [],
   "source": [
    "xgb_params2 = lgbm_study1.best_params.copy()\n",
    "xgb_params2['n_jobs'] = -1\n",
    "xgb_params2['num_iterations'] = 20000\n",
    "xgb_params2['objective'] = 'reg:squarederror'\n",
    "xgb_params2['metric'] = 'mae'\n",
    "xgb_params2['is_training_metric'] = True\n",
    "xgb_params2['silent'] = 1"
   ]
  },
  {
   "cell_type": "code",
   "execution_count": null,
   "metadata": {
    "colab": {},
    "colab_type": "code",
    "id": "IIZYJZNTok9T"
   },
   "outputs": [],
   "source": [
    "%%time\n",
    "\n",
    "xgb_mape2, xgb_pred2 = xgb_model(X, y2, lgbm_params2, 5)"
   ]
  },
  {
   "cell_type": "code",
   "execution_count": null,
   "metadata": {
    "colab": {},
    "colab_type": "code",
    "id": "5TYLwsjNopn5"
   },
   "outputs": [],
   "source": [
    "pd.DataFrame(xgb_mape2)"
   ]
  },
  {
   "cell_type": "code",
   "execution_count": null,
   "metadata": {
    "colab": {},
    "colab_type": "code",
    "id": "LxVPnzdcovC9"
   },
   "outputs": [],
   "source": [
    "print(np.mean(xgb_mape2['val_mape']), np.mean(xgb_mape2['test_mape']))"
   ]
  },
  {
   "cell_type": "markdown",
   "metadata": {
    "colab_type": "text",
    "id": "weNGL3f8uDcW"
   },
   "source": [
    "# Results"
   ]
  },
  {
   "cell_type": "code",
   "execution_count": null,
   "metadata": {
    "colab": {},
    "colab_type": "code",
    "id": "ZnZgHkCuuEZQ"
   },
   "outputs": [],
   "source": [
    "final = {\n",
    "    'lgbm_6th' : [lgbm_mape6, lgbm_pred6, lgbm_feat_imp6] , \n",
    "   # 'lgbm_7th' : [lgbm_mape7, lgbm_pred7, lgbm_feat_imp7] \n",
    "}"
   ]
  },
  {
   "cell_type": "code",
   "execution_count": null,
   "metadata": {
    "colab": {},
    "colab_type": "code",
    "id": "SNAnKXMouHmq"
   },
   "outputs": [],
   "source": [
    "with open(\"0916_pred.pkl\", 'wb') as f:\n",
    "    pkl.dump(final,f)"
   ]
  },
  {
   "cell_type": "code",
   "execution_count": null,
   "metadata": {
    "colab": {},
    "colab_type": "code",
    "id": "z0xB9Fx1uwBf"
   },
   "outputs": [],
   "source": []
  }
 ],
 "metadata": {
  "accelerator": "GPU",
  "colab": {
   "name": "0916_Tuning3.ipynb",
   "provenance": []
  },
  "kernelspec": {
   "display_name": "Python 3",
   "language": "python",
   "name": "python3"
  },
  "language_info": {
   "codemirror_mode": {
    "name": "ipython",
    "version": 3
   },
   "file_extension": ".py",
   "mimetype": "text/x-python",
   "name": "python",
   "nbconvert_exporter": "python",
   "pygments_lexer": "ipython3",
   "version": "3.6.8rc1"
  }
 },
 "nbformat": 4,
 "nbformat_minor": 4
}
