{
 "cells": [
  {
   "cell_type": "code",
   "execution_count": 1,
   "metadata": {
    "Collapsed": "false"
   },
   "outputs": [],
   "source": [
    "import os\n",
    "import sys\n",
    "import math\n",
    "import gc\n",
    "import random\n",
    "import joblib\n",
    "from datetime import datetime, time\n",
    "import numpy as np\n",
    "import pandas as pd\n",
    "from tqdm import tqdm\n",
    "import warnings\n",
    "from dateutil.relativedelta import relativedelta\n",
    "warnings.filterwarnings(action='ignore')"
   ]
  },
  {
   "cell_type": "code",
   "execution_count": 2,
   "metadata": {
    "Collapsed": "false"
   },
   "outputs": [],
   "source": [
    "pd.set_option('display.float_format', lambda x: '%.3f' % x)"
   ]
  },
  {
   "cell_type": "code",
   "execution_count": 4,
   "metadata": {
    "Collapsed": "false"
   },
   "outputs": [],
   "source": [
    "timeS = joblib.load(os.path.join('..', '..', '0.Data', '04_임시데이터', 'data4time.pkl'))\n",
    "timeS['방송년도'] = timeS['방송날'].dt.year\n",
    "timeS['방송월'] = timeS['방송날'].dt.month\n",
    "timeS['방송일'] =timeS['방송날'].dt.day"
   ]
  },
  {
   "cell_type": "code",
   "execution_count": 5,
   "metadata": {
    "Collapsed": "false"
   },
   "outputs": [],
   "source": [
    "sale = pd.read_excel(os.path.join('..', '..', '0.Data', '01_제공데이터', '2020 빅콘테스트 데이터분석분야-챔피언리그_2019년 실적데이터_v1_200818.xlsx'), skiprows = 1)"
   ]
  },
  {
   "cell_type": "code",
   "execution_count": 6,
   "metadata": {
    "Collapsed": "false"
   },
   "outputs": [],
   "source": [
    "sale = sale.loc[sale['상품군'] != '무형']"
   ]
  },
  {
   "cell_type": "code",
   "execution_count": 7,
   "metadata": {
    "Collapsed": "false"
   },
   "outputs": [],
   "source": [
    "sale['방송날'] = sale['방송일시'].dt.date\n",
    "sale['방송월'] = sale['방송일시'].dt.month\n",
    "sale['방송일'] = sale['방송일시'].dt.day\n",
    "sale['방송시간(시간)'] = sale['방송일시'].dt.hour\n",
    "sale['방송일시'] = sale.apply(lambda x : datetime.combine(x['방송날'], time(x['방송시간(시간)'])), axis = 1)"
   ]
  },
  {
   "cell_type": "code",
   "execution_count": 8,
   "metadata": {
    "Collapsed": "false"
   },
   "outputs": [],
   "source": [
    "import math\n",
    "sale['판매량'] = sale['취급액'] / sale['판매단가']\n",
    "sale['판매량'] = sale['판매량'].fillna(0).apply(lambda x : math.ceil(x))"
   ]
  },
  {
   "cell_type": "code",
   "execution_count": 9,
   "metadata": {
    "Collapsed": "false"
   },
   "outputs": [],
   "source": [
    "piv = pd.pivot_table(sale, index = '상품군', columns = '방송일시', values = '판매량', aggfunc='sum')"
   ]
  },
  {
   "cell_type": "code",
   "execution_count": 10,
   "metadata": {
    "Collapsed": "false"
   },
   "outputs": [],
   "source": [
    "pivT = piv.T\n",
    "ema_s = pivT.ewm(span=4).mean()\n",
    "ema_m = pivT.ewm(span=12).mean()\n",
    "ema_l = pivT.ewm(span=26).mean()\n",
    "macd = ema_s - ema_l\n",
    "sig = macd.ewm(span=9).mean()\n",
    "rol14 = pivT.fillna(0).rolling(14).mean()\n",
    "rol30 = pivT.fillna(0).rolling(30).mean()"
   ]
  },
  {
   "cell_type": "code",
   "execution_count": 11,
   "metadata": {
    "Collapsed": "false"
   },
   "outputs": [],
   "source": [
    "for tb, column in zip([ema_s, ema_m, ema_l, macd, sig, rol14, rol30], ['ema_sz', 'ema_mz', 'ema_lz', 'macdz', 'sigz', 'rol14z', 'rol30z']):\n",
    "    new_columns = list(map(lambda x : '_'.join((column, x)), tb.columns))\n",
    "    tb.columns = new_columns"
   ]
  },
  {
   "cell_type": "code",
   "execution_count": 12,
   "metadata": {
    "Collapsed": "false"
   },
   "outputs": [],
   "source": [
    "timeZ = pd.concat([ema_s, ema_m, ema_l, macd, sig, rol14, rol30], axis = 1).reset_index()"
   ]
  },
  {
   "cell_type": "code",
   "execution_count": 13,
   "metadata": {
    "Collapsed": "false"
   },
   "outputs": [],
   "source": [
    "timeZ['방송년도'] = timeZ['방송일시'].dt.year\n",
    "timeZ['방송월'] = timeZ['방송일시'].dt.month\n",
    "timeZ['방송일'] =timeZ['방송일시'].dt.day\n",
    "timeZ['방송시간(시간)'] =timeZ['방송일시'].dt.hour"
   ]
  },
  {
   "cell_type": "code",
   "execution_count": 14,
   "metadata": {
    "Collapsed": "false"
   },
   "outputs": [],
   "source": [
    "piv = pd.pivot_table(sale, index = '상품군', columns = '방송시간(시간)', values = '판매량', aggfunc=np.mean)\n",
    "pivT = piv.T\n",
    "ema_s = pivT.ewm(span=1).mean()\n",
    "ema_m = pivT.ewm(span=3).mean()\n",
    "ema_l = pivT.ewm(span=6).mean()\n",
    "macd = ema_s - ema_l\n",
    "sig = macd.ewm(span=3).mean()\n",
    "rol14 = pivT.fillna(0).rolling(1).mean()\n",
    "rol30 = pivT.fillna(0).rolling(3).mean()\n",
    "\n",
    "for tb, column in zip([ema_s, ema_m, ema_l, macd, sig, rol14, rol30], ['ema_st', 'ema_mt', 'ema_lt', 'macdt', 'sigt', 'rol14t', 'rol30t']):\n",
    "    new_columns = list(map(lambda x : '_'.join((column, x)), tb.columns))\n",
    "    tb.columns = new_columns\n",
    "\n",
    "timeT = pd.concat([ema_s, ema_m, ema_l, macd, sig, rol14, rol30], axis = 1).reset_index()"
   ]
  },
  {
   "cell_type": "code",
   "execution_count": 15,
   "metadata": {
    "Collapsed": "false"
   },
   "outputs": [],
   "source": [
    "piv = pd.pivot_table(sale, index = '상품군', columns = '방송일시', values = '취급액', aggfunc=np.mean)\n",
    "\n",
    "pivT = piv.T\n",
    "ema_s = pivT.ewm(span=4).mean()\n",
    "ema_m = pivT.ewm(span=12).mean()\n",
    "ema_l = pivT.ewm(span=26).mean()\n",
    "macd = ema_s - ema_l\n",
    "sig = macd.ewm(span=9).mean()\n",
    "rol14 = pivT.fillna(0).rolling(14).mean()\n",
    "rol30 = pivT.fillna(0).rolling(30).mean()\n",
    "\n",
    "for tb, column in zip([ema_s, ema_m, ema_l, macd, sig, rol14, rol30], ['ema_sa', 'ema_ma', 'ema_la', 'macda', 'siga', 'rol14a', 'rol30a']):\n",
    "    new_columns = list(map(lambda x : '_'.join((column, x)), tb.columns))\n",
    "    tb.columns = new_columns\n",
    "\n",
    "timeA = pd.concat([ema_s, ema_m, ema_l, macd, sig, rol14, rol30], axis = 1).reset_index()"
   ]
  },
  {
   "cell_type": "code",
   "execution_count": 16,
   "metadata": {
    "Collapsed": "false"
   },
   "outputs": [],
   "source": [
    "timeA['방송년도'] = timeA['방송일시'].dt.year\n",
    "timeA['방송월'] = timeA['방송일시'].dt.month\n",
    "timeA['방송일'] =timeA['방송일시'].dt.day\n",
    "timeA['방송시간(시간)'] =timeA['방송일시'].dt.hour"
   ]
  },
  {
   "cell_type": "code",
   "execution_count": 17,
   "metadata": {
    "Collapsed": "false"
   },
   "outputs": [],
   "source": [
    "piv = pd.pivot_table(sale, index = '상품군', columns = '방송시간(시간)', values = '취급액', aggfunc=np.mean)\n",
    "\n",
    "pivT = piv.T\n",
    "ema_s = pivT.ewm(span=1).mean()\n",
    "ema_m = pivT.ewm(span=3).mean()\n",
    "ema_l = pivT.ewm(span=6).mean()\n",
    "macd = ema_s - ema_l\n",
    "sig = macd.ewm(span=9).mean()\n",
    "rol14 = pivT.fillna(0).rolling(1).mean()\n",
    "rol30 = pivT.fillna(0).rolling(3).mean()\n",
    "\n",
    "for tb, column in zip([ema_s, ema_m, ema_l, macd, sig, rol14, rol30], ['ema_saQ', 'ema_maQ', 'ema_laQ', 'macdaQ', 'sigaQ', 'rol14aQ', 'rol30aQ']):\n",
    "    new_columns = list(map(lambda x : '_'.join((column, x)), tb.columns))\n",
    "    tb.columns = new_columns\n",
    "\n",
    "timeQ = pd.concat([ema_s, ema_m, ema_l, macd, sig, rol14, rol30], axis = 1).reset_index()"
   ]
  },
  {
   "cell_type": "code",
   "execution_count": 18,
   "metadata": {
    "Collapsed": "false"
   },
   "outputs": [],
   "source": [
    "rate = pd.read_excel(os.path.join('..', '..', '0.Data', '01_제공데이터', '2020 빅콘테스트 데이터분석분야-챔피언리그_시청률 데이터.xlsx'), skiprows = 1)"
   ]
  },
  {
   "cell_type": "code",
   "execution_count": 19,
   "metadata": {
    "Collapsed": "false"
   },
   "outputs": [],
   "source": [
    "rate_v1 = rate.loc[[1440]].T.reset_index().loc[1:365].rename(columns = {'index' : '방송일시', 1440 : '일별평균시청률'})"
   ]
  },
  {
   "cell_type": "code",
   "execution_count": 20,
   "metadata": {
    "Collapsed": "false"
   },
   "outputs": [],
   "source": [
    "rate_v2 = rate.iloc[:, -1].reset_index().rename(columns=  {'index' : '시간대', '2019-01-01 to 2019-12-31'  : '분당평균시청률'})\n",
    "rate_v2['시간대'] = rate['시간대']\n",
    "rate_v2 = rate_v2.drop(1440)"
   ]
  },
  {
   "cell_type": "code",
   "execution_count": 21,
   "metadata": {
    "Collapsed": "false"
   },
   "outputs": [],
   "source": [
    "rate['방송시간(시간)'] = rate['시간대'].apply(lambda x: x[:2])"
   ]
  },
  {
   "cell_type": "code",
   "execution_count": 22,
   "metadata": {
    "Collapsed": "false"
   },
   "outputs": [],
   "source": [
    "rate_v3 = rate.groupby('방송시간(시간)').max()\n",
    "rate_v4 = rate.groupby('방송시간(시간)').mean()\n",
    "rate_v5 = rate.groupby('방송시간(시간)').median()"
   ]
  },
  {
   "cell_type": "code",
   "execution_count": 23,
   "metadata": {
    "Collapsed": "false"
   },
   "outputs": [],
   "source": [
    "rateT = rate.T.reset_index().iloc[:,:-1].loc[:365]"
   ]
  },
  {
   "cell_type": "code",
   "execution_count": 24,
   "metadata": {
    "Collapsed": "false"
   },
   "outputs": [],
   "source": [
    "rateT.columns = rateT.loc[0]"
   ]
  },
  {
   "cell_type": "code",
   "execution_count": 25,
   "metadata": {
    "Collapsed": "false"
   },
   "outputs": [],
   "source": [
    "rateT = rateT.drop(0)"
   ]
  },
  {
   "cell_type": "code",
   "execution_count": 26,
   "metadata": {
    "Collapsed": "false"
   },
   "outputs": [],
   "source": [
    "rateT['방송월'] = pd.to_datetime(rateT['시간대']).dt.month"
   ]
  },
  {
   "cell_type": "code",
   "execution_count": 27,
   "metadata": {
    "Collapsed": "false"
   },
   "outputs": [],
   "source": [
    "rateT = rateT.drop('시간대', axis = 1).fillna(0).groupby('방송월').mean().T.reset_index()"
   ]
  },
  {
   "cell_type": "code",
   "execution_count": 28,
   "metadata": {
    "Collapsed": "false"
   },
   "outputs": [],
   "source": [
    "rateT['방송시간(시간)'] = rateT[0].apply(lambda x : x[:2])"
   ]
  },
  {
   "cell_type": "code",
   "execution_count": 29,
   "metadata": {
    "Collapsed": "false"
   },
   "outputs": [],
   "source": [
    "rate_v6 = rateT.drop(0, axis = 1).groupby('방송시간(시간)').max()\n",
    "rate_v7 = rateT.drop(0, axis = 1).groupby('방송시간(시간)').mean()\n",
    "rate_v8 = rateT.drop(0, axis = 1).groupby('방송시간(시간)').median()"
   ]
  },
  {
   "cell_type": "code",
   "execution_count": 30,
   "metadata": {
    "Collapsed": "false"
   },
   "outputs": [],
   "source": [
    "prep = pd.read_excel('./prep4wnd.xlsx')"
   ]
  },
  {
   "cell_type": "code",
   "execution_count": 31,
   "metadata": {
    "Collapsed": "false"
   },
   "outputs": [],
   "source": [
    "volume_v1 = prep.groupby(['방송월', '방송시간']).agg({\n",
    "    '판매량' : [('월별시간별평균판매량', np.mean),\n",
    "            ('월별시간별중간판매량', np.median)],\n",
    "    '판매단가' : [('월별시간별평균판매단가', np.mean),\n",
    "             ('월별시간별중간판매단가', np.median)]\n",
    "}).reset_index()"
   ]
  },
  {
   "cell_type": "code",
   "execution_count": 32,
   "metadata": {
    "Collapsed": "false"
   },
   "outputs": [],
   "source": [
    "volume_v2 = prep.groupby(['방송시간']).agg({\n",
    "    '판매량' : [('시간별평균판매량', np.mean),\n",
    "            ('시간별중간판매량', np.median)],\n",
    "    '판매단가' : [('시간별평균판매단가', np.mean),\n",
    "             ('시간별중간판매단가', np.median)]\n",
    "}).reset_index()"
   ]
  },
  {
   "cell_type": "code",
   "execution_count": 33,
   "metadata": {
    "Collapsed": "false"
   },
   "outputs": [],
   "source": [
    "def prepColumn(df):\n",
    "    columns = []\n",
    "    for i, c in enumerate(df.columns):\n",
    "        if c[1] == '':\n",
    "            columns.append(c[0])\n",
    "        else:\n",
    "            columns.append(c[1])\n",
    "    df.columns = columns\n",
    "    return df"
   ]
  },
  {
   "cell_type": "code",
   "execution_count": 34,
   "metadata": {
    "Collapsed": "false"
   },
   "outputs": [],
   "source": [
    "volume_v1 = prepColumn(volume_v1)\n",
    "volume_v2 = prepColumn(volume_v2)"
   ]
  },
  {
   "cell_type": "code",
   "execution_count": 35,
   "metadata": {
    "Collapsed": "false"
   },
   "outputs": [
    {
     "data": {
      "text/html": [
       "<div>\n",
       "<style scoped>\n",
       "    .dataframe tbody tr th:only-of-type {\n",
       "        vertical-align: middle;\n",
       "    }\n",
       "\n",
       "    .dataframe tbody tr th {\n",
       "        vertical-align: top;\n",
       "    }\n",
       "\n",
       "    .dataframe thead th {\n",
       "        text-align: right;\n",
       "    }\n",
       "</style>\n",
       "<table border=\"1\" class=\"dataframe\">\n",
       "  <thead>\n",
       "    <tr style=\"text-align: right;\">\n",
       "      <th></th>\n",
       "      <th>방송일시</th>\n",
       "      <th>일별평균시청률</th>\n",
       "    </tr>\n",
       "  </thead>\n",
       "  <tbody>\n",
       "    <tr>\n",
       "      <th>1</th>\n",
       "      <td>2019-01-01</td>\n",
       "      <td>0.004</td>\n",
       "    </tr>\n",
       "    <tr>\n",
       "      <th>2</th>\n",
       "      <td>2019-01-02</td>\n",
       "      <td>0.006</td>\n",
       "    </tr>\n",
       "    <tr>\n",
       "      <th>3</th>\n",
       "      <td>2019-01-03</td>\n",
       "      <td>0.002</td>\n",
       "    </tr>\n",
       "    <tr>\n",
       "      <th>4</th>\n",
       "      <td>2019-01-04</td>\n",
       "      <td>0.003</td>\n",
       "    </tr>\n",
       "    <tr>\n",
       "      <th>5</th>\n",
       "      <td>2019-01-05</td>\n",
       "      <td>0.002</td>\n",
       "    </tr>\n",
       "    <tr>\n",
       "      <th>...</th>\n",
       "      <td>...</td>\n",
       "      <td>...</td>\n",
       "    </tr>\n",
       "    <tr>\n",
       "      <th>361</th>\n",
       "      <td>2019-12-27</td>\n",
       "      <td>0.004</td>\n",
       "    </tr>\n",
       "    <tr>\n",
       "      <th>362</th>\n",
       "      <td>2019-12-28</td>\n",
       "      <td>0.006</td>\n",
       "    </tr>\n",
       "    <tr>\n",
       "      <th>363</th>\n",
       "      <td>2019-12-29</td>\n",
       "      <td>0.004</td>\n",
       "    </tr>\n",
       "    <tr>\n",
       "      <th>364</th>\n",
       "      <td>2019-12-30</td>\n",
       "      <td>0.005</td>\n",
       "    </tr>\n",
       "    <tr>\n",
       "      <th>365</th>\n",
       "      <td>2019-12-31</td>\n",
       "      <td>0.005</td>\n",
       "    </tr>\n",
       "  </tbody>\n",
       "</table>\n",
       "<p>365 rows × 2 columns</p>\n",
       "</div>"
      ],
      "text/plain": [
       "           방송일시 일별평균시청률\n",
       "1    2019-01-01   0.004\n",
       "2    2019-01-02   0.006\n",
       "3    2019-01-03   0.002\n",
       "4    2019-01-04   0.003\n",
       "5    2019-01-05   0.002\n",
       "..          ...     ...\n",
       "361  2019-12-27   0.004\n",
       "362  2019-12-28   0.006\n",
       "363  2019-12-29   0.004\n",
       "364  2019-12-30   0.005\n",
       "365  2019-12-31   0.005\n",
       "\n",
       "[365 rows x 2 columns]"
      ]
     },
     "execution_count": 35,
     "metadata": {},
     "output_type": "execute_result"
    }
   ],
   "source": [
    "rate_v1 # 일별평균시청률"
   ]
  },
  {
   "cell_type": "code",
   "execution_count": 36,
   "metadata": {
    "Collapsed": "false"
   },
   "outputs": [],
   "source": [
    "rate_v1['방송월'] = pd.to_datetime(rate_v1['방송일시']).dt.month\n",
    "rate_v1['방송일'] = pd.to_datetime(rate_v1['방송일시']).dt.day"
   ]
  },
  {
   "cell_type": "code",
   "execution_count": 37,
   "metadata": {
    "Collapsed": "false"
   },
   "outputs": [],
   "source": [
    "rate_v3 = rate_v3.iloc[:, 1:-1].drop('월화').T # 일별시간별 최대시청률\n",
    "rate_v4 = rate_v4.iloc[:, :-1].drop('월화').T # 일별시간별 평균시청률\n",
    "rate_v5 = rate_v5.iloc[:, :-1].drop('월화').T # 일별시간별 중간시청률"
   ]
  },
  {
   "cell_type": "code",
   "execution_count": null,
   "metadata": {
    "Collapsed": "false"
   },
   "outputs": [],
   "source": [
    "rate_v6 # 시간별월별 최대시청률\n",
    "rate_v7 # 시간별월별 평균시청률\n",
    "rate_v8 # 시간별월별 중간시청률"
   ]
  },
  {
   "cell_type": "code",
   "execution_count": null,
   "metadata": {
    "Collapsed": "false"
   },
   "outputs": [],
   "source": [
    "volume_v1 # 월별시간별 평균/중간 판매량 및 판매단가\n",
    "volume_v2 # 시간별 평균/중간 판매량 및 판매단가"
   ]
  },
  {
   "cell_type": "code",
   "execution_count": 40,
   "metadata": {
    "Collapsed": "false"
   },
   "outputs": [],
   "source": [
    "train = joblib.load(os.path.join('..', '..', '0.Data', '04_임시데이터', 'train_data4WnD.pkl'))\n",
    "test = joblib.load(os.path.join('..', '..', '0.Data', '04_임시데이터', 'test_data4WnD.pkl'))"
   ]
  },
  {
   "cell_type": "code",
   "execution_count": 42,
   "metadata": {
    "Collapsed": "false"
   },
   "outputs": [],
   "source": [
    "volume = joblib.load(os.path.join('..', '..', '0.Data', '04_임시데이터', 'volume4wnd.pkl'))"
   ]
  },
  {
   "cell_type": "code",
   "execution_count": 45,
   "metadata": {
    "Collapsed": "false"
   },
   "outputs": [],
   "source": [
    "locals().update(volume)"
   ]
  },
  {
   "cell_type": "code",
   "execution_count": 43,
   "metadata": {
    "Collapsed": "false"
   },
   "outputs": [
    {
     "ename": "KeyError",
     "evalue": "'volume4month'",
     "output_type": "error",
     "traceback": [
      "\u001b[0;31m---------------------------------------------------------------------------\u001b[0m",
      "\u001b[0;31mKeyError\u001b[0m                                  Traceback (most recent call last)",
      "\u001b[0;32m<ipython-input-43-d2279a883752>\u001b[0m in \u001b[0;36m<module>\u001b[0;34m\u001b[0m\n\u001b[0;32m----> 1\u001b[0;31m \u001b[0mtemp_month\u001b[0m \u001b[0;34m=\u001b[0m \u001b[0mvolume\u001b[0m\u001b[0;34m[\u001b[0m\u001b[0;34m'volume4month'\u001b[0m\u001b[0;34m]\u001b[0m\u001b[0;34m\u001b[0m\u001b[0;34m\u001b[0m\u001b[0m\n\u001b[0m\u001b[1;32m      2\u001b[0m \u001b[0mtemp_hour\u001b[0m \u001b[0;34m=\u001b[0m \u001b[0mvolume\u001b[0m\u001b[0;34m[\u001b[0m\u001b[0;34m'volume4hour'\u001b[0m\u001b[0;34m]\u001b[0m\u001b[0;34m\u001b[0m\u001b[0;34m\u001b[0m\u001b[0m\n\u001b[1;32m      3\u001b[0m \u001b[0mtemp_minute\u001b[0m \u001b[0;34m=\u001b[0m \u001b[0mvolume\u001b[0m\u001b[0;34m[\u001b[0m\u001b[0;34m'volume4minute'\u001b[0m\u001b[0;34m]\u001b[0m\u001b[0;34m\u001b[0m\u001b[0;34m\u001b[0m\u001b[0m\n",
      "\u001b[0;31mKeyError\u001b[0m: 'volume4month'"
     ]
    }
   ],
   "source": [
    "temp_month = volume['volume4month']\n",
    "temp_hour = volume['volume4hour']\n",
    "temp_minute = volume['volume4minute']"
   ]
  },
  {
   "cell_type": "code",
   "execution_count": 46,
   "metadata": {
    "Collapsed": "false"
   },
   "outputs": [
    {
     "ename": "NameError",
     "evalue": "name 'temp_month' is not defined",
     "output_type": "error",
     "traceback": [
      "\u001b[0;31m---------------------------------------------------------------------------\u001b[0m",
      "\u001b[0;31mNameError\u001b[0m                                 Traceback (most recent call last)",
      "\u001b[0;32m<ipython-input-46-c2d2a5aa97f5>\u001b[0m in \u001b[0;36m<module>\u001b[0;34m\u001b[0m\n\u001b[0;32m----> 1\u001b[0;31m \u001b[0mtemp_month\u001b[0m\u001b[0;34m.\u001b[0m\u001b[0mcolumns\u001b[0m \u001b[0;34m=\u001b[0m \u001b[0;34m[\u001b[0m\u001b[0mtemp_month\u001b[0m\u001b[0;34m.\u001b[0m\u001b[0mcolumns\u001b[0m\u001b[0;34m[\u001b[0m\u001b[0;36m0\u001b[0m\u001b[0;34m]\u001b[0m\u001b[0;34m]\u001b[0m \u001b[0;34m+\u001b[0m \u001b[0mlist\u001b[0m\u001b[0;34m(\u001b[0m\u001b[0mmap\u001b[0m\u001b[0;34m(\u001b[0m\u001b[0;32mlambda\u001b[0m \u001b[0mx\u001b[0m \u001b[0;34m:\u001b[0m \u001b[0;34m'월별_'\u001b[0m\u001b[0;34m+\u001b[0m\u001b[0mx\u001b[0m\u001b[0;34m,\u001b[0m \u001b[0mtemp_month\u001b[0m\u001b[0;34m.\u001b[0m\u001b[0mcolumns\u001b[0m\u001b[0;34m[\u001b[0m\u001b[0;36m1\u001b[0m\u001b[0;34m:\u001b[0m\u001b[0;34m]\u001b[0m\u001b[0;34m)\u001b[0m\u001b[0;34m)\u001b[0m\u001b[0;34m\u001b[0m\u001b[0;34m\u001b[0m\u001b[0m\n\u001b[0m\u001b[1;32m      2\u001b[0m \u001b[0mtemp_hour\u001b[0m\u001b[0;34m.\u001b[0m\u001b[0mcolumns\u001b[0m \u001b[0;34m=\u001b[0m \u001b[0;34m[\u001b[0m\u001b[0mtemp_hour\u001b[0m\u001b[0;34m.\u001b[0m\u001b[0mcolumns\u001b[0m\u001b[0;34m[\u001b[0m\u001b[0;36m0\u001b[0m\u001b[0;34m]\u001b[0m\u001b[0;34m]\u001b[0m \u001b[0;34m+\u001b[0m \u001b[0mlist\u001b[0m\u001b[0;34m(\u001b[0m\u001b[0mmap\u001b[0m\u001b[0;34m(\u001b[0m\u001b[0;32mlambda\u001b[0m \u001b[0mx\u001b[0m \u001b[0;34m:\u001b[0m \u001b[0;34m'시간별_'\u001b[0m\u001b[0;34m+\u001b[0m\u001b[0mx\u001b[0m\u001b[0;34m,\u001b[0m \u001b[0mtemp_hour\u001b[0m\u001b[0;34m.\u001b[0m\u001b[0mcolumns\u001b[0m\u001b[0;34m[\u001b[0m\u001b[0;36m1\u001b[0m\u001b[0;34m:\u001b[0m\u001b[0;34m]\u001b[0m\u001b[0;34m)\u001b[0m\u001b[0;34m)\u001b[0m\u001b[0;34m\u001b[0m\u001b[0;34m\u001b[0m\u001b[0m\n\u001b[1;32m      3\u001b[0m \u001b[0mtemp_minute\u001b[0m\u001b[0;34m.\u001b[0m\u001b[0mcolumns\u001b[0m \u001b[0;34m=\u001b[0m \u001b[0;34m[\u001b[0m\u001b[0mtemp_minute\u001b[0m\u001b[0;34m.\u001b[0m\u001b[0mcolumns\u001b[0m\u001b[0;34m[\u001b[0m\u001b[0;36m0\u001b[0m\u001b[0;34m]\u001b[0m\u001b[0;34m]\u001b[0m \u001b[0;34m+\u001b[0m \u001b[0mlist\u001b[0m\u001b[0;34m(\u001b[0m\u001b[0mmap\u001b[0m\u001b[0;34m(\u001b[0m\u001b[0;32mlambda\u001b[0m \u001b[0mx\u001b[0m \u001b[0;34m:\u001b[0m \u001b[0;34m'분별_'\u001b[0m\u001b[0;34m+\u001b[0m\u001b[0mx\u001b[0m\u001b[0;34m,\u001b[0m \u001b[0mtemp_minute\u001b[0m\u001b[0;34m.\u001b[0m\u001b[0mcolumns\u001b[0m\u001b[0;34m[\u001b[0m\u001b[0;36m1\u001b[0m\u001b[0;34m:\u001b[0m\u001b[0;34m]\u001b[0m\u001b[0;34m)\u001b[0m\u001b[0;34m)\u001b[0m\u001b[0;34m\u001b[0m\u001b[0;34m\u001b[0m\u001b[0m\n",
      "\u001b[0;31mNameError\u001b[0m: name 'temp_month' is not defined"
     ]
    }
   ],
   "source": [
    "temp_month.columns = [temp_month.columns[0]] + list(map(lambda x : '월별_'+x, temp_month.columns[1:]))\n",
    "temp_hour.columns = [temp_hour.columns[0]] + list(map(lambda x : '시간별_'+x, temp_hour.columns[1:]))\n",
    "temp_minute.columns = [temp_minute.columns[0]] + list(map(lambda x : '분별_'+x, temp_minute.columns[1:]))"
   ]
  },
  {
   "cell_type": "code",
   "execution_count": 47,
   "metadata": {
    "Collapsed": "false"
   },
   "outputs": [],
   "source": [
    "rate_v3.columns = np.arange(0, 24)\n",
    "rate_v4.columns = np.arange(0, 24)\n",
    "rate_v5.columns = np.arange(0, 24)"
   ]
  },
  {
   "cell_type": "code",
   "execution_count": 48,
   "metadata": {
    "Collapsed": "false"
   },
   "outputs": [],
   "source": [
    "rate_v3 = rate_v3.reset_index().rename(columns = {'index' : '방송일시'})\n",
    "rate_v4 = rate_v4.reset_index().rename(columns = {'index' : '방송일시'})\n",
    "rate_v5 = rate_v5.reset_index().rename(columns = {'index' : '방송일시'})"
   ]
  },
  {
   "cell_type": "code",
   "execution_count": 49,
   "metadata": {
    "Collapsed": "false"
   },
   "outputs": [],
   "source": [
    "rate_v3['방송월'] = pd.to_datetime(rate_v3['방송일시']).dt.month\n",
    "rate_v3['방송일'] = pd.to_datetime(rate_v3['방송일시']).dt.day\n",
    "rate_v4['방송월'] = pd.to_datetime(rate_v4['방송일시']).dt.month\n",
    "rate_v4['방송일'] = pd.to_datetime(rate_v5['방송일시']).dt.day\n",
    "rate_v5['방송월'] = pd.to_datetime(rate_v5['방송일시']).dt.month\n",
    "rate_v5['방송일'] = pd.to_datetime(rate_v5['방송일시']).dt.day"
   ]
  },
  {
   "cell_type": "code",
   "execution_count": 50,
   "metadata": {
    "Collapsed": "false"
   },
   "outputs": [],
   "source": [
    "rate_v6 = rate_v6.reset_index(drop = True).reset_index().rename(columns = {'index' : '방송시간(시간)'})\n",
    "rate_v7 = rate_v7.reset_index(drop = True).reset_index().rename(columns = {'index' : '방송시간(시간)'})\n",
    "rate_v8 = rate_v8.reset_index(drop = True).reset_index().rename(columns = {'index' : '방송시간(시간)'})"
   ]
  },
  {
   "cell_type": "code",
   "execution_count": 512,
   "metadata": {
    "Collapsed": "false"
   },
   "outputs": [
    {
     "data": {
      "text/plain": [
       "['../../0.Data/01_제공데이터/rate4wnd.pkl']"
      ]
     },
     "execution_count": 512,
     "metadata": {},
     "output_type": "execute_result"
    }
   ],
   "source": [
    "joblib.dump({\n",
    "    'rate_v1' : rate_v1,\n",
    "    'rate_v2' : rate_v2,\n",
    "    'rate_v3' : rate_v3,\n",
    "    'rate_v4' : rate_v4,\n",
    "    'rate_v5' : rate_v5,\n",
    "    'rate_v6' : rate_v6,\n",
    "    'rate_v7' : rate_v7,\n",
    "    'rate_v8' : rate_v8,\n",
    "}, os.path.join('..', '..', '0.Data', '01_제공데이터', 'rate4wnd.pkl'))"
   ]
  },
  {
   "cell_type": "markdown",
   "metadata": {
    "Collapsed": "false"
   },
   "source": [
    "# 1. 데이터 전처리"
   ]
  },
  {
   "cell_type": "code",
   "execution_count": 516,
   "metadata": {
    "Collapsed": "false"
   },
   "outputs": [],
   "source": [
    "data = pd.concat([train['X'], test['X']], axis = 0).reset_index(drop = True)"
   ]
  },
  {
   "cell_type": "code",
   "execution_count": 519,
   "metadata": {
    "Collapsed": "false"
   },
   "outputs": [],
   "source": [
    "label = pd.concat([train['label'], test['label']], axis = 0)"
   ]
  },
  {
   "cell_type": "code",
   "execution_count": 518,
   "metadata": {
    "Collapsed": "false"
   },
   "outputs": [],
   "source": [
    "from sklearn.model_selection import train_test_split"
   ]
  },
  {
   "cell_type": "code",
   "execution_count": 522,
   "metadata": {
    "Collapsed": "false"
   },
   "outputs": [],
   "source": [
    "x_train, x_valid, y_train, y_valid = train_test_split(data, label, test_size = 0.2, random_state = 42)"
   ]
  },
  {
   "cell_type": "code",
   "execution_count": 523,
   "metadata": {
    "Collapsed": "false"
   },
   "outputs": [
    {
     "data": {
      "text/plain": [
       "((30476, 298), (7619, 298), (30476,), (7619,))"
      ]
     },
     "execution_count": 523,
     "metadata": {},
     "output_type": "execute_result"
    }
   ],
   "source": [
    "x_train.shape, x_valid.shape, y_train.shape, y_valid.shape"
   ]
  },
  {
   "cell_type": "code",
   "execution_count": 51,
   "metadata": {
    "Collapsed": "false"
   },
   "outputs": [],
   "source": [
    "time4wnd = joblib.load(os.path.join('..', '..', '0.Data', '04_임시데이터', 'time4wnd.pkl'))\n",
    "locals().update(time4wnd)"
   ]
  },
  {
   "cell_type": "code",
   "execution_count": 52,
   "metadata": {
    "Collapsed": "false"
   },
   "outputs": [
    {
     "data": {
      "text/plain": [
       "['방송일시',\n",
       " 'type2_0',\n",
       " 'type2_1',\n",
       " 'type2_2',\n",
       " 'type2_3',\n",
       " 'type2_4',\n",
       " 'type2_5',\n",
       " 'type2_6',\n",
       " 'type2_7',\n",
       " 'type2_8',\n",
       " 'type2_9',\n",
       " 'type2_10',\n",
       " 'type2_11',\n",
       " 'type2_12',\n",
       " 'type2_13',\n",
       " 'type2_14',\n",
       " 'type2_15',\n",
       " 'type2_16',\n",
       " 'type2_17',\n",
       " 'type2_18',\n",
       " 'type2_19',\n",
       " 'type2_20',\n",
       " 'type2_21',\n",
       " 'type2_22',\n",
       " 'type2_23',\n",
       " 'type2_24',\n",
       " 'type2_25',\n",
       " 'type2_26',\n",
       " 'type2_27',\n",
       " 'type2_28',\n",
       " 'type2_29',\n",
       " 'type2_30',\n",
       " 'type2_31',\n",
       " 'type2_32',\n",
       " 'type2_33',\n",
       " 'type2_34',\n",
       " 'type2_35',\n",
       " 'type2_36',\n",
       " 'type2_37',\n",
       " 'type2_38',\n",
       " 'type2_39',\n",
       " 'type2_40',\n",
       " 'type2_41',\n",
       " 'type2_42',\n",
       " 'type2_43',\n",
       " '방송월',\n",
       " '방송일',\n",
       " '방송시간(시간)']"
      ]
     },
     "execution_count": 52,
     "metadata": {},
     "output_type": "execute_result"
    }
   ],
   "source": [
    "list(scale_timeY.columns)"
   ]
  },
  {
   "cell_type": "code",
   "execution_count": 53,
   "metadata": {
    "Collapsed": "false"
   },
   "outputs": [
    {
     "name": "stderr",
     "output_type": "stream",
     "text": [
      "Using TensorFlow backend.\n"
     ]
    }
   ],
   "source": [
    "import pandas as pd\n",
    "import numpy as np\n",
    "from sklearn.preprocessing import StandardScaler, PolynomialFeatures, LabelEncoder, MinMaxScaler\n",
    "from keras.layers import Input, Embedding, Dense, Flatten, Dropout, SpatialDropout1D, Activation, concatenate, Conv2D, Conv1D, Lambda, GlobalMaxPooling1D\n",
    "from keras.optimizers import Adam, SGD\n",
    "from keras.layers.advanced_activations import ReLU, PReLU, LeakyReLU, ELU\n",
    "from keras.layers.normalization import BatchNormalization\n",
    "from keras.callbacks import EarlyStopping, ModelCheckpoint\n",
    "from keras.models import Model\n",
    "from tensorflow.keras.utils import plot_model"
   ]
  },
  {
   "cell_type": "code",
   "execution_count": 54,
   "metadata": {
    "Collapsed": "false"
   },
   "outputs": [],
   "source": [
    "from keras.metrics import top_k_categorical_accuracy, top_k_categorical_accuracy"
   ]
  },
  {
   "cell_type": "code",
   "execution_count": 59,
   "metadata": {
    "Collapsed": "false"
   },
   "outputs": [
    {
     "ename": "KeyError",
     "evalue": "'scale_time1'",
     "output_type": "error",
     "traceback": [
      "\u001b[0;31m---------------------------------------------------------------------------\u001b[0m",
      "\u001b[0;31mKeyError\u001b[0m                                  Traceback (most recent call last)",
      "\u001b[0;32m<ipython-input-59-ec4462ac3dff>\u001b[0m in \u001b[0;36m<module>\u001b[0;34m\u001b[0m\n\u001b[0;32m----> 1\u001b[0;31m \u001b[0mtime4wnd\u001b[0m\u001b[0;34m[\u001b[0m\u001b[0;34m'scale_time1'\u001b[0m\u001b[0;34m]\u001b[0m\u001b[0;34m\u001b[0m\u001b[0;34m\u001b[0m\u001b[0m\n\u001b[0m",
      "\u001b[0;31mKeyError\u001b[0m: 'scale_time1'"
     ]
    }
   ],
   "source": [
    "time4wnd['scale_time1']"
   ]
  },
  {
   "cell_type": "code",
   "execution_count": 55,
   "metadata": {
    "Collapsed": "false"
   },
   "outputs": [
    {
     "data": {
      "text/html": [
       "<div>\n",
       "<style scoped>\n",
       "    .dataframe tbody tr th:only-of-type {\n",
       "        vertical-align: middle;\n",
       "    }\n",
       "\n",
       "    .dataframe tbody tr th {\n",
       "        vertical-align: top;\n",
       "    }\n",
       "\n",
       "    .dataframe thead th {\n",
       "        text-align: right;\n",
       "    }\n",
       "</style>\n",
       "<table border=\"1\" class=\"dataframe\">\n",
       "  <thead>\n",
       "    <tr style=\"text-align: right;\">\n",
       "      <th></th>\n",
       "      <th>방송일시</th>\n",
       "      <th>type2_0</th>\n",
       "      <th>type2_1</th>\n",
       "      <th>type2_2</th>\n",
       "      <th>type2_3</th>\n",
       "      <th>type2_4</th>\n",
       "      <th>type2_5</th>\n",
       "      <th>type2_6</th>\n",
       "      <th>type2_7</th>\n",
       "      <th>type2_8</th>\n",
       "      <th>...</th>\n",
       "      <th>type2_37</th>\n",
       "      <th>type2_38</th>\n",
       "      <th>type2_39</th>\n",
       "      <th>type2_40</th>\n",
       "      <th>type2_41</th>\n",
       "      <th>type2_42</th>\n",
       "      <th>type2_43</th>\n",
       "      <th>방송월</th>\n",
       "      <th>방송일</th>\n",
       "      <th>방송시간(시간)</th>\n",
       "    </tr>\n",
       "  </thead>\n",
       "  <tbody>\n",
       "    <tr>\n",
       "      <th>0</th>\n",
       "      <td>2019-01-01 06:00:00</td>\n",
       "      <td>2.134</td>\n",
       "      <td>-1.606</td>\n",
       "      <td>-0.988</td>\n",
       "      <td>-0.758</td>\n",
       "      <td>0.822</td>\n",
       "      <td>-0.374</td>\n",
       "      <td>0.037</td>\n",
       "      <td>0.012</td>\n",
       "      <td>-0.665</td>\n",
       "      <td>...</td>\n",
       "      <td>-0.132</td>\n",
       "      <td>0.243</td>\n",
       "      <td>-0.290</td>\n",
       "      <td>-0.017</td>\n",
       "      <td>-0.133</td>\n",
       "      <td>0.013</td>\n",
       "      <td>0.218</td>\n",
       "      <td>1</td>\n",
       "      <td>1</td>\n",
       "      <td>6</td>\n",
       "    </tr>\n",
       "    <tr>\n",
       "      <th>1</th>\n",
       "      <td>2019-01-01 07:00:00</td>\n",
       "      <td>2.065</td>\n",
       "      <td>-1.552</td>\n",
       "      <td>-0.898</td>\n",
       "      <td>-0.674</td>\n",
       "      <td>0.878</td>\n",
       "      <td>-0.444</td>\n",
       "      <td>0.128</td>\n",
       "      <td>0.131</td>\n",
       "      <td>-0.493</td>\n",
       "      <td>...</td>\n",
       "      <td>-0.049</td>\n",
       "      <td>0.130</td>\n",
       "      <td>-0.201</td>\n",
       "      <td>0.040</td>\n",
       "      <td>-0.260</td>\n",
       "      <td>0.175</td>\n",
       "      <td>0.180</td>\n",
       "      <td>1</td>\n",
       "      <td>1</td>\n",
       "      <td>7</td>\n",
       "    </tr>\n",
       "    <tr>\n",
       "      <th>2</th>\n",
       "      <td>2019-01-01 08:00:00</td>\n",
       "      <td>2.005</td>\n",
       "      <td>-1.506</td>\n",
       "      <td>-0.846</td>\n",
       "      <td>-0.622</td>\n",
       "      <td>0.894</td>\n",
       "      <td>-0.475</td>\n",
       "      <td>0.216</td>\n",
       "      <td>0.123</td>\n",
       "      <td>-0.412</td>\n",
       "      <td>...</td>\n",
       "      <td>-0.062</td>\n",
       "      <td>0.168</td>\n",
       "      <td>-0.159</td>\n",
       "      <td>0.053</td>\n",
       "      <td>-0.291</td>\n",
       "      <td>0.182</td>\n",
       "      <td>0.150</td>\n",
       "      <td>1</td>\n",
       "      <td>1</td>\n",
       "      <td>8</td>\n",
       "    </tr>\n",
       "    <tr>\n",
       "      <th>3</th>\n",
       "      <td>2019-01-01 09:00:00</td>\n",
       "      <td>2.002</td>\n",
       "      <td>-1.503</td>\n",
       "      <td>-0.841</td>\n",
       "      <td>-0.619</td>\n",
       "      <td>0.895</td>\n",
       "      <td>-0.473</td>\n",
       "      <td>0.222</td>\n",
       "      <td>0.121</td>\n",
       "      <td>-0.405</td>\n",
       "      <td>...</td>\n",
       "      <td>-0.066</td>\n",
       "      <td>0.180</td>\n",
       "      <td>-0.147</td>\n",
       "      <td>0.062</td>\n",
       "      <td>-0.298</td>\n",
       "      <td>0.181</td>\n",
       "      <td>0.142</td>\n",
       "      <td>1</td>\n",
       "      <td>1</td>\n",
       "      <td>9</td>\n",
       "    </tr>\n",
       "    <tr>\n",
       "      <th>4</th>\n",
       "      <td>2019-01-01 10:00:00</td>\n",
       "      <td>1.915</td>\n",
       "      <td>-1.434</td>\n",
       "      <td>-0.765</td>\n",
       "      <td>-0.541</td>\n",
       "      <td>0.917</td>\n",
       "      <td>-0.518</td>\n",
       "      <td>0.353</td>\n",
       "      <td>0.107</td>\n",
       "      <td>-0.280</td>\n",
       "      <td>...</td>\n",
       "      <td>-0.082</td>\n",
       "      <td>0.223</td>\n",
       "      <td>-0.107</td>\n",
       "      <td>0.063</td>\n",
       "      <td>-0.332</td>\n",
       "      <td>0.200</td>\n",
       "      <td>0.102</td>\n",
       "      <td>1</td>\n",
       "      <td>1</td>\n",
       "      <td>10</td>\n",
       "    </tr>\n",
       "    <tr>\n",
       "      <th>...</th>\n",
       "      <td>...</td>\n",
       "      <td>...</td>\n",
       "      <td>...</td>\n",
       "      <td>...</td>\n",
       "      <td>...</td>\n",
       "      <td>...</td>\n",
       "      <td>...</td>\n",
       "      <td>...</td>\n",
       "      <td>...</td>\n",
       "      <td>...</td>\n",
       "      <td>...</td>\n",
       "      <td>...</td>\n",
       "      <td>...</td>\n",
       "      <td>...</td>\n",
       "      <td>...</td>\n",
       "      <td>...</td>\n",
       "      <td>...</td>\n",
       "      <td>...</td>\n",
       "      <td>...</td>\n",
       "      <td>...</td>\n",
       "      <td>...</td>\n",
       "    </tr>\n",
       "    <tr>\n",
       "      <th>7110</th>\n",
       "      <td>2019-12-31 20:00:00</td>\n",
       "      <td>0.540</td>\n",
       "      <td>-0.852</td>\n",
       "      <td>-0.138</td>\n",
       "      <td>-0.118</td>\n",
       "      <td>-0.210</td>\n",
       "      <td>0.381</td>\n",
       "      <td>0.203</td>\n",
       "      <td>-0.003</td>\n",
       "      <td>0.044</td>\n",
       "      <td>...</td>\n",
       "      <td>-0.194</td>\n",
       "      <td>0.034</td>\n",
       "      <td>-0.215</td>\n",
       "      <td>-0.089</td>\n",
       "      <td>-0.035</td>\n",
       "      <td>-0.008</td>\n",
       "      <td>0.036</td>\n",
       "      <td>12</td>\n",
       "      <td>31</td>\n",
       "      <td>20</td>\n",
       "    </tr>\n",
       "    <tr>\n",
       "      <th>7111</th>\n",
       "      <td>2019-12-31 21:00:00</td>\n",
       "      <td>0.548</td>\n",
       "      <td>-0.840</td>\n",
       "      <td>-0.186</td>\n",
       "      <td>-0.139</td>\n",
       "      <td>-0.158</td>\n",
       "      <td>0.422</td>\n",
       "      <td>0.203</td>\n",
       "      <td>0.061</td>\n",
       "      <td>0.143</td>\n",
       "      <td>...</td>\n",
       "      <td>-0.157</td>\n",
       "      <td>-0.019</td>\n",
       "      <td>-0.175</td>\n",
       "      <td>-0.103</td>\n",
       "      <td>-0.009</td>\n",
       "      <td>-0.017</td>\n",
       "      <td>-0.005</td>\n",
       "      <td>12</td>\n",
       "      <td>31</td>\n",
       "      <td>21</td>\n",
       "    </tr>\n",
       "    <tr>\n",
       "      <th>7112</th>\n",
       "      <td>2019-12-31 22:00:00</td>\n",
       "      <td>0.559</td>\n",
       "      <td>-0.832</td>\n",
       "      <td>-0.193</td>\n",
       "      <td>-0.144</td>\n",
       "      <td>-0.096</td>\n",
       "      <td>0.456</td>\n",
       "      <td>0.178</td>\n",
       "      <td>0.051</td>\n",
       "      <td>0.180</td>\n",
       "      <td>...</td>\n",
       "      <td>-0.112</td>\n",
       "      <td>-0.008</td>\n",
       "      <td>-0.129</td>\n",
       "      <td>-0.112</td>\n",
       "      <td>0.013</td>\n",
       "      <td>-0.014</td>\n",
       "      <td>-0.017</td>\n",
       "      <td>12</td>\n",
       "      <td>31</td>\n",
       "      <td>22</td>\n",
       "    </tr>\n",
       "    <tr>\n",
       "      <th>7113</th>\n",
       "      <td>2019-12-31 23:00:00</td>\n",
       "      <td>0.594</td>\n",
       "      <td>-0.898</td>\n",
       "      <td>-0.257</td>\n",
       "      <td>-0.172</td>\n",
       "      <td>-0.068</td>\n",
       "      <td>0.448</td>\n",
       "      <td>0.088</td>\n",
       "      <td>0.073</td>\n",
       "      <td>0.063</td>\n",
       "      <td>...</td>\n",
       "      <td>-0.097</td>\n",
       "      <td>-0.022</td>\n",
       "      <td>-0.078</td>\n",
       "      <td>-0.103</td>\n",
       "      <td>0.012</td>\n",
       "      <td>0.012</td>\n",
       "      <td>0.105</td>\n",
       "      <td>12</td>\n",
       "      <td>31</td>\n",
       "      <td>23</td>\n",
       "    </tr>\n",
       "    <tr>\n",
       "      <th>7114</th>\n",
       "      <td>2020-01-01 00:00:00</td>\n",
       "      <td>0.576</td>\n",
       "      <td>-0.795</td>\n",
       "      <td>-0.118</td>\n",
       "      <td>-0.082</td>\n",
       "      <td>-0.115</td>\n",
       "      <td>0.405</td>\n",
       "      <td>0.202</td>\n",
       "      <td>-0.004</td>\n",
       "      <td>0.077</td>\n",
       "      <td>...</td>\n",
       "      <td>-0.169</td>\n",
       "      <td>0.057</td>\n",
       "      <td>-0.114</td>\n",
       "      <td>-0.077</td>\n",
       "      <td>-0.063</td>\n",
       "      <td>-0.031</td>\n",
       "      <td>0.044</td>\n",
       "      <td>1</td>\n",
       "      <td>1</td>\n",
       "      <td>0</td>\n",
       "    </tr>\n",
       "  </tbody>\n",
       "</table>\n",
       "<p>7115 rows × 48 columns</p>\n",
       "</div>"
      ],
      "text/plain": [
       "                    방송일시  type2_0  type2_1  type2_2  type2_3  type2_4  \\\n",
       "0    2019-01-01 06:00:00    2.134   -1.606   -0.988   -0.758    0.822   \n",
       "1    2019-01-01 07:00:00    2.065   -1.552   -0.898   -0.674    0.878   \n",
       "2    2019-01-01 08:00:00    2.005   -1.506   -0.846   -0.622    0.894   \n",
       "3    2019-01-01 09:00:00    2.002   -1.503   -0.841   -0.619    0.895   \n",
       "4    2019-01-01 10:00:00    1.915   -1.434   -0.765   -0.541    0.917   \n",
       "...                  ...      ...      ...      ...      ...      ...   \n",
       "7110 2019-12-31 20:00:00    0.540   -0.852   -0.138   -0.118   -0.210   \n",
       "7111 2019-12-31 21:00:00    0.548   -0.840   -0.186   -0.139   -0.158   \n",
       "7112 2019-12-31 22:00:00    0.559   -0.832   -0.193   -0.144   -0.096   \n",
       "7113 2019-12-31 23:00:00    0.594   -0.898   -0.257   -0.172   -0.068   \n",
       "7114 2020-01-01 00:00:00    0.576   -0.795   -0.118   -0.082   -0.115   \n",
       "\n",
       "      type2_5  type2_6  type2_7  type2_8  ...  type2_37  type2_38  type2_39  \\\n",
       "0      -0.374    0.037    0.012   -0.665  ...    -0.132     0.243    -0.290   \n",
       "1      -0.444    0.128    0.131   -0.493  ...    -0.049     0.130    -0.201   \n",
       "2      -0.475    0.216    0.123   -0.412  ...    -0.062     0.168    -0.159   \n",
       "3      -0.473    0.222    0.121   -0.405  ...    -0.066     0.180    -0.147   \n",
       "4      -0.518    0.353    0.107   -0.280  ...    -0.082     0.223    -0.107   \n",
       "...       ...      ...      ...      ...  ...       ...       ...       ...   \n",
       "7110    0.381    0.203   -0.003    0.044  ...    -0.194     0.034    -0.215   \n",
       "7111    0.422    0.203    0.061    0.143  ...    -0.157    -0.019    -0.175   \n",
       "7112    0.456    0.178    0.051    0.180  ...    -0.112    -0.008    -0.129   \n",
       "7113    0.448    0.088    0.073    0.063  ...    -0.097    -0.022    -0.078   \n",
       "7114    0.405    0.202   -0.004    0.077  ...    -0.169     0.057    -0.114   \n",
       "\n",
       "      type2_40  type2_41  type2_42  type2_43  방송월  방송일  방송시간(시간)  \n",
       "0       -0.017    -0.133     0.013     0.218    1    1         6  \n",
       "1        0.040    -0.260     0.175     0.180    1    1         7  \n",
       "2        0.053    -0.291     0.182     0.150    1    1         8  \n",
       "3        0.062    -0.298     0.181     0.142    1    1         9  \n",
       "4        0.063    -0.332     0.200     0.102    1    1        10  \n",
       "...        ...       ...       ...       ...  ...  ...       ...  \n",
       "7110    -0.089    -0.035    -0.008     0.036   12   31        20  \n",
       "7111    -0.103    -0.009    -0.017    -0.005   12   31        21  \n",
       "7112    -0.112     0.013    -0.014    -0.017   12   31        22  \n",
       "7113    -0.103     0.012     0.012     0.105   12   31        23  \n",
       "7114    -0.077    -0.063    -0.031     0.044    1    1         0  \n",
       "\n",
       "[7115 rows x 48 columns]"
      ]
     },
     "execution_count": 55,
     "metadata": {},
     "output_type": "execute_result"
    }
   ],
   "source": [
    "scale_timeY"
   ]
  },
  {
   "cell_type": "code",
   "execution_count": 467,
   "metadata": {
    "Collapsed": "false"
   },
   "outputs": [],
   "source": [
    "COLUMNS = ['방송월',\n",
    " '방송일',\n",
    " '방송시간(시간)',\n",
    " '방송시간(분)',\n",
    "#  '합계',\n",
    "#  '컴퓨터 및 주변기기',\n",
    "#  '가전·전자·통신기기',\n",
    "#  '서적',\n",
    "#  '사무·문구',\n",
    "#  '의복',\n",
    "#  '신발',\n",
    "#  '가방',\n",
    "#  '패션용품 및 액세서리',\n",
    "#  '스포츠·레저용품',\n",
    "#  '화장품',\n",
    "#  '아동·유아용품',\n",
    "#  '음·식료품',\n",
    "#  '농축수산물',\n",
    "#  '생활용품',\n",
    "#  '자동차 및 자동차용품',\n",
    "#  '가구',\n",
    "#  '애완용품',\n",
    "#  '여행 및 교통서비스',\n",
    "#  '문화 및 레저서비스',\n",
    "#  'e쿠폰서비스',\n",
    "#  '음식서비스',\n",
    "#  '기타서비스',\n",
    "#  '기타',\n",
    "#  '현재생활형편CSI',\n",
    "#  '현재경기판단CSI',\n",
    "#  '생활형편전망CSI',\n",
    "#  '소비지출전망CSI',\n",
    "#  '주택가격전망CSI',\n",
    "#  '임금수준전망CSI',\n",
    "#  '소비자심리지수',\n",
    " '경상지수',\n",
    " '불변지수',\n",
    " 'pca_1',\n",
    " 'pca_2',\n",
    " 'pca_3',\n",
    " 'pca_4',\n",
    " 'pca_5',\n",
    " '강수량(mm)_경기',\n",
    " '강수량(mm)_광주',\n",
    " '강수량(mm)_대구',\n",
    " '강수량(mm)_대전',\n",
    " '강수량(mm)_부산',\n",
    " '강수량(mm)_서울',\n",
    " '강수량(mm)_울산',\n",
    " '강수량(mm)_인천',\n",
    " '기온(°C)_경기',\n",
    " '기온(°C)_광주',\n",
    " '기온(°C)_대구',\n",
    " '기온(°C)_대전',\n",
    " '기온(°C)_부산',\n",
    " '기온(°C)_서울',\n",
    " '기온(°C)_울산',\n",
    " '기온(°C)_인천',\n",
    " '습도(%)_경기',\n",
    " '습도(%)_광주',\n",
    " '습도(%)_대구',\n",
    " '습도(%)_대전',\n",
    " '습도(%)_부산',\n",
    " '습도(%)_서울',\n",
    " '습도(%)_울산',\n",
    " '습도(%)_인천',\n",
    " '시정(10m)_경기',\n",
    " '시정(10m)_광주',\n",
    " '시정(10m)_대구',\n",
    " '시정(10m)_대전',\n",
    " '시정(10m)_부산',\n",
    " '시정(10m)_서울',\n",
    " '시정(10m)_울산',\n",
    " '시정(10m)_인천',\n",
    " '지면온도(°C)_경기',\n",
    " '지면온도(°C)_광주',\n",
    " '지면온도(°C)_대구',\n",
    " '지면온도(°C)_대전',\n",
    " '지면온도(°C)_부산',\n",
    " '지면온도(°C)_서울',\n",
    " '지면온도(°C)_울산',\n",
    " '지면온도(°C)_인천',\n",
    " '체감온도_경기',\n",
    " '체감온도_광주',\n",
    " '체감온도_대구',\n",
    " '체감온도_대전',\n",
    " '체감온도_부산',\n",
    " '체감온도_서울',\n",
    " '체감온도_울산',\n",
    " '체감온도_인천',\n",
    " '풍속(m/s)_경기',\n",
    " '풍속(m/s)_광주',\n",
    " '풍속(m/s)_대구',\n",
    " '풍속(m/s)_대전',\n",
    " '풍속(m/s)_부산',\n",
    " '풍속(m/s)_서울',\n",
    " '풍속(m/s)_울산',\n",
    " '풍속(m/s)_인천',\n",
    " '최고PM10_경기',\n",
    " '최고PM10_광주',\n",
    " '최고PM10_대구',\n",
    " '최고PM10_대전',\n",
    " '최고PM10_부산',\n",
    " '최고PM10_서울',\n",
    " '최고PM10_울산',\n",
    " '최고PM10_인천',\n",
    " '최고PM25_경기',\n",
    " '최고PM25_광주',\n",
    " '최고PM25_대구',\n",
    " '최고PM25_대전',\n",
    " '최고PM25_부산',\n",
    " '최고PM25_서울',\n",
    " '최고PM25_울산',\n",
    " '최고PM25_인천',\n",
    " '최저PM10_경기',\n",
    " '최저PM10_광주',\n",
    " '최저PM10_대구',\n",
    " '최저PM10_대전',\n",
    " '최저PM10_부산',\n",
    " '최저PM10_서울',\n",
    " '최저PM10_울산',\n",
    " '최저PM10_인천',\n",
    " '최저PM25_경기',\n",
    " '최저PM25_광주',\n",
    " '최저PM25_대구',\n",
    " '최저PM25_대전',\n",
    " '최저PM25_부산',\n",
    " '최저PM25_서울',\n",
    " '최저PM25_울산',\n",
    " '최저PM25_인천',\n",
    " '평균PM10_경기',\n",
    " '평균PM10_광주',\n",
    " '평균PM10_대구',\n",
    " '평균PM10_대전',\n",
    " '평균PM10_부산',\n",
    " '평균PM10_서울',\n",
    " '평균PM10_울산',\n",
    " '평균PM10_인천',\n",
    " '평균PM25_경기',\n",
    " '평균PM25_광주',\n",
    " '평균PM25_대구',\n",
    " '평균PM25_대전',\n",
    " '평균PM25_부산',\n",
    " '평균PM25_서울',\n",
    " '평균PM25_울산',\n",
    " '평균PM25_인천',\n",
    "#  '월별_가구',\n",
    "#  '월별_가전',\n",
    "#  '월별_건강기능',\n",
    "#  '월별_농수축',\n",
    "#  '월별_무형',\n",
    "#  '월별_생활용품',\n",
    "#  '월별_속옷',\n",
    "#  '월별_의류',\n",
    "#  '월별_이미용',\n",
    "#  '월별_잡화',\n",
    "#  '월별_주방',\n",
    "#  '월별_침구',\n",
    " '시간별_가구',\n",
    " '시간별_가전',\n",
    " '시간별_건강기능',\n",
    " '시간별_농수축',\n",
    " '시간별_무형',\n",
    " '시간별_생활용품',\n",
    " '시간별_속옷',\n",
    " '시간별_의류',\n",
    " '시간별_이미용',\n",
    " '시간별_잡화',\n",
    " '시간별_주방',\n",
    " '시간별_침구',\n",
    "#  '분별_가구',\n",
    "#  '분별_가전',\n",
    "#  '분별_건강기능',\n",
    "#  '분별_농수축',\n",
    "#  '분별_무형',\n",
    "#  '분별_생활용품',\n",
    "#  '분별_속옷',\n",
    "#  '분별_의류',\n",
    "#  '분별_이미용',\n",
    "#  '분별_잡화',\n",
    "#  '분별_주방',\n",
    "#  '분별_침구',\n",
    " 'isHoliday',\n",
    " '평일여부',\n",
    " '방송시간대',\n",
    " '계절',\n",
    " '분기',\n",
    " '일별평균시청률',\n",
    " '일별시간별최대시청률',\n",
    " '일별시간별평균시청률',\n",
    " '일별시간별중간시청률',\n",
    " '시간별월별최대시청률',\n",
    " '시간별월별평균시청률',\n",
    " '시간별월별중간시청률',\n",
    " '월별시간별평균판매량',\n",
    " '월별시간별중간판매량',\n",
    " '월별시간별평균판매단가',\n",
    " '월별시간별중간판매단가',\n",
    " '시간별평균판매량',\n",
    " '시간별중간판매량',\n",
    " '시간별평균판매단가',\n",
    " '시간별중간판매단가',\n",
    "#  'ema_s_가구',\n",
    "#  'ema_s_가전',\n",
    "#  'ema_s_건강기능',\n",
    "#  'ema_s_농수축',\n",
    "#  'ema_s_생활용품',\n",
    "#  'ema_s_속옷',\n",
    "#  'ema_s_의류',\n",
    "#  'ema_s_이미용',\n",
    "#  'ema_s_잡화',\n",
    "#  'ema_s_주방',\n",
    "#  'ema_s_침구',\n",
    "#  'ema_m_가구',\n",
    "#  'ema_m_가전',\n",
    "#  'ema_m_건강기능',\n",
    "#  'ema_m_농수축',\n",
    "#  'ema_m_생활용품',\n",
    "#  'ema_m_속옷',\n",
    "#  'ema_m_의류',\n",
    "#  'ema_m_이미용',\n",
    "#  'ema_m_잡화',\n",
    "#  'ema_m_주방',\n",
    "#  'ema_m_침구',\n",
    "#  'ema_l_가구',\n",
    "#  'ema_l_가전',\n",
    "#  'ema_l_건강기능',\n",
    "#  'ema_l_농수축',\n",
    "#  'ema_l_생활용품',\n",
    "#  'ema_l_속옷',\n",
    "#  'ema_l_의류',\n",
    "#  'ema_l_이미용',\n",
    "#  'ema_l_잡화',\n",
    "#  'ema_l_주방',\n",
    "#  'ema_l_침구',\n",
    "#  'macd_가구',\n",
    "#  'macd_가전',\n",
    "#  'macd_건강기능',\n",
    "#  'macd_농수축',\n",
    "#  'macd_생활용품',\n",
    "#  'macd_속옷',\n",
    "#  'macd_의류',\n",
    "#  'macd_이미용',\n",
    "#  'macd_잡화',\n",
    "#  'macd_주방',\n",
    "#  'macd_침구',\n",
    "#  'sig_가구',\n",
    "#  'sig_가전',\n",
    "#  'sig_건강기능',\n",
    "#  'sig_농수축',\n",
    "#  'sig_생활용품',\n",
    "#  'sig_속옷',\n",
    "#  'sig_의류',\n",
    "#  'sig_이미용',\n",
    "#  'sig_잡화',\n",
    "#  'sig_주방',\n",
    "#  'sig_침구',\n",
    "#  'rol14_가구',\n",
    "#  'rol14_가전',\n",
    "#  'rol14_건강기능',\n",
    "#  'rol14_농수축',\n",
    "#  'rol14_생활용품',\n",
    "#  'rol14_속옷',\n",
    "#  'rol14_의류',\n",
    "#  'rol14_이미용',\n",
    "#  'rol14_잡화',\n",
    "#  'rol14_주방',\n",
    "#  'rol14_침구',\n",
    "#  'rol30_가구',\n",
    "#  'rol30_가전',\n",
    "#  'rol30_건강기능',\n",
    "#  'rol30_농수축',\n",
    "#  'rol30_생활용품',\n",
    "#  'rol30_속옷',\n",
    "#  'rol30_의류',\n",
    "#  'rol30_이미용',\n",
    "#  'rol30_잡화',\n",
    "#  'rol30_주방',\n",
    "#  'rol30_침구',\n",
    "#  'ema_sz_가구',\n",
    "#  'ema_sz_가전',\n",
    "#  'ema_sz_건강기능',\n",
    "#  'ema_sz_농수축',\n",
    "#  'ema_sz_생활용품',\n",
    "#  'ema_sz_속옷',\n",
    "#  'ema_sz_의류',\n",
    "#  'ema_sz_이미용',\n",
    "#  'ema_sz_잡화',\n",
    "#  'ema_sz_주방',\n",
    "#  'ema_sz_침구',\n",
    "#  'ema_mz_가구',\n",
    "#  'ema_mz_가전',\n",
    "#  'ema_mz_건강기능',\n",
    "#  'ema_mz_농수축',\n",
    "#  'ema_mz_생활용품',\n",
    "#  'ema_mz_속옷',\n",
    "#  'ema_mz_의류',\n",
    "#  'ema_mz_이미용',\n",
    "#  'ema_mz_잡화',\n",
    "#  'ema_mz_주방',\n",
    "#  'ema_mz_침구',\n",
    "#  'ema_lz_가구',\n",
    "#  'ema_lz_가전',\n",
    "#  'ema_lz_건강기능',\n",
    "#  'ema_lz_농수축',\n",
    "#  'ema_lz_생활용품',\n",
    "#  'ema_lz_속옷',\n",
    "#  'ema_lz_의류',\n",
    "#  'ema_lz_이미용',\n",
    "#  'ema_lz_잡화',\n",
    "#  'ema_lz_주방',\n",
    "#  'ema_lz_침구',\n",
    "#  'macdz_가구',\n",
    "#  'macdz_가전',\n",
    "#  'macdz_건강기능',\n",
    "#  'macdz_농수축',\n",
    "#  'macdz_생활용품',\n",
    "#  'macdz_속옷',\n",
    "#  'macdz_의류',\n",
    "#  'macdz_이미용',\n",
    "#  'macdz_잡화',\n",
    "#  'macdz_주방',\n",
    "#  'macdz_침구',\n",
    "#  'sigz_가구',\n",
    "#  'sigz_가전',\n",
    "#  'sigz_건강기능',\n",
    "#  'sigz_농수축',\n",
    "#  'sigz_생활용품',\n",
    "#  'sigz_속옷',\n",
    "#  'sigz_의류',\n",
    "#  'sigz_이미용',\n",
    "#  'sigz_잡화',\n",
    "#  'sigz_주방',\n",
    "#  'sigz_침구',\n",
    "#  'rol14z_가구',\n",
    "#  'rol14z_가전',\n",
    "#  'rol14z_건강기능',\n",
    "#  'rol14z_농수축',\n",
    "#  'rol14z_생활용품',\n",
    "#  'rol14z_속옷',\n",
    "#  'rol14z_의류',\n",
    "#  'rol14z_이미용',\n",
    "#  'rol14z_잡화',\n",
    "#  'rol14z_주방',\n",
    "#  'rol14z_침구',\n",
    "#  'rol30z_가구',\n",
    "#  'rol30z_가전',\n",
    "#  'rol30z_건강기능',\n",
    "#  'rol30z_농수축',\n",
    "#  'rol30z_생활용품',\n",
    "#  'rol30z_속옷',\n",
    "#  'rol30z_의류',\n",
    "#  'rol30z_이미용',\n",
    "#  'rol30z_잡화',\n",
    "#  'rol30z_주방',\n",
    "#  'rol30z_침구',\n",
    "#  'ema_st_가구',\n",
    "#  'ema_st_가전',\n",
    "#  'ema_st_건강기능',\n",
    "#  'ema_st_농수축',\n",
    "#  'ema_st_생활용품',\n",
    "#  'ema_st_속옷',\n",
    "#  'ema_st_의류',\n",
    "#  'ema_st_이미용',\n",
    "#  'ema_st_잡화',\n",
    "#  'ema_st_주방',\n",
    "#  'ema_st_침구',\n",
    "#  'ema_mt_가구',\n",
    "#  'ema_mt_가전',\n",
    "#  'ema_mt_건강기능',\n",
    "#  'ema_mt_농수축',\n",
    "#  'ema_mt_생활용품',\n",
    "#  'ema_mt_속옷',\n",
    "#  'ema_mt_의류',\n",
    "#  'ema_mt_이미용',\n",
    "#  'ema_mt_잡화',\n",
    "#  'ema_mt_주방',\n",
    "#  'ema_mt_침구',\n",
    "#  'ema_lt_가구',\n",
    "#  'ema_lt_가전',\n",
    "#  'ema_lt_건강기능',\n",
    "#  'ema_lt_농수축',\n",
    "#  'ema_lt_생활용품',\n",
    "#  'ema_lt_속옷',\n",
    "#  'ema_lt_의류',\n",
    "#  'ema_lt_이미용',\n",
    "#  'ema_lt_잡화',\n",
    "#  'ema_lt_주방',\n",
    "#  'ema_lt_침구',\n",
    "#  'macdt_가구',\n",
    "#  'macdt_가전',\n",
    "#  'macdt_건강기능',\n",
    "#  'macdt_농수축',\n",
    "#  'macdt_생활용품',\n",
    "#  'macdt_속옷',\n",
    "#  'macdt_의류',\n",
    "#  'macdt_이미용',\n",
    "#  'macdt_잡화',\n",
    "#  'macdt_주방',\n",
    "#  'macdt_침구',\n",
    "#  'sigt_가구',\n",
    "#  'sigt_가전',\n",
    "#  'sigt_건강기능',\n",
    "#  'sigt_농수축',\n",
    "#  'sigt_생활용품',\n",
    "#  'sigt_속옷',\n",
    "#  'sigt_의류',\n",
    "#  'sigt_이미용',\n",
    "#  'sigt_잡화',\n",
    "#  'sigt_주방',\n",
    "#  'sigt_침구',\n",
    "#  'rol14t_가구',\n",
    "#  'rol14t_가전',\n",
    "#  'rol14t_건강기능',\n",
    "#  'rol14t_농수축',\n",
    "#  'rol14t_생활용품',\n",
    "#  'rol14t_속옷',\n",
    "#  'rol14t_의류',\n",
    "#  'rol14t_이미용',\n",
    "#  'rol14t_잡화',\n",
    "#  'rol14t_주방',\n",
    "#  'rol14t_침구',\n",
    "#  'rol30t_가구',\n",
    "#  'rol30t_가전',\n",
    "#  'rol30t_건강기능',\n",
    "#  'rol30t_농수축',\n",
    "#  'rol30t_생활용품',\n",
    "#  'rol30t_속옷',\n",
    "#  'rol30t_의류',\n",
    "#  'rol30t_이미용',\n",
    "#  'rol30t_잡화',\n",
    "#  'rol30t_주방',\n",
    "#  'rol30t_침구',\n",
    "#  'ema_sa_가구',\n",
    "#  'ema_sa_가전',\n",
    "#  'ema_sa_건강기능',\n",
    "#  'ema_sa_농수축',\n",
    "#  'ema_sa_생활용품',\n",
    "#  'ema_sa_속옷',\n",
    "#  'ema_sa_의류',\n",
    "#  'ema_sa_이미용',\n",
    "#  'ema_sa_잡화',\n",
    "#  'ema_sa_주방',\n",
    "#  'ema_sa_침구',\n",
    "#  'ema_ma_가구',\n",
    "#  'ema_ma_가전',\n",
    "#  'ema_ma_건강기능',\n",
    "#  'ema_ma_농수축',\n",
    "#  'ema_ma_생활용품',\n",
    "#  'ema_ma_속옷',\n",
    "#  'ema_ma_의류',\n",
    "#  'ema_ma_이미용',\n",
    "#  'ema_ma_잡화',\n",
    "#  'ema_ma_주방',\n",
    "#  'ema_ma_침구',\n",
    "#  'ema_la_가구',\n",
    "#  'ema_la_가전',\n",
    "#  'ema_la_건강기능',\n",
    "#  'ema_la_농수축',\n",
    "#  'ema_la_생활용품',\n",
    "#  'ema_la_속옷',\n",
    "#  'ema_la_의류',\n",
    "#  'ema_la_이미용',\n",
    "#  'ema_la_잡화',\n",
    "#  'ema_la_주방',\n",
    "#  'ema_la_침구',\n",
    "#  'macda_가구',\n",
    "#  'macda_가전',\n",
    "#  'macda_건강기능',\n",
    "#  'macda_농수축',\n",
    "#  'macda_생활용품',\n",
    "#  'macda_속옷',\n",
    "#  'macda_의류',\n",
    "#  'macda_이미용',\n",
    "#  'macda_잡화',\n",
    "#  'macda_주방',\n",
    "#  'macda_침구',\n",
    "#  'siga_가구',\n",
    "#  'siga_가전',\n",
    "#  'siga_건강기능',\n",
    "#  'siga_농수축',\n",
    "#  'siga_생활용품',\n",
    "#  'siga_속옷',\n",
    "#  'siga_의류',\n",
    "#  'siga_이미용',\n",
    "#  'siga_잡화',\n",
    "#  'siga_주방',\n",
    "#  'siga_침구',\n",
    "#  'rol14a_가구',\n",
    "#  'rol14a_가전',\n",
    "#  'rol14a_건강기능',\n",
    "#  'rol14a_농수축',\n",
    "#  'rol14a_생활용품',\n",
    "#  'rol14a_속옷',\n",
    "#  'rol14a_의류',\n",
    "#  'rol14a_이미용',\n",
    "#  'rol14a_잡화',\n",
    "#  'rol14a_주방',\n",
    "#  'rol14a_침구',\n",
    "#  'rol30a_가구',\n",
    "#  'rol30a_가전',\n",
    "#  'rol30a_건강기능',\n",
    "#  'rol30a_농수축',\n",
    "#  'rol30a_생활용품',\n",
    "#  'rol30a_속옷',\n",
    "#  'rol30a_의류',\n",
    "#  'rol30a_이미용',\n",
    "#  'rol30a_잡화',\n",
    "#  'rol30a_주방',\n",
    "#  'rol30a_침구',\n",
    "#  'ema_saQ_가구',\n",
    "#  'ema_saQ_가전',\n",
    "#  'ema_saQ_건강기능',\n",
    "#  'ema_saQ_농수축',\n",
    "#  'ema_saQ_생활용품',\n",
    "#  'ema_saQ_속옷',\n",
    "#  'ema_saQ_의류',\n",
    "#  'ema_saQ_이미용',\n",
    "#  'ema_saQ_잡화',\n",
    "#  'ema_saQ_주방',\n",
    "#  'ema_saQ_침구',\n",
    "#  'ema_maQ_가구',\n",
    "#  'ema_maQ_가전',\n",
    "#  'ema_maQ_건강기능',\n",
    "#  'ema_maQ_농수축',\n",
    "#  'ema_maQ_생활용품',\n",
    "#  'ema_maQ_속옷',\n",
    "#  'ema_maQ_의류',\n",
    "#  'ema_maQ_이미용',\n",
    "#  'ema_maQ_잡화',\n",
    "#  'ema_maQ_주방',\n",
    "#  'ema_maQ_침구',\n",
    "#  'ema_laQ_가구',\n",
    "#  'ema_laQ_가전',\n",
    "#  'ema_laQ_건강기능',\n",
    "#  'ema_laQ_농수축',\n",
    "#  'ema_laQ_생활용품',\n",
    "#  'ema_laQ_속옷',\n",
    "#  'ema_laQ_의류',\n",
    "#  'ema_laQ_이미용',\n",
    "#  'ema_laQ_잡화',\n",
    "#  'ema_laQ_주방',\n",
    "#  'ema_laQ_침구',\n",
    "#  'macdaQ_가구',\n",
    "#  'macdaQ_가전',\n",
    "#  'macdaQ_건강기능',\n",
    "#  'macdaQ_농수축',\n",
    "#  'macdaQ_생활용품',\n",
    "#  'macdaQ_속옷',\n",
    "#  'macdaQ_의류',\n",
    "#  'macdaQ_이미용',\n",
    "#  'macdaQ_잡화',\n",
    "#  'macdaQ_주방',\n",
    "#  'macdaQ_침구',\n",
    "#  'sigaQ_가구',\n",
    "#  'sigaQ_가전',\n",
    "#  'sigaQ_건강기능',\n",
    "#  'sigaQ_농수축',\n",
    "#  'sigaQ_생활용품',\n",
    "#  'sigaQ_속옷',\n",
    "#  'sigaQ_의류',\n",
    "#  'sigaQ_이미용',\n",
    "#  'sigaQ_잡화',\n",
    "#  'sigaQ_주방',\n",
    "#  'sigaQ_침구',\n",
    "#  'rol14aQ_가구',\n",
    "#  'rol14aQ_가전',\n",
    "#  'rol14aQ_건강기능',\n",
    "#  'rol14aQ_농수축',\n",
    "#  'rol14aQ_생활용품',\n",
    "#  'rol14aQ_속옷',\n",
    "#  'rol14aQ_의류',\n",
    "#  'rol14aQ_이미용',\n",
    "#  'rol14aQ_잡화',\n",
    "#  'rol14aQ_주방',\n",
    "#  'rol14aQ_침구',\n",
    "#  'rol30aQ_가구',\n",
    "#  'rol30aQ_가전',\n",
    "#  'rol30aQ_건강기능',\n",
    "#  'rol30aQ_농수축',\n",
    "#  'rol30aQ_생활용품',\n",
    "#  'rol30aQ_속옷',\n",
    "#  'rol30aQ_의류',\n",
    "#  'rol30aQ_이미용',\n",
    "#  'rol30aQ_잡화',\n",
    "#  'rol30aQ_주방',\n",
    "#  'rol30aQ_침구',\n",
    "#  'count_가구',\n",
    "#  'count_가전',\n",
    "#  'count_건강기능',\n",
    "#  'count_농수축',\n",
    "#  'count_생활용품',\n",
    "#  'count_속옷',\n",
    "#  'count_의류',\n",
    "#  'count_이미용',\n",
    "#  'count_잡화',\n",
    "#  'count_주방',\n",
    "#  'count_침구',\n",
    "#  'day_가구',\n",
    "#  'day_가전',\n",
    "#  'day_건강기능',\n",
    "#  'day_농수축',\n",
    "#  'day_생활용품',\n",
    "#  'day_속옷',\n",
    "#  'day_의류',\n",
    "#  'day_이미용',\n",
    "#  'day_잡화',\n",
    "#  'day_주방',\n",
    "#  'day_침구',\n",
    " 'hour_가구',\n",
    " 'hour_가전',\n",
    " 'hour_건강기능',\n",
    " 'hour_농수축',\n",
    " 'hour_생활용품',\n",
    " 'hour_속옷',\n",
    " 'hour_의류',\n",
    " 'hour_이미용',\n",
    " 'hour_잡화',\n",
    " 'hour_주방',\n",
    " 'hour_침구',\n",
    " 'type1_0',\n",
    " 'type1_1',\n",
    " 'type1_2',\n",
    " 'type1_3',\n",
    " 'type1_4',\n",
    " 'type1_5',\n",
    " 'type1_6',\n",
    " 'type1_7',\n",
    " 'type1_8',\n",
    " 'type1_9',\n",
    " 'type1_10',\n",
    " 'type1_11',\n",
    " 'type1_12',\n",
    " 'type1_13',\n",
    " 'type1_14',\n",
    " 'type1_15',\n",
    " 'type1_16',\n",
    " 'type1_17',\n",
    " 'type1_18',\n",
    " 'type1_19',\n",
    " 'type1_20',\n",
    " 'type2_0',\n",
    " 'type2_1',\n",
    " 'type2_2',\n",
    " 'type2_3',\n",
    " 'type2_4',\n",
    " 'type2_5',\n",
    " 'type2_6',\n",
    " 'type2_7',\n",
    " 'type2_8',\n",
    " 'type2_9',\n",
    " 'type2_10',\n",
    " 'type2_11',\n",
    " 'type2_12',\n",
    " 'type2_13',\n",
    " 'type2_14',\n",
    " 'type2_15',\n",
    " 'type2_16',\n",
    " 'type2_17',\n",
    " 'type2_18',\n",
    " 'type2_19',\n",
    " 'type2_20',\n",
    " 'type2_21',\n",
    " 'type2_22',\n",
    " 'type2_23',\n",
    " 'type2_24',\n",
    " 'type2_25',\n",
    " 'type2_26',\n",
    " 'type2_27',\n",
    " 'type2_28',\n",
    " 'type2_29',\n",
    " 'type2_30',\n",
    " 'type2_31',\n",
    " 'type2_32',\n",
    " 'type2_33',\n",
    " 'type2_34',\n",
    " 'type2_35',\n",
    " 'type2_36',\n",
    " 'type2_37',\n",
    " 'type2_38',\n",
    " 'type2_39',\n",
    " 'type2_40',\n",
    " 'type2_41',\n",
    " 'type2_42',\n",
    " 'type2_43',\n",
    " 'type2_44',\n",
    " 'type2_45',\n",
    " 'type2_46',\n",
    " 'type2_47',\n",
    " 'type2_48',\n",
    " 'type3_0',\n",
    " 'type3_1',\n",
    " 'type3_2',\n",
    " 'type3_3',\n",
    " 'type3_4',\n",
    " 'type3_5',\n",
    " 'type3_6',\n",
    " 'type3_7',\n",
    " 'type3_8',\n",
    " 'type3_9',\n",
    " 'type3_10'\n",
    "          ]"
   ]
  },
  {
   "cell_type": "code",
   "execution_count": 468,
   "metadata": {
    "Collapsed": "false"
   },
   "outputs": [],
   "source": [
    "CATEGORICAL_COLUMNS = ['isHoliday', '평일여부', '방송시간대', '계절', '분기']\n",
    "CONTINUOUS_COLUMNS = list(set(COLUMNS) - set(CATEGORICAL_COLUMNS))"
   ]
  },
  {
   "cell_type": "code",
   "execution_count": 469,
   "metadata": {
    "Collapsed": "false"
   },
   "outputs": [
    {
     "data": {
      "text/plain": [
       "(239, 5, 234)"
      ]
     },
     "execution_count": 469,
     "metadata": {},
     "output_type": "execute_result"
    }
   ],
   "source": [
    "len(COLUMNS), len(CATEGORICAL_COLUMNS), len(CONTINUOUS_COLUMNS)"
   ]
  },
  {
   "cell_type": "markdown",
   "metadata": {
    "Collapsed": "false"
   },
   "source": [
    "- timeS - 상품군 & 방송날 판매량 평균\n",
    "- timeZ - 상품군 & 방송일시별 판매량 합 \n",
    "- timeT - 상품군 & 방송시간별 판매량 평균\n",
    "- timeA - 상품군 & 방송일시별 취급액 합\n",
    "- timeQ - 상품군 & 방송시간별 취급액 평균"
   ]
  },
  {
   "cell_type": "code",
   "execution_count": 470,
   "metadata": {
    "Collapsed": "false"
   },
   "outputs": [],
   "source": [
    "def getPCA(date, df):\n",
    "    pca = PCA(n_components = 0.95)\n",
    "    \n",
    "    scaler = MinMaxScaler()\n",
    "    raw = pd.DataFrame(scaler.fit_transform(df)).fillna(0)\n",
    "    \n",
    "    df = pd.DataFrame(pca.fit_transform(raw))\n",
    "    \n",
    "    df = pd.concat([date, df], axis = 1)\n",
    "    \n",
    "    return df"
   ]
  },
  {
   "cell_type": "code",
   "execution_count": 359,
   "metadata": {
    "Collapsed": "false"
   },
   "outputs": [],
   "source": [
    "from sklearn.decomposition import PCA"
   ]
  },
  {
   "cell_type": "code",
   "execution_count": 360,
   "metadata": {
    "Collapsed": "false"
   },
   "outputs": [],
   "source": [
    "from sklearn.preprocessing import MinMaxScaler"
   ]
  },
  {
   "cell_type": "code",
   "execution_count": 361,
   "metadata": {
    "Collapsed": "false"
   },
   "outputs": [],
   "source": [
    "scale_timeS = getPCA(timeS[['방송날']], timeS.iloc[:, 1: -3])"
   ]
  },
  {
   "cell_type": "code",
   "execution_count": 362,
   "metadata": {
    "Collapsed": "false"
   },
   "outputs": [],
   "source": [
    "timeY = timeA.merge(timeZ, on = '방송일시', how = 'left')"
   ]
  },
  {
   "cell_type": "code",
   "execution_count": 363,
   "metadata": {
    "Collapsed": "false"
   },
   "outputs": [],
   "source": [
    "scale_timeY = getPCA(timeY[['방송일시']], timeY.iloc[:, 1:])"
   ]
  },
  {
   "cell_type": "code",
   "execution_count": 364,
   "metadata": {
    "Collapsed": "false"
   },
   "outputs": [],
   "source": [
    "timeU = timeT.merge(timeQ, on = '방송시간(시간)', how = 'left')"
   ]
  },
  {
   "cell_type": "code",
   "execution_count": 365,
   "metadata": {
    "Collapsed": "false"
   },
   "outputs": [],
   "source": [
    "scale_timeR = getPCA(timeU[['방송시간(시간)']], timeU.iloc[:, 1:])"
   ]
  },
  {
   "cell_type": "code",
   "execution_count": 366,
   "metadata": {
    "Collapsed": "false"
   },
   "outputs": [],
   "source": [
    "scale_timeS.columns = ['방송날'] + list(map(lambda x : 'type1_' + str(x), scale_timeS.columns[1:]))"
   ]
  },
  {
   "cell_type": "code",
   "execution_count": 367,
   "metadata": {
    "Collapsed": "false"
   },
   "outputs": [],
   "source": [
    "scale_timeY.columns = ['방송일시'] + list(map(lambda x : 'type2_' + str(x), scale_timeY.columns[1:]))"
   ]
  },
  {
   "cell_type": "code",
   "execution_count": 368,
   "metadata": {
    "Collapsed": "false"
   },
   "outputs": [],
   "source": [
    "scale_timeR.columns = ['방송시간(시간)'] + list(map(lambda x : 'type3_' + str(x), scale_timeR.columns[1:]))"
   ]
  },
  {
   "cell_type": "code",
   "execution_count": 369,
   "metadata": {
    "Collapsed": "false"
   },
   "outputs": [],
   "source": [
    "scale_timeS['방송월'] = scale_timeS['방송날'].dt.month\n",
    "scale_timeS['방송일'] = scale_timeS['방송날'].dt.day\n",
    "scale_timeY['방송월'] = scale_timeY['방송일시'].dt.month\n",
    "scale_timeY['방송일'] = scale_timeY['방송일시'].dt.day\n",
    "scale_timeY['방송시간(시간)'] = scale_timeY['방송일시'].dt.hour"
   ]
  },
  {
   "cell_type": "code",
   "execution_count": 513,
   "metadata": {
    "Collapsed": "false"
   },
   "outputs": [
    {
     "data": {
      "text/plain": [
       "['../../0.Data/01_제공데이터/time4wnd.pkl']"
      ]
     },
     "execution_count": 513,
     "metadata": {},
     "output_type": "execute_result"
    }
   ],
   "source": [
    "joblib.dump({\n",
    "    'scale_timeS' : scale_timeS,\n",
    "    'scale_timeY' : scale_timeY,\n",
    "    'scale_timeR' : scale_timeR\n",
    "}, os.path.join('..', '..', '0.Data', '01_제공데이터', 'time4wnd.pkl'))"
   ]
  },
  {
   "cell_type": "code",
   "execution_count": 414,
   "metadata": {
    "Collapsed": "false"
   },
   "outputs": [],
   "source": [
    "scale_timeS = scale_timeS.drop(365)"
   ]
  },
  {
   "cell_type": "code",
   "execution_count": 540,
   "metadata": {
    "Collapsed": "false"
   },
   "outputs": [
    {
     "data": {
      "text/html": [
       "<div>\n",
       "<style scoped>\n",
       "    .dataframe tbody tr th:only-of-type {\n",
       "        vertical-align: middle;\n",
       "    }\n",
       "\n",
       "    .dataframe tbody tr th {\n",
       "        vertical-align: top;\n",
       "    }\n",
       "\n",
       "    .dataframe thead th {\n",
       "        text-align: right;\n",
       "    }\n",
       "</style>\n",
       "<table border=\"1\" class=\"dataframe\">\n",
       "  <thead>\n",
       "    <tr style=\"text-align: right;\">\n",
       "      <th>방송월</th>\n",
       "      <th>방송시간(시간)</th>\n",
       "      <th>1</th>\n",
       "      <th>2</th>\n",
       "      <th>3</th>\n",
       "      <th>4</th>\n",
       "      <th>5</th>\n",
       "      <th>6</th>\n",
       "      <th>7</th>\n",
       "      <th>8</th>\n",
       "      <th>9</th>\n",
       "      <th>10</th>\n",
       "      <th>11</th>\n",
       "      <th>12</th>\n",
       "    </tr>\n",
       "  </thead>\n",
       "  <tbody>\n",
       "    <tr>\n",
       "      <th>0</th>\n",
       "      <td>0</td>\n",
       "      <td>0.007</td>\n",
       "      <td>0.008</td>\n",
       "      <td>0.010</td>\n",
       "      <td>0.007</td>\n",
       "      <td>0.007</td>\n",
       "      <td>0.006</td>\n",
       "      <td>0.032</td>\n",
       "      <td>0.010</td>\n",
       "      <td>0.012</td>\n",
       "      <td>0.012</td>\n",
       "      <td>0.011</td>\n",
       "      <td>0.011</td>\n",
       "    </tr>\n",
       "    <tr>\n",
       "      <th>1</th>\n",
       "      <td>1</td>\n",
       "      <td>0.005</td>\n",
       "      <td>0.008</td>\n",
       "      <td>0.009</td>\n",
       "      <td>0.006</td>\n",
       "      <td>0.005</td>\n",
       "      <td>0.006</td>\n",
       "      <td>0.006</td>\n",
       "      <td>0.006</td>\n",
       "      <td>0.008</td>\n",
       "      <td>0.008</td>\n",
       "      <td>0.011</td>\n",
       "      <td>0.010</td>\n",
       "    </tr>\n",
       "    <tr>\n",
       "      <th>2</th>\n",
       "      <td>2</td>\n",
       "      <td>0.004</td>\n",
       "      <td>0.008</td>\n",
       "      <td>0.006</td>\n",
       "      <td>0.004</td>\n",
       "      <td>0.003</td>\n",
       "      <td>0.004</td>\n",
       "      <td>0.006</td>\n",
       "      <td>0.010</td>\n",
       "      <td>0.008</td>\n",
       "      <td>0.006</td>\n",
       "      <td>0.004</td>\n",
       "      <td>0.008</td>\n",
       "    </tr>\n",
       "    <tr>\n",
       "      <th>3</th>\n",
       "      <td>3</td>\n",
       "      <td>0.003</td>\n",
       "      <td>0.004</td>\n",
       "      <td>0.007</td>\n",
       "      <td>0.006</td>\n",
       "      <td>0.003</td>\n",
       "      <td>0.004</td>\n",
       "      <td>0.009</td>\n",
       "      <td>0.004</td>\n",
       "      <td>0.004</td>\n",
       "      <td>0.006</td>\n",
       "      <td>0.004</td>\n",
       "      <td>0.005</td>\n",
       "    </tr>\n",
       "    <tr>\n",
       "      <th>4</th>\n",
       "      <td>4</td>\n",
       "      <td>0.003</td>\n",
       "      <td>0.003</td>\n",
       "      <td>0.004</td>\n",
       "      <td>0.003</td>\n",
       "      <td>0.005</td>\n",
       "      <td>0.004</td>\n",
       "      <td>0.012</td>\n",
       "      <td>0.005</td>\n",
       "      <td>0.007</td>\n",
       "      <td>0.002</td>\n",
       "      <td>0.004</td>\n",
       "      <td>0.006</td>\n",
       "    </tr>\n",
       "    <tr>\n",
       "      <th>5</th>\n",
       "      <td>5</td>\n",
       "      <td>0.002</td>\n",
       "      <td>0.002</td>\n",
       "      <td>0.004</td>\n",
       "      <td>0.004</td>\n",
       "      <td>0.004</td>\n",
       "      <td>0.004</td>\n",
       "      <td>0.005</td>\n",
       "      <td>0.004</td>\n",
       "      <td>0.004</td>\n",
       "      <td>0.004</td>\n",
       "      <td>0.004</td>\n",
       "      <td>0.003</td>\n",
       "    </tr>\n",
       "    <tr>\n",
       "      <th>6</th>\n",
       "      <td>6</td>\n",
       "      <td>0.003</td>\n",
       "      <td>0.003</td>\n",
       "      <td>0.004</td>\n",
       "      <td>0.005</td>\n",
       "      <td>0.003</td>\n",
       "      <td>0.007</td>\n",
       "      <td>0.029</td>\n",
       "      <td>0.004</td>\n",
       "      <td>0.006</td>\n",
       "      <td>0.010</td>\n",
       "      <td>0.010</td>\n",
       "      <td>0.004</td>\n",
       "    </tr>\n",
       "    <tr>\n",
       "      <th>7</th>\n",
       "      <td>7</td>\n",
       "      <td>0.004</td>\n",
       "      <td>0.007</td>\n",
       "      <td>0.005</td>\n",
       "      <td>0.006</td>\n",
       "      <td>0.006</td>\n",
       "      <td>0.009</td>\n",
       "      <td>0.016</td>\n",
       "      <td>0.009</td>\n",
       "      <td>0.009</td>\n",
       "      <td>0.007</td>\n",
       "      <td>0.008</td>\n",
       "      <td>0.011</td>\n",
       "    </tr>\n",
       "    <tr>\n",
       "      <th>8</th>\n",
       "      <td>8</td>\n",
       "      <td>0.005</td>\n",
       "      <td>0.006</td>\n",
       "      <td>0.008</td>\n",
       "      <td>0.006</td>\n",
       "      <td>0.008</td>\n",
       "      <td>0.006</td>\n",
       "      <td>0.012</td>\n",
       "      <td>0.009</td>\n",
       "      <td>0.009</td>\n",
       "      <td>0.009</td>\n",
       "      <td>0.012</td>\n",
       "      <td>0.007</td>\n",
       "    </tr>\n",
       "    <tr>\n",
       "      <th>9</th>\n",
       "      <td>9</td>\n",
       "      <td>0.005</td>\n",
       "      <td>0.005</td>\n",
       "      <td>0.006</td>\n",
       "      <td>0.006</td>\n",
       "      <td>0.009</td>\n",
       "      <td>0.006</td>\n",
       "      <td>0.016</td>\n",
       "      <td>0.012</td>\n",
       "      <td>0.009</td>\n",
       "      <td>0.012</td>\n",
       "      <td>0.016</td>\n",
       "      <td>0.010</td>\n",
       "    </tr>\n",
       "    <tr>\n",
       "      <th>10</th>\n",
       "      <td>10</td>\n",
       "      <td>0.006</td>\n",
       "      <td>0.007</td>\n",
       "      <td>0.007</td>\n",
       "      <td>0.007</td>\n",
       "      <td>0.010</td>\n",
       "      <td>0.013</td>\n",
       "      <td>0.010</td>\n",
       "      <td>0.022</td>\n",
       "      <td>0.011</td>\n",
       "      <td>0.009</td>\n",
       "      <td>0.013</td>\n",
       "      <td>0.011</td>\n",
       "    </tr>\n",
       "    <tr>\n",
       "      <th>11</th>\n",
       "      <td>11</td>\n",
       "      <td>0.006</td>\n",
       "      <td>0.008</td>\n",
       "      <td>0.006</td>\n",
       "      <td>0.008</td>\n",
       "      <td>0.006</td>\n",
       "      <td>0.010</td>\n",
       "      <td>0.010</td>\n",
       "      <td>0.036</td>\n",
       "      <td>0.020</td>\n",
       "      <td>0.012</td>\n",
       "      <td>0.021</td>\n",
       "      <td>0.012</td>\n",
       "    </tr>\n",
       "    <tr>\n",
       "      <th>12</th>\n",
       "      <td>12</td>\n",
       "      <td>0.005</td>\n",
       "      <td>0.009</td>\n",
       "      <td>0.005</td>\n",
       "      <td>0.005</td>\n",
       "      <td>0.005</td>\n",
       "      <td>0.005</td>\n",
       "      <td>0.009</td>\n",
       "      <td>0.020</td>\n",
       "      <td>0.010</td>\n",
       "      <td>0.007</td>\n",
       "      <td>0.009</td>\n",
       "      <td>0.012</td>\n",
       "    </tr>\n",
       "    <tr>\n",
       "      <th>13</th>\n",
       "      <td>13</td>\n",
       "      <td>0.007</td>\n",
       "      <td>0.008</td>\n",
       "      <td>0.011</td>\n",
       "      <td>0.005</td>\n",
       "      <td>0.010</td>\n",
       "      <td>0.008</td>\n",
       "      <td>0.011</td>\n",
       "      <td>0.017</td>\n",
       "      <td>0.011</td>\n",
       "      <td>0.012</td>\n",
       "      <td>0.012</td>\n",
       "      <td>0.011</td>\n",
       "    </tr>\n",
       "    <tr>\n",
       "      <th>14</th>\n",
       "      <td>14</td>\n",
       "      <td>0.006</td>\n",
       "      <td>0.005</td>\n",
       "      <td>0.010</td>\n",
       "      <td>0.009</td>\n",
       "      <td>0.010</td>\n",
       "      <td>0.011</td>\n",
       "      <td>0.009</td>\n",
       "      <td>0.016</td>\n",
       "      <td>0.021</td>\n",
       "      <td>0.017</td>\n",
       "      <td>0.013</td>\n",
       "      <td>0.011</td>\n",
       "    </tr>\n",
       "    <tr>\n",
       "      <th>15</th>\n",
       "      <td>15</td>\n",
       "      <td>0.009</td>\n",
       "      <td>0.007</td>\n",
       "      <td>0.008</td>\n",
       "      <td>0.007</td>\n",
       "      <td>0.008</td>\n",
       "      <td>0.009</td>\n",
       "      <td>0.012</td>\n",
       "      <td>0.015</td>\n",
       "      <td>0.015</td>\n",
       "      <td>0.013</td>\n",
       "      <td>0.018</td>\n",
       "      <td>0.012</td>\n",
       "    </tr>\n",
       "    <tr>\n",
       "      <th>16</th>\n",
       "      <td>16</td>\n",
       "      <td>0.010</td>\n",
       "      <td>0.008</td>\n",
       "      <td>0.012</td>\n",
       "      <td>0.006</td>\n",
       "      <td>0.008</td>\n",
       "      <td>0.009</td>\n",
       "      <td>0.011</td>\n",
       "      <td>0.014</td>\n",
       "      <td>0.015</td>\n",
       "      <td>0.015</td>\n",
       "      <td>0.009</td>\n",
       "      <td>0.010</td>\n",
       "    </tr>\n",
       "    <tr>\n",
       "      <th>17</th>\n",
       "      <td>17</td>\n",
       "      <td>0.008</td>\n",
       "      <td>0.011</td>\n",
       "      <td>0.008</td>\n",
       "      <td>0.009</td>\n",
       "      <td>0.006</td>\n",
       "      <td>0.009</td>\n",
       "      <td>0.013</td>\n",
       "      <td>0.016</td>\n",
       "      <td>0.021</td>\n",
       "      <td>0.013</td>\n",
       "      <td>0.010</td>\n",
       "      <td>0.013</td>\n",
       "    </tr>\n",
       "    <tr>\n",
       "      <th>18</th>\n",
       "      <td>18</td>\n",
       "      <td>0.009</td>\n",
       "      <td>0.008</td>\n",
       "      <td>0.005</td>\n",
       "      <td>0.006</td>\n",
       "      <td>0.006</td>\n",
       "      <td>0.008</td>\n",
       "      <td>0.012</td>\n",
       "      <td>0.013</td>\n",
       "      <td>0.013</td>\n",
       "      <td>0.010</td>\n",
       "      <td>0.011</td>\n",
       "      <td>0.012</td>\n",
       "    </tr>\n",
       "    <tr>\n",
       "      <th>19</th>\n",
       "      <td>19</td>\n",
       "      <td>0.009</td>\n",
       "      <td>0.005</td>\n",
       "      <td>0.006</td>\n",
       "      <td>0.005</td>\n",
       "      <td>0.008</td>\n",
       "      <td>0.008</td>\n",
       "      <td>0.009</td>\n",
       "      <td>0.011</td>\n",
       "      <td>0.010</td>\n",
       "      <td>0.010</td>\n",
       "      <td>0.013</td>\n",
       "      <td>0.011</td>\n",
       "    </tr>\n",
       "    <tr>\n",
       "      <th>20</th>\n",
       "      <td>20</td>\n",
       "      <td>0.005</td>\n",
       "      <td>0.008</td>\n",
       "      <td>0.005</td>\n",
       "      <td>0.004</td>\n",
       "      <td>0.006</td>\n",
       "      <td>0.007</td>\n",
       "      <td>0.010</td>\n",
       "      <td>0.010</td>\n",
       "      <td>0.010</td>\n",
       "      <td>0.012</td>\n",
       "      <td>0.011</td>\n",
       "      <td>0.010</td>\n",
       "    </tr>\n",
       "    <tr>\n",
       "      <th>21</th>\n",
       "      <td>21</td>\n",
       "      <td>0.006</td>\n",
       "      <td>0.008</td>\n",
       "      <td>0.008</td>\n",
       "      <td>0.006</td>\n",
       "      <td>0.007</td>\n",
       "      <td>0.008</td>\n",
       "      <td>0.013</td>\n",
       "      <td>0.012</td>\n",
       "      <td>0.010</td>\n",
       "      <td>0.009</td>\n",
       "      <td>0.012</td>\n",
       "      <td>0.010</td>\n",
       "    </tr>\n",
       "    <tr>\n",
       "      <th>22</th>\n",
       "      <td>22</td>\n",
       "      <td>0.010</td>\n",
       "      <td>0.008</td>\n",
       "      <td>0.005</td>\n",
       "      <td>0.004</td>\n",
       "      <td>0.005</td>\n",
       "      <td>0.007</td>\n",
       "      <td>0.012</td>\n",
       "      <td>0.010</td>\n",
       "      <td>0.008</td>\n",
       "      <td>0.012</td>\n",
       "      <td>0.012</td>\n",
       "      <td>0.011</td>\n",
       "    </tr>\n",
       "    <tr>\n",
       "      <th>23</th>\n",
       "      <td>23</td>\n",
       "      <td>0.008</td>\n",
       "      <td>0.012</td>\n",
       "      <td>0.006</td>\n",
       "      <td>0.006</td>\n",
       "      <td>0.006</td>\n",
       "      <td>0.009</td>\n",
       "      <td>0.015</td>\n",
       "      <td>0.010</td>\n",
       "      <td>0.016</td>\n",
       "      <td>0.010</td>\n",
       "      <td>0.012</td>\n",
       "      <td>0.013</td>\n",
       "    </tr>\n",
       "  </tbody>\n",
       "</table>\n",
       "</div>"
      ],
      "text/plain": [
       "방송월  방송시간(시간)     1     2     3     4     5     6     7     8     9    10  \\\n",
       "0           0 0.007 0.008 0.010 0.007 0.007 0.006 0.032 0.010 0.012 0.012   \n",
       "1           1 0.005 0.008 0.009 0.006 0.005 0.006 0.006 0.006 0.008 0.008   \n",
       "2           2 0.004 0.008 0.006 0.004 0.003 0.004 0.006 0.010 0.008 0.006   \n",
       "3           3 0.003 0.004 0.007 0.006 0.003 0.004 0.009 0.004 0.004 0.006   \n",
       "4           4 0.003 0.003 0.004 0.003 0.005 0.004 0.012 0.005 0.007 0.002   \n",
       "5           5 0.002 0.002 0.004 0.004 0.004 0.004 0.005 0.004 0.004 0.004   \n",
       "6           6 0.003 0.003 0.004 0.005 0.003 0.007 0.029 0.004 0.006 0.010   \n",
       "7           7 0.004 0.007 0.005 0.006 0.006 0.009 0.016 0.009 0.009 0.007   \n",
       "8           8 0.005 0.006 0.008 0.006 0.008 0.006 0.012 0.009 0.009 0.009   \n",
       "9           9 0.005 0.005 0.006 0.006 0.009 0.006 0.016 0.012 0.009 0.012   \n",
       "10         10 0.006 0.007 0.007 0.007 0.010 0.013 0.010 0.022 0.011 0.009   \n",
       "11         11 0.006 0.008 0.006 0.008 0.006 0.010 0.010 0.036 0.020 0.012   \n",
       "12         12 0.005 0.009 0.005 0.005 0.005 0.005 0.009 0.020 0.010 0.007   \n",
       "13         13 0.007 0.008 0.011 0.005 0.010 0.008 0.011 0.017 0.011 0.012   \n",
       "14         14 0.006 0.005 0.010 0.009 0.010 0.011 0.009 0.016 0.021 0.017   \n",
       "15         15 0.009 0.007 0.008 0.007 0.008 0.009 0.012 0.015 0.015 0.013   \n",
       "16         16 0.010 0.008 0.012 0.006 0.008 0.009 0.011 0.014 0.015 0.015   \n",
       "17         17 0.008 0.011 0.008 0.009 0.006 0.009 0.013 0.016 0.021 0.013   \n",
       "18         18 0.009 0.008 0.005 0.006 0.006 0.008 0.012 0.013 0.013 0.010   \n",
       "19         19 0.009 0.005 0.006 0.005 0.008 0.008 0.009 0.011 0.010 0.010   \n",
       "20         20 0.005 0.008 0.005 0.004 0.006 0.007 0.010 0.010 0.010 0.012   \n",
       "21         21 0.006 0.008 0.008 0.006 0.007 0.008 0.013 0.012 0.010 0.009   \n",
       "22         22 0.010 0.008 0.005 0.004 0.005 0.007 0.012 0.010 0.008 0.012   \n",
       "23         23 0.008 0.012 0.006 0.006 0.006 0.009 0.015 0.010 0.016 0.010   \n",
       "\n",
       "방송월    11    12  \n",
       "0   0.011 0.011  \n",
       "1   0.011 0.010  \n",
       "2   0.004 0.008  \n",
       "3   0.004 0.005  \n",
       "4   0.004 0.006  \n",
       "5   0.004 0.003  \n",
       "6   0.010 0.004  \n",
       "7   0.008 0.011  \n",
       "8   0.012 0.007  \n",
       "9   0.016 0.010  \n",
       "10  0.013 0.011  \n",
       "11  0.021 0.012  \n",
       "12  0.009 0.012  \n",
       "13  0.012 0.011  \n",
       "14  0.013 0.011  \n",
       "15  0.018 0.012  \n",
       "16  0.009 0.010  \n",
       "17  0.010 0.013  \n",
       "18  0.011 0.012  \n",
       "19  0.013 0.011  \n",
       "20  0.011 0.010  \n",
       "21  0.012 0.010  \n",
       "22  0.012 0.011  \n",
       "23  0.012 0.013  "
      ]
     },
     "execution_count": 540,
     "metadata": {},
     "output_type": "execute_result"
    }
   ],
   "source": [
    "rate_v6"
   ]
  },
  {
   "cell_type": "code",
   "execution_count": 471,
   "metadata": {
    "Collapsed": "false"
   },
   "outputs": [],
   "source": [
    "def prep4WnD(train, test):\n",
    "    \n",
    "    x_train = train['X']\n",
    "    train_label = train['label']\n",
    "    train_size = len(x_train)\n",
    "    x_test = test['X']\n",
    "    test_label = test['label']\n",
    "    \n",
    "    data = pd.concat([x_train, x_test], axis = 0)\n",
    "#     label = pd.DataFrame(pd.concat([train['label'], test['label']], axis = 0)).merge(mother, on = '마더코드', how = 'left')['index']\n",
    "#     label = to_categorical(label)\n",
    "    data[['방송월', '방송시간(시간)', '방송시간(분)']] = data[['방송월', '방송시간(시간)', '방송시간(분)']].astype(int)\n",
    "    data = data.merge(temp_month, on = '방송월', how = 'left').merge(temp_hour, on = '방송시간(시간)', how = 'left').merge(temp_minute, on = '방송시간(분)', how = 'left')\n",
    "    data['방송년도'] = 2019\n",
    "#     data =  data.merge(timeS,  on = ['방송년도', '방송월', '방송일'], how = 'left').fillna(0)\n",
    "#     data =  data.merge(timeZ,  on = ['방송년도', '방송월', '방송일', '방송시간(시간)'], how = 'left').fillna(0)\n",
    "#     data =  data.merge(timeT,  on = ['방송시간(시간)'], how = 'left').fillna(0)\n",
    "#     data =  data.merge(timeA,  on = ['방송년도', '방송월', '방송일', '방송시간(시간)'], how = 'left').fillna(0)\n",
    "#     data =  data.merge(timeQ,  on = ['방송시간(시간)'], how = 'left').fillna(0)\n",
    "    print(data.shape[0])\n",
    "    data =  data.merge(scale_timeS,  on = [ '방송월', '방송일'], how = 'left').fillna(0)\n",
    "    print(data.shape[0])\n",
    "    data =  data.merge(scale_timeY,  on = [ '방송월', '방송일', '방송시간(시간)'], how = 'left').fillna(0)\n",
    "    print(data.shape[0])\n",
    "    data =  data.merge(scale_timeR,  on = ['방송시간(시간)'], how = 'left').fillna(0)\n",
    "    print(data.shape[0])\n",
    "    data =  data.drop('방송년도', axis = 1)\n",
    "    \n",
    "    temp = pd.pivot_table(sale, index = '방송시간(시간)', columns = '상품군', values = '판매량', aggfunc = 'count').reset_index()\n",
    "    temp.columns = ['방송시간(시간)'] + list(map(lambda x : 'count_' + x, temp.columns[1:]))\n",
    "    data = data.merge(temp, on = '방송시간(시간)', how = 'left')\n",
    "    \n",
    "#     temp = pd.pivot_table(sale, index = '방송날', columns = '상품군', values = '판매량', aggfunc = 'count').reset_index()\n",
    "#     temp['방송날'] = pd.to_datetime(temp['방송날']).apply(lambda x : x + relativedelta(months=1))\n",
    "#     temp.columns = ['방송날'] + list(map(lambda x : 'day_' + x, temp.columns[1:]))\n",
    "#     temp['방송일'] = temp['방송날'].dt.day\n",
    "#     temp['방송월'] = temp['방송날'].dt.month\n",
    "#     data = data.merge(temp, on = ['방송월', '방송일'], how = 'left')\n",
    "    \n",
    "    temp = pd.pivot_table(sale, index = '방송일시', columns = '상품군', values = '판매량', aggfunc = 'count').reset_index()\n",
    "    temp.columns = ['방송일시'] + list(map(lambda x : 'hour_' + x, temp.columns[1:]))\n",
    "    temp['방송일'] = temp['방송일시'].dt.day\n",
    "    temp['방송월'] = temp['방송일시'].dt.month\n",
    "    temp['방송시간(시간)'] = temp['방송일시'].dt.hour\n",
    "    data = data.merge(temp, on = ['방송월', '방송일', '방송시간(시간)'], how = 'left')\n",
    "    \n",
    "    data = data.fillna(0)\n",
    "    \n",
    "    data = data.merge(rate_v1[['방송월', '방송일', '일별평균시청률']], on = ['방송월', '방송일'], how = 'left')\n",
    "    data['일별시간별최대시청률'] = None\n",
    "    data['일별시간별평균시청률'] = None\n",
    "    data['일별시간별중간시청률'] = None\n",
    "\n",
    "    for m, d, h in tqdm(data[['방송월', '방송일', '방송시간(시간)']].drop_duplicates().values):\n",
    "        max_r = rate_v3.loc[(rate_v3['방송월'] == m) & (rate_v3['방송일'] == d), h].values[0]\n",
    "        min_r = rate_v4.loc[(rate_v4['방송월'] == m) & (rate_v4['방송일'] == d), h].values[0]\n",
    "        med_r = rate_v5.loc[(rate_v5['방송월'] == m) & (rate_v5['방송일'] == d), h].values[0]\n",
    "\n",
    "        data.loc[(data['방송월'] == m) & (data['방송일'] == d) & (data['방송시간(시간)'] == h), ['일별시간별최대시청률', '일별시간별평균시청률', '일별시간별중간시청률']] = [max_r, min_r, med_r]\n",
    "\n",
    "    data['시간별월별최대시청률'] = None\n",
    "    data['시간별월별평균시청률'] = None\n",
    "    data['시간별월별중간시청률'] = None\n",
    "\n",
    "    for m,h in tqdm(data[['방송월', '방송시간(시간)']].drop_duplicates().values):\n",
    "        max_r = rate_v6.loc[(rate_v6['방송시간(시간)'] == h), m].values[0]\n",
    "        min_r = rate_v7.loc[(rate_v7['방송시간(시간)'] == h), m].values[0]\n",
    "        med_r = rate_v8.loc[(rate_v8['방송시간(시간)'] == h), m].values[0]\n",
    "\n",
    "        data.loc[(data['방송월'] == m) & (data['방송시간(시간)'] == h), ['시간별월별최대시청률', '시간별월별평균시청률', '시간별월별중간시청률']] = [max_r, min_r, med_r]\n",
    "    \n",
    "    data = data.merge(volume_v1, left_on = ['방송월', '방송시간(시간)'], right_on = ['방송월', '방송시간'], how = 'left')\n",
    "    data = data.merge(volume_v2, left_on = ['방송시간(시간)'], right_on = ['방송시간'], how = 'left')\n",
    "    data = data.drop(['방송시간_x', '방송시간_y'], axis = 1)\n",
    "    \n",
    "    label = pd.DataFrame(pd.concat([train['label'], test['label']], axis = 0))['상품군'].values\n",
    "    label = pd.get_dummies(label).values\n",
    "#     label = pd.get_dummies(label_v2).values\n",
    "#     train_label = label[:train_size]\n",
    "#     test_label = label[train_size]\n",
    "    \n",
    "    X = data[COLUMNS]\n",
    "    for c in CATEGORICAL_COLUMNS:\n",
    "        le = LabelEncoder()\n",
    "        X[c] = le.fit_transform(X[c])\n",
    "        \n",
    "    x_train = X.iloc[:train_size]\n",
    "    y_train = label[:train_size]\n",
    "    \n",
    "    x_test = X.iloc[train_size:]\n",
    "    y_test = label[train_size:]\n",
    "    \n",
    "    x_train_category = np.array(x_train[CATEGORICAL_COLUMNS])\n",
    "    x_test_category = np.array(x_test[CATEGORICAL_COLUMNS])\n",
    "    x_train_continue = np.array(x_train[CONTINUOUS_COLUMNS], dtype='float64')\n",
    "    x_test_continue = np.array(x_test[CONTINUOUS_COLUMNS], dtype='float64')\n",
    "    \n",
    "    scaler = MinMaxScaler()\n",
    "    x_train_continue = scaler.fit_transform(x_train_continue)\n",
    "    x_test_continue = scaler.transform(x_test_continue)\n",
    "    \n",
    "    poly = PolynomialFeatures(degree=2, interaction_only=True)\n",
    "    x_train_category_poly = poly.fit_transform(x_train_category)\n",
    "    x_test_category_poly = poly.transform(x_test_category)\n",
    "    \n",
    "    data4train = (x_train_continue, x_train_category, x_train_category_poly, y_train)\n",
    "    data4test = (x_test_continue, x_test_category, x_test_category_poly, y_test)\n",
    "\n",
    "    return X, data4train, data4test"
   ]
  },
  {
   "cell_type": "code",
   "execution_count": 597,
   "metadata": {
    "Collapsed": "false"
   },
   "outputs": [
    {
     "name": "stdout",
     "output_type": "stream",
     "text": [
      "38095\n",
      "38153\n",
      "38153\n",
      "38153\n"
     ]
    },
    {
     "name": "stderr",
     "output_type": "stream",
     "text": [
      "100%|██████████| 7148/7148 [00:48<00:00, 147.64it/s]\n",
      "100%|██████████| 244/244 [00:01<00:00, 180.11it/s]\n"
     ]
    },
    {
     "ename": "KeyError",
     "evalue": "\"['type2_44', 'type2_48', 'type2_47', 'type2_46', 'type2_45'] not in index\"",
     "output_type": "error",
     "traceback": [
      "\u001b[0;31m---------------------------------------------------------------------------\u001b[0m",
      "\u001b[0;31mKeyError\u001b[0m                                  Traceback (most recent call last)",
      "\u001b[0;32m<ipython-input-597-f5dc1e9b9a46>\u001b[0m in \u001b[0;36m<module>\u001b[0;34m\u001b[0m\n\u001b[0;32m----> 1\u001b[0;31m \u001b[0mX\u001b[0m\u001b[0;34m,\u001b[0m \u001b[0mdata4train\u001b[0m\u001b[0;34m,\u001b[0m \u001b[0mdata4test\u001b[0m \u001b[0;34m=\u001b[0m \u001b[0mprep4WnD\u001b[0m\u001b[0;34m(\u001b[0m\u001b[0mtrain\u001b[0m\u001b[0;34m,\u001b[0m \u001b[0mtest\u001b[0m\u001b[0;34m)\u001b[0m\u001b[0;34m\u001b[0m\u001b[0;34m\u001b[0m\u001b[0m\n\u001b[0m",
      "\u001b[0;32m<ipython-input-471-ee26cb775e01>\u001b[0m in \u001b[0;36mprep4WnD\u001b[0;34m(train, test)\u001b[0m\n\u001b[1;32m     80\u001b[0m \u001b[0;31m#     test_label = label[train_size]\u001b[0m\u001b[0;34m\u001b[0m\u001b[0;34m\u001b[0m\u001b[0;34m\u001b[0m\u001b[0m\n\u001b[1;32m     81\u001b[0m \u001b[0;34m\u001b[0m\u001b[0m\n\u001b[0;32m---> 82\u001b[0;31m     \u001b[0mX\u001b[0m \u001b[0;34m=\u001b[0m \u001b[0mdata\u001b[0m\u001b[0;34m[\u001b[0m\u001b[0mCOLUMNS\u001b[0m\u001b[0;34m]\u001b[0m\u001b[0;34m\u001b[0m\u001b[0;34m\u001b[0m\u001b[0m\n\u001b[0m\u001b[1;32m     83\u001b[0m     \u001b[0;32mfor\u001b[0m \u001b[0mc\u001b[0m \u001b[0;32min\u001b[0m \u001b[0mCATEGORICAL_COLUMNS\u001b[0m\u001b[0;34m:\u001b[0m\u001b[0;34m\u001b[0m\u001b[0;34m\u001b[0m\u001b[0m\n\u001b[1;32m     84\u001b[0m         \u001b[0mle\u001b[0m \u001b[0;34m=\u001b[0m \u001b[0mLabelEncoder\u001b[0m\u001b[0;34m(\u001b[0m\u001b[0;34m)\u001b[0m\u001b[0;34m\u001b[0m\u001b[0;34m\u001b[0m\u001b[0m\n",
      "\u001b[0;32m~/opt/anaconda3/lib/python3.7/site-packages/pandas/core/frame.py\u001b[0m in \u001b[0;36m__getitem__\u001b[0;34m(self, key)\u001b[0m\n\u001b[1;32m   2804\u001b[0m             \u001b[0;32mif\u001b[0m \u001b[0mis_iterator\u001b[0m\u001b[0;34m(\u001b[0m\u001b[0mkey\u001b[0m\u001b[0;34m)\u001b[0m\u001b[0;34m:\u001b[0m\u001b[0;34m\u001b[0m\u001b[0;34m\u001b[0m\u001b[0m\n\u001b[1;32m   2805\u001b[0m                 \u001b[0mkey\u001b[0m \u001b[0;34m=\u001b[0m \u001b[0mlist\u001b[0m\u001b[0;34m(\u001b[0m\u001b[0mkey\u001b[0m\u001b[0;34m)\u001b[0m\u001b[0;34m\u001b[0m\u001b[0;34m\u001b[0m\u001b[0m\n\u001b[0;32m-> 2806\u001b[0;31m             \u001b[0mindexer\u001b[0m \u001b[0;34m=\u001b[0m \u001b[0mself\u001b[0m\u001b[0;34m.\u001b[0m\u001b[0mloc\u001b[0m\u001b[0;34m.\u001b[0m\u001b[0m_get_listlike_indexer\u001b[0m\u001b[0;34m(\u001b[0m\u001b[0mkey\u001b[0m\u001b[0;34m,\u001b[0m \u001b[0maxis\u001b[0m\u001b[0;34m=\u001b[0m\u001b[0;36m1\u001b[0m\u001b[0;34m,\u001b[0m \u001b[0mraise_missing\u001b[0m\u001b[0;34m=\u001b[0m\u001b[0;32mTrue\u001b[0m\u001b[0;34m)\u001b[0m\u001b[0;34m[\u001b[0m\u001b[0;36m1\u001b[0m\u001b[0;34m]\u001b[0m\u001b[0;34m\u001b[0m\u001b[0;34m\u001b[0m\u001b[0m\n\u001b[0m\u001b[1;32m   2807\u001b[0m \u001b[0;34m\u001b[0m\u001b[0m\n\u001b[1;32m   2808\u001b[0m         \u001b[0;31m# take() does not accept boolean indexers\u001b[0m\u001b[0;34m\u001b[0m\u001b[0;34m\u001b[0m\u001b[0;34m\u001b[0m\u001b[0m\n",
      "\u001b[0;32m~/opt/anaconda3/lib/python3.7/site-packages/pandas/core/indexing.py\u001b[0m in \u001b[0;36m_get_listlike_indexer\u001b[0;34m(self, key, axis, raise_missing)\u001b[0m\n\u001b[1;32m   1550\u001b[0m \u001b[0;34m\u001b[0m\u001b[0m\n\u001b[1;32m   1551\u001b[0m         self._validate_read_indexer(\n\u001b[0;32m-> 1552\u001b[0;31m             \u001b[0mkeyarr\u001b[0m\u001b[0;34m,\u001b[0m \u001b[0mindexer\u001b[0m\u001b[0;34m,\u001b[0m \u001b[0mo\u001b[0m\u001b[0;34m.\u001b[0m\u001b[0m_get_axis_number\u001b[0m\u001b[0;34m(\u001b[0m\u001b[0maxis\u001b[0m\u001b[0;34m)\u001b[0m\u001b[0;34m,\u001b[0m \u001b[0mraise_missing\u001b[0m\u001b[0;34m=\u001b[0m\u001b[0mraise_missing\u001b[0m\u001b[0;34m\u001b[0m\u001b[0;34m\u001b[0m\u001b[0m\n\u001b[0m\u001b[1;32m   1553\u001b[0m         )\n\u001b[1;32m   1554\u001b[0m         \u001b[0;32mreturn\u001b[0m \u001b[0mkeyarr\u001b[0m\u001b[0;34m,\u001b[0m \u001b[0mindexer\u001b[0m\u001b[0;34m\u001b[0m\u001b[0;34m\u001b[0m\u001b[0m\n",
      "\u001b[0;32m~/opt/anaconda3/lib/python3.7/site-packages/pandas/core/indexing.py\u001b[0m in \u001b[0;36m_validate_read_indexer\u001b[0;34m(self, key, indexer, axis, raise_missing)\u001b[0m\n\u001b[1;32m   1643\u001b[0m             \u001b[0;32mif\u001b[0m \u001b[0;32mnot\u001b[0m \u001b[0;34m(\u001b[0m\u001b[0mself\u001b[0m\u001b[0;34m.\u001b[0m\u001b[0mname\u001b[0m \u001b[0;34m==\u001b[0m \u001b[0;34m\"loc\"\u001b[0m \u001b[0;32mand\u001b[0m \u001b[0;32mnot\u001b[0m \u001b[0mraise_missing\u001b[0m\u001b[0;34m)\u001b[0m\u001b[0;34m:\u001b[0m\u001b[0;34m\u001b[0m\u001b[0;34m\u001b[0m\u001b[0m\n\u001b[1;32m   1644\u001b[0m                 \u001b[0mnot_found\u001b[0m \u001b[0;34m=\u001b[0m \u001b[0mlist\u001b[0m\u001b[0;34m(\u001b[0m\u001b[0mset\u001b[0m\u001b[0;34m(\u001b[0m\u001b[0mkey\u001b[0m\u001b[0;34m)\u001b[0m \u001b[0;34m-\u001b[0m \u001b[0mset\u001b[0m\u001b[0;34m(\u001b[0m\u001b[0max\u001b[0m\u001b[0;34m)\u001b[0m\u001b[0;34m)\u001b[0m\u001b[0;34m\u001b[0m\u001b[0;34m\u001b[0m\u001b[0m\n\u001b[0;32m-> 1645\u001b[0;31m                 \u001b[0;32mraise\u001b[0m \u001b[0mKeyError\u001b[0m\u001b[0;34m(\u001b[0m\u001b[0;34mf\"{not_found} not in index\"\u001b[0m\u001b[0;34m)\u001b[0m\u001b[0;34m\u001b[0m\u001b[0;34m\u001b[0m\u001b[0m\n\u001b[0m\u001b[1;32m   1646\u001b[0m \u001b[0;34m\u001b[0m\u001b[0m\n\u001b[1;32m   1647\u001b[0m             \u001b[0;31m# we skip the warning on Categorical/Interval\u001b[0m\u001b[0;34m\u001b[0m\u001b[0;34m\u001b[0m\u001b[0;34m\u001b[0m\u001b[0m\n",
      "\u001b[0;31mKeyError\u001b[0m: \"['type2_44', 'type2_48', 'type2_47', 'type2_46', 'type2_45'] not in index\""
     ]
    }
   ],
   "source": [
    "X, data4train, data4test = prep4WnD(train, test)"
   ]
  },
  {
   "cell_type": "code",
   "execution_count": 596,
   "metadata": {
    "Collapsed": "false"
   },
   "outputs": [
    {
     "data": {
      "text/html": [
       "<div>\n",
       "<style scoped>\n",
       "    .dataframe tbody tr th:only-of-type {\n",
       "        vertical-align: middle;\n",
       "    }\n",
       "\n",
       "    .dataframe tbody tr th {\n",
       "        vertical-align: top;\n",
       "    }\n",
       "\n",
       "    .dataframe thead th {\n",
       "        text-align: right;\n",
       "    }\n",
       "</style>\n",
       "<table border=\"1\" class=\"dataframe\">\n",
       "  <thead>\n",
       "    <tr style=\"text-align: right;\">\n",
       "      <th></th>\n",
       "      <th>노출(분)</th>\n",
       "      <th>상품군</th>\n",
       "      <th>판매단가</th>\n",
       "      <th>결제방법</th>\n",
       "      <th>성별</th>\n",
       "      <th>NS카테고리</th>\n",
       "      <th>NEW_최고판매단가</th>\n",
       "      <th>NEW_최저판매단가</th>\n",
       "      <th>NEW_중간판매단가</th>\n",
       "      <th>NEW_최고-최저</th>\n",
       "      <th>...</th>\n",
       "      <th>평균PM10_울산</th>\n",
       "      <th>평균PM10_인천</th>\n",
       "      <th>평균PM25_경기</th>\n",
       "      <th>평균PM25_광주</th>\n",
       "      <th>평균PM25_대구</th>\n",
       "      <th>평균PM25_대전</th>\n",
       "      <th>평균PM25_부산</th>\n",
       "      <th>평균PM25_서울</th>\n",
       "      <th>평균PM25_울산</th>\n",
       "      <th>평균PM25_인천</th>\n",
       "    </tr>\n",
       "  </thead>\n",
       "  <tbody>\n",
       "    <tr>\n",
       "      <th>0</th>\n",
       "      <td>20.000</td>\n",
       "      <td>의류</td>\n",
       "      <td>39900</td>\n",
       "      <td>0.0</td>\n",
       "      <td>1.0</td>\n",
       "      <td>남성의류</td>\n",
       "      <td>39900.000</td>\n",
       "      <td>39900.000</td>\n",
       "      <td>39900.000</td>\n",
       "      <td>0.000</td>\n",
       "      <td>...</td>\n",
       "      <td>28.471</td>\n",
       "      <td>39.000</td>\n",
       "      <td>31.146</td>\n",
       "      <td>22.750</td>\n",
       "      <td>21.867</td>\n",
       "      <td>39.818</td>\n",
       "      <td>22.792</td>\n",
       "      <td>29.000</td>\n",
       "      <td>18.824</td>\n",
       "      <td>25.625</td>\n",
       "    </tr>\n",
       "    <tr>\n",
       "      <th>1</th>\n",
       "      <td>20.000</td>\n",
       "      <td>의류</td>\n",
       "      <td>39900</td>\n",
       "      <td>0.0</td>\n",
       "      <td>2.0</td>\n",
       "      <td>여성의류</td>\n",
       "      <td>39900.000</td>\n",
       "      <td>39900.000</td>\n",
       "      <td>39900.000</td>\n",
       "      <td>0.000</td>\n",
       "      <td>...</td>\n",
       "      <td>28.471</td>\n",
       "      <td>39.000</td>\n",
       "      <td>31.146</td>\n",
       "      <td>22.750</td>\n",
       "      <td>21.867</td>\n",
       "      <td>39.818</td>\n",
       "      <td>22.792</td>\n",
       "      <td>29.000</td>\n",
       "      <td>18.824</td>\n",
       "      <td>25.625</td>\n",
       "    </tr>\n",
       "    <tr>\n",
       "      <th>2</th>\n",
       "      <td>20.000</td>\n",
       "      <td>의류</td>\n",
       "      <td>39900</td>\n",
       "      <td>0.0</td>\n",
       "      <td>1.0</td>\n",
       "      <td>남성의류</td>\n",
       "      <td>39900.000</td>\n",
       "      <td>39900.000</td>\n",
       "      <td>39900.000</td>\n",
       "      <td>0.000</td>\n",
       "      <td>...</td>\n",
       "      <td>28.471</td>\n",
       "      <td>39.000</td>\n",
       "      <td>31.146</td>\n",
       "      <td>22.750</td>\n",
       "      <td>21.867</td>\n",
       "      <td>39.818</td>\n",
       "      <td>22.792</td>\n",
       "      <td>29.000</td>\n",
       "      <td>18.824</td>\n",
       "      <td>25.625</td>\n",
       "    </tr>\n",
       "    <tr>\n",
       "      <th>3</th>\n",
       "      <td>20.000</td>\n",
       "      <td>의류</td>\n",
       "      <td>39900</td>\n",
       "      <td>0.0</td>\n",
       "      <td>2.0</td>\n",
       "      <td>여성의류</td>\n",
       "      <td>39900.000</td>\n",
       "      <td>39900.000</td>\n",
       "      <td>39900.000</td>\n",
       "      <td>0.000</td>\n",
       "      <td>...</td>\n",
       "      <td>28.471</td>\n",
       "      <td>39.000</td>\n",
       "      <td>31.146</td>\n",
       "      <td>22.750</td>\n",
       "      <td>21.867</td>\n",
       "      <td>39.818</td>\n",
       "      <td>22.792</td>\n",
       "      <td>29.000</td>\n",
       "      <td>18.824</td>\n",
       "      <td>25.625</td>\n",
       "    </tr>\n",
       "    <tr>\n",
       "      <th>4</th>\n",
       "      <td>20.000</td>\n",
       "      <td>의류</td>\n",
       "      <td>39900</td>\n",
       "      <td>0.0</td>\n",
       "      <td>1.0</td>\n",
       "      <td>남성의류</td>\n",
       "      <td>39900.000</td>\n",
       "      <td>39900.000</td>\n",
       "      <td>39900.000</td>\n",
       "      <td>0.000</td>\n",
       "      <td>...</td>\n",
       "      <td>28.471</td>\n",
       "      <td>39.000</td>\n",
       "      <td>31.146</td>\n",
       "      <td>22.750</td>\n",
       "      <td>21.867</td>\n",
       "      <td>39.818</td>\n",
       "      <td>22.792</td>\n",
       "      <td>29.000</td>\n",
       "      <td>18.824</td>\n",
       "      <td>25.625</td>\n",
       "    </tr>\n",
       "    <tr>\n",
       "      <th>...</th>\n",
       "      <td>...</td>\n",
       "      <td>...</td>\n",
       "      <td>...</td>\n",
       "      <td>...</td>\n",
       "      <td>...</td>\n",
       "      <td>...</td>\n",
       "      <td>...</td>\n",
       "      <td>...</td>\n",
       "      <td>...</td>\n",
       "      <td>...</td>\n",
       "      <td>...</td>\n",
       "      <td>...</td>\n",
       "      <td>...</td>\n",
       "      <td>...</td>\n",
       "      <td>...</td>\n",
       "      <td>...</td>\n",
       "      <td>...</td>\n",
       "      <td>...</td>\n",
       "      <td>...</td>\n",
       "      <td>...</td>\n",
       "      <td>...</td>\n",
       "    </tr>\n",
       "    <tr>\n",
       "      <th>38299</th>\n",
       "      <td>20.000</td>\n",
       "      <td>주방</td>\n",
       "      <td>148000</td>\n",
       "      <td>1.0</td>\n",
       "      <td>0.0</td>\n",
       "      <td>주방가전</td>\n",
       "      <td>158000.000</td>\n",
       "      <td>148000.000</td>\n",
       "      <td>153000.000</td>\n",
       "      <td>10000.000</td>\n",
       "      <td>...</td>\n",
       "      <td>13.882</td>\n",
       "      <td>22.107</td>\n",
       "      <td>15.103</td>\n",
       "      <td>9.100</td>\n",
       "      <td>10.867</td>\n",
       "      <td>9.167</td>\n",
       "      <td>8.615</td>\n",
       "      <td>15.342</td>\n",
       "      <td>6.529</td>\n",
       "      <td>13.370</td>\n",
       "    </tr>\n",
       "    <tr>\n",
       "      <th>38300</th>\n",
       "      <td>20.000</td>\n",
       "      <td>주방</td>\n",
       "      <td>178000</td>\n",
       "      <td>2.0</td>\n",
       "      <td>0.0</td>\n",
       "      <td>주방가전</td>\n",
       "      <td>178000.000</td>\n",
       "      <td>168000.000</td>\n",
       "      <td>173000.000</td>\n",
       "      <td>10000.000</td>\n",
       "      <td>...</td>\n",
       "      <td>16.176</td>\n",
       "      <td>34.429</td>\n",
       "      <td>13.745</td>\n",
       "      <td>44.636</td>\n",
       "      <td>7.375</td>\n",
       "      <td>19.417</td>\n",
       "      <td>11.538</td>\n",
       "      <td>9.800</td>\n",
       "      <td>8.176</td>\n",
       "      <td>20.214</td>\n",
       "    </tr>\n",
       "    <tr>\n",
       "      <th>38301</th>\n",
       "      <td>20.000</td>\n",
       "      <td>주방</td>\n",
       "      <td>168000</td>\n",
       "      <td>1.0</td>\n",
       "      <td>0.0</td>\n",
       "      <td>주방가전</td>\n",
       "      <td>178000.000</td>\n",
       "      <td>168000.000</td>\n",
       "      <td>173000.000</td>\n",
       "      <td>10000.000</td>\n",
       "      <td>...</td>\n",
       "      <td>16.176</td>\n",
       "      <td>34.429</td>\n",
       "      <td>13.745</td>\n",
       "      <td>44.636</td>\n",
       "      <td>7.375</td>\n",
       "      <td>19.417</td>\n",
       "      <td>11.538</td>\n",
       "      <td>9.800</td>\n",
       "      <td>8.176</td>\n",
       "      <td>20.214</td>\n",
       "    </tr>\n",
       "    <tr>\n",
       "      <th>38302</th>\n",
       "      <td>20.000</td>\n",
       "      <td>주방</td>\n",
       "      <td>158000</td>\n",
       "      <td>2.0</td>\n",
       "      <td>0.0</td>\n",
       "      <td>주방가전</td>\n",
       "      <td>158000.000</td>\n",
       "      <td>148000.000</td>\n",
       "      <td>153000.000</td>\n",
       "      <td>10000.000</td>\n",
       "      <td>...</td>\n",
       "      <td>16.176</td>\n",
       "      <td>34.429</td>\n",
       "      <td>13.745</td>\n",
       "      <td>44.636</td>\n",
       "      <td>7.375</td>\n",
       "      <td>19.417</td>\n",
       "      <td>11.538</td>\n",
       "      <td>9.800</td>\n",
       "      <td>8.176</td>\n",
       "      <td>20.214</td>\n",
       "    </tr>\n",
       "    <tr>\n",
       "      <th>38303</th>\n",
       "      <td>20.000</td>\n",
       "      <td>주방</td>\n",
       "      <td>148000</td>\n",
       "      <td>1.0</td>\n",
       "      <td>0.0</td>\n",
       "      <td>주방가전</td>\n",
       "      <td>158000.000</td>\n",
       "      <td>148000.000</td>\n",
       "      <td>153000.000</td>\n",
       "      <td>10000.000</td>\n",
       "      <td>...</td>\n",
       "      <td>16.176</td>\n",
       "      <td>34.429</td>\n",
       "      <td>13.745</td>\n",
       "      <td>44.636</td>\n",
       "      <td>7.375</td>\n",
       "      <td>19.417</td>\n",
       "      <td>11.538</td>\n",
       "      <td>9.800</td>\n",
       "      <td>8.176</td>\n",
       "      <td>20.214</td>\n",
       "    </tr>\n",
       "  </tbody>\n",
       "</table>\n",
       "<p>35379 rows × 298 columns</p>\n",
       "</div>"
      ],
      "text/plain": [
       "       노출(분) 상품군    판매단가 결제방법   성별 NS카테고리  NEW_최고판매단가  NEW_최저판매단가  NEW_중간판매단가  \\\n",
       "0     20.000  의류   39900  0.0  1.0   남성의류   39900.000   39900.000   39900.000   \n",
       "1     20.000  의류   39900  0.0  2.0   여성의류   39900.000   39900.000   39900.000   \n",
       "2     20.000  의류   39900  0.0  1.0   남성의류   39900.000   39900.000   39900.000   \n",
       "3     20.000  의류   39900  0.0  2.0   여성의류   39900.000   39900.000   39900.000   \n",
       "4     20.000  의류   39900  0.0  1.0   남성의류   39900.000   39900.000   39900.000   \n",
       "...      ...  ..     ...  ...  ...    ...         ...         ...         ...   \n",
       "38299 20.000  주방  148000  1.0  0.0   주방가전  158000.000  148000.000  153000.000   \n",
       "38300 20.000  주방  178000  2.0  0.0   주방가전  178000.000  168000.000  173000.000   \n",
       "38301 20.000  주방  168000  1.0  0.0   주방가전  178000.000  168000.000  173000.000   \n",
       "38302 20.000  주방  158000  2.0  0.0   주방가전  158000.000  148000.000  153000.000   \n",
       "38303 20.000  주방  148000  1.0  0.0   주방가전  158000.000  148000.000  153000.000   \n",
       "\n",
       "       NEW_최고-최저  ... 평균PM10_울산 평균PM10_인천  평균PM25_경기  평균PM25_광주  평균PM25_대구  \\\n",
       "0          0.000  ...    28.471    39.000     31.146     22.750     21.867   \n",
       "1          0.000  ...    28.471    39.000     31.146     22.750     21.867   \n",
       "2          0.000  ...    28.471    39.000     31.146     22.750     21.867   \n",
       "3          0.000  ...    28.471    39.000     31.146     22.750     21.867   \n",
       "4          0.000  ...    28.471    39.000     31.146     22.750     21.867   \n",
       "...          ...  ...       ...       ...        ...        ...        ...   \n",
       "38299  10000.000  ...    13.882    22.107     15.103      9.100     10.867   \n",
       "38300  10000.000  ...    16.176    34.429     13.745     44.636      7.375   \n",
       "38301  10000.000  ...    16.176    34.429     13.745     44.636      7.375   \n",
       "38302  10000.000  ...    16.176    34.429     13.745     44.636      7.375   \n",
       "38303  10000.000  ...    16.176    34.429     13.745     44.636      7.375   \n",
       "\n",
       "       평균PM25_대전  평균PM25_부산  평균PM25_서울  평균PM25_울산  평균PM25_인천  \n",
       "0         39.818     22.792     29.000     18.824     25.625  \n",
       "1         39.818     22.792     29.000     18.824     25.625  \n",
       "2         39.818     22.792     29.000     18.824     25.625  \n",
       "3         39.818     22.792     29.000     18.824     25.625  \n",
       "4         39.818     22.792     29.000     18.824     25.625  \n",
       "...          ...        ...        ...        ...        ...  \n",
       "38299      9.167      8.615     15.342      6.529     13.370  \n",
       "38300     19.417     11.538      9.800      8.176     20.214  \n",
       "38301     19.417     11.538      9.800      8.176     20.214  \n",
       "38302     19.417     11.538      9.800      8.176     20.214  \n",
       "38303     19.417     11.538      9.800      8.176     20.214  \n",
       "\n",
       "[35379 rows x 298 columns]"
      ]
     },
     "execution_count": 596,
     "metadata": {},
     "output_type": "execute_result"
    }
   ],
   "source": [
    "train['X']"
   ]
  },
  {
   "cell_type": "code",
   "execution_count": 475,
   "metadata": {
    "Collapsed": "false"
   },
   "outputs": [],
   "source": [
    "x_train_continue, x_train_category, x_train_category_poly, train_label = data4train[0], data4train[1], data4train[2], data4train[3]\n",
    "x_test_continue, x_test_category, x_test_category_poly, test_label = data4test[0], data4test[1], data4test[2], data4test[3]"
   ]
  },
  {
   "cell_type": "code",
   "execution_count": 476,
   "metadata": {
    "Collapsed": "false"
   },
   "outputs": [],
   "source": [
    "def get_deep_model(data):\n",
    "\n",
    "    category_inputs = []\n",
    "    category_embeds = []\n",
    "    # 카테고리컬 데이터 임베딩\n",
    "    for i in range(len(CATEGORICAL_COLUMNS)):\n",
    "        input_i = Input(shape=(1,), dtype='int32')\n",
    "        dim = len(np.unique(data[CATEGORICAL_COLUMNS[i]]))\n",
    "        embed_dim = int(np.ceil(dim ** 0.5)) # embedding 차원을 0.5배 정도로 해서 한다.\n",
    "        embed_i = Embedding(dim, embed_dim, input_length=1)(input_i)\n",
    "        flatten_i = Flatten()(embed_i)\n",
    "        category_inputs.append(input_i)\n",
    "        category_embeds.append(flatten_i)\n",
    "    # continuous 데이터 input\n",
    "    continue_input = Input(shape=(len(CONTINUOUS_COLUMNS),))\n",
    "#     embed_posts = Embedding(512, 256)(continue_input)\n",
    "#     continue_conv1D = Conv1D(256, 1, activation='relu')(embed_posts)\n",
    "#     continue_GMP = GlobalMaxPooling1D()(continue_conv1D)\n",
    "    continue_dense = Dense(256, use_bias=False)(continue_input)\n",
    "    \n",
    "    # category와 continue를 합침\n",
    "    concat_embeds = concatenate([continue_dense] + category_embeds)\n",
    "#     embed_posts = Embedding(512, 256)(concat_embeds)\n",
    "#     continue_conv1D = Conv1D(256, 1, activation='relu')(embed_posts)\n",
    "#     continue_GMP = GlobalMaxPooling1D()(continue_conv1D)\n",
    "    concat_embeds = Activation('relu')(concat_embeds)\n",
    "    bn_concat = BatchNormalization()(concat_embeds)\n",
    "\n",
    "    fc1 = Dense(512, use_bias=False)(bn_concat)\n",
    "    relu1 = ReLU()(fc1)\n",
    "    bn1 = BatchNormalization()(relu1)\n",
    "    \n",
    "    fc2 = Dense(256, use_bias=False)(bn1)\n",
    "    relu2 = ReLU()(fc2)\n",
    "    bn2 = BatchNormalization()(relu2)\n",
    "    \n",
    "    fc3 = Dense(128)(bn2)\n",
    "    relu3 = ReLU()(fc3)\n",
    "#     bn3 = BatchNormalization()(relu3)\n",
    "    \n",
    "#     fc4 = Dense(256)(bn3)\n",
    "#     relu4 = ReLU()(fc4)\n",
    "    \n",
    "    return category_inputs, continue_input, relu3"
   ]
  },
  {
   "cell_type": "code",
   "execution_count": 477,
   "metadata": {
    "Collapsed": "false"
   },
   "outputs": [],
   "source": [
    "def get_wide_model():\n",
    "    dim = x_train_category_poly.shape[1]\n",
    "    return Input(shape=(dim,))"
   ]
  },
  {
   "cell_type": "code",
   "execution_count": 478,
   "metadata": {
    "Collapsed": "false"
   },
   "outputs": [],
   "source": [
    "category_inputs, continue_input, deep_model = get_deep_model(X)\n",
    "wide_model = get_wide_model()"
   ]
  },
  {
   "cell_type": "code",
   "execution_count": 479,
   "metadata": {
    "Collapsed": "false"
   },
   "outputs": [],
   "source": [
    "out_layer = concatenate([deep_model, wide_model])\n",
    "inputs = [continue_input] + category_inputs + [wide_model]\n",
    "output = Dense(len(train_label[0]), activation='softmax')(out_layer)\n",
    "model = Model(inputs=inputs, outputs=output)"
   ]
  },
  {
   "cell_type": "code",
   "execution_count": 480,
   "metadata": {
    "Collapsed": "false"
   },
   "outputs": [
    {
     "name": "stdout",
     "output_type": "stream",
     "text": [
      "Model: \"model_12\"\n",
      "__________________________________________________________________________________________________\n",
      "Layer (type)                    Output Shape         Param #     Connected to                     \n",
      "==================================================================================================\n",
      "input_78 (InputLayer)           (None, 1)            0                                            \n",
      "__________________________________________________________________________________________________\n",
      "input_79 (InputLayer)           (None, 1)            0                                            \n",
      "__________________________________________________________________________________________________\n",
      "input_80 (InputLayer)           (None, 1)            0                                            \n",
      "__________________________________________________________________________________________________\n",
      "input_81 (InputLayer)           (None, 1)            0                                            \n",
      "__________________________________________________________________________________________________\n",
      "input_82 (InputLayer)           (None, 1)            0                                            \n",
      "__________________________________________________________________________________________________\n",
      "input_83 (InputLayer)           (None, 234)          0                                            \n",
      "__________________________________________________________________________________________________\n",
      "embedding_56 (Embedding)        (None, 1, 2)         4           input_78[0][0]                   \n",
      "__________________________________________________________________________________________________\n",
      "embedding_57 (Embedding)        (None, 1, 2)         4           input_79[0][0]                   \n",
      "__________________________________________________________________________________________________\n",
      "embedding_58 (Embedding)        (None, 1, 3)         15          input_80[0][0]                   \n",
      "__________________________________________________________________________________________________\n",
      "embedding_59 (Embedding)        (None, 1, 2)         8           input_81[0][0]                   \n",
      "__________________________________________________________________________________________________\n",
      "embedding_60 (Embedding)        (None, 1, 2)         8           input_82[0][0]                   \n",
      "__________________________________________________________________________________________________\n",
      "dense_57 (Dense)                (None, 256)          59904       input_83[0][0]                   \n",
      "__________________________________________________________________________________________________\n",
      "flatten_56 (Flatten)            (None, 2)            0           embedding_56[0][0]               \n",
      "__________________________________________________________________________________________________\n",
      "flatten_57 (Flatten)            (None, 2)            0           embedding_57[0][0]               \n",
      "__________________________________________________________________________________________________\n",
      "flatten_58 (Flatten)            (None, 3)            0           embedding_58[0][0]               \n",
      "__________________________________________________________________________________________________\n",
      "flatten_59 (Flatten)            (None, 2)            0           embedding_59[0][0]               \n",
      "__________________________________________________________________________________________________\n",
      "flatten_60 (Flatten)            (None, 2)            0           embedding_60[0][0]               \n",
      "__________________________________________________________________________________________________\n",
      "concatenate_23 (Concatenate)    (None, 267)          0           dense_57[0][0]                   \n",
      "                                                                 flatten_56[0][0]                 \n",
      "                                                                 flatten_57[0][0]                 \n",
      "                                                                 flatten_58[0][0]                 \n",
      "                                                                 flatten_59[0][0]                 \n",
      "                                                                 flatten_60[0][0]                 \n",
      "__________________________________________________________________________________________________\n",
      "activation_12 (Activation)      (None, 267)          0           concatenate_23[0][0]             \n",
      "__________________________________________________________________________________________________\n",
      "batch_normalization_35 (BatchNo (None, 267)          1068        activation_12[0][0]              \n",
      "__________________________________________________________________________________________________\n",
      "dense_58 (Dense)                (None, 512)          136704      batch_normalization_35[0][0]     \n",
      "__________________________________________________________________________________________________\n",
      "re_lu_35 (ReLU)                 (None, 512)          0           dense_58[0][0]                   \n",
      "__________________________________________________________________________________________________\n",
      "batch_normalization_36 (BatchNo (None, 512)          2048        re_lu_35[0][0]                   \n",
      "__________________________________________________________________________________________________\n",
      "dense_59 (Dense)                (None, 256)          131072      batch_normalization_36[0][0]     \n",
      "__________________________________________________________________________________________________\n",
      "re_lu_36 (ReLU)                 (None, 256)          0           dense_59[0][0]                   \n",
      "__________________________________________________________________________________________________\n",
      "batch_normalization_37 (BatchNo (None, 256)          1024        re_lu_36[0][0]                   \n",
      "__________________________________________________________________________________________________\n",
      "dense_60 (Dense)                (None, 128)          32896       batch_normalization_37[0][0]     \n",
      "__________________________________________________________________________________________________\n",
      "re_lu_37 (ReLU)                 (None, 128)          0           dense_60[0][0]                   \n",
      "__________________________________________________________________________________________________\n",
      "input_84 (InputLayer)           (None, 16)           0                                            \n",
      "__________________________________________________________________________________________________\n",
      "concatenate_24 (Concatenate)    (None, 144)          0           re_lu_37[0][0]                   \n",
      "                                                                 input_84[0][0]                   \n",
      "__________________________________________________________________________________________________\n",
      "dense_61 (Dense)                (None, 11)           1595        concatenate_24[0][0]             \n",
      "==================================================================================================\n",
      "Total params: 366,350\n",
      "Trainable params: 364,280\n",
      "Non-trainable params: 2,070\n",
      "__________________________________________________________________________________________________\n"
     ]
    }
   ],
   "source": [
    "model.summary()"
   ]
  },
  {
   "cell_type": "code",
   "execution_count": 500,
   "metadata": {
    "Collapsed": "false"
   },
   "outputs": [],
   "source": [
    "early_stopping = EarlyStopping(monitor='val_top_3_categorical_accuracy', patience = 100)"
   ]
  },
  {
   "cell_type": "code",
   "execution_count": 501,
   "metadata": {
    "Collapsed": "false"
   },
   "outputs": [],
   "source": [
    "input_data = [x_train_continue] + [x_train_category[:, i] for i in range(x_train_category.shape[1])] + [x_train_category_poly]"
   ]
  },
  {
   "cell_type": "code",
   "execution_count": 502,
   "metadata": {
    "Collapsed": "false"
   },
   "outputs": [],
   "source": [
    "epochs = 500\n",
    "optimizer = Adam(learning_rate=0.01)\n",
    "batch_size = 64"
   ]
  },
  {
   "cell_type": "code",
   "execution_count": 503,
   "metadata": {
    "Collapsed": "false"
   },
   "outputs": [],
   "source": [
    "def top_3_categorical_accuracy(y_true, y_pred):\n",
    "    return top_k_categorical_accuracy(y_true, y_pred, k=5)"
   ]
  },
  {
   "cell_type": "code",
   "execution_count": 504,
   "metadata": {
    "Collapsed": "false"
   },
   "outputs": [
    {
     "data": {
      "text/plain": [
       "((35379, 11), (2716, 11))"
      ]
     },
     "execution_count": 504,
     "metadata": {},
     "output_type": "execute_result"
    }
   ],
   "source": [
    "train_label.shape, test_label.shape"
   ]
  },
  {
   "cell_type": "code",
   "execution_count": 505,
   "metadata": {
    "Collapsed": "false"
   },
   "outputs": [
    {
     "name": "stdout",
     "output_type": "stream",
     "text": [
      "Train on 28303 samples, validate on 7076 samples\n",
      "Epoch 1/500\n",
      "28303/28303 [==============================] - 3s 123us/step - loss: 2.0687 - accuracy: 0.2793 - top_3_categorical_accuracy: 0.7968 - val_loss: nan - val_accuracy: 0.1523 - val_top_3_categorical_accuracy: 0.6217\n",
      "Epoch 2/500\n",
      "28303/28303 [==============================] - 3s 97us/step - loss: 2.0607 - accuracy: 0.2812 - top_3_categorical_accuracy: 0.7961 - val_loss: nan - val_accuracy: 0.1523 - val_top_3_categorical_accuracy: 0.6210\n",
      "Epoch 3/500\n",
      "28303/28303 [==============================] - 3s 97us/step - loss: 2.0592 - accuracy: 0.2821 - top_3_categorical_accuracy: 0.8003 - val_loss: nan - val_accuracy: 0.1514 - val_top_3_categorical_accuracy: 0.6410\n",
      "Epoch 4/500\n",
      "28303/28303 [==============================] - 3s 96us/step - loss: 2.0616 - accuracy: 0.2793 - top_3_categorical_accuracy: 0.7992 - val_loss: nan - val_accuracy: 0.1401 - val_top_3_categorical_accuracy: 0.6446\n",
      "Epoch 5/500\n",
      "28303/28303 [==============================] - 3s 96us/step - loss: 2.0603 - accuracy: 0.2788 - top_3_categorical_accuracy: 0.7974 - val_loss: nan - val_accuracy: 0.1422 - val_top_3_categorical_accuracy: 0.6321\n",
      "Epoch 6/500\n",
      "28303/28303 [==============================] - 3s 96us/step - loss: 2.0588 - accuracy: 0.2827 - top_3_categorical_accuracy: 0.7992 - val_loss: nan - val_accuracy: 0.0993 - val_top_3_categorical_accuracy: 0.6365\n",
      "Epoch 7/500\n",
      "28303/28303 [==============================] - 3s 98us/step - loss: 2.0600 - accuracy: 0.2822 - top_3_categorical_accuracy: 0.8008 - val_loss: nan - val_accuracy: 0.1734 - val_top_3_categorical_accuracy: 0.6724\n",
      "Epoch 8/500\n",
      "28303/28303 [==============================] - 3s 98us/step - loss: 2.0615 - accuracy: 0.2835 - top_3_categorical_accuracy: 0.7977 - val_loss: nan - val_accuracy: 0.1490 - val_top_3_categorical_accuracy: 0.6471\n",
      "Epoch 9/500\n",
      "28303/28303 [==============================] - 3s 95us/step - loss: 2.0590 - accuracy: 0.2828 - top_3_categorical_accuracy: 0.7997 - val_loss: nan - val_accuracy: 0.1596 - val_top_3_categorical_accuracy: 0.6478\n",
      "Epoch 10/500\n",
      "28303/28303 [==============================] - 3s 98us/step - loss: 2.0602 - accuracy: 0.2849 - top_3_categorical_accuracy: 0.7981 - val_loss: nan - val_accuracy: 0.1361 - val_top_3_categorical_accuracy: 0.6382\n",
      "Epoch 11/500\n",
      "28303/28303 [==============================] - 3s 96us/step - loss: 2.0605 - accuracy: 0.2829 - top_3_categorical_accuracy: 0.7975 - val_loss: nan - val_accuracy: 0.1723 - val_top_3_categorical_accuracy: 0.6357\n",
      "Epoch 12/500\n",
      "28303/28303 [==============================] - 3s 95us/step - loss: 2.0627 - accuracy: 0.2826 - top_3_categorical_accuracy: 0.7977 - val_loss: nan - val_accuracy: 0.1793 - val_top_3_categorical_accuracy: 0.6374\n",
      "Epoch 13/500\n",
      "28303/28303 [==============================] - 3s 97us/step - loss: 2.0595 - accuracy: 0.2825 - top_3_categorical_accuracy: 0.7981 - val_loss: nan - val_accuracy: 0.1689 - val_top_3_categorical_accuracy: 0.6491\n",
      "Epoch 14/500\n",
      "28303/28303 [==============================] - 3s 96us/step - loss: 2.0591 - accuracy: 0.2845 - top_3_categorical_accuracy: 0.7984 - val_loss: nan - val_accuracy: 0.1604 - val_top_3_categorical_accuracy: 0.6475\n",
      "Epoch 15/500\n",
      "28303/28303 [==============================] - 3s 96us/step - loss: 2.0597 - accuracy: 0.2857 - top_3_categorical_accuracy: 0.7991 - val_loss: nan - val_accuracy: 0.1403 - val_top_3_categorical_accuracy: 0.6392\n",
      "Epoch 16/500\n",
      "28303/28303 [==============================] - 3s 101us/step - loss: 2.0601 - accuracy: 0.2839 - top_3_categorical_accuracy: 0.7967 - val_loss: nan - val_accuracy: 0.1856 - val_top_3_categorical_accuracy: 0.6644\n",
      "Epoch 17/500\n",
      "28303/28303 [==============================] - 3s 96us/step - loss: 2.0623 - accuracy: 0.2767 - top_3_categorical_accuracy: 0.7984 - val_loss: nan - val_accuracy: 0.1539 - val_top_3_categorical_accuracy: 0.6237\n",
      "Epoch 18/500\n",
      "28303/28303 [==============================] - 3s 91us/step - loss: 2.0588 - accuracy: 0.2854 - top_3_categorical_accuracy: 0.8007 - val_loss: nan - val_accuracy: 0.1539 - val_top_3_categorical_accuracy: 0.6241\n",
      "Epoch 19/500\n",
      "28303/28303 [==============================] - 3s 89us/step - loss: 2.0599 - accuracy: 0.2835 - top_3_categorical_accuracy: 0.7967 - val_loss: nan - val_accuracy: 0.1680 - val_top_3_categorical_accuracy: 0.6692\n",
      "Epoch 20/500\n",
      "28303/28303 [==============================] - 2s 88us/step - loss: 2.0606 - accuracy: 0.2822 - top_3_categorical_accuracy: 0.7984 - val_loss: nan - val_accuracy: 0.1460 - val_top_3_categorical_accuracy: 0.6669\n",
      "Epoch 21/500\n",
      "28303/28303 [==============================] - 3s 89us/step - loss: 2.0608 - accuracy: 0.2810 - top_3_categorical_accuracy: 0.7991 - val_loss: nan - val_accuracy: 0.1588 - val_top_3_categorical_accuracy: 0.6166\n",
      "Epoch 22/500\n",
      "28303/28303 [==============================] - 3s 92us/step - loss: 2.0590 - accuracy: 0.2863 - top_3_categorical_accuracy: 0.7986 - val_loss: nan - val_accuracy: 0.1612 - val_top_3_categorical_accuracy: 0.6307\n",
      "Epoch 23/500\n",
      "28303/28303 [==============================] - 2s 87us/step - loss: 2.0578 - accuracy: 0.2856 - top_3_categorical_accuracy: 0.7982 - val_loss: nan - val_accuracy: 0.1840 - val_top_3_categorical_accuracy: 0.6214\n",
      "Epoch 24/500\n",
      "28303/28303 [==============================] - 2s 86us/step - loss: 2.0626 - accuracy: 0.2775 - top_3_categorical_accuracy: 0.7983 - val_loss: nan - val_accuracy: 0.1539 - val_top_3_categorical_accuracy: 0.6533\n",
      "Epoch 25/500\n",
      "28303/28303 [==============================] - 2s 86us/step - loss: 2.0596 - accuracy: 0.2809 - top_3_categorical_accuracy: 0.7973 - val_loss: nan - val_accuracy: 0.1456 - val_top_3_categorical_accuracy: 0.6385\n",
      "Epoch 26/500\n",
      "28303/28303 [==============================] - 3s 89us/step - loss: 2.0594 - accuracy: 0.2795 - top_3_categorical_accuracy: 0.8003 - val_loss: nan - val_accuracy: 0.1706 - val_top_3_categorical_accuracy: 0.6047\n",
      "Epoch 27/500\n",
      "28303/28303 [==============================] - 2s 86us/step - loss: 2.0588 - accuracy: 0.2815 - top_3_categorical_accuracy: 0.7966 - val_loss: nan - val_accuracy: 0.1487 - val_top_3_categorical_accuracy: 0.6549\n",
      "Epoch 28/500\n",
      "28303/28303 [==============================] - 2s 86us/step - loss: 2.0607 - accuracy: 0.2845 - top_3_categorical_accuracy: 0.7991 - val_loss: nan - val_accuracy: 0.1661 - val_top_3_categorical_accuracy: 0.6768\n",
      "Epoch 29/500\n",
      "28303/28303 [==============================] - 2s 87us/step - loss: 2.0594 - accuracy: 0.2823 - top_3_categorical_accuracy: 0.7981 - val_loss: nan - val_accuracy: 0.1523 - val_top_3_categorical_accuracy: 0.6385\n",
      "Epoch 30/500\n",
      "28303/28303 [==============================] - 2s 88us/step - loss: 2.0601 - accuracy: 0.2835 - top_3_categorical_accuracy: 0.7994 - val_loss: nan - val_accuracy: 0.1401 - val_top_3_categorical_accuracy: 0.6334\n",
      "Epoch 31/500\n",
      "28303/28303 [==============================] - 2s 87us/step - loss: 2.0622 - accuracy: 0.2811 - top_3_categorical_accuracy: 0.7976 - val_loss: nan - val_accuracy: 0.1491 - val_top_3_categorical_accuracy: 0.6422\n",
      "Epoch 32/500\n",
      "28303/28303 [==============================] - 2s 86us/step - loss: 2.0608 - accuracy: 0.2819 - top_3_categorical_accuracy: 0.7976 - val_loss: nan - val_accuracy: 0.1687 - val_top_3_categorical_accuracy: 0.6502\n",
      "Epoch 33/500\n",
      "28303/28303 [==============================] - 2s 86us/step - loss: 2.0605 - accuracy: 0.2817 - top_3_categorical_accuracy: 0.7990 - val_loss: nan - val_accuracy: 0.1603 - val_top_3_categorical_accuracy: 0.6430\n",
      "Epoch 34/500\n",
      "28303/28303 [==============================] - 2s 86us/step - loss: 2.0607 - accuracy: 0.2806 - top_3_categorical_accuracy: 0.7986 - val_loss: nan - val_accuracy: 0.1758 - val_top_3_categorical_accuracy: 0.6815\n",
      "Epoch 35/500\n",
      "28303/28303 [==============================] - 2s 86us/step - loss: 2.0592 - accuracy: 0.2829 - top_3_categorical_accuracy: 0.7970 - val_loss: nan - val_accuracy: 0.1552 - val_top_3_categorical_accuracy: 0.6126\n",
      "Epoch 36/500\n",
      "28303/28303 [==============================] - 2s 86us/step - loss: 2.0584 - accuracy: 0.2855 - top_3_categorical_accuracy: 0.7990 - val_loss: nan - val_accuracy: 0.1286 - val_top_3_categorical_accuracy: 0.6379\n",
      "Epoch 37/500\n",
      "28303/28303 [==============================] - 2s 87us/step - loss: 2.0606 - accuracy: 0.2834 - top_3_categorical_accuracy: 0.7974 - val_loss: nan - val_accuracy: 0.1656 - val_top_3_categorical_accuracy: 0.7251\n",
      "Epoch 38/500\n",
      "28303/28303 [==============================] - 2s 86us/step - loss: 2.0607 - accuracy: 0.2841 - top_3_categorical_accuracy: 0.7986 - val_loss: nan - val_accuracy: 0.1508 - val_top_3_categorical_accuracy: 0.6432\n",
      "Epoch 39/500\n",
      "28303/28303 [==============================] - 2s 87us/step - loss: 2.0596 - accuracy: 0.2848 - top_3_categorical_accuracy: 0.7987 - val_loss: nan - val_accuracy: 0.1474 - val_top_3_categorical_accuracy: 0.6244\n",
      "Epoch 40/500\n",
      "28303/28303 [==============================] - 2s 86us/step - loss: 2.0617 - accuracy: 0.2809 - top_3_categorical_accuracy: 0.7964 - val_loss: nan - val_accuracy: 0.1721 - val_top_3_categorical_accuracy: 0.6491\n",
      "Epoch 41/500\n",
      "28303/28303 [==============================] - 2s 87us/step - loss: 2.0605 - accuracy: 0.2834 - top_3_categorical_accuracy: 0.7997 - val_loss: nan - val_accuracy: 0.1655 - val_top_3_categorical_accuracy: 0.6516\n",
      "Epoch 42/500\n",
      "28303/28303 [==============================] - 2s 87us/step - loss: 2.0601 - accuracy: 0.2802 - top_3_categorical_accuracy: 0.7984 - val_loss: nan - val_accuracy: 0.1523 - val_top_3_categorical_accuracy: 0.6587\n",
      "Epoch 43/500\n",
      "28303/28303 [==============================] - 2s 87us/step - loss: 2.0599 - accuracy: 0.2840 - top_3_categorical_accuracy: 0.7980 - val_loss: nan - val_accuracy: 0.1696 - val_top_3_categorical_accuracy: 0.6163\n",
      "Epoch 44/500\n",
      "28303/28303 [==============================] - 2s 86us/step - loss: 2.0582 - accuracy: 0.2847 - top_3_categorical_accuracy: 0.7996 - val_loss: nan - val_accuracy: 0.1529 - val_top_3_categorical_accuracy: 0.6303\n",
      "Epoch 45/500\n",
      "28303/28303 [==============================] - 2s 86us/step - loss: 2.0593 - accuracy: 0.2818 - top_3_categorical_accuracy: 0.7966 - val_loss: nan - val_accuracy: 0.1795 - val_top_3_categorical_accuracy: 0.6532\n",
      "Epoch 46/500\n",
      "28303/28303 [==============================] - 2s 86us/step - loss: 2.0613 - accuracy: 0.2810 - top_3_categorical_accuracy: 0.8003 - val_loss: nan - val_accuracy: 0.1700 - val_top_3_categorical_accuracy: 0.6611\n",
      "Epoch 47/500\n",
      "28303/28303 [==============================] - 2s 86us/step - loss: 2.0611 - accuracy: 0.2796 - top_3_categorical_accuracy: 0.7977 - val_loss: nan - val_accuracy: 0.1409 - val_top_3_categorical_accuracy: 0.6572\n",
      "Epoch 48/500\n",
      "28303/28303 [==============================] - 2s 86us/step - loss: 2.0579 - accuracy: 0.2843 - top_3_categorical_accuracy: 0.7997 - val_loss: nan - val_accuracy: 0.1458 - val_top_3_categorical_accuracy: 0.6135\n",
      "Epoch 49/500\n",
      "28303/28303 [==============================] - 3s 99us/step - loss: 2.0617 - accuracy: 0.2792 - top_3_categorical_accuracy: 0.7972 - val_loss: nan - val_accuracy: 0.1588 - val_top_3_categorical_accuracy: 0.6382\n",
      "Epoch 50/500\n",
      "28303/28303 [==============================] - 3s 100us/step - loss: 2.0593 - accuracy: 0.2811 - top_3_categorical_accuracy: 0.8000 - val_loss: nan - val_accuracy: 0.1576 - val_top_3_categorical_accuracy: 0.7014\n",
      "Epoch 51/500\n",
      "28303/28303 [==============================] - 3s 98us/step - loss: 2.0584 - accuracy: 0.2830 - top_3_categorical_accuracy: 0.7986 - val_loss: nan - val_accuracy: 0.1629 - val_top_3_categorical_accuracy: 0.6682\n",
      "Epoch 52/500\n",
      "28303/28303 [==============================] - 3s 98us/step - loss: 2.0615 - accuracy: 0.2856 - top_3_categorical_accuracy: 0.7981 - val_loss: nan - val_accuracy: 0.1574 - val_top_3_categorical_accuracy: 0.6365\n",
      "Epoch 53/500\n",
      "28303/28303 [==============================] - 3s 97us/step - loss: 2.0606 - accuracy: 0.2824 - top_3_categorical_accuracy: 0.7994 - val_loss: nan - val_accuracy: 0.1685 - val_top_3_categorical_accuracy: 0.6266\n",
      "Epoch 54/500\n",
      "28303/28303 [==============================] - 3s 98us/step - loss: 2.0598 - accuracy: 0.2863 - top_3_categorical_accuracy: 0.7979 - val_loss: nan - val_accuracy: 0.1597 - val_top_3_categorical_accuracy: 0.6700\n",
      "Epoch 55/500\n",
      "28303/28303 [==============================] - 3s 99us/step - loss: 2.0582 - accuracy: 0.2859 - top_3_categorical_accuracy: 0.8001 - val_loss: nan - val_accuracy: 0.1488 - val_top_3_categorical_accuracy: 0.6224\n",
      "Epoch 56/500\n",
      "28303/28303 [==============================] - 3s 98us/step - loss: 2.0592 - accuracy: 0.2830 - top_3_categorical_accuracy: 0.7981 - val_loss: nan - val_accuracy: 0.1672 - val_top_3_categorical_accuracy: 0.6680\n",
      "Epoch 57/500\n",
      "28303/28303 [==============================] - 3s 92us/step - loss: 2.0593 - accuracy: 0.2817 - top_3_categorical_accuracy: 0.8001 - val_loss: nan - val_accuracy: 0.1590 - val_top_3_categorical_accuracy: 0.6463\n",
      "Epoch 58/500\n",
      "28303/28303 [==============================] - 3s 96us/step - loss: 2.0601 - accuracy: 0.2851 - top_3_categorical_accuracy: 0.7984 - val_loss: nan - val_accuracy: 0.1867 - val_top_3_categorical_accuracy: 0.6581\n",
      "Epoch 59/500\n",
      "28303/28303 [==============================] - 3s 92us/step - loss: 2.0610 - accuracy: 0.2827 - top_3_categorical_accuracy: 0.7978 - val_loss: nan - val_accuracy: 0.1539 - val_top_3_categorical_accuracy: 0.6470\n",
      "Epoch 60/500\n",
      "28303/28303 [==============================] - 3s 94us/step - loss: 2.0634 - accuracy: 0.2807 - top_3_categorical_accuracy: 0.7965 - val_loss: nan - val_accuracy: 0.1697 - val_top_3_categorical_accuracy: 0.6354\n",
      "Epoch 61/500\n",
      "28303/28303 [==============================] - 3s 95us/step - loss: 2.0597 - accuracy: 0.2806 - top_3_categorical_accuracy: 0.8000 - val_loss: nan - val_accuracy: 0.1441 - val_top_3_categorical_accuracy: 0.5969\n",
      "Epoch 62/500\n",
      "28303/28303 [==============================] - 3s 95us/step - loss: 2.0602 - accuracy: 0.2835 - top_3_categorical_accuracy: 0.7998 - val_loss: nan - val_accuracy: 0.1401 - val_top_3_categorical_accuracy: 0.6656\n",
      "Epoch 63/500\n",
      "28303/28303 [==============================] - 3s 90us/step - loss: 2.0595 - accuracy: 0.2837 - top_3_categorical_accuracy: 0.7986 - val_loss: nan - val_accuracy: 0.1685 - val_top_3_categorical_accuracy: 0.6516\n",
      "Epoch 64/500\n",
      "28303/28303 [==============================] - 3s 88us/step - loss: 2.0597 - accuracy: 0.2818 - top_3_categorical_accuracy: 0.8001 - val_loss: nan - val_accuracy: 0.1528 - val_top_3_categorical_accuracy: 0.6588\n",
      "Epoch 65/500\n",
      "28303/28303 [==============================] - 2s 87us/step - loss: 2.0613 - accuracy: 0.2801 - top_3_categorical_accuracy: 0.7966 - val_loss: nan - val_accuracy: 0.1798 - val_top_3_categorical_accuracy: 0.6621\n",
      "Epoch 66/500\n",
      "28303/28303 [==============================] - 3s 89us/step - loss: 2.0576 - accuracy: 0.2812 - top_3_categorical_accuracy: 0.8007 - val_loss: nan - val_accuracy: 0.1518 - val_top_3_categorical_accuracy: 0.6774\n",
      "Epoch 67/500\n",
      "28303/28303 [==============================] - 3s 89us/step - loss: 2.0625 - accuracy: 0.2799 - top_3_categorical_accuracy: 0.7985 - val_loss: nan - val_accuracy: 0.1478 - val_top_3_categorical_accuracy: 0.6280\n",
      "Epoch 68/500\n",
      "28303/28303 [==============================] - 2s 88us/step - loss: 2.0616 - accuracy: 0.2844 - top_3_categorical_accuracy: 0.7977 - val_loss: nan - val_accuracy: 0.1487 - val_top_3_categorical_accuracy: 0.6306\n",
      "Epoch 69/500\n",
      "28303/28303 [==============================] - 2s 87us/step - loss: 2.0593 - accuracy: 0.2793 - top_3_categorical_accuracy: 0.7969 - val_loss: nan - val_accuracy: 0.1703 - val_top_3_categorical_accuracy: 0.6495\n",
      "Epoch 70/500\n",
      "28303/28303 [==============================] - 2s 86us/step - loss: 2.0596 - accuracy: 0.2841 - top_3_categorical_accuracy: 0.7996 - val_loss: nan - val_accuracy: 0.1478 - val_top_3_categorical_accuracy: 0.6484\n",
      "Epoch 71/500\n",
      "28303/28303 [==============================] - 2s 87us/step - loss: 2.0600 - accuracy: 0.2871 - top_3_categorical_accuracy: 0.7956 - val_loss: nan - val_accuracy: 0.1744 - val_top_3_categorical_accuracy: 0.6627\n",
      "Epoch 72/500\n",
      "28303/28303 [==============================] - 2s 86us/step - loss: 2.0605 - accuracy: 0.2825 - top_3_categorical_accuracy: 0.7995 - val_loss: nan - val_accuracy: 0.1669 - val_top_3_categorical_accuracy: 0.6545\n",
      "Epoch 73/500\n",
      "28303/28303 [==============================] - 2s 86us/step - loss: 2.0624 - accuracy: 0.2816 - top_3_categorical_accuracy: 0.7989 - val_loss: nan - val_accuracy: 0.1523 - val_top_3_categorical_accuracy: 0.6261\n",
      "Epoch 74/500\n",
      "28303/28303 [==============================] - 2s 86us/step - loss: 2.0625 - accuracy: 0.2815 - top_3_categorical_accuracy: 0.7986 - val_loss: nan - val_accuracy: 0.1791 - val_top_3_categorical_accuracy: 0.6440\n",
      "Epoch 75/500\n",
      "28303/28303 [==============================] - 2s 86us/step - loss: 2.0591 - accuracy: 0.2871 - top_3_categorical_accuracy: 0.7984 - val_loss: nan - val_accuracy: 0.1839 - val_top_3_categorical_accuracy: 0.6683\n",
      "Epoch 76/500\n",
      "28303/28303 [==============================] - 2s 86us/step - loss: 2.0578 - accuracy: 0.2865 - top_3_categorical_accuracy: 0.7983 - val_loss: nan - val_accuracy: 0.1347 - val_top_3_categorical_accuracy: 0.6843\n",
      "Epoch 77/500\n",
      "28303/28303 [==============================] - 2s 86us/step - loss: 2.0600 - accuracy: 0.2796 - top_3_categorical_accuracy: 0.7988 - val_loss: nan - val_accuracy: 0.1765 - val_top_3_categorical_accuracy: 0.6384\n",
      "Epoch 78/500\n",
      "28303/28303 [==============================] - 2s 86us/step - loss: 2.0597 - accuracy: 0.2819 - top_3_categorical_accuracy: 0.7990 - val_loss: nan - val_accuracy: 0.1875 - val_top_3_categorical_accuracy: 0.6768\n",
      "Epoch 79/500\n",
      "28303/28303 [==============================] - 3s 91us/step - loss: 2.0600 - accuracy: 0.2814 - top_3_categorical_accuracy: 0.8005 - val_loss: nan - val_accuracy: 0.1474 - val_top_3_categorical_accuracy: 0.6063\n",
      "Epoch 80/500\n",
      "28303/28303 [==============================] - 3s 101us/step - loss: 2.0589 - accuracy: 0.2856 - top_3_categorical_accuracy: 0.7979 - val_loss: nan - val_accuracy: 0.2034 - val_top_3_categorical_accuracy: 0.6923\n",
      "Epoch 81/500\n",
      "28303/28303 [==============================] - 3s 99us/step - loss: 2.0614 - accuracy: 0.2812 - top_3_categorical_accuracy: 0.7995 - val_loss: nan - val_accuracy: 0.1553 - val_top_3_categorical_accuracy: 0.6376\n",
      "Epoch 82/500\n",
      "28303/28303 [==============================] - 3s 103us/step - loss: 2.0585 - accuracy: 0.2854 - top_3_categorical_accuracy: 0.8002 - val_loss: nan - val_accuracy: 0.1703 - val_top_3_categorical_accuracy: 0.6570\n",
      "Epoch 83/500\n",
      "28303/28303 [==============================] - 3s 99us/step - loss: 2.0619 - accuracy: 0.2813 - top_3_categorical_accuracy: 0.7979 - val_loss: nan - val_accuracy: 0.1539 - val_top_3_categorical_accuracy: 0.6287\n",
      "Epoch 84/500\n",
      "28303/28303 [==============================] - 3s 95us/step - loss: 2.0596 - accuracy: 0.2838 - top_3_categorical_accuracy: 0.7989 - val_loss: nan - val_accuracy: 0.1468 - val_top_3_categorical_accuracy: 0.6450\n",
      "Epoch 85/500\n",
      "28303/28303 [==============================] - 3s 99us/step - loss: 2.0601 - accuracy: 0.2804 - top_3_categorical_accuracy: 0.7993 - val_loss: nan - val_accuracy: 0.1523 - val_top_3_categorical_accuracy: 0.6547\n",
      "Epoch 86/500\n",
      "28303/28303 [==============================] - 3s 99us/step - loss: 2.0586 - accuracy: 0.2845 - top_3_categorical_accuracy: 0.7992 - val_loss: nan - val_accuracy: 0.1878 - val_top_3_categorical_accuracy: 0.6874\n",
      "Epoch 87/500\n",
      "28303/28303 [==============================] - 3s 102us/step - loss: 2.0600 - accuracy: 0.2855 - top_3_categorical_accuracy: 0.7991 - val_loss: nan - val_accuracy: 0.1604 - val_top_3_categorical_accuracy: 0.6823\n",
      "Epoch 88/500\n",
      "28303/28303 [==============================] - 3s 105us/step - loss: 2.0630 - accuracy: 0.2787 - top_3_categorical_accuracy: 0.7965 - val_loss: nan - val_accuracy: 0.1775 - val_top_3_categorical_accuracy: 0.6584\n",
      "Epoch 89/500\n",
      "28303/28303 [==============================] - 3s 101us/step - loss: 2.0612 - accuracy: 0.2812 - top_3_categorical_accuracy: 0.7971 - val_loss: nan - val_accuracy: 0.1590 - val_top_3_categorical_accuracy: 0.6545\n",
      "Epoch 90/500\n",
      "28303/28303 [==============================] - 3s 101us/step - loss: 2.0602 - accuracy: 0.2799 - top_3_categorical_accuracy: 0.7977 - val_loss: nan - val_accuracy: 0.1488 - val_top_3_categorical_accuracy: 0.6745\n",
      "Epoch 91/500\n",
      "28303/28303 [==============================] - 3s 102us/step - loss: 2.0629 - accuracy: 0.2798 - top_3_categorical_accuracy: 0.7974 - val_loss: nan - val_accuracy: 0.1457 - val_top_3_categorical_accuracy: 0.6498\n",
      "Epoch 92/500\n",
      "28303/28303 [==============================] - 3s 101us/step - loss: 2.0618 - accuracy: 0.2812 - top_3_categorical_accuracy: 0.7982 - val_loss: nan - val_accuracy: 0.1523 - val_top_3_categorical_accuracy: 0.6085\n",
      "Epoch 93/500\n",
      "28303/28303 [==============================] - 3s 98us/step - loss: 2.0588 - accuracy: 0.2836 - top_3_categorical_accuracy: 0.8008 - val_loss: nan - val_accuracy: 0.1888 - val_top_3_categorical_accuracy: 0.6269\n",
      "Epoch 94/500\n",
      "28303/28303 [==============================] - 3s 99us/step - loss: 2.0591 - accuracy: 0.2865 - top_3_categorical_accuracy: 0.8003 - val_loss: nan - val_accuracy: 0.1663 - val_top_3_categorical_accuracy: 0.6484\n",
      "Epoch 95/500\n",
      "28303/28303 [==============================] - 3s 99us/step - loss: 2.0600 - accuracy: 0.2863 - top_3_categorical_accuracy: 0.7983 - val_loss: nan - val_accuracy: 0.1655 - val_top_3_categorical_accuracy: 0.6231\n",
      "Epoch 96/500\n",
      "28303/28303 [==============================] - 3s 101us/step - loss: 2.0599 - accuracy: 0.2869 - top_3_categorical_accuracy: 0.7986 - val_loss: nan - val_accuracy: 0.1439 - val_top_3_categorical_accuracy: 0.6220\n",
      "Epoch 97/500\n",
      "28303/28303 [==============================] - 3s 98us/step - loss: 2.0608 - accuracy: 0.2830 - top_3_categorical_accuracy: 0.7996 - val_loss: nan - val_accuracy: 0.1856 - val_top_3_categorical_accuracy: 0.6672\n",
      "Epoch 98/500\n",
      "28303/28303 [==============================] - 3s 93us/step - loss: 2.0592 - accuracy: 0.2793 - top_3_categorical_accuracy: 0.7985 - val_loss: nan - val_accuracy: 0.1409 - val_top_3_categorical_accuracy: 0.6669\n",
      "Epoch 99/500\n",
      "28303/28303 [==============================] - 3s 89us/step - loss: 2.0599 - accuracy: 0.2840 - top_3_categorical_accuracy: 0.8004 - val_loss: nan - val_accuracy: 0.1690 - val_top_3_categorical_accuracy: 0.6307\n",
      "Epoch 100/500\n",
      "28303/28303 [==============================] - 3s 90us/step - loss: 2.0599 - accuracy: 0.2811 - top_3_categorical_accuracy: 0.7976 - val_loss: nan - val_accuracy: 0.1902 - val_top_3_categorical_accuracy: 0.6939\n",
      "Epoch 101/500\n",
      "28303/28303 [==============================] - 3s 90us/step - loss: 2.0593 - accuracy: 0.2804 - top_3_categorical_accuracy: 0.7995 - val_loss: nan - val_accuracy: 0.1826 - val_top_3_categorical_accuracy: 0.6495\n",
      "Epoch 102/500\n",
      "28303/28303 [==============================] - 3s 91us/step - loss: 2.0605 - accuracy: 0.2811 - top_3_categorical_accuracy: 0.7974 - val_loss: nan - val_accuracy: 0.1523 - val_top_3_categorical_accuracy: 0.6258\n",
      "Epoch 103/500\n",
      "28303/28303 [==============================] - 2s 88us/step - loss: 2.0604 - accuracy: 0.2828 - top_3_categorical_accuracy: 0.7984 - val_loss: nan - val_accuracy: 0.1658 - val_top_3_categorical_accuracy: 0.6844\n",
      "Epoch 104/500\n",
      "28303/28303 [==============================] - 2s 88us/step - loss: 2.0608 - accuracy: 0.2831 - top_3_categorical_accuracy: 0.7982 - val_loss: nan - val_accuracy: 0.1532 - val_top_3_categorical_accuracy: 0.6711\n",
      "Epoch 105/500\n",
      "28303/28303 [==============================] - 2s 88us/step - loss: 2.0598 - accuracy: 0.2836 - top_3_categorical_accuracy: 0.7971 - val_loss: nan - val_accuracy: 0.1682 - val_top_3_categorical_accuracy: 0.6505\n",
      "Epoch 106/500\n",
      "28303/28303 [==============================] - 2s 88us/step - loss: 2.0573 - accuracy: 0.2843 - top_3_categorical_accuracy: 0.8000 - val_loss: nan - val_accuracy: 0.1655 - val_top_3_categorical_accuracy: 0.6865\n",
      "Epoch 107/500\n",
      "28303/28303 [==============================] - 3s 92us/step - loss: 2.0604 - accuracy: 0.2825 - top_3_categorical_accuracy: 0.7960 - val_loss: nan - val_accuracy: 0.1655 - val_top_3_categorical_accuracy: 0.6344\n",
      "Epoch 108/500\n",
      "28303/28303 [==============================] - 3s 95us/step - loss: 2.0612 - accuracy: 0.2818 - top_3_categorical_accuracy: 0.8007 - val_loss: nan - val_accuracy: 0.1621 - val_top_3_categorical_accuracy: 0.6490\n",
      "Epoch 109/500\n",
      "28303/28303 [==============================] - 3s 97us/step - loss: 2.0626 - accuracy: 0.2815 - top_3_categorical_accuracy: 0.7959 - val_loss: nan - val_accuracy: 0.1775 - val_top_3_categorical_accuracy: 0.6817\n",
      "Epoch 110/500\n",
      "28303/28303 [==============================] - 3s 101us/step - loss: 2.0582 - accuracy: 0.2854 - top_3_categorical_accuracy: 0.7974 - val_loss: nan - val_accuracy: 0.1594 - val_top_3_categorical_accuracy: 0.7185\n",
      "Epoch 111/500\n",
      "28303/28303 [==============================] - 3s 100us/step - loss: 2.0598 - accuracy: 0.2834 - top_3_categorical_accuracy: 0.8006 - val_loss: nan - val_accuracy: 0.1676 - val_top_3_categorical_accuracy: 0.6523\n",
      "Epoch 112/500\n",
      "28303/28303 [==============================] - 3s 104us/step - loss: 2.0619 - accuracy: 0.2811 - top_3_categorical_accuracy: 0.7972 - val_loss: nan - val_accuracy: 0.1458 - val_top_3_categorical_accuracy: 0.6303\n",
      "Epoch 113/500\n",
      "28303/28303 [==============================] - 3s 103us/step - loss: 2.0598 - accuracy: 0.2841 - top_3_categorical_accuracy: 0.7985 - val_loss: nan - val_accuracy: 0.1515 - val_top_3_categorical_accuracy: 0.6590\n",
      "Epoch 114/500\n",
      "28303/28303 [==============================] - 3s 102us/step - loss: 2.0604 - accuracy: 0.2831 - top_3_categorical_accuracy: 0.7972 - val_loss: nan - val_accuracy: 0.1646 - val_top_3_categorical_accuracy: 0.5947\n",
      "Epoch 115/500\n",
      "28303/28303 [==============================] - 3s 101us/step - loss: 2.0611 - accuracy: 0.2840 - top_3_categorical_accuracy: 0.7977 - val_loss: nan - val_accuracy: 0.1707 - val_top_3_categorical_accuracy: 0.6741\n",
      "Epoch 116/500\n",
      "28303/28303 [==============================] - 3s 100us/step - loss: 2.0584 - accuracy: 0.2850 - top_3_categorical_accuracy: 0.7993 - val_loss: nan - val_accuracy: 0.1682 - val_top_3_categorical_accuracy: 0.6338\n",
      "Epoch 117/500\n",
      "28303/28303 [==============================] - 3s 99us/step - loss: 2.0607 - accuracy: 0.2825 - top_3_categorical_accuracy: 0.7995 - val_loss: nan - val_accuracy: 0.1669 - val_top_3_categorical_accuracy: 0.6680\n",
      "Epoch 118/500\n",
      "28303/28303 [==============================] - 3s 98us/step - loss: 2.0620 - accuracy: 0.2824 - top_3_categorical_accuracy: 0.7966 - val_loss: nan - val_accuracy: 0.1412 - val_top_3_categorical_accuracy: 0.6367\n",
      "Epoch 119/500\n",
      "28303/28303 [==============================] - 3s 100us/step - loss: 2.0603 - accuracy: 0.2847 - top_3_categorical_accuracy: 0.7971 - val_loss: nan - val_accuracy: 0.1608 - val_top_3_categorical_accuracy: 0.6666\n",
      "Epoch 120/500\n",
      "28303/28303 [==============================] - 3s 101us/step - loss: 2.0597 - accuracy: 0.2827 - top_3_categorical_accuracy: 0.7993 - val_loss: nan - val_accuracy: 0.1535 - val_top_3_categorical_accuracy: 0.6601\n",
      "Epoch 121/500\n",
      "28303/28303 [==============================] - 3s 103us/step - loss: 2.0595 - accuracy: 0.2858 - top_3_categorical_accuracy: 0.7977 - val_loss: nan - val_accuracy: 0.1635 - val_top_3_categorical_accuracy: 0.6254\n",
      "Epoch 122/500\n",
      "28303/28303 [==============================] - 3s 91us/step - loss: 2.0610 - accuracy: 0.2839 - top_3_categorical_accuracy: 0.7983 - val_loss: nan - val_accuracy: 0.1822 - val_top_3_categorical_accuracy: 0.6662\n",
      "Epoch 123/500\n",
      "28303/28303 [==============================] - 3s 97us/step - loss: 2.0584 - accuracy: 0.2827 - top_3_categorical_accuracy: 0.7980 - val_loss: nan - val_accuracy: 0.1579 - val_top_3_categorical_accuracy: 0.6467\n",
      "Epoch 124/500\n",
      "28303/28303 [==============================] - 3s 105us/step - loss: 2.0602 - accuracy: 0.2792 - top_3_categorical_accuracy: 0.8002 - val_loss: nan - val_accuracy: 0.1492 - val_top_3_categorical_accuracy: 0.6293\n",
      "Epoch 125/500\n",
      "28303/28303 [==============================] - 3s 100us/step - loss: 2.0604 - accuracy: 0.2858 - top_3_categorical_accuracy: 0.7975 - val_loss: nan - val_accuracy: 0.1703 - val_top_3_categorical_accuracy: 0.6906\n",
      "Epoch 126/500\n",
      "28303/28303 [==============================] - 3s 102us/step - loss: 2.0618 - accuracy: 0.2834 - top_3_categorical_accuracy: 0.7999 - val_loss: nan - val_accuracy: 0.1767 - val_top_3_categorical_accuracy: 0.6895\n",
      "Epoch 127/500\n",
      "28303/28303 [==============================] - 3s 100us/step - loss: 2.0597 - accuracy: 0.2862 - top_3_categorical_accuracy: 0.7975 - val_loss: nan - val_accuracy: 0.1422 - val_top_3_categorical_accuracy: 0.6231\n",
      "Epoch 128/500\n",
      "28303/28303 [==============================] - 3s 99us/step - loss: 2.0587 - accuracy: 0.2859 - top_3_categorical_accuracy: 0.7974 - val_loss: nan - val_accuracy: 0.1574 - val_top_3_categorical_accuracy: 0.6662\n",
      "Epoch 129/500\n",
      "28303/28303 [==============================] - 3s 100us/step - loss: 2.0580 - accuracy: 0.2852 - top_3_categorical_accuracy: 0.7983 - val_loss: nan - val_accuracy: 0.1854 - val_top_3_categorical_accuracy: 0.6963\n",
      "Epoch 130/500\n",
      "28303/28303 [==============================] - 3s 103us/step - loss: 2.0611 - accuracy: 0.2832 - top_3_categorical_accuracy: 0.7965 - val_loss: nan - val_accuracy: 0.1490 - val_top_3_categorical_accuracy: 0.6376\n",
      "Epoch 131/500\n",
      "28303/28303 [==============================] - 3s 101us/step - loss: 2.0610 - accuracy: 0.2802 - top_3_categorical_accuracy: 0.7990 - val_loss: nan - val_accuracy: 0.1539 - val_top_3_categorical_accuracy: 0.6610\n",
      "Epoch 132/500\n",
      "28303/28303 [==============================] - 3s 100us/step - loss: 2.0610 - accuracy: 0.2816 - top_3_categorical_accuracy: 0.7995 - val_loss: nan - val_accuracy: 0.1425 - val_top_3_categorical_accuracy: 0.6148\n",
      "Epoch 133/500\n",
      "28303/28303 [==============================] - 3s 100us/step - loss: 2.0601 - accuracy: 0.2860 - top_3_categorical_accuracy: 0.7998 - val_loss: nan - val_accuracy: 0.1738 - val_top_3_categorical_accuracy: 0.6423\n",
      "Epoch 134/500\n",
      "28303/28303 [==============================] - 3s 99us/step - loss: 2.0598 - accuracy: 0.2844 - top_3_categorical_accuracy: 0.7966 - val_loss: nan - val_accuracy: 0.1856 - val_top_3_categorical_accuracy: 0.6324\n",
      "Epoch 135/500\n",
      "28303/28303 [==============================] - 3s 101us/step - loss: 2.0586 - accuracy: 0.2810 - top_3_categorical_accuracy: 0.7998 - val_loss: nan - val_accuracy: 0.1661 - val_top_3_categorical_accuracy: 0.6651\n",
      "Epoch 136/500\n",
      "28303/28303 [==============================] - 3s 96us/step - loss: 2.0614 - accuracy: 0.2848 - top_3_categorical_accuracy: 0.8008 - val_loss: nan - val_accuracy: 0.2001 - val_top_3_categorical_accuracy: 0.6381\n",
      "Epoch 137/500\n",
      "28303/28303 [==============================] - 3s 104us/step - loss: 2.0606 - accuracy: 0.2780 - top_3_categorical_accuracy: 0.7996 - val_loss: nan - val_accuracy: 0.1652 - val_top_3_categorical_accuracy: 0.6328\n"
     ]
    },
    {
     "data": {
      "text/plain": [
       "<keras.callbacks.callbacks.History at 0x7fc87e6b5e90>"
      ]
     },
     "execution_count": 505,
     "metadata": {},
     "output_type": "execute_result"
    }
   ],
   "source": [
    "model.compile(optimizer = optimizer,\n",
    "              loss = 'categorical_crossentropy',\n",
    "              metrics = ['accuracy',  top_3_categorical_accuracy]\n",
    "             )\n",
    "model.fit(input_data, train_label, epochs=epochs, batch_size=batch_size, validation_split=0.2, callbacks=[early_stopping])"
   ]
  },
  {
   "cell_type": "code",
   "execution_count": 506,
   "metadata": {
    "Collapsed": "false"
   },
   "outputs": [],
   "source": [
    "test_input_data = [x_test_continue] + [x_test_category[:, i] for i in range(x_test_category.shape[1])] + [x_test_category_poly]"
   ]
  },
  {
   "cell_type": "code",
   "execution_count": 507,
   "metadata": {
    "Collapsed": "false"
   },
   "outputs": [
    {
     "name": "stdout",
     "output_type": "stream",
     "text": [
      "35379/35379 [==============================] - 1s 29us/step\n"
     ]
    }
   ],
   "source": [
    "loss, acc, topk = model.evaluate(input_data, train_label)"
   ]
  },
  {
   "cell_type": "code",
   "execution_count": 508,
   "metadata": {
    "Collapsed": "false"
   },
   "outputs": [
    {
     "name": "stdout",
     "output_type": "stream",
     "text": [
      "train_loss: nan - train_acc: 0.26965150237083435 - train_topk: 0.7736510634422302\n"
     ]
    }
   ],
   "source": [
    "print(f'train_loss: {loss} - train_acc: {acc} - train_topk: {topk}')"
   ]
  },
  {
   "cell_type": "code",
   "execution_count": 509,
   "metadata": {
    "Collapsed": "false"
   },
   "outputs": [
    {
     "name": "stdout",
     "output_type": "stream",
     "text": [
      "2716/2716 [==============================] - 0s 34us/step\n"
     ]
    }
   ],
   "source": [
    "loss, acc, topk = model.evaluate(test_input_data, test_label)"
   ]
  },
  {
   "cell_type": "code",
   "execution_count": 510,
   "metadata": {
    "Collapsed": "false"
   },
   "outputs": [
    {
     "name": "stdout",
     "output_type": "stream",
     "text": [
      "test_loss: nan - test_acc: 0.21134020388126373 - test_topk: 0.5835787653923035\n"
     ]
    }
   ],
   "source": [
    "print(f'test_loss: {loss} - test_acc: {acc} - test_topk: {topk}')"
   ]
  },
  {
   "cell_type": "code",
   "execution_count": null,
   "metadata": {
    "Collapsed": "false"
   },
   "outputs": [],
   "source": []
  },
  {
   "cell_type": "code",
   "execution_count": 62,
   "metadata": {
    "Collapsed": "false"
   },
   "outputs": [
    {
     "ename": "NameError",
     "evalue": "name 'model' is not defined",
     "output_type": "error",
     "traceback": [
      "\u001b[0;31m---------------------------------------------------------------------------\u001b[0m",
      "\u001b[0;31mNameError\u001b[0m                                 Traceback (most recent call last)",
      "\u001b[0;32m<ipython-input-62-39eea9f9ce38>\u001b[0m in \u001b[0;36m<module>\u001b[0;34m\u001b[0m\n\u001b[0;32m----> 1\u001b[0;31m \u001b[0mpred\u001b[0m \u001b[0;34m=\u001b[0m \u001b[0mmodel\u001b[0m\u001b[0;34m.\u001b[0m\u001b[0mpredict\u001b[0m\u001b[0;34m(\u001b[0m\u001b[0mtest_input_data\u001b[0m\u001b[0;34m)\u001b[0m\u001b[0;34m\u001b[0m\u001b[0;34m\u001b[0m\u001b[0m\n\u001b[0m",
      "\u001b[0;31mNameError\u001b[0m: name 'model' is not defined"
     ]
    }
   ],
   "source": [
    "pred = model.predict(test_input_data)"
   ]
  },
  {
   "cell_type": "code",
   "execution_count": 61,
   "metadata": {
    "Collapsed": "false"
   },
   "outputs": [
    {
     "ename": "NameError",
     "evalue": "name 'pred' is not defined",
     "output_type": "error",
     "traceback": [
      "\u001b[0;31m---------------------------------------------------------------------------\u001b[0m",
      "\u001b[0;31mNameError\u001b[0m                                 Traceback (most recent call last)",
      "\u001b[0;32m<ipython-input-61-73c490c9fcd8>\u001b[0m in \u001b[0;36m<module>\u001b[0;34m\u001b[0m\n\u001b[0;32m----> 1\u001b[0;31m \u001b[0mpred_values\u001b[0m \u001b[0;34m=\u001b[0m \u001b[0;34m[\u001b[0m\u001b[0mlist\u001b[0m\u001b[0;34m(\u001b[0m\u001b[0mpd\u001b[0m\u001b[0;34m.\u001b[0m\u001b[0mSeries\u001b[0m\u001b[0;34m(\u001b[0m\u001b[0mp\u001b[0m\u001b[0;34m)\u001b[0m\u001b[0;34m.\u001b[0m\u001b[0msort_values\u001b[0m\u001b[0;34m(\u001b[0m\u001b[0mascending\u001b[0m \u001b[0;34m=\u001b[0m \u001b[0;32mFalse\u001b[0m\u001b[0;34m)\u001b[0m\u001b[0;34m.\u001b[0m\u001b[0mindex\u001b[0m\u001b[0;34m[\u001b[0m\u001b[0;34m:\u001b[0m\u001b[0;36m3\u001b[0m\u001b[0;34m]\u001b[0m\u001b[0;34m)\u001b[0m \u001b[0;32mfor\u001b[0m \u001b[0mp\u001b[0m \u001b[0;32min\u001b[0m \u001b[0mpred\u001b[0m\u001b[0;34m]\u001b[0m\u001b[0;34m\u001b[0m\u001b[0;34m\u001b[0m\u001b[0m\n\u001b[0m",
      "\u001b[0;31mNameError\u001b[0m: name 'pred' is not defined"
     ]
    }
   ],
   "source": [
    "pred_values = [list(pd.Series(p).sort_values(ascending = False).index[:3]) for p in pred]"
   ]
  },
  {
   "cell_type": "code",
   "execution_count": 498,
   "metadata": {
    "Collapsed": "false"
   },
   "outputs": [
    {
     "data": {
      "text/plain": [
       "속옷      2690\n",
       "의류      2079\n",
       "가전      2030\n",
       "잡화       686\n",
       "가구       538\n",
       "주방        91\n",
       "건강기능      26\n",
       "농수축        8\n",
       "Name: 1, dtype: int64"
      ]
     },
     "execution_count": 498,
     "metadata": {},
     "output_type": "execute_result"
    }
   ],
   "source": [
    "pd.DataFrame(np.array(pred_values).flatten()).merge(t, on = 0, how = 'left')[1].value_counts()"
   ]
  },
  {
   "cell_type": "code",
   "execution_count": 499,
   "metadata": {
    "Collapsed": "false"
   },
   "outputs": [
    {
     "data": {
      "text/plain": [
       "가전      489\n",
       "농수축     424\n",
       "생활용품    348\n",
       "속옷      329\n",
       "잡화      277\n",
       "주방      272\n",
       "이미용     167\n",
       "의류      161\n",
       "가구      159\n",
       "침구       72\n",
       "건강기능     18\n",
       "Name: 상품군, dtype: int64"
      ]
     },
     "execution_count": 499,
     "metadata": {},
     "output_type": "execute_result"
    }
   ],
   "source": [
    "test['label'].value_counts()"
   ]
  },
  {
   "cell_type": "code",
   "execution_count": 138,
   "metadata": {
    "Collapsed": "false"
   },
   "outputs": [
    {
     "data": {
      "text/html": [
       "<div>\n",
       "<style scoped>\n",
       "    .dataframe tbody tr th:only-of-type {\n",
       "        vertical-align: middle;\n",
       "    }\n",
       "\n",
       "    .dataframe tbody tr th {\n",
       "        vertical-align: top;\n",
       "    }\n",
       "\n",
       "    .dataframe thead th {\n",
       "        text-align: right;\n",
       "    }\n",
       "</style>\n",
       "<table border=\"1\" class=\"dataframe\">\n",
       "  <thead>\n",
       "    <tr style=\"text-align: right;\">\n",
       "      <th></th>\n",
       "      <th>0</th>\n",
       "      <th>1</th>\n",
       "    </tr>\n",
       "  </thead>\n",
       "  <tbody>\n",
       "    <tr>\n",
       "      <th>0</th>\n",
       "      <td>0</td>\n",
       "      <td>가구</td>\n",
       "    </tr>\n",
       "    <tr>\n",
       "      <th>1</th>\n",
       "      <td>1</td>\n",
       "      <td>가전</td>\n",
       "    </tr>\n",
       "    <tr>\n",
       "      <th>2</th>\n",
       "      <td>2</td>\n",
       "      <td>건강기능</td>\n",
       "    </tr>\n",
       "    <tr>\n",
       "      <th>3</th>\n",
       "      <td>3</td>\n",
       "      <td>농수축</td>\n",
       "    </tr>\n",
       "    <tr>\n",
       "      <th>4</th>\n",
       "      <td>4</td>\n",
       "      <td>생활용품</td>\n",
       "    </tr>\n",
       "    <tr>\n",
       "      <th>5</th>\n",
       "      <td>5</td>\n",
       "      <td>속옷</td>\n",
       "    </tr>\n",
       "    <tr>\n",
       "      <th>6</th>\n",
       "      <td>6</td>\n",
       "      <td>의류</td>\n",
       "    </tr>\n",
       "    <tr>\n",
       "      <th>7</th>\n",
       "      <td>7</td>\n",
       "      <td>이미용</td>\n",
       "    </tr>\n",
       "    <tr>\n",
       "      <th>8</th>\n",
       "      <td>8</td>\n",
       "      <td>잡화</td>\n",
       "    </tr>\n",
       "    <tr>\n",
       "      <th>9</th>\n",
       "      <td>9</td>\n",
       "      <td>주방</td>\n",
       "    </tr>\n",
       "    <tr>\n",
       "      <th>10</th>\n",
       "      <td>10</td>\n",
       "      <td>침구</td>\n",
       "    </tr>\n",
       "  </tbody>\n",
       "</table>\n",
       "</div>"
      ],
      "text/plain": [
       "     0     1\n",
       "0    0    가구\n",
       "1    1    가전\n",
       "2    2  건강기능\n",
       "3    3   농수축\n",
       "4    4  생활용품\n",
       "5    5    속옷\n",
       "6    6    의류\n",
       "7    7   이미용\n",
       "8    8    잡화\n",
       "9    9    주방\n",
       "10  10    침구"
      ]
     },
     "execution_count": 138,
     "metadata": {},
     "output_type": "execute_result"
    }
   ],
   "source": [
    "t = pd.DataFrame(list(zip(np.argmax(pd.get_dummies(test['label']).values, axis = 1), test['label'].values))).drop_duplicates().sort_values(0).reset_index(drop = True)\n",
    "t"
   ]
  },
  {
   "cell_type": "code",
   "execution_count": 598,
   "metadata": {
    "Collapsed": "false"
   },
   "outputs": [],
   "source": [
    "data = joblib.load(os.path.join('..', '..', '0.Data', '05_분석데이터', 'train_Rec.pkl'))"
   ]
  },
  {
   "cell_type": "code",
   "execution_count": 599,
   "metadata": {
    "Collapsed": "false"
   },
   "outputs": [],
   "source": [
    "locals().update(data)"
   ]
  },
  {
   "cell_type": "code",
   "execution_count": 600,
   "metadata": {
    "Collapsed": "false"
   },
   "outputs": [],
   "source": [
    "X.to_csv('./test.csv', encoding = 'cp949')"
   ]
  },
  {
   "cell_type": "code",
   "execution_count": 591,
   "metadata": {
    "Collapsed": "false"
   },
   "outputs": [
    {
     "data": {
      "text/plain": [
       "((35379, 234), (35379,), (35379,))"
      ]
     },
     "execution_count": 591,
     "metadata": {},
     "output_type": "execute_result"
    }
   ],
   "source": [
    "input_data[0].shape, input_data[1].shape, input_data[2].shape"
   ]
  },
  {
   "cell_type": "code",
   "execution_count": 594,
   "metadata": {
    "Collapsed": "false"
   },
   "outputs": [
    {
     "name": "stdout",
     "output_type": "stream",
     "text": [
      "(35379, 234)\n",
      "(35379,)\n",
      "(35379,)\n",
      "(35379,)\n",
      "(35379,)\n",
      "(35379,)\n",
      "(35379, 16)\n"
     ]
    }
   ],
   "source": [
    "for i in range(7):\n",
    "    print(input_data[i].shape)"
   ]
  },
  {
   "cell_type": "code",
   "execution_count": 63,
   "metadata": {
    "Collapsed": "false"
   },
   "outputs": [],
   "source": [
    "pred_values = [[1,2,3], [5,6,7]]"
   ]
  },
  {
   "cell_type": "code",
   "execution_count": 67,
   "metadata": {
    "Collapsed": "false"
   },
   "outputs": [
    {
     "data": {
      "text/plain": [
       "array([1, 2, 3, 5, 6, 7])"
      ]
     },
     "execution_count": 67,
     "metadata": {},
     "output_type": "execute_result"
    }
   ],
   "source": [
    "np.array(pred_values).flatten()"
   ]
  },
  {
   "cell_type": "code",
   "execution_count": 71,
   "metadata": {
    "Collapsed": "false"
   },
   "outputs": [
    {
     "data": {
      "text/plain": [
       "array([[1, 2, 3],\n",
       "       [5, 6, 7]])"
      ]
     },
     "execution_count": 71,
     "metadata": {},
     "output_type": "execute_result"
    }
   ],
   "source": [
    "np.array(pred_values).flatten().reshape(2,3)"
   ]
  },
  {
   "cell_type": "code",
   "execution_count": 80,
   "metadata": {
    "Collapsed": "false"
   },
   "outputs": [],
   "source": [
    "answer = {\n",
    "  '1':\t'가전',\n",
    "\t'2':\t'건강기능',\n",
    "\t'3':\t'농수축',\n",
    "\t'4':\t'생활용품',\n",
    "\t'5':\t'속옷',\n",
    "\t'6':\t'의류',\n",
    "\t'7':\t'이미용',\n",
    "\t'8':\t'잡화',\n",
    "\t'9':\t'주방',\n",
    "\t'10':\t'침구'\n",
    "}"
   ]
  },
  {
   "cell_type": "code",
   "execution_count": 89,
   "metadata": {
    "Collapsed": "false"
   },
   "outputs": [
    {
     "data": {
      "text/plain": [
       "2"
      ]
     },
     "execution_count": 89,
     "metadata": {},
     "output_type": "execute_result"
    }
   ],
   "source": [
    "len(pred_values)"
   ]
  },
  {
   "cell_type": "code",
   "execution_count": 91,
   "metadata": {
    "Collapsed": "false"
   },
   "outputs": [],
   "source": [
    "values = np.array(list(answer[str(p)] for p in np.array(pred_values).flatten())).reshape(len(pred_values), 3)"
   ]
  },
  {
   "cell_type": "code",
   "execution_count": 94,
   "metadata": {
    "Collapsed": "false"
   },
   "outputs": [
    {
     "data": {
      "text/html": [
       "<div>\n",
       "<style scoped>\n",
       "    .dataframe tbody tr th:only-of-type {\n",
       "        vertical-align: middle;\n",
       "    }\n",
       "\n",
       "    .dataframe tbody tr th {\n",
       "        vertical-align: top;\n",
       "    }\n",
       "\n",
       "    .dataframe thead th {\n",
       "        text-align: right;\n",
       "    }\n",
       "</style>\n",
       "<table border=\"1\" class=\"dataframe\">\n",
       "  <thead>\n",
       "    <tr style=\"text-align: right;\">\n",
       "      <th></th>\n",
       "      <th>추천싱픔군1</th>\n",
       "      <th>추천싱픔군2</th>\n",
       "      <th>추천싱픔군3</th>\n",
       "    </tr>\n",
       "  </thead>\n",
       "  <tbody>\n",
       "    <tr>\n",
       "      <th>0</th>\n",
       "      <td>가전</td>\n",
       "      <td>건강기능</td>\n",
       "      <td>농수축</td>\n",
       "    </tr>\n",
       "    <tr>\n",
       "      <th>1</th>\n",
       "      <td>속옷</td>\n",
       "      <td>의류</td>\n",
       "      <td>이미용</td>\n",
       "    </tr>\n",
       "  </tbody>\n",
       "</table>\n",
       "</div>"
      ],
      "text/plain": [
       "  추천싱픔군1 추천싱픔군2 추천싱픔군3\n",
       "0     가전   건강기능    농수축\n",
       "1     속옷     의류    이미용"
      ]
     },
     "execution_count": 94,
     "metadata": {},
     "output_type": "execute_result"
    }
   ],
   "source": [
    "pd.DataFrame(values, columns = ['추천싱픔군1', '추천싱픔군2', '추천싱픔군3'])"
   ]
  },
  {
   "cell_type": "code",
   "execution_count": null,
   "metadata": {
    "Collapsed": "false"
   },
   "outputs": [],
   "source": []
  }
 ],
 "metadata": {
  "kernelspec": {
   "display_name": "Python 3",
   "language": "python",
   "name": "python3"
  },
  "language_info": {
   "codemirror_mode": {
    "name": "ipython",
    "version": 3
   },
   "file_extension": ".py",
   "mimetype": "text/x-python",
   "name": "python",
   "nbconvert_exporter": "python",
   "pygments_lexer": "ipython3",
   "version": "3.7.6"
  }
 },
 "nbformat": 4,
 "nbformat_minor": 4
}
