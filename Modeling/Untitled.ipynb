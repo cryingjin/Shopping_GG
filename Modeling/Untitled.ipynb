{
 "cells": [
  {
   "cell_type": "markdown",
   "metadata": {},
   "source": [
    "# Parameter Tuning \n",
    "* 2020.09.19"
   ]
  },
  {
   "cell_type": "code",
   "execution_count": 32,
   "metadata": {},
   "outputs": [],
   "source": [
    "import os\n",
    "import sys\n",
    "import joblib\n",
    "import pickle as pkl\n",
    "\n",
    "import warnings\n",
    "from sklearn.exceptions import DataConversionWarning\n",
    "warnings.filterwarnings(action='ignore')\n",
    "warnings.filterwarnings(action='ignore', category=DataConversionWarning)\n",
    "\n",
    "\n",
    "import pandas as pd \n",
    "import numpy as np\n",
    "\n",
    "\n",
    "from IPython.display import display\n",
    "pd.options.display.max_rows = 999\n",
    "pd.options.display.max_columns = 999\n",
    "pd.set_option('display.max_info_columns', 500)"
   ]
  },
  {
   "cell_type": "code",
   "execution_count": 33,
   "metadata": {},
   "outputs": [],
   "source": [
    "import BoostingModel as model"
   ]
  },
  {
   "cell_type": "code",
   "execution_count": 34,
   "metadata": {},
   "outputs": [],
   "source": [
    "data_v4 = joblib.load(os.path.join('..', '..', '6th_FE_ver4.pkl'))\n",
    "locals().update(data_v4)"
   ]
  },
  {
   "cell_type": "code",
   "execution_count": 35,
   "metadata": {},
   "outputs": [
    {
     "data": {
      "text/plain": [
       "((35379, 386), (35379,))"
      ]
     },
     "execution_count": 35,
     "metadata": {},
     "output_type": "execute_result"
    }
   ],
   "source": [
    "X = data_v4['X'] ; y = data_v4['y']\n",
    "X.shape, y.shape"
   ]
  },
  {
   "cell_type": "code",
   "execution_count": 36,
   "metadata": {},
   "outputs": [],
   "source": [
    "y2 = np.log1p(y)"
   ]
  },
  {
   "cell_type": "code",
   "execution_count": 37,
   "metadata": {},
   "outputs": [],
   "source": [
    "X.drop([\"날짜\"], axis=1, inplace=True)"
   ]
  },
  {
   "cell_type": "code",
   "execution_count": 48,
   "metadata": {},
   "outputs": [],
   "source": [
    "embedding = [col.startswith(\"v\") for col in X.columns]"
   ]
  },
  {
   "cell_type": "code",
   "execution_count": 52,
   "metadata": {},
   "outputs": [],
   "source": [
    "emb = X.columns[embedding]"
   ]
  },
  {
   "cell_type": "code",
   "execution_count": 53,
   "metadata": {},
   "outputs": [],
   "source": [
    "X2 = X.drop(emb, axis=1)"
   ]
  },
  {
   "cell_type": "code",
   "execution_count": 54,
   "metadata": {},
   "outputs": [
    {
     "data": {
      "text/plain": [
       "(35379, 295)"
      ]
     },
     "execution_count": 54,
     "metadata": {},
     "output_type": "execute_result"
    }
   ],
   "source": [
    "X2.shape"
   ]
  },
  {
   "cell_type": "markdown",
   "metadata": {},
   "source": [
    "## LGBM"
   ]
  },
  {
   "cell_type": "markdown",
   "metadata": {},
   "source": [
    "### lgbm_params1"
   ]
  },
  {
   "cell_type": "code",
   "execution_count": 56,
   "metadata": {},
   "outputs": [],
   "source": [
    "lgbm_params1 = {'num_leaves': 47, 'max_depth': 8, 'min_child_samples': 39, \n",
    "                'learning_rate': 0.03, 'reg_lambda': 0.3, 'min_split_gain': 0.01, \n",
    "                'colsample_bytree': 0.8, 'subsample': 0.8, 'subsample_freq': 5, 'max_bin': 56, \n",
    "                'boosting': 'dart', 'objective': 'regression', 'metric': 'mape', 'is_training_metric': True, 'n_estimators' : 10000, \n",
    "                'force_col_wise' : 'true', 'verbose' : -1}"
   ]
  },
  {
   "cell_type": "code",
   "execution_count": 57,
   "metadata": {},
   "outputs": [
    {
     "name": "stdout",
     "output_type": "stream",
     "text": [
      "[10000]\tvalid_0's mape: 0.004583\n",
      "[10000]\tvalid_0's mape: 0.00456599\n",
      "[10000]\tvalid_0's mape: 0.0045454\n",
      "[10000]\tvalid_0's mape: 0.00460728\n",
      "[10000]\tvalid_0's mape: 0.00458216\n"
     ]
    }
   ],
   "source": [
    "mape1, pred1 = model.lgbm_model(X2, y2, lgbm_params1, version='0919-1', cv_splits=5, scaling='MinMax', epoch=10000)"
   ]
  },
  {
   "cell_type": "code",
   "execution_count": 58,
   "metadata": {},
   "outputs": [
    {
     "data": {
      "text/html": [
       "<div>\n",
       "<style scoped>\n",
       "    .dataframe tbody tr th:only-of-type {\n",
       "        vertical-align: middle;\n",
       "    }\n",
       "\n",
       "    .dataframe tbody tr th {\n",
       "        vertical-align: top;\n",
       "    }\n",
       "\n",
       "    .dataframe thead th {\n",
       "        text-align: right;\n",
       "    }\n",
       "</style>\n",
       "<table border=\"1\" class=\"dataframe\">\n",
       "  <thead>\n",
       "    <tr style=\"text-align: right;\">\n",
       "      <th></th>\n",
       "      <th>val</th>\n",
       "      <th>test</th>\n",
       "    </tr>\n",
       "  </thead>\n",
       "  <tbody>\n",
       "    <tr>\n",
       "      <th>0</th>\n",
       "      <td>7.252050</td>\n",
       "      <td>7.304394</td>\n",
       "    </tr>\n",
       "    <tr>\n",
       "      <th>1</th>\n",
       "      <td>7.236981</td>\n",
       "      <td>7.203601</td>\n",
       "    </tr>\n",
       "    <tr>\n",
       "      <th>2</th>\n",
       "      <td>7.207314</td>\n",
       "      <td>7.175047</td>\n",
       "    </tr>\n",
       "    <tr>\n",
       "      <th>3</th>\n",
       "      <td>7.292055</td>\n",
       "      <td>7.188623</td>\n",
       "    </tr>\n",
       "    <tr>\n",
       "      <th>4</th>\n",
       "      <td>7.245609</td>\n",
       "      <td>7.205809</td>\n",
       "    </tr>\n",
       "  </tbody>\n",
       "</table>\n",
       "</div>"
      ],
      "text/plain": [
       "        val      test\n",
       "0  7.252050  7.304394\n",
       "1  7.236981  7.203601\n",
       "2  7.207314  7.175047\n",
       "3  7.292055  7.188623\n",
       "4  7.245609  7.205809"
      ]
     },
     "execution_count": 58,
     "metadata": {},
     "output_type": "execute_result"
    }
   ],
   "source": [
    "pd.DataFrame({\n",
    "    'val'  : mape1['val_mape'], \n",
    "    'test' : mape1['test_mape']\n",
    "})"
   ]
  },
  {
   "cell_type": "code",
   "execution_count": 59,
   "metadata": {},
   "outputs": [
    {
     "data": {
      "text/plain": [
       "[7.145051175115399]"
      ]
     },
     "execution_count": 59,
     "metadata": {},
     "output_type": "execute_result"
    }
   ],
   "source": [
    "mape1['final_mape']"
   ]
  },
  {
   "cell_type": "code",
   "execution_count": 64,
   "metadata": {},
   "outputs": [],
   "source": [
    "import xgboost as xgb\n",
    "import lightgbm as lgb\n",
    "\n",
    "from sklearn.model_selection import KFold, train_test_split\n",
    "from sklearn.preprocessing import StandardScaler, MinMaxScaler"
   ]
  },
  {
   "cell_type": "code",
   "execution_count": 65,
   "metadata": {},
   "outputs": [],
   "source": [
    "# MAPE \n",
    "def MAPE(y_true, y_pred): \n",
    "    y_true, y_pred = np.array(y_true), np.array(y_pred)\n",
    "    return np.mean(np.abs((y_true - y_pred) / y_true)) * 100\n",
    "\n",
    "\n",
    "# MAPE_exp  \n",
    "def MAPE_exp(y_true, y_pred): \n",
    "    y_true, y_pred = np.array(y_true), np.array(y_pred)\n",
    "    return np.mean(np.abs((np.exp(y_true) - np.exp(y_pred)) / np.exp(y_true))) * 100"
   ]
  },
  {
   "cell_type": "code",
   "execution_count": 62,
   "metadata": {},
   "outputs": [],
   "source": [
    "# LightGBM\n",
    "def lgbm_model(X, y, params, cv_splits=5, epoch=10000):        \n",
    "    mape = {'val_mape' : [], 'test_mape' : [], 'final_mape' : []}\n",
    "    pred = {'val_idx'  : [], 'val_pred'  : [],\n",
    "            'test_idx' : [], 'test_pred' : [],\n",
    "            'final_pred' : []}      # final : test set mean 값\n",
    "    \n",
    "\n",
    "    # train, test split\n",
    "    X_train_, X_test_, y_train_, y_test_ = train_test_split(X, y, test_size=0.2, random_state=77)\n",
    "    pred['test_idx'].append(X_test_.index)\n",
    "\n",
    "\n",
    "    # K Fold Cross Validation\n",
    "    cv = KFold(n_splits=cv_splits, random_state=77, shuffle=True)\n",
    "    for t,v in cv.split(X_train_):\n",
    "        X_train , X_val = X_train_.iloc[t] , X_train_.iloc[v]            \n",
    "        y_train , y_val = y_train_.iloc[t] , y_train_.iloc[v]\n",
    "\n",
    "        pred['val_idx'].append(v)\n",
    "\n",
    "            \n",
    "\n",
    "        # modeling \n",
    "        train_T = lgb.Dataset(X_train, label=y_train.values) \n",
    "        val_T   = lgb.Dataset(X_val, label=y_val.values)   \n",
    "\n",
    "\n",
    "        model = lgb.train(params, train_T, epoch, valid_sets = val_T, verbose_eval=2500, early_stopping_rounds=500)\n",
    "\n",
    "\n",
    "        val_pred = model.predict(X_val)\n",
    "        pred['val_pred'].append(np.exp(val_pred))\n",
    "\n",
    "        test_pred = model.predict(X_test_)\n",
    "        pred['test_pred'].append(np.exp(test_pred))\n",
    "\n",
    "\n",
    "        # mape\n",
    "        mape['val_mape'].append(MAPE_exp(y_val, val_pred))\n",
    "        mape['test_mape'].append(MAPE_exp(y_test_, test_pred))\n",
    "\n",
    "        \n",
    "\n",
    "    # final values\n",
    "    final_test = np.mean(pred['test_pred'], axis=0)\n",
    "    final_mape = MAPE(np.exp(y_test_), final_test)\n",
    "    \n",
    "    pred['final_pred'].append(final_test)\n",
    "    mape['final_mape'].append(final_mape)\n",
    "\n",
    "\n",
    "\n",
    "    \n",
    "    return mape, pred"
   ]
  },
  {
   "cell_type": "code",
   "execution_count": 66,
   "metadata": {},
   "outputs": [
    {
     "name": "stdout",
     "output_type": "stream",
     "text": [
      "[2500]\tvalid_0's mape: 0.0182865\n",
      "[5000]\tvalid_0's mape: 0.00726642\n",
      "[7500]\tvalid_0's mape: 0.004858\n",
      "[10000]\tvalid_0's mape: 0.00459553\n",
      "[2500]\tvalid_0's mape: 0.0181886\n",
      "[5000]\tvalid_0's mape: 0.00719946\n",
      "[7500]\tvalid_0's mape: 0.00483586\n",
      "[10000]\tvalid_0's mape: 0.00457631\n",
      "[2500]\tvalid_0's mape: 0.01822\n",
      "[5000]\tvalid_0's mape: 0.00720081\n",
      "[7500]\tvalid_0's mape: 0.00482988\n",
      "[10000]\tvalid_0's mape: 0.00457054\n",
      "[2500]\tvalid_0's mape: 0.0182859\n",
      "[5000]\tvalid_0's mape: 0.00727993\n",
      "[7500]\tvalid_0's mape: 0.00489526\n",
      "[10000]\tvalid_0's mape: 0.00463623\n",
      "[2500]\tvalid_0's mape: 0.0182858\n",
      "[5000]\tvalid_0's mape: 0.00725649\n",
      "[7500]\tvalid_0's mape: 0.00486526\n",
      "[10000]\tvalid_0's mape: 0.00460719\n"
     ]
    }
   ],
   "source": [
    "mape2, pred2 = lgbm_model(X2, y2, lgbm_params1, cv_splits=5, epoch=10000)"
   ]
  },
  {
   "cell_type": "code",
   "execution_count": 67,
   "metadata": {},
   "outputs": [
    {
     "data": {
      "text/html": [
       "<div>\n",
       "<style scoped>\n",
       "    .dataframe tbody tr th:only-of-type {\n",
       "        vertical-align: middle;\n",
       "    }\n",
       "\n",
       "    .dataframe tbody tr th {\n",
       "        vertical-align: top;\n",
       "    }\n",
       "\n",
       "    .dataframe thead th {\n",
       "        text-align: right;\n",
       "    }\n",
       "</style>\n",
       "<table border=\"1\" class=\"dataframe\">\n",
       "  <thead>\n",
       "    <tr style=\"text-align: right;\">\n",
       "      <th></th>\n",
       "      <th>val</th>\n",
       "      <th>test</th>\n",
       "    </tr>\n",
       "  </thead>\n",
       "  <tbody>\n",
       "    <tr>\n",
       "      <th>0</th>\n",
       "      <td>7.268045</td>\n",
       "      <td>7.321157</td>\n",
       "    </tr>\n",
       "    <tr>\n",
       "      <th>1</th>\n",
       "      <td>7.252194</td>\n",
       "      <td>7.231868</td>\n",
       "    </tr>\n",
       "    <tr>\n",
       "      <th>2</th>\n",
       "      <td>7.241304</td>\n",
       "      <td>7.203256</td>\n",
       "    </tr>\n",
       "    <tr>\n",
       "      <th>3</th>\n",
       "      <td>7.331132</td>\n",
       "      <td>7.215654</td>\n",
       "    </tr>\n",
       "    <tr>\n",
       "      <th>4</th>\n",
       "      <td>7.281935</td>\n",
       "      <td>7.236543</td>\n",
       "    </tr>\n",
       "  </tbody>\n",
       "</table>\n",
       "</div>"
      ],
      "text/plain": [
       "        val      test\n",
       "0  7.268045  7.321157\n",
       "1  7.252194  7.231868\n",
       "2  7.241304  7.203256\n",
       "3  7.331132  7.215654\n",
       "4  7.281935  7.236543"
      ]
     },
     "execution_count": 67,
     "metadata": {},
     "output_type": "execute_result"
    }
   ],
   "source": [
    "pd.DataFrame({\n",
    "    'val'  : mape2['val_mape'], \n",
    "    'test' : mape2['test_mape']\n",
    "})"
   ]
  },
  {
   "cell_type": "markdown",
   "metadata": {},
   "source": [
    "### lgbm_params2"
   ]
  },
  {
   "cell_type": "code",
   "execution_count": 17,
   "metadata": {},
   "outputs": [],
   "source": [
    "lgbm_params2 = {'num_leaves': 47, 'max_depth': 8, 'min_child_samples': 39, \n",
    "                'learning_rate': 0.03, 'reg_lambda': 0.3, 'min_split_gain': 0.01, \n",
    "                'colsample_bytree': 0.8, 'subsample': 0.8, 'subsample_freq': 5, 'max_bin': 56, \n",
    "                'boosting': 'dart', 'objective': 'regression', 'metric': 'mape', 'is_training_metric': True, 'n_estimators' : 10000, \n",
    "                'verbose' : -1}"
   ]
  },
  {
   "cell_type": "code",
   "execution_count": 18,
   "metadata": {},
   "outputs": [
    {
     "name": "stdout",
     "output_type": "stream",
     "text": [
      "[10000]\tvalid_0's mape: 0.00457212\n",
      "[10000]\tvalid_0's mape: 0.00456751\n",
      "[10000]\tvalid_0's mape: 0.00454316\n",
      "[10000]\tvalid_0's mape: 0.00460777\n",
      "[10000]\tvalid_0's mape: 0.00457778\n",
      "CPU times: user 2h 21min 59s, sys: 54.3 s, total: 2h 22min 53s\n",
      "Wall time: 18min 34s\n"
     ]
    }
   ],
   "source": [
    "%%time\n",
    "mape2, pred2 = model.lgbm_model(X, y2, lgbm_params2, version='0919-2', cv_splits=5, scaling='MinMax', epoch=10000)"
   ]
  },
  {
   "cell_type": "code",
   "execution_count": 19,
   "metadata": {},
   "outputs": [
    {
     "data": {
      "text/html": [
       "<div>\n",
       "<style scoped>\n",
       "    .dataframe tbody tr th:only-of-type {\n",
       "        vertical-align: middle;\n",
       "    }\n",
       "\n",
       "    .dataframe tbody tr th {\n",
       "        vertical-align: top;\n",
       "    }\n",
       "\n",
       "    .dataframe thead th {\n",
       "        text-align: right;\n",
       "    }\n",
       "</style>\n",
       "<table border=\"1\" class=\"dataframe\">\n",
       "  <thead>\n",
       "    <tr style=\"text-align: right;\">\n",
       "      <th></th>\n",
       "      <th>val</th>\n",
       "      <th>test</th>\n",
       "    </tr>\n",
       "  </thead>\n",
       "  <tbody>\n",
       "    <tr>\n",
       "      <th>0</th>\n",
       "      <td>7.238962</td>\n",
       "      <td>7.286363</td>\n",
       "    </tr>\n",
       "    <tr>\n",
       "      <th>1</th>\n",
       "      <td>7.239987</td>\n",
       "      <td>7.192826</td>\n",
       "    </tr>\n",
       "    <tr>\n",
       "      <th>2</th>\n",
       "      <td>7.205753</td>\n",
       "      <td>7.161827</td>\n",
       "    </tr>\n",
       "    <tr>\n",
       "      <th>3</th>\n",
       "      <td>7.290109</td>\n",
       "      <td>7.177960</td>\n",
       "    </tr>\n",
       "    <tr>\n",
       "      <th>4</th>\n",
       "      <td>7.241947</td>\n",
       "      <td>7.188442</td>\n",
       "    </tr>\n",
       "  </tbody>\n",
       "</table>\n",
       "</div>"
      ],
      "text/plain": [
       "        val      test\n",
       "0  7.238962  7.286363\n",
       "1  7.239987  7.192826\n",
       "2  7.205753  7.161827\n",
       "3  7.290109  7.177960\n",
       "4  7.241947  7.188442"
      ]
     },
     "execution_count": 19,
     "metadata": {},
     "output_type": "execute_result"
    }
   ],
   "source": [
    "pd.DataFrame({\n",
    "    'val'  : mape2['val_mape'], \n",
    "    'test' : mape2['test_mape']\n",
    "})"
   ]
  },
  {
   "cell_type": "code",
   "execution_count": 20,
   "metadata": {},
   "outputs": [
    {
     "data": {
      "text/plain": [
       "[7.131422999573787]"
      ]
     },
     "execution_count": 20,
     "metadata": {},
     "output_type": "execute_result"
    }
   ],
   "source": [
    "mape2['final_mape']"
   ]
  },
  {
   "cell_type": "markdown",
   "metadata": {},
   "source": [
    "### lgbm_params3"
   ]
  },
  {
   "cell_type": "code",
   "execution_count": 23,
   "metadata": {},
   "outputs": [],
   "source": [
    "lgbm_params3 = {'num_leaves': 35, 'max_depth': 16, 'min_child_samples': 16, \n",
    "                'learning_rate': 0.02, 'reg_lambda': 0.3, 'min_split_gain': 0.01, \n",
    "                'colsample_bytree': 0.8, 'subsample': 0.8, 'subsample_freq': 5, \n",
    "                'boosting': 'dart', 'objective': 'regression', 'metric': 'mape', 'is_training_metric': True, 'n_estimators' : 10000, \n",
    "                'verbose' : -1}"
   ]
  },
  {
   "cell_type": "code",
   "execution_count": 26,
   "metadata": {},
   "outputs": [
    {
     "name": "stdout",
     "output_type": "stream",
     "text": [
      "[10000]\tvalid_0's mape: 0.00655342\n",
      "[20000]\tvalid_0's mape: 0.0311102\n",
      "[10000]\tvalid_0's mape: 0.00656492\n",
      "[20000]\tvalid_0's mape: 0.0173574\n",
      "[10000]\tvalid_0's mape: 0.00654964\n",
      "[20000]\tvalid_0's mape: 0.0352045\n",
      "[10000]\tvalid_0's mape: 0.00660052\n",
      "[20000]\tvalid_0's mape: 0.0353653\n",
      "[10000]\tvalid_0's mape: 0.00659053\n",
      "[20000]\tvalid_0's mape: 0.0313237\n",
      "CPU times: user 3h 59min 37s, sys: 23.7 s, total: 4h\n",
      "Wall time: 30min 13s\n"
     ]
    }
   ],
   "source": [
    "%%time\n",
    "mape3, pred3 = model.lgbm_model(X, y2, lgbm_params3, version='0919-3', cv_splits=5, scaling=False, epoch=10000)"
   ]
  },
  {
   "cell_type": "code",
   "execution_count": 27,
   "metadata": {},
   "outputs": [
    {
     "data": {
      "text/html": [
       "<div>\n",
       "<style scoped>\n",
       "    .dataframe tbody tr th:only-of-type {\n",
       "        vertical-align: middle;\n",
       "    }\n",
       "\n",
       "    .dataframe tbody tr th {\n",
       "        vertical-align: top;\n",
       "    }\n",
       "\n",
       "    .dataframe thead th {\n",
       "        text-align: right;\n",
       "    }\n",
       "</style>\n",
       "<table border=\"1\" class=\"dataframe\">\n",
       "  <thead>\n",
       "    <tr style=\"text-align: right;\">\n",
       "      <th></th>\n",
       "      <th>val</th>\n",
       "      <th>test</th>\n",
       "    </tr>\n",
       "  </thead>\n",
       "  <tbody>\n",
       "    <tr>\n",
       "      <th>0</th>\n",
       "      <td>45.569469</td>\n",
       "      <td>45.566178</td>\n",
       "    </tr>\n",
       "    <tr>\n",
       "      <th>1</th>\n",
       "      <td>30.840527</td>\n",
       "      <td>30.841481</td>\n",
       "    </tr>\n",
       "    <tr>\n",
       "      <th>2</th>\n",
       "      <td>49.220667</td>\n",
       "      <td>49.212339</td>\n",
       "    </tr>\n",
       "    <tr>\n",
       "      <th>3</th>\n",
       "      <td>49.091660</td>\n",
       "      <td>49.044979</td>\n",
       "    </tr>\n",
       "    <tr>\n",
       "      <th>4</th>\n",
       "      <td>45.351920</td>\n",
       "      <td>45.333955</td>\n",
       "    </tr>\n",
       "  </tbody>\n",
       "</table>\n",
       "</div>"
      ],
      "text/plain": [
       "         val       test\n",
       "0  45.569469  45.566178\n",
       "1  30.840527  30.841481\n",
       "2  49.220667  49.212339\n",
       "3  49.091660  49.044979\n",
       "4  45.351920  45.333955"
      ]
     },
     "execution_count": 27,
     "metadata": {},
     "output_type": "execute_result"
    }
   ],
   "source": [
    "pd.DataFrame({\n",
    "    'val'  : mape3['val_mape'], \n",
    "    'test' : mape3['test_mape']\n",
    "})"
   ]
  },
  {
   "cell_type": "code",
   "execution_count": 28,
   "metadata": {},
   "outputs": [
    {
     "data": {
      "text/plain": [
       "[43.999786478274494]"
      ]
     },
     "execution_count": 28,
     "metadata": {},
     "output_type": "execute_result"
    }
   ],
   "source": [
    "mape3['final_mape']"
   ]
  },
  {
   "cell_type": "code",
   "execution_count": null,
   "metadata": {},
   "outputs": [],
   "source": []
  }
 ],
 "metadata": {
  "kernelspec": {
   "display_name": "Python 3",
   "language": "python",
   "name": "python3"
  },
  "language_info": {
   "codemirror_mode": {
    "name": "ipython",
    "version": 3
   },
   "file_extension": ".py",
   "mimetype": "text/x-python",
   "name": "python",
   "nbconvert_exporter": "python",
   "pygments_lexer": "ipython3",
   "version": "3.8.3"
  }
 },
 "nbformat": 4,
 "nbformat_minor": 4
}
