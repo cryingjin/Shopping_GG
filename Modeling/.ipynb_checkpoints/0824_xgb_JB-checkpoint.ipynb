{
 "cells": [
  {
   "cell_type": "code",
   "execution_count": 1,
   "metadata": {},
   "outputs": [],
   "source": [
    "import os\n",
    "import sys\n",
    "import joblib\n",
    "\n",
    "import pandas as pd \n",
    "import numpy as np\n",
    "pd.options.display.max_rows = 100\n",
    "\n",
    "import imp\n",
    "import datetime\n",
    "from tqdm import tqdm"
   ]
  },
  {
   "cell_type": "code",
   "execution_count": 2,
   "metadata": {},
   "outputs": [],
   "source": [
    "%matplotlib inline\n",
    "import matplotlib.pyplot as plt\n",
    "import seaborn as sns"
   ]
  },
  {
   "cell_type": "code",
   "execution_count": 36,
   "metadata": {},
   "outputs": [],
   "source": [
    "plt.style.use('seaborn')\n",
    "plt.rc('font', family='Malgun Gothic')\n",
    "plt.rc('axes', unicode_minus=False)"
   ]
  },
  {
   "cell_type": "code",
   "execution_count": 3,
   "metadata": {},
   "outputs": [],
   "source": [
    "import FE_0824 as FE"
   ]
  },
  {
   "cell_type": "markdown",
   "metadata": {},
   "source": [
    "# Data Load"
   ]
  },
  {
   "cell_type": "code",
   "execution_count": 4,
   "metadata": {},
   "outputs": [],
   "source": [
    "sale = pd.read_excel(os.path.join('..', '..', 'master', 'Shopping_GG', '0.Data', '01_제공데이터', 'sale_data_v04_0823.xlsx'))\n",
    "meta = pd.read_excel(os.path.join('..', '..', 'master', 'Shopping_GG', '0.Data', '01_제공데이터', 'sale_meta_v04_0823.xlsx'))\n",
    "item = pd.read_excel(os.path.join('..', '..', 'master', 'Shopping_GG', '0.Data', '01_제공데이터', 'item_meta_v03_0823.xlsx'))"
   ]
  },
  {
   "cell_type": "code",
   "execution_count": 5,
   "metadata": {},
   "outputs": [
    {
     "data": {
      "text/plain": [
       "((38309, 15), (2042, 15), (1364, 12))"
      ]
     },
     "execution_count": 5,
     "metadata": {},
     "output_type": "execute_result"
    }
   ],
   "source": [
    "sale.shape, meta.shape, item.shape"
   ]
  },
  {
   "cell_type": "code",
   "execution_count": 8,
   "metadata": {
    "scrolled": true
   },
   "outputs": [
    {
     "data": {
      "text/html": [
       "<div>\n",
       "<style scoped>\n",
       "    .dataframe tbody tr th:only-of-type {\n",
       "        vertical-align: middle;\n",
       "    }\n",
       "\n",
       "    .dataframe tbody tr th {\n",
       "        vertical-align: top;\n",
       "    }\n",
       "\n",
       "    .dataframe thead th {\n",
       "        text-align: right;\n",
       "    }\n",
       "</style>\n",
       "<table border=\"1\" class=\"dataframe\">\n",
       "  <thead>\n",
       "    <tr style=\"text-align: right;\">\n",
       "      <th></th>\n",
       "      <th>방송일시</th>\n",
       "      <th>노출(분)</th>\n",
       "      <th>마더코드</th>\n",
       "      <th>상품코드</th>\n",
       "      <th>상품명</th>\n",
       "      <th>상품군</th>\n",
       "      <th>판매단가</th>\n",
       "      <th>취급액</th>\n",
       "      <th>NEW상품코드</th>\n",
       "      <th>NEW상품명</th>\n",
       "      <th>결제방법</th>\n",
       "      <th>단위</th>\n",
       "      <th>브랜드</th>\n",
       "      <th>옵션</th>\n",
       "      <th>종류</th>\n",
       "    </tr>\n",
       "  </thead>\n",
       "  <tbody>\n",
       "    <tr>\n",
       "      <th>0</th>\n",
       "      <td>2019-01-01 06:00:00</td>\n",
       "      <td>20.0</td>\n",
       "      <td>100346</td>\n",
       "      <td>201072</td>\n",
       "      <td>테이트 남성 셀린니트3종</td>\n",
       "      <td>의류</td>\n",
       "      <td>39900</td>\n",
       "      <td>2099000.0</td>\n",
       "      <td>865.0</td>\n",
       "      <td>테이트 남성 셀린니트 3종</td>\n",
       "      <td>0.0</td>\n",
       "      <td>3종</td>\n",
       "      <td>테이트</td>\n",
       "      <td>NaN</td>\n",
       "      <td>0</td>\n",
       "    </tr>\n",
       "    <tr>\n",
       "      <th>1</th>\n",
       "      <td>2019-01-01 06:00:00</td>\n",
       "      <td>NaN</td>\n",
       "      <td>100346</td>\n",
       "      <td>201079</td>\n",
       "      <td>테이트 여성 셀린니트3종</td>\n",
       "      <td>의류</td>\n",
       "      <td>39900</td>\n",
       "      <td>4371000.0</td>\n",
       "      <td>866.0</td>\n",
       "      <td>테이트 여성 셀린니트 3종</td>\n",
       "      <td>0.0</td>\n",
       "      <td>3종</td>\n",
       "      <td>테이트</td>\n",
       "      <td>NaN</td>\n",
       "      <td>0</td>\n",
       "    </tr>\n",
       "    <tr>\n",
       "      <th>2</th>\n",
       "      <td>2019-01-01 06:20:00</td>\n",
       "      <td>20.0</td>\n",
       "      <td>100346</td>\n",
       "      <td>201072</td>\n",
       "      <td>테이트 남성 셀린니트3종</td>\n",
       "      <td>의류</td>\n",
       "      <td>39900</td>\n",
       "      <td>3262000.0</td>\n",
       "      <td>865.0</td>\n",
       "      <td>테이트 남성 셀린니트 3종</td>\n",
       "      <td>0.0</td>\n",
       "      <td>3종</td>\n",
       "      <td>테이트</td>\n",
       "      <td>NaN</td>\n",
       "      <td>0</td>\n",
       "    </tr>\n",
       "    <tr>\n",
       "      <th>3</th>\n",
       "      <td>2019-01-01 06:20:00</td>\n",
       "      <td>NaN</td>\n",
       "      <td>100346</td>\n",
       "      <td>201079</td>\n",
       "      <td>테이트 여성 셀린니트3종</td>\n",
       "      <td>의류</td>\n",
       "      <td>39900</td>\n",
       "      <td>6955000.0</td>\n",
       "      <td>866.0</td>\n",
       "      <td>테이트 여성 셀린니트 3종</td>\n",
       "      <td>0.0</td>\n",
       "      <td>3종</td>\n",
       "      <td>테이트</td>\n",
       "      <td>NaN</td>\n",
       "      <td>0</td>\n",
       "    </tr>\n",
       "    <tr>\n",
       "      <th>4</th>\n",
       "      <td>2019-01-01 06:40:00</td>\n",
       "      <td>20.0</td>\n",
       "      <td>100346</td>\n",
       "      <td>201072</td>\n",
       "      <td>테이트 남성 셀린니트3종</td>\n",
       "      <td>의류</td>\n",
       "      <td>39900</td>\n",
       "      <td>6672000.0</td>\n",
       "      <td>865.0</td>\n",
       "      <td>테이트 남성 셀린니트 3종</td>\n",
       "      <td>0.0</td>\n",
       "      <td>3종</td>\n",
       "      <td>테이트</td>\n",
       "      <td>NaN</td>\n",
       "      <td>0</td>\n",
       "    </tr>\n",
       "  </tbody>\n",
       "</table>\n",
       "</div>"
      ],
      "text/plain": [
       "                 방송일시  노출(분)    마더코드    상품코드            상품명 상품군   판매단가  \\\n",
       "0 2019-01-01 06:00:00   20.0  100346  201072  테이트 남성 셀린니트3종  의류  39900   \n",
       "1 2019-01-01 06:00:00    NaN  100346  201079  테이트 여성 셀린니트3종  의류  39900   \n",
       "2 2019-01-01 06:20:00   20.0  100346  201072  테이트 남성 셀린니트3종  의류  39900   \n",
       "3 2019-01-01 06:20:00    NaN  100346  201079  테이트 여성 셀린니트3종  의류  39900   \n",
       "4 2019-01-01 06:40:00   20.0  100346  201072  테이트 남성 셀린니트3종  의류  39900   \n",
       "\n",
       "         취급액  NEW상품코드          NEW상품명  결제방법  단위  브랜드   옵션 종류  \n",
       "0  2099000.0    865.0  테이트 남성 셀린니트 3종   0.0  3종  테이트  NaN  0  \n",
       "1  4371000.0    866.0  테이트 여성 셀린니트 3종   0.0  3종  테이트  NaN  0  \n",
       "2  3262000.0    865.0  테이트 남성 셀린니트 3종   0.0  3종  테이트  NaN  0  \n",
       "3  6955000.0    866.0  테이트 여성 셀린니트 3종   0.0  3종  테이트  NaN  0  \n",
       "4  6672000.0    865.0  테이트 남성 셀린니트 3종   0.0  3종  테이트  NaN  0  "
      ]
     },
     "execution_count": 8,
     "metadata": {},
     "output_type": "execute_result"
    }
   ],
   "source": [
    "sale.head()"
   ]
  },
  {
   "cell_type": "code",
   "execution_count": 9,
   "metadata": {},
   "outputs": [],
   "source": [
    "# 무형 데이터 처리 : 동일 상품명으로 채워줌 \n",
    "sale[\"NEW상품명\"] = sale[\"NEW상품명\"].fillna(sale[\"상품명\"])"
   ]
  },
  {
   "cell_type": "markdown",
   "metadata": {},
   "source": [
    "# Feature Engineering"
   ]
  },
  {
   "cell_type": "code",
   "execution_count": 10,
   "metadata": {
    "scrolled": false
   },
   "outputs": [
    {
     "data": {
      "text/plain": [
       "<module 'FE_0824' from 'C:\\\\Users\\\\LG\\\\Jupyter Notebook\\\\bigcontest\\\\git\\\\Shopping_GG\\\\Modeling\\\\FE_0824.py'>"
      ]
     },
     "execution_count": 10,
     "metadata": {},
     "output_type": "execute_result"
    }
   ],
   "source": [
    "imp.reload(FE)"
   ]
  },
  {
   "cell_type": "code",
   "execution_count": 11,
   "metadata": {},
   "outputs": [],
   "source": [
    "sale2 = sale.copy()"
   ]
  },
  {
   "cell_type": "code",
   "execution_count": 12,
   "metadata": {},
   "outputs": [],
   "source": [
    "sale2 = FE.FE_product_timelag_JB.broadcast_count(sale2)\n",
    "sale2 = FE.FE_product_timelag_JB.sales_count(sale2)"
   ]
  },
  {
   "cell_type": "code",
   "execution_count": 13,
   "metadata": {},
   "outputs": [],
   "source": [
    "# 예진\n",
    "sale2 = FE.FE_sold_out_fill_time_YJ.sold_out_fill_time(sale2)"
   ]
  },
  {
   "cell_type": "code",
   "execution_count": 14,
   "metadata": {
    "scrolled": false
   },
   "outputs": [
    {
     "name": "stdout",
     "output_type": "stream",
     "text": [
      "연도입력\n",
      "2019\n"
     ]
    }
   ],
   "source": [
    "# 진석 \n",
    "sale2 = FE.FE_dateprice_JS.preprocessing(sale2)"
   ]
  },
  {
   "cell_type": "code",
   "execution_count": 15,
   "metadata": {
    "scrolled": false
   },
   "outputs": [
    {
     "data": {
      "text/plain": [
       "방송일시                  0\n",
       "노출(분)                 0\n",
       "마더코드                  0\n",
       "상품코드                  0\n",
       "상품명                   0\n",
       "상품군                   0\n",
       "판매단가                  0\n",
       "취급액                2930\n",
       "NEW상품코드             937\n",
       "NEW상품명                0\n",
       "결제방법                937\n",
       "단위                15919\n",
       "브랜드                5243\n",
       "옵션                34169\n",
       "종류                15565\n",
       "상품노출횟수                0\n",
       "브랜드노출횟수               0\n",
       "상품총판매횟수               0\n",
       "브랜드총판매횟수              0\n",
       "조기매진                  0\n",
       "locdate               0\n",
       "isHoliday         36482\n",
       "방송월                   0\n",
       "방송시간(시간)              0\n",
       "방송시간(분)               0\n",
       "평일여부                  0\n",
       "방송시간대                 0\n",
       "계절                    0\n",
       "분기                    0\n",
       "성별                    0\n",
       "상품군_최고판매단가          937\n",
       "상품군_최저판매단가          937\n",
       "상품군_평균판매단가          937\n",
       "상품군_중간판매단가          937\n",
       "상품군_최고-최저           937\n",
       "상품군_표준편차            937\n",
       "상품군_분산              937\n",
       "마더코드_최고판매단가         937\n",
       "마더코드_최저판매단가         937\n",
       "마더코드_평균판매단가         937\n",
       "마더코드_최고-최저          937\n",
       "마더코드_분산             937\n",
       "마더코드_표준편차           937\n",
       "상품군&브랜드_최고판매단가     5243\n",
       "상품군&브랜드_최저판매단가     5243\n",
       "상품군&브랜드_평균판매단가     5243\n",
       "상품군&브랜드_중간판매단가     5243\n",
       "상품군&브랜드_최고-최저      5243\n",
       "상품군&브랜드_표준편차       6251\n",
       "상품군&브랜드_분산         6251\n",
       "NEW_최고판매단가          937\n",
       "NEW_최저판매단가          937\n",
       "NEW_평균판매단가          937\n",
       "NEW_중간판매단가          937\n",
       "NEW_최고-최저           937\n",
       "NEW_분산              937\n",
       "NEW_표준편차            937\n",
       "상품군_가격대             937\n",
       "전체_가격대              937\n",
       "상품군평균판매단가차이         937\n",
       "dtype: int64"
      ]
     },
     "execution_count": 15,
     "metadata": {},
     "output_type": "execute_result"
    }
   ],
   "source": [
    "sale2.isnull().sum()"
   ]
  },
  {
   "cell_type": "markdown",
   "metadata": {},
   "source": [
    "## Preprocessing"
   ]
  },
  {
   "cell_type": "markdown",
   "metadata": {},
   "source": [
    "### isHoliday"
   ]
  },
  {
   "cell_type": "code",
   "execution_count": 16,
   "metadata": {
    "scrolled": false
   },
   "outputs": [
    {
     "data": {
      "text/plain": [
       "Y    1827\n",
       "Name: isHoliday, dtype: int64"
      ]
     },
     "execution_count": 16,
     "metadata": {},
     "output_type": "execute_result"
    }
   ],
   "source": [
    "sale2[\"isHoliday\"].value_counts()"
   ]
  },
  {
   "cell_type": "code",
   "execution_count": 17,
   "metadata": {},
   "outputs": [],
   "source": [
    "sale2[\"isHoliday\"] = sale2[\"isHoliday\"].map(lambda x : 1 if x == 'Y' else 0)"
   ]
  },
  {
   "cell_type": "code",
   "execution_count": 18,
   "metadata": {
    "scrolled": true
   },
   "outputs": [
    {
     "data": {
      "text/plain": [
       "0    36482\n",
       "1     1827\n",
       "Name: isHoliday, dtype: int64"
      ]
     },
     "execution_count": 18,
     "metadata": {},
     "output_type": "execute_result"
    }
   ],
   "source": [
    "sale2[\"isHoliday\"].value_counts()"
   ]
  },
  {
   "cell_type": "markdown",
   "metadata": {},
   "source": [
    "### 무형 상품군 제외 "
   ]
  },
  {
   "cell_type": "code",
   "execution_count": 19,
   "metadata": {
    "scrolled": true
   },
   "outputs": [
    {
     "data": {
      "text/plain": [
       "(37372, 60)"
      ]
     },
     "execution_count": 19,
     "metadata": {},
     "output_type": "execute_result"
    }
   ],
   "source": [
    "sale2 = sale2.loc[sale2[\"상품군\"] != \"무형\"]\n",
    "sale2.shape"
   ]
  },
  {
   "cell_type": "markdown",
   "metadata": {},
   "source": [
    "### 취급액 \n",
    "* 이거때문에 MAPE값 크게 나오는 것 같은데 ... "
   ]
  },
  {
   "cell_type": "code",
   "execution_count": 20,
   "metadata": {},
   "outputs": [],
   "source": [
    "sale2[\"취급액\"] = sale2[\"취급액\"].fillna(1e-5)"
   ]
  },
  {
   "cell_type": "markdown",
   "metadata": {},
   "source": [
    "### 상품군&브랜드 결측값 "
   ]
  },
  {
   "cell_type": "code",
   "execution_count": 21,
   "metadata": {},
   "outputs": [],
   "source": [
    "sale2 = sale2.fillna(0)"
   ]
  },
  {
   "cell_type": "markdown",
   "metadata": {},
   "source": [
    "### 더미화 "
   ]
  },
  {
   "cell_type": "code",
   "execution_count": 22,
   "metadata": {},
   "outputs": [],
   "source": [
    "category = ['결제방법', '상품군_가격대', '전체_가격대', '상품군', '방송시간(시간)']\n",
    "\n",
    "drop_columns = ['방송일시', '상품명', '마더코드', '상품코드', \n",
    "                'NEW상품코드', 'NEW상품명', '옵션', '종류', '단위', '브랜드', 'locdate',                 \n",
    "                '취급액']"
   ]
  },
  {
   "cell_type": "code",
   "execution_count": 23,
   "metadata": {},
   "outputs": [],
   "source": [
    "for c in category:\n",
    "    sale2[c] = sale2[c].astype(str)"
   ]
  },
  {
   "cell_type": "code",
   "execution_count": 24,
   "metadata": {},
   "outputs": [],
   "source": [
    "y = sale2['취급액']\n",
    "temp = sale2[drop_columns]\n",
    "data= sale2.drop(drop_columns, axis = 1)"
   ]
  },
  {
   "cell_type": "code",
   "execution_count": 25,
   "metadata": {},
   "outputs": [
    {
     "name": "stdout",
     "output_type": "stream",
     "text": [
      "<class 'pandas.core.frame.DataFrame'>\n",
      "Int64Index: 37372 entries, 0 to 38303\n",
      "Data columns (total 48 columns):\n",
      "노출(분)             37372 non-null float64\n",
      "상품군               37372 non-null object\n",
      "판매단가              37372 non-null int64\n",
      "결제방법              37372 non-null object\n",
      "상품노출횟수            37372 non-null float64\n",
      "브랜드노출횟수           37372 non-null float64\n",
      "상품총판매횟수           37372 non-null int64\n",
      "브랜드총판매횟수          37372 non-null float64\n",
      "조기매진              37372 non-null int64\n",
      "isHoliday         37372 non-null int64\n",
      "방송월               37372 non-null int64\n",
      "방송시간(시간)          37372 non-null object\n",
      "방송시간(분)           37372 non-null int64\n",
      "평일여부              37372 non-null int64\n",
      "방송시간대             37372 non-null object\n",
      "계절                37372 non-null object\n",
      "분기                37372 non-null object\n",
      "성별                37372 non-null int64\n",
      "상품군_최고판매단가        37372 non-null float64\n",
      "상품군_최저판매단가        37372 non-null float64\n",
      "상품군_평균판매단가        37372 non-null float64\n",
      "상품군_중간판매단가        37372 non-null float64\n",
      "상품군_최고-최저         37372 non-null float64\n",
      "상품군_표준편차          37372 non-null float64\n",
      "상품군_분산            37372 non-null float64\n",
      "마더코드_최고판매단가       37372 non-null float64\n",
      "마더코드_최저판매단가       37372 non-null float64\n",
      "마더코드_평균판매단가       37372 non-null float64\n",
      "마더코드_최고-최저        37372 non-null float64\n",
      "마더코드_분산           37372 non-null float64\n",
      "마더코드_표준편차         37372 non-null float64\n",
      "상품군&브랜드_최고판매단가    37372 non-null float64\n",
      "상품군&브랜드_최저판매단가    37372 non-null float64\n",
      "상품군&브랜드_평균판매단가    37372 non-null float64\n",
      "상품군&브랜드_중간판매단가    37372 non-null float64\n",
      "상품군&브랜드_최고-최저     37372 non-null float64\n",
      "상품군&브랜드_표준편차      37372 non-null float64\n",
      "상품군&브랜드_분산        37372 non-null float64\n",
      "NEW_최고판매단가        37372 non-null float64\n",
      "NEW_최저판매단가        37372 non-null float64\n",
      "NEW_평균판매단가        37372 non-null float64\n",
      "NEW_중간판매단가        37372 non-null float64\n",
      "NEW_최고-최저         37372 non-null float64\n",
      "NEW_분산            37372 non-null float64\n",
      "NEW_표준편차          37372 non-null float64\n",
      "상품군_가격대           37372 non-null object\n",
      "전체_가격대            37372 non-null object\n",
      "상품군평균판매단가차이       37372 non-null float64\n",
      "dtypes: float64(32), int64(8), object(8)\n",
      "memory usage: 14.0+ MB\n"
     ]
    }
   ],
   "source": [
    "data.info()"
   ]
  },
  {
   "cell_type": "code",
   "execution_count": 26,
   "metadata": {},
   "outputs": [],
   "source": [
    "X = pd.get_dummies(data)"
   ]
  },
  {
   "cell_type": "code",
   "execution_count": 27,
   "metadata": {},
   "outputs": [
    {
     "data": {
      "text/plain": [
       "((37372, 99), (37372,))"
      ]
     },
     "execution_count": 27,
     "metadata": {},
     "output_type": "execute_result"
    }
   ],
   "source": [
    "X.shape, y.shape"
   ]
  },
  {
   "cell_type": "code",
   "execution_count": 37,
   "metadata": {},
   "outputs": [
    {
     "data": {
      "text/plain": [
       "<matplotlib.axes._subplots.AxesSubplot at 0x1d9190af8d0>"
      ]
     },
     "execution_count": 37,
     "metadata": {},
     "output_type": "execute_result"
    },
    {
     "data": {
      "image/png": "[encoded data removed]",
      "text/plain": [
       "<Figure size 864x288 with 2 Axes>"
      ]
     },
     "metadata": {},
     "output_type": "display_data"
    }
   ],
   "source": [
    "figure, (ax1, ax2) = plt.subplots(ncols=2)\n",
    "figure.set_size_inches(12,4)\n",
    "\n",
    "sns.boxplot(y, ax=ax1)\n",
    "sns.distplot(y, ax=ax2)"
   ]
  },
  {
   "cell_type": "code",
   "execution_count": 38,
   "metadata": {},
   "outputs": [
    {
     "data": {
      "text/plain": [
       "<matplotlib.axes._subplots.AxesSubplot at 0x1d9191ddef0>"
      ]
     },
     "execution_count": 38,
     "metadata": {},
     "output_type": "execute_result"
    },
    {
     "data": {
      "image/png": "[encoded data removed]",
      "text/plain": [
       "<Figure size 864x288 with 2 Axes>"
      ]
     },
     "metadata": {},
     "output_type": "display_data"
    }
   ],
   "source": [
    "# log변환 후의 y  \n",
    "figure, (ax1, ax2) = plt.subplots(ncols=2)\n",
    "figure.set_size_inches(12,4)\n",
    "\n",
    "sns.boxplot(np.log1p(y), ax=ax1)\n",
    "sns.distplot(np.log1p(y), ax=ax2)"
   ]
  },
  {
   "cell_type": "code",
   "execution_count": 41,
   "metadata": {},
   "outputs": [
    {
     "data": {
      "text/plain": [
       "(1993, 60)"
      ]
     },
     "execution_count": 41,
     "metadata": {},
     "output_type": "execute_result"
    }
   ],
   "source": [
    "# 주문량 0... 어떻게 해야 하나...? 어차피 평가지표 값은 크게 나올 수 밖에 없는 것 같은데 \n",
    "sale2.loc[sale2[\"취급액\"] < 1].shape "
   ]
  },
  {
   "cell_type": "markdown",
   "metadata": {},
   "source": [
    "## Modeling"
   ]
  },
  {
   "cell_type": "code",
   "execution_count": 31,
   "metadata": {},
   "outputs": [],
   "source": [
    "import random"
   ]
  },
  {
   "cell_type": "code",
   "execution_count": 30,
   "metadata": {},
   "outputs": [],
   "source": [
    "import optuna\n",
    "optuna.logging.set_verbosity(optuna.logging.WARNING)"
   ]
  },
  {
   "cell_type": "code",
   "execution_count": 32,
   "metadata": {},
   "outputs": [
    {
     "data": {
      "text/html": [
       "<style type='text/css'>\n",
       ".datatable table.frame { margin-bottom: 0; }\n",
       ".datatable table.frame thead { border-bottom: none; }\n",
       ".datatable table.frame tr.coltypes td {  color: #FFFFFF;  line-height: 6px;  padding: 0 0.5em;}\n",
       ".datatable .boolean { background: #DDDD99; }\n",
       ".datatable .object  { background: #565656; }\n",
       ".datatable .integer { background: #5D9E5D; }\n",
       ".datatable .float   { background: #4040CC; }\n",
       ".datatable .string  { background: #CC4040; }\n",
       ".datatable .row_index {  background: var(--jp-border-color3);  border-right: 1px solid var(--jp-border-color0);  color: var(--jp-ui-font-color3);  font-size: 9px;}\n",
       ".datatable .frame tr.coltypes .row_index {  background: var(--jp-border-color0);}\n",
       ".datatable th:nth-child(2) { padding-left: 12px; }\n",
       ".datatable .hellipsis {  color: var(--jp-cell-editor-border-color);}\n",
       ".datatable .vellipsis {  background: var(--jp-layout-color0);  color: var(--jp-cell-editor-border-color);}\n",
       ".datatable .na {  color: var(--jp-cell-editor-border-color);  font-size: 80%;}\n",
       ".datatable .footer { font-size: 9px; }\n",
       ".datatable .frame_dimensions {  background: var(--jp-border-color3);  border-top: 1px solid var(--jp-border-color0);  color: var(--jp-ui-font-color3);  display: inline-block;  opacity: 0.6;  padding: 1px 10px 1px 5px;}\n",
       "</style>\n"
      ],
      "text/plain": [
       "<IPython.core.display.HTML object>"
      ]
     },
     "metadata": {},
     "output_type": "display_data"
    }
   ],
   "source": [
    "from sklearn.model_selection import KFold\n",
    "from sklearn.preprocessing import RobustScaler\n",
    "\n",
    "from sklearn.linear_model import LinearRegression, Ridge\n",
    "from sklearn.svm import LinearSVR\n",
    "from lightgbm import LGBMRegressor\n",
    "from xgboost import XGBRegressor\n",
    "from catboost import CatBoostRegressor"
   ]
  },
  {
   "cell_type": "code",
   "execution_count": 33,
   "metadata": {},
   "outputs": [],
   "source": [
    "import warnings\n",
    "warnings.filterwarnings(action='ignore')"
   ]
  },
  {
   "cell_type": "markdown",
   "metadata": {},
   "source": [
    "### 평가지표 : MAPE"
   ]
  },
  {
   "cell_type": "code",
   "execution_count": 42,
   "metadata": {},
   "outputs": [],
   "source": [
    "def mean_absolute_percentage_error(y_true, y_pred): \n",
    "    y_true, y_pred = np.array(y_true), np.array(y_pred)\n",
    "    return np.mean(np.abs((y_true - y_pred) / y_true)) * 100"
   ]
  },
  {
   "cell_type": "markdown",
   "metadata": {},
   "source": [
    "### xgboost "
   ]
  },
  {
   "cell_type": "code",
   "execution_count": 45,
   "metadata": {},
   "outputs": [],
   "source": [
    "import xgboost as xgb\n",
    "model = xgb.XGBRegressor()"
   ]
  },
  {
   "cell_type": "code",
   "execution_count": 46,
   "metadata": {},
   "outputs": [],
   "source": [
    "xgb_params = {'min_child_weight': 1, 'eta': 0.5, 'colsample_bytree': 0.9, \n",
    "            'max_depth': 6, 'subsample': 0.9, 'lambda': 1., 'nthread': -1, 'booster' : 'gbtree', 'silent': 1, \n",
    "            'objective': 'reg:linear'}"
   ]
  },
  {
   "cell_type": "code",
   "execution_count": 47,
   "metadata": {
    "scrolled": false
   },
   "outputs": [
    {
     "name": "stdout",
     "output_type": "stream",
     "text": [
      "[0]\ttrain-rmse:1.97804e+07\tvalid-rmse:2.22883e+07\n",
      "Multiple eval metrics have been passed: 'valid-rmse' will be used for early stopping.\n",
      "\n",
      "Will train until valid-rmse hasn't improved in 100 rounds.\n",
      "[10]\ttrain-rmse:1.09885e+07\tvalid-rmse:1.28405e+07\n",
      "[20]\ttrain-rmse:9.98568e+06\tvalid-rmse:1.2654e+07\n",
      "[30]\ttrain-rmse:9.29555e+06\tvalid-rmse:1.22916e+07\n",
      "[40]\ttrain-rmse:8.78392e+06\tvalid-rmse:1.21417e+07\n",
      "[50]\ttrain-rmse:8.36986e+06\tvalid-rmse:1.23432e+07\n",
      "[60]\ttrain-rmse:8.12146e+06\tvalid-rmse:1.22517e+07\n",
      "[70]\ttrain-rmse:7.85121e+06\tvalid-rmse:1.21662e+07\n",
      "[80]\ttrain-rmse:7.66711e+06\tvalid-rmse:1.2154e+07\n",
      "[90]\ttrain-rmse:7.46322e+06\tvalid-rmse:1.21748e+07\n",
      "[100]\ttrain-rmse:7.30667e+06\tvalid-rmse:1.23088e+07\n",
      "[110]\ttrain-rmse:7.1669e+06\tvalid-rmse:1.22423e+07\n",
      "[120]\ttrain-rmse:7.03035e+06\tvalid-rmse:1.23382e+07\n",
      "[130]\ttrain-rmse:6.91028e+06\tvalid-rmse:1.22934e+07\n",
      "[140]\ttrain-rmse:6.78776e+06\tvalid-rmse:1.22216e+07\n",
      "[150]\ttrain-rmse:6.7061e+06\tvalid-rmse:1.22371e+07\n",
      "[160]\ttrain-rmse:6.62035e+06\tvalid-rmse:1.22486e+07\n",
      "[170]\ttrain-rmse:6.54019e+06\tvalid-rmse:1.22362e+07\n",
      "[180]\ttrain-rmse:6.45999e+06\tvalid-rmse:1.22122e+07\n",
      "Stopping. Best iteration:\n",
      "[86]\ttrain-rmse:7.54176e+06\tvalid-rmse:1.20504e+07\n",
      "\n",
      "[2225446137766.6274]\n",
      "[0]\ttrain-rmse:1.99867e+07\tvalid-rmse:1.76683e+07\n",
      "Multiple eval metrics have been passed: 'valid-rmse' will be used for early stopping.\n",
      "\n",
      "Will train until valid-rmse hasn't improved in 100 rounds.\n",
      "[10]\ttrain-rmse:1.11656e+07\tvalid-rmse:1.02623e+07\n",
      "[20]\ttrain-rmse:1.00456e+07\tvalid-rmse:9.93229e+06\n",
      "[30]\ttrain-rmse:9.45001e+06\tvalid-rmse:9.8923e+06\n",
      "[40]\ttrain-rmse:8.92126e+06\tvalid-rmse:9.88957e+06\n",
      "[50]\ttrain-rmse:8.53446e+06\tvalid-rmse:9.78264e+06\n",
      "[60]\ttrain-rmse:8.1614e+06\tvalid-rmse:9.61782e+06\n",
      "[70]\ttrain-rmse:7.95385e+06\tvalid-rmse:9.52969e+06\n",
      "[80]\ttrain-rmse:7.73849e+06\tvalid-rmse:9.57446e+06\n",
      "[90]\ttrain-rmse:7.54813e+06\tvalid-rmse:9.4983e+06\n",
      "[100]\ttrain-rmse:7.4244e+06\tvalid-rmse:9.55755e+06\n",
      "[110]\ttrain-rmse:7.29178e+06\tvalid-rmse:9.47310e+06\n",
      "[120]\ttrain-rmse:7.12325e+06\tvalid-rmse:9.45724e+06\n",
      "[130]\ttrain-rmse:7.00158e+06\tvalid-rmse:9.36651e+06\n",
      "[140]\ttrain-rmse:6.8833e+06\tvalid-rmse:9.39776e+06\n",
      "[150]\ttrain-rmse:6.77157e+06\tvalid-rmse:9.40991e+06\n",
      "[160]\ttrain-rmse:6.68524e+06\tvalid-rmse:9.40562e+06\n",
      "[170]\ttrain-rmse:6.61931e+06\tvalid-rmse:9.39179e+06\n",
      "[180]\ttrain-rmse:6.52543e+06\tvalid-rmse:9.41355e+06\n",
      "[190]\ttrain-rmse:6.45427e+06\tvalid-rmse:9.34815e+06\n",
      "[200]\ttrain-rmse:6.38892e+06\tvalid-rmse:9.32743e+06\n",
      "[210]\ttrain-rmse:6.33994e+06\tvalid-rmse:9.33783e+06\n",
      "[220]\ttrain-rmse:6.29876e+06\tvalid-rmse:9.3233e+06\n",
      "[230]\ttrain-rmse:6.24922e+06\tvalid-rmse:9.30844e+06\n",
      "[240]\ttrain-rmse:6.19661e+06\tvalid-rmse:9.30471e+06\n",
      "[250]\ttrain-rmse:6.15211e+06\tvalid-rmse:9.31356e+06\n",
      "[260]\ttrain-rmse:6.09869e+06\tvalid-rmse:9.29563e+06\n",
      "[270]\ttrain-rmse:6.05728e+06\tvalid-rmse:9.30574e+06\n",
      "[280]\ttrain-rmse:6.01505e+06\tvalid-rmse:9.33376e+06\n",
      "[290]\ttrain-rmse:5.96373e+06\tvalid-rmse:9.3092e+06\n",
      "[300]\ttrain-rmse:5.93376e+06\tvalid-rmse:9.34185e+06\n",
      "[310]\ttrain-rmse:5.89026e+06\tvalid-rmse:9.32877e+06\n",
      "[320]\ttrain-rmse:5.84362e+06\tvalid-rmse:9.34107e+06\n",
      "[330]\ttrain-rmse:5.81322e+06\tvalid-rmse:9.37953e+06\n",
      "[340]\ttrain-rmse:5.78101e+06\tvalid-rmse:9.39231e+06\n",
      "[350]\ttrain-rmse:5.7404e+06\tvalid-rmse:9.40837e+06\n",
      "[360]\ttrain-rmse:5.7019e+06\tvalid-rmse:9.43621e+06\n",
      "Stopping. Best iteration:\n",
      "[267]\ttrain-rmse:6.07493e+06\tvalid-rmse:9.28225e+06\n",
      "\n",
      "[2225446137766.6274, 3430415640228.747]\n",
      "[0]\ttrain-rmse:2.00546e+07\tvalid-rmse:1.77679e+07\n",
      "Multiple eval metrics have been passed: 'valid-rmse' will be used for early stopping.\n",
      "\n",
      "Will train until valid-rmse hasn't improved in 100 rounds.\n",
      "[10]\ttrain-rmse:1.10985e+07\tvalid-rmse:1.2138e+07\n",
      "[20]\ttrain-rmse:9.76507e+06\tvalid-rmse:1.14085e+07\n",
      "[30]\ttrain-rmse:9.38456e+06\tvalid-rmse:1.1574e+07\n",
      "[40]\ttrain-rmse:8.86024e+06\tvalid-rmse:1.16594e+07\n",
      "[50]\ttrain-rmse:8.51189e+06\tvalid-rmse:1.16107e+07\n",
      "[60]\ttrain-rmse:8.18173e+06\tvalid-rmse:1.15874e+07\n",
      "[70]\ttrain-rmse:7.89917e+06\tvalid-rmse:1.14733e+07\n",
      "[80]\ttrain-rmse:7.66506e+06\tvalid-rmse:1.15106e+07\n",
      "[90]\ttrain-rmse:7.49304e+06\tvalid-rmse:1.15693e+07\n",
      "[100]\ttrain-rmse:7.33089e+06\tvalid-rmse:1.15667e+07\n",
      "[110]\ttrain-rmse:7.16611e+06\tvalid-rmse:1.16633e+07\n",
      "[120]\ttrain-rmse:7.01523e+06\tvalid-rmse:1.16651e+07\n",
      "Stopping. Best iteration:\n",
      "[22]\ttrain-rmse:9.67929e+06\tvalid-rmse:1.1374e+07\n",
      "\n",
      "[2225446137766.6274, 3430415640228.747, 3110079552840.061]\n",
      "[0]\ttrain-rmse:2.01868e+07\tvalid-rmse:1.55839e+07\n",
      "Multiple eval metrics have been passed: 'valid-rmse' will be used for early stopping.\n",
      "\n",
      "Will train until valid-rmse hasn't improved in 100 rounds.\n",
      "[10]\ttrain-rmse:1.1286e+07\tvalid-rmse:9.77937e+06\n",
      "[20]\ttrain-rmse:1.01808e+07\tvalid-rmse:9.45788e+06\n",
      "[30]\ttrain-rmse:9.49956e+06\tvalid-rmse:9.21577e+06\n",
      "[40]\ttrain-rmse:8.98824e+06\tvalid-rmse:9.17953e+06\n",
      "[50]\ttrain-rmse:8.46929e+06\tvalid-rmse:9.12098e+06\n",
      "[60]\ttrain-rmse:8.12859e+06\tvalid-rmse:9.07838e+06\n",
      "[70]\ttrain-rmse:7.84355e+06\tvalid-rmse:9.05533e+06\n",
      "[80]\ttrain-rmse:7.61257e+06\tvalid-rmse:9.07722e+06\n",
      "[90]\ttrain-rmse:7.46026e+06\tvalid-rmse:9.10518e+06\n",
      "[100]\ttrain-rmse:7.30438e+06\tvalid-rmse:9.14928e+06\n",
      "[110]\ttrain-rmse:7.15602e+06\tvalid-rmse:9.15364e+06\n",
      "[120]\ttrain-rmse:6.99428e+06\tvalid-rmse:9.19385e+06\n",
      "[130]\ttrain-rmse:6.90188e+06\tvalid-rmse:9.20453e+06\n",
      "[140]\ttrain-rmse:6.80409e+06\tvalid-rmse:9.17175e+06\n",
      "[150]\ttrain-rmse:6.71512e+06\tvalid-rmse:9.16455e+06\n",
      "[160]\ttrain-rmse:6.65797e+06\tvalid-rmse:9.19309e+06\n",
      "Stopping. Best iteration:\n",
      "[61]\ttrain-rmse:8.0755e+06\tvalid-rmse:9.04775e+06\n",
      "\n",
      "[2225446137766.6274, 3430415640228.747, 3110079552840.061, 4379395302480.3467]\n",
      "[0]\ttrain-rmse:1.99507e+07\tvalid-rmse:1.80561e+07\n",
      "Multiple eval metrics have been passed: 'valid-rmse' will be used for early stopping.\n",
      "\n",
      "Will train until valid-rmse hasn't improved in 100 rounds.\n",
      "[10]\ttrain-rmse:1.11805e+07\tvalid-rmse:1.07737e+07\n",
      "[20]\ttrain-rmse:1.00379e+07\tvalid-rmse:1.01839e+07\n",
      "[30]\ttrain-rmse:9.39731e+06\tvalid-rmse:1.00266e+07\n",
      "[40]\ttrain-rmse:8.92411e+06\tvalid-rmse:9.97555e+06\n",
      "[50]\ttrain-rmse:8.58352e+06\tvalid-rmse:9.97575e+06\n",
      "[60]\ttrain-rmse:8.21674e+06\tvalid-rmse:1.05621e+07\n",
      "[70]\ttrain-rmse:7.91132e+06\tvalid-rmse:1.05052e+07\n",
      "[80]\ttrain-rmse:7.75013e+06\tvalid-rmse:1.05106e+07\n",
      "[90]\ttrain-rmse:7.56648e+06\tvalid-rmse:1.05019e+07\n",
      "[100]\ttrain-rmse:7.37946e+06\tvalid-rmse:1.0455e+07\n",
      "[110]\ttrain-rmse:7.22838e+06\tvalid-rmse:1.04073e+07\n",
      "[120]\ttrain-rmse:7.08271e+06\tvalid-rmse:1.03426e+07\n",
      "[130]\ttrain-rmse:6.96031e+06\tvalid-rmse:1.03376e+07\n",
      "[140]\ttrain-rmse:6.82749e+06\tvalid-rmse:1.03352e+07\n",
      "Stopping. Best iteration:\n",
      "[49]\ttrain-rmse:8.63569e+06\tvalid-rmse:9.91667e+06\n",
      "\n",
      "[2225446137766.6274, 3430415640228.747, 3110079552840.061, 4379395302480.3467, 4456901213735.137]\n",
      "[0]\ttrain-rmse:1.97387e+07\tvalid-rmse:2.06439e+07\n",
      "Multiple eval metrics have been passed: 'valid-rmse' will be used for early stopping.\n",
      "\n",
      "Will train until valid-rmse hasn't improved in 100 rounds.\n",
      "[10]\ttrain-rmse:1.12412e+07\tvalid-rmse:1.20507e+07\n",
      "[20]\ttrain-rmse:1.03035e+07\tvalid-rmse:1.15079e+07\n",
      "[30]\ttrain-rmse:9.56744e+06\tvalid-rmse:1.11112e+07\n",
      "[40]\ttrain-rmse:8.9091e+06\tvalid-rmse:1.09259e+07\n",
      "[50]\ttrain-rmse:8.51252e+06\tvalid-rmse:1.0924e+07\n",
      "[60]\ttrain-rmse:8.17554e+06\tvalid-rmse:1.09542e+07\n",
      "[70]\ttrain-rmse:7.90757e+06\tvalid-rmse:1.09827e+07\n",
      "[80]\ttrain-rmse:7.67351e+06\tvalid-rmse:1.08305e+07\n",
      "[90]\ttrain-rmse:7.49389e+06\tvalid-rmse:1.08549e+07\n",
      "[100]\ttrain-rmse:7.33868e+06\tvalid-rmse:1.07883e+07\n",
      "[110]\ttrain-rmse:7.20543e+06\tvalid-rmse:1.07527e+07\n",
      "[120]\ttrain-rmse:7.09839e+06\tvalid-rmse:1.07565e+07\n",
      "[130]\ttrain-rmse:6.97923e+06\tvalid-rmse:1.07405e+07\n",
      "[140]\ttrain-rmse:6.86213e+06\tvalid-rmse:1.07033e+07\n",
      "[150]\ttrain-rmse:6.78234e+06\tvalid-rmse:1.07049e+07\n",
      "[160]\ttrain-rmse:6.69865e+06\tvalid-rmse:1.07156e+07\n",
      "[170]\ttrain-rmse:6.57640e+06\tvalid-rmse:1.07165e+07\n",
      "[180]\ttrain-rmse:6.5031e+06\tvalid-rmse:1.07294e+07\n",
      "[190]\ttrain-rmse:6.44073e+06\tvalid-rmse:1.07243e+07\n",
      "[200]\ttrain-rmse:6.37658e+06\tvalid-rmse:1.06676e+07\n",
      "[210]\ttrain-rmse:6.31061e+06\tvalid-rmse:1.06595e+07\n",
      "[220]\ttrain-rmse:6.24159e+06\tvalid-rmse:1.06787e+07\n",
      "[230]\ttrain-rmse:6.2002e+06\tvalid-rmse:1.06959e+07\n",
      "[240]\ttrain-rmse:6.14861e+06\tvalid-rmse:1.07471e+07\n",
      "[250]\ttrain-rmse:6.10168e+06\tvalid-rmse:1.07305e+07\n",
      "[260]\ttrain-rmse:6.06955e+06\tvalid-rmse:1.07955e+07\n",
      "[270]\ttrain-rmse:6.01227e+06\tvalid-rmse:1.08163e+07\n",
      "[280]\ttrain-rmse:5.95822e+06\tvalid-rmse:1.08358e+07\n"
     ]
    },
    {
     "name": "stdout",
     "output_type": "stream",
     "text": [
      "[290]\ttrain-rmse:5.93284e+06\tvalid-rmse:1.08392e+07\n",
      "[300]\ttrain-rmse:5.90604e+06\tvalid-rmse:1.08326e+07\n",
      "[310]\ttrain-rmse:5.87633e+06\tvalid-rmse:1.08501e+07\n",
      "Stopping. Best iteration:\n",
      "[218]\ttrain-rmse:6.25781e+06\tvalid-rmse:1.0654e+07\n",
      "\n",
      "[2225446137766.6274, 3430415640228.747, 3110079552840.061, 4379395302480.3467, 4456901213735.137, 3021201102734.824]\n",
      "[0]\ttrain-rmse:1.9817e+07\tvalid-rmse:1.76265e+07\n",
      "Multiple eval metrics have been passed: 'valid-rmse' will be used for early stopping.\n",
      "\n",
      "Will train until valid-rmse hasn't improved in 100 rounds.\n",
      "[10]\ttrain-rmse:1.13115e+07\tvalid-rmse:1.02996e+07\n",
      "[20]\ttrain-rmse:1.024e+07\tvalid-rmse:9.93987e+06\n",
      "[30]\ttrain-rmse:9.35368e+06\tvalid-rmse:9.72588e+06\n",
      "[40]\ttrain-rmse:8.91779e+06\tvalid-rmse:9.60206e+06\n",
      "[50]\ttrain-rmse:8.53874e+06\tvalid-rmse:9.53599e+06\n",
      "[60]\ttrain-rmse:8.30628e+06\tvalid-rmse:9.48309e+06\n",
      "[70]\ttrain-rmse:8.02366e+06\tvalid-rmse:9.43631e+06\n",
      "[80]\ttrain-rmse:7.78352e+06\tvalid-rmse:9.37091e+06\n",
      "[90]\ttrain-rmse:7.56537e+06\tvalid-rmse:9.32403e+06\n",
      "[100]\ttrain-rmse:7.35961e+06\tvalid-rmse:9.3352e+06\n",
      "[110]\ttrain-rmse:7.19346e+06\tvalid-rmse:9.3403e+06\n",
      "[120]\ttrain-rmse:7.06032e+06\tvalid-rmse:9.32251e+06\n",
      "[130]\ttrain-rmse:6.93058e+06\tvalid-rmse:9.36764e+06\n",
      "[140]\ttrain-rmse:6.81158e+06\tvalid-rmse:9.33938e+06\n",
      "[150]\ttrain-rmse:6.72497e+06\tvalid-rmse:9.33336e+06\n",
      "[160]\ttrain-rmse:6.6349e+06\tvalid-rmse:9.31479e+06\n",
      "[170]\ttrain-rmse:6.56204e+06\tvalid-rmse:9.35526e+06\n",
      "[180]\ttrain-rmse:6.48799e+06\tvalid-rmse:9.36126e+06\n",
      "[190]\ttrain-rmse:6.41439e+06\tvalid-rmse:9.33464e+06\n",
      "Stopping. Best iteration:\n",
      "[93]\ttrain-rmse:7.48427e+06\tvalid-rmse:9.29785e+06\n",
      "\n",
      "[2225446137766.6274, 3430415640228.747, 3110079552840.061, 4379395302480.3467, 4456901213735.137, 3021201102734.824, 3733074607029.3154]\n",
      "[0]\ttrain-rmse:1.97377e+07\tvalid-rmse:1.91392e+07\n",
      "Multiple eval metrics have been passed: 'valid-rmse' will be used for early stopping.\n",
      "\n",
      "Will train until valid-rmse hasn't improved in 100 rounds.\n",
      "[10]\ttrain-rmse:1.1286e+07\tvalid-rmse:1.20341e+07\n",
      "[20]\ttrain-rmse:1.00527e+07\tvalid-rmse:1.13709e+07\n",
      "[30]\ttrain-rmse:9.40564e+06\tvalid-rmse:1.13268e+07\n",
      "[40]\ttrain-rmse:8.94937e+06\tvalid-rmse:1.12293e+07\n",
      "[50]\ttrain-rmse:8.61815e+06\tvalid-rmse:1.11463e+07\n",
      "[60]\ttrain-rmse:8.28443e+06\tvalid-rmse:1.09715e+07\n",
      "[70]\ttrain-rmse:7.9389e+06\tvalid-rmse:1.089e+07\n",
      "[80]\ttrain-rmse:7.72749e+06\tvalid-rmse:1.08352e+07\n",
      "[90]\ttrain-rmse:7.52079e+06\tvalid-rmse:1.08038e+07\n",
      "[100]\ttrain-rmse:7.35828e+06\tvalid-rmse:1.08274e+07\n",
      "[110]\ttrain-rmse:7.20919e+06\tvalid-rmse:1.08987e+07\n",
      "[120]\ttrain-rmse:7.05479e+06\tvalid-rmse:1.09077e+07\n",
      "[130]\ttrain-rmse:6.93764e+06\tvalid-rmse:1.0923e+07\n",
      "[140]\ttrain-rmse:6.84497e+06\tvalid-rmse:1.08905e+07\n",
      "[150]\ttrain-rmse:6.74252e+06\tvalid-rmse:1.09533e+07\n",
      "[160]\ttrain-rmse:6.65058e+06\tvalid-rmse:1.09758e+07\n",
      "[170]\ttrain-rmse:6.57881e+06\tvalid-rmse:1.0994e+07\n",
      "[180]\ttrain-rmse:6.51008e+06\tvalid-rmse:1.09927e+07\n",
      "[190]\ttrain-rmse:6.43493e+06\tvalid-rmse:1.10398e+07\n",
      "Stopping. Best iteration:\n",
      "[94]\ttrain-rmse:7.4432e+06\tvalid-rmse:1.07918e+07\n",
      "\n",
      "[2225446137766.6274, 3430415640228.747, 3110079552840.061, 4379395302480.3467, 4456901213735.137, 3021201102734.824, 3733074607029.3154, 3228017088617.4834]\n",
      "[0]\ttrain-rmse:1.97139e+07\tvalid-rmse:1.93883e+07\n",
      "Multiple eval metrics have been passed: 'valid-rmse' will be used for early stopping.\n",
      "\n",
      "Will train until valid-rmse hasn't improved in 100 rounds.\n",
      "[10]\ttrain-rmse:1.09604e+07\tvalid-rmse:1.22082e+07\n",
      "[20]\ttrain-rmse:9.97351e+06\tvalid-rmse:1.19154e+07\n",
      "[30]\ttrain-rmse:9.25254e+06\tvalid-rmse:1.19374e+07\n",
      "[40]\ttrain-rmse:8.72491e+06\tvalid-rmse:1.17834e+07\n",
      "[50]\ttrain-rmse:8.26444e+06\tvalid-rmse:1.18394e+07\n",
      "[60]\ttrain-rmse:7.9537e+06\tvalid-rmse:1.18278e+07\n",
      "[70]\ttrain-rmse:7.75495e+06\tvalid-rmse:1.18044e+07\n",
      "[80]\ttrain-rmse:7.58559e+06\tvalid-rmse:1.18844e+07\n",
      "[90]\ttrain-rmse:7.44721e+06\tvalid-rmse:1.20734e+07\n",
      "[100]\ttrain-rmse:7.28558e+06\tvalid-rmse:1.21609e+07\n",
      "[110]\ttrain-rmse:7.13671e+06\tvalid-rmse:1.22784e+07\n",
      "[120]\ttrain-rmse:6.99975e+06\tvalid-rmse:1.24681e+07\n",
      "[130]\ttrain-rmse:6.88467e+06\tvalid-rmse:1.25739e+07\n",
      "[140]\ttrain-rmse:6.77064e+06\tvalid-rmse:1.26238e+07\n",
      "[150]\ttrain-rmse:6.66531e+06\tvalid-rmse:1.26305e+07\n",
      "[160]\ttrain-rmse:6.57222e+06\tvalid-rmse:1.26717e+07\n",
      "[170]\ttrain-rmse:6.48354e+06\tvalid-rmse:1.26814e+07\n",
      "Stopping. Best iteration:\n",
      "[76]\ttrain-rmse:7.65436e+06\tvalid-rmse:1.17659e+07\n",
      "\n",
      "[2225446137766.6274, 3430415640228.747, 3110079552840.061, 4379395302480.3467, 4456901213735.137, 3021201102734.824, 3733074607029.3154, 3228017088617.4834, 2210744839694.225]\n",
      "[0]\ttrain-rmse:1.98044e+07\tvalid-rmse:1.9326e+07\n",
      "Multiple eval metrics have been passed: 'valid-rmse' will be used for early stopping.\n",
      "\n",
      "Will train until valid-rmse hasn't improved in 100 rounds.\n",
      "[10]\ttrain-rmse:1.0832e+07\tvalid-rmse:1.68564e+07\n",
      "[20]\ttrain-rmse:9.77678e+06\tvalid-rmse:1.74771e+07\n",
      "[30]\ttrain-rmse:9.16398e+06\tvalid-rmse:1.73055e+07\n",
      "[40]\ttrain-rmse:8.7331e+06\tvalid-rmse:1.71606e+07\n",
      "[50]\ttrain-rmse:8.38028e+06\tvalid-rmse:1.70982e+07\n",
      "[60]\ttrain-rmse:8.08098e+06\tvalid-rmse:1.72822e+07\n",
      "[70]\ttrain-rmse:7.82764e+06\tvalid-rmse:1.7303e+07\n",
      "[80]\ttrain-rmse:7.62337e+06\tvalid-rmse:1.71636e+07\n",
      "[90]\ttrain-rmse:7.44431e+06\tvalid-rmse:1.7175e+07\n",
      "[100]\ttrain-rmse:7.2429e+06\tvalid-rmse:1.71377e+07\n",
      "Stopping. Best iteration:\n",
      "[3]\ttrain-rmse:1.27836e+07\tvalid-rmse:1.55963e+07\n",
      "\n",
      "[2225446137766.6274, 3430415640228.747, 3110079552840.061, 4379395302480.3467, 4456901213735.137, 3021201102734.824, 3733074607029.3154, 3228017088617.4834, 2210744839694.225, 3953168146162.21]\n",
      "[0]\ttrain-rmse:1.92975e+07\tvalid-rmse:2.58795e+07\n",
      "Multiple eval metrics have been passed: 'valid-rmse' will be used for early stopping.\n",
      "\n",
      "Will train until valid-rmse hasn't improved in 100 rounds.\n",
      "[10]\ttrain-rmse:1.03536e+07\tvalid-rmse:1.78651e+07\n",
      "[20]\ttrain-rmse:9.36785e+06\tvalid-rmse:1.72019e+07\n",
      "[30]\ttrain-rmse:8.74874e+06\tvalid-rmse:1.70677e+07\n",
      "[40]\ttrain-rmse:8.34851e+06\tvalid-rmse:1.72179e+07\n",
      "[50]\ttrain-rmse:7.96753e+06\tvalid-rmse:1.71275e+07\n",
      "[60]\ttrain-rmse:7.72794e+06\tvalid-rmse:1.71551e+07\n",
      "[70]\ttrain-rmse:7.46486e+06\tvalid-rmse:1.71849e+07\n",
      "[80]\ttrain-rmse:7.27494e+06\tvalid-rmse:1.73321e+07\n",
      "[90]\ttrain-rmse:7.1063e+06\tvalid-rmse:1.73924e+07\n",
      "[100]\ttrain-rmse:6.94038e+06\tvalid-rmse:1.73292e+07\n",
      "[110]\ttrain-rmse:6.82204e+06\tvalid-rmse:1.73477e+07\n",
      "[120]\ttrain-rmse:6.68504e+06\tvalid-rmse:1.73647e+07\n",
      "Stopping. Best iteration:\n",
      "[29]\ttrain-rmse:8.81007e+06\tvalid-rmse:1.70406e+07\n",
      "\n",
      "[2225446137766.6274, 3430415640228.747, 3110079552840.061, 4379395302480.3467, 4456901213735.137, 3021201102734.824, 3733074607029.3154, 3228017088617.4834, 2210744839694.225, 3953168146162.21, 2414372863200.861]\n",
      "[0]\ttrain-rmse:1.91553e+07\tvalid-rmse:2.66859e+07\n",
      "Multiple eval metrics have been passed: 'valid-rmse' will be used for early stopping.\n",
      "\n",
      "Will train until valid-rmse hasn't improved in 100 rounds.\n",
      "[10]\ttrain-rmse:1.0531e+07\tvalid-rmse:1.91051e+07\n",
      "[20]\ttrain-rmse:9.51687e+06\tvalid-rmse:1.84225e+07\n",
      "[30]\ttrain-rmse:8.78744e+06\tvalid-rmse:1.83355e+07\n",
      "[40]\ttrain-rmse:8.33238e+06\tvalid-rmse:1.83784e+07\n",
      "[50]\ttrain-rmse:7.96634e+06\tvalid-rmse:1.83567e+07\n",
      "[60]\ttrain-rmse:7.68844e+06\tvalid-rmse:1.8444e+07\n",
      "[70]\ttrain-rmse:7.41095e+06\tvalid-rmse:1.86791e+07\n",
      "[80]\ttrain-rmse:7.21492e+06\tvalid-rmse:1.86134e+07\n",
      "[90]\ttrain-rmse:7.04937e+06\tvalid-rmse:1.86814e+07\n",
      "[100]\ttrain-rmse:6.84239e+06\tvalid-rmse:1.88742e+07\n",
      "[110]\ttrain-rmse:6.67773e+06\tvalid-rmse:1.91173e+07\n",
      "[120]\ttrain-rmse:6.59125e+06\tvalid-rmse:1.91938e+07\n",
      "Stopping. Best iteration:\n",
      "[22]\ttrain-rmse:9.34307e+06\tvalid-rmse:1.81649e+07\n",
      "\n",
      "[2225446137766.6274, 3430415640228.747, 3110079552840.061, 4379395302480.3467, 4456901213735.137, 3021201102734.824, 3733074607029.3154, 3228017088617.4834, 2210744839694.225, 3953168146162.21, 2414372863200.861, 2964826149015.9785]\n",
      "3260636886958.8184\n"
     ]
    }
   ],
   "source": [
    "preds = []\n",
    "for i in range(1,13):\n",
    "    # 한달에서도 랜덤 샘플 반 뽑기\n",
    "    test_idx = random.sample(list(X[X['방송월'] == i].index), int(len(X[X['방송월'] == i]) / 2))\n",
    "    train_idx = set(X.index) - set(test_idx)\n",
    "    \n",
    "    train = X.loc[train_idx]\n",
    "    test = X.loc[test_idx]\n",
    "    y_test = y.loc[test_idx]\n",
    "    \n",
    "    x_train = train[train['방송월'] != i]\n",
    "    y_train = y.loc[train[train['방송월'] != i].index]\n",
    "    \n",
    "    x_val = train[train['방송월'] == i]\n",
    "    y_val = y.loc[train[train['방송월'] == i].index]\n",
    "    \n",
    "    dtrain = xgb.DMatrix(x_train, label = y_train)\n",
    "    dvalid = xgb.DMatrix(x_val, label = y_val)\n",
    "    \n",
    "    watchlist = [(dtrain, 'train'), (dvalid, 'valid')]\n",
    "    \n",
    "    model = xgb.train(xgb_params, dtrain, 10000, watchlist, early_stopping_rounds=100, verbose_eval=10)\n",
    "    \n",
    "    dtest = xgb.DMatrix(test)\n",
    "    pred = model.predict(dtest)\n",
    "\n",
    "    preds.append(mean_absolute_percentage_error(y_test, pred))\n",
    "    print(preds)\n",
    "print(np.mean(preds))"
   ]
  },
  {
   "cell_type": "code",
   "execution_count": 108,
   "metadata": {},
   "outputs": [
    {
     "data": {
      "image/png": "[encoded data removed]",
      "text/plain": [
       "<Figure size 720x504 with 1 Axes>"
      ]
     },
     "metadata": {
      "needs_background": "light"
     },
     "output_type": "display_data"
    }
   ],
   "source": [
    "plt.figure(figsize = (10, 7))\n",
    "plt.plot(preds)\n",
    "plt.xlabel('Month', fontsize = 14)\n",
    "plt.title('MAPE', fontsize = 15)\n",
    "plt.show()"
   ]
  },
  {
   "cell_type": "markdown",
   "metadata": {},
   "source": [
    "### 취급액 0 데이터가 없을 때 "
   ]
  },
  {
   "cell_type": "code",
   "execution_count": 48,
   "metadata": {},
   "outputs": [
    {
     "data": {
      "text/plain": [
       "(35379, 60)"
      ]
     },
     "execution_count": 48,
     "metadata": {},
     "output_type": "execute_result"
    }
   ],
   "source": [
    "sale3 = sale2.loc[sale2[\"취급액\"] > 1]\n",
    "sale3.shape"
   ]
  },
  {
   "cell_type": "code",
   "execution_count": 49,
   "metadata": {},
   "outputs": [],
   "source": [
    "y = sale3['취급액']\n",
    "temp2 = sale3[drop_columns]\n",
    "data2 = sale3.drop(drop_columns, axis = 1)"
   ]
  },
  {
   "cell_type": "code",
   "execution_count": 50,
   "metadata": {},
   "outputs": [],
   "source": [
    "X = pd.get_dummies(data2)"
   ]
  },
  {
   "cell_type": "code",
   "execution_count": 51,
   "metadata": {
    "scrolled": false
   },
   "outputs": [
    {
     "name": "stdout",
     "output_type": "stream",
     "text": [
      "[0]\ttrain-rmse:2.01876e+07\tvalid-rmse:2.15344e+07\n",
      "Multiple eval metrics have been passed: 'valid-rmse' will be used for early stopping.\n",
      "\n",
      "Will train until valid-rmse hasn't improved in 100 rounds.\n",
      "[10]\ttrain-rmse:1.11997e+07\tvalid-rmse:1.22234e+07\n",
      "[20]\ttrain-rmse:9.97437e+06\tvalid-rmse:1.18427e+07\n",
      "[30]\ttrain-rmse:9.29568e+06\tvalid-rmse:1.15646e+07\n",
      "[40]\ttrain-rmse:8.90012e+06\tvalid-rmse:1.15086e+07\n",
      "[50]\ttrain-rmse:8.46478e+06\tvalid-rmse:1.15617e+07\n",
      "[60]\ttrain-rmse:8.17739e+06\tvalid-rmse:1.15682e+07\n",
      "[70]\ttrain-rmse:7.85397e+06\tvalid-rmse:1.14265e+07\n",
      "[80]\ttrain-rmse:7.62415e+06\tvalid-rmse:1.1514e+07\n",
      "[90]\ttrain-rmse:7.43971e+06\tvalid-rmse:1.15195e+07\n",
      "[100]\ttrain-rmse:7.27566e+06\tvalid-rmse:1.14922e+07\n",
      "[110]\ttrain-rmse:7.13288e+06\tvalid-rmse:1.14486e+07\n",
      "[120]\ttrain-rmse:6.97198e+06\tvalid-rmse:1.15519e+07\n",
      "[130]\ttrain-rmse:6.85016e+06\tvalid-rmse:1.15362e+07\n",
      "[140]\ttrain-rmse:6.74241e+06\tvalid-rmse:1.157e+07\n",
      "[150]\ttrain-rmse:6.64713e+06\tvalid-rmse:1.15471e+07\n",
      "[160]\ttrain-rmse:6.54269e+06\tvalid-rmse:1.15969e+07\n",
      "Stopping. Best iteration:\n",
      "[67]\ttrain-rmse:7.94865e+06\tvalid-rmse:1.13827e+07\n",
      "\n",
      "[70.72695119072084]\n",
      "[0]\ttrain-rmse:2.04468e+07\tvalid-rmse:1.84246e+07\n",
      "Multiple eval metrics have been passed: 'valid-rmse' will be used for early stopping.\n",
      "\n",
      "Will train until valid-rmse hasn't improved in 100 rounds.\n",
      "[10]\ttrain-rmse:1.13053e+07\tvalid-rmse:1.0911e+07\n",
      "[20]\ttrain-rmse:1.01883e+07\tvalid-rmse:1.03925e+07\n",
      "[30]\ttrain-rmse:9.41811e+06\tvalid-rmse:1.02018e+07\n",
      "[40]\ttrain-rmse:8.9387e+06\tvalid-rmse:1.01166e+07\n",
      "[50]\ttrain-rmse:8.53624e+06\tvalid-rmse:1.01377e+07\n",
      "[60]\ttrain-rmse:8.24642e+06\tvalid-rmse:1.00871e+07\n",
      "[70]\ttrain-rmse:7.9772e+06\tvalid-rmse:1.00861e+07\n",
      "[80]\ttrain-rmse:7.74379e+06\tvalid-rmse:1.01164e+07\n",
      "[90]\ttrain-rmse:7.53201e+06\tvalid-rmse:1.01145e+07\n",
      "[100]\ttrain-rmse:7.36274e+06\tvalid-rmse:1.0078e+07\n",
      "[110]\ttrain-rmse:7.19494e+06\tvalid-rmse:1.00589e+07\n",
      "[120]\ttrain-rmse:7.0467e+06\tvalid-rmse:1.00839e+07\n",
      "[130]\ttrain-rmse:6.93307e+06\tvalid-rmse:1.00715e+07\n",
      "[140]\ttrain-rmse:6.83399e+06\tvalid-rmse:1.00942e+07\n",
      "[150]\ttrain-rmse:6.73621e+06\tvalid-rmse:1.01107e+07\n",
      "[160]\ttrain-rmse:6.6483e+06\tvalid-rmse:1.0135e+07\n",
      "Stopping. Best iteration:\n",
      "[62]\ttrain-rmse:8.1949e+06\tvalid-rmse:1.00403e+07\n",
      "\n",
      "[70.72695119072084, 66.93586122082196]\n",
      "[0]\ttrain-rmse:2.0394e+07\tvalid-rmse:1.7786e+07\n",
      "Multiple eval metrics have been passed: 'valid-rmse' will be used for early stopping.\n",
      "\n",
      "Will train until valid-rmse hasn't improved in 100 rounds.\n",
      "[10]\ttrain-rmse:1.12144e+07\tvalid-rmse:1.19612e+07\n",
      "[20]\ttrain-rmse:1.01302e+07\tvalid-rmse:1.17561e+07\n",
      "[30]\ttrain-rmse:9.33011e+06\tvalid-rmse:1.15556e+07\n",
      "[40]\ttrain-rmse:8.89423e+06\tvalid-rmse:1.14424e+07\n",
      "[50]\ttrain-rmse:8.50244e+06\tvalid-rmse:1.13762e+07\n",
      "[60]\ttrain-rmse:8.19658e+06\tvalid-rmse:1.13769e+07\n",
      "[70]\ttrain-rmse:7.89725e+06\tvalid-rmse:1.13127e+07\n",
      "[80]\ttrain-rmse:7.66062e+06\tvalid-rmse:1.13187e+07\n",
      "[90]\ttrain-rmse:7.48419e+06\tvalid-rmse:1.13628e+07\n",
      "[100]\ttrain-rmse:7.33261e+06\tvalid-rmse:1.13995e+07\n",
      "[110]\ttrain-rmse:7.19263e+06\tvalid-rmse:1.1437e+07\n",
      "[120]\ttrain-rmse:7.05267e+06\tvalid-rmse:1.13613e+07\n",
      "[130]\ttrain-rmse:6.93909e+06\tvalid-rmse:1.13707e+07\n",
      "[140]\ttrain-rmse:6.83244e+06\tvalid-rmse:1.13997e+07\n",
      "[150]\ttrain-rmse:6.73983e+06\tvalid-rmse:1.14393e+07\n",
      "[160]\ttrain-rmse:6.64900e+06\tvalid-rmse:1.14039e+07\n",
      "Stopping. Best iteration:\n",
      "[68]\ttrain-rmse:7.93809e+06\tvalid-rmse:1.12997e+07\n",
      "\n",
      "[70.72695119072084, 66.93586122082196, 69.04800853330185]\n",
      "[0]\ttrain-rmse:2.05324e+07\tvalid-rmse:1.62831e+07\n",
      "Multiple eval metrics have been passed: 'valid-rmse' will be used for early stopping.\n",
      "\n",
      "Will train until valid-rmse hasn't improved in 100 rounds.\n",
      "[10]\ttrain-rmse:1.12899e+07\tvalid-rmse:1.04687e+07\n",
      "[20]\ttrain-rmse:1.02067e+07\tvalid-rmse:1.00259e+07\n",
      "[30]\ttrain-rmse:9.5243e+06\tvalid-rmse:9.66974e+06\n",
      "[40]\ttrain-rmse:8.94854e+06\tvalid-rmse:9.61934e+06\n",
      "[50]\ttrain-rmse:8.6018e+06\tvalid-rmse:9.56889e+06\n",
      "[60]\ttrain-rmse:8.24226e+06\tvalid-rmse:9.62068e+06\n",
      "[70]\ttrain-rmse:7.96776e+06\tvalid-rmse:9.57226e+06\n",
      "[80]\ttrain-rmse:7.75152e+06\tvalid-rmse:9.58634e+06\n",
      "[90]\ttrain-rmse:7.53723e+06\tvalid-rmse:9.59196e+06\n",
      "[100]\ttrain-rmse:7.35821e+06\tvalid-rmse:9.52257e+06\n",
      "[110]\ttrain-rmse:7.21852e+06\tvalid-rmse:9.48662e+06\n",
      "[120]\ttrain-rmse:7.08645e+06\tvalid-rmse:9.50813e+06\n",
      "[130]\ttrain-rmse:6.97112e+06\tvalid-rmse:9.51383e+06\n",
      "[140]\ttrain-rmse:6.83964e+06\tvalid-rmse:9.56404e+06\n",
      "[150]\ttrain-rmse:6.741e+06\tvalid-rmse:9.52174e+06\n",
      "[160]\ttrain-rmse:6.65435e+06\tvalid-rmse:9.54906e+06\n",
      "[170]\ttrain-rmse:6.5699e+06\tvalid-rmse:9.56399e+06\n",
      "[180]\ttrain-rmse:6.48007e+06\tvalid-rmse:9.55244e+06\n",
      "[190]\ttrain-rmse:6.42348e+06\tvalid-rmse:9.55072e+06\n",
      "[200]\ttrain-rmse:6.35223e+06\tvalid-rmse:9.56018e+06\n",
      "[210]\ttrain-rmse:6.29099e+06\tvalid-rmse:9.56522e+06\n",
      "Stopping. Best iteration:\n",
      "[113]\ttrain-rmse:7.17025e+06\tvalid-rmse:9.47811e+06\n",
      "\n",
      "[70.72695119072084, 66.93586122082196, 69.04800853330185, 56.649307988780215]\n",
      "[0]\ttrain-rmse:2.03799e+07\tvalid-rmse:1.87043e+07\n",
      "Multiple eval metrics have been passed: 'valid-rmse' will be used for early stopping.\n",
      "\n",
      "Will train until valid-rmse hasn't improved in 100 rounds.\n",
      "[10]\ttrain-rmse:1.13895e+07\tvalid-rmse:1.10251e+07\n",
      "[20]\ttrain-rmse:1.02251e+07\tvalid-rmse:1.02543e+07\n",
      "[30]\ttrain-rmse:9.49195e+06\tvalid-rmse:1.00295e+07\n",
      "[40]\ttrain-rmse:9.01108e+06\tvalid-rmse:9.89724e+06\n",
      "[50]\ttrain-rmse:8.52965e+06\tvalid-rmse:9.637e+06\n",
      "[60]\ttrain-rmse:8.09254e+06\tvalid-rmse:9.94416e+06\n",
      "[70]\ttrain-rmse:7.88575e+06\tvalid-rmse:1.00204e+07\n",
      "[80]\ttrain-rmse:7.65625e+06\tvalid-rmse:9.9918e+06\n",
      "[90]\ttrain-rmse:7.49345e+06\tvalid-rmse:1.00292e+07\n",
      "[100]\ttrain-rmse:7.32201e+06\tvalid-rmse:1.00476e+07\n",
      "[110]\ttrain-rmse:7.19079e+06\tvalid-rmse:1.04828e+07\n",
      "[120]\ttrain-rmse:7.03135e+06\tvalid-rmse:1.04611e+07\n",
      "[130]\ttrain-rmse:6.90241e+06\tvalid-rmse:1.05614e+07\n",
      "[140]\ttrain-rmse:6.78313e+06\tvalid-rmse:1.05559e+07\n",
      "[150]\ttrain-rmse:6.69618e+06\tvalid-rmse:1.06027e+07\n",
      "Stopping. Best iteration:\n",
      "[52]\ttrain-rmse:8.39556e+06\tvalid-rmse:9.61554e+06\n",
      "\n",
      "[70.72695119072084, 66.93586122082196, 69.04800853330185, 56.649307988780215, 66.45763125709168]\n",
      "[0]\ttrain-rmse:2.03651e+07\tvalid-rmse:1.99125e+07\n",
      "Multiple eval metrics have been passed: 'valid-rmse' will be used for early stopping.\n",
      "\n",
      "Will train until valid-rmse hasn't improved in 100 rounds.\n",
      "[10]\ttrain-rmse:1.12758e+07\tvalid-rmse:1.0854e+07\n",
      "[20]\ttrain-rmse:1.00556e+07\tvalid-rmse:1.03864e+07\n",
      "[30]\ttrain-rmse:9.24778e+06\tvalid-rmse:1.00873e+07\n",
      "[40]\ttrain-rmse:8.79897e+06\tvalid-rmse:9.8858e+06\n",
      "[50]\ttrain-rmse:8.50832e+06\tvalid-rmse:9.86421e+06\n",
      "[60]\ttrain-rmse:8.19581e+06\tvalid-rmse:9.84948e+06\n",
      "[70]\ttrain-rmse:7.94146e+06\tvalid-rmse:1.00702e+07\n",
      "[80]\ttrain-rmse:7.73882e+06\tvalid-rmse:1.00622e+07\n",
      "[90]\ttrain-rmse:7.53302e+06\tvalid-rmse:9.9717e+06\n",
      "[100]\ttrain-rmse:7.37992e+06\tvalid-rmse:9.97521e+06\n",
      "[110]\ttrain-rmse:7.24606e+06\tvalid-rmse:9.93344e+06\n",
      "[120]\ttrain-rmse:7.08605e+06\tvalid-rmse:9.91798e+06\n",
      "[130]\ttrain-rmse:6.97011e+06\tvalid-rmse:9.93086e+06\n",
      "[140]\ttrain-rmse:6.8521e+06\tvalid-rmse:9.97908e+06\n",
      "Stopping. Best iteration:\n",
      "[45]\ttrain-rmse:8.64844e+06\tvalid-rmse:9.81906e+06\n",
      "\n",
      "[70.72695119072084, 66.93586122082196, 69.04800853330185, 56.649307988780215, 66.45763125709168, 61.21458435619967]\n",
      "[0]\ttrain-rmse:2.04339e+07\tvalid-rmse:1.82633e+07\n",
      "Multiple eval metrics have been passed: 'valid-rmse' will be used for early stopping.\n",
      "\n",
      "Will train until valid-rmse hasn't improved in 100 rounds.\n",
      "[10]\ttrain-rmse:1.14239e+07\tvalid-rmse:1.06855e+07\n",
      "[20]\ttrain-rmse:1.03405e+07\tvalid-rmse:1.02019e+07\n",
      "[30]\ttrain-rmse:9.55542e+06\tvalid-rmse:9.81692e+06\n",
      "[40]\ttrain-rmse:9.02994e+06\tvalid-rmse:9.67509e+06\n",
      "[50]\ttrain-rmse:8.66687e+06\tvalid-rmse:9.64751e+06\n",
      "[60]\ttrain-rmse:8.34903e+06\tvalid-rmse:9.56695e+06\n",
      "[70]\ttrain-rmse:8.04953e+06\tvalid-rmse:9.46036e+06\n",
      "[80]\ttrain-rmse:7.80831e+06\tvalid-rmse:9.60382e+06\n",
      "[90]\ttrain-rmse:7.61923e+06\tvalid-rmse:9.65075e+06\n",
      "[100]\ttrain-rmse:7.42258e+06\tvalid-rmse:9.63914e+06\n",
      "[110]\ttrain-rmse:7.27565e+06\tvalid-rmse:9.63721e+06\n",
      "[120]\ttrain-rmse:7.10846e+06\tvalid-rmse:9.61158e+06\n",
      "[130]\ttrain-rmse:6.96514e+06\tvalid-rmse:9.6208e+06\n",
      "[140]\ttrain-rmse:6.8373e+06\tvalid-rmse:9.62918e+06\n",
      "[150]\ttrain-rmse:6.73594e+06\tvalid-rmse:9.66642e+06\n",
      "[160]\ttrain-rmse:6.62931e+06\tvalid-rmse:9.71922e+06\n",
      "[170]\ttrain-rmse:6.54681e+06\tvalid-rmse:9.70786e+06\n",
      "Stopping. Best iteration:\n",
      "[71]\ttrain-rmse:8.04452e+06\tvalid-rmse:9.45174e+06\n",
      "\n"
     ]
    },
    {
     "name": "stdout",
     "output_type": "stream",
     "text": [
      "[70.72695119072084, 66.93586122082196, 69.04800853330185, 56.649307988780215, 66.45763125709168, 61.21458435619967, 58.882359711496356]\n",
      "[0]\ttrain-rmse:2.01467e+07\tvalid-rmse:1.88763e+07\n",
      "Multiple eval metrics have been passed: 'valid-rmse' will be used for early stopping.\n",
      "\n",
      "Will train until valid-rmse hasn't improved in 100 rounds.\n",
      "[10]\ttrain-rmse:1.10948e+07\tvalid-rmse:1.19003e+07\n",
      "[20]\ttrain-rmse:9.95434e+06\tvalid-rmse:1.16019e+07\n",
      "[30]\ttrain-rmse:9.31831e+06\tvalid-rmse:1.13833e+07\n",
      "[40]\ttrain-rmse:8.74923e+06\tvalid-rmse:1.13576e+07\n",
      "[50]\ttrain-rmse:8.4323e+06\tvalid-rmse:1.13458e+07\n",
      "[60]\ttrain-rmse:8.17794e+06\tvalid-rmse:1.14538e+07\n",
      "[70]\ttrain-rmse:7.90351e+06\tvalid-rmse:1.14739e+07\n",
      "[80]\ttrain-rmse:7.61086e+06\tvalid-rmse:1.14391e+07\n",
      "[90]\ttrain-rmse:7.41271e+06\tvalid-rmse:1.14352e+07\n",
      "[100]\ttrain-rmse:7.24457e+06\tvalid-rmse:1.14671e+07\n",
      "[110]\ttrain-rmse:7.07415e+06\tvalid-rmse:1.15236e+07\n",
      "[120]\ttrain-rmse:6.96879e+06\tvalid-rmse:1.15085e+07\n",
      "[130]\ttrain-rmse:6.82788e+06\tvalid-rmse:1.15388e+07\n",
      "[140]\ttrain-rmse:6.72778e+06\tvalid-rmse:1.15836e+07\n",
      "Stopping. Best iteration:\n",
      "[46]\ttrain-rmse:8.54234e+06\tvalid-rmse:1.12779e+07\n",
      "\n",
      "[70.72695119072084, 66.93586122082196, 69.04800853330185, 56.649307988780215, 66.45763125709168, 61.21458435619967, 58.882359711496356, 76.38993481297052]\n",
      "[0]\ttrain-rmse:2.01602e+07\tvalid-rmse:2.01855e+07\n",
      "Multiple eval metrics have been passed: 'valid-rmse' will be used for early stopping.\n",
      "\n",
      "Will train until valid-rmse hasn't improved in 100 rounds.\n",
      "[10]\ttrain-rmse:1.1287e+07\tvalid-rmse:1.24267e+07\n",
      "[20]\ttrain-rmse:1.01444e+07\tvalid-rmse:1.21361e+07\n",
      "[30]\ttrain-rmse:9.43876e+06\tvalid-rmse:1.19347e+07\n",
      "[40]\ttrain-rmse:8.89546e+06\tvalid-rmse:1.19834e+07\n",
      "[50]\ttrain-rmse:8.55348e+06\tvalid-rmse:1.19448e+07\n",
      "[60]\ttrain-rmse:8.2693e+06\tvalid-rmse:1.20705e+07\n",
      "[70]\ttrain-rmse:7.9637e+06\tvalid-rmse:1.19832e+07\n",
      "[80]\ttrain-rmse:7.70294e+06\tvalid-rmse:1.20842e+07\n",
      "[90]\ttrain-rmse:7.53322e+06\tvalid-rmse:1.21794e+07\n",
      "[100]\ttrain-rmse:7.319e+06\tvalid-rmse:1.21993e+07\n",
      "[110]\ttrain-rmse:7.13611e+06\tvalid-rmse:1.22891e+07\n",
      "Stopping. Best iteration:\n",
      "[17]\ttrain-rmse:1.03973e+07\tvalid-rmse:1.18845e+07\n",
      "\n",
      "[70.72695119072084, 66.93586122082196, 69.04800853330185, 56.649307988780215, 66.45763125709168, 61.21458435619967, 58.882359711496356, 76.38993481297052, 77.56127254435053]\n",
      "[0]\ttrain-rmse:2.02088e+07\tvalid-rmse:1.95365e+07\n",
      "Multiple eval metrics have been passed: 'valid-rmse' will be used for early stopping.\n",
      "\n",
      "Will train until valid-rmse hasn't improved in 100 rounds.\n",
      "[10]\ttrain-rmse:1.13377e+07\tvalid-rmse:1.68131e+07\n",
      "[20]\ttrain-rmse:1.02638e+07\tvalid-rmse:1.67792e+07\n",
      "[30]\ttrain-rmse:9.52237e+06\tvalid-rmse:1.70024e+07\n",
      "[40]\ttrain-rmse:9.0522e+06\tvalid-rmse:1.69229e+07\n",
      "[50]\ttrain-rmse:8.58791e+06\tvalid-rmse:1.72261e+07\n",
      "[60]\ttrain-rmse:8.35735e+06\tvalid-rmse:1.70714e+07\n",
      "[70]\ttrain-rmse:8.08505e+06\tvalid-rmse:1.70418e+07\n",
      "[80]\ttrain-rmse:7.8638e+06\tvalid-rmse:1.71833e+07\n",
      "[90]\ttrain-rmse:7.60244e+06\tvalid-rmse:1.71609e+07\n",
      "[100]\ttrain-rmse:7.40214e+06\tvalid-rmse:1.72196e+07\n",
      "Stopping. Best iteration:\n",
      "[2]\ttrain-rmse:1.41966e+07\tvalid-rmse:1.52723e+07\n",
      "\n",
      "[70.72695119072084, 66.93586122082196, 69.04800853330185, 56.649307988780215, 66.45763125709168, 61.21458435619967, 58.882359711496356, 76.38993481297052, 77.56127254435053, 135.78457279973514]\n",
      "[0]\ttrain-rmse:1.97234e+07\tvalid-rmse:2.60559e+07\n",
      "Multiple eval metrics have been passed: 'valid-rmse' will be used for early stopping.\n",
      "\n",
      "Will train until valid-rmse hasn't improved in 100 rounds.\n",
      "[10]\ttrain-rmse:1.08901e+07\tvalid-rmse:1.82548e+07\n",
      "[20]\ttrain-rmse:9.78856e+06\tvalid-rmse:1.78697e+07\n",
      "[30]\ttrain-rmse:9.06789e+06\tvalid-rmse:1.77243e+07\n",
      "[40]\ttrain-rmse:8.49757e+06\tvalid-rmse:1.76478e+07\n",
      "[50]\ttrain-rmse:8.08975e+06\tvalid-rmse:1.75642e+07\n",
      "[60]\ttrain-rmse:7.80752e+06\tvalid-rmse:1.76664e+07\n",
      "[70]\ttrain-rmse:7.5534e+06\tvalid-rmse:1.76443e+07\n",
      "[80]\ttrain-rmse:7.35825e+06\tvalid-rmse:1.76216e+07\n",
      "[90]\ttrain-rmse:7.20002e+06\tvalid-rmse:1.75959e+07\n",
      "[100]\ttrain-rmse:7.0276e+06\tvalid-rmse:1.76689e+07\n",
      "[110]\ttrain-rmse:6.87894e+06\tvalid-rmse:1.76562e+07\n",
      "[120]\ttrain-rmse:6.75904e+06\tvalid-rmse:1.76568e+07\n",
      "[130]\ttrain-rmse:6.64077e+06\tvalid-rmse:1.76862e+07\n",
      "[140]\ttrain-rmse:6.50988e+06\tvalid-rmse:1.77208e+07\n",
      "[150]\ttrain-rmse:6.42233e+06\tvalid-rmse:1.77058e+07\n",
      "[160]\ttrain-rmse:6.33718e+06\tvalid-rmse:1.79088e+07\n",
      "[170]\ttrain-rmse:6.23962e+06\tvalid-rmse:1.78463e+07\n",
      "[180]\ttrain-rmse:6.14395e+06\tvalid-rmse:1.78351e+07\n",
      "[190]\ttrain-rmse:6.05484e+06\tvalid-rmse:1.78552e+07\n",
      "Stopping. Best iteration:\n",
      "[92]\ttrain-rmse:7.16697e+06\tvalid-rmse:1.74814e+07\n",
      "\n",
      "[70.72695119072084, 66.93586122082196, 69.04800853330185, 56.649307988780215, 66.45763125709168, 61.21458435619967, 58.882359711496356, 76.38993481297052, 77.56127254435053, 135.78457279973514, 81.90022171314078]\n",
      "[0]\ttrain-rmse:1.95822e+07\tvalid-rmse:2.61518e+07\n",
      "Multiple eval metrics have been passed: 'valid-rmse' will be used for early stopping.\n",
      "\n",
      "Will train until valid-rmse hasn't improved in 100 rounds.\n",
      "[10]\ttrain-rmse:1.06462e+07\tvalid-rmse:1.77189e+07\n",
      "[20]\ttrain-rmse:9.43878e+06\tvalid-rmse:1.73978e+07\n",
      "[30]\ttrain-rmse:8.75102e+06\tvalid-rmse:1.7654e+07\n",
      "[40]\ttrain-rmse:8.30077e+06\tvalid-rmse:1.75644e+07\n",
      "[50]\ttrain-rmse:7.88851e+06\tvalid-rmse:1.75635e+07\n",
      "[60]\ttrain-rmse:7.62011e+06\tvalid-rmse:1.76715e+07\n",
      "[70]\ttrain-rmse:7.39653e+06\tvalid-rmse:1.76697e+07\n",
      "[80]\ttrain-rmse:7.19011e+06\tvalid-rmse:1.76914e+07\n",
      "[90]\ttrain-rmse:6.99535e+06\tvalid-rmse:1.77568e+07\n",
      "[100]\ttrain-rmse:6.83908e+06\tvalid-rmse:1.78491e+07\n",
      "[110]\ttrain-rmse:6.66386e+06\tvalid-rmse:1.79067e+07\n",
      "[120]\ttrain-rmse:6.54052e+06\tvalid-rmse:1.80443e+07\n",
      "Stopping. Best iteration:\n",
      "[20]\ttrain-rmse:9.43878e+06\tvalid-rmse:1.73978e+07\n",
      "\n",
      "[70.72695119072084, 66.93586122082196, 69.04800853330185, 56.649307988780215, 66.45763125709168, 61.21458435619967, 58.882359711496356, 76.38993481297052, 77.56127254435053, 135.78457279973514, 81.90022171314078, 97.14927159537588]\n",
      "76.55833147699879\n"
     ]
    }
   ],
   "source": [
    "preds = []\n",
    "for i in range(1,13):\n",
    "    # 한달에서도 랜덤 샘플 반 뽑기\n",
    "    test_idx = random.sample(list(X[X['방송월'] == i].index), int(len(X[X['방송월'] == i]) / 2))\n",
    "    train_idx = set(X.index) - set(test_idx)\n",
    "    \n",
    "    train = X.loc[train_idx]\n",
    "    test = X.loc[test_idx]\n",
    "    y_test = y.loc[test_idx]\n",
    "    \n",
    "    x_train = train[train['방송월'] != i]\n",
    "    y_train = y.loc[train[train['방송월'] != i].index]\n",
    "    \n",
    "    x_val = train[train['방송월'] == i]\n",
    "    y_val = y.loc[train[train['방송월'] == i].index]\n",
    "    \n",
    "    dtrain = xgb.DMatrix(x_train, label = y_train)\n",
    "    dvalid = xgb.DMatrix(x_val, label = y_val)\n",
    "    \n",
    "    watchlist = [(dtrain, 'train'), (dvalid, 'valid')]\n",
    "    \n",
    "    model = xgb.train(xgb_params, dtrain, 10000, watchlist, early_stopping_rounds=100, verbose_eval=10)\n",
    "    \n",
    "    dtest = xgb.DMatrix(test)\n",
    "    pred = model.predict(dtest)\n",
    "\n",
    "    preds.append(mean_absolute_percentage_error(y_test, pred))\n",
    "    print(preds)\n",
    "print(np.mean(preds))"
   ]
  },
  {
   "cell_type": "code",
   "execution_count": 64,
   "metadata": {},
   "outputs": [
    {
     "data": {
      "text/plain": [
       "<matplotlib.axes._subplots.AxesSubplot at 0x1d91a397668>"
      ]
     },
     "execution_count": 64,
     "metadata": {},
     "output_type": "execute_result"
    },
    {
     "data": {
      "image/png": "[encoded data removed]",
      "text/plain": [
       "<Figure size 864x1440 with 1 Axes>"
      ]
     },
     "metadata": {},
     "output_type": "display_data"
    }
   ],
   "source": [
    "from xgboost import plot_importance\n",
    "\n",
    "plt.rcParams[\"figure.figsize\"] = (12, 20)\n",
    "plot_importance(model, )"
   ]
  },
  {
   "cell_type": "code",
   "execution_count": 63,
   "metadata": {},
   "outputs": [
    {
     "data": {
      "image/png": "[encoded data removed]",
      "text/plain": [
       "<Figure size 720x504 with 1 Axes>"
      ]
     },
     "metadata": {},
     "output_type": "display_data"
    }
   ],
   "source": [
    "plt.figure(figsize = (10, 7))\n",
    "plt.plot(preds)\n",
    "plt.xlabel('Month', fontsize = 14)\n",
    "plt.title('MAPE', fontsize = 15)\n",
    "plt.show()"
   ]
  },
  {
   "cell_type": "markdown",
   "metadata": {},
   "source": [
    "* MAPE는 y와 log(y) 사이에 큰 차이는 없는데, \n",
    "* 취급액이 0 값인게 들어가 버리면 진짜...... 값이 너무 커짐      \n",
    "  (그럴 수 밖에 없는게, 만약 0인걸 0으로 예측을 못하고 조금이라도 값이 들어가 버리게 되면, 퍼센트 자체가 커질 수 밖에 없는 것 같음) \n",
    "* 취급액 0인건 따로 뽑아서 나중에 값을 채워넣는 방식으로 진행해야 하나...? "
   ]
  }
 ],
 "metadata": {
  "kernelspec": {
   "display_name": "Python 3",
   "language": "python",
   "name": "python3"
  },
  "language_info": {
   "codemirror_mode": {
    "name": "ipython",
    "version": 3
   },
   "file_extension": ".py",
   "mimetype": "text/x-python",
   "name": "python",
   "nbconvert_exporter": "python",
   "pygments_lexer": "ipython3",
   "version": "3.6.8rc1"
  },
  "toc": {
   "base_numbering": 1,
   "nav_menu": {},
   "number_sections": false,
   "sideBar": true,
   "skip_h1_title": false,
   "title_cell": "Table of Contents",
   "title_sidebar": "Contents",
   "toc_cell": false,
   "toc_position": {},
   "toc_section_display": true,
   "toc_window_display": false
  },
  "varInspector": {
   "cols": {
    "lenName": 16,
    "lenType": 16,
    "lenVar": 40
   },
   "kernels_config": {
    "python": {
     "delete_cmd_postfix": "",
     "delete_cmd_prefix": "del ",
     "library": "var_list.py",
     "varRefreshCmd": "print(var_dic_list())"
    },
    "r": {
     "delete_cmd_postfix": ") ",
     "delete_cmd_prefix": "rm(",
     "library": "var_list.r",
     "varRefreshCmd": "cat(var_dic_list()) "
    }
   },
   "types_to_exclude": [
    "module",
    "function",
    "builtin_function_or_method",
    "instance",
    "_Feature"
   ],
   "window_display": false
  }
 },
 "nbformat": 4,
 "nbformat_minor": 2
}
